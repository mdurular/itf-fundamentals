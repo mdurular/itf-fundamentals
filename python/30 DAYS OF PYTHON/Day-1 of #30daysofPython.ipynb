{
 "cells": [
  {
   "cell_type": "markdown",
   "id": "c9650248",
   "metadata": {},
   "source": [
    "## Day-1 of   #30daysofPython"
   ]
  },
  {
   "cell_type": "markdown",
   "id": "464822f3",
   "metadata": {},
   "source": [
    "## KEYWORDS IN PYTHON"
   ]
  },
  {
   "cell_type": "markdown",
   "id": "a3fc772f",
   "metadata": {},
   "source": [
    "* True, False, None\n",
    "* and, or, not, is\n",
    "* while, for, break, return, continue, in, yield\n",
    "* try, except, finally, raise, assert\n",
    "* import, from, as, class, def, pass, global, nonlocal, lambda, del, with"
   ]
  },
  {
   "cell_type": "markdown",
   "id": "38409dbb",
   "metadata": {},
   "source": [
    "## DATATYPES IN PYTHON"
   ]
  },
  {
   "cell_type": "markdown",
   "id": "63d8cb6f",
   "metadata": {},
   "source": [
    "* int, float, bool, str, complex, bytes, bytearray, set, frozenset, list, tuple, range, dict, None"
   ]
  },
  {
   "cell_type": "markdown",
   "id": "7176aa5f",
   "metadata": {},
   "source": [
    "## Most COMMONLY USED DATATYPES"
   ]
  },
  {
   "cell_type": "markdown",
   "id": "a595bf21",
   "metadata": {},
   "source": [
    "## IMMUTABLE DATATYPES\n",
    "* int\n",
    "* float\n",
    "* bool\n",
    "* str\n",
    "* tuple\n",
    "\n",
    "## MUTABLE DATATYPES\n",
    "\n",
    "\n",
    "* list\n",
    "* set\n",
    "* dict\n",
    "* range"
   ]
  },
  {
   "cell_type": "markdown",
   "id": "5120456c",
   "metadata": {},
   "source": [
    "## HELLO WORLD"
   ]
  },
  {
   "cell_type": "code",
   "execution_count": 1,
   "id": "3c202bb8",
   "metadata": {},
   "outputs": [
    {
     "name": "stdout",
     "output_type": "stream",
     "text": [
      "Hello World!\n"
     ]
    }
   ],
   "source": [
    "print(\"Hello World!\")"
   ]
  },
  {
   "cell_type": "code",
   "execution_count": 2,
   "id": "8469b6e8",
   "metadata": {
    "scrolled": true
   },
   "outputs": [
    {
     "name": "stdout",
     "output_type": "stream",
     "text": [
      "Hello World\n"
     ]
    }
   ],
   "source": [
    "a = \"Hello World\"\n",
    "print(a)"
   ]
  },
  {
   "cell_type": "markdown",
   "id": "c3bb40b5",
   "metadata": {},
   "source": [
    "## int datatype"
   ]
  },
  {
   "cell_type": "code",
   "execution_count": 3,
   "id": "bf95a748",
   "metadata": {},
   "outputs": [
    {
     "name": "stdout",
     "output_type": "stream",
     "text": [
      "10\n",
      "<class 'int'>\n"
     ]
    }
   ],
   "source": [
    "a = 10\n",
    "print(a)\n",
    "print(type(a))"
   ]
  },
  {
   "cell_type": "markdown",
   "id": "a160d95e",
   "metadata": {},
   "source": [
    "## Base Conversions"
   ]
  },
  {
   "cell_type": "markdown",
   "id": "29e89add",
   "metadata": {},
   "source": [
    "### In int method we have 3 base conversions\n",
    "* bin()\n",
    "* oct()\n",
    "* Hex()"
   ]
  },
  {
   "cell_type": "markdown",
   "id": "f0b5358d",
   "metadata": {},
   "source": [
    "### Representing 15 in binary, Octal and Hexadecimal"
   ]
  },
  {
   "cell_type": "code",
   "execution_count": 5,
   "id": "e61f6380",
   "metadata": {},
   "outputs": [
    {
     "name": "stdout",
     "output_type": "stream",
     "text": [
      "0b1111\n",
      "0o17\n",
      "0xf\n"
     ]
    }
   ],
   "source": [
    "a = 15\n",
    "print(bin(a))\n",
    "print(oct(a))\n",
    "print(hex(a))"
   ]
  },
  {
   "cell_type": "markdown",
   "id": "a9c71a89",
   "metadata": {},
   "source": [
    "## Float Datatype"
   ]
  },
  {
   "cell_type": "code",
   "execution_count": 6,
   "id": "c37ef750",
   "metadata": {},
   "outputs": [
    {
     "name": "stdout",
     "output_type": "stream",
     "text": [
      "<class 'float'>\n"
     ]
    }
   ],
   "source": [
    "a = 10.0\n",
    "print(type(a))"
   ]
  },
  {
   "cell_type": "code",
   "execution_count": 7,
   "id": "91f35749",
   "metadata": {},
   "outputs": [
    {
     "name": "stdout",
     "output_type": "stream",
     "text": [
      "<class 'float'>\n"
     ]
    }
   ],
   "source": [
    "#Float in exponential\n",
    "b = 1.2e3\n",
    "print(type(b))"
   ]
  },
  {
   "cell_type": "markdown",
   "id": "12e0031a",
   "metadata": {},
   "source": [
    "## Bool Datatype"
   ]
  },
  {
   "cell_type": "markdown",
   "id": "97aac7c6",
   "metadata": {},
   "source": [
    "### Bool returns : \n",
    "* True\n",
    "* False"
   ]
  },
  {
   "cell_type": "code",
   "execution_count": 9,
   "id": "6126f530",
   "metadata": {},
   "outputs": [
    {
     "name": "stdout",
     "output_type": "stream",
     "text": [
      "True\n"
     ]
    }
   ],
   "source": [
    "a = 10\n",
    "b = 20\n",
    "c = a<b\n",
    "print(c)"
   ]
  },
  {
   "cell_type": "code",
   "execution_count": 10,
   "id": "0a160de2",
   "metadata": {},
   "outputs": [
    {
     "name": "stdout",
     "output_type": "stream",
     "text": [
      "False\n"
     ]
    }
   ],
   "source": [
    "a = 10\n",
    "b = 20\n",
    "c = a>b\n",
    "print(c)"
   ]
  },
  {
   "cell_type": "markdown",
   "id": "aa7e0e86",
   "metadata": {},
   "source": [
    "## Typecasting "
   ]
  },
  {
   "cell_type": "code",
   "execution_count": 11,
   "id": "da54bfa3",
   "metadata": {},
   "outputs": [
    {
     "name": "stdout",
     "output_type": "stream",
     "text": [
      "<class 'int'>\n",
      "10.0\n",
      "True\n"
     ]
    }
   ],
   "source": [
    "a = 10\n",
    "print(type(a))\n",
    "print(float(a))\n",
    "print(bool(a))"
   ]
  },
  {
   "cell_type": "code",
   "execution_count": 12,
   "id": "a739fff7",
   "metadata": {},
   "outputs": [
    {
     "name": "stdout",
     "output_type": "stream",
     "text": [
      "<class 'float'>\n",
      "12\n",
      "True\n"
     ]
    }
   ],
   "source": [
    "a = 12.66\n",
    "print(type(a))\n",
    "print(int(a))\n",
    "print(bool(a))"
   ]
  },
  {
   "cell_type": "code",
   "execution_count": 13,
   "id": "f87888a3",
   "metadata": {},
   "outputs": [
    {
     "name": "stdout",
     "output_type": "stream",
     "text": [
      "<class 'int'>\n",
      "0.0\n",
      "False\n"
     ]
    }
   ],
   "source": [
    "a = 0\n",
    "print(type(a))\n",
    "print(float(a))\n",
    "print(bool(a))\n"
   ]
  },
  {
   "cell_type": "code",
   "execution_count": 14,
   "id": "e7ecf494",
   "metadata": {},
   "outputs": [
    {
     "name": "stdout",
     "output_type": "stream",
     "text": [
      "<class 'bool'>\n",
      "1\n",
      "1.0\n"
     ]
    }
   ],
   "source": [
    "a = True\n",
    "print(type(a))\n",
    "print(int(a))\n",
    "print(float(a))"
   ]
  },
  {
   "cell_type": "markdown",
   "id": "361e68aa",
   "metadata": {},
   "source": [
    "## REUSING"
   ]
  },
  {
   "cell_type": "markdown",
   "id": "f29a870f",
   "metadata": {},
   "source": [
    "### In int type reusing is allowed from '0 to 256' only"
   ]
  },
  {
   "cell_type": "code",
   "execution_count": 16,
   "id": "1a665ebc",
   "metadata": {},
   "outputs": [
    {
     "data": {
      "text/plain": [
       "True"
      ]
     },
     "execution_count": 16,
     "metadata": {},
     "output_type": "execute_result"
    }
   ],
   "source": [
    "x = 1\n",
    "y = 1\n",
    "x is y"
   ]
  },
  {
   "cell_type": "code",
   "execution_count": 17,
   "id": "95a0c78c",
   "metadata": {},
   "outputs": [
    {
     "data": {
      "text/plain": [
       "True"
      ]
     },
     "execution_count": 17,
     "metadata": {},
     "output_type": "execute_result"
    }
   ],
   "source": [
    "x = 0\n",
    "y = 0\n",
    "x is y\n"
   ]
  },
  {
   "cell_type": "code",
   "execution_count": 18,
   "id": "9e94f694",
   "metadata": {},
   "outputs": [
    {
     "data": {
      "text/plain": [
       "False"
      ]
     },
     "execution_count": 18,
     "metadata": {},
     "output_type": "execute_result"
    }
   ],
   "source": [
    "x = 257\n",
    "y = 257\n",
    "x is y    #Output will be False because reusing is allowed upto 256 only"
   ]
  },
  {
   "cell_type": "markdown",
   "id": "ae8ffdb0",
   "metadata": {},
   "source": [
    "### Reusing allowed in Bool type"
   ]
  },
  {
   "cell_type": "code",
   "execution_count": 21,
   "id": "31c96a78",
   "metadata": {},
   "outputs": [
    {
     "data": {
      "text/plain": [
       "True"
      ]
     },
     "execution_count": 21,
     "metadata": {},
     "output_type": "execute_result"
    }
   ],
   "source": [
    "x = True\n",
    "y = True\n",
    "x is y"
   ]
  },
  {
   "cell_type": "code",
   "execution_count": 22,
   "id": "19ceadcb",
   "metadata": {},
   "outputs": [
    {
     "data": {
      "text/plain": [
       "True"
      ]
     },
     "execution_count": 22,
     "metadata": {},
     "output_type": "execute_result"
    }
   ],
   "source": [
    "x = False\n",
    "y = False\n",
    "x is y"
   ]
  },
  {
   "cell_type": "markdown",
   "id": "285cea13",
   "metadata": {},
   "source": [
    "### Reusing not allowed in float & complex type"
   ]
  },
  {
   "cell_type": "code",
   "execution_count": 19,
   "id": "29b8d4b4",
   "metadata": {},
   "outputs": [
    {
     "data": {
      "text/plain": [
       "False"
      ]
     },
     "execution_count": 19,
     "metadata": {},
     "output_type": "execute_result"
    }
   ],
   "source": [
    "x = 1.0\n",
    "y = 1.0\n",
    "x is y"
   ]
  },
  {
   "cell_type": "code",
   "execution_count": 20,
   "id": "b1cec22d",
   "metadata": {},
   "outputs": [
    {
     "data": {
      "text/plain": [
       "False"
      ]
     },
     "execution_count": 20,
     "metadata": {},
     "output_type": "execute_result"
    }
   ],
   "source": [
    "x = 10+2j\n",
    "y = 10+2j\n",
    "x is y\n"
   ]
  },
  {
   "cell_type": "code",
   "execution_count": null,
   "id": "8c00688a",
   "metadata": {},
   "outputs": [],
   "source": []
  }
 ],
 "metadata": {
  "kernelspec": {
   "display_name": "Python 3",
   "language": "python",
   "name": "python3"
  },
  "language_info": {
   "codemirror_mode": {
    "name": "ipython",
    "version": 3
   },
   "file_extension": ".py",
   "mimetype": "text/x-python",
   "name": "python",
   "nbconvert_exporter": "python",
   "pygments_lexer": "ipython3",
   "version": "3.8.8"
  }
 },
 "nbformat": 4,
 "nbformat_minor": 5
}
