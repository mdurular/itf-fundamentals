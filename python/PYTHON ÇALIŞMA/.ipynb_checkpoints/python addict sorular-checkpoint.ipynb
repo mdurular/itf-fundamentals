{
 "cells": [
  {
   "cell_type": "code",
   "execution_count": 49,
   "id": "86935f77",
   "metadata": {},
   "outputs": [],
   "source": [
    "# studentA: Allen Carter, Math, (70,60,70)\n",
    "# studentB: Bob Black, Math, (80,80,70)\n",
    "# studentC: Joseph Ins, Math, (80,70,90)\n",
    "\n",
    "liste = [['Allen Carter', 'Math', [70,60,70]], ['Bob Black', 'Math', [80,80,70]],['Joseph Ins', 'Math', [80,70,90]]]"
   ]
  },
  {
   "cell_type": "code",
   "execution_count": 50,
   "id": "30ba11a6",
   "metadata": {},
   "outputs": [
    {
     "name": "stdout",
     "output_type": "stream",
     "text": [
      "Allen Carter : 67 \n",
      " Bob Black : 77 \n",
      " Joseph Ins : 80\n"
     ]
    }
   ],
   "source": [
    "print(liste[0][0], ':', round(sum(liste[0][2])/len(liste[0][2])), '\\n', \n",
    "      liste[1][0], ':', round(sum(liste[1][2])/len(liste[1][2])), '\\n',\n",
    "      liste[2][0], ':', round(sum(liste[2][2])/len(liste[2][2])))"
   ]
  },
  {
   "cell_type": "code",
   "execution_count": null,
   "id": "faa258f7",
   "metadata": {},
   "outputs": [],
   "source": []
  }
 ],
 "metadata": {
  "kernelspec": {
   "display_name": "Python 3",
   "language": "python",
   "name": "python3"
  },
  "language_info": {
   "codemirror_mode": {
    "name": "ipython",
    "version": 3
   },
   "file_extension": ".py",
   "mimetype": "text/x-python",
   "name": "python",
   "nbconvert_exporter": "python",
   "pygments_lexer": "ipython3",
   "version": "3.8.8"
  }
 },
 "nbformat": 4,
 "nbformat_minor": 5
}
