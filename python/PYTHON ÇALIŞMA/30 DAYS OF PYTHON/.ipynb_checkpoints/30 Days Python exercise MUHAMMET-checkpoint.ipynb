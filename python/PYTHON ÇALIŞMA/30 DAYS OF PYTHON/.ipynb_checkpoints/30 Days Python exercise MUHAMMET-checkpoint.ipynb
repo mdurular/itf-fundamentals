{
 "cells": [
  {
   "cell_type": "code",
   "execution_count": 1,
   "id": "033bbc3a",
   "metadata": {},
   "outputs": [
    {
     "name": "stdout",
     "output_type": "stream",
     "text": [
      "0b10100\n",
      "0x14\n",
      "0o24\n"
     ]
    }
   ],
   "source": [
    "a = 20 \n",
    "print(bin(a))\n",
    "print(hex(a))\n",
    "print(oct(a))"
   ]
  },
  {
   "cell_type": "code",
   "execution_count": 1,
   "id": "e4dc5c99",
   "metadata": {},
   "outputs": [
    {
     "name": "stdout",
     "output_type": "stream",
     "text": [
      "0b1100100\n",
      "0x64\n",
      "0o144\n"
     ]
    }
   ],
   "source": [
    "b = 100\n",
    "print(bin(100))\n",
    "print(hex(100))\n",
    "print(oct(100))"
   ]
  },
  {
   "cell_type": "code",
   "execution_count": 4,
   "id": "4d695bf9",
   "metadata": {},
   "outputs": [
    {
     "name": "stdout",
     "output_type": "stream",
     "text": [
      "<class 'float'>\n"
     ]
    }
   ],
   "source": [
    "# float in exponential\n",
    "b =1.2e3\n",
    "print(type(b))"
   ]
  },
  {
   "cell_type": "markdown",
   "id": "86830b2a",
   "metadata": {},
   "source": [
    "# In int type reusing is allowed from '0 to 256' only"
   ]
  },
  {
   "cell_type": "code",
   "execution_count": 5,
   "id": "079f221c",
   "metadata": {},
   "outputs": [
    {
     "data": {
      "text/plain": [
       "True"
      ]
     },
     "execution_count": 5,
     "metadata": {},
     "output_type": "execute_result"
    }
   ],
   "source": [
    "x = 1\n",
    "y = 1 \n",
    "x is y"
   ]
  },
  {
   "cell_type": "code",
   "execution_count": 5,
   "id": "cd699635",
   "metadata": {},
   "outputs": [
    {
     "data": {
      "text/plain": [
       "True"
      ]
     },
     "execution_count": 5,
     "metadata": {},
     "output_type": "execute_result"
    }
   ],
   "source": [
    "x  = 0\n",
    "y =  0\n",
    "x = y \n",
    "x is y\n"
   ]
  },
  {
   "cell_type": "code",
   "execution_count": 6,
   "id": "a14a6412",
   "metadata": {},
   "outputs": [
    {
     "data": {
      "text/plain": [
       "True"
      ]
     },
     "execution_count": 6,
     "metadata": {},
     "output_type": "execute_result"
    }
   ],
   "source": [
    "y is x"
   ]
  },
  {
   "cell_type": "code",
   "execution_count": 7,
   "id": "081c9560",
   "metadata": {},
   "outputs": [
    {
     "data": {
      "text/plain": [
       "True"
      ]
     },
     "execution_count": 7,
     "metadata": {},
     "output_type": "execute_result"
    }
   ],
   "source": [
    "x = 256 \n",
    "y = 256\n",
    "\n",
    "x is y"
   ]
  },
  {
   "cell_type": "code",
   "execution_count": 9,
   "id": "d530df31",
   "metadata": {},
   "outputs": [
    {
     "data": {
      "text/plain": [
       "False"
      ]
     },
     "execution_count": 9,
     "metadata": {},
     "output_type": "execute_result"
    }
   ],
   "source": [
    "x = 257 \n",
    "y = 257\n",
    "x is y   #Output will be False because reusing is allowed upto 256 only\n"
   ]
  },
  {
   "cell_type": "code",
   "execution_count": 12,
   "id": "bcb6cfb5",
   "metadata": {},
   "outputs": [
    {
     "data": {
      "text/plain": [
       "True"
      ]
     },
     "execution_count": 12,
     "metadata": {},
     "output_type": "execute_result"
    }
   ],
   "source": [
    "x = True\n",
    "y = True\n",
    "x is y\n",
    "y is x"
   ]
  },
  {
   "cell_type": "code",
   "execution_count": 13,
   "id": "4f0e9f3e",
   "metadata": {},
   "outputs": [
    {
     "data": {
      "text/plain": [
       "True"
      ]
     },
     "execution_count": 13,
     "metadata": {},
     "output_type": "execute_result"
    }
   ],
   "source": [
    "y is x"
   ]
  },
  {
   "cell_type": "code",
   "execution_count": 14,
   "id": "e6f73347",
   "metadata": {},
   "outputs": [
    {
     "data": {
      "text/plain": [
       "False"
      ]
     },
     "execution_count": 14,
     "metadata": {},
     "output_type": "execute_result"
    }
   ],
   "source": [
    "x = 1.0\n",
    "y = 1.0\n",
    "x is y "
   ]
  },
  {
   "cell_type": "code",
   "execution_count": 16,
   "id": "7bda415c",
   "metadata": {},
   "outputs": [
    {
     "data": {
      "text/plain": [
       "False"
      ]
     },
     "execution_count": 16,
     "metadata": {},
     "output_type": "execute_result"
    }
   ],
   "source": [
    "x = 10 + 2j\n",
    "y = 10 + 2j\n",
    "x is y"
   ]
  },
  {
   "cell_type": "code",
   "execution_count": 18,
   "id": "9bbe5c35",
   "metadata": {},
   "outputs": [],
   "source": [
    "a = 9\n",
    "b = 3"
   ]
  },
  {
   "cell_type": "code",
   "execution_count": 19,
   "id": "fe82c51d",
   "metadata": {},
   "outputs": [
    {
     "data": {
      "text/plain": [
       "12"
      ]
     },
     "execution_count": 19,
     "metadata": {},
     "output_type": "execute_result"
    }
   ],
   "source": [
    "a + b"
   ]
  },
  {
   "cell_type": "code",
   "execution_count": 20,
   "id": "ce347081",
   "metadata": {},
   "outputs": [
    {
     "name": "stdout",
     "output_type": "stream",
     "text": [
      "3.0\n"
     ]
    }
   ],
   "source": [
    "print(a/b)  # '/' returns floaing values"
   ]
  },
  {
   "cell_type": "code",
   "execution_count": null,
   "id": "f81b3c41",
   "metadata": {},
   "outputs": [],
   "source": [
    "print(a/b)  3 '//' # removes floating values"
   ]
  },
  {
   "cell_type": "code",
   "execution_count": 21,
   "id": "75d0d3bf",
   "metadata": {},
   "outputs": [
    {
     "name": "stdout",
     "output_type": "stream",
     "text": [
      "M u h a m m e t\n"
     ]
    }
   ],
   "source": [
    "print(* \"Muhammet\")"
   ]
  },
  {
   "cell_type": "code",
   "execution_count": 23,
   "id": "4924777d",
   "metadata": {},
   "outputs": [
    {
     "name": "stdout",
     "output_type": "stream",
     "text": [
      "Muhammet Muhammet Muhammet \n"
     ]
    }
   ],
   "source": [
    "print(\"Muhammet \" *3)"
   ]
  },
  {
   "cell_type": "code",
   "execution_count": 27,
   "id": "9cfb69db",
   "metadata": {},
   "outputs": [],
   "source": [
    "import string"
   ]
  },
  {
   "cell_type": "code",
   "execution_count": 31,
   "id": "2707c6f4",
   "metadata": {},
   "outputs": [
    {
     "data": {
      "text/plain": [
       "'ABCDEFGHIJKLMNOPQRSTUVWXYZ'"
      ]
     },
     "execution_count": 31,
     "metadata": {},
     "output_type": "execute_result"
    }
   ],
   "source": [
    "string.ascii_uppercase"
   ]
  },
  {
   "cell_type": "code",
   "execution_count": 32,
   "id": "c59b041a",
   "metadata": {},
   "outputs": [],
   "source": [
    "ascii_uppercase= 'ABCDEFGHIJKLMNOPQRSTUVWXYZ'"
   ]
  },
  {
   "cell_type": "code",
   "execution_count": 33,
   "id": "49fdc230",
   "metadata": {},
   "outputs": [
    {
     "name": "stdout",
     "output_type": "stream",
     "text": [
      "['ABCDEFGHIJKLMNOPQRSTUVWXYZ']\n"
     ]
    }
   ],
   "source": [
    "print(ascii_uppercase.split(\",\"))"
   ]
  },
  {
   "cell_type": "code",
   "execution_count": 34,
   "id": "5f382fed",
   "metadata": {},
   "outputs": [
    {
     "name": "stdout",
     "output_type": "stream",
     "text": [
      "[65, 66, 67, 68, 69, 70, 71, 72, 73, 74, 75, 76, 77, 78, 79, 80, 81, 82, 83, 84, 85, 86, 87, 88, 89, 90]\n"
     ]
    }
   ],
   "source": [
    "ascii_uppercase= 'ABCDEFGHIJKLMNOPQRSTUVWXYZ'\n",
    "empty_list = []\n",
    "\n",
    "for i in ascii_uppercase:\n",
    "    empty_list+=[ord(i)]\n",
    "print(empty_list)"
   ]
  },
  {
   "cell_type": "code",
   "execution_count": 35,
   "id": "ee4c7436",
   "metadata": {},
   "outputs": [
    {
     "name": "stdout",
     "output_type": "stream",
     "text": [
      "['A', 'B', 'C', 'D', 'E', 'F', 'G', 'H', 'I', 'J', 'K', 'L', 'M', 'N', 'O', 'P', 'Q', 'R', 'S', 'T', 'U', 'V', 'W', 'X', 'Y', 'Z']\n"
     ]
    }
   ],
   "source": [
    "a  = [65, 66, 67, 68, 69, 70, 71, 72, 73, 74, 75, 76, 77, 78, 79, 80, 81, 82, 83, 84, 85, 86, 87, 88, 89, 90]\n",
    "\n",
    "empty_list = []\n",
    "\n",
    "for i in a : \n",
    "    empty_list+=[chr(i)]\n",
    "print(empty_list)\n",
    "    "
   ]
  },
  {
   "cell_type": "code",
   "execution_count": 36,
   "id": "5733c224",
   "metadata": {},
   "outputs": [
    {
     "name": "stdout",
     "output_type": "stream",
     "text": [
      "['a', 'b', 'c', 'd', 'e', 'f', 'g', 'h', 'i', 'j', 'k', 'l', 'm', 'n', 'o', 'p', 'q', 'r', 's', 't', 'u', 'v', 'w', 'x', 'y', 'z']\n"
     ]
    }
   ],
   "source": [
    "b = [97, 98, 99, 100, 101, 102, 103, 104, 105, 106, 107, 108, 109, 110, 111, 112, 113, 114, 115, 116, 117, 118, 119, 120, 121, 122]\n",
    "\n",
    "empty_list=[]\n",
    "\n",
    "for i in b :\n",
    "    empty_list+=[chr(i)]\n",
    "print(empty_list)\n",
    "    "
   ]
  },
  {
   "cell_type": "code",
   "execution_count": 26,
   "id": "a6509b95",
   "metadata": {},
   "outputs": [
    {
     "name": "stdout",
     "output_type": "stream",
     "text": [
      "[97, 98, 99, 100, 101, 102, 103, 104, 105, 106, 107, 108, 109, 110, 111, 112, 113, 114, 115, 116, 117, 118, 119, 120, 121, 122]\n"
     ]
    }
   ],
   "source": [
    "lowercase_characters = ['a','b','c','d','e','f','g','h','i','j','k','l',\n",
    "              'm','n','o','p','q','r','s','t','u','v','w','x','y','z']\n",
    "empy_list = []\n",
    "for i in lowercase_characters:\n",
    "    empy_list+=[ord(i)]\n",
    "print(empy_list)"
   ]
  },
  {
   "cell_type": "code",
   "execution_count": 37,
   "id": "8b38ce23",
   "metadata": {},
   "outputs": [
    {
     "data": {
      "text/plain": [
       "'a'"
      ]
     },
     "execution_count": 37,
     "metadata": {},
     "output_type": "execute_result"
    }
   ],
   "source": [
    "chr(97)"
   ]
  },
  {
   "cell_type": "code",
   "execution_count": 38,
   "id": "9bfe91b4",
   "metadata": {},
   "outputs": [
    {
     "data": {
      "text/plain": [
       "'A'"
      ]
     },
     "execution_count": 38,
     "metadata": {},
     "output_type": "execute_result"
    }
   ],
   "source": [
    "chr(65)"
   ]
  },
  {
   "cell_type": "code",
   "execution_count": 41,
   "id": "9068c598",
   "metadata": {},
   "outputs": [
    {
     "name": "stdout",
     "output_type": "stream",
     "text": [
      "False\n",
      "False\n",
      "True\n",
      "True\n",
      "True\n"
     ]
    }
   ],
   "source": [
    "name  = \"Muhammet\"\n",
    "name1 = \"Muhammet\"\n",
    "print(name > name1)\n",
    "print(name < name1)\n",
    "print(name == name1)\n",
    "print(name <= name1)\n",
    "print(name >=name1)"
   ]
  },
  {
   "cell_type": "code",
   "execution_count": 42,
   "id": "eb498b75",
   "metadata": {},
   "outputs": [
    {
     "name": "stdout",
     "output_type": "stream",
     "text": [
      "False\n",
      "True\n",
      "False\n",
      "True\n",
      "False\n"
     ]
    }
   ],
   "source": [
    "name  = \"Muhammet\"  #### Ascii kodlarda küçük harfler daha büyük değere sahiptir\n",
    "name1 = \"muhammet\"\n",
    "print(name > name1)\n",
    "print(name < name1)\n",
    "print(name == name1)\n",
    "print(name <= name1)\n",
    "print(name >=name1)"
   ]
  },
  {
   "cell_type": "code",
   "execution_count": 44,
   "id": "04e57557",
   "metadata": {},
   "outputs": [
    {
     "name": "stdout",
     "output_type": "stream",
     "text": [
      "False\n"
     ]
    }
   ],
   "source": [
    "print(True>True)"
   ]
  },
  {
   "cell_type": "code",
   "execution_count": 45,
   "id": "b30a20d9",
   "metadata": {},
   "outputs": [
    {
     "name": "stdout",
     "output_type": "stream",
     "text": [
      "True\n"
     ]
    }
   ],
   "source": [
    "print(True>False)"
   ]
  },
  {
   "cell_type": "code",
   "execution_count": 46,
   "id": "1ab9da57",
   "metadata": {},
   "outputs": [
    {
     "name": "stdout",
     "output_type": "stream",
     "text": [
      "True\n"
     ]
    }
   ],
   "source": [
    "print(True>=True)"
   ]
  },
  {
   "cell_type": "code",
   "execution_count": 47,
   "id": "ca036a3b",
   "metadata": {},
   "outputs": [
    {
     "name": "stdout",
     "output_type": "stream",
     "text": [
      "True\n"
     ]
    }
   ],
   "source": [
    "print(True>=False)"
   ]
  },
  {
   "cell_type": "code",
   "execution_count": 48,
   "id": "35af59ef",
   "metadata": {},
   "outputs": [
    {
     "name": "stdout",
     "output_type": "stream",
     "text": [
      "False\n"
     ]
    }
   ],
   "source": [
    "print(True<True)"
   ]
  },
  {
   "cell_type": "code",
   "execution_count": 49,
   "id": "0f076267",
   "metadata": {},
   "outputs": [
    {
     "name": "stdout",
     "output_type": "stream",
     "text": [
      "True\n"
     ]
    }
   ],
   "source": [
    "print(True<=True)"
   ]
  },
  {
   "cell_type": "code",
   "execution_count": 50,
   "id": "77727dd9",
   "metadata": {},
   "outputs": [
    {
     "name": "stdout",
     "output_type": "stream",
     "text": [
      "False\n"
     ]
    }
   ],
   "source": [
    "print(True<False)\n"
   ]
  },
  {
   "cell_type": "code",
   "execution_count": 51,
   "id": "2bf4e072",
   "metadata": {},
   "outputs": [
    {
     "name": "stdout",
     "output_type": "stream",
     "text": [
      "False\n"
     ]
    }
   ],
   "source": [
    "print(True<=False)"
   ]
  },
  {
   "cell_type": "code",
   "execution_count": null,
   "id": "6330d31e",
   "metadata": {},
   "outputs": [],
   "source": [
    "\"== \"----> equal\n",
    "\"!= \"----> Not equal "
   ]
  },
  {
   "cell_type": "code",
   "execution_count": null,
   "id": "59918192",
   "metadata": {},
   "outputs": [],
   "source": [
    "a = 10\n",
    "b = 20"
   ]
  },
  {
   "cell_type": "code",
   "execution_count": 52,
   "id": "f896dae7",
   "metadata": {},
   "outputs": [
    {
     "name": "stdout",
     "output_type": "stream",
     "text": [
      "False\n",
      "True\n"
     ]
    }
   ],
   "source": [
    "print(a==b)\n",
    "print(a!=b)"
   ]
  },
  {
   "cell_type": "code",
   "execution_count": 53,
   "id": "76d9d308",
   "metadata": {},
   "outputs": [
    {
     "data": {
      "text/plain": [
       "True"
      ]
     },
     "execution_count": 53,
     "metadata": {},
     "output_type": "execute_result"
    }
   ],
   "source": [
    "True or False"
   ]
  },
  {
   "cell_type": "code",
   "execution_count": 54,
   "id": "4876349b",
   "metadata": {},
   "outputs": [
    {
     "data": {
      "text/plain": [
       "True"
      ]
     },
     "execution_count": 54,
     "metadata": {},
     "output_type": "execute_result"
    }
   ],
   "source": [
    "True or True"
   ]
  },
  {
   "cell_type": "code",
   "execution_count": 55,
   "id": "97708105",
   "metadata": {},
   "outputs": [
    {
     "data": {
      "text/plain": [
       "False"
      ]
     },
     "execution_count": 55,
     "metadata": {},
     "output_type": "execute_result"
    }
   ],
   "source": [
    "False and False"
   ]
  },
  {
   "cell_type": "code",
   "execution_count": 56,
   "id": "e7fc71dc",
   "metadata": {},
   "outputs": [
    {
     "name": "stdout",
     "output_type": "stream",
     "text": [
      "False\n"
     ]
    }
   ],
   "source": [
    "print(not True)"
   ]
  },
  {
   "cell_type": "code",
   "execution_count": 57,
   "id": "d3c8e796",
   "metadata": {},
   "outputs": [
    {
     "name": "stdout",
     "output_type": "stream",
     "text": [
      "True\n"
     ]
    }
   ],
   "source": [
    "print(not False)"
   ]
  },
  {
   "cell_type": "code",
   "execution_count": 59,
   "id": "a07c0898",
   "metadata": {},
   "outputs": [
    {
     "name": "stdout",
     "output_type": "stream",
     "text": [
      "20\n"
     ]
    }
   ],
   "source": [
    "a = 10\n",
    "b = 20\n",
    "\n",
    "print(a and b)  # b prints because a evaluates to True"
   ]
  },
  {
   "cell_type": "code",
   "execution_count": 60,
   "id": "cccf640d",
   "metadata": {},
   "outputs": [
    {
     "name": "stdout",
     "output_type": "stream",
     "text": [
      "10\n"
     ]
    }
   ],
   "source": [
    "print(a or b)"
   ]
  },
  {
   "cell_type": "code",
   "execution_count": 61,
   "id": "fcfe2bce",
   "metadata": {},
   "outputs": [
    {
     "name": "stdout",
     "output_type": "stream",
     "text": [
      "False\n"
     ]
    }
   ],
   "source": [
    "print(not a)"
   ]
  },
  {
   "cell_type": "code",
   "execution_count": 62,
   "id": "3e9c4d2a",
   "metadata": {},
   "outputs": [
    {
     "name": "stdout",
     "output_type": "stream",
     "text": [
      "False\n"
     ]
    }
   ],
   "source": [
    "print(not b)"
   ]
  },
  {
   "cell_type": "code",
   "execution_count": 63,
   "id": "3e196994",
   "metadata": {},
   "outputs": [
    {
     "name": "stdout",
     "output_type": "stream",
     "text": [
      "0\n"
     ]
    }
   ],
   "source": [
    "a = 0\n",
    "b = 10\n",
    "print(a and b)"
   ]
  },
  {
   "cell_type": "code",
   "execution_count": 64,
   "id": "300dc350",
   "metadata": {},
   "outputs": [
    {
     "name": "stdout",
     "output_type": "stream",
     "text": [
      "10\n"
     ]
    }
   ],
   "source": [
    "print(a or b)"
   ]
  },
  {
   "cell_type": "code",
   "execution_count": 65,
   "id": "c66c0b57",
   "metadata": {},
   "outputs": [
    {
     "name": "stdout",
     "output_type": "stream",
     "text": [
      "Data scientist\n",
      "Muhammet\n"
     ]
    }
   ],
   "source": [
    "a = 'Muhammet'\n",
    "b = 'Data scientist'\n",
    "print(a and b)\n",
    "print(a or b)"
   ]
  },
  {
   "cell_type": "code",
   "execution_count": 66,
   "id": "9c03bfd9",
   "metadata": {},
   "outputs": [
    {
     "name": "stdout",
     "output_type": "stream",
     "text": [
      "\n",
      "Muhammet\n"
     ]
    }
   ],
   "source": [
    "a = ''\n",
    "b = 'Muhammet'\n",
    "print(a and b)   # Prints as empty\n",
    "print(a or b)"
   ]
  },
  {
   "cell_type": "code",
   "execution_count": 69,
   "id": "498a2a53",
   "metadata": {},
   "outputs": [
    {
     "name": "stdout",
     "output_type": "stream",
     "text": [
      "\n",
      "\n"
     ]
    }
   ],
   "source": [
    "a = ''\n",
    "b = ''\n",
    "print(a and b)\n",
    "print(a or b)    # Prints nothing because both values are empty"
   ]
  },
  {
   "cell_type": "code",
   "execution_count": 70,
   "id": "e8c98bbf",
   "metadata": {},
   "outputs": [
    {
     "name": "stdout",
     "output_type": "stream",
     "text": [
      "True\n",
      "True\n"
     ]
    }
   ],
   "source": [
    "a = ''\n",
    "b = ''\n",
    "print(not a)\n",
    "print(not b)"
   ]
  },
  {
   "cell_type": "code",
   "execution_count": 7,
   "id": "dc5f6653",
   "metadata": {},
   "outputs": [
    {
     "data": {
      "text/plain": [
       "40"
      ]
     },
     "execution_count": 7,
     "metadata": {},
     "output_type": "execute_result"
    }
   ],
   "source": [
    "a = 10\n",
    "a+= 30  # (a+=a +30(10+30=40))\n",
    "a"
   ]
  },
  {
   "cell_type": "code",
   "execution_count": 8,
   "id": "affd4845",
   "metadata": {},
   "outputs": [
    {
     "data": {
      "text/plain": [
       "20"
      ]
     },
     "execution_count": 8,
     "metadata": {},
     "output_type": "execute_result"
    }
   ],
   "source": [
    "a = 40\n",
    "a -=20 \n",
    "a"
   ]
  },
  {
   "cell_type": "code",
   "execution_count": 10,
   "id": "c78c33bf",
   "metadata": {},
   "outputs": [
    {
     "data": {
      "text/plain": [
       "2.0"
      ]
     },
     "execution_count": 10,
     "metadata": {},
     "output_type": "execute_result"
    }
   ],
   "source": [
    "a = 6\n",
    "a/=3\n",
    "a"
   ]
  },
  {
   "cell_type": "code",
   "execution_count": 12,
   "id": "32c4e0ec",
   "metadata": {},
   "outputs": [
    {
     "data": {
      "text/plain": [
       "2"
      ]
     },
     "execution_count": 12,
     "metadata": {},
     "output_type": "execute_result"
    }
   ],
   "source": [
    "a = 6\n",
    "a //=3\n",
    "a"
   ]
  },
  {
   "cell_type": "code",
   "execution_count": 13,
   "id": "83065698",
   "metadata": {},
   "outputs": [
    {
     "data": {
      "text/plain": [
       "30"
      ]
     },
     "execution_count": 13,
     "metadata": {},
     "output_type": "execute_result"
    }
   ],
   "source": [
    "a = 3\n",
    "a*= 10\n",
    "a"
   ]
  },
  {
   "cell_type": "code",
   "execution_count": 14,
   "id": "ab5089bc",
   "metadata": {},
   "outputs": [
    {
     "name": "stdout",
     "output_type": "stream",
     "text": [
      "81\n"
     ]
    }
   ],
   "source": [
    "a = 9\n",
    "a**=2\n",
    "print(a)"
   ]
  },
  {
   "cell_type": "code",
   "execution_count": 16,
   "id": "23d3681c",
   "metadata": {},
   "outputs": [
    {
     "name": "stdout",
     "output_type": "stream",
     "text": [
      "20\n"
     ]
    }
   ],
   "source": [
    "a = 10\n",
    "b = 20\n",
    "c = a if a > b else b\n",
    "print(c)"
   ]
  },
  {
   "cell_type": "code",
   "execution_count": 18,
   "id": "1cffd659",
   "metadata": {},
   "outputs": [
    {
     "data": {
      "text/plain": [
       "30"
      ]
     },
     "execution_count": 18,
     "metadata": {},
     "output_type": "execute_result"
    }
   ],
   "source": [
    "x = 20\n",
    "y = 30\n",
    "z = x if x > y else y\n",
    "z"
   ]
  },
  {
   "cell_type": "code",
   "execution_count": 20,
   "id": "77b61f94",
   "metadata": {},
   "outputs": [
    {
     "name": "stdout",
     "output_type": "stream",
     "text": [
      "False\n",
      "True\n"
     ]
    }
   ],
   "source": [
    "l1 = [10, 20, 30, 40]\n",
    "l2 = [10, 20, 30, 40]\n",
    "print(l1 is l2)\n",
    "print(l1 == l2)"
   ]
  },
  {
   "cell_type": "code",
   "execution_count": null,
   "id": "36f3aa10",
   "metadata": {},
   "outputs": [],
   "source": [
    "opreratör öncelik sırası :\n",
    "1.  ( )-------->Paranthesis\n",
    "\n",
    "2.  **--------->Exponential operator\n",
    "\n",
    "3.  ~ --------->Bitwise Complementary\n",
    "\n",
    "4. '*','/','%','//'--->Multiplication, Division, Modulo, Floor Division\n",
    "\n",
    "5. '+','-' -----------> Addition, Subtraction\n",
    "\n",
    "=,+=,-=,*= ---------------> Assignment operator\n",
    "\n",
    "is, not is ----------------> Identity operators¶\n",
    "\n",
    "in, not in ----------------> Membership operator\n",
    "\n",
    "not , and, or------------------------> logical operators"
   ]
  },
  {
   "cell_type": "code",
   "execution_count": 24,
   "id": "184d24e5",
   "metadata": {},
   "outputs": [
    {
     "name": "stdout",
     "output_type": "stream",
     "text": [
      "100.0\n"
     ]
    }
   ],
   "source": [
    "a = 30\n",
    "b = 20\n",
    "c = 40\n",
    "print((a + b)*c/b)  # First (a + b) operators , c/b finally *"
   ]
  },
  {
   "cell_type": "code",
   "execution_count": 26,
   "id": "227e5ae7",
   "metadata": {},
   "outputs": [],
   "source": [
    "import math "
   ]
  },
  {
   "cell_type": "code",
   "execution_count": 27,
   "id": "c31bec45",
   "metadata": {},
   "outputs": [
    {
     "name": "stdout",
     "output_type": "stream",
     "text": [
      "4.0\n",
      "3.141592653589793\n",
      "3\n",
      "4\n"
     ]
    }
   ],
   "source": [
    "print(math.sqrt(16))\n",
    "print(math.pi)\n",
    "print(math.floor(3.6))\n",
    "print(math.ceil(3.2))"
   ]
  },
  {
   "cell_type": "code",
   "execution_count": 28,
   "id": "f9d43476",
   "metadata": {},
   "outputs": [
    {
     "name": "stdout",
     "output_type": "stream",
     "text": [
      "Enter a word : Muhammet\n",
      "Muhammet\n",
      "<class 'str'>\n"
     ]
    }
   ],
   "source": [
    "a = input(\"Enter a word : \") # İnput fonksiyonun default değeri \"str\" datatype\n",
    "print(a)\n",
    "print(type(a))"
   ]
  },
  {
   "cell_type": "code",
   "execution_count": 29,
   "id": "26ea6e48",
   "metadata": {},
   "outputs": [
    {
     "name": "stdout",
     "output_type": "stream",
     "text": [
      "Enter the name : muhammet\n",
      "Enter the age : 35\n",
      "Enter the occupation :developer\n",
      "İs married?[True/False] :True\n",
      "Expected salary as a fresher : 20.200\n",
      "\n",
      "Name :  muhammet\n",
      "Age 35\n",
      "Occupation developer\n",
      "İs married True\n",
      "Salary 20.2\n"
     ]
    }
   ],
   "source": [
    "a = input(\"Enter the name : \")\n",
    "b = int(input(\"Enter the age : \"))\n",
    "c = input(\"Enter the occupation :\")\n",
    "d = bool(input(\"İs married?[True/False] :\"))\n",
    "e = float(input(\"Expected salary as a fresher : \"))\n",
    "print()\n",
    "print(\"Name : \", a)\n",
    "print(\"Age\", b)\n",
    "print(\"Occupation:\", c)\n",
    "print(\"İs married\", d)\n",
    "print(\"Salary\", e)"
   ]
  },
  {
   "cell_type": "code",
   "execution_count": 32,
   "id": "b59b666e",
   "metadata": {},
   "outputs": [
    {
     "name": "stdout",
     "output_type": "stream",
     "text": [
      "Enter two numbers : 10 20\n"
     ]
    },
    {
     "data": {
      "text/plain": [
       "'10 20'"
      ]
     },
     "execution_count": 32,
     "metadata": {},
     "output_type": "execute_result"
    }
   ],
   "source": [
    "a = input(\"Enter two numbers : \")\n",
    "a"
   ]
  },
  {
   "cell_type": "code",
   "execution_count": 42,
   "id": "2501cf31",
   "metadata": {},
   "outputs": [
    {
     "name": "stdout",
     "output_type": "stream",
     "text": [
      "Enter tree numbers : 10 20 30\n",
      "['10 20 30']\n"
     ]
    }
   ],
   "source": [
    "print(input(\"Enter tree numbers : \").split(\",\"))"
   ]
  },
  {
   "cell_type": "code",
   "execution_count": 43,
   "id": "590791f3",
   "metadata": {},
   "outputs": [
    {
     "data": {
      "text/plain": [
       "'10 20 30'"
      ]
     },
     "execution_count": 43,
     "metadata": {},
     "output_type": "execute_result"
    }
   ],
   "source": [
    "a = ['10 20 30']\n",
    "a[0]"
   ]
  },
  {
   "cell_type": "code",
   "execution_count": 47,
   "id": "9307a74c",
   "metadata": {},
   "outputs": [
    {
     "name": "stdout",
     "output_type": "stream",
     "text": [
      "Enter tree numbers : 10,20,30\n",
      "The sum of a,b, c is :  60\n"
     ]
    }
   ],
   "source": [
    "a, b, c = [int(x) for x   in input(\"Enter tree numbers : \").split(\",\")]\n",
    "print(\"The sum of a,b, c is : \", a+b+c)"
   ]
  },
  {
   "cell_type": "code",
   "execution_count": 48,
   "id": "4acf8dfd",
   "metadata": {},
   "outputs": [
    {
     "name": "stdout",
     "output_type": "stream",
     "text": [
      "Enter tree numbers : 10,20,30\n",
      "The sum of a,b, c is :  6000\n"
     ]
    }
   ],
   "source": [
    "a, b, c = [int(x) for x   in input(\"Enter tree numbers : \").split(\",\")]\n",
    "print(\"The sum of a,b, c is : \", a*b*c)"
   ]
  },
  {
   "cell_type": "code",
   "execution_count": 50,
   "id": "baef4476",
   "metadata": {},
   "outputs": [
    {
     "name": "stdout",
     "output_type": "stream",
     "text": [
      "Enter tree numbers : 2.3,2.6,6.7\n",
      "The sum of a,b, c is :  40.065999999999995\n"
     ]
    }
   ],
   "source": [
    "a, b, c = [float(x) for x   in input(\"Enter tree numbers : \").split(\",\")]\n",
    "print(\"The sum of a,b, c is : \", a*b*c)"
   ]
  },
  {
   "cell_type": "markdown",
   "id": "ff610697",
   "metadata": {},
   "source": [
    "# eval( ) function"
   ]
  },
  {
   "cell_type": "code",
   "execution_count": null,
   "id": "00dad5d8",
   "metadata": {},
   "outputs": [],
   "source": [
    "Since the input( ) takes as string by default, we are converting into required types\n",
    "Instead of using int( ), float( ), bool( ) before input( ), we can use eval( )¶\n",
    "eval( ) understands what type of input we are giving."
   ]
  },
  {
   "cell_type": "code",
   "execution_count": 51,
   "id": "3bcae3dc",
   "metadata": {},
   "outputs": [
    {
     "name": "stdout",
     "output_type": "stream",
     "text": [
      "Enter a word : 20\n",
      "\n",
      "20\n",
      "<class 'int'>\n"
     ]
    }
   ],
   "source": [
    "a = eval(input(\"Enter a word : \"))\n",
    "print()\n",
    "print(a)\n",
    "print(type(a))"
   ]
  },
  {
   "cell_type": "code",
   "execution_count": 52,
   "id": "355607ad",
   "metadata": {},
   "outputs": [
    {
     "name": "stdout",
     "output_type": "stream",
     "text": [
      "Enter a word : 10.5\n",
      "\n",
      "10.5\n",
      "<class 'float'>\n"
     ]
    }
   ],
   "source": [
    "a = eval(input(\"Enter a word : \"))\n",
    "print()\n",
    "print(a)\n",
    "print(type(a))"
   ]
  },
  {
   "cell_type": "code",
   "execution_count": 53,
   "id": "87398b98",
   "metadata": {},
   "outputs": [
    {
     "name": "stdout",
     "output_type": "stream",
     "text": [
      "Enter a word : True\n",
      "\n",
      "True\n",
      "<class 'bool'>\n"
     ]
    }
   ],
   "source": [
    "a = eval(input(\"Enter a word : \"))\n",
    "print()\n",
    "print(a)\n",
    "print(type(a))"
   ]
  },
  {
   "cell_type": "code",
   "execution_count": null,
   "id": "1e57b6c3",
   "metadata": {},
   "outputs": [],
   "source": []
  },
  {
   "cell_type": "code",
   "execution_count": null,
   "id": "c41e15eb",
   "metadata": {},
   "outputs": [],
   "source": []
  }
 ],
 "metadata": {
  "kernelspec": {
   "display_name": "Python 3",
   "language": "python",
   "name": "python3"
  },
  "language_info": {
   "codemirror_mode": {
    "name": "ipython",
    "version": 3
   },
   "file_extension": ".py",
   "mimetype": "text/x-python",
   "name": "python",
   "nbconvert_exporter": "python",
   "pygments_lexer": "ipython3",
   "version": "3.8.8"
  }
 },
 "nbformat": 4,
 "nbformat_minor": 5
}
