{
 "cells": [
  {
   "cell_type": "code",
   "execution_count": null,
   "metadata": {},
   "outputs": [],
   "source": [
    "print(\"a\") # # Since 'a' is string it prints 'a' but print(a) gives error if a is not initialised"
   ]
  },
  {
   "cell_type": "code",
   "execution_count": null,
   "metadata": {},
   "outputs": [
    {
     "name": "stdout",
     "output_type": "stream",
     "text": [
      "10\n"
     ]
    }
   ],
   "source": [
    "a = 10 \n",
    "print(10)"
   ]
  },
  {
   "cell_type": "code",
   "execution_count": null,
   "metadata": {},
   "outputs": [
    {
     "name": "stdout",
     "output_type": "stream",
     "text": [
      "The value of a, b, c :  10 20 30\n"
     ]
    }
   ],
   "source": [
    "a ,b, c = 10, 20, 30\n",
    "print(\"The value of a, b, c : \", a,b,c)"
   ]
  },
  {
   "cell_type": "markdown",
   "metadata": {},
   "source": [
    "end () Attribute\n",
    "#### This attribute is used if we need the output in a single line."
   ]
  },
  {
   "cell_type": "code",
   "execution_count": null,
   "metadata": {},
   "outputs": [
    {
     "name": "stdout",
     "output_type": "stream",
     "text": [
      "10\n",
      "20\n",
      "30\n",
      "40\n",
      "50\n",
      "60\n"
     ]
    }
   ],
   "source": [
    "a = [10, 20, 30 ,40, 50, 60 ]\n",
    "for i in a:\n",
    "    print(i)"
   ]
  },
  {
   "cell_type": "code",
   "execution_count": null,
   "metadata": {},
   "outputs": [
    {
     "name": "stdout",
     "output_type": "stream",
     "text": [
      "10 20 30 40 50 60 "
     ]
    }
   ],
   "source": [
    "a = [10, 20, 30 ,40, 50, 60 ]\n",
    "for i in a :\n",
    "    print(i, end=\" \")  # "
   ]
  },
  {
   "cell_type": "code",
   "execution_count": null,
   "metadata": {},
   "outputs": [
    {
     "name": "stdout",
     "output_type": "stream",
     "text": [
      "Hello\n",
      "World\n"
     ]
    }
   ],
   "source": [
    "print(\"Hello\")\n",
    "print(\"World\")"
   ]
  },
  {
   "cell_type": "code",
   "execution_count": null,
   "metadata": {},
   "outputs": [
    {
     "name": "stdout",
     "output_type": "stream",
     "text": [
      "Hello World\n"
     ]
    }
   ],
   "source": [
    "print(\"Hello\", end=\" \")\n",
    "print(\"World\")"
   ]
  },
  {
   "cell_type": "code",
   "execution_count": null,
   "metadata": {},
   "outputs": [],
   "source": [
    "sep () Attribute \n",
    "# This attribute used to seperate two different output\n"
   ]
  },
  {
   "cell_type": "code",
   "execution_count": null,
   "metadata": {},
   "outputs": [
    {
     "name": "stdout",
     "output_type": "stream",
     "text": [
      "10-08-2021\n"
     ]
    }
   ],
   "source": [
    "print(\"10\", \"08\", \"2021\", sep=\"-\")"
   ]
  },
  {
   "cell_type": "code",
   "execution_count": null,
   "metadata": {},
   "outputs": [
    {
     "name": "stdout",
     "output_type": "stream",
     "text": [
      "Hello@Muhammet@How@are@you\n"
     ]
    }
   ],
   "source": [
    "print(\"Hello\", \"Muhammet\", \"How\", \"are\", \"you\", sep=\"@\")"
   ]
  },
  {
   "cell_type": "code",
   "execution_count": null,
   "metadata": {},
   "outputs": [],
   "source": [
    "Using end() and sep() in a singe line"
   ]
  },
  {
   "cell_type": "code",
   "execution_count": null,
   "metadata": {},
   "outputs": [
    {
     "name": "stdout",
     "output_type": "stream",
     "text": [
      "10:20:30İ"
     ]
    }
   ],
   "source": [
    "print(10, 20,30, sep=\":\", end=\"İ\")"
   ]
  },
  {
   "cell_type": "code",
   "execution_count": null,
   "metadata": {},
   "outputs": [
    {
     "name": "stdout",
     "output_type": "stream",
     "text": [
      "a:b:c!"
     ]
    }
   ],
   "source": [
    "print(\"a\", \"b\", \"c\", sep=\":\", end=\"!\")"
   ]
  },
  {
   "cell_type": "code",
   "execution_count": null,
   "metadata": {},
   "outputs": [
    {
     "name": "stdout",
     "output_type": "stream",
     "text": [
      "Muhammet Hello! How are you?\n"
     ]
    }
   ],
   "source": [
    "a  = \"Muhammet\"\n",
    "b  = \"Hello\" \n",
    "print(\"{} {}! How are you?\".format(a,b))"
   ]
  },
  {
   "cell_type": "code",
   "execution_count": null,
   "metadata": {},
   "outputs": [
    {
     "name": "stdout",
     "output_type": "stream",
     "text": [
      "Hello Muhammet! How are you\n"
     ]
    }
   ],
   "source": [
    "name = input(\"Enter name\")\n",
    "print(\"Hello {}! How are you\".format(name)) "
   ]
  },
  {
   "cell_type": "code",
   "execution_count": null,
   "metadata": {},
   "outputs": [
    {
     "name": "stdout",
     "output_type": "stream",
     "text": [
      "Hello Muhammet, your age is 21, your goal is a Data Scientist\n"
     ]
    }
   ],
   "source": [
    "name = \"Muhammet\"\n",
    "Age  = 21\n",
    "Goal = \"Data Scientist\" \n",
    "print(\"Hello {}, your age is {}, your goal is a {}\".format(name, Age, Goal))"
   ]
  },
  {
   "cell_type": "code",
   "execution_count": null,
   "metadata": {},
   "outputs": [
    {
     "name": "stdout",
     "output_type": "stream",
     "text": [
      "Hello Muhammet, your age is 21, your goal is a Data Scientist\n"
     ]
    }
   ],
   "source": [
    "name = \"Muhammet\"\n",
    "Age  = 21\n",
    "Goal = \"Data Scientist\" \n",
    "print(\"Hello {2}, your age is {1}, your goal is a {0}\".format(Goal, Age, name))"
   ]
  },
  {
   "cell_type": "code",
   "execution_count": null,
   "metadata": {},
   "outputs": [
    {
     "name": "stdout",
     "output_type": "stream",
     "text": [
      "Hello Muhammet, your age is 21, your goal is a Data Scientist\n"
     ]
    }
   ],
   "source": [
    "name = \"Muhammet\"\n",
    "Age  = 21\n",
    "Goal = \"Data Scientist\" \n",
    "print(\"Hello {a}, your age is {b}, your goal is a {c}\".format(c = Goal, b=Age, a =name))"
   ]
  },
  {
   "cell_type": "markdown",
   "metadata": {},
   "source": [
    "print() with formatted string"
   ]
  },
  {
   "cell_type": "code",
   "execution_count": null,
   "metadata": {},
   "outputs": [
    {
     "name": "stdout",
     "output_type": "stream",
     "text": [
      "Value of a : 10\n"
     ]
    }
   ],
   "source": [
    "a = 10 \n",
    "print(\"Value of a : %i\"%a)"
   ]
  },
  {
   "cell_type": "code",
   "execution_count": null,
   "metadata": {},
   "outputs": [
    {
     "name": "stdout",
     "output_type": "stream",
     "text": [
      "Value of a : 10\n"
     ]
    }
   ],
   "source": [
    "a = 10\n",
    "print(\"Value of a : %d\"%a)"
   ]
  },
  {
   "cell_type": "code",
   "execution_count": null,
   "metadata": {},
   "outputs": [
    {
     "name": "stdout",
     "output_type": "stream",
     "text": [
      "İnteger value is : 20\n"
     ]
    }
   ],
   "source": [
    "a = 20.998\n",
    "print(\"İnteger value is : %d\"%a)"
   ]
  },
  {
   "cell_type": "code",
   "execution_count": null,
   "metadata": {},
   "outputs": [
    {
     "name": "stdout",
     "output_type": "stream",
     "text": [
      "Float value is : 20.998000\n"
     ]
    }
   ],
   "source": [
    "a = 20.998\n",
    "print(\"Float value is : %f\"%a)"
   ]
  },
  {
   "cell_type": "code",
   "execution_count": null,
   "metadata": {},
   "outputs": [
    {
     "name": "stdout",
     "output_type": "stream",
     "text": [
      "Float value is : 20.69\n"
     ]
    }
   ],
   "source": [
    "a = 20.6874\n",
    "print('Float value is : %.2f'%a)"
   ]
  },
  {
   "cell_type": "code",
   "execution_count": null,
   "metadata": {},
   "outputs": [
    {
     "name": "stdout",
     "output_type": "stream",
     "text": [
      "String is : Muhammet\n"
     ]
    }
   ],
   "source": [
    "a  = \"Muhammet\"\n",
    "print(\"String is : %s\"%a)"
   ]
  },
  {
   "cell_type": "code",
   "execution_count": null,
   "metadata": {},
   "outputs": [
    {
     "name": "stdout",
     "output_type": "stream",
     "text": [
      "List is : [1, 2, 3]\n"
     ]
    }
   ],
   "source": [
    "a = [1,2,3]\n",
    "print(\"List is : %s\"%a)"
   ]
  },
  {
   "cell_type": "code",
   "execution_count": null,
   "metadata": {},
   "outputs": [
    {
     "name": "stdout",
     "output_type": "stream",
     "text": [
      "Dictionary is : {1: 'a', 2: 'b', 3: 'c'}\n"
     ]
    }
   ],
   "source": [
    "a = {1 : \"a\", 2 : \"b\", 3 : \"c\"}\n",
    "print(\"Dictionary is : %s\"%a)"
   ]
  },
  {
   "cell_type": "code",
   "execution_count": null,
   "metadata": {},
   "outputs": [
    {
     "name": "stdout",
     "output_type": "stream",
     "text": [
      "Set is : {1, 2, 3}\n"
     ]
    }
   ],
   "source": [
    "a = {1,2,3}\n",
    "print(\"Set is : %s\"%a)\n"
   ]
  },
  {
   "cell_type": "code",
   "execution_count": null,
   "metadata": {},
   "outputs": [
    {
     "name": "stdout",
     "output_type": "stream",
     "text": [
      "Everything|waits|for|its|time|Neither|the|rose|blooms|before|its|time|nor|the|sun|rises|before|its|time!!!"
     ]
    }
   ],
   "source": [
    "print(\"Everything\", \"waits\", \"for\", \"its\", \"time\" ,\"Neither\", \"the\" ,\"rose\", \"blooms\", \"before\", \"its\", \"time\", \"nor\", \"the\", \"sun\", \"rises\", \"before\", \"its\", \"time\", sep =\"|\", end=\"!!!\")"
   ]
  },
  {
   "cell_type": "markdown",
   "metadata": {},
   "source": [
    "# Topic: Flow Control - 1"
   ]
  },
  {
   "cell_type": "code",
   "execution_count": null,
   "metadata": {},
   "outputs": [],
   "source": [
    "*** if \n",
    "*** if - elif\n",
    "*** if - elif - else\n",
    "\n",
    "##### The order in which the statements are executed at run time is decided by Flow Control."
   ]
  },
  {
   "cell_type": "code",
   "execution_count": null,
   "metadata": {},
   "outputs": [],
   "source": [
    "if statement\n",
    "\n",
    "'''Syntax:\n",
    "\n",
    "if (condition):\n",
    "    statement 1\n",
    "    statement 2'''"
   ]
  },
  {
   "cell_type": "code",
   "execution_count": null,
   "metadata": {},
   "outputs": [
    {
     "name": "stdout",
     "output_type": "stream",
     "text": [
      "Enter a name :Muhammet\n",
      "Hello Muhammet\n"
     ]
    }
   ],
   "source": [
    "a = input(\"Enter a name :\")\n",
    "if a == \"Muhammet\" :\n",
    "    print(\"Hello\",end=\" \")\n",
    "print(\"Muhammet\")"
   ]
  },
  {
   "cell_type": "code",
   "execution_count": null,
   "metadata": {},
   "outputs": [],
   "source": [
    "if- else statement\n",
    "\n",
    "'''Syntax:\n",
    "\n",
    "if (condition):\n",
    "    statement 1\n",
    "else:\n",
    "    statement 2'''\n"
   ]
  },
  {
   "cell_type": "code",
   "execution_count": null,
   "metadata": {},
   "outputs": [
    {
     "name": "stdout",
     "output_type": "stream",
     "text": [
      "Enter a name :muhammet\n",
      "Hello Stranger!\n"
     ]
    }
   ],
   "source": [
    "a = input(\"Enter a name :\")\n",
    "if a == \"Muhammet\" :\n",
    "    print(\"Hello {}!\".format(a))\n",
    "else:\n",
    "    print(\"Hello Stranger!\")"
   ]
  },
  {
   "cell_type": "code",
   "execution_count": null,
   "metadata": {},
   "outputs": [
    {
     "name": "stdout",
     "output_type": "stream",
     "text": [
      "Enter a name :Data Scientist\n",
      "Hello Stranger!\n"
     ]
    }
   ],
   "source": [
    "a = input(\"Enter a name :\")\n",
    "if a == \"Muhammet\" :\n",
    "    print(\"Hello {}!\".format(a))\n",
    "else:\n",
    "    print(\"Hello Stranger!\")"
   ]
  },
  {
   "cell_type": "code",
   "execution_count": null,
   "metadata": {},
   "outputs": [],
   "source": [
    "if - else - elif statement \n",
    "\n",
    "'''Syntax:\n",
    "if condition 1:\n",
    "    statement 1\n",
    "elif condition 2:\n",
    "    statement 2\n",
    "elif condition 3:\n",
    "    statement 3\n",
    "else:\n",
    "    statement 4'''"
   ]
  },
  {
   "cell_type": "code",
   "execution_count": null,
   "metadata": {},
   "outputs": [
    {
     "name": "stdout",
     "output_type": "stream",
     "text": [
      "Enter a car brand :  Araba\n",
      "Sorry! The car brand is not available\n",
      "Pick up BMW, Lambhorgini, RollsRoyce\n"
     ]
    }
   ],
   "source": [
    "brand = input(\"Enter a car brand :  \").upper()\n",
    "if brand==\"bmw\".upper():\n",
    "    print(\"The cost of {} car is crorers\".format(brand))\n",
    "elif brand == 'Lambhorgini'.upper():\n",
    "    print(\"The cost of {} car is 5 crores\".format(brand))\n",
    "elif brand == 'rollsroyce'.upper():\n",
    "    print(\"The cost of {} car is 8 crores\".format(brand))\n",
    "else:\n",
    "    print(\"Sorry! The car brand is not available\")\n",
    "    print(\"Pick up BMW, Lambhorgini, RollsRoyce\")"
   ]
  },
  {
   "cell_type": "code",
   "execution_count": null,
   "metadata": {},
   "outputs": [
    {
     "name": "stdout",
     "output_type": "stream",
     "text": [
      "Enter 1st number : 10\n",
      "Enter 2nd number : 20\n",
      "20 is bigger than 10\n"
     ]
    }
   ],
   "source": [
    "a = int(input(\"Enter 1st number : \"))\n",
    "b = int(input(\"Enter 2nd number : \"))\n",
    "if a>b:\n",
    "    print(\"{} is bigger than {}\".format(a,b))\n",
    "else:\n",
    "    print(\"{} is bigger than {}\".format(b,a)) "
   ]
  },
  {
   "cell_type": "code",
   "execution_count": null,
   "metadata": {},
   "outputs": [
    {
     "name": "stdout",
     "output_type": "stream",
     "text": [
      "Enter  number : 2\n",
      "The 2 number is range of 1-100\n"
     ]
    }
   ],
   "source": [
    "number= int(input(\"Enter  number : \"))\n",
    "if number>=1 and number<=100:\n",
    "    print(\"The {} number is range of 1-100\".format(number))\n",
    "else:\n",
    "    print(\"The {} number is not range of 1-100\".format(number))"
   ]
  },
  {
   "cell_type": "code",
   "execution_count": null,
   "metadata": {},
   "outputs": [
    {
     "name": "stdout",
     "output_type": "stream",
     "text": [
      "M\n",
      "u\n",
      "h\n",
      "a\n",
      "m\n",
      "m\n",
      "e\n",
      "t\n"
     ]
    }
   ],
   "source": [
    "a = \"Muhammet\"\n",
    "for i in a:\n",
    "    print(i)"
   ]
  },
  {
   "cell_type": "code",
   "execution_count": null,
   "metadata": {},
   "outputs": [
    {
     "name": "stdout",
     "output_type": "stream",
     "text": [
      "Muhammet"
     ]
    }
   ],
   "source": [
    "a = \"Muhammet\"\n",
    "for i in a:\n",
    "    print(i,end=\"\")"
   ]
  },
  {
   "cell_type": "markdown",
   "metadata": {},
   "source": [
    "### Q. To print a word along with its index"
   ]
  },
  {
   "cell_type": "code",
   "execution_count": null,
   "metadata": {},
   "outputs": [
    {
     "name": "stdout",
     "output_type": "stream",
     "text": [
      "For '0' index character is 'M' \n",
      "For '1' index character is 'u' \n",
      "For '2' index character is 'h' \n",
      "For '3' index character is 'a' \n",
      "For '4' index character is 'm' \n",
      "For '5' index character is 'm' \n",
      "For '6' index character is 'e' \n",
      "For '7' index character is 't' \n"
     ]
    }
   ],
   "source": [
    "a = \"Muhammet\"\n",
    "x = 0\n",
    "for i in a :\n",
    "    print(\"For '{}' index character is '{}' \".format(x,a[x]))\n",
    "    x+=1"
   ]
  },
  {
   "cell_type": "code",
   "execution_count": null,
   "metadata": {},
   "outputs": [],
   "source": [
    "Q. Program to print numbers in range of 1 and 10 using for loop."
   ]
  },
  {
   "cell_type": "code",
   "execution_count": null,
   "metadata": {},
   "outputs": [
    {
     "name": "stdout",
     "output_type": "stream",
     "text": [
      "0 1 2 3 4 5 6 7 8 9 "
     ]
    }
   ],
   "source": [
    "for i in range(0,10):\n",
    "    print(i,end=\" \")"
   ]
  },
  {
   "cell_type": "code",
   "execution_count": null,
   "metadata": {},
   "outputs": [],
   "source": [
    "Q. To print even numbers in between 0 and 20"
   ]
  },
  {
   "cell_type": "code",
   "execution_count": null,
   "metadata": {},
   "outputs": [
    {
     "name": "stdout",
     "output_type": "stream",
     "text": [
      "0 2 4 6 8 10 12 14 16 18 "
     ]
    }
   ],
   "source": [
    "for i in range(20):\n",
    "    if i%2==0:\n",
    "        print(i, end=\" \")"
   ]
  },
  {
   "cell_type": "code",
   "execution_count": null,
   "metadata": {},
   "outputs": [
    {
     "name": "stdout",
     "output_type": "stream",
     "text": [
      "Enter a list of numbers : [10,20,30]\n",
      "The sum of numbers is :  60\n"
     ]
    }
   ],
   "source": [
    "a = eval(input(\"Enter a list of numbers : \"))\n",
    "sum = 0\n",
    "for i in a:\n",
    "    sum += i\n",
    "print(\"The sum of numbers is : \",sum)"
   ]
  },
  {
   "cell_type": "markdown",
   "metadata": {},
   "source": [
    "while loop"
   ]
  },
  {
   "cell_type": "code",
   "execution_count": null,
   "metadata": {},
   "outputs": [],
   "source": []
  },
  {
   "cell_type": "markdown",
   "metadata": {},
   "source": [
    "## Q.Printing 'Hello' 3 times by while loop"
   ]
  },
  {
   "cell_type": "code",
   "execution_count": null,
   "metadata": {},
   "outputs": [
    {
     "name": "stdout",
     "output_type": "stream",
     "text": [
      "Hello\n",
      "Hello\n",
      "Hello\n"
     ]
    }
   ],
   "source": [
    "i =1\n",
    "while i <=3:\n",
    "    print(\"Hello\")\n",
    "    i+=1"
   ]
  },
  {
   "cell_type": "code",
   "execution_count": null,
   "metadata": {},
   "outputs": [],
   "source": [
    "Q. Printing number from 1 to 10 "
   ]
  },
  {
   "cell_type": "code",
   "execution_count": null,
   "metadata": {},
   "outputs": [
    {
     "name": "stdout",
     "output_type": "stream",
     "text": [
      "0 1 2 3 4 5 6 7 8 9 10 "
     ]
    }
   ],
   "source": [
    "i = 0\n",
    "while i<=10:\n",
    "    print(i, end=\" \")\n",
    "    i+=1"
   ]
  },
  {
   "cell_type": "code",
   "execution_count": null,
   "metadata": {},
   "outputs": [],
   "source": [
    "Q.Printing numbers divisible by \"3\" between 10 to 20"
   ]
  },
  {
   "cell_type": "code",
   "execution_count": 2,
   "metadata": {},
   "outputs": [
    {
     "name": "stdout",
     "output_type": "stream",
     "text": [
      "3 6 9 12 15 18 "
     ]
    }
   ],
   "source": [
    "i = 0\n",
    "while i <20:\n",
    "    i+=1\n",
    "    if i%3==0:\n",
    "        print(i, end=\" \")\n",
    "   "
   ]
  },
  {
   "cell_type": "code",
   "execution_count": 8,
   "metadata": {},
   "outputs": [
    {
     "name": "stdout",
     "output_type": "stream",
     "text": [
      "Enter a number: 10\n",
      "Enter a number: 20\n",
      "Enter a number: 30\n",
      "Enter a number: 40\n",
      "Enter a number: 50\n",
      "[10, 20, 30, 40, 50]\n"
     ]
    }
   ],
   "source": [
    "# Kullanıcıdan alacağınız 5 sayıyı ekranda sıralı bir şekilde yazdırınız.\n",
    "\n",
    "numbers = []\n",
    "i = 0\n",
    "while i<5:\n",
    "    sayı = int(input(\"Enter a number: \"))\n",
    "    numbers.append(sayı)\n",
    "    i+=1\n",
    "numbers.sort()\n",
    "print(numbers)"
   ]
  },
  {
   "cell_type": "code",
   "execution_count": 12,
   "metadata": {},
   "outputs": [
    {
     "name": "stdout",
     "output_type": "stream",
     "text": [
      "63\n"
     ]
    }
   ],
   "source": [
    "i = 0\n",
    "total = 0\n",
    "while i < 20:\n",
    "    i+=1\n",
    "    if i%3==0:\n",
    "        total+=i\n",
    "print(total)"
   ]
  },
  {
   "cell_type": "code",
   "execution_count": null,
   "metadata": {},
   "outputs": [],
   "source": [
    "Q. given = [\"eat\", \"tea\", \"tan\", \"ate\", \"nat\", \"bat\"]\n",
    "\n",
    "expected output = [[\"ate\",\"eat\",\"tea\"],[\"nat\",\"tan\"],[\"bat\"]]\n"
   ]
  },
  {
   "cell_type": "code",
   "execution_count": 25,
   "metadata": {},
   "outputs": [
    {
     "name": "stdout",
     "output_type": "stream",
     "text": [
      "Enter a number :10\n",
      "Enter a number : 20\n",
      "11\n",
      "13\n",
      "15\n",
      "17\n",
      "19\n"
     ]
    }
   ],
   "source": [
    "başlangıç = int(input(\"Enter a number :\"))\n",
    "bitiş = int(input(\"Enter a number : \")) \n",
    "i=başlangıç\n",
    "while i < bitiş:\n",
    "    i+=1\n",
    "    if i%2==1:\n",
    "        print(i)\n",
    "    \n",
    "    \n"
   ]
  },
  {
   "cell_type": "code",
   "execution_count": null,
   "metadata": {},
   "outputs": [],
   "source": []
  },
  {
   "cell_type": "code",
   "execution_count": null,
   "metadata": {},
   "outputs": [],
   "source": []
  }
 ],
 "metadata": {
  "interpreter": {
   "hash": "f2ed423f5e7ec3ee26d5a54f2790062b365de0a23991146a3e2b2813f8c8877a"
  },
  "kernelspec": {
   "display_name": "Python 3",
   "language": "python",
   "name": "python3"
  },
  "language_info": {
   "codemirror_mode": {
    "name": "ipython",
    "version": 3
   },
   "file_extension": ".py",
   "mimetype": "text/x-python",
   "name": "python",
   "nbconvert_exporter": "python",
   "pygments_lexer": "ipython3",
   "version": "3.8.8"
  }
 },
 "nbformat": 4,
 "nbformat_minor": 2
}
