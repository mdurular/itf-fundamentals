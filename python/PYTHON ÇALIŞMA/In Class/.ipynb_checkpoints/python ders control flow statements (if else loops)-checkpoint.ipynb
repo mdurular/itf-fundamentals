{
 "cells": [
  {
   "cell_type": "code",
   "execution_count": 1,
   "id": "6182b220",
   "metadata": {},
   "outputs": [],
   "source": [
    "minced =True\n",
    "bread =True\n",
    "#green\n",
    "lettuce = True\n",
    "onion = True\n",
    "grocer =True\n"
   ]
  },
  {
   "cell_type": "code",
   "execution_count": 2,
   "id": "11aecdb5",
   "metadata": {},
   "outputs": [],
   "source": [
    "hamburger = (minced and grocer and bread and (lettuce or onion))"
   ]
  },
  {
   "cell_type": "code",
   "execution_count": 3,
   "id": "76cb48c9",
   "metadata": {},
   "outputs": [
    {
     "name": "stdout",
     "output_type": "stream",
     "text": [
      "Bon Appetit!\n"
     ]
    }
   ],
   "source": [
    "if hamburger :\n",
    "    print(\"Bon Appetit!\")"
   ]
  },
  {
   "cell_type": "code",
   "execution_count": 6,
   "id": "a9fc2db4",
   "metadata": {},
   "outputs": [
    {
     "name": "stdout",
     "output_type": "stream",
     "text": [
      "We are the same!\n"
     ]
    }
   ],
   "source": [
    "a = set('TWELVE PLUS ONE')\n",
    "b = set('ELEVEN PLUS TWO')\n",
    "if a==b :\n",
    "    print(\"We are the same!\")"
   ]
  },
  {
   "cell_type": "code",
   "execution_count": 19,
   "id": "db0e85ac",
   "metadata": {},
   "outputs": [
    {
     "name": "stdout",
     "output_type": "stream",
     "text": [
      "write Yes or Noyes\n",
      "You entered True\n"
     ]
    }
   ],
   "source": [
    "a = input(\"write Yes or No\").lower()\n",
    "            \n",
    "print((a == \"yes\")* \"You entered True\")\n"
   ]
  },
  {
   "cell_type": "code",
   "execution_count": 26,
   "id": "114e906c",
   "metadata": {},
   "outputs": [
    {
     "name": "stdout",
     "output_type": "stream",
     "text": [
      "Enter a number: 10\n",
      "10 is Even number\n"
     ]
    }
   ],
   "source": [
    "number = int(input(\"Enter a number: \"))\n",
    "if (number % 2) == 0:\n",
    "    print(\"{} is Even number\". format(number))\n",
    "else:\n",
    "    print(\"{} is Odd number\". format(number))"
   ]
  },
  {
   "cell_type": "code",
   "execution_count": 9,
   "id": "cbcaec9e",
   "metadata": {},
   "outputs": [
    {
     "name": "stdout",
     "output_type": "stream",
     "text": [
      "write a number :  10\n",
      "This number is a positive\n"
     ]
    }
   ],
   "source": [
    "number = int(input(\"write a number :  \"))\n",
    "if number > 0:\n",
    "    print(\"This number is a positive\")\n",
    "elif number<0:\n",
    "    print(\"This number is a negative\")\n",
    "else:\n",
    "    print(\"This number is a ZERO\")"
   ]
  },
  {
   "cell_type": "code",
   "execution_count": 10,
   "id": "5e85784e",
   "metadata": {},
   "outputs": [
    {
     "name": "stdout",
     "output_type": "stream",
     "text": [
      "enter the first number10\n",
      "enter the second number20\n",
      "The large number is 20.0\n"
     ]
    }
   ],
   "source": [
    "num1 = float(input(\"enter the first number\"))\n",
    "num2 = float(input(\"enter the second number\"))\n",
    "if num1 > num2 :\n",
    "    print(\"The large number is\", num1)\n",
    "else:\n",
    "    print(\"The large number is\", num2)"
   ]
  },
  {
   "cell_type": "code",
   "execution_count": 12,
   "id": "ee90d30d",
   "metadata": {},
   "outputs": [
    {
     "name": "stdout",
     "output_type": "stream",
     "text": [
      "No\n"
     ]
    }
   ],
   "source": [
    "bool_value=False\n",
    "if bool_value:\n",
    "    print(\"Yes\")\n",
    "else :\n",
    "    print (\"No\")"
   ]
  },
  {
   "cell_type": "code",
   "execution_count": 20,
   "id": "ea320cb2",
   "metadata": {},
   "outputs": [
    {
     "name": "stdout",
     "output_type": "stream",
     "text": [
      "write number1 :20\n",
      "write number1 :10\n",
      "write number1 :5\n",
      "The Largest Number is 20.0\n"
     ]
    }
   ],
   "source": [
    "num1 = float(input(\"write number1 :\"))\n",
    "num2 = float(input(\"write number1 :\"))\n",
    "num3 = float(input(\"write number1 :\"))\n",
    "\n",
    "if num1 > num2 and num1 > num3 :\n",
    "     Largest = num1\n",
    "elif num2 > num1 and num2 > num3:\n",
    "    Largest = num2\n",
    "else:\n",
    "    Largest = num3\n",
    "print(\"The Largest Number is\", Largest)"
   ]
  },
  {
   "cell_type": "code",
   "execution_count": 21,
   "id": "9d16bce5",
   "metadata": {},
   "outputs": [
    {
     "name": "stdout",
     "output_type": "stream",
     "text": [
      "write a number :  0\n",
      "This number is a ZERO\n"
     ]
    }
   ],
   "source": [
    "number = int(input(\"write a number :  \"))\n",
    "if number > 0:\n",
    "    print(\"This number is a positive\")\n",
    "elif number<0:\n",
    "    print(\"This number is a negative\")\n",
    "else:\n",
    "    print(\"This number is a ZERO\")"
   ]
  },
  {
   "cell_type": "code",
   "execution_count": 11,
   "id": "ad28d56b",
   "metadata": {},
   "outputs": [
    {
     "name": "stdout",
     "output_type": "stream",
     "text": [
      "outside of while\n"
     ]
    }
   ],
   "source": [
    "while []:\n",
    "    print(\"while\")\n",
    "print(\"outside of while\")"
   ]
  },
  {
   "cell_type": "code",
   "execution_count": 12,
   "id": "8ad40c46",
   "metadata": {},
   "outputs": [
    {
     "data": {
      "text/plain": [
       "False"
      ]
     },
     "execution_count": 12,
     "metadata": {},
     "output_type": "execute_result"
    }
   ],
   "source": [
    "\"-16\".isdigit()"
   ]
  },
  {
   "cell_type": "code",
   "execution_count": 13,
   "id": "52e5c0c8",
   "metadata": {},
   "outputs": [
    {
     "data": {
      "text/plain": [
       "True"
      ]
     },
     "execution_count": 13,
     "metadata": {},
     "output_type": "execute_result"
    }
   ],
   "source": [
    "\"123456789\".isdigit()"
   ]
  },
  {
   "cell_type": "code",
   "execution_count": 19,
   "id": "ee09112d",
   "metadata": {},
   "outputs": [
    {
     "name": "stdout",
     "output_type": "stream",
     "text": [
      "enter your age in correct format : 22\n",
      "your age is : 22\n"
     ]
    }
   ],
   "source": [
    "age = input(\"enter your age in correct format : \")\n",
    "while not age.isdigit():\n",
    "    print(\"You entered incorrect.! Write out correct format\")\n",
    "    age = input(\"enter your age in correct format : \")\n",
    "print (\"your age is :\", age)"
   ]
  },
  {
   "cell_type": "code",
   "execution_count": 38,
   "id": "57a54c00",
   "metadata": {},
   "outputs": [
    {
     "name": "stdout",
     "output_type": "stream",
     "text": [
      "Let's play the guessing game!\n",
      "What number am I thinking of?  45\n",
      "Little lower\n",
      "What number am I thinking of?  46\n",
      "Little lower\n",
      "What number am I thinking of?  74\n",
      "Little lower\n",
      "What number am I thinking of?  44\n",
      "Are you a MINDREADER!!!\n"
     ]
    }
   ],
   "source": [
    "answer = 44\n",
    "\n",
    "question = 'What number am I thinking of?  '\n",
    "print (\"Let's play the guessing game!\")\n",
    "\n",
    "while True:\n",
    "    guess = int(input(question))\n",
    "\n",
    "    if guess < answer:\n",
    "        print('Little higher')\n",
    "    elif guess > answer:\n",
    "        print('Little lower')\n",
    "    else:  # guess == answer\n",
    "        print('Are you a MINDREADER!!!')\n",
    "        break # else şartı gerçekleştiğinde döngüyü durdurur. "
   ]
  },
  {
   "cell_type": "code",
   "execution_count": null,
   "id": "2ac02633",
   "metadata": {},
   "outputs": [],
   "source": []
  }
 ],
 "metadata": {
  "kernelspec": {
   "display_name": "Python 3",
   "language": "python",
   "name": "python3"
  },
  "language_info": {
   "codemirror_mode": {
    "name": "ipython",
    "version": 3
   },
   "file_extension": ".py",
   "mimetype": "text/x-python",
   "name": "python",
   "nbconvert_exporter": "python",
   "pygments_lexer": "ipython3",
   "version": "3.8.8"
  }
 },
 "nbformat": 4,
 "nbformat_minor": 5
}
