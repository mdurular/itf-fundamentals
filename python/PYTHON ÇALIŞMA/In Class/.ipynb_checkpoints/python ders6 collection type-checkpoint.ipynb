{
 "cells": [
  {
   "cell_type": "code",
   "execution_count": 1,
   "id": "74256a6c",
   "metadata": {},
   "outputs": [],
   "source": [
    "list_1 = ['h', 'a', 'p', 'p', 'y']\n",
    "word = 'happy'\n",
    "list_2 = list(word)"
   ]
  },
  {
   "cell_type": "code",
   "execution_count": 2,
   "id": "0b5ba86d",
   "metadata": {},
   "outputs": [
    {
     "data": {
      "text/plain": [
       "['h', 'a', 'p', 'p', 'y']"
      ]
     },
     "execution_count": 2,
     "metadata": {},
     "output_type": "execute_result"
    }
   ],
   "source": [
    "list_1"
   ]
  },
  {
   "cell_type": "code",
   "execution_count": 3,
   "id": "6377ee33",
   "metadata": {},
   "outputs": [
    {
     "data": {
      "text/plain": [
       "['h', 'a', 'p', 'p', 'y']"
      ]
     },
     "execution_count": 3,
     "metadata": {},
     "output_type": "execute_result"
    }
   ],
   "source": [
    "list_2"
   ]
  },
  {
   "cell_type": "code",
   "execution_count": 4,
   "id": "ea44df8b",
   "metadata": {},
   "outputs": [
    {
     "data": {
      "text/plain": [
       "['happy']"
      ]
     },
     "execution_count": 4,
     "metadata": {},
     "output_type": "execute_result"
    }
   ],
   "source": [
    "list_3 = [word]\n",
    "list_3"
   ]
  },
  {
   "cell_type": "code",
   "execution_count": 5,
   "id": "eefd429a",
   "metadata": {},
   "outputs": [],
   "source": [
    "list_5= list(list_2) "
   ]
  },
  {
   "cell_type": "code",
   "execution_count": 6,
   "id": "31d00807",
   "metadata": {},
   "outputs": [
    {
     "data": {
      "text/plain": [
       "['h', 'a', 'p', 'p', 'y']"
      ]
     },
     "execution_count": 6,
     "metadata": {},
     "output_type": "execute_result"
    }
   ],
   "source": [
    "list_5"
   ]
  },
  {
   "cell_type": "code",
   "execution_count": 7,
   "id": "4998ecc1",
   "metadata": {},
   "outputs": [
    {
     "name": "stdout",
     "output_type": "stream",
     "text": [
      "['USA', 'Brasil', 'UK', 'Germany', 'Turkey', 'New Zealand']\n"
     ]
    }
   ],
   "source": [
    "country = ['USA', 'Brasil', 'UK', 'Germany', 'Turkey', 'New Zealand']\n",
    "print(country)"
   ]
  },
  {
   "cell_type": "code",
   "execution_count": 8,
   "id": "c868534a",
   "metadata": {},
   "outputs": [
    {
     "name": "stdout",
     "output_type": "stream",
     "text": [
      "['I', ' ', 'q', 'u', 'i', 't', ' ', 's', 'm', 'o', 'k', 'i', 'n', 'g']\n",
      "['I quit smoking']\n"
     ]
    }
   ],
   "source": [
    "string_1 = 'I quit smoking'\n",
    "\n",
    "new_list_1 = list(string_1)  # we created multi element list\n",
    "print(new_list_1)\n",
    "\n",
    "new_list_2 = [string_1]  # this is a single element list\n",
    "print(new_list_2)"
   ]
  },
  {
   "cell_type": "code",
   "execution_count": 9,
   "id": "3bf76f31",
   "metadata": {},
   "outputs": [],
   "source": [
    "my_list = ['Joseph', 'Clarusway', 2020]\n",
    "new_list1 = list(my_list)  \n",
    "new_list2 = [my_list]"
   ]
  },
  {
   "cell_type": "code",
   "execution_count": 10,
   "id": "1a736ece",
   "metadata": {},
   "outputs": [
    {
     "data": {
      "text/plain": [
       "['Joseph', 'Clarusway', 2020]"
      ]
     },
     "execution_count": 10,
     "metadata": {},
     "output_type": "execute_result"
    }
   ],
   "source": [
    "new_list1"
   ]
  },
  {
   "cell_type": "code",
   "execution_count": 11,
   "id": "d848b18c",
   "metadata": {},
   "outputs": [
    {
     "data": {
      "text/plain": [
       "[['Joseph', 'Clarusway', 2020]]"
      ]
     },
     "execution_count": 11,
     "metadata": {},
     "output_type": "execute_result"
    }
   ],
   "source": [
    "new_list2"
   ]
  },
  {
   "cell_type": "code",
   "execution_count": 12,
   "id": "dea6938f",
   "metadata": {},
   "outputs": [],
   "source": [
    "list1 = [\"2020's hard\"]\n",
    "list2 = list(\"2020's hard\")"
   ]
  },
  {
   "cell_type": "code",
   "execution_count": 13,
   "id": "f5c4a551",
   "metadata": {},
   "outputs": [
    {
     "data": {
      "text/plain": [
       "[\"2020's hard\"]"
      ]
     },
     "execution_count": 13,
     "metadata": {},
     "output_type": "execute_result"
    }
   ],
   "source": [
    "list1"
   ]
  },
  {
   "cell_type": "code",
   "execution_count": 14,
   "id": "b40c3746",
   "metadata": {},
   "outputs": [
    {
     "data": {
      "text/plain": [
       "['2', '0', '2', '0', \"'\", 's', ' ', 'h', 'a', 'r', 'd']"
      ]
     },
     "execution_count": 14,
     "metadata": {},
     "output_type": "execute_result"
    }
   ],
   "source": [
    "list2"
   ]
  },
  {
   "cell_type": "code",
   "execution_count": 15,
   "id": "6aa091a8",
   "metadata": {},
   "outputs": [],
   "source": [
    "liste = [1,2,3,4,5]"
   ]
  },
  {
   "cell_type": "code",
   "execution_count": 16,
   "id": "a2ede46f",
   "metadata": {},
   "outputs": [],
   "source": [
    "liste.remove(1)"
   ]
  },
  {
   "cell_type": "code",
   "execution_count": 17,
   "id": "f03f39c7",
   "metadata": {},
   "outputs": [
    {
     "data": {
      "text/plain": [
       "[2, 3, 4, 5]"
      ]
     },
     "execution_count": 17,
     "metadata": {},
     "output_type": "execute_result"
    }
   ],
   "source": [
    "liste"
   ]
  },
  {
   "cell_type": "code",
   "execution_count": 18,
   "id": "398d7b4f",
   "metadata": {},
   "outputs": [],
   "source": [
    "liste.sort()"
   ]
  },
  {
   "cell_type": "code",
   "execution_count": 19,
   "id": "77dfbf9e",
   "metadata": {},
   "outputs": [
    {
     "data": {
      "text/plain": [
       "[2, 3, 4, 5]"
      ]
     },
     "execution_count": 19,
     "metadata": {},
     "output_type": "execute_result"
    }
   ],
   "source": [
    "liste"
   ]
  },
  {
   "cell_type": "code",
   "execution_count": 20,
   "id": "e928ced3",
   "metadata": {},
   "outputs": [
    {
     "data": {
      "text/plain": [
       "[2, 3, 4, 5]"
      ]
     },
     "execution_count": 20,
     "metadata": {},
     "output_type": "execute_result"
    }
   ],
   "source": [
    "liste.sort()\n",
    "liste"
   ]
  },
  {
   "cell_type": "code",
   "execution_count": 21,
   "id": "57b67dbb",
   "metadata": {},
   "outputs": [
    {
     "data": {
      "text/plain": [
       "97"
      ]
     },
     "execution_count": 21,
     "metadata": {},
     "output_type": "execute_result"
    }
   ],
   "source": [
    "ord(\"a\")"
   ]
  },
  {
   "cell_type": "code",
   "execution_count": 22,
   "id": "17dbeff9",
   "metadata": {},
   "outputs": [
    {
     "name": "stdout",
     "output_type": "stream",
     "text": [
      "1\n"
     ]
    }
   ],
   "source": [
    "print(\"xyyzxyzxzxyy\".count('yy', 2))"
   ]
  },
  {
   "cell_type": "code",
   "execution_count": 23,
   "id": "dbf62922",
   "metadata": {},
   "outputs": [],
   "source": [
    "x ='dsfsfsdfsd'"
   ]
  },
  {
   "cell_type": "code",
   "execution_count": 24,
   "id": "50b4674e",
   "metadata": {},
   "outputs": [
    {
     "data": {
      "text/plain": [
       "0"
      ]
     },
     "execution_count": 24,
     "metadata": {},
     "output_type": "execute_result"
    }
   ],
   "source": [
    "x.count('yy',3)"
   ]
  },
  {
   "cell_type": "code",
   "execution_count": 31,
   "id": "9cb9fb25",
   "metadata": {},
   "outputs": [],
   "source": [
    "list_1 = ['one', 'four', 'nine']\n",
    "list_2 = ['@', '*-', 'False']\n",
    "list_3 = [True, False]\n",
    "list_4 = [[3], [44], [-12]]\n",
    "list_5 = [[1, 3], [44, -40], [-12, 1]]"
   ]
  },
  {
   "cell_type": "code",
   "execution_count": 32,
   "id": "d30db155",
   "metadata": {},
   "outputs": [],
   "source": [
    "list_1.sort()"
   ]
  },
  {
   "cell_type": "code",
   "execution_count": 33,
   "id": "39b530ab",
   "metadata": {},
   "outputs": [
    {
     "name": "stdout",
     "output_type": "stream",
     "text": [
      "['four', 'nine', 'one']\n"
     ]
    }
   ],
   "source": [
    "print(list_1)"
   ]
  },
  {
   "cell_type": "code",
   "execution_count": 34,
   "id": "587f91c9",
   "metadata": {},
   "outputs": [],
   "source": [
    "list_2.sort()"
   ]
  },
  {
   "cell_type": "code",
   "execution_count": 43,
   "id": "75601afd",
   "metadata": {},
   "outputs": [
    {
     "data": {
      "text/plain": [
       "['*-', '@', 'False']"
      ]
     },
     "execution_count": 43,
     "metadata": {},
     "output_type": "execute_result"
    }
   ],
   "source": [
    "list_2"
   ]
  },
  {
   "cell_type": "code",
   "execution_count": 45,
   "id": "41c9f8e9",
   "metadata": {},
   "outputs": [],
   "source": [
    "list_2.sort(reverse=True)"
   ]
  },
  {
   "cell_type": "code",
   "execution_count": 46,
   "id": "648766b2",
   "metadata": {},
   "outputs": [
    {
     "data": {
      "text/plain": [
       "['False', '@', '*-']"
      ]
     },
     "execution_count": 46,
     "metadata": {},
     "output_type": "execute_result"
    }
   ],
   "source": [
    "list_2"
   ]
  },
  {
   "cell_type": "code",
   "execution_count": 47,
   "id": "3fd935eb",
   "metadata": {},
   "outputs": [],
   "source": [
    "list_3.sort()"
   ]
  },
  {
   "cell_type": "code",
   "execution_count": 48,
   "id": "667cdf5c",
   "metadata": {},
   "outputs": [
    {
     "data": {
      "text/plain": [
       "[False, True]"
      ]
     },
     "execution_count": 48,
     "metadata": {},
     "output_type": "execute_result"
    }
   ],
   "source": [
    "list_3"
   ]
  },
  {
   "cell_type": "code",
   "execution_count": 53,
   "id": "51b1ca84",
   "metadata": {},
   "outputs": [],
   "source": [
    "list_5 = [[1, 3], [44, -40], [-12, 1]]"
   ]
  },
  {
   "cell_type": "code",
   "execution_count": 54,
   "id": "2bfaffc4",
   "metadata": {},
   "outputs": [],
   "source": [
    "list_5.sort()"
   ]
  },
  {
   "cell_type": "code",
   "execution_count": 55,
   "id": "5bf89f2f",
   "metadata": {},
   "outputs": [
    {
     "data": {
      "text/plain": [
       "[[-12, 1], [1, 3], [44, -40]]"
      ]
     },
     "execution_count": 55,
     "metadata": {},
     "output_type": "execute_result"
    }
   ],
   "source": [
    "list_5"
   ]
  },
  {
   "cell_type": "code",
   "execution_count": 13,
   "id": "c34fa5d0",
   "metadata": {},
   "outputs": [],
   "source": [
    "md =list(range(1,11,2))"
   ]
  },
  {
   "cell_type": "code",
   "execution_count": 14,
   "id": "72cb99fa",
   "metadata": {},
   "outputs": [
    {
     "data": {
      "text/plain": [
       "[1, 3, 5, 7, 9]"
      ]
     },
     "execution_count": 14,
     "metadata": {},
     "output_type": "execute_result"
    }
   ],
   "source": [
    "md"
   ]
  },
  {
   "cell_type": "code",
   "execution_count": null,
   "id": "f26819d8",
   "metadata": {},
   "outputs": [],
   "source": []
  },
  {
   "cell_type": "code",
   "execution_count": 1,
   "id": "1f762662",
   "metadata": {},
   "outputs": [],
   "source": [
    "my_dict = dict(ankara =\"06\", istanbul = \"34\", izmir = \"35\")"
   ]
  },
  {
   "cell_type": "code",
   "execution_count": 2,
   "id": "efab4b0a",
   "metadata": {},
   "outputs": [
    {
     "data": {
      "text/plain": [
       "{'ankara': '06', 'istanbul': '34', 'izmir': '35'}"
      ]
     },
     "execution_count": 2,
     "metadata": {},
     "output_type": "execute_result"
    }
   ],
   "source": [
    "my_dict"
   ]
  },
  {
   "cell_type": "code",
   "execution_count": 6,
   "id": "4ef591dc",
   "metadata": {},
   "outputs": [],
   "source": [
    "a ={1 : '2'}"
   ]
  },
  {
   "cell_type": "code",
   "execution_count": 7,
   "id": "73116d42",
   "metadata": {},
   "outputs": [
    {
     "data": {
      "text/plain": [
       "{1: '2'}"
      ]
     },
     "execution_count": 7,
     "metadata": {},
     "output_type": "execute_result"
    }
   ],
   "source": [
    "a"
   ]
  },
  {
   "cell_type": "code",
   "execution_count": 10,
   "id": "b0985b59",
   "metadata": {},
   "outputs": [],
   "source": [
    "first_dict = {1 : \"one\", \"two\" :2, False : (1,2,3)}"
   ]
  },
  {
   "cell_type": "code",
   "execution_count": 11,
   "id": "1ee77dd5",
   "metadata": {},
   "outputs": [
    {
     "data": {
      "text/plain": [
       "{1: 'one', 'two': 2, False: (1, 2, 3)}"
      ]
     },
     "execution_count": 11,
     "metadata": {},
     "output_type": "execute_result"
    }
   ],
   "source": [
    "first_dic"
   ]
  },
  {
   "cell_type": "code",
   "execution_count": 12,
   "id": "787416e5",
   "metadata": {},
   "outputs": [
    {
     "ename": "TypeError",
     "evalue": "unhashable type: 'list'",
     "output_type": "error",
     "traceback": [
      "\u001b[1;31m---------------------------------------------------------------------------\u001b[0m",
      "\u001b[1;31mTypeError\u001b[0m                                 Traceback (most recent call last)",
      "\u001b[1;32m<ipython-input-12-1819c5a16c18>\u001b[0m in \u001b[0;36m<module>\u001b[1;34m\u001b[0m\n\u001b[1;32m----> 1\u001b[1;33m \u001b[0msecond_dict\u001b[0m \u001b[1;33m=\u001b[0m \u001b[1;33m{\u001b[0m\u001b[1;33m[\u001b[0m\u001b[1;36m1\u001b[0m\u001b[1;33m,\u001b[0m\u001b[1;36m2\u001b[0m\u001b[1;33m,\u001b[0m\u001b[1;36m3\u001b[0m\u001b[1;33m]\u001b[0m \u001b[1;33m:\u001b[0m\u001b[1;34m\"liste\"\u001b[0m\u001b[1;33m,\u001b[0m \u001b[1;34m\"clarus\"\u001b[0m \u001b[1;33m:\u001b[0m \u001b[1;34m\"the best\"\u001b[0m\u001b[1;33m}\u001b[0m\u001b[1;33m\u001b[0m\u001b[1;33m\u001b[0m\u001b[0m\n\u001b[0m",
      "\u001b[1;31mTypeError\u001b[0m: unhashable type: 'list'"
     ]
    }
   ],
   "source": [
    "second_dict = {[1,2,3] :\"liste\", \"clarus\" : \"the best\"}"
   ]
  },
  {
   "cell_type": "code",
   "execution_count": 13,
   "id": "a77931a6",
   "metadata": {},
   "outputs": [],
   "source": [
    "third_dict = {(1,2,3) :\"liste\", \"clarus\" : \"the best\"}"
   ]
  },
  {
   "cell_type": "code",
   "execution_count": 14,
   "id": "0c7f17ac",
   "metadata": {},
   "outputs": [
    {
     "data": {
      "text/plain": [
       "{(1, 2, 3): 'liste', 'clarus': 'the best'}"
      ]
     },
     "execution_count": 14,
     "metadata": {},
     "output_type": "execute_result"
    }
   ],
   "source": [
    "third_dict\n"
   ]
  },
  {
   "cell_type": "code",
   "execution_count": 15,
   "id": "07d2c937",
   "metadata": {},
   "outputs": [
    {
     "ename": "TypeError",
     "evalue": "unhashable type: 'dict'",
     "output_type": "error",
     "traceback": [
      "\u001b[1;31m---------------------------------------------------------------------------\u001b[0m",
      "\u001b[1;31mTypeError\u001b[0m                                 Traceback (most recent call last)",
      "\u001b[1;32m<ipython-input-15-75a81d277725>\u001b[0m in \u001b[0;36m<module>\u001b[1;34m\u001b[0m\n\u001b[1;32m----> 1\u001b[1;33m \u001b[0mfourt_dict\u001b[0m \u001b[1;33m=\u001b[0m \u001b[1;33m{\u001b[0m\u001b[1;33m{\u001b[0m\u001b[1;36m1\u001b[0m\u001b[1;33m:\u001b[0m \u001b[1;34m\"bir\"\u001b[0m\u001b[1;33m,\u001b[0m \u001b[1;36m2\u001b[0m \u001b[1;33m:\u001b[0m \u001b[1;34m\"iki\"\u001b[0m\u001b[1;33m}\u001b[0m \u001b[1;33m:\u001b[0m \u001b[1;34m\"sözlük\"\u001b[0m\u001b[1;33m}\u001b[0m\u001b[1;33m\u001b[0m\u001b[1;33m\u001b[0m\u001b[0m\n\u001b[0m",
      "\u001b[1;31mTypeError\u001b[0m: unhashable type: 'dict'"
     ]
    }
   ],
   "source": [
    "fourt_dict = {{1: \"bir\", 2 : \"iki\"} : \"sözlük\"}"
   ]
  },
  {
   "cell_type": "code",
   "execution_count": 18,
   "id": "ca688457",
   "metadata": {},
   "outputs": [],
   "source": [
    "fifth_dict = { \"erkekler\" : {\"ahmet\" : 35, \"mehmet\" : 44, \"cevat\" : 17},\\\n",
    "                \"bayanlar\": {\"selvi\" : 22, \"bahar\" : 55, \"ayşe\" : 3}}"
   ]
  },
  {
   "cell_type": "code",
   "execution_count": 19,
   "id": "06e2ec30",
   "metadata": {},
   "outputs": [
    {
     "data": {
      "text/plain": [
       "{'erkekler': {'ahmet': 35, 'mehmet': 44, 'cevat': 17},\n",
       " 'bayanlar': {'selvi': 22, 'bahar': 55, 'ayşe': 3}}"
      ]
     },
     "execution_count": 19,
     "metadata": {},
     "output_type": "execute_result"
    }
   ],
   "source": [
    "fifth_dict"
   ]
  },
  {
   "cell_type": "code",
   "execution_count": 20,
   "id": "d9272db8",
   "metadata": {},
   "outputs": [
    {
     "name": "stdout",
     "output_type": "stream",
     "text": [
      "Denver\n"
     ]
    }
   ],
   "source": [
    "state_capitals = {'Arkansas': 'Little Rock',\n",
    "                  'Colorado': 'Denver',\n",
    "                  'California': 'Sacramento',\n",
    "                  'Georgia': 'Atlanta' \n",
    "                 }\n",
    "\n",
    "print(state_capitals['Colorado']) # accessing method\n"
   ]
  },
  {
   "cell_type": "code",
   "execution_count": 21,
   "id": "8e8ff498",
   "metadata": {},
   "outputs": [
    {
     "name": "stdout",
     "output_type": "stream",
     "text": [
      "{'Arkansas': 'Little Rock', 'Colorado': 'Denver', 'California': 'Sacramento', 'Georgia': 'Atlanta', 'Virginia': 'Richmond'}\n"
     ]
    }
   ],
   "source": [
    "state_capitals = {'Arkansas': 'Little Rock',\n",
    "                  'Colorado': 'Denver',\n",
    "                  'California': 'Sacramento',\n",
    "                  'Georgia': 'Atlanta' \n",
    "                 }\n",
    "\n",
    "state_capitals['Virginia'] = 'Richmond' # adding a new item\n",
    "\n",
    "print(state_capitals)"
   ]
  },
  {
   "cell_type": "code",
   "execution_count": 22,
   "id": "f7344a4b",
   "metadata": {},
   "outputs": [],
   "source": [
    "mix_values = {'animal': ('dog', 'cat'),  # tuple type\n",
    "              'planet': ['Neptun', 'Saturn', 'Jupiter'],  # list type\n",
    "              'number': 40,  # int type\n",
    "              'pi': 3.14,  # float type\n",
    "              'is_good': True}  # bool type\n",
    "\n",
    "mix_keys = {22 : \"integer\",\n",
    "            1.2 : \"float\",\n",
    "            True : \"boolean\",\n",
    "            \"key\" : \"string\"}"
   ]
  },
  {
   "cell_type": "code",
   "execution_count": 26,
   "id": "5b77d0a8",
   "metadata": {},
   "outputs": [],
   "source": [
    "family = {\"name1\" : \"Mehmet\", \"name2\" : \"Sümeyra\", \"name3\" : \"Faik\"}"
   ]
  },
  {
   "cell_type": "code",
   "execution_count": 29,
   "id": "80859121",
   "metadata": {},
   "outputs": [],
   "source": [
    "family['name4'] = 'Alp'"
   ]
  },
  {
   "cell_type": "code",
   "execution_count": 30,
   "id": "ac1b4096",
   "metadata": {},
   "outputs": [
    {
     "data": {
      "text/plain": [
       "{'name1': 'Mehmet', 'name2': 'Sümeyra', 'name3': 'Faik', 'name4': 'Alp'}"
      ]
     },
     "execution_count": 30,
     "metadata": {},
     "output_type": "execute_result"
    }
   ],
   "source": [
    "family"
   ]
  },
  {
   "cell_type": "code",
   "execution_count": 34,
   "id": "4e8101fd",
   "metadata": {},
   "outputs": [],
   "source": [
    "family = dict( name1= \"mehmet\", name2=\"sümeyra\", name3=\"faik\", name4=\"alp\")"
   ]
  },
  {
   "cell_type": "code",
   "execution_count": 35,
   "id": "cfe09dce",
   "metadata": {},
   "outputs": [
    {
     "data": {
      "text/plain": [
       "{'name1': 'mehmet', 'name2': 'sümeyra', 'name3': 'faik', 'name4': 'alp'}"
      ]
     },
     "execution_count": 35,
     "metadata": {},
     "output_type": "execute_result"
    }
   ],
   "source": [
    "family"
   ]
  },
  {
   "cell_type": "code",
   "execution_count": 36,
   "id": "18b06060",
   "metadata": {},
   "outputs": [],
   "source": [
    "n1,n2,n3 = 5,15,20"
   ]
  },
  {
   "cell_type": "code",
   "execution_count": 37,
   "id": "69c49b7e",
   "metadata": {},
   "outputs": [
    {
     "data": {
      "text/plain": [
       "{5: 'beş', 15: 'onbeş', 20: 'yirmi'}"
      ]
     },
     "execution_count": 37,
     "metadata": {},
     "output_type": "execute_result"
    }
   ],
   "source": [
    "numbers = {n1: \"beş\", n2 :\"onbeş\", n3 :\"yirmi\"}\n",
    "numbers"
   ]
  },
  {
   "cell_type": "code",
   "execution_count": 57,
   "id": "66ad6314",
   "metadata": {},
   "outputs": [],
   "source": [
    "sayılar ={\"tek\" : [], \"çift\" : []}"
   ]
  },
  {
   "cell_type": "code",
   "execution_count": 58,
   "id": "cb639885",
   "metadata": {},
   "outputs": [
    {
     "data": {
      "text/plain": [
       "{'tek': [], 'çift': []}"
      ]
     },
     "execution_count": 58,
     "metadata": {},
     "output_type": "execute_result"
    }
   ],
   "source": [
    "sayılar"
   ]
  },
  {
   "cell_type": "code",
   "execution_count": 59,
   "id": "cc46dba7",
   "metadata": {},
   "outputs": [],
   "source": [
    "sayılar[\"tek\"].append(1)"
   ]
  },
  {
   "cell_type": "code",
   "execution_count": 60,
   "id": "4b725f5f",
   "metadata": {},
   "outputs": [],
   "source": [
    "sayılar[\"tek\"].append(3)"
   ]
  },
  {
   "cell_type": "code",
   "execution_count": 61,
   "id": "0440de64",
   "metadata": {},
   "outputs": [],
   "source": [
    "sayılar[\"çift\"].append(2)"
   ]
  },
  {
   "cell_type": "code",
   "execution_count": 62,
   "id": "6010f92e",
   "metadata": {},
   "outputs": [],
   "source": [
    "sayılar[\"çift\"].append(4)"
   ]
  },
  {
   "cell_type": "code",
   "execution_count": 63,
   "id": "7d773172",
   "metadata": {},
   "outputs": [
    {
     "data": {
      "text/plain": [
       "{'tek': [1, 3], 'çift': [2, 4]}"
      ]
     },
     "execution_count": 63,
     "metadata": {},
     "output_type": "execute_result"
    }
   ],
   "source": [
    "sayılar"
   ]
  },
  {
   "cell_type": "code",
   "execution_count": 66,
   "id": "51c69b7d",
   "metadata": {},
   "outputs": [],
   "source": [
    "meyveler = {}.fromkeys([\"elma\", \"armut\"],0)"
   ]
  },
  {
   "cell_type": "code",
   "execution_count": 67,
   "id": "e06438cc",
   "metadata": {},
   "outputs": [],
   "source": [
    "meyveler [\"elma\"]= meyveler[\"elma\"]+1"
   ]
  },
  {
   "cell_type": "code",
   "execution_count": 68,
   "id": "efcf64f0",
   "metadata": {},
   "outputs": [
    {
     "data": {
      "text/plain": [
       "{'elma': 1, 'armut': 0}"
      ]
     },
     "execution_count": 68,
     "metadata": {},
     "output_type": "execute_result"
    }
   ],
   "source": [
    "meyveler"
   ]
  },
  {
   "cell_type": "code",
   "execution_count": 69,
   "id": "7c6bac72",
   "metadata": {},
   "outputs": [],
   "source": [
    "cisimler = {\"cisim1\" : \"mouse\", \"cisim2\" : \"havlu\"}"
   ]
  },
  {
   "cell_type": "code",
   "execution_count": 70,
   "id": "594e03bb",
   "metadata": {},
   "outputs": [],
   "source": [
    "cisimler [\"cisim1\"] +=\" klavye\""
   ]
  },
  {
   "cell_type": "code",
   "execution_count": 71,
   "id": "4be1228a",
   "metadata": {},
   "outputs": [
    {
     "data": {
      "text/plain": [
       "{'cisim1': 'mouse klavye', 'cisim2': 'havlu'}"
      ]
     },
     "execution_count": 71,
     "metadata": {},
     "output_type": "execute_result"
    }
   ],
   "source": [
    "cisimler"
   ]
  },
  {
   "cell_type": "code",
   "execution_count": 72,
   "id": "c0de2811",
   "metadata": {},
   "outputs": [
    {
     "name": "stdout",
     "output_type": "stream",
     "text": [
      "dict_items([('cisim1', 'mouse klavye'), ('cisim2', 'havlu')])\n"
     ]
    }
   ],
   "source": [
    "print(cisimler.items())"
   ]
  },
  {
   "cell_type": "code",
   "execution_count": 73,
   "id": "df47e666",
   "metadata": {},
   "outputs": [],
   "source": [
    "dict_by_dict = {'animal':'dog',\n",
    "\t\t\t'planet': 'Neptun',\n",
    "\t\t\t'number': 40,\n",
    "\t\t\t'pi':3.14,\n",
    "\t\t\t'is_good': True}"
   ]
  },
  {
   "cell_type": "code",
   "execution_count": 75,
   "id": "74d535ec",
   "metadata": {},
   "outputs": [
    {
     "name": "stdout",
     "output_type": "stream",
     "text": [
      "dict_items([('animal', 'dog'), ('planet', 'Neptun'), ('number', 40), ('pi', 3.14), ('is_good', True)])\n"
     ]
    }
   ],
   "source": [
    "print(dict_by_dict.items())\n"
   ]
  },
  {
   "cell_type": "code",
   "execution_count": 77,
   "id": "b5c4bd7a",
   "metadata": {},
   "outputs": [
    {
     "data": {
      "text/plain": [
       "dict_items"
      ]
     },
     "execution_count": 77,
     "metadata": {},
     "output_type": "execute_result"
    }
   ],
   "source": [
    "type(dict_by_dict.items())"
   ]
  },
  {
   "cell_type": "code",
   "execution_count": 78,
   "id": "3e4ac20b",
   "metadata": {},
   "outputs": [
    {
     "data": {
      "text/plain": [
       "[('animal', 'dog'),\n",
       " ('planet', 'Neptun'),\n",
       " ('number', 40),\n",
       " ('pi', 3.14),\n",
       " ('is_good', True)]"
      ]
     },
     "execution_count": 78,
     "metadata": {},
     "output_type": "execute_result"
    }
   ],
   "source": [
    "list(dict_by_dict.items())"
   ]
  },
  {
   "cell_type": "code",
   "execution_count": 81,
   "id": "6ea0897e",
   "metadata": {},
   "outputs": [
    {
     "data": {
      "text/plain": [
       "['dog', 'Neptun', 40, 3.14, True]"
      ]
     },
     "execution_count": 81,
     "metadata": {},
     "output_type": "execute_result"
    }
   ],
   "source": [
    "list(dict_by_dict.values())"
   ]
  },
  {
   "cell_type": "code",
   "execution_count": 82,
   "id": "39cf3df6",
   "metadata": {},
   "outputs": [],
   "source": [
    "dict_by_dict.update({\"is_bad\": False, 3 : \"üç\"})"
   ]
  },
  {
   "cell_type": "code",
   "execution_count": 83,
   "id": "e22b6876",
   "metadata": {},
   "outputs": [
    {
     "data": {
      "text/plain": [
       "{'animal': 'dog',\n",
       " 'planet': 'Neptun',\n",
       " 'number': 40,\n",
       " 'pi': 3.14,\n",
       " 'is_good': True,\n",
       " 'is_bad': False,\n",
       " 3: 'üç'}"
      ]
     },
     "execution_count": 83,
     "metadata": {},
     "output_type": "execute_result"
    }
   ],
   "source": [
    "dict_by_dict"
   ]
  },
  {
   "cell_type": "code",
   "execution_count": 85,
   "id": "6d9aed96",
   "metadata": {},
   "outputs": [],
   "source": [
    "del dict_by_dict [\"animal\"]"
   ]
  },
  {
   "cell_type": "code",
   "execution_count": 86,
   "id": "ec90607c",
   "metadata": {},
   "outputs": [
    {
     "data": {
      "text/plain": [
       "{'planet': 'Neptun',\n",
       " 'number': 40,\n",
       " 'pi': 3.14,\n",
       " 'is_good': True,\n",
       " 'is_bad': False,\n",
       " 3: 'üç'}"
      ]
     },
     "execution_count": 86,
     "metadata": {},
     "output_type": "execute_result"
    }
   ],
   "source": [
    "dict_by_dict"
   ]
  },
  {
   "cell_type": "code",
   "execution_count": 88,
   "id": "22049fab",
   "metadata": {},
   "outputs": [],
   "source": [
    "del family [\"name2\"]"
   ]
  },
  {
   "cell_type": "code",
   "execution_count": 93,
   "id": "abf48438",
   "metadata": {},
   "outputs": [],
   "source": [
    "del family [\"name3\"],family[\"name1\"]"
   ]
  },
  {
   "cell_type": "code",
   "execution_count": 94,
   "id": "7c20185a",
   "metadata": {},
   "outputs": [
    {
     "data": {
      "text/plain": [
       "{'name4': 'alp'}"
      ]
     },
     "execution_count": 94,
     "metadata": {},
     "output_type": "execute_result"
    }
   ],
   "source": [
    "family"
   ]
  },
  {
   "cell_type": "code",
   "execution_count": 95,
   "id": "53388e31",
   "metadata": {},
   "outputs": [],
   "source": [
    "del family"
   ]
  },
  {
   "cell_type": "code",
   "execution_count": 97,
   "id": "15912017",
   "metadata": {},
   "outputs": [],
   "source": [
    "clarusway = [\"ali\", \"veli\", \"deli\"]"
   ]
  },
  {
   "cell_type": "code",
   "execution_count": 98,
   "id": "409c89cb",
   "metadata": {},
   "outputs": [
    {
     "data": {
      "text/plain": [
       "False"
      ]
     },
     "execution_count": 98,
     "metadata": {},
     "output_type": "execute_result"
    }
   ],
   "source": [
    "\"zeka küpü\" in clarusway"
   ]
  },
  {
   "cell_type": "code",
   "execution_count": 99,
   "id": "b1438f33",
   "metadata": {},
   "outputs": [
    {
     "data": {
      "text/plain": [
       "True"
      ]
     },
     "execution_count": 99,
     "metadata": {},
     "output_type": "execute_result"
    }
   ],
   "source": [
    "\"deli\" in clarusway"
   ]
  },
  {
   "cell_type": "code",
   "execution_count": 100,
   "id": "c175c2cd",
   "metadata": {},
   "outputs": [
    {
     "data": {
      "text/plain": [
       "{'planet': 'Neptun',\n",
       " 'number': 40,\n",
       " 'pi': 3.14,\n",
       " 'is_good': True,\n",
       " 'is_bad': False,\n",
       " 3: 'üç'}"
      ]
     },
     "execution_count": 100,
     "metadata": {},
     "output_type": "execute_result"
    }
   ],
   "source": [
    "dict_by_dict"
   ]
  },
  {
   "cell_type": "code",
   "execution_count": 104,
   "id": "e3e38c8e",
   "metadata": {},
   "outputs": [
    {
     "data": {
      "text/plain": [
       "True"
      ]
     },
     "execution_count": 104,
     "metadata": {},
     "output_type": "execute_result"
    }
   ],
   "source": [
    "\"Neptun\" in dict_by_dict.values()"
   ]
  },
  {
   "cell_type": "code",
   "execution_count": 105,
   "id": "63d43915",
   "metadata": {},
   "outputs": [
    {
     "data": {
      "text/plain": [
       "True"
      ]
     },
     "execution_count": 105,
     "metadata": {},
     "output_type": "execute_result"
    }
   ],
   "source": [
    "\"Neptun\" not in dict_by_dict"
   ]
  },
  {
   "cell_type": "code",
   "execution_count": 106,
   "id": "f5c5a8c3",
   "metadata": {},
   "outputs": [],
   "source": [
    "school_records={\n",
    "\t'personal_info':\n",
    "\t\t{'kid':{'tom':{'class':'intermediate', 'age':10},\n",
    "\t\t\t'sue':{'class':'elemantary', 'age':8}\n",
    "\t\t\t},\n",
    "\t\t'teen':{'joseph':{'class':'college', 'age':19},\n",
    "\t\t\t'marry':{'class':'high school', 'age':16}\n",
    "\t\t\t},\n",
    "\t\t},\n",
    "\t'grades_info':\n",
    "\t\t{'kid':{'tom':{'math':88, 'speech':69},\n",
    "\t\t\t'sue':{'math':90, 'speech':81}\n",
    "\t\t\t},\n",
    "\t\t'teen':{'joseph':{'coding':80, 'math':89},\n",
    "\t\t\t'marry':{'coding':70, 'math':96}\n",
    "\t\t\t},\n",
    "\t\t}\n",
    "}"
   ]
  },
  {
   "cell_type": "code",
   "execution_count": 107,
   "id": "13d47c58",
   "metadata": {},
   "outputs": [
    {
     "data": {
      "text/plain": [
       "{'personal_info': {'kid': {'tom': {'class': 'intermediate', 'age': 10},\n",
       "   'sue': {'class': 'elemantary', 'age': 8}},\n",
       "  'teen': {'joseph': {'class': 'college', 'age': 19},\n",
       "   'marry': {'class': 'high school', 'age': 16}}},\n",
       " 'grades_info': {'kid': {'tom': {'math': 88, 'speech': 69},\n",
       "   'sue': {'math': 90, 'speech': 81}},\n",
       "  'teen': {'joseph': {'coding': 80, 'math': 89},\n",
       "   'marry': {'coding': 70, 'math': 96}}}}"
      ]
     },
     "execution_count": 107,
     "metadata": {},
     "output_type": "execute_result"
    }
   ],
   "source": [
    "school_records"
   ]
  },
  {
   "cell_type": "code",
   "execution_count": 108,
   "id": "20cb179e",
   "metadata": {},
   "outputs": [
    {
     "data": {
      "text/plain": [
       "2"
      ]
     },
     "execution_count": 108,
     "metadata": {},
     "output_type": "execute_result"
    }
   ],
   "source": [
    "len(school_records)"
   ]
  },
  {
   "cell_type": "code",
   "execution_count": 110,
   "id": "d16709be",
   "metadata": {},
   "outputs": [
    {
     "name": "stdout",
     "output_type": "stream",
     "text": [
      "89\n"
     ]
    }
   ],
   "source": [
    "print(school_records['grades_info']['teen']['joseph']['math'])"
   ]
  },
  {
   "cell_type": "code",
   "execution_count": 114,
   "id": "999d59d7",
   "metadata": {},
   "outputs": [
    {
     "name": "stdout",
     "output_type": "stream",
     "text": [
      "{'coding': 80, 'math': 89}\n"
     ]
    }
   ],
   "source": [
    "print(school_records['grades_info']['teen']['joseph'])"
   ]
  },
  {
   "cell_type": "code",
   "execution_count": 116,
   "id": "b62c0dc7",
   "metadata": {},
   "outputs": [
    {
     "data": {
      "text/plain": [
       "[('coding', 80), ('math', 89)]"
      ]
     },
     "execution_count": 116,
     "metadata": {},
     "output_type": "execute_result"
    }
   ],
   "source": [
    "list(school_records['grades_info']['teen']['joseph'].items())"
   ]
  },
  {
   "cell_type": "code",
   "execution_count": 120,
   "id": "ffa1ad84",
   "metadata": {},
   "outputs": [],
   "source": [
    "samanlık =[\"yumurta\", \"saman\",\"inek\",\"iğne\",\"tavuk\",\"yaba\",\"eşarp\", \"iğne\"]"
   ]
  },
  {
   "cell_type": "code",
   "execution_count": 121,
   "id": "2f72106a",
   "metadata": {},
   "outputs": [
    {
     "name": "stdout",
     "output_type": "stream",
     "text": [
      "iğne 3 numaralı indextedir.\n"
     ]
    }
   ],
   "source": [
    "print(f\"iğne {samanlık.index('iğne')} numaralı indextedir.\")"
   ]
  },
  {
   "cell_type": "code",
   "execution_count": 1,
   "id": "446ae7a2",
   "metadata": {},
   "outputs": [
    {
     "data": {
      "text/plain": [
       "{'blue', 'pink', 'red'}"
      ]
     },
     "execution_count": 1,
     "metadata": {},
     "output_type": "execute_result"
    }
   ],
   "source": [
    "set_1 ={'red','blue', 'pink','red'}\n",
    "set_1"
   ]
  },
  {
   "cell_type": "code",
   "execution_count": 2,
   "id": "6a328dd4",
   "metadata": {},
   "outputs": [],
   "source": [
    "letter = \" a b c d e f g h i j l k m n ı p q r s t x w v z\".split()"
   ]
  },
  {
   "cell_type": "code",
   "execution_count": 3,
   "id": "835bedcb",
   "metadata": {},
   "outputs": [
    {
     "name": "stdout",
     "output_type": "stream",
     "text": [
      "['a', 'b', 'c', 'd', 'e', 'f', 'g', 'h', 'i', 'j', 'l', 'k', 'm', 'n', 'ı', 'p', 'q', 'r', 's', 't', 'x', 'w', 'v', 'z']\n"
     ]
    }
   ],
   "source": [
    "print(letter)"
   ]
  },
  {
   "cell_type": "code",
   "execution_count": 4,
   "id": "3a210e81",
   "metadata": {},
   "outputs": [
    {
     "name": "stdout",
     "output_type": "stream",
     "text": [
      "{'j', 'k', 'e', 'w', 'n', 'f', 'v', 'i', 'c', 'z', 'q', 'ı', 's', 'h', 'm', 't', 'l', 'd', 'g', 'x', 'b', 'r', 'a', 'p'}\n"
     ]
    }
   ],
   "source": [
    "print (set(letter))"
   ]
  },
  {
   "cell_type": "code",
   "execution_count": 5,
   "id": "0275745d",
   "metadata": {},
   "outputs": [
    {
     "data": {
      "text/plain": [
       "2"
      ]
     },
     "execution_count": 5,
     "metadata": {},
     "output_type": "execute_result"
    }
   ],
   "source": [
    "test ={1, \"bir\", 1.0}\n",
    "len(test)"
   ]
  },
  {
   "cell_type": "code",
   "execution_count": 6,
   "id": "c4f61164",
   "metadata": {},
   "outputs": [],
   "source": [
    "a = {'carnation', 'orchid', 'rose', 'violet'} \n",
    "b = {'rose', 'orchid', 'rose', 'violet', 'carnation'}"
   ]
  },
  {
   "cell_type": "code",
   "execution_count": 7,
   "id": "f13bd74d",
   "metadata": {},
   "outputs": [
    {
     "data": {
      "text/plain": [
       "True"
      ]
     },
     "execution_count": 7,
     "metadata": {},
     "output_type": "execute_result"
    }
   ],
   "source": [
    " a==b"
   ]
  },
  {
   "cell_type": "code",
   "execution_count": 8,
   "id": "a0a2ea5c",
   "metadata": {},
   "outputs": [
    {
     "data": {
      "text/plain": [
       "{1, 2, 3, 4, 5}"
      ]
     },
     "execution_count": 8,
     "metadata": {},
     "output_type": "execute_result"
    }
   ],
   "source": [
    "given_list = [1,2,3,3,3,3,4,4,5,5]\n",
    "set(given_list)"
   ]
  },
  {
   "cell_type": "code",
   "execution_count": 10,
   "id": "94259e8d",
   "metadata": {},
   "outputs": [
    {
     "ename": "TypeError",
     "evalue": "unhashable type: 'list'",
     "output_type": "error",
     "traceback": [
      "\u001b[1;31m---------------------------------------------------------------------------\u001b[0m",
      "\u001b[1;31mTypeError\u001b[0m                                 Traceback (most recent call last)",
      "\u001b[1;32m<ipython-input-10-e26f19dda172>\u001b[0m in \u001b[0;36m<module>\u001b[1;34m\u001b[0m\n\u001b[1;32m----> 1\u001b[1;33m \u001b[0mprint\u001b[0m\u001b[1;33m(\u001b[0m\u001b[1;33m{\u001b[0m\u001b[0mgiven_list\u001b[0m\u001b[1;33m}\u001b[0m\u001b[1;33m)\u001b[0m\u001b[1;33m\u001b[0m\u001b[1;33m\u001b[0m\u001b[0m\n\u001b[0m",
      "\u001b[1;31mTypeError\u001b[0m: unhashable type: 'list'"
     ]
    }
   ],
   "source": [
    "print({given_list})"
   ]
  },
  {
   "cell_type": "code",
   "execution_count": 11,
   "id": "ece6cfd1",
   "metadata": {},
   "outputs": [
    {
     "name": "stdout",
     "output_type": "stream",
     "text": [
      "{1, 2, 3, 4, 5}\n"
     ]
    }
   ],
   "source": [
    "print({1,2,3,3,3,3,4,4,5,5})"
   ]
  },
  {
   "cell_type": "code",
   "execution_count": 12,
   "id": "bcfb07f8",
   "metadata": {},
   "outputs": [
    {
     "ename": "TypeError",
     "evalue": "set expected at most 1 argument, got 2",
     "output_type": "error",
     "traceback": [
      "\u001b[1;31m---------------------------------------------------------------------------\u001b[0m",
      "\u001b[1;31mTypeError\u001b[0m                                 Traceback (most recent call last)",
      "\u001b[1;32m<ipython-input-12-e228ec3ddae6>\u001b[0m in \u001b[0;36m<module>\u001b[1;34m\u001b[0m\n\u001b[1;32m----> 1\u001b[1;33m \u001b[0mkarışık\u001b[0m \u001b[1;33m=\u001b[0m \u001b[0mset\u001b[0m\u001b[1;33m(\u001b[0m\u001b[1;33m[\u001b[0m\u001b[1;36m1\u001b[0m\u001b[1;33m,\u001b[0m\u001b[1;36m2\u001b[0m\u001b[1;33m,\u001b[0m\u001b[1;36m3\u001b[0m\u001b[1;33m]\u001b[0m\u001b[1;33m,\u001b[0m \u001b[1;33m{\u001b[0m\u001b[1;36m1\u001b[0m\u001b[1;33m:\u001b[0m\u001b[1;34m'bir'\u001b[0m\u001b[1;33m}\u001b[0m\u001b[1;33m)\u001b[0m\u001b[1;33m\u001b[0m\u001b[1;33m\u001b[0m\u001b[0m\n\u001b[0m",
      "\u001b[1;31mTypeError\u001b[0m: set expected at most 1 argument, got 2"
     ]
    }
   ],
   "source": [
    "karışık = set([1,2,3], {1:'bir'})"
   ]
  },
  {
   "cell_type": "code",
   "execution_count": 14,
   "id": "13f3e399",
   "metadata": {},
   "outputs": [
    {
     "ename": "TypeError",
     "evalue": "set expected at most 1 argument, got 3",
     "output_type": "error",
     "traceback": [
      "\u001b[1;31m---------------------------------------------------------------------------\u001b[0m",
      "\u001b[1;31mTypeError\u001b[0m                                 Traceback (most recent call last)",
      "\u001b[1;32m<ipython-input-14-c5e0297c5256>\u001b[0m in \u001b[0;36m<module>\u001b[1;34m\u001b[0m\n\u001b[1;32m----> 1\u001b[1;33m \u001b[0mmix\u001b[0m \u001b[1;33m=\u001b[0m \u001b[0mset\u001b[0m\u001b[1;33m(\u001b[0m\u001b[1;36m1\u001b[0m\u001b[1;33m,\u001b[0m\u001b[1;36m2\u001b[0m\u001b[1;33m,\u001b[0m \u001b[1;33m{\u001b[0m\u001b[1;36m2\u001b[0m\u001b[1;33m,\u001b[0m\u001b[1;36m3\u001b[0m\u001b[1;33m}\u001b[0m\u001b[1;33m)\u001b[0m\u001b[1;33m\u001b[0m\u001b[1;33m\u001b[0m\u001b[0m\n\u001b[0m\u001b[0;32m      2\u001b[0m \u001b[0mmix\u001b[0m\u001b[1;33m\u001b[0m\u001b[1;33m\u001b[0m\u001b[0m\n",
      "\u001b[1;31mTypeError\u001b[0m: set expected at most 1 argument, got 3"
     ]
    }
   ],
   "source": [
    "mix = set(1,2, {2,3})\n",
    "mix"
   ]
  },
  {
   "cell_type": "code",
   "execution_count": 15,
   "id": "68fc33f2",
   "metadata": {},
   "outputs": [
    {
     "data": {
      "text/plain": [
       "3"
      ]
     },
     "execution_count": 15,
     "metadata": {},
     "output_type": "execute_result"
    }
   ],
   "source": [
    "test = {1, \"bir\", 1.0, True, False}\n",
    "len(test)"
   ]
  },
  {
   "cell_type": "code",
   "execution_count": 16,
   "id": "0c62f219",
   "metadata": {},
   "outputs": [
    {
     "name": "stdout",
     "output_type": "stream",
     "text": [
      "{False, 1, 'bir'}\n"
     ]
    }
   ],
   "source": [
    "print (test)"
   ]
  },
  {
   "cell_type": "code",
   "execution_count": 21,
   "id": "8127f449",
   "metadata": {},
   "outputs": [
    {
     "name": "stdout",
     "output_type": "stream",
     "text": [
      "{'o', 't', 'i', 'g', 'w', 'n'}\n",
      "{'t', 'l', 'o', 'e', 'i', 'g', 'w', 's', 'h', 'a', 'n'}\n",
      "{'e', 'l'}\n"
     ]
    }
   ],
   "source": [
    "new_zealand =set('wellington') \n",
    "usa = set('washington')\n",
    "print(new_zealand.intersection(usa))\n",
    "print(new_zealand.union(usa))\n",
    "print(new_zealand.difference(usa))"
   ]
  },
  {
   "cell_type": "code",
   "execution_count": null,
   "id": "dd5c53fe",
   "metadata": {},
   "outputs": [],
   "source": []
  },
  {
   "cell_type": "code",
   "execution_count": null,
   "id": "ba2fbaa2",
   "metadata": {},
   "outputs": [],
   "source": []
  }
 ],
 "metadata": {
  "interpreter": {
   "hash": "21cba49a7c8c5cdfee066b758efe9e896620c72d1ec75b2ea0e9745de09ec6ff"
  },
  "kernelspec": {
   "display_name": "Python 3",
   "language": "python",
   "name": "python3"
  },
  "language_info": {
   "codemirror_mode": {
    "name": "ipython",
    "version": 3
   },
   "file_extension": ".py",
   "mimetype": "text/x-python",
   "name": "python",
   "nbconvert_exporter": "python",
   "pygments_lexer": "ipython3",
   "version": "3.8.8"
  }
 },
 "nbformat": 4,
 "nbformat_minor": 5
}
