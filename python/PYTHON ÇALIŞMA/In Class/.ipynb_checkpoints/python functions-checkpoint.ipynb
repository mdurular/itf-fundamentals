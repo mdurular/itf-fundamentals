{
 "cells": [
  {
   "cell_type": "code",
   "execution_count": 5,
   "id": "d8dfa580",
   "metadata": {},
   "outputs": [
    {
     "name": "stdout",
     "output_type": "stream",
     "text": [
      "# packages in environment at C:\\Users\\md\\anaconda3:\n",
      "#\n",
      "# Name                    Version                   Build  Channel\n",
      "ipython                   7.22.0           py38hd4e2768_0  \n",
      "ipython_genutils          0.2.0              pyhd3eb1b0_1  \n",
      "\n",
      "Note: you may need to restart the kernel to use updated packages.\n"
     ]
    }
   ],
   "source": [
    "conda list ipython"
   ]
  },
  {
   "cell_type": "code",
   "execution_count": 7,
   "id": "937b174b",
   "metadata": {},
   "outputs": [
    {
     "name": "stdout",
     "output_type": "stream",
     "text": [
      "True\n"
     ]
    }
   ],
   "source": [
    "names =['ddd', 'ddd']\n",
    "print(any(names))"
   ]
  },
  {
   "cell_type": "code",
   "execution_count": 13,
   "id": "0606bd8a",
   "metadata": {},
   "outputs": [
    {
     "data": {
      "text/plain": [
       "<generator object <genexpr> at 0x0000020E9A544C80>"
      ]
     },
     "execution_count": 13,
     "metadata": {},
     "output_type": "execute_result"
    }
   ],
   "source": [
    "generate = (i**2 for i in range (6))\n",
    "generate"
   ]
  },
  {
   "cell_type": "code",
   "execution_count": 3,
   "id": "ebd54bf7",
   "metadata": {},
   "outputs": [
    {
     "name": "stdout",
     "output_type": "stream",
     "text": [
      "0 1 4 9 16 25\n"
     ]
    }
   ],
   "source": [
    "print(*generate)"
   ]
  },
  {
   "cell_type": "code",
   "execution_count": 4,
   "id": "34e6c67f",
   "metadata": {},
   "outputs": [],
   "source": [
    "for i in generate:\n",
    "    print(i)"
   ]
  },
  {
   "cell_type": "code",
   "execution_count": 5,
   "id": "31ee3aa2",
   "metadata": {},
   "outputs": [
    {
     "data": {
      "text/plain": [
       "[]"
      ]
     },
     "execution_count": 5,
     "metadata": {},
     "output_type": "execute_result"
    }
   ],
   "source": [
    "list(generate)"
   ]
  },
  {
   "cell_type": "code",
   "execution_count": 19,
   "id": "ff4ee6c1",
   "metadata": {},
   "outputs": [
    {
     "name": "stdout",
     "output_type": "stream",
     "text": [
      "3.67\n"
     ]
    }
   ],
   "source": [
    "print(round(3.675,2))"
   ]
  },
  {
   "cell_type": "code",
   "execution_count": 20,
   "id": "415761df",
   "metadata": {},
   "outputs": [
    {
     "name": "stdout",
     "output_type": "stream",
     "text": [
      "13\n"
     ]
    }
   ],
   "source": [
    "def first_function(argument_1, argument_2) :\n",
    "    print(argument_1**2 + argument_2**2)\n",
    "first_function(2, 3) "
   ]
  },
  {
   "cell_type": "code",
   "execution_count": 21,
   "id": "d1a05194",
   "metadata": {},
   "outputs": [
    {
     "name": "stdout",
     "output_type": "stream",
     "text": [
      "15\n",
      "-2.5\n",
      "amazing amazing amazing \n"
     ]
    }
   ],
   "source": [
    "def multiply(a, b) :\n",
    "    print(a * b)\n",
    "multiply(3, 5)\n",
    "multiply(-1, 2.5)\n",
    "multiply('amazing ', 3) "
   ]
  },
  {
   "cell_type": "code",
   "execution_count": 22,
   "id": "0075ab56",
   "metadata": {},
   "outputs": [],
   "source": [
    "def add (a,b):\n",
    "      print(a+b)"
   ]
  },
  {
   "cell_type": "code",
   "execution_count": 23,
   "id": "5985994f",
   "metadata": {},
   "outputs": [
    {
     "name": "stdout",
     "output_type": "stream",
     "text": [
      "5\n"
     ]
    }
   ],
   "source": [
    "add(2,3)"
   ]
  },
  {
   "cell_type": "code",
   "execution_count": 27,
   "id": "ad4e90cc",
   "metadata": {},
   "outputs": [],
   "source": [
    "def calculator (num1,num2, operatör):\n",
    "    if operatör==\"+\":\n",
    "        print(num1+num2)\n",
    "    elif operatör==\"-\":\n",
    "        print(num1-num2)\n",
    "    elif operatör==\"/\":\n",
    "        print(num1/num2)\n",
    "    elif operatör==\"*\":\n",
    "        print(num1*num2)\n",
    "    else:\n",
    "        print(\"Enter Valid arguments\")\n",
    "    "
   ]
  },
  {
   "cell_type": "code",
   "execution_count": 28,
   "id": "32c8deaa",
   "metadata": {},
   "outputs": [
    {
     "name": "stdout",
     "output_type": "stream",
     "text": [
      "Enter Valid arguments\n"
     ]
    }
   ],
   "source": [
    "calculator (3,2,\"x\")"
   ]
  },
  {
   "cell_type": "code",
   "execution_count": 33,
   "id": "c5500fe2",
   "metadata": {},
   "outputs": [],
   "source": [
    "def calculator2 (num1,num2, operatör):\n",
    "    if operatör==\"+\":\n",
    "        return(num1+num2)\n",
    "    elif operatör==\"-\":\n",
    "        return(num1-num2)\n",
    "    elif operatör==\"/\":\n",
    "        return(num1/num2)\n",
    "    elif operatör==\"*\":\n",
    "        return(num1*num2)\n",
    "    else:\n",
    "        return \"Enter Valid arguments\""
   ]
  },
  {
   "cell_type": "code",
   "execution_count": 34,
   "id": "66ece122",
   "metadata": {},
   "outputs": [
    {
     "name": "stdout",
     "output_type": "stream",
     "text": [
      "6\n"
     ]
    }
   ],
   "source": [
    "print(calculator2 (3,2,\"*\"))"
   ]
  },
  {
   "cell_type": "code",
   "execution_count": 35,
   "id": "0836e7a0",
   "metadata": {},
   "outputs": [
    {
     "name": "stdout",
     "output_type": "stream",
     "text": [
      "4\n",
      "bu fonksiyon mutlak degeri verir\n"
     ]
    }
   ],
   "source": [
    "def abs_val(a):\n",
    "    \"\"\"bu fonksiyon mutlak degeri verir\"\"\"\n",
    "    return abs(a)\n",
    "print(abs_val(-4))\n",
    "print(abs_val.__doc__)"
   ]
  },
  {
   "cell_type": "code",
   "execution_count": 36,
   "id": "4d5aba9f",
   "metadata": {},
   "outputs": [
    {
     "name": "stdout",
     "output_type": "stream",
     "text": [
      "print(value, ..., sep=' ', end='\\n', file=sys.stdout, flush=False)\n",
      "\n",
      "Prints the values to a stream, or to sys.stdout by default.\n",
      "Optional keyword arguments:\n",
      "file:  a file-like object (stream); defaults to the current sys.stdout.\n",
      "sep:   string inserted between values, default a space.\n",
      "end:   string appended after the last value, default a newline.\n",
      "flush: whether to forcibly flush the stream.\n"
     ]
    }
   ],
   "source": [
    "print(print.__doc__)"
   ]
  },
  {
   "cell_type": "code",
   "execution_count": 1,
   "id": "200aceaf",
   "metadata": {},
   "outputs": [],
   "source": [
    "def parrot(voltage, state='a stiff', action='voom', type='Norwegian Blue'):\n",
    "    print(\"-- This parrot wouldn't\", action, end=' ')\n",
    "    print(\"if you put\", voltage, \"volts through it.\")\n",
    "    print(\"-- Lovely plumage, the\", type)\n",
    "    print(\"-- It's\", state, \"!\")"
   ]
  },
  {
   "cell_type": "code",
   "execution_count": 4,
   "id": "8057aa44",
   "metadata": {},
   "outputs": [
    {
     "name": "stdout",
     "output_type": "stream",
     "text": [
      "-- This parrot wouldn't voom if you put 1000 volts through it.\n",
      "-- Lovely plumage, the Norwegian Blue\n",
      "-- It's a stiff !\n"
     ]
    }
   ],
   "source": [
    "parrot(1000)"
   ]
  },
  {
   "cell_type": "code",
   "execution_count": 5,
   "id": "c908f508",
   "metadata": {},
   "outputs": [
    {
     "name": "stdout",
     "output_type": "stream",
     "text": [
      "-- This parrot wouldn't VOOOOOM if you put 1000000 volts through it.\n",
      "-- Lovely plumage, the Norwegian Blue\n",
      "-- It's a stiff !\n"
     ]
    }
   ],
   "source": [
    "parrot(voltage=1000000, action='VOOOOOM')"
   ]
  },
  {
   "cell_type": "code",
   "execution_count": 6,
   "id": "849d173f",
   "metadata": {},
   "outputs": [
    {
     "name": "stdout",
     "output_type": "stream",
     "text": [
      "-- This parrot wouldn't jump if you put a million volts through it.\n",
      "-- Lovely plumage, the Norwegian Blue\n",
      "-- It's bereft of life !\n"
     ]
    }
   ],
   "source": [
    "parrot('a million', 'bereft of life', 'jump') "
   ]
  },
  {
   "cell_type": "code",
   "execution_count": 8,
   "id": "cbcc99aa",
   "metadata": {},
   "outputs": [
    {
     "name": "stdout",
     "output_type": "stream",
     "text": [
      "-- This parrot wouldn't voom if you put a thousand volts through it.\n",
      "-- Lovely plumage, the Norwegian Blue\n",
      "-- It's pushing up the daisies !\n"
     ]
    }
   ],
   "source": [
    "parrot('a thousand', state='pushing up the daisies')"
   ]
  },
  {
   "cell_type": "code",
   "execution_count": 10,
   "id": "ac403a21",
   "metadata": {},
   "outputs": [
    {
     "ename": "SyntaxError",
     "evalue": "positional argument follows keyword argument (<ipython-input-10-810bafc804fb>, line 1)",
     "output_type": "error",
     "traceback": [
      "\u001b[1;36m  File \u001b[1;32m\"<ipython-input-10-810bafc804fb>\"\u001b[1;36m, line \u001b[1;32m1\u001b[0m\n\u001b[1;33m    parrot('dead',voltage=5.0, 'mars')\u001b[0m\n\u001b[1;37m                               ^\u001b[0m\n\u001b[1;31mSyntaxError\u001b[0m\u001b[1;31m:\u001b[0m positional argument follows keyword argument\n"
     ]
    }
   ],
   "source": [
    "parrot('dead',voltage=5.0, 'mars')"
   ]
  },
  {
   "cell_type": "code",
   "execution_count": 12,
   "id": "c01ccd07",
   "metadata": {},
   "outputs": [
    {
     "name": "stdout",
     "output_type": "stream",
     "text": [
      "I want to get :\n",
      "- orange\n",
      "- banana\n",
      "- melon\n",
      "- ananas\n"
     ]
    }
   ],
   "source": [
    "def fruiterer(*fruit) :\n",
    "    print('I want to get :')\n",
    "    for i in fruit :\n",
    "        print('-', i)\n",
    "        \n",
    "fruiterer('orange', 'banana', 'melon', 'ananas')\n"
   ]
  },
  {
   "cell_type": "code",
   "execution_count": 18,
   "id": "f968c39f",
   "metadata": {},
   "outputs": [
    {
     "name": "stdout",
     "output_type": "stream",
     "text": [
      "[1, 3, 5]\n",
      "[2, 4, 6]\n"
     ]
    }
   ],
   "source": [
    "def slicer(*numbers):\n",
    "    tek= []\n",
    "    çift=[]\n",
    "    for i in numbers:\n",
    "        if i%2==0:\n",
    "            çift.append(i)\n",
    "        else:\n",
    "            tek.append(i)\n",
    "    print(tek)\n",
    "    print(çift)\n",
    "slicer(1,2,3,4,5,6)"
   ]
  },
  {
   "cell_type": "code",
   "execution_count": 21,
   "id": "56bae9a3",
   "metadata": {},
   "outputs": [
    {
     "name": "stdout",
     "output_type": "stream",
     "text": [
      "[1, 3]\n",
      "[2, 0]\n"
     ]
    }
   ],
   "source": [
    "slicer(1,2,3,0)"
   ]
  },
  {
   "cell_type": "code",
   "execution_count": 24,
   "id": "3eaac0b7",
   "metadata": {},
   "outputs": [
    {
     "name": "stdout",
     "output_type": "stream",
     "text": [
      "Lions are Carnivores\n",
      "Bears are Omnivores\n",
      "Deers are Herbivores\n",
      "Human are Nomnivores\n"
     ]
    }
   ],
   "source": [
    "def animals(**kwargs):\n",
    "    for key, value in kwargs.items():\n",
    "        print(value, \"are\", key)\n",
    " \n",
    "animals(Carnivores=\"Lions\", Omnivores=\"Bears\", Herbivores=\"Deers\", Nomnivores=\"Human\")"
   ]
  },
  {
   "cell_type": "code",
   "execution_count": 32,
   "id": "30f2a4f2",
   "metadata": {},
   "outputs": [
    {
     "name": "stdout",
     "output_type": "stream",
     "text": [
      "['Beth', 'Oscar', 'Justin', 'Frank']\n",
      "[26, 42, 18, 33]\n"
     ]
    }
   ],
   "source": [
    "def organizer(**kwargs):\n",
    "    isim=[]\n",
    "    yas = []\n",
    "    for key, value in kwargs.items():\n",
    "        isim.append(key)\n",
    "        yas.append(value)\n",
    "    print(isim)\n",
    "    print(yas)\n",
    "organizer(Beth=26, Oscar=42, Justin=18, Frank=33)"
   ]
  },
  {
   "cell_type": "code",
   "execution_count": 8,
   "id": "8f06dd28",
   "metadata": {},
   "outputs": [],
   "source": [
    "x = 10\n",
    "  \n",
    "def my_function():  # fix me!\n",
    "    global my_function\n",
    "    x += 5 \n",
    "    print(x)"
   ]
  },
  {
   "cell_type": "code",
   "execution_count": 10,
   "id": "3b4f5251",
   "metadata": {},
   "outputs": [
    {
     "ename": "UnboundLocalError",
     "evalue": "local variable 'x' referenced before assignment",
     "output_type": "error",
     "traceback": [
      "\u001b[1;31m---------------------------------------------------------------------------\u001b[0m",
      "\u001b[1;31mUnboundLocalError\u001b[0m                         Traceback (most recent call last)",
      "\u001b[1;32m<ipython-input-10-7bebf01be998>\u001b[0m in \u001b[0;36m<module>\u001b[1;34m\u001b[0m\n\u001b[1;32m----> 1\u001b[1;33m \u001b[0mmy_function\u001b[0m\u001b[1;33m(\u001b[0m\u001b[1;33m)\u001b[0m\u001b[1;33m\u001b[0m\u001b[1;33m\u001b[0m\u001b[0m\n\u001b[0m",
      "\u001b[1;32m<ipython-input-8-ccaea9c9910a>\u001b[0m in \u001b[0;36mmy_function\u001b[1;34m()\u001b[0m\n\u001b[0;32m      3\u001b[0m \u001b[1;32mdef\u001b[0m \u001b[0mmy_function\u001b[0m\u001b[1;33m(\u001b[0m\u001b[1;33m)\u001b[0m\u001b[1;33m:\u001b[0m  \u001b[1;31m# fix me!\u001b[0m\u001b[1;33m\u001b[0m\u001b[1;33m\u001b[0m\u001b[0m\n\u001b[0;32m      4\u001b[0m     \u001b[1;32mglobal\u001b[0m \u001b[0mmy_function\u001b[0m\u001b[1;33m\u001b[0m\u001b[1;33m\u001b[0m\u001b[0m\n\u001b[1;32m----> 5\u001b[1;33m     \u001b[0mx\u001b[0m \u001b[1;33m+=\u001b[0m \u001b[1;36m5\u001b[0m\u001b[1;33m\u001b[0m\u001b[1;33m\u001b[0m\u001b[0m\n\u001b[0m\u001b[0;32m      6\u001b[0m     \u001b[0mprint\u001b[0m\u001b[1;33m(\u001b[0m\u001b[0mx\u001b[0m\u001b[1;33m)\u001b[0m\u001b[1;33m\u001b[0m\u001b[1;33m\u001b[0m\u001b[0m\n",
      "\u001b[1;31mUnboundLocalError\u001b[0m: local variable 'x' referenced before assignment"
     ]
    }
   ],
   "source": [
    "my_function()"
   ]
  },
  {
   "cell_type": "code",
   "execution_count": null,
   "id": "9bda73b0",
   "metadata": {},
   "outputs": [],
   "source": [
    "def brothers(bro1, bro2, bro3):\n",
    "    print('Here are the names of brothers :')\n",
    "    print(bro1, bro2, bro3, sep='\\n')\n",
    "\n",
    "family = ['tom', 'sue', 'tim']\n",
    "brothers(*family)"
   ]
  },
  {
   "cell_type": "code",
   "execution_count": 11,
   "id": "b9c3d0d5",
   "metadata": {},
   "outputs": [
    {
     "name": "stdout",
     "output_type": "stream",
     "text": [
      "bazen odun olmak istemişimdir ['a', 'e', 'o', 'u', 'o', 'a', 'i', 'e', 'i', 'i', 'i']\n"
     ]
    }
   ],
   "source": [
    "vowel_list = ['a', 'e', 'i', 'o', 'u']\n",
    "first_ten = \"bazen odun olmak istemişimdir\"\n",
    "  \n",
    "vowels = filter(lambda x: True if x in vowel_list else False, first_ten) \n",
    "\n",
    "print(first_ten, list(vowels))"
   ]
  },
  {
   "cell_type": "code",
   "execution_count": 19,
   "id": "cb4cb5db",
   "metadata": {},
   "outputs": [],
   "source": [
    "cümle = \"bazen odun olmak istemişimdir.\""
   ]
  },
  {
   "cell_type": "code",
   "execution_count": 16,
   "id": "19de325e",
   "metadata": {
    "scrolled": true
   },
   "outputs": [
    {
     "data": {
      "text/plain": [
       "<filter at 0x17d1b2bd550>"
      ]
     },
     "execution_count": 16,
     "metadata": {},
     "output_type": "execute_result"
    }
   ],
   "source": [
    "filter(voweler ,cümle)"
   ]
  },
  {
   "cell_type": "code",
   "execution_count": 29,
   "id": "56d93f40",
   "metadata": {},
   "outputs": [],
   "source": [
    "def voweler(letter):\n",
    "    vowels = [\"a\", \"e\", \"ı\", \"i\", \"o\", \"ö\", \"u\", \"ü\"]\n",
    "    \n",
    "    if letter.lower() in vowels:\n",
    "        return True\n",
    "    else:\n",
    "        return False"
   ]
  },
  {
   "cell_type": "code",
   "execution_count": 30,
   "id": "8664b6d4",
   "metadata": {},
   "outputs": [],
   "source": [
    "filtered_vowels=filter(voweler ,cümle)"
   ]
  },
  {
   "cell_type": "code",
   "execution_count": 31,
   "id": "dbc5ba07",
   "metadata": {},
   "outputs": [
    {
     "data": {
      "text/plain": [
       "['a', 'e', 'o', 'u', 'o', 'a', 'i', 'e', 'i', 'i', 'i']"
      ]
     },
     "execution_count": 31,
     "metadata": {},
     "output_type": "execute_result"
    }
   ],
   "source": [
    "list(filtered_vowels)"
   ]
  },
  {
   "cell_type": "code",
   "execution_count": 33,
   "id": "8fb0e8a4",
   "metadata": {},
   "outputs": [
    {
     "data": {
      "text/plain": [
       "'For me, Bill Rossum and Guido van Gates are geniuses'"
      ]
     },
     "execution_count": 33,
     "metadata": {},
     "output_type": "execute_result"
    }
   ],
   "source": [
    "def merger(a,b,c,d):\n",
    "    return \"For me, {} {} and {} {} are geniuses\".format(a,b,c,d)\n",
    "genius=(\"Bill\", \"Rossum\", \"Guido van\", \"Gates\")\n",
    "merger(*genius)"
   ]
  },
  {
   "cell_type": "code",
   "execution_count": 36,
   "id": "e50b9b36",
   "metadata": {},
   "outputs": [
    {
     "name": "stdout",
     "output_type": "stream",
     "text": [
      "Fred belongs to Generation X\n",
      "Marry belongs to Generation Y\n"
     ]
    }
   ],
   "source": [
    "def gene(x, y):  # defined by positional args\n",
    "    print(x, \"belongs to Generation X\")\n",
    "    print(y, \"belongs to Generation Y\")\n",
    " \n",
    "dict_gene = {'y' : \"Marry\", 'x' : \"Fred\"}\n",
    "gene(**dict_gene) "
   ]
  },
  {
   "cell_type": "code",
   "execution_count": 37,
   "id": "a8965e57",
   "metadata": {},
   "outputs": [],
   "source": [
    "def önceki(** parametre):\n",
    "    for x, y in parametre.items():\n",
    "        print(x, y)"
   ]
  },
  {
   "cell_type": "code",
   "execution_count": 38,
   "id": "b9c75df0",
   "metadata": {},
   "outputs": [
    {
     "name": "stdout",
     "output_type": "stream",
     "text": [
      "a ahmet\n",
      "b mehmet\n",
      "c selamet\n"
     ]
    }
   ],
   "source": [
    "önceki(a = \"ahmet\", b=\"mehmet\", c=\"selamet\")"
   ]
  },
  {
   "cell_type": "code",
   "execution_count": 39,
   "id": "d86e0564",
   "metadata": {},
   "outputs": [],
   "source": [
    "def gene(x,y):\n",
    "    print(x, \"belong to Generation X\")\n",
    "    print(y, \"belong to Generation Y\")"
   ]
  },
  {
   "cell_type": "code",
   "execution_count": 49,
   "id": "b859c6af",
   "metadata": {},
   "outputs": [],
   "source": [
    "dict_gene= {\"y\":\"Marry\", \"x\": \"Fred\"}"
   ]
  },
  {
   "cell_type": "code",
   "execution_count": 57,
   "id": "1e4759fe",
   "metadata": {},
   "outputs": [
    {
     "name": "stdout",
     "output_type": "stream",
     "text": [
      "Fred belong to Generation X\n",
      "Marry belong to Generation Y\n"
     ]
    }
   ],
   "source": [
    "gene(**dict_gene)"
   ]
  },
  {
   "cell_type": "code",
   "execution_count": 58,
   "id": "2557a8b0",
   "metadata": {},
   "outputs": [],
   "source": [
    "dict_couple={\"bride\": [\"marry\", \"bella\",\"Linda\", \"emma\"],\n",
    "            \"groom\":[\"Jack\",\"robert\",\"eric\",\"adam\"]}"
   ]
  },
  {
   "cell_type": "code",
   "execution_count": 62,
   "id": "b465c3eb",
   "metadata": {},
   "outputs": [],
   "source": [
    "def mürüvvet(bride,groom):\n",
    "    couple_list =[]\n",
    "    for x in zip(bride, groom):\n",
    "        couple_list.append(x)\n",
    "    return couple_list"
   ]
  },
  {
   "cell_type": "code",
   "execution_count": 63,
   "id": "51cb5325",
   "metadata": {},
   "outputs": [
    {
     "data": {
      "text/plain": [
       "[('marry', 'Jack'), ('bella', 'robert'), ('Linda', 'eric'), ('emma', 'adam')]"
      ]
     },
     "execution_count": 63,
     "metadata": {},
     "output_type": "execute_result"
    }
   ],
   "source": [
    "mürüvvet(**dict_couple)"
   ]
  },
  {
   "cell_type": "code",
   "execution_count": 81,
   "id": "84b2504e",
   "metadata": {},
   "outputs": [],
   "source": [
    "def mürüvvet_2(bride,groom):\n",
    "    [lambda x: x for x in zip(bride, groom)]"
   ]
  },
  {
   "cell_type": "code",
   "execution_count": 82,
   "id": "8eff5c5a",
   "metadata": {},
   "outputs": [
    {
     "data": {
      "text/plain": [
       "[('marry', 'Jack'), ('bella', 'robert'), ('Linda', 'eric'), ('emma', 'adam')]"
      ]
     },
     "execution_count": 82,
     "metadata": {},
     "output_type": "execute_result"
    }
   ],
   "source": [
    "mürüvvet(**dict_couple)"
   ]
  },
  {
   "cell_type": "code",
   "execution_count": 83,
   "id": "75b1d0c3",
   "metadata": {},
   "outputs": [],
   "source": [
    "friends={\"Mehmet\":32, \"Muhammet\":36, \"Dustin\":32, \"Mr.Bean\":30}"
   ]
  },
  {
   "cell_type": "code",
   "execution_count": 92,
   "id": "24fbf759",
   "metadata": {},
   "outputs": [],
   "source": [
    "def meaner(**x):\n",
    "    a=[]\n",
    "    for i in x.values():\n",
    "        a.append(i)\n",
    "    print(\"The Average Age\", sum(a)/len(a))        "
   ]
  },
  {
   "cell_type": "code",
   "execution_count": 93,
   "id": "33c8966d",
   "metadata": {},
   "outputs": [
    {
     "name": "stdout",
     "output_type": "stream",
     "text": [
      "The Average Age 32.5\n"
     ]
    }
   ],
   "source": [
    "meaner(**friends)"
   ]
  },
  {
   "cell_type": "code",
   "execution_count": 99,
   "id": "17b0de50",
   "metadata": {},
   "outputs": [
    {
     "data": {
      "text/plain": [
       "31.75"
      ]
     },
     "execution_count": 99,
     "metadata": {},
     "output_type": "execute_result"
    }
   ],
   "source": [
    "friends ={\"Alfred\" : 22, \"Mehmet\" : 35, \"Ahmet\" : 25, \"Suat\" : 45}\n",
    "avarege = lambda x : sum(friends.values())/len(friends)\n",
    "avarege(friends)"
   ]
  },
  {
   "cell_type": "code",
   "execution_count": null,
   "id": "98c8eac1",
   "metadata": {},
   "outputs": [],
   "source": [
    "def valid(a):\n",
    "        liste = []\n",
    "        sözlük = {\"]\":\"[\", \"}\":\"{\", \")\":\"(\"}\n",
    "        for i in a:\n",
    "            if i in sözlük.values():\n",
    "                liste.append(i)\n",
    "            elif i in sözlük.keys():\n",
    "                if liste == [] or sözlük[i] != liste.pop():\n",
    "                    return False\n",
    "            else:\n",
    "                return False\n",
    "        return liste == []\n",
    "print(valid('()()[]'))"
   ]
  },
  {
   "cell_type": "code",
   "execution_count": 102,
   "id": "0c545fff",
   "metadata": {},
   "outputs": [],
   "source": [
    "x = \"[[])\""
   ]
  },
  {
   "cell_type": "code",
   "execution_count": 104,
   "id": "a8e94e53",
   "metadata": {},
   "outputs": [],
   "source": [
    "def isValid(s):\n",
    "    while \"()\" in s or \"[]\" in s or \"{}\" in s:\n",
    "        s=s.replace(\"()\", \"\").replace(\"[]\",\"\").replace(\"{}\",\"\")\n",
    "    return s == \"\""
   ]
  },
  {
   "cell_type": "code",
   "execution_count": 105,
   "id": "d7c6c4d9",
   "metadata": {},
   "outputs": [
    {
     "data": {
      "text/plain": [
       "False"
      ]
     },
     "execution_count": 105,
     "metadata": {},
     "output_type": "execute_result"
    }
   ],
   "source": [
    "isValid(x)"
   ]
  },
  {
   "cell_type": "code",
   "execution_count": 7,
   "id": "60d61ad7",
   "metadata": {},
   "outputs": [
    {
     "name": "stdout",
     "output_type": "stream",
     "text": [
      "2\n"
     ]
    },
    {
     "data": {
      "text/plain": [
       "'even'"
      ]
     },
     "execution_count": 7,
     "metadata": {},
     "output_type": "execute_result"
    }
   ],
   "source": [
    "\"odd\" if x%2!=0 else \"even\""
   ]
  },
  {
   "cell_type": "code",
   "execution_count": 16,
   "id": "9c605447",
   "metadata": {},
   "outputs": [
    {
     "data": {
      "text/plain": [
       "[5, 4, 3, 2, 1]"
      ]
     },
     "execution_count": 16,
     "metadata": {},
     "output_type": "execute_result"
    }
   ],
   "source": [
    "iterable = [1, 2, 3, 4, 5]\n",
    "(lambda x: x[::-1])(iterable) "
   ]
  },
  {
   "cell_type": "code",
   "execution_count": 22,
   "id": "3a6a5b60",
   "metadata": {},
   "outputs": [
    {
     "name": "stdout",
     "output_type": "stream",
     "text": [
      "1 : odd\n",
      "2 : even\n",
      "3 : odd\n",
      "4 : even\n",
      "5 : odd\n",
      "6 : even\n",
      "7 : odd\n",
      "8 : even\n",
      "9 : odd\n"
     ]
    }
   ],
   "source": [
    "for x in [1, 2, 3, 4, 5, 6, 7, 8, 9]:\n",
    "    print(x, \":\",(lambda x:\"even\" if x%2==0 else \"odd\")(x)) \n"
   ]
  },
  {
   "cell_type": "code",
   "execution_count": 31,
   "id": "c7cb8f82",
   "metadata": {},
   "outputs": [],
   "source": [
    "reverse_word = lambda x: x[::-1]"
   ]
  },
  {
   "cell_type": "code",
   "execution_count": 32,
   "id": "c37a431e",
   "metadata": {},
   "outputs": [
    {
     "data": {
      "text/plain": [
       "'yawsuralc'"
      ]
     },
     "execution_count": 32,
     "metadata": {},
     "output_type": "execute_result"
    }
   ],
   "source": [
    "a=\"clarusway\"\n",
    "reverse_word(a)"
   ]
  },
  {
   "cell_type": "code",
   "execution_count": 33,
   "id": "c8d88015",
   "metadata": {},
   "outputs": [
    {
     "name": "stdout",
     "output_type": "stream",
     "text": [
      "[6.0, 6.0, 6.0, 6.0]\n"
     ]
    }
   ],
   "source": [
    "letter1=[9,6,7,4]\n",
    "letter2=[3,6,5,8]\n",
    "numbers = map(lambda x, y: (x+y)/2, letter1, letter2)\n",
    "print(list(numbers))"
   ]
  },
  {
   "cell_type": "code",
   "execution_count": 34,
   "id": "e6ad116b",
   "metadata": {},
   "outputs": [],
   "source": [
    "kelimeler=[\"ali veli deli\",\"mehmet ağanın kuzeni\",\"cemilin-bacısı\"]"
   ]
  },
  {
   "cell_type": "code",
   "execution_count": 35,
   "id": "2dbde576",
   "metadata": {},
   "outputs": [
    {
     "name": "stdout",
     "output_type": "stream",
     "text": [
      "[13, 20, 14]\n"
     ]
    }
   ],
   "source": [
    "uzunluk = map(lambda x: len(x), kelimeler)\n",
    "print(list(uzunluk))"
   ]
  },
  {
   "cell_type": "code",
   "execution_count": 37,
   "id": "c84135d5",
   "metadata": {},
   "outputs": [
    {
     "data": {
      "text/plain": [
       "[13, 20, 14]"
      ]
     },
     "execution_count": 37,
     "metadata": {},
     "output_type": "execute_result"
    }
   ],
   "source": [
    "list(map(len,kelimeler))"
   ]
  },
  {
   "cell_type": "code",
   "execution_count": 41,
   "id": "16bc863f",
   "metadata": {},
   "outputs": [
    {
     "data": {
      "text/plain": [
       "[[' ', ' ', 'a', 'd', 'e', 'e', 'i', 'i', 'i', 'l', 'l', 'l', 'v'],\n",
       " [' ',\n",
       "  ' ',\n",
       "  'a',\n",
       "  'a',\n",
       "  'e',\n",
       "  'e',\n",
       "  'e',\n",
       "  'h',\n",
       "  'i',\n",
       "  'k',\n",
       "  'm',\n",
       "  'm',\n",
       "  'n',\n",
       "  'n',\n",
       "  'n',\n",
       "  't',\n",
       "  'u',\n",
       "  'z',\n",
       "  'ğ',\n",
       "  'ı'],\n",
       " ['-', 'a', 'b', 'c', 'c', 'e', 'i', 'i', 'l', 'm', 'n', 's', 'ı', 'ı']]"
      ]
     },
     "execution_count": 41,
     "metadata": {},
     "output_type": "execute_result"
    }
   ],
   "source": [
    "list(map(sorted,kelimeler))"
   ]
  },
  {
   "cell_type": "code",
   "execution_count": 50,
   "id": "10bc99f2",
   "metadata": {},
   "outputs": [
    {
     "name": "stdout",
     "output_type": "stream",
     "text": [
      "['swim', 'me', 'kiwi']\n"
     ]
    }
   ],
   "source": [
    "words = [\"apple\", \"swim\", \"clock\", \"me\", \"kiwi\", \"banana\"]\n",
    "sayaç = filter(lambda i: len(i)<5, words) \n",
    "print(list(sayaç))"
   ]
  },
  {
   "cell_type": "code",
   "execution_count": 53,
   "id": "5c0d3dea",
   "metadata": {},
   "outputs": [
    {
     "name": "stdout",
     "output_type": "stream",
     "text": [
      "[False, True, False, True, True, False]\n"
     ]
    }
   ],
   "source": [
    "words = [\"apple\", \"swim\", \"clock\", \"me\", \"kiwi\", \"banana\"]\n",
    "sayaç = map(lambda i: len(i)<5, words) \n",
    "print(list(sayaç))"
   ]
  },
  {
   "cell_type": "code",
   "execution_count": 64,
   "id": "fdc05676",
   "metadata": {},
   "outputs": [
    {
     "name": "stdout",
     "output_type": "stream",
     "text": [
      "a e i\n"
     ]
    }
   ],
   "source": [
    "vowel_list = ['a', 'e', 'i', 'o', 'u']\n",
    "first_ten = ['a', 'b', 'c', 'd', 'e', 'f', 'g', 'h', 'i', 'j']\n",
    "  \n",
    "vowels = filter(lambda x: x in vowel_list, first_ten) \n",
    "\n",
    "print(*vowels)"
   ]
  },
  {
   "cell_type": "code",
   "execution_count": 109,
   "id": "0d4fb34c",
   "metadata": {},
   "outputs": [
    {
     "ename": "SyntaxError",
     "evalue": "invalid syntax (<ipython-input-109-65739e58faa9>, line 1)",
     "output_type": "error",
     "traceback": [
      "\u001b[1;36m  File \u001b[1;32m\"<ipython-input-109-65739e58faa9>\"\u001b[1;36m, line \u001b[1;32m1\u001b[0m\n\u001b[1;33m    commands = [\"right 20\", \"right 30\", \"left 50\", \"down 10, \"uppp 0\"]\u001b[0m\n\u001b[1;37m                                                              ^\u001b[0m\n\u001b[1;31mSyntaxError\u001b[0m\u001b[1;31m:\u001b[0m invalid syntax\n"
     ]
    }
   ],
   "source": [
    "commands = [\"right 20\", \"right 30\", \"left 50\", \"down 10, ]"
   ]
  },
  {
   "cell_type": "code",
   "execution_count": 113,
   "id": "ff7993b0",
   "metadata": {},
   "outputs": [
    {
     "name": "stdout",
     "output_type": "stream",
     "text": [
      "0 110\n"
     ]
    }
   ],
   "source": [
    "z = [\"right 20\", \"right 30\", \"left 50\", \"down 10\", \"up 0\" ]\n",
    "b=0\n",
    "v=0\n",
    "for i in z:\n",
    "    a=i.split()\n",
    "    if a[1]==\"right\":\n",
    "        b+=int(a[1])\n",
    "    elif a[1]==\"left\":\n",
    "        b-=int(a[1])\n",
    "    elif a[1]==\"down\":\n",
    "        v-=int(a[1])\n",
    "    else:\n",
    "        v+=int(a[1])\n",
    "\n",
    "print(b, c)"
   ]
  },
  {
   "cell_type": "code",
   "execution_count": 128,
   "id": "a5d6bef2",
   "metadata": {},
   "outputs": [
    {
     "data": {
      "text/plain": [
       "[0, -80]"
      ]
     },
     "execution_count": 128,
     "metadata": {},
     "output_type": "execute_result"
    }
   ],
   "source": [
    "x = [\"right 20\", \"right 30\", \"left 50\", \"down 100\", \"up 20\" ]\n",
    "b=0\n",
    "c=0\n",
    "for i in x:\n",
    "    a=i.split()\n",
    "    if a[0]==\"right\":\n",
    "        b+=int(a[1])\n",
    "    elif a[0]==\"left\":\n",
    "        b-=int(a[1])\n",
    "    elif a[0]==\"down\":\n",
    "        c-=int(a[1])\n",
    "    else:\n",
    "        c+=int(a[1])\n",
    "[b, c]"
   ]
  },
  {
   "cell_type": "code",
   "execution_count": null,
   "id": "fc537990",
   "metadata": {},
   "outputs": [],
   "source": []
  },
  {
   "cell_type": "code",
   "execution_count": 18,
   "id": "1f40fca2",
   "metadata": {},
   "outputs": [],
   "source": [
    "def repeater(n):\n",
    "    return lambda n:n+x\n",
    "repeat_5=repeater(5)"
   ]
  },
  {
   "cell_type": "code",
   "execution_count": 7,
   "id": "2a2ff4b3",
   "metadata": {},
   "outputs": [
    {
     "data": {
      "text/plain": [
       "'claruswayclaruswayclaruswayclaruswayclarusway'"
      ]
     },
     "execution_count": 7,
     "metadata": {},
     "output_type": "execute_result"
    }
   ],
   "source": [
    "repeat_5(\"clarusway\")"
   ]
  },
  {
   "cell_type": "code",
   "execution_count": 8,
   "id": "4c2712f4",
   "metadata": {},
   "outputs": [],
   "source": [
    "repeat_2=repeater(2)"
   ]
  },
  {
   "cell_type": "code",
   "execution_count": 22,
   "id": "6d4ec710",
   "metadata": {},
   "outputs": [],
   "source": [
    "def functioner(n):\n",
    "    return lambda x:x+ \" \"+n"
   ]
  },
  {
   "cell_type": "code",
   "execution_count": 26,
   "id": "3554290a",
   "metadata": {},
   "outputs": [],
   "source": [
    "myPrint_smile=functioner(\":)\")\n",
    "myPrint_sad=functioner(\":(\")\n",
    "myPrint_neutral=functioner(\":|\")"
   ]
  },
  {
   "cell_type": "code",
   "execution_count": 30,
   "id": "ae1184d3",
   "metadata": {},
   "outputs": [
    {
     "data": {
      "text/plain": [
       "'hello :)'"
      ]
     },
     "execution_count": 30,
     "metadata": {},
     "output_type": "execute_result"
    }
   ],
   "source": [
    "myPrint_smile(\"hello\")\n"
   ]
  },
  {
   "cell_type": "code",
   "execution_count": 29,
   "id": "4a37bd92",
   "metadata": {},
   "outputs": [
    {
     "data": {
      "text/plain": [
       "'hello :('"
      ]
     },
     "execution_count": 29,
     "metadata": {},
     "output_type": "execute_result"
    }
   ],
   "source": [
    "myPrint_sad(\"hello\")"
   ]
  },
  {
   "cell_type": "code",
   "execution_count": 32,
   "id": "64a75846",
   "metadata": {},
   "outputs": [
    {
     "data": {
      "text/plain": [
       "'hello :|'"
      ]
     },
     "execution_count": 32,
     "metadata": {},
     "output_type": "execute_result"
    }
   ],
   "source": [
    "myPrint_neutral(\"hello\")"
   ]
  },
  {
   "cell_type": "code",
   "execution_count": 35,
   "id": "1132e4ce",
   "metadata": {},
   "outputs": [],
   "source": [
    "def x():\n",
    "    return \"ali\""
   ]
  },
  {
   "cell_type": "code",
   "execution_count": 36,
   "id": "26a37925",
   "metadata": {},
   "outputs": [
    {
     "data": {
      "text/plain": [
       "str"
      ]
     },
     "execution_count": 36,
     "metadata": {},
     "output_type": "execute_result"
    }
   ],
   "source": [
    "type(x())"
   ]
  },
  {
   "cell_type": "code",
   "execution_count": 44,
   "id": "f594a440",
   "metadata": {},
   "outputs": [],
   "source": [
    "num =[1,4,4,1,1]"
   ]
  },
  {
   "cell_type": "code",
   "execution_count": 45,
   "id": "34c9efa6",
   "metadata": {},
   "outputs": [
    {
     "data": {
      "text/plain": [
       "3"
      ]
     },
     "execution_count": 45,
     "metadata": {},
     "output_type": "execute_result"
    }
   ],
   "source": [
    "num.count(max(num, key=num.count))"
   ]
  },
  {
   "cell_type": "code",
   "execution_count": 46,
   "id": "6b69ce29",
   "metadata": {},
   "outputs": [],
   "source": [
    "def kaç(num):\n",
    "    return num.count(max(num, key=num.count))"
   ]
  },
  {
   "cell_type": "code",
   "execution_count": 47,
   "id": "80474e27",
   "metadata": {},
   "outputs": [
    {
     "data": {
      "text/plain": [
       "3"
      ]
     },
     "execution_count": 47,
     "metadata": {},
     "output_type": "execute_result"
    }
   ],
   "source": [
    "kaç([1,4,4,1,1])"
   ]
  },
  {
   "cell_type": "raw",
   "id": "3f660fc4",
   "metadata": {},
   "source": [
    "tekrar=(lambda x: num.count(max(num, key=num.count)))"
   ]
  },
  {
   "cell_type": "code",
   "execution_count": 50,
   "id": "c5a52333",
   "metadata": {},
   "outputs": [
    {
     "data": {
      "text/plain": [
       "3"
      ]
     },
     "execution_count": 50,
     "metadata": {},
     "output_type": "execute_result"
    }
   ],
   "source": [
    "tekrar([1,4,4,1,1])"
   ]
  },
  {
   "cell_type": "code",
   "execution_count": 64,
   "id": "ad95d388",
   "metadata": {},
   "outputs": [],
   "source": [
    "equal_lambda = lambda *arg : list(arg).count(max(list(arg), key = list(arg).count))\\\n",
    "if list(arg).count(max(list(arg), key = list(arg).count)) >1 else 0"
   ]
  },
  {
   "cell_type": "code",
   "execution_count": 65,
   "id": "481b726e",
   "metadata": {},
   "outputs": [
    {
     "data": {
      "text/plain": [
       "2"
      ]
     },
     "execution_count": 65,
     "metadata": {},
     "output_type": "execute_result"
    }
   ],
   "source": [
    "equal_lambda(1,2,2)"
   ]
  },
  {
   "cell_type": "code",
   "execution_count": 71,
   "id": "18e16357",
   "metadata": {},
   "outputs": [],
   "source": [
    "def function_generator(n):\n",
    "    return lambda x: n(x)"
   ]
  },
  {
   "cell_type": "code",
   "execution_count": 85,
   "id": "279a73a0",
   "metadata": {},
   "outputs": [],
   "source": [
    "myPrint=function_generator(print)\n",
    "myMax=function_generator(max)\n",
    "myBool=function_generator(bool)\n",
    "mySorted=function_generator(sorted)"
   ]
  },
  {
   "cell_type": "code",
   "execution_count": 86,
   "id": "b8c451cb",
   "metadata": {},
   "outputs": [
    {
     "name": "stdout",
     "output_type": "stream",
     "text": [
      "1234\n"
     ]
    }
   ],
   "source": [
    "myPrint(1234)"
   ]
  },
  {
   "cell_type": "code",
   "execution_count": 87,
   "id": "2e533d28",
   "metadata": {},
   "outputs": [
    {
     "data": {
      "text/plain": [
       "3"
      ]
     },
     "execution_count": 87,
     "metadata": {},
     "output_type": "execute_result"
    }
   ],
   "source": [
    "myMax([1,2,3])"
   ]
  },
  {
   "cell_type": "code",
   "execution_count": 88,
   "id": "b10d8382",
   "metadata": {},
   "outputs": [
    {
     "data": {
      "text/plain": [
       "True"
      ]
     },
     "execution_count": 88,
     "metadata": {},
     "output_type": "execute_result"
    }
   ],
   "source": [
    "myBool(1234)"
   ]
  },
  {
   "cell_type": "code",
   "execution_count": 90,
   "id": "a505852b",
   "metadata": {},
   "outputs": [
    {
     "data": {
      "text/plain": [
       "['1', '2', '3', '4']"
      ]
     },
     "execution_count": 90,
     "metadata": {},
     "output_type": "execute_result"
    }
   ],
   "source": [
    "mySorted(\"4321\")"
   ]
  },
  {
   "cell_type": "code",
   "execution_count": null,
   "id": "c5f7b164",
   "metadata": {},
   "outputs": [],
   "source": []
  }
 ],
 "metadata": {
  "kernelspec": {
   "display_name": "Python 3",
   "language": "python",
   "name": "python3"
  },
  "language_info": {
   "codemirror_mode": {
    "name": "ipython",
    "version": 3
   },
   "file_extension": ".py",
   "mimetype": "text/x-python",
   "name": "python",
   "nbconvert_exporter": "python",
   "pygments_lexer": "ipython3",
   "version": "3.8.8"
  }
 },
 "nbformat": 4,
 "nbformat_minor": 5
}
