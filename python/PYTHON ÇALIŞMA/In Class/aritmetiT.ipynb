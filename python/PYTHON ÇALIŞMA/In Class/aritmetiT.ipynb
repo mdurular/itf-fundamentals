{
 "cells": [
  {
   "cell_type": "code",
   "execution_count": 1,
   "id": "117bf0da",
   "metadata": {},
   "outputs": [
    {
     "name": "stdout",
     "output_type": "stream",
     "text": [
      "-6\n"
     ]
    }
   ],
   "source": [
    "no1, no2 = 46, 52\n",
    "no3 = no1 - no2\n",
    "print(no3)"
   ]
  },
  {
   "cell_type": "code",
   "execution_count": 3,
   "id": "9c382e57",
   "metadata": {},
   "outputs": [
    {
     "name": "stdout",
     "output_type": "stream",
     "text": [
      "2.0\n"
     ]
    }
   ],
   "source": [
    "no1 = 46\n",
    "print(no1/23)  # division gives float"
   ]
  },
  {
   "cell_type": "code",
   "execution_count": 7,
   "id": "d23f327c",
   "metadata": {},
   "outputs": [
    {
     "name": "stdout",
     "output_type": "stream",
     "text": [
      "i will say 'i missed you' to my mother\n"
     ]
    }
   ],
   "source": [
    "print('i', end=' ')\n",
    "print('will say', end=' ')\n",
    "print(\"'i missed you'\", end=' ')\n",
    "print('to my mother') \n"
   ]
  },
  {
   "cell_type": "code",
   "execution_count": 10,
   "id": "db0b1068",
   "metadata": {},
   "outputs": [
    {
     "name": "stdout",
     "output_type": "stream",
     "text": [
      "smoking \n",
      " is \n",
      " slowly \n",
      " killing me\n"
     ]
    }
   ],
   "source": [
    "print('smoking', 'is', 'slowly', 'killing me', sep=' \\n ')"
   ]
  },
  {
   "cell_type": "code",
   "execution_count": 11,
   "id": "b6809431",
   "metadata": {},
   "outputs": [
    {
     "name": "stdout",
     "output_type": "stream",
     "text": [
      "smoking is slowly killing me \n",
      " "
     ]
    }
   ],
   "source": [
    "print('smoking', 'is', 'slowly', 'killing me', end=' \\n ')"
   ]
  },
  {
   "cell_type": "code",
   "execution_count": 1,
   "id": "de06ed2c",
   "metadata": {},
   "outputs": [
    {
     "name": "stdout",
     "output_type": "stream",
     "text": [
      "value of z       :  6\n",
      "2 times z        :  12 \n",
      "\n"
     ]
    }
   ],
   "source": [
    "z = 6\n",
    "print ('value of z       : ', z)\n",
    "\n",
    "z *= 2\n",
    "print (\"2 times z        : \", z, \"\\n\")"
   ]
  },
  {
   "cell_type": "code",
   "execution_count": 2,
   "id": "442af0f3",
   "metadata": {},
   "outputs": [
    {
     "name": "stdout",
     "output_type": "stream",
     "text": [
      "value of z       :  6\n",
      "2 times z        :  12\n"
     ]
    }
   ],
   "source": [
    "z = 6\n",
    "print ('value of z       : ', z)\n",
    "\n",
    "z *= 2\n",
    "print (\"2 times z        : \", z)"
   ]
  },
  {
   "cell_type": "code",
   "execution_count": 5,
   "id": "e7ffba90",
   "metadata": {},
   "outputs": [
    {
     "name": "stdout",
     "output_type": "stream",
     "text": [
      "C:\\november\n",
      "umber_expenditure.txt\n"
     ]
    }
   ],
   "source": [
    "print('C:\\\\november\\number_expenditure.txt')"
   ]
  },
  {
   "cell_type": "code",
   "execution_count": 7,
   "id": "55454b75",
   "metadata": {},
   "outputs": [
    {
     "name": "stdout",
     "output_type": "stream",
     "text": [
      "it's funny to learn Python\n"
     ]
    }
   ],
   "source": [
    "print('it\\'s funny to learn Python') "
   ]
  },
  {
   "cell_type": "code",
   "execution_count": 10,
   "id": "0d27e9a2",
   "metadata": {},
   "outputs": [
    {
     "name": "stdout",
     "output_type": "stream",
     "text": [
      "it's very easy\n"
     ]
    }
   ],
   "source": [
    "text1 = 'it'\n",
    "text2 = 'easy'\n",
    "print(text1 + '\\'s very '  +  text2)"
   ]
  },
  {
   "cell_type": "code",
   "execution_count": 11,
   "id": "29aee1b8",
   "metadata": {},
   "outputs": [
    {
     "name": "stdout",
     "output_type": "stream",
     "text": [
      "3\n"
     ]
    }
   ],
   "source": [
    "print(2 and 3)\n"
   ]
  },
  {
   "cell_type": "code",
   "execution_count": 12,
   "id": "bc52caaf",
   "metadata": {},
   "outputs": [
    {
     "data": {
      "text/plain": [
       "True"
      ]
     },
     "execution_count": 12,
     "metadata": {},
     "output_type": "execute_result"
    }
   ],
   "source": [
    "not None or [2, False] and {}"
   ]
  },
  {
   "cell_type": "code",
   "execution_count": 13,
   "id": "424686c4",
   "metadata": {},
   "outputs": [
    {
     "name": "stdout",
     "output_type": "stream",
     "text": [
      "Word                   :  Orange\n",
      "First letter           :  O\n",
      "Second letter          :  r\n",
      "3rd to 5th letters     :  ang\n",
      "Letter all after 3rd   :  ange\n"
     ]
    }
   ],
   "source": [
    "fruit = 'Orange'\n",
    "\n",
    "print('Word                   : ' , fruit)\n",
    "print('First letter           : ' , fruit[0])\n",
    "print('Second letter          : ' , fruit[1])\n",
    "print(\"3rd to 5th letters     : \" , fruit[2:5])\n",
    "print(\"Letter all after 3rd   : \" , fruit[2:])"
   ]
  },
  {
   "cell_type": "code",
   "execution_count": 21,
   "id": "0749e493",
   "metadata": {},
   "outputs": [
    {
     "name": "stdout",
     "output_type": "stream",
     "text": [
      "AppleApple OrangeOrangeOrange\n"
     ]
    }
   ],
   "source": [
    "fruit1 = 'Apple'\n",
    "fruit2 = 'Orange'\n",
    "print(2*fruit1 + ' '+ 3*fruit2)"
   ]
  },
  {
   "cell_type": "code",
   "execution_count": 8,
   "id": "346fb84e",
   "metadata": {},
   "outputs": [
    {
     "name": "stdout",
     "output_type": "stream",
     "text": [
      "we \bare united\n"
     ]
    }
   ],
   "source": [
    "print('we','\\bare','united')"
   ]
  },
  {
   "cell_type": "code",
   "execution_count": null,
   "id": "eb5c8a78",
   "metadata": {},
   "outputs": [],
   "source": []
  }
 ],
 "metadata": {
  "kernelspec": {
   "display_name": "Python 3",
   "language": "python",
   "name": "python3"
  },
  "language_info": {
   "codemirror_mode": {
    "name": "ipython",
    "version": 3
   },
   "file_extension": ".py",
   "mimetype": "text/x-python",
   "name": "python",
   "nbconvert_exporter": "python",
   "pygments_lexer": "ipython3",
   "version": "3.8.8"
  }
 },
 "nbformat": 4,
 "nbformat_minor": 5
}
