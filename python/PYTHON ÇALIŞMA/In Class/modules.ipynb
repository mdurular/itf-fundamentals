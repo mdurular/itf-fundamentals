{
 "cells": [
  {
   "cell_type": "code",
   "execution_count": null,
   "id": "1da6919f",
   "metadata": {},
   "outputs": [],
   "source": [
    "import math"
   ]
  },
  {
   "cell_type": "code",
   "execution_count": null,
   "id": "ca7976ca",
   "metadata": {},
   "outputs": [],
   "source": [
    "dir(math)"
   ]
  },
  {
   "cell_type": "code",
   "execution_count": null,
   "id": "fa9e1f42",
   "metadata": {},
   "outputs": [],
   "source": [
    "from math import pi, factorial, log10"
   ]
  },
  {
   "cell_type": "code",
   "execution_count": null,
   "id": "474fd973",
   "metadata": {},
   "outputs": [],
   "source": [
    "print(pi)\n",
    "print(factorial(4))\n",
    "print(log10(1000))"
   ]
  },
  {
   "cell_type": "code",
   "execution_count": null,
   "id": "555c9899",
   "metadata": {},
   "outputs": [],
   "source": [
    "factorial(4)"
   ]
  },
  {
   "cell_type": "code",
   "execution_count": null,
   "id": "bff45851",
   "metadata": {},
   "outputs": [],
   "source": [
    "import string"
   ]
  },
  {
   "cell_type": "code",
   "execution_count": null,
   "id": "935d73b2",
   "metadata": {},
   "outputs": [],
   "source": [
    "dir(string)"
   ]
  },
  {
   "cell_type": "code",
   "execution_count": null,
   "id": "5955a202",
   "metadata": {},
   "outputs": [],
   "source": [
    "string.punctuation"
   ]
  },
  {
   "cell_type": "code",
   "execution_count": null,
   "id": "4b28009c",
   "metadata": {},
   "outputs": [],
   "source": [
    "for i in string.punctuation:\n",
    "    if \",\" in i:\n",
    "        print(\"şaşırdım\")"
   ]
  },
  {
   "cell_type": "code",
   "execution_count": null,
   "id": "2d95643c",
   "metadata": {},
   "outputs": [],
   "source": [
    "import datetime\n",
    "\n",
    "print(datetime.date.today()) \n",
    "print(datetime.datetime.now())"
   ]
  },
  {
   "cell_type": "code",
   "execution_count": null,
   "id": "c6851b70",
   "metadata": {},
   "outputs": [],
   "source": [
    "from datetime import date"
   ]
  },
  {
   "cell_type": "code",
   "execution_count": null,
   "id": "ebb46c53",
   "metadata": {},
   "outputs": [],
   "source": [
    "birth=date(1989,1,1)"
   ]
  },
  {
   "cell_type": "code",
   "execution_count": null,
   "id": "da3f629b",
   "metadata": {},
   "outputs": [],
   "source": [
    "death=date(2021,8,18)"
   ]
  },
  {
   "cell_type": "code",
   "execution_count": null,
   "id": "f7f7332f",
   "metadata": {},
   "outputs": [],
   "source": [
    "print(death-birth)"
   ]
  },
  {
   "cell_type": "code",
   "execution_count": null,
   "id": "3d8425f0",
   "metadata": {},
   "outputs": [],
   "source": [
    "date.toordinal(death)-date.toordinal(birth)"
   ]
  },
  {
   "cell_type": "code",
   "execution_count": null,
   "id": "beac31f2",
   "metadata": {},
   "outputs": [],
   "source": [
    "pip--version"
   ]
  },
  {
   "cell_type": "code",
   "execution_count": null,
   "id": "637a584d",
   "metadata": {},
   "outputs": [],
   "source": [
    "pwd"
   ]
  },
  {
   "cell_type": "code",
   "execution_count": null,
   "id": "83cc9baf",
   "metadata": {},
   "outputs": [],
   "source": [
    "from upper_package import my_package_1, my_package_2"
   ]
  },
  {
   "cell_type": "code",
   "execution_count": null,
   "id": "f44192b9",
   "metadata": {},
   "outputs": [],
   "source": [
    "from upper_package.my_package_1 import my_module_1, my_module_2"
   ]
  },
  {
   "cell_type": "code",
   "execution_count": null,
   "id": "538b5e44",
   "metadata": {},
   "outputs": [],
   "source": [
    "dir(my_package_1)"
   ]
  },
  {
   "cell_type": "code",
   "execution_count": null,
   "id": "023ed32b",
   "metadata": {},
   "outputs": [],
   "source": [
    "from upper_package.my_package_2 import my_module_3, my_module_4"
   ]
  },
  {
   "cell_type": "code",
   "execution_count": null,
   "id": "400b0648",
   "metadata": {},
   "outputs": [],
   "source": [
    "dir(my_package_2)"
   ]
  },
  {
   "cell_type": "code",
   "execution_count": null,
   "id": "7ca7f393",
   "metadata": {},
   "outputs": [],
   "source": [
    "my_module_2.divide(10,5)"
   ]
  },
  {
   "cell_type": "code",
   "execution_count": null,
   "id": "c592bf94",
   "metadata": {},
   "outputs": [],
   "source": [
    "my_module_1.addition(4,5)"
   ]
  },
  {
   "cell_type": "code",
   "execution_count": null,
   "id": "1df1a7e6",
   "metadata": {},
   "outputs": [],
   "source": [
    "my_module_3.repeater(\"clarusway\", 3)"
   ]
  },
  {
   "cell_type": "code",
   "execution_count": null,
   "id": "f77719ac",
   "metadata": {},
   "outputs": [],
   "source": [
    "my_module_4.sqroot(9)"
   ]
  },
  {
   "cell_type": "code",
   "execution_count": null,
   "id": "b228a0f6",
   "metadata": {},
   "outputs": [],
   "source": [
    "my_package_1.__spec__"
   ]
  },
  {
   "cell_type": "code",
   "execution_count": null,
   "id": "424c79a3",
   "metadata": {},
   "outputs": [],
   "source": [
    "from upper_package.my_package_1.my_module_2 import divide, hello"
   ]
  },
  {
   "cell_type": "code",
   "execution_count": null,
   "id": "3f6a2a3b",
   "metadata": {},
   "outputs": [],
   "source": [
    "hello()"
   ]
  },
  {
   "cell_type": "code",
   "execution_count": null,
   "id": "694bec41",
   "metadata": {},
   "outputs": [],
   "source": [
    "divide(22,11)"
   ]
  },
  {
   "cell_type": "code",
   "execution_count": null,
   "id": "6465f8b5",
   "metadata": {},
   "outputs": [],
   "source": [
    "import math"
   ]
  },
  {
   "cell_type": "code",
   "execution_count": null,
   "id": "ff5741cd",
   "metadata": {},
   "outputs": [],
   "source": [
    "from math import log10 "
   ]
  },
  {
   "cell_type": "code",
   "execution_count": null,
   "id": "67e0028c",
   "metadata": {},
   "outputs": [],
   "source": [
    "log10(10000)"
   ]
  },
  {
   "cell_type": "code",
   "execution_count": null,
   "id": "dcff385b",
   "metadata": {},
   "outputs": [],
   "source": [
    "print(math.__doc__)"
   ]
  },
  {
   "cell_type": "code",
   "execution_count": null,
   "id": "b5a38c85",
   "metadata": {},
   "outputs": [],
   "source": [
    "print(my_module_2.__doc__)"
   ]
  },
  {
   "cell_type": "code",
   "execution_count": null,
   "id": "2038a97c",
   "metadata": {},
   "outputs": [],
   "source": [
    "pip--version"
   ]
  },
  {
   "cell_type": "code",
   "execution_count": null,
   "id": "b39b0e25",
   "metadata": {},
   "outputs": [],
   "source": [
    "pip list"
   ]
  },
  {
   "cell_type": "code",
   "execution_count": null,
   "id": "e154af48",
   "metadata": {},
   "outputs": [],
   "source": [
    "import keras"
   ]
  },
  {
   "cell_type": "code",
   "execution_count": null,
   "id": "77042a72",
   "metadata": {},
   "outputs": [],
   "source": [
    "pip show pandas"
   ]
  },
  {
   "cell_type": "code",
   "execution_count": null,
   "id": "b7abbca0",
   "metadata": {},
   "outputs": [],
   "source": [
    "pip show matplotlib                         "
   ]
  },
  {
   "cell_type": "code",
   "execution_count": null,
   "id": "a000a4d5",
   "metadata": {},
   "outputs": [],
   "source": [
    "n=123456789"
   ]
  },
  {
   "cell_type": "code",
   "execution_count": null,
   "id": "24aafbd3",
   "metadata": {},
   "outputs": [],
   "source": [
    "list(str(n))[::-1]"
   ]
  },
  {
   "cell_type": "code",
   "execution_count": null,
   "id": "8252bbe7",
   "metadata": {},
   "outputs": [],
   "source": [
    "def factorial(n):\n",
    "    result=1\n",
    "    for i in range(1,n+1):\n",
    "        result*=i\n",
    "    return result"
   ]
  },
  {
   "cell_type": "code",
   "execution_count": null,
   "id": "e71e5fd5",
   "metadata": {},
   "outputs": [],
   "source": [
    "factorial(4)"
   ]
  },
  {
   "cell_type": "code",
   "execution_count": null,
   "id": "134fb25b",
   "metadata": {},
   "outputs": [],
   "source": [
    "def factorial1(n):\n",
    "    if n==0:\n",
    "        return 1\n",
    "    else:\n",
    "        return n*factorial(n-1)"
   ]
  },
  {
   "cell_type": "code",
   "execution_count": null,
   "id": "cedddd53",
   "metadata": {},
   "outputs": [],
   "source": [
    "factorial1(1)"
   ]
  },
  {
   "cell_type": "code",
   "execution_count": null,
   "id": "2276eefa",
   "metadata": {},
   "outputs": [],
   "source": [
    "ops={\"+\":(lambda x,y:x+y), \"*\":(lambda x,y:x*y), \"-\":(lambda x,y:x-y), \"/\":(lambda x,y:x/y)}"
   ]
  },
  {
   "cell_type": "code",
   "execution_count": null,
   "id": "c2291aad",
   "metadata": {},
   "outputs": [],
   "source": [
    "ops[\"+\"](2,4)"
   ]
  },
  {
   "cell_type": "code",
   "execution_count": null,
   "id": "c0478cc4",
   "metadata": {},
   "outputs": [],
   "source": [
    "ops[\"-\"](2,4)"
   ]
  },
  {
   "cell_type": "code",
   "execution_count": null,
   "id": "b427df6d",
   "metadata": {},
   "outputs": [],
   "source": [
    "ops[\"*\"](2,4)"
   ]
  },
  {
   "cell_type": "code",
   "execution_count": null,
   "id": "c21e5644",
   "metadata": {},
   "outputs": [],
   "source": [
    "ops[\"/\"](2,4)"
   ]
  },
  {
   "cell_type": "code",
   "execution_count": null,
   "id": "e63f18c6",
   "metadata": {},
   "outputs": [],
   "source": [
    "def calculator():\n",
    "    opr=input(\"write '+','-','*','/' :   \")\n",
    "    num1=int(input(\"num1:\"))\n",
    "    num2=int(input(\"num2:\"))\n",
    "    ops={\"+\":(lambda x,y:x+y), \"*\":(lambda x,y:x*y), \"-\":(lambda x,y:x-y), \"/\":(lambda x,y:x/y)}\n",
    "    for i in opr:\n",
    "        return ops[i](num1,num2)"
   ]
  },
  {
   "cell_type": "code",
   "execution_count": null,
   "id": "33034165",
   "metadata": {},
   "outputs": [],
   "source": [
    "calculator()"
   ]
  },
  {
   "cell_type": "code",
   "execution_count": null,
   "id": "128f3957",
   "metadata": {},
   "outputs": [],
   "source": [
    "import random"
   ]
  },
  {
   "cell_type": "code",
   "execution_count": null,
   "id": "46ae92e7",
   "metadata": {},
   "outputs": [],
   "source": [
    "chr(68)"
   ]
  },
  {
   "cell_type": "code",
   "execution_count": null,
   "id": "6dc7b88e",
   "metadata": {},
   "outputs": [],
   "source": [
    "random.randint(65,90)"
   ]
  },
  {
   "cell_type": "code",
   "execution_count": null,
   "id": "4e57153c",
   "metadata": {},
   "outputs": [],
   "source": [
    "chr(random.randint(65,90))"
   ]
  },
  {
   "cell_type": "code",
   "execution_count": null,
   "id": "15f293f6",
   "metadata": {},
   "outputs": [],
   "source": [
    "uppers=[chr(random.randint(65,90)) for i in range(3)]\n",
    "uppers"
   ]
  },
  {
   "cell_type": "code",
   "execution_count": null,
   "id": "d8b0d512",
   "metadata": {},
   "outputs": [],
   "source": [
    "\"\".join(uppers)"
   ]
  },
  {
   "cell_type": "code",
   "execution_count": null,
   "id": "0b9d8f83",
   "metadata": {
    "scrolled": true
   },
   "outputs": [],
   "source": [
    "lowers=[chr(random.randint(97,122)) for i in range(3)]\n",
    "lowers"
   ]
  },
  {
   "cell_type": "code",
   "execution_count": null,
   "id": "9accd35c",
   "metadata": {},
   "outputs": [],
   "source": [
    "numbers=[chr(random.randint(48,57)) for i in range(3)]\n",
    "numbers"
   ]
  },
  {
   "cell_type": "code",
   "execution_count": null,
   "id": "060dae2a",
   "metadata": {},
   "outputs": [],
   "source": [
    "chars=chr(random.randint(33,47))+chr(random.randint(58,64))\n",
    "chars"
   ]
  },
  {
   "cell_type": "code",
   "execution_count": null,
   "id": "224bcf8c",
   "metadata": {},
   "outputs": [],
   "source": [
    "password=\"\".join(uppers)+\"\".join(lowers)+\"\".join(numbers)+\"\".join(chars)\n",
    "password"
   ]
  },
  {
   "cell_type": "code",
   "execution_count": null,
   "id": "b1385574",
   "metadata": {},
   "outputs": [],
   "source": [
    "random.shuffle(uppers)"
   ]
  },
  {
   "cell_type": "code",
   "execution_count": null,
   "id": "ef896574",
   "metadata": {},
   "outputs": [],
   "source": [
    "uppers"
   ]
  },
  {
   "cell_type": "code",
   "execution_count": null,
   "id": "aee115e9",
   "metadata": {},
   "outputs": [],
   "source": [
    "def shuffleit(string):\n",
    "    templist=list(string)\n",
    "    random.shuffle(templist)\n",
    "    return \"\".join(templist)"
   ]
  },
  {
   "cell_type": "code",
   "execution_count": null,
   "id": "477180e3",
   "metadata": {},
   "outputs": [],
   "source": [
    "passw=shuffleit(password)\n",
    "passw"
   ]
  },
  {
   "cell_type": "code",
   "execution_count": null,
   "id": "697983e8",
   "metadata": {},
   "outputs": [],
   "source": [
    "def shuffleit():\n",
    "    a = \"\"\n",
    "    for i in range(3):\n",
    "        a += chr(random.randint(65,90))\n",
    "        a += chr(random.randint(97,122))\n",
    "        a += chr(random.randint(33,64))\n",
    "    print(a)\n",
    "    a = list(a)\n",
    "    random.shuffle(a)  \n",
    "    a = \"\".join(a)\n",
    "    return a\n",
    "shuffleit()"
   ]
  },
  {
   "cell_type": "code",
   "execution_count": null,
   "id": "ff3f0291",
   "metadata": {},
   "outputs": [],
   "source": [
    "from timeit import timeit"
   ]
  },
  {
   "cell_type": "code",
   "execution_count": null,
   "id": "2048feff",
   "metadata": {},
   "outputs": [],
   "source": [
    "timeit()"
   ]
  },
  {
   "cell_type": "code",
   "execution_count": null,
   "id": "9b6eaf5a",
   "metadata": {},
   "outputs": [],
   "source": [
    "def for_loop():\n",
    "    result=[]\n",
    "    for i in range(1000000):\n",
    "        result.append(i)\n",
    "    return result"
   ]
  },
  {
   "cell_type": "code",
   "execution_count": null,
   "id": "52631222",
   "metadata": {},
   "outputs": [],
   "source": [
    "def list_comprehesion():\n",
    "    return [i for i in range(1000000)]"
   ]
  },
  {
   "cell_type": "code",
   "execution_count": null,
   "id": "9b411b55",
   "metadata": {},
   "outputs": [],
   "source": [
    "time1=timeit(for_loop, number=1000)\n",
    "time2=timeit(list_comprehesion, number=1000)\n",
    "print(f\"List Comprehesion is {round(time1/time2,2)} times faster than for loop.\")"
   ]
  },
  {
   "cell_type": "code",
   "execution_count": null,
   "id": "715456a7",
   "metadata": {},
   "outputs": [],
   "source": [
    "import smtplib"
   ]
  },
  {
   "cell_type": "code",
   "execution_count": null,
   "id": "259a4e85",
   "metadata": {},
   "outputs": [],
   "source": [
    "server=smtplib.SMTP(\"smtp.gmail.com\",587)"
   ]
  },
  {
   "cell_type": "code",
   "execution_count": null,
   "id": "6c12b2f2",
   "metadata": {},
   "outputs": [],
   "source": [
    "server.starttls()"
   ]
  },
  {
   "cell_type": "code",
   "execution_count": null,
   "id": "30b1adb2",
   "metadata": {},
   "outputs": [],
   "source": [
    "server.login(\"mdrlr46\", \"maltepe35\")"
   ]
  },
  {
   "cell_type": "code",
   "execution_count": null,
   "id": "e59ef12b",
   "metadata": {},
   "outputs": [],
   "source": [
    "message=\"This is my test mail\""
   ]
  },
  {
   "cell_type": "code",
   "execution_count": null,
   "id": "74aa1045",
   "metadata": {},
   "outputs": [],
   "source": [
    "\"mduru46@hotmail.com\""
   ]
  },
  {
   "cell_type": "code",
   "execution_count": null,
   "id": "8189b3a8",
   "metadata": {},
   "outputs": [],
   "source": [
    "server.sendmail(\"mdrlr46@gmail.com\", \"mduru46@hotmail.com\", message)\n",
    "server.quit()"
   ]
  },
  {
   "cell_type": "code",
   "execution_count": null,
   "id": "89db3415",
   "metadata": {},
   "outputs": [],
   "source": [
    "x = [\"1\", \"2\", \"3\"]\n",
    "y = [\"USA\", \"Japan\", \"Spain\"]\n",
    "\n",
    "for i in y:\n",
    "\tfor j in x:\n",
    "\t\tprint(i+j)"
   ]
  },
  {
   "cell_type": "code",
   "execution_count": null,
   "id": "57b138e1",
   "metadata": {},
   "outputs": [],
   "source": [
    "x = [\"1\", \"2\", \"3\"]\n",
    "y = [\"USA\", \"Japan\", \"Spain\"]\n",
    "a=[list(i+j) for i in y for j in x]\n",
    "a"
   ]
  },
  {
   "cell_type": "markdown",
   "id": "cba93630",
   "metadata": {},
   "source": [
    "Count the number of each letter in a sentence.\n",
    "The department you work for undertook a project construction that makes word / text analysis. You are asked to calculate the number of letters or any chars in the sentences entered under this project.\n",
    "Write a Python program that;\n",
    "1.takes a sentence from the user,\n",
    "2.counts the number of each letter of the sentence,\n",
    "3.collects the letters/chars as a key and the counted numbers as a value in a dictionary."
   ]
  },
  {
   "cell_type": "code",
   "execution_count": null,
   "id": "1fec9166",
   "metadata": {},
   "outputs": [],
   "source": [
    "word ={1:\"1\", 2:\"2\"}"
   ]
  },
  {
   "cell_type": "code",
   "execution_count": null,
   "id": "ec4ce73f",
   "metadata": {},
   "outputs": [],
   "source": [
    "keys=word.keys()"
   ]
  },
  {
   "cell_type": "code",
   "execution_count": null,
   "id": "65913d1b",
   "metadata": {},
   "outputs": [],
   "source": [
    "keys"
   ]
  },
  {
   "cell_type": "code",
   "execution_count": null,
   "id": "1bbf1349",
   "metadata": {},
   "outputs": [],
   "source": [
    "word_1={}"
   ]
  },
  {
   "cell_type": "code",
   "execution_count": null,
   "id": "ca89d00b",
   "metadata": {},
   "outputs": [],
   "source": [
    "word_1[3]=1"
   ]
  },
  {
   "cell_type": "code",
   "execution_count": null,
   "id": "57999081",
   "metadata": {},
   "outputs": [],
   "source": [
    "word_1[1]=1"
   ]
  },
  {
   "cell_type": "code",
   "execution_count": null,
   "id": "1def0e13",
   "metadata": {},
   "outputs": [],
   "source": [
    "word_1"
   ]
  },
  {
   "cell_type": "code",
   "execution_count": null,
   "id": "e6ffe839",
   "metadata": {},
   "outputs": [],
   "source": [
    "word_1[3]+=1"
   ]
  },
  {
   "cell_type": "code",
   "execution_count": null,
   "id": "3395cee0",
   "metadata": {},
   "outputs": [],
   "source": [
    "word_1"
   ]
  },
  {
   "cell_type": "code",
   "execution_count": null,
   "id": "20ebe103",
   "metadata": {},
   "outputs": [],
   "source": [
    "string=\"bugün ayrılktan bir önceki session..\""
   ]
  },
  {
   "cell_type": "code",
   "execution_count": null,
   "id": "3f6f40fd",
   "metadata": {},
   "outputs": [],
   "source": [
    "word_dict={}"
   ]
  },
  {
   "cell_type": "code",
   "execution_count": null,
   "id": "7bab6beb",
   "metadata": {},
   "outputs": [],
   "source": [
    "for n in string:\n",
    "    keys=word_dict.keys()\n",
    "    if n in word_dict:\n",
    "        word_dict[n]+=1\n",
    "    else:\n",
    "        word_dict[n]=1\n",
    "    "
   ]
  },
  {
   "cell_type": "code",
   "execution_count": null,
   "id": "c6f023f1",
   "metadata": {},
   "outputs": [],
   "source": [
    "word_dict"
   ]
  },
  {
   "cell_type": "code",
   "execution_count": 8,
   "id": "9e695adc",
   "metadata": {},
   "outputs": [],
   "source": [
    "veri = [\"a\", \"b\", True, (False, 1), {\"1\" : 2}, [1,2], {\"2\" : \"two\"}, {2, \"3\"}, \"c\", 23, 0]"
   ]
  },
  {
   "cell_type": "code",
   "execution_count": 9,
   "id": "dc93f63c",
   "metadata": {},
   "outputs": [],
   "source": [
    "tip_dict=[\"int\",\"str\",\"bool\",\"list\",\"tuple\",\"dict\",\"set\"]"
   ]
  },
  {
   "cell_type": "code",
   "execution_count": null,
   "id": "aa0f13c1",
   "metadata": {},
   "outputs": [],
   "source": [
    "for n in veri:\n",
    "\n",
    "    if type(n) in tip_dict:\n",
    "        tip_dict[type(n)]+=1\n",
    "    else:\n",
    "        tip_dict[type(n)]=1"
   ]
  },
  {
   "cell_type": "code",
   "execution_count": null,
   "id": "f3fb8fcc",
   "metadata": {},
   "outputs": [],
   "source": [
    "tip_dict"
   ]
  },
  {
   "cell_type": "code",
   "execution_count": 10,
   "id": "2c9c6827",
   "metadata": {},
   "outputs": [],
   "source": [
    "toplam={}.fromkeys(tip_dict,0)"
   ]
  },
  {
   "cell_type": "code",
   "execution_count": 13,
   "id": "4e4989aa",
   "metadata": {},
   "outputs": [],
   "source": [
    "for i in range (len(veri)):\n",
    "    if type(veri[i]) in toplam:\n",
    "        toplam[type(veri[i])]+=1\n",
    "    else:\n",
    "        toplam[type(veri[i])]=1"
   ]
  },
  {
   "cell_type": "code",
   "execution_count": 14,
   "id": "cf331cdc",
   "metadata": {},
   "outputs": [
    {
     "data": {
      "text/plain": [
       "{'int': 0,\n",
       " 'str': 0,\n",
       " 'bool': 0,\n",
       " 'list': 0,\n",
       " 'tuple': 0,\n",
       " 'dict': 0,\n",
       " 'set': 0,\n",
       " str: 3,\n",
       " bool: 1,\n",
       " tuple: 1,\n",
       " dict: 2,\n",
       " list: 1,\n",
       " set: 1,\n",
       " int: 2}"
      ]
     },
     "execution_count": 14,
     "metadata": {},
     "output_type": "execute_result"
    }
   ],
   "source": [
    "toplam"
   ]
  },
  {
   "cell_type": "code",
   "execution_count": 15,
   "id": "ef5eebcb",
   "metadata": {},
   "outputs": [],
   "source": [
    "## OBEB (Ortak bölenleri En Büyüğü)\n",
    "def obeb (a,b):\n",
    "    if b==0:\n",
    "        return a\n",
    "    else:\n",
    "        return obeb(b,a%b)"
   ]
  },
  {
   "cell_type": "code",
   "execution_count": 23,
   "id": "f6b9c162",
   "metadata": {},
   "outputs": [
    {
     "data": {
      "text/plain": [
       "5"
      ]
     },
     "execution_count": 23,
     "metadata": {},
     "output_type": "execute_result"
    }
   ],
   "source": [
    "obeb(65,25)"
   ]
  },
  {
   "cell_type": "code",
   "execution_count": null,
   "id": "16a6efdd",
   "metadata": {},
   "outputs": [],
   "source": []
  }
 ],
 "metadata": {
  "kernelspec": {
   "display_name": "Python 3",
   "language": "python",
   "name": "python3"
  },
  "language_info": {
   "codemirror_mode": {
    "name": "ipython",
    "version": 3
   },
   "file_extension": ".py",
   "mimetype": "text/x-python",
   "name": "python",
   "nbconvert_exporter": "python",
   "pygments_lexer": "ipython3",
   "version": "3.8.8"
  }
 },
 "nbformat": 4,
 "nbformat_minor": 5
}
