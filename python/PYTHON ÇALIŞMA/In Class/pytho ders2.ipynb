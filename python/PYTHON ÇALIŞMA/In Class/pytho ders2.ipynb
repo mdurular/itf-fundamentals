{
 "cells": [
  {
   "cell_type": "code",
   "execution_count": 6,
   "id": "13ce50e9",
   "metadata": {},
   "outputs": [],
   "source": [
    "walte=None"
   ]
  },
  {
   "cell_type": "code",
   "execution_count": 8,
   "id": "8c083314",
   "metadata": {},
   "outputs": [
    {
     "name": "stdout",
     "output_type": "stream",
     "text": [
      "None\n",
      "None\n"
     ]
    }
   ],
   "source": [
    "print(walte)\n",
    "print(walte)"
   ]
  },
  {
   "cell_type": "code",
   "execution_count": 12,
   "id": "171e4429",
   "metadata": {},
   "outputs": [
    {
     "data": {
      "text/plain": [
       "4"
      ]
     },
     "execution_count": 12,
     "metadata": {},
     "output_type": "execute_result"
    }
   ],
   "source": [
    "c=3.6\n",
    "y=round(c)\n",
    "y"
   ]
  },
  {
   "cell_type": "code",
   "execution_count": 13,
   "id": "4b3565a2",
   "metadata": {},
   "outputs": [
    {
     "data": {
      "text/plain": [
       "'clarusway'"
      ]
     },
     "execution_count": 13,
     "metadata": {},
     "output_type": "execute_result"
    }
   ],
   "source": [
    "\"clarus\"+\"way\""
   ]
  },
  {
   "cell_type": "code",
   "execution_count": 19,
   "id": "db1310fb",
   "metadata": {},
   "outputs": [
    {
     "data": {
      "text/plain": [
       "'1212'"
      ]
     },
     "execution_count": 19,
     "metadata": {},
     "output_type": "execute_result"
    }
   ],
   "source": [
    "\"12\" + \"12\""
   ]
  },
  {
   "cell_type": "code",
   "execution_count": 18,
   "id": "e1c12c6d",
   "metadata": {},
   "outputs": [
    {
     "data": {
      "text/plain": [
       "24"
      ]
     },
     "execution_count": 18,
     "metadata": {},
     "output_type": "execute_result"
    }
   ],
   "source": [
    "12+12"
   ]
  },
  {
   "cell_type": "code",
   "execution_count": 20,
   "id": "89caa38e",
   "metadata": {},
   "outputs": [
    {
     "name": "stdout",
     "output_type": "stream",
     "text": [
      "51\n",
      "51\n",
      "51\n"
     ]
    }
   ],
   "source": [
    "print(int(\"5\" + \"1\"))\n",
    "print(str(\"5\" + \"1\"))\n",
    "print(\"5\" + \"1\")"
   ]
  },
  {
   "cell_type": "code",
   "execution_count": 21,
   "id": "3ddfaedf",
   "metadata": {},
   "outputs": [
    {
     "data": {
      "text/plain": [
       "124.23"
      ]
     },
     "execution_count": 21,
     "metadata": {},
     "output_type": "execute_result"
    }
   ],
   "source": [
    "x=123\n",
    "y=1.23\n",
    "x+y"
   ]
  },
  {
   "cell_type": "code",
   "execution_count": null,
   "id": "927d444a",
   "metadata": {},
   "outputs": [],
   "source": [
    "datatype of number_int: int\n",
    "datatype of number_flt: float\n",
    "\n",
    "Value of number number_new:124.3\n",
    "datatype of number_new: float"
   ]
  },
  {
   "cell_type": "code",
   "execution_count": 22,
   "id": "8cdebb4b",
   "metadata": {},
   "outputs": [
    {
     "name": "stdout",
     "output_type": "stream",
     "text": [
      "datatype of number_int: <class 'int'>\n"
     ]
    }
   ],
   "source": [
    "number_int=123\n",
    "number_flt=1.23\n",
    "number_new=number_int+number_flt\n",
    "\n",
    "print(\"datatype of number_int:\", type(number_int))"
   ]
  },
  {
   "cell_type": "code",
   "execution_count": 2,
   "id": "d8f920bf",
   "metadata": {},
   "outputs": [
    {
     "name": "stdout",
     "output_type": "stream",
     "text": [
      "44\n"
     ]
    }
   ],
   "source": [
    "print('4'+ \"4\")"
   ]
  },
  {
   "cell_type": "code",
   "execution_count": 3,
   "id": "6e86c40c",
   "metadata": {},
   "outputs": [
    {
     "name": "stdout",
     "output_type": "stream",
     "text": [
      "78.5\n"
     ]
    }
   ],
   "source": [
    "\n",
    "r=5\n",
    " \n",
    "\n",
    "area = 3.14 * r * r\n",
    " \n",
    "print(area)"
   ]
  },
  {
   "cell_type": "code",
   "execution_count": 6,
   "id": "e815ed51",
   "metadata": {},
   "outputs": [
    {
     "name": "stdout",
     "output_type": "stream",
     "text": [
      "12y\n"
     ]
    }
   ],
   "source": [
    "x='12'\n",
    "y=\"2\"\n",
    "print(x+\"y\")"
   ]
  },
  {
   "cell_type": "code",
   "execution_count": 28,
   "id": "692da994",
   "metadata": {},
   "outputs": [
    {
     "name": "stdout",
     "output_type": "stream",
     "text": [
      "<class 'int'>\n"
     ]
    }
   ],
   "source": [
    "number_str=int(x)\n",
    "print(type(number_str))"
   ]
  },
  {
   "cell_type": "code",
   "execution_count": 29,
   "id": "fd3ec2d1",
   "metadata": {},
   "outputs": [
    {
     "data": {
      "text/plain": [
       "12"
      ]
     },
     "execution_count": 29,
     "metadata": {},
     "output_type": "execute_result"
    }
   ],
   "source": [
    "number_str"
   ]
  },
  {
   "cell_type": "code",
   "execution_count": 15,
   "id": "f418c654",
   "metadata": {},
   "outputs": [
    {
     "name": "stdout",
     "output_type": "stream",
     "text": [
      "Word                   :  Orange\n",
      "First letter           :  O\n",
      "Second letter          :  r\n",
      "3rd to 5th letters     :  ang\n",
      "Letter all after 3rd   :  ange\n"
     ]
    }
   ],
   "source": [
    "fruit = 'Orange'\n",
    "\n",
    "print('Word                   : ' , fruit)\n",
    "print('First letter           : ' , fruit[0])\n",
    "print('Second letter          : ' , fruit[1])\n",
    "print(\"3rd to 5th letters     : \" , fruit[2:5])\n",
    "print(\"Letter all after 3rd   : \" , fruit[2:])\n"
   ]
  },
  {
   "cell_type": "markdown",
   "id": "3235dab9",
   "metadata": {},
   "source": [
    "string[:] : returns the full copy of the sequence\n",
    "\n",
    "string[start:] : returns elements from start to the end element\n",
    "\n",
    "string[:stop] : returns element from the 1st element to stop-1\n",
    "\n",
    "string[::step] : returns each element with a given step"
   ]
  },
  {
   "cell_type": "code",
   "execution_count": 16,
   "id": "fd215211",
   "metadata": {},
   "outputs": [
    {
     "name": "stdout",
     "output_type": "stream",
     "text": [
      "hoenix\n",
      "Phoeni\n",
      "Ponx\n",
      "hei\n",
      "nix\n",
      "xineohP\n"
     ]
    }
   ],
   "source": [
    "city = 'Phoenix'\n",
    "\n",
    "print(city[1:])  # starts from index 1 to the end\n",
    "print(city[:6])  # starts from zero to 5th index\n",
    "print(city[::2])  # starts from zero to end by 2 step\n",
    "print(city[1::2])  # starts from index 1 to the end by 2 step\n",
    "print(city[-3:])  # starts from index -3 to the end\n",
    "print(city[::-1])  # negative step starts from the end to zero\n"
   ]
  },
  {
   "cell_type": "code",
   "execution_count": 17,
   "id": "b771821c",
   "metadata": {},
   "outputs": [
    {
     "name": "stdout",
     "output_type": "stream",
     "text": [
      "orangeapple\n"
     ]
    }
   ],
   "source": [
    "fruit = 'orange'\n",
    "fruit += 'apple'\n",
    "\n",
    "print(fruit)"
   ]
  },
  {
   "cell_type": "code",
   "execution_count": 23,
   "id": "59674bab",
   "metadata": {},
   "outputs": [
    {
     "name": "stdout",
     "output_type": "stream",
     "text": [
      "I have 4 children and 5.0 brothers\n"
     ]
    }
   ],
   "source": [
    "phrase = 'I have %d %s and %.1f brothers' % (4, \"children\", 5)  \n",
    "print (phrase)"
   ]
  },
  {
   "cell_type": "markdown",
   "id": "bbc20e32",
   "metadata": {},
   "source": [
    "💡Tips:\n",
    "In the '%s' syntax : s stands for 'string'.\n",
    "In the '%.2f' syntax : f stands for 'float'. In this example 2 digits after point.\n",
    "In the '%d' syntax : d stands for 'numeric'."
   ]
  },
  {
   "cell_type": "code",
   "execution_count": 28,
   "id": "7321e566",
   "metadata": {},
   "outputs": [
    {
     "name": "stdout",
     "output_type": "stream",
     "text": [
      "The amount of Orange we bought is 4 pounds\n"
     ]
    }
   ],
   "source": [
    "fruit = 'Orange'\n",
    "vegetable = 'Tomato'\n",
    "amount = 4\n",
    "print('The amount of {} we bought is {} pounds'.format(fruit, amount))"
   ]
  },
  {
   "cell_type": "code",
   "execution_count": 30,
   "id": "2ba17a23",
   "metadata": {},
   "outputs": [
    {
     "name": "stdout",
     "output_type": "stream",
     "text": [
      "California is the most crowded state of the USA\n"
     ]
    }
   ],
   "source": [
    "print('{state} is the most {adjective} state of the {country}'.format(country='USA', state='California',  adjective='crowded'))"
   ]
  },
  {
   "cell_type": "code",
   "execution_count": 31,
   "id": "113173b6",
   "metadata": {},
   "outputs": [
    {
     "name": "stdout",
     "output_type": "stream",
     "text": [
      "3\n"
     ]
    }
   ],
   "source": [
    "print(2 and 3)"
   ]
  },
  {
   "cell_type": "code",
   "execution_count": 35,
   "id": "c0105ab4",
   "metadata": {},
   "outputs": [
    {
     "name": "stdout",
     "output_type": "stream",
     "text": [
      "Good teachers know how to bring out the best in students.\n"
     ]
    }
   ],
   "source": [
    "print(\"{9} {7} {1} {10} {3} {2} {5} {8} {6} {0} {4}\".format('in', 'know', 'bring', 'to', 'students.', 'out', 'best', 'teachers', 'the', 'Good', 'how'))"
   ]
  },
  {
   "cell_type": "code",
   "execution_count": 36,
   "id": "896086ed",
   "metadata": {},
   "outputs": [
    {
     "name": "stdout",
     "output_type": "stream",
     "text": [
      "My name is {my_name.capitalize()}\n"
     ]
    }
   ],
   "source": [
    "my_name = 'JOSEPH'\n",
    "output = \"My name is {my_name.capitalize()}\"\n",
    "\n",
    "print(output)"
   ]
  },
  {
   "cell_type": "code",
   "execution_count": 1,
   "id": "4a95e1a7",
   "metadata": {},
   "outputs": [
    {
     "name": "stdout",
     "output_type": "stream",
     "text": [
      "28\n",
      "True\n",
      "False\n"
     ]
    }
   ],
   "source": [
    "phrase = \"myemailaddress@clarusway.com\"\n",
    "\n",
    "print(len(phrase))\n",
    "print(phrase.startswith(\"@\", 14))\n",
    "print(phrase.endswith(\".\", 15, 24))\n"
   ]
  },
  {
   "cell_type": "code",
   "execution_count": 3,
   "id": "59090ff0",
   "metadata": {},
   "outputs": [
    {
     "name": "stdout",
     "output_type": "stream",
     "text": [
      "wITH HARD WORK AND DEDICATION, ANYTHING IS POSSIBLE.\n"
     ]
    }
   ],
   "source": [
    "sentence = 'With hard work and dedication, anything is possible.'\n",
    "print(sentence.swapcase())"
   ]
  },
  {
   "cell_type": "code",
   "execution_count": 4,
   "id": "34e6dfc8",
   "metadata": {},
   "outputs": [
    {
     "name": "stdout",
     "output_type": "stream",
     "text": [
      "www.clarusway.com will open your path."
     ]
    }
   ],
   "source": [
    "print('www', 'clarusway', \"com\", sep='.', end=' ')\n",
    "print('will', end=' ')\n",
    "print('open', end=' ')\n",
    "print('your', end=' ')\n",
    "print('path', end='.')"
   ]
  },
  {
   "cell_type": "code",
   "execution_count": 7,
   "id": "ea3e8e9e",
   "metadata": {},
   "outputs": [
    {
     "name": "stdout",
     "output_type": "stream",
     "text": [
      "clarusway2020\n"
     ]
    }
   ],
   "source": [
    "print(\"clarusway\" + str(2020))"
   ]
  },
  {
   "cell_type": "code",
   "execution_count": 1,
   "id": "2e73ddda",
   "metadata": {},
   "outputs": [],
   "source": [
    "x = False\n",
    "y = not x"
   ]
  },
  {
   "cell_type": "code",
   "execution_count": 2,
   "id": "344d62c5",
   "metadata": {},
   "outputs": [
    {
     "data": {
      "text/plain": [
       "True"
      ]
     },
     "execution_count": 2,
     "metadata": {},
     "output_type": "execute_result"
    }
   ],
   "source": [
    "not (x and y)"
   ]
  },
  {
   "cell_type": "code",
   "execution_count": 3,
   "id": "6add6744",
   "metadata": {},
   "outputs": [
    {
     "name": "stdout",
     "output_type": "stream",
     "text": [
      "Some people dream of success while others wake up and work.\n"
     ]
    }
   ],
   "source": [
    "print(\"{4} {9} {1} {7} {5} {0} {6} {8} {3} {2}\".format('while', 'dream', 'work.', 'and', 'Some', 'success', 'others', 'of', 'wake up', 'people'))"
   ]
  },
  {
   "cell_type": "code",
   "execution_count": 5,
   "id": "0b6ce367",
   "metadata": {},
   "outputs": [
    {
     "name": "stdout",
     "output_type": "stream",
     "text": [
      "True\n"
     ]
    }
   ],
   "source": [
    "print(True or False)\n",
    "\n"
   ]
  },
  {
   "cell_type": "code",
   "execution_count": 9,
   "id": "1a162114",
   "metadata": {},
   "outputs": [
    {
     "name": "stdout",
     "output_type": "stream",
     "text": [
      "I will find a job. \n"
     ]
    }
   ],
   "source": [
    "print(\"{3} {2} {4} {1} {0} \".format('job.', 'a', 'will' , 'I' , 'find'))"
   ]
  },
  {
   "cell_type": "code",
   "execution_count": 10,
   "id": "7b118ed5",
   "metadata": {},
   "outputs": [
    {
     "name": "stdout",
     "output_type": "stream",
     "text": [
      "Python Data Types And Useful Operations\n"
     ]
    }
   ],
   "source": [
    "section_3_5 = \"python data types and useful operations\"\n",
    "print(str.title(section_3_5))"
   ]
  },
  {
   "cell_type": "code",
   "execution_count": null,
   "id": "854d29c0",
   "metadata": {},
   "outputs": [],
   "source": [
    "{0}\n",
    "or\n",
    "and\n",
    "[]\n",
    "False\n"
   ]
  },
  {
   "cell_type": "code",
   "execution_count": 18,
   "id": "5e3db305",
   "metadata": {},
   "outputs": [
    {
     "name": "stdout",
     "output_type": "stream",
     "text": [
      "[]\n"
     ]
    }
   ],
   "source": [
    "print({0} and False or [])"
   ]
  },
  {
   "cell_type": "code",
   "execution_count": 20,
   "id": "93be2831",
   "metadata": {},
   "outputs": [
    {
     "name": "stdout",
     "output_type": "stream",
     "text": [
      "Enter a number:2\n",
      "140140.0\n"
     ]
    }
   ],
   "source": [
    "print(float(\"140\" * int(input(\"Enter a number:\" ))))"
   ]
  },
  {
   "cell_type": "code",
   "execution_count": 22,
   "id": "e1d755a3",
   "metadata": {},
   "outputs": [
    {
     "name": "stdout",
     "output_type": "stream",
     "text": [
      "The less you sleep and eat, the better you life will be.\n"
     ]
    }
   ],
   "source": [
    "var1 = \"sleep\"\n",
    "var2 = \"eat\"\n",
    "var3 = \"better\"\n",
    "var4 = \"life\"\n",
    "text = f\"The less you {var1} and {var2}, the {var3} you {var4} will be.\"\n",
    "print(text)\n"
   ]
  },
  {
   "cell_type": "code",
   "execution_count": 26,
   "id": "852a69fc",
   "metadata": {},
   "outputs": [
    {
     "name": "stdout",
     "output_type": "stream",
     "text": [
      "I live in Sarajevo.\n"
     ]
    }
   ],
   "source": [
    "city = \"SARAJEVO.\"\n",
    "text = f\"{city.title()}\"\n",
    "print(\"I live in\", text)\n"
   ]
  },
  {
   "cell_type": "code",
   "execution_count": null,
   "id": "939805c1",
   "metadata": {},
   "outputs": [],
   "source": []
  }
 ],
 "metadata": {
  "kernelspec": {
   "display_name": "Python 3",
   "language": "python",
   "name": "python3"
  },
  "language_info": {
   "codemirror_mode": {
    "name": "ipython",
    "version": 3
   },
   "file_extension": ".py",
   "mimetype": "text/x-python",
   "name": "python",
   "nbconvert_exporter": "python",
   "pygments_lexer": "ipython3",
   "version": "3.8.8"
  }
 },
 "nbformat": 4,
 "nbformat_minor": 5
}
