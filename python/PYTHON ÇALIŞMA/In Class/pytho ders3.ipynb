{
 "cells": [
  {
   "cell_type": "code",
   "execution_count": 2,
   "id": "09e16bb4",
   "metadata": {},
   "outputs": [],
   "source": [
    "değişken = 10"
   ]
  },
  {
   "cell_type": "code",
   "execution_count": 3,
   "id": "a2146dca",
   "metadata": {},
   "outputs": [
    {
     "data": {
      "text/plain": [
       "4.0"
      ]
     },
     "execution_count": 3,
     "metadata": {},
     "output_type": "execute_result"
    }
   ],
   "source": [
    "a=(1+3)**(2**(1*2/2)/2)\n",
    "a"
   ]
  },
  {
   "cell_type": "code",
   "execution_count": 7,
   "id": "2c7ec1c1",
   "metadata": {},
   "outputs": [
    {
     "name": "stdout",
     "output_type": "stream",
     "text": [
      "A:5\n",
      "B:3\n",
      "Hipotenüs: 5.830951894845301\n"
     ]
    }
   ],
   "source": [
    "a = int(input(\"A:\"))\n",
    "b = int(input(\"B:\"))\n",
    "c = (a ** 2 + b ** 2) ** 0.5\n",
    "print(\"Hipotenüs:\",c)"
   ]
  },
  {
   "cell_type": "code",
   "execution_count": 12,
   "id": "afdfa361",
   "metadata": {},
   "outputs": [
    {
     "name": "stdout",
     "output_type": "stream",
     "text": [
      "12*22*False\n"
     ]
    }
   ],
   "source": [
    "print(12, \"22\", False,sep = \"*\")"
   ]
  },
  {
   "cell_type": "code",
   "execution_count": 17,
   "id": "fa81b60a",
   "metadata": {},
   "outputs": [
    {
     "name": "stdout",
     "output_type": "stream",
     "text": [
      "hayriye hayri\n"
     ]
    }
   ],
   "source": [
    "print(\"hayriye\", end = \" \")\n",
    "print(\"hayri\")"
   ]
  },
  {
   "cell_type": "code",
   "execution_count": 18,
   "id": "ccc7b064",
   "metadata": {},
   "outputs": [
    {
     "name": "stdout",
     "output_type": "stream",
     "text": [
      "hayriye ,\n",
      "hayri\n"
     ]
    }
   ],
   "source": [
    "print(\"hayriye\", \",\")\n",
    "print(\"hayri\")"
   ]
  },
  {
   "cell_type": "code",
   "execution_count": 28,
   "id": "eff75dcf",
   "metadata": {},
   "outputs": [
    {
     "name": "stdout",
     "output_type": "stream",
     "text": [
      "It\\\n",
      " fgdf\n"
     ]
    }
   ],
   "source": [
    "print('It\\\\\\n fgdf')"
   ]
  },
  {
   "cell_type": "code",
   "execution_count": 1,
   "id": "6b44d796",
   "metadata": {},
   "outputs": [
    {
     "name": "stdout",
     "output_type": "stream",
     "text": [
      "107\n",
      "Clarusway, Clarusway, Clarusway, \n",
      " \t Clarusway, Clarusway, Clarusway,\n",
      " \t \t Clarusway, Clarusway, Clarusway,\n"
     ]
    }
   ],
   "source": [
    "text = \"Clarusway, Clarusway, Clarusway, \\n \\t Clarusway, Clarusway, Clarusway,\\n \\t \\t Clarusway, Clarusway, Clarusway,\"\n",
    "print(len(text))\n",
    "print(text)"
   ]
  },
  {
   "cell_type": "code",
   "execution_count": 34,
   "id": "aa802893",
   "metadata": {},
   "outputs": [
    {
     "data": {
      "text/plain": [
       "58"
      ]
     },
     "execution_count": 34,
     "metadata": {},
     "output_type": "execute_result"
    }
   ],
   "source": [
    "text = \"Clarusway, Clarusway, Clarusway, \\n \\t Clarusway, Clarusway,\"\n",
    "len(text)"
   ]
  },
  {
   "cell_type": "code",
   "execution_count": 35,
   "id": "3c125806",
   "metadata": {},
   "outputs": [
    {
     "data": {
      "text/plain": [
       "0"
      ]
     },
     "execution_count": 35,
     "metadata": {},
     "output_type": "execute_result"
    }
   ],
   "source": [
    "1 and 0"
   ]
  },
  {
   "cell_type": "code",
   "execution_count": 44,
   "id": "6e8ee19c",
   "metadata": {},
   "outputs": [
    {
     "data": {
      "text/plain": [
       "2"
      ]
     },
     "execution_count": 44,
     "metadata": {},
     "output_type": "execute_result"
    }
   ],
   "source": [
    "2 or 5"
   ]
  },
  {
   "cell_type": "code",
   "execution_count": 39,
   "id": "b8ab8a4a",
   "metadata": {},
   "outputs": [
    {
     "data": {
      "text/plain": [
       "0"
      ]
     },
     "execution_count": 39,
     "metadata": {},
     "output_type": "execute_result"
    }
   ],
   "source": [
    "0 and 5"
   ]
  },
  {
   "cell_type": "code",
   "execution_count": 40,
   "id": "7bc4b8a9",
   "metadata": {},
   "outputs": [
    {
     "data": {
      "text/plain": [
       "False"
      ]
     },
     "execution_count": 40,
     "metadata": {},
     "output_type": "execute_result"
    }
   ],
   "source": [
    "bool(\"\")"
   ]
  },
  {
   "cell_type": "code",
   "execution_count": 41,
   "id": "f042f89f",
   "metadata": {},
   "outputs": [
    {
     "data": {
      "text/plain": [
       "True"
      ]
     },
     "execution_count": 41,
     "metadata": {},
     "output_type": "execute_result"
    }
   ],
   "source": [
    "bool(1 and 5)"
   ]
  },
  {
   "cell_type": "code",
   "execution_count": 42,
   "id": "d0176116",
   "metadata": {},
   "outputs": [
    {
     "data": {
      "text/plain": [
       "True"
      ]
     },
     "execution_count": 42,
     "metadata": {},
     "output_type": "execute_result"
    }
   ],
   "source": [
    "bool(5)"
   ]
  },
  {
   "cell_type": "code",
   "execution_count": 43,
   "id": "3a559915",
   "metadata": {},
   "outputs": [
    {
     "name": "stdout",
     "output_type": "stream",
     "text": [
      "None\n"
     ]
    }
   ],
   "source": [
    "print(None and ())"
   ]
  },
  {
   "cell_type": "code",
   "execution_count": null,
   "id": "94a7cc9e",
   "metadata": {},
   "outputs": [],
   "source": [
    "sicaklik = input(\"lütfen sıcaklığı giriniz...\")\n",
    "birim = int(input(\"Eğer Fahrenheit olarak girdiyseniz 1, celcius olarak girdiyseniz 2 yazınız...\"))\n",
    "print(sicaklik)\n",
    "print(birim)\n",
    "sonuc = float(sicaklik) * 1.8 + 32\n",
    "sonuc2 = (float(sicaklik) - 32) /1.8\n",
    "if birim == 1 : print(sonuc2)\n",
    "elif birim == 2 :   print(sonuc)\n",
    "else : print(\"Yanlış değer girdiniz. Lütfen Fahrenheit olarak girdiyseniz 1\\n celcius olarak girdiyseniz 2 yazınız...\")"
   ]
  },
  {
   "cell_type": "code",
   "execution_count": 7,
   "id": "3588e106",
   "metadata": {},
   "outputs": [
    {
     "name": "stdout",
     "output_type": "stream",
     "text": [
      "Input the  temperature you like to convert? (e.g., 45F, 102C etc.) : 55f\n",
      "The temperature in Celsius is 13 degrees.\n"
     ]
    }
   ],
   "source": [
    "temp = input(\"Input the  temperature you like to convert? (e.g., 45F, 102C etc.) : \")\n",
    "degree = int(temp[:-1])\n",
    "i_convention = temp[-1]\n",
    "\n",
    "if i_convention.upper() == \"C\":\n",
    "  result = int(round((9 * degree) / 5 + 32))\n",
    "  o_convention = \"Fahrenheit\"\n",
    "elif i_convention.upper() == \"F\":\n",
    "  result = int(round((degree - 32) * 5 / 9))\n",
    "  o_convention = \"Celsius\"\n",
    "else:\n",
    "  print(\"Input proper convention.\")\n",
    "  quit()\n",
    "print(\"The temperature in\", o_convention, \"is\", result, \"degrees.\")"
   ]
  },
  {
   "cell_type": "code",
   "execution_count": null,
   "id": "82d48b14",
   "metadata": {},
   "outputs": [],
   "source": [
    "print(\"Enter your name:\")\n",
    "x = input()\n",
    "print(\"Hello, \" + x)"
   ]
  },
  {
   "cell_type": "code",
   "execution_count": 13,
   "id": "2ff2d822",
   "metadata": {},
   "outputs": [
    {
     "name": "stdout",
     "output_type": "stream",
     "text": [
      "1 \n"
     ]
    }
   ],
   "source": [
    "a = \"1 \"\n",
    "b = \"False\"\n",
    "c = True\n",
    "d = \"\"\n",
    "print(a or b or c and not d)"
   ]
  },
  {
   "cell_type": "code",
   "execution_count": 4,
   "id": "e72a6882",
   "metadata": {},
   "outputs": [
    {
     "data": {
      "text/plain": [
       "True"
      ]
     },
     "execution_count": 4,
     "metadata": {},
     "output_type": "execute_result"
    }
   ],
   "source": [
    "#For example, suppose b = 5 and c = 10 and a program encounters this line:\n",
    "\n",
    "not True or b < 10 and c != 5"
   ]
  },
  {
   "cell_type": "code",
   "execution_count": 10,
   "id": "afb9f0e0",
   "metadata": {},
   "outputs": [
    {
     "data": {
      "text/plain": [
       "False"
      ]
     },
     "execution_count": 10,
     "metadata": {},
     "output_type": "execute_result"
    }
   ],
   "source": [
    "#For example, suppose b = 5 and c = 10 and a program encounters this line:\n",
    "\n",
    "not (True == (not True or b < 10 and c != 5))"
   ]
  },
  {
   "cell_type": "code",
   "execution_count": null,
   "id": "2d30eed0",
   "metadata": {},
   "outputs": [],
   "source": []
  }
 ],
 "metadata": {
  "kernelspec": {
   "display_name": "Python 3",
   "language": "python",
   "name": "python3"
  },
  "language_info": {
   "codemirror_mode": {
    "name": "ipython",
    "version": 3
   },
   "file_extension": ".py",
   "mimetype": "text/x-python",
   "name": "python",
   "nbconvert_exporter": "python",
   "pygments_lexer": "ipython3",
   "version": "3.8.8"
  }
 },
 "nbformat": 4,
 "nbformat_minor": 5
}
