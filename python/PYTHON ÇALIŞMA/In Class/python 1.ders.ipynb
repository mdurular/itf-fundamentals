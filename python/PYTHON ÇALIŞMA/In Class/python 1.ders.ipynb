{
 "cells": [
  {
   "cell_type": "code",
   "execution_count": 5,
   "id": "117bf0da",
   "metadata": {},
   "outputs": [
    {
     "name": "stdout",
     "output_type": "stream",
     "text": [
      "-6\n"
     ]
    }
   ],
   "source": [
    "no1, no2 = 46, 52\n",
    "no3 = no1 - no2\n",
    "print(no3)"
   ]
  },
  {
   "cell_type": "markdown",
   "id": "9b429680",
   "metadata": {},
   "source": [
    "# gasdkgja şlktj"
   ]
  },
  {
   "cell_type": "code",
   "execution_count": 2,
   "id": "6f3b3a85",
   "metadata": {},
   "outputs": [
    {
     "name": "stdout",
     "output_type": "stream",
     "text": [
      "2.0\n"
     ]
    }
   ],
   "source": [
    "no1 = 46\n",
    "print(no1/23)  # division gives float"
   ]
  },
  {
   "cell_type": "code",
   "execution_count": 7,
   "id": "2739c022",
   "metadata": {},
   "outputs": [
    {
     "name": "stdout",
     "output_type": "stream",
     "text": [
      "i will say 'i missed you' to my mother\n"
     ]
    }
   ],
   "source": [
    "print('i', end=' ')\n",
    "print('will say', end=' ')\n",
    "print(\"'i missed you'\", end=' ')\n",
    "print('to my mother') \n"
   ]
  },
  {
   "cell_type": "code",
   "execution_count": 10,
   "id": "0cff4b39",
   "metadata": {},
   "outputs": [
    {
     "name": "stdout",
     "output_type": "stream",
     "text": [
      "smoking \n",
      " is \n",
      " slowly \n",
      " killing me\n"
     ]
    }
   ],
   "source": [
    "print('smoking', 'is', 'slowly', 'killing me', sep=' \\n ')"
   ]
  },
  {
   "cell_type": "code",
   "execution_count": null,
   "id": "f60a16f4",
   "metadata": {},
   "outputs": [],
   "source": []
  },
  {
   "cell_type": "code",
   "execution_count": 10,
   "id": "8244b814",
   "metadata": {},
   "outputs": [
    {
     "name": "stdout",
     "output_type": "stream",
     "text": [
      "smoking \n",
      " is \n",
      " slowly \n",
      " killing me\n"
     ]
    }
   ],
   "source": [
    "print('smoking', 'is', 'slowly', 'killing me', sep=' \\n ')"
   ]
  },
  {
   "cell_type": "code",
   "execution_count": 7,
   "id": "4ea45c05",
   "metadata": {},
   "outputs": [
    {
     "data": {
      "text/plain": [
       "<function print>"
      ]
     },
     "execution_count": 7,
     "metadata": {},
     "output_type": "execute_result"
    }
   ],
   "source": []
  },
  {
   "cell_type": "code",
   "execution_count": 10,
   "id": "f127243d",
   "metadata": {},
   "outputs": [
    {
     "name": "stdout",
     "output_type": "stream",
     "text": [
      "smoking \n",
      " is \n",
      " slowly \n",
      " killing me\n"
     ]
    }
   ],
   "source": [
    "print('smoking', 'is', 'slowly', 'killing me', sep=' \\n ')"
   ]
  },
  {
   "cell_type": "code",
   "execution_count": null,
   "id": "623219b7",
   "metadata": {},
   "outputs": [],
   "source": []
  },
  {
   "cell_type": "code",
   "execution_count": null,
   "id": "e2d54be2",
   "metadata": {},
   "outputs": [],
   "source": []
  },
  {
   "cell_type": "code",
   "execution_count": null,
   "id": "465006c9",
   "metadata": {},
   "outputs": [],
   "source": []
  }
 ],
 "metadata": {
  "kernelspec": {
   "display_name": "Python 3",
   "language": "python",
   "name": "python3"
  },
  "language_info": {
   "codemirror_mode": {
    "name": "ipython",
    "version": 3
   },
   "file_extension": ".py",
   "mimetype": "text/x-python",
   "name": "python",
   "nbconvert_exporter": "python",
   "pygments_lexer": "ipython3",
   "version": "3.8.8"
  }
 },
 "nbformat": 4,
 "nbformat_minor": 5
}
