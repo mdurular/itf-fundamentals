{
 "cells": [
  {
   "cell_type": "code",
   "execution_count": 1,
   "id": "6182b220",
   "metadata": {},
   "outputs": [],
   "source": [
    "minced =True\n",
    "bread =True\n",
    "#green\n",
    "lettuce = True\n",
    "onion = True\n",
    "grocer =True\n"
   ]
  },
  {
   "cell_type": "code",
   "execution_count": 2,
   "id": "11aecdb5",
   "metadata": {},
   "outputs": [],
   "source": [
    "hamburger = (minced and grocer and bread and (lettuce or onion))"
   ]
  },
  {
   "cell_type": "code",
   "execution_count": 3,
   "id": "76cb48c9",
   "metadata": {},
   "outputs": [
    {
     "name": "stdout",
     "output_type": "stream",
     "text": [
      "Bon Appetit!\n"
     ]
    }
   ],
   "source": [
    "if hamburger :\n",
    "    print(\"Bon Appetit!\")"
   ]
  },
  {
   "cell_type": "code",
   "execution_count": 6,
   "id": "a9fc2db4",
   "metadata": {},
   "outputs": [
    {
     "name": "stdout",
     "output_type": "stream",
     "text": [
      "We are the same!\n"
     ]
    }
   ],
   "source": [
    "a = set('TWELVE PLUS ONE')\n",
    "b = set('ELEVEN PLUS TWO')\n",
    "if a==b :\n",
    "    print(\"We are the same!\")"
   ]
  },
  {
   "cell_type": "code",
   "execution_count": 19,
   "id": "db0e85ac",
   "metadata": {},
   "outputs": [
    {
     "name": "stdout",
     "output_type": "stream",
     "text": [
      "write Yes or Noyes\n",
      "You entered True\n"
     ]
    }
   ],
   "source": [
    "a = input(\"write Yes or No\").lower()\n",
    "            \n",
    "print((a == \"yes\")* \"You entered True\")\n"
   ]
  },
  {
   "cell_type": "code",
   "execution_count": 26,
   "id": "114e906c",
   "metadata": {},
   "outputs": [
    {
     "name": "stdout",
     "output_type": "stream",
     "text": [
      "Enter a number: 10\n",
      "10 is Even number\n"
     ]
    }
   ],
   "source": [
    "number = int(input(\"Enter a number: \"))\n",
    "if (number % 2) == 0:\n",
    "    print(\"{} is Even number\". format(number))\n",
    "else:\n",
    "    print(\"{} is Odd number\". format(number))"
   ]
  },
  {
   "cell_type": "code",
   "execution_count": 9,
   "id": "cbcaec9e",
   "metadata": {},
   "outputs": [
    {
     "name": "stdout",
     "output_type": "stream",
     "text": [
      "write a number :  10\n",
      "This number is a positive\n"
     ]
    }
   ],
   "source": [
    "number = int(input(\"write a number :  \"))\n",
    "if number > 0:\n",
    "    print(\"This number is a positive\")\n",
    "elif number<0:\n",
    "    print(\"This number is a negative\")\n",
    "else:\n",
    "    print(\"This number is a ZERO\")"
   ]
  },
  {
   "cell_type": "code",
   "execution_count": 10,
   "id": "5e85784e",
   "metadata": {},
   "outputs": [
    {
     "name": "stdout",
     "output_type": "stream",
     "text": [
      "enter the first number10\n",
      "enter the second number20\n",
      "The large number is 20.0\n"
     ]
    }
   ],
   "source": [
    "num1 = float(input(\"enter the first number\"))\n",
    "num2 = float(input(\"enter the second number\"))\n",
    "if num1 > num2 :\n",
    "    print(\"The large number is\", num1)\n",
    "else:\n",
    "    print(\"The large number is\", num2)"
   ]
  },
  {
   "cell_type": "code",
   "execution_count": 12,
   "id": "ee90d30d",
   "metadata": {},
   "outputs": [
    {
     "name": "stdout",
     "output_type": "stream",
     "text": [
      "No\n"
     ]
    }
   ],
   "source": [
    "bool_value=False\n",
    "if bool_value:\n",
    "    print(\"Yes\")\n",
    "else :\n",
    "    print (\"No\")"
   ]
  },
  {
   "cell_type": "code",
   "execution_count": 20,
   "id": "ea320cb2",
   "metadata": {},
   "outputs": [
    {
     "name": "stdout",
     "output_type": "stream",
     "text": [
      "write number1 :20\n",
      "write number1 :10\n",
      "write number1 :5\n",
      "The Largest Number is 20.0\n"
     ]
    }
   ],
   "source": [
    "num1 = float(input(\"write number1 :\"))\n",
    "num2 = float(input(\"write number1 :\"))\n",
    "num3 = float(input(\"write number1 :\"))\n",
    "\n",
    "if num1 > num2 and num1 > num3 :\n",
    "     Largest = num1\n",
    "elif num2 > num1 and num2 > num3:\n",
    "    Largest = num2\n",
    "else:\n",
    "    Largest = num3\n",
    "print(\"The Largest Number is\", Largest)"
   ]
  },
  {
   "cell_type": "code",
   "execution_count": 21,
   "id": "9d16bce5",
   "metadata": {},
   "outputs": [
    {
     "name": "stdout",
     "output_type": "stream",
     "text": [
      "write a number :  0\n",
      "This number is a ZERO\n"
     ]
    }
   ],
   "source": [
    "number = int(input(\"write a number :  \"))\n",
    "if number > 0:\n",
    "    print(\"This number is a positive\")\n",
    "elif number<0:\n",
    "    print(\"This number is a negative\")\n",
    "else:\n",
    "    print(\"This number is a ZERO\")"
   ]
  },
  {
   "cell_type": "code",
   "execution_count": 11,
   "id": "ad28d56b",
   "metadata": {},
   "outputs": [
    {
     "name": "stdout",
     "output_type": "stream",
     "text": [
      "outside of while\n"
     ]
    }
   ],
   "source": [
    "while []:\n",
    "    print(\"while\")\n",
    "print(\"outside of while\")"
   ]
  },
  {
   "cell_type": "code",
   "execution_count": 12,
   "id": "0e9f27e2",
   "metadata": {},
   "outputs": [
    {
     "data": {
      "text/plain": [
       "False"
      ]
     },
     "execution_count": 12,
     "metadata": {},
     "output_type": "execute_result"
    }
   ],
   "source": [
    "\"-16\".isdigit()"
   ]
  },
  {
   "cell_type": "code",
   "execution_count": 13,
   "id": "67c3e9ea",
   "metadata": {},
   "outputs": [
    {
     "data": {
      "text/plain": [
       "True"
      ]
     },
     "execution_count": 13,
     "metadata": {},
     "output_type": "execute_result"
    }
   ],
   "source": [
    "\"123456789\".isdigit()"
   ]
  },
  {
   "cell_type": "code",
   "execution_count": 19,
   "id": "01d55ce8",
   "metadata": {},
   "outputs": [
    {
     "name": "stdout",
     "output_type": "stream",
     "text": [
      "enter your age in correct format : 22\n",
      "your age is : 22\n"
     ]
    }
   ],
   "source": [
    "age = input(\"enter your age in correct format : \")\n",
    "while not age.isdigit():\n",
    "    print(\"You entered incorrect.! Write out correct format\")\n",
    "    age = input(\"enter your age in correct format : \")\n",
    "print (\"your age is :\", age)"
   ]
  },
  {
   "cell_type": "code",
   "execution_count": 38,
   "id": "4f1b3420",
   "metadata": {},
   "outputs": [
    {
     "name": "stdout",
     "output_type": "stream",
     "text": [
      "Let's play the guessing game!\n",
      "What number am I thinking of?  45\n",
      "Little lower\n",
      "What number am I thinking of?  46\n",
      "Little lower\n",
      "What number am I thinking of?  74\n",
      "Little lower\n",
      "What number am I thinking of?  44\n",
      "Are you a MINDREADER!!!\n"
     ]
    }
   ],
   "source": [
    "answer = 44\n",
    "\n",
    "question = 'What number am I thinking of?  '\n",
    "print (\"Let's play the guessing game!\")\n",
    "\n",
    "while True:\n",
    "    guess = int(input(question))\n",
    "\n",
    "    if guess < answer:\n",
    "        print('Little higher')\n",
    "    elif guess > answer:\n",
    "        print('Little lower')\n",
    "    else:  # guess == answer\n",
    "        print('Are you a MINDREADER!!!')\n",
    "        break # else şartı gerçekleştiğinde döngüyü durdurur. "
   ]
  },
  {
   "cell_type": "code",
   "execution_count": 53,
   "id": "bcaa0228",
   "metadata": {},
   "outputs": [
    {
     "name": "stdout",
     "output_type": "stream",
     "text": [
      "Enter a sentence here : sdfasfa asdfa sfas\n",
      "sdfasfa asdfa sfas\n",
      "The longest word's len is 7\n"
     ]
    }
   ],
   "source": [
    "sentence = input('Enter a sentence here : ')\n",
    "list_1 = sentence.split()\n",
    "counter = 0\n",
    "len1 = 0 \n",
    "longest = 0\n",
    "while counter < len(list_1):\n",
    "    len1 = len(list_1[counter])\n",
    "    counter += 1\n",
    "    if len1 > longest:\n",
    "        longest = len1\n",
    "print(sentence)\n",
    "print(\"The longest word's len is\", longest)"
   ]
  },
  {
   "cell_type": "code",
   "execution_count": 55,
   "id": "91d4b506",
   "metadata": {},
   "outputs": [
    {
     "name": "stdout",
     "output_type": "stream",
     "text": [
      "Hello Ahmed\n",
      "Hello Aisha\n",
      "Hello Adam\n",
      "Hello Joseph\n",
      "Hello Gabriel\n"
     ]
    }
   ],
   "source": [
    "names = [\"Ahmed\", \"Aisha\", \"Adam\", \"Joseph\", \"Gabriel\"]\n",
    "for name in names:\n",
    "    print(\"Hello {}\".format(name))"
   ]
  },
  {
   "cell_type": "code",
   "execution_count": 59,
   "id": "8da90f41",
   "metadata": {},
   "outputs": [
    {
     "name": "stdout",
     "output_type": "stream",
     "text": [
      "[1, 2, 3, 4, 5]\n"
     ]
    }
   ],
   "source": [
    "liste = []\n",
    "for i in range(1,6) :\n",
    "    liste.append(i)\n",
    "print(liste)"
   ]
  },
  {
   "cell_type": "code",
   "execution_count": 109,
   "id": "ff41917e",
   "metadata": {},
   "outputs": [
    {
     "name": "stdout",
     "output_type": "stream",
     "text": [
      "C-l-a-r-u-s-w-a-y"
     ]
    }
   ],
   "source": [
    "word = \"Clarusway\"\n",
    "count = 0\n",
    "for i in word:\n",
    "    count+=1\n",
    "    if count<len(word):\n",
    "        i = i + \"-\"\n",
    "    print(i, end = \"\")"
   ]
  },
  {
   "cell_type": "code",
   "execution_count": 112,
   "id": "6d5a07ee",
   "metadata": {},
   "outputs": [
    {
     "name": "stdout",
     "output_type": "stream",
     "text": [
      "('section', 5)\n",
      "('topic', 2)\n"
     ]
    }
   ],
   "source": [
    "sample_list = {\"section\":5, \"topic\":2}\n",
    "for i in sample_list.items():\n",
    "    print(i)"
   ]
  },
  {
   "cell_type": "code",
   "execution_count": 113,
   "id": "53c839ef",
   "metadata": {},
   "outputs": [
    {
     "name": "stdout",
     "output_type": "stream",
     "text": [
      "1\n",
      "22\n",
      "333\n",
      "4444\n",
      "55555\n",
      "666666\n",
      "7777777\n",
      "88888888\n",
      "999999999\n"
     ]
    }
   ],
   "source": [
    "for i in range(1,10):\n",
    "    print(str(i) * i)"
   ]
  },
  {
   "cell_type": "code",
   "execution_count": 117,
   "id": "dedf1325",
   "metadata": {},
   "outputs": [
    {
     "name": "stdout",
     "output_type": "stream",
     "text": [
      "one 1\n",
      "two 2\n",
      "three 3\n",
      "four 4\n",
      "five 5\n"
     ]
    }
   ],
   "source": [
    "text = ['one','two','three','four','five']\n",
    "numbers = [1, 2, 3, 4, 5]\n",
    "for x, y in zip(text, numbers):\n",
    "    print(x,  y)"
   ]
  },
  {
   "cell_type": "code",
   "execution_count": 5,
   "id": "079210eb",
   "metadata": {},
   "outputs": [
    {
     "name": "stdout",
     "output_type": "stream",
     "text": [
      "The Number of even numbers:  3\n",
      "The Number of odds numbers:  4\n"
     ]
    }
   ],
   "source": [
    "evens =[]\n",
    "odds=[]\n",
    "exm_list=[11,2,24,61,48,33,3]\n",
    "for i in exm_list:\n",
    "        if i % 2 == 0: \n",
    "            evens.append(i)\n",
    "        else:\n",
    "            odds.append(i)\n",
    "print(\"The Number of even numbers: \", len(evens))\n",
    "print(\"The Number of odds numbers: \", len(odds))"
   ]
  },
  {
   "cell_type": "code",
   "execution_count": 9,
   "id": "09a69f1d",
   "metadata": {},
   "outputs": [
    {
     "name": "stdout",
     "output_type": "stream",
     "text": [
      "2775\n"
     ]
    }
   ],
   "source": [
    "a=0\n",
    "for i in range(1,75):\n",
    "    a+=i\n",
    "print(a)"
   ]
  },
  {
   "cell_type": "code",
   "execution_count": 18,
   "id": "92bb82b0",
   "metadata": {},
   "outputs": [
    {
     "name": "stdout",
     "output_type": "stream",
     "text": [
      "2775\n"
     ]
    }
   ],
   "source": [
    "a=0\n",
    "i=0\n",
    "while i<=74:\n",
    "    a+=i\n",
    "    i+=1\n",
    "print(a)"
   ]
  },
  {
   "cell_type": "code",
   "execution_count": 20,
   "id": "0a8d1674",
   "metadata": {},
   "outputs": [
    {
     "name": "stdout",
     "output_type": "stream",
     "text": [
      "susan is happy\n",
      "susan is sad\n",
      "tom is happy\n",
      "tom is sad\n",
      "edward is happy\n",
      "edward is sad\n"
     ]
    }
   ],
   "source": [
    "names = [\"susan\", \"tom\", \"edward\"] \n",
    "mood = [\"happy\", \"sad\"]\n",
    "for i in names:\n",
    "    for ii in mood:\n",
    "        print(i, \"is\", ii)"
   ]
  },
  {
   "cell_type": "code",
   "execution_count": 21,
   "id": "09eecf8f",
   "metadata": {},
   "outputs": [
    {
     "data": {
      "text/plain": [
       "[0, 1, 2, 3, 4]"
      ]
     },
     "execution_count": 21,
     "metadata": {},
     "output_type": "execute_result"
    }
   ],
   "source": [
    "listem=[]\n",
    "for i in range (5):\n",
    "    listem.append(i)\n",
    "listem"
   ]
  },
  {
   "attachments": {
    "image.png": {
     "image/png": "[encoded data removed]"
    }
   },
   "cell_type": "markdown",
   "id": "622a7559",
   "metadata": {},
   "source": [
    "![image.png](attachment:image.png)"
   ]
  },
  {
   "cell_type": "code",
   "execution_count": 27,
   "id": "0a298a4a",
   "metadata": {},
   "outputs": [
    {
     "name": "stdout",
     "output_type": "stream",
     "text": [
      "[0, 1, 2, 3, 4]\n"
     ]
    }
   ],
   "source": [
    "[i for i in range(5)]"
   ]
  },
  {
   "cell_type": "code",
   "execution_count": 28,
   "id": "dc21e5af",
   "metadata": {},
   "outputs": [
    {
     "data": {
      "text/plain": [
       "[0, 1, 4, 9, 16]"
      ]
     },
     "execution_count": 28,
     "metadata": {},
     "output_type": "execute_result"
    }
   ],
   "source": [
    "[i**2 for i in range(5)]"
   ]
  },
  {
   "attachments": {
    "image.png": {
     "image/png": "[encoded data removed]"
    }
   },
   "cell_type": "markdown",
   "id": "3f9f0377",
   "metadata": {},
   "source": [
    "![image.png](attachment:image.png)"
   ]
  },
  {
   "cell_type": "code",
   "execution_count": 29,
   "id": "3a51c264",
   "metadata": {},
   "outputs": [
    {
     "data": {
      "text/plain": [
       "1"
      ]
     },
     "execution_count": 29,
     "metadata": {},
     "output_type": "execute_result"
    }
   ],
   "source": [
    "condition = True\n",
    "1 if condition else 0"
   ]
  },
  {
   "cell_type": "code",
   "execution_count": 30,
   "id": "f79985ff",
   "metadata": {},
   "outputs": [
    {
     "name": "stdout",
     "output_type": "stream",
     "text": [
      "0\n"
     ]
    }
   ],
   "source": [
    "print(1 if False else 0)"
   ]
  },
  {
   "cell_type": "code",
   "execution_count": 34,
   "id": "d993cbdf",
   "metadata": {},
   "outputs": [
    {
     "data": {
      "text/plain": [
       "[1, 9, 25]"
      ]
     },
     "execution_count": 34,
     "metadata": {},
     "output_type": "execute_result"
    }
   ],
   "source": [
    "listem =[1,2,3,4,5,6]\n",
    "[i**2 for i in listem if  i%2]"
   ]
  },
  {
   "cell_type": "code",
   "execution_count": null,
   "id": "e32036e9",
   "metadata": {},
   "outputs": [],
   "source": []
  }
 ],
 "metadata": {
  "kernelspec": {
   "display_name": "Python 3",
   "language": "python",
   "name": "python3"
  },
  "language_info": {
   "codemirror_mode": {
    "name": "ipython",
    "version": 3
   },
   "file_extension": ".py",
   "mimetype": "text/x-python",
   "name": "python",
   "nbconvert_exporter": "python",
   "pygments_lexer": "ipython3",
   "version": "3.8.8"
  }
 },
 "nbformat": 4,
 "nbformat_minor": 5
}
