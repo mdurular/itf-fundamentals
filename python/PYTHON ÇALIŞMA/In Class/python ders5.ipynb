{
 "cells": [
  {
   "cell_type": "code",
   "execution_count": 4,
   "id": "e3b69edc",
   "metadata": {},
   "outputs": [],
   "source": [
    "kadayıf = True\n",
    "# iç\n",
    "fındık = True\n",
    "fıstık = True\n",
    "ceviz = True\n",
    "#şerbet\n",
    "su = True\n",
    "şeker = True\n",
    "\n",
    "yumurta = True\n",
    "\n",
    "#içecek \n",
    "cay = True\n",
    "limonata = True\n",
    "meşrubat = True"
   ]
  },
  {
   "cell_type": "code",
   "execution_count": 6,
   "id": "cd3926ff",
   "metadata": {},
   "outputs": [
    {
     "data": {
      "text/plain": [
       "True"
      ]
     },
     "execution_count": 6,
     "metadata": {},
     "output_type": "execute_result"
    }
   ],
   "source": [
    "yedim = (cay or limonata or meşrubat) and (su and şeker) and (fıstık or fındık or ceviz) and kadayıf\n",
    "yedim"
   ]
  },
  {
   "cell_type": "code",
   "execution_count": 14,
   "id": "1f58ef1c",
   "metadata": {},
   "outputs": [
    {
     "name": "stdout",
     "output_type": "stream",
     "text": [
      "\"\n"
     ]
    }
   ],
   "source": [
    "print(\"\\\"\")"
   ]
  },
  {
   "cell_type": "code",
   "execution_count": 21,
   "id": "0070468b",
   "metadata": {},
   "outputs": [
    {
     "name": "stdout",
     "output_type": "stream",
     "text": [
      "Word                   :  Orange\n",
      "First letter           :  O\n",
      "Second letter          :  r\n",
      "3rd to 5th letters     :  ang\n",
      "Letter all after 3rd   :  ange\n"
     ]
    }
   ],
   "source": [
    "fruit = 'Orange'\n",
    "\n",
    "print('Word                   : ' , fruit)\n",
    "print('First letter           : ' , fruit[0])\n",
    "print('Second letter          : ' , fruit[1])\n",
    "print(\"3rd to 5th letters     : \" , fruit[2:5])\n",
    "print(\"Letter all after 3rd   : \" , fruit[2:])"
   ]
  },
  {
   "cell_type": "code",
   "execution_count": 30,
   "id": "70f15831",
   "metadata": {
    "scrolled": true
   },
   "outputs": [
    {
     "name": "stdout",
     "output_type": "stream",
     "text": [
      "ippopotamus\n",
      "hippop\n",
      "hpooau\n",
      "ipp\n",
      "mus\n",
      "sumatopoppih\n"
     ]
    }
   ],
   "source": [
    "city = 'hippopotamus'\n",
    "\n",
    "print(city[1:])  # starts from index 1 to the end\n",
    "print(city[:6])  # starts from zero to 5th index\n",
    "print(city[::2])  # starts from zero to end by 2 step\n",
    "print(city[1:7:2])  # starts from index 1 to the end by 2 step\n",
    "print(city[-3:])  # starts from index -3 to the end\n",
    "print(city[::-1])  # negative step starts from the end to zero"
   ]
  },
  {
   "cell_type": "code",
   "execution_count": 25,
   "id": "c362d2e4",
   "metadata": {},
   "outputs": [
    {
     "name": "stdout",
     "output_type": "stream",
     "text": [
      "ran\n"
     ]
    }
   ],
   "source": [
    "print(fruit[-5:-2])"
   ]
  },
  {
   "cell_type": "code",
   "execution_count": 31,
   "id": "4ae36875",
   "metadata": {},
   "outputs": [
    {
     "data": {
      "text/plain": [
       "'hippopotamus'"
      ]
     },
     "execution_count": 31,
     "metadata": {},
     "output_type": "execute_result"
    }
   ],
   "source": [
    "hayvan = 'hippopotamus'\n",
    "hayvan"
   ]
  },
  {
   "cell_type": "code",
   "execution_count": 33,
   "id": "898b6eb1",
   "metadata": {},
   "outputs": [
    {
     "data": {
      "text/plain": [
       "''"
      ]
     },
     "execution_count": 33,
     "metadata": {},
     "output_type": "execute_result"
    }
   ],
   "source": [
    "hayvan[-2:-5]"
   ]
  },
  {
   "cell_type": "code",
   "execution_count": 39,
   "id": "ea0876f1",
   "metadata": {
    "scrolled": true
   },
   "outputs": [
    {
     "name": "stdout",
     "output_type": "stream",
     "text": [
      "u p p e r\n"
     ]
    }
   ],
   "source": [
    "print(* 'upper')"
   ]
  },
  {
   "cell_type": "code",
   "execution_count": 41,
   "id": "84159726",
   "metadata": {},
   "outputs": [
    {
     "data": {
      "text/plain": [
       "'joseph@clarusway.com'"
      ]
     },
     "execution_count": 41,
     "metadata": {},
     "output_type": "execute_result"
    }
   ],
   "source": [
    "string_1 = 'I am angry...'\n",
    "string_2 = '1453'\n",
    "'joseph@clarusway.com'"
   ]
  },
  {
   "cell_type": "code",
   "execution_count": 6,
   "id": "5e327d5e",
   "metadata": {},
   "outputs": [
    {
     "name": "stdout",
     "output_type": "stream",
     "text": [
      "['b', 'c', 'e ', 'k', 't', 'z']\n"
     ]
    }
   ],
   "source": [
    "x = [\"t\", \"k\", \"z\", \"c\", \"b\", \"e \"]\n",
    "x.sort()\n",
    "print(x)"
   ]
  },
  {
   "cell_type": "code",
   "execution_count": 14,
   "id": "cc6ea4af",
   "metadata": {},
   "outputs": [],
   "source": [
    "x = [\"t\", \"k\", \"z\", \"c\", \"b\", \"e \"]\n",
    "y = x.sort()\n",
    "y"
   ]
  },
  {
   "cell_type": "code",
   "execution_count": 13,
   "id": "58e60ecd",
   "metadata": {},
   "outputs": [
    {
     "data": {
      "text/plain": [
       "['b', 'c', 'e ', 'k', 't', 'z']"
      ]
     },
     "execution_count": 13,
     "metadata": {},
     "output_type": "execute_result"
    }
   ],
   "source": [
    "y"
   ]
  },
  {
   "cell_type": "code",
   "execution_count": 2,
   "id": "29c0f393",
   "metadata": {},
   "outputs": [
    {
     "name": "stdout",
     "output_type": "stream",
     "text": [
      "My name is Mariam\n"
     ]
    }
   ],
   "source": [
    "name = \"MARIAM\"\n",
    "print(f\"My name is {name.capitalize()}\")"
   ]
  },
  {
   "cell_type": "code",
   "execution_count": 4,
   "id": "4b46e59c",
   "metadata": {},
   "outputs": [
    {
     "name": "stdout",
     "output_type": "stream",
     "text": [
      "Susan is a young lady and she is a student at the CLRW IT university.\n"
     ]
    }
   ],
   "source": [
    "name = \"Susan\"\n",
    "age = \"young\"\n",
    "gender = \"lady\"\n",
    "school = \"CLRW IT university.\"\n",
    "message = f\"{name} is a {age} \" \\\n",
    "          f\"{gender} and she is a student \" \\\n",
    "          f\"at the {school}\"\n",
    "\n",
    "print(message)"
   ]
  },
  {
   "cell_type": "code",
   "execution_count": 5,
   "id": "5cf3d167",
   "metadata": {},
   "outputs": [
    {
     "name": "stdout",
     "output_type": "stream",
     "text": [
      "Hello! I am a new programmer and I love Clarusway.\n"
     ]
    }
   ],
   "source": [
    "text = \"{}! I am a {} programmer and I {} Clarusway.\".format(\"Hello\", \"new\", \"love\")\n",
    "print(text)"
   ]
  },
  {
   "cell_type": "code",
   "execution_count": 8,
   "id": "10c48cdb",
   "metadata": {},
   "outputs": [
    {
     "name": "stdout",
     "output_type": "stream",
     "text": [
      "I live in Sarajevo\n"
     ]
    }
   ],
   "source": [
    "city = \"SARAJEVO\"\n",
    "print(f\"I live in {city.capitalize()}\")"
   ]
  },
  {
   "cell_type": "code",
   "execution_count": 13,
   "id": "6f6f7e80",
   "metadata": {},
   "outputs": [
    {
     "name": "stdout",
     "output_type": "stream",
     "text": [
      "clausway\n"
     ]
    }
   ],
   "source": [
    "word = 'clarusway'\n",
    "n = 3\n",
    "front = word[:3]\n",
    "back = word[4:]\n",
    "print(front + back)"
   ]
  },
  {
   "cell_type": "code",
   "execution_count": 24,
   "id": "3e2af486",
   "metadata": {},
   "outputs": [
    {
     "data": {
      "text/plain": [
       "'clruswy'"
      ]
     },
     "execution_count": 24,
     "metadata": {},
     "output_type": "execute_result"
    }
   ],
   "source": [
    "word.replace('a','')"
   ]
  },
  {
   "cell_type": "code",
   "execution_count": 25,
   "id": "284a4e5b",
   "metadata": {},
   "outputs": [
    {
     "name": "stdout",
     "output_type": "stream",
     "text": [
      "The Better The Family, The Better The Society\n"
     ]
    }
   ],
   "source": [
    "text = 'the better the family, the better the society'\n",
    "print(text.title())"
   ]
  },
  {
   "cell_type": "code",
   "execution_count": 27,
   "id": "15293c59",
   "metadata": {},
   "outputs": [
    {
     "name": "stdout",
     "output_type": "stream",
     "text": [
      "Sodome and Gomore\n"
     ]
    }
   ],
   "source": [
    "text = 'S0d0me and G0m0re'\n",
    "text = text.replace('0','o')\n",
    "print(text)"
   ]
  },
  {
   "cell_type": "code",
   "execution_count": 30,
   "id": "226191ee",
   "metadata": {},
   "outputs": [
    {
     "name": "stdout",
     "output_type": "stream",
     "text": [
      "nteroperabilit\n"
     ]
    }
   ],
   "source": [
    "source_string = \"interoperability\"\n",
    "print(source_string.strip(\"yi\")) "
   ]
  },
  {
   "cell_type": "code",
   "execution_count": 32,
   "id": "3f286c81",
   "metadata": {},
   "outputs": [
    {
     "name": "stdout",
     "output_type": "stream",
     "text": [
      "YOU CAN LEARN ALMOST EVERYTHING IN PRE-CLASS\n"
     ]
    }
   ],
   "source": [
    "text = 'tyou can learn almost everything in pre-classz'\n",
    "print(text.strip('tz').upper())"
   ]
  },
  {
   "cell_type": "code",
   "execution_count": null,
   "id": "19722ce4",
   "metadata": {},
   "outputs": [],
   "source": []
  }
 ],
 "metadata": {
  "kernelspec": {
   "display_name": "Python 3",
   "language": "python",
   "name": "python3"
  },
  "language_info": {
   "codemirror_mode": {
    "name": "ipython",
    "version": 3
   },
   "file_extension": ".py",
   "mimetype": "text/x-python",
   "name": "python",
   "nbconvert_exporter": "python",
   "pygments_lexer": "ipython3",
   "version": "3.8.8"
  }
 },
 "nbformat": 4,
 "nbformat_minor": 5
}
