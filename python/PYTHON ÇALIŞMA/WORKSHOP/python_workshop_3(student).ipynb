{
 "cells": [
  {
   "cell_type": "markdown",
   "metadata": {
    "id": "klUrHqsAI58a"
   },
   "source": [
    "<center><img src=\"https://github.com/aaron-clarusway/fullstack/blob/master/itf-logo.png?raw=true\"  alt=\"alt text\" width=\"200\"/></center>\n",
    "<br>\n",
    "<h1><p style=\"text-align: center; color:darkblue\">Python Basic</p><h1>\n",
    "<center><h1>Workshop - 2</h1></center>\n",
    "<p><img align=\"right\"\n",
    "  src=\"https://secure.meetupstatic.com/photos/event/3/1/b/9/600_488352729.jpeg\"  width=\"15px\"></p>\n",
    "<br>\n",
    "\n",
    "\n",
    "# Subject: Collections - Control Flow Statements"
   ]
  },
  {
   "cell_type": "markdown",
   "metadata": {
    "id": "gHzlOoHgI58l"
   },
   "source": [
    "## Coding Challenge-1 : Find the Largest Number\n",
    "\n",
    "Purpose of the this coding challenge is to solve a simple sorting problem in Python.\n",
    "\n",
    "### Learning Outcomes\n",
    "\n",
    "At the end of the this coding challenge, students will be able to;\n",
    "\n",
    "- get a basic understanding of sorting algorithms.\n",
    "- demonstrate their knowledge of lists in python\n",
    "- implement loops to solve the problems in python\n",
    "- get a better understanding of computational thinking concepts\n",
    "\n",
    "### Problem Statement\n",
    "  \n",
    "- Write a python code that finds the largest number among the ``n`` numbers given by the user as input.\n",
    "\n",
    "- First, take `n` from the user, then take `n` numbers one by one and select-print the largest one.\n",
    "\n",
    "- It is forbidden to use ``max()`` function.  \n",
    "\n",
    "- Indicate which computational thinking concepts have you used.\n",
    "\n",
    "- Example for user inputs and respective outputs\n",
    "\n",
    "```text\n",
    "Input                Output\n",
    "---------------:     -------------------------:\n",
    "n = 5, 1 2 3 4 5     The largest number is:  5\n",
    "n = 3, 67 85 19      The largest number is:  85\n",
    "```"
   ]
  },
  {
   "cell_type": "markdown",
   "metadata": {
    "id": "1r2fo3l7I58q"
   },
   "source": [
    "### Solution :"
   ]
  },
  {
   "cell_type": "code",
   "execution_count": 4,
   "metadata": {},
   "outputs": [
    {
     "name": "stdout",
     "output_type": "stream",
     "text": [
      "n = 5\n",
      "16\n",
      "18\n",
      "22\n",
      "32\n",
      "44\n",
      "The largest number is: 44\n"
     ]
    }
   ],
   "source": [
    "num = int(input(\"n = \"))\n",
    "liste=[]\n",
    "for i in range(num):\n",
    "    liste.append(int(input()))\n",
    "print(\"The largest number is: \" + str(sorted(liste)[-1]))\n"
   ]
  },
  {
   "cell_type": "code",
   "execution_count": 10,
   "metadata": {
    "id": "jSuMMhC6I58s",
    "outputId": "41fa257b-58d9-4ab4-d125-7bba2670d207"
   },
   "outputs": [
    {
     "name": "stdout",
     "output_type": "stream",
     "text": [
      "How many numbers will you enter? : 5\n",
      "Please enter the number: 20\n",
      "Please enter the number: 30\n",
      "Please enter the number: 40\n",
      "Please enter the number: 60\n",
      "Please enter the number: 50\n",
      "The largest number is:  60\n"
     ]
    }
   ],
   "source": [
    "num = int(input(\"How many numbers will you enter? : \"))          \n",
    "i = 0\n",
    "num_list = []   \n",
    "while i<num:\n",
    "        number = int(input(\"Please enter the number: \"))\n",
    "        num_list.append(number)\n",
    "        i+=1\n",
    "        \n",
    "largest = num_list[0]\n",
    "for i in num_list:\n",
    "    if i >largest:\n",
    "        largest = i\n",
    "print(\"The largest number is: \", largest)"
   ]
  },
  {
   "cell_type": "markdown",
   "metadata": {
    "id": "YQA2OaIsI58x"
   },
   "source": [
    "## Coding Challenge-2 : Group Anagrams\n",
    "\n",
    "Purpose of the this coding challenge is to solve a grouping algorithm in Python.\n",
    "\n",
    "### Learning Outcomes\n",
    "\n",
    "At the end of the this coding challenge, students will be able to;\n",
    "\n",
    "- get a basic understanding of grouping algorithms.\n",
    "- demonstrate their knowledge of lists, dicts in python\n",
    "- implement loops to solve the problems in python\n",
    "- get a better understanding of computational thinking concepts\n",
    "\n",
    "### Problem Statement\n",
    "  \n",
    "- Given a list of strings, group anagrams together.\n",
    "\n",
    "- Example:\n",
    "\n",
    "**Input:**\n",
    "```\n",
    "[\"eat\", \"tea\", \"tan\", \"ate\", \"nat\", \"bat\"],\n",
    "Output:\n",
    "[\n",
    "  [\"ate\",\"eat\",\"tea\"],\n",
    "  [\"nat\",\"tan\"],\n",
    "  [\"bat\"]\n",
    "]\n",
    "```\n",
    "Note:\n",
    "All inputs will be in lowercase.\n",
    "The order of your output does not matter."
   ]
  },
  {
   "cell_type": "markdown",
   "metadata": {
    "id": "6rIiurMFI580"
   },
   "source": [
    "### Solution :"
   ]
  },
  {
   "cell_type": "code",
   "execution_count": 19,
   "metadata": {},
   "outputs": [
    {
     "name": "stdout",
     "output_type": "stream",
     "text": [
      "[['eat', 'tea', 'ate'], ['tan', 'nat'], ['bat']]\n"
     ]
    }
   ],
   "source": [
    "anagrams = {}\n",
    "words = [\"eat\", \"tea\", \"tan\", \"ate\", \"nat\", \"bat\"]\n",
    "for i in words:\n",
    "    sorted_word= \"\".join(sorted(i))\n",
    "    if sorted_word in anagrams:\n",
    "        anagrams[sorted_word].append(i)\n",
    "    else:\n",
    "        anagrams[sorted_word] = [i]\n",
    "print(list(anagrams.values()))"
   ]
  },
  {
   "cell_type": "code",
   "execution_count": 21,
   "metadata": {},
   "outputs": [
    {
     "name": "stdout",
     "output_type": "stream",
     "text": [
      "[['a', 'e', 't'], ['a', 'n', 't'], ['a', 'b', 't'], ['a', 'c', 't']]\n",
      "[['eat', 'tea', 'ate'], ['tan', 'nat'], ['bat'], ['cat', 'tac']]\n"
     ]
    }
   ],
   "source": [
    "lst=[\"eat\", \"tea\", \"tan\", \"ate\", \"nat\", \"bat\", \"cat\", \"tac\"]\n",
    "sortlist=[]\n",
    "baba=[]\n",
    "for i in lst:\n",
    "    if sorted(i) not in sortlist:\n",
    "        sortlist.append(sorted(i))\n",
    "#print(sortlist)\n",
    "for j in range(len(sortlist)):\n",
    "      baba.append([i for i in lst if sorted(i)==sortlist[j]])\n",
    "print(baba)"
   ]
  },
  {
   "cell_type": "markdown",
   "metadata": {
    "id": "TWLcDf17I586"
   },
   "source": [
    "## Coding Challenge - 3: Calculating the Amount of Water to be Trapped on Terrain\n",
    "\n",
    "The purpose of this coding challenge is to write a program that calculates the amount of water that can be contained within the generated holes.\n",
    "\n",
    "### Learning Outcomes\n",
    "\n",
    "At the end of this coding challenge, students will be able to;\n",
    "\n",
    "- analyze a problem, identify, and apply programming knowledge for appropriate solution.\n",
    "\n",
    "- design, implement `while` loops effectively in Python to solve the given problem.\n",
    "\n",
    "- control loops effectively by using `if` and `control` statements.\n",
    "\n",
    "- demonstrate their knowledge of algorithmic design principles by using solving the problem effectively.\n",
    "\n",
    "### Problem Statement\n",
    "\n",
    "- Given an array of non-negative integers representing an elevation map as shown below where the width of each bar is 1, compute how much water will be trapped on terrain after raining. To clarify further, the black boxes represents terrain and its height, and the blue boxes represents the water that could be trapped on the terrain.\n",
    "\n",
    "<center><img src=\"https://raw.githubusercontent.com/andrewfade/myprojects/main/image.png\" /></center>\n",
    "\n",
    "- User can enter as many numbers as they want to represent elevation of the terrain.\n",
    "\n",
    "- You can assume all the inputs are valid, thus you don't have to do an input check.\n",
    "\n",
    "- At the end of the program write a comment that indicates which computational thinking heuristics you have used and how you used them.\n",
    "\n",
    "- Example of user inputs and respective outputs.\n",
    "\n",
    "```text\n",
    "Inputs\n",
    "------------------------------\n",
    "Type 'ok' when you are done: 5\n",
    "Type 'ok' when you are done: 4\n",
    "Type 'ok' when you are done: 5\n",
    "Type 'ok' when you are done: ok\n",
    "\n",
    "Output\n",
    "------\n",
    "1\n",
    "\n",
    "Inputs\n",
    "------------------------------\n",
    "Type 'ok' when you are done: 2\n",
    "Type 'ok' when you are done: 1\n",
    "Type 'ok' when you are done: 2\n",
    "Type 'ok' when you are done: 3\n",
    "Type 'ok' when you are done: 2\n",
    "Type 'ok' when you are done: 3\n",
    "Type 'ok' when you are done: ok\n",
    "\n",
    "Output\n",
    "------\n",
    "2\n",
    "\n",
    "Inputs\n",
    "------------------------------\n",
    "Type 'ok' when you are done: 6\n",
    "Type 'ok' when you are done: 5\n",
    "Type 'ok' when you are done: 8\n",
    "Type 'ok' when you are done: 9\n",
    "Type 'ok' when you are done: 2\n",
    "Type 'ok' when you are done: 4\n",
    "Type 'ok' when you are done: 3\n",
    "Type 'ok' when you are done: 6\n",
    "Type 'ok' when you are done: ok\n",
    "\n",
    "Output\n",
    "------\n",
    "10\n",
    "```"
   ]
  },
  {
   "cell_type": "markdown",
   "metadata": {
    "id": "NUS2xcOUI58-"
   },
   "source": [
    "### Solution :"
   ]
  },
  {
   "cell_type": "code",
   "execution_count": null,
   "metadata": {
    "id": "iMjq0tj-I59E",
    "outputId": "8946d13e-d7ea-49fb-90f1-1cb959e46ef0"
   },
   "outputs": [
    {
     "name": "stdout",
     "output_type": "stream",
     "text": [
      "Type 'ok' when you are done: 4\n",
      "Type 'ok' when you are done: 3\n",
      "Type 'ok' when you are done: 6\n",
      "Type 'ok' when you are done: 0\n",
      "Type 'ok' when you are done: 1\n",
      "Type 'ok' when you are done: 0\n",
      "Type 'ok' when you are done: 2\n",
      "Type 'ok' when you are done: ok\n",
      "\n",
      "Rain-trapped area :  6\n"
     ]
    }
   ],
   "source": []
  },
  {
   "cell_type": "markdown",
   "metadata": {
    "id": "1cCz1ryfI59G"
   },
   "source": [
    "Create a function that returns a list containing the prime factors of whatever integer is passed to it.\n",
    "\n",
    "Examples prime_factors(20) ➞ [2, 2, 5]\n",
    "\n",
    "prime_factors(100) ➞ [2, 2, 5, 5]\n",
    "\n",
    "prime_factors(8912234) ➞ [2, 47, 94811]"
   ]
  },
  {
   "cell_type": "code",
   "execution_count": 29,
   "metadata": {},
   "outputs": [],
   "source": [
    "def prime_factors(n):\n",
    "    lst = []\n",
    "    for i in range(2,n+1):\n",
    "        if n % i == 0:\n",
    "            while n % i == 0:\n",
    "                lst.append(i)\n",
    "                n = n / i\n",
    "    return lst"
   ]
  },
  {
   "cell_type": "code",
   "execution_count": 30,
   "metadata": {},
   "outputs": [
    {
     "data": {
      "text/plain": [
       "[2, 2, 5, 5]"
      ]
     },
     "execution_count": 30,
     "metadata": {},
     "output_type": "execute_result"
    }
   ],
   "source": [
    "def prime_factors(num):\n",
    "    lst = []\n",
    "    while num != 1:\n",
    "        for i in range(2, num + 1):\n",
    "            if num % i == 0:\n",
    "                num //= i\n",
    "                lst.append(i)\n",
    "                break\n",
    "    return lst\n",
    "prime_factors(100)"
   ]
  },
  {
   "cell_type": "code",
   "execution_count": 28,
   "metadata": {},
   "outputs": [
    {
     "data": {
      "text/plain": [
       "[47]"
      ]
     },
     "execution_count": 28,
     "metadata": {},
     "output_type": "execute_result"
    }
   ],
   "source": [
    "prime_factors(47)"
   ]
  },
  {
   "cell_type": "markdown",
   "metadata": {},
   "source": [
    "Create a function that takes a number num and returns each place value in the number.\n",
    "\n",
    "Examples num_split(39) ➞ [30, 9]\n",
    "\n",
    "num_split(-434) ➞ [-400, -30, -4]\n",
    "\n",
    "num_split(100) ➞ [100, 0, 0]"
   ]
  },
  {
   "cell_type": "code",
   "execution_count": 34,
   "metadata": {},
   "outputs": [
    {
     "name": "stdout",
     "output_type": "stream",
     "text": [
      "Enter Number: -452\n",
      "[-400, -50, -2]\n"
     ]
    }
   ],
   "source": [
    "num = int(input(\"Enter Number: \"))\n",
    "new_num=abs(num)\n",
    "c = 1\n",
    "pos_nums = []\n",
    "while new_num != 0:\n",
    "    z = new_num % 10\n",
    "    pos_nums.append(z *c)\n",
    "    new_num = new_num // 10\n",
    "    c = c*10\n",
    "if num > 0:\n",
    "    print(pos_nums[::-1])\n",
    "else:\n",
    "    a=[]\n",
    "    for i in pos_nums[::-1]:\n",
    "        b=-1*i\n",
    "        a.append(b)\n",
    "    print(a)"
   ]
  },
  {
   "cell_type": "code",
   "execution_count": 35,
   "metadata": {},
   "outputs": [
    {
     "data": {
      "text/plain": [
       "[-100, -40, -5]"
      ]
     },
     "execution_count": 35,
     "metadata": {},
     "output_type": "execute_result"
    }
   ],
   "source": [
    "def num_split(num):\n",
    "    lst = []\n",
    "    a = 1\n",
    "    if num < 0:\n",
    "        a = -1\n",
    "    \n",
    "    for i in str(abs(num))[::-1]:\n",
    "        b = int(i) * a\n",
    "        a *= 10\n",
    "        lst.append(b)\n",
    "    lst.reverse()\n",
    "    return lst\n",
    "num_split(-145)"
   ]
  },
  {
   "cell_type": "raw",
   "metadata": {},
   "source": [
    "Write a Python program to find the values of length six in a given list using Lambda.\n",
    "Sample Output:\n",
    "Monday\n",
    "Friday\n",
    "Sunday"
   ]
  },
  {
   "cell_type": "code",
   "execution_count": 40,
   "metadata": {},
   "outputs": [
    {
     "name": "stdout",
     "output_type": "stream",
     "text": [
      "Monday\n",
      "Friday\n",
      "Sunday\n"
     ]
    }
   ],
   "source": [
    "weekdays = ['Monday', 'Tuesday', 'Wednesday', 'Thursday', 'Friday', 'Saturday', 'Sunday'] \n",
    "days =(filter(lambda day: day if len(day)==6 else '', weekdays)) \n",
    "for d in days: \n",
    "    print(d)"
   ]
  },
  {
   "cell_type": "code",
   "execution_count": 41,
   "metadata": {},
   "outputs": [
    {
     "name": "stdout",
     "output_type": "stream",
     "text": [
      "Monday\n",
      "Friday\n",
      "Sunday\n"
     ]
    }
   ],
   "source": [
    "weekdays = ['Monday', 'Tuesday', 'Wednesday', 'Thursday', 'Friday', 'Saturday', 'Sunday'] \n",
    "\n",
    "for d in (filter(lambda day: day if len(day)==6 else '', weekdays)): \n",
    "    print(d)"
   ]
  },
  {
   "cell_type": "code",
   "execution_count": 61,
   "metadata": {},
   "outputs": [
    {
     "data": {
      "text/plain": [
       "['Monday', 'Friday', 'Sunday']"
      ]
     },
     "execution_count": 61,
     "metadata": {},
     "output_type": "execute_result"
    }
   ],
   "source": [
    "a=[]\n",
    "for d in weekdays:\n",
    "    if len(d)==6:\n",
    "        a.append(d)\n",
    "        \n",
    "a\n",
    "\n",
    "[d for d in weekdays if len(d) == 6]"
   ]
  },
  {
   "cell_type": "code",
   "execution_count": 59,
   "metadata": {},
   "outputs": [
    {
     "name": "stdout",
     "output_type": "stream",
     "text": [
      "Monday Friday Sunday\n"
     ]
    }
   ],
   "source": [
    "days=[ \"Monday\", \"Friday\", \"Sunday\" , \"Tuesday\", \"Wensday\", \"Saturday\", \"Thursday\"]\n",
    "lenght = filter(lambda x : len(x)==6, days)\n",
    "print(*lenght)"
   ]
  },
  {
   "cell_type": "code",
   "execution_count": 57,
   "metadata": {
    "scrolled": true
   },
   "outputs": [
    {
     "data": {
      "text/plain": [
       "<filter at 0x16c3c1be970>"
      ]
     },
     "execution_count": 57,
     "metadata": {},
     "output_type": "execute_result"
    }
   ],
   "source": [
    "lenght"
   ]
  },
  {
   "cell_type": "code",
   "execution_count": 62,
   "metadata": {},
   "outputs": [
    {
     "data": {
      "text/plain": [
       "['Monday', 'Friday', 'Sunday']"
      ]
     },
     "execution_count": 62,
     "metadata": {},
     "output_type": "execute_result"
    }
   ],
   "source": [
    "weekdays = ['Monday', 'Tuesday', 'Wednesday', 'Thursday', 'Friday', 'Saturday', 'Sunday']\n",
    "b=[i for i in weekdays if len(i) == 6]\n",
    "b"
   ]
  },
  {
   "cell_type": "code",
   "execution_count": null,
   "metadata": {},
   "outputs": [],
   "source": []
  }
 ],
 "metadata": {
  "colab": {
   "name": "python-workshop-3(student).ipynb",
   "provenance": []
  },
  "kernelspec": {
   "display_name": "Python 3",
   "language": "python",
   "name": "python3"
  },
  "language_info": {
   "codemirror_mode": {
    "name": "ipython",
    "version": 3
   },
   "file_extension": ".py",
   "mimetype": "text/x-python",
   "name": "python",
   "nbconvert_exporter": "python",
   "pygments_lexer": "ipython3",
   "version": "3.8.8"
  }
 },
 "nbformat": 4,
 "nbformat_minor": 1
}
