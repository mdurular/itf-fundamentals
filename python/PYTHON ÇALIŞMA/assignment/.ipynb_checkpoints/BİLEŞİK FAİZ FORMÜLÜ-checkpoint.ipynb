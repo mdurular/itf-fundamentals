{
 "cells": [
  {
   "cell_type": "code",
   "execution_count": 1,
   "id": "6f3df32e",
   "metadata": {},
   "outputs": [],
   "source": [
    "# BİLEŞİK FAİZ FORMÜLÜ"
   ]
  },
  {
   "cell_type": "code",
   "execution_count": 2,
   "id": "0c687e68",
   "metadata": {},
   "outputs": [
    {
     "name": "stdout",
     "output_type": "stream",
     "text": [
      "Total money earned the end of 7 days: 1605 $\n"
     ]
    }
   ],
   "source": [
    "main_money=1000\n",
    "rate=0.07  # for days\n",
    "time=7  # days\n",
    "\n",
    "current_money= main_money*(1+rate)**time  \n",
    "\n",
    "print('Total money earned the end of 7 days:', int(current_money), '$')"
   ]
  },
  {
   "cell_type": "code",
   "execution_count": null,
   "id": "0c7f8733",
   "metadata": {},
   "outputs": [],
   "source": []
  }
 ],
 "metadata": {
  "kernelspec": {
   "display_name": "Python 3",
   "language": "python",
   "name": "python3"
  },
  "language_info": {
   "codemirror_mode": {
    "name": "ipython",
    "version": 3
   },
   "file_extension": ".py",
   "mimetype": "text/x-python",
   "name": "python",
   "nbconvert_exporter": "python",
   "pygments_lexer": "ipython3",
   "version": "3.8.8"
  }
 },
 "nbformat": 4,
 "nbformat_minor": 5
}
