{
 "cells": [
  {
   "cell_type": "raw",
   "id": "1108c4e8",
   "metadata": {},
   "source": [
    "Given a non-empty string and an int n, return a new string where the character at index n has been removed. The value of n will be a valid index of a character in the original string (i.e. n will be in the range 0....len(str)-1 inclusive).\n",
    "For example:\n",
    "\n",
    "            Test\t                        Result\n",
    "print(missing_char('kitchen', 1))\n",
    "                                            ktchen\n",
    "print(missing_char('kitchen', 0))           itchen\n",
    "print(missing_char('kitchen', 4))           kitcen"
   ]
  },
  {
   "cell_type": "code",
   "execution_count": 26,
   "id": "59b7e989",
   "metadata": {},
   "outputs": [],
   "source": [
    "def missing_char(word, n):\n",
    "    if n in range(0,len(word)-1):\n",
    "        return word.replace(word[n],\"\")"
   ]
  },
  {
   "cell_type": "code",
   "execution_count": 27,
   "id": "2d72e627",
   "metadata": {},
   "outputs": [
    {
     "name": "stdout",
     "output_type": "stream",
     "text": [
      "ktchen\n"
     ]
    }
   ],
   "source": [
    "print(missing_char('kitchen', 1))"
   ]
  },
  {
   "cell_type": "code",
   "execution_count": 28,
   "id": "992bd866",
   "metadata": {},
   "outputs": [
    {
     "name": "stdout",
     "output_type": "stream",
     "text": [
      "itchen\n"
     ]
    }
   ],
   "source": [
    "print(missing_char('kitchen', 0)) "
   ]
  },
  {
   "cell_type": "code",
   "execution_count": 29,
   "id": "22d0bd48",
   "metadata": {},
   "outputs": [
    {
     "name": "stdout",
     "output_type": "stream",
     "text": [
      "None\n"
     ]
    }
   ],
   "source": [
    "print(missing_char('kitchen', 11))   "
   ]
  }
 ],
 "metadata": {
  "kernelspec": {
   "display_name": "Python 3",
   "language": "python",
   "name": "python3"
  },
  "language_info": {
   "codemirror_mode": {
    "name": "ipython",
    "version": 3
   },
   "file_extension": ".py",
   "mimetype": "text/x-python",
   "name": "python",
   "nbconvert_exporter": "python",
   "pygments_lexer": "ipython3",
   "version": "3.8.8"
  }
 },
 "nbformat": 4,
 "nbformat_minor": 5
}
