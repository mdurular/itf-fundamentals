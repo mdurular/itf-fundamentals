{
 "cells": [
  {
   "cell_type": "markdown",
   "id": "7d3153d8",
   "metadata": {},
   "source": [
    "Define a function named my_fact to calculate factorial of the given number. Given a non-negative integer return the factorial of the integer.\n",
    "\n",
    "(Example: The factorial of 5 is: 5*4*3*2*1 = 120 and factorial of 0 is: 1)\n",
    "For example:\n",
    "\n",
    "Test\tResult\n",
    "print(my_fact(5))\n",
    "120\n",
    "print(my_fact(4))\n",
    "24\n",
    "print(my_fact(3))\n",
    "6\n"
   ]
  },
  {
   "cell_type": "code",
   "execution_count": 7,
   "id": "c268fdfd",
   "metadata": {},
   "outputs": [],
   "source": [
    "def my_fact(a):\n",
    "    if (abs(a) == 0):\n",
    "        return 1\n",
    "    return abs(a) * my_fact(abs(a) - 1)\n",
    "        "
   ]
  },
  {
   "cell_type": "code",
   "execution_count": 11,
   "id": "282643d2",
   "metadata": {},
   "outputs": [
    {
     "data": {
      "text/plain": [
       "120"
      ]
     },
     "execution_count": 11,
     "metadata": {},
     "output_type": "execute_result"
    }
   ],
   "source": [
    "my_fact(-5)"
   ]
  },
  {
   "cell_type": "code",
   "execution_count": null,
   "id": "d18a7194",
   "metadata": {},
   "outputs": [],
   "source": []
  }
 ],
 "metadata": {
  "kernelspec": {
   "display_name": "Python 3",
   "language": "python",
   "name": "python3"
  },
  "language_info": {
   "codemirror_mode": {
    "name": "ipython",
    "version": 3
   },
   "file_extension": ".py",
   "mimetype": "text/x-python",
   "name": "python",
   "nbconvert_exporter": "python",
   "pygments_lexer": "ipython3",
   "version": "3.8.8"
  }
 },
 "nbformat": 4,
 "nbformat_minor": 5
}
