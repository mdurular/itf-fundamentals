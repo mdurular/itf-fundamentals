{
 "cells": [
  {
   "cell_type": "code",
   "execution_count": 9,
   "id": "ecf8684b",
   "metadata": {},
   "outputs": [
    {
     "name": "stdout",
     "output_type": "stream",
     "text": [
      "Are you a cigarette addict older than 75 years old? Yes or No : yes\n",
      "Do you have a severe chronic disease? Yes or No : NO\n",
      "Is your immune system too weak? Yes or No : YES\n",
      "You are in risky group\n"
     ]
    }
   ],
   "source": [
    "cigarrette_age = input(\"Are you a cigarette addict older than 75 years old? Yes or No : \").title().strip() == \"Yes\"\n",
    "chronic = input(\"Do you have a severe chronic disease? Yes or No : \").title().strip() == \"Yes\"\n",
    "immune =  input (\"Is your immune system too weak? Yes or No : \").title().strip() == \"Yes\"\n",
    "\n",
    "if (cigarrette_age or chronic or immune) == True :\n",
    "    print(\"You are in risky group\")\n",
    "else :\n",
    "    print(\"You are not in risky group\")"
   ]
  },
  {
   "cell_type": "code",
   "execution_count": null,
   "id": "73051275",
   "metadata": {},
   "outputs": [],
   "source": []
  }
 ],
 "metadata": {
  "kernelspec": {
   "display_name": "Python 3",
   "language": "python",
   "name": "python3"
  },
  "language_info": {
   "codemirror_mode": {
    "name": "ipython",
    "version": 3
   },
   "file_extension": ".py",
   "mimetype": "text/x-python",
   "name": "python",
   "nbconvert_exporter": "python",
   "pygments_lexer": "ipython3",
   "version": "3.8.8"
  }
 },
 "nbformat": 4,
 "nbformat_minor": 5
}
