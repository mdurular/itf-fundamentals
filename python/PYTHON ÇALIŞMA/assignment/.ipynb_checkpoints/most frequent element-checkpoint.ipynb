{
 "cells": [
  {
   "cell_type": "code",
   "execution_count": 2,
   "id": "dd4c1c2b",
   "metadata": {},
   "outputs": [
    {
     "name": "stdout",
     "output_type": "stream",
     "text": [
      "the most frequent number is 3 and it was 4 times repeated\n"
     ]
    }
   ],
   "source": [
    "numbers = [1, 3, 7, 4, 3, 0, 3, 6, 3]\n",
    "frequent_number =max(set(numbers), key = numbers.count)\n",
    "count_frqnt_nmb = numbers.count(frequent_number)\n",
    "print(\"the most frequent number is {} and it was {} times repeated\".format(frequent_number, count_frqnt_nmb))"
   ]
  },
  {
   "cell_type": "code",
   "execution_count": null,
   "id": "b14bf902",
   "metadata": {},
   "outputs": [],
   "source": []
  }
 ],
 "metadata": {
  "kernelspec": {
   "display_name": "Python 3",
   "language": "python",
   "name": "python3"
  },
  "language_info": {
   "codemirror_mode": {
    "name": "ipython",
    "version": 3
   },
   "file_extension": ".py",
   "mimetype": "text/x-python",
   "name": "python",
   "nbconvert_exporter": "python",
   "pygments_lexer": "ipython3",
   "version": "3.8.8"
  }
 },
 "nbformat": 4,
 "nbformat_minor": 5
}
