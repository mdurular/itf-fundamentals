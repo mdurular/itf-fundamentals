{
 "cells": [
  {
   "cell_type": "code",
   "execution_count": 1,
   "id": "c584247a",
   "metadata": {},
   "outputs": [],
   "source": [
    "def calculator():\n",
    "    opr=input(\"write '+','-','*','/' :   \")\n",
    "    num1=int(input(\"num1:\"))\n",
    "    num2=int(input(\"num2:\"))\n",
    "    ops={\"+\":(lambda x,y:x+y), \"*\":(lambda x,y:x*y), \"-\":(lambda x,y:x-y), \"/\":(lambda x,y:x/y)}\n",
    "    for i in opr:\n",
    "        return ops[i](num1,num2)"
   ]
  },
  {
   "cell_type": "code",
   "execution_count": 2,
   "id": "2f462435",
   "metadata": {},
   "outputs": [
    {
     "name": "stdout",
     "output_type": "stream",
     "text": [
      "write '+','-','*','/' :   +\n",
      "num1:2\n",
      "num2:3\n"
     ]
    },
    {
     "data": {
      "text/plain": [
       "5"
      ]
     },
     "execution_count": 2,
     "metadata": {},
     "output_type": "execute_result"
    }
   ],
   "source": [
    "calculator()"
   ]
  },
  {
   "cell_type": "code",
   "execution_count": null,
   "id": "b9636589",
   "metadata": {},
   "outputs": [],
   "source": []
  }
 ],
 "metadata": {
  "kernelspec": {
   "display_name": "Python 3",
   "language": "python",
   "name": "python3"
  },
  "language_info": {
   "codemirror_mode": {
    "name": "ipython",
    "version": 3
   },
   "file_extension": ".py",
   "mimetype": "text/x-python",
   "name": "python",
   "nbconvert_exporter": "python",
   "pygments_lexer": "ipython3",
   "version": "3.8.8"
  }
 },
 "nbformat": 4,
 "nbformat_minor": 5
}
