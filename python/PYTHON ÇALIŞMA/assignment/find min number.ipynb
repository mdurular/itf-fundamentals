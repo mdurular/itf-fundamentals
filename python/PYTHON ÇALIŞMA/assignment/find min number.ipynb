{
 "cells": [
  {
   "cell_type": "raw",
   "id": "4d4f2003",
   "metadata": {},
   "source": [
    "Define a function named my_min to find the min of the inputted numbers.\n",
    "For example:\n",
    "\n",
    "Test\tResult\n",
    "print(my_min(5,6,7))\n",
    "5\n",
    "print(my_min(3,8,-9,0,12,1.2))\n",
    "-9\n",
    "print(my_min(-100))\n",
    "-100"
   ]
  },
  {
   "cell_type": "code",
   "execution_count": 1,
   "id": "8e0aed55",
   "metadata": {},
   "outputs": [],
   "source": [
    "def my_min(*a):\n",
    "    return min(a)"
   ]
  },
  {
   "cell_type": "code",
   "execution_count": 4,
   "id": "1fdf2219",
   "metadata": {},
   "outputs": [
    {
     "data": {
      "text/plain": [
       "-100"
      ]
     },
     "execution_count": 4,
     "metadata": {},
     "output_type": "execute_result"
    }
   ],
   "source": [
    "my_min(-100)"
   ]
  },
  {
   "cell_type": "code",
   "execution_count": null,
   "id": "b2888983",
   "metadata": {},
   "outputs": [],
   "source": []
  }
 ],
 "metadata": {
  "kernelspec": {
   "display_name": "Python 3",
   "language": "python",
   "name": "python3"
  },
  "language_info": {
   "codemirror_mode": {
    "name": "ipython",
    "version": 3
   },
   "file_extension": ".py",
   "mimetype": "text/x-python",
   "name": "python",
   "nbconvert_exporter": "python",
   "pygments_lexer": "ipython3",
   "version": "3.8.8"
  }
 },
 "nbformat": 4,
 "nbformat_minor": 5
}
