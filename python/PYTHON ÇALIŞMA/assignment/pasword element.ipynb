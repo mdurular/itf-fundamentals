{
 "cells": [
  {
   "cell_type": "code",
   "execution_count": 2,
   "id": "8ca9c010",
   "metadata": {},
   "outputs": [
    {
     "name": "stdout",
     "output_type": "stream",
     "text": [
      "write your name: al\n",
      "Hello, al See you later.\n"
     ]
    }
   ],
   "source": [
    "name = \"mehmet\"\n",
    "user_name = str(input(\"write your name: \"))\n",
    "if user_name == name :\n",
    "    print(\"Hello,\", user_name, \"The password is : qwer123@sdf\")\n",
    "else:\n",
    "    print(\"Hello,\", user_name, \"See you later.\")"
   ]
  },
  {
   "cell_type": "code",
   "execution_count": 17,
   "id": "b8494d68",
   "metadata": {},
   "outputs": [
    {
     "name": "stdout",
     "output_type": "stream",
     "text": [
      " Please Enter any Numeric Value : 250,333\n",
      "It is an invalid entry. Don't use non-numeric, float, or negative values!\n",
      "It is an invalid entry. Don't use non-numeric, float, or negative values!\n"
     ]
    }
   ],
   "source": [
    "try:\n",
    "     num = int(input(\" Please Enter any Numeric Value : \"))\n",
    "except ValueError:\n",
    "         print(\"It is an invalid entry. Don't use non-numeric, float, or negative values!\")            \n",
    "s = 0                                                     \n",
    "k = num\n",
    "if num > 0:\n",
    "    while k>0:                                                \n",
    "        d = k%10                                              \n",
    "        s = s + (d**len(str(num)))                                        \n",
    "        k = k//10                                             \n",
    "    if num == s:                                                \n",
    "        print('{} is an Armstrong number'.format(num))          \n",
    "    else:                                                       \n",
    "        print('{} is not an Armstrong number'.format(num))\n",
    "else:\n",
    "    print(\"It is an invalid entry. Don't use non-numeric, float, or negative values!\")"
   ]
  },
  {
   "cell_type": "code",
   "execution_count": null,
   "id": "17ba1ce7",
   "metadata": {},
   "outputs": [],
   "source": []
  },
  {
   "cell_type": "code",
   "execution_count": null,
   "id": "b3646ada",
   "metadata": {},
   "outputs": [],
   "source": []
  }
 ],
 "metadata": {
  "kernelspec": {
   "display_name": "Python 3",
   "language": "python",
   "name": "python3"
  },
  "language_info": {
   "codemirror_mode": {
    "name": "ipython",
    "version": 3
   },
   "file_extension": ".py",
   "mimetype": "text/x-python",
   "name": "python",
   "nbconvert_exporter": "python",
   "pygments_lexer": "ipython3",
   "version": "3.8.8"
  }
 },
 "nbformat": 4,
 "nbformat_minor": 5
}
