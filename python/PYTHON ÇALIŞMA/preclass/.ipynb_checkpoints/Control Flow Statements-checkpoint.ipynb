{
 "cells": [
  {
   "cell_type": "markdown",
   "id": "591232f4",
   "metadata": {},
   "source": [
    "# if else"
   ]
  },
  {
   "cell_type": "code",
   "execution_count": 12,
   "id": "f857dec0",
   "metadata": {},
   "outputs": [
    {
     "name": "stdout",
     "output_type": "stream",
     "text": [
      "it is true\n"
     ]
    }
   ],
   "source": [
    "if True:\n",
    "    print('it is true')"
   ]
  },
  {
   "cell_type": "code",
   "execution_count": 13,
   "id": "3b38f1ca",
   "metadata": {},
   "outputs": [
    {
     "name": "stdout",
     "output_type": "stream",
     "text": [
      "there is still seat to sit\n"
     ]
    }
   ],
   "source": [
    "empty_seat = 14\n",
    "\n",
    "if empty_seat > 3:  # in this case, 14>3=True, so the body will execute\n",
    "    print('there is still seat to sit')"
   ]
  },
  {
   "cell_type": "code",
   "execution_count": 14,
   "id": "3d6818fd",
   "metadata": {},
   "outputs": [
    {
     "name": "stdout",
     "output_type": "stream",
     "text": [
      "is x equal to y?                 : False\n",
      "is x not equal to y?             : True\n",
      "is x less than y?                : True\n",
      "is x greater than y?             : False\n",
      "is x less than or equal to y?    : True\n",
      "is x greater than or equal to y? : False\n"
     ]
    }
   ],
   "source": [
    "x = 6\n",
    "y = 9\n",
    "print (\"is x equal to y?                 :\" , x == y)\n",
    "print (\"is x not equal to y?             :\" , x != y)\n",
    "print (\"is x less than y?                :\" , x < y)\n",
    "print (\"is x greater than y?             :\" , x > y)\n",
    "print (\"is x less than or equal to y?    :\" , x <= y)\n",
    "print (\"is x greater than or equal to y? :\" , x >= y)"
   ]
  },
  {
   "cell_type": "code",
   "execution_count": 15,
   "id": "c9347f86",
   "metadata": {},
   "outputs": [
    {
     "name": "stdout",
     "output_type": "stream",
     "text": [
      "I can lift that!\n"
     ]
    }
   ],
   "source": [
    "weight = 80\n",
    "\n",
    "if weight > 100:\n",
    "    print(\"That's too heavy!\")\n",
    "elif weight > 75:\n",
    "    print(\"I can lift that!\")\n",
    "else:\n",
    "    print(\"That's too light!\")"
   ]
  },
  {
   "cell_type": "code",
   "execution_count": 16,
   "id": "f5608ca6",
   "metadata": {},
   "outputs": [
    {
     "name": "stdout",
     "output_type": "stream",
     "text": [
      "No such audience, stay at your home!\n"
     ]
    }
   ],
   "source": [
    "audience = \"baby\"\n",
    "\n",
    "if audience == \"kid\":\n",
    "    print(\"it is free to go to cinema\")\n",
    "elif audience == \"teen\":\n",
    "    print(\"discounted price!\")\n",
    "elif audience == \"adult\":\n",
    "    print(\"normal price\")\n",
    "else:\n",
    "    print(\"No such audience, stay at your home!\")"
   ]
  },
  {
   "cell_type": "code",
   "execution_count": 6,
   "id": "2e3143fb",
   "metadata": {},
   "outputs": [
    {
     "name": "stdout",
     "output_type": "stream",
     "text": [
      "discounted price!\n"
     ]
    }
   ],
   "source": [
    "audience_group = 'kid', 'teen', 'adult'\n",
    "\n",
    "audience = \"teen\"\n",
    "\n",
    "if audience in audience_group:\n",
    "    if audience == \"kid\":\n",
    "        print(\"it is free to go to cinema\")\n",
    "    elif audience == \"teen\":\n",
    "        print(\"discounted price!\")\n",
    "    else: # audience == \"adult\":\n",
    "        print(\"normal price\")\n",
    "else:\n",
    "    print(\"No such audience, stay at your home!\")"
   ]
  },
  {
   "cell_type": "code",
   "execution_count": 17,
   "id": "de02c86e",
   "metadata": {},
   "outputs": [
    {
     "name": "stdout",
     "output_type": "stream",
     "text": [
      "Enter your score :55\n",
      "Your degree: below B\n"
     ]
    }
   ],
   "source": [
    "score = int (input(\"Enter your score :\"))\n",
    "\n",
    "if score >= 90:\n",
    "    if score >= 95:\n",
    "        Score_letter=\"A+\"\n",
    "    else:\n",
    "        Score_letter=\"A\"\n",
    "elif score >= 80:\n",
    "    if score >= 85:\n",
    "        Score_letter=\"B+\"\n",
    "    else:\n",
    "        Score_letter=\"B\"\n",
    "else:\n",
    "    Score_letter=\"below B\"\n",
    "\n",
    "print (\"Your degree: %s\" % Score_letter)"
   ]
  },
  {
   "cell_type": "markdown",
   "id": "6722489d",
   "metadata": {},
   "source": [
    "# whıle for"
   ]
  },
  {
   "cell_type": "code",
   "execution_count": 18,
   "id": "b7af3bc7",
   "metadata": {},
   "outputs": [
    {
     "name": "stdout",
     "output_type": "stream",
     "text": [
      "0\n",
      "1\n",
      "2\n",
      "3\n",
      "4\n",
      "5\n",
      "now, number is bigger or equal to 6\n"
     ]
    }
   ],
   "source": [
    "number = 0\n",
    "\n",
    "while number < 6:\n",
    "    print(number)\n",
    "    number += 1\n",
    "print('now, number is bigger or equal to 6')"
   ]
  },
  {
   "cell_type": "code",
   "execution_count": 19,
   "id": "b16ac4c3",
   "metadata": {},
   "outputs": [
    {
     "name": "stdout",
     "output_type": "stream",
     "text": [
      "square of 0 is : 0\n",
      "square of 1 is : 1\n",
      "square of 2 is : 4\n",
      "square of 3 is : 9\n",
      "square of 4 is : 16\n"
     ]
    }
   ],
   "source": [
    "my_list=[\"a\", \"b\", \"c\", \"d\", \"e\"]\n",
    "\n",
    "a = 0\n",
    "\n",
    "while a < len(my_list):\n",
    "    print('square of {} is : {}'.format(a, a**2))\n",
    "    a+=1"
   ]
  },
  {
   "cell_type": "code",
   "execution_count": 1,
   "id": "a81527e3",
   "metadata": {},
   "outputs": [
    {
     "name": "stdout",
     "output_type": "stream",
     "text": [
      "Let's play the guessing game!\n",
      "What number am I thinking of?  45\n",
      "Little lower\n"
     ]
    }
   ],
   "source": [
    "answer = 44\n",
    "\n",
    "question = 'What number am I thinking of?  '\n",
    "print (\"Let's play the guessing game!\")\n",
    "\n",
    "while True:\n",
    "    guess = int(input(question))\n",
    "\n",
    "    if guess < answer:\n",
    "        print('Little higher')\n",
    "    elif guess > answer:\n",
    "        print('Little lower')\n",
    "    else:  # guess == answer\n",
    "        print('Are you a MINDREADER!!!')\n",
    "        break # else şartı gerçekleştiğinde döngüyü durdurur. "
   ]
  },
  {
   "cell_type": "code",
   "execution_count": 23,
   "id": "8ed55c6c",
   "metadata": {},
   "outputs": [
    {
     "name": "stdout",
     "output_type": "stream",
     "text": [
      "Rose\n",
      "Orchid\n",
      "Tulip\n"
     ]
    }
   ],
   "source": [
    "flowers = ['Rose', 'Orchid', 'Tulip']\n",
    "count1 = len(flowers)\n",
    "count2 = 0\n",
    "\n",
    "while count1>0 :\n",
    "    print(flowers[count2])\n",
    "    count1-=1\n",
    "    count2 +=1"
   ]
  },
  {
   "cell_type": "code",
   "execution_count": 24,
   "id": "d8274108",
   "metadata": {},
   "outputs": [
    {
     "name": "stdout",
     "output_type": "stream",
     "text": [
      "1\n",
      "2\n",
      "3\n",
      "4\n",
      "5\n"
     ]
    }
   ],
   "source": [
    "for i in [1, 2, 3, 4, 5] :\n",
    "    print(i)"
   ]
  },
  {
   "cell_type": "code",
   "execution_count": 25,
   "id": "2acb66b9",
   "metadata": {},
   "outputs": [
    {
     "name": "stdout",
     "output_type": "stream",
     "text": [
      "spring\n",
      "summer\n",
      "autumn\n",
      "winter\n"
     ]
    }
   ],
   "source": [
    "seasons = ['spring', 'summer', 'autumn', 'winter']\n",
    "\n",
    "for season in seasons :\n",
    "    print(season)\n"
   ]
  },
  {
   "cell_type": "code",
   "execution_count": 28,
   "id": "609c2229",
   "metadata": {},
   "outputs": [
    {
     "name": "stdout",
     "output_type": "stream",
     "text": [
      "n1\n",
      "n2\n"
     ]
    }
   ],
   "source": [
    "for i in {'n1' : 'one', 'n2' : 'two'} :\n",
    "    print(i)"
   ]
  },
  {
   "cell_type": "code",
   "execution_count": 29,
   "id": "fd721a85",
   "metadata": {},
   "outputs": [
    {
     "name": "stdout",
     "output_type": "stream",
     "text": [
      "1\n",
      "4\n",
      "9\n",
      "16\n"
     ]
    }
   ],
   "source": [
    "iterable = [1, 2, 3, 4]\n",
    "for i in iterable :\n",
    "    print(i**2)"
   ]
  },
  {
   "cell_type": "code",
   "execution_count": 30,
   "id": "766fe154",
   "metadata": {},
   "outputs": [
    {
     "name": "stdout",
     "output_type": "stream",
     "text": [
      "c\n",
      "l\n",
      "a\n",
      "r\n",
      "u\n",
      "s\n",
      "w\n",
      "a\n",
      "y\n"
     ]
    }
   ],
   "source": [
    "course = 'clarusway'\n",
    "\n",
    "for i in course :\n",
    "    print(i)"
   ]
  },
  {
   "cell_type": "code",
   "execution_count": 31,
   "id": "c741045e",
   "metadata": {},
   "outputs": [
    {
     "name": "stdout",
     "output_type": "stream",
     "text": [
      "How many times should I say 'I love you'10\n",
      "I love you\n",
      "I love you\n",
      "I love you\n",
      "I love you\n",
      "I love you\n",
      "I love you\n",
      "I love you\n",
      "I love you\n",
      "I love you\n",
      "I love you\n"
     ]
    }
   ],
   "source": [
    "times = int(input(\"How many times should I say 'I love you'\"))\n",
    "\n",
    "for i in range(times):\n",
    "    print('I love you')"
   ]
  },
  {
   "cell_type": "code",
   "execution_count": 32,
   "id": "6bbb27e7",
   "metadata": {},
   "outputs": [
    {
     "name": "stdout",
     "output_type": "stream",
     "text": [
      "enter a number between 1-1010\n",
      "10x0 =  0\n",
      "10x1 =  10\n",
      "10x2 =  20\n",
      "10x3 =  30\n",
      "10x4 =  40\n",
      "10x5 =  50\n",
      "10x6 =  60\n",
      "10x7 =  70\n",
      "10x8 =  80\n",
      "10x9 =  90\n",
      "10x10 =  100\n"
     ]
    }
   ],
   "source": [
    "n = int(input('enter a number between 1-10'))\n",
    "\n",
    "for i in range(11):\n",
    "    print('{}x{} = '.format(n, i), n*i)"
   ]
  },
  {
   "cell_type": "code",
   "execution_count": 33,
   "id": "7c3aacf3",
   "metadata": {},
   "outputs": [
    {
     "name": "stdout",
     "output_type": "stream",
     "text": [
      "one : 1\n",
      "two : 2\n",
      "three : 3\n",
      "four : 4\n",
      "five : 5\n"
     ]
    }
   ],
   "source": [
    "text = ['one','two','three','four','five']\n",
    "numbers = [1, 2, 3, 4, 5]\n",
    "for x, y in zip(text, numbers):\n",
    "    print(x, ':', y)\n"
   ]
  },
  {
   "cell_type": "code",
   "execution_count": 34,
   "id": "95e1b83c",
   "metadata": {
    "scrolled": true
   },
   "outputs": [
    {
     "name": "stdout",
     "output_type": "stream",
     "text": [
      "I am happy\n",
      "I am confident\n",
      "You are happy\n",
      "You are confident\n"
     ]
    }
   ],
   "source": [
    "who = ['I am ', 'You are ']\n",
    "mood = ['happy', 'confident']\n",
    "for i in who:\n",
    "    for ii in mood:\n",
    "        print(i + ii)"
   ]
  },
  {
   "cell_type": "markdown",
   "id": "47516b0f",
   "metadata": {},
   "source": [
    "# check yourself 1"
   ]
  },
  {
   "cell_type": "code",
   "execution_count": 35,
   "id": "6873ee57",
   "metadata": {},
   "outputs": [
    {
     "name": "stdout",
     "output_type": "stream",
     "text": [
      "I will stop smoking\n",
      "I will stop smoking\n",
      "I will stop smoking\n",
      "I will stop smoking\n",
      "I will stop smoking\n"
     ]
    }
   ],
   "source": [
    "a = 3\n",
    "while a**2 < 299:\n",
    "    print('I will stop smoking')\n",
    "    a += 3"
   ]
  },
  {
   "cell_type": "code",
   "execution_count": 36,
   "id": "1201b04f",
   "metadata": {},
   "outputs": [
    {
     "name": "stdout",
     "output_type": "stream",
     "text": [
      "Shipping Costs €10\n"
     ]
    }
   ],
   "source": [
    "total = 149\n",
    "country = \"FR\"\n",
    "\n",
    "if country == \"FR\":\n",
    "    if total <= 50:\n",
    "        print(\"Shipping Cost is  €30\")\n",
    "    elif total <= 100:\n",
    "        print(\"Shipping Cost is €15\")\n",
    "    elif total <= 150:\n",
    "        print(\"Shipping Costs €10\")\n",
    "    else:\n",
    "        print(\"Free Shipping\")\n",
    "if country == \"DE\": \n",
    "    if total <= 50:\n",
    "        print(\"Shipping Cost is  €25\")\n",
    "    else:\n",
    "        print(\"Free Shipping\")"
   ]
  },
  {
   "cell_type": "code",
   "execution_count": 64,
   "id": "622c3024",
   "metadata": {},
   "outputs": [
    {
     "name": "stdout",
     "output_type": "stream",
     "text": [
      "Please enter your saved amount: 400\n",
      "Yippee! You can buy your PS4\n"
     ]
    }
   ],
   "source": [
    "ps4_price = 99\n",
    "saved_amount = int(input('Please enter your saved amount: '))\n",
    "\n",
    "if saved_amount <= ps4_price/2:\n",
    "    print(\"You must save more, keep saving!\")\n",
    "if saved_amount > ps4_price/2 and saved_amount <= ps4_price:\n",
    "    print(\"You saved more than half, keep saving!\")\n",
    "elif saved_amount > ps4_price:\n",
    "    print(\"Yippee! You can buy your PS4\")"
   ]
  },
  {
   "cell_type": "code",
   "execution_count": 59,
   "id": "8046122c",
   "metadata": {},
   "outputs": [
    {
     "data": {
      "text/plain": [
       "49.5"
      ]
     },
     "execution_count": 59,
     "metadata": {},
     "output_type": "execute_result"
    }
   ],
   "source": [
    "ps4_price / 2 "
   ]
  },
  {
   "cell_type": "code",
   "execution_count": 66,
   "id": "46d05aae",
   "metadata": {},
   "outputs": [
    {
     "name": "stdout",
     "output_type": "stream",
     "text": [
      "Please enter the mark: 85\n",
      "A (Excellent)\n"
     ]
    }
   ],
   "source": [
    "math_mark = int(input('Please enter the mark: '))\n",
    "\n",
    "if math_mark >=85:\n",
    "    print(\"A (Excellent)\")\n",
    "elif math_mark >=70 and math_mark <=84:\n",
    "    print(\"B (Good)\")\n",
    "elif math_mark >=60 and math_mark <=69:\n",
    "    print(\"C (Medium)\")\n",
    "elif math_mark >=45 and math_mark <=59:\n",
    "    print(\"D (Not Bad)\")\n",
    "else:\n",
    "    print(\"F (Failed)\")\n"
   ]
  },
  {
   "cell_type": "markdown",
   "id": "d9dc7e87",
   "metadata": {},
   "source": [
    "# check yourself 2"
   ]
  },
  {
   "cell_type": "code",
   "execution_count": 67,
   "id": "825a6191",
   "metadata": {},
   "outputs": [
    {
     "name": "stdout",
     "output_type": "stream",
     "text": [
      "1996\n"
     ]
    }
   ],
   "source": [
    "a =998\n",
    "if a >= 999 :\n",
    "    print(a ** 0)  \n",
    "\n",
    "else :\n",
    "    print(a * 2)"
   ]
  },
  {
   "cell_type": "code",
   "execution_count": 71,
   "id": "bf98cacc",
   "metadata": {},
   "outputs": [
    {
     "name": "stdout",
     "output_type": "stream",
     "text": [
      "100\n",
      "120\n",
      "120\n"
     ]
    }
   ],
   "source": [
    "a =int(input())\n",
    "b =int(input())\n",
    "max = a\n",
    "if b > max:\n",
    "    max =b\n",
    "print(max)\n",
    "\n",
    "\n"
   ]
  },
  {
   "cell_type": "code",
   "execution_count": 72,
   "id": "cc9764c1",
   "metadata": {},
   "outputs": [
    {
     "name": "stdout",
     "output_type": "stream",
     "text": [
      "Day 1 : Monday\n",
      "Day 2 : Tuesday\n",
      "Day 3 : Wednesday\n",
      "Day 4 : Thursday\n",
      "Day 5 : Friday\n"
     ]
    }
   ],
   "source": [
    "weekdays = ['Monday', 'Tuesday', 'Wednesday', 'Thursday', 'Friday']\n",
    "for day in range (len (weekdays)):\n",
    "    print('Day', day+1, ':', weekdays[day])"
   ]
  },
  {
   "cell_type": "code",
   "execution_count": 82,
   "id": "bbf71d78",
   "metadata": {},
   "outputs": [
    {
     "name": "stdout",
     "output_type": "stream",
     "text": [
      "This month is not categorized\n"
     ]
    }
   ],
   "source": [
    "month = \"August\"\n",
    "spring = \"September, April, January\"\n",
    "autumn = \"March, October, July\"\n",
    "\n",
    "if (month in spring) or (month in autumn):\n",
    "    if month in autumn:\n",
    "        print(\"This is a spring month\")\n",
    "    else:\n",
    "        print(\"This is an autumn month\")\n",
    "else:\n",
    "    print(\"This month is not categorized\")"
   ]
  },
  {
   "cell_type": "code",
   "execution_count": 86,
   "id": "0fcfba68",
   "metadata": {},
   "outputs": [
    {
     "name": "stdout",
     "output_type": "stream",
     "text": [
      "Please enter a number: 4\n",
      "0\n",
      "1\n",
      "4\n",
      "9\n"
     ]
    }
   ],
   "source": [
    "number = int(input('Please enter a number: '))\n",
    "a = 0\n",
    "while a < number :\n",
    "    print(a**2)\n",
    "    a += 1"
   ]
  },
  {
   "cell_type": "code",
   "execution_count": 91,
   "id": "752abf9e",
   "metadata": {
    "scrolled": true
   },
   "outputs": [
    {
     "name": "stdout",
     "output_type": "stream",
     "text": [
      "The type of {'section': 5, 'topic': 2} is <class 'dict'>\n",
      "The type of clarusway is <class 'str'>\n",
      "The type of [1, 4] is <class 'list'>\n",
      "The type of 2020 is <class 'int'>\n",
      "The type of 3.14 is <class 'float'>\n",
      "The type of (1+618j) is <class 'complex'>\n",
      "The type of False is <class 'bool'>\n",
      "The type of (10, 20) is <class 'tuple'>\n"
     ]
    }
   ],
   "source": [
    "sample_list = [{\"section\":5, \"topic\":2}, 'clarusway', [1, 4], 2020, 3.14, 1+618j, False, (10, 20)]\n",
    "for i in range (len(sample_list)):\n",
    "    print(\"The type of {} is {}\".format(sample_list[i], type(sample_list[i])))"
   ]
  },
  {
   "cell_type": "code",
   "execution_count": 96,
   "id": "e53db341",
   "metadata": {},
   "outputs": [
    {
     "name": "stdout",
     "output_type": "stream",
     "text": [
      "----------\n",
      "1 x 1 = 1\n",
      "2 x 1 = 2\n",
      "3 x 1 = 3\n",
      "4 x 1 = 4\n",
      "5 x 1 = 5\n",
      "6 x 1 = 6\n",
      "7 x 1 = 7\n",
      "8 x 1 = 8\n",
      "9 x 1 = 9\n",
      "10 x 1 = 10\n",
      "----------\n",
      "1 x 2 = 2\n",
      "2 x 2 = 4\n",
      "3 x 2 = 6\n",
      "4 x 2 = 8\n",
      "5 x 2 = 10\n",
      "6 x 2 = 12\n",
      "7 x 2 = 14\n",
      "8 x 2 = 16\n",
      "9 x 2 = 18\n",
      "10 x 2 = 20\n",
      "----------\n",
      "1 x 3 = 3\n",
      "2 x 3 = 6\n",
      "3 x 3 = 9\n",
      "4 x 3 = 12\n",
      "5 x 3 = 15\n",
      "6 x 3 = 18\n",
      "7 x 3 = 21\n",
      "8 x 3 = 24\n",
      "9 x 3 = 27\n",
      "10 x 3 = 30\n",
      "----------\n",
      "1 x 4 = 4\n",
      "2 x 4 = 8\n",
      "3 x 4 = 12\n",
      "4 x 4 = 16\n",
      "5 x 4 = 20\n",
      "6 x 4 = 24\n",
      "7 x 4 = 28\n",
      "8 x 4 = 32\n",
      "9 x 4 = 36\n",
      "10 x 4 = 40\n",
      "----------\n",
      "1 x 5 = 5\n",
      "2 x 5 = 10\n",
      "3 x 5 = 15\n",
      "4 x 5 = 20\n",
      "5 x 5 = 25\n",
      "6 x 5 = 30\n",
      "7 x 5 = 35\n",
      "8 x 5 = 40\n",
      "9 x 5 = 45\n",
      "10 x 5 = 50\n",
      "----------\n",
      "1 x 6 = 6\n",
      "2 x 6 = 12\n",
      "3 x 6 = 18\n",
      "4 x 6 = 24\n",
      "5 x 6 = 30\n",
      "6 x 6 = 36\n",
      "7 x 6 = 42\n",
      "8 x 6 = 48\n",
      "9 x 6 = 54\n",
      "10 x 6 = 60\n",
      "----------\n",
      "1 x 7 = 7\n",
      "2 x 7 = 14\n",
      "3 x 7 = 21\n",
      "4 x 7 = 28\n",
      "5 x 7 = 35\n",
      "6 x 7 = 42\n",
      "7 x 7 = 49\n",
      "8 x 7 = 56\n",
      "9 x 7 = 63\n",
      "10 x 7 = 70\n",
      "----------\n",
      "1 x 8 = 8\n",
      "2 x 8 = 16\n",
      "3 x 8 = 24\n",
      "4 x 8 = 32\n",
      "5 x 8 = 40\n",
      "6 x 8 = 48\n",
      "7 x 8 = 56\n",
      "8 x 8 = 64\n",
      "9 x 8 = 72\n",
      "10 x 8 = 80\n",
      "----------\n",
      "1 x 9 = 9\n",
      "2 x 9 = 18\n",
      "3 x 9 = 27\n",
      "4 x 9 = 36\n",
      "5 x 9 = 45\n",
      "6 x 9 = 54\n",
      "7 x 9 = 63\n",
      "8 x 9 = 72\n",
      "9 x 9 = 81\n",
      "10 x 9 = 90\n",
      "----------\n",
      "1 x 10 = 10\n",
      "2 x 10 = 20\n",
      "3 x 10 = 30\n",
      "4 x 10 = 40\n",
      "5 x 10 = 50\n",
      "6 x 10 = 60\n",
      "7 x 10 = 70\n",
      "8 x 10 = 80\n",
      "9 x 10 = 90\n",
      "10 x 10 = 100\n"
     ]
    }
   ],
   "source": [
    "for i in range(1,11):\n",
    "    print(\"----------\")\n",
    "    for k in range(1,11):\n",
    "        print(\"{} x {} = {}\".format(k,i,i*k))"
   ]
  },
  {
   "cell_type": "code",
   "execution_count": null,
   "id": "03d61203",
   "metadata": {},
   "outputs": [],
   "source": []
  }
 ],
 "metadata": {
  "kernelspec": {
   "display_name": "Python 3",
   "language": "python",
   "name": "python3"
  },
  "language_info": {
   "codemirror_mode": {
    "name": "ipython",
    "version": 3
   },
   "file_extension": ".py",
   "mimetype": "text/x-python",
   "name": "python",
   "nbconvert_exporter": "python",
   "pygments_lexer": "ipython3",
   "version": "3.8.8"
  }
 },
 "nbformat": 4,
 "nbformat_minor": 5
}
