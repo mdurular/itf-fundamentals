{
 "cells": [
  {
   "cell_type": "code",
   "execution_count": 2,
   "id": "f972a874",
   "metadata": {},
   "outputs": [],
   "source": [
    "country = ['USA', 'Brasil', 'UK', 'Germany', 'Turkey', 'New Zealand']"
   ]
  },
  {
   "cell_type": "code",
   "execution_count": 3,
   "id": "1586d9d8",
   "metadata": {},
   "outputs": [
    {
     "data": {
      "text/plain": [
       "['USA', 'Brasil', 'UK', 'Germany', 'Turkey', 'New Zealand']"
      ]
     },
     "execution_count": 3,
     "metadata": {},
     "output_type": "execute_result"
    }
   ],
   "source": [
    "country"
   ]
  },
  {
   "cell_type": "code",
   "execution_count": 8,
   "id": "4b661463",
   "metadata": {},
   "outputs": [],
   "source": [
    "country.append(\"aaa\")"
   ]
  },
  {
   "cell_type": "code",
   "execution_count": 9,
   "id": "26305845",
   "metadata": {},
   "outputs": [
    {
     "data": {
      "text/plain": [
       "['aaa', 'USA', 'Brasil', 'UK', 'Germany', 'Turkey', 'New Zealand', 'aaa']"
      ]
     },
     "execution_count": 9,
     "metadata": {},
     "output_type": "execute_result"
    }
   ],
   "source": [
    "country"
   ]
  },
  {
   "cell_type": "code",
   "execution_count": 3,
   "id": "a1f62f6a",
   "metadata": {},
   "outputs": [
    {
     "name": "stdout",
     "output_type": "stream",
     "text": [
      "['I', ' ', 'q', 'u', 'i', 't', ' ', 's', 'm', 'o', 'k', 'i', 'n', 'g']\n",
      "['I quit smoking']\n"
     ]
    }
   ],
   "source": [
    "string_1 = 'I quit smoking'\n",
    "\n",
    "new_list_1 = list(string_1)  # we created multi element list\n",
    "print(new_list_1)\n",
    "\n",
    "new_list_2 = [string_1]  # this is a single element list\n",
    "print(new_list_2)\n"
   ]
  },
  {
   "cell_type": "code",
   "execution_count": 4,
   "id": "3e73dc66",
   "metadata": {},
   "outputs": [],
   "source": [
    "empty_list_1= []\n",
    "\n",
    "empty_list_2 = list()"
   ]
  },
  {
   "cell_type": "code",
   "execution_count": 5,
   "id": "0d615072",
   "metadata": {},
   "outputs": [
    {
     "name": "stdout",
     "output_type": "stream",
     "text": [
      "['114', 'plastic-free sea']\n"
     ]
    }
   ],
   "source": [
    "empty_list_1 = []\n",
    "empty_list_1.append('114')\n",
    "empty_list_1.append('plastic-free sea')\n",
    "\n",
    "print(empty_list_1) "
   ]
  },
  {
   "cell_type": "code",
   "execution_count": 6,
   "id": "b9f23dfe",
   "metadata": {},
   "outputs": [
    {
     "data": {
      "text/plain": [
       "'plastic-free sea'"
      ]
     },
     "execution_count": 6,
     "metadata": {},
     "output_type": "execute_result"
    }
   ],
   "source": [
    "empty_list_1[1]"
   ]
  },
  {
   "cell_type": "code",
   "execution_count": 4,
   "id": "8b8cf05d",
   "metadata": {},
   "outputs": [
    {
     "name": "stdout",
     "output_type": "stream",
     "text": [
      "['New York', 'London', 'Istanbul', 'Seoul', 'Addis Ababa', 'Sydney']\n"
     ]
    }
   ],
   "source": [
    "city = ['New York', 'London', 'Istanbul', 'Seoul', 'Sydney']\n",
    "city.insert(-1, 'Addis Ababa')\n",
    "\n",
    "print(city) \n"
   ]
  },
  {
   "cell_type": "code",
   "execution_count": 8,
   "id": "faaa9153",
   "metadata": {},
   "outputs": [
    {
     "name": "stdout",
     "output_type": "stream",
     "text": [
      "l\n"
     ]
    }
   ],
   "source": [
    "fruits = ['apple', 'banana', 'watermelon', 'orange', 'mango', 'avocado']\n",
    "\n",
    "fruit_list = []\n",
    "fruit_list.insert(0, fruits)\n",
    "print(fruit_list[0][2][7])"
   ]
  },
  {
   "cell_type": "code",
   "execution_count": 10,
   "id": "29bed247",
   "metadata": {},
   "outputs": [
    {
     "name": "stdout",
     "output_type": "stream",
     "text": [
      "[12, 34, 56]\n"
     ]
    }
   ],
   "source": [
    "print([[12, 34, 56]][0])"
   ]
  },
  {
   "cell_type": "code",
   "execution_count": 11,
   "id": "a5979b6a",
   "metadata": {},
   "outputs": [
    {
     "name": "stdout",
     "output_type": "stream",
     "text": [
      "('love',)\n",
      "<class 'tuple'>\n"
     ]
    }
   ],
   "source": [
    "try_tuple = ('love',)\n",
    "\n",
    "print(try_tuple)\n",
    "\n",
    "print(type(try_tuple)) # it's not tuple type."
   ]
  },
  {
   "cell_type": "code",
   "execution_count": 12,
   "id": "97105042",
   "metadata": {},
   "outputs": [
    {
     "name": "stdout",
     "output_type": "stream",
     "text": [
      "('mercury', 'jupiter', 'saturn')\n",
      "<class 'tuple'>\n"
     ]
    }
   ],
   "source": [
    "planets = 'mercury', 'jupiter', 'saturn'\n",
    "\n",
    "print(planets)\n",
    "print(type(planets))\n"
   ]
  },
  {
   "cell_type": "code",
   "execution_count": 14,
   "id": "081d7595",
   "metadata": {},
   "outputs": [
    {
     "data": {
      "text/plain": [
       "('mercury', 'jupiter', 'saturn')"
      ]
     },
     "execution_count": 14,
     "metadata": {},
     "output_type": "execute_result"
    }
   ],
   "source": [
    "planets"
   ]
  },
  {
   "cell_type": "code",
   "execution_count": 1,
   "id": "29496c6d",
   "metadata": {},
   "outputs": [
    {
     "data": {
      "text/plain": [
       "('Tokyo', 'Istanbul', 'Moskow', 'Dublin')"
      ]
     },
     "execution_count": 1,
     "metadata": {},
     "output_type": "execute_result"
    }
   ],
   "source": [
    "city_list = ['Tokyo', 'Istanbul', 'Moskow', 'Dublin']\n",
    "\n",
    "city_tuple = tuple(city_list)\n",
    "city_tuple"
   ]
  },
  {
   "cell_type": "code",
   "execution_count": 1,
   "id": "62e64863",
   "metadata": {},
   "outputs": [
    {
     "ename": "AttributeError",
     "evalue": "'tuple' object has no attribute 'append'",
     "output_type": "error",
     "traceback": [
      "\u001b[1;31m---------------------------------------------------------------------------\u001b[0m",
      "\u001b[1;31mAttributeError\u001b[0m                            Traceback (most recent call last)",
      "\u001b[1;32m<ipython-input-1-0ca9ec98ccea>\u001b[0m in \u001b[0;36m<module>\u001b[1;34m\u001b[0m\n\u001b[0;32m      1\u001b[0m \u001b[0mmix_value\u001b[0m \u001b[1;33m=\u001b[0m \u001b[1;33m(\u001b[0m\u001b[1;36m10\u001b[0m\u001b[1;33m,\u001b[0m \u001b[1;32mFalse\u001b[0m\u001b[1;33m,\u001b[0m \u001b[1;34m'fruit'\u001b[0m\u001b[1;33m,\u001b[0m \u001b[1;36m1.618\u001b[0m\u001b[1;33m)\u001b[0m\u001b[1;33m\u001b[0m\u001b[1;33m\u001b[0m\u001b[0m\n\u001b[1;32m----> 2\u001b[1;33m \u001b[0mmix_value\u001b[0m\u001b[1;33m.\u001b[0m\u001b[0mappend\u001b[0m\u001b[1;33m(\u001b[0m\u001b[1;33m[\u001b[0m\u001b[1;34m'vegetable'\u001b[0m\u001b[1;33m,\u001b[0m \u001b[1;36m2\u001b[0m\u001b[1;33m+\u001b[0m\u001b[1;36m3j\u001b[0m\u001b[1;33m]\u001b[0m\u001b[1;33m)\u001b[0m\u001b[1;33m\u001b[0m\u001b[1;33m\u001b[0m\u001b[0m\n\u001b[0m\u001b[0;32m      3\u001b[0m \u001b[1;33m\u001b[0m\u001b[0m\n\u001b[0;32m      4\u001b[0m \u001b[0mprint\u001b[0m\u001b[1;33m(\u001b[0m\u001b[0mlen\u001b[0m\u001b[1;33m(\u001b[0m\u001b[0mmix_value\u001b[0m\u001b[1;33m)\u001b[0m\u001b[1;33m)\u001b[0m\u001b[1;33m\u001b[0m\u001b[1;33m\u001b[0m\u001b[0m\n",
      "\u001b[1;31mAttributeError\u001b[0m: 'tuple' object has no attribute 'append'"
     ]
    }
   ],
   "source": [
    "mix_value = (10, False, 'fruit', 1.618)\n",
    "mix_value.append(['vegetable', 2+3j])\n",
    "\n",
    "print(len(mix_value))"
   ]
  },
  {
   "cell_type": "code",
   "execution_count": 9,
   "id": "6fb110f2",
   "metadata": {},
   "outputs": [
    {
     "data": {
      "text/plain": [
       "[10, 9, 8, 7, 6, 5, 4, 3, 2, 1]"
      ]
     },
     "execution_count": 9,
     "metadata": {},
     "output_type": "execute_result"
    }
   ],
   "source": [
    "newList = list(range(1,11))\n",
    "a = sorted(newList, reverse=True)\n",
    "a"
   ]
  },
  {
   "cell_type": "code",
   "execution_count": 23,
   "id": "2f1f5fc4",
   "metadata": {},
   "outputs": [
    {
     "name": "stdout",
     "output_type": "stream",
     "text": [
      "My two favorite flowers are tulip and rose, two favorite colors are blue and green.\n"
     ]
    }
   ],
   "source": [
    "flowers = [[\"jasmine\", [\"lavender\", \"rose\"], \"tulip\"]]\n",
    "colors = [\"red\", (\"blue\", [\"yellow\", \"green\"]), \"pink\"]\n",
    "text = (\"My two favorite flowers are {} and {}, two favorite colors are {} and {}.\".format(flowers[0][2], flowers[0][1][1], colors[1][0], colors[1][1][1]))\n",
    "print(text)"
   ]
  },
  {
   "cell_type": "code",
   "execution_count": null,
   "id": "ed1074b8",
   "metadata": {},
   "outputs": [],
   "source": [
    "\"My two favorite flowers are tulip and rose, two favorite colors are blue and green.\""
   ]
  },
  {
   "cell_type": "code",
   "execution_count": 22,
   "id": "aab0cc8f",
   "metadata": {},
   "outputs": [
    {
     "name": "stdout",
     "output_type": "stream",
     "text": [
      "tulip rose blue green\n"
     ]
    }
   ],
   "source": [
    "print(flowers[0][2], flowers[0][1][1], colors[1][0], colors[1][1][1])"
   ]
  },
  {
   "cell_type": "code",
   "execution_count": 21,
   "id": "441206c1",
   "metadata": {},
   "outputs": [
    {
     "data": {
      "text/plain": [
       "'green'"
      ]
     },
     "execution_count": 21,
     "metadata": {},
     "output_type": "execute_result"
    }
   ],
   "source": [
    "colors[1][1][1]"
   ]
  },
  {
   "cell_type": "code",
   "execution_count": 29,
   "id": "26d951b6",
   "metadata": {},
   "outputs": [
    {
     "name": "stdout",
     "output_type": "stream",
     "text": [
      "I am 40 years old. \n",
      "\tI have two children. \n",
      "\t\tData Science is my IT domain.\n"
     ]
    }
   ],
   "source": [
    "escapes = [\"\\n\\t\", (\"\\t\", \"\\t\\t\"), [\"\\n\", \"\\n\\t\\t\"]]\n",
    "\n",
    "sentence = \"I am 40 years old. {}I have two children. {}Data Science is my IT domain.\".format(escapes[0], escapes[2][1])\n",
    "\n",
    "print(sentence)"
   ]
  },
  {
   "cell_type": "code",
   "execution_count": 30,
   "id": "cdafc273",
   "metadata": {},
   "outputs": [],
   "source": [
    "empty_dict_1 = {}\n",
    "\n",
    "empty_dict_2 = dict()"
   ]
  },
  {
   "cell_type": "code",
   "execution_count": 31,
   "id": "01dc5a78",
   "metadata": {},
   "outputs": [
    {
     "name": "stdout",
     "output_type": "stream",
     "text": [
      "<class 'dict'>\n"
     ]
    }
   ],
   "source": [
    "empty_dict_1 = {}\n",
    "\n",
    "print(type(empty_dict_1))"
   ]
  },
  {
   "cell_type": "code",
   "execution_count": 32,
   "id": "6be661e9",
   "metadata": {},
   "outputs": [
    {
     "name": "stdout",
     "output_type": "stream",
     "text": [
      "Denver\n"
     ]
    }
   ],
   "source": [
    "state_capitals = {'Arkansas': 'Little Rock',\n",
    "                  'Colorado': 'Denver',\n",
    "                  'California': 'Sacramento',\n",
    "                  'Georgia': 'Atlanta' \n",
    "                 }\n",
    "\n",
    "print(state_capitals['Colorado']) # accessing method"
   ]
  },
  {
   "cell_type": "code",
   "execution_count": 33,
   "id": "d1d2cf63",
   "metadata": {},
   "outputs": [
    {
     "name": "stdout",
     "output_type": "stream",
     "text": [
      "{'Arkansas': 'Little Rock', 'Colorado': 'Denver', 'California': 'Sacramento', 'Georgia': 'Atlanta', 'Virginia': 'Richmond'}\n"
     ]
    }
   ],
   "source": [
    "state_capitals = {'Arkansas': 'Little Rock',\n",
    "                  'Colorado': 'Denver',\n",
    "                  'California': 'Sacramento',\n",
    "                  'Georgia': 'Atlanta' \n",
    "                 }\n",
    "\n",
    "state_capitals['Virginia'] = 'Richmond' # adding a new item\n",
    "\n",
    "print(state_capitals)"
   ]
  },
  {
   "cell_type": "code",
   "execution_count": 34,
   "id": "1c1b00b2",
   "metadata": {},
   "outputs": [],
   "source": [
    "mix_values = {'animal': ('dog', 'cat'),  # tuple type\n",
    "              'planet': ['Neptun', 'Saturn', 'Jupiter'],  # list type\n",
    "              'number': 40,  # int type\n",
    "              'pi': 3.14,  # float type\n",
    "              'is_good': True}  # bool type\n",
    "\n",
    "mix_keys = {22 : \"integer\",\n",
    "            1.2 : \"float\",\n",
    "            True : \"boolean\",\n",
    "            \"key\" : \"string\"}\n"
   ]
  },
  {
   "cell_type": "code",
   "execution_count": 35,
   "id": "1d7316ad",
   "metadata": {},
   "outputs": [
    {
     "name": "stdout",
     "output_type": "stream",
     "text": [
      "{'animal': 'dog', 'planet': 'neptun', 'number': 40, 'pi': 3.14, 'is_good': True}\n"
     ]
    }
   ],
   "source": [
    "dict_by_dict = dict(animal='dog', planet='neptun', number=40, pi=3.14, is_good=True)\n",
    "\n",
    "print(dict_by_dict)"
   ]
  },
  {
   "cell_type": "code",
   "execution_count": 36,
   "id": "63ffa7c3",
   "metadata": {},
   "outputs": [
    {
     "name": "stdout",
     "output_type": "stream",
     "text": [
      "dict_items([('animal', 'dog'), ('planet', 'neptun'), ('number', 40), ('pi', 3.14), ('is_good', True)]) \n",
      "\n",
      "dict_keys(['animal', 'planet', 'number', 'pi', 'is_good']) \n",
      "\n",
      "dict_values(['dog', 'neptun', 40, 3.14, True])\n"
     ]
    }
   ],
   "source": [
    "dict_by_dict = {'animal': 'dog',\n",
    "                'planet': 'neptun',\n",
    "                'number': 40,\n",
    "                'pi': 3.14,\n",
    "                'is_good': True}\n",
    "\n",
    "print(dict_by_dict.items(), '\\n')\n",
    "print(dict_by_dict.keys(), '\\n')\n",
    "print(dict_by_dict.values())\n"
   ]
  },
  {
   "cell_type": "code",
   "execution_count": 39,
   "id": "e157793c",
   "metadata": {},
   "outputs": [
    {
     "name": "stdout",
     "output_type": "stream",
     "text": [
      "32\n"
     ]
    }
   ],
   "source": [
    "student_ages = {\"Harry\": 29,\n",
    "                \"Clark\": 32,\n",
    "                \"Peter\": 22,\n",
    "                \"Bruce\": 36}\n",
    "                \n",
    "print(student_ages['Clark'])"
   ]
  },
  {
   "cell_type": "code",
   "execution_count": 41,
   "id": "ddb41683",
   "metadata": {},
   "outputs": [
    {
     "data": {
      "text/plain": [
       "{' ', 'c', 'd', 'e', 'f', 'h', 'i', 'l', 'n', 'o', 's', 't', 'v'}"
      ]
     },
     "execution_count": 41,
     "metadata": {},
     "output_type": "execute_result"
    }
   ],
   "source": [
    "a = set('listen to the voice of enlisted')\n",
    "a"
   ]
  },
  {
   "cell_type": "code",
   "execution_count": 42,
   "id": "1636471c",
   "metadata": {},
   "outputs": [
    {
     "name": "stdout",
     "output_type": "stream",
     "text": [
      "25\n"
     ]
    }
   ],
   "source": [
    "numbers = {}\n",
    "\n",
    "numbers['x'] = 12\n",
    "numbers['y'] = 4\n",
    "numbers.update({'z': 3})\n",
    "\n",
    "print(numbers['x'] + numbers['y'] + numbers['z']**2)"
   ]
  },
  {
   "cell_type": "code",
   "execution_count": 44,
   "id": "5d0affc9",
   "metadata": {},
   "outputs": [
    {
     "name": "stdout",
     "output_type": "stream",
     "text": [
      "spinach\n"
     ]
    }
   ],
   "source": [
    "fruits_vegetables = [\"fruit\", \"vegetable\", [\"apple\", \"banana\", [\"mango\", \"avocado\"]], [\"spinach\", \"broccoli\"]]\n",
    "print(fruits_vegetables[3][0])"
   ]
  },
  {
   "cell_type": "code",
   "execution_count": 45,
   "id": "871f63d2",
   "metadata": {},
   "outputs": [
    {
     "name": "stdout",
     "output_type": "stream",
     "text": [
      "('Meghan', 'Tom', 'Nicole', 'Tim')\n"
     ]
    }
   ],
   "source": [
    "family_members = ['Meghan', 'Tom', 'Nicole', 'Tim']\n",
    "family_members = tuple(family_members)\n",
    "print(family_members)"
   ]
  },
  {
   "cell_type": "code",
   "execution_count": 46,
   "id": "333df4d8",
   "metadata": {},
   "outputs": [
    {
     "data": {
      "text/plain": [
       "tuple"
      ]
     },
     "execution_count": 46,
     "metadata": {},
     "output_type": "execute_result"
    }
   ],
   "source": [
    "type(family_members)"
   ]
  },
  {
   "cell_type": "code",
   "execution_count": 4,
   "id": "c6f89bea",
   "metadata": {},
   "outputs": [],
   "source": [
    "date = \"07/12/2021\"\n"
   ]
  },
  {
   "cell_type": "code",
   "execution_count": 5,
   "id": "5293c17c",
   "metadata": {},
   "outputs": [
    {
     "data": {
      "text/plain": [
       "{'/', '0', '1', '2', '7'}"
      ]
     },
     "execution_count": 5,
     "metadata": {},
     "output_type": "execute_result"
    }
   ],
   "source": [
    "set(date)"
   ]
  },
  {
   "cell_type": "code",
   "execution_count": null,
   "id": "2615a0a8",
   "metadata": {},
   "outputs": [],
   "source": []
  }
 ],
 "metadata": {
  "kernelspec": {
   "display_name": "Python 3",
   "language": "python",
   "name": "python3"
  },
  "language_info": {
   "codemirror_mode": {
    "name": "ipython",
    "version": 3
   },
   "file_extension": ".py",
   "mimetype": "text/x-python",
   "name": "python",
   "nbconvert_exporter": "python",
   "pygments_lexer": "ipython3",
   "version": "3.8.8"
  }
 },
 "nbformat": 4,
 "nbformat_minor": 5
}
