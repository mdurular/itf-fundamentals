{
 "cells": [
  {
   "cell_type": "code",
   "execution_count": 2,
   "id": "4061d514",
   "metadata": {},
   "outputs": [],
   "source": [
    "colors = ['red', 'green', 'yellow', 'white', 'black']\n",
    "\n",
    "with open(\"new_file.txt\", 'w', encoding=\"utf-8\") as file:\n",
    "    for color in colors:\n",
    "        file.write(color + \"\\n\")"
   ]
  },
  {
   "cell_type": "code",
   "execution_count": 3,
   "id": "cb832054",
   "metadata": {},
   "outputs": [
    {
     "name": "stdout",
     "output_type": "stream",
     "text": [
      "red\n",
      "green\n",
      "yellow\n",
      "white\n",
      "black\n",
      "\n"
     ]
    }
   ],
   "source": [
    "with open('new_file.txt', 'r', encoding = \"utf-8\") as sea:\n",
    "    print(sea.read())"
   ]
  },
  {
   "cell_type": "code",
   "execution_count": null,
   "id": "46e63540",
   "metadata": {},
   "outputs": [],
   "source": []
  }
 ],
 "metadata": {
  "kernelspec": {
   "display_name": "Python 3",
   "language": "python",
   "name": "python3"
  },
  "language_info": {
   "codemirror_mode": {
    "name": "ipython",
    "version": 3
   },
   "file_extension": ".py",
   "mimetype": "text/x-python",
   "name": "python",
   "nbconvert_exporter": "python",
   "pygments_lexer": "ipython3",
   "version": "3.8.8"
  }
 },
 "nbformat": 4,
 "nbformat_minor": 5
}
