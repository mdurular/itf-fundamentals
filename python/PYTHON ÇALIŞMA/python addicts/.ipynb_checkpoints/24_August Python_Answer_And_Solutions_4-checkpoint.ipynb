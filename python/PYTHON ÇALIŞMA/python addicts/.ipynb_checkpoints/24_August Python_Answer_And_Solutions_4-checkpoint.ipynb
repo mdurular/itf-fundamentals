{
 "cells": [
  {
   "cell_type": "markdown",
   "id": "0d769c51",
   "metadata": {},
   "source": [
    "# 24_August Python_Answer_And_Solutions"
   ]
  },
  {
   "cell_type": "markdown",
   "id": "0f9b1fd0",
   "metadata": {},
   "source": [
    "# Answer-1\n",
    "\n",
    "Negatif olmayan iki sayı alınız ve bu iki sayı arasındaki sayılardan tek olanları key, karelerini de value olacak şekilde sözlük haline getiren bir fonksiyon yazınız. (Sayıların kendileri dahil!)"
   ]
  },
  {
   "cell_type": "code",
   "execution_count": 1,
   "id": "3648f1a2",
   "metadata": {},
   "outputs": [
    {
     "data": {
      "text/plain": [
       "{1: 1, 3: 9, 5: 25, 7: 49, 9: 81, 11: 121, 13: 169, 15: 225, 17: 289, 19: 361}"
      ]
     },
     "execution_count": 1,
     "metadata": {},
     "output_type": "execute_result"
    }
   ],
   "source": [
    "def kare_al(num1, num2):\n",
    "    sozluk = dict()\n",
    "    \n",
    "    for i in range(num1, num2+1):\n",
    "        if i % 2 != 0:\n",
    "            sozluk[i] = i ** 2\n",
    "            \n",
    "    return sozluk\n",
    "\n",
    "kare_al(1, 20)"
   ]
  },
  {
   "cell_type": "markdown",
   "id": "d47272cb",
   "metadata": {},
   "source": [
    "# Answer-2\n",
    "\n",
    "Verilen bir kuruluşu oluşturan kelimelerin baş harflerini kullanarak kısaltma oluşturan bir fonksiyon yazınız."
   ]
  },
  {
   "cell_type": "code",
   "execution_count": 13,
   "id": "ef1762b5",
   "metadata": {},
   "outputs": [
    {
     "name": "stdout",
     "output_type": "stream",
     "text": [
      "İBB"
     ]
    }
   ],
   "source": [
    "def kısaltma(kuruluş):\n",
    "    \n",
    "    liste = []\n",
    "    \n",
    "    kuruluş = kuruluş.split()\n",
    "    \n",
    "    for i in kuruluş:\n",
    "        if i[0] == \"i\":\n",
    "            i = i.replace(\"i\", \"İ\")\n",
    "            \n",
    "        liste.append(i.capitalize())\n",
    "        \n",
    "    for i in liste:\n",
    "        print(i[0], end=\"\")\n",
    "        \n",
    "            \n",
    "kısaltma(\"istanbul büyükşehir belediyesi\")"
   ]
  },
  {
   "cell_type": "markdown",
   "id": "a9ca7c9f",
   "metadata": {},
   "source": [
    "# Answer-3\n",
    "\n",
    "Ardışık sıfırlar ve birler:\n",
    "\n",
    "Bu sorunun amacı, yalnızca sıfırlar ve birlerden oluşan bir ikili diziyi analiz etmektir. Kodunuz, dizedeki en büyük ardışık sıfır ve birlerin sayısını bulmalıdır. Örneğin, dize verildiğinde:\n",
    "\n",
    "\"1001101000110\" Ardışık sıfırların en büyük sayısı 3'tür.\n",
    "\n",
    "\"1001101000110\" Ardışık birlerin en büyük sayısı 2'dir.\n",
    "\n",
    "Sıfırlar ve birler dizisi olan tek bir parametre alan ardışık_sıfırlar adlı bir işlev tanımlayın. İşleviniz yukarıda açıklanan numarayı döndürmelidir."
   ]
  },
  {
   "cell_type": "code",
   "execution_count": 19,
   "id": "a58d8c9f",
   "metadata": {},
   "outputs": [
    {
     "name": "stdout",
     "output_type": "stream",
     "text": [
      "Ardışık sıfırların en büyük sayısı:  3\n",
      "Ardışık birlerin en büyük sayısı:  2\n"
     ]
    }
   ],
   "source": [
    "def ardışık_sayı(number):\n",
    "    number = str(number)\n",
    "    \n",
    "    number0 = number.split(\"1\")\n",
    "    number1 = number.split(\"0\")\n",
    "    \n",
    "    print(\"Ardışık sıfırların en büyük sayısı: \", len(max(number0)))\n",
    "    print(\"Ardışık birlerin en büyük sayısı: \", len(max(number1)))\n",
    "    \n",
    "\n",
    "ardışık_sayı(1001101000110)"
   ]
  },
  {
   "cell_type": "markdown",
   "id": "f3636c1e",
   "metadata": {},
   "source": [
    "# Answer-4\n",
    "\n",
    "Parametre olarak negatif olmayan bir sayı alan \"format_number\" adında bir fonksiyon yazın.\n",
    "\n",
    "Fonksiyonunuz sayıyı bir stringe dönüştürmeli ve binlik ayırıcı olarak virgül eklemelidir.\n",
    "\n",
    "Örneğin, format_number(1000000) Output: \"1,000,000\" çıktısını vermelidir."
   ]
  },
  {
   "cell_type": "code",
   "execution_count": 23,
   "id": "8e382d13",
   "metadata": {},
   "outputs": [
    {
     "data": {
      "text/plain": [
       "'1,000,000'"
      ]
     },
     "execution_count": 23,
     "metadata": {},
     "output_type": "execute_result"
    }
   ],
   "source": [
    "def format_number(number):\n",
    "    number = str(number)\n",
    "    \n",
    "    liste = []\n",
    "    \n",
    "    while number.isdigit():\n",
    "        liste.append(number[-3:])\n",
    "        number = number[:-3]\n",
    "        \n",
    "    return number + \",\".join(reversed(liste))        \n",
    "\n",
    "format_number(1000000)"
   ]
  },
  {
   "cell_type": "markdown",
   "id": "bc1f8af7",
   "metadata": {},
   "source": [
    "# Answer-5\n",
    "\n",
    "Kullanıcıdan alınan bir text dizisinin tüm noktalama işaretlerini temizleyen bir fonksiyon yazınız.\n"
   ]
  },
  {
   "cell_type": "code",
   "execution_count": 26,
   "id": "b45d0aad",
   "metadata": {},
   "outputs": [
    {
     "name": "stdout",
     "output_type": "stream",
     "text": [
      "Türk Dışişleri Bakanlığı Afgan mülteciler için Türkiye ve Pakistanda mülteci£½ merkezleri kurulacağı yönünde İngiliz basınında çıkan haberleri yalanladı Muhalefetten de haberlere sert tepkiler geldi\n"
     ]
    }
   ],
   "source": [
    "import string\n",
    "\n",
    "def clean_text(text):\n",
    "    for i in string.punctuation:\n",
    "        if i in text:\n",
    "            text = text.replace(i,\"\")\n",
    "            \n",
    "    print(text) \n",
    "\n",
    "\n",
    "clean_text(\"Türk Dışişleri Bakanlığı, Afgan mülteciler için? Türkiye ve Pakistan'da mülteci merkezleri kurulacağı yönünde İngiliz basınında çıkan haberleri yalanladı. Muhalefetten de haberlere sert tepkiler geldi.\")"
   ]
  },
  {
   "cell_type": "markdown",
   "id": "1903900c",
   "metadata": {},
   "source": [
    "# Answer-6\n",
    "\n",
    "Bir markete gittiniz. Markette her ürünün bir kod numarası var.\n",
    "1 : Domates 2 : Soğan 3 : Biber 4 : Yumurta 5 : Elma 6 : Armut ... vs. şeklinde.\n",
    "Kullanıcıya almak istediği ürünü sorunuz ve kod numarası ile seçim yaptırınız. Çıkış için \"q\" opsiyonunu sununuz. Kullanıcının her ürün seçimi sonrası \" .... domates sepete eklendi\" gibi bir dönüt veriniz. Kullanıcı ürün almaya devam ettikçe ürünleri bir listede toplayınız, almaktan vazgeçtiği durumda teşekkür edip, aldığı toplam ürünleri çıktı veren bir kod yazınız.\n",
    "Beklenen Çıktı:\n",
    "Teşekkür Ederiz...\n",
    "Sepetinizde Bulunan Ürünler: elma, armut, yumurta ... vs.\n"
   ]
  },
  {
   "cell_type": "code",
   "execution_count": 1,
   "id": "123d6b14",
   "metadata": {},
   "outputs": [
    {
     "name": "stdout",
     "output_type": "stream",
     "text": [
      "\n",
      "URUNLER\n",
      "1 : \"Domates\" \n",
      "2 : \"Soğan\"\n",
      "3 : \"Biber\"\n",
      "4 : \"Yumurta\" \n",
      "5 : \"Elma\"\n",
      "6 : \"Armut\"\n",
      "\n",
      "\n",
      "Ürün Kodu Giriniz, Çıkmak için q'ya basınız: 1\n",
      "Domates sepetinize eklendi...\n",
      "Ürün Kodu Giriniz, Çıkmak için q'ya basınız: 2\n",
      "Soğan sepetinize eklendi...\n",
      "Ürün Kodu Giriniz, Çıkmak için q'ya basınız: 3\n",
      "Biber sepetinize eklendi...\n",
      "Ürün Kodu Giriniz, Çıkmak için q'ya basınız: q\n",
      "Yine Bekleriz...\n",
      "Sepetinizdeki Ürünler:  ['Domates', 'Soğan', 'Biber']\n"
     ]
    }
   ],
   "source": [
    "urunler = {1 : \"Domates\", 2 : \"Soğan\", 3 : \"Biber\", 4 : \"Yumurta\", 5 : \"Elma\", 6 : \"Armut\" }\n",
    "print(\"\"\"\n",
    "URUNLER\n",
    "1 : \"Domates\" \n",
    "2 : \"Soğan\"\n",
    "3 : \"Biber\"\n",
    "4 : \"Yumurta\" \n",
    "5 : \"Elma\"\n",
    "6 : \"Armut\"\n",
    "\n",
    "\"\"\")\n",
    "sepet = []\n",
    "\n",
    "while True:\n",
    "    \n",
    "    select = input(\"Ürün Kodu Giriniz, Çıkmak için q'ya basınız: \")\n",
    "    \n",
    "    if select == \"q\" or select == \"Q\":\n",
    "        print(\"Yine Bekleriz...\")\n",
    "        break\n",
    "        \n",
    "    elif int(select) in urunler:\n",
    "        sepet.append(urunler[int(select)])\n",
    "        print(urunler[int(select)], \"sepetinize eklendi...\")\n",
    "        \n",
    "    else:\n",
    "        print(\"Hatalı Giriş Yaptınız, Tekrar Deneyiniz!\")\n",
    "        continue\n",
    "        \n",
    "print(\"Sepetinizdeki Ürünler: \", sepet)\n",
    "        "
   ]
  },
  {
   "cell_type": "markdown",
   "id": "0bb7c2ea",
   "metadata": {},
   "source": [
    "# Answer-7\n",
    "\n",
    "1 Ocak 1900 tarihi Pazartesi günüdür.\n",
    "\n",
    "1 Ocak 1900 ile 31 Aralık 2000 arasında kaç tane pazar günü olduğunu hesaplayan python kodu yazınız.\n",
    "\n",
    "Soruyu datetime modülünü kullanarak çözünüz."
   ]
  },
  {
   "cell_type": "code",
   "execution_count": 2,
   "id": "214832c6",
   "metadata": {},
   "outputs": [
    {
     "name": "stdout",
     "output_type": "stream",
     "text": [
      "5270\n"
     ]
    }
   ],
   "source": [
    "from datetime import date\n",
    "\n",
    "date1 = date(1900, 1, 1)\n",
    "date2 = date(2001, 1, 1)\n",
    "\n",
    "gun_sayısı = (date2 - date1).days\n",
    "\n",
    "pazar_sayısı = gun_sayısı // 7\n",
    "    \n",
    "print(pazar_sayısı)\n"
   ]
  },
  {
   "cell_type": "code",
   "execution_count": null,
   "id": "3777db4c",
   "metadata": {},
   "outputs": [],
   "source": []
  }
 ],
 "metadata": {
  "kernelspec": {
   "display_name": "Python 3",
   "language": "python",
   "name": "python3"
  },
  "language_info": {
   "codemirror_mode": {
    "name": "ipython",
    "version": 3
   },
   "file_extension": ".py",
   "mimetype": "text/x-python",
   "name": "python",
   "nbconvert_exporter": "python",
   "pygments_lexer": "ipython3",
   "version": "3.8.8"
  }
 },
 "nbformat": 4,
 "nbformat_minor": 5
}
