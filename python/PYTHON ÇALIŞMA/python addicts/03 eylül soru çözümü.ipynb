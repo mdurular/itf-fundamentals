{
 "cells": [
  {
   "cell_type": "raw",
   "metadata": {
    "id": "-8zRr1qSQGCS"
   },
   "source": [
    "1- Given two arrays of strings a1 and a2 return a sorted array r in lexicographical order of the strings of a1 which are substrings of strings of a2.\n",
    "\n",
    "Example 1:\n",
    "a1 = [\"arp\", \"live\", \"strong\"]\n",
    "\n",
    "a2 = [\"lively\", \"alive\", \"harp\", \"sharp\", \"armstrong\"]\n",
    "\n",
    "returns [\"arp\", \"live\", \"strong\"]\n",
    "\n",
    "Example 2:\n",
    "a1 = [\"tarp\", \"mice\", \"bull\"]\n",
    "\n",
    "a2 = [\"lively\", \"alive\", \"harp\", \"sharp\", \"armstrong\"]\n",
    "\n",
    "returns []\n",
    "\n",
    "Notes:\n",
    "Arrays are written in \"general\" notation. See \"Your Test Cases\" for examples in your language.\n",
    "\n",
    "In Shell bash a1 and a2 are strings. The return is a string where words are separated by commas.\n",
    "\n",
    "Beware: r must be without duplicates.[bağlantı metni](https://www.codewars.com/kata/550554fd08b86f84fe000a58)"
   ]
  },
  {
   "cell_type": "code",
   "execution_count": 7,
   "metadata": {
    "id": "mXCk_4N5OThw"
   },
   "outputs": [],
   "source": [
    "def in_array(array1, array2): \n",
    "    result = []\n",
    "    for i in array1:\n",
    "        for j in array2:\n",
    "            if i in j and i not in result:\n",
    "                result.append(i)\n",
    "    return result"
   ]
  },
  {
   "cell_type": "code",
   "execution_count": 8,
   "metadata": {},
   "outputs": [
    {
     "data": {
      "text/plain": [
       "['arp', 'live', 'strong']"
      ]
     },
     "execution_count": 8,
     "metadata": {},
     "output_type": "execute_result"
    }
   ],
   "source": [
    "in_array([\"arp\", \"live\", \"strong\"],[\"lively\", \"alive\", \"harp\", \"sharp\", \"armstrong\"])"
   ]
  },
  {
   "cell_type": "code",
   "execution_count": 9,
   "metadata": {
    "scrolled": false
   },
   "outputs": [
    {
     "data": {
      "text/plain": [
       "[]"
      ]
     },
     "execution_count": 9,
     "metadata": {},
     "output_type": "execute_result"
    }
   ],
   "source": [
    "in_array([\"tarp\", \"mice\", \"bull\"],[\"lively\", \"alive\", \"harp\", \"sharp\", \"armstrong\"])"
   ]
  },
  {
   "cell_type": "markdown",
   "metadata": {},
   "source": [
    "2 .Given a string of odd length greater than 7, return a new string made of the middle three characters of a given String:"
   ]
  },
  {
   "cell_type": "code",
   "execution_count": 5,
   "metadata": {
    "scrolled": true
   },
   "outputs": [
    {
     "name": "stdout",
     "output_type": "stream",
     "text": [
      "Original String is JhonDipPe\n",
      "Middle three chars are nDi\n",
      "Original String is Jasonay\n",
      "Middle three chars are son\n"
     ]
    }
   ],
   "source": [
    "def getMiddleThreeChars(word):\n",
    "  middleIndex = int(len(word) /2)\n",
    "  print(\"Original String is\", word)\n",
    "  middleThree = word[middleIndex-1:middleIndex+2]\n",
    "  print(\"Middle three chars are\", middleThree)\n",
    "getMiddleThreeChars(\"JhonDipPe\")\n",
    "getMiddleThreeChars(\"Jasonay\")"
   ]
  },
  {
   "cell_type": "raw",
   "metadata": {},
   "source": [
    "3.Removal all the characters other than integers from a string\n",
    "Given:str1 = 'I am 25 years and 10 months old'\n",
    "Expected Output:2510"
   ]
  },
  {
   "cell_type": "code",
   "execution_count": 6,
   "metadata": {},
   "outputs": [
    {
     "name": "stdout",
     "output_type": "stream",
     "text": [
      "Original string is I am 25 years and 10 months old\n",
      "2510\n"
     ]
    }
   ],
   "source": [
    "str1 = 'I am 25 years and 10 months old'\n",
    "print(\"Original string is\", str1)\n",
    "\n",
    "res = \"\".join([item for item in str1 if item.isdigit()])\n",
    "print(res)"
   ]
  },
  {
   "cell_type": "markdown",
   "metadata": {
    "id": "79CGrQiBRpXK"
   },
   "source": [
    "4- The goal of this exercise is to convert a string to a new string where each character in the new string is \"(\" if that character appears only once in the original string, or \")\" if that character appears more than once in the original string. Ignore capitalization when determining if a character is a duplicate.\n",
    "\n",
    "Examples\n",
    "\"din\"      =>  \"(((\"\n",
    "\"recede\"   =>  \"()()()\"\n",
    "\"Success\"  =>  \")())())\"\n",
    "\"(( @\"     =>  \"))((\" \n",
    "Notes\n",
    "\n",
    "Assertion messages may be unclear about what they display in some languages. If you read \"...It Should encode XXX\", the \"XXX\" is the expected result, not the input![bağlantı metni](https://www.codewars.com/kata/54b42f9314d9229fd6000d9c)"
   ]
  },
  {
   "cell_type": "code",
   "execution_count": 23,
   "metadata": {},
   "outputs": [
    {
     "data": {
      "text/plain": [
       "')())())'"
      ]
     },
     "execution_count": 23,
     "metadata": {},
     "output_type": "execute_result"
    }
   ],
   "source": [
    "def duplicate_encode(word):\n",
    "    result=\"\"\n",
    "    for i in word.lower():\n",
    "        if word.count(i)==1:\n",
    "            result+=\"(\"\n",
    "        else:\n",
    "            result+=\")\"\n",
    "    return result\n",
    "duplicate_encode(\"Success\")"
   ]
  },
  {
   "cell_type": "code",
   "execution_count": 26,
   "metadata": {
    "id": "AUsuYPqrSZCd"
   },
   "outputs": [
    {
     "data": {
      "text/plain": [
       "')())())'"
      ]
     },
     "execution_count": 26,
     "metadata": {},
     "output_type": "execute_result"
    }
   ],
   "source": [
    "def duplicate_encode1(word):\n",
    "      return \"\".join([\"(\" if word.count(i) == 1 else \")\" for i in word.lower()])\n",
    "duplicate_encode1(\"Success\")"
   ]
  },
  {
   "cell_type": "raw",
   "metadata": {
    "id": "mYCtofo3SZmG"
   },
   "source": [
    "5- Write a function, which takes an integer (seconds) as input and returns the time in a human-readable format (HH:MM:SS)\n",
    "\n",
    "HH = hours, padded to 2 digits, range: 00 - 99\n",
    "MM = minutes, padded to 2 digits, range: 00 - 59\n",
    "SS = seconds, padded to 2 digits, range: 00 - 59\n",
    "The maximum time never exceeds 359999 (99:59:59)\n",
    "[bağlantı metni](https://www.codewars.com/kata/52685f7382004e774f0001f7)"
   ]
  },
  {
   "cell_type": "code",
   "execution_count": 4,
   "metadata": {
    "id": "PxD2oigPS98C"
   },
   "outputs": [
    {
     "name": "stdout",
     "output_type": "stream",
     "text": [
      "1:32:35\n"
     ]
    }
   ],
   "source": [
    "def human_readable(seconds):\n",
    "    ss=seconds%60\n",
    "    mm=(seconds//60)%60\n",
    "    hh=(seconds//60)//60\n",
    "    return \"{}:{}:{}\".format(hh,mm,ss)\n",
    "print(human_readable(5555))"
   ]
  },
  {
   "cell_type": "raw",
   "metadata": {
    "id": "WcsK7zS1S-if"
   },
   "source": [
    "6- Complete the function scramble(str1, str2) that returns true if a portion of str1 characters can be rearranged to match str2, otherwise returns false.\n",
    "\n",
    "Notes:\n",
    "\n",
    "Only lower case letters will be used (a-z). No punctuation or digits will be included.\n",
    "Performance needs to be considered\n",
    "Input strings s1 and s2 are null terminated.\n",
    "Examples\n",
    "scramble('rkqodlw', 'world') ==> True\n",
    "scramble('cedewaraaossoqqyt', 'codewars') ==> True\n",
    "scramble('katas', 'steak') ==> False [bağlantı metni](https://www.codewars.com/kata/55c04b4cc56a697bb0000048)"
   ]
  },
  {
   "cell_type": "code",
   "execution_count": 4,
   "metadata": {
    "id": "Sjh3zla7Tae3"
   },
   "outputs": [
    {
     "data": {
      "text/plain": [
       "True"
      ]
     },
     "execution_count": 4,
     "metadata": {},
     "output_type": "execute_result"
    }
   ],
   "source": [
    "def scramble(str1,str2):\n",
    "    result=True\n",
    "    for i in set(str2):\n",
    "        if str2.count(i)>str1.count(i):\n",
    "            result=False\n",
    "            break\n",
    "    return result\n",
    "scramble('rkqoddlw', 'world')"
   ]
  },
  {
   "cell_type": "markdown",
   "metadata": {
    "id": "1Dx97BY2T0yj"
   },
   "source": [
    "7- Move the first letter of each word to the end of it, then add \"ay\" to the end of the word. Leave punctuation marks untouched.\n",
    "\n",
    "Examples\n",
    "pig_it('Pig latin is cool') # igPay atinlay siay oolcay\n",
    "pig_it('Hello world !')     # elloHay orldway ! [bağlantı metni](https://www.codewars.com/kata/520b9d2ad5c005041100000f)"
   ]
  },
  {
   "cell_type": "code",
   "execution_count": 33,
   "metadata": {},
   "outputs": [],
   "source": [
    "def pig_it(sentence):\n",
    "    sentence=sentence.split()\n",
    "    result=\"\"\n",
    "    for i in sentence :\n",
    "        if i.isalnum():\n",
    "            result+=i[1:]+i[0]+\"ay\"+\" \"\n",
    "        else:\n",
    "            result+=i\n",
    "    return result.strip()"
   ]
  },
  {
   "cell_type": "code",
   "execution_count": 34,
   "metadata": {},
   "outputs": [
    {
     "data": {
      "text/plain": [
       "'elloHay orldway !'"
      ]
     },
     "execution_count": 34,
     "metadata": {},
     "output_type": "execute_result"
    }
   ],
   "source": [
    "pig_it('Hello world !')"
   ]
  },
  {
   "cell_type": "markdown",
   "metadata": {
    "id": "wAn-rjkyUXdR"
   },
   "source": [
    "8- What is an anagram? Well, two words are anagrams of each other if they both contain the same letters. For example:\n",
    "\n",
    "'abba' & 'baab' == true\n",
    "\n",
    "'abba' & 'bbaa' == true\n",
    "\n",
    "'abba' & 'abbba' == false\n",
    "\n",
    "'abba' & 'abca' == false\n",
    "Write a function that will find all the anagrams of a word from a list. You will be given two inputs a word and an array with words. You should return an array of all the anagrams or an empty array if there are none. For example:\n",
    "\n",
    "anagrams('abba', ['aabb', 'abcd', 'bbaa', 'dada']) => ['aabb', 'bbaa']\n",
    "\n",
    "anagrams('racer', ['crazer', 'carer', 'racar', 'caers', 'racer']) => ['carer', 'racer']\n",
    "\n",
    "anagrams('laser', ['lazing', 'lazy',  'lacer']) => [] [bağlantı metni](https://www.codewars.com/kata/523a86aa4230ebb5420001e1)"
   ]
  },
  {
   "cell_type": "code",
   "execution_count": 95,
   "metadata": {},
   "outputs": [],
   "source": [
    "def anagrams(word, list_word):\n",
    "    result=[]\n",
    "    for i in list_word:\n",
    "        if sorted(word)==sorted(i):\n",
    "            result.append(i)\n",
    "    return result"
   ]
  },
  {
   "cell_type": "code",
   "execution_count": 96,
   "metadata": {},
   "outputs": [
    {
     "data": {
      "text/plain": [
       "['aabb', 'bbaa']"
      ]
     },
     "execution_count": 96,
     "metadata": {},
     "output_type": "execute_result"
    }
   ],
   "source": [
    "anagrams('abba', ['aabb', 'abcd', 'bbaa', 'dada'])"
   ]
  },
  {
   "cell_type": "code",
   "execution_count": 97,
   "metadata": {},
   "outputs": [
    {
     "data": {
      "text/plain": [
       "['carer', 'racer']"
      ]
     },
     "execution_count": 97,
     "metadata": {},
     "output_type": "execute_result"
    }
   ],
   "source": [
    "anagrams('racer', ['crazer', 'carer', 'racar', 'caers', 'racer']) "
   ]
  },
  {
   "cell_type": "code",
   "execution_count": 98,
   "metadata": {
    "scrolled": false
   },
   "outputs": [
    {
     "data": {
      "text/plain": [
       "[]"
      ]
     },
     "execution_count": 98,
     "metadata": {},
     "output_type": "execute_result"
    }
   ],
   "source": [
    "anagrams('laser', ['lazing', 'lazy', 'lacer'])"
   ]
  },
  {
   "cell_type": "code",
   "execution_count": 15,
   "metadata": {},
   "outputs": [
    {
     "data": {
      "text/plain": [
       "[]"
      ]
     },
     "execution_count": 15,
     "metadata": {},
     "output_type": "execute_result"
    }
   ],
   "source": [
    "def anagrams1(word, list_word):\n",
    "    return [i for i in list_word if sorted(word)==sorted(i)]\n",
    "anagrams1('laser', ['lazing', 'lazy', 'lacer'])"
   ]
  },
  {
   "cell_type": "markdown",
   "metadata": {},
   "source": [
    "9.Write a Python program to remove all elements from a given list present in another list. Go to the editor\n",
    "Original lists:\n",
    "list1: [1, 2, 3, 4, 5, 6, 7, 8, 9, 10]\n",
    "list2: [2, 4, 6, 8]\n",
    "Remove all elements from 'list1' present in 'list2:\n",
    "[1, 3, 5, 7, 9, 10]"
   ]
  },
  {
   "cell_type": "code",
   "execution_count": 16,
   "metadata": {},
   "outputs": [],
   "source": [
    "def new_list(list1, list2):\n",
    "    result = [x for x in list1 if x not in list2]\n",
    "    return result"
   ]
  },
  {
   "cell_type": "code",
   "execution_count": 18,
   "metadata": {},
   "outputs": [
    {
     "name": "stdout",
     "output_type": "stream",
     "text": [
      "[1, 3, 5, 7, 9, 10]\n"
     ]
    }
   ],
   "source": [
    "list1 = [1,2,3,4,5,6,7,8,9,10]\n",
    "list2 = [2,4,6,8]\n",
    "\n",
    "print(new_list(list1, list2))"
   ]
  },
  {
   "cell_type": "markdown",
   "metadata": {},
   "source": [
    "10. Write a Python program to reverse strings in a given list of string values. Go to the editor\n",
    "Original lists:\n",
    "['Red', 'Green', 'Blue', 'White', 'Black']\n",
    "Reverse strings of the said given list:\n",
    "['deR', 'neerG', 'eulB', 'etihW', 'kcalB']"
   ]
  },
  {
   "cell_type": "code",
   "execution_count": 36,
   "metadata": {},
   "outputs": [
    {
     "name": "stdout",
     "output_type": "stream",
     "text": [
      "['deR', 'neerG', 'eulB', 'etihW', 'kcalB']\n"
     ]
    }
   ],
   "source": [
    "def reverse_strings_list(string_list):\n",
    "    result = [x[::-1] for x in string_list]\n",
    "    return result\n",
    "\n",
    "colors_list = [\"Red\", \"Green\", \"Blue\", \"White\", \"Black\"]\n",
    "\n",
    "print(reverse_strings_list(colors_list))"
   ]
  },
  {
   "cell_type": "markdown",
   "metadata": {},
   "source": [
    "11.Write an efficient function that deletes characters from an ASCII\n",
    "string where any character existing in remove must be deleted from\n",
    "str. For example, given a str of \"Battle of the Vowels: Hawaii vs.\n",
    "Grozny\" and a remove of \"aeiou\", the function should transform str\n",
    "to “Bttl f th Vwls: Hw vs. Grzny”."
   ]
  },
  {
   "cell_type": "code",
   "execution_count": 27,
   "metadata": {},
   "outputs": [
    {
     "name": "stdout",
     "output_type": "stream",
     "text": [
      "Enter a sentence:Battle of the Vowels: Hawaii vs. Grozny\n",
      "Bttl f th Vwls: Hw vs. Grzny\n"
     ]
    }
   ],
   "source": [
    "sentence =input(\"Enter a sentence:\")\n",
    "vowel=(\"aeiou\")\n",
    "for i in sentence:\n",
    "    if i in vowel:\n",
    "        sentence = sentence.replace(str(i), \"\")\n",
    "print(sentence)"
   ]
  },
  {
   "cell_type": "code",
   "execution_count": 37,
   "metadata": {},
   "outputs": [
    {
     "name": "stdout",
     "output_type": "stream",
     "text": [
      "Enter a sentence:Battle of the Vowels: Hawaii vs. Grozny\n",
      "Bttl f th Vwls: Hw vs. Grzny\n"
     ]
    }
   ],
   "source": [
    "sentence =input(\"Enter a sentence:\")\n",
    "vowel=(\"aeiou\")\n",
    "resa = \"\".join([i for i in sentence if i not in vowel])\n",
    "print(resa)"
   ]
  },
  {
   "cell_type": "markdown",
   "metadata": {},
   "source": [
    "# PYTHON TRICKS"
   ]
  },
  {
   "cell_type": "raw",
   "metadata": {},
   "source": [
    "str_list = [\"Emma\", \"Jon\", \"\", \"Kelly\", None, \"Eric\", \"\"]\n",
    "Dolu Değerleri yazdırın."
   ]
  },
  {
   "cell_type": "code",
   "execution_count": 12,
   "metadata": {},
   "outputs": [
    {
     "data": {
      "text/plain": [
       "['Emma', 'Jon', 'Kelly', 'Eric']"
      ]
     },
     "execution_count": 12,
     "metadata": {},
     "output_type": "execute_result"
    }
   ],
   "source": [
    "str_list = [\"Emma\", \"Jon\", \"\", \"Kelly\", None, \"Eric\", \"\"]\n",
    "[x for x in str_list if bool(x)==True]"
   ]
  },
  {
   "cell_type": "code",
   "execution_count": 16,
   "metadata": {},
   "outputs": [
    {
     "data": {
      "text/plain": [
       "['Emma', 'Jon', 'Kelly', 'Eric']"
      ]
     },
     "execution_count": 16,
     "metadata": {},
     "output_type": "execute_result"
    }
   ],
   "source": [
    "list(filter(None, str_list))"
   ]
  },
  {
   "cell_type": "raw",
   "metadata": {},
   "source": [
    "str1 = \"Emma is a data scientist who knows Python. Emma works at google. Emma\"\n",
    "\"Emma\" geçen yerlerin indexlerini bulalım  bulunuz"
   ]
  },
  {
   "attachments": {
    "image.png": {
     "image/png": "[encoded data removed]"
    }
   },
   "cell_type": "markdown",
   "metadata": {},
   "source": [
    "![image.png](attachment:image.png)"
   ]
  },
  {
   "cell_type": "code",
   "execution_count": 220,
   "metadata": {},
   "outputs": [
    {
     "name": "stdout",
     "output_type": "stream",
     "text": [
      "0 43 65\n"
     ]
    }
   ],
   "source": [
    "str1 = \"Emma is a data scientist who knows Python. Emma works at google. Emma\"\n",
    "first=str1.find(\"Emma\")\n",
    "second=str1.find(\"Emma\",str1.find(\"Emma\")+1)\n",
    "third=str1.find(\"Emma\",str1.find(\"Emma\",str1.find(\"Emma\")+1)+1)\n",
    "print(first,second,third)"
   ]
  },
  {
   "cell_type": "code",
   "execution_count": 215,
   "metadata": {},
   "outputs": [
    {
     "data": {
      "text/plain": [
       "65"
      ]
     },
     "execution_count": 215,
     "metadata": {},
     "output_type": "execute_result"
    }
   ],
   "source": [
    "str1.find(\"Emma\",second+1)"
   ]
  },
  {
   "cell_type": "code",
   "execution_count": 38,
   "metadata": {},
   "outputs": [],
   "source": [
    "x = {'a': 1, 'b': 2}\n",
    "y = {'b': 3, 'c': 4}"
   ]
  },
  {
   "cell_type": "code",
   "execution_count": 24,
   "metadata": {},
   "outputs": [
    {
     "data": {
      "text/plain": [
       "{'a': 1, 'b': 3, 'c': 4}"
      ]
     },
     "execution_count": 24,
     "metadata": {},
     "output_type": "execute_result"
    }
   ],
   "source": [
    "z={**x,**y}\n",
    "z"
   ]
  },
  {
   "cell_type": "code",
   "execution_count": 40,
   "metadata": {},
   "outputs": [],
   "source": [
    "z=dict(x,**y)"
   ]
  },
  {
   "cell_type": "code",
   "execution_count": 41,
   "metadata": {},
   "outputs": [
    {
     "data": {
      "text/plain": [
       "{'a': 1, 'b': 3, 'c': 4}"
      ]
     },
     "execution_count": 41,
     "metadata": {},
     "output_type": "execute_result"
    }
   ],
   "source": [
    "z"
   ]
  },
  {
   "cell_type": "code",
   "execution_count": 79,
   "metadata": {},
   "outputs": [
    {
     "name": "stdout",
     "output_type": "stream",
     "text": [
      "\u001b[91m\u001b[1m\u001b[4mHello World !\n"
     ]
    }
   ],
   "source": [
    "class color:\n",
    "   PURPLE = '\\033[95m'\n",
    "   CYAN = '\\033[96m'\n",
    "   DARKCYAN = '\\033[36m'\n",
    "   BLUE = '\\033[94m'\n",
    "   GREEN = '\\033[92m'\n",
    "   YELLOW = '\\033[93m'\n",
    "   RED = '\\033[91m'\n",
    "   BOLD = '\\033[1m'\n",
    "   UNDERLINE = '\\033[4m'\n",
    "   END = '\\033[0m'\n",
    "\n",
    "print(color.RED+ color.BOLD +  color.UNDERLINE +'Hello World !')"
   ]
  },
  {
   "cell_type": "code",
   "execution_count": 46,
   "metadata": {
    "scrolled": true
   },
   "outputs": [
    {
     "name": "stdout",
     "output_type": "stream",
     "text": [
      "Enter tree numbers : 2,3,6\n",
      "The sum of a,b, c is :  11\n"
     ]
    }
   ],
   "source": [
    "a, b, c = [int(x) for x  in input(\"Enter tree numbers : \").split(\",\")]\n",
    "print(\"The sum of a,b, c is : \", a+b+c)"
   ]
  },
  {
   "cell_type": "code",
   "execution_count": 47,
   "metadata": {},
   "outputs": [
    {
     "name": "stdout",
     "output_type": "stream",
     "text": [
      "Enter tree numbers : 2,3,2\n",
      "The multiply of a,b, c is :  12\n"
     ]
    }
   ],
   "source": [
    "a, b, c = [int(x) for x   in input(\"Enter tree numbers : \").split(\",\")]\n",
    "print(\"The multiply of a,b, c is : \", a*b*c)"
   ]
  },
  {
   "cell_type": "code",
   "execution_count": 48,
   "metadata": {},
   "outputs": [
    {
     "name": "stdout",
     "output_type": "stream",
     "text": [
      "Enter tree numbers : 2,3,2\n",
      "The multiply of a,b, c is :  12.0\n"
     ]
    }
   ],
   "source": [
    "a, b, c = [float(x) for x in input(\"Enter tree numbers : \").split(\",\")]\n",
    "print(\"The multiply of a,b, c is : \", a*b*c)\n"
   ]
  },
  {
   "cell_type": "code",
   "execution_count": 54,
   "metadata": {},
   "outputs": [
    {
     "name": "stdout",
     "output_type": "stream",
     "text": [
      "{54: 'Hard Disk', 65: 'Laptop', 76: 'RAM'}\n"
     ]
    }
   ],
   "source": [
    "#Convert two lists into a dictionary: \n",
    "ItemId = [54, 65, 76]\n",
    "names = [\"Hard Disk\", \"Laptop\", \"RAM\"]\n",
    "itemDictionary = dict(zip(ItemId, names))\n",
    "print(itemDictionary)"
   ]
  },
  {
   "cell_type": "code",
   "execution_count": 57,
   "metadata": {},
   "outputs": [],
   "source": [
    "# Why Python is Great: Namedtuples\n",
    "from collections import namedtuple\n",
    "Car = namedtuple('Car', 'color mileage')"
   ]
  },
  {
   "cell_type": "code",
   "execution_count": 58,
   "metadata": {},
   "outputs": [],
   "source": [
    "my_car = Car('red', 3812)"
   ]
  },
  {
   "cell_type": "code",
   "execution_count": 65,
   "metadata": {},
   "outputs": [
    {
     "data": {
      "text/plain": [
       "'ss'"
      ]
     },
     "execution_count": 65,
     "metadata": {},
     "output_type": "execute_result"
    }
   ],
   "source": [
    "my_car.color"
   ]
  },
  {
   "cell_type": "code",
   "execution_count": 60,
   "metadata": {},
   "outputs": [
    {
     "data": {
      "text/plain": [
       "3812"
      ]
     },
     "execution_count": 60,
     "metadata": {},
     "output_type": "execute_result"
    }
   ],
   "source": [
    "my_car.mileage"
   ]
  },
  {
   "cell_type": "code",
   "execution_count": 61,
   "metadata": {
    "scrolled": true
   },
   "outputs": [
    {
     "data": {
      "text/plain": [
       "Car(color='red', mileage=3812)"
      ]
     },
     "execution_count": 61,
     "metadata": {},
     "output_type": "execute_result"
    }
   ],
   "source": [
    "my_car"
   ]
  },
  {
   "cell_type": "code",
   "execution_count": 64,
   "metadata": {
    "scrolled": true
   },
   "outputs": [],
   "source": [
    "# Like tuples, namedtuples are immutable:\n",
    "my_car.color = 'blue'"
   ]
  },
  {
   "cell_type": "code",
   "execution_count": 72,
   "metadata": {},
   "outputs": [
    {
     "data": {
      "text/plain": [
       "[('d', 1), ('c', 2), ('b', 3), ('a', 4)]"
      ]
     },
     "execution_count": 72,
     "metadata": {},
     "output_type": "execute_result"
    }
   ],
   "source": [
    "# How to sort a Python dict by value\n",
    "# (== get a representation sorted by value)\n",
    "xs = {'a': 4, 'b': 3, 'c': 2, 'd': 1}\n",
    "\n",
    "sorted(xs.items(), key=lambda x: x[1])"
   ]
  },
  {
   "cell_type": "code",
   "execution_count": 73,
   "metadata": {},
   "outputs": [
    {
     "data": {
      "text/plain": [
       "[('a', 4), ('b', 3), ('c', 2), ('d', 1)]"
      ]
     },
     "execution_count": 73,
     "metadata": {},
     "output_type": "execute_result"
    }
   ],
   "source": [
    "# Or:\n",
    "\n",
    "import operator\n",
    "sorted(xs.items(), key=operator.itemgetter(0))"
   ]
  },
  {
   "cell_type": "code",
   "execution_count": null,
   "metadata": {},
   "outputs": [],
   "source": []
  }
 ],
 "metadata": {
  "colab": {
   "name": "group_4.ipynb",
   "provenance": []
  },
  "kernelspec": {
   "display_name": "Python 3",
   "language": "python",
   "name": "python3"
  },
  "language_info": {
   "codemirror_mode": {
    "name": "ipython",
    "version": 3
   },
   "file_extension": ".py",
   "mimetype": "text/x-python",
   "name": "python",
   "nbconvert_exporter": "python",
   "pygments_lexer": "ipython3",
   "version": "3.8.8"
  }
 },
 "nbformat": 4,
 "nbformat_minor": 1
}
