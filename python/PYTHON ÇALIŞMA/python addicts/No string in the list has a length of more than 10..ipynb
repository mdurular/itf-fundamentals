{
 "cells": [
  {
   "cell_type": "markdown",
   "id": "94fa2f6b",
   "metadata": {},
   "source": [
    "Given a string s and an integer k, break up the string into multiple texts such that each text has a length of k or less. You must break it up so that words don't break across lines. If there's no way to break the text up, then return null.\n",
    "You can assume that there are no spaces at the ends of the string and that there is exactly one space between each word.\n",
    "For example, given the string \"the quick brown fox jumps over the lazy dog\" and k = 10, you should return: [\"the quick\", \"brown fox\", \"jumps over\", \"the lazy\", \"dog\"]. No string in the list has a length of more than 10."
   ]
  },
  {
   "cell_type": "code",
   "execution_count": 8,
   "id": "d4ce93d8",
   "metadata": {},
   "outputs": [],
   "source": [
    "def split_text(string, k):\n",
    "    return [string[index : index+k].strip() for index in range (0, len(string), k)]"
   ]
  },
  {
   "cell_type": "code",
   "execution_count": 9,
   "id": "b145c4f9",
   "metadata": {},
   "outputs": [
    {
     "data": {
      "text/plain": [
       "['the quick', 'brown fox', 'jumps over', 'the lazy', 'dog']"
      ]
     },
     "execution_count": 9,
     "metadata": {},
     "output_type": "execute_result"
    }
   ],
   "source": [
    "split_text(\"the quick brown fox jumps over the lazy dog\" , 10)"
   ]
  },
  {
   "cell_type": "code",
   "execution_count": 13,
   "id": "e246227a",
   "metadata": {},
   "outputs": [],
   "source": [
    "def split_text1(string, k):\n",
    "\n",
    "    split_text = []\n",
    "    for index in range(0, len(string), k):\n",
    "        split_text.append(string[index : index + k])\n",
    "    print(split_text)"
   ]
  },
  {
   "cell_type": "code",
   "execution_count": 14,
   "id": "d7ccd23d",
   "metadata": {
    "scrolled": true
   },
   "outputs": [
    {
     "name": "stdout",
     "output_type": "stream",
     "text": [
      "['the quick ', 'brown fox ', 'jumps over', ' the lazy ', 'dog']\n"
     ]
    }
   ],
   "source": [
    "split_text1(\"the quick brown fox jumps over the lazy dog\" , 10)"
   ]
  },
  {
   "cell_type": "code",
   "execution_count": null,
   "id": "e6bf445a",
   "metadata": {},
   "outputs": [],
   "source": []
  }
 ],
 "metadata": {
  "kernelspec": {
   "display_name": "Python 3",
   "language": "python",
   "name": "python3"
  },
  "language_info": {
   "codemirror_mode": {
    "name": "ipython",
    "version": 3
   },
   "file_extension": ".py",
   "mimetype": "text/x-python",
   "name": "python",
   "nbconvert_exporter": "python",
   "pygments_lexer": "ipython3",
   "version": "3.8.8"
  }
 },
 "nbformat": 4,
 "nbformat_minor": 5
}
