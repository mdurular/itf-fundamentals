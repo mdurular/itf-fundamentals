{
 "cells": [
  {
   "cell_type": "markdown",
   "metadata": {
    "id": "r9B45NdlOz1t"
   },
   "source": [
    "```\n",
    "1 Sansürlü kelimeyi düzeltelim\n",
    "print(sansür(\"pyth*n\", \"o\")) ---> python\n",
    "print(sansür(\"*r*b*m* p*rk *tt*m\",\"aaaıaei\"))  --> arabamı park ettim\n",
    "```\n",
    "\n"
   ]
  },
  {
   "cell_type": "code",
   "execution_count": 29,
   "metadata": {},
   "outputs": [
    {
     "name": "stdout",
     "output_type": "stream",
     "text": [
      "Write a censored word : 'Exp.: M*hme*'M*ehm*t\n",
      "Write censored_letters in censored word : 'Exp.:'et'et\n",
      "Meehmtt\n"
     ]
    }
   ],
   "source": [
    "\n",
    "censored_word = input(\"Write a censored word : 'Exp.: M*hme*'\")\n",
    "censored_letter = input(\"Write censored_letters in censored word : 'Exp.:'et'\")\n",
    "a=0\n",
    "for i in censored_word:\n",
    "    if i ==\"*\":\n",
    "        censored_word=censored_word.replace(\"*\",censored_letter[a],1)\n",
    "        a+=1\n",
    "print(censored_word)"
   ]
  },
  {
   "cell_type": "markdown",
   "metadata": {
    "id": "Q5AiEAoiPHH-"
   },
   "source": [
    "```\n",
    "2. Girdisi string olan ifadenin içerisindeki harflerin türkçe alfabesindeki yerlerini bulup, hepsinin değerlerini toplayıp sonuç çiftse True tekse False yazdıran bir fonksiyon yazınız.\n",
    "print(kelime_cift_mi(\"Bilgisayar\")) -->True\n",
    "```\n",
    "\n"
   ]
  },
  {
   "cell_type": "code",
   "execution_count": 31,
   "metadata": {},
   "outputs": [
    {
     "name": "stdout",
     "output_type": "stream",
     "text": [
      "write a sentence : alki\n",
      "True\n"
     ]
    }
   ],
   "source": [
    "sentence = input(\"write a sentence : \")\n",
    "lower_words=\"abcçdefgğhıijklmnoöprsştuüvyz\"\n",
    "upper_words=lower_words.upper()\n",
    "total_points=0\n",
    "for i in sentence:\n",
    "    if i in upper_words:\n",
    "        total_points+=upper_words.index(i)\n",
    "    elif i in lower_words:\n",
    "        total_points+=lower_words.index(i)\n",
    "if total_points % 2 ==0:\n",
    "    print(True)\n",
    "else:\n",
    "    print(False)\n"
   ]
  },
  {
   "cell_type": "markdown",
   "metadata": {
    "id": "yUnkroayPGvn"
   },
   "source": [
    "\n",
    "```\n",
    " 3. Write a program to prompt the user for hours and rate per hour using input to compute gross pay. Pay should be the normal rate for hours up to 40 and time-and-a-half for the hourly rate for all hours worked above 40 hours. Put the logic to do the computation of pay in a function called computepay() and use the function to do the computation. The function should return a value. Use 45 hours and a rate of 10.50 per hour to test the program (the pay should be 498.75). You should use input to read a string and float() to convert the string to a number. Do not worry about error checking the user input unless you want to - you can assume the user types numbers properly. Do not name your variable sum or use the sum() function\n",
    "\n",
    "```\n",
    "\n"
   ]
  },
  {
   "cell_type": "code",
   "execution_count": 12,
   "metadata": {
    "scrolled": true
   },
   "outputs": [
    {
     "name": "stdout",
     "output_type": "stream",
     "text": [
      "Enter Hours:45\n",
      "Enter rate: 10.5\n",
      "Your pay is:  498.75\n"
     ]
    }
   ],
   "source": [
    "\n",
    "hours = float(input(\"Enter Hours:\"))\n",
    "rate = float(input(\"Enter rate: \"))\n",
    "\n",
    "def computepay(hours,rate):\n",
    "    if hours>40:\n",
    "        pay=40*rate+(hours-40)*rate*1.5\n",
    "    else:\n",
    "        pay=hours*rate\n",
    "    return pay\n",
    "\n",
    "print(\"Your pay is: \", computepay(hours,rate))"
   ]
  },
  {
   "cell_type": "markdown",
   "metadata": {
    "id": "agUSmN0iPGqB"
   },
   "source": [
    "```\n",
    "4. Sayının faktöriyelini hesaplayan fonksiyon yazalım.\n",
    "```\n",
    "\n",
    "\n"
   ]
  },
  {
   "cell_type": "code",
   "execution_count": 22,
   "metadata": {},
   "outputs": [
    {
     "name": "stdout",
     "output_type": "stream",
     "text": [
      "40320\n"
     ]
    }
   ],
   "source": [
    "def factorial(num):\n",
    "    result=1\n",
    "    for i in range(1,num+1):\n",
    "        result *=i\n",
    "    return result\n",
    "\n",
    "print(factorial(8))"
   ]
  },
  {
   "cell_type": "markdown",
   "metadata": {
    "id": "tPWXxyrEPGmw"
   },
   "source": [
    "```\n",
    "5. Sayı ve string paramestresi alan, sayıyı geriye doğru aralarında * olacak şekilde yazdıran, sonuna verilen stringi büyük harflerle ekleyen ve en sona ! işareti koyan bir fonksiyon yazalım\n",
    " ÖRNEK\n",
    "geri_say(3,\"go\")--> \"3*2*1*GO!\"**kalın metin**\n",
    "```\n",
    "\n"
   ]
  },
  {
   "cell_type": "code",
   "execution_count": 12,
   "metadata": {},
   "outputs": [
    {
     "name": "stdout",
     "output_type": "stream",
     "text": [
      "Write a number: 10\n",
      "Write a word: iyi dogdun muhammet\n",
      "\u001b[1m\u001b[92m10*9*8*7*6*5*4*3*2*1*IYI DOGDUN MUHAMMET!\n"
     ]
    }
   ],
   "source": [
    "num = int(input(\"Write a number: \"))\n",
    "word = input(\"Write a word: \")\n",
    "geri_say = \"\"\n",
    "for i in range(num,0,-1):\n",
    "        geri_say+=str(i)+\"*\"\n",
    "        \n",
    "geri_say=geri_say+word.upper()+\"!\"\n",
    "print('\\033[1m' + '\\033[92m'+ geri_say)       \n",
    "\n"
   ]
  },
  {
   "cell_type": "code",
   "execution_count": 6,
   "metadata": {},
   "outputs": [
    {
     "data": {
      "text/plain": [
       "[9, 8, 7, 6, 5, 4, 3, 2]"
      ]
     },
     "execution_count": 6,
     "metadata": {},
     "output_type": "execute_result"
    }
   ],
   "source": [
    "list(range(9,1,-1))"
   ]
  },
  {
   "cell_type": "code",
   "execution_count": null,
   "metadata": {},
   "outputs": [],
   "source": []
  },
  {
   "cell_type": "code",
   "execution_count": 32,
   "metadata": {
    "scrolled": true
   },
   "outputs": [
    {
     "name": "stdout",
     "output_type": "stream",
     "text": [
      "Write a number: 10\n",
      "Write a word: iyi doğdun\n",
      "\u001b[1m\u001b[91m10*9*8*7*6*5*4*3*2*1*IYI DOĞDUN!\n"
     ]
    }
   ],
   "source": [
    "num = int(input(\"Write a number: \"))\n",
    "word = input(\"Write a word: \")\n",
    "geri_say =\"\"\n",
    "for i in range(num,0,-1):\n",
    "    geri_say+=str(i)+\"*\"\n",
    "geri_say=geri_say+word.upper()+\"!\"\n",
    "print('\\033[1m' + '\\033[91m'+ geri_say)"
   ]
  },
  {
   "cell_type": "markdown",
   "metadata": {},
   "source": [
    "```\n",
    "   PURPLE = '\\033[95m'\n",
    "   CYAN = '\\033[96m'\n",
    "   DARKCYAN = '\\033[36m'\n",
    "   BLUE = '\\033[94m'\n",
    "   GREEN = '\\033[92m'\n",
    "   YELLOW = '\\033[93m'\n",
    "   RED = '\\033[91m'\n",
    "   BOLD = '\\033[1m'\n",
    "   UNDERLINE = '\\033[4m'\n",
    "   END = '\\033[0m'\n",
    "\n",
    "```\n"
   ]
  },
  {
   "cell_type": "markdown",
   "metadata": {
    "id": "X0np6sCFPGjA"
   },
   "source": [
    "```\n",
    "6. Arif ve Raife listede yanyana duruyorlasa True döndüren durmuyorlarsa False döndüren bir fonksiyon yazalım.\n",
    "print(yan_yana_mı([\"Arif\",\"Raife\",\"Nihal\"])) --> True\n",
    "print(yan_yana_mı([\"Arif\",\"Nihal\",\"Raife\"])) --> False\n",
    "```\n",
    "\n"
   ]
  },
  {
   "cell_type": "code",
   "execution_count": 36,
   "metadata": {},
   "outputs": [
    {
     "name": "stdout",
     "output_type": "stream",
     "text": [
      "True\n"
     ]
    }
   ],
   "source": [
    "liste = [\"Raife\",\"Arif\",\"Nihal\"]\n",
    "for i in liste:\n",
    "    if liste.index(\"Raife\")+1 == liste.index(\"Arif\") or liste.index(\"Arif\")+1 == liste.index(\"Raife\"):\n",
    "        message =True\n",
    "    else:\n",
    "        message = False\n",
    "print(message)"
   ]
  },
  {
   "cell_type": "markdown",
   "metadata": {
    "id": "o8RAQ9ZpPGcN"
   },
   "source": [
    "```\n",
    "7. Listedeki her elemanı kendi indexi ile çarpıp toplamı veren bir fonksiyon yazalım.\n",
    "print(carpip_topla([1,2,3,4,5,6,7,8,9,10])) --> 330\n",
    "```\n",
    "\n",
    "\n",
    "\n"
   ]
  },
  {
   "cell_type": "code",
   "execution_count": 42,
   "metadata": {},
   "outputs": [
    {
     "name": "stdout",
     "output_type": "stream",
     "text": [
      "330\n"
     ]
    }
   ],
   "source": [
    "liste =[1,2,3,4,5,6,7,8,9,10]\n",
    "Sum_of_liste = 0\n",
    "for i in liste:\n",
    "    Sum_of_liste += i*liste.index(i)\n",
    "print(Sum_of_liste)"
   ]
  },
  {
   "cell_type": "markdown",
   "metadata": {
    "id": "6eFw-Cy2PGYg"
   },
   "source": [
    "```\n",
    "8. Cümledeki sayı ve harflerin sayısını bulan bir fonksiyon yazalım\n",
    "print(harf_sayi_sayisi(\"10'a kadar saysam ve sonrasında hayat bayram olsa.\")) --> Harfler: 39, Sayılar: 2\n",
    "\n",
    "```\n",
    "\n",
    "\n"
   ]
  },
  {
   "cell_type": "code",
   "execution_count": 52,
   "metadata": {},
   "outputs": [
    {
     "name": "stdout",
     "output_type": "stream",
     "text": [
      "Write a text: 10'a kadar saysam ve sonrasında hayat bayram olsa.\n",
      "10'a kadar saysam ve sonrasında hayat bayram olsa. Harfler: 39 Sayılar: 2\n"
     ]
    }
   ],
   "source": [
    "text = input(\"Write a text: \")\n",
    "numbers= '0123456789'\n",
    "sayı=0\n",
    "harf=0\n",
    "for i in text:\n",
    "    if i .isalpha() == True:\n",
    "        harf+=1\n",
    "    elif i.isnumeric() == True:\n",
    "        sayı+=1\n",
    "    else:\n",
    "        empty+=1\n",
    "print(text, \"Harfler:\",harf,\"Sayılar:\", sayı)"
   ]
  },
  {
   "cell_type": "markdown",
   "metadata": {
    "id": "txt134wgPGVZ"
   },
   "source": [
    "```\n",
    "9.Stringin içindeki en büyük ve en küçük sayıyı veren fonksiyon yazalım.\n",
    "print(büyük_kücük(\"3 2 4 6 -1 12\")) --> 12 -1\n",
    "```\n",
    "\n"
   ]
  },
  {
   "cell_type": "code",
   "execution_count": 68,
   "metadata": {},
   "outputs": [
    {
     "name": "stdout",
     "output_type": "stream",
     "text": [
      "12 -1\n"
     ]
    }
   ],
   "source": [
    "sayılar = \"3 2 4 6 -1 12\"\n",
    "liste = sayılar.split()\n",
    "for i in liste:\n",
    "    liste[liste.index(i)]= int(i)\n",
    "  \n",
    "print(max(liste), min(liste))"
   ]
  },
  {
   "cell_type": "markdown",
   "metadata": {
    "id": "RhGJCDaNPGIS"
   },
   "source": [
    "```\n",
    "10. Harfler ve boşluklardan oluşan stringin içindeki kelime nin uzunluğu beş veya dah fazla ise o kelimeyi ters çeviren bir fonksiyon yazalım.\n",
    "print(ters_döndür(\"Ah bir data scientist olabilsem:)\")) --> Ah bir data tsitneics ):meslibalo\n",
    "```\n",
    "\n"
   ]
  },
  {
   "cell_type": "code",
   "execution_count": 101,
   "metadata": {},
   "outputs": [
    {
     "name": "stdout",
     "output_type": "stream",
     "text": [
      "Ah bir data tsitneics ):meslibalo \n"
     ]
    }
   ],
   "source": [
    "def ters_döndür(text):\n",
    "    lst = text.split()\n",
    "    new_text = \"\"\n",
    "    for i in lst:\n",
    "        if len(i) >= 5:\n",
    "            new_text += i[::-1] + \" \"\n",
    "        else:\n",
    "            new_text += i + \" \"\n",
    "    return new_text   \n",
    "    \n",
    "print(ters_döndür(\"Ah bir data scientist olabilsem:)\"))"
   ]
  },
  {
   "cell_type": "code",
   "execution_count": null,
   "metadata": {},
   "outputs": [],
   "source": []
  }
 ],
 "metadata": {
  "colab": {
   "name": "group_1.ipynb",
   "provenance": []
  },
  "kernelspec": {
   "display_name": "Python 3",
   "language": "python",
   "name": "python3"
  },
  "language_info": {
   "codemirror_mode": {
    "name": "ipython",
    "version": 3
   },
   "file_extension": ".py",
   "mimetype": "text/x-python",
   "name": "python",
   "nbconvert_exporter": "python",
   "pygments_lexer": "ipython3",
   "version": "3.8.8"
  }
 },
 "nbformat": 4,
 "nbformat_minor": 1
}
