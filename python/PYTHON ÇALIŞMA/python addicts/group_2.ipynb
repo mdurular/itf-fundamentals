{
 "cells": [
  {
   "cell_type": "markdown",
   "metadata": {
    "id": "DpXjn6Vd9Yw6"
   },
   "source": [
    "1- Write a program to prompt for a score between 0.0 and 1.0. If the score is out of range, print an error. If the score is between 0.0 and 1.0, print a grade using the following table: Score Grade\n",
    "\n",
    "0.9 A\n",
    "\n",
    "0.8 B\n",
    "\n",
    "0.7 C\n",
    "\n",
    "0.6 D\n",
    "\n",
    "0.6 F\n",
    "\n",
    "If the user enters a value out of range, print a suitable error message and exit. For the test, enter a score of 0.85"
   ]
  },
  {
   "cell_type": "code",
   "execution_count": 39,
   "metadata": {},
   "outputs": [],
   "source": [
    "def Score_Grade(grade):\n",
    "    if grade >=0.9 and grade<=1.0:\n",
    "        print('Score Grade : A')\n",
    "    elif grade >=0.8 and grade<0.7:\n",
    "        print('Score Grade : B')\n",
    "    elif grade >=0.7 and grade<0.6:\n",
    "        print('Score Grade : C')\n",
    "    elif grade >=0.6 and grade<0.5:\n",
    "        print('Score Grade : D')\n",
    "    elif grade <=0.5 and grade >= 0.0:\n",
    "        print('Score Grade : F')\n",
    "    else:\n",
    "        print('entered worng score!!!')"
   ]
  },
  {
   "cell_type": "code",
   "execution_count": 40,
   "metadata": {},
   "outputs": [
    {
     "name": "stdout",
     "output_type": "stream",
     "text": [
      "Score Grade : A\n"
     ]
    }
   ],
   "source": [
    "Score_Grade(1)"
   ]
  },
  {
   "cell_type": "markdown",
   "metadata": {
    "id": "k7W9-BOA9n7O"
   },
   "source": [
    "2- Yazi olarak girilen string ifadenin içindeki harfler tamamen büyük veya tamamen küçük ise True, küçük ve büyük harlerden oluşmuş ise False veren bir fonksiyon yazalım."
   ]
  },
  {
   "cell_type": "code",
   "execution_count": 13,
   "metadata": {},
   "outputs": [],
   "source": [
    "def lower_upper(text):\n",
    "  if text.lower()==text or text.upper()==text:\n",
    "    return True\n",
    "  else:\n",
    "    return False"
   ]
  },
  {
   "cell_type": "markdown",
   "metadata": {
    "id": "6PFwqEFO9nxy"
   },
   "source": [
    "3- Sayıyı kalansız bölen sayıları bulan bir fonksiyon yazalım"
   ]
  },
  {
   "cell_type": "code",
   "execution_count": 38,
   "metadata": {},
   "outputs": [
    {
     "name": "stdout",
     "output_type": "stream",
     "text": [
      "[1, 2, 4, 5, 10, 20]\n"
     ]
    }
   ],
   "source": [
    "def kalan(num):\n",
    "    liste_Klnsz = []\n",
    "    for i in range(1,num+1):\n",
    "        if num%i==0:\n",
    "            liste_Klnsz.append(i)\n",
    "    print(liste_Klnsz)\n",
    "kalan(20)"
   ]
  },
  {
   "cell_type": "markdown",
   "metadata": {
    "id": "rgWFi-lZ9noI"
   },
   "source": [
    "4- Cümlenin içindeki sesli harfleri kaldıran bir fonksiyon yazalım.\n",
    "print(sessiz_yap(\"Hayat beni neden yoruyosun?:)\")) --> hyt bn ndn yrysn?:)"
   ]
  },
  {
   "cell_type": "code",
   "execution_count": 42,
   "metadata": {},
   "outputs": [
    {
     "name": "stdout",
     "output_type": "stream",
     "text": [
      "Enter a sentence:Hayat beni neden yoruyosun?\n",
      "hyt bn ndn yrysn?\n"
     ]
    }
   ],
   "source": [
    "sentence =input(\"Enter a sentence:\").lower()\n",
    "vowel=(\"aeioüuö\")\n",
    "for i in sentence:\n",
    "    if i in vowel:\n",
    "        sentence = sentence.replace(str(i), \"\")\n",
    "print(sentence)"
   ]
  },
  {
   "cell_type": "markdown",
   "metadata": {
    "id": "yxwOQSQe9ne1"
   },
   "source": [
    "5- Tarihi yüzyıla çeviren bir fonksiyon yazalım.\n",
    "print(yüzyıl_yap(1738)) --> 18. yüzyıl"
   ]
  },
  {
   "cell_type": "code",
   "execution_count": 43,
   "metadata": {
    "id": "E4tCFCc-9nVQ"
   },
   "outputs": [
    {
     "name": "stdout",
     "output_type": "stream",
     "text": [
      "18 .yüzyıl\n"
     ]
    }
   ],
   "source": [
    "def yüzyıl_yap(yıl):\n",
    "    yüzyıl=yıl//100 + 1\n",
    "    print(yüzyıl, '.yüzyıl')\n",
    "yüzyıl_yap(1738)"
   ]
  },
  {
   "cell_type": "markdown",
   "metadata": {
    "id": "Y4qLf-_89nL4"
   },
   "source": [
    "6- Yazının içersindeki kelimelerin ilk ve son karakterleri sabit tutup diğer karakterleri yerine - çizgi koyan fonksiyon yazalım.\n",
    "print(dönüstür(\"hello world\")) --> h---o w---d "
   ]
  },
  {
   "cell_type": "code",
   "execution_count": 18,
   "metadata": {},
   "outputs": [
    {
     "name": "stdout",
     "output_type": "stream",
     "text": [
      "Enter a sentence:hello world\n",
      " h---o w---d\n"
     ]
    }
   ],
   "source": [
    "sentence =input(\"Enter a sentence:\")\n",
    "sentence= sentence.split( \" \")\n",
    "new=\"\"\n",
    "\n",
    "for j in sentence:\n",
    "    i=1\n",
    "    for x in j:\n",
    "        if i!=1 and i!=len(j):\n",
    "              j = j.replace(str(x), \"-\",1)\n",
    "        i+=1\n",
    "    new=new+\" \"+j  \n",
    "    \n",
    "print(new)"
   ]
  },
  {
   "cell_type": "markdown",
   "metadata": {
    "id": "mEPc7d0Z9nAI"
   },
   "source": [
    "7- Her girdi listesinde iki tanesi hariç her rakam en az bir kere tekrarlıyor.iki benzersiz sayıyı döndüren bir fonksiyon yazalım.\n",
    "benzersizi_bul([2,2,3,11,3,6,5]) --> [6, 5]  # 11 te 2 tane 1 var"
   ]
  },
  {
   "cell_type": "code",
   "execution_count": 19,
   "metadata": {},
   "outputs": [
    {
     "name": "stdout",
     "output_type": "stream",
     "text": [
      "[6, 5]\n"
     ]
    }
   ],
   "source": [
    "def benzersizi_bul(x):\n",
    "  benzersiz_liste=[]\n",
    "  s=\"\"\n",
    "  for i in x:\n",
    "    s+=str(i)\n",
    "  for j in s:\n",
    "    if s.count(j)==1:\n",
    "      benzersiz_liste.append(int(j))\n",
    "  print(benzersiz_liste)\n",
    "benzersizi_bul([2,2,3,11,3,6,5])"
   ]
  },
  {
   "cell_type": "markdown",
   "metadata": {
    "id": "GMgm2Jhu9mQj"
   },
   "source": [
    "8- Bir stringi(kelime) alan ve birbirini izleyen aynı harfleri çıkaran bir fonksiyon oluşturun.\n",
    "print(cıkar(\"mmmeeerrhhhaaabbbaaa\")) --> merhaba"
   ]
  },
  {
   "cell_type": "code",
   "execution_count": 38,
   "metadata": {},
   "outputs": [
    {
     "name": "stdout",
     "output_type": "stream",
     "text": [
      "write a sentence : mmmeeerrhhhaaabbbaaa\n",
      "merhaba\n"
     ]
    }
   ],
   "source": [
    "kelime = input(\"write a sentence : \")\n",
    "liste= \"\"\n",
    "for i in kelime:\n",
    "    if i not in liste:\n",
    "        liste=liste+i\n",
    "    elif liste[len(liste)-1]!=i:\n",
    "        liste=liste+i\n",
    "print(liste)"
   ]
  },
  {
   "cell_type": "markdown",
   "metadata": {
    "id": "3oD9kK_q9mBH"
   },
   "source": [
    "9- Belirli aralıkta(sınırlar dahil) verilen rakamın kaç kere olduğunu sayan bir fonksiyon yazalım. print(kac_tane(50,55,5)) --> 7"
   ]
  },
  {
   "cell_type": "code",
   "execution_count": 43,
   "metadata": {},
   "outputs": [
    {
     "name": "stdout",
     "output_type": "stream",
     "text": [
      "7\n"
     ]
    }
   ],
   "source": [
    "def kac_tane(baslangic, bitis, sayi):\n",
    "  liste = \"\"\n",
    "  sayac=0\n",
    "  for i in range(baslangic, bitis+1):\n",
    "    liste+=str(i)\n",
    "  for i in liste:\n",
    "    if i==str(sayi):\n",
    "      sayac+=1\n",
    "  return sayac\n",
    "\n",
    "print(kac_tane(50,55,5))"
   ]
  },
  {
   "cell_type": "markdown",
   "metadata": {
    "id": "n1Tuy6szEGR8"
   },
   "source": [
    "10- Yüksekliği verilen yılbaşı ağacını oluşturan bir fonksiyon yazalım. agac(7)\n",
    "\n",
    "\n",
    "```\n",
    "      #      \n",
    "     ###     \n",
    "    #####    \n",
    "   #######   \n",
    "  #########  \n",
    " ########### \n",
    "############# \n",
    "```\n",
    "\n"
   ]
  },
  {
   "cell_type": "code",
   "execution_count": 66,
   "metadata": {},
   "outputs": [
    {
     "name": "stdout",
     "output_type": "stream",
     "text": [
      "      #      \n",
      "     ###     \n",
      "    #####    \n",
      "   #######   \n",
      "  #########  \n",
      " ########### \n",
      "#############\n"
     ]
    }
   ],
   "source": [
    "def agac(yükseklik):\n",
    "  i=1\n",
    "  while i <= (2*yükseklik-1):\n",
    "    print((i*\"#\").center(2*yükseklik-1))\n",
    "    i+=2\n",
    "agac(7)"
   ]
  }
 ],
 "metadata": {
  "colab": {
   "name": "group_2.ipynb",
   "provenance": []
  },
  "kernelspec": {
   "display_name": "Python 3",
   "language": "python",
   "name": "python3"
  },
  "language_info": {
   "codemirror_mode": {
    "name": "ipython",
    "version": 3
   },
   "file_extension": ".py",
   "mimetype": "text/x-python",
   "name": "python",
   "nbconvert_exporter": "python",
   "pygments_lexer": "ipython3",
   "version": "3.8.8"
  }
 },
 "nbformat": 4,
 "nbformat_minor": 1
}
