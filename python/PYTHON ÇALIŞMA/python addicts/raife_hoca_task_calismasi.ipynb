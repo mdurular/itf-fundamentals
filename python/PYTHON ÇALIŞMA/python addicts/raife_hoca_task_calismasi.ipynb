{
 "cells": [
  {
   "cell_type": "markdown",
   "metadata": {
    "id": "r9B45NdlOz1t"
   },
   "source": [
    "```\n",
    "1 Sansürlü kelimeyi düzeltelim\n",
    "print(sansür(\"pyth*n\", \"o\")) ---> python\n",
    "print(sansür(\"*r*b*m* p*rk *tt*m\",\"aaaıaei\"))  --> arabamı park ettim\n",
    "```\n",
    "\n"
   ]
  },
  {
   "cell_type": "code",
   "execution_count": 163,
   "metadata": {},
   "outputs": [
    {
     "name": "stdout",
     "output_type": "stream",
     "text": [
      "python\n",
      "arabamı park ettim\n"
     ]
    }
   ],
   "source": [
    "def sansur(text, word):\n",
    "    sayac=0\n",
    "     \n",
    "    for i in text:\n",
    "        if i == \"*\":\n",
    "            text= text.replace(\"*\",word[sayac],1)     \n",
    "            sayac +=1\n",
    "    return text\n",
    "\n",
    "print(sansur(\"pyth*n\", \"o\"))\n",
    "print(sansur(\"*r*b*m* p*rk *tt*m\", \"aaaıaei\"))\n",
    "\n"
   ]
  },
  {
   "cell_type": "markdown",
   "metadata": {
    "id": "Q5AiEAoiPHH-"
   },
   "source": [
    "```\n",
    "2. Girdisi string olan ifadenin içerisindeki harflerin türkçe alfabesindeki yerlerini bulup, hepsinin değerlerini toplayıp sonuç çiftse True tekse False yazdıran bir fonksiyon yazınız.\n",
    "print(kelime_cift_mi(\"Bilgisayar\")) -->True\n",
    "```\n",
    "\n"
   ]
  },
  {
   "cell_type": "code",
   "execution_count": 342,
   "metadata": {},
   "outputs": [
    {
     "name": "stdout",
     "output_type": "stream",
     "text": [
      "Enter a word: Bilgisayar\n",
      "True\n"
     ]
    }
   ],
   "source": [
    "word = input(\"Enter a word: \").lower().strip()\n",
    "lst = [\"a\",\"b\",\"c\",\"ç\",\"d\",\"e\",\"f\",\"g\",\"ğ\",\"h\",\"ı\",\"i\",\"j\",\"k\",\"l\",\"m\",\"n\",\"o\",\"ö\",\"p\",\"r\",\"s\",\"ş\",\"t\",\"u\",\"ü\",\"v\",\"y\",\"z\"]\n",
    "toplam = 0\n",
    "for i in word:\n",
    "    if i in lst:\n",
    "        toplam +=lst.index(i)+1 \n",
    "        #print(toplam)\n",
    "if toplam %2 ==0:\n",
    "    print(True)\n",
    "else:\n",
    "    print(False)"
   ]
  },
  {
   "cell_type": "code",
   "execution_count": 193,
   "metadata": {},
   "outputs": [
    {
     "name": "stdout",
     "output_type": "stream",
     "text": [
      "True\n"
     ]
    }
   ],
   "source": [
    "def kelime_cift_mi(word):\n",
    "    word = input(\"Enter a word: \").lower().strip()\n",
    "    lst = [\"a\",\"b\",\"c\",\"ç\",\"d\",\"e\",\"f\",\"g\",\"ğ\",\"h\",\"ı\",\"i\",\"j\",\"k\",\"l\",\"m\",\"n\",\"o\",\"ö\",\"p\",\"r\",\"s\",\"ş\",\"t\",\"u\",\"ü\",\"v\",\"y\",\"z\"]\n",
    "    toplam = 0\n",
    "    for i in word:\n",
    "        if i in lst:\n",
    "            toplam +=lst.index(i)+1 \n",
    "            print(toplam)\n",
    "    if toplam %2 ==0:\n",
    "        return True\n",
    "    else:\n",
    "        return False\n",
    "print(kelime_çift_mi(\"Bilgisayar\"))"
   ]
  },
  {
   "cell_type": "markdown",
   "metadata": {
    "id": "yUnkroayPGvn"
   },
   "source": [
    "\n",
    "```\n",
    " 3. Write a program to prompt the user for hours and rate per hour using input to compute gross pay. Pay should be the normal rate for hours up to 40 and time-and-a-half for the hourly rate for all hours worked above 40 hours. Put the logic to do the computation of pay in a function called computepay() and use the function to do the computation. The function should return a value. Use 45 hours and a rate of 10.50 per hour to test the program (the pay should be 498.75). You should use input to read a string and float() to convert the string to a number. Do not worry about error checking the user input unless you want to - you can assume the user types numbers properly. Do not name your variable sum or use the sum() function\n",
    "\n",
    "```\n",
    "\n"
   ]
  },
  {
   "cell_type": "markdown",
   "metadata": {},
   "source": [
    "Brüt ödemeyi hesaplamak için girişi kullanarak kullanıcıdan saat başına saat ve ücret istemek için bir program yazın. Ödeme, 40 saate kadar olan saatler için normal ücret ve 40 saatin üzerinde çalışılan tüm saatler için saatlik ücret için bir buçuk saat olmalıdır. Ödeme hesaplamasını computepay() adlı bir işleve yapmak için mantığı koyun ve hesaplamayı yapmak için işlevi kullanın. İşlev bir değer döndürmelidir. Programı test etmek için 45 saat ve saat başına 10,50 oranında kullanın (ödeme 498,75 olmalıdır). Bir dizeyi okumak için girişi ve dizeyi bir sayıya dönüştürmek için float() kullanmalısınız. İstemediğiniz sürece kullanıcı girişini kontrol ederken hata konusunda endişelenmeyin - kullanıcının numaraları düzgün bir şekilde yazdıklarına varsayabilirsiniz. Değişken toplamınızı adlandırmayın veya sum() işlevini kullanmayın"
   ]
  },
  {
   "cell_type": "code",
   "execution_count": 4,
   "metadata": {},
   "outputs": [
    {
     "name": "stdout",
     "output_type": "stream",
     "text": [
      "Iscinin calistigi saati girin: 30\n",
      "Iscinin saat basi ucretini girin: 12\n",
      "480.0\n"
     ]
    }
   ],
   "source": [
    "saat = float(input(\"Iscinin calistigi saati girin: \"))\n",
    "ucret = float(input(\"Iscinin saat basi ucretini girin: \"))\n",
    "if saat > 40 :\n",
    "    pay = 40*ucret + (saat-40)*ucret*1.5 \n",
    "else:\n",
    "    pay = 40 * ucret\n",
    "print(pay) "
   ]
  },
  {
   "cell_type": "code",
   "execution_count": 222,
   "metadata": {},
   "outputs": [
    {
     "name": "stdout",
     "output_type": "stream",
     "text": [
      "iscinin calistigi saati girin : 45\n",
      "iscinin saat basi ucretini girin : 10.5\n",
      "498.75\n"
     ]
    }
   ],
   "source": [
    "saat = float(input(\"iscinin calistigi saati girin : \"))\n",
    "ucret = float(input(\"iscinin saat basi ucretini girin : \"))    \n",
    "\n",
    "def computepay(saat, ucret): \n",
    "    if saat > 40 :\n",
    "        pay = 40 * ucret + (saat-40) * ucret *1.5 \n",
    "    else:\n",
    "        pay = 40 * ucret\n",
    "    return(pay)    \n",
    "    \n",
    "print(computepay(saat, ucret))    "
   ]
  },
  {
   "cell_type": "markdown",
   "metadata": {
    "id": "agUSmN0iPGqB"
   },
   "source": [
    "```\n",
    "4. Sayının faktöriyelini hesaplayan fonksiyon yazalım.\n",
    "```\n",
    "\n",
    "\n"
   ]
  },
  {
   "cell_type": "code",
   "execution_count": 231,
   "metadata": {},
   "outputs": [
    {
     "name": "stdout",
     "output_type": "stream",
     "text": [
      "Enter a number : 5\n",
      "120\n"
     ]
    }
   ],
   "source": [
    "num = int(input(\"Enter a number : \"))\n",
    "fak = 1\n",
    "for i in range(1,num+1):\n",
    "    fak *=i\n",
    "print(fak)\n"
   ]
  },
  {
   "cell_type": "code",
   "execution_count": 233,
   "metadata": {},
   "outputs": [
    {
     "name": "stdout",
     "output_type": "stream",
     "text": [
      "Enter a number : 5\n",
      "120\n"
     ]
    }
   ],
   "source": [
    "num = int(input(\"Enter a number : \"))\n",
    "def faktoriyel(num):\n",
    "    fak = 1\n",
    "    for i in range(1,num+1):\n",
    "        fak *=i\n",
    "    return fak\n",
    "print(faktoriyel(num))"
   ]
  },
  {
   "cell_type": "markdown",
   "metadata": {
    "id": "tPWXxyrEPGmw"
   },
   "source": [
    "```\n",
    "5. Sayı ve string paramestresi alan, sayıyı geriye doğru aralarında * olacak şekilde yazdıran, sonuna verilen stringi büyük harflerle ekleyen ve en sona ! işareti koyan bir fonksiyon yazalım\n",
    " ÖRNEK\n",
    "geri_say(3,\"go\")--> \"3*2*1*GO!\"**kalın metin**\n",
    "```\n",
    "\n"
   ]
  },
  {
   "cell_type": "code",
   "execution_count": 269,
   "metadata": {},
   "outputs": [
    {
     "name": "stdout",
     "output_type": "stream",
     "text": [
      "Enter a number : 10\n",
      "Enter a word: sampiyon cimbom\n",
      "10*9*8*7*6*5*4*3*2*1*SAMPIYON CIMBOM!\n"
     ]
    }
   ],
   "source": [
    "num = int(input(\"Enter a number : \"))\n",
    "text = str(input(\"Enter a word: \")).upper()\n",
    "mesaj =\"\"\n",
    "for i in range(num,0,-1):\n",
    "    mesaj += str(i) + \"*\"\n",
    "mesaj = mesaj + text +\"!\"    \n",
    "print(mesaj) "
   ]
  },
  {
   "cell_type": "code",
   "execution_count": 275,
   "metadata": {},
   "outputs": [
    {
     "name": "stdout",
     "output_type": "stream",
     "text": [
      "Enter a number : 10\n",
      "Enter a word: sampiyon cimbom\n",
      "10*9*8*7*6*5*4*3*2*1*SAMPIYON CIMBOM!\n"
     ]
    }
   ],
   "source": [
    "num = int(input(\"Enter a number : \"))\n",
    "text = input(\"Enter a word: \").upper()\n",
    "\n",
    "def geri_say(num,text):\n",
    "    mesaj =\"\"\n",
    "    for i in range(num,0,-1):\n",
    "        mesaj += str(i) + \"*\"\n",
    "    mesaj = mesaj + text +\"!\"    \n",
    "    return mesaj \n",
    "\n",
    "print(geri_say(num,text))"
   ]
  },
  {
   "cell_type": "markdown",
   "metadata": {
    "id": "X0np6sCFPGjA"
   },
   "source": [
    "```\n",
    "6. Arif ve Raife listede yanyana duruyorlasa True döndüren durmuyorlarsa False döndüren bir fonksiyon yazalım.\n",
    "print(yan_yana_mı([\"Arif\",\"Raife\",\"Nihal\"])) --> True\n",
    "print(yan_yana_mı([\"Arif\",\"Nihal\",\"Raife\"])) --> False\n",
    "```\n",
    "\n"
   ]
  },
  {
   "cell_type": "code",
   "execution_count": 279,
   "metadata": {},
   "outputs": [
    {
     "name": "stdout",
     "output_type": "stream",
     "text": [
      "True\n"
     ]
    }
   ],
   "source": [
    "#pr\n",
    "int(yan_yana_mı([\"Arif\",\"Raife\",\"Nihal\"])) --> True\n",
    "#print(yan_yana_mı([\"Arif\",\"Nihal\",\"Raife\"])) --> False\n",
    "\n",
    "lst = [\"Arif\",\"Raife\",\"Nihal\"]\n",
    "for i in lst:\n",
    "    if lst.index(\"Arif\")+1 == lst.index(\"Raife\"):\n",
    "        a =True\n",
    "    else:\n",
    "        a = False\n",
    "print(a)"
   ]
  },
  {
   "cell_type": "code",
   "execution_count": 282,
   "metadata": {},
   "outputs": [
    {
     "name": "stdout",
     "output_type": "stream",
     "text": [
      "True\n",
      "False\n"
     ]
    }
   ],
   "source": [
    "def yan_yana_mı(lst):\n",
    "    for i in lst:\n",
    "        if lst.index(\"Arif\")+1 == lst.index(\"Raife\"):\n",
    "            a =True\n",
    "        else:\n",
    "            a = False\n",
    "    return a\n",
    "print(yan_yana_mı([\"Arif\",\"Raife\",\"Nihal\"]))\n",
    "print(yan_yana_mı([\"Arif\",\"Nihal\",\"Raife\"]))"
   ]
  },
  {
   "cell_type": "markdown",
   "metadata": {
    "id": "o8RAQ9ZpPGcN"
   },
   "source": [
    "```\n",
    "7. Listedeki her elemanı kendi indexi ile çarpıp toplamı veren bir fonksiyon yazalım.\n",
    "print(carpip_topla([1,2,3,4,5,6,7,8,9,10])) --> 330\n",
    "```\n",
    "\n",
    "\n",
    "\n"
   ]
  },
  {
   "cell_type": "code",
   "execution_count": 284,
   "metadata": {},
   "outputs": [
    {
     "name": "stdout",
     "output_type": "stream",
     "text": [
      "330\n"
     ]
    }
   ],
   "source": [
    "# print(carpip_topla([1,2,3,4,5,6,7,8,9,10])) --> 330\n",
    "lst = [1,2,3,4,5,6,7,8,9,10]\n",
    "toplam = 0    \n",
    "for i in lst:\n",
    "    toplam += i * lst.index(i)\n",
    "print(toplam)"
   ]
  },
  {
   "cell_type": "code",
   "execution_count": 286,
   "metadata": {},
   "outputs": [
    {
     "name": "stdout",
     "output_type": "stream",
     "text": [
      "330\n"
     ]
    }
   ],
   "source": [
    "def carpip_topla(lst):\n",
    "    toplam = 0    \n",
    "    for i in lst:\n",
    "        toplam += i * lst.index(i)\n",
    "    return toplam\n",
    "print(carpip_topla([1,2,3,4,5,6,7,8,9,10]))"
   ]
  },
  {
   "cell_type": "markdown",
   "metadata": {
    "id": "6eFw-Cy2PGYg"
   },
   "source": [
    "```\n",
    "8. Cümledeki sayı ve harflerin sayısını bulan bir fonksiyon yazalım\n",
    "print(harf_sayi_sayisi(\"10'a kadar saysam ve sonrasında hayat bayram olsa.\")) --> Harfler: 39, Sayılar: 2\n",
    "\n",
    "```\n",
    "\n",
    "\n"
   ]
  },
  {
   "cell_type": "code",
   "execution_count": 291,
   "metadata": {},
   "outputs": [
    {
     "name": "stdout",
     "output_type": "stream",
     "text": [
      "Enter your text: 10'a kadar saysam ve sonrasında hayat bayram olsa.\n",
      "Harfler: 39, Sayılar: 2\n"
     ]
    }
   ],
   "source": [
    "text = input(\"Enter your text: \")\n",
    "numbers = \"0123456789\"\n",
    "numeric = 0\n",
    "alpha = 0\n",
    "   \n",
    "for i in text:\n",
    "    if i.isalpha() == True:\n",
    "        alpha +=1\n",
    "    elif i in numbers:\n",
    "        numeric +=1\n",
    "print(f\"Harfler: {alpha}, Sayılar: {numeric}\")   "
   ]
  },
  {
   "cell_type": "code",
   "execution_count": 292,
   "metadata": {},
   "outputs": [
    {
     "name": "stdout",
     "output_type": "stream",
     "text": [
      "Harfler: 39, Sayılar: 2\n"
     ]
    }
   ],
   "source": [
    "# print(harf_sayi_sayisi(\"10'a kadar saysam ve sonrasında hayat bayram olsa.\")) --> \n",
    "# Harfler: 39, Sayılar: 2\n",
    "def harf_sayi_sayisi(text):\n",
    "    numbers = \"0123456789\"\n",
    "    numeric = 0\n",
    "    alpha = 0\n",
    "   \n",
    "    for i in text:\n",
    "        if i.isalpha() == True:\n",
    "            alpha +=1\n",
    "        elif i in numbers:\n",
    "            numeric +=1\n",
    "    return (f\"Harfler: {alpha}, Sayılar: {numeric}\")   \n",
    "print(harf_sayi_sayisi(\"10'a kadar saysam ve sonrasında hayat bayram olsa.\"))"
   ]
  },
  {
   "cell_type": "markdown",
   "metadata": {
    "id": "txt134wgPGVZ"
   },
   "source": [
    "```\n",
    "9.Stringin içindeki en büyük ve en küçük sayıyı veren fonksiyon yazalım.\n",
    "print(büyük_kücük(\"3 2 4 6 -1 12\")) --> 12 -1\n",
    "```\n",
    "\n"
   ]
  },
  {
   "cell_type": "code",
   "execution_count": 323,
   "metadata": {},
   "outputs": [
    {
     "name": "stdout",
     "output_type": "stream",
     "text": [
      "12 -1\n"
     ]
    }
   ],
   "source": [
    "text = \"3 2 4 6 -1 12\"\n",
    "lst = text.split()\n",
    "for i in lst:\n",
    "    lst[lst.index(i)]= int(i)\n",
    "print(f\"{max(lst)} {min(lst)}\")"
   ]
  },
  {
   "cell_type": "code",
   "execution_count": 329,
   "metadata": {},
   "outputs": [
    {
     "name": "stdout",
     "output_type": "stream",
     "text": [
      "12 -1\n"
     ]
    }
   ],
   "source": [
    "def büyük_kücük(text):\n",
    "    lst = text.split()\n",
    "    for i in lst:\n",
    "        lst[lst.index(i)]= int(i)\n",
    "    return f\"{max(lst)} {min(lst)}\"\n",
    "print(büyük_kücük(\"3 2 4 6 -1 12\"))"
   ]
  },
  {
   "cell_type": "markdown",
   "metadata": {
    "id": "RhGJCDaNPGIS"
   },
   "source": [
    "```\n",
    "10. Harfler ve boşluklardan oluşan stringin içindeki kelime nin uzunluğu beş veya dah fazla ise o kelimeyi ters çeviren bir fonksiyon yazalım.\n",
    "print(ters_döndür(\"Ah bir data scientist olabilsem:)\")) --> Ah bir data tsitneics ):meslibalo\n",
    "```\n",
    "\n"
   ]
  },
  {
   "cell_type": "code",
   "execution_count": 334,
   "metadata": {},
   "outputs": [
    {
     "name": "stdout",
     "output_type": "stream",
     "text": [
      "Ah bir data tsitneics ):meslibalo \n"
     ]
    }
   ],
   "source": [
    "# print(ters_döndür(\"Ah bir data scientist olabilsem:)\")) --> Ah bir data tsitneics ):meslibalo\n",
    "\n",
    "text = \"Ah bir data scientist olabilsem:)\"\n",
    "lst = text.split()\n",
    "new_text = \"\"\n",
    "for i in lst:\n",
    "    if len(i) >= 5:\n",
    "        new_text += i[::-1] + \" \"\n",
    "    else:\n",
    "        new_text += i + \" \"\n",
    "print(new_text)"
   ]
  },
  {
   "cell_type": "code",
   "execution_count": 340,
   "metadata": {},
   "outputs": [
    {
     "name": "stdout",
     "output_type": "stream",
     "text": [
      "Ah bir data tsitneics ):meslibalo \n"
     ]
    }
   ],
   "source": [
    "def ters_döndür(text):\n",
    "    lst = text.split()\n",
    "    new_text = \"\"\n",
    "    for i in lst:\n",
    "        if len(i) >= 5:\n",
    "            new_text += i[::-1] + \" \"\n",
    "        else:\n",
    "            new_text += i + \" \"\n",
    "    return new_text   \n",
    "    \n",
    "print(ters_döndür(\"Ah bir data scientist olabilsem:)\"))"
   ]
  },
  {
   "cell_type": "code",
   "execution_count": null,
   "metadata": {},
   "outputs": [],
   "source": []
  }
 ],
 "metadata": {
  "colab": {
   "name": "group_1.ipynb",
   "provenance": []
  },
  "kernelspec": {
   "display_name": "Python 3",
   "language": "python",
   "name": "python3"
  },
  "language_info": {
   "codemirror_mode": {
    "name": "ipython",
    "version": 3
   },
   "file_extension": ".py",
   "mimetype": "text/x-python",
   "name": "python",
   "nbconvert_exporter": "python",
   "pygments_lexer": "ipython3",
   "version": "3.8.8"
  }
 },
 "nbformat": 4,
 "nbformat_minor": 1
}
