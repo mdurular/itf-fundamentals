{
 "cells": [
  {
   "cell_type": "markdown",
   "id": "caf37ffa",
   "metadata": {},
   "source": [
    "accumulating_list([1, 2, 3, 4]) ➞ [1, 3, 6, 10]\n",
    " [1, 3, 6, 10] can be written as  [1, 1 + 2, 1 + 2 + 3, 1 + 2 + 3 + 4]\n",
    "\n",
    "accumulating_list([1, 5, 7]) ➞ [1, 6, 13]\n",
    "\n",
    "accumulating_list([1, 0, 1, 0, 1]) ➞ [1, 1, 2, 2, 3]\n",
    "\n",
    "accumulating_list([]) ➞ []"
   ]
  },
  {
   "cell_type": "code",
   "execution_count": null,
   "id": "4efe7f87",
   "metadata": {},
   "outputs": [],
   "source": [
    "def accumulating_list(list1):\n",
    "    return [sum(list1[:i+1]) for i in range(len(list1))]"
   ]
  },
  {
   "cell_type": "code",
   "execution_count": null,
   "id": "146a9c3a",
   "metadata": {},
   "outputs": [],
   "source": [
    "def accumulating_list(lst):\n",
    "\treturn [\n",
    "\t\tsum(lst[:num])\n",
    "\t\tfor num in range(1, len(lst) + 1)\n",
    "\t]"
   ]
  },
  {
   "cell_type": "code",
   "execution_count": null,
   "id": "40c5c31a",
   "metadata": {},
   "outputs": [],
   "source": [
    "def accumulating_list(lst):\n",
    "    sum=0\n",
    "    sum_list=[]\n",
    "    for a in lst:\n",
    "        sum+=a\n",
    "        sum_list.append(sum)\n",
    "    return sum_list"
   ]
  },
  {
   "cell_type": "code",
   "execution_count": null,
   "id": "e26e7f15",
   "metadata": {},
   "outputs": [],
   "source": []
  },
  {
   "cell_type": "code",
   "execution_count": null,
   "id": "109b32b5",
   "metadata": {},
   "outputs": [],
   "source": []
  }
 ],
 "metadata": {
  "kernelspec": {
   "display_name": "Python 3",
   "language": "python",
   "name": "python3"
  },
  "language_info": {
   "codemirror_mode": {
    "name": "ipython",
    "version": 3
   },
   "file_extension": ".py",
   "mimetype": "text/x-python",
   "name": "python",
   "nbconvert_exporter": "python",
   "pygments_lexer": "ipython3",
   "version": "3.8.8"
  }
 },
 "nbformat": 4,
 "nbformat_minor": 5
}
