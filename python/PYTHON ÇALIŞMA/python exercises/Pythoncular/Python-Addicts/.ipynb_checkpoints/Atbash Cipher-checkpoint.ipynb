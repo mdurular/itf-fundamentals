{
 "cells": [
  {
   "cell_type": "markdown",
   "id": "12a57de9",
   "metadata": {},
   "source": [
    "The Atbash cipher is an encryption method in which \n",
    "each letter of a word is replaced with its \"mirror\" \n",
    "letter in the alphabet: A <=> Z; B <=> Y; C <=> X; etc.\n",
    "\n",
    "Create a function that takes a string and applies the Atbash cipher to it.\n",
    "\n",
    "Examples\n",
    "atbash(\"apple\") ➞ \"zkkov\"\n",
    "\n",
    "atbash(\"Hello world!\") ➞ \"Svool dliow!\"\n",
    "\n",
    "atbash(\"Christmas is the 25th of December\") ➞ \"Xsirhgnzh rh gsv 25gs lu Wvxvnyvi\"\n",
    "Notes\n",
    "Capitalisation should be retained.\n",
    "Non-alphabetic characters should not be altered."
   ]
  },
  {
   "cell_type": "code",
   "execution_count": 1,
   "id": "e3bc3934",
   "metadata": {},
   "outputs": [
    {
     "data": {
      "text/plain": [
       "'zkkov!'"
      ]
     },
     "execution_count": 1,
     "metadata": {},
     "output_type": "execute_result"
    }
   ],
   "source": [
    "def atbash_cipher(text):\n",
    "    new_text = ''\n",
    "    for i in text:\n",
    "        if (ord(i) <=122 and ord(i) >= 97) or (ord(i) <= 90 and ord(i) >=65):\n",
    "            if ord(i) >= 97 and ord(i) <= 122:\n",
    "                i = ord(i)\n",
    "                x = 219 - i\n",
    "                y = chr(x)\n",
    "                new_text += y\n",
    "            else:\n",
    "                i = ord(i)\n",
    "                x = 155 - i\n",
    "                y = chr(x)\n",
    "                new_text += y\n",
    "        else:\n",
    "            y = i\n",
    "            new_text += y\n",
    "    return new_text\n",
    "\n",
    "atbash_cipher(\"apple!\")"
   ]
  },
  {
   "cell_type": "code",
   "execution_count": 3,
   "id": "c99b91b7",
   "metadata": {},
   "outputs": [
    {
     "data": {
      "text/plain": [
       "'zkkov!'"
      ]
     },
     "execution_count": 3,
     "metadata": {},
     "output_type": "execute_result"
    }
   ],
   "source": [
    "def atbash(t):\n",
    "  new_txt= \"\"\n",
    "  list1 = list(range(65,91)) \n",
    "  list2 = list(range(97,123))\n",
    "  for i in t:\n",
    "    if ord(i) in list1 :\n",
    "      new_txt += chr(list1[-1*list1.index(ord(i))-1])\n",
    "    elif ord(i) in list2 :\n",
    "      new_txt += chr(list2[-1*list2.index(ord(i))-1])\n",
    "    else:\n",
    "      new_txt += i\n",
    "  return new_txt\n",
    "\n",
    "atbash(\"apple!\")"
   ]
  },
  {
   "cell_type": "code",
   "execution_count": 5,
   "id": "98f900ce",
   "metadata": {},
   "outputs": [
    {
     "data": {
      "text/plain": [
       "'zkkov!'"
      ]
     },
     "execution_count": 5,
     "metadata": {},
     "output_type": "execute_result"
    }
   ],
   "source": [
    "def atbash(txt):\n",
    "    liste = {\"a\":\"z\", \"b\":\"y\", \"c\":\"x\", \"d\":\"w\",\"e\":\"v\",\"f\":\"u\",\"g\":\"t\",\"h\":\"s\",\"i\":\"r\",\"j\":\"q\",\"k\":\"p\",\"l\":\"o\",\"m\":\"n\"}\n",
    "    liste2 = {j:i for i,j in liste.items()}\n",
    "    liste.update(liste2)\n",
    "    liste3 = {i.upper():j.upper() for i,j in liste.items()}\n",
    "    liste.update(liste3)\n",
    "    return \"\".join(liste[i] if i.isalpha() else i for i in txt)\n",
    "atbash(\"apple!\")"
   ]
  },
  {
   "cell_type": "code",
   "execution_count": null,
   "id": "b364f3f7",
   "metadata": {},
   "outputs": [],
   "source": []
  },
  {
   "cell_type": "code",
   "execution_count": null,
   "id": "e7bfc578",
   "metadata": {},
   "outputs": [],
   "source": []
  },
  {
   "cell_type": "code",
   "execution_count": null,
   "id": "0df09460",
   "metadata": {},
   "outputs": [],
   "source": []
  }
 ],
 "metadata": {
  "kernelspec": {
   "display_name": "Python 3",
   "language": "python",
   "name": "python3"
  },
  "language_info": {
   "codemirror_mode": {
    "name": "ipython",
    "version": 3
   },
   "file_extension": ".py",
   "mimetype": "text/x-python",
   "name": "python",
   "nbconvert_exporter": "python",
   "pygments_lexer": "ipython3",
   "version": "3.8.8"
  }
 },
 "nbformat": 4,
 "nbformat_minor": 5
}
