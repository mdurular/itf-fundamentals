{
 "cells": [
  {
   "cell_type": "markdown",
   "id": "811d459c",
   "metadata": {},
   "source": [
    "Create a function that takes two numbers and a mathematical \n",
    "operator + - / * and will perform a calculation with the given numbers.\n",
    "\n",
    "Examples\n",
    "calculator(2, \"+\", 2) ➞ 4\n",
    "\n",
    "calculator(2, \"*\", 2) ➞ 4\n",
    "\n",
    "calculator(4, \"/\", 2) ➞ 2\n",
    "Notes\n",
    "If the input tries to divide by 0, return: \"Can't divide by 0!\""
   ]
  },
  {
   "cell_type": "code",
   "execution_count": 1,
   "id": "91762a42",
   "metadata": {},
   "outputs": [
    {
     "data": {
      "text/plain": [
       "4"
      ]
     },
     "execution_count": 1,
     "metadata": {},
     "output_type": "execute_result"
    }
   ],
   "source": [
    "def calculator(num1, operator, num2):\n",
    "    if num2==0 and operator=='/':\n",
    "        return \"Can't divide by 0!\"\n",
    "    return eval(str(num1) + operator + str(num2))\n",
    "calculator(2, \"*\", 2)"
   ]
  },
  {
   "cell_type": "code",
   "execution_count": null,
   "id": "7c7dbb57",
   "metadata": {},
   "outputs": [],
   "source": [
    "def calculator(num1, operator, num2):\n",
    "\tif operator == '/' and num2 == 0:\n",
    "\t\treturn \"Can't divide by 0!\"\n",
    "\treturn eval('num1' + operator + 'num2')"
   ]
  },
  {
   "cell_type": "code",
   "execution_count": null,
   "id": "d8bc370d",
   "metadata": {},
   "outputs": [],
   "source": [
    "def calculator(num1, operator, num2):\n",
    "    return \"Can't divide by 0!\" if num2==0 and operator=='/' else eval(str(num1) + operator + str(num2))"
   ]
  },
  {
   "cell_type": "code",
   "execution_count": null,
   "id": "c267dbe2",
   "metadata": {},
   "outputs": [],
   "source": [
    "def calculator(num1, operator, num2):\n",
    "\tif operator == \"/\" and num2 == 0:\n",
    "\t\treturn \"Can't divide by 0!\"\n",
    "\tif operator == \"+\":\n",
    "\t\treturn num1 + num2\n",
    "\tif operator == \"-\":\n",
    "\t\treturn num1 - num2\n",
    "\tif operator == \"*\":\n",
    "\t\treturn num1 * num2\n",
    "\tif operator == \"/\":\n",
    "\t\treturn num1 / num2"
   ]
  },
  {
   "cell_type": "code",
   "execution_count": null,
   "id": "c611eca6",
   "metadata": {},
   "outputs": [],
   "source": [
    "def calculator(num1, operator, num2):\n",
    "\ttry:\n",
    "\t\treturn eval(\"{}{}{}\".format(num1, operator, num2))\n",
    "\texcept ZeroDivisionError:\n",
    "\t\treturn \"Can't divide by 0!\""
   ]
  },
  {
   "cell_type": "code",
   "execution_count": null,
   "id": "7aaa74fc",
   "metadata": {},
   "outputs": [],
   "source": [
    "def calculator(num1, operator, num2):\n",
    "\tif operator == \"/\" and num2 == 0:\n",
    "\t\treturn \"Can't divide by 0!\"\n",
    "\treturn eval(str(num1)+operator+str(num2))"
   ]
  },
  {
   "cell_type": "code",
   "execution_count": null,
   "id": "6452a7e0",
   "metadata": {},
   "outputs": [],
   "source": [
    "def calculator(num1, operator, num2):\n",
    "\ttry:\n",
    "\t\treturn eval(\"{}{}{}\".format(num1, operator, num2))\n",
    "\texcept ZeroDivisionError:\n",
    "\t\treturn \"Can't divide by 0!\""
   ]
  },
  {
   "cell_type": "code",
   "execution_count": null,
   "id": "c2fbab3b",
   "metadata": {},
   "outputs": [],
   "source": []
  }
 ],
 "metadata": {
  "kernelspec": {
   "display_name": "Python 3",
   "language": "python",
   "name": "python3"
  },
  "language_info": {
   "codemirror_mode": {
    "name": "ipython",
    "version": 3
   },
   "file_extension": ".py",
   "mimetype": "text/x-python",
   "name": "python",
   "nbconvert_exporter": "python",
   "pygments_lexer": "ipython3",
   "version": "3.8.8"
  }
 },
 "nbformat": 4,
 "nbformat_minor": 5
}
