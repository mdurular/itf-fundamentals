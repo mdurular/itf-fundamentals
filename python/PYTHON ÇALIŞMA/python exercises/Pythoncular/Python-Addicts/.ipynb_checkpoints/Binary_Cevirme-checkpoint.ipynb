{
 "cells": [
  {
   "cell_type": "markdown",
   "id": "46779cb0",
   "metadata": {},
   "source": [
    "Create a function that returns a base-2 (binary) representation \n",
    "of a base-10 (decimal) string number. To convert is \n",
    "simple: ((2) means base-2 and (10) means base-10) 010101001(2) = 1 + 8 + 32 + 128.\n",
    "\n",
    "Going from right to left, the value of the most right \n",
    "bit is 1, now from that every bit to the left will be x2 the value, \n",
    "value of an 8 bit binary numbers are (256, 128, 64, 32, 16, 8, 4, 2, 1).\n",
    "\n",
    "Examples\n",
    "binary(1) ➞ \"1\"\n",
    " 1*1 = 1\n",
    "\n",
    "binary(5) ➞ \"101\"\n",
    " 1*1 + 1*4 = 5\n",
    "\n",
    "binary(10) ➞ \"1010\"\n",
    " 1*2 + 1*8 = 10\n",
    "Notes\n",
    "Numbers will always be below 1024 (not including 1024).\n",
    "The strings will always go to the length at which the most \n",
    "left bit's value gets bigger than the number in decimal.\n",
    "If a binary conversion for 0 is attempted, return \"0\"."
   ]
  },
  {
   "cell_type": "code",
   "execution_count": 1,
   "id": "fcfbb9b5",
   "metadata": {},
   "outputs": [
    {
     "name": "stdout",
     "output_type": "stream",
     "text": [
      "1010\n"
     ]
    }
   ],
   "source": [
    "def binary(decimal):\n",
    "    result = \"\"\n",
    "    while decimal >=1:\n",
    "        result += str(int(decimal%2))\n",
    "        decimal -= (decimal/2)\n",
    "    return result[::-1]\n",
    "print(binary(10))"
   ]
  },
  {
   "cell_type": "code",
   "execution_count": 2,
   "id": "231205f0",
   "metadata": {},
   "outputs": [
    {
     "name": "stdout",
     "output_type": "stream",
     "text": [
      "1111011\n"
     ]
    }
   ],
   "source": [
    "def binary(decimal):\n",
    "    return bin(decimal).replace(\"0b\",\"\")\n",
    "print(binary(123))"
   ]
  },
  {
   "cell_type": "code",
   "execution_count": 3,
   "id": "91c83a48",
   "metadata": {},
   "outputs": [
    {
     "name": "stdout",
     "output_type": "stream",
     "text": [
      "5\n",
      "101\n"
     ]
    }
   ],
   "source": [
    "decimal = int(input())\n",
    "if 1 <= decimal < 1024:\n",
    "  binary = \"\"\n",
    "  while decimal >= 1:\n",
    "    binary += str(int(decimal%2))\n",
    "    decimal -= (decimal/2)\n",
    "elif decimal == 0:\n",
    "  binary = \"0\"\n",
    "else:\n",
    "  print(\"out of scope\")\n",
    "  \n",
    "print(binary[::-1])"
   ]
  },
  {
   "cell_type": "code",
   "execution_count": 6,
   "id": "7b06b113",
   "metadata": {},
   "outputs": [
    {
     "name": "stdout",
     "output_type": "stream",
     "text": [
      "binary etmek istediğiniz sayiyi giriniz:10\n",
      "01010\n"
     ]
    }
   ],
   "source": [
    "user=int(input(\"binary etmek istediğiniz sayiyi giriniz:\"))\n",
    "sayac=0\n",
    "if user==0:\n",
    "    print(000000)\n",
    "else:\n",
    "    while user>=2**sayac:\n",
    "        sayac+=1\n",
    "    sayac -=1\n",
    "    zeros=[i*0 for i in range(sayac)]\n",
    "    if user-2**sayac==0:\n",
    "        zeros.insert(-sayac,1)\n",
    "    else:\n",
    "        kalan=user-2**sayac\n",
    "        upper = [2 ** k for k in range(sayac)]\n",
    "        if kalan in upper:\n",
    "            zeros.insert(upper.index(kalan)+1,1)\n",
    "            zeros.insert(-sayac,1)\n",
    "    bin=\"\"\n",
    "    for b in zeros:bin+=str(b)\n",
    "    print(bin)"
   ]
  },
  {
   "cell_type": "code",
   "execution_count": null,
   "id": "4b8cf266",
   "metadata": {},
   "outputs": [],
   "source": []
  }
 ],
 "metadata": {
  "kernelspec": {
   "display_name": "Python 3",
   "language": "python",
   "name": "python3"
  },
  "language_info": {
   "codemirror_mode": {
    "name": "ipython",
    "version": 3
   },
   "file_extension": ".py",
   "mimetype": "text/x-python",
   "name": "python",
   "nbconvert_exporter": "python",
   "pygments_lexer": "ipython3",
   "version": "3.8.8"
  }
 },
 "nbformat": 4,
 "nbformat_minor": 5
}
