{
 "cells": [
  {
   "cell_type": "markdown",
   "id": "f5bd3b41",
   "metadata": {},
   "source": [
    "Given a signed 32-bit integer x, return x with its digits reversed. \n",
    "If reversing x causes the value to go outside the signed 32-bit \n",
    "integer range [-2^31, 2^31 - 1], then return 0.\n",
    "Assume the environment does not allow you to store 64-bit integers (signed or unsigned).\n",
    "Example 1:\n",
    "Input: x = 123\n",
    "Output: 321\n",
    " \n",
    "Example 2:\n",
    "Input: x = -123\n",
    "Output: -321\n",
    " \n",
    "Example 3:\n",
    "Input: x = 120\n",
    "Output: 21\n",
    " \n",
    "Example 4:\n",
    "Input: x = 0\n",
    "Output: 0\n",
    "Constraints:\n",
    "-2^31 <= x <= 2^31 - 1"
   ]
  },
  {
   "cell_type": "code",
   "execution_count": 4,
   "id": "239070fd",
   "metadata": {},
   "outputs": [
    {
     "data": {
      "text/plain": [
       "21"
      ]
     },
     "execution_count": 4,
     "metadata": {},
     "output_type": "execute_result"
    }
   ],
   "source": [
    "def reversed(x):\n",
    "  if -2**31 <= x <= 2**31 - 1:\n",
    "    if x==0:\n",
    "      return 0\n",
    "    elif x<0:\n",
    "      return int(str(x).strip(\"-\")[::-1])*-1\n",
    "    else :\n",
    "      return int(str(x)[::-1])\n",
    "  else:\n",
    "    return 0\n",
    "reversed(120)"
   ]
  },
  {
   "cell_type": "code",
   "execution_count": 3,
   "id": "d4c6f607",
   "metadata": {},
   "outputs": [
    {
     "name": "stdout",
     "output_type": "stream",
     "text": [
      "Enter a number :120\n",
      "21"
     ]
    }
   ],
   "source": [
    "x = int(input('Enter a number :'))\n",
    "list_x = list(str(x))\n",
    "if x in range(-2**31, 2**31-1):\n",
    "    y, z = 0, 1\n",
    "    for i in list_x:\n",
    "        if list_x[len(list_x)-z] == '0':\n",
    "            list_x.remove('0')\n",
    "        if x < 0 :\n",
    "            print(list_x[y], end=\"\")\n",
    "            y = len(list_x)-z\n",
    "            z += 1\n",
    "        elif x > 0:\n",
    "            y= len(list_x)-z            \n",
    "            print(list_x[y], end=\"\")\n",
    "            z += 1\n",
    "        else :\n",
    "            print(x)\n",
    "else :\n",
    "    print(0)"
   ]
  },
  {
   "cell_type": "code",
   "execution_count": null,
   "id": "b8496848",
   "metadata": {},
   "outputs": [],
   "source": []
  },
  {
   "cell_type": "code",
   "execution_count": null,
   "id": "017ceacb",
   "metadata": {},
   "outputs": [],
   "source": []
  }
 ],
 "metadata": {
  "kernelspec": {
   "display_name": "Python 3",
   "language": "python",
   "name": "python3"
  },
  "language_info": {
   "codemirror_mode": {
    "name": "ipython",
    "version": 3
   },
   "file_extension": ".py",
   "mimetype": "text/x-python",
   "name": "python",
   "nbconvert_exporter": "python",
   "pygments_lexer": "ipython3",
   "version": "3.8.8"
  }
 },
 "nbformat": 4,
 "nbformat_minor": 5
}
