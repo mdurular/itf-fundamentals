{
 "cells": [
  {
   "cell_type": "code",
   "execution_count": 90,
   "id": "bbd8e743",
   "metadata": {},
   "outputs": [
    {
     "name": "stdout",
     "output_type": "stream",
     "text": [
      "[1, 1, 2, 3, 5, 8, 13, 21, 34, 55]\n"
     ]
    }
   ],
   "source": [
    "lst=[]\n",
    "num = 0\n",
    "while num<55:\n",
    "    if len(lst)<2:\n",
    "        lst.append(1)\n",
    "        \n",
    "    else:\n",
    "        lst.append(lst[-2]+lst[-1])\n",
    "        num = lst[-1]    \n",
    "        \n",
    "print(lst)"
   ]
  },
  {
   "cell_type": "code",
   "execution_count": 91,
   "id": "81696ad7",
   "metadata": {},
   "outputs": [
    {
     "name": "stdout",
     "output_type": "stream",
     "text": [
      "fibonacci sayıları : [1, 2, 3, 5, 8, 13, 21, 34, 55]\n"
     ]
    }
   ],
   "source": [
    "x, y, z = 0, 1, 2\n",
    "fibonacci=[]\n",
    "while z < 55:\n",
    "    z = x + y\n",
    "    x = y\n",
    "    y = z\n",
    "    fibonacci.append(z)\n",
    "print(\"fibonacci sayıları :\", fibonacci)"
   ]
  },
  {
   "cell_type": "markdown",
   "id": "65f89e71",
   "metadata": {},
   "source": [
    "This is an interview question asked by Microsoft.\n",
    "\n",
    "A number is considered perfect if its digits sum up to exactly 10.\n",
    "\n",
    "Given a positive integer n, return the n-th perfect number.\n",
    "\n",
    "For example, given 1, you should return 19. Given 2, you should return 28."
   ]
  },
  {
   "cell_type": "code",
   "execution_count": 135,
   "id": "0e6b9978",
   "metadata": {},
   "outputs": [
    {
     "name": "stdout",
     "output_type": "stream",
     "text": [
      "55\n"
     ]
    }
   ],
   "source": [
    "def perfect(n):\n",
    "    top = 0\n",
    "    count = 0\n",
    "    number = 10\n",
    "    while count < n:\n",
    "        number+=9\n",
    "        count+=1\n",
    "        for i in str(number):\n",
    "            top += int(i)\n",
    "            if top == 10:\n",
    "                break\n",
    "    return number\n",
    "print(perfect(5))"
   ]
  },
  {
   "cell_type": "markdown",
   "id": "9419e9d3",
   "metadata": {},
   "source": [
    "This problem was asked by Google.\n",
    "Given a string of words delimited by spaces, reverse the words in string. \n",
    "For example, given \"hello world here\", return \"here world hello\""
   ]
  },
  {
   "cell_type": "code",
   "execution_count": 162,
   "id": "64033026",
   "metadata": {},
   "outputs": [
    {
     "name": "stdout",
     "output_type": "stream",
     "text": [
      "here world hello\n"
     ]
    }
   ],
   "source": [
    "def terscevir(text): \n",
    "    a = (text.split()[::-1])\n",
    "    return \" \".join(a)\n",
    "print(terscevir(\"hello world here\"))\n"
   ]
  },
  {
   "cell_type": "code",
   "execution_count": 192,
   "id": "4478388b",
   "metadata": {},
   "outputs": [
    {
     "data": {
      "text/plain": [
       "'here world hello'"
      ]
     },
     "execution_count": 192,
     "metadata": {},
     "output_type": "execute_result"
    }
   ],
   "source": [
    "text = \"hello world here\"\n",
    "a = text.split()[::-1]\n",
    "b = \" \".join(a)\n",
    "b"
   ]
  },
  {
   "cell_type": "code",
   "execution_count": 1,
   "id": "89f1af4a",
   "metadata": {},
   "outputs": [
    {
     "data": {
      "text/plain": [
       "[6, 28, 496]"
      ]
     },
     "execution_count": 1,
     "metadata": {},
     "output_type": "execute_result"
    }
   ],
   "source": [
    "def perfect(num):    \n",
    "    new_list = []\n",
    "    for k in range(2, num + 1):\n",
    "        num_list = []\n",
    "        for i in range(1, k):\n",
    "            if k % i == 0:\n",
    "                num_list.append(i)\n",
    "        total = sum(num_list)\n",
    "        if k == total:\n",
    "            new_list.append(k)\n",
    "    return new_list\n",
    "\n",
    "perfect(500)"
   ]
  },
  {
   "cell_type": "code",
   "execution_count": null,
   "id": "e53c5fbb",
   "metadata": {},
   "outputs": [],
   "source": []
  },
  {
   "cell_type": "code",
   "execution_count": null,
   "id": "a6cba5b8",
   "metadata": {},
   "outputs": [],
   "source": []
  },
  {
   "cell_type": "code",
   "execution_count": null,
   "id": "0ce72012",
   "metadata": {},
   "outputs": [],
   "source": []
  }
 ],
 "metadata": {
  "kernelspec": {
   "display_name": "Python 3",
   "language": "python",
   "name": "python3"
  },
  "language_info": {
   "codemirror_mode": {
    "name": "ipython",
    "version": 3
   },
   "file_extension": ".py",
   "mimetype": "text/x-python",
   "name": "python",
   "nbconvert_exporter": "python",
   "pygments_lexer": "ipython3",
   "version": "3.8.8"
  }
 },
 "nbformat": 4,
 "nbformat_minor": 5
}
