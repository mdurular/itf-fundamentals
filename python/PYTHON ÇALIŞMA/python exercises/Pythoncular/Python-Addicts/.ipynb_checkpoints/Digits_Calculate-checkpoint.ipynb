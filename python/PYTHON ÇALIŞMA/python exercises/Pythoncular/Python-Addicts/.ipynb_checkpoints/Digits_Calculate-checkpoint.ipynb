{
 "cells": [
  {
   "cell_type": "markdown",
   "id": "8f89b954",
   "metadata": {},
   "source": [
    "Imagine you took all the numbers between 0 and n and concatenated \n",
    "them together into a long string. How many digits are there \n",
    "between 0 and n? Write a function that can calculate this.\n",
    "There are 0 digits between 0 and 1, there are 9 digits \n",
    "between 0 and 10 and there are 189 digits between 0 and 100.\n",
    "Examples digits(1) ➞ 0\n",
    "digits(10) ➞ 9\n",
    "digits(100) ➞ 189\n",
    "digits(2020) ➞ 6969\n",
    "Notes The numbers are going to be rather big so creating that string won't be practical.\n",
    "(Eğer fonksiyonlar bitmediyse kullanıcadan input alarak da çözebilirsiniz)"
   ]
  },
  {
   "cell_type": "code",
   "execution_count": 2,
   "id": "f57f8946",
   "metadata": {},
   "outputs": [
    {
     "name": "stdout",
     "output_type": "stream",
     "text": [
      "6969\n"
     ]
    }
   ],
   "source": [
    "def length(number):\n",
    "    result = 0\n",
    "    if number == 0 or number == 1:\n",
    "        result = 0\n",
    "    else:\n",
    "        for i in range(1, number):\n",
    "            index = 1\n",
    "            while i >= 10:\n",
    "                i = i // 10\n",
    "                index += 1\n",
    "            result += index\n",
    "    return result\n",
    "\n",
    "print(length(2020))"
   ]
  },
  {
   "cell_type": "code",
   "execution_count": 3,
   "id": "7c26aff2",
   "metadata": {},
   "outputs": [
    {
     "name": "stdout",
     "output_type": "stream",
     "text": [
      "6969\n"
     ]
    }
   ],
   "source": [
    "def length(number):\n",
    "    result = 0\n",
    "    if number == 0 or number == 1:\n",
    "        result = 0\n",
    "    else:\n",
    "        for i in range(1, number):\n",
    "            index = 1\n",
    "            while i >= 10:\n",
    "                i = i // 10\n",
    "                index += 1\n",
    "            result += index\n",
    "    return result\n",
    "\n",
    "print(length(2020))"
   ]
  },
  {
   "cell_type": "code",
   "execution_count": 4,
   "id": "9d14e6cf",
   "metadata": {},
   "outputs": [
    {
     "name": "stdout",
     "output_type": "stream",
     "text": [
      "6969\n"
     ]
    }
   ],
   "source": [
    "listem=[]\n",
    "def digit(kul):\n",
    "    for sayi in range(kul):\n",
    "        basamak = 1\n",
    "        while sayi>=10:\n",
    "            sayi/=10\n",
    "            basamak+=1\n",
    "        listem.append(basamak)\n",
    "    return sum(listem)-1\n",
    "\n",
    "print(digit(2020))"
   ]
  },
  {
   "cell_type": "code",
   "execution_count": 8,
   "id": "bd7ae433",
   "metadata": {},
   "outputs": [
    {
     "data": {
      "text/plain": [
       "6969"
      ]
     },
     "execution_count": 8,
     "metadata": {},
     "output_type": "execute_result"
    }
   ],
   "source": [
    "def total_number_digits(sayi):\n",
    "    a= len(str(sayi))\n",
    "    digits, number_digits =0 ,0\n",
    "    for i in range(a-1):\n",
    "        digits = (9*10**i) * (i+1)\n",
    "        number_digits +=digits\n",
    "    number_digits = number_digits + (int(sayi) - 10**(a-1)) *a\n",
    "    return number_digits\n",
    "total_number_digits(2020)"
   ]
  },
  {
   "cell_type": "code",
   "execution_count": null,
   "id": "671157a5",
   "metadata": {},
   "outputs": [],
   "source": []
  },
  {
   "cell_type": "code",
   "execution_count": null,
   "id": "c202c4aa",
   "metadata": {},
   "outputs": [],
   "source": []
  },
  {
   "cell_type": "code",
   "execution_count": null,
   "id": "f9c9bf18",
   "metadata": {},
   "outputs": [],
   "source": []
  }
 ],
 "metadata": {
  "kernelspec": {
   "display_name": "Python 3",
   "language": "python",
   "name": "python3"
  },
  "language_info": {
   "codemirror_mode": {
    "name": "ipython",
    "version": 3
   },
   "file_extension": ".py",
   "mimetype": "text/x-python",
   "name": "python",
   "nbconvert_exporter": "python",
   "pygments_lexer": "ipython3",
   "version": "3.8.8"
  }
 },
 "nbformat": 4,
 "nbformat_minor": 5
}
