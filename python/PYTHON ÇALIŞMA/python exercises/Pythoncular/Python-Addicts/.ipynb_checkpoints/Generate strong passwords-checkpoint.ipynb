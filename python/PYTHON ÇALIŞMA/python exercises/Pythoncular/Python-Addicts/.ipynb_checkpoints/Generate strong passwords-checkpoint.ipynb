{
 "cells": [
  {
   "cell_type": "code",
   "execution_count": null,
   "id": "727d4054",
   "metadata": {},
   "outputs": [],
   "source": [
    "Be creative with how you generate passwords - strong passwords\n",
    "have a mix of lowercase letters, uppercase letters, numbers, and symbols.\n",
    "The passwords should be random, generating a new password every time\n",
    "the user asks for a new password. Include your run-time code in a main method.\n",
    "Extra:\n",
    "Ask the user how strong they want their password to be. For weak passwords, pick a word or two from a list."
   ]
  },
  {
   "cell_type": "code",
   "execution_count": 1,
   "id": "67256ad5",
   "metadata": {},
   "outputs": [
    {
     "name": "stdout",
     "output_type": "stream",
     "text": [
      "For password type 'strong' or 'weak': strong\n",
      "F1QuTJFfZBBTY!rQu8Mq^eX7gAF65w#Yuo#12rWW2v@Ds4Fx?INtIplyko0ln(Qg66TahRUVz9W7txV5VV0Moqp&?igZrUF\n"
     ]
    }
   ],
   "source": [
    "import random\n",
    "\n",
    "def password_generator():\n",
    "  user_input = input(\"For password type 'strong' or 'weak': \")\n",
    "  if user_input.lower() == 'weak': \n",
    "    return random.choice(['musa', '1903', '1990'])\n",
    "\n",
    "  else:\n",
    "    letters = 'abcdefghijklmnopqrstuvwxyzABCDEFGHIJLMNOPQRSTUVWXYZ!@#$%^&*()?1234567890'\n",
    "    password = ''.join(random.choices(letters, k=(random.randrange(1, 99))))\n",
    "    return password\n",
    "  \n",
    "print(password_generator())"
   ]
  },
  {
   "cell_type": "code",
   "execution_count": null,
   "id": "fc4b8d26",
   "metadata": {},
   "outputs": [],
   "source": []
  },
  {
   "cell_type": "code",
   "execution_count": null,
   "id": "156e3412",
   "metadata": {},
   "outputs": [],
   "source": []
  },
  {
   "cell_type": "code",
   "execution_count": null,
   "id": "d28407e3",
   "metadata": {},
   "outputs": [],
   "source": []
  },
  {
   "cell_type": "code",
   "execution_count": null,
   "id": "5cbd23b6",
   "metadata": {},
   "outputs": [],
   "source": []
  }
 ],
 "metadata": {
  "kernelspec": {
   "display_name": "Python 3",
   "language": "python",
   "name": "python3"
  },
  "language_info": {
   "codemirror_mode": {
    "name": "ipython",
    "version": 3
   },
   "file_extension": ".py",
   "mimetype": "text/x-python",
   "name": "python",
   "nbconvert_exporter": "python",
   "pygments_lexer": "ipython3",
   "version": "3.8.8"
  }
 },
 "nbformat": 4,
 "nbformat_minor": 5
}
