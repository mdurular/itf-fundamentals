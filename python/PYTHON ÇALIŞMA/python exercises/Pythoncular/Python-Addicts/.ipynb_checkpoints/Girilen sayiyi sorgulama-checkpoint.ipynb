{
 "cells": [
  {
   "cell_type": "code",
   "execution_count": null,
   "id": "3ca47cb0",
   "metadata": {},
   "outputs": [],
   "source": [
    "Kullanıcıdan integer bir değer alan ve sayının pozitif-çift sayı olup olmadığını \n",
    "kontrol eden program yazınız. Girilen sayıların muhtemel farklı durumlarını göz önünde bulundurunuz. \n",
    "Kolay Gelsin..."
   ]
  },
  {
   "cell_type": "code",
   "execution_count": null,
   "id": "da0019e5",
   "metadata": {},
   "outputs": [],
   "source": [
    "x = (input(\"Enter a number:\"))\n",
    "if x.isdigit():\n",
    "    x1 = int(x)\n",
    "    if x1 % 2 == 0:\n",
    "        print(x, \",is a even number\")\n",
    "    else:\n",
    "        print(x, \"is a odd number\")\n",
    "else:\n",
    "    print(\"It is an invalid entry. Don't use non-numeric, float, or negative values!\")"
   ]
  },
  {
   "cell_type": "code",
   "execution_count": null,
   "id": "ce092324",
   "metadata": {},
   "outputs": [],
   "source": [
    "num = (input(\"Enter a number:\"))\n",
    "if num.isdigit():\n",
    "    num1 = int(num)\n",
    "    if num1 > 0:\n",
    "        if num1 % 2 == 0: \n",
    "            print(num, \",is a even number\")\n",
    "        else:\n",
    "            print(num, \"is a odd number\")\n",
    "    else:\n",
    "        print(\"It is an invalid entry. Don't use non-numeric, float, or negative values!\")\n",
    "else:\n",
    "    print(\"It is an invalid entry. Don't use non-numeric, float, or negative values!\")"
   ]
  },
  {
   "cell_type": "code",
   "execution_count": null,
   "id": "ff6eb5f0",
   "metadata": {},
   "outputs": [],
   "source": [
    "while True:\n",
    "    number=input(\"Please enter a positive integer number. \")\n",
    "    if number.isdigit():\n",
    "        break      \n",
    "    else:\n",
    "        print(\"It is an invalid entry. Don't use non-numeric, float, or negative values!\")\n",
    "    continue\n",
    "num = int(number)\n",
    "if num == 0:\n",
    "    print(\"It is an invalid entry. Don't use non-numeric, float, or negative values!\")    \n",
    "    number=input(\"Please enter a positive integer number. \")\n",
    "elif num % 2 == 0:\n",
    "    print(num, \"is a even number.\")\n",
    "else:\n",
    "    print(num, \"is a odd number.\")"
   ]
  },
  {
   "cell_type": "code",
   "execution_count": null,
   "id": "c4434038",
   "metadata": {},
   "outputs": [],
   "source": []
  },
  {
   "cell_type": "code",
   "execution_count": null,
   "id": "142b9c80",
   "metadata": {},
   "outputs": [],
   "source": []
  }
 ],
 "metadata": {
  "kernelspec": {
   "display_name": "Python 3",
   "language": "python",
   "name": "python3"
  },
  "language_info": {
   "codemirror_mode": {
    "name": "ipython",
    "version": 3
   },
   "file_extension": ".py",
   "mimetype": "text/x-python",
   "name": "python",
   "nbconvert_exporter": "python",
   "pygments_lexer": "ipython3",
   "version": "3.8.8"
  }
 },
 "nbformat": 4,
 "nbformat_minor": 5
}
