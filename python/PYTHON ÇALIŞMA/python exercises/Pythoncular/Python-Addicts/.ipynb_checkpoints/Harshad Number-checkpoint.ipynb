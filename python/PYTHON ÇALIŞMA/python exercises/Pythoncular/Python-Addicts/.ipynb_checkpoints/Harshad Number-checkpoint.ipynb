{
 "cells": [
  {
   "cell_type": "markdown",
   "id": "a53e677b",
   "metadata": {},
   "source": [
    "A number is said to be Harshad if it's exactly divisible by the sum of its digits. \n",
    "Create a function that determines whether a number is a Harshad or not.\n",
    "\n",
    "Examples\n",
    "is_harshad(75) ➞ False\n",
    " 7 + 5 = 12\n",
    " 75 is not exactly divisible by 12\n",
    " \n",
    "is_harshad(171) ➞ True\n",
    " 1 + 7 + 1 = 9\n",
    " 9 exactly divides 171\n",
    "is_harshad(481) ➞ True\n",
    "is_harshad(89) ➞ False\n",
    "is_harshad(516) ➞ True\n",
    "is_harshad(200) ➞ True\n",
    "Notes\n",
    "A recursive version of this challenge can be found in here."
   ]
  },
  {
   "cell_type": "code",
   "execution_count": 4,
   "id": "5c24a35a",
   "metadata": {},
   "outputs": [
    {
     "data": {
      "text/plain": [
       "True"
      ]
     },
     "execution_count": 4,
     "metadata": {},
     "output_type": "execute_result"
    }
   ],
   "source": [
    "def is_harshad(n):\n",
    "    a = []\n",
    "    t = n\n",
    "    while t > 0:\n",
    "        a.append(t%10)\n",
    "        t = t//10\n",
    "    return True if n % sum(a) == 0 else False\n",
    "is_harshad(200)"
   ]
  },
  {
   "cell_type": "code",
   "execution_count": 6,
   "id": "aba9bdb1",
   "metadata": {},
   "outputs": [
    {
     "data": {
      "text/plain": [
       "True"
      ]
     },
     "execution_count": 6,
     "metadata": {},
     "output_type": "execute_result"
    }
   ],
   "source": [
    "def is_harshad(n):\n",
    "\tS = sum(map(int, str(n)))\n",
    "\treturn not n % S\n",
    "is_harshad(200)"
   ]
  },
  {
   "cell_type": "code",
   "execution_count": 10,
   "id": "75268ca9",
   "metadata": {},
   "outputs": [
    {
     "data": {
      "text/plain": [
       "True"
      ]
     },
     "execution_count": 10,
     "metadata": {},
     "output_type": "execute_result"
    }
   ],
   "source": [
    "is_harshad = lambda n: not n % sum(int(i) for i in str(n))\n",
    "is_harshad(200)"
   ]
  },
  {
   "cell_type": "code",
   "execution_count": 9,
   "id": "74eeb906",
   "metadata": {},
   "outputs": [
    {
     "data": {
      "text/plain": [
       "True"
      ]
     },
     "execution_count": 9,
     "metadata": {},
     "output_type": "execute_result"
    }
   ],
   "source": [
    "is_harshad=lambda n:n%sum(map(int,str(n)))<1\n",
    "is_harshad(200)"
   ]
  },
  {
   "cell_type": "code",
   "execution_count": 8,
   "id": "13a01c3f",
   "metadata": {},
   "outputs": [
    {
     "data": {
      "text/plain": [
       "True"
      ]
     },
     "execution_count": 8,
     "metadata": {},
     "output_type": "execute_result"
    }
   ],
   "source": [
    "def is_harshad(n):\n",
    "\treturn n % sum(int(digit) for digit in str(n)) == 0\n",
    "is_harshad(200)"
   ]
  }
 ],
 "metadata": {
  "kernelspec": {
   "display_name": "Python 3",
   "language": "python",
   "name": "python3"
  },
  "language_info": {
   "codemirror_mode": {
    "name": "ipython",
    "version": 3
   },
   "file_extension": ".py",
   "mimetype": "text/x-python",
   "name": "python",
   "nbconvert_exporter": "python",
   "pygments_lexer": "ipython3",
   "version": "3.8.8"
  }
 },
 "nbformat": 4,
 "nbformat_minor": 5
}
