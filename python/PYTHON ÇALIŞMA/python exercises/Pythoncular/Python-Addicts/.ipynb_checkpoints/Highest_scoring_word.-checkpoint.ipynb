{
 "cells": [
  {
   "cell_type": "markdown",
   "id": "29bf3056",
   "metadata": {},
   "source": [
    "Given a string of words, you need to find the highest scoring word.\n",
    "Each letter of a word scores points according to its \n",
    "position in the alphabet: a = 1, b = 2, c = 3 etc.\n",
    "You need to return the highest scoring word as a string.\n",
    "If two words score the same, return the word that appears \n",
    "earliest in the original string.\n",
    "All letters will be lowercase and all inputs will be valid.\n",
    "Examples:\n",
    "'man i need a taxi up to ubud' ---> 'taxi'\n",
    "'what time are we climbing up the volcano' ----> 'volcano'\n",
    "'take me to semynak' ---> 'semynak'\n",
    "'aa b'  --->  'aa'\n",
    "'b aa'  --->  'b'\n",
    "'bb d'  --- > 'bb'\n",
    "'d bb'  ---> 'd'\n",
    "\"aaa b\"  -->  \"aaa\""
   ]
  },
  {
   "cell_type": "code",
   "execution_count": 6,
   "id": "0e528109",
   "metadata": {},
   "outputs": [
    {
     "name": "stdout",
     "output_type": "stream",
     "text": [
      "Please enter your text here > man i need a taxi up to ubud\n",
      "taxi\n"
     ]
    }
   ],
   "source": [
    "alphabet = [chr(i) for i in range(97, 123)]\n",
    "dictt_1 = {}\n",
    "dictt_2 = {}\n",
    "for i in range(len(alphabet)):\n",
    "    dictt_1[alphabet[i]] = i + 1\n",
    "text = input('Please enter your text here > ')\n",
    "text_list = text.lower().split()\n",
    "for i in text_list:\n",
    "    total = 0\n",
    "    for x in i:\n",
    "        total += dictt_1[x]\n",
    "    dictt_2[i] = total\n",
    "listt = list(dictt_2.values())\n",
    "biggest = max(listt)\n",
    "for x, y in dictt_2.items():\n",
    "    if y == biggest:\n",
    "        print(x)\n",
    "        break\n"
   ]
  },
  {
   "cell_type": "code",
   "execution_count": 7,
   "id": "0f4e2bf2",
   "metadata": {},
   "outputs": [
    {
     "name": "stdout",
     "output_type": "stream",
     "text": [
      "Please write a sentencense:man i need a taxi up to ubud\n",
      "taxi\n"
     ]
    }
   ],
   "source": [
    "sentence = input(\"Please write a sentencense:\")\n",
    "sentence = sentence.lower()\n",
    "words =sentence.split(\" \")\n",
    "words_dict = dict()\n",
    "for i in words:\n",
    "    words_dict[i] = 0\n",
    "    for a in i:\n",
    "        words_dict[i] +=  ord(a)\n",
    "list_of_keys = list(words_dict.keys())\n",
    "list_of_values = list(words_dict.values())\n",
    "maximum_value = max(list_of_values)\n",
    "position = list_of_values.index(maximum_value)\n",
    "print(list_of_keys[position])"
   ]
  },
  {
   "cell_type": "code",
   "execution_count": 8,
   "id": "9daa9e3a",
   "metadata": {},
   "outputs": [
    {
     "name": "stdout",
     "output_type": "stream",
     "text": [
      "volcano\n"
     ]
    }
   ],
   "source": [
    "def chrr(n):\n",
    "    return [i for i in n]\n",
    "\n",
    "x = list(enumerate([chr(i) for i in range(97,123)] ,1))\n",
    "y = \"what time are we climbing up the volcano\".split()\n",
    "z = list(map(chrr ,y))\n",
    "\n",
    "for k in z:\n",
    "    for i in range(len(k)):\n",
    "        for j,t in x:\n",
    "            if t == k[i]:\n",
    "                k[i]=j\n",
    "\n",
    "m =[sum(i) for i in z]\n",
    "\n",
    "u = m.index(max(m))\n",
    "print(y[u])"
   ]
  },
  {
   "cell_type": "code",
   "execution_count": 9,
   "id": "7db35680",
   "metadata": {},
   "outputs": [
    {
     "name": "stdout",
     "output_type": "stream",
     "text": [
      "please enter your stringwhat time are we climbing up the volcano\n",
      "['what', 'time', 'are', 'we', 'climbing', 'up', 'the', 'volcano']\n",
      "[53, 47, 24, 29, 69, 37, 33, 82]\n",
      "volcano\n"
     ]
    }
   ],
   "source": [
    "alphabet=(\"a\",\"b\",\"c\",\"d\",\"e\",\"f\",\"g\",\"h\",\"i\",\"j\",\"k\",\"l\",\"m\",\"n\",\"o\",\"p\",\"q\",\"r\",\"s\",\"t\",\"u\",\"v\",\"x\",\"w\",\"y\",\"z\")\n",
    "tup=[i for i in range(1,len(alphabet)+1)]\n",
    "dicc=dict(list(zip(alphabet,tup)))\n",
    "sent=input(\"please enter your string\").lower().split(\" \")\n",
    "print(sent)\n",
    "numbers=[]\n",
    "toplam,sayac=0,0\n",
    "while sayac<len(sent):\n",
    "    for k in sent[sayac]:\n",
    "        toplam += dicc[k]\n",
    "    numbers.append(toplam)\n",
    "    sayac +=1\n",
    "    toplam=0\n",
    "print(numbers)\n",
    "print(sent[numbers.index(max(numbers))])"
   ]
  },
  {
   "cell_type": "code",
   "execution_count": null,
   "id": "96159e2d",
   "metadata": {},
   "outputs": [],
   "source": []
  }
 ],
 "metadata": {
  "kernelspec": {
   "display_name": "Python 3",
   "language": "python",
   "name": "python3"
  },
  "language_info": {
   "codemirror_mode": {
    "name": "ipython",
    "version": 3
   },
   "file_extension": ".py",
   "mimetype": "text/x-python",
   "name": "python",
   "nbconvert_exporter": "python",
   "pygments_lexer": "ipython3",
   "version": "3.8.8"
  }
 },
 "nbformat": 4,
 "nbformat_minor": 5
}
