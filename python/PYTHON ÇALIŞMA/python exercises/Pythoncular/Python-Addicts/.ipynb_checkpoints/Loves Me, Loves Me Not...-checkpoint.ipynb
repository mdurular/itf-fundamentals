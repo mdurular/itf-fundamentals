{
 "cells": [
  {
   "cell_type": "markdown",
   "id": "440f1ec9",
   "metadata": {},
   "source": [
    "\"Loves me, loves me not\" is a traditional game in which a \n",
    "person plucks off all the petals of a flower one by one, \n",
    "saying the phrase \"Loves me\" and \"Loves me not\" when \n",
    "determining whether the one that they love, loves them back.\n",
    "\n",
    "Given a number of petals, return a string which repeats \n",
    "the phrases \"Loves me\" and \"Loves me not\" for every alternating petal, \n",
    "and return the last phrase in all caps. Remember to put a comma \n",
    "and space between phrases.\n",
    "\n",
    "Examples\n",
    "loves_me(3) ➞ \"Loves me, Loves me not, LOVES ME\"\n",
    "\n",
    "loves_me(6) ➞ \"Loves me, Loves me not, Loves me, Loves me not, Loves me, LOVES ME NOT\"\n",
    "\n",
    "loves_me(1) ➞ \"LOVES ME\"\n",
    "Notes\n",
    "Remember to return a string.\n",
    "The first phrase is always \"Loves me\"."
   ]
  },
  {
   "cell_type": "code",
   "execution_count": 1,
   "id": "63bc7d19",
   "metadata": {},
   "outputs": [
    {
     "name": "stdout",
     "output_type": "stream",
     "text": [
      "Loves me, Loves me not, Loves me, Loves me not, Loves me, LOVES ME NOT\n"
     ]
    }
   ],
   "source": [
    "def loves_me(num):    \n",
    "    text = 'Loves me'\n",
    "    result = ''\n",
    "    for i in range(1, num + 1):\n",
    "        if i % 2 == 0:\n",
    "            res = text + ' not'\n",
    "        else:\n",
    "            res = text\n",
    "        if i == num:\n",
    "            res = res.upper()\n",
    "        result += res + ', '\n",
    "    result = result.strip(', ')\n",
    "    return result\n",
    "\n",
    "print(loves_me(6))"
   ]
  },
  {
   "cell_type": "code",
   "execution_count": 3,
   "id": "f4f2f28d",
   "metadata": {},
   "outputs": [
    {
     "name": "stdout",
     "output_type": "stream",
     "text": [
      "Loves me, Loves me not, Loves me, Loves me not, Loves me, LOVES ME NOT\n"
     ]
    }
   ],
   "source": [
    "def loves_me(n):\n",
    "\tlst = [\"Loves me\"+\" not\"*(i%2) for i in range(n)]\n",
    "\tlst[-1] = lst[-1].upper()\n",
    "\treturn \", \".join(lst)\n",
    "print(loves_me(6))"
   ]
  },
  {
   "cell_type": "code",
   "execution_count": 4,
   "id": "03210fec",
   "metadata": {},
   "outputs": [
    {
     "data": {
      "text/plain": [
       "'loves me, loves me not, loves me, loves me not, loves me, loves me not, loves me, loves me not, loves me, LOVES ME NOT, '"
      ]
     },
     "execution_count": 4,
     "metadata": {},
     "output_type": "execute_result"
    }
   ],
   "source": [
    "def loves_me(n):\n",
    "  lst =[]\n",
    "  for i in range(1,n+1):\n",
    "    if i%2 :\n",
    "      lst.append(\"loves me, \")\n",
    "    else:\n",
    "      lst.append(\"loves me not, \")\n",
    "\n",
    "  lst[-1] = lst[-1].upper()\n",
    "  return \"\".join(lst)\n",
    "  \n",
    "loves_me(10)"
   ]
  },
  {
   "cell_type": "code",
   "execution_count": 5,
   "id": "eb2ad84a",
   "metadata": {},
   "outputs": [
    {
     "name": "stdout",
     "output_type": "stream",
     "text": [
      "Loves me, Loves me not, Loves me, Loves me not, Loves me, Loves me not, Loves me, Loves me not, Loves me, LOVES ME NOT "
     ]
    }
   ],
   "source": [
    "def loves_me(num):\n",
    "    \n",
    "    for i in range(1, num+1):\n",
    "        if num == 1:\n",
    "            print(\"Loves me\".upper())\n",
    "            break\n",
    "        elif i%2 != 0 and i == num:\n",
    "            print(\"Loves me\".upper(), end= \" \")\n",
    "        elif i%2 != 0:\n",
    "            print(\"Loves me,\", end=\" \")  \n",
    "        elif  i%2 == 0 and i == num:\n",
    "            print('Loves me not'.upper(), end=\" \")\n",
    "        elif i%2 == 0: \n",
    "                print('Loves me not,', end=\" \")\n",
    "loves_me(10)"
   ]
  },
  {
   "cell_type": "code",
   "execution_count": null,
   "id": "c29072f3",
   "metadata": {},
   "outputs": [],
   "source": []
  },
  {
   "cell_type": "code",
   "execution_count": null,
   "id": "3dcf7c37",
   "metadata": {},
   "outputs": [],
   "source": []
  }
 ],
 "metadata": {
  "kernelspec": {
   "display_name": "Python 3",
   "language": "python",
   "name": "python3"
  },
  "language_info": {
   "codemirror_mode": {
    "name": "ipython",
    "version": 3
   },
   "file_extension": ".py",
   "mimetype": "text/x-python",
   "name": "python",
   "nbconvert_exporter": "python",
   "pygments_lexer": "ipython3",
   "version": "3.8.8"
  }
 },
 "nbformat": 4,
 "nbformat_minor": 5
}
