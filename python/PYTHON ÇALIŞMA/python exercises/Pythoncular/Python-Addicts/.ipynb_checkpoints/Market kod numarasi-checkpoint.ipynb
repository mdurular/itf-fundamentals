{
 "cells": [
  {
   "cell_type": "markdown",
   "id": "f93bec56",
   "metadata": {},
   "source": [
    "Bir markete gittiniz. Markette her ürünün bir kod numarası var.\n",
    "1 : Domates 2 : Soğan 3 : Biber 4 : Yumurta 5 : Elma 6 : Armut ... vs. şeklinde.\n",
    "Kullanıcıya almak istediği ürünü sorunuz ve kod numarası ile seçim yaptırınız.\n",
    "Çıkış için \"q\" opsiyonunu sununuz. Kullanıcının her ürün \n",
    "seçimi sonrası \" .... domates sepete eklendi\" gibi bir dönüt veriniz. \n",
    "Kullanıcı ürün almaya devam ettikçe ürünleri bir listede toplayınız, \n",
    "almaktan vazgeçtiği durumda teşekkür edip, aldığı toplam ürünleri çıktı veren bir kod yazınız.\n",
    "Beklenen Çıktı:\n",
    "Teşekkür Ederiz...\n",
    "Sepetinizde Bulunan Ürünler: elma, armut, yumurta ... vs."
   ]
  },
  {
   "cell_type": "code",
   "execution_count": 1,
   "id": "1c402577",
   "metadata": {},
   "outputs": [
    {
     "name": "stdout",
     "output_type": "stream",
     "text": [
      "\n",
      "Hosgeldiniz!\n",
      "Domates icin 1'i, Sogan icin 2'yi, Biber icin 3'u, Yumurta icin 4'u, Elma icin 5'i, Armut icin 6'yi seciniz.\n",
      "************************************************************************************************************\n",
      "Secmek istediginiz urunun numarasini giriniz ya da cikmak icin 'q' tusuna basiniz. > 1\n",
      "Domates sepetinize eklendi.\n",
      "Secmek istediginiz urunun numarasini giriniz ya da cikmak icin 'q' tusuna basiniz. > q\n",
      "\n",
      "************************************************************************************************************\n",
      "Bizi tercih ettiginiz icin tesekkurler.\n",
      "Satin aldiginiz urunler:\n",
      "Domates  "
     ]
    }
   ],
   "source": [
    "dictt = {1 : 'Domates', 2 : 'Sogan', 3 : 'Biber', 4 : 'Yumurta', 5 : 'Elma', 6 : 'Armut'}\n",
    "liste = []\n",
    "print('''\n",
    "Hosgeldiniz!\n",
    "Domates icin 1'i, Sogan icin 2'yi, Biber icin 3'u, Yumurta icin 4'u, Elma icin 5'i, Armut icin 6'yi seciniz.\n",
    "************************************************************************************************************''')\n",
    "while True:\n",
    "    try:\n",
    "        secim = input(\"Secmek istediginiz urunun numarasini giriniz ya da cikmak icin 'q' tusuna basiniz. > \")\n",
    "        if secim.lower() == 'q':\n",
    "            break\n",
    "        int(secim)\n",
    "        if dictt[int(secim)] not in liste:\n",
    "            liste.append(dictt[int(secim)])\n",
    "            print(f'{dictt[int(secim)]} sepetinize eklendi.')\n",
    "        else:\n",
    "            print(f'{dictt[int(secim)]} sepetinizde bulunmaktadir.')\n",
    "    except:\n",
    "        print(f'Yanlis bir tusa bastiniz. Lutfen tekrar secim yapin.')\n",
    "print('''\n",
    "************************************************************************************************************\n",
    "Bizi tercih ettiginiz icin tesekkurler.\n",
    "Satin aldiginiz urunler:''')\n",
    "for i in liste:\n",
    "    print(i, end = '  ')"
   ]
  },
  {
   "cell_type": "code",
   "execution_count": 2,
   "id": "a889afb5",
   "metadata": {},
   "outputs": [
    {
     "name": "stdout",
     "output_type": "stream",
     "text": [
      "\n",
      "Hosgeldiniz!\n",
      "Domates icin 1'i, Sogan icin 2'yi, Biber icin 3'u, Yumurta icin 4'u, Elma icin 5'i, Armut icin 6'yi seciniz.\n",
      "************************************************************************************************************\n",
      "Secmek istediginiz urunun numarasini giriniz ya da cikmak icin 'q' tusuna basiniz. > 2\n",
      "Sogan sepetinize eklendi.\n",
      "Secmek istediginiz urunun numarasini giriniz ya da cikmak icin 'q' tusuna basiniz. > q\n",
      "\n",
      "************************************************************************************************************\n",
      "Bizi tercih ettiginiz icin tesekkurler.\n",
      "Satin aldiginiz urunler: Sogan "
     ]
    }
   ],
   "source": [
    "dictt = {1 : 'Domates', 2 : 'Sogan', 3 : 'Biber', 4 : 'Yumurta', 5 : 'Elma', 6 : 'Armut'}\n",
    "liste = []\n",
    "print('''\n",
    "Hosgeldiniz!\n",
    "Domates icin 1'i, Sogan icin 2'yi, Biber icin 3'u, Yumurta icin 4'u, Elma icin 5'i, Armut icin 6'yi seciniz.\n",
    "************************************************************************************************************''')\n",
    "while True:\n",
    "    secim = input(\"Secmek istediginiz urunun numarasini giriniz ya da cikmak icin 'q' tusuna basiniz. > \")\n",
    "    if secim.lower() == 'q':\n",
    "        break\n",
    "    elif secim in ['1', '2', '3', '4', '5', '6']:\n",
    "        if dictt[int(secim)] not in liste:\n",
    "            liste.append(dictt[int(secim)])\n",
    "            print(f'{dictt[int(secim)]} sepetinize eklendi.')\n",
    "        else:\n",
    "            print(f'{dictt[int(secim)]} sepetinizde bulunmaktadir.')\n",
    "    else:\n",
    "        print(f'Yanlis bir tusa bastiniz. Lutfen tekrar secim yapin.')\n",
    "print('''\n",
    "************************************************************************************************************\n",
    "Bizi tercih ettiginiz icin tesekkurler.''')\n",
    "print('Satin aldiginiz urunler: ', end = '')\n",
    "for i in liste:\n",
    "    print(i, end = ' ')"
   ]
  },
  {
   "cell_type": "code",
   "execution_count": 3,
   "id": "c8e77fc3",
   "metadata": {},
   "outputs": [
    {
     "name": "stdout",
     "output_type": "stream",
     "text": [
      "welcome the Palace Market\n",
      "1 : \"Peynir\", 2 : \"Zeytin\", 3 : \"Yumurta\", 4 : \"Reçel\", 5 : \"Bal\", 6 : \"Domates\", 7 : \"Salatalık\", 8 : \"Soğan\" , 9 : \"Patates\", 10 : \"Ejder Meyvesi\" \n",
      "please enter the product number: 5\n",
      "Bal added to the list\n",
      "please enter the product number: 2\n",
      "Zeytin added to the list\n",
      "please enter the product number: q\n",
      "thank you for shopping...\n",
      "['Bal', 'Zeytin']\n"
     ]
    }
   ],
   "source": [
    "print(\"welcome the Palace Market\")\n",
    "dict_product = {1 : \"Peynir\", 2 : \"Zeytin\", 3 : \"Yumurta\", 4 : \"Reçel\", 5 : \"Bal\", 6 : \"Domates\", 7 : \"Salatalık\", 8 : \"Soğan\" , 9 : \"Patates\", 10 : \"Ejder Meyvesi\"}\n",
    "print(\"\"\"1 : \"Peynir\", 2 : \"Zeytin\", 3 : \"Yumurta\", 4 : \"Reçel\", 5 : \"Bal\", 6 : \"Domates\", 7 : \"Salatalık\", 8 : \"Soğan\" , 9 : \"Patates\", 10 : \"Ejder Meyvesi\" \"\"\")\n",
    "list_of_products = []\n",
    "while True:\n",
    "  select = input(\"please enter the product number: \")\n",
    "  if select.lower() == \"q\":\n",
    "    print(\"thank you for shopping...\")\n",
    "    print(list_of_products)\n",
    "    break\n",
    "  elif int(select) in dict_product:\n",
    "    v = dict_product[int(select)]\n",
    "    list_of_products.append(v)\n",
    "    print(f\"{dict_product[int(select)]} added to the list\")"
   ]
  }
 ],
 "metadata": {
  "kernelspec": {
   "display_name": "Python 3",
   "language": "python",
   "name": "python3"
  },
  "language_info": {
   "codemirror_mode": {
    "name": "ipython",
    "version": 3
   },
   "file_extension": ".py",
   "mimetype": "text/x-python",
   "name": "python",
   "nbconvert_exporter": "python",
   "pygments_lexer": "ipython3",
   "version": "3.8.8"
  }
 },
 "nbformat": 4,
 "nbformat_minor": 5
}
