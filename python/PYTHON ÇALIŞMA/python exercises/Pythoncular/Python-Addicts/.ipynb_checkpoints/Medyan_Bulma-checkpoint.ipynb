{
 "cells": [
  {
   "cell_type": "markdown",
   "id": "0df67c58",
   "metadata": {},
   "source": [
    "Üç değerin medyanını bulan bir Python programı yazın.\n",
    "Beklenen Çıktı:\n",
    "İlk sayıyı girin: 15                                                   \n",
    "İkinci sayıyı girin: 26                                                  \n",
    "Üçüncü sayıyı girin: 29                                                   \n",
    "Medyan 26.0'dır   "
   ]
  },
  {
   "cell_type": "code",
   "execution_count": 5,
   "id": "1ff7b2cd",
   "metadata": {},
   "outputs": [
    {
     "name": "stdout",
     "output_type": "stream",
     "text": [
      "Enter a number or 'q' to quit > 45\n",
      "Enter a number or 'q' to quit > 35\n",
      "Enter a number or 'q' to quit > 26\n",
      "Enter a number or 'q' to quit > 42\n",
      "Enter a number or 'q' to quit > 38\n",
      "Enter a number or 'q' to quit > 46\n",
      "Enter a number or 'q' to quit > q\n",
      "Cikis yaptiniz ya da yanlis bir tusa bastiniz.\n",
      "[26, 35, 38, 42, 45, 46]\n",
      "Medyan: 40.0\n"
     ]
    }
   ],
   "source": [
    "liste = []\n",
    "while True:\n",
    "    try:\n",
    "        giris = input(\"Enter a number or 'q' to quit > \")\n",
    "        int(giris)\n",
    "        liste.append(int(giris))\n",
    "    except:\n",
    "        print('Cikis yaptiniz ya da yanlis bir tusa bastiniz.')\n",
    "        break\n",
    "liste.sort()\n",
    "print(liste)\n",
    "deger = len(liste)\n",
    "if deger % 2 == 0:\n",
    "    nott = deger // 2\n",
    "    medyan = (liste[nott - 1] + liste[nott]) / 2\n",
    "else:\n",
    "    nott = (deger + 1) // 2\n",
    "    medyan = liste[nott - 1]\n",
    "print(f'Medyan: {medyan}')"
   ]
  },
  {
   "cell_type": "code",
   "execution_count": 3,
   "id": "8563d54d",
   "metadata": {},
   "outputs": [
    {
     "name": "stdout",
     "output_type": "stream",
     "text": [
      "sayı giriniz5\n",
      "sayı giriniz12\n",
      "sayı giriniz15\n",
      "12 is medyan.\n"
     ]
    }
   ],
   "source": [
    "i=0\n",
    "liste=[]\n",
    "while( i<3):\n",
    "  sayı=int(input(\"sayı giriniz\"))\n",
    "  liste.append(sayı)\n",
    "  i+=1\n",
    "  liste=sorted(liste)\n",
    "print(f\"{liste[1]} is medyan.\")\n"
   ]
  },
  {
   "cell_type": "code",
   "execution_count": null,
   "id": "560991e5",
   "metadata": {},
   "outputs": [],
   "source": []
  },
  {
   "cell_type": "code",
   "execution_count": null,
   "id": "2b08db51",
   "metadata": {},
   "outputs": [],
   "source": []
  },
  {
   "cell_type": "code",
   "execution_count": null,
   "id": "d60e17c1",
   "metadata": {},
   "outputs": [],
   "source": []
  }
 ],
 "metadata": {
  "kernelspec": {
   "display_name": "Python 3",
   "language": "python",
   "name": "python3"
  },
  "language_info": {
   "codemirror_mode": {
    "name": "ipython",
    "version": 3
   },
   "file_extension": ".py",
   "mimetype": "text/x-python",
   "name": "python",
   "nbconvert_exporter": "python",
   "pygments_lexer": "ipython3",
   "version": "3.8.8"
  }
 },
 "nbformat": 4,
 "nbformat_minor": 5
}
