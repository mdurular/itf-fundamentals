{
 "cells": [
  {
   "cell_type": "markdown",
   "id": "1b56a4aa",
   "metadata": {},
   "source": [
    "Bir sayının mükemmel olup olmadığını kontrol etmek için bir Python fonksiyonu yazın.\n",
    "Wikipedia'ya göre : Sayı teorisinde, mükemmel bir sayı, uygun pozitif bölenlerinin\n",
    "toplamına eşit olan pozitif bir tam sayıdır, yani sayının kendisi hariç pozitif bölenlerinin toplamıdır \n",
    "(aynı zamanda bölüntü olarak da bilinir). toplamı). Eşdeğer olarak, mükemmel bir sayı, \n",
    "tüm pozitif bölenlerinin (kendisi dahil) toplamının yarısı olan bir sayıdır.\n",
    "Örnek  : İlk mükemmel sayı 6'dır, çünkü 1, 2 ve 3 uygun pozitif bölenleridir ve 1 + 2 + 3 = 6. \n",
    "Eşdeğer olarak, 6 sayısı tüm pozitif bölenlerinin toplamının yarısına eşittir: \n",
    "( 1 + 2 + 3 + 6) / 2 = 6. Bir sonraki mükemmel sayı 28 = 1 + 2 + 4 + 7 + 14'tür. \n",
    "Bunu 496 ve 8128 mükemmel sayıları takip eder."
   ]
  },
  {
   "cell_type": "code",
   "execution_count": null,
   "id": "ebb19afc",
   "metadata": {},
   "outputs": [],
   "source": [
    "sayi = int(input(\"bir sayi gir : \"))\n",
    "print(\"mükemmel sayi\" if sum([i for i in range(1,sayi) if sayi % i == 0]) == sayi else \"mükemmel sayi degil\")"
   ]
  },
  {
   "cell_type": "code",
   "execution_count": null,
   "id": "2a9eb128",
   "metadata": {},
   "outputs": [],
   "source": [
    "sayi = int(input(\"bir sayi gir : \"))\n",
    "print(\"mükemmel sayi\" if sum([i for i in range(1,sayi) if sayi % i == 0]) == sayi else \"mükemmel sayi degil\")"
   ]
  },
  {
   "cell_type": "code",
   "execution_count": null,
   "id": "fffb3463",
   "metadata": {},
   "outputs": [],
   "source": [
    "num = int(input(\"Enter a number:\"))\n",
    "sum_div= []\n",
    "for i in range(1, num):\n",
    "    if num % i == 0 :\n",
    "        sum_div.append(i)\n",
    "        a = sum(sum_div)\n",
    "        print(a)\n",
    "if str(a) == str(num) :\n",
    "    print(\" This is a perfect number\")\n",
    "else: \n",
    "    print(\" This is not a perfect number\")"
   ]
  },
  {
   "cell_type": "code",
   "execution_count": null,
   "id": "70a50f35",
   "metadata": {},
   "outputs": [],
   "source": [
    "num = int(input(\"Enter a number:\"))\n",
    "sum_div= []\n",
    "for i in range(1, num):\n",
    "    if num % i == 0 :\n",
    "        sum_div.append(i)\n",
    "if sum(sum_div) == num :\n",
    "    print(\" This is a perfect number\")\n",
    "else: \n",
    "    print(\" This is not a perfect number\")"
   ]
  },
  {
   "cell_type": "code",
   "execution_count": 26,
   "id": "11b7b364",
   "metadata": {},
   "outputs": [
    {
     "name": "stdout",
     "output_type": "stream",
     "text": [
      "Bir sayi giriniz....:496\n",
      "992 = Değeri 496 sayısının kendisi dahil bölenlerinin toplamı\n",
      "496 = Değeri 496 sayısının kendisi hariç bölenlerinin toplami\n",
      "Sayı mükemmeldir\n"
     ]
    }
   ],
   "source": [
    "sayi = int(input(\"Bir sayi giriniz....:\"))\n",
    "if sayi == 0 :\n",
    "    sayi = 1\n",
    "elif sayi < 0 :\n",
    "    sayi = sayi * -1\n",
    "carptop = 0\n",
    "for i in range(1,sayi+1) :\n",
    "    if sayi % i == 0 :\n",
    "        carptop += i \n",
    "print(carptop,\"= Değeri {} sayısının kendisi dahil bölenlerinin toplamı\".format(sayi))\n",
    "print(carptop - sayi,\"= Değeri {} sayısının kendisi hariç bölenlerinin toplami\".format(sayi))\n",
    "if carptop == sayi * 2 :\n",
    "    print(\"Sayı mükemmeldir\")\n",
    "else :\n",
    "    print(\"sayi mükemmel degildir\")"
   ]
  },
  {
   "cell_type": "code",
   "execution_count": null,
   "id": "afe2bd2a",
   "metadata": {},
   "outputs": [],
   "source": []
  }
 ],
 "metadata": {
  "kernelspec": {
   "display_name": "Python 3",
   "language": "python",
   "name": "python3"
  },
  "language_info": {
   "codemirror_mode": {
    "name": "ipython",
    "version": 3
   },
   "file_extension": ".py",
   "mimetype": "text/x-python",
   "name": "python",
   "nbconvert_exporter": "python",
   "pygments_lexer": "ipython3",
   "version": "3.8.8"
  }
 },
 "nbformat": 4,
 "nbformat_minor": 5
}
