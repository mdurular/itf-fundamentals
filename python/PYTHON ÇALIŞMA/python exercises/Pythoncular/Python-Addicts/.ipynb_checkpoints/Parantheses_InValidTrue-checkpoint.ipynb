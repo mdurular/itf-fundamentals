{
 "cells": [
  {
   "cell_type": "code",
   "execution_count": null,
   "id": "61757393",
   "metadata": {},
   "outputs": [],
   "source": [
    "x = \"[[{({})}]({}))\"\n",
    "\n",
    "def isValid(s) :\n",
    "    while \"()\" in s or \"{}\" in s or \"[]\" in s :\n",
    "        s = s.replace(\"()\", \"\").replace(\"{}\", \"\").replace(\"[]\", \"\")\n",
    "    return s == \"\"\n",
    "\n",
    "isValid(x)"
   ]
  },
  {
   "cell_type": "code",
   "execution_count": null,
   "id": "19c43fc3",
   "metadata": {},
   "outputs": [],
   "source": []
  },
  {
   "cell_type": "code",
   "execution_count": null,
   "id": "98db3eaa",
   "metadata": {},
   "outputs": [],
   "source": []
  }
 ],
 "metadata": {
  "kernelspec": {
   "display_name": "Python 3",
   "language": "python",
   "name": "python3"
  },
  "language_info": {
   "codemirror_mode": {
    "name": "ipython",
    "version": 3
   },
   "file_extension": ".py",
   "mimetype": "text/x-python",
   "name": "python",
   "nbconvert_exporter": "python",
   "pygments_lexer": "ipython3",
   "version": "3.8.8"
  }
 },
 "nbformat": 4,
 "nbformat_minor": 5
}
