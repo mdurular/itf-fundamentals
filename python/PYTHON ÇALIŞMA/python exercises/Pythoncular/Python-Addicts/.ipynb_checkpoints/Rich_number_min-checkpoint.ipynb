{
 "cells": [
  {
   "cell_type": "markdown",
   "id": "b8b4c87a",
   "metadata": {},
   "source": [
    "Eğer bir sayının kendisi hariç tam bölenleri toplamı sayıdan büyükse o sayıya zengin sayı diyoruz. \n",
    "Örneğin 12 nin bölenleri 1,2,3,4,6 nın toplamı 16>12 olduğu için zengin sayıdır. En küçük tek zengin sayı nedir?\n"
   ]
  },
  {
   "cell_type": "code",
   "execution_count": 8,
   "id": "afae69e2",
   "metadata": {},
   "outputs": [
    {
     "name": "stdout",
     "output_type": "stream",
     "text": [
      "12\n"
     ]
    }
   ],
   "source": [
    "def rich_number(sayı):\n",
    "    rich_number_list = []\n",
    "    k = 1\n",
    "    while k <= sayı :\n",
    "        tam_bölenler = []\n",
    "        for i in range(1,k) :\n",
    "            if k % i == 0:\n",
    "                tam_bölenler.append(i)\n",
    "        if sum(tam_bölenler) > k:\n",
    "            rich_number_list.append(k)\n",
    "        k += 1   \n",
    "    return rich_number_list\n",
    "print(min(rich_number(500)))"
   ]
  },
  {
   "cell_type": "code",
   "execution_count": 9,
   "id": "85863f4b",
   "metadata": {},
   "outputs": [
    {
     "data": {
      "text/plain": [
       "[2, 2, 3]"
      ]
     },
     "execution_count": 9,
     "metadata": {},
     "output_type": "execute_result"
    }
   ],
   "source": [
    "def prime_factors(num):\n",
    "    lst = []\n",
    "    while num != 1:\n",
    "        for i in range(2, num + 1):\n",
    "            if num % i == 0:\n",
    "                num //= i\n",
    "                lst.append(i)\n",
    "                break\n",
    "    return lst\n",
    "prime_factors(12)"
   ]
  },
  {
   "cell_type": "code",
   "execution_count": null,
   "id": "040b1d7e",
   "metadata": {},
   "outputs": [],
   "source": []
  },
  {
   "cell_type": "code",
   "execution_count": null,
   "id": "b27bdfba",
   "metadata": {},
   "outputs": [],
   "source": []
  },
  {
   "cell_type": "code",
   "execution_count": null,
   "id": "e6f77a92",
   "metadata": {},
   "outputs": [],
   "source": []
  }
 ],
 "metadata": {
  "kernelspec": {
   "display_name": "Python 3",
   "language": "python",
   "name": "python3"
  },
  "language_info": {
   "codemirror_mode": {
    "name": "ipython",
    "version": 3
   },
   "file_extension": ".py",
   "mimetype": "text/x-python",
   "name": "python",
   "nbconvert_exporter": "python",
   "pygments_lexer": "ipython3",
   "version": "3.8.8"
  }
 },
 "nbformat": 4,
 "nbformat_minor": 5
}
