{
 "cells": [
  {
   "cell_type": "markdown",
   "id": "0f89c9d1",
   "metadata": {},
   "source": [
    "Write a Python code that find the students who have maximum and minimum average at below.\n",
    "grades={'Student-1': {'Lesson-1': 57, 'Lesson-2': 46, 'Lesson-3': 58, 'Lesson-4': 81, 'Lesson-5': 85}, \n",
    "        'Student-2': {'Lesson-1': 85, 'Lesson-2': 56, 'Lesson-3': 51, 'Lesson-4': 69, 'Lesson-5': 67}, \n",
    "        'Student-3': {'Lesson-1': 68, 'Lesson-2': 76, 'Lesson-3': 87, 'Lesson-4': 57, 'Lesson-5': 56}, \n",
    "        'Student-4': {'Lesson-1': 78, 'Lesson-2': 93, 'Lesson-3': 88, 'Lesson-4': 38, 'Lesson-5': 54}, \n",
    "        'Student-5': {'Lesson-1': 50, 'Lesson-2': 46, 'Lesson-3': 78, 'Lesson-4': 81, 'Lesson-5': 75}}"
   ]
  },
  {
   "cell_type": "code",
   "execution_count": null,
   "id": "d4e9607d",
   "metadata": {},
   "outputs": [],
   "source": [
    "grades={\n",
    "    'Student-1': {'Lesson-1': 57, 'Lesson-2': 46, 'Lesson-3': 58, 'Lesson-4': 81, 'Lesson-5': 85}, \n",
    "    'Student-2': {'Lesson-1': 85, 'Lesson-2': 56, 'Lesson-3': 51, 'Lesson-4': 69, 'Lesson-5': 67}, \n",
    "    'Student-3': {'Lesson-1': 68, 'Lesson-2': 76, 'Lesson-3': 87, 'Lesson-4': 57, 'Lesson-5': 56}, \n",
    "    'Student-4': {'Lesson-1': 78, 'Lesson-2': 93, 'Lesson-3': 88, 'Lesson-4': 38, 'Lesson-5': 54}, \n",
    "    'Student-5': {'Lesson-1': 50, 'Lesson-2': 46, 'Lesson-3': 78, 'Lesson-4': 81, 'Lesson-5': 75}}\n",
    "ortalama = {}\n",
    "for i in grades :\n",
    "    notlar = grades[i].values()\n",
    "    ortalama[i] = [sum(notlar) / len(notlar)]\n",
    "print(ortalama)\n",
    "for i in ortalama:\n",
    "    if ortalama[i] == max(ortalama.values()) :\n",
    "        print(f\"{i} has the maximum average\" )\n",
    "    elif ortalama[i] == min(ortalama.values()) :\n",
    "        print(f\"{i} has the minumum average\" )"
   ]
  },
  {
   "cell_type": "code",
   "execution_count": null,
   "id": "3ebab196",
   "metadata": {},
   "outputs": [],
   "source": [
    "aver_dict = {}\n",
    "for i in grades :\n",
    "    x = grades[i].values()\n",
    "    aver = (sum(x)//len(x))\n",
    "    aver_dict[i] = [aver]\n",
    "print(aver_dict)\n",
    "for i in aver_dict :\n",
    "    if aver_dict[i] == max(aver_dict.values()) :\n",
    "        print(f\"{i} has the maximum average\" )\n",
    "    elif aver_dict[i] == min(aver_dict.values()) :\n",
    "        print(f\"{i} has the minumum average\" )"
   ]
  },
  {
   "cell_type": "code",
   "execution_count": 2,
   "id": "00cbed82",
   "metadata": {},
   "outputs": [
    {
     "name": "stdout",
     "output_type": "stream",
     "text": [
      "Student-1 Avg: 65.4, Student-2 Avg: 65.6, Student-3 Avg: 68.8, Student-4 Avg: 70.2, Student-5 Avg: 66.0 \n"
     ]
    }
   ],
   "source": [
    "grades={'Student-1': {'Lesson-1': 57, 'Lesson-2': 46, 'Lesson-3': 58, 'Lesson-4': 81, 'Lesson-5': 85}, \n",
    "        'Student-2': {'Lesson-1': 85, 'Lesson-2': 56, 'Lesson-3': 51, 'Lesson-4': 69, 'Lesson-5': 67}, \n",
    "        'Student-3': {'Lesson-1': 68, 'Lesson-2': 76, 'Lesson-3': 87, 'Lesson-4': 57, 'Lesson-5': 56}, \n",
    "        'Student-4': {'Lesson-1': 78, 'Lesson-2': 93, 'Lesson-3': 88, 'Lesson-4': 38, 'Lesson-5': 54}, \n",
    "        'Student-5': {'Lesson-1': 50, 'Lesson-2': 46, 'Lesson-3': 78, 'Lesson-4': 81, 'Lesson-5': 75}}\n",
    "Student_1 = sum(grades[\"Student-1\"].values()) / 5\n",
    "Student_2 = sum(grades[\"Student-2\"].values()) / 5\n",
    "Student_3 = sum(grades[\"Student-3\"].values()) / 5\n",
    "Student_4 = sum(grades[\"Student-4\"].values()) / 5\n",
    "Student_5 = sum(grades[\"Student-5\"].values()) / 5\n",
    "print(\"Student-1 Avg: {}, Student-2 Avg: {}, Student-3 Avg: {}, Student-4 Avg: {}, Student-5 Avg: {} \".format(Student_1,Student_2,Student_3,Student_4,Student_5))"
   ]
  },
  {
   "cell_type": "code",
   "execution_count": null,
   "id": "54903172",
   "metadata": {},
   "outputs": [],
   "source": []
  },
  {
   "cell_type": "code",
   "execution_count": null,
   "id": "29117a71",
   "metadata": {},
   "outputs": [],
   "source": []
  },
  {
   "cell_type": "code",
   "execution_count": null,
   "id": "3246b137",
   "metadata": {},
   "outputs": [],
   "source": []
  },
  {
   "cell_type": "code",
   "execution_count": null,
   "id": "10e4d145",
   "metadata": {},
   "outputs": [],
   "source": []
  }
 ],
 "metadata": {
  "kernelspec": {
   "display_name": "Python 3",
   "language": "python",
   "name": "python3"
  },
  "language_info": {
   "codemirror_mode": {
    "name": "ipython",
    "version": 3
   },
   "file_extension": ".py",
   "mimetype": "text/x-python",
   "name": "python",
   "nbconvert_exporter": "python",
   "pygments_lexer": "ipython3",
   "version": "3.8.8"
  }
 },
 "nbformat": 4,
 "nbformat_minor": 5
}
