{
 "cells": [
  {
   "cell_type": "markdown",
   "id": "059af70f",
   "metadata": {},
   "source": [
    "This challenge is based on the classic videogame \"Snake\".\n",
    "Assume the game screen is an n * n square, and the snake starts \n",
    "the game with length 1 (i.e. just the head) positioned on the top left corner.\n",
    "\n",
    "For example, if n = 7 the game looks something like this:\n",
    "In this version of the game, the length of the snake doubles \n",
    "each time it eats food (e.g. if the length is 4, after eating it becomes 8).\n",
    "\n",
    "Create a function that takes the side n of the game screen \n",
    "and returns the number of times the snake can eat before it runs \n",
    "out of space in the game screen.\n",
    "\n",
    "Examples\n",
    "snakefill(3) ➞ 3\n",
    "snakefill(6) ➞ 5\n",
    "snakefill(24) ➞ 9\n",
    "Notes\n",
    "The given number will always be a positive integer (there are no exceptions to handle)."
   ]
  },
  {
   "cell_type": "code",
   "execution_count": 3,
   "id": "3a84b700",
   "metadata": {},
   "outputs": [
    {
     "name": "stdout",
     "output_type": "stream",
     "text": [
      "Enter row and column size:6\n",
      "snakefill: 36 and snake can eat before it runs out of space in the game screen:  5\n"
     ]
    }
   ],
   "source": [
    "x = int(input(\"Enter row and column size:\"))\n",
    "i = 0\n",
    "a = -1 # yılanın boyu ilk döngüde zaten 1 olduğu için a değeri -1 olarak tanımlandı.\n",
    "while 2 ** i < x ** 2: # 2 ** 1 formulü yılanın boyunu verir.\n",
    "    a += 1\n",
    "    i += 1\n",
    "print(\"snakefill:\", x ** 2, \"and snake can eat before it runs out of space in the game screen: \",a)"
   ]
  },
  {
   "cell_type": "code",
   "execution_count": 4,
   "id": "3c576b95",
   "metadata": {},
   "outputs": [
    {
     "data": {
      "text/plain": [
       "3"
      ]
     },
     "execution_count": 4,
     "metadata": {},
     "output_type": "execute_result"
    }
   ],
   "source": [
    "def snakefill(n):\n",
    "    i = 2**0\n",
    "    count = 0\n",
    "    if n == 1:\n",
    "        return count\n",
    "    else:\n",
    "        while i < n*n:\n",
    "            count +=1\n",
    "            i += 2**count\n",
    "        return count\n",
    "snakefill(3)"
   ]
  },
  {
   "cell_type": "code",
   "execution_count": 5,
   "id": "1c45c95d",
   "metadata": {},
   "outputs": [
    {
     "name": "stdout",
     "output_type": "stream",
     "text": [
      "Enter a number for the game screen > 6\n",
      "The screen runs out of space after the snake eats 5 number of times.\n"
     ]
    }
   ],
   "source": [
    "num = int(input('Enter a number for the game screen > '))\n",
    "sayac = 0\n",
    "while num ** 2 > 2 ** (sayac + 1):\n",
    "    sayac += 1\n",
    "print('The screen runs out of space after the snake eats {} number of times.'.format(sayac))"
   ]
  },
  {
   "cell_type": "code",
   "execution_count": 7,
   "id": "52ca1d89",
   "metadata": {},
   "outputs": [
    {
     "name": "stdout",
     "output_type": "stream",
     "text": [
      "please enter area information24\n",
      "9\n"
     ]
    }
   ],
   "source": [
    "alan=int(input(\"please enter area information\"))\n",
    "sayac=1\n",
    "while (2**sayac)+1<=(alan*alan):\n",
    "      sayac += 1\n",
    "print(sayac-1)"
   ]
  },
  {
   "cell_type": "code",
   "execution_count": null,
   "id": "cc8a85f3",
   "metadata": {},
   "outputs": [],
   "source": []
  },
  {
   "cell_type": "code",
   "execution_count": null,
   "id": "d99a9d6d",
   "metadata": {},
   "outputs": [],
   "source": []
  }
 ],
 "metadata": {
  "kernelspec": {
   "display_name": "Python 3",
   "language": "python",
   "name": "python3"
  },
  "language_info": {
   "codemirror_mode": {
    "name": "ipython",
    "version": 3
   },
   "file_extension": ".py",
   "mimetype": "text/x-python",
   "name": "python",
   "nbconvert_exporter": "python",
   "pygments_lexer": "ipython3",
   "version": "3.8.8"
  }
 },
 "nbformat": 4,
 "nbformat_minor": 5
}
