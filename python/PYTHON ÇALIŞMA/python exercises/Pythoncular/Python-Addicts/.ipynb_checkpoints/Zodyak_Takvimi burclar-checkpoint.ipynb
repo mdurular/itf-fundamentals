{
 "cells": [
  {
   "cell_type": "markdown",
   "id": "47e5fb21",
   "metadata": {},
   "source": [
    "Doğduğunuz yıl için Çin Zodyakının işaretini gösteren bir Python programı yazın. \n",
    "Beklenen Çıktı:\n",
    "Doğum yılınızı girin: 1973                                              \n",
    "Burcunuz: Öküz  "
   ]
  },
  {
   "cell_type": "code",
   "execution_count": 1,
   "id": "2bec89ba",
   "metadata": {},
   "outputs": [
    {
     "name": "stdout",
     "output_type": "stream",
     "text": [
      "Doğum yılınızı girin 1983\n",
      "Çin burcunuz domuz\n"
     ]
    }
   ],
   "source": [
    "i = (input(\"Doğum yılınızı girin \"))\n",
    "w = str(i)\n",
    "if i.isdigit() and len(i) == 4:\n",
    "    q = int(i)\n",
    "    if (q - 1960) % 12 == 0:\n",
    "        a = \"fare\"\n",
    "    elif (q - 1960) % 12 == 1:    \n",
    "        a = \"öküz\"\n",
    "    elif (q - 1960) % 12 == 2:\n",
    "        a = \"kaplan\"\n",
    "    elif (q - 1960) % 12 == 3:    \n",
    "        a = \"tavşan\"\n",
    "    elif (q - 1960) % 12 == 4:\n",
    "        a = \"ejderha\"\n",
    "    elif (q - 1960) % 12 == 5:    \n",
    "        a = \"yılan\"\n",
    "    elif (q - 1960) % 12 == 6:\n",
    "        a = \"at\"\n",
    "    elif (q - 1960) % 12 == 7:    \n",
    "        a = \"keçi\"\n",
    "    elif (q - 1960) % 12 == 8:\n",
    "        a = \"maymun\"\n",
    "    elif (q - 1960) % 12 == 9:    \n",
    "        a = \"horoz\"\n",
    "    elif (q - 1960) % 12 == 10:\n",
    "        a = \"köpek\"\n",
    "    elif (q - 1960) % 12 == 11:    \n",
    "        a = \"domuz\"\n",
    "    print(\"Çin burcunuz\", a)    \n",
    "else:\n",
    "    print(\"Lütfen dört haneli doğum yılınızı girin\")"
   ]
  },
  {
   "cell_type": "code",
   "execution_count": null,
   "id": "432a9ed6",
   "metadata": {},
   "outputs": [],
   "source": []
  },
  {
   "cell_type": "code",
   "execution_count": null,
   "id": "9fd5906a",
   "metadata": {},
   "outputs": [],
   "source": []
  },
  {
   "cell_type": "code",
   "execution_count": null,
   "id": "54c312a6",
   "metadata": {},
   "outputs": [],
   "source": []
  }
 ],
 "metadata": {
  "kernelspec": {
   "display_name": "Python 3",
   "language": "python",
   "name": "python3"
  },
  "language_info": {
   "codemirror_mode": {
    "name": "ipython",
    "version": 3
   },
   "file_extension": ".py",
   "mimetype": "text/x-python",
   "name": "python",
   "nbconvert_exporter": "python",
   "pygments_lexer": "ipython3",
   "version": "3.8.8"
  }
 },
 "nbformat": 4,
 "nbformat_minor": 5
}
