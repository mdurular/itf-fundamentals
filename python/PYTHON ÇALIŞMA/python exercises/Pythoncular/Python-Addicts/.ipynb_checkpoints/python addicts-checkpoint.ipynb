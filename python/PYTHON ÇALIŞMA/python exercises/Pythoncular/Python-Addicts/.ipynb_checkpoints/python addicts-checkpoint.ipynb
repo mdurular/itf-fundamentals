{
 "cells": [
  {
   "cell_type": "code",
   "execution_count": 25,
   "id": "cd955e64",
   "metadata": {},
   "outputs": [
    {
     "name": "stdout",
     "output_type": "stream",
     "text": [
      "[['eat', 'tea', 'ate'], ['tan', 'nat'], ['bat']]\n"
     ]
    }
   ],
   "source": [
    "kelime = [\"eat\", \"tea\", \"tan\", \"ate\", \"nat\", \"bat\"]\n",
    "diclist ={}\n",
    "\n",
    "for i in kelime:\n",
    "    x = str(sorted(i))  # sorted returns a list, so you can make it a string again using join: # c = ''.join(b)\n",
    "    if x in diclist:\n",
    "            diclist[x].append(i)  #dictionary[key] = value\n",
    "    else: \n",
    "            diclist[x] = [i]\n",
    "\n",
    "print(list(diclist.values()))\n"
   ]
  },
  {
   "cell_type": "code",
   "execution_count": 4,
   "id": "ebc6ee39",
   "metadata": {},
   "outputs": [
    {
     "name": "stdout",
     "output_type": "stream",
     "text": [
      "[['eat', 'tea', 'ate'], ['tan', 'nat'], ['bat']]\n"
     ]
    }
   ],
   "source": [
    "anagrams = {}\n",
    "words = [\"eat\", \"tea\", \"tan\", \"ate\", \"nat\", \"bat\"]\n",
    "for word in words:\n",
    "    sorted_word = \"\".join(sorted(word))\n",
    "    if sorted_word in anagrams:\n",
    "        anagrams[sorted_word].append(word)\n",
    "    else:\n",
    "        anagrams[sorted_word] = [word]\n",
    "print(list(anagrams.values()))"
   ]
  },
  {
   "cell_type": "code",
   "execution_count": 23,
   "id": "b4d5bf19",
   "metadata": {},
   "outputs": [
    {
     "name": "stdout",
     "output_type": "stream",
     "text": [
      "eat\n",
      "['a', 'e', 't']\n",
      "['eat']\n",
      "tea\n",
      "['a', 'e', 't']\n",
      "['eat', 'tea']\n",
      "tan\n",
      "['a', 'n', 't']\n",
      "['tan']\n",
      "ate\n",
      "['a', 'e', 't']\n",
      "['eat', 'tea', 'ate']\n",
      "nat\n",
      "['a', 'n', 't']\n",
      "['tan', 'nat']\n",
      "bat\n",
      "['a', 'b', 't']\n",
      "['bat']\n",
      "[['eat', 'tea', 'ate'], ['tan', 'nat'], ['bat']]\n"
     ]
    }
   ],
   "source": [
    "kelime = [\"eat\", \"tea\", \"tan\", \"ate\", \"nat\", \"bat\"]\n",
    "lst ={}\n",
    "for i in kelime:\n",
    "    print(i)\n",
    "    x = str(sorted(i))\n",
    "    print(x)\n",
    "    if x in lst:\n",
    "            lst[x].append(i)\n",
    "            print(lst[x])\n",
    "    else: \n",
    "            lst[x] = [i]\n",
    "            print(lst[x])\n",
    "print(list(lst.values()))"
   ]
  },
  {
   "cell_type": "code",
   "execution_count": 32,
   "id": "5aca6208",
   "metadata": {},
   "outputs": [
    {
     "name": "stdout",
     "output_type": "stream",
     "text": [
      "Enter a text > galatasaray\n",
      "--. .- .-.. .- - .- ... .- .-. .- -.-- \n"
     ]
    }
   ],
   "source": [
    "char_to_dots = {\n",
    "  'A': '.-', 'B': '-...', 'C': '-.-.', 'D': '-..', 'E': '.', 'F': '..-.',\n",
    "  'G': '--.', 'H': '....', 'I': '..', 'J': '.---', 'K': '-.-', 'L': '.-..',\n",
    "  'M': '--', 'N': '-.', 'O': '---', 'P': '.--.', 'Q': '--.-', 'R': '.-.',\n",
    "  'S': '...', 'T': '-', 'U': '..-', 'V': '...-', 'W': '.--', 'X': '-..-',\n",
    "  'Y': '-.--', 'Z': '--..', ' ': ' ', '0': '-----',\n",
    "  '1': '.----', '2': '..---', '3': '...--', '4': '....-', '5': '.....',\n",
    "  '6': '-....', '7': '--...', '8': '---..', '9': '----.',\n",
    "  '&': '.-...', \"'\": '.----.', '@': '.--.-.', ')': '-.--.-', '(': '-.--.',\n",
    "  ':': '---...', ',': '--..--', '=': '-...-', '!': '-.-.--', '.': '.-.-.-',\n",
    "  '-': '-....-', '+': '.-.-.', '\"': '.-..-.', '?': '..--..', '/': '-..-.'\n",
    "}\n",
    "text = input('Enter a text > ').strip().upper()\n",
    "result = []\n",
    "result_text = ''\n",
    "for i in text:\n",
    "    if i in char_to_dots.keys():\n",
    "        result.append(char_to_dots[i])\n",
    "for i in result:\n",
    "    result_text += (i + ' ') \n",
    "print(result_text)"
   ]
  },
  {
   "cell_type": "code",
   "execution_count": 34,
   "id": "539cde49",
   "metadata": {},
   "outputs": [
    {
     "name": "stdout",
     "output_type": "stream",
     "text": [
      "[2, 11, 12, 45, 77, 99, 333, 999, 8982]\n"
     ]
    }
   ],
   "source": [
    "my_list = [999, 333, 2, 8982, 12, 45, 77, 99, 11]\n",
    "for i in range(0, len(my_list)):\n",
    "    for x in range(0, len(my_list)-1):\n",
    "        if my_list[x] > my_list[x+1]:\n",
    "            my_list[x], my_list[x+1] = my_list[x+1],  my_list[x]\n",
    "        else:\n",
    "            continue\n",
    "print(my_list)"
   ]
  },
  {
   "cell_type": "code",
   "execution_count": 33,
   "id": "d8e56fb7",
   "metadata": {},
   "outputs": [
    {
     "name": "stdout",
     "output_type": "stream",
     "text": [
      "[2, 11, 12, 45, 77, 99, 333, 999, 8982]\n"
     ]
    }
   ],
   "source": [
    "elements = [999, 333, 2, 8982, 12, 45, 77, 99, 11] \n",
    "sorted1 = []\n",
    "for i in range(1,len(elements)+1):\n",
    "    x in elements\n",
    "    x = min(elements)\n",
    "    sorted1.append(x)\n",
    "    elements.remove(x)\n",
    "print(sorted1)"
   ]
  },
  {
   "cell_type": "code",
   "execution_count": null,
   "id": "cf9126f2",
   "metadata": {},
   "outputs": [],
   "source": [
    "list = [999, 333, 2, 8982, 12, 45, 77, 99, 11]\n",
    "new_list = []\n",
    "i = 0\n",
    "len_list = len(list)\n",
    "while i< len_list:\n",
    "  k = min(list)\n",
    "  new_list.append(k)\n",
    "  list.remove(k)\n",
    "  i += 1\n",
    "print(new_list)"
   ]
  },
  {
   "cell_type": "code",
   "execution_count": 35,
   "id": "85dead6a",
   "metadata": {},
   "outputs": [
    {
     "name": "stdout",
     "output_type": "stream",
     "text": [
      "[2, 11, 12, 45, 77, 99, 333, 999, 8982]\n"
     ]
    }
   ],
   "source": [
    "liste = [999, 333, 2, 8982, 12, 45, 77, 99, 11]\n",
    "liste2 = []\n",
    "for i in range(len(liste)):\n",
    "    minimum = min(liste)\n",
    "    liste2.append(minimum)\n",
    "    liste.remove(minimum)\n",
    "print(liste2)"
   ]
  },
  {
   "cell_type": "code",
   "execution_count": 42,
   "id": "f736e0be",
   "metadata": {},
   "outputs": [
    {
     "name": "stdout",
     "output_type": "stream",
     "text": [
      "[2, 12, 77, 333, 8982, 999, 99, 45, 11]\n"
     ]
    }
   ],
   "source": [
    "a = [999, 333, 2, 8982, 12, 45, 77, 99, 11]\n",
    "b = []\n",
    "for i in range(len(a)):\n",
    "    maximum = max(a)\n",
    "    b.append(maximum)\n",
    "    a.remove(maximum)\n",
    "    b.reverse()\n",
    "print(b)"
   ]
  },
  {
   "cell_type": "code",
   "execution_count": 46,
   "id": "b0bae563",
   "metadata": {},
   "outputs": [
    {
     "name": "stdout",
     "output_type": "stream",
     "text": [
      "Bir cümle yazınız: Sakla samanı gelir zamanı.\n",
      "{'a': 6, 'ı': 2, 'e': 1, 'i': 1}\n"
     ]
    }
   ],
   "source": [
    "sentence = input(\"Bir cümle yazınız: \").lower()\n",
    "vowels = [\"a\", \"e\", \"ı\",\"i\",\"o\", \"ö\", \"u\", \"ü\"]\n",
    "new_list = []\n",
    "result = {}\n",
    "for i in sentence:\n",
    "  if i in vowels:\n",
    "    new_list.append(i)\n",
    "for a in new_list:\n",
    "  result[a] = new_list.count(a)\n",
    "print(result) "
   ]
  },
  {
   "cell_type": "code",
   "execution_count": 49,
   "id": "d6fd9ba5",
   "metadata": {},
   "outputs": [
    {
     "name": "stdout",
     "output_type": "stream",
     "text": [
      "Enter a sentence, please :Sakla samanı gelir zamanı.\n",
      "a: 6\n",
      "ı: 2\n",
      "e: 1\n",
      "i: 1\n"
     ]
    }
   ],
   "source": [
    "cumle = list((input('Enter a sentence, please :').lower()))\n",
    "famous = ['a', 'ı', 'e', 'i', 'o', 'u', 'ö', 'ü']\n",
    "for i in famous :\n",
    "    if i in cumle :\n",
    "        print( i+':', cumle.count(i))"
   ]
  },
  {
   "cell_type": "code",
   "execution_count": null,
   "id": "baaaaa9b",
   "metadata": {},
   "outputs": [],
   "source": [
    "num = (input(\"Enter a number:\"))\n",
    "if num.isdigit():\n",
    "    num1 = int(num)\n",
    "    if num1 > 0:\n",
    "        if num1 % 2 == 0: \n",
    "            print(num, \",is a even number\")\n",
    "        else:\n",
    "            print(num, \"is a odd number\")\n",
    "    else:\n",
    "        print(\"It is an invalid entry. Don't use non-numeric, float, or negative values!\")\n",
    "else:\n",
    "    print(\"It is an invalid entry. Don't use non-numeric, float, or negative values!\")"
   ]
  },
  {
   "cell_type": "code",
   "execution_count": 1,
   "id": "6742d9a0",
   "metadata": {},
   "outputs": [
    {
     "name": "stdout",
     "output_type": "stream",
     "text": [
      "Please enter a positive integer number. 125\n",
      "125 is a odd number.\n"
     ]
    }
   ],
   "source": [
    "while True:\n",
    "    number=input(\"Please enter a positive integer number. \")\n",
    "    if number.isdigit():\n",
    "        break      \n",
    "    else:\n",
    "        print(\"It is an invalid entry. Don't use non-numeric, float, or negative values!\")\n",
    "    continue\n",
    "num = int(number)\n",
    "if num == 0:\n",
    "    print(\"It is an invalid entry. Don't use non-numeric, float, or negative values!\")    \n",
    "    number=input(\"Please enter a positive integer number. \")\n",
    "elif num % 2 == 0:\n",
    "    print(num, \"is a even number.\")\n",
    "else:\n",
    "    print(num, \"is a odd number.\")"
   ]
  },
  {
   "cell_type": "code",
   "execution_count": 18,
   "id": "0001016b",
   "metadata": {},
   "outputs": [
    {
     "name": "stdout",
     "output_type": "stream",
     "text": [
      "fibonacci sayıları: [1, 1, 2, 3, 5, 8, 13, 21, 34]\n"
     ]
    }
   ],
   "source": [
    "x, y, z = 0, 1, 2\n",
    "iboilenaci=[]\n",
    "while z < 50:\n",
    "    z = x + y\n",
    "    x = y\n",
    "    y = z\n",
    "    iboilenaci.append(x)\n",
    "print(\"fibonacci sayıları:\", iboilenaci)\n"
   ]
  },
  {
   "cell_type": "code",
   "execution_count": 1,
   "id": "0c8496dc",
   "metadata": {},
   "outputs": [
    {
     "name": "stdout",
     "output_type": "stream",
     "text": [
      "4.Student point 1.Student point\n"
     ]
    }
   ],
   "source": [
    "grades={\n",
    "    'Student-1': {'Lesson-1': 57, 'Lesson-2': 46, 'Lesson-3': 58, 'Lesson-4': 81, 'Lesson-5': 85}, \n",
    "    'Student-2': {'Lesson-1': 85, 'Lesson-2': 56, 'Lesson-3': 51, 'Lesson-4': 69, 'Lesson-5': 67}, \n",
    "    'Student-3': {'Lesson-1': 68, 'Lesson-2': 76, 'Lesson-3': 87, 'Lesson-4': 57, 'Lesson-5': 56}, \n",
    "    'Student-4': {'Lesson-1': 78, 'Lesson-2': 93, 'Lesson-3': 88, 'Lesson-4': 38, 'Lesson-5': 54}, \n",
    "    'Student-5': {'Lesson-1': 50, 'Lesson-2': 46, 'Lesson-3': 78, 'Lesson-4': 81, 'Lesson-5': 75}}\n",
    "dicc={}\n",
    "number=1\n",
    "for students in grades.values():\n",
    "    dicc[sum(students.values())]=\"{}.Student point\".format(number)\n",
    "    number +=1\n",
    "enbuyuk,enkucuk=max(dicc),min(dicc)\n",
    "print(dicc[enbuyuk],dicc[enkucuk])"
   ]
  },
  {
   "cell_type": "code",
   "execution_count": null,
   "id": "579c6e4c",
   "metadata": {},
   "outputs": [],
   "source": [
    "grades={\n",
    "    'Student-1': {'Lesson-1': 57, 'Lesson-2': 46, 'Lesson-3': 58, 'Lesson-4': 81, 'Lesson-5': 85}, \n",
    "    'Student-2': {'Lesson-1': 85, 'Lesson-2': 56, 'Lesson-3': 51, 'Lesson-4': 69, 'Lesson-5': 67}, \n",
    "    'Student-3': {'Lesson-1': 68, 'Lesson-2': 76, 'Lesson-3': 87, 'Lesson-4': 57, 'Lesson-5': 56}, \n",
    "    'Student-4': {'Lesson-1': 78, 'Lesson-2': 93, 'Lesson-3': 88, 'Lesson-4': 38, 'Lesson-5': 54}, \n",
    "    'Student-5': {'Lesson-1': 50, 'Lesson-2': 46, 'Lesson-3': 78, 'Lesson-4': 81, 'Lesson-5': 75}}\n",
    "student_dict = {}\n",
    "student_list = []\n",
    "students = list(grades.keys())\n",
    "print(students)\n",
    "for i in grades.values():\n",
    "    total = 0\n",
    "    print(total)\n",
    "    for x, y in i.items():\n",
    "        print(i.items())\n",
    "        \n",
    "        total += y\n",
    "        print(total)\n",
    "        \n",
    "        if x == list(grades['Student-1'].keys())[-1]:\n",
    "            total = total / len(grades)\n",
    "            print(total)\n",
    "            student_list.append(total)\n",
    "            print(student_list)\n",
    "            continue\n",
    "for i in range(len(grades)):\n",
    "    student_dict[student_list[i]] = students[i]\n",
    "    print(student_dict)\n",
    "maximum = max(list(student_dict.keys()))\n",
    "minimum = min(list(student_dict.keys()))\n",
    "print(f'The student who has the maximum average is {student_dict[maximum]} and his/her score is {maximum}.')\n",
    "print(f'The student who has the minimum average is {student_dict[minimum]} and his/her score is {minimum}.')"
   ]
  },
  {
   "cell_type": "code",
   "execution_count": 66,
   "id": "2456f444",
   "metadata": {},
   "outputs": [
    {
     "name": "stdout",
     "output_type": "stream",
     "text": [
      "{'Student-1': [65.4], 'Student-2': [65.6], 'Student-3': [68.8], 'Student-4': [70.2], 'Student-5': [66.0]}\n",
      "Student-1 has the minumum average\n",
      "Student-4 has the maximum average\n"
     ]
    }
   ],
   "source": [
    "grades={\n",
    "    'Student-1': {'Lesson-1': 57, 'Lesson-2': 46, 'Lesson-3': 58, 'Lesson-4': 81, 'Lesson-5': 85}, \n",
    "    'Student-2': {'Lesson-1': 85, 'Lesson-2': 56, 'Lesson-3': 51, 'Lesson-4': 69, 'Lesson-5': 67}, \n",
    "    'Student-3': {'Lesson-1': 68, 'Lesson-2': 76, 'Lesson-3': 87, 'Lesson-4': 57, 'Lesson-5': 56}, \n",
    "    'Student-4': {'Lesson-1': 78, 'Lesson-2': 93, 'Lesson-3': 88, 'Lesson-4': 38, 'Lesson-5': 54}, \n",
    "    'Student-5': {'Lesson-1': 50, 'Lesson-2': 46, 'Lesson-3': 78, 'Lesson-4': 81, 'Lesson-5': 75}}\n",
    "ortalama = {}\n",
    "for i in grades :\n",
    "    notlar = grades[i].values()\n",
    "    ortalama[i] = [sum(notlar) / len(notlar)]\n",
    "print(ortalama)\n",
    "\n",
    "for i in ortalama:\n",
    "    if ortalama[i] == max(ortalama.values()) :\n",
    "        print(f\"{i} has the maximum average\" )\n",
    "    elif ortalama[i] == min(ortalama.values()) :\n",
    "        print(f\"{i} has the minumum average\" )"
   ]
  },
  {
   "cell_type": "code",
   "execution_count": null,
   "id": "a2534eff",
   "metadata": {},
   "outputs": [
    {
     "name": "stdout",
     "output_type": "stream",
     "text": [
      "Player 1, Rock(R)-Paper(P)-Scissors(S) > \n",
      "Player 2, Rock(R)-Paper(P)-Scissors(S) > P\n",
      "Congratulations Player1, you win.\n",
      "Do you want to play again? (Y or N) > Y\n",
      "Player 1, Rock(R)-Paper(P)-Scissors(S) > S\n",
      "Player 2, Rock(R)-Paper(P)-Scissors(S) > P\n",
      "Congratulations Player1, you win.\n"
     ]
    }
   ],
   "source": [
    "repeat = True\n",
    "while repeat:    \n",
    "    player1 = input('Player 1, Rock(R)-Paper(P)-Scissors(S) > ').upper()\n",
    "    player2 = input('Player 2, Rock(R)-Paper(P)-Scissors(S) > ').upper()\n",
    "    if player1 == 'R':\n",
    "        if player2 == 'R':\n",
    "            print('Nobody wins. >')\n",
    "        elif player2 == 'P':\n",
    "            print('Congratulations Player2, you win.')\n",
    "        else:\n",
    "            print('Congratulations Player1, you win.')\n",
    "    elif player1 == 'P':\n",
    "        if player2 == 'P':\n",
    "            print('Nobody wins. >')\n",
    "        elif player2 == 'S':\n",
    "            print('Congratulations Player2, you win.')\n",
    "        else:\n",
    "            print('Congratulations Player1, you win.')\n",
    "    else:\n",
    "        if player2 == 'S':\n",
    "            print('Nobody wins. >')\n",
    "        elif player2 == 'R':\n",
    "            print('Congratulations Player2, you win.')\n",
    "        else:\n",
    "            print('Congratulations Player1, you win.')\n",
    "    repeat_q = input('Do you want to play again? (Y or N) > ').upper()\n",
    "    if repeat_q != 'Y':\n",
    "        repeat = False"
   ]
  },
  {
   "cell_type": "code",
   "execution_count": 4,
   "id": "6f84fa17",
   "metadata": {},
   "outputs": [
    {
     "name": "stdout",
     "output_type": "stream",
     "text": [
      "['Python', 'Software', 'Foundation']\n",
      "['Foundation', 'Python', 'Software']\n",
      "Foundation Python Software\n",
      "und\n"
     ]
    }
   ],
   "source": [
    "str = \"Python Software Foundation\"\n",
    "s = str.split()\n",
    "print(s)\n",
    "s = sorted(s)\n",
    "print(s)\n",
    "s = \" \".join(s)\n",
    "print(s)\n",
    "print(s[2:5])"
   ]
  },
  {
   "cell_type": "code",
   "execution_count": 8,
   "id": "5af1b9f4",
   "metadata": {},
   "outputs": [
    {
     "name": "stdout",
     "output_type": "stream",
     "text": [
      "325\n",
      "5\n",
      "32\n",
      "2\n",
      "3\n",
      "10\n"
     ]
    }
   ],
   "source": [
    "n = \"325\"\n",
    "n = int(n)\n",
    "print(n)\n",
    "d1 = n  % 10\n",
    "print(d1)\n",
    "n = n // 10\n",
    "print(n)\n",
    "d2 = n % 10\n",
    "print(d2)\n",
    "n = n // 10\n",
    "print(n)\n",
    "print (n + d1 + d2)"
   ]
  },
  {
   "cell_type": "code",
   "execution_count": 9,
   "id": "6affadeb",
   "metadata": {},
   "outputs": [
    {
     "name": "stdout",
     "output_type": "stream",
     "text": [
      "AJrpan\n"
     ]
    }
   ],
   "source": [
    "s1 = \"America\"\n",
    "s2 = \"Japan\"\n",
    "print(s1[0]+s2[0]+s1[3]+s2[2]+s1[6]+s2[4])"
   ]
  },
  {
   "cell_type": "code",
   "execution_count": 23,
   "id": "1a183efb",
   "metadata": {},
   "outputs": [
    {
     "name": "stdout",
     "output_type": "stream",
     "text": [
      "[[...]]\n",
      "[]\n",
      "[[]]\n",
      "1\n",
      "0\n",
      "1\n"
     ]
    }
   ],
   "source": [
    "a, b, c = [], [], [[]]\n",
    "a.append(a)\n",
    "print(a)\n",
    "print(b)\n",
    "print(c)\n",
    "print(len(a))\n",
    "print(len(b))\n",
    "print(len(c))\n"
   ]
  },
  {
   "cell_type": "code",
   "execution_count": 24,
   "id": "7438f52d",
   "metadata": {},
   "outputs": [
    {
     "name": "stdout",
     "output_type": "stream",
     "text": [
      "True\n",
      "[[...]]\n"
     ]
    }
   ],
   "source": [
    "a = [] #Hocam 3 nokta göstermesinin nedeni elemanı olmayan bir listenin aynı \n",
    "#zamanda başka bir listenin elemanı olması ya da \n",
    "#şöyle ifade edersek bir listenin, boş elemanlı bir listeden oluşan bir elemanı olmasından kaynaklanıyor.\n",
    "a.append(a)\n",
    "print(a in a)\n",
    "print(a)"
   ]
  },
  {
   "cell_type": "code",
   "execution_count": 25,
   "id": "0342fc94",
   "metadata": {},
   "outputs": [
    {
     "name": "stdout",
     "output_type": "stream",
     "text": [
      "gmail.com\n"
     ]
    }
   ],
   "source": [
    "mail = \"from Ahmet, mail to: abcxyz@gmail.com  15:1990:01\"\n",
    "index = mail.find('@')\n",
    "print(mail[index+1:index+10])"
   ]
  },
  {
   "cell_type": "code",
   "execution_count": 26,
   "id": "a4fd6f10",
   "metadata": {},
   "outputs": [
    {
     "name": "stdout",
     "output_type": "stream",
     "text": [
      "gmail.com\n"
     ]
    }
   ],
   "source": [
    "mail = \"from Ahmet, mail to: abcxyz@gmail.com 15:1990:01\"\n",
    "start = mail.find(\"@\") # Burada @'nin indexini buluyorum.\n",
    "end = mail.find(\"com\") # Burada \"com\" un indexini buluyorum\n",
    "#end = end+3 # indexi \"com\"dan itibaren aldığım için c'nin indexini veriyor. Bu yüzden üzerine 3 ekleyip istenilen aralığı alabileceğim indexi belirliyorum.\n",
    "print(mail[start+1:end+3]) # Result"
   ]
  },
  {
   "cell_type": "code",
   "execution_count": null,
   "id": "8b539026",
   "metadata": {},
   "outputs": [],
   "source": [
    "'''Arkadaşlar selam, bir string içerisinden bir bölümü ayıklarken \"partition\" metodu \n",
    "ile sonuca ulaşmak sanırım daha hızlı sonuç veriyor.\n",
    "\"partition()\" girilen parametreye göre stringi 3 parçaya \n",
    "bölüp tuple'a dönüştürüp bırakıyor ve girdiğiniz parametre her \n",
    "zaman 1. index olarak ortada kalıyor. Hatırlarsanız daha önceki \n",
    "domain bulma sorusunda birçok farklı çözüm paylaşmıştı arkadaşlar.'''\n",
    "\n",
    "\n",
    "mail = \"from Ahmet, mail to: abcxyz@gmail.com 15:1990:01\"\n",
    "\n",
    "beta = mail.partition(\"gmail.com\")\n",
    "\n",
    "print(beta)\n",
    "print(beta[1])\n"
   ]
  },
  {
   "cell_type": "code",
   "execution_count": 27,
   "id": "11069fef",
   "metadata": {},
   "outputs": [
    {
     "name": "stdout",
     "output_type": "stream",
     "text": [
      "[(1, 1070.0), (2, 1144.9), (3, 1225.0430000000001), (4, 1310.7960100000003), (5, 1402.5517307000005), (6, 1500.7303518490005), (7, 1605.7814764784307)]\n"
     ]
    }
   ],
   "source": [
    "para = 1000\n",
    "gunluk_kazanc = enumerate([para*(1.07)**i for i in range(1,8)],1)\n",
    "print(list(gunluk_kazanc))"
   ]
  },
  {
   "cell_type": "code",
   "execution_count": 35,
   "id": "8dc1285d",
   "metadata": {},
   "outputs": [
    {
     "name": "stdout",
     "output_type": "stream",
     "text": [
      "Type a word...:fdshfads54dds31\n",
      "Word is composed of 4 numbers, 11 letters.\n"
     ]
    }
   ],
   "source": [
    "numbers = (\"0,1,2,3,4,5,6,7,8,9\")\n",
    "letters = (\"a,b,c,ç,d,e,f,g,ğ,h,ı,i,j,k,l,m,n,o,ö,p,r,s,ş,t,u,ü,q,w,y,z,x,v\")\n",
    "word = input(\"Type a word...:\").lower()\n",
    "numbers_count = 0\n",
    "letters_count = 0\n",
    "for i in word :\n",
    "    if i in numbers :\n",
    "        numbers_count += 1\n",
    "    elif i in letters :\n",
    "        letters_count += 1\n",
    "print(\"Word is composed of {} numbers, {} letters.\".format(numbers_count,letters_count))"
   ]
  },
  {
   "cell_type": "code",
   "execution_count": 47,
   "id": "b6a6856f",
   "metadata": {},
   "outputs": [
    {
     "name": "stdout",
     "output_type": "stream",
     "text": [
      "Bu dizede 7'ye bolunebilen 8 sayi vardir.Bu sayilar dizesi ise [7, 14, 21, 28, 35, 42, 84, 91]'dir.\n"
     ]
    }
   ],
   "source": [
    "numbers = [18,21,14,84,65,35,10,20,28,42,24,91,5,7,54,69]\n",
    "division_by_seven =[]\n",
    "for i in numbers:\n",
    "    if i % 7 == 0:\n",
    "        division_by_seven.append(i)\n",
    "print(f\"Bu dizede 7'ye bolunebilen {len(division_by_seven)} sayi vardir.Bu sayilar dizesi ise {sorted(division_by_seven)}'dir.\")"
   ]
  },
  {
   "cell_type": "code",
   "execution_count": 4,
   "id": "fe7973dd",
   "metadata": {},
   "outputs": [
    {
     "name": "stdout",
     "output_type": "stream",
     "text": [
      "For password type 'strong' or 'weak': weak\n",
      "1903\n"
     ]
    }
   ],
   "source": [
    "import random\n",
    "def password_generator():\n",
    "  user_input = input(\"For password type 'strong' or 'weak': \")\n",
    "  if user_input.lower() == 'weak': \n",
    "    return random.choice(['musa', '1903', '1990'])\n",
    "  else:\n",
    "    letters = 'abcdefghijklmnopqrstuvwxyzABCDEFGHIJLMNOPQRSTUVWXYZ!@#$%^&*()?1234567890'\n",
    "    password = ''.join(random.choices(letters, k=(random.randrange(1, 99))))\n",
    "    return password\n",
    "print(password_generator())"
   ]
  },
  {
   "cell_type": "code",
   "execution_count": 5,
   "id": "58164606",
   "metadata": {},
   "outputs": [
    {
     "name": "stdout",
     "output_type": "stream",
     "text": [
      "Lütfen yapmak istediğiniz işlemi seçiniz: (1, 2, 3 or q)1\n",
      "bakiye sorgusu\n",
      "Hesabınızda 1000 tl vardır.\n",
      "Lütfen yapmak istediğiniz işlemi seçiniz: (1, 2, 3 or q)2\n",
      "Lütfen yatırmak istediğiniz tutarı giriniz\n",
      "2500\n",
      "Lütfen yapmak istediğiniz işlemi seçiniz: (1, 2, 3 or q)1\n",
      "bakiye sorgusu\n",
      "Hesabınızda 3500 tl vardır.\n",
      "Lütfen yapmak istediğiniz işlemi seçiniz: (1, 2, 3 or q)3\n",
      "Çekmek istediğiniz miktarı giriniz\n",
      "3200\n",
      "Lütfen yapmak istediğiniz işlemi seçiniz: (1, 2, 3 or q)1\n",
      "bakiye sorgusu\n",
      "Hesabınızda 300 tl vardır.\n",
      "Lütfen yapmak istediğiniz işlemi seçiniz: (1, 2, 3 or q)Q\n",
      "işlem sonlandırıldı\n"
     ]
    }
   ],
   "source": [
    "bakiye = 1000\n",
    "while True:\n",
    "  işlem = input(\"Lütfen yapmak istediğiniz işlemi seçiniz: (1, 2, 3 or q)\")\n",
    "  if işlem == \"1\":\n",
    "    print(\"bakiye sorgusu\")\n",
    "    print(f\"Hesabınızda {bakiye} tl vardır.\")\n",
    "  elif işlem == \"2\":\n",
    "    print(\"Lütfen yatırmak istediğiniz tutarı giriniz\")\n",
    "    ekle = int(input())\n",
    "    bakiye += ekle\n",
    "  elif işlem == \"3\":\n",
    "    print(\"Çekmek istediğiniz miktarı giriniz\")\n",
    "    çıkar = int(input())\n",
    "    bakiye -= çıkar\n",
    "  elif işlem.lower() == \"q\":\n",
    "    print(\"işlem sonlandırıldı\")\n",
    "    break\n",
    "  else:\n",
    "    print(\"işlem gerçekleştirilemedi\")"
   ]
  },
  {
   "cell_type": "code",
   "execution_count": 7,
   "id": "800c9d15",
   "metadata": {},
   "outputs": [
    {
     "name": "stdout",
     "output_type": "stream",
     "text": [
      "gmail.com\n"
     ]
    }
   ],
   "source": [
    "'''Arkadaşlar selam, bir string içerisinden bir bölümü ayıklarken \n",
    "'partition' metodu ile sonuca ulaşmak sanırım daha hızlı sonuç veriyor.\n",
    "'partition()\" girilen parametreye göre stringi 3 parçaya\n",
    "bölüp tuple'a dönüştürüp bırakıyor ve girdiğiniz parametre her\n",
    "zaman 1. index olarak ortada kalıyor. Hatırlarsanız daha önceki \n",
    "domain bulma sorusunda birçok farklı çözüm paylaşmıştı arkadaşlar. \n",
    "Bir de aşağıdaki gibi bir çözüm daha kısa olabilir.'''\n",
    "\n",
    "mail = \"from Ahmet, mail to: abcxyz@gmail.com 15:1990:01\"\n",
    "beta = mail.partition(\"gmail.com\")\n",
    "print(beta[1])"
   ]
  },
  {
   "cell_type": "code",
   "execution_count": 16,
   "id": "cee2c2c2",
   "metadata": {},
   "outputs": [
    {
     "name": "stdout",
     "output_type": "stream",
     "text": [
      " Welcome to the Cows and Bulls Game! \n",
      "Enter a 4 digit number: 2545\n",
      "0 cow and 0 bull\n",
      "###########################\n",
      " You can check by comparing the values below:  \n",
      "Random numbers:  8366\n",
      "User numbers:  2545\n",
      "###########################\n"
     ]
    }
   ],
   "source": [
    "import random\n",
    "print(\" Welcome to the Cows and Bulls Game! \")\n",
    "random_num = str(random.randrange(1000,10000))\n",
    "user_num = input(\"Enter a 4 digit number: \")\n",
    "cows = 0\n",
    "bulls = 0\n",
    "r = 0\n",
    "u = 0\n",
    "while r < 4 and u <4:\n",
    "  if random_num[r] == user_num[u] :\n",
    "    cows +=1\n",
    "  elif random_num[r] in list(user_num) and random_num[r] != user_num[u]:\n",
    "    bulls += 1\n",
    "  r += 1\n",
    "  u += 1\n",
    "print(f\"{cows} cow and {bulls} bull\")\n",
    "print(\"###########################\")\n",
    "print(\" You can check by comparing the values below:  \")\n",
    "print(\"Random numbers: \", random_num)\n",
    "print(\"User numbers: \", user_num)\n",
    "print(\"###########################\")"
   ]
  },
  {
   "cell_type": "code",
   "execution_count": 42,
   "id": "f7bbdae1",
   "metadata": {},
   "outputs": [
    {
     "ename": "KeyboardInterrupt",
     "evalue": "Interrupted by user",
     "output_type": "error",
     "traceback": [
      "\u001b[1;31m---------------------------------------------------------------------------\u001b[0m",
      "\u001b[1;31mKeyboardInterrupt\u001b[0m                         Traceback (most recent call last)",
      "\u001b[1;32m<ipython-input-42-a1d31e478777>\u001b[0m in \u001b[0;36m<module>\u001b[1;34m\u001b[0m\n\u001b[1;32m----> 1\u001b[1;33m \u001b[0myear\u001b[0m \u001b[1;33m=\u001b[0m \u001b[0mint\u001b[0m\u001b[1;33m(\u001b[0m\u001b[0minput\u001b[0m\u001b[1;33m(\u001b[0m\u001b[1;34m\"Doğum yılınızı girin :  \"\u001b[0m\u001b[1;33m)\u001b[0m\u001b[1;33m)\u001b[0m\u001b[1;33m\u001b[0m\u001b[1;33m\u001b[0m\u001b[0m\n\u001b[0m\u001b[0;32m      2\u001b[0m \u001b[1;32mif\u001b[0m \u001b[0myear\u001b[0m \u001b[1;33m%\u001b[0m \u001b[1;36m12\u001b[0m \u001b[1;33m==\u001b[0m \u001b[1;36m8\u001b[0m\u001b[1;33m:\u001b[0m\u001b[1;33m\u001b[0m\u001b[1;33m\u001b[0m\u001b[0m\n\u001b[0;32m      3\u001b[0m     \u001b[0manimal\u001b[0m \u001b[1;33m=\u001b[0m \u001b[1;34m\"Ejderha\"\u001b[0m\u001b[1;33m\u001b[0m\u001b[1;33m\u001b[0m\u001b[0m\n\u001b[0;32m      4\u001b[0m \u001b[1;32melif\u001b[0m \u001b[0myear\u001b[0m \u001b[1;33m%\u001b[0m \u001b[1;36m12\u001b[0m \u001b[1;33m==\u001b[0m \u001b[1;36m9\u001b[0m\u001b[1;33m:\u001b[0m\u001b[1;33m\u001b[0m\u001b[1;33m\u001b[0m\u001b[0m\n\u001b[0;32m      5\u001b[0m     \u001b[0manimal\u001b[0m \u001b[1;33m=\u001b[0m \u001b[1;34m\"Yılan\"\u001b[0m\u001b[1;33m\u001b[0m\u001b[1;33m\u001b[0m\u001b[0m\n",
      "\u001b[1;32m~\\anaconda3\\lib\\site-packages\\ipykernel\\kernelbase.py\u001b[0m in \u001b[0;36mraw_input\u001b[1;34m(self, prompt)\u001b[0m\n\u001b[0;32m    858\u001b[0m                 \u001b[1;34m\"raw_input was called, but this frontend does not support input requests.\"\u001b[0m\u001b[1;33m\u001b[0m\u001b[1;33m\u001b[0m\u001b[0m\n\u001b[0;32m    859\u001b[0m             )\n\u001b[1;32m--> 860\u001b[1;33m         return self._input_request(str(prompt),\n\u001b[0m\u001b[0;32m    861\u001b[0m             \u001b[0mself\u001b[0m\u001b[1;33m.\u001b[0m\u001b[0m_parent_ident\u001b[0m\u001b[1;33m,\u001b[0m\u001b[1;33m\u001b[0m\u001b[1;33m\u001b[0m\u001b[0m\n\u001b[0;32m    862\u001b[0m             \u001b[0mself\u001b[0m\u001b[1;33m.\u001b[0m\u001b[0m_parent_header\u001b[0m\u001b[1;33m,\u001b[0m\u001b[1;33m\u001b[0m\u001b[1;33m\u001b[0m\u001b[0m\n",
      "\u001b[1;32m~\\anaconda3\\lib\\site-packages\\ipykernel\\kernelbase.py\u001b[0m in \u001b[0;36m_input_request\u001b[1;34m(self, prompt, ident, parent, password)\u001b[0m\n\u001b[0;32m    902\u001b[0m             \u001b[1;32mexcept\u001b[0m \u001b[0mKeyboardInterrupt\u001b[0m\u001b[1;33m:\u001b[0m\u001b[1;33m\u001b[0m\u001b[1;33m\u001b[0m\u001b[0m\n\u001b[0;32m    903\u001b[0m                 \u001b[1;31m# re-raise KeyboardInterrupt, to truncate traceback\u001b[0m\u001b[1;33m\u001b[0m\u001b[1;33m\u001b[0m\u001b[1;33m\u001b[0m\u001b[0m\n\u001b[1;32m--> 904\u001b[1;33m                 \u001b[1;32mraise\u001b[0m \u001b[0mKeyboardInterrupt\u001b[0m\u001b[1;33m(\u001b[0m\u001b[1;34m\"Interrupted by user\"\u001b[0m\u001b[1;33m)\u001b[0m \u001b[1;32mfrom\u001b[0m \u001b[1;32mNone\u001b[0m\u001b[1;33m\u001b[0m\u001b[1;33m\u001b[0m\u001b[0m\n\u001b[0m\u001b[0;32m    905\u001b[0m             \u001b[1;32mexcept\u001b[0m \u001b[0mException\u001b[0m \u001b[1;32mas\u001b[0m \u001b[0me\u001b[0m\u001b[1;33m:\u001b[0m\u001b[1;33m\u001b[0m\u001b[1;33m\u001b[0m\u001b[0m\n\u001b[0;32m    906\u001b[0m                 \u001b[0mself\u001b[0m\u001b[1;33m.\u001b[0m\u001b[0mlog\u001b[0m\u001b[1;33m.\u001b[0m\u001b[0mwarning\u001b[0m\u001b[1;33m(\u001b[0m\u001b[1;34m\"Invalid Message:\"\u001b[0m\u001b[1;33m,\u001b[0m \u001b[0mexc_info\u001b[0m\u001b[1;33m=\u001b[0m\u001b[1;32mTrue\u001b[0m\u001b[1;33m)\u001b[0m\u001b[1;33m\u001b[0m\u001b[1;33m\u001b[0m\u001b[0m\n",
      "\u001b[1;31mKeyboardInterrupt\u001b[0m: Interrupted by user"
     ]
    }
   ],
   "source": [
    "year = int(input(\"Doğum yılınızı girin :  \"))\n",
    "if year % 12 == 8:\n",
    "    animal = \"Ejderha\"\n",
    "elif year % 12 == 9:\n",
    "    animal = \"Yılan\"\n",
    "elif year % 12 == 10:\n",
    "    animal = \"At\"\n",
    "elif year % 12 == 11:\n",
    "    animal = \"Keçi\"\n",
    "elif year % 12 == 0:\n",
    "    animal = \"Maymun\"\n",
    "elif year % 12 == 1:\n",
    "    animal = \"Horoz\"\n",
    "elif year % 12 == 2:\n",
    "    animal = \"Köpek\"\n",
    "elif year % 12 == 3:\n",
    "    animal = \"Domuz\"\n",
    "elif year % 12 == 4:\n",
    "    animal = \"Sıçan\"\n",
    "elif year % 12 == 5:\n",
    "    animal = \"Öküz\"\n",
    "elif year % 12 == 6:\n",
    "    animal = \"Kaplan\"\n",
    "elif year % 12 == 7:\n",
    "    animal = \"Tavşan\"\n",
    "print(\"Burcunuz :\",animal)  "
   ]
  },
  {
   "cell_type": "code",
   "execution_count": 78,
   "id": "ffbeb2bf",
   "metadata": {},
   "outputs": [
    {
     "name": "stdout",
     "output_type": "stream",
     "text": [
      "Sayıyı Girin : 15\n"
     ]
    }
   ],
   "source": [
    "while True:\n",
    "    sayi = (input(\"Sayıyı Girin : \"))\n",
    "    if sayi.isdigit() == True:\n",
    "        sayi =int(sayi) \n",
    "    break\n",
    "    if sayi > 1:\n",
    "        for i in range(2,sayi):\n",
    "            if sayi % i == 0:\n",
    "                print(sayi,\" Asal Sayı Değildir.\")\n",
    "                break\n",
    "        else:\n",
    "            print(sayi,\" Asal Sayıdır.\")\n",
    "    else:\n",
    "        print(sayi,\" Asal Sayı Değildir.\")"
   ]
  },
  {
   "cell_type": "code",
   "execution_count": 84,
   "id": "55e56cd1",
   "metadata": {},
   "outputs": [
    {
     "name": "stdout",
     "output_type": "stream",
     "text": [
      "Sayıyı Girin : 23\n",
      "23  Asal Sayıdır.\n"
     ]
    }
   ],
   "source": [
    "sayi = int(input(\"Sayıyı Girin : \"))\n",
    "    \n",
    "if sayi > 1:\n",
    "    for i in range(2,sayi):\n",
    "        if sayi % i == 0:\n",
    "            print(sayi,\" Asal Sayı Değildir.\")\n",
    "            break\n",
    "    else:\n",
    "        print(sayi,\" Asal Sayıdır.\")\n",
    "else:\n",
    "    print(sayi,\" Asal Sayı Değildir.\")"
   ]
  },
  {
   "cell_type": "code",
   "execution_count": 87,
   "id": "9fdeb51e",
   "metadata": {},
   "outputs": [
    {
     "name": "stdout",
     "output_type": "stream",
     "text": [
      "Type 'ok' when you are done: 2\n",
      "Type 'ok' when you are done: 1\n",
      "Type 'ok' when you are done: 5\n",
      "Type 'ok' when you are done: 4\n",
      "Type 'ok' when you are done: 6\n",
      "Type 'ok' when you are done: 2\n",
      "Type 'ok' when you are done: 5\n",
      "Type 'ok' when you are done: 5\n",
      "Type 'ok' when you are done: 4\n",
      "Type 'ok' when you are done: 54\n",
      "Type 'ok' when you are done: 6\n",
      "Type 'ok' when you are done: 5\n",
      "Type 'ok' when you are done: 2\n",
      "Type 'ok' when you are done: 1\n",
      "Type 'ok' when you are done: 5\n",
      "Type 'ok' when you are done: ok\n",
      "Water-trapped area :  17\n"
     ]
    }
   ],
   "source": [
    "height = []\n",
    "while True:\n",
    "    num = input(\"Type 'ok' when you are done: \")\n",
    "    if num != \"ok\":\n",
    "        height.append(int(num))\n",
    "    else:\n",
    "        break\n",
    "areas = 0\n",
    "max_l = max_r = 0\n",
    "l = 0\n",
    "r = len(height)-1\n",
    "while l < r:\n",
    "    if height[l] < height[r]:\n",
    "        if height[l] > max_l:\n",
    "            max_l = height[l]\n",
    "        else:\n",
    "            areas += max_l - height[l]\n",
    "        l += 1\n",
    "    else:\n",
    "        if height[r] > max_r:\n",
    "            max_r = height[r]\n",
    "        else:\n",
    "            areas += max_r - height[r]\n",
    "        r -= 1\n",
    "print(\"Water-trapped area : \", areas)"
   ]
  },
  {
   "cell_type": "code",
   "execution_count": 132,
   "id": "c10243ac",
   "metadata": {},
   "outputs": [
    {
     "name": "stdout",
     "output_type": "stream",
     "text": [
      "Enter a text here > Galatasaray\n",
      "With what you want to replace the vowels > e\n",
      "Geleteserey"
     ]
    }
   ],
   "source": [
    "text = input('Enter a text here > ')\n",
    "replacer = input('With what you want to replace the vowels > ')\n",
    "liste = []\n",
    "for i in text:\n",
    "    if i in ['a', 'e' ,'i' ,'u', 'o']:\n",
    "        i = replacer\n",
    "    liste.append(i)\n",
    "for i in liste:\n",
    "    print(i, end = '')"
   ]
  },
  {
   "cell_type": "code",
   "execution_count": 139,
   "id": "7e261256",
   "metadata": {},
   "outputs": [
    {
     "name": "stdout",
     "output_type": "stream",
     "text": [
      "Enter a number for the game screen > 5\n",
      "The screen runs out of space after the snake eats 4 number of times.\n"
     ]
    }
   ],
   "source": [
    "num = int(input('Enter a number for the game screen > '))\n",
    "sayac = 0\n",
    "while num ** 2 > 2 ** (sayac + 1):\n",
    "    sayac += 1\n",
    "print('The screen runs out of space after the snake eats {} number of times.'.format(sayac))"
   ]
  },
  {
   "cell_type": "code",
   "execution_count": 142,
   "id": "c69e3a14",
   "metadata": {},
   "outputs": [
    {
     "name": "stdout",
     "output_type": "stream",
     "text": [
      "Enter a word > abba\n",
      "Enter a word for the word list or 'q' to quit > baba\n",
      "Enter a word for the word list or 'q' to quit > baab\n",
      "Enter a word for the word list or 'q' to quit > baabb\n",
      "Enter a word for the word list or 'q' to quit > q\n",
      "['baba', 'baab']\n"
     ]
    }
   ],
   "source": [
    "listt_1 = []\n",
    "inp1 = input('Enter a word > ')\n",
    "while True:\n",
    "    inp2 = input(\"Enter a word for the word list or 'q' to quit > \")\n",
    "    if inp2.lower() == 'q':\n",
    "        break\n",
    "    else:\n",
    "        listt_1.append(inp2)\n",
    "listt_2 = []\n",
    "sonuc = True\n",
    "for i in listt_1:\n",
    "    if set(i) == set(inp1):\n",
    "        for j in i:\n",
    "            if i.count(j) != inp1.count(j):\n",
    "                sonuc = False\n",
    "        if sonuc:\n",
    "            if i not in listt_2:\n",
    "                listt_2.append(i)\n",
    "print(listt_2)"
   ]
  },
  {
   "cell_type": "code",
   "execution_count": 143,
   "id": "6868205a",
   "metadata": {},
   "outputs": [
    {
     "name": "stdout",
     "output_type": "stream",
     "text": [
      "[8, 12, 14, 32, 38, 40]\n"
     ]
    }
   ],
   "source": [
    "num = [48, 10, 11, 21, 36, 5, 6, 52, 28, 29, 53, 54, 45, 19, 20, 47, 55, 39, 41, 7, 9, 17, 26, 27, 42, 22, 37, 51, 46, 18, 44, 30, 34, 13, 15, 35, 33, 16, 50, 24]\n",
    "num.sort()\n",
    "minimum = min(num)\n",
    "maximum = max(num)\n",
    "new_list = []\n",
    "for i in range(minimum, maximum + 1):\n",
    "    if i not in num and i % 2 == 0:\n",
    "        new_list.append(i)\n",
    "print(new_list)"
   ]
  },
  {
   "cell_type": "code",
   "execution_count": 144,
   "id": "930f88d2",
   "metadata": {},
   "outputs": [
    {
     "name": "stdout",
     "output_type": "stream",
     "text": [
      "*\n",
      "**\n",
      "***\n",
      "****\n",
      "*****\n",
      "****\n",
      "***\n",
      "**\n",
      "*\n"
     ]
    }
   ],
   "source": [
    "star = '*'\n",
    "a, b, c = 1, 6, 1\n",
    "for i in range(2):\n",
    "    for j in range(a, b, c):\n",
    "        print(star * j)\n",
    "        if j == 5:\n",
    "            a, b, c = 4, 0, -1"
   ]
  },
  {
   "cell_type": "code",
   "execution_count": 145,
   "id": "4edf3083",
   "metadata": {},
   "outputs": [
    {
     "name": "stdout",
     "output_type": "stream",
     "text": [
      "\n",
      "*\n",
      "**\n",
      "***\n",
      "****\n",
      "*****\n",
      "****\n",
      "***\n",
      "**\n",
      "*\n"
     ]
    }
   ],
   "source": [
    "y=\"\"\n",
    "z=\"\"\n",
    "for j in range(0,6):\n",
    "    y=j*\"*\"\n",
    "    print(y)\n",
    "for k in range(4,0,-1):\n",
    "    z=k*\"*\"    \n",
    "    print(z)"
   ]
  },
  {
   "cell_type": "code",
   "execution_count": 146,
   "id": "b321e3b1",
   "metadata": {},
   "outputs": [
    {
     "name": "stdout",
     "output_type": "stream",
     "text": [
      "* \n",
      "* * \n",
      "* * * \n",
      "* * * * \n",
      "* * * * * \n",
      "* * * * \n",
      "* * * \n",
      "* * \n",
      "* \n"
     ]
    }
   ],
   "source": [
    "for i in [1,2,3,4,5,4,3,2,1]:\n",
    "    for j in range(i):\n",
    "        print(\"*\",end=\" \")\n",
    "    print()"
   ]
  },
  {
   "cell_type": "code",
   "execution_count": 147,
   "id": "55de836f",
   "metadata": {},
   "outputs": [
    {
     "name": "stdout",
     "output_type": "stream",
     "text": [
      "Enter a number please: 7571\n",
      "1757"
     ]
    }
   ],
   "source": [
    "num = int(input(\"Enter a number please: \"))\n",
    "for i in reversed(str(num)):\n",
    "    print(i, end = \"\")"
   ]
  },
  {
   "cell_type": "code",
   "execution_count": 149,
   "id": "035880f0",
   "metadata": {},
   "outputs": [
    {
     "name": "stdout",
     "output_type": "stream",
     "text": [
      "1\n",
      "2\n",
      "fizz\n",
      "4\n",
      "buzz\n",
      "fizz\n",
      "7\n",
      "8\n",
      "fizz\n",
      "buzz\n",
      "11\n",
      "fizz\n",
      "13\n",
      "14\n",
      "fizzbuzz\n",
      "16\n",
      "17\n",
      "fizz\n",
      "19\n",
      "buzz\n",
      "fizz\n",
      "22\n",
      "23\n",
      "fizz\n",
      "buzz\n",
      "26\n",
      "fizz\n",
      "28\n",
      "29\n",
      "fizzbuzz\n",
      "31\n",
      "32\n",
      "fizz\n",
      "34\n",
      "buzz\n",
      "fizz\n",
      "37\n",
      "38\n",
      "fizz\n",
      "buzz\n",
      "41\n",
      "fizz\n",
      "43\n",
      "44\n",
      "fizzbuzz\n",
      "46\n",
      "47\n",
      "fizz\n",
      "49\n",
      "buzz\n"
     ]
    }
   ],
   "source": [
    "for fizzbuzz in range(1,51):\n",
    "    if fizzbuzz % 3 == 0 and fizzbuzz % 5 == 0:\n",
    "        print(\"fizzbuzz\")\n",
    "        continue\n",
    "    elif fizzbuzz % 3 == 0:\n",
    "        print(\"fizz\")\n",
    "        continue\n",
    "    elif fizzbuzz % 5 == 0:\n",
    "        print(\"buzz\")\n",
    "        continue\n",
    "    print(fizzbuzz)"
   ]
  },
  {
   "cell_type": "code",
   "execution_count": 151,
   "id": "ee8039d1",
   "metadata": {},
   "outputs": [
    {
     "name": "stdout",
     "output_type": "stream",
     "text": [
      "x : 6\n",
      "y : 8\n",
      "z : 10\n",
      "scalene triangle\n"
     ]
    }
   ],
   "source": [
    "x = int(input(\"x : \"))\n",
    "y = int(input(\"y : \"))\n",
    "z = int(input(\"z : \"))\n",
    "if x == y == z :\n",
    "    print(\"equilateral triangle\")\n",
    "elif x == y or y == z or x == z :\n",
    "    print(\"isosceles triangle\")\n",
    "else:\n",
    "    print(\"scalene triangle\")"
   ]
  },
  {
   "cell_type": "code",
   "execution_count": null,
   "id": "4882b8b3",
   "metadata": {},
   "outputs": [],
   "source": []
  },
  {
   "cell_type": "code",
   "execution_count": null,
   "id": "29bd3296",
   "metadata": {},
   "outputs": [],
   "source": []
  },
  {
   "cell_type": "code",
   "execution_count": null,
   "id": "e51c3ff3",
   "metadata": {},
   "outputs": [],
   "source": []
  }
 ],
 "metadata": {
  "kernelspec": {
   "display_name": "Python 3",
   "language": "python",
   "name": "python3"
  },
  "language_info": {
   "codemirror_mode": {
    "name": "ipython",
    "version": 3
   },
   "file_extension": ".py",
   "mimetype": "text/x-python",
   "name": "python",
   "nbconvert_exporter": "python",
   "pygments_lexer": "ipython3",
   "version": "3.8.8"
  }
 },
 "nbformat": 4,
 "nbformat_minor": 5
}
