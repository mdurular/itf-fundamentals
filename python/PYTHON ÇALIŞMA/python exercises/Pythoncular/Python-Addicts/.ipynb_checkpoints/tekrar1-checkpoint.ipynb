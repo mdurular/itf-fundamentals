{
 "cells": [
  {
   "cell_type": "code",
   "execution_count": 7,
   "id": "6225331a",
   "metadata": {},
   "outputs": [
    {
     "name": "stdout",
     "output_type": "stream",
     "text": [
      "<zip object at 0x00000225CA0600C0>\n"
     ]
    }
   ],
   "source": [
    "text = ['one','two','three','four','five']\n",
    "numbers = [1, 2, 3, 4, 5]\n",
    "city = [\"Tokyo\", \"Kiev\", \"Mekke\", \"İstanbul\", \"Washington\"]\n",
    "print(zip(text, numbers))"
   ]
  },
  {
   "cell_type": "code",
   "execution_count": 8,
   "id": "0d9591a1",
   "metadata": {},
   "outputs": [
    {
     "data": {
      "text/plain": [
       "[('one', 1), ('two', 2), ('three', 3), ('four', 4), ('five', 5)]"
      ]
     },
     "execution_count": 8,
     "metadata": {},
     "output_type": "execute_result"
    }
   ],
   "source": [
    "list(zip(text, numbers))"
   ]
  },
  {
   "cell_type": "code",
   "execution_count": 6,
   "id": "6a1c831b",
   "metadata": {},
   "outputs": [
    {
     "name": "stdout",
     "output_type": "stream",
     "text": [
      "('one', 1) ('two', 2) ('three', 3) ('four', 4) ('five', 5)\n"
     ]
    }
   ],
   "source": [
    "print(* zip(text, numbers))"
   ]
  },
  {
   "cell_type": "code",
   "execution_count": 9,
   "id": "5d90d372",
   "metadata": {},
   "outputs": [
    {
     "name": "stdout",
     "output_type": "stream",
     "text": [
      "('one', 1, 'Tokyo') ('two', 2, 'Kiev') ('three', 3, 'Mekke') ('four', 4, 'İstanbul') ('five', 5, 'Washington')\n"
     ]
    }
   ],
   "source": [
    "print(* zip(text, numbers, city))"
   ]
  },
  {
   "cell_type": "code",
   "execution_count": 10,
   "id": "e4340ff2",
   "metadata": {},
   "outputs": [
    {
     "name": "stdout",
     "output_type": "stream",
     "text": [
      "[0, 2, 4, 6, 8]\n",
      "[1, 3, 5, 7, 9]\n"
     ]
    }
   ],
   "source": [
    "evens = []\n",
    "odd = []\n",
    "\n",
    "for n in range(10) :\n",
    "    if n%2 == 0 :\n",
    "        evens.append(n)\n",
    "    else :\n",
    "        odd.append(n)\n",
    "print(evens)\n",
    "print(odd)"
   ]
  },
  {
   "cell_type": "code",
   "execution_count": 14,
   "id": "dddffe67",
   "metadata": {},
   "outputs": [
    {
     "name": "stdout",
     "output_type": "stream",
     "text": [
      "The count of even numbers :  5\n",
      "The count of odd numbers :  4\n"
     ]
    }
   ],
   "source": [
    "numbers = [11, 36, 33, 66, 89, 21, 32, 16, 10]\n",
    "evens = 0\n",
    "odds = 0\n",
    "\n",
    "for i in numbers :\n",
    "    if not i%2 :\n",
    "        evens += 1\n",
    "    else:\n",
    "        odds += 1\n",
    "        \n",
    "print(\"The count of even numbers : \", evens)\n",
    "print(\"The count of odd numbers : \", odds)"
   ]
  },
  {
   "cell_type": "markdown",
   "id": "7c478f28",
   "metadata": {},
   "source": [
    "if 1:\n",
    "    print(\"çalışır\")\n",
    "    \n",
    "if 0:\n",
    "    print(\"beni göremezsin\")"
   ]
  },
  {
   "cell_type": "code",
   "execution_count": 18,
   "id": "3063abbb",
   "metadata": {},
   "outputs": [
    {
     "name": "stdout",
     "output_type": "stream",
     "text": [
      "1\n",
      "22\n",
      "333\n",
      "4444\n",
      "55555\n",
      "666666\n",
      "7777777\n",
      "88888888\n",
      "999999999\n"
     ]
    }
   ],
   "source": [
    "for i in range(1,10) :\n",
    "    print(str(i) * i)"
   ]
  },
  {
   "cell_type": "code",
   "execution_count": 23,
   "id": "46e1eabd",
   "metadata": {},
   "outputs": [
    {
     "name": "stdout",
     "output_type": "stream",
     "text": [
      "susan is happy\n",
      "susan is happy\n",
      "susan is sad\n",
      "susan is sad\n",
      "tom is happy\n",
      "tom is happy\n",
      "tom is sad\n",
      "tom is sad\n",
      "edward is happy\n",
      "edward is happy\n",
      "edward is sad\n",
      "edward is sad\n"
     ]
    }
   ],
   "source": [
    "names = [\"susan\", \"tom\", \"edward\"] \n",
    "mood = [\"happy\", \"sad\"]\n",
    "for i in names :\n",
    "    for ii in mood :\n",
    "        print(i + \" is \" + ii)\n",
    "        print(i, \"is\", ii)"
   ]
  },
  {
   "cell_type": "code",
   "execution_count": 25,
   "id": "c900e866",
   "metadata": {},
   "outputs": [
    {
     "data": {
      "text/plain": [
       "[1, 9, 25]"
      ]
     },
     "execution_count": 25,
     "metadata": {},
     "output_type": "execute_result"
    }
   ],
   "source": [
    "my_list = [1, 2, 3, 4, 5, 6]\n",
    "new_list = []\n",
    "for i in my_list :\n",
    "    if i % 2 :\n",
    "        new_list.append(i ** 2)\n",
    "new_list"
   ]
  },
  {
   "cell_type": "code",
   "execution_count": 29,
   "id": "45d02f4a",
   "metadata": {},
   "outputs": [
    {
     "data": {
      "text/plain": [
       "[1, 9, 25]"
      ]
     },
     "execution_count": 29,
     "metadata": {},
     "output_type": "execute_result"
    }
   ],
   "source": [
    "bos =[]\n",
    "bos.append(my_list[0] ** 2)\n",
    "bos\n",
    "bos.append(my_list[2] ** 2)\n",
    "bos.append(my_list[4] ** 2)\n",
    "bos"
   ]
  },
  {
   "cell_type": "markdown",
   "id": "37b2ecbf",
   "metadata": {},
   "source": [
    "# \"list comprehension\"ların temel yapısı :\n",
    "    [expression for item in iterable]\n",
    "\n",
    "```python\n",
    "    for item in iterable :\n",
    "        expression\n",
    "```"
   ]
  },
  {
   "cell_type": "code",
   "execution_count": 30,
   "id": "ab4266db",
   "metadata": {},
   "outputs": [
    {
     "data": {
      "text/plain": [
       "[0, 1, 2, 3, 4]"
      ]
     },
     "execution_count": 30,
     "metadata": {},
     "output_type": "execute_result"
    }
   ],
   "source": [
    "listem = []\n",
    "for i in range(5):\n",
    "    listem.append(i)\n",
    "listem"
   ]
  },
  {
   "cell_type": "code",
   "execution_count": 32,
   "id": "476e0d16",
   "metadata": {},
   "outputs": [
    {
     "data": {
      "text/plain": [
       "[0, 1, 4, 9, 16]"
      ]
     },
     "execution_count": 32,
     "metadata": {},
     "output_type": "execute_result"
    }
   ],
   "source": [
    "[i for i in range(5)]\n",
    "[i**2 for i in range(5)]"
   ]
  },
  {
   "cell_type": "code",
   "execution_count": 36,
   "id": "4bdf1b3c",
   "metadata": {},
   "outputs": [
    {
     "data": {
      "text/plain": [
       "[0, 2, 4, 6, 8]"
      ]
     },
     "execution_count": 36,
     "metadata": {},
     "output_type": "execute_result"
    }
   ],
   "source": [
    "[i for i in range(10) if i % 2 == 0]"
   ]
  },
  {
   "cell_type": "code",
   "execution_count": 45,
   "id": "33fbc866",
   "metadata": {},
   "outputs": [],
   "source": [
    "liste = [[1, 2, 3],\n",
    "[4, 5, 6],\n",
    "[7, 8, 9],\n",
    "[10, 11, 12]]"
   ]
  },
  {
   "cell_type": "code",
   "execution_count": 47,
   "id": "068ebc74",
   "metadata": {},
   "outputs": [
    {
     "name": "stdout",
     "output_type": "stream",
     "text": [
      "[1, 2, 3, 4, 5, 6, 7, 8, 9, 10, 11, 12]\n"
     ]
    }
   ],
   "source": [
    "lst1 = []\n",
    "for i in liste:\n",
    "    for z in i:\n",
    "        lst1 += [z]\n",
    "print(lst1)"
   ]
  },
  {
   "cell_type": "code",
   "execution_count": 48,
   "id": "19b9c625",
   "metadata": {},
   "outputs": [
    {
     "name": "stdout",
     "output_type": "stream",
     "text": [
      "[1, 2, 3, 4, 5, 6, 7, 8, 9, 10, 11, 12]\n"
     ]
    }
   ],
   "source": [
    "lst2 = [z for i in liste for z in i]\n",
    "print(lst2)"
   ]
  },
  {
   "cell_type": "code",
   "execution_count": 49,
   "id": "af66803e",
   "metadata": {},
   "outputs": [
    {
     "name": "stdout",
     "output_type": "stream",
     "text": [
      "1\n"
     ]
    }
   ],
   "source": [
    "condition = True\n",
    "if condition :\n",
    "    a = 1\n",
    "else :\n",
    "    a = 0\n",
    "print(a)"
   ]
  },
  {
   "cell_type": "code",
   "execution_count": 51,
   "id": "d762a226",
   "metadata": {},
   "outputs": [
    {
     "name": "stdout",
     "output_type": "stream",
     "text": [
      "1\n"
     ]
    }
   ],
   "source": [
    "a = 1 if 2 < 4 else 0\n",
    "print(a)"
   ]
  },
  {
   "cell_type": "code",
   "execution_count": 55,
   "id": "4c373526",
   "metadata": {},
   "outputs": [
    {
     "name": "stdout",
     "output_type": "stream",
     "text": [
      "1\n",
      "0\n",
      "1\n"
     ]
    }
   ],
   "source": [
    "a = 1 if 2 < 4 else 0\n",
    "print(a)\n",
    "print(1 if False else 0)\n",
    "print(1 if True else 0)"
   ]
  },
  {
   "cell_type": "markdown",
   "id": "be63d0d1",
   "metadata": {},
   "source": [
    "## ternary `if ` condition yapısı\n",
    "\n",
    "```python\n",
    "execute-body1 if condition else execute-body2\n",
    "```"
   ]
  },
  {
   "cell_type": "code",
   "execution_count": 56,
   "id": "b47eaf32",
   "metadata": {},
   "outputs": [
    {
     "data": {
      "text/plain": [
       "[1, 9, 25]"
      ]
     },
     "execution_count": 56,
     "metadata": {},
     "output_type": "execute_result"
    }
   ],
   "source": [
    "my_list = [1, 2, 3, 4, 5, 6]\n",
    "[i ** 2 for i in my_list if i%2]"
   ]
  },
  {
   "cell_type": "code",
   "execution_count": 60,
   "id": "70477510",
   "metadata": {},
   "outputs": [
    {
     "data": {
      "text/plain": [
       "[1, 9, 25, 1, 9, 25, 1, 9, 25, 1, 9, 25]"
      ]
     },
     "execution_count": 60,
     "metadata": {},
     "output_type": "execute_result"
    }
   ],
   "source": [
    "for i in my_list :\n",
    "    if i % 2 :\n",
    "        new_list.append(i ** 2)\n",
    "new_list"
   ]
  },
  {
   "cell_type": "code",
   "execution_count": 62,
   "id": "f533514e",
   "metadata": {},
   "outputs": [
    {
     "data": {
      "text/plain": [
       "[4, 16, 36]"
      ]
     },
     "execution_count": 62,
     "metadata": {},
     "output_type": "execute_result"
    }
   ],
   "source": [
    "[i ** 2 for i in my_list if not i%2]\n",
    "a = [i ** 2 for i in my_list if not i%2]\n",
    "a"
   ]
  },
  {
   "cell_type": "code",
   "execution_count": 63,
   "id": "d5acd213",
   "metadata": {},
   "outputs": [
    {
     "data": {
      "text/plain": [
       "<generator object <genexpr> at 0x00000225CA105120>"
      ]
     },
     "execution_count": 63,
     "metadata": {},
     "output_type": "execute_result"
    }
   ],
   "source": [
    "a = (i**2 for i in my_list)\n",
    "a"
   ]
  },
  {
   "cell_type": "code",
   "execution_count": 64,
   "id": "b9aee796",
   "metadata": {},
   "outputs": [
    {
     "name": "stdout",
     "output_type": "stream",
     "text": [
      "1 4 9 16 25 36\n"
     ]
    }
   ],
   "source": [
    "print(*a)"
   ]
  },
  {
   "cell_type": "code",
   "execution_count": 70,
   "id": "9e06a427",
   "metadata": {},
   "outputs": [],
   "source": [
    "for i in a:\n",
    "    print(i)    "
   ]
  },
  {
   "cell_type": "code",
   "execution_count": 71,
   "id": "2d7c35bc",
   "metadata": {},
   "outputs": [
    {
     "name": "stdout",
     "output_type": "stream",
     "text": [
      "1\n"
     ]
    }
   ],
   "source": [
    "a = (i**2 for i in my_list)\n",
    "\n",
    "print(next(a))"
   ]
  },
  {
   "cell_type": "code",
   "execution_count": 72,
   "id": "441ba8a1",
   "metadata": {},
   "outputs": [
    {
     "name": "stdout",
     "output_type": "stream",
     "text": [
      "4\n"
     ]
    }
   ],
   "source": [
    "print(next(a))"
   ]
  },
  {
   "cell_type": "code",
   "execution_count": 73,
   "id": "7b371389",
   "metadata": {},
   "outputs": [
    {
     "name": "stdout",
     "output_type": "stream",
     "text": [
      "9\n"
     ]
    }
   ],
   "source": [
    "print(next(a))"
   ]
  },
  {
   "cell_type": "code",
   "execution_count": 74,
   "id": "2556dfa6",
   "metadata": {},
   "outputs": [
    {
     "name": "stdout",
     "output_type": "stream",
     "text": [
      "0 1 2 3 4\n"
     ]
    }
   ],
   "source": [
    "print(*range(5))"
   ]
  },
  {
   "cell_type": "code",
   "execution_count": 75,
   "id": "84a3443a",
   "metadata": {},
   "outputs": [
    {
     "data": {
      "text/plain": [
       "False"
      ]
     },
     "execution_count": 75,
     "metadata": {},
     "output_type": "execute_result"
    }
   ],
   "source": [
    "all([\"\", \"dolu\", 1])"
   ]
  },
  {
   "cell_type": "code",
   "execution_count": 79,
   "id": "d8f5a413",
   "metadata": {},
   "outputs": [
    {
     "data": {
      "text/plain": [
       "True"
      ]
     },
     "execution_count": 79,
     "metadata": {},
     "output_type": "execute_result"
    }
   ],
   "source": [
    "all(())\n",
    "all({})\n",
    "all([])"
   ]
  },
  {
   "cell_type": "code",
   "execution_count": 80,
   "id": "8ea364fc",
   "metadata": {},
   "outputs": [
    {
     "data": {
      "text/plain": [
       "False"
      ]
     },
     "execution_count": 80,
     "metadata": {},
     "output_type": "execute_result"
    }
   ],
   "source": [
    "all([\"\"])\n",
    "all([[]])"
   ]
  },
  {
   "cell_type": "code",
   "execution_count": 86,
   "id": "1065fa14",
   "metadata": {},
   "outputs": [
    {
     "name": "stdout",
     "output_type": "stream",
     "text": [
      "87 99 98 100 80\n",
      "[87, 99, 98, 100, 80]\n"
     ]
    },
    {
     "data": {
      "text/plain": [
       "[87, 99, 98, 100, 80]"
      ]
     },
     "execution_count": 86,
     "metadata": {},
     "output_type": "execute_result"
    }
   ],
   "source": [
    "notlar = {'Ahmet' : 60,\n",
    "        'Sinan' : 50,\n",
    "        'Mehmet' : 45,\n",
    "        'Ceren' : 87,\n",
    "        'Selen' : 99,\n",
    "        'Cem' : 98,\n",
    "        'Can' : 51,\n",
    "        'Kezban' : 100,\n",
    "        'Hakan' : 66,\n",
    "        'Mahmut' : 80}\n",
    "def süz(n):\n",
    "    return n >= 70\n",
    "print(*filter(süz, notlar.values()))\n",
    "print(list(filter(süz, notlar.values())))\n",
    "[i for i in filter(süz, notlar.values())]"
   ]
  },
  {
   "cell_type": "code",
   "execution_count": 88,
   "id": "60b8b30c",
   "metadata": {},
   "outputs": [
    {
     "name": "stdout",
     "output_type": "stream",
     "text": [
      "B\n"
     ]
    }
   ],
   "source": [
    "def not_durumu(n):\n",
    "    if n in range(0, 50): return 'F'\n",
    "    if n in range(50, 70): return 'D'\n",
    "    if n in range(70, 80): return 'C'\n",
    "    if n in range(80, 90): return 'B'\n",
    "    if n in range(90, 101): return 'A'\n",
    "print(not_durumu(85))"
   ]
  },
  {
   "cell_type": "code",
   "execution_count": 89,
   "id": "3d9a9cb1",
   "metadata": {},
   "outputs": [
    {
     "data": {
      "text/plain": [
       "<filter at 0x225ca014190>"
      ]
     },
     "execution_count": 89,
     "metadata": {},
     "output_type": "execute_result"
    }
   ],
   "source": [
    "listem = [None, \"0\", \"istanbul\", ()]\n",
    "filtered = filter(None, listem)\n",
    "filtered"
   ]
  },
  {
   "cell_type": "code",
   "execution_count": 90,
   "id": "10e13dd8",
   "metadata": {},
   "outputs": [
    {
     "name": "stdout",
     "output_type": "stream",
     "text": [
      "0 istanbul\n"
     ]
    }
   ],
   "source": [
    "print(* filtered)"
   ]
  },
  {
   "cell_type": "code",
   "execution_count": 91,
   "id": "315ddb28",
   "metadata": {},
   "outputs": [
    {
     "name": "stdout",
     "output_type": "stream",
     "text": [
      "0\n",
      "istanbul\n"
     ]
    }
   ],
   "source": [
    "filtered = filter(None, listem)\n",
    "for i in filtered :\n",
    "    print(i)"
   ]
  },
  {
   "cell_type": "code",
   "execution_count": 92,
   "id": "6fb246a0",
   "metadata": {},
   "outputs": [
    {
     "data": {
      "text/plain": [
       "enumerate"
      ]
     },
     "execution_count": 92,
     "metadata": {},
     "output_type": "execute_result"
    }
   ],
   "source": [
    "enum = enumerate(listem)\n",
    "type(enum)"
   ]
  },
  {
   "cell_type": "code",
   "execution_count": 93,
   "id": "e4884e61",
   "metadata": {},
   "outputs": [
    {
     "data": {
      "text/plain": [
       "<enumerate at 0x225ca06b0c0>"
      ]
     },
     "execution_count": 93,
     "metadata": {},
     "output_type": "execute_result"
    }
   ],
   "source": [
    "enum"
   ]
  },
  {
   "cell_type": "code",
   "execution_count": 94,
   "id": "74e80246",
   "metadata": {},
   "outputs": [
    {
     "name": "stdout",
     "output_type": "stream",
     "text": [
      "(0, None) (1, '0') (2, 'istanbul') (3, ())\n"
     ]
    }
   ],
   "source": [
    "print(* enum)"
   ]
  },
  {
   "cell_type": "code",
   "execution_count": 96,
   "id": "67b9b663",
   "metadata": {},
   "outputs": [
    {
     "data": {
      "text/plain": [
       "'a'"
      ]
     },
     "execution_count": 96,
     "metadata": {},
     "output_type": "execute_result"
    }
   ],
   "source": [
    "min(\"ahmet\")"
   ]
  },
  {
   "cell_type": "code",
   "execution_count": 103,
   "id": "6bd83390",
   "metadata": {},
   "outputs": [
    {
     "data": {
      "text/plain": [
       "97"
      ]
     },
     "execution_count": 103,
     "metadata": {},
     "output_type": "execute_result"
    }
   ],
   "source": [
    "ord(\"a\")"
   ]
  },
  {
   "cell_type": "code",
   "execution_count": 97,
   "id": "ad463ac2",
   "metadata": {},
   "outputs": [
    {
     "data": {
      "text/plain": [
       "'t'"
      ]
     },
     "execution_count": 97,
     "metadata": {},
     "output_type": "execute_result"
    }
   ],
   "source": [
    "max(\"ahmet\")"
   ]
  },
  {
   "cell_type": "code",
   "execution_count": 99,
   "id": "86a17c88",
   "metadata": {},
   "outputs": [
    {
     "data": {
      "text/plain": [
       "116"
      ]
     },
     "execution_count": 99,
     "metadata": {},
     "output_type": "execute_result"
    }
   ],
   "source": [
    "ord(\"t\")"
   ]
  },
  {
   "cell_type": "code",
   "execution_count": 106,
   "id": "a997718c",
   "metadata": {},
   "outputs": [
    {
     "data": {
      "text/plain": [
       "15"
      ]
     },
     "execution_count": 106,
     "metadata": {},
     "output_type": "execute_result"
    }
   ],
   "source": [
    "sum([1,2,3,4,5])"
   ]
  },
  {
   "cell_type": "code",
   "execution_count": 107,
   "id": "26f49850",
   "metadata": {},
   "outputs": [
    {
     "ename": "TypeError",
     "evalue": "sum() takes at most 2 arguments (5 given)",
     "output_type": "error",
     "traceback": [
      "\u001b[1;31m---------------------------------------------------------------------------\u001b[0m",
      "\u001b[1;31mTypeError\u001b[0m                                 Traceback (most recent call last)",
      "\u001b[1;32m<ipython-input-107-3f6d0bc3c9eb>\u001b[0m in \u001b[0;36m<module>\u001b[1;34m\u001b[0m\n\u001b[1;32m----> 1\u001b[1;33m \u001b[0msum\u001b[0m\u001b[1;33m(\u001b[0m\u001b[1;36m1\u001b[0m\u001b[1;33m,\u001b[0m\u001b[1;36m2\u001b[0m\u001b[1;33m,\u001b[0m\u001b[1;36m3\u001b[0m\u001b[1;33m,\u001b[0m\u001b[1;36m4\u001b[0m\u001b[1;33m,\u001b[0m\u001b[1;36m5\u001b[0m\u001b[1;33m)\u001b[0m\u001b[1;33m\u001b[0m\u001b[1;33m\u001b[0m\u001b[0m\n\u001b[0m",
      "\u001b[1;31mTypeError\u001b[0m: sum() takes at most 2 arguments (5 given)"
     ]
    }
   ],
   "source": [
    "sum(1,2,3,4,5)"
   ]
  },
  {
   "cell_type": "code",
   "execution_count": 110,
   "id": "3f44896b",
   "metadata": {},
   "outputs": [
    {
     "name": "stdout",
     "output_type": "stream",
     "text": [
      "amazing amazing amazing \n",
      "amazing amazing amazing \n"
     ]
    }
   ],
   "source": [
    "def multiply(a, b) :\n",
    "    print(a * b)\n",
    "multiply(\"amazing \", 3)\n",
    "print(\"amazing \" * 3)"
   ]
  },
  {
   "cell_type": "code",
   "execution_count": 111,
   "id": "671a6209",
   "metadata": {},
   "outputs": [
    {
     "name": "stdout",
     "output_type": "stream",
     "text": [
      "Duydum ki bizi bırakmaya azmediyorsun, etme.\n",
      "Başka bir yar, başka bir dosta meylediyorsun, etme.\n",
      "Sen yadeller dünyasında ne arıyorsun yabancı?\n",
      "Hangi hasta gönüllüyü kastediyorsun, etme.\n",
      "Çalma bizi, bizden bizi, gitme o ellere doğru.\n",
      "Çalınmış başkalarına nazar ediyorsun, etme.\n",
      "Ey ay, felek harab olmuş, altüst olmuş senin için...\n",
      "Bizi öyle harab, öyle altüst ediyorsun, etme.\n",
      "Ey, makamı var ve yokun üzerinde olan kişi,\n",
      "Sen varlık sahasını öyle terk ediyorsun, etme.\n",
      "Sen yüz çevirecek olsan, ay kapkara olur gamdan.\n"
     ]
    }
   ],
   "source": [
    "def mevlana() :\n",
    "    print(\"\"\"Duydum ki bizi bırakmaya azmediyorsun, etme.\n",
    "Başka bir yar, başka bir dosta meylediyorsun, etme.\n",
    "Sen yadeller dünyasında ne arıyorsun yabancı?\n",
    "Hangi hasta gönüllüyü kastediyorsun, etme.\n",
    "Çalma bizi, bizden bizi, gitme o ellere doğru.\n",
    "Çalınmış başkalarına nazar ediyorsun, etme.\n",
    "Ey ay, felek harab olmuş, altüst olmuş senin için...\n",
    "Bizi öyle harab, öyle altüst ediyorsun, etme.\n",
    "Ey, makamı var ve yokun üzerinde olan kişi,\n",
    "Sen varlık sahasını öyle terk ediyorsun, etme.\n",
    "Sen yüz çevirecek olsan, ay kapkara olur gamdan.\"\"\")\n",
    "mevlana()"
   ]
  },
  {
   "cell_type": "code",
   "execution_count": 113,
   "id": "a74349ed",
   "metadata": {},
   "outputs": [
    {
     "name": "stdout",
     "output_type": "stream",
     "text": [
      "4.0\n"
     ]
    }
   ],
   "source": [
    "def calculator(x, y, opr) :\n",
    "    if opr == \"+\" :\n",
    "        print(x + y)\n",
    "    elif opr == \"-\" :\n",
    "        print(x - y)\n",
    "    elif opr == \"*\" :\n",
    "        print(x * y)\n",
    "    elif opr == \"/\" :\n",
    "        print(x / y)\n",
    "    else:\n",
    "        print(\"Enter a valid operator!\")\n",
    "calculator(12, 3, \"/\")"
   ]
  },
  {
   "cell_type": "code",
   "execution_count": 116,
   "id": "dc0d7a5a",
   "metadata": {},
   "outputs": [
    {
     "name": "stdout",
     "output_type": "stream",
     "text": [
      "7\n",
      "9\n"
     ]
    },
    {
     "data": {
      "text/plain": [
       "9"
      ]
     },
     "execution_count": 116,
     "metadata": {},
     "output_type": "execute_result"
    }
   ],
   "source": [
    "def mul(x, y) :\n",
    "    return x+y\n",
    "\n",
    "aa = mul(2, 5)\n",
    "print(aa)\n",
    "\n",
    "\n",
    "print(mul(3,6))\n",
    "\n",
    "mul(3,6)"
   ]
  },
  {
   "cell_type": "code",
   "execution_count": 117,
   "id": "5dd19800",
   "metadata": {},
   "outputs": [
    {
     "name": "stdout",
     "output_type": "stream",
     "text": [
      "hello\n",
      "<class 'NoneType'>\n"
     ]
    }
   ],
   "source": [
    "print(type(print(\"hello\")))"
   ]
  },
  {
   "cell_type": "code",
   "execution_count": 119,
   "id": "27283342",
   "metadata": {},
   "outputs": [
    {
     "name": "stdout",
     "output_type": "stream",
     "text": [
      "<class 'int'>\n",
      "50\n"
     ]
    }
   ],
   "source": [
    "print(type(10*5))\n",
    "print(10*5)"
   ]
  },
  {
   "cell_type": "code",
   "execution_count": 121,
   "id": "25ea9d4c",
   "metadata": {},
   "outputs": [
    {
     "name": "stdout",
     "output_type": "stream",
     "text": [
      "ahmet\n"
     ]
    },
    {
     "data": {
      "text/plain": [
       "str"
      ]
     },
     "execution_count": 121,
     "metadata": {},
     "output_type": "execute_result"
    }
   ],
   "source": [
    "def string() :\n",
    "    return \"ahmet\"\n",
    "print(string())\n",
    "type(string())"
   ]
  },
  {
   "cell_type": "code",
   "execution_count": 122,
   "id": "c8694f57",
   "metadata": {},
   "outputs": [
    {
     "name": "stdout",
     "output_type": "stream",
     "text": [
      "15\n"
     ]
    },
    {
     "data": {
      "text/plain": [
       "int"
      ]
     },
     "execution_count": 122,
     "metadata": {},
     "output_type": "execute_result"
    }
   ],
   "source": [
    "def integer() :\n",
    "    return 15\n",
    "print(integer())\n",
    "type(integer())"
   ]
  },
  {
   "cell_type": "code",
   "execution_count": 123,
   "id": "8ed6fca4",
   "metadata": {},
   "outputs": [
    {
     "name": "stdout",
     "output_type": "stream",
     "text": [
      "True\n"
     ]
    }
   ],
   "source": [
    "def boolean() :\n",
    "    return True\n",
    "type(boolean())\n",
    "print(boolean())"
   ]
  },
  {
   "cell_type": "code",
   "execution_count": 124,
   "id": "542d2484",
   "metadata": {},
   "outputs": [
    {
     "name": "stdout",
     "output_type": "stream",
     "text": [
      "ben çalıştım\n"
     ]
    }
   ],
   "source": [
    "if boolean():\n",
    "    print(\"ben çalıştım\")\n",
    "else :\n",
    "    print(\"beni rahatsız etmeyesen.\")"
   ]
  },
  {
   "cell_type": "code",
   "execution_count": 125,
   "id": "bd4629d5",
   "metadata": {},
   "outputs": [
    {
     "name": "stdout",
     "output_type": "stream",
     "text": [
      "[1, 2, 3, 4, 5]\n"
     ]
    }
   ],
   "source": [
    "def listem() :\n",
    "    return [1,2,3,4,5]\n",
    "print(listem())"
   ]
  },
  {
   "cell_type": "code",
   "execution_count": 126,
   "id": "552177b3",
   "metadata": {},
   "outputs": [
    {
     "name": "stdout",
     "output_type": "stream",
     "text": [
      "1\n",
      "2\n",
      "3\n",
      "4\n",
      "5\n"
     ]
    }
   ],
   "source": [
    "for i in listem() :\n",
    "    print(i)"
   ]
  },
  {
   "cell_type": "code",
   "execution_count": 128,
   "id": "80125ade",
   "metadata": {},
   "outputs": [
    {
     "data": {
      "text/plain": [
       "(1, 2, 3, 4, 5)"
      ]
     },
     "execution_count": 128,
     "metadata": {},
     "output_type": "execute_result"
    }
   ],
   "source": [
    "tuple(listem())\n",
    "tuple([1,2,3,4,5])"
   ]
  },
  {
   "cell_type": "code",
   "execution_count": 130,
   "id": "ead6db1c",
   "metadata": {},
   "outputs": [
    {
     "name": "stdout",
     "output_type": "stream",
     "text": [
      "Allahini seven yardima gelsin\n"
     ]
    }
   ],
   "source": [
    "if not 0 :\n",
    "    print(\"Allahini seven yardima gelsin\")"
   ]
  },
  {
   "cell_type": "code",
   "execution_count": 131,
   "id": "87fb5445",
   "metadata": {},
   "outputs": [
    {
     "data": {
      "text/plain": [
       "['hello']"
      ]
     },
     "execution_count": 131,
     "metadata": {},
     "output_type": "execute_result"
    }
   ],
   "source": [
    "def listem() :\n",
    "    return [\"hello\"]\n",
    "listem()"
   ]
  },
  {
   "cell_type": "code",
   "execution_count": 132,
   "id": "e1c02eb6",
   "metadata": {},
   "outputs": [],
   "source": [
    "def filterVowels(letter) :\n",
    "    vowels = [\"a\", \"e\", \"i\", \"o\", \"u\"]\n",
    "    \n",
    "    if letter.lower() in vowels :\n",
    "        return True\n",
    "    else :\n",
    "        return False"
   ]
  },
  {
   "cell_type": "code",
   "execution_count": 134,
   "id": "9cda1777",
   "metadata": {},
   "outputs": [],
   "source": [
    "vowels = [\"a\", \"e\", \"i\", \"o\", \"u\"]"
   ]
  },
  {
   "cell_type": "code",
   "execution_count": 135,
   "id": "01467999",
   "metadata": {},
   "outputs": [
    {
     "data": {
      "text/plain": [
       "False"
      ]
     },
     "execution_count": 135,
     "metadata": {},
     "output_type": "execute_result"
    }
   ],
   "source": [
    "\"b\" in vowels"
   ]
  },
  {
   "cell_type": "code",
   "execution_count": 136,
   "id": "d7356e71",
   "metadata": {},
   "outputs": [
    {
     "data": {
      "text/plain": [
       "True"
      ]
     },
     "execution_count": 136,
     "metadata": {},
     "output_type": "execute_result"
    }
   ],
   "source": [
    "filterVowels(\"U\")"
   ]
  },
  {
   "cell_type": "code",
   "execution_count": 137,
   "id": "35fa4088",
   "metadata": {},
   "outputs": [
    {
     "data": {
      "text/plain": [
       "True"
      ]
     },
     "execution_count": 137,
     "metadata": {},
     "output_type": "execute_result"
    }
   ],
   "source": [
    "\"a\" in vowels"
   ]
  },
  {
   "cell_type": "code",
   "execution_count": 141,
   "id": "79fc1aca",
   "metadata": {},
   "outputs": [
    {
     "name": "stdout",
     "output_type": "stream",
     "text": [
      "e a u a i e e\n"
     ]
    }
   ],
   "source": [
    "sentence = \"The Clarusway is the best.\"\n",
    "filtered_vowels = filter(filterVowels, sentence)\n",
    "print(* filtered_vowels)"
   ]
  },
  {
   "cell_type": "code",
   "execution_count": 140,
   "id": "01a74c8a",
   "metadata": {},
   "outputs": [],
   "source": []
  },
  {
   "cell_type": "code",
   "execution_count": null,
   "id": "25dfb5b9",
   "metadata": {},
   "outputs": [],
   "source": []
  },
  {
   "cell_type": "code",
   "execution_count": null,
   "id": "f1dc8848",
   "metadata": {},
   "outputs": [],
   "source": []
  },
  {
   "cell_type": "code",
   "execution_count": null,
   "id": "7401ccc6",
   "metadata": {},
   "outputs": [],
   "source": []
  },
  {
   "cell_type": "code",
   "execution_count": null,
   "id": "6b2a8fed",
   "metadata": {},
   "outputs": [],
   "source": []
  },
  {
   "cell_type": "code",
   "execution_count": null,
   "id": "18d4ec6f",
   "metadata": {},
   "outputs": [],
   "source": []
  }
 ],
 "metadata": {
  "kernelspec": {
   "display_name": "Python 3",
   "language": "python",
   "name": "python3"
  },
  "language_info": {
   "codemirror_mode": {
    "name": "ipython",
    "version": 3
   },
   "file_extension": ".py",
   "mimetype": "text/x-python",
   "name": "python",
   "nbconvert_exporter": "python",
   "pygments_lexer": "ipython3",
   "version": "3.8.8"
  }
 },
 "nbformat": 4,
 "nbformat_minor": 5
}
