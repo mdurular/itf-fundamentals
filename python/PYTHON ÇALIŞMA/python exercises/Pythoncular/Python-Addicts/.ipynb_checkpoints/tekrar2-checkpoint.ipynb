{
 "cells": [
  {
   "cell_type": "code",
   "execution_count": 2,
   "id": "7281c4af",
   "metadata": {},
   "outputs": [
    {
     "name": "stdout",
     "output_type": "stream",
     "text": [
      "3 is the first arg\n",
      "4 is the second arg\n",
      "4 is the first arg\n",
      "3 is the second arg\n"
     ]
    }
   ],
   "source": [
    "def pos_arg(a, b) :\n",
    "    print(a, \"is the first arg\")\n",
    "    print(b, \"is the second arg\")\n",
    "pos_arg(3, 4)\n",
    "pos_arg(4, 3)"
   ]
  },
  {
   "cell_type": "code",
   "execution_count": 3,
   "id": "bb1f7d82",
   "metadata": {},
   "outputs": [
    {
     "name": "stdout",
     "output_type": "stream",
     "text": [
      "second is the first arg\n",
      "first is the second arg\n"
     ]
    }
   ],
   "source": [
    "pos_arg(\"second\", \"first\")"
   ]
  },
  {
   "cell_type": "code",
   "execution_count": 4,
   "id": "00185feb",
   "metadata": {},
   "outputs": [
    {
     "name": "stdout",
     "output_type": "stream",
     "text": [
      "[1, 2, '1'] is the first arg\n",
      "{2, 44} is the second arg\n"
     ]
    }
   ],
   "source": [
    "pos_arg([1,2, \"1\"], {2,44})"
   ]
  },
  {
   "cell_type": "code",
   "execution_count": 8,
   "id": "0b50b0bb",
   "metadata": {},
   "outputs": [
    {
     "name": "stdout",
     "output_type": "stream",
     "text": [
      "istanbul erzurum \n",
      "istanbul erzurum \n"
     ]
    }
   ],
   "source": [
    "def concat(a, b) :\n",
    "    print(a + b)\n",
    "concat(a = \"istanbul \", b = \"erzurum \")\n",
    "concat(b = \"erzurum \", a = \"istanbul \")"
   ]
  },
  {
   "cell_type": "code",
   "execution_count": 10,
   "id": "32aa134e",
   "metadata": {},
   "outputs": [
    {
     "name": "stdout",
     "output_type": "stream",
     "text": [
      "london seoul \n",
      "london seoul\n"
     ]
    }
   ],
   "source": [
    "concat(a = \"london \", b = \"seoul \")\n",
    "concat(\"london \", \"seoul\")"
   ]
  },
  {
   "cell_type": "code",
   "execution_count": 13,
   "id": "2503e331",
   "metadata": {},
   "outputs": [
    {
     "name": "stdout",
     "output_type": "stream",
     "text": [
      "ali is 33 years old.\n",
      "mehmet is 44 years old.\n"
     ]
    }
   ],
   "source": [
    "def default(a = \"ali\", b = 33) :\n",
    "    print(a, \"is\", b, \"years old.\")\n",
    "default()\n",
    "default(\"mehmet\", 44)"
   ]
  },
  {
   "cell_type": "code",
   "execution_count": 17,
   "id": "26fc2b6c",
   "metadata": {},
   "outputs": [
    {
     "name": "stdout",
     "output_type": "stream",
     "text": [
      "selvi is 33 years old.\n",
      "ali is 55 years old.\n",
      "songül is 22 years old.\n"
     ]
    }
   ],
   "source": [
    "default(\"selvi\")\n",
    "default(b = 55)\n",
    "default(a = \"songül\", b = 22)"
   ]
  },
  {
   "cell_type": "code",
   "execution_count": 19,
   "id": "eded2192",
   "metadata": {},
   "outputs": [
    {
     "name": "stdout",
     "output_type": "stream",
     "text": [
      "ali and gonca is 33 years old.\n"
     ]
    }
   ],
   "source": [
    "def default(x, a = \"ali\", b = 33) :\n",
    "    print(a, \"and\", x, \"is\", b, \"years old.\")\n",
    "default(\"gonca\")"
   ]
  },
  {
   "cell_type": "code",
   "execution_count": 20,
   "id": "f09983b7",
   "metadata": {},
   "outputs": [],
   "source": [
    "def parrot(voltage, state=\"a stiff\", action=\"voom\", typed=\"Norwegian Blue\"):\n",
    "    print(\"-- This parrot wouldn't\", action, end=\" \")\n",
    "    print(\"if you put\", voltage, \"volts through it.\")\n",
    "    print(\"-- Lovely plumage, the\", typed)\n",
    "    print(\"-- It's\", state, \"!\")"
   ]
  },
  {
   "cell_type": "code",
   "execution_count": 21,
   "id": "a8484aed",
   "metadata": {},
   "outputs": [
    {
     "ename": "TypeError",
     "evalue": "parrot() missing 1 required positional argument: 'voltage'",
     "output_type": "error",
     "traceback": [
      "\u001b[1;31m---------------------------------------------------------------------------\u001b[0m",
      "\u001b[1;31mTypeError\u001b[0m                                 Traceback (most recent call last)",
      "\u001b[1;32m<ipython-input-21-1fa32faf15ff>\u001b[0m in \u001b[0;36m<module>\u001b[1;34m\u001b[0m\n\u001b[1;32m----> 1\u001b[1;33m \u001b[0mparrot\u001b[0m\u001b[1;33m(\u001b[0m\u001b[1;33m)\u001b[0m\u001b[1;33m\u001b[0m\u001b[1;33m\u001b[0m\u001b[0m\n\u001b[0m",
      "\u001b[1;31mTypeError\u001b[0m: parrot() missing 1 required positional argument: 'voltage'"
     ]
    }
   ],
   "source": [
    "parrot()"
   ]
  },
  {
   "cell_type": "code",
   "execution_count": 22,
   "id": "e73b7006",
   "metadata": {},
   "outputs": [
    {
     "name": "stdout",
     "output_type": "stream",
     "text": [
      "-- This parrot wouldn't voom if you put 1000 volts through it.\n",
      "-- Lovely plumage, the Norwegian Blue\n",
      "-- It's a stiff !\n"
     ]
    }
   ],
   "source": [
    "parrot(1000)"
   ]
  },
  {
   "cell_type": "code",
   "execution_count": 23,
   "id": "9d4ecabb",
   "metadata": {},
   "outputs": [
    {
     "name": "stdout",
     "output_type": "stream",
     "text": [
      "-- This parrot wouldn't VOOOOOOM if you put 10000000 volts through it.\n",
      "-- Lovely plumage, the Norwegian Blue\n",
      "-- It's a stiff !\n"
     ]
    }
   ],
   "source": [
    "parrot(voltage = 10000000, action = \"VOOOOOOM\")"
   ]
  },
  {
   "cell_type": "code",
   "execution_count": 24,
   "id": "3fbf01ee",
   "metadata": {},
   "outputs": [
    {
     "name": "stdout",
     "output_type": "stream",
     "text": [
      "-- This parrot wouldn't VOOOOOOM if you put 10000000 volts through it.\n",
      "-- Lovely plumage, the Norwegian Blue\n",
      "-- It's a stiff !\n"
     ]
    }
   ],
   "source": [
    "parrot(action = \"VOOOOOOM\", voltage = 10000000)"
   ]
  },
  {
   "cell_type": "code",
   "execution_count": 25,
   "id": "ff766b6e",
   "metadata": {},
   "outputs": [
    {
     "ename": "SyntaxError",
     "evalue": "non-default argument follows default argument (<ipython-input-25-3db317de1ad6>, line 1)",
     "output_type": "error",
     "traceback": [
      "\u001b[1;36m  File \u001b[1;32m\"<ipython-input-25-3db317de1ad6>\"\u001b[1;36m, line \u001b[1;32m1\u001b[0m\n\u001b[1;33m    def parrot(state=\"a stiff\", voltage, action=\"voom\", typed=\"Norwegian Blue\"):\u001b[0m\n\u001b[1;37m               ^\u001b[0m\n\u001b[1;31mSyntaxError\u001b[0m\u001b[1;31m:\u001b[0m non-default argument follows default argument\n"
     ]
    }
   ],
   "source": [
    "def parrot(state=\"a stiff\", voltage, action=\"voom\", typed=\"Norwegian Blue\"):\n",
    "    print(\"-- This parrot wouldn't\", action, end=\" \")\n",
    "    print(\"if you put\", voltage, \"volts through it.\")\n",
    "    print(\"-- Lovely plumage, the\", typed)\n",
    "    print(\"-- It's\", state, \"!\")"
   ]
  },
  {
   "cell_type": "code",
   "execution_count": 26,
   "id": "77a06220",
   "metadata": {},
   "outputs": [
    {
     "ename": "SyntaxError",
     "evalue": "non-default argument follows default argument (<ipython-input-26-a16aa314c4e9>, line 1)",
     "output_type": "error",
     "traceback": [
      "\u001b[1;36m  File \u001b[1;32m\"<ipython-input-26-a16aa314c4e9>\"\u001b[1;36m, line \u001b[1;32m1\u001b[0m\n\u001b[1;33m    def argu(a, b = \"dünya\", c, d = \"satürn\") :\u001b[0m\n\u001b[1;37m             ^\u001b[0m\n\u001b[1;31mSyntaxError\u001b[0m\u001b[1;31m:\u001b[0m non-default argument follows default argument\n"
     ]
    }
   ],
   "source": [
    "def argu(a, b = \"dünya\", c, d = \"satürn\") :\n",
    "    print(a, b, c, d, sep = \"\\n\")"
   ]
  },
  {
   "cell_type": "code",
   "execution_count": 29,
   "id": "aa69e1e1",
   "metadata": {},
   "outputs": [
    {
     "ename": "TypeError",
     "evalue": "argu() missing 2 required positional arguments: 'a' and 'c'",
     "output_type": "error",
     "traceback": [
      "\u001b[1;31m---------------------------------------------------------------------------\u001b[0m",
      "\u001b[1;31mTypeError\u001b[0m                                 Traceback (most recent call last)",
      "\u001b[1;32m<ipython-input-29-3c0f3034f214>\u001b[0m in \u001b[0;36m<module>\u001b[1;34m\u001b[0m\n\u001b[0;32m      1\u001b[0m \u001b[1;32mdef\u001b[0m \u001b[0margu\u001b[0m\u001b[1;33m(\u001b[0m\u001b[0ma\u001b[0m\u001b[1;33m,\u001b[0m \u001b[0mc\u001b[0m\u001b[1;33m,\u001b[0m \u001b[0mb\u001b[0m \u001b[1;33m=\u001b[0m \u001b[1;34m\"dünya\"\u001b[0m\u001b[1;33m,\u001b[0m \u001b[0md\u001b[0m \u001b[1;33m=\u001b[0m \u001b[1;34m\"satürn\"\u001b[0m\u001b[1;33m)\u001b[0m \u001b[1;33m:\u001b[0m\u001b[1;33m\u001b[0m\u001b[1;33m\u001b[0m\u001b[0m\n\u001b[0;32m      2\u001b[0m     \u001b[0mprint\u001b[0m\u001b[1;33m(\u001b[0m\u001b[0ma\u001b[0m\u001b[1;33m,\u001b[0m \u001b[0mb\u001b[0m\u001b[1;33m,\u001b[0m \u001b[0mc\u001b[0m\u001b[1;33m,\u001b[0m \u001b[0md\u001b[0m\u001b[1;33m,\u001b[0m \u001b[0msep\u001b[0m \u001b[1;33m=\u001b[0m \u001b[1;34m\"\\n\"\u001b[0m\u001b[1;33m)\u001b[0m\u001b[1;33m\u001b[0m\u001b[1;33m\u001b[0m\u001b[0m\n\u001b[1;32m----> 3\u001b[1;33m \u001b[0margu\u001b[0m\u001b[1;33m(\u001b[0m\u001b[1;33m)\u001b[0m\u001b[1;33m\u001b[0m\u001b[1;33m\u001b[0m\u001b[0m\n\u001b[0m",
      "\u001b[1;31mTypeError\u001b[0m: argu() missing 2 required positional arguments: 'a' and 'c'"
     ]
    }
   ],
   "source": [
    "def argu(a, c, b = \"dünya\", d = \"satürn\") :\n",
    "    print(a, b, c, d, sep = \"\\n\")\n",
    "argu()"
   ]
  },
  {
   "cell_type": "code",
   "execution_count": 30,
   "id": "b3d3e84b",
   "metadata": {},
   "outputs": [
    {
     "name": "stdout",
     "output_type": "stream",
     "text": [
      "uranüs\n",
      "dünya\n",
      "jüpiter\n",
      "satürn\n"
     ]
    }
   ],
   "source": [
    "argu(\"uranüs\", \"jüpiter\")"
   ]
  },
  {
   "cell_type": "code",
   "execution_count": 31,
   "id": "4c8987d1",
   "metadata": {},
   "outputs": [
    {
     "name": "stdout",
     "output_type": "stream",
     "text": [
      "dünya\n",
      "mars\n",
      "pluto\n",
      "güneş\n"
     ]
    }
   ],
   "source": [
    "argu(d = \"güneş\", a = \"dünya\", c = \"pluto\", b = \"mars\")"
   ]
  },
  {
   "cell_type": "code",
   "execution_count": 32,
   "id": "cd0f40db",
   "metadata": {},
   "outputs": [
    {
     "ename": "SyntaxError",
     "evalue": "positional argument follows keyword argument (<ipython-input-32-8b3e802bea27>, line 1)",
     "output_type": "error",
     "traceback": [
      "\u001b[1;36m  File \u001b[1;32m\"<ipython-input-32-8b3e802bea27>\"\u001b[1;36m, line \u001b[1;32m1\u001b[0m\n\u001b[1;33m    argu(a = \"dünya\", c = \"merkür\", \"uranüs\")\u001b[0m\n\u001b[1;37m                                      ^\u001b[0m\n\u001b[1;31mSyntaxError\u001b[0m\u001b[1;31m:\u001b[0m positional argument follows keyword argument\n"
     ]
    }
   ],
   "source": [
    "argu(a = \"dünya\", c = \"merkür\", \"uranüs\")"
   ]
  },
  {
   "cell_type": "code",
   "execution_count": 33,
   "id": "2e29895a",
   "metadata": {},
   "outputs": [
    {
     "ename": "TypeError",
     "evalue": "argu() got multiple values for argument 'a'",
     "output_type": "error",
     "traceback": [
      "\u001b[1;31m---------------------------------------------------------------------------\u001b[0m",
      "\u001b[1;31mTypeError\u001b[0m                                 Traceback (most recent call last)",
      "\u001b[1;32m<ipython-input-33-34087e19cc44>\u001b[0m in \u001b[0;36m<module>\u001b[1;34m\u001b[0m\n\u001b[1;32m----> 1\u001b[1;33m \u001b[0margu\u001b[0m\u001b[1;33m(\u001b[0m\u001b[1;34m\"uranüs\"\u001b[0m\u001b[1;33m,\u001b[0m \u001b[0ma\u001b[0m \u001b[1;33m=\u001b[0m \u001b[1;34m\"dünya\"\u001b[0m\u001b[1;33m,\u001b[0m \u001b[0mc\u001b[0m \u001b[1;33m=\u001b[0m \u001b[1;34m\"merkür\"\u001b[0m\u001b[1;33m)\u001b[0m\u001b[1;33m\u001b[0m\u001b[1;33m\u001b[0m\u001b[0m\n\u001b[0m",
      "\u001b[1;31mTypeError\u001b[0m: argu() got multiple values for argument 'a'"
     ]
    }
   ],
   "source": [
    "argu(\"uranüs\", a = \"dünya\", c = \"merkür\")"
   ]
  },
  {
   "cell_type": "code",
   "execution_count": 34,
   "id": "c511d18f",
   "metadata": {},
   "outputs": [],
   "source": [
    "pass"
   ]
  },
  {
   "cell_type": "code",
   "execution_count": 35,
   "id": "d56d68e8",
   "metadata": {},
   "outputs": [
    {
     "name": "stdout",
     "output_type": "stream",
     "text": [
      "ben ikinci satırım\n"
     ]
    }
   ],
   "source": [
    "if 10 > 0 :\n",
    "    pass\n",
    "    print(\"ben ikinci satırım\")"
   ]
  },
  {
   "cell_type": "code",
   "execution_count": 37,
   "id": "48ad6dee",
   "metadata": {},
   "outputs": [
    {
     "name": "stdout",
     "output_type": "stream",
     "text": [
      "evens : [0, 2, 4, 6, 8]\n",
      "odd : [1, 3, 5, 7, 9]\n"
     ]
    }
   ],
   "source": [
    "def slicer(*num) :\n",
    "    print(\"evens :\", [i for i in num if i%2 == 0])\n",
    "    print(\"odd :\", [i for i in num if not i%2 == 0])\n",
    "slicer(0,1,2,3,4,5,6,7,8,9)"
   ]
  },
  {
   "cell_type": "code",
   "execution_count": 39,
   "id": "3d53c36a",
   "metadata": {},
   "outputs": [
    {
     "data": {
      "text/plain": [
       "{'ahmet': 'bacanak', 'mehmet': 'ağabey', 'ceyda': 'baldız', 'meryem': 'anne'}"
      ]
     },
     "execution_count": 39,
     "metadata": {},
     "output_type": "execute_result"
    }
   ],
   "source": [
    "sözlük = dict(ahmet = \"bacanak\", mehmet = \"ağabey\", ceyda = \"baldız\", meryem = \"anne\")\n",
    "sözlük"
   ]
  },
  {
   "cell_type": "code",
   "execution_count": 44,
   "id": "e8d0ee5c",
   "metadata": {},
   "outputs": [
    {
     "name": "stdout",
     "output_type": "stream",
     "text": [
      "ahmet bacanak\n",
      "mehmet ağabey\n",
      "ceyda baldız\n"
     ]
    }
   ],
   "source": [
    "def sözlük(**a) :\n",
    "    for key, value in a.items() :\n",
    "        print(key, value)\n",
    "sözlük(ahmet = \"bacanak\", mehmet = \"ağabey\", ceyda = \"baldız\")\n"
   ]
  },
  {
   "cell_type": "code",
   "execution_count": 45,
   "id": "67ea0d36",
   "metadata": {},
   "outputs": [
    {
     "name": "stdout",
     "output_type": "stream",
     "text": [
      "ahmet bacanak\n",
      "mehmet ağabey\n",
      "ceyda baldız\n",
      "leyla komşu\n",
      "zeyno bebek\n"
     ]
    }
   ],
   "source": [
    "sözlük(ahmet = \"bacanak\", mehmet = \"ağabey\", ceyda = \"baldız\", leyla = \"komşu\", zeyno = \"bebek\")"
   ]
  },
  {
   "cell_type": "code",
   "execution_count": 47,
   "id": "d62b5ebe",
   "metadata": {},
   "outputs": [
    {
     "name": "stdout",
     "output_type": "stream",
     "text": [
      "ali is 33 years old.\n",
      "veli is 44 years old.\n",
      "deli is 100 years old.\n",
      "ayşe is 22 years old.\n",
      "nazan is 77 years old.\n"
     ]
    }
   ],
   "source": [
    "def defa(**x) :\n",
    "    for t, z in x.items():\n",
    "        print(t, \"is\", z, \"years old.\")\n",
    "defa(ali = 33, veli = 44, deli = 100, ayşe = 22, nazan = 77)"
   ]
  },
  {
   "cell_type": "code",
   "execution_count": 48,
   "id": "787b9dcc",
   "metadata": {},
   "outputs": [
    {
     "name": "stdout",
     "output_type": "stream",
     "text": [
      "Here are the names of brothers :\n",
      "tom\n",
      "sue\n",
      "tim\n"
     ]
    }
   ],
   "source": [
    "def brothers(bro1, bro2, bro3):\n",
    "    print('Here are the names of brothers :')\n",
    "    print(bro1, bro2, bro3, sep='\\n')\n",
    "family = ['tom', 'sue', 'tim']\n",
    "brothers(*family)"
   ]
  },
  {
   "cell_type": "code",
   "execution_count": 49,
   "id": "7677ec2d",
   "metadata": {},
   "outputs": [
    {
     "name": "stdout",
     "output_type": "stream",
     "text": [
      "Here are the names of brothers :\n",
      "['tom', 'sue', 'tim']\n",
      "['tom', 'sue', 'tim']\n",
      "['tom', 'sue', 'tim']\n"
     ]
    }
   ],
   "source": [
    "brothers(family, family, family)"
   ]
  },
  {
   "cell_type": "code",
   "execution_count": 51,
   "id": "862f32d9",
   "metadata": {},
   "outputs": [],
   "source": [
    "genius = (\"Bill\", \"Rossum\", \"Guido van\", \"Gates\")\n",
    "# For me, Bill Gates and Guido van Rossum are geniuses."
   ]
  },
  {
   "cell_type": "code",
   "execution_count": 53,
   "id": "978a9cf2",
   "metadata": {},
   "outputs": [
    {
     "name": "stdout",
     "output_type": "stream",
     "text": [
      "For me, Bill Gates and Guido van Rossum are geniuses.\n"
     ]
    }
   ],
   "source": [
    "def merger(par1, par2, par3, par4) :\n",
    "    print(f\"For me, {par1} {par4} and {par3} {par2} are geniuses.\")\n",
    "merger(*genius)"
   ]
  },
  {
   "cell_type": "code",
   "execution_count": 55,
   "id": "7512489f",
   "metadata": {},
   "outputs": [
    {
     "name": "stdout",
     "output_type": "stream",
     "text": [
      "a ahmet\n",
      "b mehmet\n",
      "c selamet\n"
     ]
    }
   ],
   "source": [
    "def önceki(**parametre) :\n",
    "    for x, y in parametre.items() :\n",
    "        print(x, y)\n",
    "önceki(a = \"ahmet\", b = \"mehmet\", c = \"selamet\")"
   ]
  },
  {
   "cell_type": "code",
   "execution_count": 57,
   "id": "00f2e8fb",
   "metadata": {},
   "outputs": [
    {
     "name": "stdout",
     "output_type": "stream",
     "text": [
      "Fred belongs to Generation X\n",
      "Marry belongs to Generation Y\n"
     ]
    }
   ],
   "source": [
    "def gene(x='Solomon', y='David'):  # defined by kwargs (default values assigned to x and y)\n",
    "    print(x, \"belongs to Generation X\")\n",
    "    print(y, \"belongs to Generation Y\")\n",
    "dict_gene = {\"y\" : \"Marry\", 'x' : \"Fred\"}\n",
    "gene(**dict_gene)"
   ]
  },
  {
   "cell_type": "code",
   "execution_count": 58,
   "id": "9cf0a41f",
   "metadata": {},
   "outputs": [
    {
     "name": "stdout",
     "output_type": "stream",
     "text": [
      "Solomon belongs to Generation X\n",
      "David belongs to Generation Y\n"
     ]
    }
   ],
   "source": [
    "gene()"
   ]
  },
  {
   "cell_type": "markdown",
   "id": "8912e4ed",
   "metadata": {},
   "source": [
    "<img src=\"https://i.pinimg.com/originals/e6/87/61/e687614048a36165dd49b6fb18a12b5d.png\" height = \"100\" width =\"200\" alt = \"izdivac\">"
   ]
  },
  {
   "cell_type": "code",
   "execution_count": 59,
   "id": "c564adaa",
   "metadata": {},
   "outputs": [],
   "source": [
    "dict_couple = {\"bride\" : [\"mary\", \"bella\", \"linda\"],\n",
    "               \"groom\" : [\"rye\", \"fred\", \"roland\"]}"
   ]
  },
  {
   "cell_type": "code",
   "execution_count": 64,
   "id": "c9d3bc24",
   "metadata": {},
   "outputs": [
    {
     "data": {
      "text/plain": [
       "[('mary', 'rye'), ('bella', 'fred'), ('linda', 'roland')]"
      ]
     },
     "execution_count": 64,
     "metadata": {},
     "output_type": "execute_result"
    }
   ],
   "source": [
    "def couples(bride, groom) :\n",
    "    couple_list = []\n",
    "    for x in zip(bride, groom) :\n",
    "        couple_list.append(x)\n",
    "    return couple_list\n",
    "couples(**dict_couple)"
   ]
  },
  {
   "cell_type": "code",
   "execution_count": 63,
   "id": "9e00c0e2",
   "metadata": {},
   "outputs": [
    {
     "data": {
      "text/plain": [
       "[('mary', 'rye'), ('bella', 'fred'), ('linda', 'roland')]"
      ]
     },
     "execution_count": 63,
     "metadata": {},
     "output_type": "execute_result"
    }
   ],
   "source": [
    "def couples(bride, groom) :\n",
    "    return [x for x in zip(bride, groom)]\n",
    "couples(**dict_couple)"
   ]
  },
  {
   "cell_type": "code",
   "execution_count": 68,
   "id": "e1bd46ba",
   "metadata": {},
   "outputs": [],
   "source": [
    "def meaner(ahmed, joseph, linda) :\n",
    "    average = (ahmed + joseph + linda) / 3\n",
    "    print(\"The average of their ages is :\", average)"
   ]
  },
  {
   "cell_type": "code",
   "execution_count": 70,
   "id": "4c1e67dc",
   "metadata": {},
   "outputs": [
    {
     "data": {
      "text/plain": [
       "44"
      ]
     },
     "execution_count": 70,
     "metadata": {},
     "output_type": "execute_result"
    }
   ],
   "source": [
    "friends = {\"ahmed\" : 44, \"joseph\" : 39, \"linda\" : 55}\n",
    "friends[\"ahmed\"]"
   ]
  },
  {
   "cell_type": "code",
   "execution_count": 71,
   "id": "7d072588",
   "metadata": {},
   "outputs": [
    {
     "name": "stdout",
     "output_type": "stream",
     "text": [
      "The average of their ages is : 46.0\n"
     ]
    }
   ],
   "source": [
    "meaner(**friends)"
   ]
  },
  {
   "cell_type": "code",
   "execution_count": 72,
   "id": "e5e11c08",
   "metadata": {},
   "outputs": [
    {
     "name": "stdout",
     "output_type": "stream",
     "text": [
      "The average of their ages is : 46.0\n"
     ]
    }
   ],
   "source": [
    "meaner(44, 39, 55)"
   ]
  },
  {
   "cell_type": "code",
   "execution_count": 74,
   "id": "703ca9d0",
   "metadata": {},
   "outputs": [
    {
     "data": {
      "text/plain": [
       "False"
      ]
     },
     "execution_count": 74,
     "metadata": {},
     "output_type": "execute_result"
    }
   ],
   "source": [
    "x = \"([)]([)]\"\n",
    "def isValid(s):\n",
    "    while \"()\" in s or \"{}\" in s or \"[]\" in s:\n",
    "        s = s.replace(\"()\", \"\").replace(\"[]\", \"\").replace(\"{}\", \"\")\n",
    "    return s == \"\"\n",
    "isValid(x)"
   ]
  },
  {
   "cell_type": "code",
   "execution_count": 76,
   "id": "a9ac25c9",
   "metadata": {},
   "outputs": [
    {
     "data": {
      "text/plain": [
       "True"
      ]
     },
     "execution_count": 76,
     "metadata": {},
     "output_type": "execute_result"
    }
   ],
   "source": [
    "x = \"{()[{}]}\"\n",
    "isValid(x)"
   ]
  },
  {
   "cell_type": "code",
   "execution_count": 77,
   "id": "b3fb662c",
   "metadata": {},
   "outputs": [
    {
     "data": {
      "text/plain": [
       "'odd'"
      ]
     },
     "execution_count": 77,
     "metadata": {},
     "output_type": "execute_result"
    }
   ],
   "source": [
    "(lambda x : \"odd\" if x%2 else \"even\")(3)"
   ]
  },
  {
   "cell_type": "code",
   "execution_count": 78,
   "id": "f1ed0d95",
   "metadata": {},
   "outputs": [
    {
     "data": {
      "text/plain": [
       "'even'"
      ]
     },
     "execution_count": 78,
     "metadata": {},
     "output_type": "execute_result"
    }
   ],
   "source": [
    "(lambda x : \"odd\" if x%2 else \"even\")(10)"
   ]
  },
  {
   "cell_type": "code",
   "execution_count": 79,
   "id": "a70458a0",
   "metadata": {},
   "outputs": [
    {
     "name": "stdout",
     "output_type": "stream",
     "text": [
      "even\n"
     ]
    }
   ],
   "source": [
    "print((lambda x : \"odd\" if x%2 else \"even\")(10))"
   ]
  },
  {
   "cell_type": "code",
   "execution_count": 81,
   "id": "4bf82dfb",
   "metadata": {},
   "outputs": [
    {
     "data": {
      "text/plain": [
       "25"
      ]
     },
     "execution_count": 81,
     "metadata": {},
     "output_type": "execute_result"
    }
   ],
   "source": [
    "average = (lambda a, b : a**2 + b**2)(3, 4)\n",
    "average"
   ]
  },
  {
   "cell_type": "code",
   "execution_count": 184,
   "id": "930989a1",
   "metadata": {},
   "outputs": [
    {
     "data": {
      "text/plain": [
       "'elbaretilaH'"
      ]
     },
     "execution_count": 184,
     "metadata": {},
     "output_type": "execute_result"
    }
   ],
   "source": [
    "iterable = \"Haliterable\"\n",
    "rever = (lambda x : x[::-1])(iterable)\n",
    "rever"
   ]
  },
  {
   "cell_type": "code",
   "execution_count": 89,
   "id": "8fc0fdf4",
   "metadata": {},
   "outputs": [
    {
     "data": {
      "text/plain": [
       "'yawsuralc'"
      ]
     },
     "execution_count": 89,
     "metadata": {},
     "output_type": "execute_result"
    }
   ],
   "source": [
    "\"clarusway\"[::-1]"
   ]
  },
  {
   "cell_type": "code",
   "execution_count": 90,
   "id": "45ff7854",
   "metadata": {},
   "outputs": [
    {
     "data": {
      "text/plain": [
       "'yawsuralc'"
      ]
     },
     "execution_count": 90,
     "metadata": {},
     "output_type": "execute_result"
    }
   ],
   "source": [
    "iterable[::-1]"
   ]
  },
  {
   "cell_type": "code",
   "execution_count": 188,
   "id": "c1a9fc53",
   "metadata": {},
   "outputs": [
    {
     "name": "stdout",
     "output_type": "stream",
     "text": [
      "1 : odd\n",
      "2 : even\n",
      "3 : odd\n",
      "4 : even\n"
     ]
    }
   ],
   "source": [
    "for i in [1,2,3,4] :\n",
    "    print(i, \":\", (lambda x : \"odd\" if x%2 != 0 else \"even\")(i))"
   ]
  },
  {
   "cell_type": "code",
   "execution_count": 189,
   "id": "0891e74d",
   "metadata": {},
   "outputs": [
    {
     "data": {
      "text/plain": [
       "<map at 0x2484611b220>"
      ]
     },
     "execution_count": 189,
     "metadata": {},
     "output_type": "execute_result"
    }
   ],
   "source": [
    "iterable = [1,2,3,4,5]\n",
    "result = map(lambda x : x **2, iterable)\n",
    "result"
   ]
  },
  {
   "cell_type": "code",
   "execution_count": 95,
   "id": "b1695359",
   "metadata": {},
   "outputs": [
    {
     "name": "stdout",
     "output_type": "stream",
     "text": [
      "1 4 9 16 25\n"
     ]
    }
   ],
   "source": [
    "print(*result)"
   ]
  },
  {
   "cell_type": "code",
   "execution_count": 97,
   "id": "0bd9f74f",
   "metadata": {},
   "outputs": [],
   "source": [
    "def karesinial(x) :\n",
    "    return x ** 2\n",
    "result = map(karesinial, iterable)"
   ]
  },
  {
   "cell_type": "code",
   "execution_count": 98,
   "id": "a32d220a",
   "metadata": {},
   "outputs": [
    {
     "name": "stdout",
     "output_type": "stream",
     "text": [
      "1 4 9 16 25\n"
     ]
    }
   ],
   "source": [
    "print(*result)"
   ]
  },
  {
   "cell_type": "code",
   "execution_count": 192,
   "id": "ef06af30",
   "metadata": {},
   "outputs": [
    {
     "name": "stdout",
     "output_type": "stream",
     "text": [
      "[5, 16, 14]\n"
     ]
    }
   ],
   "source": [
    "kisiler = [\"ali veli deli\", \"mehmet aganin kuzeni\", \"cemilin bacısı\"]\n",
    "result = map(len, iterable_2)\n",
    "\n",
    "print(list(result))"
   ]
  },
  {
   "cell_type": "code",
   "execution_count": 113,
   "id": "f28b20b4",
   "metadata": {},
   "outputs": [],
   "source": [
    "letter1 = [\"a\", \"b\", \"c\"]\n",
    "letter2 = [\"x\", \"y\", \"z\"]\n",
    "yapistir = map(zip, letter1,letter2)"
   ]
  },
  {
   "cell_type": "code",
   "execution_count": 114,
   "id": "b4887068",
   "metadata": {},
   "outputs": [
    {
     "name": "stdout",
     "output_type": "stream",
     "text": [
      "('a', 'x')\n",
      "('b', 'y')\n",
      "('c', 'z')\n"
     ]
    }
   ],
   "source": [
    "for i in yapistir:\n",
    "    for j in i:\n",
    "        print(j)"
   ]
  },
  {
   "cell_type": "code",
   "execution_count": 115,
   "id": "b89651eb",
   "metadata": {},
   "outputs": [
    {
     "data": {
      "text/plain": [
       "4.0"
      ]
     },
     "execution_count": 115,
     "metadata": {},
     "output_type": "execute_result"
    }
   ],
   "source": [
    "(lambda x, y : (x+y)/2)(5,3)"
   ]
  },
  {
   "cell_type": "code",
   "execution_count": 190,
   "id": "7c40e50b",
   "metadata": {},
   "outputs": [
    {
     "name": "stdout",
     "output_type": "stream",
     "text": [
      "[6.0, 6.0, 6.0, 6.0]\n"
     ]
    }
   ],
   "source": [
    "num1 = [9, 6, 7, 4]\n",
    "num2 = [3, 6, 5, 8]\n",
    "numbers = map(lambda x, y : (x+y)/2, num1, num2)\n",
    "print(list(numbers))"
   ]
  },
  {
   "cell_type": "code",
   "execution_count": 130,
   "id": "73c20164",
   "metadata": {},
   "outputs": [
    {
     "name": "stdout",
     "output_type": "stream",
     "text": [
      "6.0\n",
      "6.0\n",
      "6.0\n",
      "6.0\n"
     ]
    }
   ],
   "source": [
    "for i in numbers:\n",
    "     print(i)"
   ]
  },
  {
   "cell_type": "code",
   "execution_count": 131,
   "id": "336ab8e8",
   "metadata": {},
   "outputs": [
    {
     "name": "stdout",
     "output_type": "stream",
     "text": [
      "i love you\n",
      "you ate much\n",
      "he works hard\n"
     ]
    }
   ],
   "source": [
    "words1=[\"you\", \"much\", \"hard\"]\n",
    "words2=[\"i\", \"you\", \"he\"]\n",
    "words3=[\"love\", \"ate\", \"works\"]\n",
    "sentence = map(lambda x, y, z : x + \" \" + y + \" \" + z, words2, words3, words1)\n",
    "for i in sentence :\n",
    "    print(i)"
   ]
  },
  {
   "cell_type": "code",
   "execution_count": 132,
   "id": "b844d180",
   "metadata": {},
   "outputs": [
    {
     "name": "stdout",
     "output_type": "stream",
     "text": [
      "swim\n",
      "me\n",
      "kiwi\n"
     ]
    }
   ],
   "source": [
    "words = ['apple', 'swim', \"clock\", \"me\", \"kiwi\", \"banana\"]\n",
    "for i in filter(lambda x : len(x) < 5, words) :\n",
    "    print(i)"
   ]
  },
  {
   "cell_type": "code",
   "execution_count": 134,
   "id": "9538868c",
   "metadata": {},
   "outputs": [
    {
     "data": {
      "text/plain": [
       "32"
      ]
     },
     "execution_count": 134,
     "metadata": {},
     "output_type": "execute_result"
    }
   ],
   "source": [
    "üzeribeş = lambda x : x ** 5\n",
    "üzeribeş(2)"
   ]
  },
  {
   "cell_type": "code",
   "execution_count": 137,
   "id": "da6cb521",
   "metadata": {},
   "outputs": [
    {
     "data": {
      "text/plain": [
       "16"
      ]
     },
     "execution_count": 137,
     "metadata": {},
     "output_type": "execute_result"
    }
   ],
   "source": [
    "def modular_function(n):\n",
    "    return lambda x: x ** n\n",
    "karesinial = modular_function(2)\n",
    "karesinial(4)"
   ]
  },
  {
   "cell_type": "code",
   "execution_count": 139,
   "id": "baa086c3",
   "metadata": {},
   "outputs": [
    {
     "data": {
      "text/plain": [
       "8"
      ]
     },
     "execution_count": 139,
     "metadata": {},
     "output_type": "execute_result"
    }
   ],
   "source": [
    "küpünüal = modular_function(3)\n",
    "küpünüal(2)"
   ]
  },
  {
   "cell_type": "code",
   "execution_count": 140,
   "id": "13f01219",
   "metadata": {},
   "outputs": [
    {
     "name": "stdout",
     "output_type": "stream",
     "text": [
      "4\n",
      "8\n",
      "16\n"
     ]
    }
   ],
   "source": [
    "power_of_2 = modular_function(2)  # first sub-function derived from def\n",
    "power_of_3 = modular_function(3)  # second sub-function derived from def\n",
    "power_of_4 = modular_function(4)  # third sub-function derived from def\n",
    "print(power_of_2(2))  # 2 to the power of 2\n",
    "print(power_of_3(2))  # 2 to the power of 3\n",
    "print(power_of_4(2))  # 2 to the power of 4"
   ]
  },
  {
   "cell_type": "code",
   "execution_count": 141,
   "id": "7b822c07",
   "metadata": {},
   "outputs": [
    {
     "data": {
      "text/plain": [
       "'alexalexalex'"
      ]
     },
     "execution_count": 141,
     "metadata": {},
     "output_type": "execute_result"
    }
   ],
   "source": [
    "\"alex\" * 3"
   ]
  },
  {
   "cell_type": "code",
   "execution_count": 143,
   "id": "736ba038",
   "metadata": {},
   "outputs": [
    {
     "data": {
      "text/plain": [
       "'gara gara gara gara '"
      ]
     },
     "execution_count": 143,
     "metadata": {},
     "output_type": "execute_result"
    }
   ],
   "source": [
    "tekrarlayıcı4 = lambda x : x * 4\n",
    "tekrarlayıcı4(\"gara \")"
   ]
  },
  {
   "cell_type": "code",
   "execution_count": 148,
   "id": "26212f3d",
   "metadata": {},
   "outputs": [
    {
     "name": "stdout",
     "output_type": "stream",
     "text": [
      "35 :)\n"
     ]
    }
   ],
   "source": [
    "def functioner(emoji = None) :\n",
    "    return lambda message : print(message, emoji)\n",
    "\n",
    "(lambda message : print(message, \":)\"))(35)"
   ]
  },
  {
   "cell_type": "code",
   "execution_count": 150,
   "id": "f964e645",
   "metadata": {},
   "outputs": [
    {
     "name": "stdout",
     "output_type": "stream",
     "text": [
      "[35] :)\n"
     ]
    }
   ],
   "source": [
    "print_smile = functioner(\":)\")\n",
    "print_smile([35])"
   ]
  },
  {
   "cell_type": "code",
   "execution_count": 152,
   "id": "c83ca44e",
   "metadata": {},
   "outputs": [
    {
     "name": "stdout",
     "output_type": "stream",
     "text": [
      "bugünkü dersteki yüz ifadem --> :(\n"
     ]
    }
   ],
   "source": [
    "print_üzgün = functioner(\":(\")\n",
    "print_üzgün(\"bugünkü dersteki yüz ifadem -->\")"
   ]
  },
  {
   "cell_type": "code",
   "execution_count": 153,
   "id": "04785112",
   "metadata": {},
   "outputs": [
    {
     "name": "stdout",
     "output_type": "stream",
     "text": [
      "55\n"
     ]
    }
   ],
   "source": [
    "(lambda x : print(x))(33 + 22)"
   ]
  },
  {
   "cell_type": "code",
   "execution_count": 154,
   "id": "40fd64bf",
   "metadata": {},
   "outputs": [],
   "source": [
    "def func_generator(func_name) :\n",
    "    return lambda x : func_name(x)\n",
    "ali_max = func_generator(max)"
   ]
  },
  {
   "cell_type": "code",
   "execution_count": 155,
   "id": "2bce1990",
   "metadata": {},
   "outputs": [
    {
     "data": {
      "text/plain": [
       "99"
      ]
     },
     "execution_count": 155,
     "metadata": {},
     "output_type": "execute_result"
    }
   ],
   "source": [
    "(lambda x : max(x))((1,6,99))"
   ]
  },
  {
   "cell_type": "code",
   "execution_count": 157,
   "id": "d730ffd4",
   "metadata": {},
   "outputs": [
    {
     "data": {
      "text/plain": [
       "[1, 1, 3, 6, 8]"
      ]
     },
     "execution_count": 157,
     "metadata": {},
     "output_type": "execute_result"
    }
   ],
   "source": [
    "ali_sorted = func_generator(sorted)\n",
    "ali_sorted([1,6,8,3,1])"
   ]
  },
  {
   "cell_type": "code",
   "execution_count": 158,
   "id": "e28e1af2",
   "metadata": {},
   "outputs": [
    {
     "data": {
      "text/plain": [
       "False"
      ]
     },
     "execution_count": 158,
     "metadata": {},
     "output_type": "execute_result"
    }
   ],
   "source": [
    "ali_bool = func_generator(bool)\n",
    "ali_bool(\"\")  # lambda x : bool(x)"
   ]
  },
  {
   "cell_type": "code",
   "execution_count": 164,
   "id": "1d447616",
   "metadata": {},
   "outputs": [
    {
     "data": {
      "text/plain": [
       "2.718281828459045"
      ]
     },
     "execution_count": 164,
     "metadata": {},
     "output_type": "execute_result"
    }
   ],
   "source": [
    "import math\n",
    "import math as matematik\n",
    "matematik.e"
   ]
  },
  {
   "cell_type": "code",
   "execution_count": 160,
   "id": "37610c39",
   "metadata": {},
   "outputs": [
    {
     "data": {
      "text/plain": [
       "120"
      ]
     },
     "execution_count": 160,
     "metadata": {},
     "output_type": "execute_result"
    }
   ],
   "source": [
    "matematik.factorial(5)"
   ]
  },
  {
   "cell_type": "code",
   "execution_count": 165,
   "id": "90ba213b",
   "metadata": {},
   "outputs": [
    {
     "data": {
      "text/plain": [
       "['__doc__',\n",
       " '__loader__',\n",
       " '__name__',\n",
       " '__package__',\n",
       " '__spec__',\n",
       " 'acos',\n",
       " 'acosh',\n",
       " 'asin',\n",
       " 'asinh',\n",
       " 'atan',\n",
       " 'atan2',\n",
       " 'atanh',\n",
       " 'ceil',\n",
       " 'comb',\n",
       " 'copysign',\n",
       " 'cos',\n",
       " 'cosh',\n",
       " 'degrees',\n",
       " 'dist',\n",
       " 'e',\n",
       " 'erf',\n",
       " 'erfc',\n",
       " 'exp',\n",
       " 'expm1',\n",
       " 'fabs',\n",
       " 'factorial',\n",
       " 'floor',\n",
       " 'fmod',\n",
       " 'frexp',\n",
       " 'fsum',\n",
       " 'gamma',\n",
       " 'gcd',\n",
       " 'hypot',\n",
       " 'inf',\n",
       " 'isclose',\n",
       " 'isfinite',\n",
       " 'isinf',\n",
       " 'isnan',\n",
       " 'isqrt',\n",
       " 'ldexp',\n",
       " 'lgamma',\n",
       " 'log',\n",
       " 'log10',\n",
       " 'log1p',\n",
       " 'log2',\n",
       " 'modf',\n",
       " 'nan',\n",
       " 'perm',\n",
       " 'pi',\n",
       " 'pow',\n",
       " 'prod',\n",
       " 'radians',\n",
       " 'remainder',\n",
       " 'sin',\n",
       " 'sinh',\n",
       " 'sqrt',\n",
       " 'tan',\n",
       " 'tanh',\n",
       " 'tau',\n",
       " 'trunc']"
      ]
     },
     "execution_count": 165,
     "metadata": {},
     "output_type": "execute_result"
    }
   ],
   "source": [
    "dir(math)"
   ]
  },
  {
   "cell_type": "code",
   "execution_count": 166,
   "id": "edbaaa80",
   "metadata": {},
   "outputs": [],
   "source": [
    "from math import pi, log10, factorial"
   ]
  },
  {
   "cell_type": "code",
   "execution_count": 167,
   "id": "6f1e7d6d",
   "metadata": {},
   "outputs": [
    {
     "name": "stdout",
     "output_type": "stream",
     "text": [
      "3.141592653589793\n"
     ]
    }
   ],
   "source": [
    "print(pi)"
   ]
  },
  {
   "cell_type": "code",
   "execution_count": 168,
   "id": "aef966d6",
   "metadata": {},
   "outputs": [
    {
     "name": "stdout",
     "output_type": "stream",
     "text": [
      "3.0\n"
     ]
    }
   ],
   "source": [
    "print(log10(1000))"
   ]
  },
  {
   "cell_type": "code",
   "execution_count": 169,
   "id": "7892177a",
   "metadata": {},
   "outputs": [
    {
     "name": "stdout",
     "output_type": "stream",
     "text": [
      "24\n"
     ]
    }
   ],
   "source": [
    "print(factorial(4))"
   ]
  },
  {
   "cell_type": "code",
   "execution_count": 170,
   "id": "0851d1e4",
   "metadata": {},
   "outputs": [
    {
     "data": {
      "text/plain": [
       "3.141592653589793"
      ]
     },
     "execution_count": 170,
     "metadata": {},
     "output_type": "execute_result"
    }
   ],
   "source": [
    "matematik.pi"
   ]
  },
  {
   "cell_type": "code",
   "execution_count": 171,
   "id": "d7227674",
   "metadata": {},
   "outputs": [
    {
     "data": {
      "text/plain": [
       "'!\"#$%&\\'()*+,-./:;<=>?@[\\\\]^_`{|}~'"
      ]
     },
     "execution_count": 171,
     "metadata": {},
     "output_type": "execute_result"
    }
   ],
   "source": [
    "import string\n",
    "string.punctuation"
   ]
  },
  {
   "cell_type": "code",
   "execution_count": 172,
   "id": "6626d6b6",
   "metadata": {},
   "outputs": [
    {
     "data": {
      "text/plain": [
       "['Formatter',\n",
       " 'Template',\n",
       " '_ChainMap',\n",
       " '_TemplateMetaclass',\n",
       " '__all__',\n",
       " '__builtins__',\n",
       " '__cached__',\n",
       " '__doc__',\n",
       " '__file__',\n",
       " '__loader__',\n",
       " '__name__',\n",
       " '__package__',\n",
       " '__spec__',\n",
       " '_re',\n",
       " '_sentinel_dict',\n",
       " '_string',\n",
       " 'ascii_letters',\n",
       " 'ascii_lowercase',\n",
       " 'ascii_uppercase',\n",
       " 'capwords',\n",
       " 'digits',\n",
       " 'hexdigits',\n",
       " 'octdigits',\n",
       " 'printable',\n",
       " 'punctuation',\n",
       " 'whitespace']"
      ]
     },
     "execution_count": 172,
     "metadata": {},
     "output_type": "execute_result"
    }
   ],
   "source": [
    "dir(string)"
   ]
  },
  {
   "cell_type": "code",
   "execution_count": 173,
   "id": "8f1748e9",
   "metadata": {},
   "outputs": [
    {
     "data": {
      "text/plain": [
       "'0123456789'"
      ]
     },
     "execution_count": 173,
     "metadata": {},
     "output_type": "execute_result"
    }
   ],
   "source": [
    "string.digits"
   ]
  },
  {
   "cell_type": "code",
   "execution_count": 174,
   "id": "b8c436e8",
   "metadata": {},
   "outputs": [
    {
     "name": "stdout",
     "output_type": "stream",
     "text": [
      "2021-08-12\n"
     ]
    }
   ],
   "source": [
    "import datetime\n",
    "print(datetime.date.today())"
   ]
  },
  {
   "cell_type": "code",
   "execution_count": 175,
   "id": "070d0eb8",
   "metadata": {},
   "outputs": [
    {
     "name": "stdout",
     "output_type": "stream",
     "text": [
      "2021-08-12 19:31:14.692537\n"
     ]
    }
   ],
   "source": [
    "print(datetime.datetime.now())"
   ]
  },
  {
   "cell_type": "code",
   "execution_count": 178,
   "id": "172e216f",
   "metadata": {},
   "outputs": [
    {
     "name": "stdout",
     "output_type": "stream",
     "text": [
      "0571-04-22\n"
     ]
    }
   ],
   "source": [
    "from datetime import date\n",
    "birt = date(571, 4, 22)\n",
    "print(birt)"
   ]
  },
  {
   "cell_type": "code",
   "execution_count": 180,
   "id": "8e585fdf",
   "metadata": {},
   "outputs": [
    {
     "data": {
      "text/plain": [
       "22327"
      ]
     },
     "execution_count": 180,
     "metadata": {},
     "output_type": "execute_result"
    }
   ],
   "source": [
    "death = date(632, 6, 8)\n",
    "date.toordinal(death) - date.toordinal(birt)"
   ]
  },
  {
   "cell_type": "code",
   "execution_count": null,
   "id": "ddcd4099",
   "metadata": {},
   "outputs": [],
   "source": []
  },
  {
   "cell_type": "code",
   "execution_count": null,
   "id": "9d21f066",
   "metadata": {},
   "outputs": [],
   "source": []
  },
  {
   "cell_type": "code",
   "execution_count": null,
   "id": "6a03510f",
   "metadata": {},
   "outputs": [],
   "source": []
  },
  {
   "cell_type": "code",
   "execution_count": null,
   "id": "399b1c65",
   "metadata": {},
   "outputs": [],
   "source": []
  }
 ],
 "metadata": {
  "kernelspec": {
   "display_name": "Python 3",
   "language": "python",
   "name": "python3"
  },
  "language_info": {
   "codemirror_mode": {
    "name": "ipython",
    "version": 3
   },
   "file_extension": ".py",
   "mimetype": "text/x-python",
   "name": "python",
   "nbconvert_exporter": "python",
   "pygments_lexer": "ipython3",
   "version": "3.8.8"
  }
 },
 "nbformat": 4,
 "nbformat_minor": 5
}
