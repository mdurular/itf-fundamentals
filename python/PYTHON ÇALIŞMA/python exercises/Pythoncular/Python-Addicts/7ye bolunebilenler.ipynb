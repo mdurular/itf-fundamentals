{
 "cells": [
  {
   "cell_type": "markdown",
   "id": "24e2788b",
   "metadata": {},
   "source": [
    "Numbers = [18,21,14,84,65,35,10,20,28,42,24,91,5,7,54,69]\n",
    "Numbers listesi içindeki sayılardan 7’ e bölünebilenleri küçükten büyüğe \n",
    "doğru olacak şeklide listeleyin. Ayrıca kaç tanesinin 7’ e bölünebildiğini yazdırın."
   ]
  },
  {
   "cell_type": "code",
   "execution_count": null,
   "id": "6218bab1",
   "metadata": {},
   "outputs": [],
   "source": [
    "numbers = [18,21,14,84,65,35,10,20,28,42,24,91,5,7,54,69]\n",
    "division_by_seven =[]\n",
    "for i in numbers:\n",
    "    if i % 7 == 0:\n",
    "        division_by_seven.append(i)\n",
    "print(f\"Bu dizede 7'ye bolunebilen {len(division_by_seven)} sayi vardir.Bu sayilar dizesi ise {sorted(division_by_seven)}'dir.\")"
   ]
  },
  {
   "cell_type": "code",
   "execution_count": 1,
   "id": "8d459793",
   "metadata": {},
   "outputs": [
    {
     "name": "stdout",
     "output_type": "stream",
     "text": [
      "[7, 14, 21, 28, 35, 42, 84, 91] \n",
      " 8 adet sayi 7 e bölünebilir\n"
     ]
    }
   ],
   "source": [
    "numbers = [18,21,14,84,65,35,10,20,28,42,24,91,5,7,54,69]\n",
    "print(sorted([i for i in numbers if i % 7 ==0]) , '\\n', len([i for i in numbers if i % 7 ==0]), 'adet sayi 7 e bölünebilir')"
   ]
  },
  {
   "cell_type": "code",
   "execution_count": null,
   "id": "7c1d9490",
   "metadata": {},
   "outputs": [],
   "source": [
    "numbers = [18,21,14,84,65,35,10,20,28,42,24,91,5,7,54,69]\n",
    "numbers_list = []\n",
    "for i in numbers :\n",
    "    if i % 7 == 0 :\n",
    "        numbers_list.append(i)\n",
    "numbers_list.sort()\n",
    "print(numbers_list)\n",
    "print(\"Liste içerisinden {} adet sayı 7'ye bölünebilir\".format(len(numbers_list)))"
   ]
  },
  {
   "cell_type": "code",
   "execution_count": null,
   "id": "db3805e1",
   "metadata": {},
   "outputs": [],
   "source": [
    "numbers = [18,21,14,84,65,35,10,20,28,42,24,91,5,7,54,69]\n",
    "new_list = []\n",
    "for i in numbers:\n",
    "    if i % 7 == 0:\n",
    "        new_list.append(i)\n",
    "new_list.sort()\n",
    "print(new_list)\n",
    "print(f'{len(new_list)} out of {len(numbers)} numbers in the given list can be divided by 7.')"
   ]
  }
 ],
 "metadata": {
  "kernelspec": {
   "display_name": "Python 3",
   "language": "python",
   "name": "python3"
  },
  "language_info": {
   "codemirror_mode": {
    "name": "ipython",
    "version": 3
   },
   "file_extension": ".py",
   "mimetype": "text/x-python",
   "name": "python",
   "nbconvert_exporter": "python",
   "pygments_lexer": "ipython3",
   "version": "3.8.8"
  }
 },
 "nbformat": 4,
 "nbformat_minor": 5
}
