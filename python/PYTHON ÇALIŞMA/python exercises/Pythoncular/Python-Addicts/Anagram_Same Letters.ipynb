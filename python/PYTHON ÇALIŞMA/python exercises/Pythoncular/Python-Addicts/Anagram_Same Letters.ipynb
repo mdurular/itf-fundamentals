{
 "cells": [
  {
   "cell_type": "markdown",
   "id": "3b91139a",
   "metadata": {},
   "source": [
    "What is an anagram? Well, two words are anagrams of each other \n",
    "if they both contain the same letters. For example:\n",
    " \n",
    "'abba' & 'baab' == true\n",
    " \n",
    "'abba' & 'bbaa' == true\n",
    " \n",
    "'abba' & 'abbba' == false\n",
    " \n",
    "'abba' & 'abca' == false\n",
    "Take two inputs from the user word and word list and then \n",
    "write code that will find all the anagrams of a word from a list. \n",
    "You should return a list of all the anagrams or an empty list if there are none. \n",
    "For example:\n",
    " \n",
    "input1:'abba'\n",
    "input2: ['aabb', 'abcd', 'bbaa', 'dada']) \n",
    "output: ['aabb', 'bbaa']\n",
    "\n",
    "input1:'racer'\n",
    "input2: ['crazer', 'carer', 'racar', 'caers', 'racer'])\n",
    "output: ['carer', 'racer']\n",
    " \n",
    "input1:'laser'\n",
    "input2:['lazing', 'lazy',  'lacer'])\n",
    "output:[]"
   ]
  },
  {
   "cell_type": "code",
   "execution_count": 4,
   "id": "ec255a1d",
   "metadata": {},
   "outputs": [
    {
     "name": "stdout",
     "output_type": "stream",
     "text": [
      "Enter a word > abba\n",
      "Enter a word for the word list or 'q' to quit > aabb\n",
      "Enter a word for the word list or 'q' to quit > abcd\n",
      "Enter a word for the word list or 'q' to quit > bbaa\n",
      "Enter a word for the word list or 'q' to quit > dada\n",
      "Enter a word for the word list or 'q' to quit > q\n",
      "['aabb', 'bbaa']\n"
     ]
    }
   ],
   "source": [
    "listt_1 = []\n",
    "inp1 = input('Enter a word > ')\n",
    "while True:\n",
    "    inp2 = input(\"Enter a word for the word list or 'q' to quit > \")\n",
    "    if inp2.lower() == 'q':\n",
    "        break\n",
    "    else:\n",
    "        listt_1.append(inp2)\n",
    "            \n",
    "listt_2 = []\n",
    "sonuc = True\n",
    "for i in listt_1:\n",
    "    if set(i) == set(inp1):\n",
    "        for j in i:\n",
    "            if i.count(j) != inp1.count(j):\n",
    "                sonuc = False\n",
    "        if sonuc:\n",
    "            if i not in listt_2:\n",
    "                listt_2.append(i)\n",
    "print(listt_2)"
   ]
  },
  {
   "cell_type": "code",
   "execution_count": 5,
   "id": "c29aef4a",
   "metadata": {},
   "outputs": [
    {
     "name": "stdout",
     "output_type": "stream",
     "text": [
      "['aabb', 'bbaa']\n"
     ]
    }
   ],
   "source": [
    "kelime =['aabb', 'abcd', 'bbaa', 'dada']\n",
    "kelime1='abba'\n",
    "liste=[]\n",
    "for i in kelime:\n",
    "  x =str(sorted(i))\n",
    "  y =str(sorted(kelime1))\n",
    "  if y  in x:\n",
    "    liste.append(i)\n",
    "print(liste)"
   ]
  },
  {
   "cell_type": "code",
   "execution_count": 7,
   "id": "d3dc59b2",
   "metadata": {},
   "outputs": [
    {
     "name": "stdout",
     "output_type": "stream",
     "text": [
      "Please enter text: abba\n",
      "Please enter words with coma: aabb, abcd, bbaa, dada\n",
      "['aabb', 'bbaa']\n"
     ]
    }
   ],
   "source": [
    "text = (input(\"Please enter text: \").lower())\n",
    "text_2 = sorted(list(text))\n",
    "\n",
    "check_list = input(\"Please enter words with coma: \")\n",
    "check_list = check_list.replace(\" \", \"\").lower().split(\",\")\n",
    "\n",
    "last_list = []\n",
    "\n",
    "for i in check_list:\n",
    "    if sorted(i) == text_2:\n",
    "        last_list.append(i)\n",
    "\n",
    "print(last_list)"
   ]
  },
  {
   "cell_type": "code",
   "execution_count": null,
   "id": "bd689e27",
   "metadata": {},
   "outputs": [],
   "source": []
  }
 ],
 "metadata": {
  "kernelspec": {
   "display_name": "Python 3",
   "language": "python",
   "name": "python3"
  },
  "language_info": {
   "codemirror_mode": {
    "name": "ipython",
    "version": 3
   },
   "file_extension": ".py",
   "mimetype": "text/x-python",
   "name": "python",
   "nbconvert_exporter": "python",
   "pygments_lexer": "ipython3",
   "version": "3.8.8"
  }
 },
 "nbformat": 4,
 "nbformat_minor": 5
}
