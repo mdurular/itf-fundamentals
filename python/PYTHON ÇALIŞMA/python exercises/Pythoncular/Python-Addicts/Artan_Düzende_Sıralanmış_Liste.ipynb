{
 "cells": [
  {
   "cell_type": "markdown",
   "id": "13c7d8bb",
   "metadata": {},
   "source": [
    "Verilen bir boş olmayan demetler listesinden her bir demetteki son elemana göre \n",
    "artan düzende sıralanmış bir liste elde etmek için bir Python programı yazın.\n",
    "Örnek Liste : [(2, 5), (1, 2), (4, 4), (2, 3), (2, 1)]\n",
    "Beklenen Sonuç : [(2, 1), (1 , 2), (2, 3), (4, 4), (2, 5)]"
   ]
  },
  {
   "cell_type": "code",
   "execution_count": 6,
   "id": "96329534",
   "metadata": {},
   "outputs": [
    {
     "name": "stdout",
     "output_type": "stream",
     "text": [
      "[(2, 1), (1, 2), (2, 3), (4, 4), (2, 5)]\n"
     ]
    }
   ],
   "source": [
    "liste = [(2, 5), (1, 2), (4, 4), (2, 3), (2, 1)]\n",
    "new = []\n",
    "newest = []\n",
    "for k, v in liste:\n",
    "    new.append((v, k))\n",
    "new.sort()\n",
    "for k, v in new:\n",
    "    newest.append((v, k))\n",
    "print(newest)"
   ]
  },
  {
   "cell_type": "code",
   "execution_count": 3,
   "id": "34d8f745",
   "metadata": {},
   "outputs": [
    {
     "name": "stdout",
     "output_type": "stream",
     "text": [
      "[(5, 2), (2, 1), (4, 4), (3, 2), (1, 2)]\n",
      "[(2, 1), (1, 2), (2, 3), (4, 4), (2, 5)]\n"
     ]
    }
   ],
   "source": [
    "a=[(2, 5), (1, 2), (4, 4), (2, 3), (2, 1)]\n",
    "#print([j[::-1] for j in sorted([i[::-1] for i in a])])\n",
    "b=[]\n",
    "c=[]\n",
    "for i in a:\n",
    "    b.append(i[::-1])\n",
    "print(b)\n",
    "for i in sorted(b):\n",
    "    c.append(i[::-1])\n",
    "print(c)"
   ]
  },
  {
   "cell_type": "code",
   "execution_count": null,
   "id": "3d8e1668",
   "metadata": {},
   "outputs": [],
   "source": []
  }
 ],
 "metadata": {
  "kernelspec": {
   "display_name": "Python 3",
   "language": "python",
   "name": "python3"
  },
  "language_info": {
   "codemirror_mode": {
    "name": "ipython",
    "version": 3
   },
   "file_extension": ".py",
   "mimetype": "text/x-python",
   "name": "python",
   "nbconvert_exporter": "python",
   "pygments_lexer": "ipython3",
   "version": "3.8.8"
  }
 },
 "nbformat": 4,
 "nbformat_minor": 5
}
