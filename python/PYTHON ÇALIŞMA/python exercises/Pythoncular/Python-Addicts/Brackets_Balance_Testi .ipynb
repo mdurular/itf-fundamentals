{
 "cells": [
  {
   "cell_type": "markdown",
   "id": "09f4c217",
   "metadata": {},
   "source": [
    "Given a string containing just the characters '(', ')', '{', '}', '[' and ']',\n",
    "determine if the input string is valid.\n",
    "An input string is valid if:\n",
    "Open brackets must be closed by the same type of brackets.\n",
    "Open brackets must be closed in the correct order.\n",
    "Note that an empty string is also considered valid.\n",
    "Example 1:\n",
    "Input: \"()\"\n",
    "Output: True\n",
    "Example 2:\n",
    "Input: \"()[]{}\"\n",
    "Output: True\n",
    "Example 3:\n",
    "Input: \"(]\"\n",
    "Output: False\n",
    "Example 4:\n",
    "Input: \"([)]\"\n",
    "Output: False\n",
    "Example 5:\n",
    "Input: \"{[]}\"\n",
    "Output: True"
   ]
  },
  {
   "cell_type": "code",
   "execution_count": 1,
   "id": "55e4c6c5",
   "metadata": {},
   "outputs": [
    {
     "data": {
      "text/plain": [
       "False"
      ]
     },
     "execution_count": 1,
     "metadata": {},
     "output_type": "execute_result"
    }
   ],
   "source": [
    "x = \"[[{({})}]({}))\"\n",
    "\n",
    "def isValid(s) :\n",
    "    while \"()\" in s or \"{}\" in s or \"[]\" in s :\n",
    "        s = s.replace(\"()\", \"\").replace(\"{}\", \"\").replace(\"[]\", \"\")\n",
    "    return s == \"\"\n",
    "\n",
    "isValid(x)"
   ]
  },
  {
   "cell_type": "code",
   "execution_count": 3,
   "id": "e79c05b2",
   "metadata": {},
   "outputs": [
    {
     "name": "stdout",
     "output_type": "stream",
     "text": [
      "Please Entry: ()[]{}\n",
      "True\n"
     ]
    }
   ],
   "source": [
    "def char(text):\n",
    "    if text[0] == \"(\":\n",
    "        result = True if text[1] == \")\" or text[-1] == \")\" else False\n",
    "    elif text[0] == \"{\":\n",
    "        result = True if text[1] == \"}\" or text[-1] == \"}\" else False\n",
    "    elif text[0] == \"[\":\n",
    "        result = True if text[1] == \"]\" or text[-1] == \"]\" else False\n",
    "    else:\n",
    "        result = \"Invalid Entry\"\n",
    "        \n",
    "    print(result)\n",
    "        \n",
    "text = str(input(\"Please Entry: \"))\n",
    "\n",
    "char(text)"
   ]
  },
  {
   "cell_type": "code",
   "execution_count": 4,
   "id": "f5d533fe",
   "metadata": {},
   "outputs": [
    {
     "name": "stdout",
     "output_type": "stream",
     "text": [
      "True\n",
      "False\n",
      "True\n",
      "True\n",
      "False\n"
     ]
    }
   ],
   "source": [
    "def bracket(string):\n",
    "  dct = {'(': ')', '{': '}', '[' : ']'}\n",
    "  br_n = 0\n",
    "  for i in string:\n",
    "    if i in dct.keys() and i not in dct.values():\n",
    "      if dct[i] in string:\n",
    "        if not (string.index(i) - string[::-1].index(dct[i])) %2:\n",
    "          br_n += 1\n",
    "\n",
    "  if len(string) == br_n * 2:\n",
    "      print(True)\n",
    "  else:\n",
    "    print(False)\n",
    "  \n",
    "   \n",
    "\n",
    "\n",
    "bracket(\"[()[]]\")\n",
    "bracket(\"([({)}])\")\n",
    "bracket(\"(){}[]\")\n",
    "bracket(\"([{}])\")\n",
    "bracket(\"([)\")"
   ]
  },
  {
   "cell_type": "code",
   "execution_count": 5,
   "id": "9b6b06aa",
   "metadata": {},
   "outputs": [
    {
     "name": "stdout",
     "output_type": "stream",
     "text": [
      "True\n"
     ]
    }
   ],
   "source": [
    "def valid(a):\n",
    "        liste = []\n",
    "        sözlük = {\"]\":\"[\", \"}\":\"{\", \")\":\"(\"}\n",
    "        for i in a:\n",
    "            if i in sözlük.values():\n",
    "                liste.append(i)\n",
    "            elif i in sözlük.keys():\n",
    "                if liste == [] or sözlük[i] != liste.pop():\n",
    "                    return False\n",
    "            else:\n",
    "                return False\n",
    "        return liste == []\n",
    "print(valid('()()[]'))"
   ]
  },
  {
   "cell_type": "code",
   "execution_count": null,
   "id": "7a5f9b8d",
   "metadata": {},
   "outputs": [],
   "source": []
  }
 ],
 "metadata": {
  "kernelspec": {
   "display_name": "Python 3",
   "language": "python",
   "name": "python3"
  },
  "language_info": {
   "codemirror_mode": {
    "name": "ipython",
    "version": 3
   },
   "file_extension": ".py",
   "mimetype": "text/x-python",
   "name": "python",
   "nbconvert_exporter": "python",
   "pygments_lexer": "ipython3",
   "version": "3.8.8"
  }
 },
 "nbformat": 4,
 "nbformat_minor": 5
}
