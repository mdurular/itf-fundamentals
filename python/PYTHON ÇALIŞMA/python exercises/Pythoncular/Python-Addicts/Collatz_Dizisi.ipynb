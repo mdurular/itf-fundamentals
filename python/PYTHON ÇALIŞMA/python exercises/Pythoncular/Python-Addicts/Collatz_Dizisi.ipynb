{
 "cells": [
  {
   "cell_type": "markdown",
   "id": "66f91842",
   "metadata": {},
   "source": [
    "Collatz dizisi uzunluğunu bulunuz.\n",
    "Collatz dizisinde bir sonraki sayıyı bulma kuralı şöyledir:\n",
    "ni çift sayıysa: ni+1=ni/2\n",
    "ni tek sayıysa: ni+1=3ni+1\n",
    "ni=1ise dur.\n",
    "Söz gelişi, 13 ile başlayan bir dizi aşağıdaki gibi olur.\n",
    "13, 40, 20, 10, 5, 16, 8, 4, 2, 1"
   ]
  },
  {
   "cell_type": "code",
   "execution_count": 1,
   "id": "65876b3a",
   "metadata": {},
   "outputs": [
    {
     "name": "stdout",
     "output_type": "stream",
     "text": [
      "dizinin baslangic elemeani giriniz :13\n",
      "[13, 40, 20, 10, 5, 16, 8, 4, 2, 1]\n"
     ]
    }
   ],
   "source": [
    "inpt = int(input(\"dizinin baslangic elemeani giriniz :\"))\n",
    "a=[inpt]\n",
    "count=0\n",
    "while a[count] != 1:\n",
    "    if a[count]%2:\n",
    "        a.append((3*a[count])+1)\n",
    "    else:\n",
    "        a.append(int(a[count]/2))\n",
    "    count += 1\n",
    "print(a)"
   ]
  },
  {
   "cell_type": "code",
   "execution_count": 5,
   "id": "50f6d855",
   "metadata": {},
   "outputs": [
    {
     "data": {
      "text/plain": [
       "10"
      ]
     },
     "execution_count": 5,
     "metadata": {},
     "output_type": "execute_result"
    }
   ],
   "source": [
    "def collatz(ni):\n",
    "  list_ni =[ni, ]\n",
    "  while ni != 1 :\n",
    "    if ni%2 == 0 :\n",
    "      ni = ni/2\n",
    "      list_ni.append(ni)\n",
    "    elif ni%2 == 1:\n",
    "      ni = 3*ni +1\n",
    "      list_ni.append(ni)\n",
    "    \n",
    "  return len(list_ni)\n",
    "  \n",
    "collatz(13)"
   ]
  },
  {
   "cell_type": "code",
   "execution_count": 6,
   "id": "b84ea4c1",
   "metadata": {},
   "outputs": [
    {
     "data": {
      "text/plain": [
       "[15, 46, 23, 70, 35, 106, 53, 160, 80, 40, 20, 10, 5, 16, 8, 4, 2, 1]"
      ]
     },
     "execution_count": 6,
     "metadata": {},
     "output_type": "execute_result"
    }
   ],
   "source": [
    "def collatz(num):\n",
    "    liste = [num]\n",
    "    while True:\n",
    "        if num % 2:\n",
    "            num = 3 * num + 1\n",
    "        else:\n",
    "            num = num // 2\n",
    "        liste.append(num)\n",
    "        if num == 1:\n",
    "            break\n",
    "    return liste\n",
    "\n",
    "collatz(15)"
   ]
  },
  {
   "cell_type": "code",
   "execution_count": 7,
   "id": "a7876444",
   "metadata": {},
   "outputs": [
    {
     "name": "stdout",
     "output_type": "stream",
     "text": [
      "10\n"
     ]
    }
   ],
   "source": [
    "def collatz(n):\n",
    "    ls = [n]\n",
    "    while n!=1:\n",
    "        if n%2:\n",
    "            ls.append(int(n*3+1))\n",
    "            n = n*3+1\n",
    "        else:\n",
    "            ls.append(int(n/2))\n",
    "            n = n/2\n",
    "    return len(ls)\n",
    "print(collatz(13))"
   ]
  },
  {
   "cell_type": "code",
   "execution_count": null,
   "id": "bb5aedda",
   "metadata": {},
   "outputs": [],
   "source": []
  }
 ],
 "metadata": {
  "kernelspec": {
   "display_name": "Python 3",
   "language": "python",
   "name": "python3"
  },
  "language_info": {
   "codemirror_mode": {
    "name": "ipython",
    "version": 3
   },
   "file_extension": ".py",
   "mimetype": "text/x-python",
   "name": "python",
   "nbconvert_exporter": "python",
   "pygments_lexer": "ipython3",
   "version": "3.8.8"
  }
 },
 "nbformat": 4,
 "nbformat_minor": 5
}
