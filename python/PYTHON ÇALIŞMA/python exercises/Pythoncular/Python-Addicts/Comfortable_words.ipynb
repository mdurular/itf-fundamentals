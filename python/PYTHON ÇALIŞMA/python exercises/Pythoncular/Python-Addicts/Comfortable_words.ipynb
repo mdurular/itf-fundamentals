{
 "cells": [
  {
   "cell_type": "markdown",
   "id": "3bb92cae",
   "metadata": {},
   "source": [
    "A comfortable word is a word which you can type always alternating the hand you type \n",
    "with (assuming you type using a QWERTY keyboard and use fingers as shown in the image below).\n",
    "\n",
    "That being said, create a function which receives a word and returns true/True \n",
    "if it's a comfortable word and false/False otherwise.\n",
    "\n",
    "The word will always be a string consisting of only ascii letters from a to z.\n",
    "To avoid problems with image availability, here's the lists of letters for each hand:\n",
    "\n",
    "Left: q, w, e, r, t, a, s, d, f, g, z, x, c, v, b\n",
    "Right: y, u, i, o, p, h, j, k, l, n, m"
   ]
  },
  {
   "cell_type": "code",
   "execution_count": 3,
   "id": "f3dbdd7d",
   "metadata": {},
   "outputs": [
    {
     "name": "stdout",
     "output_type": "stream",
     "text": [
      "Enter a word:polly\n",
      "False\n"
     ]
    }
   ],
   "source": [
    "left = {'q', 'w', 'e', 'r', 't', 'a', 's', 'd', 'f', 'g', 'z', 'x', 'c', 'v', 'b'}\n",
    "right = {'y', 'u', 'i', 'o', 'p', 'h', 'j', 'k', 'l', 'n', 'm'}\n",
    "word = input('Enter a word:')\n",
    "print((set(word) & left) != set() and  (set(word) & right) != set())"
   ]
  }
 ],
 "metadata": {
  "kernelspec": {
   "display_name": "Python 3",
   "language": "python",
   "name": "python3"
  },
  "language_info": {
   "codemirror_mode": {
    "name": "ipython",
    "version": 3
   },
   "file_extension": ".py",
   "mimetype": "text/x-python",
   "name": "python",
   "nbconvert_exporter": "python",
   "pygments_lexer": "ipython3",
   "version": "3.8.8"
  }
 },
 "nbformat": 4,
 "nbformat_minor": 5
}
