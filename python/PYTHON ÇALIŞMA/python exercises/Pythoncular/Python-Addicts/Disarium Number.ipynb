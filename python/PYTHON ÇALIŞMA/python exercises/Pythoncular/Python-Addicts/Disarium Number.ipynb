{
 "cells": [
  {
   "cell_type": "markdown",
   "id": "1ab9cbed",
   "metadata": {},
   "source": [
    "A number is said to be Disarium if the sum of its digits \n",
    "raised to their respective positions is the number itself.\n",
    "Create a function that determines whether a number is a Disarium or not.\n",
    "\n",
    "Examples\n",
    "is_disarium(75) ➞ False\n",
    " 7^1 + 5^2 = 7 + 25 = 32\n",
    "is_disarium(135) ➞ True\n",
    " 1^1 + 3^2 + 5^3 = 1 + 9 + 125 = 135\n",
    "is_disarium(544) ➞ False\n",
    "is_disarium(518) ➞ True\n",
    "is_disarium(466) ➞ False\n",
    "is_disarium(8) ➞ True\n",
    "Notes\n",
    "Position of the digit is 1-indexed.\n",
    "A recursive version of this challenge can be found via this link."
   ]
  },
  {
   "cell_type": "code",
   "execution_count": 4,
   "id": "9cad8010",
   "metadata": {},
   "outputs": [
    {
     "data": {
      "text/plain": [
       "False"
      ]
     },
     "execution_count": 4,
     "metadata": {},
     "output_type": "execute_result"
    }
   ],
   "source": [
    "def is_disarium(n):\n",
    "    total = 0\n",
    "    for i, j in enumerate(str(n),1): # i order, j item \n",
    "        total += int(j)**i\n",
    "    return n == total\n",
    "is_disarium(75)"
   ]
  },
  {
   "cell_type": "code",
   "execution_count": 3,
   "id": "58619e63",
   "metadata": {},
   "outputs": [
    {
     "data": {
      "text/plain": [
       "False"
      ]
     },
     "execution_count": 3,
     "metadata": {},
     "output_type": "execute_result"
    }
   ],
   "source": [
    "def is_disarium(x):\n",
    "    list_x = list(str(x))\n",
    "    sum_a = 0\n",
    "    y = 1\n",
    "    for i in list_x :\n",
    "        b = int(i) ** y\n",
    "        y += 1\n",
    "        sum_a += b\n",
    "    if sum_a == x:\n",
    "        return True\n",
    "    else:\n",
    "        return False\n",
    "is_disarium(75)    "
   ]
  },
  {
   "cell_type": "code",
   "execution_count": 5,
   "id": "5ac8b865",
   "metadata": {},
   "outputs": [
    {
     "name": "stdout",
     "output_type": "stream",
     "text": [
      "Enter a number > 75\n",
      "32\n",
      "75 is not a Disarium number.\n"
     ]
    }
   ],
   "source": [
    "number = input('Enter a number > ')\n",
    "total = 0\n",
    "sayac = 1\n",
    "for i in number:\n",
    "    total = (int(i) ** sayac) + total\n",
    "    sayac += 1\n",
    "print(total)\n",
    "if total == int(number):\n",
    "    print('{} is a Disarium number.'.format(number))\n",
    "else:\n",
    "    print('{} is not a Disarium number.'.format(number))"
   ]
  },
  {
   "cell_type": "code",
   "execution_count": 6,
   "id": "867be2aa",
   "metadata": {},
   "outputs": [
    {
     "data": {
      "text/plain": [
       "False"
      ]
     },
     "execution_count": 6,
     "metadata": {},
     "output_type": "execute_result"
    }
   ],
   "source": [
    "def is_disarium(n):\n",
    "    total = 0\n",
    "    for i, j in enumerate(str(n),1):\n",
    "        total += int(j)**i\n",
    "    return n == total\n",
    "is_disarium(75)"
   ]
  },
  {
   "cell_type": "code",
   "execution_count": null,
   "id": "fb67f505",
   "metadata": {},
   "outputs": [],
   "source": []
  }
 ],
 "metadata": {
  "kernelspec": {
   "display_name": "Python 3",
   "language": "python",
   "name": "python3"
  },
  "language_info": {
   "codemirror_mode": {
    "name": "ipython",
    "version": 3
   },
   "file_extension": ".py",
   "mimetype": "text/x-python",
   "name": "python",
   "nbconvert_exporter": "python",
   "pygments_lexer": "ipython3",
   "version": "3.8.8"
  }
 },
 "nbformat": 4,
 "nbformat_minor": 5
}
