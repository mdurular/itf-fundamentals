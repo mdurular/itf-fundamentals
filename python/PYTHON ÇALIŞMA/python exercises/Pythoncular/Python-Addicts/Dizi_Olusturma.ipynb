{
 "cells": [
  {
   "cell_type": "markdown",
   "id": "f2b8ecc2",
   "metadata": {},
   "source": [
    "Girdi olarak m (satır) ve n (sütun) olmak üzere iki rakamı alan \n",
    "ve iki boyutlu bir dizi oluşturan bir Python programı yazınız. \n",
    "Dizinin i. satırı ve j. sütunundaki eleman değeri i*j olmalıdır.\n",
    "Not :\n",
    "i = 0,1.., m-1\n",
    "j = 0,1, n-1.\n",
    "Test Verisi : Satır = 3, Sütun = 4\n",
    "Beklenen Sonuç : [[0, 0, 0, 0], [0, 1, 2, 3], [0, 2, 4, 6]]"
   ]
  },
  {
   "cell_type": "code",
   "execution_count": 1,
   "id": "199e110d",
   "metadata": {},
   "outputs": [
    {
     "name": "stdout",
     "output_type": "stream",
     "text": [
      "Satir sayisini giriniz > 5\n",
      "Sutun sayisini giriniz > 3\n",
      "[[0, 0, 0], [0, 1, 2], [0, 2, 4], [0, 3, 6], [0, 4, 8]]\n"
     ]
    }
   ],
   "source": [
    "satir = int(input('Satir sayisini giriniz > '))\n",
    "sutun = int(input('Sutun sayisini giriniz > '))\n",
    "dictt = {}\n",
    "for i in range(satir):\n",
    "    liste = []\n",
    "    for j in range(sutun):\n",
    "        a = i * j\n",
    "        liste.append(a)\n",
    "    dictt[i] = liste\n",
    "sonuc = [x for x in dictt.values()]\n",
    "print(sonuc)"
   ]
  },
  {
   "cell_type": "code",
   "execution_count": 6,
   "id": "b230c2ff",
   "metadata": {},
   "outputs": [
    {
     "name": "stdout",
     "output_type": "stream",
     "text": [
      "Input number of rows: 5\n",
      "Input number of columns: 4\n",
      "[[0, 0, 0, 0], [0, 1, 2, 3], [0, 2, 4, 6], [0, 3, 6, 9], [0, 4, 8, 12]]\n"
     ]
    }
   ],
   "source": [
    "row_num = int(input(\"Input number of rows: \"))\n",
    "col_num = int(input(\"Input number of columns: \"))\n",
    "multi_list = [[0 for col in range(col_num)] for row in range(row_num)]\n",
    "for row in range(row_num):\n",
    "    for col in range(col_num):\n",
    "        multi_list[row][col]= row*col\n",
    "print(multi_list)"
   ]
  },
  {
   "cell_type": "code",
   "execution_count": 4,
   "id": "cd7b8e8c",
   "metadata": {},
   "outputs": [
    {
     "name": "stdout",
     "output_type": "stream",
     "text": [
      "Input number of rows: 5\n",
      "Input number of columns: 4\n",
      "[[0, 0, 0, 0], [0, 1, 2, 3], [0, 2, 4, 6], [0, 3, 6, 9], [0, 4, 8, 12]]\n"
     ]
    }
   ],
   "source": [
    "row = int(input(\"Input number of rows: \"))\n",
    "col = int(input(\"Input number of columns: \"))\n",
    "print([[i*j for i in range(col)] for j in range(row)])"
   ]
  },
  {
   "cell_type": "code",
   "execution_count": null,
   "id": "64d53cbd",
   "metadata": {},
   "outputs": [],
   "source": []
  },
  {
   "cell_type": "code",
   "execution_count": null,
   "id": "4f9eeb9b",
   "metadata": {},
   "outputs": [],
   "source": []
  },
  {
   "cell_type": "code",
   "execution_count": null,
   "id": "4808e2b0",
   "metadata": {},
   "outputs": [],
   "source": []
  }
 ],
 "metadata": {
  "kernelspec": {
   "display_name": "Python 3",
   "language": "python",
   "name": "python3"
  },
  "language_info": {
   "codemirror_mode": {
    "name": "ipython",
    "version": 3
   },
   "file_extension": ".py",
   "mimetype": "text/x-python",
   "name": "python",
   "nbconvert_exporter": "python",
   "pygments_lexer": "ipython3",
   "version": "3.8.8"
  }
 },
 "nbformat": 4,
 "nbformat_minor": 5
}
