{
 "cells": [
  {
   "cell_type": "markdown",
   "id": "1ec243c4",
   "metadata": {},
   "source": [
    "ir soruda benden     Fibonacci dizisini 0 ile 50 arasında almak için bir Python programı yazın .\n",
    "Not: Fibonacci Dizisi,\n",
    "0, 1, 1, 2, 3, 5, 8, 13, 21, sayıları dizisidir .\n",
    "Her sonraki sayı, kendisinden önceki iki sayı toplanarak bulunur.\n",
    "Beklenen Çıktı : 1 1 2 3 5 8 13 21 34"
   ]
  },
  {
   "cell_type": "code",
   "execution_count": null,
   "id": "cfbc4046",
   "metadata": {},
   "outputs": [],
   "source": [
    "x,y=0,1\n",
    "fibonacci=[]\n",
    "while x+y<50:\n",
    "    x,y = y,x+y\n",
    "    fibonacci.append(y)\n",
    "print(\"fibonacci sayıları:\", fibonacci)"
   ]
  },
  {
   "cell_type": "code",
   "execution_count": null,
   "id": "40a13461",
   "metadata": {},
   "outputs": [],
   "source": [
    "x, y, z = 0, 1, 2\n",
    "iboilenaci=[]\n",
    "while z < 50:\n",
    "    z = x + y\n",
    "    x = y\n",
    "    y = z\n",
    "    iboilenaci.append(x)\n",
    "print(\"fibonacci sayıları:\", iboilenaci)"
   ]
  },
  {
   "cell_type": "code",
   "execution_count": null,
   "id": "c0bd676a",
   "metadata": {},
   "outputs": [],
   "source": [
    "liste = [0 ,1]\n",
    "total = 0\n",
    "while True:\n",
    "    total = liste[-2] + total\n",
    "    liste.append(total)\n",
    "    if total + liste[-2] > 50:\n",
    "        break\n",
    "print(' '.join('{}'.format(i) for i in liste))"
   ]
  },
  {
   "cell_type": "code",
   "execution_count": null,
   "id": "24b7f3bd",
   "metadata": {},
   "outputs": [],
   "source": [
    "liste = [0,1]\n",
    "a,b=0,1\n",
    "while a<48:\n",
    "    toplam=liste[a] + liste[b]\n",
    "    liste.insert(b+1,toplam)\n",
    "    a += 1\n",
    "    b += 1\n",
    "print(liste)\n",
    "print(len(liste))"
   ]
  },
  {
   "cell_type": "code",
   "execution_count": null,
   "id": "dd25caba",
   "metadata": {},
   "outputs": [],
   "source": []
  }
 ],
 "metadata": {
  "kernelspec": {
   "display_name": "Python 3",
   "language": "python",
   "name": "python3"
  },
  "language_info": {
   "codemirror_mode": {
    "name": "ipython",
    "version": 3
   },
   "file_extension": ".py",
   "mimetype": "text/x-python",
   "name": "python",
   "nbconvert_exporter": "python",
   "pygments_lexer": "ipython3",
   "version": "3.8.8"
  }
 },
 "nbformat": 4,
 "nbformat_minor": 5
}
