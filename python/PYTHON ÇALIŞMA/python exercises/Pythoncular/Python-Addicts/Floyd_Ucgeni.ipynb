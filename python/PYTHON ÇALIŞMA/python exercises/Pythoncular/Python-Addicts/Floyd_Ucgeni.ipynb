{
 "cells": [
  {
   "cell_type": "code",
   "execution_count": 5,
   "id": "9e661519",
   "metadata": {},
   "outputs": [
    {
     "name": "stdout",
     "output_type": "stream",
     "text": [
      "please enter number5\n",
      " \n",
      " \n",
      "1    \n",
      "2   3    \n",
      "4   5   6    \n",
      "7   8   9   10   \n",
      "11  12  13  14  15  "
     ]
    }
   ],
   "source": [
    "iput=int(input(\"please enter number\"))\n",
    "sayi=0\n",
    "for i in range(1,iput+2):\n",
    "    print(end=\" \\n\")\n",
    "    for j in range(1,i):\n",
    "         sayi +=1\n",
    "         print(\"{:<3}\".format(sayi),end=\" \")"
   ]
  },
  {
   "cell_type": "code",
   "execution_count": 2,
   "id": "c575befd",
   "metadata": {},
   "outputs": [
    {
     "name": "stdout",
     "output_type": "stream",
     "text": [
      "Enter a number > 5\n",
      "   1\n",
      "   2   3\n",
      "   4   5   6\n",
      "   7   8   9  10\n",
      "  11  12  13  14  15\n"
     ]
    }
   ],
   "source": [
    "number = int(input('Enter a number > '))\n",
    "num = 1\n",
    "satir = 1\n",
    "while satir < number + 1:\n",
    "    for i in range(num, satir + num):\n",
    "        print(f\"{i:>4}\", end = '')\n",
    "    print()\n",
    "    num += satir\n",
    "    satir += 1"
   ]
  },
  {
   "cell_type": "code",
   "execution_count": 3,
   "id": "339241b0",
   "metadata": {},
   "outputs": [
    {
     "name": "stdout",
     "output_type": "stream",
     "text": [
      "How many rows do you want to see in Floyd Triangle : 5\n",
      "1   \n",
      "2   3   \n",
      "4   5   6   \n",
      "7   8   9   10  \n",
      "11  12  13  14  15  \n"
     ]
    }
   ],
   "source": [
    "row = input(\"How many rows do you want to see in Floyd Triangle : \")\n",
    "count = 0\n",
    "for x in range(2,int(row)+2):\n",
    "    for y in range(1,x):\n",
    "        count = count + 1\n",
    "        print(\"{:<3}\".format(count), end = \" \")\n",
    "    print()"
   ]
  },
  {
   "cell_type": "code",
   "execution_count": null,
   "id": "d3fe0241",
   "metadata": {},
   "outputs": [],
   "source": []
  },
  {
   "cell_type": "code",
   "execution_count": null,
   "id": "65237132",
   "metadata": {},
   "outputs": [],
   "source": []
  },
  {
   "cell_type": "code",
   "execution_count": null,
   "id": "75834570",
   "metadata": {},
   "outputs": [],
   "source": []
  }
 ],
 "metadata": {
  "kernelspec": {
   "display_name": "Python 3",
   "language": "python",
   "name": "python3"
  },
  "language_info": {
   "codemirror_mode": {
    "name": "ipython",
    "version": 3
   },
   "file_extension": ".py",
   "mimetype": "text/x-python",
   "name": "python",
   "nbconvert_exporter": "python",
   "pygments_lexer": "ipython3",
   "version": "3.8.8"
  }
 },
 "nbformat": 4,
 "nbformat_minor": 5
}
