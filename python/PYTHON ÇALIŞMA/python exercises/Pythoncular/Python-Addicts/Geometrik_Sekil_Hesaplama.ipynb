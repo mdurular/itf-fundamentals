{
 "cells": [
  {
   "cell_type": "markdown",
   "id": "0e77eaf9",
   "metadata": {},
   "source": [
    "Geometrik şekil hesaplama işlemi yapalım. İlk olarak kullanıcıdan üçgenin mi \n",
    "dörtgenin mi tipini bulmak istediğini sorun.\n",
    "Eğer kullanıcı \"Dörtgen\" cevabını verirse , 4 tane kenar isteyip \n",
    "bu dörtgenin kare mi , dikdörtgen mi yoksa sıradan bir dörtgen mi olduğunu bulmaya çalışın.\n",
    "Eğer kullanıcı \"Üçgen\" cevabını verirse , 3 tane kenar isteyip \n",
    "bu üçgenin ikizkenar mı , eşkenar mı yoksa sıradan bir üçgen mi \n",
    "olduğunu bulmaya çalışın. Eğer verilen kenarlar bir üçgen belirtmiyorsa, \n",
    "ekrana \"Üçgen belirtmiyor\" şeklinde bir yazı yazın.\n",
    "Üçgen belirtme şartını bilmiyorsunuz internetten bakabilirsiniz."
   ]
  },
  {
   "cell_type": "code",
   "execution_count": null,
   "id": "ddbb46cd",
   "metadata": {},
   "outputs": [
    {
     "name": "stdout",
     "output_type": "stream",
     "text": [
      "Eleman Sayısını giriniz: 3\n",
      "a: 15\n",
      "b: 12\n",
      "c: 9\n",
      "Çeşitkenar üçgen\n",
      "Eleman Sayısını giriniz: 4\n",
      "a: 20\n",
      "b: 16\n",
      "c: 20\n",
      "d: 8\n",
      "Normal Dörtgen\n"
     ]
    }
   ],
   "source": [
    "def geometri(sekil):\n",
    "    if len(sekil) == 3:\n",
    "        a = sekil[0]\n",
    "        b = sekil[1]\n",
    "        c = sekil[2]\n",
    "        if (a + b) > c and (a + c) > b and (b + c) > a:\n",
    "            if (a == b) and (a == c) and (b == c):\n",
    "                print(\"Eşkenar Üçgen\")\n",
    "            elif (a == b) and (a == c ):\n",
    "                print(\"İkizkenar üçgen\")\n",
    "            else:\n",
    "                print(\"Çeşitkenar üçgen\")\n",
    "        else:\n",
    "            print(\"Üçgen belirtmiyor\")\n",
    "    elif len(sekil) == 4:\n",
    "        a = sekil[0]\n",
    "        b = sekil[1]\n",
    "        c = sekil[2]\n",
    "        d = sekil[3]\n",
    "        if (a == b) and (a == c) and (b == c) and (c == d) and (a == d):\n",
    "            print(\"Kare\")\n",
    "        elif (a == c) and (b == d):\n",
    "            print(\"Dikdörtgen\")\n",
    "\n",
    "        else:\n",
    "            print(\"Normal Dörtgen\")\n",
    "    else:\n",
    "        print(\"Herhangi bir şekilde değil\")\n",
    "while True:\n",
    "    eleman_sayisi = int(input(\"Eleman Sayısını giriniz: \"))\n",
    "    if (eleman_sayisi == 3):\n",
    "        a = int(input(\"a: \"))\n",
    "        b = int(input(\"b: \"))\n",
    "        c = int(input(\"c: \"))\n",
    "        geometri([a,b,c])\n",
    "\n",
    "    elif (eleman_sayisi == 4):\n",
    "        a = int(input(\"a: \"))\n",
    "        b = int(input(\"b: \"))\n",
    "        c = int(input(\"c: \"))\n",
    "        d = int(input(\"d: \"))\n",
    "        geometri([a,b,c,d])\n",
    "    else:\n",
    "        print(\"Eleman sayınız yanlış lütfen tekrar deneyiniz.\")"
   ]
  },
  {
   "cell_type": "code",
   "execution_count": null,
   "id": "2ae76789",
   "metadata": {},
   "outputs": [],
   "source": []
  },
  {
   "cell_type": "code",
   "execution_count": null,
   "id": "4f47812a",
   "metadata": {},
   "outputs": [],
   "source": []
  },
  {
   "cell_type": "code",
   "execution_count": null,
   "id": "42903c5b",
   "metadata": {},
   "outputs": [],
   "source": []
  },
  {
   "cell_type": "code",
   "execution_count": null,
   "id": "12e189ec",
   "metadata": {},
   "outputs": [],
   "source": []
  },
  {
   "cell_type": "code",
   "execution_count": null,
   "id": "cdb7ba3a",
   "metadata": {},
   "outputs": [],
   "source": []
  },
  {
   "cell_type": "code",
   "execution_count": null,
   "id": "45e69e63",
   "metadata": {},
   "outputs": [],
   "source": []
  }
 ],
 "metadata": {
  "kernelspec": {
   "display_name": "Python 3",
   "language": "python",
   "name": "python3"
  },
  "language_info": {
   "codemirror_mode": {
    "name": "ipython",
    "version": 3
   },
   "file_extension": ".py",
   "mimetype": "text/x-python",
   "name": "python",
   "nbconvert_exporter": "python",
   "pygments_lexer": "ipython3",
   "version": "3.8.8"
  }
 },
 "nbformat": 4,
 "nbformat_minor": 5
}
