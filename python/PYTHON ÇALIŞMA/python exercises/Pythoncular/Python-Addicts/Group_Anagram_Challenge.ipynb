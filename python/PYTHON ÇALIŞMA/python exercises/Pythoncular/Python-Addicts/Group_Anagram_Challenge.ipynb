{
 "cells": [
  {
   "cell_type": "markdown",
   "id": "491f15d7",
   "metadata": {},
   "source": [
    "Group Anagrams\n",
    "Purpose of the this coding challenge is to solve a grouping algorithm in Python.\n",
    "\n",
    "Learning Outcomes\n",
    "At the end of the this coding challenge, students will be able to;\n",
    "\n",
    "get a basic understanding of grouping algorithms.\n",
    "demonstrate their knowledge of lists, dicts in python\n",
    "implement loops to solve the problems in python\n",
    "get a better understanding of computational thinking concepts\n",
    "Problem Statement\n",
    "Given a list of strings, group anagrams together.\n",
    "\n",
    "Example:\n",
    "\n",
    "Input:\n",
    "\n",
    "[\"eat\", \"tea\", \"tan\", \"ate\", \"nat\", \"bat\"],\n",
    "Output:\n",
    "[\n",
    "  [\"ate\",\"eat\",\"tea\"],\n",
    "  [\"nat\",\"tan\"],\n",
    "  [\"bat\"]\n",
    "]\n",
    "Note: All inputs will be in lowercase. The order of your output does not matter."
   ]
  },
  {
   "cell_type": "code",
   "execution_count": null,
   "id": "ac49eb41",
   "metadata": {},
   "outputs": [],
   "source": [
    "kelime = [\"eat\", \"tea\", \"tan\", \"ate\", \"nat\", \"bat\"]\n",
    "diclist ={}\n",
    "\n",
    "for i in kelime:\n",
    "    x = str(sorted(i))  # sorted returns a list, so you can make it a string again using join: # c = ''.join(b)\n",
    "    if x in diclist:\n",
    "            diclist[x].append(i)  #dictionary[key] = value\n",
    "    else: \n",
    "            diclist[x] = [i]\n",
    "\n",
    "print(list(diclist.values()))"
   ]
  },
  {
   "cell_type": "code",
   "execution_count": null,
   "id": "c3ccfa6e",
   "metadata": {},
   "outputs": [],
   "source": [
    "kelime = [\"eat\", \"tea\", \"tan\", \"ate\", \"nat\", \"bat\"]\n",
    "lst ={}\n",
    "for i in kelime:\n",
    "    print(i)\n",
    "    x = str(sorted(i))\n",
    "    print(x)\n",
    "    if x in lst:\n",
    "            lst[x].append(i)\n",
    "            print(lst[x])\n",
    "    else: \n",
    "            lst[x] = [i]\n",
    "            print(lst[x])\n",
    "print(list(lst.values()))"
   ]
  }
 ],
 "metadata": {
  "kernelspec": {
   "display_name": "Python 3",
   "language": "python",
   "name": "python3"
  },
  "language_info": {
   "codemirror_mode": {
    "name": "ipython",
    "version": 3
   },
   "file_extension": ".py",
   "mimetype": "text/x-python",
   "name": "python",
   "nbconvert_exporter": "python",
   "pygments_lexer": "ipython3",
   "version": "3.8.8"
  }
 },
 "nbformat": 4,
 "nbformat_minor": 5
}
