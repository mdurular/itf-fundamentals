{
 "cells": [
  {
   "cell_type": "markdown",
   "id": "289ffd5a",
   "metadata": {},
   "source": [
    "Write a Python program to find the values of length six in a given list using Lambda.\n",
    "Sample Output:\n",
    "Monday\n",
    "Friday\n",
    "Sunday"
   ]
  },
  {
   "cell_type": "code",
   "execution_count": null,
   "id": "daed361a",
   "metadata": {},
   "outputs": [],
   "source": [
    "gunler = ['monday', 'tuesday', 'wednesday', 'thursday', 'friday', 'saturday', 'sunday']\n",
    "sonuc = list(filter((lambda x: True if len(x) == 6 else False), gunler))\n",
    "print(sonuc)"
   ]
  },
  {
   "cell_type": "code",
   "execution_count": 1,
   "id": "ae6290e5",
   "metadata": {},
   "outputs": [
    {
     "name": "stdout",
     "output_type": "stream",
     "text": [
      "['sergen']\n"
     ]
    }
   ],
   "source": [
    "list_1 = [\"harun\", \"mustafa\", \"doruk\",\"ahmet\",\"sergen\",\"necip\"]\n",
    "print(list(filter(lambda x: len(x)==6, list_1)))"
   ]
  },
  {
   "cell_type": "code",
   "execution_count": 2,
   "id": "47b150e9",
   "metadata": {},
   "outputs": [
    {
     "name": "stdout",
     "output_type": "stream",
     "text": [
      "['Monday', 'Friday', 'Sunday']\n"
     ]
    }
   ],
   "source": [
    "days=[ \"Monday\", \"Friday\", \"Sunday\" , \"Tuesday\", \"Wensday\", \"Saturday\", \"Thursday\"]\n",
    "lenght = list(filter(lambda x : len(x)==6, days))\n",
    "print(lenght)"
   ]
  },
  {
   "cell_type": "code",
   "execution_count": 3,
   "id": "21335f24",
   "metadata": {},
   "outputs": [
    {
     "name": "stdout",
     "output_type": "stream",
     "text": [
      "['Monday', 'Friday', 'Sunday']\n"
     ]
    }
   ],
   "source": [
    "list1 = ['Monday', 'Tuesday', 'Wednesday', 'Thursday', 'Friday', 'Saturday', 'Sunday']\n",
    "six_len = filter(lambda x : len(x) == 6, list1)  \n",
    "print(list(six_len))"
   ]
  },
  {
   "cell_type": "code",
   "execution_count": 4,
   "id": "39e07ed8",
   "metadata": {},
   "outputs": [
    {
     "name": "stdout",
     "output_type": "stream",
     "text": [
      "Monday\n",
      "Friday\n",
      "Sunday\n"
     ]
    }
   ],
   "source": [
    "for day in list(filter(lambda day: len(day) == 6, days)):\n",
    "    print(day.capitalize())"
   ]
  },
  {
   "cell_type": "code",
   "execution_count": 5,
   "id": "97b6d4fe",
   "metadata": {},
   "outputs": [
    {
     "data": {
      "text/plain": [
       "['Monday', 'Friday', 'Sunday']"
      ]
     },
     "execution_count": 5,
     "metadata": {},
     "output_type": "execute_result"
    }
   ],
   "source": [
    "weekdays = ['Monday', 'Tuesday', 'Wednesday', 'Thursday', 'Friday', 'Saturday', 'Sunday']\n",
    "[i for i in weekdays if len(i) == 6]"
   ]
  },
  {
   "cell_type": "code",
   "execution_count": 6,
   "id": "ec37d3ab",
   "metadata": {},
   "outputs": [
    {
     "name": "stdout",
     "output_type": "stream",
     "text": [
      "Monday\n",
      "Friday\n",
      "Sunday\n"
     ]
    }
   ],
   "source": [
    "weekdays = ['Monday', 'Tuesday', 'Wednesday', 'Thursday', 'Friday', 'Saturday', 'Sunday'] \n",
    "\n",
    "for d in (filter(lambda day: day if len(day)==6 else '', weekdays)): \n",
    "    print(d)"
   ]
  },
  {
   "cell_type": "code",
   "execution_count": 7,
   "id": "db83fdd2",
   "metadata": {},
   "outputs": [
    {
     "name": "stdout",
     "output_type": "stream",
     "text": [
      "Monday Friday Sunday\n"
     ]
    }
   ],
   "source": [
    "days=[ \"Monday\", \"Friday\", \"Sunday\" , \"Tuesday\", \"Wensday\", \"Saturday\", \"Thursday\"]\n",
    "lenght = filter(lambda x : len(x)==6, days)\n",
    "print(*lenght)"
   ]
  },
  {
   "cell_type": "code",
   "execution_count": null,
   "id": "48e44141",
   "metadata": {},
   "outputs": [],
   "source": []
  }
 ],
 "metadata": {
  "kernelspec": {
   "display_name": "Python 3",
   "language": "python",
   "name": "python3"
  },
  "language_info": {
   "codemirror_mode": {
    "name": "ipython",
    "version": 3
   },
   "file_extension": ".py",
   "mimetype": "text/x-python",
   "name": "python",
   "nbconvert_exporter": "python",
   "pygments_lexer": "ipython3",
   "version": "3.8.8"
  }
 },
 "nbformat": 4,
 "nbformat_minor": 5
}
