{
 "cells": [
  {
   "cell_type": "code",
   "execution_count": null,
   "id": "f8cbe9f4",
   "metadata": {},
   "outputs": [],
   "source": [
    "Given an array of non-negative integers representing an elevation map as shown \n",
    "below where the width of each bar is 1, compute how much water will be trapped \n",
    "on terrain after raining. To clarify further, the black boxes represents \n",
    "terrain and its height, and the blue boxes represents the water that could be \n",
    "trapped on the terrain.Lütfen bir iki sonra thread olarak çözümleri paylaşalım.\n",
    "Mevcut müfredat dahilinde çözelim...\n"
   ]
  },
  {
   "cell_type": "code",
   "execution_count": 1,
   "id": "2f6a7bf6",
   "metadata": {},
   "outputs": [
    {
     "name": "stdout",
     "output_type": "stream",
     "text": [
      "Please enter an non-negative integer or press 'q' to stop adding into the list > 2\n",
      "Please enter an non-negative integer or press 'q' to stop adding into the list > 2\n",
      "Please enter an non-negative integer or press 'q' to stop adding into the list > 4\n",
      "Please enter an non-negative integer or press 'q' to stop adding into the list > 1\n",
      "Please enter an non-negative integer or press 'q' to stop adding into the list > 5\n",
      "Please enter an non-negative integer or press 'q' to stop adding into the list > 1\n",
      "Please enter an non-negative integer or press 'q' to stop adding into the list > 4\n",
      "Please enter an non-negative integer or press 'q' to stop adding into the list > 2\n",
      "Please enter an non-negative integer or press 'q' to stop adding into the list > q\n",
      "6 bars of water will be trapped on terrain after raining.\n"
     ]
    }
   ],
   "source": [
    "listt = []\n",
    "sayac1, sayac2, total = 0, 0, 0\n",
    "while True:\n",
    "    answer = input(\"Please enter an non-negative integer or press 'q' to stop adding into the list > \")\n",
    "    if answer.lower() == 'q':\n",
    "        break\n",
    "    else:\n",
    "        listt.append(int(answer))\n",
    "\n",
    "for x in range(max(listt)):\n",
    "    listt2 = []\n",
    "    for i in listt:\n",
    "        if i != 0:\n",
    "            a = listt.index(i)\n",
    "            break\n",
    "    for k in listt[::-1]:\n",
    "        if k != 0:\n",
    "            b = listt[::-1].index(k)\n",
    "            b = len(listt) - (b + 1)\n",
    "            break\n",
    "    \n",
    "    if a == b:\n",
    "        break\n",
    "    \n",
    "    for v in listt[a:b]:\n",
    "        sayac1 += 1\n",
    "        if v != 0:\n",
    "            sayac2 += 1\n",
    "    total = sayac1 - sayac2\n",
    "    \n",
    "    for p in listt:\n",
    "        if p == 0:\n",
    "            listt2.append(p)\n",
    "        else:\n",
    "            p = p - 1\n",
    "            listt2.append(p)\n",
    "    listt = listt2\n",
    "print('{} bars of water will be trapped on terrain after raining.'.format(total))"
   ]
  },
  {
   "cell_type": "code",
   "execution_count": 2,
   "id": "1e6e2d71",
   "metadata": {},
   "outputs": [
    {
     "data": {
      "text/plain": [
       "6"
      ]
     },
     "execution_count": 2,
     "metadata": {},
     "output_type": "execute_result"
    }
   ],
   "source": [
    "def solution(array):\n",
    "    water = 0\n",
    "    x = 0 \n",
    "    while x < len(array)-1:\n",
    "        for ind in range(x+1,len(array)):\n",
    "            if array[ind] >= array[x] :\n",
    "                water += (ind-x-1) * array[x] - sum(array[x+1:ind])\n",
    "                x = ind\n",
    "                break\n",
    "        else:\n",
    "            t = max(array[x+1:])\n",
    "            t_index = array[x+1:].index(t) + x+1\n",
    "            water += (t_index-x-1)*t - sum(array[x+1:t_index])\n",
    "            x = t_index\n",
    "    return water\n",
    "\n",
    "input1 = [0,1,0,2,1,0,1,3,2,1,2,1]\n",
    "solution(input1)"
   ]
  },
  {
   "cell_type": "code",
   "execution_count": 3,
   "id": "0ddc5286",
   "metadata": {},
   "outputs": [
    {
     "name": "stdout",
     "output_type": "stream",
     "text": [
      "Type 'ok' when you are done: 0\n",
      "Type 'ok' when you are done: 1\n",
      "Type 'ok' when you are done: 0\n",
      "Type 'ok' when you are done: 2\n",
      "Type 'ok' when you are done: 1\n",
      "Type 'ok' when you are done: 0\n",
      "Type 'ok' when you are done: 1\n",
      "Type 'ok' when you are done: 3\n",
      "Type 'ok' when you are done: 2\n",
      "Type 'ok' when you are done: 1\n",
      "Type 'ok' when you are done: 2\n",
      "Type 'ok' when you are done: 1\n",
      "Type 'ok' when you are done: ok\n",
      "6\n"
     ]
    }
   ],
   "source": [
    "liste=[]  #Raife hocamin cozumu\n",
    "while True:\n",
    "    a=input(\"Type 'ok' when you are done: \")\n",
    "    if a.isdigit():\n",
    "        liste.append(int(a))\n",
    "    else: \n",
    "        break\n",
    "k=0\n",
    "toplam=0\n",
    "for i in range(1,len(liste)-1):\n",
    "    k = min(max(liste[i+1:]), max(liste[(i-1)::-1]))\n",
    "    if liste[i] < k:\n",
    "        toplam += k - liste[i]\n",
    "print(toplam)"
   ]
  },
  {
   "cell_type": "code",
   "execution_count": null,
   "id": "b890383a",
   "metadata": {},
   "outputs": [],
   "source": []
  },
  {
   "cell_type": "code",
   "execution_count": null,
   "id": "cfb9bd70",
   "metadata": {},
   "outputs": [],
   "source": []
  }
 ],
 "metadata": {
  "kernelspec": {
   "display_name": "Python 3",
   "language": "python",
   "name": "python3"
  },
  "language_info": {
   "codemirror_mode": {
    "name": "ipython",
    "version": 3
   },
   "file_extension": ".py",
   "mimetype": "text/x-python",
   "name": "python",
   "nbconvert_exporter": "python",
   "pygments_lexer": "ipython3",
   "version": "3.8.8"
  }
 },
 "nbformat": 4,
 "nbformat_minor": 5
}
