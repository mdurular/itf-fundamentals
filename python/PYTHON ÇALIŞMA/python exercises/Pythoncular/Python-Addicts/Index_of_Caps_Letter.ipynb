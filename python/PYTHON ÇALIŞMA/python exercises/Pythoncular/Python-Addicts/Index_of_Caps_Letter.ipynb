{
 "cells": [
  {
   "cell_type": "markdown",
   "id": "7ee116c4",
   "metadata": {},
   "source": [
    "Create a function that takes a single string as argument and returns an ordered list containing the indices of all capital letters in the string.\n",
    "\n",
    "Examples\n",
    "index_of_caps(\"eDaBiT\") ➞ [1, 3, 5]\n",
    "\n",
    "index_of_caps(\"eQuINoX\") ➞ [1, 3, 4, 6]\n",
    "\n",
    "index_of_caps(\"determine\") ➞ []\n",
    "\n",
    "index_of_caps(\"STRIKE\") ➞ [0, 1, 2, 3, 4, 5]\n",
    "\n",
    "index_of_caps(\"sUn\") ➞ [1]\n",
    "Notes\n",
    "Return an empty list if no uppercase letters are found in the string.\n",
    "Special characters ($#@%) and numbers will be included in some test cases.\n",
    "Assume all words do not have duplicate letters."
   ]
  },
  {
   "cell_type": "code",
   "execution_count": null,
   "id": "9f037213",
   "metadata": {},
   "outputs": [],
   "source": [
    "def index_of_caps(word):\n",
    "\tresult = []\n",
    "\tfor i in word:\n",
    "\t\tif i.isupper():\n",
    "\t\t\tresult.append(word.index(i))\n",
    "\treturn result"
   ]
  },
  {
   "cell_type": "code",
   "execution_count": null,
   "id": "cedc1b1a",
   "metadata": {},
   "outputs": [],
   "source": [
    "def index_of_caps(word):\n",
    "\treturn [word.index(i) for i in word if i.isupper()]"
   ]
  },
  {
   "cell_type": "code",
   "execution_count": null,
   "id": "d1310292",
   "metadata": {},
   "outputs": [],
   "source": [
    "def index_of_caps(word):\n",
    "    return [i for i in range(len(word)) if word[i].isupper()]"
   ]
  },
  {
   "cell_type": "code",
   "execution_count": null,
   "id": "d187b553",
   "metadata": {},
   "outputs": [],
   "source": [
    "def index_of_caps(word):\n",
    "    return [i for i in range(len(word)) if word[i].isupper()]"
   ]
  },
  {
   "cell_type": "code",
   "execution_count": null,
   "id": "b1caa3c0",
   "metadata": {},
   "outputs": [],
   "source": []
  }
 ],
 "metadata": {
  "kernelspec": {
   "display_name": "Python 3",
   "language": "python",
   "name": "python3"
  },
  "language_info": {
   "codemirror_mode": {
    "name": "ipython",
    "version": 3
   },
   "file_extension": ".py",
   "mimetype": "text/x-python",
   "name": "python",
   "nbconvert_exporter": "python",
   "pygments_lexer": "ipython3",
   "version": "3.8.8"
  }
 },
 "nbformat": 4,
 "nbformat_minor": 5
}
