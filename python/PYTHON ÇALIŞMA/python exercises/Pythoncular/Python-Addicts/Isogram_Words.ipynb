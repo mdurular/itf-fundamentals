{
 "cells": [
  {
   "cell_type": "markdown",
   "id": "b4420755",
   "metadata": {},
   "source": [
    "An isogram is a word that has no duplicate letters. \n",
    "Create a function that takes a string and returns either True or False \n",
    "depending on whether or not it's an \"isogram\"."
   ]
  },
  {
   "cell_type": "code",
   "execution_count": 7,
   "id": "bec65b4d",
   "metadata": {},
   "outputs": [
    {
     "data": {
      "text/plain": [
       "True"
      ]
     },
     "execution_count": 7,
     "metadata": {},
     "output_type": "execute_result"
    }
   ],
   "source": [
    "def is_isogram(txt):\n",
    "    word = txt.lower()\n",
    "    for i in word:\n",
    "        if word.count(i) > 1:\n",
    "            return False\n",
    "    return True\n",
    "is_isogram(\"Algorism\")"
   ]
  },
  {
   "cell_type": "code",
   "execution_count": 6,
   "id": "b0cf7993",
   "metadata": {},
   "outputs": [
    {
     "data": {
      "text/plain": [
       "True"
      ]
     },
     "execution_count": 6,
     "metadata": {},
     "output_type": "execute_result"
    }
   ],
   "source": [
    "def is_isogram(txt):\n",
    "    return len(txt) == len(set(txt.lower()))\n",
    "is_isogram(\"Algorism\")"
   ]
  },
  {
   "cell_type": "code",
   "execution_count": 9,
   "id": "23321bf1",
   "metadata": {},
   "outputs": [
    {
     "data": {
      "text/plain": [
       "True"
      ]
     },
     "execution_count": 9,
     "metadata": {},
     "output_type": "execute_result"
    }
   ],
   "source": [
    "is_isogram = lambda txt: len(set(txt.lower()))==len(txt)\n",
    "is_isogram(\"Algorism\")"
   ]
  },
  {
   "cell_type": "code",
   "execution_count": null,
   "id": "a3864595",
   "metadata": {},
   "outputs": [],
   "source": [
    "is_isogram = lambda txt: len(txt) == len( set( txt.casefold() ) )"
   ]
  },
  {
   "cell_type": "code",
   "execution_count": null,
   "id": "b2d424fb",
   "metadata": {},
   "outputs": [],
   "source": [
    "\"\"\"\n",
    "An isogram is a word that has no repeating letters, consecutive or nonconsecutive. \n",
    "Create a function that takes a string and returns either True or False depending \n",
    "on whether or not it's an \"isogram\".\n",
    "\"\"\"\n",
    "\n",
    "def is_isogram(txt):\n",
    "\tto_lower = txt.lower()\n",
    "\t\n",
    "\tfor letter in to_lower:\n",
    "\t\tif to_lower.count(letter) > 1:\n",
    "\t\t\treturn False\n",
    "\treturn True"
   ]
  },
  {
   "cell_type": "code",
   "execution_count": null,
   "id": "28dc0289",
   "metadata": {},
   "outputs": [],
   "source": []
  }
 ],
 "metadata": {
  "kernelspec": {
   "display_name": "Python 3",
   "language": "python",
   "name": "python3"
  },
  "language_info": {
   "codemirror_mode": {
    "name": "ipython",
    "version": 3
   },
   "file_extension": ".py",
   "mimetype": "text/x-python",
   "name": "python",
   "nbconvert_exporter": "python",
   "pygments_lexer": "ipython3",
   "version": "3.8.8"
  }
 },
 "nbformat": 4,
 "nbformat_minor": 5
}
