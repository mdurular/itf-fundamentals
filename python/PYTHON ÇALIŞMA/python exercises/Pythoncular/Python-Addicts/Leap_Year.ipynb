{
 "cells": [
  {
   "cell_type": "markdown",
   "id": "2d72a359",
   "metadata": {},
   "source": [
    "Soru: Kullanıcıdan kontrol edilmek üzere bir yıl girmesini isteyiniz. \n",
    "Girilen yılın artık yıl olup olmadığını çıktı veren bir python programı yazınız.\n",
    "Artık yıl, Miladî takvimde (Gregoryen takvim) 365 yerine 366 günü olan yıl. \n",
    "Bu fazladan gün (artık gün), normalde 28 gün olan şubat ayına \n",
    "29 Şubat'ın eklenmesi ile elde edilir. Dört yılda bir yapılan bu \n",
    "uygulamanın nedeni Dünya'nın Güneş çevresinde dönme süresinin (astronomik yıl), \n",
    "Güneş'in aynı meridyenden iki kez geçişi arasındaki ortalama zamanın (gün) tam katı olmamasıdır. \n",
    "Bir astronomik yıl yaklaşık olarak 365,242 gün olmasına rağmen[1] normal \n",
    "bir takvim yılı 365 gündür. (Wikipedia) (edited) "
   ]
  },
  {
   "cell_type": "code",
   "execution_count": 2,
   "id": "827ce88d",
   "metadata": {},
   "outputs": [
    {
     "name": "stdout",
     "output_type": "stream",
     "text": [
      "Please enter the year to see whether it is a leap year or not > 1983\n",
      "1983 is not a leap year.\n"
     ]
    }
   ],
   "source": [
    "yil = int(input('Please enter the year to see whether it is a leap year or not > '))\n",
    "if yil % 400 == 0:\n",
    "    print('{} is a leap year.'.format(yil))\n",
    "elif yil % 100 == 0:\n",
    "    if yil % 400 == 0:\n",
    "        print('{} is a leap year.'.format(yil))\n",
    "    else:\n",
    "        print('{} is not a leap year.'.format(yil))\n",
    "elif yil % 4 == 0:\n",
    "    if yil % 100 != 0:\n",
    "        print('{} is a leap year.'.format(yil))\n",
    "    else:\n",
    "        print('{} is not a leap year.'.format(yil))\n",
    "else:\n",
    "    print('{} is not a leap year.'.format(yil)) "
   ]
  },
  {
   "cell_type": "code",
   "execution_count": 3,
   "id": "3c3a6ae9",
   "metadata": {},
   "outputs": [
    {
     "name": "stdout",
     "output_type": "stream",
     "text": [
      "Enter a year: 1983\n",
      "False\n"
     ]
    }
   ],
   "source": [
    "Year = int(input(\"Enter a year: \"))\n",
    "x = Year % 4 == 0\n",
    "y = Year % 100 != 0\n",
    "z = Year % 400 == 0\n",
    "leap_year = (x and y) or z\n",
    "print(leap_year)"
   ]
  },
  {
   "cell_type": "code",
   "execution_count": 4,
   "id": "3f9df1f8",
   "metadata": {},
   "outputs": [
    {
     "name": "stdout",
     "output_type": "stream",
     "text": [
      "öğrenmek istediğiniz yılı giriniz : 2004\n",
      "artık yıl\n"
     ]
    }
   ],
   "source": [
    "sayı=int(input(\"öğrenmek istediğiniz yılı giriniz : \"))\n",
    "if (sayı%4==0 and sayı%100!=0) or sayı%400==0:\n",
    "  print(\"artık yıl\") \n",
    "else:\n",
    "  print(\"artık yıl değil\")"
   ]
  },
  {
   "cell_type": "code",
   "execution_count": 5,
   "id": "6ea5a0df",
   "metadata": {},
   "outputs": [
    {
     "name": "stdout",
     "output_type": "stream",
     "text": [
      "Bir yıl giriniz: 2004\n",
      "2004 bir artık yıl olup bu yılda 366 gün vardır.\n"
     ]
    }
   ],
   "source": [
    "Yıl = int (input (\"Bir yıl giriniz: \"))\n",
    "if Yıl%4 ==0:\n",
    "  if Yıl%100==0  and Yıl%400 !=0:\n",
    "    print(Yıl, \"bir artık yıl değildir. 365 gün vardır.\")\n",
    "  else:\n",
    "    print(Yıl, \"bir artık yıl olup bu yılda 366 gün vardır.\")\n",
    "else:\n",
    "  print(Yıl, \"bir artık yıl değildir. 365 gün vardır.\")"
   ]
  }
 ],
 "metadata": {
  "kernelspec": {
   "display_name": "Python 3",
   "language": "python",
   "name": "python3"
  },
  "language_info": {
   "codemirror_mode": {
    "name": "ipython",
    "version": 3
   },
   "file_extension": ".py",
   "mimetype": "text/x-python",
   "name": "python",
   "nbconvert_exporter": "python",
   "pygments_lexer": "ipython3",
   "version": "3.8.8"
  }
 },
 "nbformat": 4,
 "nbformat_minor": 5
}
