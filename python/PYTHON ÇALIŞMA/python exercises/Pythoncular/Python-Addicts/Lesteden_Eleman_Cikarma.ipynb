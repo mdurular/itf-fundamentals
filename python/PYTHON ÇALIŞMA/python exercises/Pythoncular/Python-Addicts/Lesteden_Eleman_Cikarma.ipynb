{
 "cells": [
  {
   "cell_type": "markdown",
   "id": "91df78b6",
   "metadata": {},
   "source": [
    "0., 4. ve 5. elemanları çıkardıktan sonra belirtilen listeyi yazdıracak bir Python programı yazın. \n",
    "Örnek Liste : ['Kırmızı', 'Yeşil', 'Beyaz', 'Siyah', 'Pembe', 'Sarı']\n",
    "Beklenen Çıktı : ['Yeşil', 'Beyaz', 'Siyah']\n",
    "Not: 3 satırda yapın."
   ]
  },
  {
   "cell_type": "code",
   "execution_count": 1,
   "id": "65cf91a4",
   "metadata": {},
   "outputs": [
    {
     "name": "stdout",
     "output_type": "stream",
     "text": [
      "['Yeşil', 'Beyaz', 'Siyah']\n"
     ]
    }
   ],
   "source": [
    "liste = ['Kırmızı', 'Yeşil', 'Beyaz', 'Siyah', 'Pembe', 'Sarı']\n",
    "a = list(filter(lambda x : x == liste[1] or x == liste[2] or x == liste[3], liste))\n",
    "print(a)"
   ]
  },
  {
   "cell_type": "code",
   "execution_count": 2,
   "id": "9f0affd0",
   "metadata": {},
   "outputs": [
    {
     "data": {
      "text/plain": [
       "['Yeşil', 'Beyaz', 'Siyah']"
      ]
     },
     "execution_count": 2,
     "metadata": {},
     "output_type": "execute_result"
    }
   ],
   "source": [
    "def cıkar(lstx):\n",
    "  new_lst =[]\n",
    "  k = 0\n",
    "  while k < len(lstx):\n",
    "    if k != 0 and k != 4 and k != 5:\n",
    "      new_lst.append(lstx[k])\n",
    "    k += 1\n",
    "  return new_lst\n",
    "\n",
    "cıkar(['Kırmızı', 'Yeşil', 'Beyaz', 'Siyah', 'Pembe', 'Sarı'])"
   ]
  },
  {
   "cell_type": "code",
   "execution_count": null,
   "id": "c109a9f8",
   "metadata": {},
   "outputs": [],
   "source": []
  }
 ],
 "metadata": {
  "kernelspec": {
   "display_name": "Python 3",
   "language": "python",
   "name": "python3"
  },
  "language_info": {
   "codemirror_mode": {
    "name": "ipython",
    "version": 3
   },
   "file_extension": ".py",
   "mimetype": "text/x-python",
   "name": "python",
   "nbconvert_exporter": "python",
   "pygments_lexer": "ipython3",
   "version": "3.8.8"
  }
 },
 "nbformat": 4,
 "nbformat_minor": 5
}
