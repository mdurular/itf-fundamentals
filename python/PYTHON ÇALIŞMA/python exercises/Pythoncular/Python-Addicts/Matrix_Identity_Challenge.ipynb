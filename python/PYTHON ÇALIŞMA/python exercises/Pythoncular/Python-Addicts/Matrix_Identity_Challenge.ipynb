{
 "cells": [
  {
   "cell_type": "markdown",
   "id": "35ebb89b",
   "metadata": {},
   "source": [
    "An identity matrix is defined as a square matrix with 1s running from the top left of the square to the bottom right. The rest are 0s. The identity matrix has applications ranging from machine learning to the general theory of relativity.\n",
    "\n",
    "Create a function that takes an integer n and returns the identity matrix of n x n dimensions. For this challenge, if the integer is negative, return the mirror image of the identity matrix of n x n dimensions.. It does not matter if the mirror image is left-right or top-bottom.\n",
    "\n",
    "Incompatible types passed as n should return the string \"Error\".\n",
    "\n",
    "id_mtrx(2) ➞ [\n",
    "  [1, 0],\n",
    "  [0, 1]\n",
    "]\n",
    "\n",
    "id_mtrx(-2) ➞ [\n",
    "  [0, 1],\n",
    "  [1, 0]\n",
    "]\n",
    "\n",
    "id_mtrx(0) ➞ []"
   ]
  },
  {
   "cell_type": "code",
   "execution_count": 7,
   "id": "d618b649",
   "metadata": {},
   "outputs": [
    {
     "data": {
      "text/plain": [
       "[[1, 0], [0, 1]]"
      ]
     },
     "execution_count": 7,
     "metadata": {},
     "output_type": "execute_result"
    }
   ],
   "source": [
    "def id_mtrx(n):\n",
    "    if not isinstance(n,int):\n",
    "        return \"Error\"\n",
    "    else:\n",
    "        lstm = []\n",
    "        for i in range(abs(n)):\n",
    "            free_lstm = []\n",
    "            for j in range(abs(n)):\n",
    "                if i == j:\n",
    "                    free_lstm.append(1)\n",
    "                else:\n",
    "                    free_lstm.append(0)\n",
    "            lstm.append(free_lstm)\n",
    "    return lstm[::-1] if n < 0 else (lstm if n > 0  else [])\n",
    "id_mtrx(2)"
   ]
  },
  {
   "cell_type": "code",
   "execution_count": 22,
   "id": "4c42140c",
   "metadata": {},
   "outputs": [
    {
     "data": {
      "text/plain": [
       "[[1, 0], [0, 1]]"
      ]
     },
     "execution_count": 22,
     "metadata": {},
     "output_type": "execute_result"
    }
   ],
   "source": [
    "def id_mtrx(n):\n",
    "    if not type(n) == int: return 'Error'\n",
    "    s = 1 if n >= 0 else -1\n",
    "    return [[1 if i == j else 0 for i in range(abs(n))] \n",
    "                        for j in range(abs(n))][::s]\n",
    "id_mtrx(2)"
   ]
  },
  {
   "cell_type": "code",
   "execution_count": 34,
   "id": "dce1c355",
   "metadata": {},
   "outputs": [
    {
     "data": {
      "text/plain": [
       "[[1, 0], [0, 1]]"
      ]
     },
     "execution_count": 34,
     "metadata": {},
     "output_type": "execute_result"
    }
   ],
   "source": [
    "def matrix(n):\n",
    "    if type(n) != int: return 'Error'\n",
    "    a = abs(n)\n",
    "    return [[1 if j == i else 0 for j in range(a)][::int(a/n)] for i in range(a)]\n",
    "matrix(2)"
   ]
  },
  {
   "cell_type": "code",
   "execution_count": null,
   "id": "9d863200",
   "metadata": {},
   "outputs": [],
   "source": [
    "def id_mtrx(n):\n",
    "\ttry:\n",
    "\t\tmatrix = [[0 for x in range (abs(n))] for y in range(abs(n))]\n",
    "\t\tfor i in range(abs(n)):\n",
    "\t\t\tmatrix[i][i] = 1\n",
    "\t\tif n < 0:\n",
    "\t\t\tmatrix.reverse()\n",
    "\t\treturn matrix\n",
    "\texcept:\n",
    "\t\treturn \"Error\"\n",
    "id_mtrx(2)"
   ]
  },
  {
   "cell_type": "code",
   "execution_count": 30,
   "id": "f179af56",
   "metadata": {},
   "outputs": [
    {
     "data": {
      "text/plain": [
       "[[1, 0], [0, 1]]"
      ]
     },
     "execution_count": 30,
     "metadata": {},
     "output_type": "execute_result"
    }
   ],
   "source": [
    "def id_mtrx(n):\n",
    "  if type(n)!=int:\n",
    "    return 'Error' \n",
    "  else:\n",
    "    lst= [[1 if x==y else 0 for y in range(abs(n))]for x in range(abs(n))]\n",
    "    return lst if n>0 else lst[::-1]\n",
    "id_mtrx(2)"
   ]
  },
  {
   "cell_type": "code",
   "execution_count": 31,
   "id": "f2b92e07",
   "metadata": {},
   "outputs": [
    {
     "data": {
      "text/plain": [
       "[[1, 0], [0, 1]]"
      ]
     },
     "execution_count": 31,
     "metadata": {},
     "output_type": "execute_result"
    }
   ],
   "source": [
    "def id_mtrx(n):\n",
    "\tif not isinstance(n, int):\n",
    "\t\treturn \"Error\"\n",
    "\telif n == 0:\n",
    "\t\treturn []\n",
    "\telse:\n",
    "\t\tL = [[0]*abs(n) for x in range(abs(n))]\n",
    "\t\tfor l in range(0, abs(n)):\n",
    "\t\t\tL[l][l] = 1\n",
    "\t\tif n < 0: L.reverse()\n",
    "\t\treturn L\n",
    "id_mtrx(2)"
   ]
  },
  {
   "cell_type": "code",
   "execution_count": null,
   "id": "e88248a5",
   "metadata": {},
   "outputs": [],
   "source": []
  },
  {
   "cell_type": "code",
   "execution_count": null,
   "id": "b2a5ffad",
   "metadata": {},
   "outputs": [],
   "source": []
  }
 ],
 "metadata": {
  "kernelspec": {
   "display_name": "Python 3",
   "language": "python",
   "name": "python3"
  },
  "language_info": {
   "codemirror_mode": {
    "name": "ipython",
    "version": 3
   },
   "file_extension": ".py",
   "mimetype": "text/x-python",
   "name": "python",
   "nbconvert_exporter": "python",
   "pygments_lexer": "ipython3",
   "version": "3.8.8"
  }
 },
 "nbformat": 4,
 "nbformat_minor": 5
}
