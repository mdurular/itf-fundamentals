{
 "cells": [
  {
   "cell_type": "markdown",
   "id": "efebf6ba",
   "metadata": {},
   "source": [
    "Note: Built-in Functions kullanmayalım\n",
    "Write a Python function to find the Max of three numbers."
   ]
  },
  {
   "cell_type": "code",
   "execution_count": null,
   "id": "880b3619",
   "metadata": {},
   "outputs": [],
   "source": [
    "liste = []\n",
    "while True:\n",
    "    num = input(\"Enter a number or press 'q' to exit > \")\n",
    "    if num.lower() == 'q':\n",
    "        break\n",
    "    else:\n",
    "        liste.append(int(num))\n",
    "    \n",
    "def maximum():    \n",
    "    biggest = liste[0]        \n",
    "    for i in liste:\n",
    "        if i > biggest:\n",
    "            biggest = i\n",
    "    return biggest\n",
    "     \n",
    "maximum()"
   ]
  },
  {
   "cell_type": "code",
   "execution_count": 3,
   "id": "0bfec946",
   "metadata": {},
   "outputs": [
    {
     "name": "stdout",
     "output_type": "stream",
     "text": [
      "9\n"
     ]
    }
   ],
   "source": [
    "def max_of_three( x, y,z ):\n",
    "    if x > y and x > z:\n",
    "        return x\n",
    "    elif y>x and y> z:\n",
    "        return y\n",
    "    return z\n",
    "print(max_of_three(3,7,9))"
   ]
  },
  {
   "cell_type": "code",
   "execution_count": 4,
   "id": "e6aca484",
   "metadata": {},
   "outputs": [
    {
     "name": "stdout",
     "output_type": "stream",
     "text": [
      "25\n"
     ]
    }
   ],
   "source": [
    "num_list = [2, 25, -96]\n",
    "\n",
    "max_num = num_list[0]\n",
    "for i in num_list:\n",
    "    if i > max_num:\n",
    "        max_num = i\n",
    "print(max_num)"
   ]
  }
 ],
 "metadata": {
  "kernelspec": {
   "display_name": "Python 3",
   "language": "python",
   "name": "python3"
  },
  "language_info": {
   "codemirror_mode": {
    "name": "ipython",
    "version": 3
   },
   "file_extension": ".py",
   "mimetype": "text/x-python",
   "name": "python",
   "nbconvert_exporter": "python",
   "pygments_lexer": "ipython3",
   "version": "3.8.8"
  }
 },
 "nbformat": 4,
 "nbformat_minor": 5
}
