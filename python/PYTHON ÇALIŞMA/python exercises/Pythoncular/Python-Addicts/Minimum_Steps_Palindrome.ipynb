{
 "cells": [
  {
   "cell_type": "markdown",
   "id": "a3021972",
   "metadata": {},
   "source": [
    "Given an incomplete palindrome as a string, return the minimum \n",
    "letters needed to be added on to the end to make the string a palindrome.\n",
    "\n",
    "Examples\n",
    "min_palindrome_steps(\"race\") ➞ 3\n",
    " Add 3 letters: \"car\" to make \"racecar\"\n",
    "\n",
    "min_palindrome_steps(\"mada\") ➞ 1\n",
    " Add 1 letter: \"m\" to make \"madam\"\n",
    "\n",
    "min_palindrome_steps(\"mirror\") ➞ 3\n",
    " Add 3 letters: \"rim\" to make \"mirrorrim\"\n",
    "Notes\n",
    "Trivially, words which are already palindromes should return 0."
   ]
  },
  {
   "cell_type": "code",
   "execution_count": 1,
   "id": "955b0541",
   "metadata": {},
   "outputs": [
    {
     "name": "stdout",
     "output_type": "stream",
     "text": [
      "Enter a text > mada\n",
      "\n",
      "We need minimum 1 letters to be added to the end of mada,\n",
      "These 1 letter is/are m.\n",
      "Thus, our palindrom is madam.\n"
     ]
    }
   ],
   "source": [
    "text = input('Enter a text > ')\n",
    "text2 = text\n",
    "rev = text[::-1]\n",
    "sayac = 0\n",
    "for i in range(len(text2)):\n",
    "    text = text[1:]\n",
    "    rev = rev[:-1]\n",
    "    sayac += 1\n",
    "    if text == rev:\n",
    "        break\n",
    "which = text2[:sayac]\n",
    "which_reverse = which[::-1]\n",
    "print(f'''\n",
    "We need minimum {sayac} letters to be added to the end of {text2},\n",
    "These {sayac} letter is/are {which_reverse}.\n",
    "Thus, our palindrom is {text2 + which_reverse}.''')"
   ]
  },
  {
   "cell_type": "code",
   "execution_count": 2,
   "id": "c70bac65",
   "metadata": {},
   "outputs": [
    {
     "data": {
      "text/plain": [
       "3"
      ]
     },
     "execution_count": 2,
     "metadata": {},
     "output_type": "execute_result"
    }
   ],
   "source": [
    "def min_palindrome_steps(txt):\n",
    "    if txt == txt[::-1]:\n",
    "        return 0\n",
    "    else:\n",
    "        a = list(txt)\n",
    "        a = a + [a[0]]\n",
    "        count = 1\n",
    "        if a == a[::-1]:\n",
    "            return count\n",
    "        else:\n",
    "            for i in range(1,len(a)):\n",
    "                count += 1\n",
    "                a.insert(-i,a[i])\n",
    "                if a == a[::-1]:\n",
    "                    break\n",
    "    return count\n",
    "min_palindrome_steps(\"mirror\")"
   ]
  },
  {
   "cell_type": "code",
   "execution_count": null,
   "id": "377c3db4",
   "metadata": {},
   "outputs": [],
   "source": []
  },
  {
   "cell_type": "code",
   "execution_count": null,
   "id": "d015b34a",
   "metadata": {},
   "outputs": [],
   "source": []
  },
  {
   "cell_type": "code",
   "execution_count": null,
   "id": "9d34743a",
   "metadata": {},
   "outputs": [],
   "source": []
  },
  {
   "cell_type": "code",
   "execution_count": null,
   "id": "eba732fa",
   "metadata": {},
   "outputs": [],
   "source": []
  }
 ],
 "metadata": {
  "kernelspec": {
   "display_name": "Python 3",
   "language": "python",
   "name": "python3"
  },
  "language_info": {
   "codemirror_mode": {
    "name": "ipython",
    "version": 3
   },
   "file_extension": ".py",
   "mimetype": "text/x-python",
   "name": "python",
   "nbconvert_exporter": "python",
   "pygments_lexer": "ipython3",
   "version": "3.8.8"
  }
 },
 "nbformat": 4,
 "nbformat_minor": 5
}
