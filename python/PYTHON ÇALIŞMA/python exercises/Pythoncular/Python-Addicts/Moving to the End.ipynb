{
 "cells": [
  {
   "cell_type": "code",
   "execution_count": null,
   "id": "94206992",
   "metadata": {},
   "outputs": [],
   "source": [
    "Write a function that moves all elements of one type to the end of the list.\n",
    "\n",
    "Examples\n",
    "move_to_end([1, 3, 2, 4, 4, 1], 1) ➞ [3, 2, 4, 4, 1, 1]\n",
    "# Move all the 1s to the end of the array.\n",
    "\n",
    "move_to_end([7, 8, 9, 1, 2, 3, 4], 9) ➞ [7, 8, 1, 2, 3, 4, 9]\n",
    "\n",
    "move_to_end([\"a\", \"a\", \"a\", \"b\"], \"a\") ➞ [\"b\", \"a\", \"a\", \"a\"]\n",
    "Notes\n",
    "Keep the order of the un-moved items the same."
   ]
  },
  {
   "cell_type": "code",
   "execution_count": 2,
   "id": "8fa2bd01",
   "metadata": {},
   "outputs": [
    {
     "data": {
      "text/plain": [
       "[3, 2, 4, 4, 1, 1]"
      ]
     },
     "execution_count": 2,
     "metadata": {},
     "output_type": "execute_result"
    }
   ],
   "source": [
    "def move_to_end(lst, el):\n",
    "\treturn [x for x in lst if x!=el]+[el]*lst.count(el)\n",
    "move_to_end([1, 3, 2, 4, 4, 1], 1)"
   ]
  },
  {
   "cell_type": "code",
   "execution_count": null,
   "id": "24aa93d6",
   "metadata": {},
   "outputs": [],
   "source": [
    "def move_to_end(lst, el):\n",
    "\treturn sorted(lst, key=lambda x: x is el)"
   ]
  },
  {
   "cell_type": "code",
   "execution_count": null,
   "id": "ffe9af25",
   "metadata": {},
   "outputs": [],
   "source": [
    "def move_to_end(lst, el):\n",
    "\tfor item in lst:\n",
    "\t\tif item == el:\n",
    "\t\t\tlst.remove(item)\n",
    "\t\t\tlst.append(item)\n",
    "\treturn lst"
   ]
  },
  {
   "cell_type": "code",
   "execution_count": null,
   "id": "a9e219cb",
   "metadata": {},
   "outputs": [],
   "source": [
    "def move_to_end(lst, el):\n",
    "    return  [item for item in lst if item != el]+[item for item in lst if item == el]"
   ]
  },
  {
   "cell_type": "code",
   "execution_count": 1,
   "id": "66ffd6a3",
   "metadata": {},
   "outputs": [
    {
     "data": {
      "text/plain": [
       "[3, 2, 4, 4, 1, 1]"
      ]
     },
     "execution_count": 1,
     "metadata": {},
     "output_type": "execute_result"
    }
   ],
   "source": [
    "def move_to_end(lst, el):\n",
    "\tl = []\n",
    "\tr = []\n",
    "\tfor e in lst:\n",
    "\t\tif e == el:\n",
    "\t\t\tr.append(e)\n",
    "\t\telse:\n",
    "\t\t\tl.append(e)\n",
    "\tl.extend(r)\n",
    "\treturn l\n",
    "move_to_end([1, 3, 2, 4, 4, 1], 1)"
   ]
  }
 ],
 "metadata": {
  "kernelspec": {
   "display_name": "Python 3",
   "language": "python",
   "name": "python3"
  },
  "language_info": {
   "codemirror_mode": {
    "name": "ipython",
    "version": 3
   },
   "file_extension": ".py",
   "mimetype": "text/x-python",
   "name": "python",
   "nbconvert_exporter": "python",
   "pygments_lexer": "ipython3",
   "version": "3.8.8"
  }
 },
 "nbformat": 4,
 "nbformat_minor": 5
}
