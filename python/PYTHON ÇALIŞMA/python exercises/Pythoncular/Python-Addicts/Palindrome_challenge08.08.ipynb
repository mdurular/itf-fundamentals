{
 "cells": [
  {
   "cell_type": "markdown",
   "id": "8dffd2a3",
   "metadata": {},
   "source": [
    "A palindrome is a number that is the same when reversed, 2770772 for example. \n",
    "A palindrome can often be formed by adding a number to it's reverse: 641 + 146 = 787 (a palindrome). \n",
    "Using 78 as the seed, it takes 4 steps to produce a palindrome:\n",
    "78 + 87 = 165\n",
    "165 + 561 = 726\n",
    "726 + 627 = 1353\n",
    "1353 + 3531 = 4884 (a palindrome)\n",
    "About 97% of integers less than 10,000 produce palindromes in less than 25 steps. \n",
    "A few, like 196 and 879, may never form palindromes.\n",
    "Make a function that takes a palindrome as it's an argument and \n",
    "returns the smallest seed integer that will produce that palindrome, \n",
    "along with the number of steps required:\n",
    "\n",
    "pal_seq(palindrome) = (seed, steps)\n",
    "pal_seq(4884) ➞ (69, 4)\n",
    "pal_seq(1) ➞ (1, 0)\n",
    "pal_seq(11) ➞ (10, 1) --> 10 + 01 = 11\n",
    "pal_seq(3113) ➞ (199, 3)\n",
    "pal_seq(8836886388) ➞ (177, 15)\n",
    "\n",
    "The sequence always terminates when the first palindrome is produced. \n",
    "If the seed is a palindrome, the sequence has 0 steps."
   ]
  },
  {
   "cell_type": "code",
   "execution_count": 62,
   "id": "27518f27",
   "metadata": {},
   "outputs": [
    {
     "data": {
      "text/plain": [
       "(69, 4)"
      ]
     },
     "execution_count": 62,
     "metadata": {},
     "output_type": "execute_result"
    }
   ],
   "source": [
    "def pal_seq(n):\n",
    "    for i in range(10, 500):\n",
    "        if n < 10:\n",
    "            seed = 1\n",
    "            steps = 0\n",
    "            \n",
    "        num = 0\n",
    "        count = 1\n",
    "        num += i+int(str(i)[::-1])\n",
    "        #print(num)\n",
    "        while num != int(str(num)[::-1]):\n",
    "            num += int(str(num)[::-1])\n",
    "            count+=1\n",
    "            #print(num)\n",
    "        if n == num:\n",
    "            seed = i\n",
    "            steps = count\n",
    "            break\n",
    "    return (seed, steps)\n",
    "pal_seq(4884)"
   ]
  },
  {
   "cell_type": "code",
   "execution_count": 15,
   "id": "2bc0356d",
   "metadata": {},
   "outputs": [
    {
     "data": {
      "text/plain": [
       "(69, 4, [69, 165, 726, 1353])"
      ]
     },
     "execution_count": 15,
     "metadata": {},
     "output_type": "execute_result"
    }
   ],
   "source": [
    "def pal_seq(number):\n",
    "    lst = []\n",
    "    count = 0\n",
    "\n",
    "    if number != int(str(number)[::-1]):\n",
    "        return \"it is not a palindrome number\"\n",
    "\n",
    "    for i in range(number):\n",
    "        if i == int(str(i)[::-1]):\n",
    "            continue;\n",
    "        while i < number:\n",
    "            count += 1\n",
    "            lst.append(i)\n",
    "            i += int(str(i)[::-1])\n",
    "            if i == int(str(i)[::-1]) and i != number or i > number:\n",
    "                count = 0\n",
    "                lst.clear()\n",
    "                break;\n",
    "            if i == number:\n",
    "                return (lst[0], count, lst)\n",
    "\n",
    "    if number < 10:\n",
    "        return(number, 0)\n",
    "\n",
    "pal_seq(4884)"
   ]
  },
  {
   "cell_type": "code",
   "execution_count": null,
   "id": "d6d01f6b",
   "metadata": {},
   "outputs": [],
   "source": [
    "\n",
    "def logest_polindrome(a):\n",
    "  n=\"\"\n",
    "  for i in range(len(a)):\n",
    "    for j in range(len(a),i,-1):\n",
    "      if a[i:j]==a[i:j][::-1] and len(n)<len(a[i:j]):\n",
    "        n=a[i:j]\n",
    "  return n\n",
    "logest_polindrome(\"aabcdcb\")"
   ]
  },
  {
   "cell_type": "code",
   "execution_count": 42,
   "id": "13ab60fe",
   "metadata": {},
   "outputs": [
    {
     "data": {
      "text/plain": [
       "(69, 4, [69, 165, 726, 1353])"
      ]
     },
     "execution_count": 42,
     "metadata": {},
     "output_type": "execute_result"
    }
   ],
   "source": [
    "def palindrome_kok(number):\n",
    "    lst = []\n",
    "    count = 0\n",
    "\n",
    "    for i in range(number):\n",
    "        if i == int(str(i)[::-1]): \n",
    "            continue;\n",
    "        while i < number:\n",
    "            count += 1\n",
    "            lst.append(i)\n",
    "            i += int(str(i)[::-1])\n",
    "            if i == int(str(i)[::-1]) and i != number or i > number:\n",
    "                count = 0\n",
    "                lst.clear()\n",
    "                \n",
    "                break;\n",
    "            if i == number:\n",
    "                return (lst[0], count, lst)\n",
    "\n",
    "palindrome_kok(4884)"
   ]
  }
 ],
 "metadata": {
  "kernelspec": {
   "display_name": "Python 3",
   "language": "python",
   "name": "python3"
  },
  "language_info": {
   "codemirror_mode": {
    "name": "ipython",
    "version": 3
   },
   "file_extension": ".py",
   "mimetype": "text/x-python",
   "name": "python",
   "nbconvert_exporter": "python",
   "pygments_lexer": "ipython3",
   "version": "3.8.8"
  }
 },
 "nbformat": 4,
 "nbformat_minor": 5
}
