{
 "cells": [
  {
   "cell_type": "markdown",
   "id": "cc58bbcd",
   "metadata": {},
   "source": [
    "2.Write a function that groups a string into parentheses cluster. \n",
    "Each cluster should be balanced.\n",
    "\n",
    "\n",
    "split(\"()()()\") ➞ [\"()\", \"()\", \"()\"]\n",
    "split(\"((()))\") ➞ [\"((()))\"]\n",
    "split(\"((()))(())()()(()())\") ➞ [\"((()))\", \"(())\", \"()\", \"()\", \"(()())\"]\n",
    "split(\"((())())(()(()()))\") ➞ [\"((())())\", \"(()(()()))\"]"
   ]
  },
  {
   "cell_type": "code",
   "execution_count": 2,
   "id": "0757d418",
   "metadata": {},
   "outputs": [
    {
     "name": "stdout",
     "output_type": "stream",
     "text": [
      "Write only parentheses : ((()))(())()()(()())\n",
      "['((()))', '(())', '()', '()', '(()())']\n"
     ]
    }
   ],
   "source": [
    "par = input(\"Write only parentheses : \")\n",
    "list1=[]\n",
    "list2=[]\n",
    "par_split=[]\n",
    "for i in range(len(par)):\n",
    "    if par[i]==\"(\":\n",
    "        list1.append(\"(\")\n",
    "        list2.append(\"(\")\n",
    "    elif par[i]==\")\":\n",
    "        list1.pop()\n",
    "        list2.append(\")\")\n",
    "        if len(list1)==0:\n",
    "            par_split.append(\"\".join(list2))\n",
    "            list2.clear()\n",
    "print(par_split)\n"
   ]
  },
  {
   "cell_type": "code",
   "execution_count": 8,
   "id": "a49e4af6",
   "metadata": {},
   "outputs": [
    {
     "data": {
      "text/plain": [
       "['((())())', '(()(()()))']"
      ]
     },
     "execution_count": 8,
     "metadata": {},
     "output_type": "execute_result"
    }
   ],
   "source": [
    "def split(par):\n",
    "    list1=[]\n",
    "    list2=[]\n",
    "    par_split=[]\n",
    "    for i in range(len(par)):\n",
    "        if par[i]==\"(\":\n",
    "            list1.append(\"(\")\n",
    "            list2.append(\"(\")\n",
    "        elif par[i]==\")\":\n",
    "            list1.pop()\n",
    "            list2.append(\")\")\n",
    "            if len(list1)==0:\n",
    "                par_split.append(\"\".join(list2))\n",
    "                list2.clear()\n",
    "    return par_split\n",
    "split(\"((())())(()(()()))\")"
   ]
  },
  {
   "cell_type": "code",
   "execution_count": 13,
   "id": "b3d9286e",
   "metadata": {},
   "outputs": [
    {
     "data": {
      "text/plain": [
       "['((())())', '(()(()()))']"
      ]
     },
     "execution_count": 13,
     "metadata": {},
     "output_type": "execute_result"
    }
   ],
   "source": [
    "def split(txt):\n",
    "    a = []\n",
    "    b = \"\"\n",
    "    for i in txt:\n",
    "        b += i\n",
    "        if b.count(\"(\") == b.count(\")\"):\n",
    "            a.append(b)\n",
    "            b = \"\"\n",
    "    return a\n",
    "split(\"((())())(()(()()))\")"
   ]
  },
  {
   "cell_type": "code",
   "execution_count": 10,
   "id": "3d8d534f",
   "metadata": {},
   "outputs": [
    {
     "data": {
      "text/plain": [
       "['((()))', '(())', '()', '()', '(()())']"
      ]
     },
     "execution_count": 10,
     "metadata": {},
     "output_type": "execute_result"
    }
   ],
   "source": [
    "def split(txt):\n",
    "    clusters = []\n",
    "    group = ''\n",
    "    n = 0\n",
    "\n",
    "    for i in txt:\n",
    "        group += i\n",
    "        n = n + 1 if i == '(' else n - 1\n",
    "        if n == 0:\n",
    "            clusters.append(group)\n",
    "            group = ''\n",
    "\n",
    "    return clusters\n",
    "split(\"((()))(())()()(()())\")"
   ]
  },
  {
   "cell_type": "code",
   "execution_count": 11,
   "id": "098654e7",
   "metadata": {},
   "outputs": [
    {
     "data": {
      "text/plain": [
       "['((()))', '(())', '()', '()', '(()())']"
      ]
     },
     "execution_count": 11,
     "metadata": {},
     "output_type": "execute_result"
    }
   ],
   "source": [
    "def split(txt):\n",
    "    count, s, out = 0, \"\", []\n",
    "    for i in txt:\n",
    "        if i == '(': count+=1\n",
    "        else : count -=1\n",
    "        s += i;\n",
    "        if count == 0:\n",
    "            out.append(s)\n",
    "            s, count = \"\", 0\n",
    "    return out\n",
    "split(\"((()))(())()()(()())\")"
   ]
  },
  {
   "cell_type": "code",
   "execution_count": 16,
   "id": "16c4cc2a",
   "metadata": {},
   "outputs": [
    {
     "data": {
      "text/plain": [
       "['((()))', '(())', '()', '()', '(()())']"
      ]
     },
     "execution_count": 16,
     "metadata": {},
     "output_type": "execute_result"
    }
   ],
   "source": [
    "def split(text):\n",
    "    a, b = 0, 0\n",
    "    lst=[]\n",
    "    for i in range(len(text)):\n",
    "        if text[i]=='(':\n",
    "            a+=1\n",
    "        if text[i]==')':\n",
    "            a-=1\n",
    "        if a == 0:\n",
    "            lst.append(text[b:i+1])\n",
    "            b=i+1\n",
    "    return(lst)\n",
    "split(\"((()))(())()()(()())\")"
   ]
  },
  {
   "cell_type": "code",
   "execution_count": 17,
   "id": "ecf13441",
   "metadata": {},
   "outputs": [
    {
     "data": {
      "text/plain": [
       "['((()))', '(())', '()', '()', '(()())']"
      ]
     },
     "execution_count": 17,
     "metadata": {},
     "output_type": "execute_result"
    }
   ],
   "source": [
    "def split(txt):\n",
    "    single, multiple, opened, closed = [], [], 0, 0\n",
    "    for i in txt:\n",
    "        if i == \"(\":\n",
    "            opened += 1\n",
    "            single.append(i)\n",
    "        else:\n",
    "            closed += 1\n",
    "            single.append(i)\n",
    "        if opened == closed:\n",
    "            opened, closed = 0, 0\n",
    "            cluster = \"\".join(single)\n",
    "            multiple.append(cluster)\n",
    "            single.clear()\n",
    "\n",
    "    return(multiple)\n",
    "split(\"((()))(())()()(()())\")"
   ]
  },
  {
   "cell_type": "code",
   "execution_count": 21,
   "id": "bdda87d0",
   "metadata": {},
   "outputs": [
    {
     "data": {
      "text/plain": [
       "['((()))', '(())', '()', '()', '(()())']"
      ]
     },
     "execution_count": 21,
     "metadata": {},
     "output_type": "execute_result"
    }
   ],
   "source": [
    "def split(txt):\n",
    "    stack=[]\n",
    "    lst = []\n",
    "    str = ''\n",
    "    for i in txt:\n",
    "        str += i\n",
    "        if i == '(':\n",
    "            stack.append(i)\n",
    "        else:\n",
    "            stack.pop()\n",
    "            if not stack:\n",
    "                lst.append(str)\n",
    "                str =''\n",
    "    return lst\n",
    "split(\"((()))(())()()(()())\")"
   ]
  },
  {
   "cell_type": "code",
   "execution_count": null,
   "id": "e646e2b2",
   "metadata": {},
   "outputs": [],
   "source": []
  },
  {
   "cell_type": "code",
   "execution_count": null,
   "id": "cce69da6",
   "metadata": {},
   "outputs": [],
   "source": []
  }
 ],
 "metadata": {
  "kernelspec": {
   "display_name": "Python 3",
   "language": "python",
   "name": "python3"
  },
  "language_info": {
   "codemirror_mode": {
    "name": "ipython",
    "version": 3
   },
   "file_extension": ".py",
   "mimetype": "text/x-python",
   "name": "python",
   "nbconvert_exporter": "python",
   "pygments_lexer": "ipython3",
   "version": "3.8.8"
  }
 },
 "nbformat": 4,
 "nbformat_minor": 5
}
