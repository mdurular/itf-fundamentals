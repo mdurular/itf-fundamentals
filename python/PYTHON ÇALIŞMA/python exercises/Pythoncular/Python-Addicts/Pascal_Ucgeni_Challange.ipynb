{
 "cells": [
  {
   "cell_type": "code",
   "execution_count": null,
   "id": "eae5c826",
   "metadata": {},
   "outputs": [],
   "source": [
    "Pascal üçgeninin ilk n satırını yazdıran bir Python fonksiyonu yazın. \n",
    "Not : Pascal üçgeni, ilk olarak Blaise Pascal tarafından hayal edilen \n",
    "aritmetik ve geometrik bir şekildir.\n",
    "Örnek Pascal üçgeni:\n",
    "Her sayı üstte birbirine eklediği iki sayıdır"
   ]
  },
  {
   "cell_type": "code",
   "execution_count": 18,
   "id": "c6df9955",
   "metadata": {},
   "outputs": [
    {
     "name": "stdout",
     "output_type": "stream",
     "text": [
      " [1]\n",
      " [1, 1]\n",
      " [1, 2, 1]\n",
      " [1, 3, 3, 1]\n",
      " [1, 4, 6, 4, 1]\n"
     ]
    }
   ],
   "source": [
    "def pascal(n):\n",
    "    for i in range(1, n+1):\n",
    "        ls = [1]\n",
    "        a = 0\n",
    "        if i>2:\n",
    "            while a<i:\n",
    "                ls.append(ls1[a]+ls1[a+1])\n",
    "                if a+1 == len(ls1)-1:\n",
    "                    break\n",
    "                a+=1\n",
    "        if i>1:\n",
    "            ls.append(1)\n",
    "        ls1 = ls\n",
    "        print((n-i)* \"\", ls1)\n",
    "pascal(5)"
   ]
  },
  {
   "cell_type": "code",
   "execution_count": 19,
   "id": "dd505fa0",
   "metadata": {},
   "outputs": [
    {
     "name": "stdout",
     "output_type": "stream",
     "text": [
      "Kac satir? > 5\n",
      "[[1], [1, 1], [1, 2, 1], [1, 3, 3, 1], [1, 4, 6, 4, 1]]\n"
     ]
    }
   ],
   "source": [
    "kac = int(input('Kac satir? > '))\n",
    "baslangic = [1]\n",
    "result = [[1, 1]]\n",
    "say, n, s, k, b = 0, 0, 0, 1, 1\n",
    "while say <= kac - 3:\n",
    "    n, k = 0, 1\n",
    "    yeni = []\n",
    "    for i in range(b):\n",
    "        asama = result[s][n] + result[s][k]\n",
    "        yeni.append(asama)\n",
    "        n += 1\n",
    "        k += 1\n",
    "    yeni.append(1)\n",
    "    yeni.insert(0, 1)\n",
    "    result.append(yeni)\n",
    "    say += 1\n",
    "    b += 1\n",
    "    s += 1\n",
    "result.insert(0, baslangic)\n",
    "print(result)"
   ]
  },
  {
   "cell_type": "code",
   "execution_count": 21,
   "id": "bb1ca941",
   "metadata": {},
   "outputs": [
    {
     "data": {
      "text/plain": [
       "[[1], [1, 1], [1, 2, 1], [1, 3, 3, 1], [1, 4, 6, 4, 1]]"
      ]
     },
     "execution_count": 21,
     "metadata": {},
     "output_type": "execute_result"
    }
   ],
   "source": [
    "def generate(numLine):\n",
    "    if numLine ==0:\n",
    "        return []\n",
    "    result = [[1]]\n",
    "    for i in range(1,numLine):\n",
    "        result.append([1]* (i+1))   \n",
    "        if i > 1: \n",
    "            for j in range(1,i): \n",
    "                result[i][j] = result[i-1][j-1] +  result[i-1][j]        \n",
    "    return result\n",
    "generate(5)\n"
   ]
  },
  {
   "cell_type": "code",
   "execution_count": null,
   "id": "8d0c35dd",
   "metadata": {},
   "outputs": [],
   "source": []
  }
 ],
 "metadata": {
  "kernelspec": {
   "display_name": "Python 3",
   "language": "python",
   "name": "python3"
  },
  "language_info": {
   "codemirror_mode": {
    "name": "ipython",
    "version": 3
   },
   "file_extension": ".py",
   "mimetype": "text/x-python",
   "name": "python",
   "nbconvert_exporter": "python",
   "pygments_lexer": "ipython3",
   "version": "3.8.8"
  }
 },
 "nbformat": 4,
 "nbformat_minor": 5
}
