{
 "cells": [
  {
   "cell_type": "markdown",
   "id": "b43d5576",
   "metadata": {},
   "source": [
    "Create a function that returns a list containing the \n",
    "prime factors of whatever integer is passed to it.\n",
    "\n",
    "Examples\n",
    "prime_factors(20) ➞ [2, 2, 5]\n",
    "\n",
    "prime_factors(100) ➞ [2, 2, 5, 5]\n",
    "\n",
    "prime_factors(8912234) ➞ [2, 47, 94811]\n",
    "Notes\n",
    "Implement your solution using trial division.\n",
    "Your solution should not require recursion."
   ]
  },
  {
   "cell_type": "code",
   "execution_count": 2,
   "id": "a2660a24",
   "metadata": {},
   "outputs": [],
   "source": [
    "def prime_factors(n):\n",
    "    lst = []\n",
    "    for i in range(2,n+1):\n",
    "        if n % i == 0:\n",
    "            while n % i == 0:\n",
    "                lst.append(i)\n",
    "                n = n / i\n",
    "    return lst"
   ]
  },
  {
   "cell_type": "code",
   "execution_count": 1,
   "id": "b23e592d",
   "metadata": {},
   "outputs": [
    {
     "data": {
      "text/plain": [
       "[2, 2, 5, 5]"
      ]
     },
     "execution_count": 1,
     "metadata": {},
     "output_type": "execute_result"
    }
   ],
   "source": [
    "def prime_factors(num):\n",
    "    lst = []\n",
    "    while num != 1:\n",
    "        for i in range(2, num + 1):\n",
    "            if num % i == 0:\n",
    "                num //= i\n",
    "                lst.append(i)\n",
    "                break\n",
    "    return lst\n",
    "prime_factors(100)"
   ]
  },
  {
   "cell_type": "code",
   "execution_count": null,
   "id": "8a7db282",
   "metadata": {},
   "outputs": [],
   "source": []
  }
 ],
 "metadata": {
  "kernelspec": {
   "display_name": "Python 3",
   "language": "python",
   "name": "python3"
  },
  "language_info": {
   "codemirror_mode": {
    "name": "ipython",
    "version": 3
   },
   "file_extension": ".py",
   "mimetype": "text/x-python",
   "name": "python",
   "nbconvert_exporter": "python",
   "pygments_lexer": "ipython3",
   "version": "3.8.8"
  }
 },
 "nbformat": 4,
 "nbformat_minor": 5
}
