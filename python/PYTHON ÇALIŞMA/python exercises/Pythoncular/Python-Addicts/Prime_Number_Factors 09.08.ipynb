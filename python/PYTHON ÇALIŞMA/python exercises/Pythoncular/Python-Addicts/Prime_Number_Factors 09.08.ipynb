{
 "cells": [
  {
   "cell_type": "code",
   "execution_count": null,
   "id": "03960c0d",
   "metadata": {},
   "outputs": [],
   "source": [
    "Create a function that returns a list containing the \n",
    "prime factors of whatever integer is passed to it. \n",
    "Examples prime_factors(20) ➞ [2, 2, 5] \n",
    "prime_factors(100) ➞ [2, 2, 5, 5] \n",
    "prime_factors(8912234) ➞ [2, 47, 94811]"
   ]
  },
  {
   "cell_type": "code",
   "execution_count": 1,
   "id": "c88e4fc0",
   "metadata": {},
   "outputs": [
    {
     "data": {
      "text/plain": [
       "[2, 2, 5, 5]"
      ]
     },
     "execution_count": 1,
     "metadata": {},
     "output_type": "execute_result"
    }
   ],
   "source": [
    "def prime_factors(num):\n",
    "    lst = []\n",
    "    while num != 1:\n",
    "        for i in range(2, num + 1):\n",
    "            if num % i == 0:\n",
    "                num //= i\n",
    "                lst.append(i)\n",
    "                break\n",
    "    return lst\n",
    "prime_factors(100)"
   ]
  },
  {
   "cell_type": "code",
   "execution_count": null,
   "id": "32968f39",
   "metadata": {},
   "outputs": [],
   "source": []
  },
  {
   "cell_type": "code",
   "execution_count": null,
   "id": "248d7fe9",
   "metadata": {},
   "outputs": [],
   "source": []
  },
  {
   "cell_type": "code",
   "execution_count": null,
   "id": "174e4ed8",
   "metadata": {},
   "outputs": [],
   "source": []
  }
 ],
 "metadata": {
  "kernelspec": {
   "display_name": "Python 3",
   "language": "python",
   "name": "python3"
  },
  "language_info": {
   "codemirror_mode": {
    "name": "ipython",
    "version": 3
   },
   "file_extension": ".py",
   "mimetype": "text/x-python",
   "name": "python",
   "nbconvert_exporter": "python",
   "pygments_lexer": "ipython3",
   "version": "3.8.8"
  }
 },
 "nbformat": 4,
 "nbformat_minor": 5
}
