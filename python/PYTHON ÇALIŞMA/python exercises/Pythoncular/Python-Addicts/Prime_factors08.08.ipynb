{
 "cells": [
  {
   "cell_type": "markdown",
   "id": "f35c1cce",
   "metadata": {},
   "source": [
    "1.Create a function that returns a list containing the prime \n",
    "factors of whatever integer is passed to it.\n",
    "\n",
    "prime_factors(20) ➞ [2, 2, 5]\n",
    "prime_factors(100) ➞ [2, 2, 5, 5]\n",
    "prime_factors(8912234) ➞ [2, 47, 94811]"
   ]
  },
  {
   "cell_type": "code",
   "execution_count": 4,
   "id": "196a8336",
   "metadata": {},
   "outputs": [
    {
     "data": {
      "text/plain": [
       "[2, 47, 94811]"
      ]
     },
     "execution_count": 4,
     "metadata": {},
     "output_type": "execute_result"
    }
   ],
   "source": [
    "def prime_factors(n):\n",
    "    lst = []\n",
    "    for i in range(2,n):\n",
    "        if n % i == 0:\n",
    "            while n % i == 0:\n",
    "                lst.append(i)\n",
    "                n = n / i\n",
    "    return lst \n",
    "\n",
    "prime_factors(20)\n",
    "\n",
    "prime_factors(100)\n",
    "\n",
    "prime_factors(8912234)"
   ]
  },
  {
   "cell_type": "code",
   "execution_count": 5,
   "id": "b5076667",
   "metadata": {},
   "outputs": [
    {
     "data": {
      "text/plain": [
       "[2, 2, 5, 5]"
      ]
     },
     "execution_count": 5,
     "metadata": {},
     "output_type": "execute_result"
    }
   ],
   "source": [
    "def prime_factors(num):\n",
    "    res, i = [], 2\n",
    "    while num != 1:\n",
    "        while not num%i:\n",
    "            res.append(i)\n",
    "            num //= i\n",
    "        i += 1\n",
    "    return res\n",
    "prime_factors(100)"
   ]
  },
  {
   "cell_type": "code",
   "execution_count": 6,
   "id": "3f4b3c1a",
   "metadata": {},
   "outputs": [
    {
     "data": {
      "text/plain": [
       "[2, 2, 5, 5]"
      ]
     },
     "execution_count": 6,
     "metadata": {},
     "output_type": "execute_result"
    }
   ],
   "source": [
    "def prime_factors(n):\n",
    "    a = []\n",
    "    f = 2\n",
    "    while n > 1:\n",
    "        if n % f == 0:\n",
    "            a.append(f)\n",
    "            n /= f\n",
    "        else:\n",
    "            f += 1\n",
    "    return a\n",
    "prime_factors(100)"
   ]
  },
  {
   "cell_type": "code",
   "execution_count": null,
   "id": "4767f541",
   "metadata": {},
   "outputs": [],
   "source": [
    "def prime_factors(n):\n",
    "    a = []               # Prepare an empty list.\n",
    "    f = 2                # The first possible factor.    \n",
    "    while n > 1:         # While n still has remaining factors...\n",
    "        if n % f == 0:   # The remainder of n divided by f might be zero.        \n",
    "            a.append(f)  # If so, it divides n. Add f to the list.\n",
    "            n /= f       # Divide that factor out of n.\n",
    "        else:            # But if f is not a factor of n,\n",
    "            f += 1       # Add one to f and try again.\n",
    "    return a"
   ]
  },
  {
   "cell_type": "code",
   "execution_count": 7,
   "id": "8f341b98",
   "metadata": {},
   "outputs": [
    {
     "data": {
      "text/plain": [
       "[2, 2, 5, 5]"
      ]
     },
     "execution_count": 7,
     "metadata": {},
     "output_type": "execute_result"
    }
   ],
   "source": [
    "def prime_factors(num):\n",
    "    lst = []\n",
    "\n",
    "    while num != 1:\n",
    "        for i in range(2, num + 1):\n",
    "            if num % i == 0:\n",
    "                num //= i\n",
    "                lst.append(i)\n",
    "                break\n",
    "\n",
    "    return lst\n",
    "prime_factors(100)"
   ]
  },
  {
   "cell_type": "code",
   "execution_count": null,
   "id": "f9016a72",
   "metadata": {},
   "outputs": [],
   "source": [
    "def prime_factors(num):\n",
    "\tfactors = [i for i in range(2,num//2+1) if num%i==0]\n",
    "\tprime = [i for i in factors if all([i%j!=0 for j in range(2,i)])]\n",
    "\tres = []\n",
    "\tfor i in prime:\n",
    "\t\twhile num%i==0:\n",
    "\t\t\tres.append(i)\n",
    "\t\t\tnum /= i\n",
    "\treturn res"
   ]
  },
  {
   "cell_type": "code",
   "execution_count": null,
   "id": "22d9eac3",
   "metadata": {},
   "outputs": [],
   "source": []
  }
 ],
 "metadata": {
  "kernelspec": {
   "display_name": "Python 3",
   "language": "python",
   "name": "python3"
  },
  "language_info": {
   "codemirror_mode": {
    "name": "ipython",
    "version": 3
   },
   "file_extension": ".py",
   "mimetype": "text/x-python",
   "name": "python",
   "nbconvert_exporter": "python",
   "pygments_lexer": "ipython3",
   "version": "3.8.8"
  }
 },
 "nbformat": 4,
 "nbformat_minor": 5
}
