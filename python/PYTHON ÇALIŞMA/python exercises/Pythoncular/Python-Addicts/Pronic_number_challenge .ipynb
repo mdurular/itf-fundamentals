{
 "cells": [
  {
   "cell_type": "markdown",
   "id": "7b4564f6",
   "metadata": {},
   "source": [
    "# A pronic number \n",
    "(or otherwise called as heteromecic) is a number which is a product of two consecutive integers, \n",
    "that is, a number of the form n(n + 1). \n",
    "Create a function that determines whether a number is pronic or not.\n",
    "\n",
    "Examples\n",
    "is_heteromecic(0) ➞ True\n",
    "# 0 * (0 + 1) = 0 * 1 = 0\n",
    "\n",
    "is_heteromecic(2) ➞ True\n",
    "# 1 * (1 + 1) = 1 * 2 = 2\n",
    "\n",
    "is_heteromecic(7) ➞ False\n",
    "\n",
    "is_heteromecic(110) ➞ True\n",
    "# 10 * (10 + 1) = 10 * 11 = 110\n",
    "\n",
    "is_heteromecic(136) ➞ False\n",
    "\n",
    "is_heteromecic(156) ➞ True"
   ]
  },
  {
   "cell_type": "code",
   "execution_count": 11,
   "id": "4627bcdf",
   "metadata": {},
   "outputs": [
    {
     "data": {
      "text/plain": [
       "True"
      ]
     },
     "execution_count": 11,
     "metadata": {},
     "output_type": "execute_result"
    }
   ],
   "source": [
    "def is_heteromecic(n):\n",
    "    for i in range(int(n**0.5)+1):\n",
    "        if i * (i+1) == n:\n",
    "            return True\n",
    "    return False\n",
    "is_heteromecic(110)"
   ]
  },
  {
   "cell_type": "code",
   "execution_count": 14,
   "id": "826f4fe8",
   "metadata": {},
   "outputs": [
    {
     "data": {
      "text/plain": [
       "True"
      ]
     },
     "execution_count": 14,
     "metadata": {},
     "output_type": "execute_result"
    }
   ],
   "source": [
    "def is_heteromecic(n):\n",
    "    return int(n**0.5) * int(n**0.5+1) == n\n",
    "is_heteromecic(20)"
   ]
  },
  {
   "cell_type": "code",
   "execution_count": 8,
   "id": "fd3b8db3",
   "metadata": {},
   "outputs": [
    {
     "data": {
      "text/plain": [
       "True"
      ]
     },
     "execution_count": 8,
     "metadata": {},
     "output_type": "execute_result"
    }
   ],
   "source": [
    "def is_heteromecic(n):\n",
    "    for i in range(n+1):\n",
    "        if i*(i+1)==n: return True\n",
    "    return False\n",
    "is_heteromecic(156)"
   ]
  },
  {
   "cell_type": "code",
   "execution_count": 12,
   "id": "73d693db",
   "metadata": {},
   "outputs": [
    {
     "data": {
      "text/plain": [
       "True"
      ]
     },
     "execution_count": 12,
     "metadata": {},
     "output_type": "execute_result"
    }
   ],
   "source": [
    "is_heteromecic = lambda n: int(n**.5) * int(n**.5+1) == n\n",
    "is_heteromecic(0)"
   ]
  },
  {
   "cell_type": "code",
   "execution_count": null,
   "id": "3b40466c",
   "metadata": {},
   "outputs": [],
   "source": []
  },
  {
   "cell_type": "code",
   "execution_count": null,
   "id": "7c1d6906",
   "metadata": {},
   "outputs": [],
   "source": []
  },
  {
   "cell_type": "code",
   "execution_count": null,
   "id": "455d46ad",
   "metadata": {},
   "outputs": [],
   "source": []
  },
  {
   "cell_type": "code",
   "execution_count": null,
   "id": "e9efce9a",
   "metadata": {},
   "outputs": [],
   "source": []
  }
 ],
 "metadata": {
  "kernelspec": {
   "display_name": "Python 3",
   "language": "python",
   "name": "python3"
  },
  "language_info": {
   "codemirror_mode": {
    "name": "ipython",
    "version": 3
   },
   "file_extension": ".py",
   "mimetype": "text/x-python",
   "name": "python",
   "nbconvert_exporter": "python",
   "pygments_lexer": "ipython3",
   "version": "3.8.8"
  }
 },
 "nbformat": 4,
 "nbformat_minor": 5
}
