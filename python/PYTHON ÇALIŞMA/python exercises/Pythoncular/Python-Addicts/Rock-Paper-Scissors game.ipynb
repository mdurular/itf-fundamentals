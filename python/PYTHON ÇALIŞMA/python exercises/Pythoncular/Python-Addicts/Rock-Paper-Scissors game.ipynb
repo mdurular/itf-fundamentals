{
 "cells": [
  {
   "cell_type": "markdown",
   "id": "f48c7da8",
   "metadata": {},
   "source": [
    "Task : Make a two-player Rock-Paper-Scissors game. (Hint: Ask for player plays (using input), compare them, print out a message of congratulations to the winner, and ask if the players want to start a new game)\n",
    "Remember the rules:\n",
    "Rock beats scissors\n",
    "Scissors beats paper\n",
    "Paper beats rock\n"
   ]
  },
  {
   "cell_type": "code",
   "execution_count": null,
   "id": "4bf46b65",
   "metadata": {},
   "outputs": [],
   "source": [
    "print(\"Let's play Rock-Paper-Scissors game\")\n",
    "g = str(input(\"Do you want to play again (yes or no): \")).lower().strip()\n",
    "while g == \"yes\":    \n",
    "    x = input(\"First player select one: Rock or Paper or Scissors: \").lower().strip()\n",
    "    y = input(\"Second player select one: Rock or Paper or Scissors: \")\n",
    "    r = \"rock\"\n",
    "    p = \"paper\"\n",
    "    s = \"scissors\"\n",
    "    if x == r and y == s:\n",
    "        z = \"first player\"\n",
    "    elif x == r and y  == p:\n",
    "        z = \"second player\"\n",
    "    elif x == r and y == r:\n",
    "        z = \"no winners\"\n",
    "    elif x == p and y == r:\n",
    "        z = \"first player\"\n",
    "    elif x == p and y == s:\n",
    "        z = \"second player\"\n",
    "    elif x == p and y == p:\n",
    "        z = \"no winners\"\n",
    "    elif x == s and y == r:\n",
    "        z = \"second player\"\n",
    "    elif x == s and y == p:\n",
    "        z = \"first player\"\n",
    "    elif x == s and y == s:\n",
    "        z =\"no winners\"\n",
    "    else:\n",
    "        z = \"Make sure you type it correctly\"\n",
    "    print(\"The winnig player is:\", z)\n",
    "    g = str(input(\"Do you want to 1play again (yes or no): \")).lower().strip()"
   ]
  },
  {
   "cell_type": "code",
   "execution_count": null,
   "id": "4402fa1a",
   "metadata": {},
   "outputs": [],
   "source": [
    "repeat = True\n",
    "while repeat:    \n",
    "    player1 = input('Player 1, Rock(R)-Paper(P)-Scissors(S) > ').upper()\n",
    "    player2 = input('Player 2, Rock(R)-Paper(P)-Scissors(S) > ').upper()\n",
    "    if player1 == 'R':\n",
    "        if player2 == 'R':\n",
    "            print('Nobody wins. >')\n",
    "        elif player2 == 'P':\n",
    "            print('Congratulations Player2, you win.')\n",
    "        else:\n",
    "            print('Congratulations Player1, you win.')\n",
    "    elif player1 == 'P':\n",
    "        if player2 == 'P':\n",
    "            print('Nobody wins. >')\n",
    "        elif player2 == 'S':\n",
    "            print('Congratulations Player2, you win.')\n",
    "        else:\n",
    "            print('Congratulations Player1, you win.')\n",
    "    else:\n",
    "        if player2 == 'S':\n",
    "            print('Nobody wins. >')\n",
    "        elif player2 == 'R':\n",
    "            print('Congratulations Player2, you win.')\n",
    "        else:\n",
    "            print('Congratulations Player1, you win.')\n",
    "    repeat_q = input('Do you want to play again? (Y or N) > ').upper()\n",
    "    if repeat_q != 'Y':\n",
    "        repeat = False"
   ]
  },
  {
   "cell_type": "code",
   "execution_count": null,
   "id": "1b7f9f9c",
   "metadata": {},
   "outputs": [],
   "source": []
  },
  {
   "cell_type": "code",
   "execution_count": null,
   "id": "d143ffc3",
   "metadata": {},
   "outputs": [],
   "source": []
  }
 ],
 "metadata": {
  "kernelspec": {
   "display_name": "Python 3",
   "language": "python",
   "name": "python3"
  },
  "language_info": {
   "codemirror_mode": {
    "name": "ipython",
    "version": 3
   },
   "file_extension": ".py",
   "mimetype": "text/x-python",
   "name": "python",
   "nbconvert_exporter": "python",
   "pygments_lexer": "ipython3",
   "version": "3.8.8"
  }
 },
 "nbformat": 4,
 "nbformat_minor": 5
}
