{
 "cells": [
  {
   "cell_type": "markdown",
   "id": "d4daa9cb",
   "metadata": {},
   "source": [
    "This problem was asked by Facebook.\n",
    "Given an N by N matrix, rotate it by 90 degrees clockwise.\n",
    "For example, given the following matrix:\n",
    "[[1, 2, 3],\n",
    " [4, 5, 6],\n",
    " [7, 8, 9]]\n",
    "you should return:\n",
    "[[7, 4, 1],\n",
    " [8, 5, 2],\n",
    " [9, 6, 3]]"
   ]
  },
  {
   "cell_type": "code",
   "execution_count": 1,
   "id": "c7744108",
   "metadata": {},
   "outputs": [
    {
     "data": {
      "text/plain": [
       "[[7, 4, 1], [8, 5, 2], [9, 6, 3]]"
      ]
     },
     "execution_count": 1,
     "metadata": {},
     "output_type": "execute_result"
    }
   ],
   "source": [
    "def rotate(a): \n",
    "    return [list(i) for i in zip(*a[::-1])]\n",
    "rotate([[1, 2, 3],[4, 5, 6],[7, 8, 9]])"
   ]
  },
  {
   "cell_type": "code",
   "execution_count": 2,
   "id": "7583aabc",
   "metadata": {},
   "outputs": [
    {
     "name": "stdout",
     "output_type": "stream",
     "text": [
      "[[7, 4, 1], [8, 5, 2], [9, 6, 3]]\n"
     ]
    }
   ],
   "source": [
    "liste = [[1, 2, 3], [4, 5, 6], [7, 8, 9]]\n",
    "liste1 = liste[::-1]\n",
    "liste2 = []\n",
    "\n",
    "for i in range(len(liste)):\n",
    "  liste2.append([])\n",
    "  for x in range(0, len(liste)):\n",
    "    liste2[i].append(liste1[x][i])\n",
    "\n",
    "print(liste2)"
   ]
  },
  {
   "cell_type": "code",
   "execution_count": 3,
   "id": "26668cfa",
   "metadata": {},
   "outputs": [
    {
     "data": {
      "text/plain": [
       "[[7, 4, 1], [8, 5, 2], [9, 6, 3]]"
      ]
     },
     "execution_count": 3,
     "metadata": {},
     "output_type": "execute_result"
    }
   ],
   "source": [
    "def rotate(matrixNN):\n",
    "  lst1 = []\n",
    "  k = 0\n",
    "  while k < len(matrixNN[0]):\n",
    "    lst2 = []\n",
    "    for i in matrixNN[::-1]:\n",
    "      lst2.append(i[k])\n",
    "    lst1.append(lst2)\n",
    "    k += 1\n",
    "  return lst1\n",
    "\n",
    "rotate([[1, 2, 3],[4, 5, 6],[7, 8, 9]])"
   ]
  },
  {
   "cell_type": "code",
   "execution_count": null,
   "id": "18ff1deb",
   "metadata": {},
   "outputs": [],
   "source": []
  },
  {
   "cell_type": "code",
   "execution_count": null,
   "id": "cb16e856",
   "metadata": {},
   "outputs": [],
   "source": []
  }
 ],
 "metadata": {
  "kernelspec": {
   "display_name": "Python 3",
   "language": "python",
   "name": "python3"
  },
  "language_info": {
   "codemirror_mode": {
    "name": "ipython",
    "version": 3
   },
   "file_extension": ".py",
   "mimetype": "text/x-python",
   "name": "python",
   "nbconvert_exporter": "python",
   "pygments_lexer": "ipython3",
   "version": "3.8.8"
  }
 },
 "nbformat": 4,
 "nbformat_minor": 5
}
