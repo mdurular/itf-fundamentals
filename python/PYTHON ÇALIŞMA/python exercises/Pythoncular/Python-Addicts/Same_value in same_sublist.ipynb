{
 "cells": [
  {
   "cell_type": "markdown",
   "id": "14db037b",
   "metadata": {},
   "source": [
    "Hello Friends, happy holidays again. Make a solution that takes a list of \n",
    "numbers or strings and returns a list with the items from the \n",
    "original list stored into sublists. Items of the same value should be in the same sublist. \n",
    "Examples\n",
    "[2, 1, 2, 1] ➞ [[2, 2], [1, 1]], \n",
    "[5, 4, 5, 5, 4, 3] ➞ [[5, 5, 5], [4, 4], [3]], \n",
    "[\"b\", \"a\", \"b\", \"a\", \"c\"] ➞ [[\"b\", \"b\"], [\"a\", \"a\"], [\"c\"]]\n",
    "Notes\n",
    "The sublists should be returned in the order \n",
    "of each element's first appearance in the given list."
   ]
  },
  {
   "cell_type": "code",
   "execution_count": 3,
   "id": "bfe1ae08",
   "metadata": {},
   "outputs": [
    {
     "name": "stdout",
     "output_type": "stream",
     "text": [
      "[[5, 5, 5], [4, 4], [3]]\n"
     ]
    }
   ],
   "source": [
    "dictt = {}\n",
    "list = [5, 4, 5, 5, 4, 3]\n",
    "for i in list:\n",
    "    if i not in dictt:\n",
    "        dictt[i] = [i]\n",
    "    else:\n",
    "        dictt[i].append(i)\n",
    "result = [i for i in dictt.values()]\n",
    "print(result)"
   ]
  },
  {
   "cell_type": "code",
   "execution_count": null,
   "id": "1706eef6",
   "metadata": {},
   "outputs": [],
   "source": [
    "liste = [1, 'a', 2, 'b', 1, 'c', 2, 1, 'a', 'c', 2, 1, 2, 2, 1, 'a', 'b', 'a', 'b', 1, 2, 'c', 'c']\n",
    "listim, setim = [] , set()\n",
    "\n",
    "for i in liste:\n",
    "    if i not in setim:\n",
    "        listim.append(list(str(i))*liste.count(i))\n",
    "        setim.add(i)\n",
    "print(listim)"
   ]
  },
  {
   "cell_type": "code",
   "execution_count": 4,
   "id": "39947e02",
   "metadata": {},
   "outputs": [
    {
     "name": "stdout",
     "output_type": "stream",
     "text": [
      "[[2, 2], [1, 1]]\n"
     ]
    }
   ],
   "source": [
    "checking_list = [2, 1, 2, 1]\n",
    "new_list = []\n",
    "dictionary = {}\n",
    "for i in checking_list:\n",
    "    dictionary[i] = [i]\n",
    "    for a in range(len(checking_list)):\n",
    "        if i == checking_list[a]:\n",
    "            dictionary[i] = [i]\n",
    "            dictionary[i].append(i)\n",
    "a = [i for i in dictionary.values()]\n",
    "print(a)"
   ]
  },
  {
   "cell_type": "code",
   "execution_count": 14,
   "id": "1fa8ccfe",
   "metadata": {},
   "outputs": [
    {
     "name": "stdout",
     "output_type": "stream",
     "text": [
      "dict_values([[5, 5, 5], [4, 4], [3]])\n"
     ]
    }
   ],
   "source": [
    "list1 = [5, 4, 5, 5, 4, 3]\n",
    "dict1= {}\n",
    "for i in list1 :\n",
    "    if i in dict1 :\n",
    "        dict1[i].append(i)\n",
    "    else :\n",
    "        dict1[i] = [i]\n",
    "print(dict1.values())  \n",
    "#print(list(dict1.values()))"
   ]
  },
  {
   "cell_type": "code",
   "execution_count": null,
   "id": "aff949f4",
   "metadata": {},
   "outputs": [],
   "source": []
  }
 ],
 "metadata": {
  "kernelspec": {
   "display_name": "Python 3",
   "language": "python",
   "name": "python3"
  },
  "language_info": {
   "codemirror_mode": {
    "name": "ipython",
    "version": 3
   },
   "file_extension": ".py",
   "mimetype": "text/x-python",
   "name": "python",
   "nbconvert_exporter": "python",
   "pygments_lexer": "ipython3",
   "version": "3.8.8"
  }
 },
 "nbformat": 4,
 "nbformat_minor": 5
}
