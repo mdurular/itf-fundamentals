{
 "cells": [
  {
   "cell_type": "markdown",
   "id": "e865afac",
   "metadata": {},
   "source": [
    "Kullanıcıdan bir cümle alan ve cümle içerisinde geçen sesli harflerin her\n",
    "birinden kaçar tane olduğunu çıktı veren bir program yazınız.\n",
    "Girilen harflerin küçük/büyük olabileceği ihtimalini göz önünde bulundurunuz.\n",
    "Kolay Gelsin...\n",
    "Beklenen Çıktı:\n",
    "cümle: Sakla samanı gelir zamanı.\n",
    "a: 6\n",
    "ı: 2\n",
    "e: 1\n",
    "i: 1 (edited) "
   ]
  },
  {
   "cell_type": "code",
   "execution_count": 3,
   "id": "7255ac0b",
   "metadata": {},
   "outputs": [
    {
     "name": "stdout",
     "output_type": "stream",
     "text": [
      "Enter a sentence, please :Sakla samanı gelir zamanı.\n",
      "a: 6\n",
      "ı: 2\n",
      "e: 1\n",
      "i: 1\n"
     ]
    }
   ],
   "source": [
    "cumle = list((input('Enter a sentence, please :').lower()))\n",
    "famous = ['a', 'ı', 'e', 'i', 'o', 'u', 'ö', 'ü']\n",
    "for i in famous :\n",
    "    if i in cumle :\n",
    "        print( i+':', cumle.count(i))"
   ]
  },
  {
   "cell_type": "markdown",
   "id": "20a7a642",
   "metadata": {},
   "source": [
    "Hocam merhaba. .get() metodunu soyle acikliyayim. get metodu ilk once parantez \n",
    "icindeki i key’ini sozluk icinde ariyor. Eger sozluk icerisinde i key’i yoksa, \n",
    "parantez icindeki ikinci deger olan 0'i i key’inin value’su olarak atiyor. \n",
    "Sonrasinda da + 1 ile bir ekliyor. Boylece sozlukteki sayma islemlerinde sozlukte\n",
    "ilk karsilasilan key 1 degerini aliyor. Ayni key ile tekrar karsilasildiginda \n",
    "get metodu bu key’a ait bir value (yani 1 degerini) buldugu icin 0 atamasi yapmiyor\n",
    "ve + 1 ile toplayarak 2'yi value olarak atiyor. Aslinda sayma islemini dongusuz yapmayi sagliyor. \n",
    "Umarim aciklayici olmustur."
   ]
  },
  {
   "cell_type": "code",
   "execution_count": 2,
   "id": "1b5bd76a",
   "metadata": {},
   "outputs": [
    {
     "name": "stdout",
     "output_type": "stream",
     "text": [
      "Enter a sentence, please :Sakla samanı gelir zamanı.\n",
      "a: 6\n",
      "e: 1\n",
      "i: 1\n",
      "ı: 2\n"
     ]
    }
   ],
   "source": [
    "sentence = list((input('Enter a sentence, please :').lower()))\n",
    "vowels = ['a', 'e', 'i', 'o', 'u', 'ı', 'ü','ö']\n",
    "for i in vowels :\n",
    "    if i in sentence :\n",
    "        print( i+':', sentence.count(i))"
   ]
  },
  {
   "cell_type": "code",
   "execution_count": 1,
   "id": "259b40e5",
   "metadata": {},
   "outputs": [
    {
     "name": "stdout",
     "output_type": "stream",
     "text": [
      "Bir cümle yazınız: Sakla samanı gelir zamanı.\n",
      "{'a': 6, 'ı': 2, 'e': 1, 'i': 1}\n"
     ]
    }
   ],
   "source": [
    "sentence = input(\"Bir cümle yazınız: \").lower()\n",
    "vowels = [\"a\", \"e\", \"ı\",\"i\",\"o\", \"ö\", \"u\", \"ü\"]\n",
    "new_list = []\n",
    "result = {}\n",
    "for i in sentence:\n",
    "  if i in vowels:\n",
    "    new_list.append(i)\n",
    "for a in new_list:\n",
    "  result[a] = new_list.count(a)\n",
    "print(result)"
   ]
  },
  {
   "cell_type": "code",
   "execution_count": null,
   "id": "f9c7ea18",
   "metadata": {},
   "outputs": [],
   "source": []
  },
  {
   "cell_type": "code",
   "execution_count": null,
   "id": "bb0c9229",
   "metadata": {},
   "outputs": [],
   "source": []
  },
  {
   "cell_type": "code",
   "execution_count": null,
   "id": "02a9e40c",
   "metadata": {},
   "outputs": [],
   "source": []
  }
 ],
 "metadata": {
  "kernelspec": {
   "display_name": "Python 3",
   "language": "python",
   "name": "python3"
  },
  "language_info": {
   "codemirror_mode": {
    "name": "ipython",
    "version": 3
   },
   "file_extension": ".py",
   "mimetype": "text/x-python",
   "name": "python",
   "nbconvert_exporter": "python",
   "pygments_lexer": "ipython3",
   "version": "3.8.8"
  }
 },
 "nbformat": 4,
 "nbformat_minor": 5
}
