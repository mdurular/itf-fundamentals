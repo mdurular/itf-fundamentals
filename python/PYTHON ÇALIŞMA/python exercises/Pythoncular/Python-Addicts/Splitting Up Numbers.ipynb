{
 "cells": [
  {
   "cell_type": "code",
   "execution_count": null,
   "id": "3a6f9d03",
   "metadata": {},
   "outputs": [],
   "source": [
    "Create a function that takes a number num and returns each place value in the number.\n",
    "\n",
    "Examples\n",
    "num_split(39) ➞ [30, 9]\n",
    "\n",
    "num_split(-434) ➞ [-400, -30, -4]\n",
    "\n",
    "num_split(100) ➞ [100, 0, 0]"
   ]
  },
  {
   "cell_type": "code",
   "execution_count": null,
   "id": "4f63487c",
   "metadata": {},
   "outputs": [],
   "source": [
    "def num_split(num):\n",
    "    lst = []\n",
    "    a = 1\n",
    "    if num < 0:\n",
    "        a = -1\n",
    "    \n",
    "    for i in str(abs(num))[::-1]:\n",
    "        b = int(i) * a\n",
    "        a *= 10\n",
    "        lst.append(b)\n",
    "    lst.reverse()\n",
    "    return lst\n",
    "num_split(-145)"
   ]
  },
  {
   "cell_type": "code",
   "execution_count": null,
   "id": "269ccaef",
   "metadata": {},
   "outputs": [],
   "source": [
    "num = -368\n",
    "lst = []\n",
    "a = 1\n",
    "\n",
    "if num < 0:\n",
    "    a = -1\n",
    "    \n",
    "for i in str(abs(num))[::-1]:\n",
    "    b = int(i) * a\n",
    "    a = a * 10\n",
    "    lst.append(b)   \n",
    "lst.reverse()\n",
    "lst"
   ]
  },
  {
   "cell_type": "code",
   "execution_count": 2,
   "id": "48dec7b3",
   "metadata": {},
   "outputs": [
    {
     "name": "stdout",
     "output_type": "stream",
     "text": [
      "Enter Number: 256\n",
      "[200, 50, 6]\n"
     ]
    }
   ],
   "source": [
    "num = int(input(\"Enter Number: \"))\n",
    "new_num=abs(num)\n",
    "c = 1\n",
    "pos_nums = []\n",
    "while new_num != 0:\n",
    "    z = new_num % 10\n",
    "    pos_nums.append(z *c)\n",
    "    new_num = new_num // 10\n",
    "    c = c*10\n",
    "if num > 0:\n",
    "    print(pos_nums[::-1])\n",
    "else:\n",
    "    a=[]\n",
    "    for i in pos_nums[::-1]:\n",
    "        b=-1*i\n",
    "        a.append(b)\n",
    "    print(a)"
   ]
  }
 ],
 "metadata": {
  "kernelspec": {
   "display_name": "Python 3",
   "language": "python",
   "name": "python3"
  },
  "language_info": {
   "codemirror_mode": {
    "name": "ipython",
    "version": 3
   },
   "file_extension": ".py",
   "mimetype": "text/x-python",
   "name": "python",
   "nbconvert_exporter": "python",
   "pygments_lexer": "ipython3",
   "version": "3.8.8"
  }
 },
 "nbformat": 4,
 "nbformat_minor": 5
}
