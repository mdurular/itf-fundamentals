{
 "cells": [
  {
   "cell_type": "markdown",
   "id": "66c213df",
   "metadata": {},
   "source": [
    "Write a function that takes a string, and returns a new string with any duplicate consecutive letters removed.\n",
    "\n",
    "Examples\n",
    "unstretch(\"ppoeemm\") ➞ \"poem\"\n",
    "\n",
    "unstretch(\"wiiiinnnnd\") ➞ \"wind\"\n",
    "\n",
    "unstretch(\"ttiiitllleeee\") ➞ \"title\"\n",
    "\n",
    "unstretch(\"cccccaaarrrbbonnnnn\") ➞ \"carbon\"\n",
    "Notes\n",
    "Final strings won't include words with double letters (e.g. \"passing\", \"lottery\")."
   ]
  },
  {
   "cell_type": "code",
   "execution_count": null,
   "id": "bb8095e7",
   "metadata": {},
   "outputs": [],
   "source": [
    "text = input('Enter a text : ')\n",
    "combine = ''\n",
    "for i in text:\n",
    "    if i not in combine:\n",
    "        combine = combine + i\n",
    "print(combine)"
   ]
  },
  {
   "cell_type": "code",
   "execution_count": 1,
   "id": "bcc2edab",
   "metadata": {},
   "outputs": [
    {
     "data": {
      "text/plain": [
       "'wind'"
      ]
     },
     "execution_count": 1,
     "metadata": {},
     "output_type": "execute_result"
    }
   ],
   "source": [
    "def unstretch(word):\n",
    "\treturn word[0]+\"\".join(word[i] for i in range(1,len(word)) if word[i]!=word[i-1])\n",
    "unstretch(\"wiiiinnnnd\")"
   ]
  },
  {
   "cell_type": "code",
   "execution_count": null,
   "id": "013eefcf",
   "metadata": {},
   "outputs": [],
   "source": [
    "def unstretch(word):\n",
    "\treturn ''.join([x for x,y in zip(word,word[1:]) if x!=y]) + word[-1]"
   ]
  },
  {
   "cell_type": "code",
   "execution_count": null,
   "id": "91e18e01",
   "metadata": {},
   "outputs": [],
   "source": [
    "def unstretch(word):\n",
    "    c=word[0]\n",
    "    for i in range(1,len(word)):\n",
    "        if word[i]!=c[-1]:\n",
    "            c+=word[i]\n",
    "    return c"
   ]
  },
  {
   "cell_type": "code",
   "execution_count": null,
   "id": "e0a49882",
   "metadata": {},
   "outputs": [],
   "source": [
    "def unstretch(word):\n",
    "    new_word = ''\n",
    "    last_letter = ''\n",
    "    for letter in word:\n",
    "        if letter != last_letter:\n",
    "            new_word += letter\n",
    "            last_letter = letter\n",
    "    return new_word"
   ]
  },
  {
   "cell_type": "code",
   "execution_count": null,
   "id": "7e3cb1a2",
   "metadata": {},
   "outputs": [],
   "source": []
  }
 ],
 "metadata": {
  "kernelspec": {
   "display_name": "Python 3",
   "language": "python",
   "name": "python3"
  },
  "language_info": {
   "codemirror_mode": {
    "name": "ipython",
    "version": 3
   },
   "file_extension": ".py",
   "mimetype": "text/x-python",
   "name": "python",
   "nbconvert_exporter": "python",
   "pygments_lexer": "ipython3",
   "version": "3.8.8"
  }
 },
 "nbformat": 4,
 "nbformat_minor": 5
}
