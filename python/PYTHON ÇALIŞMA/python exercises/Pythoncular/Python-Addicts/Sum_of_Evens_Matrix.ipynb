{
 "cells": [
  {
   "cell_type": "markdown",
   "id": "86a22b8e",
   "metadata": {},
   "source": [
    "sum_of_evens([\n",
    "  [1, 0, 2],\n",
    "  [5, 5, 7],\n",
    "  [9, 4, 3]\n",
    "]) ➞ 6\n",
    "\n",
    "// 2 + 4 = 6\n",
    "\n",
    "sum_of_evens([\n",
    "  [1, 1],\n",
    "  [1, 1]\n",
    "]) ➞ 0\n",
    "\n",
    "sum_of_evens([\n",
    "  [42, 9],\n",
    "  [16, 8]\n",
    "]) ➞ 66\n",
    "\n",
    "sum_of_evens([\n",
    "  [],\n",
    "  [],\n",
    "  []\n",
    "]) ➞ 0"
   ]
  },
  {
   "cell_type": "code",
   "execution_count": 1,
   "id": "117cb599",
   "metadata": {},
   "outputs": [
    {
     "name": "stdout",
     "output_type": "stream",
     "text": [
      "6\n"
     ]
    }
   ],
   "source": [
    "liste = [\n",
    "  [1, 0, 2],\n",
    "  [5, 5, 7],\n",
    "  [9, 4, 3]\n",
    "]\n",
    "result = 0\n",
    "for i in liste:\n",
    "    for j in i:\n",
    "        if not j % 2:\n",
    "            result += j\n",
    "print(result)"
   ]
  },
  {
   "cell_type": "code",
   "execution_count": 2,
   "id": "f14d4118",
   "metadata": {},
   "outputs": [],
   "source": [
    "def sum_of_evens(lst):\n",
    "\treturn sum([j for i in range(len(lst)) for j in lst[i] if j%2==0])"
   ]
  },
  {
   "cell_type": "code",
   "execution_count": 6,
   "id": "b98483c0",
   "metadata": {},
   "outputs": [],
   "source": [
    "def sum_of_evens(matrix):\n",
    "    lst_evens = []\n",
    "    for i in matrix:\n",
    "        for ii in i:\n",
    "            if ii % 2 == 0:\n",
    "                lst_evens.append(ii)\n",
    "    sum_evens = 0\n",
    "    for s in lst_evens:\n",
    "        sum_evens += s\n",
    "\n",
    "    return sum_evens"
   ]
  },
  {
   "cell_type": "code",
   "execution_count": 7,
   "id": "eb4b2a2e",
   "metadata": {},
   "outputs": [
    {
     "data": {
      "text/plain": [
       "6"
      ]
     },
     "execution_count": 7,
     "metadata": {},
     "output_type": "execute_result"
    }
   ],
   "source": [
    "sum_of_evens([\n",
    "  [1, 0, 2],\n",
    "  [5, 5, 7],\n",
    "  [9, 4, 3]\n",
    "])"
   ]
  },
  {
   "cell_type": "code",
   "execution_count": 8,
   "id": "f7026e76",
   "metadata": {},
   "outputs": [],
   "source": [
    "def sum_of_evens(lst):\n",
    "\treturn sum([c for r in lst for c in r if c%2==0])"
   ]
  },
  {
   "cell_type": "code",
   "execution_count": 9,
   "id": "c3b2f6c5",
   "metadata": {},
   "outputs": [
    {
     "data": {
      "text/plain": [
       "6"
      ]
     },
     "execution_count": 9,
     "metadata": {},
     "output_type": "execute_result"
    }
   ],
   "source": [
    "sum_of_evens([\n",
    "  [1, 0, 2],\n",
    "  [5, 5, 7],\n",
    "  [9, 4, 3]\n",
    "])"
   ]
  },
  {
   "cell_type": "code",
   "execution_count": null,
   "id": "8a0e56e1",
   "metadata": {},
   "outputs": [],
   "source": [
    "def sum_of_evens(lst):\n",
    "\treturn sum(i for i in sum(lst, []) if i%2 == 0)"
   ]
  },
  {
   "cell_type": "code",
   "execution_count": null,
   "id": "1686878b",
   "metadata": {},
   "outputs": [],
   "source": []
  },
  {
   "cell_type": "code",
   "execution_count": null,
   "id": "660725e4",
   "metadata": {},
   "outputs": [],
   "source": [
    "sum_of_evens=lambda l:sum(j for i in l for j in i if j%2==0)"
   ]
  },
  {
   "cell_type": "code",
   "execution_count": null,
   "id": "cbbd3f6a",
   "metadata": {},
   "outputs": [],
   "source": [
    "def sum_of_evens(lst):\n",
    "\tsum = 0\n",
    "\tfor i in range (len(lst)):\n",
    "\t\tfor j in range (len(lst[i])):\n",
    "\t\t\tif (lst[i][j]%2==0):\n",
    "\t\t\t\tsum += lst[i][j]\n",
    "\treturn sum"
   ]
  },
  {
   "cell_type": "code",
   "execution_count": null,
   "id": "93435d7f",
   "metadata": {},
   "outputs": [],
   "source": [
    "def sum_of_evens(lst):\n",
    "\ttotal = 0\n",
    "\tfor el in lst:\n",
    "\t\ttotal += sum([num for num in el if num % 2 == 0])\n",
    "\treturn total"
   ]
  },
  {
   "cell_type": "code",
   "execution_count": null,
   "id": "0289b314",
   "metadata": {},
   "outputs": [],
   "source": []
  }
 ],
 "metadata": {
  "kernelspec": {
   "display_name": "Python 3",
   "language": "python",
   "name": "python3"
  },
  "language_info": {
   "codemirror_mode": {
    "name": "ipython",
    "version": 3
   },
   "file_extension": ".py",
   "mimetype": "text/x-python",
   "name": "python",
   "nbconvert_exporter": "python",
   "pygments_lexer": "ipython3",
   "version": "3.8.8"
  }
 },
 "nbformat": 4,
 "nbformat_minor": 5
}
