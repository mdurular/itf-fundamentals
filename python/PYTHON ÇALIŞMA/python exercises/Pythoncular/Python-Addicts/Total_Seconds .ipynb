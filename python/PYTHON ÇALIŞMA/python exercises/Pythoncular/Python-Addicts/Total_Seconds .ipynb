{
 "cells": [
  {
   "cell_type": "markdown",
   "id": "d78abb2e",
   "metadata": {},
   "source": [
    "Hi Friends;\n",
    "Get the total number of seconds from the user.\n",
    "Write a program that returns the total seconds in hours, minutes and seconds.\n",
    "For example: 4565436 seconds is 1268 hours, 10 minutes and 36 seconds.\n",
    "Merhaba arkadaşlar;\n",
    "Kullanıcıdan toplam saniye olarak bir sayı alın.\n",
    "Toplam saniyeyi saat, dakika ve saniye cinsinden çıktı veren bir program yazın.\n",
    "Örneğin: 4565436 saniye, 1268 saat, 10 dakika ve 36 saniyedir. (edited) "
   ]
  },
  {
   "cell_type": "code",
   "execution_count": 1,
   "id": "780674da",
   "metadata": {},
   "outputs": [
    {
     "name": "stdout",
     "output_type": "stream",
     "text": [
      "enter total second:4565436\n",
      "Total second equal is 1268 hour 10 minute and 36 second\n"
     ]
    }
   ],
   "source": [
    "x = int(input(\"enter total second:\"))\n",
    "hr = x // 3600\n",
    "y = x % 3600\n",
    "min_ = y // 60\n",
    "sec = y % 60\n",
    "print(\"Total second equal is {} hour {} minute and {} second\".format(hr,min_,sec))"
   ]
  },
  {
   "cell_type": "code",
   "execution_count": 2,
   "id": "b9ce15b4",
   "metadata": {},
   "outputs": [
    {
     "name": "stdout",
     "output_type": "stream",
     "text": [
      "Enter total numbervof seconds: 4565436\n",
      "4565436 seconds is 1268 hours, 10 minutes and 36 seconds\n"
     ]
    }
   ],
   "source": [
    "num = int(input('Enter total numbervof seconds: '))\n",
    "print(f\"{num} seconds is {num//3600} hours, {(num%3600)//60} minutes and {num%60} seconds\")"
   ]
  },
  {
   "cell_type": "code",
   "execution_count": 4,
   "id": "b3775ed2",
   "metadata": {},
   "outputs": [
    {
     "name": "stdout",
     "output_type": "stream",
     "text": [
      "Please write here number for convert:4565436\n",
      "4565436 seconds, is 1268 hours, 10  minutes and 36 seconds.\n"
     ]
    }
   ],
   "source": [
    "total_number = input(\"Please write here number for convert:\")\n",
    "hours = (int(total_number) // 60) // 60\n",
    "minutes = (int(total_number) - hours * 60 * 60) // 60\n",
    "seconds = int(total_number) - hours * 60 * 60 - minutes *60\n",
    "print(f\"{total_number} seconds, is {hours} hours, {minutes}  minutes and {seconds} seconds.\")"
   ]
  },
  {
   "cell_type": "code",
   "execution_count": null,
   "id": "12c4c6ef",
   "metadata": {},
   "outputs": [],
   "source": []
  },
  {
   "cell_type": "code",
   "execution_count": null,
   "id": "e2db03ff",
   "metadata": {},
   "outputs": [],
   "source": []
  }
 ],
 "metadata": {
  "kernelspec": {
   "display_name": "Python 3",
   "language": "python",
   "name": "python3"
  },
  "language_info": {
   "codemirror_mode": {
    "name": "ipython",
    "version": 3
   },
   "file_extension": ".py",
   "mimetype": "text/x-python",
   "name": "python",
   "nbconvert_exporter": "python",
   "pygments_lexer": "ipython3",
   "version": "3.8.8"
  }
 },
 "nbformat": 4,
 "nbformat_minor": 5
}
