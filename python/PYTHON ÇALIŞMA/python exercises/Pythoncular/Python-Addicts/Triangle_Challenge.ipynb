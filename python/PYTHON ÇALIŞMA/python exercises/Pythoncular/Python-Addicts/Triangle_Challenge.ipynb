{
 "cells": [
  {
   "cell_type": "markdown",
   "id": "77d8db81",
   "metadata": {},
   "source": [
    "Write a Python program to check a triangle is equilateral, isosceles or scalene.\n",
    "Note :\n",
    "An equilateral triangle is a triangle in which all three sides are equal.\n",
    "A scalene triangle is a triangle that has three unequal sides.\n",
    "An isosceles triangle is a triangle with (at least) two equal sides.\n",
    "Sample Output:\n",
    "x: 6\n",
    "y:8\n",
    "z:12\n",
    "Scalene triangle\n",
    "Bu soruyu biraz uğraşılırsa herkes çözebilir "
   ]
  },
  {
   "cell_type": "code",
   "execution_count": 1,
   "id": "290d6384",
   "metadata": {},
   "outputs": [
    {
     "name": "stdout",
     "output_type": "stream",
     "text": [
      "sayı giriniz : 6\n",
      "sayı giriniz : 8\n",
      "sayı giriniz : 12\n",
      "scalena üçgen\n"
     ]
    }
   ],
   "source": [
    "x=int(input(\"sayı giriniz : \"))\n",
    "y=int(input(\"sayı giriniz : \"))\n",
    "z=int(input(\"sayı giriniz : \"))\n",
    "if x==y and x==z and y==z:\n",
    "  k=\"eşkenar üçgen\"\n",
    "elif x==y or x==z or y==z :\n",
    "  k=\"ikizkenar üçgen\"\n",
    "else:\n",
    "    k=\"scalena üçgen\"\n",
    "print(k)"
   ]
  },
  {
   "cell_type": "code",
   "execution_count": null,
   "id": "d6b69802",
   "metadata": {},
   "outputs": [],
   "source": []
  },
  {
   "cell_type": "code",
   "execution_count": null,
   "id": "5fd8e15f",
   "metadata": {},
   "outputs": [],
   "source": []
  },
  {
   "cell_type": "code",
   "execution_count": null,
   "id": "7f4ef9cb",
   "metadata": {},
   "outputs": [],
   "source": []
  },
  {
   "cell_type": "code",
   "execution_count": null,
   "id": "c4ca5bd0",
   "metadata": {},
   "outputs": [],
   "source": []
  }
 ],
 "metadata": {
  "kernelspec": {
   "display_name": "Python 3",
   "language": "python",
   "name": "python3"
  },
  "language_info": {
   "codemirror_mode": {
    "name": "ipython",
    "version": 3
   },
   "file_extension": ".py",
   "mimetype": "text/x-python",
   "name": "python",
   "nbconvert_exporter": "python",
   "pygments_lexer": "ipython3",
   "version": "3.8.8"
  }
 },
 "nbformat": 4,
 "nbformat_minor": 5
}
