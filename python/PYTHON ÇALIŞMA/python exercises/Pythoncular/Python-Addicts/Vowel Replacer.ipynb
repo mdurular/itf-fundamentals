{
 "cells": [
  {
   "cell_type": "markdown",
   "id": "e943e9a2",
   "metadata": {},
   "source": [
    "Create a function that replaces all the vowels in a string with a specified character.\n",
    "\n",
    "Examples\n",
    "replace_vowels(\"the aardvark\", \"#\") ➞ \"th# ##rdv#rk\"\n",
    "\n",
    "replace_vowels(\"minnie mouse\", \"?\") ➞ \"m?nn?? m??s?\"\n",
    "\n",
    "replace_vowels(\"shakespeare\", \"*\") ➞ \"sh*k*sp**r*\"\n",
    "Notes\n",
    "All characters will be in lower case."
   ]
  },
  {
   "cell_type": "code",
   "execution_count": 5,
   "id": "482db7b7",
   "metadata": {},
   "outputs": [
    {
     "name": "stdout",
     "output_type": "stream",
     "text": [
      "Enter a text here > shakespeare\n",
      "With what you want to replace the vowels > +\n",
      "sh+k+sp++r+"
     ]
    }
   ],
   "source": [
    "text = input('Enter a text here > ')\n",
    "replacer = input('With what you want to replace the vowels > ')\n",
    "liste = []\n",
    "for i in text:\n",
    "    if i in ['a', 'e' ,'i' ,'u', 'o']:\n",
    "        i = replacer\n",
    "    liste.append(i)\n",
    "for i in liste:\n",
    "    print(i, end = '')"
   ]
  },
  {
   "cell_type": "code",
   "execution_count": 4,
   "id": "30cfb80f",
   "metadata": {},
   "outputs": [
    {
     "name": "stdout",
     "output_type": "stream",
     "text": [
      "Enter a sentence:shakespeare\n",
      "s h ? k / s p / ? r /\n"
     ]
    }
   ],
   "source": [
    "x = input(\"Enter a sentence:\")\n",
    "y = []\n",
    "#vowel = [\"a\",\"e\",\"i\",\"ö\",\"ü\"]\n",
    "for i in x:\n",
    "    if i == \"a\":\n",
    "        i = \"?\"\n",
    "    elif i == \"e\":\n",
    "        i = \"/\"\n",
    "    elif i == \"i\":\n",
    "        i = \"*\"\n",
    "    elif i == \"ü\":\n",
    "        i == \"&\"\n",
    "    elif i == \"ö\":\n",
    "        i == \"%\"    \n",
    "    y.append(i)\n",
    "print(*y)"
   ]
  },
  {
   "cell_type": "code",
   "execution_count": 2,
   "id": "c6e19903",
   "metadata": {},
   "outputs": [
    {
     "name": "stdout",
     "output_type": "stream",
     "text": [
      "Please enter a word:  shakespeare\n",
      "Enter the character you want to write instead of the vowel: *\n",
      "sh*k*sp**r*\n"
     ]
    }
   ],
   "source": [
    "vowels = [\"a\",\"e\",\"i\",\"o\",\"ü\",\"ö\"]\n",
    "cheking_word = input(\"Please enter a word:  \")\n",
    "replace_chracter = input(\"Enter the character you want to write instead of the vowel: \")\n",
    "changing_wowel_list = []\n",
    "for i in cheking_word:\n",
    "    \n",
    "    if i in vowels:\n",
    "        changing_wowel_list.append(i)\n",
    "for i in changing_wowel_list:\n",
    "    cheking_word = cheking_word.replace(i,replace_chracter)\n",
    "print(cheking_word)"
   ]
  }
 ],
 "metadata": {
  "kernelspec": {
   "display_name": "Python 3",
   "language": "python",
   "name": "python3"
  },
  "language_info": {
   "codemirror_mode": {
    "name": "ipython",
    "version": 3
   },
   "file_extension": ".py",
   "mimetype": "text/x-python",
   "name": "python",
   "nbconvert_exporter": "python",
   "pygments_lexer": "ipython3",
   "version": "3.8.8"
  }
 },
 "nbformat": 4,
 "nbformat_minor": 5
}
