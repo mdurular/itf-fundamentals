{
 "cells": [
  {
   "cell_type": "code",
   "execution_count": 60,
   "id": "662c307b",
   "metadata": {},
   "outputs": [
    {
     "name": "stdout",
     "output_type": "stream",
     "text": [
      "Enter a number: 13\n",
      "13 is a prime number\n"
     ]
    }
   ],
   "source": [
    "number = int(input(\"Enter a number: \"))\n",
    "if all (number % i != 0 for i in range(2, number)):\n",
    "    print(number,\"is a prime number\")                       \n",
    "else:\n",
    "    print(number,\"is not a prime number\") "
   ]
  },
  {
   "cell_type": "markdown",
   "id": "6a430bfe",
   "metadata": {},
   "source": [
    "## Task : Print the prime numbers which are between 1 to entered limit number (n).\n",
    "\n",
    "You can use a nested for loop.\n",
    "Collect all these numbers into a list\n",
    "The desired output for n=100 :\n",
    "\n",
    "[2, 3, 5, 7, 11, 13, 17, 19, 23, 29, 31, 37, 41, 43, 47, 53, 59,\n",
    "61, 67, 71, 73, 79, 83, 89, 97]"
   ]
  },
  {
   "cell_type": "code",
   "execution_count": null,
   "id": "a21365b2",
   "metadata": {},
   "outputs": [],
   "source": [
    "sayi = int(input(\"Sayi Giriniz:\"))\n",
    "lst=[] \n",
    "for i in range(2,(sayi)):\n",
    "    sayac=0\n",
    "    for j in range(2,i):\n",
    "        if(i%j==0):\n",
    "            sayac=sayac+1\n",
    "    if(sayac==0):\n",
    "        lst.append(i)\n",
    "        \n",
    "print(lst)"
   ]
  },
  {
   "cell_type": "code",
   "execution_count": 86,
   "id": "57505bb1",
   "metadata": {},
   "outputs": [
    {
     "ename": "SyntaxError",
     "evalue": "invalid syntax (<ipython-input-86-ff9a27e10979>, line 4)",
     "output_type": "error",
     "traceback": [
      "\u001b[1;36m  File \u001b[1;32m\"<ipython-input-86-ff9a27e10979>\"\u001b[1;36m, line \u001b[1;32m4\u001b[0m\n\u001b[1;33m    if all n % i != 0:\u001b[0m\n\u001b[1;37m           ^\u001b[0m\n\u001b[1;31mSyntaxError\u001b[0m\u001b[1;31m:\u001b[0m invalid syntax\n"
     ]
    }
   ],
   "source": [
    "def prime_num(n):\n",
    "    prime_num=True\n",
    "    for i in range(2,n):\n",
    "        if all n % i != 0:\n",
    "            prime_num= True\n",
    "        else:\n",
    "            prime_num= False\n",
    "    return prime_num\n",
    "#def prime_num(n):\n",
    "#    return [i for i in range(2,n) if prime_mı(i)]\n",
    "print(prime_num(100))\n",
    "#if all (number % i != 0 for i in range(2, number)):"
   ]
  },
  {
   "cell_type": "code",
   "execution_count": 87,
   "id": "5a71a7d6",
   "metadata": {},
   "outputs": [
    {
     "name": "stdout",
     "output_type": "stream",
     "text": [
      "[2, 3, 5, 7, 11, 13, 17, 19, 23, 29, 31, 37, 41, 43, 47, 53, 59, 61, 67, 71, 73, 79, 83, 89, 97]\n"
     ]
    }
   ],
   "source": [
    "def prime_mı(n):\n",
    "    prime_mı=True\n",
    "    for i in range(2,n):\n",
    "        if n==2:\n",
    "            prime_mı= True\n",
    "        elif n%i==0:\n",
    "            prime_mı= False\n",
    "    return prime_mı\n",
    "def prime(n):\n",
    "    return [i for i in range(2,n) if prime_mı(i)]\n",
    "print(prime(100))"
   ]
  },
  {
   "cell_type": "code",
   "execution_count": 88,
   "id": "826a699c",
   "metadata": {},
   "outputs": [
    {
     "name": "stdout",
     "output_type": "stream",
     "text": [
      "[2, 3, 5, 7, 11, 13, 17, 19, 23, 29, 31, 37, 41, 43, 47, 53, 59, 61, 67, 71, 73, 79, 83, 89, 97]\n"
     ]
    }
   ],
   "source": []
  },
  {
   "cell_type": "code",
   "execution_count": null,
   "id": "5dc4e850",
   "metadata": {},
   "outputs": [],
   "source": []
  },
  {
   "cell_type": "code",
   "execution_count": 56,
   "id": "7bc93ea4",
   "metadata": {},
   "outputs": [
    {
     "name": "stdout",
     "output_type": "stream",
     "text": [
      "4 2\n",
      "6 2\n",
      "6 3\n",
      "8 2\n",
      "8 4\n",
      "9 3\n",
      "10 2\n",
      "10 5\n",
      "12 2\n",
      "12 3\n",
      "12 4\n",
      "12 6\n",
      "14 2\n",
      "14 7\n"
     ]
    }
   ],
   "source": [
    "for i in range(2,15):\n",
    "    for j in range(2,i):\n",
    "        if(i%j==0):\n",
    "            print(i,j)"
   ]
  },
  {
   "cell_type": "code",
   "execution_count": null,
   "id": "5f090673",
   "metadata": {},
   "outputs": [],
   "source": []
  },
  {
   "cell_type": "code",
   "execution_count": null,
   "id": "4907e881",
   "metadata": {},
   "outputs": [],
   "source": []
  },
  {
   "cell_type": "code",
   "execution_count": null,
   "id": "1e08d48e",
   "metadata": {},
   "outputs": [],
   "source": []
  }
 ],
 "metadata": {
  "kernelspec": {
   "display_name": "Python 3",
   "language": "python",
   "name": "python3"
  },
  "language_info": {
   "codemirror_mode": {
    "name": "ipython",
    "version": 3
   },
   "file_extension": ".py",
   "mimetype": "text/x-python",
   "name": "python",
   "nbconvert_exporter": "python",
   "pygments_lexer": "ipython3",
   "version": "3.8.8"
  }
 },
 "nbformat": 4,
 "nbformat_minor": 5
}
