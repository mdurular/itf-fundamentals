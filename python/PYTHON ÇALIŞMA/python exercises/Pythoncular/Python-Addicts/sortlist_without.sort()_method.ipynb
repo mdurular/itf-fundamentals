{
 "cells": [
  {
   "cell_type": "markdown",
   "id": "6207af0a",
   "metadata": {},
   "source": [
    "Write a Python code to sort the list at below without using .sort() method of list. \n",
    "elements of list = [999, 333, 2, 8982, 12, 45, 77, 99, 11] \n",
    "Expected output: [2, 11, 12, 45, 77, 99, 333, 999, 8982]"
   ]
  },
  {
   "cell_type": "code",
   "execution_count": null,
   "id": "2bda915c",
   "metadata": {},
   "outputs": [],
   "source": [
    "a = [999, 333, 2, 8982, 12, 45, 77, 99, 11]\n",
    "b = []\n",
    "for i in range(len(a)):\n",
    "    maximum = max(a)\n",
    "    b.append(maximum)\n",
    "    a.remove(maximum)\n",
    "    b.reverse()\n",
    "print(b)"
   ]
  },
  {
   "cell_type": "code",
   "execution_count": null,
   "id": "fa78b493",
   "metadata": {},
   "outputs": [],
   "source": [
    "elements_list = [999, 333, 2, 8982, 12, 45, 77, 99, 11]\n",
    "new_list = []\n",
    "i = 1\n",
    "loop = len(elements_list)\n",
    "while i <= loop:\n",
    "    min1 = min(elements_list)\n",
    "    new_list.append(min1)\n",
    "    elements_list.remove(min1)\n",
    "    i += 1\n",
    "print(new_list)"
   ]
  },
  {
   "cell_type": "code",
   "execution_count": null,
   "id": "e9266511",
   "metadata": {},
   "outputs": [],
   "source": []
  },
  {
   "cell_type": "code",
   "execution_count": null,
   "id": "e7945a40",
   "metadata": {},
   "outputs": [],
   "source": []
  },
  {
   "cell_type": "code",
   "execution_count": null,
   "id": "12b04a5c",
   "metadata": {},
   "outputs": [],
   "source": []
  },
  {
   "cell_type": "code",
   "execution_count": null,
   "id": "e0f62c3a",
   "metadata": {},
   "outputs": [],
   "source": []
  },
  {
   "cell_type": "code",
   "execution_count": null,
   "id": "472fb888",
   "metadata": {},
   "outputs": [],
   "source": []
  }
 ],
 "metadata": {
  "kernelspec": {
   "display_name": "Python 3",
   "language": "python",
   "name": "python3"
  },
  "language_info": {
   "codemirror_mode": {
    "name": "ipython",
    "version": 3
   },
   "file_extension": ".py",
   "mimetype": "text/x-python",
   "name": "python",
   "nbconvert_exporter": "python",
   "pygments_lexer": "ipython3",
   "version": "3.8.8"
  }
 },
 "nbformat": 4,
 "nbformat_minor": 5
}
