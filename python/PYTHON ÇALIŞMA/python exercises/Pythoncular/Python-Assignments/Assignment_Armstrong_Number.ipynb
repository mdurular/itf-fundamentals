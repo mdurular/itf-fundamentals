{
 "cells": [
  {
   "cell_type": "code",
   "execution_count": 163,
   "id": "1893a4aa",
   "metadata": {},
   "outputs": [
    {
     "name": "stdout",
     "output_type": "stream",
     "text": [
      "Please enter a positive integer number. one\n",
      "It is an invalid entry. Don't use non-numeric, float, or negative values!\n",
      "Please enter a positive integer number. -25\n",
      "It is an invalid entry. Don't use non-numeric, float, or negative values!\n",
      "Please enter a positive integer number. 345.25\n",
      "It is an invalid entry. Don't use non-numeric, float, or negative values!\n",
      "Please enter a positive integer number. 407\n",
      "407 is an Armstrong number\n"
     ]
    }
   ],
   "source": [
    "while True:\n",
    "    number=input(\"Please enter a positive integer number. \")\n",
    "    if number.isdigit():\n",
    "        break      \n",
    "    else:\n",
    "        print(\"It is an invalid entry. Don't use non-numeric, float, or negative values!\")\n",
    "    continue\n",
    "  \n",
    "num = int(number)\n",
    "top = 0\n",
    "sayi = num\n",
    "while sayi > 0:\n",
    "    digit = sayi % 10    \n",
    "    top += digit ** len(str(num))   \n",
    "    sayi //= 10\n",
    "if num == top:\n",
    "    print(num,\"is an Armstrong number\")\n",
    "else:\n",
    "    print(num,\"is not an Armstrong number\")"
   ]
  },
  {
   "cell_type": "code",
   "execution_count": 57,
   "id": "a2c6fa14",
   "metadata": {},
   "outputs": [
    {
     "name": "stdout",
     "output_type": "stream",
     "text": [
      "Please enter a positive integer number. one\n"
     ]
    }
   ],
   "source": [
    "while True:\n",
    "    num=input(\"Please enter a positive integer number. \")\n",
    "    if number.isdigit():\n",
    "        break\n",
    "    else:\n",
    "        print(\"It is an invalid entry. Don't use non-numeric, float, or negative values!\")\n",
    "        continue      \n",
    "      "
   ]
  },
  {
   "cell_type": "code",
   "execution_count": 164,
   "id": "b843366f",
   "metadata": {},
   "outputs": [
    {
     "name": "stdout",
     "output_type": "stream",
     "text": [
      "Enter a number: 407\n",
      "407 is an Armstrong number\n"
     ]
    }
   ],
   "source": [
    "num = int(input(\"Enter a number: \"))\n",
    "\n",
    "sum = 0\n",
    "temp = num\n",
    "while temp > 0:\n",
    "    digit = temp % 10    \n",
    "    sum += digit ** 3   \n",
    "    temp //= 10\n",
    "if num == sum:\n",
    "    print(num,\"is an Armstrong number\")\n",
    "else:\n",
    "    print(num,\"is not an Armstrong number\")"
   ]
  },
  {
   "cell_type": "code",
   "execution_count": 4,
   "id": "2c806a9f",
   "metadata": {},
   "outputs": [
    {
     "name": "stdout",
     "output_type": "stream",
     "text": [
      "Enter a positive number: 125\n",
      "125 is NOT an Armstrong Number.\n"
     ]
    }
   ],
   "source": [
    "while True :\n",
    "    number = input(\"Enter a positive number: \")\n",
    "    digits = len(number)\n",
    "    summ = 0\n",
    "    if not number.isdigit() :\n",
    "        print(number, \"is invalid entry. Enter numeric value!\")\n",
    "    elif int(number) >= 0 :\n",
    "        for i in range(digits) :\n",
    "            summ = summ + int(number[i]) ** digits\n",
    "        if summ == int(number) :\n",
    "            print(number, \"is an ARMSTRONG Number.\")\n",
    "            break\n",
    "        else :\n",
    "            print(number, \"is NOT an Armstrong Number.\")\n",
    "            break"
   ]
  }
 ],
 "metadata": {
  "kernelspec": {
   "display_name": "Python 3",
   "language": "python",
   "name": "python3"
  },
  "language_info": {
   "codemirror_mode": {
    "name": "ipython",
    "version": 3
   },
   "file_extension": ".py",
   "mimetype": "text/x-python",
   "name": "python",
   "nbconvert_exporter": "python",
   "pygments_lexer": "ipython3",
   "version": "3.8.8"
  }
 },
 "nbformat": 4,
 "nbformat_minor": 5
}
