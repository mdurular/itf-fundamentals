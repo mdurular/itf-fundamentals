{
 "cells": [
  {
   "cell_type": "code",
   "execution_count": 3,
   "id": "7be2bcf9",
   "metadata": {},
   "outputs": [
    {
     "name": "stdout",
     "output_type": "stream",
     "text": [
      "Bir kelime giriniz: clarus\n"
     ]
    },
    {
     "data": {
      "text/plain": [
       "'True (uses both hand fingers)'"
      ]
     },
     "execution_count": 3,
     "metadata": {},
     "output_type": "execute_result"
    }
   ],
   "source": [
    "word = set(input(\"Bir kelime giriniz: \"))\n",
    "\n",
    "a = set([\"q\", \"w\", \"e\", \"r\", \"t\", \"a\", \"s\", \"d\", \"f\", \"g\", \"z\", \"x\", \"c\", \"v\", \"b\"])\n",
    "b = set([\"y\", \"u\", \"o\", \"p\", \"i\", \"h\", \"j\", \"k\", \"l\", \"m\", \"n\"])\n",
    "\n",
    "right = bool(word.intersection(b)) * \"False (uses only right-hand fingers)\"\n",
    "\n",
    "left = bool(word.intersection(a)) * \"False (uses only left-hand fingers)\"\n",
    "\n",
    "both = bool(right and left) * \"True (uses both hand fingers)\"\n",
    "\n",
    "both or right or left"
   ]
  },
  {
   "cell_type": "code",
   "execution_count": null,
   "id": "517651f4",
   "metadata": {},
   "outputs": [],
   "source": [
    "word = set(input(\"Bir kelime giriniz: \"))\n",
    "\n",
    "a = set([\"q\", \"w\", \"e\", \"r\", \"t\", \"a\", \"s\", \"d\", \"f\", \"g\", \"z\", \"x\", \"c\", \"v\", \"b\"])\n",
    "\n",
    "b = set([\"y\", \"u\", \"o\", \"p\", \"i\", \"h\", \"j\", \"k\", \"l\", \"m\", \"n\"])\n",
    "\n",
    "right = bool(word.intersection(b)) # * \"False(uses only right-hand fingers)\"\n",
    "\n",
    "left = bool(word.intersection(a)) # * \"False (uses only left-hand fingers)\"\n",
    "\n",
    "both = bool(right and left) # * \"True (uses both hand fingers)\"\n",
    "\n",
    "if both == True: \n",
    "    print(\"True (uses both hand fingers)\")\n",
    "    \n",
    "elif right == True:\n",
    "    print(\"False(uses only right-hand fingers)\")\n",
    "    \n",
    "else:\n",
    "    print(\"False (uses only left-hand fingers)\")"
   ]
  }
 ],
 "metadata": {
  "kernelspec": {
   "display_name": "Python 3",
   "language": "python",
   "name": "python3"
  },
  "language_info": {
   "codemirror_mode": {
    "name": "ipython",
    "version": 3
   },
   "file_extension": ".py",
   "mimetype": "text/x-python",
   "name": "python",
   "nbconvert_exporter": "python",
   "pygments_lexer": "ipython3",
   "version": "3.8.8"
  }
 },
 "nbformat": 4,
 "nbformat_minor": 5
}
