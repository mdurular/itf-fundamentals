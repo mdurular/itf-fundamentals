{
 "cells": [
  {
   "cell_type": "code",
   "execution_count": 1,
   "id": "aa18f9b7",
   "metadata": {},
   "outputs": [
    {
     "name": "stdout",
     "output_type": "stream",
     "text": [
      "Lutfen yasinizi giriniz : 45\n",
      "Kronik rahatsizliginiz varsa 1 e yoksa 0 sifira basiniz: 1\n",
      "Bagisiklik sisteminiz zayifsa 1 e guclu ise 0 sifira basiniz: 1\n",
      "There is a RISK of death\n"
     ]
    }
   ],
   "source": [
    "x = int(input(\"Lutfen yasinizi giriniz : \"))\n",
    "age = (x >= 75) and True\n",
    "y = int(input(\"Kronik rahatsizliginiz varsa 1 e yoksa 0 sifira basiniz: \")) \n",
    "chronic = (y != 0) and True  # can be assigned only True/False\n",
    "z = int(input(\"Bagisiklik sisteminiz zayifsa 1 e guclu ise 0 sifira basiniz: \"))\n",
    "immune =  (z != 0) and True   # can be assigned only True/False\n",
    "risk = age or chronic or immune \n",
    "print(risk == True and \"There is a RISK of death\" or \"There is NOT a RISK of death\")"
   ]
  }
 ],
 "metadata": {
  "kernelspec": {
   "display_name": "Python 3",
   "language": "python",
   "name": "python3"
  },
  "language_info": {
   "codemirror_mode": {
    "name": "ipython",
    "version": 3
   },
   "file_extension": ".py",
   "mimetype": "text/x-python",
   "name": "python",
   "nbconvert_exporter": "python",
   "pygments_lexer": "ipython3",
   "version": "3.8.8"
  }
 },
 "nbformat": 4,
 "nbformat_minor": 5
}
