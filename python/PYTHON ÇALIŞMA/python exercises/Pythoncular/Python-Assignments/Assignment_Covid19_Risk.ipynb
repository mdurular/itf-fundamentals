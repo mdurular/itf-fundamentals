{
 "cells": [
  {
   "cell_type": "code",
   "execution_count": 1,
   "id": "90e43468",
   "metadata": {},
   "outputs": [
    {
     "name": "stdout",
     "output_type": "stream",
     "text": [
      "Are you a cigarette addict older than 75 years old? yes or no: yes\n",
      "Do you have a severe chronic disease? yes or no: no\n",
      "Is your immune system too weak? yes or no: yes\n",
      "You are in risky group\n"
     ]
    }
   ],
   "source": [
    "age = str(input(\"Are you a cigarette addict older than 75 years old? yes or no: \")).title().strip() == \"Yes\"\n",
    "\n",
    "chronic = str(input(\"Do you have a severe chronic disease? yes or no: \")).title().strip() == \"Yes\"\n",
    "\n",
    "immune = str(input(\"Is your immune system too weak? yes or no: \")).title().strip() == \"Yes\"\n",
    "\n",
    "if (age or chronic or immune):\n",
    "    print(\"You are in risky group\")\n",
    "else:\n",
    "    print(\"You are not in risky group\")"
   ]
  }
 ],
 "metadata": {
  "kernelspec": {
   "display_name": "Python 3",
   "language": "python",
   "name": "python3"
  },
  "language_info": {
   "codemirror_mode": {
    "name": "ipython",
    "version": 3
   },
   "file_extension": ".py",
   "mimetype": "text/x-python",
   "name": "python",
   "nbconvert_exporter": "python",
   "pygments_lexer": "ipython3",
   "version": "3.8.8"
  }
 },
 "nbformat": 4,
 "nbformat_minor": 5
}
