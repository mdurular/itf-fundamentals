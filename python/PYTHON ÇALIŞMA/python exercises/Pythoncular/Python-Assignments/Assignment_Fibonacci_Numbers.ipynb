{
 "cells": [
  {
   "cell_type": "code",
   "execution_count": 13,
   "id": "070b0170",
   "metadata": {},
   "outputs": [
    {
     "name": "stdout",
     "output_type": "stream",
     "text": [
      "fibonacci sayıları : [1, 2, 3, 5, 8, 13, 21, 34, 55]\n"
     ]
    }
   ],
   "source": [
    "x, y, z = 0, 1, 2\n",
    "fibonacci=[]\n",
    "while z < 55:\n",
    "    z = x + y\n",
    "    x = y\n",
    "    y = z\n",
    "    fibonacci.append(z)\n",
    "print(\"fibonacci sayıları :\", fibonacci)"
   ]
  },
  {
   "cell_type": "code",
   "execution_count": 3,
   "id": "c09a7201",
   "metadata": {},
   "outputs": [
    {
     "data": {
      "text/plain": [
       "[1, 2, 3, 5, 8, 13, 21, 34, 55]"
      ]
     },
     "execution_count": 3,
     "metadata": {},
     "output_type": "execute_result"
    }
   ],
   "source": [
    "def fib(n):    \n",
    "    result = []\n",
    "    a, b = 1, 2\n",
    "    while a < n+1:\n",
    "        result.append(a)\n",
    "        a, b = b, a+b\n",
    "    return result\n",
    "    \n",
    "fib(55)"
   ]
  }
 ],
 "metadata": {
  "kernelspec": {
   "display_name": "Python 3",
   "language": "python",
   "name": "python3"
  },
  "language_info": {
   "codemirror_mode": {
    "name": "ipython",
    "version": 3
   },
   "file_extension": ".py",
   "mimetype": "text/x-python",
   "name": "python",
   "nbconvert_exporter": "python",
   "pygments_lexer": "ipython3",
   "version": "3.8.8"
  }
 },
 "nbformat": 4,
 "nbformat_minor": 5
}
