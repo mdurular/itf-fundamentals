{
 "cells": [
  {
   "cell_type": "code",
   "execution_count": 3,
   "id": "e20624ab",
   "metadata": {},
   "outputs": [
    {
     "name": "stdout",
     "output_type": "stream",
     "text": [
      "Lutfen derece bilgisini giriniz :145\n",
      "145.0 C'nin fahrenayta donusmus hali 293.0 F'tir.\n"
     ]
    }
   ],
   "source": [
    "derece = float(input(\"Lutfen derece bilgisini giriniz :\"))\n",
    "fahrenayt = 1.8 * float(derece) + 32 \n",
    "print(derece, \"C'nin fahrenayta donusmus hali\", fahrenayt, \"F'tir.\")"
   ]
  },
  {
   "cell_type": "code",
   "execution_count": 2,
   "id": "dead44ed",
   "metadata": {},
   "outputs": [
    {
     "name": "stdout",
     "output_type": "stream",
     "text": [
      "Lutfen kilometre bilgisini giriniz :75\n",
      "75.0 kilometre 46.602825 mil eder.\n"
     ]
    }
   ],
   "source": [
    "km = float(input(\"Lutfen kilometre bilgisini giriniz :\"))\n",
    "kmil_oran = 0.621371\n",
    "mil = (km * kmil_oran)\n",
    "print(str(km), \"kilometre\", str(mil), \"mil eder.\")"
   ]
  }
 ],
 "metadata": {
  "kernelspec": {
   "display_name": "Python 3",
   "language": "python",
   "name": "python3"
  },
  "language_info": {
   "codemirror_mode": {
    "name": "ipython",
    "version": 3
   },
   "file_extension": ".py",
   "mimetype": "text/x-python",
   "name": "python",
   "nbconvert_exporter": "python",
   "pygments_lexer": "ipython3",
   "version": "3.8.8"
  }
 },
 "nbformat": 4,
 "nbformat_minor": 5
}
