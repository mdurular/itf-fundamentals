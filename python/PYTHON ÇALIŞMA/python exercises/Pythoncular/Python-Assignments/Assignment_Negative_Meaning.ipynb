{
 "cells": [
  {
   "cell_type": "markdown",
   "id": "04171d7e",
   "metadata": {},
   "source": [
    "Define a function to take a word and return negative meaning.\n",
    "Given a word, return a new word where \"not \" \n",
    "has been added to the front. However, if the word \n",
    "already begins with \"not\", return the string unchanged.\n",
    "\n",
    "For example:\n",
    "\n",
    "Test\tResult\n",
    "print(not_string('sugar'))\n",
    "not sugar\n",
    "print(not_string('x'))\n",
    "not x\n",
    "print(not_string('not bad'))\n",
    "not bad"
   ]
  },
  {
   "cell_type": "code",
   "execution_count": 26,
   "id": "7c8aa7ce",
   "metadata": {},
   "outputs": [
    {
     "name": "stdout",
     "output_type": "stream",
     "text": [
      "not sugar\n",
      "not free\n",
      "not x\n",
      "not bad\n"
     ]
    }
   ],
   "source": [
    "def not_string(word):\n",
    "    if \"not\" in word:\n",
    "        return word\n",
    "    else:\n",
    "        word = \"not \" + word\n",
    "    return word \n",
    "\n",
    "\n",
    "print(not_string(\"sugar\"))\n",
    "print(not_string('free'))\n",
    "print(not_string('x'))\n",
    "print(not_string('not bad')) "
   ]
  },
  {
   "cell_type": "code",
   "execution_count": 27,
   "id": "77aae755",
   "metadata": {},
   "outputs": [
    {
     "name": "stdout",
     "output_type": "stream",
     "text": [
      "not sugar\n",
      "not free\n",
      "not x\n",
      "not bad\n"
     ]
    }
   ],
   "source": [
    "def not_string(word):\n",
    "    if not \"not\" in word:\n",
    "        return \"not \" + word\n",
    "    else:\n",
    "        return word\n",
    "\n",
    "\n",
    "print(not_string(\"sugar\"))\n",
    "print(not_string('free'))\n",
    "print(not_string('x'))\n",
    "print(not_string('not bad')) "
   ]
  }
 ],
 "metadata": {
  "kernelspec": {
   "display_name": "Python 3",
   "language": "python",
   "name": "python3"
  },
  "language_info": {
   "codemirror_mode": {
    "name": "ipython",
    "version": 3
   },
   "file_extension": ".py",
   "mimetype": "text/x-python",
   "name": "python",
   "nbconvert_exporter": "python",
   "pygments_lexer": "ipython3",
   "version": "3.8.8"
  }
 },
 "nbformat": 4,
 "nbformat_minor": 5
}
