{
 "cells": [
  {
   "cell_type": "code",
   "execution_count": 8,
   "id": "d242564d",
   "metadata": {},
   "outputs": [
    {
     "name": "stdout",
     "output_type": "stream",
     "text": [
      "Please enter your name:halit\n",
      "Hello, Halit! The password is : hy12@345\n"
     ]
    }
   ],
   "source": [
    "name = input(\"Please enter your name:\").title().strip()\n",
    "user_name = \"Halit\"\n",
    "user_password = \"hy12@345\" \n",
    "\n",
    "if name == user_name:\n",
    "    print(f\"Hello, {user_name}! The password is : {user_password}\")\n",
    "    \n",
    "else:\n",
    "    print(f\"Hello, {name}! See you later.\")"
   ]
  },
  {
   "cell_type": "code",
   "execution_count": 9,
   "id": "c6fc4806",
   "metadata": {},
   "outputs": [
    {
     "name": "stdout",
     "output_type": "stream",
     "text": [
      "Please enter your name:joseph\n"
     ]
    },
    {
     "data": {
      "text/plain": [
       "'Hello, Joseph! The password is : W@12'"
      ]
     },
     "execution_count": 9,
     "metadata": {},
     "output_type": "execute_result"
    }
   ],
   "source": [
    "name = str(input(\"Please enter your name:\")).title().strip()\n",
    "\n",
    "a = bool(name == \"Joseph\") * (f\"Hello, {name}! The password is : W@12\")\n",
    "b = bool(name != \"Joseph\") * (f\"Hello, {name}! See you later.\")\n",
    "a or b"
   ]
  },
  {
   "cell_type": "code",
   "execution_count": null,
   "id": "ab189ab3",
   "metadata": {},
   "outputs": [],
   "source": []
  }
 ],
 "metadata": {
  "kernelspec": {
   "display_name": "Python 3",
   "language": "python",
   "name": "python3"
  },
  "language_info": {
   "codemirror_mode": {
    "name": "ipython",
    "version": 3
   },
   "file_extension": ".py",
   "mimetype": "text/x-python",
   "name": "python",
   "nbconvert_exporter": "python",
   "pygments_lexer": "ipython3",
   "version": "3.8.8"
  }
 },
 "nbformat": 4,
 "nbformat_minor": 5
}
