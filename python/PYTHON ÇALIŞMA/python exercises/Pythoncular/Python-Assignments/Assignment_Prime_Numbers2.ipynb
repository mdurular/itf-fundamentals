{
 "cells": [
  {
   "cell_type": "code",
   "execution_count": 1,
   "id": "c0a54cd8",
   "metadata": {},
   "outputs": [
    {
     "name": "stdout",
     "output_type": "stream",
     "text": [
      "Sayi Giriniz:100\n",
      "[2, 3, 5, 7, 11, 13, 17, 19, 23, 29, 31, 37, 41, 43, 47, 53, 59, 61, 67, 71, 73, 79, 83, 89, 97]\n"
     ]
    }
   ],
   "source": [
    "sayi = int(input(\"Sayi Giriniz:\"))\n",
    "lst=[] \n",
    "for i in range(2,(sayi)):\n",
    "    sayac=0\n",
    "    for j in range(2,i):\n",
    "        if(i%j==0):\n",
    "            sayac=sayac+1\n",
    "    if(sayac==0):\n",
    "        lst.append(i)   \n",
    "print(lst)"
   ]
  }
 ],
 "metadata": {
  "kernelspec": {
   "display_name": "Python 3",
   "language": "python",
   "name": "python3"
  },
  "language_info": {
   "codemirror_mode": {
    "name": "ipython",
    "version": 3
   },
   "file_extension": ".py",
   "mimetype": "text/x-python",
   "name": "python",
   "nbconvert_exporter": "python",
   "pygments_lexer": "ipython3",
   "version": "3.8.8"
  }
 },
 "nbformat": 4,
 "nbformat_minor": 5
}
