{
 "cells": [
  {
   "cell_type": "code",
   "execution_count": 1,
   "id": "9031fe7a",
   "metadata": {},
   "outputs": [
    {
     "name": "stdout",
     "output_type": "stream",
     "text": [
      "En cok tekrar eden sayi 3. Tekrar sayisi ise 4'dir.\n"
     ]
    }
   ],
   "source": [
    "numbers = [1, 3, 7, 4, 3, 0, 3, 6, 3]\n",
    "\n",
    "max_tekrar = 0\n",
    "\n",
    "for i in numbers:\n",
    "\n",
    "   tekrar_sayisi = numbers.count(i)\n",
    "\n",
    "   if(tekrar_sayisi > max_tekrar):\n",
    "\n",
    "      max_tekrar = i\n",
    "\n",
    "print(f\"En cok tekrar eden sayi {max_tekrar}. Tekrar sayisi ise {tekrar_sayisi}'dir.\")"
   ]
  }
 ],
 "metadata": {
  "kernelspec": {
   "display_name": "Python 3",
   "language": "python",
   "name": "python3"
  },
  "language_info": {
   "codemirror_mode": {
    "name": "ipython",
    "version": 3
   },
   "file_extension": ".py",
   "mimetype": "text/x-python",
   "name": "python",
   "nbconvert_exporter": "python",
   "pygments_lexer": "ipython3",
   "version": "3.8.8"
  }
 },
 "nbformat": 4,
 "nbformat_minor": 5
}
