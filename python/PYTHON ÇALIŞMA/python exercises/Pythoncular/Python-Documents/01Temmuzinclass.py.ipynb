{
 "cells": [
  {
   "cell_type": "code",
   "execution_count": 2,
   "id": "64d339f2",
   "metadata": {},
   "outputs": [
    {
     "data": {
      "text/plain": [
       "['four', 'nine', 'one']"
      ]
     },
     "execution_count": 2,
     "metadata": {},
     "output_type": "execute_result"
    }
   ],
   "source": [
    "list_1 = ['one', 'four', 'nine']\n",
    "list_2 = ['@', '*-', 'False']\n",
    "list_3 = [True, False]\n",
    "list_4 = [[3], [44], [-12]]\n",
    "list_5 = [[1, 3], [44, -40], [-12, 1]]\n",
    "list_1.sort()\n",
    "list_1"
   ]
  },
  {
   "cell_type": "code",
   "execution_count": 3,
   "id": "66d30a45",
   "metadata": {},
   "outputs": [
    {
     "data": {
      "text/plain": [
       "['*-', '@', 'False']"
      ]
     },
     "execution_count": 3,
     "metadata": {},
     "output_type": "execute_result"
    }
   ],
   "source": [
    "list_2.sort()\n",
    "list_2"
   ]
  },
  {
   "cell_type": "code",
   "execution_count": 4,
   "id": "851c3e65",
   "metadata": {},
   "outputs": [
    {
     "data": {
      "text/plain": [
       "42"
      ]
     },
     "execution_count": 4,
     "metadata": {},
     "output_type": "execute_result"
    }
   ],
   "source": [
    "ord(\"*\")"
   ]
  },
  {
   "cell_type": "code",
   "execution_count": 5,
   "id": "c65bd9de",
   "metadata": {},
   "outputs": [
    {
     "data": {
      "text/plain": [
       "70"
      ]
     },
     "execution_count": 5,
     "metadata": {},
     "output_type": "execute_result"
    }
   ],
   "source": [
    "ord(\"F\")"
   ]
  },
  {
   "cell_type": "code",
   "execution_count": 8,
   "id": "f306c4f8",
   "metadata": {},
   "outputs": [
    {
     "data": {
      "text/plain": [
       "['False', '@', '*-']"
      ]
     },
     "execution_count": 8,
     "metadata": {},
     "output_type": "execute_result"
    }
   ],
   "source": [
    "list_2 = ['@', '*-', 'False']\n",
    "list_2.sort(reverse=True)\n",
    "list_2"
   ]
  },
  {
   "cell_type": "code",
   "execution_count": 9,
   "id": "a9efec92",
   "metadata": {},
   "outputs": [
    {
     "data": {
      "text/plain": [
       "84"
      ]
     },
     "execution_count": 9,
     "metadata": {},
     "output_type": "execute_result"
    }
   ],
   "source": [
    "ord(\"T\") #booleanlarda False "
   ]
  },
  {
   "cell_type": "code",
   "execution_count": 10,
   "id": "d374bb48",
   "metadata": {},
   "outputs": [
    {
     "data": {
      "text/plain": [
       "[False, True]"
      ]
     },
     "execution_count": 10,
     "metadata": {},
     "output_type": "execute_result"
    }
   ],
   "source": [
    "list_3 = [True, False]\n",
    "list_3.sort()\n",
    "list_3\n"
   ]
  },
  {
   "cell_type": "code",
   "execution_count": 11,
   "id": "2e8247bc",
   "metadata": {},
   "outputs": [
    {
     "data": {
      "text/plain": [
       "[[-12, 1], [1, 3], [44, -40]]"
      ]
     },
     "execution_count": 11,
     "metadata": {},
     "output_type": "execute_result"
    }
   ],
   "source": [
    "list_5 = [[1, 3], [44, -40], [-12, 1]]\n",
    "list_5.sort()       # ilk elemani kucuk olan basta oldu.\n",
    "list_5"
   ]
  },
  {
   "cell_type": "code",
   "execution_count": 16,
   "id": "4805be39",
   "metadata": {},
   "outputs": [
    {
     "ename": "TypeError",
     "evalue": "object of type 'int' has no len()",
     "output_type": "error",
     "traceback": [
      "\u001b[1;31m---------------------------------------------------------------------------\u001b[0m",
      "\u001b[1;31mTypeError\u001b[0m                                 Traceback (most recent call last)",
      "\u001b[1;32m<ipython-input-16-896626440c92>\u001b[0m in \u001b[0;36m<module>\u001b[1;34m\u001b[0m\n\u001b[0;32m      2\u001b[0m \u001b[0mlen\u001b[0m\u001b[1;33m(\u001b[0m\u001b[1;33m[\u001b[0m\u001b[1;34m\"ab\"\u001b[0m\u001b[1;33m]\u001b[0m\u001b[1;33m)\u001b[0m\u001b[1;33m\u001b[0m\u001b[1;33m\u001b[0m\u001b[0m\n\u001b[0;32m      3\u001b[0m \u001b[0mlen\u001b[0m\u001b[1;33m(\u001b[0m\u001b[1;33m[\u001b[0m\u001b[1;34m\"a b\"\u001b[0m\u001b[1;33m,\u001b[0m \u001b[1;32mFalse\u001b[0m\u001b[1;33m,\u001b[0m \u001b[1;32mNone\u001b[0m\u001b[1;33m,\u001b[0m \u001b[1;33m[\u001b[0m\u001b[1;33m]\u001b[0m\u001b[1;33m]\u001b[0m\u001b[1;33m)\u001b[0m\u001b[1;33m\u001b[0m\u001b[1;33m\u001b[0m\u001b[0m\n\u001b[1;32m----> 4\u001b[1;33m \u001b[0mlen\u001b[0m\u001b[1;33m(\u001b[0m\u001b[1;36m1234\u001b[0m\u001b[1;33m)\u001b[0m\u001b[1;33m\u001b[0m\u001b[1;33m\u001b[0m\u001b[0m\n\u001b[0m",
      "\u001b[1;31mTypeError\u001b[0m: object of type 'int' has no len()"
     ]
    }
   ],
   "source": [
    "len(\"a b\")          # buradaki iterable dedigimiz listedir. Listenin elemanlaridir.\n",
    "len([\"ab\"])   \n",
    "len([\"a b\", False, None, []])\n",
    "len(1234)     #integer type bir iterable degildir hata verir. Integerler elemanlarina ayrilmazlar\n"
   ]
  },
  {
   "cell_type": "code",
   "execution_count": null,
   "id": "1cd5fbb1",
   "metadata": {},
   "outputs": [],
   "source": [
    "list_name[index_no]"
   ]
  },
  {
   "cell_type": "code",
   "execution_count": null,
   "id": "fef88c8e",
   "metadata": {},
   "outputs": [],
   "source": [
    "[1, 3, 6, 9][2]"
   ]
  },
  {
   "cell_type": "code",
   "execution_count": 17,
   "id": "ec0fadfa",
   "metadata": {},
   "outputs": [
    {
     "data": {
      "text/plain": [
       "6"
      ]
     },
     "execution_count": 17,
     "metadata": {},
     "output_type": "execute_result"
    }
   ],
   "source": [
    "sayilar = [1, 3, 6, 9]\n",
    "sayilar[2]"
   ]
  },
  {
   "cell_type": "code",
   "execution_count": 20,
   "id": "e2d7adf8",
   "metadata": {},
   "outputs": [
    {
     "data": {
      "text/plain": [
       "int"
      ]
     },
     "execution_count": 20,
     "metadata": {},
     "output_type": "execute_result"
    }
   ],
   "source": [
    "new = [\"h\", \"a\", 1, [\"p\", 2], True]\n",
    "new[2]\n",
    "type(new[2])"
   ]
  },
  {
   "cell_type": "code",
   "execution_count": 23,
   "id": "2a953ec3",
   "metadata": {},
   "outputs": [
    {
     "data": {
      "text/plain": [
       "['New York', 'London', 'Istanbul', 'Seoul', 'Sydney']"
      ]
     },
     "execution_count": 23,
     "metadata": {},
     "output_type": "execute_result"
    }
   ],
   "source": [
    "city = ['New York', 'London', 'Istanbul', 'Seoul', 'Sydney']\n",
    "city_list = []\n",
    "city_list.append(city)\n",
    "city_list[0]"
   ]
  },
  {
   "cell_type": "code",
   "execution_count": 26,
   "id": "dd15d1f0",
   "metadata": {},
   "outputs": [
    {
     "name": "stdout",
     "output_type": "stream",
     "text": [
      "a\n"
     ]
    }
   ],
   "source": [
    "print(city_list[0][2][3])"
   ]
  },
  {
   "cell_type": "code",
   "execution_count": 28,
   "id": "08f1f8ee",
   "metadata": {},
   "outputs": [
    {
     "data": {
      "text/plain": [
       "range(0, 11)"
      ]
     },
     "execution_count": 28,
     "metadata": {},
     "output_type": "execute_result"
    }
   ],
   "source": [
    "range(11)\n"
   ]
  },
  {
   "cell_type": "code",
   "execution_count": 32,
   "id": "a2816c25",
   "metadata": {},
   "outputs": [
    {
     "data": {
      "text/plain": [
       "[0, 1, 2, 3, 4, 5, 6, 7, 8, 9, 10]"
      ]
     },
     "execution_count": 32,
     "metadata": {},
     "output_type": "execute_result"
    }
   ],
   "source": [
    "odd_numbers = list(range(11)) \n",
    "odd_numbers"
   ]
  },
  {
   "cell_type": "code",
   "execution_count": 37,
   "id": "8c227d32",
   "metadata": {},
   "outputs": [
    {
     "data": {
      "text/plain": [
       "[1, 3, 5, 7, 9]"
      ]
     },
     "execution_count": 37,
     "metadata": {},
     "output_type": "execute_result"
    }
   ],
   "source": [
    "odd_numbers[1:10:2]\n",
    "odd_numbers[1::2]"
   ]
  },
  {
   "cell_type": "code",
   "execution_count": 40,
   "id": "07446a14",
   "metadata": {},
   "outputs": [
    {
     "data": {
      "text/plain": [
       "['l', 'u', 'b']"
      ]
     },
     "execution_count": 40,
     "metadata": {},
     "output_type": "execute_result"
    }
   ],
   "source": [
    "sehir = ['i', 's', 't', 'a', 'n', 'b', 'u', 'l']\n",
    "sehir[:4:-1]"
   ]
  },
  {
   "cell_type": "code",
   "execution_count": 42,
   "id": "9c63c9e4",
   "metadata": {},
   "outputs": [
    {
     "data": {
      "text/plain": [
       "['l', 'u', 'b', 'n', 'a']"
      ]
     },
     "execution_count": 42,
     "metadata": {},
     "output_type": "execute_result"
    }
   ],
   "source": [
    "sehir[-1:-6:-1]"
   ]
  },
  {
   "cell_type": "code",
   "execution_count": 43,
   "id": "58d015b0",
   "metadata": {},
   "outputs": [
    {
     "data": {
      "text/plain": [
       "tuple"
      ]
     },
     "execution_count": 43,
     "metadata": {},
     "output_type": "execute_result"
    }
   ],
   "source": [
    "star = ('solar', 1, [22,\"22\"])\n",
    "type(star)"
   ]
  },
  {
   "cell_type": "code",
   "execution_count": 44,
   "id": "0157eb20",
   "metadata": {},
   "outputs": [
    {
     "data": {
      "text/plain": [
       "tuple"
      ]
     },
     "execution_count": 44,
     "metadata": {},
     "output_type": "execute_result"
    }
   ],
   "source": [
    "x = 1, 2, 3   # paranteze almadiginniz virgullerle ayrilmis her value tuple a evrilir\n",
    "type(x)"
   ]
  },
  {
   "cell_type": "code",
   "execution_count": 46,
   "id": "6eb73055",
   "metadata": {},
   "outputs": [
    {
     "data": {
      "text/plain": [
       "tuple"
      ]
     },
     "execution_count": 46,
     "metadata": {},
     "output_type": "execute_result"
    }
   ],
   "source": [
    "y = 1, \n",
    "type(y)"
   ]
  },
  {
   "cell_type": "code",
   "execution_count": 47,
   "id": "64c39e0e",
   "metadata": {},
   "outputs": [
    {
     "data": {
      "text/plain": [
       "tuple"
      ]
     },
     "execution_count": 47,
     "metadata": {},
     "output_type": "execute_result"
    }
   ],
   "source": [
    "z = (\"2\",)\n",
    "type(z)"
   ]
  },
  {
   "cell_type": "code",
   "execution_count": 49,
   "id": "e1bf12bd",
   "metadata": {},
   "outputs": [
    {
     "data": {
      "text/plain": [
       "[True, 'Beyrut', 'Tokyo']"
      ]
     },
     "execution_count": 49,
     "metadata": {},
     "output_type": "execute_result"
    }
   ],
   "source": [
    "city = [\"Los Angeles\", \"Beyrut\", \"Tokyo\"]\n",
    "city[0] = True\n",
    "city"
   ]
  },
  {
   "cell_type": "code",
   "execution_count": 50,
   "id": "41c09ee4",
   "metadata": {},
   "outputs": [
    {
     "data": {
      "text/plain": [
       "[True, 'Istanbul', 'Seul']"
      ]
     },
     "execution_count": 50,
     "metadata": {},
     "output_type": "execute_result"
    }
   ],
   "source": [
    "city[1:] = \"Istanbul\", \"Seul\"  #beyrut tokyo gitti   \n",
    "city                       # tuple"
   ]
  },
  {
   "cell_type": "code",
   "execution_count": 51,
   "id": "b4adb0d2",
   "metadata": {},
   "outputs": [
    {
     "data": {
      "text/plain": [
       "[True, '1', '2', '3', 4, False]"
      ]
     },
     "execution_count": 51,
     "metadata": {},
     "output_type": "execute_result"
    }
   ],
   "source": [
    "city[1:] = [\"1\", \"2\", \"3\", 4, False] #iterable yollayinca itrable in degerlerini aliyor\n",
    "city                                  # liste"
   ]
  },
  {
   "cell_type": "code",
   "execution_count": 52,
   "id": "a742acb4",
   "metadata": {},
   "outputs": [
    {
     "data": {
      "text/plain": [
       "[True, 'B', 'a', 'n', 'g', 'l', 'a', 'd', 'e', 's', 'h']"
      ]
     },
     "execution_count": 52,
     "metadata": {},
     "output_type": "execute_result"
    }
   ],
   "source": [
    "city[1:] = \"Bangladesh\" # String\n",
    "city                  # esittir isareti ile broadcasting yapabiliyoruz"
   ]
  },
  {
   "cell_type": "code",
   "execution_count": null,
   "id": "ba95d027",
   "metadata": {},
   "outputs": [],
   "source": [
    "# itreble listeyi aliyor herbir elemanini aliyo tup;e  a ceviriypr"
   ]
  },
  {
   "cell_type": "code",
   "execution_count": 53,
   "id": "bded98f5",
   "metadata": {},
   "outputs": [
    {
     "data": {
      "text/plain": [
       "[2, 'two', ('six', 6)]"
      ]
     },
     "execution_count": 53,
     "metadata": {},
     "output_type": "execute_result"
    }
   ],
   "source": [
    "mix_tuple = ('11', 11, [2, 'two', ('six', 6)], (5, 'fair'))\n",
    "mix_tuple[2]"
   ]
  },
  {
   "cell_type": "code",
   "execution_count": 55,
   "id": "49142397",
   "metadata": {},
   "outputs": [
    {
     "data": {
      "text/plain": [
       "'six'"
      ]
     },
     "execution_count": 55,
     "metadata": {},
     "output_type": "execute_result"
    }
   ],
   "source": [
    "mix_tuple[2][2][0]"
   ]
  },
  {
   "cell_type": "code",
   "execution_count": 56,
   "id": "754f0022",
   "metadata": {},
   "outputs": [
    {
     "data": {
      "text/plain": [
       "('11', 11, [2, 'two', ('six', 6), 'caktirmayin'], (5, 'fair'))"
      ]
     },
     "execution_count": 56,
     "metadata": {},
     "output_type": "execute_result"
    }
   ],
   "source": [
    "mix_tuple[2].append(\"caktirmayin\")\n",
    "mix_tuple"
   ]
  },
  {
   "cell_type": "code",
   "execution_count": null,
   "id": "e439ee33",
   "metadata": {},
   "outputs": [],
   "source": []
  },
  {
   "cell_type": "code",
   "execution_count": null,
   "id": "c2d1d0d2",
   "metadata": {},
   "outputs": [],
   "source": []
  },
  {
   "cell_type": "code",
   "execution_count": null,
   "id": "243d8927",
   "metadata": {},
   "outputs": [],
   "source": []
  },
  {
   "cell_type": "code",
   "execution_count": null,
   "id": "f896e999",
   "metadata": {},
   "outputs": [],
   "source": []
  },
  {
   "cell_type": "code",
   "execution_count": null,
   "id": "177c8825",
   "metadata": {},
   "outputs": [],
   "source": []
  }
 ],
 "metadata": {
  "kernelspec": {
   "display_name": "Python 3",
   "language": "python",
   "name": "python3"
  },
  "language_info": {
   "codemirror_mode": {
    "name": "ipython",
    "version": 3
   },
   "file_extension": ".py",
   "mimetype": "text/x-python",
   "name": "python",
   "nbconvert_exporter": "python",
   "pygments_lexer": "ipython3",
   "version": "3.8.8"
  }
 },
 "nbformat": 4,
 "nbformat_minor": 5
}
