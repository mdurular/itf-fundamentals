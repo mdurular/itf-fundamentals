{
 "cells": [
  {
   "cell_type": "code",
   "execution_count": 23,
   "id": "7d5c24e9",
   "metadata": {},
   "outputs": [
    {
     "data": {
      "text/plain": [
       "<generator object <genexpr> at 0x000001D1830CE3C0>"
      ]
     },
     "execution_count": 23,
     "metadata": {},
     "output_type": "execute_result"
    }
   ],
   "source": [
    "generate = (i ** 2 for i in range(6))\n",
    "generate"
   ]
  },
  {
   "cell_type": "code",
   "execution_count": 43,
   "id": "c7c916eb",
   "metadata": {},
   "outputs": [
    {
     "name": "stdout",
     "output_type": "stream",
     "text": [
      "\n"
     ]
    }
   ],
   "source": [
    "print(*generate)"
   ]
  },
  {
   "cell_type": "code",
   "execution_count": 45,
   "id": "6f5b1b7e",
   "metadata": {},
   "outputs": [],
   "source": [
    "for i in generate :\n",
    "    print(i)"
   ]
  },
  {
   "cell_type": "code",
   "execution_count": 50,
   "id": "dc25e7eb",
   "metadata": {},
   "outputs": [
    {
     "data": {
      "text/plain": [
       "[]"
      ]
     },
     "execution_count": 50,
     "metadata": {},
     "output_type": "execute_result"
    }
   ],
   "source": [
    "list(generate)"
   ]
  },
  {
   "cell_type": "code",
   "execution_count": 54,
   "id": "c2f7cb00",
   "metadata": {},
   "outputs": [
    {
     "ename": "StopIteration",
     "evalue": "",
     "output_type": "error",
     "traceback": [
      "\u001b[1;31m---------------------------------------------------------------------------\u001b[0m",
      "\u001b[1;31mStopIteration\u001b[0m                             Traceback (most recent call last)",
      "\u001b[1;32m<ipython-input-54-e0b94480744e>\u001b[0m in \u001b[0;36m<module>\u001b[1;34m\u001b[0m\n\u001b[1;32m----> 1\u001b[1;33m \u001b[0mprint\u001b[0m\u001b[1;33m(\u001b[0m\u001b[0mnext\u001b[0m\u001b[1;33m(\u001b[0m\u001b[0mgenerate\u001b[0m\u001b[1;33m)\u001b[0m\u001b[1;33m)\u001b[0m\u001b[1;33m\u001b[0m\u001b[1;33m\u001b[0m\u001b[0m\n\u001b[0m",
      "\u001b[1;31mStopIteration\u001b[0m: "
     ]
    }
   ],
   "source": [
    "print(next(generate))"
   ]
  },
  {
   "cell_type": "code",
   "execution_count": 55,
   "id": "4e0db7fa",
   "metadata": {},
   "outputs": [
    {
     "data": {
      "text/plain": [
       "<generator object <genexpr> at 0x000001D1830D9890>"
      ]
     },
     "execution_count": 55,
     "metadata": {},
     "output_type": "execute_result"
    }
   ],
   "source": [
    "generate = (i ** 2 for i in range(6))\n",
    "generate"
   ]
  },
  {
   "cell_type": "code",
   "execution_count": 17,
   "id": "1e5bd35f",
   "metadata": {},
   "outputs": [
    {
     "ename": "StopIteration",
     "evalue": "",
     "output_type": "error",
     "traceback": [
      "\u001b[1;31m---------------------------------------------------------------------------\u001b[0m",
      "\u001b[1;31mStopIteration\u001b[0m                             Traceback (most recent call last)",
      "\u001b[1;32m<ipython-input-17-e0b94480744e>\u001b[0m in \u001b[0;36m<module>\u001b[1;34m\u001b[0m\n\u001b[1;32m----> 1\u001b[1;33m \u001b[0mprint\u001b[0m\u001b[1;33m(\u001b[0m\u001b[0mnext\u001b[0m\u001b[1;33m(\u001b[0m\u001b[0mgenerate\u001b[0m\u001b[1;33m)\u001b[0m\u001b[1;33m)\u001b[0m\u001b[1;33m\u001b[0m\u001b[1;33m\u001b[0m\u001b[0m\n\u001b[0m",
      "\u001b[1;31mStopIteration\u001b[0m: "
     ]
    }
   ],
   "source": []
  },
  {
   "cell_type": "code",
   "execution_count": 56,
   "id": "39c2b824",
   "metadata": {},
   "outputs": [
    {
     "name": "stdout",
     "output_type": "stream",
     "text": [
      "0\n"
     ]
    }
   ],
   "source": [
    "print(next(generate))"
   ]
  },
  {
   "cell_type": "code",
   "execution_count": 57,
   "id": "0db78d25",
   "metadata": {},
   "outputs": [
    {
     "name": "stdout",
     "output_type": "stream",
     "text": [
      "1\n"
     ]
    }
   ],
   "source": [
    "print(next(generate))"
   ]
  },
  {
   "cell_type": "code",
   "execution_count": 58,
   "id": "207a05b4",
   "metadata": {},
   "outputs": [
    {
     "name": "stdout",
     "output_type": "stream",
     "text": [
      "4\n"
     ]
    }
   ],
   "source": [
    "print(next(generate))"
   ]
  },
  {
   "cell_type": "code",
   "execution_count": 59,
   "id": "28b1145a",
   "metadata": {},
   "outputs": [
    {
     "name": "stdout",
     "output_type": "stream",
     "text": [
      "9\n"
     ]
    }
   ],
   "source": [
    "print(next(generate))"
   ]
  },
  {
   "cell_type": "code",
   "execution_count": 61,
   "id": "dd7c66b5",
   "metadata": {},
   "outputs": [
    {
     "name": "stdout",
     "output_type": "stream",
     "text": [
      "13\n"
     ]
    }
   ],
   "source": [
    "def first_function(argument_1, argument_2) :\n",
    "    print(argument_1**2 + argument_2**2)\n",
    "first_function(2, 3) "
   ]
  },
  {
   "cell_type": "code",
   "execution_count": 62,
   "id": "789a6653",
   "metadata": {},
   "outputs": [
    {
     "name": "stdout",
     "output_type": "stream",
     "text": [
      "15\n",
      "-2.5\n",
      "amazing amazing amazing \n"
     ]
    }
   ],
   "source": [
    "def multiply(a, b) :\n",
    "    print(a * b)\n",
    "multiply(3, 5)\n",
    "multiply(-1, 2.5)\n",
    "multiply('amazing ', 3) "
   ]
  },
  {
   "cell_type": "code",
   "execution_count": 63,
   "id": "5ed3ad45",
   "metadata": {},
   "outputs": [
    {
     "name": "stdout",
     "output_type": "stream",
     "text": [
      "8\n"
     ]
    }
   ],
   "source": [
    "def add(a,b):\n",
    "    print(a+b)\n",
    "add(3,5)"
   ]
  },
  {
   "cell_type": "code",
   "execution_count": null,
   "id": "d44c742e",
   "metadata": {},
   "outputs": [],
   "source": [
    "def calculator(num1, num2, \"+\"):\n",
    "    sonuc = num1 + num2\n",
    "    return sonuc"
   ]
  },
  {
   "cell_type": "code",
   "execution_count": 67,
   "id": "23dbc259",
   "metadata": {},
   "outputs": [
    {
     "name": "stdout",
     "output_type": "stream",
     "text": [
      "110\n"
     ]
    }
   ],
   "source": [
    "def calculator(a, b, opr):\n",
    "    \n",
    "    if opr == \"+\":\n",
    "        return a + b\n",
    "    \n",
    "    elif opr == \"-\":\n",
    "        return a - b\n",
    "    \n",
    "    elif opr == \"/\":\n",
    "        return a / b\n",
    "    \n",
    "    elif opr == \"*\":\n",
    "        return a * b\n",
    "    else:\n",
    "        return \"invalid syntax\"\n",
    "print(calculator(88,22,\"+\"))\n",
    "print(calculator(88,22,\"+\"))\n"
   ]
  },
  {
   "cell_type": "code",
   "execution_count": 70,
   "id": "a311fb4d",
   "metadata": {},
   "outputs": [
    {
     "name": "stdout",
     "output_type": "stream",
     "text": [
      "3.3\n",
      "4\n"
     ]
    }
   ],
   "source": [
    "def absolute_value(num):\n",
    "    '''This function gives absolute value\n",
    "    of the entered number\n",
    "    '''\n",
    "    if num>=\n",
    "    return abs(num)\n",
    "print(absolute_value(3.3))\n",
    "print(absolute_value(-4))"
   ]
  },
  {
   "cell_type": "code",
   "execution_count": 71,
   "id": "8ae4c6cb",
   "metadata": {},
   "outputs": [
    {
     "name": "stdout",
     "output_type": "stream",
     "text": [
      "Return the absolute value of the argument.\n"
     ]
    }
   ],
   "source": [
    "print(abs.__doc__)"
   ]
  },
  {
   "cell_type": "code",
   "execution_count": 72,
   "id": "765bca37",
   "metadata": {},
   "outputs": [
    {
     "name": "stdout",
     "output_type": "stream",
     "text": [
      "2.0\n"
     ]
    }
   ],
   "source": [
    "def abso(x):\n",
    "    return (int(x) ** 2) ** (1/2)\n",
    "print(abso(2))"
   ]
  },
  {
   "cell_type": "markdown",
   "id": "15dfb81a",
   "metadata": {},
   "source": [
    "# Prime Number Assignment"
   ]
  },
  {
   "cell_type": "code",
   "execution_count": 73,
   "id": "175416fe",
   "metadata": {},
   "outputs": [
    {
     "name": "stdout",
     "output_type": "stream",
     "text": [
      "Enter a positive number to check if it is a Prime Number : 17\n",
      "17 is a Prime Number.\n"
     ]
    }
   ],
   "source": [
    "n = int(input(\"Enter a positive number to check if it is a Prime Number : \"))\n",
    "count = 0\n",
    "\n",
    "for i in range(1, n+1) :\n",
    "    if n % i == 0 :\n",
    "        count += 1\n",
    "if (n == 0) or (n == 1) or (count >= 3) :\n",
    "    print(n, \"is not a Prime Number.\")\n",
    "else :\n",
    "    print(n, \"is a Prime Number.\")"
   ]
  },
  {
   "cell_type": "code",
   "execution_count": 74,
   "id": "e3fbde7b",
   "metadata": {},
   "outputs": [
    {
     "name": "stdout",
     "output_type": "stream",
     "text": [
      "Cömertlik ve yardım etme gibi ol\n",
      "Şefkat ve merhamette güneş\n",
      "Başkalarının kusurunu örtmede gece gibi ol.\n",
      "Hiddet ve asabivette ölü gibi ol.\n",
      "Tevazu ve alçak gönüllülükte toprak gibi ol.\n",
      "Hoşgörülükte deniz gibi ol.\n",
      "Ya olduğun gibi görün, ya göründiiğün gibi ol.\n"
     ]
    }
   ],
   "source": [
    "def mevlana() :\n",
    "    print(\"\"\"Cömertlik ve yardım etme gibi ol\n",
    "Şefkat ve merhamette güneş\n",
    "Başkalarının kusurunu örtmede gece gibi ol.\n",
    "Hiddet ve asabivette ölü gibi ol.\n",
    "Tevazu ve alçak gönüllülükte toprak gibi ol.\n",
    "Hoşgörülükte deniz gibi ol.\n",
    "Ya olduğun gibi görün, ya göründiiğün gibi ol.\"\"\")\n",
    "mevlana()"
   ]
  },
  {
   "cell_type": "code",
   "execution_count": 75,
   "id": "bc8125d2",
   "metadata": {},
   "outputs": [
    {
     "name": "stdout",
     "output_type": "stream",
     "text": [
      "3\n"
     ]
    }
   ],
   "source": [
    "def calculator(x, y, opr) :\n",
    "    if opr == \"+\" :\n",
    "        print(x + y)\n",
    "    elif opr == \"-\" :\n",
    "        print(x - y)\n",
    "    elif opr == \"*\" :\n",
    "        print(x * y)\n",
    "    elif opr == \"/\" :\n",
    "        print(x / y)\n",
    "    else :\n",
    "        print(\"Enter a valid opr.\")\n",
    "calculator(5, 2, \"-\")"
   ]
  },
  {
   "cell_type": "code",
   "execution_count": 76,
   "id": "f70343b5",
   "metadata": {},
   "outputs": [
    {
     "name": "stdout",
     "output_type": "stream",
     "text": [
      "\n"
     ]
    },
    {
     "data": {
      "text/plain": [
       "NoneType"
      ]
     },
     "execution_count": 76,
     "metadata": {},
     "output_type": "execute_result"
    }
   ],
   "source": [
    "type(print())"
   ]
  },
  {
   "cell_type": "code",
   "execution_count": 79,
   "id": "3cea89ca",
   "metadata": {},
   "outputs": [
    {
     "name": "stdout",
     "output_type": "stream",
     "text": [
      "22\n"
     ]
    }
   ],
   "source": [
    "def absolute_value(num) :\n",
    "    \n",
    "    \"\"\"This function gives absolute value\n",
    "of the entered number.\"\"\"\n",
    "    \n",
    "    if num >= 0 :\n",
    "        return num\n",
    "    else :\n",
    "        return -num\n",
    "print(absolute_value(-22))"
   ]
  },
  {
   "cell_type": "code",
   "execution_count": 80,
   "id": "482873c2",
   "metadata": {},
   "outputs": [
    {
     "name": "stdout",
     "output_type": "stream",
     "text": [
      "This function gives absolute value\n",
      "of the entered number.\n"
     ]
    }
   ],
   "source": [
    "print(absolute_value.__doc__)"
   ]
  },
  {
   "cell_type": "code",
   "execution_count": 81,
   "id": "8904de73",
   "metadata": {},
   "outputs": [
    {
     "name": "stdout",
     "output_type": "stream",
     "text": [
      "print(value, ..., sep=' ', end='\\n', file=sys.stdout, flush=False)\n",
      "\n",
      "Prints the values to a stream, or to sys.stdout by default.\n",
      "Optional keyword arguments:\n",
      "file:  a file-like object (stream); defaults to the current sys.stdout.\n",
      "sep:   string inserted between values, default a space.\n",
      "end:   string appended after the last value, default a newline.\n",
      "flush: whether to forcibly flush the stream.\n"
     ]
    }
   ],
   "source": [
    "print(print.__doc__)"
   ]
  },
  {
   "cell_type": "markdown",
   "id": "d096a556",
   "metadata": {},
   "source": [
    "```python\n",
    "\n",
    "def print(parameters) :\n",
    "    body\n",
    "```"
   ]
  },
  {
   "cell_type": "code",
   "execution_count": 82,
   "id": "cc6dd268",
   "metadata": {},
   "outputs": [
    {
     "name": "stdout",
     "output_type": "stream",
     "text": [
      "Return the absolute value of the argument.\n"
     ]
    }
   ],
   "source": [
    "print(abs.__doc__)"
   ]
  }
 ],
 "metadata": {
  "kernelspec": {
   "display_name": "Python 3",
   "language": "python",
   "name": "python3"
  },
  "language_info": {
   "codemirror_mode": {
    "name": "ipython",
    "version": 3
   },
   "file_extension": ".py",
   "mimetype": "text/x-python",
   "name": "python",
   "nbconvert_exporter": "python",
   "pygments_lexer": "ipython3",
   "version": "3.8.8"
  }
 },
 "nbformat": 4,
 "nbformat_minor": 5
}
