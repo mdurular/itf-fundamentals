{
 "cells": [
  {
   "cell_type": "code",
   "execution_count": 8,
   "id": "cc934821",
   "metadata": {},
   "outputs": [
    {
     "name": "stdout",
     "output_type": "stream",
     "text": [
      "i love you\n"
     ]
    }
   ],
   "source": [
    "a= \"i\"\n",
    "b= \"love\"\n",
    "c= \"you\"\n",
    "def texter(text1, text2, text3):\n",
    "    print(text2, text3, text1)\n",
    "    \n",
    "texter(c,a,b)"
   ]
  },
  {
   "cell_type": "code",
   "execution_count": null,
   "id": "81641cd2",
   "metadata": {},
   "outputs": [],
   "source": [
    "a= \"i\"\n",
    "b= \"love\"\n",
    "c= \"you\"\n",
    "texter(c,a,b)"
   ]
  },
  {
   "cell_type": "code",
   "execution_count": 9,
   "id": "6758c4cd",
   "metadata": {},
   "outputs": [
    {
     "name": "stdout",
     "output_type": "stream",
     "text": [
      "i love you\n"
     ]
    }
   ],
   "source": [
    "texter(text1=\"you\", text3=\"love\", text2 =\"i\")"
   ]
  },
  {
   "cell_type": "code",
   "execution_count": 13,
   "id": "bef141c9",
   "metadata": {},
   "outputs": [
    {
     "name": "stdout",
     "output_type": "stream",
     "text": [
      "[2, 4, 6, 8, 10]\n",
      "[1, 3, 5, 7, 9]\n"
     ]
    }
   ],
   "source": [
    "def slicer(*numbers):\n",
    "    evens = []\n",
    "    odds = []\n",
    "    for i in numbers :\n",
    "        if i % 2 == 0 :\n",
    "            evens.append(i)\n",
    "        else :\n",
    "            odds.append(i)\n",
    "    print(evens)\n",
    "    print(odds)\n",
    "slicer(1,2,3,4,5,6,7,8,9,10)"
   ]
  },
  {
   "cell_type": "code",
   "execution_count": 14,
   "id": "ee8726de",
   "metadata": {},
   "outputs": [
    {
     "data": {
      "text/plain": [
       "{'isim': 'ahmet', 'soyisim': 'mehmet'}"
      ]
     },
     "execution_count": 14,
     "metadata": {},
     "output_type": "execute_result"
    }
   ],
   "source": [
    "test =dict(isim =\"ahmet\", soyisim =\"mehmet\")\n",
    "test"
   ]
  },
  {
   "cell_type": "code",
   "execution_count": 17,
   "id": "c1b23509",
   "metadata": {},
   "outputs": [
    {
     "name": "stdout",
     "output_type": "stream",
     "text": [
      "['Beth', 'Oscar', 'Justin', 'Frank']\n",
      "[26, 42, 18, 33]\n"
     ]
    }
   ],
   "source": [
    "def organizer(**kwargs):\n",
    "    isim=[]\n",
    "    old =[]\n",
    "    for key, value in kwargs.items():\n",
    "        isim.append(key)\n",
    "        old.append(value)\n",
    "    print(isim)\n",
    "    print(old)\n",
    "\n",
    "organizer(Beth=26, Oscar= 42, Justin=18, Frank=33)"
   ]
  },
  {
   "cell_type": "code",
   "execution_count": 18,
   "id": "343fb4c6",
   "metadata": {},
   "outputs": [
    {
     "name": "stdout",
     "output_type": "stream",
     "text": [
      "-- This parrot wouldn't voom if you put 1000 volts through it.\n",
      "-- Lovely plumage, the Norwegian Blue\n",
      "-- It's a stiff !\n"
     ]
    }
   ],
   "source": [
    "def parrot(voltage, state='a stiff', action='voom', type='Norwegian Blue'):\n",
    "    print(\"-- This parrot wouldn't\", action, end=' ')\n",
    "    print(\"if you put\", voltage, \"volts through it.\")\n",
    "    print(\"-- Lovely plumage, the\", type)\n",
    "    print(\"-- It's\", state, \"!\")\n",
    "parrot(\"1000\")"
   ]
  },
  {
   "cell_type": "code",
   "execution_count": 19,
   "id": "fc67633f",
   "metadata": {},
   "outputs": [
    {
     "name": "stdout",
     "output_type": "stream",
     "text": [
      "-- This parrot wouldn't VOOOOOM if you put 1000000 volts through it.\n",
      "-- Lovely plumage, the Norwegian Blue\n",
      "-- It's a stiff !\n"
     ]
    }
   ],
   "source": [
    "parrot(voltage=1000000, action='VOOOOOM')"
   ]
  },
  {
   "cell_type": "code",
   "execution_count": 20,
   "id": "8a69ed9a",
   "metadata": {},
   "outputs": [
    {
     "name": "stdout",
     "output_type": "stream",
     "text": [
      "-- This parrot wouldn't VOOOOOM if you put 1000000 volts through it.\n",
      "-- Lovely plumage, the Norwegian Blue\n",
      "-- It's a stiff !\n"
     ]
    }
   ],
   "source": [
    "parrot(action='VOOOOOM', voltage=1000000 )"
   ]
  },
  {
   "cell_type": "code",
   "execution_count": 21,
   "id": "0f6b6837",
   "metadata": {},
   "outputs": [
    {
     "name": "stdout",
     "output_type": "stream",
     "text": [
      "-- This parrot wouldn't jump if you put a million volts through it.\n",
      "-- Lovely plumage, the Norwegian Blue\n",
      "-- It's bereft of life !\n"
     ]
    }
   ],
   "source": [
    "parrot(\"a million\", \"bereft of life\", \"jump\")"
   ]
  },
  {
   "cell_type": "code",
   "execution_count": 22,
   "id": "ee88891a",
   "metadata": {},
   "outputs": [
    {
     "name": "stdout",
     "output_type": "stream",
     "text": [
      "-- This parrot wouldn't voom if you put a thousand volts through it.\n",
      "-- Lovely plumage, the Norwegian Blue\n",
      "-- It's pushing up the daisies !\n"
     ]
    }
   ],
   "source": [
    "parrot(\"a thousand\", state= \"pushing up the daisies\")"
   ]
  },
  {
   "cell_type": "code",
   "execution_count": 23,
   "id": "2ed5cc2d",
   "metadata": {},
   "outputs": [
    {
     "ename": "SyntaxError",
     "evalue": "positional argument follows keyword argument (<ipython-input-23-9e3a0cbbb184>, line 1)",
     "output_type": "error",
     "traceback": [
      "\u001b[1;36m  File \u001b[1;32m\"<ipython-input-23-9e3a0cbbb184>\"\u001b[1;36m, line \u001b[1;32m1\u001b[0m\n\u001b[1;33m    parrot(voltage = 5, \"dead\") #once positionallari bitirmemiz lazim\u001b[0m\n\u001b[1;37m                        ^\u001b[0m\n\u001b[1;31mSyntaxError\u001b[0m\u001b[1;31m:\u001b[0m positional argument follows keyword argument\n"
     ]
    }
   ],
   "source": [
    "parrot(voltage = 5, \"dead\") #once positionallari bitirmemiz lazim"
   ]
  },
  {
   "cell_type": "code",
   "execution_count": 24,
   "id": "9c1dcf76",
   "metadata": {},
   "outputs": [
    {
     "ename": "SyntaxError",
     "evalue": "non-default argument follows default argument (<ipython-input-24-81a9c13f9eb2>, line 1)",
     "output_type": "error",
     "traceback": [
      "\u001b[1;36m  File \u001b[1;32m\"<ipython-input-24-81a9c13f9eb2>\"\u001b[1;36m, line \u001b[1;32m1\u001b[0m\n\u001b[1;33m    def argu(a,b=\"dunya\", c, d=\"saturn\"):\u001b[0m\n\u001b[1;37m             ^\u001b[0m\n\u001b[1;31mSyntaxError\u001b[0m\u001b[1;31m:\u001b[0m non-default argument follows default argument\n"
     ]
    }
   ],
   "source": [
    "def argu(a,b=\"dunya\", c, d=\"saturn\"):\n",
    "    print(a,b,c,d, sep =\"\\n\")"
   ]
  },
  {
   "cell_type": "code",
   "execution_count": 26,
   "id": "a5086981",
   "metadata": {},
   "outputs": [],
   "source": [
    "def argu(a, c, b=\"dunya\", d=\"saturn\"):\n",
    "    print(a,b,c,d, sep =\"\\n\")"
   ]
  },
  {
   "cell_type": "code",
   "execution_count": 27,
   "id": "b4553fce",
   "metadata": {},
   "outputs": [
    {
     "name": "stdout",
     "output_type": "stream",
     "text": [
      "uranus\n",
      "dunya\n",
      "jupiter\n",
      "saturn\n"
     ]
    }
   ],
   "source": [
    "argu(\"uranus\",  \"jupiter\")"
   ]
  },
  {
   "cell_type": "code",
   "execution_count": 28,
   "id": "c2731118",
   "metadata": {},
   "outputs": [
    {
     "name": "stdout",
     "output_type": "stream",
     "text": [
      "uranus\n",
      "dunya\n",
      "jupiter\n",
      "saturn\n"
     ]
    }
   ],
   "source": [
    "argu(a= \"uranus\",  c = \"jupiter\")"
   ]
  },
  {
   "cell_type": "code",
   "execution_count": 29,
   "id": "bddc88d0",
   "metadata": {},
   "outputs": [
    {
     "ename": "SyntaxError",
     "evalue": "positional argument follows keyword argument (<ipython-input-29-805d4802e36f>, line 1)",
     "output_type": "error",
     "traceback": [
      "\u001b[1;36m  File \u001b[1;32m\"<ipython-input-29-805d4802e36f>\"\u001b[1;36m, line \u001b[1;32m1\u001b[0m\n\u001b[1;33m    argu(\"pluto\", c = \"venus\", \"mars\")\u001b[0m\n\u001b[1;37m                               ^\u001b[0m\n\u001b[1;31mSyntaxError\u001b[0m\u001b[1;31m:\u001b[0m positional argument follows keyword argument\n"
     ]
    }
   ],
   "source": [
    "argu(\"pluto\", c = \"venus\", \"mars\")"
   ]
  },
  {
   "cell_type": "code",
   "execution_count": 30,
   "id": "9224beb9",
   "metadata": {},
   "outputs": [
    {
     "name": "stdout",
     "output_type": "stream",
     "text": [
      "dunya\n",
      "venus\n",
      "pluto\n",
      "gunes\n"
     ]
    }
   ],
   "source": [
    "argu(d= \"gunes\", a= \"dunya\", c=\"pluto\", b = \"venus\")"
   ]
  },
  {
   "cell_type": "code",
   "execution_count": null,
   "id": "9de65e36",
   "metadata": {},
   "outputs": [],
   "source": [
    "argu(\"gunes\", \"dunya\", \"pluto\", \"venus\")"
   ]
  },
  {
   "cell_type": "code",
   "execution_count": null,
   "id": "4f8acc4e",
   "metadata": {},
   "outputs": [],
   "source": []
  },
  {
   "cell_type": "code",
   "execution_count": null,
   "id": "5ceb82cb",
   "metadata": {},
   "outputs": [],
   "source": []
  },
  {
   "cell_type": "code",
   "execution_count": null,
   "id": "164f2603",
   "metadata": {},
   "outputs": [],
   "source": []
  }
 ],
 "metadata": {
  "kernelspec": {
   "display_name": "Python 3",
   "language": "python",
   "name": "python3"
  },
  "language_info": {
   "codemirror_mode": {
    "name": "ipython",
    "version": 3
   },
   "file_extension": ".py",
   "mimetype": "text/x-python",
   "name": "python",
   "nbconvert_exporter": "python",
   "pygments_lexer": "ipython3",
   "version": "3.8.8"
  }
 },
 "nbformat": 4,
 "nbformat_minor": 5
}
