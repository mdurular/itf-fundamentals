{
 "cells": [
  {
   "cell_type": "code",
   "execution_count": null,
   "id": "18b36ebf",
   "metadata": {},
   "outputs": [],
   "source": [
    "dict(animal='dog', planet='neptun', number=40, pi=3.14, is_good=True)\n"
   ]
  },
  {
   "cell_type": "code",
   "execution_count": 1,
   "id": "83996dbf",
   "metadata": {},
   "outputs": [
    {
     "data": {
      "text/plain": [
       "{1: 'one', 'two': 2, False: [1, 2, 3]}"
      ]
     },
     "execution_count": 1,
     "metadata": {},
     "output_type": "execute_result"
    }
   ],
   "source": [
    "first_dic = {1: \"one\", \"two\":2, False : [1, 2, 3]}\n",
    "first_dic"
   ]
  },
  {
   "cell_type": "code",
   "execution_count": 2,
   "id": "6759a254",
   "metadata": {},
   "outputs": [
    {
     "ename": "TypeError",
     "evalue": "unhashable type: 'list'",
     "output_type": "error",
     "traceback": [
      "\u001b[1;31m---------------------------------------------------------------------------\u001b[0m",
      "\u001b[1;31mTypeError\u001b[0m                                 Traceback (most recent call last)",
      "\u001b[1;32m<ipython-input-2-6b556ebfb1ef>\u001b[0m in \u001b[0;36m<module>\u001b[1;34m\u001b[0m\n\u001b[1;32m----> 1\u001b[1;33m \u001b[0msecond_dict\u001b[0m \u001b[1;33m=\u001b[0m \u001b[1;33m{\u001b[0m\u001b[1;33m[\u001b[0m\u001b[1;36m1\u001b[0m\u001b[1;33m,\u001b[0m \u001b[1;36m2\u001b[0m\u001b[1;33m,\u001b[0m \u001b[1;36m3\u001b[0m\u001b[1;33m]\u001b[0m \u001b[1;33m:\u001b[0m \u001b[1;34m\"liste\"\u001b[0m\u001b[1;33m,\u001b[0m \u001b[1;34m\"clarus\"\u001b[0m \u001b[1;33m:\u001b[0m \u001b[1;34m\"the best\"\u001b[0m\u001b[1;33m}\u001b[0m\u001b[1;33m\u001b[0m\u001b[1;33m\u001b[0m\u001b[0m\n\u001b[0m\u001b[0;32m      2\u001b[0m \u001b[0msecond_dict\u001b[0m\u001b[1;33m\u001b[0m\u001b[1;33m\u001b[0m\u001b[0m\n",
      "\u001b[1;31mTypeError\u001b[0m: unhashable type: 'list'"
     ]
    }
   ],
   "source": [
    "second_dict = {[1, 2, 3] : \"liste\", \"clarus\" : \"the best\"} \n",
    "second_dict   # list den key olmuyor"
   ]
  },
  {
   "cell_type": "code",
   "execution_count": 3,
   "id": "7cb6daf9",
   "metadata": {},
   "outputs": [
    {
     "data": {
      "text/plain": [
       "{(1, 2, 3): 'liste', 'clarus': 'the best'}"
      ]
     },
     "execution_count": 3,
     "metadata": {},
     "output_type": "execute_result"
    }
   ],
   "source": [
    "third_dict = {(1, 2, 3) : \"liste\", \"clarus\" : \"the best\"} \n",
    "third_dict        # tuple den key olabiliyor"
   ]
  },
  {
   "cell_type": "code",
   "execution_count": 4,
   "id": "987fcfca",
   "metadata": {},
   "outputs": [
    {
     "ename": "TypeError",
     "evalue": "unhashable type: 'dict'",
     "output_type": "error",
     "traceback": [
      "\u001b[1;31m---------------------------------------------------------------------------\u001b[0m",
      "\u001b[1;31mTypeError\u001b[0m                                 Traceback (most recent call last)",
      "\u001b[1;32m<ipython-input-4-8e5a145e428c>\u001b[0m in \u001b[0;36m<module>\u001b[1;34m\u001b[0m\n\u001b[1;32m----> 1\u001b[1;33m \u001b[0mfour_dict\u001b[0m \u001b[1;33m=\u001b[0m \u001b[1;33m{\u001b[0m\u001b[1;33m{\u001b[0m\u001b[1;36m1\u001b[0m\u001b[1;33m:\u001b[0m \u001b[1;34m\"bir\"\u001b[0m\u001b[1;33m,\u001b[0m \u001b[1;36m2\u001b[0m\u001b[1;33m:\u001b[0m \u001b[1;34m\"iki\"\u001b[0m\u001b[1;33m}\u001b[0m \u001b[1;33m:\u001b[0m \u001b[1;34m\"sozluk\"\u001b[0m\u001b[1;33m}\u001b[0m\u001b[1;33m\u001b[0m\u001b[1;33m\u001b[0m\u001b[0m\n\u001b[0m\u001b[0;32m      2\u001b[0m \u001b[0mfour_dict\u001b[0m\u001b[1;33m\u001b[0m\u001b[1;33m\u001b[0m\u001b[0m\n",
      "\u001b[1;31mTypeError\u001b[0m: unhashable type: 'dict'"
     ]
    }
   ],
   "source": [
    "four_dict = {{1: \"bir\", 2: \"iki\"} : \"sozluk\"} # dictionary den key olmuyor\n",
    "four_dict"
   ]
  },
  {
   "cell_type": "code",
   "execution_count": 6,
   "id": "9f91d01f",
   "metadata": {},
   "outputs": [
    {
     "data": {
      "text/plain": [
       "{'erkekler': {'ahmet': 35, 'mehmet': 44, 'cevat': 17},\n",
       " 'bayanlar': {'selvi': 22, 'bahar': 55, 'ayse': 3}}"
      ]
     },
     "execution_count": 6,
     "metadata": {},
     "output_type": "execute_result"
    }
   ],
   "source": [
    "fifth_dict = {\"erkekler\" : {\"ahmet\": 35, \"mehmet\" :44, \"cevat\": 17},\\\n",
    "             \"bayanlar\" : {\"selvi\" : 22, \"bahar\" : 55, \"ayse\":3 }}\n",
    "fifth_dict"
   ]
  },
  {
   "cell_type": "code",
   "execution_count": 12,
   "id": "2a084b93",
   "metadata": {},
   "outputs": [
    {
     "name": "stdout",
     "output_type": "stream",
     "text": [
      "{'name1': 'joseph', 'name2': 'Bella', 'name3': 'Aisha'}\n",
      "{'name1': 'joseph', 'name2': 'Bella', 'name3': 'Aisha', 'name4': 'Tom'}\n"
     ]
    },
    {
     "data": {
      "text/plain": [
       "4"
      ]
     },
     "execution_count": 12,
     "metadata": {},
     "output_type": "execute_result"
    }
   ],
   "source": [
    "family = {\"name1\" : \"joseph\",\n",
    "          \"name2\" : \"Bella\",\n",
    "          \"name3\" : \"Aisha\"}\n",
    "print(family)\n",
    "family[\"name4\"] = \"Tom\"\n",
    "print(family)\n",
    "len(family)"
   ]
  },
  {
   "cell_type": "code",
   "execution_count": 14,
   "id": "6c85dc71",
   "metadata": {},
   "outputs": [
    {
     "name": "stdout",
     "output_type": "stream",
     "text": [
      "madrid\n"
     ]
    }
   ],
   "source": [
    "ulke = {'turkiye' : 'istanbul',\n",
    "        'almanya' : 'köln',\n",
    "        'ispanya' : 'madrid'\n",
    "        }\n",
    "print(ulke['ispanya'])"
   ]
  },
  {
   "cell_type": "code",
   "execution_count": 15,
   "id": "5c897735",
   "metadata": {},
   "outputs": [
    {
     "name": "stdout",
     "output_type": "stream",
     "text": [
      "{'name1': 'Halit', 'name2': 'Fatma', 'name3': 'Altan', 'name4': 'Hafsa'}\n"
     ]
    }
   ],
   "source": [
    "family = {\"name1\" : \"Halit\",\n",
    "          \"name2\" : \"Fatma\",\n",
    "          \"name3\" : \"Altan\",\n",
    "          \"name4\" : \"Hafsa\"}\n",
    "print(family)"
   ]
  },
  {
   "cell_type": "code",
   "execution_count": 17,
   "id": "fb4111e6",
   "metadata": {},
   "outputs": [
    {
     "data": {
      "text/plain": [
       "{'name1': 'Halit', 'name2': 'Fatma', 'name3': 'Altan', 'name4': 'Hafsa'}"
      ]
     },
     "execution_count": 17,
     "metadata": {},
     "output_type": "execute_result"
    }
   ],
   "source": [
    "family = dict(name1 = 'Halit', name2 = 'Fatma', name3 = 'Altan', name4 = 'Hafsa')\n",
    "family"
   ]
  },
  {
   "cell_type": "code",
   "execution_count": 18,
   "id": "ccf1ce90",
   "metadata": {},
   "outputs": [
    {
     "data": {
      "text/plain": [
       "{5: 'bes', 15: 'onbes', 20: 'yirmi'}"
      ]
     },
     "execution_count": 18,
     "metadata": {},
     "output_type": "execute_result"
    }
   ],
   "source": [
    "n1, n2, n3 = 5, 15, 20\n",
    "numbers = {n1 : \"bes\", n2 : \"onbes\", n3 : \"yirmi\"}\n",
    "numbers"
   ]
  },
  {
   "cell_type": "code",
   "execution_count": null,
   "id": "fc6a1fa2",
   "metadata": {},
   "outputs": [],
   "source": []
  },
  {
   "cell_type": "code",
   "execution_count": 95,
   "id": "5d3d4789",
   "metadata": {},
   "outputs": [
    {
     "data": {
      "text/plain": [
       "{'tek': [], 'cift': []}"
      ]
     },
     "execution_count": 95,
     "metadata": {},
     "output_type": "execute_result"
    }
   ],
   "source": [
    "sayilar = {\"tek\" : [],\n",
    "           \"cift\": []}\n",
    "sayilar\n"
   ]
  },
  {
   "cell_type": "code",
   "execution_count": 98,
   "id": "8090620e",
   "metadata": {},
   "outputs": [
    {
     "data": {
      "text/plain": [
       "{'tek': [1, 1, 3, 5], 'cift': [2, 4]}"
      ]
     },
     "execution_count": 98,
     "metadata": {},
     "output_type": "execute_result"
    }
   ],
   "source": [
    "type(sayilar[\"tek\"])\n",
    "type(sayilar[\"cift\"])\n",
    "sayilar[\"tek\"].append(1)\n",
    "sayilar[\"tek\"].append(3)\n",
    "sayilar[\"tek\"].append(5)\n",
    "sayilar[\"cift\"].append(2)\n",
    "sayilar[\"cift\"].append(4)\n",
    "sayilar"
   ]
  },
  {
   "cell_type": "code",
   "execution_count": null,
   "id": "b8537bab",
   "metadata": {},
   "outputs": [],
   "source": []
  },
  {
   "cell_type": "code",
   "execution_count": 24,
   "id": "3662be54",
   "metadata": {},
   "outputs": [
    {
     "data": {
      "text/plain": [
       "{'elma': 0, 'armut': 0}"
      ]
     },
     "execution_count": 24,
     "metadata": {},
     "output_type": "execute_result"
    }
   ],
   "source": [
    "meyveler = {}.fromkeys([\"elma\", \"armut\"], 0)\n",
    "meyveler"
   ]
  },
  {
   "cell_type": "code",
   "execution_count": 27,
   "id": "0bfd988d",
   "metadata": {},
   "outputs": [
    {
     "data": {
      "text/plain": [
       "{'elma': 4, 'armut': 1}"
      ]
     },
     "execution_count": 27,
     "metadata": {},
     "output_type": "execute_result"
    }
   ],
   "source": [
    "# meyveler[\"elma\"] = meyveler[\"elma\"] + 1\n",
    "meyveler[\"elma\"] += 1\n",
    "meyveler[\"armut\"] += 1\n",
    "meyveler"
   ]
  },
  {
   "cell_type": "code",
   "execution_count": 28,
   "id": "4084a266",
   "metadata": {},
   "outputs": [
    {
     "data": {
      "text/plain": [
       "{'elma': 4, 'armut': 1, 'kivi': 5}"
      ]
     },
     "execution_count": 28,
     "metadata": {},
     "output_type": "execute_result"
    }
   ],
   "source": [
    "meyveler[\"kivi\"] = 5\n",
    "meyveler"
   ]
  },
  {
   "cell_type": "code",
   "execution_count": 29,
   "id": "1a6fd4ad",
   "metadata": {},
   "outputs": [
    {
     "data": {
      "text/plain": [
       "{'elma': 9, 'armut': 1, 'kivi': 5}"
      ]
     },
     "execution_count": 29,
     "metadata": {},
     "output_type": "execute_result"
    }
   ],
   "source": [
    "meyveler[\"elma\"] = 9\n",
    "meyveler"
   ]
  },
  {
   "cell_type": "code",
   "execution_count": 100,
   "id": "04e4b5aa",
   "metadata": {},
   "outputs": [
    {
     "data": {
      "text/plain": [
       "{'cisim1': 'mouse klavye', 'cisim2': 'havlu'}"
      ]
     },
     "execution_count": 100,
     "metadata": {},
     "output_type": "execute_result"
    }
   ],
   "source": [
    "cisimler = {\"cisim1\" : \"mouse\", \"cisim2\" : \"havlu\"}\n",
    "cisimler[\"cisim1\"] += \" klavye\"\n",
    "cisimler"
   ]
  },
  {
   "cell_type": "code",
   "execution_count": 35,
   "id": "31f345b2",
   "metadata": {},
   "outputs": [
    {
     "name": "stdout",
     "output_type": "stream",
     "text": [
      "dict_items([('name1', 'joseph'), ('name2', 'Bella'), ('name3', 'Aisha')])\n",
      "dict_keys(['name1', 'name2', 'name3'])\n",
      "dict_values(['joseph', 'Bella', 'Aisha'])\n"
     ]
    }
   ],
   "source": [
    "family = {\"name1\" : \"joseph\",\n",
    "          \"name2\" : \"Bella\",\n",
    "          \"name3\" : \"Aisha\"}\n",
    "print(family.items())\n",
    "print(family.keys())\n",
    "print(family.values())\n"
   ]
  },
  {
   "cell_type": "code",
   "execution_count": 36,
   "id": "adcca9ce",
   "metadata": {},
   "outputs": [
    {
     "name": "stdout",
     "output_type": "stream",
     "text": [
      "dict_items([('animal', 'dog'), ('planet', 'neptun'), ('number', 40), ('pi', 3.14), ('is_good', True)])\n",
      "dict_keys(['animal', 'planet', 'number', 'pi', 'is_good'])\n",
      "dict_values(['dog', 'neptun', 40, 3.14, True])\n"
     ]
    }
   ],
   "source": [
    "family = {\"animal\" : \"dog\",\n",
    "          \"planet\" : \"neptun\",\n",
    "          \"number\" : 40,\n",
    "          \"pi\" : 3.14,\n",
    "          \"is_good\" : True}\n",
    "print(family.items())\n",
    "print(family.keys())\n",
    "print(family.values())"
   ]
  },
  {
   "cell_type": "code",
   "execution_count": 37,
   "id": "52e69f21",
   "metadata": {},
   "outputs": [
    {
     "data": {
      "text/plain": [
       "[('animal', 'dog'),\n",
       " ('planet', 'Neptun'),\n",
       " ('number', 40),\n",
       " ('pi', 3.14),\n",
       " ('is_good', True)]"
      ]
     },
     "execution_count": 37,
     "metadata": {},
     "output_type": "execute_result"
    }
   ],
   "source": [
    "dict_by_dict = {'animal':'dog',\n",
    "\t\t\t'planet': 'Neptun',\n",
    "\t\t\t'number': 40,\n",
    "\t\t\t'pi':3.14,\n",
    "\t\t\t'is_good': True}\n",
    "list(dict_by_dict.items())"
   ]
  },
  {
   "cell_type": "code",
   "execution_count": 38,
   "id": "0ad888b7",
   "metadata": {},
   "outputs": [
    {
     "data": {
      "text/plain": [
       "['dog', 'Neptun', 40, 3.14, True]"
      ]
     },
     "execution_count": 38,
     "metadata": {},
     "output_type": "execute_result"
    }
   ],
   "source": [
    "list(dict_by_dict.values())"
   ]
  },
  {
   "cell_type": "code",
   "execution_count": 39,
   "id": "2d2e0dda",
   "metadata": {},
   "outputs": [
    {
     "name": "stdout",
     "output_type": "stream",
     "text": [
      "dict_items([('name1', 'joseph'), ('name2', 'Bella'), ('name3', 'Aisha')])\n",
      "dict_keys(['name1', 'name2', 'name3'])\n",
      "dict_values(['joseph', 'Bella', 'Aisha'])\n"
     ]
    }
   ],
   "source": [
    "family = {\"name1\" : \"joseph\",\n",
    "          \"name2\" : \"Bella\",\n",
    "          \"name3\" : \"Aisha\"}\n",
    "print(family.items())\n",
    "print(family.keys())\n",
    "print(family.values())"
   ]
  },
  {
   "cell_type": "code",
   "execution_count": 40,
   "id": "3eb657b0",
   "metadata": {},
   "outputs": [
    {
     "data": {
      "text/plain": [
       "{'animal': 'dog',\n",
       " 'planet': 'Neptun',\n",
       " 'number': 40,\n",
       " 'pi': 3.14,\n",
       " 'is_good': True,\n",
       " 'is_bad': False,\n",
       " 3: 'uc'}"
      ]
     },
     "execution_count": 40,
     "metadata": {},
     "output_type": "execute_result"
    }
   ],
   "source": [
    "dict_by_dict = {'animal':'dog',\n",
    "\t\t\t'planet': 'Neptun',\n",
    "\t\t\t'number': 40,\n",
    "\t\t\t'pi':3.14,\n",
    "\t\t\t'is_good': True}\n",
    "dict_by_dict.update({\"is_bad\" : False, 3 : \"uc\"})\n",
    "dict_by_dict"
   ]
  },
  {
   "cell_type": "code",
   "execution_count": 41,
   "id": "1c30853c",
   "metadata": {},
   "outputs": [
    {
     "data": {
      "text/plain": [
       "{'name1': 'joseph', 'name2': 'Bella', 'name3': 'Aisha', 'name5': 'Alfred'}"
      ]
     },
     "execution_count": 41,
     "metadata": {},
     "output_type": "execute_result"
    }
   ],
   "source": [
    "family = {\"name1\" : \"joseph\",\n",
    "          \"name2\" : \"Bella\",\n",
    "          \"name3\" : \"Aisha\"}\n",
    "family.update({\"name5\" : \"Alfred\"})\n",
    "family"
   ]
  },
  {
   "cell_type": "code",
   "execution_count": 42,
   "id": "15262eff",
   "metadata": {},
   "outputs": [
    {
     "data": {
      "text/plain": [
       "{'planet': 'Neptun', 'number': 40, 'pi': 3.14, 'is_good': True}"
      ]
     },
     "execution_count": 42,
     "metadata": {},
     "output_type": "execute_result"
    }
   ],
   "source": [
    "dict_by_dict = {'animal':'dog',\n",
    "\t\t\t'planet': 'Neptun',\n",
    "\t\t\t'number': 40,\n",
    "\t\t\t'pi':3.14,\n",
    "\t\t\t'is_good': True}\n",
    "del dict_by_dict[\"animal\"]\n",
    "dict_by_dict"
   ]
  },
  {
   "cell_type": "code",
   "execution_count": 47,
   "id": "735c1342",
   "metadata": {},
   "outputs": [
    {
     "name": "stdout",
     "output_type": "stream",
     "text": [
      "{'name1': 'Halit'}\n"
     ]
    }
   ],
   "source": [
    "family = {\"name1\" : \"Halit\",\n",
    "          \"name2\" : \"Fatma\",\n",
    "          \"name3\" : \"Altan\",\n",
    "          \"name4\" : \"Hafsa\"}\n",
    "del family[\"name2\"], family[\"name4\"], family[\"name3\"]\n",
    "print(family)"
   ]
  },
  {
   "cell_type": "code",
   "execution_count": 49,
   "id": "8fa0f00b",
   "metadata": {},
   "outputs": [
    {
     "data": {
      "text/plain": [
       "True"
      ]
     },
     "execution_count": 49,
     "metadata": {},
     "output_type": "execute_result"
    }
   ],
   "source": [
    "clarusway = [\"ali\", \"veli\", \"deli\"]\n",
    "\"zeka kupu\" in clarusway\n",
    "\"deli\" in clarusway"
   ]
  },
  {
   "cell_type": "code",
   "execution_count": 50,
   "id": "aff830d6",
   "metadata": {},
   "outputs": [
    {
     "data": {
      "text/plain": [
       "False"
      ]
     },
     "execution_count": 50,
     "metadata": {},
     "output_type": "execute_result"
    }
   ],
   "source": [
    "dict_by_dict = {'animal':'dog',\n",
    "\t\t\t'planet': 'Neptun',\n",
    "\t\t\t'number': 40,\n",
    "\t\t\t'pi':3.14,\n",
    "\t\t\t'is_good': True}\n",
    "\"dog\" in dict_by_dict # in sadece keylerin arasinda ariyor, valuelerde degil"
   ]
  },
  {
   "cell_type": "code",
   "execution_count": 51,
   "id": "5fc11cd1",
   "metadata": {},
   "outputs": [
    {
     "data": {
      "text/plain": [
       "True"
      ]
     },
     "execution_count": 51,
     "metadata": {},
     "output_type": "execute_result"
    }
   ],
   "source": [
    "\"dog\" in dict_by_dict.values() # values lerin arasinda aramak icin boyle yapiyoruz"
   ]
  },
  {
   "cell_type": "code",
   "execution_count": 52,
   "id": "88e84d31",
   "metadata": {},
   "outputs": [
    {
     "data": {
      "text/plain": [
       "True"
      ]
     },
     "execution_count": 52,
     "metadata": {},
     "output_type": "execute_result"
    }
   ],
   "source": [
    "\"dog\" not in dict_by_dict "
   ]
  },
  {
   "cell_type": "code",
   "execution_count": null,
   "id": "35b196eb",
   "metadata": {},
   "outputs": [],
   "source": [
    "# ancak bir value dictionary olabilir keyler uzerinden gitmiyoruz"
   ]
  },
  {
   "cell_type": "code",
   "execution_count": 56,
   "id": "1699caa1",
   "metadata": {},
   "outputs": [
    {
     "data": {
      "text/plain": [
       "2"
      ]
     },
     "execution_count": 56,
     "metadata": {},
     "output_type": "execute_result"
    }
   ],
   "source": [
    "school_records={\n",
    "\t'personal_info':\n",
    "\t\t{'kid':{'tom':{'class':'intermediate', 'age':10},\n",
    "\t\t\t'sue':{'class':'elemantary', 'age':8}\n",
    "\t\t\t},\n",
    "\t\t'teen':{'joseph':{'class':'college', 'age':19},\n",
    "\t\t\t'marry':{'class':'high school', 'age':16}\n",
    "\t\t\t},\n",
    "\t\t},\n",
    "\t'grades_info':\n",
    "\t\t{'kid':{'tom':{'math':88, 'speech':69},\n",
    "\t\t\t'sue':{'math':90, 'speech':81}\n",
    "\t\t\t},\n",
    "\t\t'teen':{'joseph':{'coding':80, 'math':89},\n",
    "\t\t\t'marry':{'coding':70, 'math':96}\n",
    "\t\t\t},\n",
    "\t\t}\n",
    "}\n",
    "len(school_records)"
   ]
  },
  {
   "cell_type": "code",
   "execution_count": 101,
   "id": "37af7f2f",
   "metadata": {},
   "outputs": [
    {
     "data": {
      "text/plain": [
       "{'kid': {'tom': {'class': 'intermediate', 'age': 10},\n",
       "  'sue': {'class': 'elemantary', 'age': 8}},\n",
       " 'teen': {'joseph': {'class': 'college', 'age': 19},\n",
       "  'marry': {'class': 'high school', 'age': 16}}}"
      ]
     },
     "execution_count": 101,
     "metadata": {},
     "output_type": "execute_result"
    }
   ],
   "source": [
    "school_records[\"personal_info\"]"
   ]
  },
  {
   "cell_type": "code",
   "execution_count": 103,
   "id": "3b04e458",
   "metadata": {},
   "outputs": [
    {
     "data": {
      "text/plain": [
       "dict_keys(['kid', 'teen'])"
      ]
     },
     "execution_count": 103,
     "metadata": {},
     "output_type": "execute_result"
    }
   ],
   "source": [
    "school_records[\"personal_info\"].keys()"
   ]
  },
  {
   "cell_type": "code",
   "execution_count": 104,
   "id": "6aaabe07",
   "metadata": {},
   "outputs": [
    {
     "data": {
      "text/plain": [
       "{'joseph': {'class': 'college', 'age': 19},\n",
       " 'marry': {'class': 'high school', 'age': 16}}"
      ]
     },
     "execution_count": 104,
     "metadata": {},
     "output_type": "execute_result"
    }
   ],
   "source": [
    "school_records[\"personal_info\"][\"teen\"]"
   ]
  },
  {
   "cell_type": "code",
   "execution_count": 105,
   "id": "9ddfe784",
   "metadata": {},
   "outputs": [
    {
     "data": {
      "text/plain": [
       "{'class': 'high school', 'age': 16}"
      ]
     },
     "execution_count": 105,
     "metadata": {},
     "output_type": "execute_result"
    }
   ],
   "source": [
    "school_records[\"personal_info\"][\"teen\"][\"marry\"]"
   ]
  },
  {
   "cell_type": "code",
   "execution_count": 106,
   "id": "fd5ffa96",
   "metadata": {},
   "outputs": [
    {
     "data": {
      "text/plain": [
       "dict_keys(['class', 'age'])"
      ]
     },
     "execution_count": 106,
     "metadata": {},
     "output_type": "execute_result"
    }
   ],
   "source": [
    "school_records[\"personal_info\"][\"teen\"][\"marry\"].keys()"
   ]
  },
  {
   "cell_type": "code",
   "execution_count": 60,
   "id": "26014326",
   "metadata": {},
   "outputs": [
    {
     "data": {
      "text/plain": [
       "16"
      ]
     },
     "execution_count": 60,
     "metadata": {},
     "output_type": "execute_result"
    }
   ],
   "source": [
    "school_records[\"personal_info\"][\"teen\"][\"marry\"][\"age\"]"
   ]
  },
  {
   "cell_type": "code",
   "execution_count": 65,
   "id": "daeeb728",
   "metadata": {},
   "outputs": [
    {
     "name": "stdout",
     "output_type": "stream",
     "text": [
      "[('coding', 80), ('math', 89)]\n",
      "{'coding': 80, 'math': 89}\n"
     ]
    }
   ],
   "source": [
    "print(list(school_records[\"grades_info\"][\"teen\"][\"joseph\"].items()))\n",
    "print(school_records[\"grades_info\"][\"teen\"][\"joseph\"])\n"
   ]
  },
  {
   "cell_type": "code",
   "execution_count": 69,
   "id": "63cbed82",
   "metadata": {},
   "outputs": [
    {
     "data": {
      "text/plain": [
       "1225.0430000000001"
      ]
     },
     "execution_count": 69,
     "metadata": {},
     "output_type": "execute_result"
    }
   ],
   "source": [
    "para = 1000\n",
    "para = para + para * 0.07 #pazartesi\n",
    "para = para + para * 0.07 #sali\n",
    "para = para + para * 0.07 #carsamba\n",
    "para"
   ]
  },
  {
   "cell_type": "code",
   "execution_count": 71,
   "id": "fd2681de",
   "metadata": {},
   "outputs": [
    {
     "data": {
      "text/plain": [
       "1605.7814764784307"
      ]
     },
     "execution_count": 71,
     "metadata": {},
     "output_type": "execute_result"
    }
   ],
   "source": [
    "para =1000\n",
    "para = para * (1.07 ** 7) \n",
    "para"
   ]
  },
  {
   "cell_type": "code",
   "execution_count": 139,
   "id": "ead1a3a3",
   "metadata": {},
   "outputs": [
    {
     "name": "stdout",
     "output_type": "stream",
     "text": [
      "<class 'list'>\n",
      "ignemiz 6 numarali indextedir.\n"
     ]
    }
   ],
   "source": [
    "samanlik = [\"yumurta\", \"saman\", \"inek\", \"tavuk\", \"yaba\", \"esarp\", \"igne\"]\n",
    "print(type(samanlik))\n",
    "print(f\"ignemiz {samanlik.index('igne')} numarali indextedir.\")"
   ]
  },
  {
   "cell_type": "code",
   "execution_count": null,
   "id": "ea95c812",
   "metadata": {},
   "outputs": [],
   "source": []
  },
  {
   "cell_type": "code",
   "execution_count": null,
   "id": "8d67acd7",
   "metadata": {},
   "outputs": [],
   "source": []
  },
  {
   "cell_type": "code",
   "execution_count": null,
   "id": "13615046",
   "metadata": {},
   "outputs": [],
   "source": []
  },
  {
   "cell_type": "code",
   "execution_count": null,
   "id": "d1a40794",
   "metadata": {},
   "outputs": [],
   "source": []
  }
 ],
 "metadata": {
  "kernelspec": {
   "display_name": "Python 3",
   "language": "python",
   "name": "python3"
  },
  "language_info": {
   "codemirror_mode": {
    "name": "ipython",
    "version": 3
   },
   "file_extension": ".py",
   "mimetype": "text/x-python",
   "name": "python",
   "nbconvert_exporter": "python",
   "pygments_lexer": "ipython3",
   "version": "3.8.8"
  }
 },
 "nbformat": 4,
 "nbformat_minor": 5
}
