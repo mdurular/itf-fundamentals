{
 "cells": [
  {
   "cell_type": "code",
   "execution_count": 14,
   "id": "01c6b1c7",
   "metadata": {},
   "outputs": [
    {
     "data": {
      "text/plain": [
       "[1, 2, 3, 5, 8, 13, 21, 34, 55]"
      ]
     },
     "execution_count": 14,
     "metadata": {},
     "output_type": "execute_result"
    }
   ],
   "source": [
    "def fib(n):    # write Fibonacci series up to n\n",
    "    \"\"\"Print a Fibonacci series up to n.\"\"\"\n",
    "    \"\"\"Return a list containing the Fibonacci series up to n.\"\"\"\n",
    "    result = []\n",
    "    a, b = 1, 2\n",
    "    while a < n:\n",
    "        result.append(a)\n",
    "        a, b = b, a+b\n",
    "    return result\n",
    "    \n",
    "    # Now call the function we just defined:\n",
    "fib(56)"
   ]
  },
  {
   "cell_type": "code",
   "execution_count": null,
   "id": "28928e9a",
   "metadata": {},
   "outputs": [],
   "source": [
    "def fib(n):    # write Fibonacci series up to n\n",
    "                \"\"\"Print a Fibonacci series up to n.\"\"\"\n",
    "        \"\"\"Return a list containing the Fibonacci series up to n.\"\"\"\n",
    "    result = []\n",
    "    a, b = 0, 1\n",
    "    while a < n:\n",
    "        print(a, end=',')\n",
    "        a, b = b, a+b\n",
    "    print()\n",
    "    \n",
    "    # Now call the function we just defined:\n",
    "fib(2000)"
   ]
  },
  {
   "cell_type": "code",
   "execution_count": 15,
   "id": "35bb92c7",
   "metadata": {},
   "outputs": [
    {
     "name": "stdout",
     "output_type": "stream",
     "text": [
      "125\n"
     ]
    }
   ],
   "source": [
    "def modular_function(n):\n",
    "    return lambda x: x ** n\n",
    "\n",
    "power_of_3 = modular_function(3)\n",
    "print(power_of_3(5))"
   ]
  },
  {
   "cell_type": "code",
   "execution_count": 16,
   "id": "67021eec",
   "metadata": {},
   "outputs": [
    {
     "name": "stdout",
     "output_type": "stream",
     "text": [
      "125\n"
     ]
    }
   ],
   "source": [
    "print((lambda x: x**3)(5))"
   ]
  },
  {
   "cell_type": "code",
   "execution_count": 17,
   "id": "1bde6ffb",
   "metadata": {},
   "outputs": [
    {
     "name": "stdout",
     "output_type": "stream",
     "text": [
      "9.0\n"
     ]
    }
   ],
   "source": [
    "mean = lambda x, y: (x+y)/2\n",
    "print(mean(8, 10))"
   ]
  },
  {
   "cell_type": "code",
   "execution_count": 18,
   "id": "15a70820",
   "metadata": {},
   "outputs": [
    {
     "name": "stdout",
     "output_type": "stream",
     "text": [
      "45\n"
     ]
    }
   ],
   "source": [
    "multiply = lambda x: x * 4\n",
    "add = lambda x, y: x + y\n",
    "print(add(multiply(10), 5))"
   ]
  },
  {
   "cell_type": "code",
   "execution_count": 19,
   "id": "6cbbb567",
   "metadata": {},
   "outputs": [
    {
     "name": "stdout",
     "output_type": "stream",
     "text": [
      "[1, 8, 27, 64]\n"
     ]
    }
   ],
   "source": [
    "number_list = [1, 2, 3, 4]\n",
    "result = map(lambda x:x**3, number_list)\n",
    "print(list(result)) "
   ]
  },
  {
   "cell_type": "code",
   "execution_count": 20,
   "id": "fbecab24",
   "metadata": {},
   "outputs": [
    {
     "name": "stdout",
     "output_type": "stream",
     "text": [
      "[0, 3, 6, 9, 12]\n"
     ]
    }
   ],
   "source": [
    "number_list = [0, 1, 2, 3, 4, 5, 6, 7, 8, 9, 10, 11, 12] \n",
    "divisible_list = filter(lambda x:x%3==0, number_list) \n",
    "print(list(divisible_list))"
   ]
  },
  {
   "cell_type": "code",
   "execution_count": 22,
   "id": "af84c322",
   "metadata": {},
   "outputs": [],
   "source": [
    "def brothers(bro1, bro2, bro3):\n",
    "    print('Here are the names of brothers :')\n",
    "    print(bro1, bro2, bro3, sep='\\n')"
   ]
  },
  {
   "cell_type": "code",
   "execution_count": 23,
   "id": "7453d18c",
   "metadata": {},
   "outputs": [
    {
     "name": "stdout",
     "output_type": "stream",
     "text": [
      "Here are the names of brothers :\n",
      "Tom\n",
      "Sue\n",
      "Tim\n"
     ]
    }
   ],
   "source": [
    "brothers(\"Tom\", \"Sue\", \"Tim\")"
   ]
  },
  {
   "cell_type": "code",
   "execution_count": 25,
   "id": "3cea3357",
   "metadata": {},
   "outputs": [],
   "source": [
    "bros=[\"Tom\", \"Sue\", \"Tim\"]"
   ]
  },
  {
   "cell_type": "code",
   "execution_count": 26,
   "id": "e62c44b1",
   "metadata": {},
   "outputs": [
    {
     "name": "stdout",
     "output_type": "stream",
     "text": [
      "Here are the names of brothers :\n",
      "Tom\n",
      "Sue\n",
      "Tim\n"
     ]
    }
   ],
   "source": [
    "brothers(*bros)"
   ]
  },
  {
   "cell_type": "code",
   "execution_count": 27,
   "id": "6507ae8f",
   "metadata": {},
   "outputs": [],
   "source": [
    "def mantik(kelime):\n",
    "    return kelime.upper()"
   ]
  },
  {
   "cell_type": "code",
   "execution_count": 28,
   "id": "62134365",
   "metadata": {},
   "outputs": [
    {
     "data": {
      "text/plain": [
       "'ODUNUM'"
      ]
     },
     "execution_count": 28,
     "metadata": {},
     "output_type": "execute_result"
    }
   ],
   "source": [
    "mantik(\"odunum\")"
   ]
  },
  {
   "cell_type": "code",
   "execution_count": 29,
   "id": "b2a07c4a",
   "metadata": {},
   "outputs": [
    {
     "name": "stdout",
     "output_type": "stream",
     "text": [
      "ODUNUM\n"
     ]
    }
   ],
   "source": [
    "print(mantik(\"odunum\"))"
   ]
  },
  {
   "cell_type": "code",
   "execution_count": 30,
   "id": "b227ee07",
   "metadata": {},
   "outputs": [
    {
     "data": {
      "text/plain": [
       "'hucre'"
      ]
     },
     "execution_count": 30,
     "metadata": {},
     "output_type": "execute_result"
    }
   ],
   "source": [
    "\"hucre\""
   ]
  },
  {
   "cell_type": "code",
   "execution_count": 34,
   "id": "a315b5fa",
   "metadata": {},
   "outputs": [],
   "source": [
    "cumle = \"Bazen ODUN olmak istemisimdir\""
   ]
  },
  {
   "cell_type": "code",
   "execution_count": 44,
   "id": "c65cd38a",
   "metadata": {},
   "outputs": [],
   "source": [
    "def voweler(cümle):\n",
    "    vowel = [\"a\",\"e\",\"ı\", \"i\",\"o\",\"ö\",\"u\",\"ü\"]\n",
    "    if letter.lower() in vowel:\n",
    "        return True\n",
    "    else:\n",
    "        return False"
   ]
  },
  {
   "cell_type": "code",
   "execution_count": 43,
   "id": "122dfa43",
   "metadata": {},
   "outputs": [
    {
     "ename": "NameError",
     "evalue": "name 'letter' is not defined",
     "output_type": "error",
     "traceback": [
      "\u001b[1;31m---------------------------------------------------------------------------\u001b[0m",
      "\u001b[1;31mNameError\u001b[0m                                 Traceback (most recent call last)",
      "\u001b[1;32m<ipython-input-43-73b4636794ef>\u001b[0m in \u001b[0;36m<module>\u001b[1;34m\u001b[0m\n\u001b[0;32m      1\u001b[0m \u001b[0mfiltered_vowel\u001b[0m \u001b[1;33m=\u001b[0m \u001b[0mfilter\u001b[0m\u001b[1;33m(\u001b[0m\u001b[0mvoweler\u001b[0m\u001b[1;33m,\u001b[0m \u001b[0mcumle\u001b[0m\u001b[1;33m)\u001b[0m\u001b[1;33m\u001b[0m\u001b[1;33m\u001b[0m\u001b[0m\n\u001b[1;32m----> 2\u001b[1;33m \u001b[0mlist\u001b[0m\u001b[1;33m(\u001b[0m\u001b[0mfiltered_vowel\u001b[0m\u001b[1;33m)\u001b[0m\u001b[1;33m\u001b[0m\u001b[1;33m\u001b[0m\u001b[0m\n\u001b[0m",
      "\u001b[1;32m<ipython-input-42-a0af9fec97b5>\u001b[0m in \u001b[0;36mvoweler\u001b[1;34m(cümle)\u001b[0m\n\u001b[0;32m      1\u001b[0m \u001b[1;32mdef\u001b[0m \u001b[0mvoweler\u001b[0m\u001b[1;33m(\u001b[0m\u001b[0mcümle\u001b[0m\u001b[1;33m)\u001b[0m\u001b[1;33m:\u001b[0m\u001b[1;33m\u001b[0m\u001b[1;33m\u001b[0m\u001b[0m\n\u001b[0;32m      2\u001b[0m     \u001b[0mvowel\u001b[0m \u001b[1;33m=\u001b[0m \u001b[1;33m[\u001b[0m\u001b[1;34m\"a\"\u001b[0m\u001b[1;33m,\u001b[0m\u001b[1;34m\"e\"\u001b[0m\u001b[1;33m,\u001b[0m\u001b[1;34m\"ı\"\u001b[0m\u001b[1;33m,\u001b[0m \u001b[1;34m\"i\"\u001b[0m\u001b[1;33m,\u001b[0m\u001b[1;34m\"o\"\u001b[0m\u001b[1;33m,\u001b[0m\u001b[1;34m\"ö\"\u001b[0m\u001b[1;33m,\u001b[0m\u001b[1;34m\"u\"\u001b[0m\u001b[1;33m,\u001b[0m\u001b[1;34m\"ü\"\u001b[0m\u001b[1;33m]\u001b[0m\u001b[1;33m\u001b[0m\u001b[1;33m\u001b[0m\u001b[0m\n\u001b[1;32m----> 3\u001b[1;33m     \u001b[1;32mif\u001b[0m \u001b[0mletter\u001b[0m\u001b[1;33m.\u001b[0m\u001b[0mlower\u001b[0m\u001b[1;33m(\u001b[0m\u001b[1;33m)\u001b[0m \u001b[1;32min\u001b[0m \u001b[0mvowel\u001b[0m\u001b[1;33m:\u001b[0m\u001b[1;33m\u001b[0m\u001b[1;33m\u001b[0m\u001b[0m\n\u001b[0m\u001b[0;32m      4\u001b[0m         \u001b[1;32mreturn\u001b[0m \u001b[1;32mTrue\u001b[0m\u001b[1;33m\u001b[0m\u001b[1;33m\u001b[0m\u001b[0m\n\u001b[0;32m      5\u001b[0m     \u001b[1;32melse\u001b[0m\u001b[1;33m:\u001b[0m\u001b[1;33m\u001b[0m\u001b[1;33m\u001b[0m\u001b[0m\n",
      "\u001b[1;31mNameError\u001b[0m: name 'letter' is not defined"
     ]
    }
   ],
   "source": [
    "filtered_vowel = filter(voweler, cumle)\n",
    "list(filtered_vowel)"
   ]
  },
  {
   "cell_type": "code",
   "execution_count": null,
   "id": "9f5b9f2f",
   "metadata": {},
   "outputs": [],
   "source": [
    "def merger(a,b,c,d):\n",
    "    return"
   ]
  },
  {
   "cell_type": "code",
   "execution_count": 45,
   "id": "6ab3d829",
   "metadata": {},
   "outputs": [
    {
     "data": {
      "text/plain": [
       "'For me Bill Gates and Guido van Rossum are geniuses.'"
      ]
     },
     "execution_count": 45,
     "metadata": {},
     "output_type": "execute_result"
    }
   ],
   "source": [
    "genius=('Bill','Rossum','Guido van','Gates')\n",
    "def merger(a,b,c,d):\n",
    "    return f'For me {a} {d} and {c} {b} are geniuses.'\n",
    "merger(*genius)"
   ]
  },
  {
   "cell_type": "code",
   "execution_count": 46,
   "id": "1e26ce99",
   "metadata": {},
   "outputs": [
    {
     "name": "stdout",
     "output_type": "stream",
     "text": [
      "Fred belongs to Generation X\n",
      "Marry belongs to Generation Y\n"
     ]
    }
   ],
   "source": [
    "def gene(x, y):\n",
    "    print(x, \"belongs to Generation X\")\n",
    "    print(y, \"belongs to Generation Y\")\n",
    "    \n",
    "dict_gene = {\"y\" : \"Marry\", \"x\" : \"Fred\"}\n",
    "gene(**dict_gene)"
   ]
  },
  {
   "cell_type": "code",
   "execution_count": 48,
   "id": "99eed3a3",
   "metadata": {},
   "outputs": [],
   "source": [
    "def onceki(**parametre):\n",
    "    for x, y in parametre.items():\n",
    "        print(x, y)"
   ]
  },
  {
   "cell_type": "code",
   "execution_count": 49,
   "id": "2f8b3c52",
   "metadata": {},
   "outputs": [
    {
     "name": "stdout",
     "output_type": "stream",
     "text": [
      "a ahmet\n",
      "b mehmet\n",
      "c selamet\n"
     ]
    }
   ],
   "source": [
    "onceki(a=\"ahmet\", b= \"mehmet\", c= \"selamet\")"
   ]
  },
  {
   "cell_type": "code",
   "execution_count": 50,
   "id": "3129d90c",
   "metadata": {},
   "outputs": [
    {
     "name": "stdout",
     "output_type": "stream",
     "text": [
      "Fred belongs to Generation X\n",
      "Marry belongs to Generation Y\n"
     ]
    }
   ],
   "source": [
    "def gene(x = \"Solomon\" , y = \"David\"):\n",
    "    print(x, \"belongs to Generation X\")\n",
    "    print(y, \"belongs to Generation Y\")\n",
    "    \n",
    "dict_gene = {\"y\" : \"Marry\", \"x\" : \"Fred\"}\n",
    "gene(**dict_gene)"
   ]
  },
  {
   "cell_type": "code",
   "execution_count": 53,
   "id": "d7b7c811",
   "metadata": {},
   "outputs": [
    {
     "name": "stdout",
     "output_type": "stream",
     "text": [
      "Solomon belongs to Generation X\n",
      "David belongs to Generation Y\n"
     ]
    }
   ],
   "source": [
    "gene()"
   ]
  },
  {
   "cell_type": "code",
   "execution_count": 54,
   "id": "4d2fec51",
   "metadata": {},
   "outputs": [
    {
     "name": "stdout",
     "output_type": "stream",
     "text": [
      "Fred belongs to Generation X\n",
      "Marry belongs to Generation Y\n"
     ]
    }
   ],
   "source": [
    "def gene(x, y):\n",
    "    print(x, \"belongs to Generation X\")\n",
    "    print(y, \"belongs to Generation Y\")\n",
    "    \n",
    "gene(**dict_gene)"
   ]
  },
  {
   "cell_type": "code",
   "execution_count": 55,
   "id": "5830cdf5",
   "metadata": {},
   "outputs": [
    {
     "data": {
      "text/plain": [
       "{'y': 'Marry', 'x': 'Fred'}"
      ]
     },
     "execution_count": 55,
     "metadata": {},
     "output_type": "execute_result"
    }
   ],
   "source": [
    "dict_gene"
   ]
  },
  {
   "cell_type": "code",
   "execution_count": null,
   "id": "4f09f74b",
   "metadata": {},
   "outputs": [],
   "source": [
    "#fonksiyona göndereceğimiz argüman item'lar halinde ise \n",
    "#başına ** koyarak gönderiyoruz"
   ]
  },
  {
   "cell_type": "code",
   "execution_count": 70,
   "id": "ac44b502",
   "metadata": {},
   "outputs": [
    {
     "ename": "SyntaxError",
     "evalue": "invalid syntax (<ipython-input-70-bc98dd8ef668>, line 2)",
     "output_type": "error",
     "traceback": [
      "\u001b[1;36m  File \u001b[1;32m\"<ipython-input-70-bc98dd8ef668>\"\u001b[1;36m, line \u001b[1;32m2\u001b[0m\n\u001b[1;33m    \"groom\": [\"Jack\", \"Robert\",  \"Eric\", \"Adam\"]}\u001b[0m\n\u001b[1;37m    ^\u001b[0m\n\u001b[1;31mSyntaxError\u001b[0m\u001b[1;31m:\u001b[0m invalid syntax\n"
     ]
    }
   ],
   "source": [
    "dict_couple = {\"bride\": [\"Mary\", \"Bella\", \"Linda\", \"Emma\"]\n",
    "               \"groom\": [\"Jack\", \"Robert\",  \"Eric\", \"Adam\"]}"
   ]
  },
  {
   "cell_type": "code",
   "execution_count": 76,
   "id": "f61806f2",
   "metadata": {},
   "outputs": [],
   "source": [
    "dict_couple = {\"bride\": [\"Mary\", \"Bella\", \"Linda\", \"Emma\"],\n",
    "              \"groom\": [\"Jack\", \"Robert\",  \"Eric\", \"Adam\"]}\n",
    "def muruvvet(bride, groom):\n",
    "    couple_list = []\n",
    "    for x in zip(bride,groom):\n",
    "        couple_list.append(x)\n",
    "    return couple_list"
   ]
  },
  {
   "cell_type": "code",
   "execution_count": 77,
   "id": "a139af13",
   "metadata": {},
   "outputs": [
    {
     "data": {
      "text/plain": [
       "[('Mary', 'Jack'), ('Bella', 'Robert'), ('Linda', 'Eric'), ('Emma', 'Adam')]"
      ]
     },
     "execution_count": 77,
     "metadata": {},
     "output_type": "execute_result"
    }
   ],
   "source": [
    "muruvvet(**dict_couple)"
   ]
  },
  {
   "cell_type": "code",
   "execution_count": null,
   "id": "9d24773a",
   "metadata": {},
   "outputs": [],
   "source": [
    "def muruvvet_2(bride, groom):\n",
    "    return[x for in zip]"
   ]
  },
  {
   "cell_type": "code",
   "execution_count": 90,
   "id": "b80e30ae",
   "metadata": {},
   "outputs": [],
   "source": [
    "friends = {\"ali\" : 33, \"veli\" : 44, \"deli\" : 75, \"fatma1\" : 35, \"fatma2\" : 18}"
   ]
  },
  {
   "cell_type": "code",
   "execution_count": 91,
   "id": "4c040f3d",
   "metadata": {},
   "outputs": [
    {
     "data": {
      "text/plain": [
       "('The average ages is : ', 41.0)"
      ]
     },
     "execution_count": 91,
     "metadata": {},
     "output_type": "execute_result"
    }
   ],
   "source": [
    "def meaner(ali, veli, deli, fatma1, fatma2):\n",
    "    avg = (ali + veli + deli + fatma1 + fatma2)/5\n",
    "    \n",
    "    return \"The average ages is : \", avg \n",
    "meaner(**friends)"
   ]
  },
  {
   "cell_type": "code",
   "execution_count": 92,
   "id": "952667f2",
   "metadata": {},
   "outputs": [
    {
     "name": "stdout",
     "output_type": "stream",
     "text": [
      "The average of their ages is :  41.0\n"
     ]
    }
   ],
   "source": [
    "def meaner(ali, veli, deli, fatma1, fatma2):\n",
    "    avg = (ali + veli + deli + fatma1 + fatma2)/5\n",
    "    print(\"The average of their ages is : \", avg)\n",
    "meaner(**friends)    "
   ]
  },
  {
   "cell_type": "code",
   "execution_count": null,
   "id": "776b2398",
   "metadata": {},
   "outputs": [],
   "source": [
    "def parantez(txt):\n",
    "    a = []\n",
    "    b = \"\"\n",
    "    for i in txt:\n",
    "        b += i\n",
    "        if b.count(\"(\") == b.count(\")\"):\n",
    "            a.append(b)\n",
    "            b = \"\"\n",
    "    return a\n",
    "split(\"((())())(()(()()))\")"
   ]
  },
  {
   "cell_type": "code",
   "execution_count": 93,
   "id": "9da37dd7",
   "metadata": {},
   "outputs": [],
   "source": [
    "x = \"[[{({})}]({}))\""
   ]
  },
  {
   "cell_type": "code",
   "execution_count": 98,
   "id": "9b6d0ad8",
   "metadata": {},
   "outputs": [
    {
     "data": {
      "text/plain": [
       "False"
      ]
     },
     "execution_count": 98,
     "metadata": {},
     "output_type": "execute_result"
    }
   ],
   "source": [
    "x = \"[[{({})}]({}))\"\n",
    "\n",
    "def isValid(s) :\n",
    "    while \"()\" in s or \"{}\" in s or \"[]\" in s :\n",
    "        s = s.replace(\"()\", \"\").replace(\"{}\", \"\").replace(\"[]\", \"\")\n",
    "    return s == \"\"\n",
    "\n",
    "isValid(x)"
   ]
  },
  {
   "cell_type": "markdown",
   "id": "7a7cbae9",
   "metadata": {},
   "source": [
    "This problem was asked by Google.\n",
    "Given a string of words delimited by spaces, reverse the words in string. \n",
    "For example, given \"hello world here\", return \"here world hello\""
   ]
  },
  {
   "cell_type": "code",
   "execution_count": null,
   "id": "296fd152",
   "metadata": {},
   "outputs": [],
   "source": [
    "def terscevir(text): \n",
    "    a = (text.split()[::-1])\n",
    "    return \" \".join(a)\n",
    "print(terscevir(\"hello world here\"))\n"
   ]
  },
  {
   "cell_type": "code",
   "execution_count": null,
   "id": "5c5530ce",
   "metadata": {},
   "outputs": [],
   "source": [
    "text = \"hello world here\"\n",
    "a = text.split()[::-1]\n",
    "b = \" \".join(a)\n",
    "b"
   ]
  },
  {
   "cell_type": "code",
   "execution_count": null,
   "id": "9da4fba1",
   "metadata": {},
   "outputs": [],
   "source": []
  },
  {
   "cell_type": "code",
   "execution_count": null,
   "id": "dd45422a",
   "metadata": {},
   "outputs": [],
   "source": []
  },
  {
   "cell_type": "code",
   "execution_count": null,
   "id": "a608990b",
   "metadata": {},
   "outputs": [],
   "source": []
  },
  {
   "cell_type": "code",
   "execution_count": null,
   "id": "f17be4ea",
   "metadata": {},
   "outputs": [],
   "source": []
  }
 ],
 "metadata": {
  "kernelspec": {
   "display_name": "Python 3",
   "language": "python",
   "name": "python3"
  },
  "language_info": {
   "codemirror_mode": {
    "name": "ipython",
    "version": 3
   },
   "file_extension": ".py",
   "mimetype": "text/x-python",
   "name": "python",
   "nbconvert_exporter": "python",
   "pygments_lexer": "ipython3",
   "version": "3.8.8"
  }
 },
 "nbformat": 4,
 "nbformat_minor": 5
}
