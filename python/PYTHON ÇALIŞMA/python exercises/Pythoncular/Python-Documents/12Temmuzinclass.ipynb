{
 "cells": [
  {
   "cell_type": "code",
   "execution_count": 2,
   "id": "7d66c7af",
   "metadata": {},
   "outputs": [
    {
     "name": "stdout",
     "output_type": "stream",
     "text": [
      "{'blue', 'red', 'pink'}\n"
     ]
    }
   ],
   "source": [
    "set_1 = {'red', 'blue', 'pink', 'red'}\n",
    "print(set_1)"
   ]
  },
  {
   "cell_type": "code",
   "execution_count": 3,
   "id": "ee092362",
   "metadata": {},
   "outputs": [
    {
     "ename": "SyntaxError",
     "evalue": "invalid syntax (<ipython-input-3-07491c52eade>, line 2)",
     "output_type": "error",
     "traceback": [
      "\u001b[1;36m  File \u001b[1;32m\"<ipython-input-3-07491c52eade>\"\u001b[1;36m, line \u001b[1;32m2\u001b[0m\n\u001b[1;33m    set_2 = set(colors)\u001b[0m\n\u001b[1;37m    ^\u001b[0m\n\u001b[1;31mSyntaxError\u001b[0m\u001b[1;31m:\u001b[0m invalid syntax\n"
     ]
    }
   ],
   "source": [
    "colors = {'red', 'blue', 'pink', 'red'\n",
    "set_2 = set(colors)\n",
    "set_2"
   ]
  },
  {
   "cell_type": "code",
   "execution_count": 9,
   "id": "782358cf",
   "metadata": {},
   "outputs": [
    {
     "name": "stdout",
     "output_type": "stream",
     "text": [
      "{'s', 'c', 'o', 'm', 'h', 'f', 'y', 'b', 'z', 'd', 'l', 'n', 'u', 'g', 'r', 'e', 'k', 'j', 'v', 'p', 'i', 't', 'a'}\n"
     ]
    }
   ],
   "source": [
    "letter = \"a b c d e f g h i j k l m n o p r s t u v y z\".split()\n",
    "# letter\n",
    "print(set(letter))"
   ]
  },
  {
   "cell_type": "code",
   "execution_count": 10,
   "id": "1a2cd4f7",
   "metadata": {},
   "outputs": [
    {
     "data": {
      "text/plain": [
       "2"
      ]
     },
     "execution_count": 10,
     "metadata": {},
     "output_type": "execute_result"
    }
   ],
   "source": [
    "test = {1, \"bir\", 1.0}\n",
    "len(test)"
   ]
  },
  {
   "cell_type": "code",
   "execution_count": 11,
   "id": "167bc058",
   "metadata": {},
   "outputs": [
    {
     "data": {
      "text/plain": [
       "True"
      ]
     },
     "execution_count": 11,
     "metadata": {},
     "output_type": "execute_result"
    }
   ],
   "source": [
    "1 == 1.0"
   ]
  },
  {
   "cell_type": "code",
   "execution_count": 12,
   "id": "d8647b47",
   "metadata": {},
   "outputs": [
    {
     "data": {
      "text/plain": [
       "dict"
      ]
     },
     "execution_count": 12,
     "metadata": {},
     "output_type": "execute_result"
    }
   ],
   "source": [
    "type({})"
   ]
  },
  {
   "cell_type": "code",
   "execution_count": 13,
   "id": "b945008b",
   "metadata": {},
   "outputs": [
    {
     "data": {
      "text/plain": [
       "set"
      ]
     },
     "execution_count": 13,
     "metadata": {},
     "output_type": "execute_result"
    }
   ],
   "source": [
    "type(set())"
   ]
  },
  {
   "cell_type": "code",
   "execution_count": 21,
   "id": "23a95ca8",
   "metadata": {},
   "outputs": [
    {
     "name": "stdout",
     "output_type": "stream",
     "text": [
      "{'p', 'h', 'l', 'i', 'd', 'e', 'a'}\n",
      "{'p', 'h', 'l', 'd', 'i', 'n', 'o'}\n",
      "{'p', 'h', 'o', 'l', 'i', 'd', 'n', 'e', 'a'}\n",
      "{'p', 'h', 'i', 'd', 'l'}\n",
      "{'e', 'a'}\n",
      "{'e', 'a'}\n",
      "{'o', 'n'}\n"
     ]
    },
    {
     "data": {
      "text/plain": [
       "{'n', 'o'}"
      ]
     },
     "execution_count": 21,
     "metadata": {},
     "output_type": "execute_result"
    }
   ],
   "source": [
    "a = set('philadelphia')\n",
    "b = set('dolphin')\n",
    "print(a)\n",
    "print(b)\n",
    "\n",
    "print(a.union(b))\n",
    "print(a.intersection(b))\n",
    "print(a-b)\n",
    "print(a.difference(b))\n",
    "print(b.difference(a))\n",
    "print(a|b)\n"
   ]
  },
  {
   "cell_type": "code",
   "execution_count": 22,
   "id": "786e2adb",
   "metadata": {},
   "outputs": [
    {
     "data": {
      "text/plain": [
       "{'/', '0', '1', '2', '7'}"
      ]
     },
     "execution_count": 22,
     "metadata": {},
     "output_type": "execute_result"
    }
   ],
   "source": [
    "date  = \"12/07/2021\"\n",
    "set(date)"
   ]
  },
  {
   "cell_type": "code",
   "execution_count": 27,
   "id": "7e425682",
   "metadata": {},
   "outputs": [
    {
     "name": "stdout",
     "output_type": "stream",
     "text": [
      "{1, 2, 3, 4, 5}\n"
     ]
    }
   ],
   "source": [
    "giv_list = [1,2,3,3,3,3,4,4,5,5]\n",
    "unig = set(giv_list)\n",
    "print(unig)"
   ]
  },
  {
   "cell_type": "code",
   "execution_count": 26,
   "id": "e21e94c1",
   "metadata": {},
   "outputs": [
    {
     "ename": "TypeError",
     "evalue": "unhashable type: 'list'",
     "output_type": "error",
     "traceback": [
      "\u001b[1;31m---------------------------------------------------------------------------\u001b[0m",
      "\u001b[1;31mTypeError\u001b[0m                                 Traceback (most recent call last)",
      "\u001b[1;32m<ipython-input-26-fa629479e1ce>\u001b[0m in \u001b[0;36m<module>\u001b[1;34m\u001b[0m\n\u001b[1;32m----> 1\u001b[1;33m \u001b[0mgiv_list\u001b[0m \u001b[1;33m=\u001b[0m \u001b[1;33m{\u001b[0m\u001b[1;33m[\u001b[0m\u001b[1;36m1\u001b[0m\u001b[1;33m,\u001b[0m\u001b[1;36m2\u001b[0m\u001b[1;33m,\u001b[0m\u001b[1;36m3\u001b[0m\u001b[1;33m,\u001b[0m\u001b[1;36m3\u001b[0m\u001b[1;33m,\u001b[0m\u001b[1;36m3\u001b[0m\u001b[1;33m,\u001b[0m\u001b[1;36m3\u001b[0m\u001b[1;33m,\u001b[0m\u001b[1;36m4\u001b[0m\u001b[1;33m,\u001b[0m\u001b[1;36m4\u001b[0m\u001b[1;33m,\u001b[0m\u001b[1;36m5\u001b[0m\u001b[1;33m,\u001b[0m\u001b[1;36m5\u001b[0m\u001b[1;33m]\u001b[0m\u001b[1;33m}\u001b[0m\u001b[1;33m\u001b[0m\u001b[1;33m\u001b[0m\u001b[0m\n\u001b[0m\u001b[0;32m      2\u001b[0m \u001b[1;31m#unig = set(giv_list)\u001b[0m\u001b[1;33m\u001b[0m\u001b[1;33m\u001b[0m\u001b[1;33m\u001b[0m\u001b[0m\n\u001b[0;32m      3\u001b[0m \u001b[0mprint\u001b[0m\u001b[1;33m(\u001b[0m\u001b[0mgiv_list\u001b[0m\u001b[1;33m)\u001b[0m\u001b[1;33m\u001b[0m\u001b[1;33m\u001b[0m\u001b[0m\n",
      "\u001b[1;31mTypeError\u001b[0m: unhashable type: 'list'"
     ]
    }
   ],
   "source": [
    "giv_list = {[1, 2, 3, 3, 3, 3, 4, 4, 5, 5]}\n",
    "#unig = set(giv_list)\n",
    "print(giv_list)"
   ]
  },
  {
   "cell_type": "code",
   "execution_count": null,
   "id": "60d69e61",
   "metadata": {},
   "outputs": [],
   "source": [
    "karisik = {[1,2,3], {1:\"bir\"}, (\"iki\", \"uc\")}"
   ]
  },
  {
   "cell_type": "code",
   "execution_count": 28,
   "id": "31e06feb",
   "metadata": {},
   "outputs": [
    {
     "ename": "TypeError",
     "evalue": "unhashable type: 'list'",
     "output_type": "error",
     "traceback": [
      "\u001b[1;31m---------------------------------------------------------------------------\u001b[0m",
      "\u001b[1;31mTypeError\u001b[0m                                 Traceback (most recent call last)",
      "\u001b[1;32m<ipython-input-28-e279be15b2d8>\u001b[0m in \u001b[0;36m<module>\u001b[1;34m\u001b[0m\n\u001b[1;32m----> 1\u001b[1;33m \u001b[0mset\u001b[0m\u001b[1;33m(\u001b[0m\u001b[1;33m[\u001b[0m\u001b[1;33m[\u001b[0m\u001b[1;36m1\u001b[0m\u001b[1;33m,\u001b[0m\u001b[1;36m2\u001b[0m\u001b[1;33m]\u001b[0m\u001b[1;33m,\u001b[0m\u001b[1;33m[\u001b[0m\u001b[1;36m3\u001b[0m\u001b[1;33m,\u001b[0m\u001b[1;36m4\u001b[0m\u001b[1;33m]\u001b[0m\u001b[1;33m,\u001b[0m\u001b[1;33m[\u001b[0m\u001b[1;36m4\u001b[0m\u001b[1;33m,\u001b[0m\u001b[1;36m5\u001b[0m\u001b[1;33m]\u001b[0m\u001b[1;33m]\u001b[0m\u001b[1;33m)\u001b[0m\u001b[1;33m\u001b[0m\u001b[1;33m\u001b[0m\u001b[0m\n\u001b[0m",
      "\u001b[1;31mTypeError\u001b[0m: unhashable type: 'list'"
     ]
    }
   ],
   "source": [
    "set([[1,2],[3,4],[4,5]])"
   ]
  },
  {
   "cell_type": "code",
   "execution_count": 34,
   "id": "fa7a3441",
   "metadata": {},
   "outputs": [
    {
     "name": "stdout",
     "output_type": "stream",
     "text": [
      "{'s', 'h', 'i', 'l', 'n', 'e', 'W', 'g', 't', 'o', 'a'}\n",
      "{'s', 'h', 'a'}\n",
      "{'i', 'n', 'g', 't', 'o', 'W'}\n",
      "{'s', 'h', 'o', 'i', 'l', 'n', 'a', 'g', 't', 'e', 'W'}\n",
      "{'e', 'l'}\n",
      "{'i', 'n', 'g', 't', 'o', 'W'}\n"
     ]
    }
   ],
   "source": [
    "a = set(\"Washington\")\n",
    "b = set(\"Wellington\")\n",
    "\n",
    "print(a.union(b))\n",
    "print(a.difference(b))\n",
    "print(a.intersection(b))\n",
    "print(b.union(a))\n",
    "print(b.difference(a))\n",
    "print(b.intersection(a))"
   ]
  },
  {
   "cell_type": "code",
   "execution_count": 35,
   "id": "65ca414d",
   "metadata": {},
   "outputs": [
    {
     "name": "stdout",
     "output_type": "stream",
     "text": [
      "hello world\n"
     ]
    }
   ],
   "source": [
    "if \"0\" :\n",
    "    print('hello world')"
   ]
  },
  {
   "cell_type": "code",
   "execution_count": 37,
   "id": "daa3ae6c",
   "metadata": {},
   "outputs": [],
   "source": [
    "if 0 :\n",
    "    print('hello')"
   ]
  },
  {
   "cell_type": "code",
   "execution_count": 38,
   "id": "2e40b2d0",
   "metadata": {},
   "outputs": [
    {
     "name": "stdout",
     "output_type": "stream",
     "text": [
      "bu calisir\n"
     ]
    }
   ],
   "source": [
    "if 1 :\n",
    "    print('bu calisir')"
   ]
  },
  {
   "cell_type": "code",
   "execution_count": null,
   "id": "6c5a2928",
   "metadata": {},
   "outputs": [],
   "source": [
    "if 1 :\n",
    "    print('bu calisir')"
   ]
  },
  {
   "cell_type": "code",
   "execution_count": 42,
   "id": "185894ec",
   "metadata": {},
   "outputs": [
    {
     "name": "stdout",
     "output_type": "stream",
     "text": [
      "Bon Appetit!\n"
     ]
    }
   ],
   "source": [
    "minced = True\n",
    "bread = True\n",
    "lettuce = False\n",
    "onion = True\n",
    "grocer = True\n",
    "hamburger = (minced and grocer and bread) and (lettuce or onion)\n",
    "if hamburger :\n",
    "    print(\"Bon Appetit!\")"
   ]
  },
  {
   "cell_type": "code",
   "execution_count": 43,
   "id": "28f3d325",
   "metadata": {},
   "outputs": [
    {
     "data": {
      "text/plain": [
       "True"
      ]
     },
     "execution_count": 43,
     "metadata": {},
     "output_type": "execute_result"
    }
   ],
   "source": [
    "\"a\" < \"b\""
   ]
  },
  {
   "cell_type": "code",
   "execution_count": 44,
   "id": "244afc25",
   "metadata": {},
   "outputs": [
    {
     "data": {
      "text/plain": [
       "False"
      ]
     },
     "execution_count": 44,
     "metadata": {},
     "output_type": "execute_result"
    }
   ],
   "source": [
    "\"4\" < \"39\""
   ]
  },
  {
   "cell_type": "code",
   "execution_count": 46,
   "id": "20c7c42d",
   "metadata": {},
   "outputs": [
    {
     "data": {
      "text/plain": [
       "3"
      ]
     },
     "execution_count": 46,
     "metadata": {},
     "output_type": "execute_result"
    }
   ],
   "source": [
    "1 and 2 and 3"
   ]
  },
  {
   "cell_type": "code",
   "execution_count": 47,
   "id": "2df3f444",
   "metadata": {},
   "outputs": [
    {
     "name": "stdout",
     "output_type": "stream",
     "text": [
      "we are the same\n"
     ]
    }
   ],
   "source": [
    "a = set(\"TWELVE PLUS ONE\")\n",
    "b = set(\"ELEVEN PLUS TWO\")\n",
    "if a == b:\n",
    "    print(\"We are the same\")\n",
    "else :\n",
    "    prtint(\"We are not the same\")"
   ]
  },
  {
   "cell_type": "code",
   "execution_count": null,
   "id": "34e538c1",
   "metadata": {},
   "outputs": [],
   "source": []
  },
  {
   "cell_type": "code",
   "execution_count": 66,
   "id": "b085828d",
   "metadata": {},
   "outputs": [
    {
     "name": "stdout",
     "output_type": "stream",
     "text": [
      "Enter yes or no : yes\n",
      "True\n",
      "You entered True\n"
     ]
    }
   ],
   "source": [
    "convert = input(\"Enter yes or no : \").title().strip() == \"Yes\"\n",
    "print(convert)\n",
    "print(\"You entered\", convert)"
   ]
  },
  {
   "cell_type": "code",
   "execution_count": 71,
   "id": "7097b6cb",
   "metadata": {
    "scrolled": true
   },
   "outputs": [
    {
     "name": "stdout",
     "output_type": "stream",
     "text": [
      "Enter a number please : 5\n",
      "Girmis oldugunuz sayi tektir.\n"
     ]
    }
   ],
   "source": [
    "number = int(input(\"Enter a number please : \"))\n",
    "if number % 2 == 0:\n",
    "    print(\"Girmis oldugunuz sayi cifttir.\")\n",
    "else: \n",
    "    print(\"Girmis oldugunuz sayi tektir.\")"
   ]
  },
  {
   "cell_type": "code",
   "execution_count": null,
   "id": "d6a71cc1",
   "metadata": {},
   "outputs": [],
   "source": []
  },
  {
   "cell_type": "code",
   "execution_count": null,
   "id": "1c7667c5",
   "metadata": {},
   "outputs": [],
   "source": []
  },
  {
   "cell_type": "code",
   "execution_count": null,
   "id": "e47168e6",
   "metadata": {},
   "outputs": [],
   "source": []
  },
  {
   "cell_type": "code",
   "execution_count": null,
   "id": "52963cbe",
   "metadata": {},
   "outputs": [],
   "source": []
  },
  {
   "cell_type": "code",
   "execution_count": null,
   "id": "09de4dc9",
   "metadata": {},
   "outputs": [],
   "source": []
  },
  {
   "cell_type": "code",
   "execution_count": null,
   "id": "e238fe06",
   "metadata": {},
   "outputs": [],
   "source": []
  },
  {
   "cell_type": "code",
   "execution_count": null,
   "id": "01c92717",
   "metadata": {},
   "outputs": [],
   "source": []
  },
  {
   "cell_type": "code",
   "execution_count": null,
   "id": "dfd2cf40",
   "metadata": {},
   "outputs": [],
   "source": []
  },
  {
   "cell_type": "code",
   "execution_count": null,
   "id": "cab79a01",
   "metadata": {},
   "outputs": [],
   "source": []
  }
 ],
 "metadata": {
  "kernelspec": {
   "display_name": "Python 3",
   "language": "python",
   "name": "python3"
  },
  "language_info": {
   "codemirror_mode": {
    "name": "ipython",
    "version": 3
   },
   "file_extension": ".py",
   "mimetype": "text/x-python",
   "name": "python",
   "nbconvert_exporter": "python",
   "pygments_lexer": "ipython3",
   "version": "3.8.8"
  }
 },
 "nbformat": 4,
 "nbformat_minor": 5
}
