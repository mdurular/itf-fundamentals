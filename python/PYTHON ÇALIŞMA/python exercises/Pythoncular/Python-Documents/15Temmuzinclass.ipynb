{
 "cells": [
  {
   "cell_type": "code",
   "execution_count": 4,
   "id": "5342eace",
   "metadata": {},
   "outputs": [
    {
     "name": "stdout",
     "output_type": "stream",
     "text": [
      "Enter a number please : 45\n",
      "Enter a number please : 33\n",
      "The large number is 45.0'dir.\n"
     ]
    }
   ],
   "source": [
    "number_1 = float(input(\"Enter a number please : \"))\n",
    "number_2 = float(input(\"Enter a number please : \"))\n",
    "\n",
    "\n",
    "if number_1 > number_2:\n",
    "    print(f\"The large number is {number_1}'dir.\")\n",
    "else: \n",
    "    print(f\"The large number is {number_1}'dir.\")"
   ]
  },
  {
   "cell_type": "code",
   "execution_count": 3,
   "id": "929b29d7",
   "metadata": {},
   "outputs": [
    {
     "name": "stdout",
     "output_type": "stream",
     "text": [
      "Enter a number please : 75\n",
      "Enter a number please : 45\n",
      "The larger nuber is : 75.0\n"
     ]
    }
   ],
   "source": [
    "num1 = float(input(\"Enter a number please : \"))\n",
    "num2 = float(input(\"Enter a number please : \"))\n",
    "if num1 > num2 :\n",
    "    larger = num1\n",
    "else:\n",
    "    larger = num2\n",
    "print(\"The larger nuber is :\", larger)\n"
   ]
  },
  {
   "cell_type": "code",
   "execution_count": 8,
   "id": "ca50a23a",
   "metadata": {},
   "outputs": [
    {
     "name": "stdout",
     "output_type": "stream",
     "text": [
      "True\n"
     ]
    }
   ],
   "source": [
    "a = \"Yes\"\n",
    "# b = bool(age == \"True\") \n",
    "if a == \"Yes\":\n",
    "    print(True)\n",
    "else:\n",
    "    print(False)"
   ]
  },
  {
   "cell_type": "code",
   "execution_count": 9,
   "id": "b871d0b5",
   "metadata": {},
   "outputs": [
    {
     "name": "stdout",
     "output_type": "stream",
     "text": [
      "No\n"
     ]
    }
   ],
   "source": [
    "bool_value = False  #True\n",
    "if bool_value :\n",
    "    print(\"Yes\")\n",
    "else:\n",
    "    print(\"No\")"
   ]
  },
  {
   "cell_type": "code",
   "execution_count": 10,
   "id": "12a04731",
   "metadata": {},
   "outputs": [
    {
     "name": "stdout",
     "output_type": "stream",
     "text": [
      "Kullanici adi giriniz: ayse\n",
      "Hello, ayse! See you later.\n"
     ]
    }
   ],
   "source": [
    "ad_gir = input(\"Kullanici adi giriniz: \")\n",
    "password_data = {\"Ayse\": \"a1b2c3\", \"ahmet.123\": \"ahmetahmet\", \"Joseph\": \"W@12\"}\n",
    "if ad_gir in password_data:\n",
    "  print(\"Hello, {}! The password is :{}\".format((ad_gir),(password_data[ad_gir])))\n",
    "else:\n",
    "  print(\"Hello, {}! See you later.\".format(ad_gir))"
   ]
  },
  {
   "cell_type": "code",
   "execution_count": 11,
   "id": "831bd4ac",
   "metadata": {},
   "outputs": [
    {
     "name": "stdout",
     "output_type": "stream",
     "text": [
      "Enter a number please : 45\n",
      "Enter a number please : 58\n",
      "Enter a number please : 76\n",
      "The largest nuber is : 76.0\n"
     ]
    }
   ],
   "source": [
    "num1 = float(input(\"Enter a number please : \"))\n",
    "num2 = float(input(\"Enter a number please : \"))\n",
    "num3 = float(input(\"Enter a number please : \"))\n",
    "if num1 > num2 and num1 > num3:\n",
    "    largest = num1\n",
    "elif num2 > num1 and num2 > num3:\n",
    "    largest = num2\n",
    "else:\n",
    "    largest = num3\n",
    "print(\"The largest nuber is :\", largest)"
   ]
  },
  {
   "cell_type": "code",
   "execution_count": 12,
   "id": "c4aaf383",
   "metadata": {},
   "outputs": [
    {
     "name": "stdout",
     "output_type": "stream",
     "text": [
      "uc\n",
      "kod sonu geldi\n"
     ]
    }
   ],
   "source": [
    "x = 3\n",
    "if x == 3:\n",
    "    print(\"uc\")\n",
    "elif x == 4:\n",
    "    print(\"dort\")\n",
    "elif x == 5:\n",
    "    print(\"bes\")\n",
    "else:\n",
    "    print(\"sonsuz\")\n",
    "print(\"kod sonu geldi\")"
   ]
  },
  {
   "cell_type": "code",
   "execution_count": 26,
   "id": "c09771be",
   "metadata": {},
   "outputs": [
    {
     "name": "stdout",
     "output_type": "stream",
     "text": [
      "Please enter the mark: 89\n",
      "Your degree is : B+\n"
     ]
    }
   ],
   "source": [
    "mark = int(input('Please enter the mark: '))\n",
    "if mark >= 95 and mark <= 100:\n",
    "    grade = \"A+\"\n",
    "elif mark >= 90 and mark <= 94 :\n",
    "    grade = \"A\"\n",
    "elif mark >= 85 and mark <= 89 :\n",
    "    grade = \"B+\"\n",
    "elif mark >= 80 and mark <= 84 :\n",
    "     grade = \"B\"\n",
    "else:\n",
    "     grade = \"below B or B-\"\n",
    "print (f\"Your degree is : {grade}\")\n"
   ]
  },
  {
   "cell_type": "code",
   "execution_count": 29,
   "id": "35e69ca1",
   "metadata": {},
   "outputs": [
    {
     "data": {
      "text/plain": [
       "20"
      ]
     },
     "execution_count": 29,
     "metadata": {},
     "output_type": "execute_result"
    }
   ],
   "source": [
    "items = (10, 20)  #unpacking\n",
    "x, y = items\n",
    "x\n",
    "y"
   ]
  },
  {
   "cell_type": "code",
   "execution_count": 30,
   "id": "b5dd83b2",
   "metadata": {},
   "outputs": [],
   "source": [
    "a, _, b, _ = (10, 20, 30, 40) #pressholder"
   ]
  },
  {
   "cell_type": "code",
   "execution_count": 31,
   "id": "4326f0c5",
   "metadata": {},
   "outputs": [
    {
     "data": {
      "text/plain": [
       "10"
      ]
     },
     "execution_count": 31,
     "metadata": {},
     "output_type": "execute_result"
    }
   ],
   "source": [
    "a"
   ]
  },
  {
   "cell_type": "code",
   "execution_count": 32,
   "id": "d95b5589",
   "metadata": {},
   "outputs": [
    {
     "data": {
      "text/plain": [
       "30"
      ]
     },
     "execution_count": 32,
     "metadata": {},
     "output_type": "execute_result"
    }
   ],
   "source": [
    "b"
   ]
  },
  {
   "cell_type": "code",
   "execution_count": 33,
   "id": "4071daf0",
   "metadata": {},
   "outputs": [
    {
     "name": "stdout",
     "output_type": "stream",
     "text": [
      "10 30 40\n"
     ]
    }
   ],
   "source": [
    "print(a, b, _)"
   ]
  },
  {
   "cell_type": "code",
   "execution_count": 36,
   "id": "f49be652",
   "metadata": {},
   "outputs": [
    {
     "ename": "ValueError",
     "evalue": "too many values to unpack (expected 3)",
     "output_type": "error",
     "traceback": [
      "\u001b[1;31m---------------------------------------------------------------------------\u001b[0m",
      "\u001b[1;31mValueError\u001b[0m                                Traceback (most recent call last)",
      "\u001b[1;32m<ipython-input-36-9f0c1446e707>\u001b[0m in \u001b[0;36m<module>\u001b[1;34m\u001b[0m\n\u001b[1;32m----> 1\u001b[1;33m \u001b[0mx\u001b[0m\u001b[1;33m,\u001b[0m \u001b[0my\u001b[0m\u001b[1;33m,\u001b[0m \u001b[0mz\u001b[0m \u001b[1;33m=\u001b[0m \u001b[1;33m(\u001b[0m\u001b[1;36m11\u001b[0m\u001b[1;33m,\u001b[0m \u001b[1;36m22\u001b[0m\u001b[1;33m,\u001b[0m \u001b[1;36m33\u001b[0m\u001b[1;33m,\u001b[0m \u001b[1;36m44\u001b[0m\u001b[1;33m,\u001b[0m \u001b[1;36m55\u001b[0m\u001b[1;33m)\u001b[0m\u001b[1;33m\u001b[0m\u001b[1;33m\u001b[0m\u001b[0m\n\u001b[0m",
      "\u001b[1;31mValueError\u001b[0m: too many values to unpack (expected 3)"
     ]
    }
   ],
   "source": [
    "x, y, z = (11, 22, 33, 44, 55)\n"
   ]
  },
  {
   "cell_type": "code",
   "execution_count": 42,
   "id": "126d0ece",
   "metadata": {},
   "outputs": [
    {
     "data": {
      "text/plain": [
       "[33, 44, 55]"
      ]
     },
     "execution_count": 42,
     "metadata": {},
     "output_type": "execute_result"
    }
   ],
   "source": [
    "x, y, *z = (11, 22, 33, 44, 55)\n",
    "z\n"
   ]
  },
  {
   "cell_type": "code",
   "execution_count": 46,
   "id": "fd9b34af",
   "metadata": {},
   "outputs": [
    {
     "data": {
      "text/plain": [
       "[33, 44, 55, 66, 77]"
      ]
     },
     "execution_count": 46,
     "metadata": {},
     "output_type": "execute_result"
    }
   ],
   "source": [
    "x, y, *_ = (11, 22, 33, 44, 55, 66, 77)\n",
    "x\n",
    "y\n",
    "_"
   ]
  },
  {
   "cell_type": "code",
   "execution_count": null,
   "id": "efb88d81",
   "metadata": {},
   "outputs": [],
   "source": [
    "x, y, z, t = (11, 22, 33, 44, 55, 66, 77)"
   ]
  },
  {
   "cell_type": "code",
   "execution_count": 51,
   "id": "b34a8692",
   "metadata": {},
   "outputs": [
    {
     "name": "stdout",
     "output_type": "stream",
     "text": [
      "11 22 [33, 44, 55, 66] 77\n"
     ]
    }
   ],
   "source": [
    "x, y, *z, t = (11, 22, 33, 44, 55, 66, 77)\n",
    "print(x, y, z, t)"
   ]
  },
  {
   "cell_type": "code",
   "execution_count": 53,
   "id": "db0d8cb2",
   "metadata": {},
   "outputs": [
    {
     "name": "stdout",
     "output_type": "stream",
     "text": [
      "11 22 77\n"
     ]
    },
    {
     "data": {
      "text/plain": [
       "[33, 44, 55, 66]"
      ]
     },
     "execution_count": 53,
     "metadata": {},
     "output_type": "execute_result"
    }
   ],
   "source": [
    "x, y, *_, t = (11, 22, 33, 44, 55, 66, 77)\n",
    "print(x, y, t)\n",
    "z"
   ]
  },
  {
   "cell_type": "code",
   "execution_count": 54,
   "id": "bc84d355",
   "metadata": {},
   "outputs": [
    {
     "data": {
      "text/plain": [
       "4"
      ]
     },
     "execution_count": 54,
     "metadata": {},
     "output_type": "execute_result"
    }
   ],
   "source": [
    "seq = [1,1,1,1,1,2,2,2,2,3,3,4,4]\n",
    "max(seq)"
   ]
  },
  {
   "cell_type": "code",
   "execution_count": 55,
   "id": "94203f5c",
   "metadata": {},
   "outputs": [
    {
     "data": {
      "text/plain": [
       "2"
      ]
     },
     "execution_count": 55,
     "metadata": {},
     "output_type": "execute_result"
    }
   ],
   "source": [
    "seq.count(4)"
   ]
  },
  {
   "cell_type": "code",
   "execution_count": 56,
   "id": "74ffd4ba",
   "metadata": {},
   "outputs": [
    {
     "data": {
      "text/plain": [
       "2"
      ]
     },
     "execution_count": 56,
     "metadata": {},
     "output_type": "execute_result"
    }
   ],
   "source": [
    "seq.count(max(seq))"
   ]
  },
  {
   "cell_type": "code",
   "execution_count": 57,
   "id": "e7dac4ce",
   "metadata": {},
   "outputs": [
    {
     "data": {
      "text/plain": [
       "1"
      ]
     },
     "execution_count": 57,
     "metadata": {},
     "output_type": "execute_result"
    }
   ],
   "source": [
    "max(seq, key = seq.count)"
   ]
  },
  {
   "cell_type": "code",
   "execution_count": 58,
   "id": "277fc0e2",
   "metadata": {},
   "outputs": [
    {
     "data": {
      "text/plain": [
       "5"
      ]
     },
     "execution_count": 58,
     "metadata": {},
     "output_type": "execute_result"
    }
   ],
   "source": [
    "seq.count(max(seq, key = seq.count))"
   ]
  },
  {
   "cell_type": "code",
   "execution_count": 60,
   "id": "f5e2fe92",
   "metadata": {},
   "outputs": [
    {
     "name": "stdout",
     "output_type": "stream",
     "text": [
      "En cok tekrar eden sayi 3 sayisidir ve 4 kere tekrar etmistir.\n"
     ]
    }
   ],
   "source": [
    "numbers = [1, 3, 7, 4, 3, 0, 3, 6, 3]\n",
    "a = max(numbers, key = numbers.count)\n",
    "b = numbers.count(a)\n",
    "print(\"En cok tekrar eden sayi {} sayisidir ve {} kere tekrar etmistir.\".format(a,b))"
   ]
  }
 ],
 "metadata": {
  "kernelspec": {
   "display_name": "Python 3",
   "language": "python",
   "name": "python3"
  },
  "language_info": {
   "codemirror_mode": {
    "name": "ipython",
    "version": 3
   },
   "file_extension": ".py",
   "mimetype": "text/x-python",
   "name": "python",
   "nbconvert_exporter": "python",
   "pygments_lexer": "ipython3",
   "version": "3.8.8"
  }
 },
 "nbformat": 4,
 "nbformat_minor": 5
}
