{
 "cells": [
  {
   "cell_type": "code",
   "execution_count": null,
   "id": "6e2b6ad3",
   "metadata": {},
   "outputs": [],
   "source": [
    "fruit = \"orange\"\n",
    "vegetable = \"tomato\"\n",
    "amount = 6 \n",
    "output = f\"the amount of {fruit} and {vegetable}"
   ]
  },
  {
   "cell_type": "code",
   "execution_count": 1,
   "id": "960be532",
   "metadata": {},
   "outputs": [
    {
     "name": "stdout",
     "output_type": "stream",
     "text": [
      "8\n"
     ]
    }
   ],
   "source": [
    "sample = f\"{2 ** 3}\"\n",
    "print(sample)"
   ]
  },
  {
   "cell_type": "code",
   "execution_count": 2,
   "id": "4673755b",
   "metadata": {},
   "outputs": [
    {
     "name": "stdout",
     "output_type": "stream",
     "text": [
      "burada neler oluyor aman Allahim... 8\n"
     ]
    }
   ],
   "source": [
    "x = 2 \n",
    "y = 3\n",
    "print(f\"burada neler oluyor aman Allahim... {x ** y}\")"
   ]
  },
  {
   "cell_type": "code",
   "execution_count": 9,
   "id": "42d723ee",
   "metadata": {},
   "outputs": [
    {
     "name": "stdout",
     "output_type": "stream",
     "text": [
      "Mariam\n",
      "My name is Mariam.\n"
     ]
    }
   ],
   "source": [
    "name = \"MARIAM\"\n",
    "print(name.capitalize())\n",
    "print(f\"My name is {name.capitalize()}.\")"
   ]
  },
  {
   "cell_type": "code",
   "execution_count": 35,
   "id": "2227be68",
   "metadata": {},
   "outputs": [
    {
     "name": "stdout",
     "output_type": "stream",
     "text": [
      "Hi Joseph. You are one of the teachers in the Data Science section.\n"
     ]
    }
   ],
   "source": [
    "name = \"Joseph\"\n",
    "job = \"teachers\"\n",
    "domain = \"Data Science\"\n",
    "message = f\"Hi {name}.\" \\\n",
    "    f\" You are one of the {job}\" \\\n",
    "    f\" in the {domain} section.\"\n",
    "print(message)"
   ]
  },
  {
   "cell_type": "code",
   "execution_count": 10,
   "id": "a00894c2",
   "metadata": {},
   "outputs": [
    {
     "data": {
      "text/plain": [
       "'Ben Bu Kursat Ogrenci Olmaktan Dolayi Cok Mutluyum. Bende Joseph Hoca Olarak Ders Anlatmaktan Zevk Aliyorum'"
      ]
     },
     "execution_count": 10,
     "metadata": {},
     "output_type": "execute_result"
    }
   ],
   "source": [
    "\"ben bu kursat ogrenci olmaktan \\\n",
    "dolayi cok mutluyum. \\\n",
    "Bende joseph hoca olarak ders \\\n",
    "anlatmaktan zevk aliyorum\".title()"
   ]
  },
  {
   "cell_type": "code",
   "execution_count": 13,
   "id": "cbcb8a99",
   "metadata": {},
   "outputs": [
    {
     "data": {
      "text/plain": [
       "'Ahmet'"
      ]
     },
     "execution_count": 13,
     "metadata": {},
     "output_type": "execute_result"
    }
   ],
   "source": [
    "\"ahmet\"\\\n",
    ".title()"
   ]
  },
  {
   "cell_type": "code",
   "execution_count": 37,
   "id": "b9a7419c",
   "metadata": {},
   "outputs": [
    {
     "name": "stdout",
     "output_type": "stream",
     "text": [
      "Susan is a young lady and she is a student at the CLRWY IT university.\n"
     ]
    }
   ],
   "source": [
    "name = \"Susan\"\n",
    "age = \"young\"\n",
    "gender = \"lady\"\n",
    "school = \"CLRWY IT university\"\n",
    "msg = (\n",
    "    f\"{name} is a {age} \" \\\n",
    "    f\"{gender} and she is a student \" \\\n",
    "    f\"at the {school}.\")\n",
    "print(msg)"
   ]
  },
  {
   "cell_type": "code",
   "execution_count": 30,
   "id": "f118676d",
   "metadata": {},
   "outputs": [
    {
     "name": "stdout",
     "output_type": "stream",
     "text": [
      "clausway\n"
     ]
    }
   ],
   "source": [
    "word = 'clarusway'\n",
    "n = 3\n",
    "front = word[:3] \n",
    "back = word[4:] \n",
    "print(front + back)"
   ]
  },
  {
   "cell_type": "code",
   "execution_count": 24,
   "id": "a1c33347",
   "metadata": {},
   "outputs": [
    {
     "name": "stdout",
     "output_type": "stream",
     "text": [
      "Hello! I am a new programmer and I love Clarusway\n"
     ]
    }
   ],
   "source": [
    "text = \"{}! I am a {} programmer and I {} Clarusway.\".format(\"Hello\", \"new\", \"love\")\n",
    "print(text)"
   ]
  },
  {
   "cell_type": "code",
   "execution_count": 29,
   "id": "7e4aac68",
   "metadata": {},
   "outputs": [
    {
     "name": "stdout",
     "output_type": "stream",
     "text": [
      "I live in Sarajevo.\n"
     ]
    }
   ],
   "source": [
    "city = \"SARAJEVO\"\n",
    "text = f\"I live in {city.capitalize()}.\"\n",
    "print(text)"
   ]
  },
  {
   "cell_type": "code",
   "execution_count": 39,
   "id": "5cc3de18",
   "metadata": {},
   "outputs": [
    {
     "name": "stdout",
     "output_type": "stream",
     "text": [
      "In God we Trust\n"
     ]
    }
   ],
   "source": [
    "var = \"In God we Trust\"\n",
    "var.lower()\n",
    "print(var)"
   ]
  },
  {
   "cell_type": "code",
   "execution_count": 41,
   "id": "cfda8bad",
   "metadata": {},
   "outputs": [
    {
     "data": {
      "text/plain": [
       "'Clarusway'"
      ]
     },
     "execution_count": 41,
     "metadata": {},
     "output_type": "execute_result"
    }
   ],
   "source": [
    "\"clarusWay\".title()"
   ]
  },
  {
   "cell_type": "code",
   "execution_count": 50,
   "id": "3ec67ab6",
   "metadata": {},
   "outputs": [
    {
     "data": {
      "text/plain": [
       "'CLARUSWAY'"
      ]
     },
     "execution_count": 50,
     "metadata": {},
     "output_type": "execute_result"
    }
   ],
   "source": [
    "metin = \"clarusWay\"\n",
    "metin.title()\n",
    "metin\n",
    "metin = metin.title()\n",
    "metin\n",
    "yazi = metin.upper()\n",
    "yazi"
   ]
  },
  {
   "cell_type": "code",
   "execution_count": 47,
   "id": "6200eae8",
   "metadata": {},
   "outputs": [
    {
     "name": "stdout",
     "output_type": "stream",
     "text": [
      "True\n",
      "False\n"
     ]
    }
   ],
   "source": [
    "text= \"www.clarusway.com\"\n",
    "print(text.endswith(\".com\"))\n",
    "print(text.startswith(\"htpp:\"))   "
   ]
  },
  {
   "cell_type": "code",
   "execution_count": null,
   "id": "53546581",
   "metadata": {},
   "outputs": [],
   "source": [
    "string.method(arguments)"
   ]
  },
  {
   "cell_type": "code",
   "execution_count": 48,
   "id": "324b7edb",
   "metadata": {},
   "outputs": [
    {
     "data": {
      "text/plain": [
       "'Clarusway'"
      ]
     },
     "execution_count": 48,
     "metadata": {},
     "output_type": "execute_result"
    }
   ],
   "source": [
    "\"clarusway\".capitalize()"
   ]
  },
  {
   "cell_type": "code",
   "execution_count": 53,
   "id": "e739cded",
   "metadata": {},
   "outputs": [
    {
     "data": {
      "text/plain": [
       "'cluruswuy'"
      ]
     },
     "execution_count": 53,
     "metadata": {},
     "output_type": "execute_result"
    }
   ],
   "source": [
    "a= \"clarusway\"\n",
    "a.replace(\"a\", \"u\")"
   ]
  },
  {
   "cell_type": "code",
   "execution_count": null,
   "id": "8ecad805",
   "metadata": {},
   "outputs": [],
   "source": [
    "# string.method1().method2().method3() bu metodlar string dondurur"
   ]
  },
  {
   "cell_type": "code",
   "execution_count": null,
   "id": "f5cf7c3e",
   "metadata": {},
   "outputs": [],
   "source": [
    "degisken = 16 \n",
    "degisken_1 = \"string\"\n",
    "degisken_2 = [11]"
   ]
  },
  {
   "cell_type": "code",
   "execution_count": 54,
   "id": "9be6289a",
   "metadata": {},
   "outputs": [
    {
     "data": {
      "text/plain": [
       "'The Better The Family, The Better The Society'"
      ]
     },
     "execution_count": 54,
     "metadata": {},
     "output_type": "execute_result"
    }
   ],
   "source": [
    "text = \"the better the family, the better the society\"\n",
    "text.title()"
   ]
  },
  {
   "cell_type": "code",
   "execution_count": 57,
   "id": "c133852b",
   "metadata": {},
   "outputs": [
    {
     "data": {
      "text/plain": [
       "'Sodome and Gomore'"
      ]
     },
     "execution_count": 57,
     "metadata": {},
     "output_type": "execute_result"
    }
   ],
   "source": [
    "text = \"S0d0me and G0m0re\"\n",
    "text.replace(\"0\", \"o\")"
   ]
  },
  {
   "cell_type": "code",
   "execution_count": 58,
   "id": "d5769aad",
   "metadata": {},
   "outputs": [
    {
     "data": {
      "text/plain": [
       "'Sodome and G0m0re'"
      ]
     },
     "execution_count": 58,
     "metadata": {},
     "output_type": "execute_result"
    }
   ],
   "source": [
    "text = \"S0d0me and G0m0re\"\n",
    "text.replace(\"0\", \"o\", 2)  # 2 tanesi  degisti digerleri degismedi"
   ]
  },
  {
   "cell_type": "code",
   "execution_count": null,
   "id": "a252982b",
   "metadata": {},
   "outputs": [],
   "source": [
    "string.method(arguments)"
   ]
  },
  {
   "cell_type": "code",
   "execution_count": null,
   "id": "6531298d",
   "metadata": {},
   "outputs": [],
   "source": [
    "text = \"    listen first    \""
   ]
  },
  {
   "cell_type": "code",
   "execution_count": 61,
   "id": "2e301d1f",
   "metadata": {},
   "outputs": [
    {
     "name": "stdout",
     "output_type": "stream",
     "text": [
      "  \n",
      "\n",
      "ahmet\n",
      "mehmet       \n"
     ]
    }
   ],
   "source": [
    "var = \"  \\n\\nahmet\\nmehmet       \"\n",
    "print(var)\n"
   ]
  },
  {
   "cell_type": "code",
   "execution_count": 62,
   "id": "8847b3b4",
   "metadata": {},
   "outputs": [
    {
     "name": "stdout",
     "output_type": "stream",
     "text": [
      "ahmet\n",
      "mehmet\n"
     ]
    }
   ],
   "source": [
    "var = \"  \\n\\nahmet\\nmehmet       \"\n",
    "print(var.strip())"
   ]
  },
  {
   "cell_type": "code",
   "execution_count": 67,
   "id": "1dc3580d",
   "metadata": {},
   "outputs": [
    {
     "name": "stdout",
     "output_type": "stream",
     "text": [
      "teroperability\n"
     ]
    }
   ],
   "source": [
    "text = \"initeroperability\"\n",
    "print(text.lstrip(\"in\"))"
   ]
  },
  {
   "cell_type": "code",
   "execution_count": 71,
   "id": "cd2694a4",
   "metadata": {},
   "outputs": [
    {
     "data": {
      "text/plain": [
       "'iteroperability'"
      ]
     },
     "execution_count": 71,
     "metadata": {},
     "output_type": "execute_result"
    }
   ],
   "source": [
    "text = \"initeroperability\"\n",
    "text.replace(\"in\", \"\")"
   ]
  },
  {
   "cell_type": "code",
   "execution_count": 82,
   "id": "57153177",
   "metadata": {},
   "outputs": [
    {
     "name": "stdout",
     "output_type": "stream",
     "text": [
      "YOU CAN LEARN ALMOST EVERYTHING IN PRE-CLASS\n"
     ]
    }
   ],
   "source": [
    "text = \"tyou can learn almost everything in pre-classz\"\n",
    "text = text.lstrip(\"t\").rstrip(\"z\").upper()\n",
    "print(text)"
   ]
  },
  {
   "cell_type": "code",
   "execution_count": null,
   "id": "8647fe08",
   "metadata": {},
   "outputs": [],
   "source": []
  }
 ],
 "metadata": {
  "kernelspec": {
   "display_name": "Python 3",
   "language": "python",
   "name": "python3"
  },
  "language_info": {
   "codemirror_mode": {
    "name": "ipython",
    "version": 3
   },
   "file_extension": ".py",
   "mimetype": "text/x-python",
   "name": "python",
   "nbconvert_exporter": "python",
   "pygments_lexer": "ipython3",
   "version": "3.8.8"
  }
 },
 "nbformat": 4,
 "nbformat_minor": 5
}
