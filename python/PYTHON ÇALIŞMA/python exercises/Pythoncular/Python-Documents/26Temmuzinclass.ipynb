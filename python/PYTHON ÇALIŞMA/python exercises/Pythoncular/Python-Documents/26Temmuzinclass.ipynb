{
 "cells": [
  {
   "cell_type": "code",
   "execution_count": null,
   "id": "757082f6",
   "metadata": {},
   "outputs": [],
   "source": [
    "while False:\n",
    "    age = input(\"Please enter your age: \")\n",
    "    age isnumeric == True\n",
    "print(Yasiniz  )\n"
   ]
  },
  {
   "cell_type": "code",
   "execution_count": 4,
   "id": "65e587a4",
   "metadata": {},
   "outputs": [
    {
     "name": "stdout",
     "output_type": "stream",
     "text": [
      "Enter your age: 25\n",
      "Yaşınız :  25\n",
      "Enter numeric value\n"
     ]
    }
   ],
   "source": [
    "age = int (input(\"Enter your age: \"))\n",
    "while type(age) == int:\n",
    "    print(\"Yaşınız : \", age)\n",
    "    break\n",
    "print (\"Enter numeric value\")\n"
   ]
  },
  {
   "cell_type": "code",
   "execution_count": 5,
   "id": "4337b4aa",
   "metadata": {},
   "outputs": [
    {
     "name": "stdout",
     "output_type": "stream",
     "text": [
      "iki\n"
     ]
    }
   ],
   "source": [
    "while 0 : age == isnumeric():\n",
    "    print(\"bir\")\n",
    "print(\"iki\")"
   ]
  },
  {
   "cell_type": "code",
   "execution_count": 6,
   "id": "dbf3b406",
   "metadata": {},
   "outputs": [
    {
     "name": "stdout",
     "output_type": "stream",
     "text": [
      "outside of while\n"
     ]
    }
   ],
   "source": [
    "while [] :\n",
    "    print(\"while\")\n",
    "print(\"outside of while\")"
   ]
  },
  {
   "cell_type": "code",
   "execution_count": 10,
   "id": "8d4aec34",
   "metadata": {},
   "outputs": [
    {
     "name": "stdout",
     "output_type": "stream",
     "text": [
      "Please enter your age: -15\n",
      "You entered incorrect.! Write out correct format.\n",
      "Please enter your age in correct format: 12a\n",
      "You entered incorrect.! Write out correct format.\n",
      "Please enter your age in correct format: yirmiiki\n",
      "You entered incorrect.! Write out correct format.\n",
      "Please enter your age in correct format: 22\n"
     ]
    }
   ],
   "source": [
    "age = input(\"Please enter your age: \")\n",
    "while not age.isdigit():\n",
    "    print(\"You entered incorrect.! Write out correct format.\")\n",
    "    age = input(\"Please enter your age in correct format: \")\n",
    "print(\"Your age is :,\" age)"
   ]
  },
  {
   "cell_type": "code",
   "execution_count": 18,
   "id": "4f11b496",
   "metadata": {},
   "outputs": [
    {
     "name": "stdout",
     "output_type": "stream",
     "text": [
      "Please enter your tahmin: 32\n",
      "Little higher\n",
      "Please again enter your tahmin: 33\n"
     ]
    }
   ],
   "source": [
    "number = 33\n",
    "usernum = int(input(\"Please enter your tahmin: \"))\n",
    "while number != usernum:\n",
    "    if number < usernum:\n",
    "        print(\"Little lower\")\n",
    "        usernum = int(input(\"Please again enter your tahmin: \"))\n",
    "    elif number > usernum:\n",
    "        print(\"Little higher\")\n",
    "        usernum = int(input(\"Please again enter your tahmin: \"))\n",
    "    else:\n",
    "    # if number == usernum:\n",
    "        print(\"Are You MINDREADER!\")\n",
    "        break\n",
    "            "
   ]
  },
  {
   "cell_type": "code",
   "execution_count": 24,
   "id": "25e920cc",
   "metadata": {},
   "outputs": [
    {
     "name": "stdout",
     "output_type": "stream",
     "text": [
      "Please write your sentence:Clarusway is the best IT school.\n",
      "the lengt of the longest word is : 9\n"
     ]
    }
   ],
   "source": [
    "# text = \"Clarusway is the best IT school.\"\n",
    "# text = \"Ben sizlerle birlikte olmaktan cok memnunum.\"\n",
    "\n",
    "sentence = input(\"Please write your sentence:\")\n",
    "words = sentence.split()\n",
    "i = 0\n",
    "longest = 0\n",
    "while i < len(words) :\n",
    "    if len(words[i]) > longest :\n",
    "        longest = len(words[i])\n",
    "    i += 1\n",
    "print(\"the lengt of the longest word is :\", longest)"
   ]
  },
  {
   "cell_type": "code",
   "execution_count": 26,
   "id": "20b67ea4",
   "metadata": {},
   "outputs": [
    {
     "name": "stdout",
     "output_type": "stream",
     "text": [
      "give me sentenceClarusway is the best IT school\n",
      "9\n",
      "Clarusway\n"
     ]
    }
   ],
   "source": [
    "a = input(\"give me sentence\")\n",
    "str_list = a.split()\n",
    "list_s = sorted(str_list, key=len)\n",
    "print(len(list_s[-1]))\n",
    "print(list_s[-1])"
   ]
  },
  {
   "cell_type": "code",
   "execution_count": 28,
   "id": "d716fa6a",
   "metadata": {},
   "outputs": [
    {
     "name": "stdout",
     "output_type": "stream",
     "text": [
      "Hello Ahmed\n",
      "Hello Aisha\n",
      "Hello Adam\n",
      "Hello Joseph\n",
      "Hello Gabriel\n",
      "Hello Halit\n"
     ]
    }
   ],
   "source": [
    "names = [\"Ahmed\", \"Aisha\", \"Adam\", \"Joseph\", \"Gabriel\", \"Halit\"]\n",
    "for i in names:\n",
    "    print(\"Hello\", i)"
   ]
  },
  {
   "cell_type": "code",
   "execution_count": 46,
   "id": "5aabbdb4",
   "metadata": {},
   "outputs": [
    {
     "name": "stdout",
     "output_type": "stream",
     "text": [
      "[1]\n",
      "[1, 2]\n",
      "[1, 2, 3]\n",
      "[1, 2, 3, 4]\n",
      "[1, 2, 3, 4, 5]\n"
     ]
    }
   ],
   "source": [
    "lst = []\n",
    "for i in range(1,6):\n",
    "    lst.append(i)\n",
    "    print(lst)\n"
   ]
  },
  {
   "cell_type": "code",
   "execution_count": 47,
   "id": "57535bcf",
   "metadata": {},
   "outputs": [
    {
     "name": "stdout",
     "output_type": "stream",
     "text": [
      "[1, 2, 3, 4, 5]\n"
     ]
    }
   ],
   "source": [
    "lst = []\n",
    "for i in range(1,6):\n",
    "    lst.append(i)\n",
    "print(lst)"
   ]
  },
  {
   "cell_type": "code",
   "execution_count": 37,
   "id": "66ec0d91",
   "metadata": {},
   "outputs": [
    {
     "data": {
      "text/plain": [
       "4"
      ]
     },
     "execution_count": 37,
     "metadata": {},
     "output_type": "execute_result"
    }
   ],
   "source": [
    "len(\"1000\")\n"
   ]
  },
  {
   "cell_type": "code",
   "execution_count": 44,
   "id": "073f2517",
   "metadata": {},
   "outputs": [
    {
     "name": "stdout",
     "output_type": "stream",
     "text": [
      "Give me a word please: Clarusway\n",
      "C-l-a-r-u-s-w-a-y"
     ]
    }
   ],
   "source": [
    "word = input(\"Give me a word please: \")\n",
    "count = 0\n",
    "\n",
    "for i in word:\n",
    "    count +=1\n",
    "    if count < len(word):\n",
    "        i += \"-\"\n",
    "    print(i, end = \"\")\n"
   ]
  },
  {
   "cell_type": "code",
   "execution_count": 51,
   "id": "d1739a09",
   "metadata": {},
   "outputs": [
    {
     "name": "stdout",
     "output_type": "stream",
     "text": [
      "Please enter your number: 5\n",
      "5 * 0 = 0\n",
      "5 * 1 = 5\n",
      "5 * 2 = 10\n",
      "5 * 3 = 15\n",
      "5 * 4 = 20\n",
      "5 * 5 = 25\n",
      "5 * 6 = 30\n",
      "5 * 7 = 35\n",
      "5 * 8 = 40\n",
      "5 * 9 = 45\n",
      "5 * 10 = 50\n"
     ]
    }
   ],
   "source": [
    "number = int(input(\"Please enter your number: \"))\n",
    "for i in range(11):\n",
    "    print(f\"{number} * {i} = {number*i}\")"
   ]
  },
  {
   "cell_type": "code",
   "execution_count": 52,
   "id": "04b1b3c2",
   "metadata": {},
   "outputs": [
    {
     "name": "stdout",
     "output_type": "stream",
     "text": [
      "1\n",
      "22\n",
      "333\n",
      "4444\n",
      "55555\n",
      "666666\n",
      "7777777\n",
      "88888888\n",
      "999999999\n"
     ]
    }
   ],
   "source": [
    "for i in range(1,10):\n",
    "    print(i * str(i))"
   ]
  },
  {
   "cell_type": "code",
   "execution_count": 54,
   "id": "053cf8c2",
   "metadata": {},
   "outputs": [
    {
     "data": {
      "text/plain": [
       "[('one', 1), ('two', 2), ('three', 3), ('four', 4), ('five', 5)]"
      ]
     },
     "execution_count": 54,
     "metadata": {},
     "output_type": "execute_result"
    }
   ],
   "source": [
    "text = ['one', 'two', 'three', 'four', 'five']\n",
    "numbers = [1, 2, 3, 4, 5]\n",
    "zip(text, numbers)\n",
    "list(zip(text, numbers))"
   ]
  },
  {
   "cell_type": "code",
   "execution_count": 56,
   "id": "10ef4d41",
   "metadata": {},
   "outputs": [
    {
     "name": "stdout",
     "output_type": "stream",
     "text": [
      "one 1\n",
      "two 2\n",
      "three 3\n",
      "four 4\n",
      "five 5\n"
     ]
    }
   ],
   "source": [
    "for x,y in list(zip(text, numbers)):\n",
    "    print(x, y)"
   ]
  },
  {
   "cell_type": "code",
   "execution_count": 70,
   "id": "eacec17d",
   "metadata": {},
   "outputs": [
    {
     "name": "stdout",
     "output_type": "stream",
     "text": [
      "evens : [0, 2, 4, 6, 8]\n",
      "odds : [1, 3, 5, 7, 9]\n"
     ]
    }
   ],
   "source": [
    "even = []\n",
    "odd = []\n",
    "for i in range(10):\n",
    "    if i % 2 == 0:\n",
    "        even.append(i)\n",
    "    else:\n",
    "        odd.append(i)\n",
    "print(f\"evens : {even}\")\n",
    "print(f\"odds : {odd}\")\n",
    "        "
   ]
  },
  {
   "cell_type": "code",
   "execution_count": 2,
   "id": "44f45726",
   "metadata": {},
   "outputs": [
    {
     "name": "stdout",
     "output_type": "stream",
     "text": [
      "The number of even numbers is 3\n",
      "The number of odd numbers is 4\n"
     ]
    }
   ],
   "source": [
    "numbers = [11,2,24,61,48,33,3,]\n",
    "even = 0\n",
    "odd = 0\n",
    "for i in numbers:\n",
    "    if i % 2 == 0:\n",
    "        even +=1\n",
    "    else:\n",
    "        odd +=1\n",
    "print(f\"The number of even numbers is {even}\")\n",
    "print(f\"The number of odd numbers is {odd}\")\n",
    "        "
   ]
  },
  {
   "cell_type": "code",
   "execution_count": null,
   "id": "46873ba3",
   "metadata": {},
   "outputs": [],
   "source": []
  }
 ],
 "metadata": {
  "kernelspec": {
   "display_name": "Python 3",
   "language": "python",
   "name": "python3"
  },
  "language_info": {
   "codemirror_mode": {
    "name": "ipython",
    "version": 3
   },
   "file_extension": ".py",
   "mimetype": "text/x-python",
   "name": "python",
   "nbconvert_exporter": "python",
   "pygments_lexer": "ipython3",
   "version": "3.8.8"
  }
 },
 "nbformat": 4,
 "nbformat_minor": 5
}
