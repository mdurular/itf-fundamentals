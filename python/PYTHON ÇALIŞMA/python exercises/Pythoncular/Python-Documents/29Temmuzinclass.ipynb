{
 "cells": [
  {
   "cell_type": "code",
   "execution_count": 1,
   "id": "eaccc843",
   "metadata": {},
   "outputs": [
    {
     "name": "stdout",
     "output_type": "stream",
     "text": [
      "The number of even numbers is 3\n",
      "The number of odd numbers is 4\n"
     ]
    }
   ],
   "source": [
    "numbers = [11,2,24,61,48,33,3,]\n",
    "even = 0\n",
    "odd = 0\n",
    "for i in numbers:\n",
    "    if not i % 2:\n",
    "        even +=1\n",
    "    else:\n",
    "        odd +=1\n",
    "print(f\"The number of even numbers is {even}\")\n",
    "print(f\"The number of odd numbers is {odd}\")"
   ]
  },
  {
   "cell_type": "code",
   "execution_count": 3,
   "id": "652989e2",
   "metadata": {},
   "outputs": [
    {
     "name": "stdout",
     "output_type": "stream",
     "text": [
      "2775\n"
     ]
    }
   ],
   "source": [
    "sum = 0\n",
    "for i in range(1, 75):\n",
    "       sum +=i\n",
    "print(sum)"
   ]
  },
  {
   "cell_type": "code",
   "execution_count": 20,
   "id": "57fc9070",
   "metadata": {},
   "outputs": [
    {
     "name": "stdout",
     "output_type": "stream",
     "text": [
      "susan is happy\n",
      "susan is sad\n",
      "tom is happy\n",
      "tom is sad\n",
      "edward is happy\n",
      "edward is sad\n"
     ]
    }
   ],
   "source": [
    "names = [\"susan\", \"tom\", \"edward\"] \n",
    "mood = [\"happy\", \"sad\"]\n",
    "for i in names:\n",
    "    for j in mood:\n",
    "        print(i, \"is\", j)"
   ]
  },
  {
   "cell_type": "code",
   "execution_count": 21,
   "id": "052358a1",
   "metadata": {},
   "outputs": [
    {
     "data": {
      "text/plain": [
       "[0, 1, 2, 3, 4]"
      ]
     },
     "execution_count": 21,
     "metadata": {},
     "output_type": "execute_result"
    }
   ],
   "source": [
    "listem = []\n",
    "for i in range(5) :\n",
    "    listem.append(i)\n",
    "listem"
   ]
  },
  {
   "cell_type": "code",
   "execution_count": 24,
   "id": "a46d03e1",
   "metadata": {},
   "outputs": [
    {
     "data": {
      "text/plain": [
       "[0, 1, 2, 3, 4]"
      ]
     },
     "execution_count": 24,
     "metadata": {},
     "output_type": "execute_result"
    }
   ],
   "source": [
    "'''python\n",
    "for item in iterable:\n",
    "    expression\n",
    "\n",
    "[expresssion for item in iterable]\n",
    "'''\n",
    "#[expression for i in range(6)]\n",
    "\n",
    "[item for item in range(5)]\n"
   ]
  },
  {
   "cell_type": "code",
   "execution_count": 25,
   "id": "04b7a0e8",
   "metadata": {},
   "outputs": [
    {
     "data": {
      "text/plain": [
       "[0, 1, 4, 9, 16]"
      ]
     },
     "execution_count": 25,
     "metadata": {},
     "output_type": "execute_result"
    }
   ],
   "source": [
    "[i ** 2   for i in range(5)]"
   ]
  },
  {
   "cell_type": "code",
   "execution_count": 26,
   "id": "d0865566",
   "metadata": {},
   "outputs": [
    {
     "name": "stdout",
     "output_type": "stream",
     "text": [
      "1\n"
     ]
    }
   ],
   "source": [
    "# Ternary if statememts\n",
    "'''\n",
    "condition = True\n",
    "if condition :\n",
    "    a = 1\n",
    "else:\n",
    "    a = 0\n",
    "print(a)\n",
    "\n",
    "\n",
    "if_body if condition else else_body\n",
    "\n",
    "'''"
   ]
  },
  {
   "cell_type": "code",
   "execution_count": 27,
   "id": "77e9001c",
   "metadata": {},
   "outputs": [
    {
     "name": "stdout",
     "output_type": "stream",
     "text": [
      "1\n"
     ]
    },
    {
     "data": {
      "text/plain": [
       "1"
      ]
     },
     "execution_count": 27,
     "metadata": {},
     "output_type": "execute_result"
    }
   ],
   "source": [
    "condition = True\n",
    "\n",
    "if condition :\n",
    "    a = 1\n",
    "else:\n",
    "    a = 0\n",
    "    \n",
    "print(a)\n",
    "\n",
    "1 if condition else 0"
   ]
  },
  {
   "cell_type": "code",
   "execution_count": 31,
   "id": "abc73c68",
   "metadata": {},
   "outputs": [
    {
     "name": "stdout",
     "output_type": "stream",
     "text": [
      "1\n",
      "1\n",
      "0\n"
     ]
    }
   ],
   "source": [
    "a= 1 if condition else 0\n",
    "print(a)\n",
    "print(1 if condition else 0)\n",
    "print(1 if False else 0)"
   ]
  },
  {
   "cell_type": "code",
   "execution_count": 35,
   "id": "1dcb056a",
   "metadata": {},
   "outputs": [
    {
     "data": {
      "text/plain": [
       "[1, 4, 9, 16, 25, 36]"
      ]
     },
     "execution_count": 35,
     "metadata": {},
     "output_type": "execute_result"
    }
   ],
   "source": [
    "listem = [1,2,3,4,5,6]\n",
    "[i ** 2 for i in listem]"
   ]
  },
  {
   "cell_type": "code",
   "execution_count": 36,
   "id": "9201c6d5",
   "metadata": {},
   "outputs": [
    {
     "data": {
      "text/plain": [
       "[1, 9, 25]"
      ]
     },
     "execution_count": 36,
     "metadata": {},
     "output_type": "execute_result"
    }
   ],
   "source": [
    "[i ** 2 for i in listem if i%2 ]\n",
    "# [if_body if i % 2]"
   ]
  },
  {
   "cell_type": "code",
   "execution_count": null,
   "id": "4b3638e3",
   "metadata": {},
   "outputs": [],
   "source": [
    "listA =[\"Susan\", \"Tom\",False, 0, \"0\"]\n",
    "havadaki_object "
   ]
  },
  {
   "cell_type": "code",
   "execution_count": null,
   "id": "cbd0b291",
   "metadata": {},
   "outputs": [],
   "source": [
    "a=[1,2,3,4]\n",
    "b=[sum(a[0:x+1]) for x in range(0,len(a))]\n",
    "print(b)\n"
   ]
  },
  {
   "cell_type": "code",
   "execution_count": null,
   "id": "ddd36584",
   "metadata": {},
   "outputs": [],
   "source": [
    "L1 = []\n",
    "L1.append([1, [2, 3], 4])\n",
    "print(L1)\n",
    "L1.extend([7, 8, 9])\n",
    "print(L1)\n",
    "print(L1[0][1][1] + L1[2])"
   ]
  },
  {
   "cell_type": "code",
   "execution_count": null,
   "id": "645657b1",
   "metadata": {},
   "outputs": [],
   "source": [
    "D = {1 : 1, 2 : '2', '1' : 2, '2' : 3}\n",
    "D['1'] = 2\n",
    "print(D[D[D['str(D[1])']]])"
   ]
  },
  {
   "cell_type": "code",
   "execution_count": null,
   "id": "dac3ea50",
   "metadata": {},
   "outputs": [],
   "source": [
    "set1 = {1, 2, 3}\n",
    "set2 = set1.copy()\n",
    "set2.add(4)\n",
    "print(set2)\n",
    "print(set1)"
   ]
  },
  {
   "cell_type": "code",
   "execution_count": null,
   "id": "4575224a",
   "metadata": {},
   "outputs": [],
   "source": []
  },
  {
   "cell_type": "code",
   "execution_count": null,
   "id": "3dce00b8",
   "metadata": {},
   "outputs": [],
   "source": []
  },
  {
   "cell_type": "code",
   "execution_count": null,
   "id": "2eae28f2",
   "metadata": {},
   "outputs": [],
   "source": []
  }
 ],
 "metadata": {
  "kernelspec": {
   "display_name": "Python 3",
   "language": "python",
   "name": "python3"
  },
  "language_info": {
   "codemirror_mode": {
    "name": "ipython",
    "version": 3
   },
   "file_extension": ".py",
   "mimetype": "text/x-python",
   "name": "python",
   "nbconvert_exporter": "python",
   "pygments_lexer": "ipython3",
   "version": "3.8.8"
  }
 },
 "nbformat": 4,
 "nbformat_minor": 5
}
