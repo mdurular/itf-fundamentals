{
 "cells": [
  {
   "cell_type": "code",
   "execution_count": 2,
   "id": "fe560598",
   "metadata": {},
   "outputs": [
    {
     "name": "stdout",
     "output_type": "stream",
     "text": [
      "The type of {'bolum': 5, 'konu': 2} is <class 'dict'>'tir.\n",
      "The type of Galatasaray is <class 'str'>'tir.\n",
      "The type of [1, 4] is <class 'list'>'tir.\n",
      "The type of 2025 is <class 'int'>'tir.\n",
      "The type of 3.14 is <class 'float'>'tir.\n",
      "The type of (1+618j) is <class 'complex'>'tir.\n",
      "The type of True is <class 'bool'>'tir.\n",
      "The type of (10, 20) is <class 'tuple'>'tir.\n",
      "The type of {1, 5, 17, 25} is <class 'set'>'tir.\n"
     ]
    }
   ],
   "source": [
    "iterable = [{\"bolum\":5, \"konu\":2}, 'Galatasaray', [1, 4], 2025, 3.14, \\\n",
    "            1+618j, True, (10, 20), {1, 5, 17, 25}]\n",
    "for i in iterable:\n",
    "    print(f\"The type of {i} is {type(i)}'tir.\")"
   ]
  },
  {
   "cell_type": "code",
   "execution_count": 3,
   "id": "7d5f1be5",
   "metadata": {},
   "outputs": [
    {
     "name": "stdout",
     "output_type": "stream",
     "text": [
      "Please enter a number: 3\n",
      "0\n",
      "1\n",
      "4\n"
     ]
    }
   ],
   "source": [
    "number = int(input('Please enter a number: '))\n",
    "i = 0\n",
    "while i < number:\n",
    "    print(i ** 2)\n",
    "    i += 1"
   ]
  },
  {
   "cell_type": "code",
   "execution_count": 1,
   "id": "59ecc837",
   "metadata": {},
   "outputs": [
    {
     "name": "stdout",
     "output_type": "stream",
     "text": [
      "49\n",
      "44\n",
      "39\n",
      "34\n",
      "29\n",
      "24\n",
      "19\n",
      "14\n"
     ]
    }
   ],
   "source": [
    "a = 49\n",
    "while a > 10:\n",
    "    print(a)\n",
    "    a -= 5"
   ]
  },
  {
   "cell_type": "code",
   "execution_count": 4,
   "id": "b14acb92",
   "metadata": {},
   "outputs": [
    {
     "name": "stdout",
     "output_type": "stream",
     "text": [
      "49\n"
     ]
    }
   ],
   "source": [
    "a = 49\n",
    "while a % 2 != 0:\n",
    "    print(a)\n",
    "    a += 5"
   ]
  },
  {
   "cell_type": "code",
   "execution_count": 5,
   "id": "77cc4e91",
   "metadata": {},
   "outputs": [
    {
     "name": "stdout",
     "output_type": "stream",
     "text": [
      "49\n",
      "54\n",
      "59\n"
     ]
    }
   ],
   "source": [
    "a = 49\n",
    "while a <= 62:\n",
    "    print(a)\n",
    "    a += 5"
   ]
  },
  {
   "cell_type": "code",
   "execution_count": 10,
   "id": "59650dd7",
   "metadata": {},
   "outputs": [
    {
     "name": "stdout",
     "output_type": "stream",
     "text": [
      "Please enter your saved amount: 99\n",
      "You must save more, keep saving!\n"
     ]
    }
   ],
   "source": [
    "saved_amount = int(input('Please enter your saved amount: '))\n",
    "ps4_price = 220\n",
    "if saved_amount <= ps4_price/2:\n",
    "    print('You must save more, keep saving!')\n",
    "elif saved_amount > ps4_price/2 and saved_amount < ps4_price:\n",
    "    print('You saved more than half, keep saving!')\n",
    "else:\n",
    "    print('Yippee! You can buy your PS4')"
   ]
  },
  {
   "cell_type": "code",
   "execution_count": 11,
   "id": "27e2cc10",
   "metadata": {},
   "outputs": [
    {
     "name": "stdout",
     "output_type": "stream",
     "text": [
      "Please enter the mark: 40\n",
      "F (Failed)\n"
     ]
    }
   ],
   "source": [
    "math_mark = int(input('Please enter the mark: '))\n",
    "if math_mark >= 85 and math_mark <= 100:\n",
    "    print(\"A (Excellent)\")\n",
    "elif math_mark >= 70 and math_mark <= 84 :\n",
    "    print(\"B (Good)\")\n",
    "elif math_mark >= 60 and math_mark <= 69 :\n",
    "    print(\"C (Medium)\")\n",
    "elif math_mark >= 45 and math_mark <= 59 :\n",
    "    print(\"D (Not Bad)\")\n",
    "else:\n",
    "    print(\"F (Failed)\")"
   ]
  },
  {
   "cell_type": "code",
   "execution_count": 12,
   "id": "17cd9245",
   "metadata": {},
   "outputs": [
    {
     "name": "stdout",
     "output_type": "stream",
     "text": [
      "1\n",
      "4\n",
      "9\n",
      "16\n"
     ]
    }
   ],
   "source": [
    "iterable = [1, 2, 3, 4]\n",
    "for i in iterable :\n",
    "    print(i ** 2)"
   ]
  },
  {
   "cell_type": "code",
   "execution_count": 13,
   "id": "6541d8a6",
   "metadata": {},
   "outputs": [
    {
     "name": "stdout",
     "output_type": "stream",
     "text": [
      "Rose\n",
      "Orchid\n",
      "Tulip\n"
     ]
    }
   ],
   "source": [
    "flowers = ['Rose', 'Orchid', 'Tulip']\n",
    "a = len(flowers)\n",
    "# print(count1)\n",
    "b = 0 \n",
    "while a > 0 :\n",
    "    print(flowers[b-a])\n",
    "    a -= 1"
   ]
  },
  {
   "cell_type": "code",
   "execution_count": 14,
   "id": "f53c3ab6",
   "metadata": {},
   "outputs": [
    {
     "name": "stdout",
     "output_type": "stream",
     "text": [
      "The number is equal or greater than 10\n"
     ]
    }
   ],
   "source": [
    "number = 23\n",
    "if number >= 10:\n",
    "    print(\"The number is equal or greater than 10\")\n",
    "elif number < 10:\n",
    "    print(\"The number is less than 10\")"
   ]
  },
  {
   "cell_type": "code",
   "execution_count": 15,
   "id": "cf2d23f3",
   "metadata": {},
   "outputs": [
    {
     "name": "stdout",
     "output_type": "stream",
     "text": [
      "\\nhello\n",
      "newlineend 3\n"
     ]
    }
   ],
   "source": [
    "print(r\"\\nhello\")\n",
    "print(\"new\" \"line\" \"end\", 3)"
   ]
  },
  {
   "cell_type": "code",
   "execution_count": 18,
   "id": "02db637c",
   "metadata": {},
   "outputs": [
    {
     "ename": "SyntaxError",
     "evalue": "invalid syntax (<ipython-input-18-3c1113a8bc99>, line 2)",
     "output_type": "error",
     "traceback": [
      "\u001b[1;36m  File \u001b[1;32m\"<ipython-input-18-3c1113a8bc99>\"\u001b[1;36m, line \u001b[1;32m2\u001b[0m\n\u001b[1;33m    print(\"new\" \"line\" \"end\"  3 )\u001b[0m\n\u001b[1;37m                              ^\u001b[0m\n\u001b[1;31mSyntaxError\u001b[0m\u001b[1;31m:\u001b[0m invalid syntax\n"
     ]
    }
   ],
   "source": [
    "# print(r\"\\nhello\")\n",
    "print(\"new\" \"line\" \"end\"  3 )"
   ]
  },
  {
   "cell_type": "code",
   "execution_count": 17,
   "id": "7a049b99",
   "metadata": {},
   "outputs": [
    {
     "name": "stdout",
     "output_type": "stream",
     "text": [
      "\\nhello\n",
      "newline\n"
     ]
    }
   ],
   "source": [
    "print(r\"\\nhello\")\n",
    "print(\"new\" \"line\")"
   ]
  },
  {
   "cell_type": "code",
   "execution_count": null,
   "id": "a1b1b46d",
   "metadata": {},
   "outputs": [],
   "source": [
    "str1 = \"hello\"\n",
    "str2 = \",\"\n",
    "str3 = \"world\"\n",
    "print(str1[-1:])\n",
    "str1 = \"world\""
   ]
  },
  {
   "cell_type": "code",
   "execution_count": 19,
   "id": "22d2f81f",
   "metadata": {},
   "outputs": [
    {
     "name": "stdout",
     "output_type": "stream",
     "text": [
      "33\n"
     ]
    }
   ],
   "source": [
    "print(0xA + 0xB + 0xC)"
   ]
  },
  {
   "cell_type": "code",
   "execution_count": 20,
   "id": "85879ae2",
   "metadata": {},
   "outputs": [
    {
     "name": "stdout",
     "output_type": "stream",
     "text": [
      "sayı : 10\n",
      "sayı pozitif\n"
     ]
    }
   ],
   "source": [
    "num = int(input('sayı : '))\n",
    "\n",
    "if num>0:\n",
    "    print('sayı pozitif')\n",
    "elif num<0:\n",
    "    print('sayı negatif')\n",
    "else:\n",
    "    print('sayı sıfır')"
   ]
  },
  {
   "cell_type": "code",
   "execution_count": null,
   "id": "17cc5095",
   "metadata": {},
   "outputs": [],
   "source": []
  }
 ],
 "metadata": {
  "kernelspec": {
   "display_name": "Python 3",
   "language": "python",
   "name": "python3"
  },
  "language_info": {
   "codemirror_mode": {
    "name": "ipython",
    "version": 3
   },
   "file_extension": ".py",
   "mimetype": "text/x-python",
   "name": "python",
   "nbconvert_exporter": "python",
   "pygments_lexer": "ipython3",
   "version": "3.8.8"
  }
 },
 "nbformat": 4,
 "nbformat_minor": 5
}
