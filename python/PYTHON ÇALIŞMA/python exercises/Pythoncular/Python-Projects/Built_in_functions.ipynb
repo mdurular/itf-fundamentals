{
 "cells": [
  {
   "cell_type": "code",
   "execution_count": 4,
   "id": "4563d84e",
   "metadata": {},
   "outputs": [
    {
     "data": {
      "text/plain": [
       "20.223748416156685"
      ]
     },
     "execution_count": 4,
     "metadata": {},
     "output_type": "execute_result"
    }
   ],
   "source": [
    "abs(-20)\n",
    "abs(20.0)\n",
    "abs(20+3j)\n",
    "# abs() fonksiyonunu bir sayının mutlak değerini elde etmek için kullanıyoruz."
   ]
  },
  {
   "cell_type": "code",
   "execution_count": 9,
   "id": "5214885a",
   "metadata": {},
   "outputs": [
    {
     "data": {
      "text/plain": [
       "12"
      ]
     },
     "execution_count": 9,
     "metadata": {},
     "output_type": "execute_result"
    }
   ],
   "source": [
    "# round() fonksiyonu bir sayıyı belli ölçütlere göre yukarı veya aşağı doğru yuvarlamamızı sağlar. \n",
    ">>> round(12.4)"
   ]
  },
  {
   "cell_type": "code",
   "execution_count": 90,
   "id": "7731458f",
   "metadata": {},
   "outputs": [
    {
     "data": {
      "text/plain": [
       "126"
      ]
     },
     "execution_count": 90,
     "metadata": {},
     "output_type": "execute_result"
    }
   ],
   "source": [
    ">>> round(abs(-125.7))"
   ]
  },
  {
   "cell_type": "code",
   "execution_count": 13,
   "id": "9bd71079",
   "metadata": {},
   "outputs": [
    {
     "name": "stdout",
     "output_type": "stream",
     "text": [
      "2\n",
      "12\n"
     ]
    }
   ],
   "source": [
    "print(round(1.5))\n",
    "print(round(12.5))\n",
    "'''\n",
    "kayan noktalı bir sayının üst ve alt tam sayılara olan uzaklığının birbirine \n",
    "eşit olduğu durumlarda Python’ın çift sayıya doğru yuvarlama yapmayı tercih etmektedir. \n",
    "Mesela yukarıdaki örneklerde 1.5 sayısı hem 1 sayısına, hem de 2 sayısına eşit uzaklıkta bulunuyor.\n",
    "İşte Python bu durumda, bir çift sayı olan 2 sayısına doğru yuvarlamayı tercih edecektir.\n",
    "'''"
   ]
  },
  {
   "cell_type": "code",
   "execution_count": 18,
   "id": "63cab2aa",
   "metadata": {},
   "outputs": [
    {
     "name": "stdout",
     "output_type": "stream",
     "text": [
      "3\n",
      "3.0\n",
      "3.1\n",
      "3.14\n",
      "3.143\n",
      "3.1429\n"
     ]
    }
   ],
   "source": [
    "'''round() fonksiyonu toplam iki parametre alır. İlk parametre, yuvarlanacak sayının kendisidir.\n",
    "Yuvarlama hassasiyetini belirlemek için ise ikinci bir parametreden yararlanabiliriz.\n",
    "verdiğimiz ikinci parametre, yuvarlama işleminin ne kadar hassas olacağını belirliyor.\n",
    "'''\n",
    "print(round(22/7))\n",
    "print(round(22/7, 0))\n",
    "print(round(22/7, 1))\n",
    "print(round(22/7, 2))\n",
    "print(round(22/7, 3))\n",
    "print(round(22/7, 4))"
   ]
  },
  {
   "cell_type": "code",
   "execution_count": 1,
   "id": "08b6575c",
   "metadata": {},
   "outputs": [],
   "source": [
    "def all(iterable):\n",
    "    for element in iterable:\n",
    "        if not element:\n",
    "            return False\n",
    "    return True\n",
    "'''\n",
    "Bu fonksiyonun görevi de bu anlamı çağrıştırır. all() fonksiyonunun görevi, \n",
    "bir dizi içinde bulunan bütün değerler True ise True değeri, \n",
    "eğer bu değerlerden herhangi biri False ise de False değeri döndürmektir.\n",
    "'''"
   ]
  },
  {
   "cell_type": "code",
   "execution_count": 5,
   "id": "c961f032",
   "metadata": {},
   "outputs": [
    {
     "data": {
      "text/plain": [
       "True"
      ]
     },
     "execution_count": 5,
     "metadata": {},
     "output_type": "execute_result"
    }
   ],
   "source": [
    "a = 3\n",
    ">>> t1 = a == 3         #sayı 3 mü?\n",
    ">>> t2 = a < 4          #sayı 4'ten küçük mü?\n",
    ">>> t3 = a % 2 == 1     #sayı bir tek sayı mı?\n",
    ">>> all([t1, t2, t3])   #sayı bu özelliklerin hepsine sahip mi?"
   ]
  },
  {
   "cell_type": "code",
   "execution_count": 95,
   "id": "3f635ced",
   "metadata": {},
   "outputs": [
    {
     "data": {
      "text/plain": [
       "False"
      ]
     },
     "execution_count": 95,
     "metadata": {},
     "output_type": "execute_result"
    }
   ],
   "source": [
    ">>> liste = ['ahmet', 'mehmet', '']\n",
    ">>> all(liste)\n"
   ]
  },
  {
   "cell_type": "code",
   "execution_count": 92,
   "id": "131d32cd",
   "metadata": {},
   "outputs": [
    {
     "data": {
      "text/plain": [
       "False"
      ]
     },
     "execution_count": 92,
     "metadata": {},
     "output_type": "execute_result"
    }
   ],
   "source": [
    "mylist = [0, 1, 1]\n",
    "x = all(mylist)\n",
    "x"
   ]
  },
  {
   "cell_type": "code",
   "execution_count": 38,
   "id": "0d2e65d1",
   "metadata": {},
   "outputs": [
    {
     "data": {
      "text/plain": [
       "False"
      ]
     },
     "execution_count": 38,
     "metadata": {},
     "output_type": "execute_result"
    }
   ],
   "source": [
    "mytuple = (0, True, False)\n",
    "x = all(mytuple)\n",
    "x"
   ]
  },
  {
   "cell_type": "code",
   "execution_count": 39,
   "id": "557b7fc6",
   "metadata": {},
   "outputs": [
    {
     "data": {
      "text/plain": [
       "False"
      ]
     },
     "execution_count": 39,
     "metadata": {},
     "output_type": "execute_result"
    }
   ],
   "source": [
    "myset = {0, 1, 0}\n",
    "x = all(myset)\n",
    "x"
   ]
  },
  {
   "cell_type": "code",
   "execution_count": 96,
   "id": "e849cd9b",
   "metadata": {},
   "outputs": [
    {
     "data": {
      "text/plain": [
       "True"
      ]
     },
     "execution_count": 96,
     "metadata": {},
     "output_type": "execute_result"
    }
   ],
   "source": [
    "mydict = {0 : \"Apple\", 1 : \"Orange\"}\n",
    "x = all(mydict)\n",
    "x\n",
    "# When used on a dictionary, the all() function checks if all the keys are true, not the values."
   ]
  },
  {
   "cell_type": "code",
   "execution_count": 104,
   "id": "744812eb",
   "metadata": {},
   "outputs": [
    {
     "data": {
      "text/plain": [
       "True"
      ]
     },
     "execution_count": 104,
     "metadata": {},
     "output_type": "execute_result"
    }
   ],
   "source": [
    ">>> liste = []\n",
    "all(liste)\n"
   ]
  },
  {
   "cell_type": "code",
   "execution_count": null,
   "id": "8cb324a1",
   "metadata": {},
   "outputs": [],
   "source": [
    "def any(iterable):\n",
    "    for element in iterable:\n",
    "        if element:\n",
    "            return True\n",
    "    return False\n",
    "'''\n",
    "any() fonksiyonunun True çıktısı verebilmesi için listede yalnızca bir adet True \n",
    "değerli öğe olması yeterlidir. Bu fonksiyonun False çıktısı verebilmesi için dizi \n",
    "içindeki bütün öğelerin bool değerinin False olması gerekir\n",
    "'''"
   ]
  },
  {
   "cell_type": "code",
   "execution_count": 8,
   "id": "97c01bbe",
   "metadata": {},
   "outputs": [
    {
     "data": {
      "text/plain": [
       "True"
      ]
     },
     "execution_count": 8,
     "metadata": {},
     "output_type": "execute_result"
    }
   ],
   "source": [
    ">>> liste = ['ahmet', 'mehmet', '']\n",
    ">>> any(liste)\n",
    "# İçi boş veri tiplerinin bool değerinin False olduğunu biliyorsunuz."
   ]
  },
  {
   "cell_type": "code",
   "execution_count": 108,
   "id": "e962b874",
   "metadata": {},
   "outputs": [
    {
     "data": {
      "text/plain": [
       "True"
      ]
     },
     "execution_count": 108,
     "metadata": {},
     "output_type": "execute_result"
    }
   ],
   "source": [
    "mytuple = (0, 1, False)\n",
    "x = any(mytuple)\n",
    "x"
   ]
  },
  {
   "cell_type": "code",
   "execution_count": 35,
   "id": "2932983c",
   "metadata": {},
   "outputs": [
    {
     "data": {
      "text/plain": [
       "True"
      ]
     },
     "execution_count": 35,
     "metadata": {},
     "output_type": "execute_result"
    }
   ],
   "source": [
    "myset = {0, 1, 0}\n",
    "x = any(myset)\n",
    "x"
   ]
  },
  {
   "cell_type": "code",
   "execution_count": 36,
   "id": "cd2f8589",
   "metadata": {},
   "outputs": [
    {
     "data": {
      "text/plain": [
       "True"
      ]
     },
     "execution_count": 36,
     "metadata": {},
     "output_type": "execute_result"
    }
   ],
   "source": [
    "mydict = {0 : \"Apple\", 1 : \"Orange\"}\n",
    "x = any(mydict)\n",
    "x\n",
    "# When used on a dictionary, the any() function checks if any of the keys are true, not the values."
   ]
  },
  {
   "cell_type": "code",
   "execution_count": null,
   "id": "9aeb3904",
   "metadata": {},
   "outputs": [],
   "source": [
    "# Tıpkı all() fonksiyonunda olduğu gibi, any() fonksiyonunu da, bir grup nesnenin bool değerlerini \n",
    "# denetlemek amacıyla kullanabilirsiniz."
   ]
  },
  {
   "cell_type": "code",
   "execution_count": 20,
   "id": "fb3752b8",
   "metadata": {},
   "outputs": [
    {
     "data": {
      "text/plain": [
       "\"'My name is St\\\\xe5le'\""
      ]
     },
     "execution_count": 20,
     "metadata": {},
     "output_type": "execute_result"
    }
   ],
   "source": [
    "x = ascii(\"My name is Ståle\")\n",
    "x"
   ]
  },
  {
   "cell_type": "code",
   "execution_count": 21,
   "id": "1c1c96d5",
   "metadata": {},
   "outputs": [
    {
     "name": "stdout",
     "output_type": "stream",
     "text": [
      "'\\n!'\n"
     ]
    }
   ],
   "source": [
    ">>> print(ascii('\\n!'))"
   ]
  },
  {
   "cell_type": "code",
   "execution_count": 23,
   "id": "5d5a73c7",
   "metadata": {},
   "outputs": [
    {
     "name": "stdout",
     "output_type": "stream",
     "text": [
      "'\\u0131\\u015f\\u0131k'\n"
     ]
    }
   ],
   "source": [
    ">>> a = 'ışık'\n",
    ">>> print(ascii(a))\n",
    "#'\\u0131\\u015f\\u0131k'"
   ]
  },
  {
   "cell_type": "code",
   "execution_count": 24,
   "id": "a78b50ed",
   "metadata": {},
   "outputs": [
    {
     "name": "stdout",
     "output_type": "stream",
     "text": [
      "'\\u0131'\n",
      "'\\u015f'\n",
      "'\\u0131'\n",
      "'k'\n"
     ]
    }
   ],
   "source": [
    ">>> for i in a:\n",
    "...     print(ascii(i))"
   ]
  },
  {
   "cell_type": "code",
   "execution_count": 26,
   "id": "a5ecd146",
   "metadata": {},
   "outputs": [
    {
     "name": "stdout",
     "output_type": "stream",
     "text": [
      "['elma', 'armut', 'erik']\n",
      "<class 'str'>\n"
     ]
    }
   ],
   "source": [
    ">>> liste = ['elma', 'armut', 'erik']\n",
    ">>> temsil = ascii(liste)\n",
    ">>> print(temsil)\n",
    ">>> print(type(temsil))\n",
    "\n",
    "'''\n",
    "Burada listemiz ascii() fonksiyonuna parametre olarak verildikten sonra artık liste \n",
    "olma özelliğini yitirip bir karakter dizisi haline gelir. \n",
    "'''"
   ]
  },
  {
   "cell_type": "code",
   "execution_count": 109,
   "id": "ffde602d",
   "metadata": {},
   "outputs": [
    {
     "data": {
      "text/plain": [
       "'e'"
      ]
     },
     "execution_count": 109,
     "metadata": {},
     "output_type": "execute_result"
    }
   ],
   "source": [
    ">>> temsil[2]"
   ]
  },
  {
   "cell_type": "code",
   "execution_count": 30,
   "id": "2dccb746",
   "metadata": {},
   "outputs": [
    {
     "name": "stdout",
     "output_type": "stream",
     "text": [
      "'\\u015feker'\n",
      "'şeker'\n"
     ]
    }
   ],
   "source": [
    "'''\n",
    "repr() fonksiyonunun yaptığı iş, biraz önce gördüğümüz ascii() fonksiyonunun yaptığı \n",
    "işe çok benzer. Bu iki fonksiyon, ASCII olmayan karakterlere muameleleri \n",
    "açısından birbirinden ayrılır.\n",
    "'''\n",
    "print(ascii('şeker'))\n",
    "print(repr('şeker'))\n",
    "'''repr() fonksiyonu ise ASCII olmayan karakterlerle karşılaşsa bile, bize çıktı \n",
    "olarak bunların da karakter karşılıklarını gösterir.\n",
    "Geri kalan özellikleri bakımından repr() ve ascii() fonksiyonları birbiriyle aynıdır.\n",
    "'''"
   ]
  },
  {
   "cell_type": "code",
   "execution_count": 31,
   "id": "5bcf0f15",
   "metadata": {},
   "outputs": [
    {
     "data": {
      "text/plain": [
       "'0b1100'"
      ]
     },
     "execution_count": 31,
     "metadata": {},
     "output_type": "execute_result"
    }
   ],
   "source": [
    ">>> bin(12)\n",
    "# Bu fonksiyonun verdiği çıktının bir sayı değil, karakter dizisi olduğuna dikkat etmelisiniz.\n",
    "# The result will always start with the prefix 0b.\n",
    "8  4  2  1\n",
    "1  1  0  0"
   ]
  },
  {
   "cell_type": "code",
   "execution_count": 48,
   "id": "e0b086e2",
   "metadata": {},
   "outputs": [
    {
     "name": "stdout",
     "output_type": "stream",
     "text": [
      "18\n",
      "24\n",
      "32\n"
     ]
    }
   ],
   "source": [
    "'''\n",
    "The filter() function returns an iterator were the items are filtered \n",
    "through a function to test if the item is accepted or not.\n",
    "\n",
    "filter(function, iterable)\n",
    "'''\n",
    "ages = [5, 12, 17, 18, 24, 32]\n",
    "\n",
    "def myFunc(x):\n",
    "    if x < 18:\n",
    "        return False\n",
    "    else:\n",
    "        return True\n",
    "\n",
    "adults = filter(myFunc, ages)\n",
    "\n",
    "for x in adults:\n",
    "    print(x)"
   ]
  },
  {
   "cell_type": "code",
   "execution_count": 50,
   "id": "f385a52c",
   "metadata": {},
   "outputs": [
    {
     "name": "stdout",
     "output_type": "stream",
     "text": [
      "True\n"
     ]
    }
   ],
   "source": [
    "'''\n",
    "The callable() function returns True if the specified object is callable, \n",
    "otherwise it returns False.\n",
    "callable(object)\n",
    "The object: you want to test if it is callable or not. (cagrilabilir obje)\n",
    "'''\n",
    "def x ():\n",
    "    a = 5\n",
    "\n",
    "print(callable(x))"
   ]
  },
  {
   "cell_type": "code",
   "execution_count": 52,
   "id": "685e95cd",
   "metadata": {},
   "outputs": [
    {
     "name": "stdout",
     "output_type": "stream",
     "text": [
      "False\n"
     ]
    }
   ],
   "source": [
    "# A normal variable is not callable:\n",
    "x = 5\n",
    "print(callable(x))"
   ]
  },
  {
   "cell_type": "code",
   "execution_count": 53,
   "id": "e3e0fe4a",
   "metadata": {},
   "outputs": [
    {
     "name": "stdout",
     "output_type": "stream",
     "text": [
      "55\n"
     ]
    }
   ],
   "source": [
    "'''\n",
    "The compile() function returns the specified source as a code object, ready to be executed.\n",
    "compile(source, filename, mode, flag, dont_inherit, optimize)\n",
    "'''\n",
    "x = compile('print(55)', 'test', 'eval')\n",
    "exec(x)"
   ]
  },
  {
   "cell_type": "code",
   "execution_count": 54,
   "id": "6040e9a5",
   "metadata": {},
   "outputs": [
    {
     "name": "stdout",
     "output_type": "stream",
     "text": [
      "55\n",
      "88\n"
     ]
    }
   ],
   "source": [
    "x = compile('print(55)\\nprint(88)', 'test', 'exec')\n",
    "exec(x)"
   ]
  },
  {
   "cell_type": "code",
   "execution_count": 55,
   "id": "03882707",
   "metadata": {},
   "outputs": [
    {
     "name": "stdout",
     "output_type": "stream",
     "text": [
      "55\n"
     ]
    }
   ],
   "source": [
    "'''\n",
    "The eval() function evaluates the specified expression, if the expression \n",
    "is a legal Python statement, it will be executed.\n",
    "eval(expression, globals, locals)\n",
    "    expression : A String, that will be evaluated as Python code\n",
    "    globals  : Optional. A dictionary containing global parameters\n",
    "    locals : Optional. A dictionary containing local parameters\n",
    "'''\n",
    "x = 'print(55)'\n",
    "eval(x)"
   ]
  },
  {
   "cell_type": "code",
   "execution_count": 56,
   "id": "5aa2a89f",
   "metadata": {},
   "outputs": [
    {
     "name": "stdout",
     "output_type": "stream",
     "text": [
      "John\n"
     ]
    }
   ],
   "source": [
    "'''\n",
    "The exec() function executes the specified Python code.\n",
    "\n",
    "The exec() function accepts large blocks of code, \n",
    "unlike the eval() function which only accepts a single expression\n",
    "\n",
    "exec(object, globals, locals)\n",
    "'''\n",
    "x = 'name = \"John\"\\nprint(name)'\n",
    "exec(x)"
   ]
  },
  {
   "cell_type": "code",
   "execution_count": 62,
   "id": "0d6db911",
   "metadata": {},
   "outputs": [
    {
     "name": "stdout",
     "output_type": "stream",
     "text": [
      "[(5, 'apple'), (6, 'banana'), (7, 'cherry')]\n"
     ]
    }
   ],
   "source": [
    "'''\n",
    "The enumerate() function takes a collection (e.g. a tuple) and returns it as an enumerate object.\n",
    "The enumerate() function adds a counter as the key of the enumerate object.\n",
    "\n",
    "enumerate(iterable, start)\n",
    "\n",
    "iterable\tAn iterable object\n",
    "start\tA Number. Defining the start number of the enumerate object. Default 0\n",
    "'''\n",
    "x = ('apple', 'banana', 'cherry')\n",
    "y = enumerate(x, 5)\n",
    "print(list(y))"
   ]
  },
  {
   "cell_type": "code",
   "execution_count": 63,
   "id": "4b880f61",
   "metadata": {},
   "outputs": [
    {
     "name": "stdout",
     "output_type": "stream",
     "text": [
      "d\n",
      "c\n",
      "b\n",
      "a\n"
     ]
    }
   ],
   "source": [
    "'''\n",
    "The reversed() function returns a reversed iterator object.\n",
    "reversed(sequence)\n",
    "'''\n",
    "# The iter() function returns an iterator object.\n",
    "# The list.reverse() method reverses a List.\n",
    "alph = [\"a\", \"b\", \"c\", \"d\"]\n",
    "ralph = reversed(alph)\n",
    "for x in ralph:\n",
    "    print(x)"
   ]
  },
  {
   "cell_type": "code",
   "execution_count": 68,
   "id": "f2118fea",
   "metadata": {},
   "outputs": [
    {
     "name": "stdout",
     "output_type": "stream",
     "text": [
      "50.000000%\n",
      "ff\n"
     ]
    }
   ],
   "source": [
    "'''\n",
    "The format() function formats a specified value into a specified format.\n",
    "format(value, format)\n",
    "'''\n",
    "y = format(0.5, '%')\n",
    "print(y)\n",
    "x = format(255, 'x')\n",
    "print(x)"
   ]
  },
  {
   "cell_type": "code",
   "execution_count": 181,
   "id": "0d6a2724",
   "metadata": {},
   "outputs": [
    {
     "ename": "ValueError",
     "evalue": "Precision not allowed in integer format specifier",
     "output_type": "error",
     "traceback": [
      "\u001b[1;31m---------------------------------------------------------------------------\u001b[0m",
      "\u001b[1;31mValueError\u001b[0m                                Traceback (most recent call last)",
      "\u001b[1;32m<ipython-input-181-b921f3723866>\u001b[0m in \u001b[0;36m<module>\u001b[1;34m\u001b[0m\n\u001b[0;32m     28\u001b[0m \u001b[1;34m'%'\u001b[0m \u001b[1;33m-\u001b[0m \u001b[0mPercentage\u001b[0m \u001b[0mformat\u001b[0m\u001b[1;33m\u001b[0m\u001b[1;33m\u001b[0m\u001b[0m\n\u001b[0;32m     29\u001b[0m '''\n\u001b[1;32m---> 30\u001b[1;33m \u001b[0mformat\u001b[0m\u001b[1;33m(\u001b[0m\u001b[1;36m12\u001b[0m\u001b[1;33m,\u001b[0m \u001b[1;34m'.2b'\u001b[0m\u001b[1;33m)\u001b[0m\u001b[1;33m\u001b[0m\u001b[1;33m\u001b[0m\u001b[0m\n\u001b[0m",
      "\u001b[1;31mValueError\u001b[0m: Precision not allowed in integer format specifier"
     ]
    }
   ],
   "source": [
    "'''\n",
    "value\tA value of any format\n",
    "format\tThe format you want to format the value into.\n",
    "Legal values:\n",
    "\n",
    "'<' - Left aligns the result (within the available space)\n",
    "'>' - Right aligns the result (within the available space)\n",
    "'^' - Center aligns the result (within the available space)\n",
    "'=' - Places the sign to the left most position\n",
    "'+' - Use a plus sign to indicate if the result is positive or negative\n",
    "'-' - Use a minus sign for negative values only\n",
    "' ' - Use a leading space for positive numbers\n",
    "',' - Use a comma as a thousand separator\n",
    "'_' - Use a underscore as a thousand separator\n",
    "'b' - Binary format\n",
    "'c' - Converts the value into the corresponding unicode character\n",
    "'d' - Decimal format\n",
    "'e' - Scientific format, with a lower case e\n",
    "'E' - Scientific format, with an upper case E\n",
    "'f' - Fix point number format\n",
    "'F' - Fix point number format, upper case\n",
    "'g' - General format\n",
    "'G' - General format (using a upper case E for scientific notations)\n",
    "'o' - Octal format\n",
    "'x' - Hex format, lower case\n",
    "'X' - Hex format, upper case\n",
    "'n' - Number format\n",
    "'%' - Percentage format\n",
    "'''\n",
    "format(12, '.2b')"
   ]
  },
  {
   "cell_type": "code",
   "execution_count": 77,
   "id": "5d789c3d",
   "metadata": {},
   "outputs": [
    {
     "data": {
      "text/plain": [
       "(7, 1)"
      ]
     },
     "execution_count": 77,
     "metadata": {},
     "output_type": "execute_result"
    }
   ],
   "source": [
    "'''\n",
    "The divmod() function returns a tuple containing the quotient  and \n",
    "the remainder when argument1 (dividend) is divided by argument2 (divisor).\n",
    "divmod(dividend, divisor)\n",
    "dividend\tA Number. The number you want to divide\n",
    "divisor\tA Number. The number you want to divide with\n",
    "'''\n",
    "x = divmod(15, 2)\n",
    "x"
   ]
  },
  {
   "cell_type": "code",
   "execution_count": 111,
   "id": "3360d8c8",
   "metadata": {},
   "outputs": [
    {
     "data": {
      "text/plain": [
       "'a'"
      ]
     },
     "execution_count": 111,
     "metadata": {},
     "output_type": "execute_result"
    }
   ],
   "source": [
    "'''\n",
    "The chr() function returns the character that represents the specified unicode.\n",
    "'''\n",
    "x = chr(97)\n",
    "x\n",
    "# Convert back to unicode with the ord() function."
   ]
  },
  {
   "cell_type": "code",
   "execution_count": 113,
   "id": "7d6e7d59",
   "metadata": {},
   "outputs": [
    {
     "data": {
      "text/plain": [
       "104"
      ]
     },
     "execution_count": 113,
     "metadata": {},
     "output_type": "execute_result"
    }
   ],
   "source": [
    "# Convert an integer representing the Unicode of the specified character\n",
    "#The ord() function returns the number representing the unicode code of a specified character.\n",
    "# ord(character)\n",
    "# character\tString, any character\n",
    "x = ord(\"h\")\n",
    "x"
   ]
  },
  {
   "cell_type": "code",
   "execution_count": 114,
   "id": "37740eac",
   "metadata": {},
   "outputs": [
    {
     "data": {
      "text/plain": [
       "'0xff'"
      ]
     },
     "execution_count": 114,
     "metadata": {},
     "output_type": "execute_result"
    }
   ],
   "source": [
    "'''\n",
    "The hex() function converts the specified number into a hexadecimal value.\n",
    "The returned string always starts with the prefix 0x.\n",
    "hex(number)\n",
    "number\tAn Integer\n",
    "'''\n",
    "x = hex(255)\n",
    "x"
   ]
  },
  {
   "cell_type": "code",
   "execution_count": 122,
   "id": "f8c6cf6a",
   "metadata": {},
   "outputs": [
    {
     "name": "stdout",
     "output_type": "stream",
     "text": [
      "2755588352192\n"
     ]
    }
   ],
   "source": [
    "'''\n",
    "The id() function returns a unique id for the specified object.\n",
    "All objects in Python has its own unique id.\n",
    "The id is assigned to the object when it is created.\n",
    "The id is the object's memory address, and will be different for \n",
    "each time you run the program. (except for some object that has a \n",
    "constant unique id, like integers from -5 to 256)\n",
    "\n",
    "id(object)\n",
    "object\tAny object, String, Number, List, Class etc.\n",
    "'''\n",
    "x = ('apple', 'banana', 'cherry')\n",
    "y = id(x)\n",
    "print(y)\n",
    "# This value is the memory address of the object and will be different every time you run the program"
   ]
  },
  {
   "cell_type": "code",
   "execution_count": 136,
   "id": "dd9154f1",
   "metadata": {},
   "outputs": [
    {
     "name": "stdout",
     "output_type": "stream",
     "text": [
      "b'\\x00\\x00\\x00\\x00\\x00\\x00\\x00\\x00\\x00\\x00'\n"
     ]
    }
   ],
   "source": [
    "'''\n",
    "The bytes() function returns a bytes object.\n",
    "It can convert objects into bytes objects, or create \n",
    "empty bytes object of the specified size.\n",
    "The difference between bytes() and bytearray() is that bytes() \n",
    "returns an object that cannot be modified, and bytearray() returns \n",
    "an object that can be modified.\n",
    "bytes(x, encoding, error)\n",
    "x\tA source to use when creating the bytes object.\n",
    "\n",
    "If it is an integer, an empty bytes object of the specified size will be created.\n",
    "\n",
    "If it is a String, make sure you specify the encoding of the source.\n",
    "\n",
    "encoding\tThe encoding of the string\n",
    "error\tSpecifies what to do if the encoding fails.\n",
    "\n",
    "'''\n",
    "x = bytes(10)\n",
    "print(x)\n",
    "'''\n",
    " bytes(10) komutuyla oluşturduğumuz a değişkeni içinde toplam 10 adet bayt var\n",
    " ve bu baytların her birinin değeri 0. \n",
    "'''"
   ]
  },
  {
   "cell_type": "code",
   "execution_count": 137,
   "id": "1ca8b0d9",
   "metadata": {},
   "outputs": [
    {
     "ename": "TypeError",
     "evalue": "string argument without an encoding",
     "output_type": "error",
     "traceback": [
      "\u001b[1;31m---------------------------------------------------------------------------\u001b[0m",
      "\u001b[1;31mTypeError\u001b[0m                                 Traceback (most recent call last)",
      "\u001b[1;32m<ipython-input-137-ddcc8c86ec2c>\u001b[0m in \u001b[0;36m<module>\u001b[1;34m\u001b[0m\n\u001b[1;32m----> 1\u001b[1;33m \u001b[0mbytes\u001b[0m\u001b[1;33m(\u001b[0m\u001b[1;34m'istihza'\u001b[0m\u001b[1;33m)\u001b[0m\u001b[1;33m\u001b[0m\u001b[1;33m\u001b[0m\u001b[0m\n\u001b[0m",
      "\u001b[1;31mTypeError\u001b[0m: string argument without an encoding"
     ]
    }
   ],
   "source": [
    "bytes('istihza')"
   ]
  },
  {
   "cell_type": "code",
   "execution_count": 151,
   "id": "8bff7699",
   "metadata": {},
   "outputs": [
    {
     "name": "stdout",
     "output_type": "stream",
     "text": [
      "b'istihza'\n",
      "b'\\xc4\\xb1\\xc5\\x9f\\xc4\\xb1k'\n",
      "b'\\xfd\\xfe\\xfdk'\n",
      "b'\\x8d\\x9f\\x8dk'\n",
      "b'???k'\n",
      "b'k'\n"
     ]
    }
   ],
   "source": [
    "'''\n",
    "bytes() adlı fonksiyon, bytes türünde veriler oluşturmaya yarar. \n",
    "Bu fonksiyon işlev olarak, daha önce öğrendiğimiz list(), str(), int(), set(), dict() \n",
    "gibi fonksiyonlara çok benzer. Tıpkı bu fonksiyonlar gibi, bytes() fonksiyonunun \n",
    "görevi de farklı veri tiplerini ‘bayt’ adlı veri tipine dönüştürmektir.\n",
    "\n",
    "'''\n",
    "print(bytes('istihza', encoding='ascii'))\n",
    "print(bytes('ışık', 'utf-8'))\n",
    "print(bytes('ışık', 'cp1254'))\n",
    "print(bytes('ışık', 'cp857'))\n",
    "'''\n",
    "bytes() fonksiyonuna parametre olarak bir karakter dizisi verebilmek için, \n",
    "bu karakter dizisi ile birlikte bir kod çözücü de belirtmemiz gerekiyor. \n",
    "Böylece bytes() fonksiyonu kendisine verdiğimiz karakter dizisini, \n",
    "belirttiğimiz kod çözücünün kurallarına göre bayta dönüştürüyor.\n",
    "'''\n",
    "print(bytes('ışık', encoding='ascii', errors='replace'))\n",
    "print(bytes('ışık', encoding='ascii', errors='ignore'))"
   ]
  },
  {
   "cell_type": "code",
   "execution_count": null,
   "id": "c4df662b",
   "metadata": {},
   "outputs": [],
   "source": []
  },
  {
   "cell_type": "code",
   "execution_count": null,
   "id": "c496f19e",
   "metadata": {},
   "outputs": [],
   "source": [
    "'''baytlar değiştirilemeyen bir veri tipidir. Dolayısıyla bir bayt veri \n",
    "tipi üzerinde herhangi bir değişiklik yapamayız. \n",
    "Ama eğer hem baytlarla çalışmak, hem de bu baytların üzerinde \n",
    "değişiklik yapabilmek isterseniz baytlar yerine bayt dizileri \n",
    "ile çalışabilirsiniz. İşte bunun için bytearray() adlı bir fonksiyondan yararlanıyoruz.\n",
    "'''"
   ]
  },
  {
   "cell_type": "code",
   "execution_count": 134,
   "id": "0876b3cc",
   "metadata": {},
   "outputs": [
    {
     "name": "stdout",
     "output_type": "stream",
     "text": [
      "bytearray(b'\\x00\\x00\\x00\\x00')\n"
     ]
    }
   ],
   "source": [
    "'''\n",
    "The bytearray() function returns a bytearray object.\n",
    "It can convert objects into bytearray objects, or create empty bytearray object of the specified size.\n",
    "bytearray(x, encoding, error)\n",
    "x\tA source to use when creating the bytearray object.\n",
    "\n",
    "If it is an integer, an empty bytearray object of the specified size will be created.\n",
    "\n",
    "If it is a String, make sure you specify the encoding of the source.\n",
    "encoding\tThe encoding of the string\n",
    "error\tSpecifies what to do if the encoding fails.\n",
    "\n",
    "'''\n",
    "x = bytearray(4)\n",
    "print(x)\n",
    "\n",
    "'''\n",
    "Yaptıkları iş bakımından bytearray() ve bytes() fonksiyonları birbirlerine çok benzer. \n",
    "Bu ikisi arasındaki tek fark, bytearray() ile oluşturulan veri tipinin, \n",
    "bytes() ile oluşturulan veri tipinin aksine, değiştirilebilir nitelikte olmasıdır:\n",
    "\n",
    "'''"
   ]
  },
  {
   "cell_type": "code",
   "execution_count": 158,
   "id": "664bfd20",
   "metadata": {},
   "outputs": [
    {
     "data": {
      "text/plain": [
       "bytearray(b'adana')"
      ]
     },
     "execution_count": 158,
     "metadata": {},
     "output_type": "execute_result"
    }
   ],
   "source": [
    "a = bytearray('adana', 'ascii')\n",
    "a\n"
   ]
  },
  {
   "cell_type": "code",
   "execution_count": null,
   "id": "a998dbd9",
   "metadata": {},
   "outputs": [],
   "source": [
    "'''\n",
    "eval(), exec(), globals(), locals(), compile()\n",
    "Bu bölümde beş farklı fonksiyonu bir arada inceleyeceğiz. \n",
    "Bu fonksiyonları birlikte ele almamızın nedeni bunların birbiriyle yakından bağlantılı olması.\n",
    "\n",
    "\n",
    "expression denen ‘ifadeler’, bir değer üretmek için kullanılan kod parçalarıdır. \n",
    "Karakter dizileri, sayılar, işleçler, öteki veri tipleri, liste üreteçleri, \n",
    "sözlük üreteçleri, küme üreteçleri, fonksiyonlar hep birer ifadedir.\n",
    ">>> 5\n",
    "\n",
    ">>> 23 + 4\n",
    "\n",
    ">>> [i for i in range(10)]\n",
    "\n",
    ">>> len([1, 2, 3])\n",
    "\n",
    "\n",
    "statement olarak adlandırılan ‘deyimler’ ise ifadeleri de kapsayan daha \n",
    "geniş bir kavramdır. Buna göre bütün ifadeler aynı zamanda birer deyimdir. \n",
    "Daha doğrusu, ifadelerin bir araya gelmesi ile deyimler oluşturulabilir.\n",
    ">>> a = 5\n",
    "\n",
    ">>> if a:\n",
    "        print(a)\n",
    "\n",
    ">>> for i in range(10):\n",
    "        print(i)\n",
    "        \n",
    "        \n",
    "Python programlama dilinde deyimlerle ifadeleri ayırt etmenin kolay \n",
    "bir yolu da eval() fonksiyonundan yararlanmaktır. \n",
    "\n",
    "'''"
   ]
  },
  {
   "cell_type": "code",
   "execution_count": 159,
   "id": "29d618bc",
   "metadata": {},
   "outputs": [
    {
     "ename": "SyntaxError",
     "evalue": "invalid syntax (<string>, line 1)",
     "output_type": "error",
     "traceback": [
      "Traceback \u001b[1;36m(most recent call last)\u001b[0m:\n",
      "  File \u001b[0;32m\"C:\\Users\\Pc\\anaconda3\\lib\\site-packages\\IPython\\core\\interactiveshell.py\"\u001b[0m, line \u001b[0;32m3437\u001b[0m, in \u001b[0;35mrun_code\u001b[0m\n    exec(code_obj, self.user_global_ns, self.user_ns)\n",
      "\u001b[1;36m  File \u001b[1;32m\"<ipython-input-159-2f07a5f3d91b>\"\u001b[1;36m, line \u001b[1;32m1\u001b[1;36m, in \u001b[1;35m<module>\u001b[1;36m\u001b[0m\n\u001b[1;33m    eval('a = 5')\u001b[0m\n",
      "\u001b[1;36m  File \u001b[1;32m\"<string>\"\u001b[1;36m, line \u001b[1;32m1\u001b[0m\n\u001b[1;33m    a = 5\u001b[0m\n\u001b[1;37m      ^\u001b[0m\n\u001b[1;31mSyntaxError\u001b[0m\u001b[1;31m:\u001b[0m invalid syntax\n"
     ]
    }
   ],
   "source": [
    "eval('a = 5')\n",
    "'''\n",
    "eval() fonksiyonu bize bir hata mesajı verdi. Çünkü a = 5 kodu bir deyimdir. \n",
    "Unutmayın, Python’da bütün değer atama işlemleri birer deyimdir. \n",
    "Dolayısıyla eval() fonksiyonu bu deyimi parametre olarak alamaz.\n",
    "\n",
    "'''"
   ]
  },
  {
   "cell_type": "code",
   "execution_count": 160,
   "id": "37f5f01d",
   "metadata": {},
   "outputs": [
    {
     "data": {
      "text/plain": [
       "30"
      ]
     },
     "execution_count": 160,
     "metadata": {},
     "output_type": "execute_result"
    }
   ],
   "source": [
    "eval('5 + 25')\n",
    "'''\n",
    "Bu defa hata almadık. Çünkü eval() fonksiyonuna, olması gerektiği gibi, \n",
    "parametre olarak bir ifade verdik. Bildiğiniz gibi, 5 + 25 kodu bir ifadedir.\n",
    "\n",
    "'''"
   ]
  },
  {
   "cell_type": "code",
   "execution_count": 168,
   "id": "cab109b4",
   "metadata": {},
   "outputs": [
    {
     "name": "stdout",
     "output_type": "stream",
     "text": [
      "10\n"
     ]
    },
    {
     "data": {
      "text/plain": [
       "'\\n\\n'"
      ]
     },
     "execution_count": 168,
     "metadata": {},
     "output_type": "execute_result"
    }
   ],
   "source": [
    "#exec('a = 5')\n",
    "# print(a)\n",
    "'''\n",
    "exec() fonksiyonu, mevcut isim alanı içinde a adlı bir değişken oluşturdu. \n",
    "Yalnız elbette mevcut isim alanı içinde yeni değişkenler ve yeni değerler \n",
    "oluştururken dikkatli olmamız gerektiğini biliyorsunuz. Zira mesela yukarıdaki \n",
    "komutu vermeden önce mevcut isim alanında zaten a adlı bir değişken varsa, \n",
    "o değişkenin değeri değişecektir:\n",
    "\n",
    "'''\n",
    "a = 20\n",
    "exec('a = 10')\n",
    "print(a)\n",
    "\n",
    "'''\n",
    "değeri 20 olan a adlı bir değişken var. Şimdi exec() fonksiyonu yardımıyla \n",
    "a değişkeninin de içinde yer aldığı mevcut isim alanına müdahale ediyoruz:\n",
    "Böylece a değişkeninin eski değerini silmiş olduk.\n",
    "'''"
   ]
  },
  {
   "cell_type": "code",
   "execution_count": 171,
   "id": "ed6f94ef",
   "metadata": {},
   "outputs": [
    {
     "data": {
      "text/plain": [
       "23"
      ]
     },
     "execution_count": 171,
     "metadata": {},
     "output_type": "execute_result"
    }
   ],
   "source": [
    "'''\n",
    "exec() ile oluşturduğunuz değişkenleri global isim alanına değil de, \n",
    "farklı bir isim alanına göndermeyi tercih edebilirsiniz. \n",
    "Python programlama dilinde isim alanları sözlük tipinde bir veridir. \n",
    "Örneğin global isim alanı basit bir sözlükten ibarettir.\n",
    "\n",
    "Global isim alanını gösteren sözlükte hangi anahtar ve \n",
    "değerlerin olduğunu görmek için globals() adlı bir fonksiyonu kullanabilirsiniz:\n",
    "\n",
    "\n",
    "x = 10\n",
    "şeklinde 10 değerine sahip bir x nesnesi tanımladıktan sonra \n",
    "globals() fonksiyonunu tekrar çalıştırırsanız global isim alanına \n",
    "bu nesnenin de eklenmiş olduğunu görürsünüz.\n",
    "\n",
    "Dediğimiz gibi, globals() fonksiyonundan dönen nesne bir sözlüktür. \n",
    "Bu sözlüğe, herhangi bir sözlüğe veri ekler gibi değer de ekleyebilirsiniz:\n",
    "'''\n",
    "globals()['z'] = 23\n",
    "\n",
    "#Bu şekilde global isim alanına z adlı bir değişken eklemiş oldunuz:\n",
    "\n",
    "z\n"
   ]
  },
  {
   "cell_type": "code",
   "execution_count": 172,
   "id": "fb7fac1d",
   "metadata": {},
   "outputs": [
    {
     "name": "stdout",
     "output_type": "stream",
     "text": [
      "{'param1': 10, 'param2': 20, 'x': 10}\n"
     ]
    }
   ],
   "source": [
    "'''\n",
    "Python’da global isim alanı dışında bir de lokal isim alanı bulunur. \n",
    "Lokal isim alanlarının, fonksiyonlara (ve ileride göreceğimiz gibi \n",
    "sınıflara) ait bir isim alanı olduğunu biliyorsunuz. İşte bu isim \n",
    "alanlarına ulaşmak için de locals() adlı bir fonksiyondan yararlanacağız:\n",
    "\n",
    "'''\n",
    "def fonksiyon(param1, param2):\n",
    "    x = 10\n",
    "    print(locals())\n",
    "\n",
    "fonksiyon(10, 20)"
   ]
  },
  {
   "cell_type": "code",
   "execution_count": 174,
   "id": "a0f761b5",
   "metadata": {},
   "outputs": [],
   "source": [
    "'''\n",
    "The delattr() function will delete the specified attribute from the specified object.\n",
    "\n",
    "delattr(object, attribute)\n",
    "\n",
    "object\tRequired. An object.\n",
    "attribute\tRequired. The name of the attribute you want to remove\n",
    "'''\n",
    "class Person:\n",
    "    name = \"John\"\n",
    "    age = 36\n",
    "    country = \"Norway\"\n",
    "\n",
    "delattr(Person, 'age')\n",
    "# The Person object will no longer contain an \"age\" property"
   ]
  },
  {
   "cell_type": "code",
   "execution_count": 176,
   "id": "bff1f18f",
   "metadata": {},
   "outputs": [
    {
     "name": "stdout",
     "output_type": "stream",
     "text": [
      "True\n"
     ]
    }
   ],
   "source": [
    "'''\n",
    "The hasattr() function returns True if the specified object has the \n",
    "specified attribute, otherwise False.\n",
    "\n",
    "hasattr(object, attribute)\n",
    "\n",
    "object\tRequired. An object.\n",
    "attribute\tThe name of the attribute you want to check if exists\n",
    "'''\n",
    "class Person:\n",
    "    name = \"John\"\n",
    "    age = 36\n",
    "    country = \"Norway\"\n",
    "\n",
    "x = hasattr(Person, 'age')\n",
    "print(x)"
   ]
  },
  {
   "cell_type": "code",
   "execution_count": 177,
   "id": "8ac61e2b",
   "metadata": {},
   "outputs": [
    {
     "name": "stdout",
     "output_type": "stream",
     "text": [
      "40\n"
     ]
    }
   ],
   "source": [
    "'''\n",
    "The setattr() function sets the value of the specified attribute of the specified object.\n",
    "\n",
    "setattr(object, attribute, value)\n",
    "\n",
    "object\tRequired. An object.\n",
    "attribute\tRequired. The name of the attribute you want to set\n",
    "value\tRequired. The value you want to give the specified attribute\n",
    "'''\n",
    "\n",
    "class Person:\n",
    "  name = \"John\"\n",
    "  age = 36\n",
    "  country = \"Norway\"\n",
    "\n",
    "setattr(Person, 'age', 40)\n",
    "# The age property will now have the value: 40\n",
    "\n",
    "x = getattr(Person, 'age')\n",
    "print(x)"
   ]
  },
  {
   "cell_type": "code",
   "execution_count": 179,
   "id": "5e87efd4",
   "metadata": {},
   "outputs": [
    {
     "data": {
      "text/plain": [
       "'12.00'"
      ]
     },
     "execution_count": 179,
     "metadata": {},
     "output_type": "execute_result"
    }
   ],
   "source": [
    "format(12, '.2f')"
   ]
  },
  {
   "cell_type": "code",
   "execution_count": 182,
   "id": "dd93530c",
   "metadata": {},
   "outputs": [
    {
     "name": "stdout",
     "output_type": "stream",
     "text": [
      "175\n",
      "355\n",
      "13\n",
      "207\n",
      "397\n",
      "31\n",
      "241\n",
      "123\n",
      "249\n",
      "153\n"
     ]
    }
   ],
   "source": [
    "l = [400, 176, 64, 175, 355, 13, 207, 298, 397, 386, 31, 120, 120, 236, 241, 123, 249, 364, 292, 153]\n",
    "for i in l:\n",
    "    if i % 2 == 1:\n",
    "        print(i)"
   ]
  },
  {
   "cell_type": "code",
   "execution_count": 183,
   "id": "e2ef5a3f",
   "metadata": {},
   "outputs": [
    {
     "data": {
      "text/plain": [
       "[175, 355, 13, 207, 397, 31, 241, 123, 249, 153]"
      ]
     },
     "execution_count": 183,
     "metadata": {},
     "output_type": "execute_result"
    }
   ],
   "source": [
    "[i for i in l if i % 2 == 1]\n"
   ]
  },
  {
   "cell_type": "code",
   "execution_count": 184,
   "id": "a5d6f01f",
   "metadata": {},
   "outputs": [
    {
     "name": "stdout",
     "output_type": "stream",
     "text": [
      "175 355 13 207 397 31 241 123 249 153\n"
     ]
    }
   ],
   "source": [
    "def tek(sayı):\n",
    "    return sayı % 2 == 1\n",
    "\n",
    "print(*filter(tek, l))"
   ]
  }
 ],
 "metadata": {
  "kernelspec": {
   "display_name": "Python 3",
   "language": "python",
   "name": "python3"
  },
  "language_info": {
   "codemirror_mode": {
    "name": "ipython",
    "version": 3
   },
   "file_extension": ".py",
   "mimetype": "text/x-python",
   "name": "python",
   "nbconvert_exporter": "python",
   "pygments_lexer": "ipython3",
   "version": "3.8.8"
  }
 },
 "nbformat": 4,
 "nbformat_minor": 5
}
