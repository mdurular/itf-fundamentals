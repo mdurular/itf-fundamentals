{
 "cells": [
  {
   "cell_type": "markdown",
   "metadata": {},
   "source": [
    "#Kahoot 1"
   ]
  },
  {
   "cell_type": "code",
   "execution_count": 8,
   "metadata": {},
   "outputs": [
    {
     "name": "stdout",
     "output_type": "stream",
     "text": [
      "Hello Marcus\n",
      "You are a spring chicken\n"
     ]
    }
   ],
   "source": [
    "name = input(\"What is your name?\")\n",
    "print(\"Hello \" + name)\n",
    "\n",
    "age = int(input(\"How old are you?\"))\n",
    "\n",
    "if age >= 70:\n",
    "    print(\"Your are aged to perfection.\")\n",
    "else:\n",
    "    print(\"You are a spring chicken\")"
   ]
  },
  {
   "cell_type": "code",
   "execution_count": null,
   "metadata": {},
   "outputs": [],
   "source": [
    "age = 45 \n",
    "\n",
    "if age >= 45:\n",
    "    print(\"AA\")\n",
    "elif age < 35:\n",
    "    print(\"BA\")\n",
    "elif age < 25:\n",
    "    print(\"CC\")\n",
    "else:\n",
    "    print(\"F\")"
   ]
  },
  {
   "cell_type": "code",
   "execution_count": null,
   "metadata": {},
   "outputs": [],
   "source": [
    "hours = int(input(\"How many hours do you work weekly?\"))\n",
    "rate = int(input(\"What is your houry payment?\"))\n",
    "\n",
    "if hours <= 40:\n",
    "    pay = hours * rate\n",
    "else:\n",
    "    pay = 40 * rate + (hours - 40) * rate * 1.5\n",
    "\n",
    "print(\"Your payment is: \" , pay)"
   ]
  },
  {
   "cell_type": "code",
   "execution_count": null,
   "metadata": {},
   "outputs": [],
   "source": [
    "list = [1,2,3,4,5,6,7,8,9,10] # iteration\n",
    "\n",
    "for x in list:\n",
    "    print(x)\n",
    "    value = (x ** 2 + 5)\n",
    "    print(value)\n",
    "print(\"exit the for loop\")\n"
   ]
  },
  {
   "cell_type": "code",
   "execution_count": null,
   "metadata": {},
   "outputs": [],
   "source": [
    "for i in range (25,100, 5):\n",
    "    print(i * 2)\n"
   ]
  },
  {
   "cell_type": "code",
   "execution_count": null,
   "metadata": {},
   "outputs": [],
   "source": [
    "weekdays = [\"Monday\", \"Tuesday\", \"Wednesday\", \"Thursday\", \"Friday\", \"Saturday\", \"Sunday\"]\n",
    "\n",
    "for i in weekdays:\n",
    "    print(\"Today is\", i)\n",
    "print(\"This is the end of the loop\")"
   ]
  },
  {
   "cell_type": "code",
   "execution_count": 12,
   "metadata": {},
   "outputs": [
    {
     "name": "stdout",
     "output_type": "stream",
     "text": [
      "False\n"
     ]
    }
   ],
   "source": [
    "number = int(input(\"Enter a number\"))\n",
    "if number > 10:\n",
    "    print(\"True\")\n",
    "else:\n",
    "    print(\"False\")"
   ]
  },
  {
   "cell_type": "code",
   "execution_count": 13,
   "metadata": {},
   "outputs": [
    {
     "name": "stdout",
     "output_type": "stream",
     "text": [
      "executing inside of while block apples = 5\n",
      "executing inside of while block apples = 6\n",
      "executing inside of while block apples = 7\n",
      "executing inside of while block apples = 8\n",
      "executing inside of while block apples = 9\n",
      "I am outside of while blocks\n"
     ]
    }
   ],
   "source": [
    "apples = 5\n",
    "oranges = 10\n",
    "while apples < oranges: # True oldugu sürece\n",
    "    print(\"executing inside of while block\", \"apples =\", apples)\n",
    "    apples += 1 # apples = apples + 1\n",
    "print(\"I am outside of while blocks\")"
   ]
  },
  {
   "cell_type": "markdown",
   "metadata": {},
   "source": [
    "# Kahoot-1"
   ]
  },
  {
   "cell_type": "code",
   "execution_count": 14,
   "metadata": {},
   "outputs": [
    {
     "name": "stdout",
     "output_type": "stream",
     "text": [
      "Here's some fruit.\n",
      "Have a nice day.\n"
     ]
    }
   ],
   "source": [
    "# Kahoot -1\n",
    "oranges = 5\n",
    "apples = 8\n",
    "fruit = oranges + apples\n",
    "if fruit > 10:\n",
    "    print(\"Here's some fruit.\")\n",
    "else:\n",
    "    print(\"You can't have any.\")\n",
    "print(\"Have a nice day.\")"
   ]
  },
  {
   "cell_type": "markdown",
   "metadata": {},
   "source": [
    "# Kahoot-2"
   ]
  },
  {
   "cell_type": "code",
   "execution_count": 15,
   "metadata": {},
   "outputs": [
    {
     "name": "stdout",
     "output_type": "stream",
     "text": [
      "Fruit =  13 Citrus =  16\n"
     ]
    }
   ],
   "source": [
    "# Kahoot-2\n",
    "oranges = 5\n",
    "apples = 8\n",
    "fruit = apples + oranges\n",
    "limes = 12\n",
    "oranges = oranges - 1\n",
    "citrus = oranges + limes\n",
    "print(\"Fruit = \", fruit, \"Citrus = \", citrus)"
   ]
  },
  {
   "cell_type": "markdown",
   "metadata": {},
   "source": [
    "# Kahoot-3"
   ]
  },
  {
   "cell_type": "code",
   "execution_count": 16,
   "metadata": {},
   "outputs": [
    {
     "name": "stdout",
     "output_type": "stream",
     "text": [
      "Make cider.\n",
      "Have a nice day!\n"
     ]
    }
   ],
   "source": [
    "#Kahoot-3\n",
    "oranges = 5\n",
    "apples = 8\n",
    "fruit = apples + oranges\n",
    "if apples > oranges:\n",
    "    if fruit < 20:\n",
    "        print(\"Make cider.\")\n",
    "    else:\n",
    "        print(\"Make fruit salad.\")\n",
    "else:\n",
    "    print(\"You should make a orange juice.\")\n",
    "print(\"Have a nice day!\")"
   ]
  },
  {
   "cell_type": "markdown",
   "metadata": {},
   "source": [
    "# Kahoot-4"
   ]
  },
  {
   "cell_type": "code",
   "execution_count": 18,
   "metadata": {},
   "outputs": [
    {
     "name": "stdout",
     "output_type": "stream",
     "text": [
      "Go! 0\n",
      "Go! 1\n",
      "Go! 2\n",
      "Go! 3\n",
      "Go! 4\n",
      "Go! 5\n",
      "Go! 6\n",
      "Go! 7\n",
      "Go! 8\n",
      "Go! 9\n",
      "Go! 10\n",
      "Go! 11\n",
      "Go! 12\n",
      "Go! 13\n",
      "Go! 14\n",
      "Go! 0\n",
      "Go! 1\n",
      "Go! 2\n",
      "Go! 3\n",
      "Go! 4\n",
      "Go! 5\n",
      "Go! 6\n",
      "Go! 7\n",
      "Go! 8\n",
      "Go! 9\n",
      "Go! 10\n",
      "Go! 11\n",
      "Go! 12\n",
      "Go! 13\n",
      "Go! 14\n",
      "Go! 0\n",
      "Go! 1\n",
      "Go! 2\n",
      "Go! 3\n",
      "Go! 4\n",
      "Go! 5\n",
      "Go! 6\n",
      "Go! 7\n",
      "Go! 8\n",
      "Go! 9\n",
      "Go! 10\n",
      "Go! 11\n",
      "Go! 12\n",
      "Go! 13\n",
      "Go! 14\n"
     ]
    }
   ],
   "source": [
    "# Kahoot - 4\n",
    "sets = 3\n",
    "repetition = 15\n",
    "\n",
    "for i in range(sets):\n",
    "    for x in range(repetition):\n",
    "        print(\"Go!\", x)"
   ]
  },
  {
   "cell_type": "markdown",
   "metadata": {},
   "source": [
    "# Kahoot-5"
   ]
  },
  {
   "cell_type": "code",
   "execution_count": 17,
   "metadata": {},
   "outputs": [
    {
     "name": "stdout",
     "output_type": "stream",
     "text": [
      "Sure, you can buy candy. 100\n",
      "Sure, you can buy candy. 90\n",
      "Sure, you can buy candy. 80\n",
      "Sure, you can buy candy. 70\n",
      "Sure, you can buy candy. 60\n",
      "Sure, you can buy candy. 50\n",
      "Sure, you can buy candy. 40\n",
      "Sure, you can buy candy. 30\n",
      "You should save the rest of your money.\n"
     ]
    }
   ],
   "source": [
    "# Kahoot 5\n",
    "money = 100\n",
    "while not money < 30:\n",
    "    print(\"Sure, you can buy candy.\", money)\n",
    "    money -= 10\n",
    "print(\"You should save the rest of your money.\")"
   ]
  },
  {
   "cell_type": "markdown",
   "metadata": {},
   "source": [
    "# Kahoot-6"
   ]
  },
  {
   "cell_type": "code",
   "execution_count": 19,
   "metadata": {},
   "outputs": [],
   "source": [
    "#Kahoot 6\n",
    "apples = 10\n",
    "while not apples > 8:\n",
    "    print(\"Have an apple!\")\n",
    "    apples -= 1"
   ]
  },
  {
   "cell_type": "markdown",
   "metadata": {},
   "source": [
    "# Kahoot-7"
   ]
  },
  {
   "cell_type": "code",
   "execution_count": 20,
   "metadata": {},
   "outputs": [
    {
     "name": "stdout",
     "output_type": "stream",
     "text": [
      "x =  0 y =  -90\n",
      "x =  0 y =  -80\n",
      "x =  0 y =  -70\n",
      "x =  0 y =  -60\n",
      "x =  0 y =  -50\n",
      "x =  0 y =  -40\n",
      "x =  0 y =  -30\n",
      "x =  0 y =  -20\n",
      "x =  0 y =  -10\n",
      "x =  0 y =  0\n",
      "x =  0 y =  10\n",
      "x =  0 y =  20\n",
      "x =  0 y =  30\n",
      "x =  0 y =  40\n",
      "x =  0 y =  50\n",
      "x =  0 y =  60\n",
      "x =  0 y =  70\n",
      "x =  0 y =  80\n",
      "x =  0 y =  90\n",
      "x =  0 y =  100\n",
      "x =  0 y =  110\n",
      "x =  0 y =  120\n",
      "x =  0 y =  130\n",
      "x =  0 y =  140\n",
      "x =  0 y =  150\n",
      "x =  0 y =  160\n",
      "x =  0 y =  -90\n",
      "x =  0 y =  -80\n",
      "x =  0 y =  -70\n",
      "x =  0 y =  -60\n",
      "x =  0 y =  -50\n",
      "x =  0 y =  -40\n",
      "x =  0 y =  -30\n",
      "x =  0 y =  -20\n",
      "x =  0 y =  -10\n",
      "x =  0 y =  0\n",
      "x =  0 y =  10\n",
      "x =  0 y =  20\n",
      "x =  0 y =  30\n",
      "x =  0 y =  40\n",
      "x =  0 y =  50\n",
      "x =  0 y =  60\n",
      "x =  0 y =  70\n",
      "x =  0 y =  80\n",
      "x =  0 y =  90\n",
      "x =  0 y =  100\n",
      "x =  0 y =  110\n",
      "x =  0 y =  120\n",
      "x =  0 y =  130\n",
      "x =  0 y =  140\n",
      "x =  0 y =  150\n",
      "x =  0 y =  160\n",
      "x =  0 y =  -90\n",
      "x =  0 y =  -80\n",
      "x =  0 y =  -70\n",
      "x =  0 y =  -60\n",
      "x =  0 y =  -50\n",
      "x =  0 y =  -40\n",
      "x =  0 y =  -30\n",
      "x =  0 y =  -20\n",
      "x =  0 y =  -10\n",
      "x =  0 y =  0\n",
      "x =  0 y =  10\n",
      "x =  0 y =  20\n",
      "x =  0 y =  30\n",
      "x =  0 y =  40\n",
      "x =  0 y =  50\n",
      "x =  0 y =  60\n",
      "x =  0 y =  70\n",
      "x =  0 y =  80\n",
      "x =  0 y =  90\n",
      "x =  0 y =  100\n",
      "x =  0 y =  110\n",
      "x =  0 y =  120\n",
      "x =  0 y =  130\n",
      "x =  0 y =  140\n",
      "x =  0 y =  150\n",
      "x =  0 y =  160\n"
     ]
    }
   ],
   "source": [
    "# Kahoot-7\n",
    "counter = 3\n",
    "while counter > 0:\n",
    "    counter -= 1\n",
    "    x = 0\n",
    "    y = -100\n",
    "    while not y > 150:\n",
    "        y += 10\n",
    "        print(\"x = \", x, \"y = \", y)"
   ]
  },
  {
   "cell_type": "markdown",
   "metadata": {},
   "source": [
    "# Kahoot-8"
   ]
  },
  {
   "cell_type": "code",
   "execution_count": 21,
   "metadata": {},
   "outputs": [
    {
     "name": "stdout",
     "output_type": "stream",
     "text": [
      "Start Position: x =  -100 y =  0\n",
      "Ending Position: x =  0 y =  150\n"
     ]
    }
   ],
   "source": [
    "# Kahoot 8\n",
    "x = -100\n",
    "y = 0\n",
    "apples = 5\n",
    "print(\"Start Position: x = \", x, \"y = \", y)\n",
    "while not apples == 0:\n",
    "    if apples > 3:\n",
    "        x += 50\n",
    "    else:\n",
    "        y += 50\n",
    "    apples -= 1\n",
    "print(\"Ending Position: x = \", x, \"y = \", y)\n"
   ]
  },
  {
   "cell_type": "markdown",
   "metadata": {},
   "source": []
  }
 ],
 "metadata": {
  "interpreter": {
   "hash": "feffbb48170f0d852f063d97313e9e5945e72e21dd09951ac3f0ae0d4d8ec145"
  },
  "kernelspec": {
   "display_name": "Python 3",
   "language": "python",
   "name": "python3"
  },
  "language_info": {
   "codemirror_mode": {
    "name": "ipython",
    "version": 3
   },
   "file_extension": ".py",
   "mimetype": "text/x-python",
   "name": "python",
   "nbconvert_exporter": "python",
   "pygments_lexer": "ipython3",
   "version": "3.8.8"
  }
 },
 "nbformat": 4,
 "nbformat_minor": 2
}
