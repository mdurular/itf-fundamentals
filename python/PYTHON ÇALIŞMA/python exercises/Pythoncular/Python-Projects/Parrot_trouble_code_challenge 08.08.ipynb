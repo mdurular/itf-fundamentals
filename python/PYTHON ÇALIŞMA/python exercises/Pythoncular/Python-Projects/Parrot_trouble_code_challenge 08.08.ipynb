{
 "cells": [
  {
   "cell_type": "markdown",
   "id": "e737460a",
   "metadata": {},
   "source": [
    "We have a loud talking parrot. We are in trouble if the parrot is talking and \n",
    "the hour is before 6 or after 21. \n",
    "Define a function taking two parameters (talking and hour) to return True if we are in trouble. \n",
    "The argument to talking parameter can only be True or False whether it is talking or not. \n",
    "The argument to hour parameter should be the current hour time in the range of 0 to 23.\n",
    "\n",
    "For example:\n",
    "\n",
    "print(parrot_trouble(True, 5)) True \n",
    "print(parrot_trouble(True, 8)) False \n",
    "print(parrot_trouble(False, 22)) False\n"
   ]
  },
  {
   "cell_type": "code",
   "execution_count": null,
   "id": "7adb9981",
   "metadata": {},
   "outputs": [],
   "source": [
    "def parrot_trouble(talking, hour):\n",
    "    return  True if talking and (hour<6 or hour>21) else False\n",
    "print(parrot_trouble(True, 5))\n",
    "print(parrot_trouble(True, 8))\n",
    "print(parrot_trouble(False, 22))"
   ]
  },
  {
   "cell_type": "code",
   "execution_count": null,
   "id": "42bb53ea",
   "metadata": {},
   "outputs": [],
   "source": [
    "def parrot_trouble(talking, hour):\n",
    "    if talking == True and hour > 21 and hour <=24:\n",
    "        return True\n",
    "    elif talking == True and hour < 6:\n",
    "        return True\n",
    "    else:\n",
    "        return False\n",
    "\n",
    "print(parrot_trouble(True, 5))\n",
    "\n",
    "print(parrot_trouble(True, 8))\n",
    "\n",
    "print(parrot_trouble(False, 22))\n"
   ]
  }
 ],
 "metadata": {
  "kernelspec": {
   "display_name": "Python 3",
   "language": "python",
   "name": "python3"
  },
  "language_info": {
   "codemirror_mode": {
    "name": "ipython",
    "version": 3
   },
   "file_extension": ".py",
   "mimetype": "text/x-python",
   "name": "python",
   "nbconvert_exporter": "python",
   "pygments_lexer": "ipython3",
   "version": "3.8.8"
  }
 },
 "nbformat": 4,
 "nbformat_minor": 5
}
