{
 "cells": [
  {
   "cell_type": "code",
   "execution_count": 1,
   "id": "733be61b",
   "metadata": {},
   "outputs": [
    {
     "name": "stdout",
     "output_type": "stream",
     "text": [
      "www.yazilimkodlama.com\n",
      "www.yazilimkodlama.com\n",
      "www.yazilimkodlama.com\n",
      "www.yazilimkodlama.com\n",
      "www.yazilimkodlama.com\n",
      "www.yazilimkodlama.com\n",
      "www.yazilimkodlama.com\n",
      "www.yazilimkodlama.com\n",
      "www.yazilimkodlama.com\n",
      "www.yazilimkodlama.com\n"
     ]
    }
   ],
   "source": [
    "for x in range(10):\n",
    "      print(\"www.yazilimkodlama.com\")"
   ]
  },
  {
   "cell_type": "code",
   "execution_count": 3,
   "id": "ebca04a5",
   "metadata": {},
   "outputs": [
    {
     "name": "stdout",
     "output_type": "stream",
     "text": [
      "Metni Girin : Halit\n",
      "Halit\n",
      "Halit\n",
      "Halit\n",
      "Halit\n",
      "Halit\n",
      "Halit\n",
      "Halit\n",
      "Halit\n",
      "Halit\n",
      "Halit\n"
     ]
    }
   ],
   "source": [
    "metin=input('Metni Girin : ')\n",
    "for x in range(10):\n",
    "      print(metin)"
   ]
  },
  {
   "cell_type": "code",
   "execution_count": 19,
   "id": "9c441506",
   "metadata": {},
   "outputs": [
    {
     "ename": "SyntaxError",
     "evalue": "unexpected EOF while parsing (<ipython-input-19-f1c667c6b15b>, line 4)",
     "output_type": "error",
     "traceback": [
      "\u001b[1;36m  File \u001b[1;32m\"<ipython-input-19-f1c667c6b15b>\"\u001b[1;36m, line \u001b[1;32m4\u001b[0m\n\u001b[1;33m    #print(i)\u001b[0m\n\u001b[1;37m             ^\u001b[0m\n\u001b[1;31mSyntaxError\u001b[0m\u001b[1;31m:\u001b[0m unexpected EOF while parsing\n"
     ]
    }
   ],
   "source": [
    "#yazilimkodlama.com\n",
    "for i in range(1,101):\n",
    "    if i%2==0:\n",
    "        #print(i)"
   ]
  },
  {
   "cell_type": "code",
   "execution_count": 9,
   "id": "d8ec3afd",
   "metadata": {},
   "outputs": [
    {
     "name": "stdout",
     "output_type": "stream",
     "text": [
      "1. Sayı: 2\n",
      "2. Sayı: 10\n",
      "3\n",
      "4\n",
      "5\n",
      "6\n",
      "7\n",
      "8\n",
      "9\n"
     ]
    }
   ],
   "source": [
    "sayi1=input('1. Sayı: ')\n",
    "sayi2=input('2. Sayı: ')\n",
    "for i in range(int(sayi1)+1,int(sayi2)):\n",
    "      print(i)"
   ]
  },
  {
   "cell_type": "code",
   "execution_count": 10,
   "id": "6e742e0a",
   "metadata": {},
   "outputs": [
    {
     "name": "stdout",
     "output_type": "stream",
     "text": [
      "1. Sayı: 5\n",
      "2. Sayı: 9\n",
      "5 ile 9 arasındaki sayıların toplamı : 21\n"
     ]
    }
   ],
   "source": [
    "toplam=0;\n",
    "sayi1=input('1. Sayı: ')\n",
    "sayi2=input('2. Sayı: ')\n",
    "for i in range(int(sayi1)+1,int(sayi2)):\n",
    "      toplam+=i\n",
    "print(\"{0} ile {1} arasındaki sayıların toplamı : {2}\".format(sayi1,sayi2,toplam))"
   ]
  },
  {
   "cell_type": "code",
   "execution_count": 11,
   "id": "233aa7f1",
   "metadata": {},
   "outputs": [
    {
     "name": "stdout",
     "output_type": "stream",
     "text": [
      "1. Sayı: 5\n",
      "5 sayısının faktoriyeli : 120\n"
     ]
    }
   ],
   "source": [
    "sonuc=1;\n",
    "sayi=input('1. Sayı: ')\n",
    "for i in range(1,int(sayi)+1):\n",
    "      sonuc*=i\n",
    "print(\"{0} sayısının faktoriyeli : {1}\".format(sayi,sonuc))"
   ]
  },
  {
   "cell_type": "code",
   "execution_count": 14,
   "id": "4647d5b0",
   "metadata": {},
   "outputs": [
    {
     "name": "stdout",
     "output_type": "stream",
     "text": [
      "Sayı: 12\n",
      "Sayı Asal Değil\n"
     ]
    }
   ],
   "source": [
    "sayac=0\n",
    "sayi=input('Sayı: ')\n",
    "for i in range(2,int(sayi)):\n",
    "      if(int(sayi)%i==0):\n",
    "            sayac+=1\n",
    "            break\n",
    "if(sayac!=0):\n",
    "      print(\"Sayı Asal Değil\")\n",
    "else:\n",
    "      print(\"Sayı Asal\")"
   ]
  },
  {
   "cell_type": "code",
   "execution_count": 18,
   "id": "b84bc955",
   "metadata": {},
   "outputs": [
    {
     "ename": "SyntaxError",
     "evalue": "unexpected EOF while parsing (<ipython-input-18-e4234794bdab>, line 4)",
     "output_type": "error",
     "traceback": [
      "\u001b[1;36m  File \u001b[1;32m\"<ipython-input-18-e4234794bdab>\"\u001b[1;36m, line \u001b[1;32m4\u001b[0m\n\u001b[1;33m    #print(\"\\n\")\u001b[0m\n\u001b[1;37m                ^\u001b[0m\n\u001b[1;31mSyntaxError\u001b[0m\u001b[1;31m:\u001b[0m unexpected EOF while parsing\n"
     ]
    }
   ],
   "source": [
    "for i in range(1,11):\n",
    "  for j in range(1,11):\n",
    "    #print(\"{} x {} = {}\".format(i,j,i*j))\n",
    "  #print(\"\\n\")\n"
   ]
  },
  {
   "cell_type": "code",
   "execution_count": 21,
   "id": "ba0c3afb",
   "metadata": {},
   "outputs": [
    {
     "name": "stdout",
     "output_type": "stream",
     "text": [
      "Puanınızı Girin: 75\n",
      "Notunuz 4 \n"
     ]
    }
   ],
   "source": [
    "puan=int(input(\"Puanınızı Girin: \"))\n",
    "if(puan>=0 and puan<50):\n",
    "  print(\"Notunuz 1 \")\n",
    "elif(puan>=50 and puan<59):\n",
    "  print(\"Notunuz 2 \")\n",
    "elif(puan>=60 and puan<69):\n",
    "  print(\"Notunuz 3 \")\n",
    "elif(puan>=70 and puan<84):\n",
    "  print(\"Notunuz 4 \")\n",
    "elif(puan>=85 and puan<=100):\n",
    "  print(\"Notunuz 5 Tebrikler \")\n",
    "else:\n",
    "  print(\"0-100 Arası Bir Giriş Yapınız. \")"
   ]
  },
  {
   "cell_type": "code",
   "execution_count": 22,
   "id": "3e1dbe47",
   "metadata": {},
   "outputs": [
    {
     "name": "stdout",
     "output_type": "stream",
     "text": [
      "Sayıyı Girin : 5\n",
      "5  sayısının faktoriyeli :  120\n"
     ]
    }
   ],
   "source": [
    "sayi=int(input(\"Sayıyı Girin : \"))\n",
    "factorial = 1\n",
    "\n",
    "if sayi < 0:\n",
    "   print(\"Negatif sayıların faktoriyeli hesaplanamaz.\")\n",
    "elif sayi == 0:\n",
    "   print(\"0! = 1\")\n",
    "else:\n",
    "   for i in range(1,sayi + 1):\n",
    "       factorial = factorial*i\n",
    "   print(sayi,\" sayısının faktoriyeli : \",factorial)"
   ]
  },
  {
   "cell_type": "code",
   "execution_count": 24,
   "id": "3c92e5fe",
   "metadata": {},
   "outputs": [
    {
     "name": "stdout",
     "output_type": "stream",
     "text": [
      "Başlangıç değerini girin: 2\n",
      "Bitiş değerini girin: 20\n",
      "Artış miktarını girin: 2\n",
      "2\n",
      "4\n",
      "6\n",
      "8\n",
      "10\n",
      "12\n",
      "14\n",
      "16\n",
      "18\n"
     ]
    }
   ],
   "source": [
    "basla=int(input(\"Başlangıç değerini girin: \"))\n",
    "bitis=int(input(\"Bitiş değerini girin: \"))\n",
    "artis=int(input(\"Artış miktarını girin: \"))\n",
    " \n",
    "for i in range(basla,bitis,artis):\n",
    "    print(i)"
   ]
  },
  {
   "cell_type": "code",
   "execution_count": 25,
   "id": "cbf1b9db",
   "metadata": {},
   "outputs": [
    {
     "name": "stdout",
     "output_type": "stream",
     "text": [
      "50\n",
      "47\n",
      "44\n",
      "41\n",
      "38\n",
      "35\n",
      "32\n",
      "29\n",
      "26\n",
      "23\n",
      "20\n"
     ]
    }
   ],
   "source": [
    "for i in range(50,19,-3):\n",
    "  print(i)"
   ]
  },
  {
   "cell_type": "code",
   "execution_count": 26,
   "id": "0cc49541",
   "metadata": {},
   "outputs": [
    {
     "name": "stdout",
     "output_type": "stream",
     "text": [
      "Bir sayı girin: 45\n",
      "sayının rakamları çarpımı: 20\n"
     ]
    }
   ],
   "source": [
    "sayi=input(\"Bir sayı girin: \")#str formatında giriş yapar\n",
    "carpim=1\n",
    "for rakam in str(sayi):\n",
    "  if int(rakam) != 0:\n",
    "    carpim *= int(rakam)\n",
    " \n",
    "print(\"sayının rakamları çarpımı:\",carpim)"
   ]
  },
  {
   "cell_type": "code",
   "execution_count": null,
   "id": "97468349",
   "metadata": {},
   "outputs": [],
   "source": [
    "print(\"GİRİLEN SAYININ KARESİNİ HESAPLAYAN PROGRAM.\\n\")\n",
    " \n",
    "sayi = int(input(\"Bir sayı girin: \"))\n",
    " \n",
    "sonuc = sayi*sayi\n",
    " \n",
    "print(\"{} sayısının karesi {} sayısıdır.\".format(sayi,sonuc))"
   ]
  },
  {
   "cell_type": "code",
   "execution_count": null,
   "id": "91eb87c1",
   "metadata": {},
   "outputs": [],
   "source": [
    "for i in range(0,21,2):\n",
    "  print(i)"
   ]
  },
  {
   "cell_type": "code",
   "execution_count": null,
   "id": "2c750001",
   "metadata": {},
   "outputs": [],
   "source": [
    "toplam=0\n",
    "for i in range(3,41,5):\n",
    "  print(i)"
   ]
  },
  {
   "cell_type": "code",
   "execution_count": null,
   "id": "c7038c33",
   "metadata": {},
   "outputs": [],
   "source": [
    "toplam=0\n",
    "i = 1\n",
    "while i <= 20:\n",
    "  toplam+=i\n",
    "  i += 1\n",
    "print(toplam)"
   ]
  },
  {
   "cell_type": "code",
   "execution_count": null,
   "id": "e0956dcf",
   "metadata": {},
   "outputs": [],
   "source": [
    "sayi = input('Bir Sayı Giriniz : ')\n",
    "if(int(sayi)%2==0):\n",
    "      print(\"Girilen Sayı Çift\")\n",
    "else:\n",
    "      print(\"Girilen Sayı Tek\")"
   ]
  },
  {
   "cell_type": "code",
   "execution_count": 29,
   "id": "2ee6d417",
   "metadata": {},
   "outputs": [
    {
     "name": "stdout",
     "output_type": "stream",
     "text": [
      "Maaşı Gir : 104000\n",
      "Zam Oranı(%) : 27\n",
      "Zamlı Maaş : 132080.0\n"
     ]
    }
   ],
   "source": [
    "# -*- coding: utf-8 -*-\n",
    "\n",
    "yeniMaas=0\n",
    "maas=input(\"Maaşı Gir : \")\n",
    "zam=input(\"Zam Oranı(%) : \")\n",
    "yeniMaas=int(maas)+(int(maas)*int(zam)/100)\n",
    "print(\"Zamlı Maaş :\",yeniMaas)"
   ]
  },
  {
   "cell_type": "code",
   "execution_count": 30,
   "id": "0f9818cf",
   "metadata": {},
   "outputs": [
    {
     "name": "stdout",
     "output_type": "stream",
     "text": [
      "Bir Sayı Girin : 15\n",
      "Tek Sayıların Toplamı : 49\n",
      "Çift Sayıların Toplamı : 56\n"
     ]
    }
   ],
   "source": [
    "# -*- coding: utf-8 -*-\n",
    "\n",
    "sayi = input('Bir Sayı Girin : ')\n",
    "tekToplam=0\n",
    "ciftToplam=0\n",
    "for i in range(1,int(sayi)):\n",
    "  if(i%2==0):\n",
    "        ciftToplam+=i\n",
    "  else:\n",
    "        tekToplam+=i\n",
    "print(\"Tek Sayıların Toplamı : {0}\".format(tekToplam))\n",
    "print(\"Çift Sayıların Toplamı : {0}\".format(ciftToplam))"
   ]
  },
  {
   "cell_type": "code",
   "execution_count": null,
   "id": "cee7d9a5",
   "metadata": {},
   "outputs": [],
   "source": [
    "for i in range(1,101):\n",
    "  if i%3==0 and i%5==0:\n",
    "    print(i)"
   ]
  },
  {
   "cell_type": "code",
   "execution_count": null,
   "id": "5d8290a5",
   "metadata": {},
   "outputs": [],
   "source": [
    "# -*- coding: utf-8 -*-\n",
    "\n",
    "toplam=0\n",
    "sayac=0\n",
    "baslangic = input(\"Başlangıç Sayısı :\")\n",
    "bitis = input(\"Bitiş Sayısı :\")\n",
    "for sayi in range (int(baslangic), int(bitis)+1):\n",
    " \n",
    "        toplam=toplam+sayi\n",
    "        sayac=sayac+1\n",
    "print('Ortalama',(toplam/sayac))"
   ]
  },
  {
   "cell_type": "code",
   "execution_count": null,
   "id": "9f2b38ee",
   "metadata": {},
   "outputs": [],
   "source": [
    "# -*- coding: utf-8 -*-\n",
    "\n",
    "sayilar = [18,15,22,19,85,32,65,30,95,10,12,20,32,55,34,28,101,5,4,32]\n",
    "sayac=0 \n",
    "for sayi in sayilar:\n",
    "  if sayi%5 == 0:\n",
    "    print ( \"{} sayısı 5'in katıdır.\".format(sayi))\n",
    "    sayac=sayac+1\n",
    " \n",
    "print(\"5'in katı olan sayı adeti : \"+str(sayac))"
   ]
  },
  {
   "cell_type": "code",
   "execution_count": null,
   "id": "25b3b088",
   "metadata": {},
   "outputs": [],
   "source": [
    "vize = input(\"Vize Notunu Giriniz : \")\n",
    "final = input(\"Final Notunu Giriniz : \")\n",
    "ortalama= int(vize)*0.4 + int(final)*0.6\n",
    "print(\"Ders Notunuz :{0} \".format(ortalama))"
   ]
  },
  {
   "cell_type": "code",
   "execution_count": null,
   "id": "48dfb3fd",
   "metadata": {},
   "outputs": [],
   "source": [
    "not1 = int(input(\"1.Notu Girin : \"))\n",
    "not2 = int(input(\"2. Notu Girin : \"))\n",
    "ortalama= (not1+not2)/2\n",
    "print(\"Ders Notunuz :{0} \".format(ortalama))"
   ]
  },
  {
   "cell_type": "code",
   "execution_count": null,
   "id": "61c2fc2a",
   "metadata": {},
   "outputs": [],
   "source": [
    "# -*- coding: utf-8 -*-\n",
    "\n",
    "yaricap = input('Yarıçapı Girin : ')\n",
    "cevre=(2*3.14*float(yaricap))\n",
    "alan=3.14*float(yaricap)*float(yaricap)\n",
    "print(\"Alan :{0} \".format(alan))\n",
    "print(\"Çevre :{0} \".format(cevre))"
   ]
  },
  {
   "cell_type": "code",
   "execution_count": null,
   "id": "e43b3232",
   "metadata": {},
   "outputs": [],
   "source": [
    "#Dikdörtgen Alan ve Çevre Hesapla\n",
    "uzun=int(input(\"Uzun Kenar: \"))\n",
    "kisa=int(input(\"Kısa Kenar: \"))\n",
    "cevre=2*(kisa+uzun)\n",
    "alan=uzun*kisa\n",
    "print(\"Çevre: \",cevre)\n",
    "print(\"Alan: \",alan)"
   ]
  },
  {
   "cell_type": "code",
   "execution_count": null,
   "id": "621dce9e",
   "metadata": {},
   "outputs": [],
   "source": [
    "for i in range(1,101):\n",
    "  if i%3==0 and i%5==0:\n",
    "    print(i)"
   ]
  },
  {
   "cell_type": "code",
   "execution_count": null,
   "id": "5afd5f09",
   "metadata": {},
   "outputs": [],
   "source": [
    "ortalama = float(input('Ders Ortalamanızı Girin : '))\n",
    " \n",
    "if(ortalama>=50):\n",
    "      print(\"Dersten Geçtiniz.\")\n",
    "else:\n",
    "      print(\"Dersten Kaldınız.\")"
   ]
  },
  {
   "cell_type": "code",
   "execution_count": null,
   "id": "0e8e41ca",
   "metadata": {},
   "outputs": [],
   "source": [
    "tekAdet=0\n",
    "ciftAdet=0\n",
    "tekToplam=0\n",
    "ciftToplam=0\n",
    "\n",
    "n=int(input(\"Kaç Adet Sayı Girilecek : \"))\n",
    "for i in range(n):\n",
    "    sayi=int(input(\"Sayı : \"))\n",
    "    if(sayi%2==1):\n",
    "        tekAdet+=1\n",
    "        tekToplam+=sayi\n",
    "    else:\n",
    "        ciftAdet+=1\n",
    "        ciftToplam+=sayi\n",
    "if(tekAdet!=0):#Eğer hiç tek sayı girilmemişse 0'a bölme hatası verecektir.\n",
    "    print(\"Tek Sayıların Ortalaması : \",tekToplam/tekAdet)\n",
    "if(ciftAdet!=0):#Eğer hiç çift sayı girilmemişse 0'a bölme hatası verecektir.\n",
    "    print(\"Çift Sayıların Ortalaması : \",ciftToplam/ciftAdet)        "
   ]
  },
  {
   "cell_type": "code",
   "execution_count": null,
   "id": "7816cf64",
   "metadata": {},
   "outputs": [],
   "source": [
    "sayi = int(input(\"Sayi Giriniz:\"))\n",
    "sayac=0 \n",
    "toplam=0\n",
    "sayac2=0\n",
    " \n",
    "for i in range(2,(sayi+1)):\n",
    "    sayac=0\n",
    "    for j in range(2,i):\n",
    "        if(i%j==0):\n",
    "            sayac=sayac+1\n",
    "            break\n",
    "    if(sayac==0):\n",
    "        print(i)\n",
    "        sayac2=sayac2+1\n",
    "        \n",
    "print(\"Toplam \",sayac2,\" adet asal sayı var.\")"
   ]
  },
  {
   "cell_type": "code",
   "execution_count": 34,
   "id": "8faab75c",
   "metadata": {},
   "outputs": [
    {
     "name": "stdout",
     "output_type": "stream",
     "text": [
      "Sayi Giriniz:28\n",
      "Mükemmel Sayidir.\n"
     ]
    }
   ],
   "source": [
    "#Kendisi hariç bütün pozitif bölenlerinin toplamı kendisine eşit olan sayılara mükemmel sayı denir.\n",
    "sayi = int(input(\"Sayi Giriniz:\")) \n",
    " \n",
    "toplam=0\n",
    " \n",
    "for i in range(1,sayi):\n",
    "    if(sayi%i == 0):\n",
    "        toplam +=i\n",
    "        \n",
    "if(sayi == toplam):\n",
    "    print(\"Mükemmel Sayidir.\")\n",
    "else:\n",
    "    print(\"Mükemmel Sayi Degildir\")\n",
    "    "
   ]
  },
  {
   "cell_type": "code",
   "execution_count": null,
   "id": "592cc2bf",
   "metadata": {},
   "outputs": [],
   "source": [
    "toplam=0\n",
    " \n",
    "while (True):\n",
    "   deger= input(\"Sayı Girin:\")\n",
    "   sayi= int(deger)\n",
    "   if sayi<0:break\n",
    "   toplam = toplam + sayi\n",
    "print(\"Girilen Sayıların Toplamı: \",toplam)"
   ]
  },
  {
   "cell_type": "code",
   "execution_count": null,
   "id": "ad75d99e",
   "metadata": {},
   "outputs": [],
   "source": [
    "dizi=[40,50,60,70,30]\n",
    "toplam=0\n",
    "ortalama=0\n",
    "#yazilimkodlama.com\n",
    "for i in range(0,len(dizi)):\n",
    "      toplam+=dizi[i]\n",
    "\n",
    "ortalama=toplam/len(dizi)\n",
    "      \n",
    "print('Toplam : ',toplam)\n",
    "print('Ortalama : ',ortalama)"
   ]
  },
  {
   "cell_type": "code",
   "execution_count": null,
   "id": "c5606c18",
   "metadata": {},
   "outputs": [],
   "source": [
    "lst = []\n",
    "adet = int(input('Kaç Sayı Girilecek: '))\n",
    "for n in range(adet):\n",
    "    sayi = int(input('Sayıyı Gir: '))\n",
    "    lst.append(sayi)\n",
    "print(\"Liste İçindeki En Büyük Sayı :\", max(lst), \"\\nListe İçindeki En Büyük Sayı :\", min(lst))"
   ]
  },
  {
   "cell_type": "code",
   "execution_count": null,
   "id": "41191db8",
   "metadata": {},
   "outputs": [],
   "source": [
    "#www.yazilimkodlama.com\n",
    "from random import randint\n",
    " \n",
    "rand=randint(1, 100)\n",
    "sayac=0\n",
    " \n",
    "while True:\n",
    "    sayac+=1\n",
    "    sayi=int(input(\"1 ile 100 arasında değer girin (0 Çıkış):\"))\n",
    "    if(sayi==0):\n",
    "        print(\"Oyunu İptal Ettiniz\")\n",
    "        break\n",
    "    elif sayi < rand:\n",
    "        print(\"Daha Yüksek Bir Sayı Girin.\")\n",
    "        continue\n",
    "    elif sayi > rand:\n",
    "        print(\"Daha Düşük Bir Sayı Girin.\")\n",
    "        continue\n",
    "    else:\n",
    "        print(\"Rastele seçilen sayı {0}!\".format(rand))\n",
    "        print(\"Tahmin sayınız {0}\".format(sayac))"
   ]
  },
  {
   "cell_type": "code",
   "execution_count": 35,
   "id": "5576a2df",
   "metadata": {},
   "outputs": [
    {
     "name": "stdout",
     "output_type": "stream",
     "text": [
      "Yarıçapı Gir :5\n",
      "Alan : 78.5\n"
     ]
    },
    {
     "data": {
      "text/plain": [
       "78.5"
      ]
     },
     "execution_count": 35,
     "metadata": {},
     "output_type": "execute_result"
    }
   ],
   "source": [
    "def daireAlan(yaricap):\n",
    "    alan = float(yaricap) * float(yaricap)*3.14\n",
    "    print (\"Alan :\",alan)\n",
    "    return alan\n",
    "\n",
    "r = input(\"Yarıçapı Gir :\")\n",
    "\n",
    "daireAlan(r)"
   ]
  },
  {
   "cell_type": "code",
   "execution_count": null,
   "id": "1e57733c",
   "metadata": {},
   "outputs": [],
   "source": [
    "sayi1 = int(input(\"1. Sayı: \"))\n",
    "sayi2 = int(input(\"2. Sayı: \"))\n",
    "sayi3 = int(input(\"3. Sayı: \"))\n",
    "\n",
    "if (sayi1 >= sayi2) and (sayi1 >= sayi3):\n",
    "   buyuk = sayi1\n",
    "elif (sayi2 >= sayi1) and (sayi2 >= sayi3):\n",
    "   buyuk = sayi2\n",
    "else:\n",
    "   buyuk = sayi3\n",
    "\n",
    "print(sayi1,\",\",sayi2,\"ve\",sayi3,\"içinde büyük olan sayı\",buyuk)"
   ]
  },
  {
   "cell_type": "code",
   "execution_count": 36,
   "id": "ac379e7a",
   "metadata": {},
   "outputs": [
    {
     "name": "stdout",
     "output_type": "stream",
     "text": [
      "Yapılacak İşlemi Seçin.\n",
      "=======================\n",
      "1.Toplama\n",
      "2.Çıkarma\n",
      "3.Çarpma\n",
      "4.Bölme\n",
      "Seçiminiz (1/2/3/4):3\n",
      "1. Sayı: 5\n",
      "2. Sayı: 8\n",
      "5 * 8 = 40\n"
     ]
    }
   ],
   "source": [
    "# Toplama Fonksiyonu\n",
    "def Topla(x, y):\n",
    "   return x + y\n",
    "\n",
    "# Çıkarma Fonksiyonu\n",
    "def Cikar(x, y):\n",
    "   return x - y\n",
    "\n",
    "# Çarpma Fonksiiyonu\n",
    "def Carp(x, y):\n",
    "   return x * y\n",
    "\n",
    "# Bölme Fonksiyonu\n",
    "def Bol(x, y):\n",
    "   return x / y\n",
    "\n",
    "print(\"Yapılacak İşlemi Seçin.\")\n",
    "print(\"=======================\")\n",
    "print(\"1.Toplama\")\n",
    "print(\"2.Çıkarma\")\n",
    "print(\"3.Çarpma\")\n",
    "print(\"4.Bölme\")\n",
    "\n",
    "# Kullanıcıdan Seçim İsteme\n",
    "secim = input(\"Seçiminiz (1/2/3/4):\")\n",
    "\n",
    "sayi1 = int(input(\"1. Sayı: \"))\n",
    "sayi2 = int(input(\"2. Sayı: \"))\n",
    "\n",
    "if secim == '1':\n",
    "   print(sayi1,\"+\",sayi2,\"=\", Topla(sayi1,sayi2))\n",
    "\n",
    "elif secim == '2':\n",
    "   print(sayi1,\"-\",sayi2,\"=\", Cikar(sayi1,sayi2))\n",
    "\n",
    "elif secim == '3':\n",
    "   print(sayi1,\"*\",sayi2,\"=\", Carp(sayi1,sayi2))\n",
    "\n",
    "elif secim == '4':\n",
    "   print(sayi1,\"/\",sayi2,\"=\", Bol(sayi1,sayi2))\n",
    "else:\n",
    "   print(\"Geçersiz Giriş\")"
   ]
  },
  {
   "cell_type": "code",
   "execution_count": null,
   "id": "05ba7fa0",
   "metadata": {},
   "outputs": [],
   "source": [
    "#yazilimkodlama.com\n",
    "y1 = input('1. Yazılı : ')\n",
    "y2 = input('2. Yazılı : ')\n",
    "y3 = input('3. Yazılı : ')\n",
    "ortalama=(float(y1)+float(y2)+float(y3))/3\n",
    "print(\"Ortalama :{0} \".format(ortalama))"
   ]
  },
  {
   "cell_type": "code",
   "execution_count": null,
   "id": "df639a62",
   "metadata": {},
   "outputs": [],
   "source": [
    "#yazilimkodlama.com\n",
    "sayi = input('Sayı : ')\n",
    "if(int(sayi)<0):\n",
    "      print(\"Sayı Negatif\")\n",
    "elif(int(sayi)>0):\n",
    "      print(\"Sayı Pozitif\")\n",
    "else:\n",
    "      print(\"Sayı Sıfır\")"
   ]
  },
  {
   "cell_type": "code",
   "execution_count": null,
   "id": "535ff621",
   "metadata": {},
   "outputs": [],
   "source": [
    "print(\"VÜCUT KİTLE ENDEKSİ HESAPLAMA PROGRAMI 💪\")\n",
    "boy = float(input(\"Boy (m):\"))\n",
    "kilo = int(input(\"Kilo (kg):\"))\n",
    " \n",
    "endeks  = kilo/(boy*boy)\n",
    " \n",
    "if endeks <=18:\n",
    "    print(\"\\n zayıf VKİ:{}\".format(endeks))\n",
    "elif endeks > 18 and endeks <=25 :\n",
    "    print(\"\\n kilolu VKİ:{}\".format(endeks))\n",
    "elif endeks > 25 and endeks <=30:\n",
    "    print(\"\\n obez VKİ:{}\".format(endeks))\n",
    "elif endeks > 30:\n",
    "    print(\"\\n ciddi obez VKİ:{}\".format(endeks))"
   ]
  },
  {
   "cell_type": "code",
   "execution_count": null,
   "id": "757554c5",
   "metadata": {},
   "outputs": [],
   "source": [
    "#yazilimkodlama.com\n",
    "kisa=input('Kısa Kenar : ')\n",
    "uzun=input('Uzun Kenar : ')\n",
    "alan=int(kisa)*int(uzun)\n",
    "cevre=2*(int(kisa)+int(uzun))\n",
    "print(\"Alan : {0}\".format(alan))\n",
    "print(\"Çevre : {0}\".format(cevre))"
   ]
  },
  {
   "cell_type": "code",
   "execution_count": null,
   "id": "e134ec8a",
   "metadata": {},
   "outputs": [],
   "source": [
    "#www.yazilimkodlama.com\n",
    "from random import randint\n",
    " \n",
    "rand=randint(1, 100)\n",
    "sayac=0\n",
    " \n",
    "while True:\n",
    "    sayac+=1\n",
    "    sayi=int(input(\"1 ile 100 arasında değer girin (0 çıkış):\"))\n",
    "    if(sayi==0):\n",
    "        print(\"Oyunu İptal Ettiniz\")\n",
    "        break\n",
    "    elif sayi < rand:\n",
    "        print(\"Daha Yüksek Bir Sayı Girin.\")\n",
    "        continue\n",
    "    elif sayi > rand:\n",
    "        print(\"Daha Düşük Bir Sayı Girin.\")\n",
    "        continue\n",
    "    else:\n",
    "        print(\"Rastele seçilen sayı {0}!\".format(rand))\n",
    "        print(\"Tahmin sayınız {0}\".format(sayac))"
   ]
  },
  {
   "cell_type": "code",
   "execution_count": null,
   "id": "246cc108",
   "metadata": {},
   "outputs": [],
   "source": [
    "sayilar = [18,22,15,85,65,30,10,20,32,34,28,101,5,4,32]\n",
    "sayac=0 \n",
    "for sayi in sayilar:\n",
    "   if sayi%5 == 0:\n",
    "      print (str(sayi)+ (\" : 5'in katıdır.\"))\n",
    "      sayac=sayac+1\n",
    "else:\n",
    "   print ('Döngü Bitti')\n",
    "print(\"5'in katı olan sayı adeti : \"+str(sayac))"
   ]
  },
  {
   "cell_type": "code",
   "execution_count": null,
   "id": "63819ad0",
   "metadata": {},
   "outputs": [],
   "source": [
    "# yazilimkodlama.com\n",
    "tekAdet=0\n",
    "ciftAdet=0\n",
    "tekToplam=0\n",
    "ciftToplam=0\n",
    "\n",
    "n=int(input(\"Kaç Adet Sayı Girilecek : \"))\n",
    "for i in range(n):\n",
    "    sayi=int(input(\"Sayı : \"))\n",
    "    if(sayi%2==0):\n",
    "        tekAdet+=1\n",
    "        tekToplam+=sayi\n",
    "    else:\n",
    "        ciftAdet+=1\n",
    "        ciftToplam+=sayi\n",
    "if(tekAdet!=0):#Eğer hiç tek sayı girilmemişse 0'a bölme hatası verecektir.\n",
    "    print(\"Tek Sayıların Ortalaması : \",tekToplam/tekAdet)\n",
    "if(ciftAdet!=0):#Eğer hiç çift sayı girilmemişse 0'a bölme hatası verecektir.\n",
    "    print(\"Çift Sayıların Ortalaması : \",ciftToplam/ciftAdet)"
   ]
  },
  {
   "cell_type": "code",
   "execution_count": null,
   "id": "f5e259a0",
   "metadata": {},
   "outputs": [],
   "source": [
    "sayi=input(\"Bir sayı girin: \")#str formatında giriş yapar\n",
    "toplam=0\n",
    "for rakam in sayi:\n",
    "  toplam += int(rakam)\n",
    "\n",
    "print(\"sayının rakamları toplamı:\",toplam)"
   ]
  },
  {
   "cell_type": "code",
   "execution_count": null,
   "id": "e9584f91",
   "metadata": {},
   "outputs": [],
   "source": [
    "sayi=input(\"Bir sayı girin: \")#str formatında giriş yapar\n",
    "carpim=1\n",
    "for rakam in str(sayi):\n",
    "  if int(rakam) != 0:\n",
    "    carpim *= int(rakam)\n",
    "\n",
    "print(\"sayının rakamları çarpımı:\",carpim)"
   ]
  },
  {
   "cell_type": "code",
   "execution_count": null,
   "id": "23b7a569",
   "metadata": {},
   "outputs": [],
   "source": [
    "liste=[10,20,30,40,50,60]\n",
    "\n",
    "toplam=sum(liste)\n",
    "adet=len(liste)\n",
    "print(toplam/adet)"
   ]
  },
  {
   "cell_type": "code",
   "execution_count": null,
   "id": "16af427e",
   "metadata": {},
   "outputs": [],
   "source": [
    "sayi=input(\"Bir sayı girin: \")\n",
    "\n",
    "sayi=int(sayi)\n",
    "\n",
    "print(\"Sayının mutlak değeri\", abs(sayi))"
   ]
  },
  {
   "cell_type": "code",
   "execution_count": null,
   "id": "03d68ad0",
   "metadata": {},
   "outputs": [],
   "source": [
    "sayi=input(\"Bir sayı girin: \")\n",
    "sayi=int(sayi)\n",
    "\n",
    "if sayi<0:\n",
    "  sayi*=-1\n",
    "print(\"Sayının mutlak değeri: \",sayi)"
   ]
  },
  {
   "cell_type": "code",
   "execution_count": 1,
   "id": "6b312650",
   "metadata": {},
   "outputs": [
    {
     "ename": "NameError",
     "evalue": "name 'prime_mı' is not defined",
     "output_type": "error",
     "traceback": [
      "\u001b[1;31m---------------------------------------------------------------------------\u001b[0m",
      "\u001b[1;31mNameError\u001b[0m                                 Traceback (most recent call last)",
      "\u001b[1;32m<ipython-input-1-6e9577e9f01a>\u001b[0m in \u001b[0;36m<module>\u001b[1;34m\u001b[0m\n\u001b[0;32m      1\u001b[0m \u001b[1;32mdef\u001b[0m \u001b[0mprime\u001b[0m\u001b[1;33m(\u001b[0m\u001b[0mn\u001b[0m\u001b[1;33m)\u001b[0m\u001b[1;33m:\u001b[0m\u001b[1;33m\u001b[0m\u001b[1;33m\u001b[0m\u001b[0m\n\u001b[0;32m      2\u001b[0m     \u001b[1;32mreturn\u001b[0m \u001b[1;33m[\u001b[0m\u001b[0mi\u001b[0m \u001b[1;32mfor\u001b[0m \u001b[0mi\u001b[0m \u001b[1;32min\u001b[0m \u001b[0mrange\u001b[0m\u001b[1;33m(\u001b[0m\u001b[1;36m2\u001b[0m\u001b[1;33m,\u001b[0m\u001b[0mn\u001b[0m\u001b[1;33m)\u001b[0m \u001b[1;32mif\u001b[0m \u001b[0mprime_mı\u001b[0m\u001b[1;33m(\u001b[0m\u001b[0mi\u001b[0m\u001b[1;33m)\u001b[0m\u001b[1;33m]\u001b[0m\u001b[1;33m\u001b[0m\u001b[1;33m\u001b[0m\u001b[0m\n\u001b[1;32m----> 3\u001b[1;33m \u001b[0mprint\u001b[0m\u001b[1;33m(\u001b[0m\u001b[0mprime\u001b[0m\u001b[1;33m(\u001b[0m\u001b[1;36m100\u001b[0m\u001b[1;33m)\u001b[0m\u001b[1;33m)\u001b[0m\u001b[1;33m\u001b[0m\u001b[1;33m\u001b[0m\u001b[0m\n\u001b[0m",
      "\u001b[1;32m<ipython-input-1-6e9577e9f01a>\u001b[0m in \u001b[0;36mprime\u001b[1;34m(n)\u001b[0m\n\u001b[0;32m      1\u001b[0m \u001b[1;32mdef\u001b[0m \u001b[0mprime\u001b[0m\u001b[1;33m(\u001b[0m\u001b[0mn\u001b[0m\u001b[1;33m)\u001b[0m\u001b[1;33m:\u001b[0m\u001b[1;33m\u001b[0m\u001b[1;33m\u001b[0m\u001b[0m\n\u001b[1;32m----> 2\u001b[1;33m     \u001b[1;32mreturn\u001b[0m \u001b[1;33m[\u001b[0m\u001b[0mi\u001b[0m \u001b[1;32mfor\u001b[0m \u001b[0mi\u001b[0m \u001b[1;32min\u001b[0m \u001b[0mrange\u001b[0m\u001b[1;33m(\u001b[0m\u001b[1;36m2\u001b[0m\u001b[1;33m,\u001b[0m\u001b[0mn\u001b[0m\u001b[1;33m)\u001b[0m \u001b[1;32mif\u001b[0m \u001b[0mprime_mı\u001b[0m\u001b[1;33m(\u001b[0m\u001b[0mi\u001b[0m\u001b[1;33m)\u001b[0m\u001b[1;33m]\u001b[0m\u001b[1;33m\u001b[0m\u001b[1;33m\u001b[0m\u001b[0m\n\u001b[0m\u001b[0;32m      3\u001b[0m \u001b[0mprint\u001b[0m\u001b[1;33m(\u001b[0m\u001b[0mprime\u001b[0m\u001b[1;33m(\u001b[0m\u001b[1;36m100\u001b[0m\u001b[1;33m)\u001b[0m\u001b[1;33m)\u001b[0m\u001b[1;33m\u001b[0m\u001b[1;33m\u001b[0m\u001b[0m\n",
      "\u001b[1;32m<ipython-input-1-6e9577e9f01a>\u001b[0m in \u001b[0;36m<listcomp>\u001b[1;34m(.0)\u001b[0m\n\u001b[0;32m      1\u001b[0m \u001b[1;32mdef\u001b[0m \u001b[0mprime\u001b[0m\u001b[1;33m(\u001b[0m\u001b[0mn\u001b[0m\u001b[1;33m)\u001b[0m\u001b[1;33m:\u001b[0m\u001b[1;33m\u001b[0m\u001b[1;33m\u001b[0m\u001b[0m\n\u001b[1;32m----> 2\u001b[1;33m     \u001b[1;32mreturn\u001b[0m \u001b[1;33m[\u001b[0m\u001b[0mi\u001b[0m \u001b[1;32mfor\u001b[0m \u001b[0mi\u001b[0m \u001b[1;32min\u001b[0m \u001b[0mrange\u001b[0m\u001b[1;33m(\u001b[0m\u001b[1;36m2\u001b[0m\u001b[1;33m,\u001b[0m\u001b[0mn\u001b[0m\u001b[1;33m)\u001b[0m \u001b[1;32mif\u001b[0m \u001b[0mprime_mı\u001b[0m\u001b[1;33m(\u001b[0m\u001b[0mi\u001b[0m\u001b[1;33m)\u001b[0m\u001b[1;33m]\u001b[0m\u001b[1;33m\u001b[0m\u001b[1;33m\u001b[0m\u001b[0m\n\u001b[0m\u001b[0;32m      3\u001b[0m \u001b[0mprint\u001b[0m\u001b[1;33m(\u001b[0m\u001b[0mprime\u001b[0m\u001b[1;33m(\u001b[0m\u001b[1;36m100\u001b[0m\u001b[1;33m)\u001b[0m\u001b[1;33m)\u001b[0m\u001b[1;33m\u001b[0m\u001b[1;33m\u001b[0m\u001b[0m\n",
      "\u001b[1;31mNameError\u001b[0m: name 'prime_mı' is not defined"
     ]
    }
   ],
   "source": []
  },
  {
   "cell_type": "code",
   "execution_count": null,
   "id": "4d0d511f",
   "metadata": {},
   "outputs": [],
   "source": []
  },
  {
   "cell_type": "code",
   "execution_count": null,
   "id": "95a0a551",
   "metadata": {},
   "outputs": [],
   "source": []
  },
  {
   "cell_type": "code",
   "execution_count": null,
   "id": "2dd7da72",
   "metadata": {},
   "outputs": [],
   "source": []
  },
  {
   "cell_type": "code",
   "execution_count": null,
   "id": "2bf54612",
   "metadata": {},
   "outputs": [],
   "source": []
  },
  {
   "cell_type": "code",
   "execution_count": null,
   "id": "5f72ddfa",
   "metadata": {},
   "outputs": [],
   "source": []
  },
  {
   "cell_type": "code",
   "execution_count": null,
   "id": "6b41b096",
   "metadata": {},
   "outputs": [],
   "source": []
  },
  {
   "cell_type": "code",
   "execution_count": null,
   "id": "5a77b757",
   "metadata": {},
   "outputs": [],
   "source": []
  }
 ],
 "metadata": {
  "kernelspec": {
   "display_name": "Python 3",
   "language": "python",
   "name": "python3"
  },
  "language_info": {
   "codemirror_mode": {
    "name": "ipython",
    "version": 3
   },
   "file_extension": ".py",
   "mimetype": "text/x-python",
   "name": "python",
   "nbconvert_exporter": "python",
   "pygments_lexer": "ipython3",
   "version": "3.8.8"
  }
 },
 "nbformat": 4,
 "nbformat_minor": 5
}
