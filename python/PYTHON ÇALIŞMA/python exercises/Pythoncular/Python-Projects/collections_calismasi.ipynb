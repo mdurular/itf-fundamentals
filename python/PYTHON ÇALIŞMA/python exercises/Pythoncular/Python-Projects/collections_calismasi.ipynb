{
 "cells": [
  {
   "cell_type": "code",
   "execution_count": null,
   "id": "5bc4c0a9",
   "metadata": {},
   "outputs": [],
   "source": [
    ".append(): used for adding elements to a list\n",
    ".insert(): used for inserting element to a particular index of the list\n",
    ".index(): used to show the index of an element\n",
    ".clear(): clears all the elements of the list\n",
    ".remove(): used for removing an element of the list\n",
    ".reverse(): reverses the order inside the list\n",
    ".count(): used for counting how many elements there are in the list\n",
    ".copy()\n",
    ".extend()\n",
    ".pop()\n",
    ".sort()\n",
    "sum(): sums all the elements in the list\n",
    "min(): shows the element with lowest value in the list\n",
    "max(): shows the element with highest value in the list\n",
    "\n",
    "Let’s summarize them here ahead of the next lessons. Some of these built-in Python functions can be used with other types of data as well.\n",
    "\n",
    ".sort() method\n",
    "len() function (shared by many other data types)\n",
    "zip() function\n",
    "map() function\n",
    "filter() function\n",
    "List Comprehension (a super practical and useful approach to constructing lists that we will cover later.)"
   ]
  },
  {
   "cell_type": "code",
   "execution_count": 4,
   "id": "ef2b85d2",
   "metadata": {},
   "outputs": [
    {
     "name": "stdout",
     "output_type": "stream",
     "text": [
      "['Soho', 'Gramercy', 'Tribeca']\n"
     ]
    }
   ],
   "source": [
    "data = [\"Soho\", \"Gramercy\"]\n",
    "data.append(\"Tribeca\")\n",
    "print(data)"
   ]
  },
  {
   "cell_type": "code",
   "execution_count": 8,
   "id": "e6f72d3f",
   "metadata": {},
   "outputs": [
    {
     "data": {
      "text/plain": [
       "['Tribeca', 'Soho', 'Gramercy']"
      ]
     },
     "execution_count": 8,
     "metadata": {},
     "output_type": "execute_result"
    }
   ],
   "source": [
    "data = [\"Soho\", \"Gramercy\"]\n",
    "data.insert(0, \"Tribeca\")\n",
    "data"
   ]
  },
  {
   "cell_type": "code",
   "execution_count": 10,
   "id": "18489c27",
   "metadata": {},
   "outputs": [
    {
     "name": "stdout",
     "output_type": "stream",
     "text": [
      "3\n"
     ]
    }
   ],
   "source": [
    "lst = [1, 33, 5, 55, 1001]\n",
    "a = lst.index(55)\n",
    "print(a)"
   ]
  },
  {
   "cell_type": "code",
   "execution_count": 11,
   "id": "f66914f9",
   "metadata": {},
   "outputs": [
    {
     "name": "stdout",
     "output_type": "stream",
     "text": [
      "[]\n"
     ]
    }
   ],
   "source": [
    "lucky_numbers = [5, 55, 4, 3, 101, 42]\n",
    "lucky_numbers.clear()\n",
    "print(lucky_numbers)"
   ]
  },
  {
   "cell_type": "code",
   "execution_count": 20,
   "id": "ed9d1b4b",
   "metadata": {},
   "outputs": [
    {
     "name": "stdout",
     "output_type": "stream",
     "text": [
      "[42, 3, 4, 55, 5]\n",
      "1\n",
      "0\n",
      "109\n",
      "3\n",
      "55\n"
     ]
    }
   ],
   "source": [
    "lucky_numbers = [5, 55, 4, 3, 101, 42]\n",
    "lucky_numbers.remove(101)\n",
    "lucky_numbers.reverse()\n",
    "print(lucky_numbers)\n",
    "print(lucky_numbers.count(5))\n",
    "print(lucky_numbers.count(1))\n",
    "print(sum(lucky_numbers))\n",
    "print(min(lucky_numbers))\n",
    "print(max(lucky_numbers))"
   ]
  },
  {
   "cell_type": "code",
   "execution_count": 24,
   "id": "c0d8327c",
   "metadata": {},
   "outputs": [
    {
     "name": "stdout",
     "output_type": "stream",
     "text": [
      "[1, 2, 5, 7, 4, 8, 10, 3, 9, 6]\n"
     ]
    }
   ],
   "source": [
    "import random\n",
    "\n",
    "lst = [1,2,3,4,5,6,7,8,9,10]\n",
    "\n",
    "random.shuffle(lst)\n",
    "print(lst)"
   ]
  },
  {
   "cell_type": "code",
   "execution_count": null,
   "id": "a4e6d168",
   "metadata": {},
   "outputs": [],
   "source": [
    "Tuples are another commonly used data sequences in Python. \n",
    "tuple() creates an empty tuple which can also be achieved by simply typing empty parenthesis: ().\n",
    " \n",
    ".index(): used to show the index of an element\n",
    ".count(): used for counting how many elements there are in the list\n",
    "sum(): sums all the elements in the list\n",
    "min(): shows the element with lowest value in the list\n",
    "max(): shows the element with highest value in the list\n",
    "    \n",
    "Main difference of tuples from lists is that they are immutable which means they can’t be changed after they are created. \n",
    "Other than re-creating them you can’t append or remove elements the way you could for the lists.\n",
    "So, it makes sense to use tuples where you know you won’t change your elements and otherwise it makes more sense to use lists."
   ]
  },
  {
   "cell_type": "code",
   "execution_count": 25,
   "id": "a0b6b9ca",
   "metadata": {},
   "outputs": [
    {
     "name": "stdout",
     "output_type": "stream",
     "text": [
      "True\n"
     ]
    }
   ],
   "source": [
    "p_tup =  (\"Oslo\", \"Copenhagen\", 44, True)\n",
    ">>> print(p_tup[3])"
   ]
  },
  {
   "cell_type": "code",
   "execution_count": 27,
   "id": "4ad15712",
   "metadata": {},
   "outputs": [
    {
     "name": "stdout",
     "output_type": "stream",
     "text": [
      "0\n"
     ]
    }
   ],
   "source": [
    "p_tup = (\"Oslo\", \"Copenhagen\", 44, True)\n",
    "print(p_tup.index(\"Oslo\"))"
   ]
  },
  {
   "cell_type": "code",
   "execution_count": 28,
   "id": "cd22a03c",
   "metadata": {},
   "outputs": [
    {
     "name": "stdout",
     "output_type": "stream",
     "text": [
      "2\n"
     ]
    }
   ],
   "source": [
    "p_tup = (5, 101, 42, 3, 101)\n",
    "print(p_tup.count(101))"
   ]
  },
  {
   "cell_type": "code",
   "execution_count": 29,
   "id": "5a51925c",
   "metadata": {},
   "outputs": [
    {
     "name": "stdout",
     "output_type": "stream",
     "text": [
      "210\n"
     ]
    }
   ],
   "source": [
    "lucky_numbers = (5, 55, 4, 3, 101, 42)\n",
    "print(sum(lucky_numbers))\n",
    "print(min(lucky_numbers))\n",
    "print(max(lucky_numbers))"
   ]
  },
  {
   "cell_type": "code",
   "execution_count": null,
   "id": "c6493482",
   "metadata": {},
   "outputs": [],
   "source": [
    "Dictionarie are another very commonly used data sequences in Python. \n",
    "They can be used with pretty much anything that’s related to data.\n",
    "1)Dictionaries are constructed using curly brackets: {}\n",
    "2) Key-value pairs inside your dictionary should be separated with commas.\n",
    "3) Keys and values should be separated with a colon (:) between them.\n",
    "\n",
    "1) Keys inside a dictionary can't be other than strings, integers and floats.\n",
    "But values of keys can be pretty much any data type.\n",
    "2) Don't forget to use quotation marks if your key is a string.\n",
    "\n",
    ".keys(): used to show the keys in a dictionary\n",
    ".items(): used to create a key-value tuple (more on this later)\n",
    ".get(): used to return the value of a key\n",
    ".clear(): clears the entire dictionary\n",
    ".copy(): used to copy a dictionary\n",
    "len(): used to get the length of a dictionary\n",
    "type(): used to tell the type \n",
    "min(): used to identify the key with the highest value\n",
    "max(): used to identify the key with the lowest value"
   ]
  },
  {
   "cell_type": "code",
   "execution_count": null,
   "id": "4077b09f",
   "metadata": {},
   "outputs": [],
   "source": [
    ".keys() is a useful dictionary method that will return a list of dictionary’s keys."
   ]
  },
  {
   "cell_type": "code",
   "execution_count": 32,
   "id": "857f219d",
   "metadata": {},
   "outputs": [
    {
     "name": "stdout",
     "output_type": "stream",
     "text": [
      "{'Tom': 32, 'Jess': 29, 'Pete': 18}\n",
      "{32: 'Tom', 29: 'Jess', 18: 'Pete'}\n"
     ]
    }
   ],
   "source": [
    "p_ages = {\"Tom\": 32, \"Jess\": 29, \"Pete\": 18}\n",
    ">>> print(p_ages)\n",
    "pages = {32: \"Tom\", 29: \"Jess\", 18: \"Pete\"}\n",
    ">>> print(pages)"
   ]
  },
  {
   "cell_type": "code",
   "execution_count": null,
   "id": "0398ccc5",
   "metadata": {},
   "outputs": [],
   "source": [
    "1) Please note that this time keys are integers and not in quotes and each key-value pair is separated from each other with commas."
   ]
  },
  {
   "cell_type": "code",
   "execution_count": 36,
   "id": "a7e7c06c",
   "metadata": {},
   "outputs": [
    {
     "name": "stdout",
     "output_type": "stream",
     "text": [
      "dict_keys(['Tom', 'Jess', 'Pete'])\n"
     ]
    }
   ],
   "source": [
    "# Accessing Values: Dictionary values are accessed by their keys.\n",
    "p_ages = {\"Tom\": 32, \"Jess\": 29, \"Pete\": 18}\n",
    "p_ages[\"Pete\"]\n",
    "#p_ages[\"Tom\"]\n",
    "print(p_ages.keys())"
   ]
  },
  {
   "cell_type": "code",
   "execution_count": null,
   "id": "c30f91f6",
   "metadata": {},
   "outputs": [],
   "source": [
    "Starting from Python version 3.9 we have exciting new operators coming to dictionaries that makes merging dictionaries much more practical.\n",
    "1- Merge Operator ( | ): Merge operator will allow merging 2 dictionaries (dict type) simply by using “|” character.\n",
    "2- Update Operator ( |= ): Update operator allows updating the first dictionary by another dictionary (dict type).\n",
    "The difference between Python’s Merge operator and Update operators may seem subtle at first.\n",
    "Merge (|) creates a new dictionary by merging both sides.\n",
    "Update (|=) only updates the first dictionary."
   ]
  },
  {
   "cell_type": "code",
   "execution_count": 42,
   "id": "b692355c",
   "metadata": {},
   "outputs": [
    {
     "ename": "TypeError",
     "evalue": "unsupported operand type(s) for |: 'dict' and 'dict'",
     "output_type": "error",
     "traceback": [
      "\u001b[1;31m---------------------------------------------------------------------------\u001b[0m",
      "\u001b[1;31mTypeError\u001b[0m                                 Traceback (most recent call last)",
      "\u001b[1;32m<ipython-input-42-136f1e987bcd>\u001b[0m in \u001b[0;36m<module>\u001b[1;34m\u001b[0m\n\u001b[0;32m      1\u001b[0m \u001b[0mdict1\u001b[0m \u001b[1;33m=\u001b[0m \u001b[1;33m{\u001b[0m\u001b[1;34m\"x\"\u001b[0m\u001b[1;33m:\u001b[0m \u001b[1;36m1\u001b[0m\u001b[1;33m,\u001b[0m \u001b[1;34m\"y\"\u001b[0m\u001b[1;33m:\u001b[0m\u001b[1;36m2\u001b[0m\u001b[1;33m}\u001b[0m\u001b[1;33m\u001b[0m\u001b[1;33m\u001b[0m\u001b[0m\n\u001b[0;32m      2\u001b[0m \u001b[0mdict2\u001b[0m \u001b[1;33m=\u001b[0m \u001b[1;33m{\u001b[0m\u001b[1;34m\"a\"\u001b[0m\u001b[1;33m:\u001b[0m\u001b[1;36m11\u001b[0m\u001b[1;33m,\u001b[0m \u001b[1;34m\"b\"\u001b[0m\u001b[1;33m:\u001b[0m\u001b[1;36m22\u001b[0m\u001b[1;33m}\u001b[0m\u001b[1;33m\u001b[0m\u001b[1;33m\u001b[0m\u001b[0m\n\u001b[1;32m----> 3\u001b[1;33m \u001b[0mdict3\u001b[0m \u001b[1;33m=\u001b[0m  \u001b[0mdict1\u001b[0m \u001b[1;33m|\u001b[0m \u001b[0mdict2\u001b[0m\u001b[1;33m\u001b[0m\u001b[1;33m\u001b[0m\u001b[0m\n\u001b[0m\u001b[0;32m      4\u001b[0m \u001b[0mprint\u001b[0m\u001b[1;33m(\u001b[0m\u001b[0mdict3\u001b[0m\u001b[1;33m)\u001b[0m\u001b[1;33m\u001b[0m\u001b[1;33m\u001b[0m\u001b[0m\n",
      "\u001b[1;31mTypeError\u001b[0m: unsupported operand type(s) for |: 'dict' and 'dict'"
     ]
    }
   ],
   "source": [
    "dict1 = {\"x\": 1, \"y\":2}\n",
    "dict2 = {\"a\":11, \"b\":22}\n",
    "dict3 =  dict1 | dict2\n",
    "print(dict3)"
   ]
  },
  {
   "cell_type": "code",
   "execution_count": null,
   "id": "0b33eaa2",
   "metadata": {},
   "outputs": [],
   "source": [
    "Note: When there are overlapping keys (a Python dictionary can only have one unique key)\n",
    "key from the second dictionary will remain and first dictionary will be updated accordingly."
   ]
  },
  {
   "cell_type": "code",
   "execution_count": null,
   "id": "81d98d02",
   "metadata": {},
   "outputs": [],
   "source": [
    ".items() will return a list of tuples consisted of key-value pairs in a dictionary as tuples. \n",
    "The usefulness of this dictionary method will be more obvious in a more intermediate stage in your programming journey. \n",
    "Just take a mental note now and it might be a good idea to quickly revisit these functions, \n",
    "methods and lessons every once in a while.\n",
    "\n",
    "Let’s see an example."
   ]
  },
  {
   "cell_type": "code",
   "execution_count": 46,
   "id": "95fdf723",
   "metadata": {},
   "outputs": [
    {
     "name": "stdout",
     "output_type": "stream",
     "text": [
      "dict_items([('Tom', 32), ('Jess', 29), ('Pete', 18)])\n"
     ]
    }
   ],
   "source": [
    "p_ages = {\"Tom\": 32, \"Jess\": 29, \"Pete\": 18}\n",
    "a = p_ages.items()\n",
    "print(a)\n",
    "# .items() method can be useful if you’re going to use indexing to access your data."
   ]
  },
  {
   "cell_type": "code",
   "execution_count": 49,
   "id": "b495cd2e",
   "metadata": {},
   "outputs": [
    {
     "name": "stdout",
     "output_type": "stream",
     "text": [
      "Sam\n",
      "30\n",
      "{}\n"
     ]
    }
   ],
   "source": [
    "my_id = {\"name\": \"Sam\", \"city\": \"New York\", \"age\": 30}\n",
    "print(my_id.get(\"name\"))\n",
    "print(my_id.get(\"age\"))\n",
    "p_ages.clear()\n",
    "print(p_ages)"
   ]
  },
  {
   "cell_type": "code",
   "execution_count": null,
   "id": "d11275ce",
   "metadata": {},
   "outputs": [],
   "source": [
    "Advanced Concepts (Optional)\n",
    "1- .get() method is more powerful than simply accessing the value of a key.\n",
    "If you add a second parameter to the .get() method, \n",
    "it will return that value in case the key you’re looking for doesn’t exist.\n",
    "2- The new union operators explained in the tips: merge (|) and update (|=) \n",
    "can only be used with dict type. If you try to use them with various iterables \n",
    "including dict comprehension you will get a Type Error"
   ]
  },
  {
   "cell_type": "code",
   "execution_count": 52,
   "id": "7caf3e33",
   "metadata": {},
   "outputs": [
    {
     "name": "stdout",
     "output_type": "stream",
     "text": [
      "Person not found\n",
      "29\n"
     ]
    }
   ],
   "source": [
    "p_ages = {\"Tom\": 32, \"Jess\": 29, \"Pete\": 18}\n",
    "print(p_ages.get(\"Jonah\", \"Person not found\"))\n",
    "print(p_ages.get(\"Jess\", \"Person not found\"))"
   ]
  },
  {
   "cell_type": "code",
   "execution_count": null,
   "id": "9252cc18",
   "metadata": {},
   "outputs": [],
   "source": []
  },
  {
   "cell_type": "code",
   "execution_count": null,
   "id": "c28c198d",
   "metadata": {},
   "outputs": [],
   "source": []
  },
  {
   "cell_type": "code",
   "execution_count": null,
   "id": "4a3f97c1",
   "metadata": {},
   "outputs": [],
   "source": []
  }
 ],
 "metadata": {
  "kernelspec": {
   "display_name": "Python 3",
   "language": "python",
   "name": "python3"
  },
  "language_info": {
   "codemirror_mode": {
    "name": "ipython",
    "version": 3
   },
   "file_extension": ".py",
   "mimetype": "text/x-python",
   "name": "python",
   "nbconvert_exporter": "python",
   "pygments_lexer": "ipython3",
   "version": "3.8.8"
  }
 },
 "nbformat": 4,
 "nbformat_minor": 5
}
