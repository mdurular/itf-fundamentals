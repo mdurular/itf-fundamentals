{
 "cells": [
  {
   "cell_type": "code",
   "execution_count": 1,
   "id": "9c9b8677",
   "metadata": {},
   "outputs": [
    {
     "name": "stdout",
     "output_type": "stream",
     "text": [
      "Bir kelime giriniz: clarus\n"
     ]
    },
    {
     "ename": "NameError",
     "evalue": "name 'y' is not defined",
     "output_type": "error",
     "traceback": [
      "\u001b[1;31m---------------------------------------------------------------------------\u001b[0m",
      "\u001b[1;31mNameError\u001b[0m                                 Traceback (most recent call last)",
      "\u001b[1;32m<ipython-input-1-fa6e15b784af>\u001b[0m in \u001b[0;36m<module>\u001b[1;34m\u001b[0m\n\u001b[0;32m      5\u001b[0m \u001b[1;32mfor\u001b[0m \u001b[0mi\u001b[0m \u001b[1;32min\u001b[0m \u001b[0mword\u001b[0m\u001b[1;33m:\u001b[0m\u001b[1;33m\u001b[0m\u001b[1;33m\u001b[0m\u001b[0m\n\u001b[0;32m      6\u001b[0m     \u001b[0mz\u001b[0m \u001b[1;33m=\u001b[0m \u001b[1;33m(\u001b[0m\u001b[0mi\u001b[0m \u001b[1;32mnot\u001b[0m \u001b[1;32min\u001b[0m \u001b[0ma\u001b[0m\u001b[1;33m)\u001b[0m \u001b[1;32mand\u001b[0m \u001b[1;33m(\u001b[0m\u001b[0mi\u001b[0m \u001b[1;32min\u001b[0m \u001b[0mb\u001b[0m\u001b[1;33m)\u001b[0m\u001b[1;33m\u001b[0m\u001b[1;33m\u001b[0m\u001b[0m\n\u001b[1;32m----> 7\u001b[1;33m \u001b[0mprint\u001b[0m\u001b[1;33m(\u001b[0m\u001b[0my\u001b[0m\u001b[1;33m)\u001b[0m\u001b[1;33m\u001b[0m\u001b[1;33m\u001b[0m\u001b[0m\n\u001b[0m\u001b[0;32m      8\u001b[0m \u001b[0mprint\u001b[0m\u001b[1;33m(\u001b[0m\u001b[1;34m\"Bu kelime sadece sag elle yazildigindan klavye kullanimi zordur\"\u001b[0m\u001b[1;33m)\u001b[0m\u001b[1;33m\u001b[0m\u001b[1;33m\u001b[0m\u001b[0m\n",
      "\u001b[1;31mNameError\u001b[0m: name 'y' is not defined"
     ]
    }
   ],
   "source": [
    "word = set(input(\"Bir kelime giriniz: \"))\n",
    "a = set([\"q\", \"w\", \"e\", \"r\", \"t\", \"a\", \"s\", \"d\", \"f\", \"g\", \"z\", \"x\", \"c\", \"v\", \"b\"])\n",
    "b = set([\"y\", \"u\", \"o\", \"p\", \"i\", \"h\", \"j\", \"k\", \"l\", \"m\", \"n\"])\n",
    "\n",
    "for i in word:\n",
    "    z = (i not in a) and (i in b)\n",
    "print(y)\n",
    "print(\"Bu kelime sadece sag elle yazildigindan klavye kullanimi zordur\")"
   ]
  },
  {
   "cell_type": "code",
   "execution_count": null,
   "id": "fbcaae6f",
   "metadata": {},
   "outputs": [],
   "source": []
  },
  {
   "cell_type": "code",
   "execution_count": null,
   "id": "0bb504be",
   "metadata": {},
   "outputs": [],
   "source": []
  },
  {
   "cell_type": "code",
   "execution_count": null,
   "id": "10e6f930",
   "metadata": {},
   "outputs": [],
   "source": [
    "\n",
    "word = set(input(\"Bir kelime giriniz: \"))\n",
    "\n",
    "lefthand = set([\"q\", \"w\", \"e\", \"r\", \"t\", \"a\", \"s\", \"d\", \"f\", \"g\", \"z\", \"x\", \"c\", \"v\", \"b\"])\n",
    "righthand = set([\"y\", \"u\", \"o\", \"p\", \"i\", \"h\", \"j\", \"k\", \"l\", \"m\", \"n\"])\n",
    "a = lefthand.union(righthand)\n",
    "print(a)\n",
    "for i in word:\n",
    "    if (i in a):\n",
    "        print(\"Bu kelimenin klavyede yazilmasi kolaydir\")\n",
    "    if (i in lefthand) and (i not in righthand):\n",
    "        print(\"Bu kelime sadece sol elle yazildigindan klavye kullanimi zordur\")\n",
    "    if (i in righthand) and (i not in lefthand):\n",
    "        print(\"Bu kelime sadece sag elle yazildigindan klavye kullanimi zordur\") \n",
    "\n",
    "# print(f\"Bu kelimenin klavye rahat yazilmasi {}'dur.\")"
   ]
  },
  {
   "cell_type": "code",
   "execution_count": null,
   "id": "216bd33d",
   "metadata": {},
   "outputs": [],
   "source": [
    "word = set(input(\"Bir kelime giriniz: \"))\n",
    "\n",
    "a = set([\"q\", \"w\", \"e\", \"r\", \"t\", \"a\", \"s\", \"d\", \"f\", \"g\", \"z\", \"x\", \"c\", \"v\", \"b\"])\n",
    "b = set([\"y\", \"u\", \"o\", \"p\", \"i\", \"h\", \"j\", \"k\", \"l\", \"m\", \"n\"])\n",
    "# x = a.union(b)\n",
    "# print(x)\n",
    "for i in word:\n",
    "    if (i in a) and (i in b):\n",
    "        print(\"Bu kelimenin klavyede yazilmasi kolaydir\")\n",
    "        \n",
    "    if (i in a) and (i not in b):\n",
    "        print(\"Bu kelime sadece sol elle yazildigindan klavye kullanimi zordur\")\n",
    "        \n",
    "    if (i not in a) and (i in b):\n",
    "        print(\"Bu kelime sadece sag elle yazildigindan klavye kullanimi zordur\") \n",
    "\n",
    "# print(f\"Bu kelimenin klavye rahat yazilmasi {}'dur.\")"
   ]
  },
  {
   "cell_type": "code",
   "execution_count": 113,
   "id": "682145f9",
   "metadata": {},
   "outputs": [
    {
     "name": "stdout",
     "output_type": "stream",
     "text": [
      "Bir kelime giriniz: clarus\n",
      "True\n",
      "Bu kelimenin klavyede yazilmasi kolaydir\n"
     ]
    }
   ],
   "source": [
    "word = set(input(\"Bir kelime giriniz: \"))\n",
    "a = set([\"q\", \"w\", \"e\", \"r\", \"t\", \"a\", \"s\", \"d\", \"f\", \"g\", \"z\", \"x\", \"c\", \"v\", \"b\"])\n",
    "b = set([\"y\", \"u\", \"o\", \"p\", \"i\", \"h\", \"j\", \"k\", \"l\", \"m\", \"n\"])\n",
    "\n",
    "for i in word:\n",
    "    x = i in (a.union(b))\n",
    "print(x)\n",
    "print(\"Bu kelimenin klavyede yazilmasi kolaydir\")\n",
    "        "
   ]
  },
  {
   "cell_type": "code",
   "execution_count": 3,
   "id": "2540d3cf",
   "metadata": {},
   "outputs": [
    {
     "name": "stdout",
     "output_type": "stream",
     "text": [
      "Bir kelime giriniz: tester\n",
      "True\n",
      "Bu kelime sadece sol elle yazildigindan klavye kullanimi zordur\n"
     ]
    }
   ],
   "source": [
    "word = set(input(\"Bir kelime giriniz: \"))\n",
    "a = set([\"q\", \"w\", \"e\", \"r\", \"t\", \"a\", \"s\", \"d\", \"f\", \"g\", \"z\", \"x\", \"c\", \"v\", \"b\"])\n",
    "b = set([\"y\", \"u\", \"o\", \"p\", \"i\", \"h\", \"j\", \"k\", \"l\", \"m\", \"n\"])\n",
    "\n",
    "for i in word:\n",
    "    y = (i in a) and (i not in b)\n",
    "print(y)\n",
    "print(\"Bu kelime sadece sol elle yazildigindan klavye kullanimi zordur\")"
   ]
  },
  {
   "cell_type": "code",
   "execution_count": null,
   "id": "e4d0e80b",
   "metadata": {},
   "outputs": [],
   "source": [
    "word = set(input(\"Bir kelime giriniz: \"))\n",
    "a = set([\"q\", \"w\", \"e\", \"r\", \"t\", \"a\", \"s\", \"d\", \"f\", \"g\", \"z\", \"x\", \"c\", \"v\", \"b\"])\n",
    "b = set([\"y\", \"u\", \"o\", \"p\", \"i\", \"h\", \"j\", \"k\", \"l\", \"m\", \"n\"])\n",
    "\n",
    "for i in word:\n",
    "    x = a.union(b)\n",
    "    y = a.difference(b)\n",
    "    z = b.difference(a)\n",
    "            \n",
    "    if i in y:\n",
    "        \n",
    "        print(\"Bu kelime sadece sol elle yazildigindan klavye kullanimi zordur\")\n",
    "        \n",
    "    elif i in z:\n",
    "        \n",
    "        print(\"Bu kelime sadece sag elle yazildigindan klavye kullanimi zordur\") \n",
    "\n",
    "    elif i in x:\n",
    "        \n",
    "        print(\"Bu kelimenin klavyede yazilmasi kolaydir\")"
   ]
  },
  {
   "cell_type": "code",
   "execution_count": null,
   "id": "ba0f50e9",
   "metadata": {},
   "outputs": [],
   "source": [
    "word = set(input(\"Bir kelime giriniz: \"))\n",
    "a = set([\"q\", \"w\", \"e\", \"r\", \"t\", \"a\", \"s\", \"d\", \"f\", \"g\", \"z\", \"x\", \"c\", \"v\", \"b\"])\n",
    "b = set([\"y\", \"u\", \"o\", \"p\", \"i\", \"h\", \"j\", \"k\", \"l\", \"m\", \"n\"])\n",
    "#c = set(word)\n",
    "\n",
    "\n",
    "x = word.issubset(a)\n",
    "if x == True:\n",
    "    print(f\"Bu kelime sadece sol elle yazildigindan klavye kullanimi zordur.{x}\")\n",
    "    \n",
    "x = word.issubset(b)\n",
    "elif x == True:\n",
    "    print(f\"Bu kelime sadece sag elle yazildigindan klavye kullanimi zordur.{x}\")\n",
    "    \n",
    "x = (a.union(b)).issuperset(word)\n",
    "elif x == True:\n",
    "    print(f\"Bu kelimenin klavyede yazilmasi kolaydir.{x}\")"
   ]
  },
  {
   "cell_type": "code",
   "execution_count": 2,
   "id": "92bfb943",
   "metadata": {},
   "outputs": [
    {
     "name": "stdout",
     "output_type": "stream",
     "text": [
      "Bir kelime giriniz: clarus\n"
     ]
    },
    {
     "data": {
      "text/plain": [
       "'True (uses both hand fingers)'"
      ]
     },
     "execution_count": 2,
     "metadata": {},
     "output_type": "execute_result"
    }
   ],
   "source": [
    "word = set(input(\"Bir kelime giriniz: \"))\n",
    "a = set([\"q\", \"w\", \"e\", \"r\", \"t\", \"a\", \"s\", \"d\", \"f\", \"g\", \"z\", \"x\", \"c\", \"v\", \"b\"])\n",
    "b = set([\"y\", \"u\", \"o\", \"p\", \"i\", \"h\", \"j\", \"k\", \"l\", \"m\", \"n\"])\n",
    "right = bool(word.intersection(b)) * \"False (uses only right-hand fingers)\"\n",
    "left = bool(word.intersection(a)) * \"False (uses only left-hand fingers)\"\n",
    "both = bool(right and left) * \"True (uses both hand fingers)\"\n",
    "both or right or left"
   ]
  },
  {
   "cell_type": "code",
   "execution_count": 72,
   "id": "cde19aff",
   "metadata": {},
   "outputs": [
    {
     "name": "stdout",
     "output_type": "stream",
     "text": [
      "Bir kelime giriniz: tester\n",
      "False (uses only left-hand fingers)\n"
     ]
    }
   ],
   "source": [
    "word = set(input(\"Bir kelime giriniz: \"))\n",
    "\n",
    "a = set([\"q\", \"w\", \"e\", \"r\", \"t\", \"a\", \"s\", \"d\", \"f\", \"g\", \"z\", \"x\", \"c\", \"v\", \"b\"])\n",
    "\n",
    "b = set([\"y\", \"u\", \"o\", \"p\", \"i\", \"h\", \"j\", \"k\", \"l\", \"m\", \"n\"])\n",
    "\n",
    "right = bool(word.intersection(b)) # * \"False(uses only right-hand fingers)\"\n",
    "\n",
    "left = bool(word.intersection(a)) # * \"False (uses only left-hand fingers)\"\n",
    "\n",
    "both = bool(right and left) # * \"True (uses both hand fingers)\"\n",
    "\n",
    "if both == True: \n",
    "    print(\"True (uses both hand fingers)\")\n",
    "    \n",
    "elif right == True:\n",
    "    print(\"False(uses only right-hand fingers)\")\n",
    "    \n",
    "else:\n",
    "    print(\"False (uses only left-hand fingers)\")\n",
    "    "
   ]
  },
  {
   "cell_type": "code",
   "execution_count": 95,
   "id": "cf3f0bc5",
   "metadata": {},
   "outputs": [
    {
     "data": {
      "text/plain": [
       "['12345', '1421265']"
      ]
     },
     "execution_count": 95,
     "metadata": {},
     "output_type": "execute_result"
    }
   ],
   "source": [
    "\"12345.1421265\".split('.')"
   ]
  },
  {
   "cell_type": "code",
   "execution_count": null,
   "id": "f46d558a",
   "metadata": {},
   "outputs": [],
   "source": [
    "\n"
   ]
  },
  {
   "cell_type": "code",
   "execution_count": 69,
   "id": "c1932dd9",
   "metadata": {},
   "outputs": [
    {
     "name": "stdout",
     "output_type": "stream",
     "text": [
      "Please enter your name:halit\n",
      "Hello, Halit! The password is : hy12@345\n"
     ]
    }
   ],
   "source": [
    "name = input(\"Please enter your name:\").title().strip()\n",
    "user_name = \"Halit\"\n",
    "user_password = \"hy12@345\" \n",
    "if name == user_name:\n",
    "    print(f\"Hello, {user_name}! The password is : {user_password}\")\n",
    "else:\n",
    "    print(f\"Hello, {name}! See you later.\")\n",
    "    "
   ]
  },
  {
   "cell_type": "code",
   "execution_count": 60,
   "id": "456eb6cf",
   "metadata": {},
   "outputs": [
    {
     "name": "stdout",
     "output_type": "stream",
     "text": [
      "Please enter your name:joseph\n",
      "Joseph\n"
     ]
    },
    {
     "data": {
      "text/plain": [
       "'Hello, Joseph!The password is : W@12'"
      ]
     },
     "execution_count": 60,
     "metadata": {},
     "output_type": "execute_result"
    }
   ],
   "source": [
    "name = str(input(\"Please enter your name:\")).title().strip()\n",
    "print(name)\n",
    "a = bool(name == \"Joseph\") * (\"Hello, Joseph!The password is : W@12\")\n",
    "b = bool(name != \"Joseph\") * (\"Hello, Amina!See you later.\")\n",
    "a or b"
   ]
  },
  {
   "cell_type": "code",
   "execution_count": 71,
   "id": "d4e84479",
   "metadata": {},
   "outputs": [
    {
     "name": "stdout",
     "output_type": "stream",
     "text": [
      "En cok tekrar eden sayi 3. Tekrar sayisi ise 4'dir.\n"
     ]
    }
   ],
   "source": [
    "numbers = [1, 3, 7, 4, 3, 0, 3, 6, 3]\n",
    "\n",
    "max_tekrar = 0\n",
    "\n",
    "for i in numbers:\n",
    "\n",
    "   tekrar_sayisi = numbers.count(i)\n",
    "\n",
    "   if(tekrar_sayisi > max_tekrar):\n",
    "\n",
    "      max_tekrar = i\n",
    "\n",
    "print(f\"En cok tekrar eden sayi {max_tekrar}. Tekrar sayisi ise {tekrar_sayisi}'dir.\")"
   ]
  },
  {
   "cell_type": "code",
   "execution_count": 74,
   "id": "9c957c69",
   "metadata": {},
   "outputs": [
    {
     "name": "stdout",
     "output_type": "stream",
     "text": [
      "the most frequent number is 3 and it was 4 times repeated\n"
     ]
    }
   ],
   "source": [
    "numbers = [1, 3, 7, 4, 3, 0, 7, 3, 6, 3]\n",
    "frequent_number = max(set(numbers), key = numbers.count)\n",
    "count_frqnt_nmb = numbers.count(frequent_number)\n",
    "print(\"the most frequent number is {} and it was {} times repeated\".format(frequent_number, count_frqnt_nmb))"
   ]
  },
  {
   "cell_type": "code",
   "execution_count": 6,
   "id": "e65dc188",
   "metadata": {},
   "outputs": [],
   "source": [
    "Input : [\"eat\", \"tea\", \"tan\", \"ate\", \"nat\", \"bat\"]\n",
    "class solution(object):\n",
    "    def groupAnagrams(self, strs):\n",
    "        d = {}\n",
    "        for i in range(len(strs)):\n",
    "            x = ''.join(sorted(strs[i]))\n",
    "            if x not in d:\n",
    "                d[x] = [strs[i]]\n",
    "            else:\n",
    "                d[x].append(strs[i])\n",
    "        return d.values()\n"
   ]
  },
  {
   "cell_type": "code",
   "execution_count": 42,
   "id": "cfbb6ae4",
   "metadata": {},
   "outputs": [
    {
     "name": "stdout",
     "output_type": "stream",
     "text": [
      "Are you a cigarette addict older than 75 years old? True or False: true\n",
      "Do you have a severe chronic disease? True or False: true\n",
      "Is your immune system too weak? True or False: false\n"
     ]
    },
    {
     "data": {
      "text/plain": [
       "'You are not in risky group'"
      ]
     },
     "execution_count": 42,
     "metadata": {},
     "output_type": "execute_result"
    }
   ],
   "source": [
    "age = str(input(\"Are you a cigarette addict older than 75 years old? True or False: \")).title().strip()\n",
    "a = bool(age == \"True\") \n",
    "\n",
    "chronic = str(input(\"Do you have a severe chronic disease? True or False: \")).title().strip()\n",
    "b = bool(chronic == \"True\") \n",
    "\n",
    "immune = str(input(\"Is your immune system too weak? True or False: \")).title().strip()\n",
    "c = bool(immune == \"True\") \n",
    "\n",
    "a and b and c * \"You are in risky group\" or \"You are not in risky group\"\n"
   ]
  },
  {
   "cell_type": "code",
   "execution_count": 61,
   "id": "2697a941",
   "metadata": {},
   "outputs": [
    {
     "name": "stdout",
     "output_type": "stream",
     "text": [
      "Are you a cigarette addict older than 75 years old? True or False: false\n",
      "Do you have a severe chronic disease? True or False: true\n",
      "Is your immune system too weak? True or False: true\n",
      "You are not in risky group\n"
     ]
    }
   ],
   "source": [
    "age = str(input(\"Are you a cigarette addict older than 75 years old? True or False: \")).title().strip()\n",
    "chronic = str(input(\"Do you have a severe chronic disease? True or False: \")).title().strip()\n",
    "immune = str(input(\"Is your immune system too weak? True or False: \")).title().strip()\n",
    "if age == \"True\" and chronic == \"True\" and immune == \"True\":\n",
    "    print(\"You are in risky group\")\n",
    "else:\n",
    "    print(\"You are not in risky group\")\n"
   ]
  },
  {
   "cell_type": "code",
   "execution_count": null,
   "id": "5898c1dd",
   "metadata": {},
   "outputs": [],
   "source": []
  }
 ],
 "metadata": {
  "kernelspec": {
   "display_name": "Python 3",
   "language": "python",
   "name": "python3"
  },
  "language_info": {
   "codemirror_mode": {
    "name": "ipython",
    "version": 3
   },
   "file_extension": ".py",
   "mimetype": "text/x-python",
   "name": "python",
   "nbconvert_exporter": "python",
   "pygments_lexer": "ipython3",
   "version": "3.8.8"
  }
 },
 "nbformat": 4,
 "nbformat_minor": 5
}
