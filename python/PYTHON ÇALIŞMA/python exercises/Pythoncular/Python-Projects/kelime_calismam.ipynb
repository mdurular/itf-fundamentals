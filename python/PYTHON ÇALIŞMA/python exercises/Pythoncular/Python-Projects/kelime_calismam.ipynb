{
 "cells": [
  {
   "cell_type": "code",
   "execution_count": 1,
   "id": "31a948ba",
   "metadata": {},
   "outputs": [
    {
     "name": "stdout",
     "output_type": "stream",
     "text": [
      "merhaba dünya\n",
      "10\n",
      "yazilimkodlama.com\n",
      "merhaba dünya 10 yazilimkodlama.com\n"
     ]
    }
   ],
   "source": [
    "a=10\n",
    "b=\"yazilimkodlama.com\"\n",
    "print(\"merhaba dünya\")\n",
    "print(a)\n",
    "print(b)\n",
    "\n",
    "#tek satırda yazdırmak içim\n",
    "print(\"merhaba dünya\",a,b)"
   ]
  },
  {
   "cell_type": "code",
   "execution_count": 2,
   "id": "e9230dcf",
   "metadata": {},
   "outputs": [
    {
     "name": "stdout",
     "output_type": "stream",
     "text": [
      "25\n",
      "5\n",
      "150\n",
      "1.5\n",
      "1\n",
      "5\n"
     ]
    }
   ],
   "source": [
    "a=15\n",
    "b=10\n",
    "\n",
    "print(a + b)\n",
    "print(a - b)\n",
    "print(a * b)\n",
    "print(a / b)\n",
    "\n",
    "print(a // b)\n",
    "print(a % b)"
   ]
  },
  {
   "cell_type": "code",
   "execution_count": 3,
   "id": "c1a24759",
   "metadata": {},
   "outputs": [
    {
     "name": "stdout",
     "output_type": "stream",
     "text": [
      "İngiltere'nin Başkenti Londra'dır\n"
     ]
    }
   ],
   "source": [
    "print('İngiltere\\'nin Başkenti Londra\\'dır')"
   ]
  },
  {
   "cell_type": "code",
   "execution_count": 4,
   "id": "3b7d5845",
   "metadata": {},
   "outputs": [
    {
     "name": "stdout",
     "output_type": "stream",
     "text": [
      "1.satır \n",
      "2.satır \n",
      "3.satır \n"
     ]
    }
   ],
   "source": [
    "print(\"1.satır \\n2.satır \\n3.satır \")"
   ]
  },
  {
   "cell_type": "code",
   "execution_count": 5,
   "id": "e7c4db75",
   "metadata": {},
   "outputs": [
    {
     "name": "stdout",
     "output_type": "stream",
     "text": [
      "merhaba\t dünya \t yazilimkodlama.com \n"
     ]
    }
   ],
   "source": [
    "print(\"merhaba\\t dünya \\t yazilimkodlama.com \")"
   ]
  },
  {
   "cell_type": "code",
   "execution_count": 6,
   "id": "a0d9e8c1",
   "metadata": {},
   "outputs": [
    {
     "name": "stdout",
     "output_type": "stream",
     "text": [
      "pazartesi-salı-çarşamba\n"
     ]
    }
   ],
   "source": [
    "print(\"pazartesi\",end=\"-\")\n",
    "print(\"salı\",end=\"-\")\n",
    "print(\"çarşamba\")"
   ]
  },
  {
   "cell_type": "code",
   "execution_count": 7,
   "id": "34682369",
   "metadata": {},
   "outputs": [
    {
     "name": "stdout",
     "output_type": "stream",
     "text": [
      "pzt <> sal <> çar <> per <> cum <> cts <> paz\n"
     ]
    }
   ],
   "source": [
    "print(\"pzt\",\"sal\",\"çar\",\"per\",\"cum\",\"cts\",\"paz\",sep=\" <> \")"
   ]
  },
  {
   "cell_type": "code",
   "execution_count": 8,
   "id": "77d726ac",
   "metadata": {},
   "outputs": [
    {
     "name": "stdout",
     "output_type": "stream",
     "text": [
      "isiminizi girin :Halit\n",
      "merhaba,  Halit\n"
     ]
    }
   ],
   "source": [
    "ad=input(\"isiminizi girin :\")\n",
    "print(\"merhaba, \",ad)"
   ]
  },
  {
   "cell_type": "code",
   "execution_count": 9,
   "id": "9db23d27",
   "metadata": {},
   "outputs": [
    {
     "name": "stdout",
     "output_type": "stream",
     "text": [
      "Sayı 1 :5\n",
      "Sayı 2 :8\n",
      "toplam : 13\n",
      "fark : -3\n",
      "çarpma : 40\n",
      "bölme : 0.625\n"
     ]
    }
   ],
   "source": [
    "s1 = int(input(\"Sayı 1 :\"))\n",
    "s2 = int(input(\"Sayı 2 :\"))\n",
    "\n",
    "print(\"toplam :\", s1+s2)\n",
    "print(\"fark :\", s1-s2)\n",
    "print(\"çarpma :\", s1*s2)\n",
    "print(\"bölme :\", s1/s2)"
   ]
  },
  {
   "cell_type": "code",
   "execution_count": 10,
   "id": "4f856918",
   "metadata": {},
   "outputs": [
    {
     "name": "stdout",
     "output_type": "stream",
     "text": [
      "[]\n"
     ]
    }
   ],
   "source": [
    "import os \n",
    "dosyalar = os.listdir(\".\")\n",
    "\n",
    "liste= []\n",
    "for dosya in dosyalar:\n",
    "    if dosya.endswith(\".txt\"):\n",
    "        liste.append(dosya)\n",
    "print(liste)\n",
    "# Alttaki örnek Python Kodları, “.txt” ile biten tüm dosyalar için belirli bir yolda\n",
    "# (“.”) Arama yapmak için “os.listdir” işlevini (işletim sistemi modülüne ait olan) kullanır."
   ]
  },
  {
   "cell_type": "code",
   "execution_count": 11,
   "id": "703f8698",
   "metadata": {},
   "outputs": [
    {
     "name": "stdout",
     "output_type": "stream",
     "text": [
      "İbrahim Akın\n",
      "İbrahim Kaya\n",
      "Murat Kaya\n",
      "İbrahim Akın\n",
      "Mert Kaya\n"
     ]
    }
   ],
   "source": [
    "import random\n",
    "\n",
    "def isimOlusturucu():\n",
    "    isim = [\"Ali\",\"Ufuk\",\"Mert\",\"Hayrettin\",\"Murat\", \"Hulusi\", \"Nazlı\", \"Veli\", \"İbrahim\", \"Elif\", \"Zehra\"]\n",
    "    soyisim = [\"Şahin\", \"Akın\", \"Koç\", \"Türk\", \"Kaya\", \"Yıldız\", \"Zeki\"]\n",
    "    return \"{} {}\".format(random.choice(isim), random.choice(soyisim))\n",
    "\n",
    "for i in range(5):\n",
    "    print(isimOlusturucu())"
   ]
  },
  {
   "cell_type": "code",
   "execution_count": 12,
   "id": "48a9dc43",
   "metadata": {},
   "outputs": [
    {
     "name": "stdout",
     "output_type": "stream",
     "text": [
      "Ürünün fiyatı 49 liradır\n"
     ]
    }
   ],
   "source": [
    "ucret = 49\n",
    "metin = \"Ürünün fiyatı {} liradır\"\n",
    "print(metin.format(ucret))"
   ]
  },
  {
   "cell_type": "code",
   "execution_count": null,
   "id": "cbf47df5",
   "metadata": {},
   "outputs": [],
   "source": [
    "print(\"Ürünün fiyatı {} liradır\".format(49))"
   ]
  },
  {
   "cell_type": "code",
   "execution_count": 13,
   "id": "57b9b935",
   "metadata": {},
   "outputs": [
    {
     "name": "stdout",
     "output_type": "stream",
     "text": [
      "Ürünün fiyatı 123.46 liradır\n"
     ]
    }
   ],
   "source": [
    "metin = \"Ürünün fiyatı {:.2f} liradır\"\n",
    "print( metin.format(123.45612))"
   ]
  },
  {
   "cell_type": "code",
   "execution_count": 14,
   "id": "96b16277",
   "metadata": {},
   "outputs": [
    {
     "name": "stdout",
     "output_type": "stream",
     "text": [
      "567 numaralı üründen 3 adetin fiyatı 147 liradır\n"
     ]
    }
   ],
   "source": [
    "adet =3\n",
    "urun_no =567\n",
    "fiyat =49\n",
    "siparis =\"{} numaralı üründen {} adetin fiyatı {} liradır\"\n",
    "print(siparis.format(urun_no, adet, fiyat*adet))"
   ]
  },
  {
   "cell_type": "code",
   "execution_count": 15,
   "id": "40a5f174",
   "metadata": {},
   "outputs": [
    {
     "name": "stdout",
     "output_type": "stream",
     "text": [
      "567 numaralı üründen 3 adetin fiyatı 147 liradır\n"
     ]
    }
   ],
   "source": [
    "adet =3\n",
    "urun_no =567\n",
    "fiyat =49\n",
    "print(\"{0} numaralı üründen {1} adetin fiyatı {2} liradır\".format(urun_no, adet, fiyat*adet))"
   ]
  },
  {
   "cell_type": "code",
   "execution_count": 16,
   "id": "e6c96507",
   "metadata": {},
   "outputs": [
    {
     "name": "stdout",
     "output_type": "stream",
     "text": [
      "567 numaralı üründen 3 adetin fiyatı 147 liradır\n"
     ]
    }
   ],
   "source": [
    "adet =3\n",
    "urun_no =567\n",
    "fiyat =49\n",
    "print(\"{uno} numaralı üründen {miktar} adetin fiyatı {toplam} liradır\"\n",
    "      .format(uno=urun_no, miktar=adet,toplam= fiyat*adet))"
   ]
  },
  {
   "cell_type": "code",
   "execution_count": 17,
   "id": "8e4c1d9a",
   "metadata": {},
   "outputs": [
    {
     "name": "stdout",
     "output_type": "stream",
     "text": [
      "Okul numaranızı giriniz:15\n",
      "NUMARANIN ACILIMI:\n",
      "GirisYili: 15\n",
      "DogumTarihi: \n",
      "DeptNo: \n",
      "SiraNo: \n"
     ]
    }
   ],
   "source": [
    "personelNo=input(\"Okul numaranızı giriniz:\")\n",
    "pNo=str(personelNo)\n",
    "d1 = dict(GirisYili=pNo[0:4], DogumTarihi=pNo[4:6], DeptNo=pNo[6:8], SiraNo=pNo[8:10])\n",
    "print(\"NUMARANIN ACILIMI:\")\n",
    "\n",
    "for i in d1.items():\n",
    "    print (i[0]+\": \"+i[1])"
   ]
  },
  {
   "cell_type": "code",
   "execution_count": null,
   "id": "d91cb5d0",
   "metadata": {},
   "outputs": [],
   "source": [
    "yas = input('Yaşınızı Giriniz : ')\n",
    "if(int(yas)>17):\n",
    "      print(\"Ehliyet alabilirsiniz\")\n",
    "else:\n",
    "      print(\"Ehliyet alabilecek yaşta değilsiniz\")"
   ]
  },
  {
   "cell_type": "code",
   "execution_count": 20,
   "id": "6cbd6892",
   "metadata": {},
   "outputs": [
    {
     "name": "stdout",
     "output_type": "stream",
     "text": [
      "Başlangıç Sayısı :15\n",
      "Bitiş Sayısı :20\n",
      "Ortalama 17.0\n"
     ]
    }
   ],
   "source": [
    "toplam=0\n",
    "sayac=0\n",
    "baslangic = input(\"Başlangıç Sayısı :\")\n",
    "bitis = input(\"Bitiş Sayısı :\")\n",
    "for sayi in range (int(baslangic), int(bitis)+1):\n",
    "    if(sayi%2==1):\n",
    "        toplam=toplam+sayi\n",
    "        sayac=sayac+1\n",
    "print('Ortalama',(toplam/sayac))"
   ]
  },
  {
   "cell_type": "code",
   "execution_count": null,
   "id": "8167249b",
   "metadata": {},
   "outputs": [],
   "source": [
    "#Öncelikle kullanıcıdan bir sayı isteniyor\n",
    "sayi = input('Bir Sayı Giriniz : ')\n",
    " \n",
    "#Sayının pozitif mi negatif mi sıfır mı olduğunu if ile kontrol ediyoruz.\n",
    " \n",
    "if int(sayi)>0 :\n",
    "     print(sayi +\" Sayısı Pozitif Sayıdır.\")\n",
    " \n",
    "if int(sayi)<0 :\n",
    "     print(sayi +\" Sayısı Negatif Sayıdır.\")\n",
    " \n",
    "if int(sayi)==0 :\n",
    "     print(sayi +\" Sayısı Sıfırdır.\")"
   ]
  },
  {
   "cell_type": "code",
   "execution_count": 21,
   "id": "38c399db",
   "metadata": {},
   "outputs": [
    {
     "name": "stdout",
     "output_type": "stream",
     "text": [
      "Genişlik :10\n",
      "Yükseklik : 20\n",
      "Alan : 200.0\n"
     ]
    },
    {
     "data": {
      "text/plain": [
       "200.0"
      ]
     },
     "execution_count": 21,
     "metadata": {},
     "output_type": "execute_result"
    }
   ],
   "source": [
    "def dikdortgenAlan(genislik, yukseklik):\n",
    "  alan = genislik * yukseklik\n",
    "  print (\"Alan :\",alan)\n",
    "  return alan\n",
    " \n",
    "gen = float(input(\"Genişlik :\"))\n",
    " \n",
    "yuk = float(input(\"Yükseklik : \"))\n",
    " \n",
    "dikdortgenAlan(gen, yuk)"
   ]
  },
  {
   "cell_type": "code",
   "execution_count": null,
   "id": "ec27324a",
   "metadata": {},
   "outputs": [],
   "source": [
    "# -*- coding: utf-8 -*-\n",
    "\n",
    "metin=input(\"Metni Giriniz: \")\n",
    "sayac=0\n",
    "while sayac < len(metin):\n",
    "  print(metin[sayac])\n",
    "  sayac += 1"
   ]
  },
  {
   "cell_type": "code",
   "execution_count": null,
   "id": "42c373f8",
   "metadata": {},
   "outputs": [],
   "source": [
    "telefon_defteri = {\"Ahmet\" : \"085 251 45 12\",\n",
    "\"Mehmet\": \"011 112 12 55\",\n",
    "\"Ayşe\" : \"055 555 45 12\",\n",
    "\"Fatma\" : \"088 111 21 74\"}\n",
    "kişi = input(\"Telefon numarasını öğrenmek için bir kişi adı girin: \")\n",
    "if kişi in telefon_defteri:\n",
    "      cevap = \"{} adlı kişinin telefon numarası: {}\"\n",
    "      print(cevap.format(kişi, telefon_defteri[kişi]))\n",
    "else:\n",
    "      print(\"Aradığınız kişi telefon rehberinde yok!\")"
   ]
  },
  {
   "cell_type": "code",
   "execution_count": null,
   "id": "0b82965f",
   "metadata": {},
   "outputs": [],
   "source": [
    "#yazilimkodlama.com\n",
    "\n",
    "secim = input(\"Sinema için (1), Tiyatro için (2) tuşlayınız : \")\n",
    "ogrenci = input(\"Öğrenci misiniz(E/H) : \")\n",
    "ucret = 0\n",
    "\n",
    "#indirimsiz ücret hesaplama\n",
    "if secim == '1':\n",
    "  ucret = 15 #sinema\n",
    "elif secim == '2':\n",
    "  ucret = 10 #tiyatro\n",
    "\n",
    "#öğrenci indirimi\n",
    "if ogrenci =='E' or ogrenci =='e':\n",
    "  ucret=ucret / 2  #%50\n",
    "\n",
    "print(\"Ödemeniz gereken ücret :{}\".format(ucret))"
   ]
  },
  {
   "cell_type": "code",
   "execution_count": null,
   "id": "6954df0d",
   "metadata": {},
   "outputs": [],
   "source": [
    "def ArtıkYıl(yıl):\n",
    "    artık=False\n",
    "    if yıl%400==0 or (yıl%4==0 and yıl%100!=0): artık=True\n",
    "    return artık\n",
    " \n",
    "def YılınGünü(Ay,Gün,Yıl):\n",
    "    günler=[31,28,31,30,31,30,31,31,30,31,30,31]\n",
    "    if ArtıkYıl(Yıl):\n",
    "        günler[1]=29\n",
    "    sıra=0\n",
    "    for a in range(Ay-1):\n",
    "        sıra+=günler[a]\n",
    "    sıra+=Gün\n",
    "    return sıra\n",
    "\n",
    "print(YılınGünü(4,9,2018))"
   ]
  },
  {
   "cell_type": "code",
   "execution_count": null,
   "id": "fc811962",
   "metadata": {},
   "outputs": [],
   "source": [
    "def kontrol(str):\n",
    "  sayac = 0\n",
    "  for ch in str:\n",
    "    if ch == 'ğ':\n",
    "      sayac = sayac + 1\n",
    "      return True\n",
    "      break\n",
    "    \n",
    " \n",
    "metin=input('Metin : ')\n",
    "if(kontrol(metin)==True):\n",
    "      print('ğ karakteri metin içinde var')\n",
    "else:\n",
    "      print('ğ karakteri metin içinde yok')"
   ]
  },
  {
   "cell_type": "code",
   "execution_count": null,
   "id": "0a1e76a1",
   "metadata": {},
   "outputs": [],
   "source": []
  },
  {
   "cell_type": "code",
   "execution_count": null,
   "id": "224580ee",
   "metadata": {},
   "outputs": [],
   "source": []
  },
  {
   "cell_type": "code",
   "execution_count": null,
   "id": "4170ba33",
   "metadata": {},
   "outputs": [],
   "source": []
  },
  {
   "cell_type": "code",
   "execution_count": null,
   "id": "ad559765",
   "metadata": {},
   "outputs": [],
   "source": []
  },
  {
   "cell_type": "code",
   "execution_count": null,
   "id": "d7d275d4",
   "metadata": {},
   "outputs": [],
   "source": []
  }
 ],
 "metadata": {
  "kernelspec": {
   "display_name": "Python 3",
   "language": "python",
   "name": "python3"
  },
  "language_info": {
   "codemirror_mode": {
    "name": "ipython",
    "version": 3
   },
   "file_extension": ".py",
   "mimetype": "text/x-python",
   "name": "python",
   "nbconvert_exporter": "python",
   "pygments_lexer": "ipython3",
   "version": "3.8.8"
  }
 },
 "nbformat": 4,
 "nbformat_minor": 5
}
