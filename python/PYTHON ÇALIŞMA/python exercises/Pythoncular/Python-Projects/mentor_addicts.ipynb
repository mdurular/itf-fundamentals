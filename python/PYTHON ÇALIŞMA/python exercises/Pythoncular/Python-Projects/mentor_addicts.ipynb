{
 "cells": [
  {
   "cell_type": "code",
   "execution_count": 118,
   "id": "04524319",
   "metadata": {},
   "outputs": [
    {
     "name": "stdout",
     "output_type": "stream",
     "text": [
      "Hyt bn ndn yrysn?:)\n"
     ]
    }
   ],
   "source": [
    "a = \"Hayat beni neden yoruyosun?:)\"\n",
    "vowels = \"aeıioöuü\"\n",
    "for i in a:\n",
    "    if i in vowels:\n",
    "        a = a.replace(i, \"\")\n",
    "print(a)"
   ]
  },
  {
   "cell_type": "code",
   "execution_count": 119,
   "id": "8da6cce5",
   "metadata": {},
   "outputs": [
    {
     "data": {
      "text/plain": [
       "'Hyt bn ndn yrysn?:)'"
      ]
     },
     "execution_count": 119,
     "metadata": {},
     "output_type": "execute_result"
    }
   ],
   "source": [
    "a = \"Hayat beni neden yoruyosun?:)\"\n",
    "\"\".join(i for i in a if i not in \"aeıioöuü\")"
   ]
  },
  {
   "cell_type": "code",
   "execution_count": null,
   "id": "18495ee0",
   "metadata": {},
   "outputs": [],
   "source": [
    "Write a function that groups a string into parentheses cluster. Each cluster should be balanced.\n",
    "Examples\n",
    "split(\"()()()\") ➞ [\"()\", \"()\", \"()\"]\n",
    "split(\"((()))\") ➞ [\"((()))\"]\n",
    "split(\"((()))(())()()(()())\") ➞ [\"((()))\", \"(())\", \"()\", \"()\", \"(()())\"]\n",
    "split(\"((())())(()(()()))\") ➞ [\"((())())\", \"(()(()()))\"]\n",
    "Notes All input strings will only contain parentheses. Balanced: Every opening parens \n",
    "    ( must exist with its matching closing parens ) in the same cluster."
   ]
  },
  {
   "cell_type": "code",
   "execution_count": null,
   "id": "2ce01f17",
   "metadata": {},
   "outputs": [],
   "source": [
    "\n",
    "# lst.split('')\n",
    "print(lst.rsplit(\")(\"))"
   ]
  },
  {
   "cell_type": "code",
   "execution_count": 1,
   "id": "1e4e7d51",
   "metadata": {},
   "outputs": [],
   "source": [
    "input_str = \"((()))(())()()(()())\"\n",
    "def is_balanced_0(input_str):\n",
    "    height = 0\n",
    "    for c in input_str:\n",
    "        if c == '(':\n",
    "            height += 1\n",
    "        elif c == ')':\n",
    "            height -= 1\n",
    "            if height < 0:\n",
    "                return False\n",
    "\n",
    "    return height == 0"
   ]
  },
  {
   "cell_type": "code",
   "execution_count": 147,
   "id": "d8139883",
   "metadata": {},
   "outputs": [
    {
     "name": "stdout",
     "output_type": "stream",
     "text": [
      "12\n"
     ]
    }
   ],
   "source": [
    "def my_function(a, b):\n",
    "    area = a * b\n",
    "    return area\n",
    "print(my_function(3, 4))\n"
   ]
  },
  {
   "cell_type": "code",
   "execution_count": 164,
   "id": "c207394b",
   "metadata": {},
   "outputs": [
    {
     "name": "stdout",
     "output_type": "stream",
     "text": [
      "12\n"
     ]
    }
   ],
   "source": [
    "def my_function(a, b):\n",
    "    print(a * b)\n",
    "my_function(3, 4)\n"
   ]
  },
  {
   "cell_type": "code",
   "execution_count": 165,
   "id": "01339e5a",
   "metadata": {},
   "outputs": [
    {
     "name": "stdout",
     "output_type": "stream",
     "text": [
      "5.0\n"
     ]
    }
   ],
   "source": [
    "def my_function(a, b):\n",
    "    hypotenuse = (a**2 + b**2)**0.5\n",
    "    return hypotenuse\n",
    "print(my_function(3, 4))"
   ]
  },
  {
   "cell_type": "code",
   "execution_count": 167,
   "id": "671d5cab",
   "metadata": {},
   "outputs": [
    {
     "name": "stdout",
     "output_type": "stream",
     "text": [
      "Richard\n"
     ]
    }
   ],
   "source": [
    "def longer(a, b):\n",
    "    if len(a) >= len(b):\n",
    "        return a\n",
    "    else:\n",
    "        return b\n",
    "\n",
    "print(longer('Richard', 'John'))"
   ]
  },
  {
   "cell_type": "code",
   "execution_count": 168,
   "id": "df4e7ea7",
   "metadata": {},
   "outputs": [
    {
     "name": "stdout",
     "output_type": "stream",
     "text": [
      "I love Clarusway!\n"
     ]
    }
   ],
   "source": [
    "def make_sentence(**kwargs):\n",
    "    result = \"\"\n",
    "    # Iterating over the Python kwargs dictionary\n",
    "    for i in kwargs.values():\n",
    "        result += i\n",
    "    return result\n",
    "\n",
    "print(make_sentence(a=\"I \", b=\"love \", c=\"Clarusway!\"))"
   ]
  },
  {
   "cell_type": "code",
   "execution_count": 170,
   "id": "fe4fbc6d",
   "metadata": {},
   "outputs": [
    {
     "name": "stdout",
     "output_type": "stream",
     "text": [
      "Your first name is : Richard\n",
      "Your last name is : Rice\n"
     ]
    }
   ],
   "source": [
    "def my_function(first, last) : \n",
    "    print('Your first name is :', first)\n",
    "    print('Your last name is :', last)\n",
    "\n",
    "my_function('Richard', 'Rice') "
   ]
  },
  {
   "cell_type": "code",
   "execution_count": 25,
   "id": "124326a7",
   "metadata": {},
   "outputs": [
    {
     "name": "stdout",
     "output_type": "stream",
     "text": [
      "2\n"
     ]
    }
   ],
   "source": [
    "'''This problem was asked by Stripe. Given an array of integers, find the \n",
    "first missing positive integer in linear time and constant space. \n",
    "In other words, find the lowest positive integer that does not exist\n",
    "in the array. The array can contain duplicates and negative numbers as well.\n",
    "For example, the input [3, 4, -1, 1] should give\n",
    "2. The input [1, 2, 0] should give \n",
    "3.You can modify the input array in-place. (edited)'''\n",
    "\n",
    "def first_missing_positive_integer(lst):\n",
    "    \n",
    "    for i in range(1, len(lst)):\n",
    "        if i not in lst:\n",
    "            return i\n",
    "\n",
    "print(first_missing_positive_integer([3, 4, -1, 1]))\n",
    "\n",
    "\n",
    "\n"
   ]
  },
  {
   "cell_type": "code",
   "execution_count": 23,
   "id": "90abd0cf",
   "metadata": {},
   "outputs": [
    {
     "name": "stdout",
     "output_type": "stream",
     "text": [
      "8\n"
     ]
    }
   ],
   "source": [
    "def segregate(arr):\n",
    "    length = len(arr)\n",
    "    neg_index = length\n",
    "    for i, value in enumerate(arr):\n",
    "        if(value < 1 and neg_index == length):\n",
    "           neg_index = i\n",
    "        if(neg_index != length and value >= 1):\n",
    "           temp = arr[i]\n",
    "           arr[i] = arr[neg_index]\n",
    "           arr[neg_index] = temp\n",
    "           neg_index += 1\n",
    "    return arr[:neg_index]\n",
    "\n",
    "def missingPositiveNumber(arr):\n",
    "    arr = segregate(arr)\n",
    "    length = len(arr)\n",
    "    for i, value in enumerate(arr):\n",
    "        if(value - 1 < length):\n",
    "           arr[abs(value) - 1] = -(abs(arr[abs(value) - 1]))\n",
    "    for i, value in enumerate(arr):\n",
    "        if(value > 0):\n",
    "           return i + 1\n",
    "    return length + 1\n",
    "\n",
    "\n",
    "print(missingPositiveNumber([3, 4, -1, 1]))"
   ]
  },
  {
   "cell_type": "code",
   "execution_count": 16,
   "id": "84835dac",
   "metadata": {},
   "outputs": [
    {
     "data": {
      "text/plain": [
       "2"
      ]
     },
     "execution_count": 16,
     "metadata": {},
     "output_type": "execute_result"
    }
   ],
   "source": [
    "def missing_positive_integer(my_list):\n",
    "    max_value = max(my_list)\n",
    "    my_list = [num for num in range(1,max(my_list)) if num not in my_list]\n",
    "    if len(my_list) == 0:\n",
    "        my_list.append(max_value+1)\n",
    "\n",
    "    return min(my_list)\n",
    "\n",
    "my_list = [3, 4, -1, 1]\n",
    "missing_positive_integer(my_list)"
   ]
  },
  {
   "cell_type": "code",
   "execution_count": 24,
   "id": "0f1812ff",
   "metadata": {},
   "outputs": [
    {
     "name": "stdout",
     "output_type": "stream",
     "text": [
      "6\n"
     ]
    }
   ],
   "source": [
    "'''This problem was asked by Stripe. Given an array of integers, find the \n",
    "first missing positive integer in linear time and constant space. \n",
    "In other words, find the lowest positive integer that does not exist\n",
    "in the array. The array can contain duplicates and negative numbers as well.\n",
    "For example, the input [3, 4, -1, 1] should give\n",
    "2. The input [1, 2, 0] should give \n",
    "3.You can modify the input array in-place. (edited)'''\n",
    "\n",
    "def first_missing_positive_integer(lst):\n",
    "    lst = set(lst)\n",
    "    for i in range(1, len(lst)+2):\n",
    "        if i not in lst:\n",
    "            return i\n",
    "\n",
    "print(first_missing_positive_integer([3, 2, 5, 7, 4, -1, -5, -4, -2, 1]))\n"
   ]
  }
 ],
 "metadata": {
  "interpreter": {
   "hash": "fd2207e9aff349e1f968e75c37517a375afe88c92786151a087c5d934a98b86a"
  },
  "kernelspec": {
   "display_name": "Python 3",
   "language": "python",
   "name": "python3"
  },
  "language_info": {
   "codemirror_mode": {
    "name": "ipython",
    "version": 3
   },
   "file_extension": ".py",
   "mimetype": "text/x-python",
   "name": "python",
   "nbconvert_exporter": "python",
   "pygments_lexer": "ipython3",
   "version": "3.8.8"
  }
 },
 "nbformat": 4,
 "nbformat_minor": 5
}
