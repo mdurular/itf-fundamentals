{
 "cells": [
  {
   "cell_type": "code",
   "execution_count": 1,
   "id": "54ad4e48",
   "metadata": {},
   "outputs": [
    {
     "name": "stdout",
     "output_type": "stream",
     "text": [
      "['USA', 'Brasil', 'UK', 'Germany', 'Turkey', 'New Zealand']\n"
     ]
    }
   ],
   "source": [
    "country = ['USA', 'Brasil', 'UK', 'Germany', 'Turkey', 'New Zealand']\n",
    "print(country)"
   ]
  },
  {
   "cell_type": "code",
   "execution_count": 2,
   "id": "9663b8b8",
   "metadata": {},
   "outputs": [
    {
     "name": "stdout",
     "output_type": "stream",
     "text": [
      "['I', ' ', 'q', 'u', 'i', 't', ' ', 's', 'm', 'o', 'k', 'i', 'n', 'g']\n",
      "['I quit smoking']\n"
     ]
    }
   ],
   "source": [
    "string_1 = 'I quit smoking'\n",
    "\n",
    "new_list_1 = list(string_1)  # we created multi element list\n",
    "print(new_list_1)\n",
    "\n",
    "new_list_2 = [string_1]  # this is a single element list\n",
    "print(new_list_2)\n"
   ]
  },
  {
   "cell_type": "code",
   "execution_count": 3,
   "id": "1b32938d",
   "metadata": {},
   "outputs": [
    {
     "name": "stdout",
     "output_type": "stream",
     "text": [
      "22\n"
     ]
    }
   ],
   "source": [
    "mixed_list = [11, 'Joseph', False, 3.14, None, [1, 2, 3]]\n",
    "\n",
    "warning = 'You must quit smoking!'\n",
    "\n",
    "print(len(list(warning)))"
   ]
  },
  {
   "cell_type": "code",
   "execution_count": 4,
   "id": "76c2bdf9",
   "metadata": {},
   "outputs": [
    {
     "name": "stdout",
     "output_type": "stream",
     "text": [
      "['114', '112', 'plastic-free sea']\n"
     ]
    }
   ],
   "source": [
    "empty_list_1 = []\n",
    "empty_list_1.append('114')\n",
    "empty_list_1.append('112')\n",
    "empty_list_1.append('plastic-free sea')\n",
    "\n",
    "print(empty_list_1) \n"
   ]
  },
  {
   "cell_type": "code",
   "execution_count": 17,
   "id": "1d56b743",
   "metadata": {},
   "outputs": [
    {
     "name": "stdout",
     "output_type": "stream",
     "text": [
      "['New York', 'London', 'Istanbul', 'Seoul', 'Sydney', 'Addis Ababa', 'Ankara']\n",
      "['New York', 'Istanbul', 'Seoul', 'Sydney', 'Addis Ababa', 'Ankara']\n",
      "['Addis Ababa', 'Ankara', 'Istanbul', 'New York', 'Seoul', 'Sydney']\n",
      "['Addis Ababa', 'Bergama', 'Ankara', 'Istanbul', 'Eskisehir', 'New York', 'Seoul', 'Sydney']\n",
      "8\n"
     ]
    }
   ],
   "source": [
    "city = ['New York', 'London', 'Istanbul', 'Seoul', 'Sydney']\n",
    "city.append('Addis Ababa')\n",
    "city.append(\"Ankara\") # we have append 'Ankara'\n",
    "print(city) \n",
    "\n",
    "city.remove('London')  # we have deleted 'London'\n",
    "print(city)\n",
    "\n",
    "city.sort()  # lists the items in alphabetical order\n",
    "print(city)   \n",
    "\n",
    "\n",
    "city.insert(3, 'Berlin')\n",
    "city.insert(1, 'Bergama')\n",
    "city[4] = 'Eskisehir'\n",
    "print(city)\n",
    "\n",
    "print(len(city))"
   ]
  },
  {
   "cell_type": "code",
   "execution_count": null,
   "id": "5afc23a6",
   "metadata": {},
   "outputs": [],
   "source": [
    "colors = ['red', 'purple', 'blue', 'yellow', 'green']\n",
    "print(colors[2])  # If we start at zero, \n",
    "# the second element will be 'blue'."
   ]
  },
  {
   "cell_type": "code",
   "execution_count": 19,
   "id": "0bc2aa17",
   "metadata": {},
   "outputs": [
    {
     "name": "stdout",
     "output_type": "stream",
     "text": [
      "[['New York', 'London', 'Istanbul', 'Seoul', 'Sydney']]\n",
      "['New York', 'London', 'Istanbul', 'Seoul', 'Sydney']\n"
     ]
    }
   ],
   "source": [
    "city = ['New York', 'London', 'Istanbul', 'Seoul', 'Sydney']\n",
    "\n",
    "city_list = []\n",
    "city_list.append(city) # we have created a nested list\n",
    "\n",
    "print(city_list)\n",
    "\n",
    "\n",
    "city_list = [['New York', 'London', 'Istanbul', 'Seoul', 'Sydney']]\n",
    "\n",
    "print(city_list[0]) # access to first and only element\n"
   ]
  },
  {
   "cell_type": "code",
   "execution_count": 21,
   "id": "22943bdb",
   "metadata": {},
   "outputs": [
    {
     "name": "stdout",
     "output_type": "stream",
     "text": [
      "Istanbul\n",
      "a\n"
     ]
    }
   ],
   "source": [
    "city_list = [['New York', 'London', 'Istanbul', 'Seoul', 'Sydney']]\n",
    "\n",
    "print(city_list[0][2])\n",
    "\n",
    "print(city_list[0][2][3])"
   ]
  },
  {
   "cell_type": "code",
   "execution_count": 28,
   "id": "268a2e16",
   "metadata": {},
   "outputs": [
    {
     "name": "stdout",
     "output_type": "stream",
     "text": [
      "[['apple', 'banana', 'watermelon', 'orange', 'mango', 'avocado']]\n",
      "watermelon\n",
      "e\n"
     ]
    }
   ],
   "source": [
    "fruits = ['apple', 'banana', 'watermelon', 'orange', 'mango', 'avocado']\n",
    "\n",
    "fruit_list = []\n",
    "\n",
    "fruit_list.insert(0, fruits)\n",
    "\n",
    "print(fruit_list)\n",
    "\n",
    "print(fruit_list[0][2])\n",
    "print(fruit_list[0][2][6])"
   ]
  },
  {
   "cell_type": "code",
   "execution_count": 29,
   "id": "824ec4d7",
   "metadata": {},
   "outputs": [
    {
     "name": "stdout",
     "output_type": "stream",
     "text": [
      "[5, 7, 9]\n"
     ]
    }
   ],
   "source": [
    "numbers = [1, 3, 5, 7, 9, 11, 13, 15, 17]\n",
    "print(numbers[2:5])  # we get the elements from index=2 to index=5(5 is not included)\n"
   ]
  },
  {
   "cell_type": "code",
   "execution_count": null,
   "id": "b0498733",
   "metadata": {},
   "outputs": [],
   "source": [
    "# You can keep in mind the formula syntax below for slicing a sequence. \n",
    "# From 'start' to 'stop-1', by 'step'."
   ]
  },
  {
   "cell_type": "code",
   "execution_count": 33,
   "id": "13d453f2",
   "metadata": {},
   "outputs": [
    {
     "name": "stdout",
     "output_type": "stream",
     "text": [
      "[0, 1, 2, 3, 4, 5, 6, 7, 8, 9, 10]\n",
      "[0, 2, 4, 6, 8, 10]\n"
     ]
    }
   ],
   "source": [
    "count = list(range(11))\n",
    "# count = list(range(6))\n",
    "print(count)\n",
    "\n",
    "print(count[0:11:2])"
   ]
  },
  {
   "cell_type": "code",
   "execution_count": 39,
   "id": "d9707c8d",
   "metadata": {},
   "outputs": [
    {
     "name": "stdout",
     "output_type": "stream",
     "text": [
      "['elephant', 'bear', 'fox', 'wolf', 'rabbit', 'deer', 'giraffe']\n",
      "['wolf', 'rabbit', 'deer', 'giraffe']\n",
      "['elephant', 'bear', 'fox', 'wolf', 'rabbit']\n",
      "['elephant', 'fox', 'rabbit', 'giraffe']\n"
     ]
    }
   ],
   "source": [
    "animals = ['elephant', 'bear', 'fox', 'wolf', 'rabbit', 'deer', 'giraffe']\n",
    "\n",
    "print(animals[:])  # all elements of the list\n",
    "print(animals[3:]) \n",
    "print(animals[:5])\n",
    "print(animals[::2])"
   ]
  },
  {
   "cell_type": "code",
   "execution_count": 40,
   "id": "58cb21be",
   "metadata": {},
   "outputs": [
    {
     "name": "stdout",
     "output_type": "stream",
     "text": [
      "[10, 12, 14, 16, 18]\n"
     ]
    }
   ],
   "source": [
    "even_numbers = [2, 4, 6, 8, 10, 12, 14, 16, 18, 20]\n",
    "\n",
    "print(even_numbers[4:9])"
   ]
  },
  {
   "cell_type": "code",
   "execution_count": 41,
   "id": "4c96adae",
   "metadata": {},
   "outputs": [
    {
     "name": "stdout",
     "output_type": "stream",
     "text": [
      "1\n"
     ]
    }
   ],
   "source": [
    "print(len([[12, 34, 56]]))"
   ]
  },
  {
   "cell_type": "code",
   "execution_count": 44,
   "id": "090b6dc4",
   "metadata": {},
   "outputs": [
    {
     "name": "stdout",
     "output_type": "stream",
     "text": [
      "3\n",
      "[[12, 34, 56]] [0]\n"
     ]
    }
   ],
   "source": [
    "print(len([[12, 34, 56]][0]))  #anlamadim\n",
    "print([[12, 34, 56]],[0])\n"
   ]
  },
  {
   "cell_type": "code",
   "execution_count": 45,
   "id": "f394ec89",
   "metadata": {},
   "outputs": [
    {
     "name": "stdout",
     "output_type": "stream",
     "text": [
      "London\n"
     ]
    }
   ],
   "source": [
    "city = ['New York', 'London', 'Istanbul', 'Seoul', 'Sydney']\n",
    "print(city[-4])"
   ]
  },
  {
   "cell_type": "code",
   "execution_count": 46,
   "id": "d6b8f1aa",
   "metadata": {},
   "outputs": [
    {
     "name": "stdout",
     "output_type": "stream",
     "text": [
      "['lobster', 'squid', 'octopus']\n"
     ]
    }
   ],
   "source": [
    "reef = ['swordfish', 'shark', 'whale', 'jellyfish', 'lobster', 'squid', 'octopus']\n",
    "print(reef[-3:])"
   ]
  },
  {
   "cell_type": "code",
   "execution_count": 47,
   "id": "83fe7063",
   "metadata": {},
   "outputs": [
    {
     "name": "stdout",
     "output_type": "stream",
     "text": [
      "['swordfish', 'shark', 'whale', 'jellyfish']\n"
     ]
    }
   ],
   "source": [
    "reef = ['swordfish', 'shark', 'whale', 'jellyfish', 'lobster', 'squid', 'octopus']\n",
    "print(reef[:-3])\n"
   ]
  },
  {
   "cell_type": "code",
   "execution_count": 48,
   "id": "e15f284f",
   "metadata": {},
   "outputs": [
    {
     "name": "stdout",
     "output_type": "stream",
     "text": [
      "['octopus', 'squid', 'lobster', 'jellyfish', 'whale', 'shark', 'swordfish']\n"
     ]
    }
   ],
   "source": [
    "reef = ['swordfish', 'shark', 'whale', 'jellyfish', 'lobster', 'squid', 'octopus']\n",
    "print(reef[::-1])  # we have produced the reverse of the list"
   ]
  },
  {
   "cell_type": "code",
   "execution_count": 49,
   "id": "861e06dd",
   "metadata": {},
   "outputs": [
    {
     "name": "stdout",
     "output_type": "stream",
     "text": [
      "['octopus', 'lobster', 'whale', 'swordfish']\n"
     ]
    }
   ],
   "source": [
    "reef = ['swordfish', 'shark', 'whale', 'jellyfish', 'lobster', 'squid', 'octopus']\n",
    "print(reef[::-2])"
   ]
  },
  {
   "cell_type": "code",
   "execution_count": 50,
   "id": "0659f179",
   "metadata": {},
   "outputs": [
    {
     "name": "stdout",
     "output_type": "stream",
     "text": [
      "[8, 7, 6, 5]\n",
      "[]\n"
     ]
    }
   ],
   "source": [
    "odd_no = [1, 2, 3, 4, 5, 6, 7, 8, 9, 10]\n",
    "\n",
    "print(odd_no[7:3:-1])\n",
    "print(odd_no[2:6:-1])\n"
   ]
  },
  {
   "cell_type": "code",
   "execution_count": 53,
   "id": "21646af3",
   "metadata": {},
   "outputs": [
    {
     "data": {
      "text/plain": [
       "[1, 2, 3, 4, 5, 6]"
      ]
     },
     "execution_count": 53,
     "metadata": {},
     "output_type": "execute_result"
    }
   ],
   "source": [
    "my_list = [1, 2, 3, 4, 5, 6]\n",
    "new_list =[]\n",
    "my_list"
   ]
  },
  {
   "cell_type": "code",
   "execution_count": 64,
   "id": "65abc5e4",
   "metadata": {},
   "outputs": [
    {
     "name": "stdout",
     "output_type": "stream",
     "text": [
      "[1, 9, 25, 1, 9, 25, 1, 9, 25, 1, 9, 25, 1, 9, 25, 1, 9, 25, 1, 9, 25, 1, 9, 25, 1, 9, 25, 1, 9, 25, 1, 9, 25]\n"
     ]
    }
   ],
   "source": [
    "for x in my_list:\n",
    "    if x % 2 != 0:\n",
    "        new_list.append(x ** 2)\n",
    "print(new_list)"
   ]
  },
  {
   "cell_type": "code",
   "execution_count": 66,
   "id": "1823e4c1",
   "metadata": {},
   "outputs": [
    {
     "name": "stdout",
     "output_type": "stream",
     "text": [
      "[1, 9, 25]\n"
     ]
    }
   ],
   "source": [
    "print([x ** 2 for x in my_list if x %2 !=0])"
   ]
  },
  {
   "cell_type": "code",
   "execution_count": 67,
   "id": "2c47da40",
   "metadata": {},
   "outputs": [
    {
     "name": "stdout",
     "output_type": "stream",
     "text": [
      "<class 'tuple'>\n"
     ]
    }
   ],
   "source": [
    "empty_tuple = ()\n",
    "print(type(empty_tuple))"
   ]
  },
  {
   "cell_type": "code",
   "execution_count": 68,
   "id": "c5a7e9b4",
   "metadata": {},
   "outputs": [
    {
     "name": "stdout",
     "output_type": "stream",
     "text": [
      "love\n",
      "<class 'str'>\n"
     ]
    }
   ],
   "source": [
    "try_tuple = ('love')\n",
    "\n",
    "print(try_tuple)\n",
    "\n",
    "print(type(try_tuple)) # it's not tuple type."
   ]
  },
  {
   "cell_type": "code",
   "execution_count": 69,
   "id": "ca89675a",
   "metadata": {},
   "outputs": [
    {
     "name": "stdout",
     "output_type": "stream",
     "text": [
      "('love',)\n",
      "<class 'tuple'>\n"
     ]
    }
   ],
   "source": [
    "try_tuple = ('love',)\n",
    "\n",
    "print(try_tuple)\n",
    "\n",
    "print(type(try_tuple)) # it's a tuple type."
   ]
  },
  {
   "cell_type": "code",
   "execution_count": 70,
   "id": "e05d6f60",
   "metadata": {},
   "outputs": [
    {
     "name": "stdout",
     "output_type": "stream",
     "text": [
      "('mercury', 'jupiter', 'saturn')\n",
      "<class 'tuple'>\n"
     ]
    }
   ],
   "source": [
    "planets = 'mercury', 'jupiter', 'saturn'\n",
    "\n",
    "print(planets)\n",
    "print(type(planets))"
   ]
  },
  {
   "cell_type": "code",
   "execution_count": 71,
   "id": "07f9fb95",
   "metadata": {},
   "outputs": [
    {
     "name": "stdout",
     "output_type": "stream",
     "text": [
      "()\n",
      "<class 'tuple'>\n"
     ]
    }
   ],
   "source": [
    "empty_tuple_1 = tuple()\n",
    "\n",
    "print(empty_tuple_1)\n",
    "print(type(empty_tuple_1))"
   ]
  },
  {
   "cell_type": "code",
   "execution_count": 72,
   "id": "8c5c68a2",
   "metadata": {},
   "outputs": [
    {
     "name": "stdout",
     "output_type": "stream",
     "text": [
      "<class 'list'> [1, 4, 3, 4, 5, 6, 7, 4]\n"
     ]
    }
   ],
   "source": [
    "my_tuple=(1, 4, 3, 4, 5, 6, 7, 4)\n",
    "\n",
    "my_list = list(my_tuple)\n",
    "\n",
    "print(type(my_list), my_list)\n"
   ]
  },
  {
   "cell_type": "code",
   "execution_count": 73,
   "id": "8783eb65",
   "metadata": {},
   "outputs": [
    {
     "name": "stdout",
     "output_type": "stream",
     "text": [
      "<class 'tuple'> (1, 4, 3, 4, 5, 6, 7, 4)\n"
     ]
    }
   ],
   "source": [
    "my_list = [1, 4, 3, 4, 5, 6, 7, 4]\n",
    "\n",
    "my_tuple = tuple(my_list)\n",
    "\n",
    "print(type(my_tuple), my_tuple)"
   ]
  },
  {
   "cell_type": "code",
   "execution_count": 74,
   "id": "4fcb43fe",
   "metadata": {},
   "outputs": [
    {
     "name": "stdout",
     "output_type": "stream",
     "text": [
      "('A', 'l', 'p', 's')\n"
     ]
    }
   ],
   "source": [
    "mountain = tuple('Alps')\n",
    "print(mountain) \n"
   ]
  },
  {
   "cell_type": "code",
   "execution_count": 75,
   "id": "fd6ae271",
   "metadata": {},
   "outputs": [
    {
     "name": "stdout",
     "output_type": "stream",
     "text": [
      "4\n"
     ]
    }
   ],
   "source": [
    "mix_value_tuple = (0, 'bird', 3.14, True)\n",
    "\n",
    "print(len(mix_value_tuple))"
   ]
  },
  {
   "cell_type": "code",
   "execution_count": 77,
   "id": "c9ef8595",
   "metadata": {},
   "outputs": [
    {
     "name": "stdout",
     "output_type": "stream",
     "text": [
      "0\n",
      "2\n",
      "4\n",
      "(0, 2)\n"
     ]
    }
   ],
   "source": [
    "even_no = (0, 2, 4)\n",
    "print(even_no[0])    \n",
    "print(even_no[1])    \n",
    "print(even_no[2])   \n",
    "print(even_no[:2])    \n"
   ]
  },
  {
   "cell_type": "code",
   "execution_count": 78,
   "id": "0136b8e9",
   "metadata": {},
   "outputs": [
    {
     "name": "stdout",
     "output_type": "stream",
     "text": [
      "['Athens', 'Cairo', 'Moskow', 'Dublin']\n"
     ]
    }
   ],
   "source": [
    "city_list = ['Tokyo', 'Istanbul', 'Moskow', 'Dublin']\n",
    "\n",
    "city_list[0] = 'Athens'\n",
    "city_list[1] = 'Cairo'\n",
    "print(city_list)\n"
   ]
  },
  {
   "cell_type": "code",
   "execution_count": 79,
   "id": "0e818c57",
   "metadata": {},
   "outputs": [
    {
     "ename": "TypeError",
     "evalue": "'tuple' object does not support item assignment",
     "output_type": "error",
     "traceback": [
      "\u001b[1;31m---------------------------------------------------------------------------\u001b[0m",
      "\u001b[1;31mTypeError\u001b[0m                                 Traceback (most recent call last)",
      "\u001b[1;32m<ipython-input-79-e703d7fff350>\u001b[0m in \u001b[0;36m<module>\u001b[1;34m\u001b[0m\n\u001b[0;32m      3\u001b[0m \u001b[0mcity_tuple\u001b[0m \u001b[1;33m=\u001b[0m \u001b[0mtuple\u001b[0m\u001b[1;33m(\u001b[0m\u001b[0mcity_list\u001b[0m\u001b[1;33m)\u001b[0m\u001b[1;33m\u001b[0m\u001b[1;33m\u001b[0m\u001b[0m\n\u001b[0;32m      4\u001b[0m \u001b[1;33m\u001b[0m\u001b[0m\n\u001b[1;32m----> 5\u001b[1;33m \u001b[0mcity_tuple\u001b[0m\u001b[1;33m[\u001b[0m\u001b[1;36m0\u001b[0m\u001b[1;33m]\u001b[0m \u001b[1;33m=\u001b[0m \u001b[1;34m'New York'\u001b[0m  \u001b[1;31m# you can't assign a value\u001b[0m\u001b[1;33m\u001b[0m\u001b[1;33m\u001b[0m\u001b[0m\n\u001b[0m",
      "\u001b[1;31mTypeError\u001b[0m: 'tuple' object does not support item assignment"
     ]
    }
   ],
   "source": [
    "city_list = ['Tokyo', 'Istanbul', 'Moskow', 'Dublin']\n",
    "\n",
    "city_tuple = tuple(city_list)\n",
    "\n",
    "city_tuple[0] = 'New York'  # you can't assign a value\n"
   ]
  },
  {
   "cell_type": "code",
   "execution_count": 80,
   "id": "d5c1e96f",
   "metadata": {},
   "outputs": [
    {
     "ename": "AttributeError",
     "evalue": "'tuple' object has no attribute 'append'",
     "output_type": "error",
     "traceback": [
      "\u001b[1;31m---------------------------------------------------------------------------\u001b[0m",
      "\u001b[1;31mAttributeError\u001b[0m                            Traceback (most recent call last)",
      "\u001b[1;32m<ipython-input-80-0ca9ec98ccea>\u001b[0m in \u001b[0;36m<module>\u001b[1;34m\u001b[0m\n\u001b[0;32m      1\u001b[0m \u001b[0mmix_value\u001b[0m \u001b[1;33m=\u001b[0m \u001b[1;33m(\u001b[0m\u001b[1;36m10\u001b[0m\u001b[1;33m,\u001b[0m \u001b[1;32mFalse\u001b[0m\u001b[1;33m,\u001b[0m \u001b[1;34m'fruit'\u001b[0m\u001b[1;33m,\u001b[0m \u001b[1;36m1.618\u001b[0m\u001b[1;33m)\u001b[0m\u001b[1;33m\u001b[0m\u001b[1;33m\u001b[0m\u001b[0m\n\u001b[1;32m----> 2\u001b[1;33m \u001b[0mmix_value\u001b[0m\u001b[1;33m.\u001b[0m\u001b[0mappend\u001b[0m\u001b[1;33m(\u001b[0m\u001b[1;33m[\u001b[0m\u001b[1;34m'vegetable'\u001b[0m\u001b[1;33m,\u001b[0m \u001b[1;36m2\u001b[0m\u001b[1;33m+\u001b[0m\u001b[1;36m3j\u001b[0m\u001b[1;33m]\u001b[0m\u001b[1;33m)\u001b[0m\u001b[1;33m\u001b[0m\u001b[1;33m\u001b[0m\u001b[0m\n\u001b[0m\u001b[0;32m      3\u001b[0m \u001b[1;33m\u001b[0m\u001b[0m\n\u001b[0;32m      4\u001b[0m \u001b[0mprint\u001b[0m\u001b[1;33m(\u001b[0m\u001b[0mlen\u001b[0m\u001b[1;33m(\u001b[0m\u001b[0mmix_value\u001b[0m\u001b[1;33m)\u001b[0m\u001b[1;33m)\u001b[0m\u001b[1;33m\u001b[0m\u001b[1;33m\u001b[0m\u001b[0m\n",
      "\u001b[1;31mAttributeError\u001b[0m: 'tuple' object has no attribute 'append'"
     ]
    }
   ],
   "source": [
    "mix_value = (10, False, 'fruit', 1.618)\n",
    "mix_value.append(['vegetable', 2+3j])\n",
    "\n",
    "print(len(mix_value))"
   ]
  },
  {
   "cell_type": "code",
   "execution_count": 123,
   "id": "d413ed28",
   "metadata": {},
   "outputs": [
    {
     "name": "stdout",
     "output_type": "stream",
     "text": [
      "[10, 9, 8, 7, 6, 5, 4, 3, 2, 1]\n"
     ]
    }
   ],
   "source": [
    "# my_list = [4, 5, 2, 8, 10, 6, 7, 1, 9, 3]\n",
    "my_list = list(range(1,11))\n",
    "my_list.sort(reverse = True)\n",
    "print(my_list)   \n",
    "    "
   ]
  },
  {
   "cell_type": "code",
   "execution_count": null,
   "id": "ea1b4ce6",
   "metadata": {},
   "outputs": [],
   "source": [
    "grocer = [\"banana\", [\"orange\", [\"apple\", \"eggplant\", \"melon\", \"spinach\", \"cheese\", \"leek\" ], \"water\"], \"mandarin\"]"
   ]
  },
  {
   "cell_type": "code",
   "execution_count": 131,
   "id": "a0c0e360",
   "metadata": {},
   "outputs": [
    {
     "name": "stdout",
     "output_type": "stream",
     "text": [
      "['eggplant', 'spinach', 'leek']\n"
     ]
    }
   ],
   "source": [
    "grocer = [\"banana\", [\"orange\", [\"apple\", \"eggplant\", \"melon\", \"spinach\", \"cheese\", \"leek\" ], \"water\"], \"mandarin\"]\n",
    "print(grocer[1][1][1:6:2])"
   ]
  },
  {
   "cell_type": "code",
   "execution_count": 135,
   "id": "610d301f",
   "metadata": {},
   "outputs": [
    {
     "name": "stdout",
     "output_type": "stream",
     "text": [
      "My two favorite flowers are tulip and rose, two favorite colors are blue and green.\n"
     ]
    }
   ],
   "source": [
    "flowers = [[\"jasmine\", [\"lavender\", \"rose\"], \"tulip\"]]\n",
    "colors = [\"red\", (\"blue\", [\"yellow\", \"green\"]), \"pink\"]\n",
    "text = \"My two favorite flowers are {} and {}, two favorite colors are {} and {}.\".format(flowers[0][2], flowers[0][1][1], colors[1][0], colors[1][1][1])\n",
    "print(text)\n"
   ]
  },
  {
   "cell_type": "code",
   "execution_count": 147,
   "id": "54758ea7",
   "metadata": {},
   "outputs": [
    {
     "name": "stdout",
     "output_type": "stream",
     "text": [
      "I am 40 years old.\n",
      "\tI have two children.\n",
      "\t\tData Science is my IT domain.\n"
     ]
    }
   ],
   "source": [
    "sentence = \"I am 40 years old. I have two children. Data Science is my IT domain.\"\n",
    "escapes = [\"\\n\\t\", (\"\\t\", \"\\t\\t\"), [\"\\n\", \"\\n\\t\\t\"]]\n",
    "\n",
    "sentence = \"I am 40 years old.{}I have two children.{}Data Science is my IT domain.\".format(escapes[0], escapes[2][1])\n",
    "print(sentence)"
   ]
  }
 ],
 "metadata": {
  "kernelspec": {
   "display_name": "Python 3",
   "language": "python",
   "name": "python3"
  },
  "language_info": {
   "codemirror_mode": {
    "name": "ipython",
    "version": 3
   },
   "file_extension": ".py",
   "mimetype": "text/x-python",
   "name": "python",
   "nbconvert_exporter": "python",
   "pygments_lexer": "ipython3",
   "version": "3.8.8"
  }
 },
 "nbformat": 4,
 "nbformat_minor": 5
}
