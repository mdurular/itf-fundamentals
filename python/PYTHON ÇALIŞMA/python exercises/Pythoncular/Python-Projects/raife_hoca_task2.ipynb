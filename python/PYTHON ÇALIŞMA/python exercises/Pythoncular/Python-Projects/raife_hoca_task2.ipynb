{
 "cells": [
  {
   "cell_type": "markdown",
   "metadata": {
    "id": "DpXjn6Vd9Yw6"
   },
   "source": [
    "1- Write a program to prompt for a score between 0.0 and 1.0. If the score is out of range, print an error. If the score is between 0.0 and 1.0, print a grade using the following table: Score Grade\n",
    "\n",
    "0.9 A\n",
    "\n",
    "0.8 B\n",
    "\n",
    "0.7 C\n",
    "\n",
    "0.6 D\n",
    "\n",
    "0.6 F\n",
    "\n",
    "If the user enters a value out of range, print a suitable error message and exit. For the test, enter a score of 0.85"
   ]
  },
  {
   "cell_type": "code",
   "execution_count": 5,
   "metadata": {},
   "outputs": [
    {
     "name": "stdout",
     "output_type": "stream",
     "text": [
      "B\n"
     ]
    }
   ],
   "source": [
    "def score_grade(score):\n",
    "    if score <= 1.0:\n",
    "        if score >= 0.9:\n",
    "            print(\"A\")\n",
    "        elif score >= 0.8 and score < 0.9:\n",
    "            print(\"B\")\n",
    "        elif score >= 0.7 and score < 0.8:\n",
    "            print(\"C\")\n",
    "        elif score >= 0.6 and score < 0.7:\n",
    "            print(\"D\")\n",
    "        elif score < 0.6:\n",
    "            print(\"F\")\n",
    "    else:\n",
    "        print(\"Please enter suitable value\")\n",
    "    return\n",
    "score_grade(0.85)"
   ]
  },
  {
   "cell_type": "markdown",
   "metadata": {
    "id": "k7W9-BOA9n7O"
   },
   "source": [
    "2- Yazi olarak girilen string ifadenin içindeki harfler tamamen büyük veya tamamen küçük ise True, küçük ve büyük harlerden oluşmuş ise False veren bir fonksiyon yazalım."
   ]
  },
  {
   "cell_type": "code",
   "execution_count": 529,
   "metadata": {},
   "outputs": [
    {
     "name": "stdout",
     "output_type": "stream",
     "text": [
      "True\n"
     ]
    }
   ],
   "source": [
    "text = \"GALATASARAY\"\n",
    "\n",
    "if text.upper() == text: \n",
    "    print(True)\n",
    "elif text.lower() == text:\n",
    "    print(True)\n",
    "else:\n",
    "    print(False)"
   ]
  },
  {
   "cell_type": "code",
   "execution_count": 530,
   "metadata": {},
   "outputs": [
    {
     "name": "stdout",
     "output_type": "stream",
     "text": [
      "False\n",
      "True\n",
      "True\n",
      "False\n"
     ]
    }
   ],
   "source": [
    "def kucuk_buyuk(text):\n",
    "    if text.upper() == text:\n",
    "        return True\n",
    "    elif text.lower() == text:\n",
    "        return True\n",
    "    else:\n",
    "        return False\n",
    "    \n",
    "print(kucuk_buyuk(\"Ali okula geldi\"))\n",
    "print(kucuk_buyuk(\"gecmis olsun\"))\n",
    "print(kucuk_buyuk(\"GALATASARAY\"))\n",
    "print(kucuk_buyuk(\"merHaba hAYat\"))"
   ]
  },
  {
   "cell_type": "markdown",
   "metadata": {
    "id": "6PFwqEFO9nxy"
   },
   "source": [
    "3- Sayıyı kalansız bölen sayıları bulan bir fonksiyon yazalım"
   ]
  },
  {
   "cell_type": "code",
   "execution_count": 53,
   "metadata": {},
   "outputs": [
    {
     "name": "stdout",
     "output_type": "stream",
     "text": [
      "1 2 4 8 16 \n"
     ]
    }
   ],
   "source": [
    "def bolenler(num):\n",
    "    lst = \"\"    \n",
    "    for i in range(1, num+1):\n",
    "        if num % i == 0:\n",
    "            lst += str(i) + \" \" \n",
    "    return lst\n",
    "print(bolenler(16))    \n",
    "    "
   ]
  },
  {
   "cell_type": "code",
   "execution_count": 54,
   "metadata": {},
   "outputs": [
    {
     "name": "stdout",
     "output_type": "stream",
     "text": [
      "[1, 2, 4, 8, 16]\n"
     ]
    }
   ],
   "source": [
    "def bolenler(num):\n",
    "    lst = []    \n",
    "    for i in range(1, num+1):\n",
    "        if num % i == 0:\n",
    "            lst.append(i) \n",
    "    return lst\n",
    "print(bolenler(16))"
   ]
  },
  {
   "cell_type": "markdown",
   "metadata": {
    "id": "rgWFi-lZ9noI"
   },
   "source": [
    "4- Cümlenin içindeki sesli harfleri kaldıran bir fonksiyon yazalım.\n",
    "print(sessiz_yap(\"Hayat beni neden yoruyosun?:)\")) --> hyt bn ndn yrysn?:)"
   ]
  },
  {
   "cell_type": "code",
   "execution_count": 66,
   "metadata": {},
   "outputs": [
    {
     "name": "stdout",
     "output_type": "stream",
     "text": [
      "Hyt bn ndn yrysn?:)\n"
     ]
    }
   ],
   "source": [
    "def sessiz_yap(text):\n",
    "    sesliler = \"aeıioöuüAEIİOÖUÜ\"\n",
    "    for i in text:\n",
    "        if i in sesliler:\n",
    "            text = text.replace(i, \"\")\n",
    "    return text\n",
    "print(sessiz_yap(\"Hayat beni neden yoruyosun?:)\"))"
   ]
  },
  {
   "cell_type": "markdown",
   "metadata": {
    "id": "yxwOQSQe9ne1"
   },
   "source": [
    "5- Tarihi yüzyıla çeviren bir fonksiyon yazalım.\n",
    "print(yüzyıl_yap(1738)) --> 18. yüzyıl"
   ]
  },
  {
   "cell_type": "code",
   "execution_count": 103,
   "metadata": {},
   "outputs": [
    {
     "name": "stdout",
     "output_type": "stream",
     "text": [
      "21. yuzyil\n"
     ]
    }
   ],
   "source": [
    "def yüzyıl_yap(tarih):\n",
    "    a = str(tarih)[1:4]\n",
    "    b = str(tarih)[0:2]\n",
    "    if int(a) >= 0:\n",
    "        b = str(int(b)+1) + \". yuzyil\"\n",
    "    return b\n",
    "print(yüzyıl_yap(2021))"
   ]
  },
  {
   "cell_type": "markdown",
   "metadata": {
    "id": "E4tCFCc-9nVQ"
   },
   "source": []
  },
  {
   "cell_type": "markdown",
   "metadata": {
    "id": "Y4qLf-_89nL4"
   },
   "source": [
    "6- Yazının içersindeki kelimelerin ilk ve son karakterleri sabit tutup diğer karakterleri yerine - çizgi koyan fonksiyon yazalım.\n",
    "print(dönüstür(\"hello world\")) --> h---o w---d "
   ]
  },
  {
   "cell_type": "code",
   "execution_count": 186,
   "metadata": {},
   "outputs": [
    {
     "name": "stdout",
     "output_type": "stream",
     "text": [
      "h---o w---d \n"
     ]
    }
   ],
   "source": [
    "def donustur(text):\n",
    "    a = len(text)-1\n",
    "    b = text.find(\" \")\n",
    "    newtext = \"\"\n",
    "    for i in range(a):\n",
    "        if text[i] == text[0]:\n",
    "            newtext += text[0]\n",
    "        elif text[i] == text[b-1]:\n",
    "            newtext += text[b-1] + \" \"\n",
    "        elif text[i] == text[b+1]:\n",
    "            newtext += text[b+1]\n",
    "        elif text[i] == text[a]:\n",
    "            newtext += text[a]\n",
    "        else:\n",
    "            newtext += \"-\"\n",
    "    return newtext\n",
    "print(dönüstür(\"hello world\")) "
   ]
  },
  {
   "cell_type": "code",
   "execution_count": 184,
   "metadata": {},
   "outputs": [
    {
     "name": "stdout",
     "output_type": "stream",
     "text": [
      "h---o w---d \n"
     ]
    }
   ],
   "source": [
    "def donustur(text):\n",
    "    text = text.split()\n",
    "    newtext = \"\"\n",
    "    for i in text:\n",
    "        for j in i:\n",
    "            if i.index(j) == 0:\n",
    "                newtext += j\n",
    "            elif i.index(j) == len(i)-1:\n",
    "                newtext += j + \" \"\n",
    "            else:\n",
    "                newtext += \"-\"\n",
    "    return newtext\n",
    "print(dönüstür(\"hello world\")) "
   ]
  },
  {
   "cell_type": "markdown",
   "metadata": {
    "id": "mEPc7d0Z9nAI"
   },
   "source": [
    "7- Her girdi listesinde iki tanesi hariç her rakam en az bir kere tekrarlıyor.iki benzersiz sayıyı döndüren bir fonksiyon yazalım.\n",
    "benzersizi_bul([2,2,3,11,3,6,5]) --> [6, 5]  # 11 te 2 tane 1 var"
   ]
  },
  {
   "cell_type": "code",
   "execution_count": 588,
   "metadata": {},
   "outputs": [
    {
     "data": {
      "text/plain": [
       "[6, 5]"
      ]
     },
     "execution_count": 588,
     "metadata": {},
     "output_type": "execute_result"
    }
   ],
   "source": [
    "def benzersizi_bul(listem):\n",
    "    bul = []\n",
    "    benzersiz = \"\"\n",
    "    for i in listem:\n",
    "        benzersiz+= str(i)\n",
    "    for j in benzersiz:\n",
    "        if benzersiz.count(j)==1:\n",
    "            bul.append(int(j))\n",
    "    return bul\n",
    "\n",
    "\n",
    "benzersizi_bul([2,2,3,11,3,6,5])"
   ]
  },
  {
   "cell_type": "code",
   "execution_count": 581,
   "metadata": {},
   "outputs": [
    {
     "name": "stdout",
     "output_type": "stream",
     "text": [
      "22311365\n"
     ]
    }
   ],
   "source": [
    "lst = [2,2,3,11,3,6,5]\n",
    "benzersiz = \"\"\n",
    "for i in lst:\n",
    "    benzersiz+= str(i)\n",
    "print(benzersiz)    "
   ]
  },
  {
   "cell_type": "markdown",
   "metadata": {
    "id": "GMgm2Jhu9mQj"
   },
   "source": [
    "8- Bir stringi(kelime) alan ve birbirini izleyen aynı harfleri çıkaran bir fonksiyon oluşturun.\n",
    "print(cıkar(\"mmmeeerrhhhaaabbbaaa\")) --> merhaba"
   ]
  },
  {
   "cell_type": "code",
   "execution_count": 419,
   "metadata": {},
   "outputs": [
    {
     "name": "stdout",
     "output_type": "stream",
     "text": [
      "merhaba\n"
     ]
    }
   ],
   "source": [
    "def cikar(text):\n",
    "    yazi = text[0]\n",
    "    for i in range(len(text)-1):\n",
    "        if text[i] == text[i+1]:\n",
    "            yazi = yazi.replace(text[i],text[i+1])\n",
    "        else:\n",
    "            text[i] != text[i+1]\n",
    "            yazi += text[i+1] \n",
    "    \n",
    "    return yazi\n",
    "\n",
    "print(cikar(\"mmmeeerrhhhaaabbbaaa\"))"
   ]
  },
  {
   "cell_type": "code",
   "execution_count": 416,
   "metadata": {},
   "outputs": [
    {
     "name": "stdout",
     "output_type": "stream",
     "text": [
      "merhaba\n"
     ]
    }
   ],
   "source": [
    "text = \"mmmeeerrhhhaaabbbaaa\"\n",
    "yazi = text[0]\n",
    "\n",
    "for i in range(len(text)-1):\n",
    "    if text[i] == text[i+1]:\n",
    "        yazi = yazi.replace(text[i],text[i+1])\n",
    "        \n",
    "    else:\n",
    "        text[i] != text[i+1]\n",
    "        yazi += text[i+1] \n",
    "    \n",
    "print(yazi)"
   ]
  },
  {
   "cell_type": "markdown",
   "metadata": {
    "id": "3oD9kK_q9mBH"
   },
   "source": [
    "9- Belirli aralıkta(sınırlar dahil) verilen rakamın kaç kere olduğunu sayan bir fonksiyon yazalım. print(kac_tane(50,55,5)) --> 7"
   ]
  },
  {
   "cell_type": "code",
   "execution_count": 433,
   "metadata": {},
   "outputs": [
    {
     "name": "stdout",
     "output_type": "stream",
     "text": [
      "7\n"
     ]
    }
   ],
   "source": [
    "def kac_tane(n1,n2,num):\n",
    "    count = 0\n",
    "    for i in range(n1,n2+1):\n",
    "        for j in str(i):\n",
    "            if int(j) == num:\n",
    "                count +=1\n",
    "    return count\n",
    "\n",
    "print(kac_tane(50,55,5))"
   ]
  },
  {
   "cell_type": "code",
   "execution_count": 426,
   "metadata": {},
   "outputs": [
    {
     "name": "stdout",
     "output_type": "stream",
     "text": [
      "7\n"
     ]
    }
   ],
   "source": [
    "count =0\n",
    "for i in range(50,56):\n",
    "    for j in str(i):\n",
    "        if int(j) == 5:\n",
    "            count +=1\n",
    "print(count)"
   ]
  },
  {
   "cell_type": "markdown",
   "metadata": {
    "id": "n1Tuy6szEGR8"
   },
   "source": [
    "10- Yüksekliği verilen yılbaşı ağacını oluşturan bir fonksiyon yazalım. agac(7)\n",
    "\n",
    "\n",
    "```\n",
    "      #      \n",
    "     ###     \n",
    "    #####    \n",
    "   #######   \n",
    "  #########  \n",
    " ########### \n",
    "############# \n",
    "```\n",
    "\n"
   ]
  },
  {
   "cell_type": "code",
   "execution_count": 522,
   "metadata": {},
   "outputs": [
    {
     "name": "stdout",
     "output_type": "stream",
     "text": [
      "      #      \n",
      "     ###     \n",
      "    #####    \n",
      "   #######   \n",
      "  #########  \n",
      " ########### \n",
      "#############\n"
     ]
    }
   ],
   "source": [
    "def agac(num):\n",
    "    agac = \"\"\n",
    "    dal = (2*num-1)\n",
    "    for i in range(num-1,-1,-1):\n",
    "        agac = (i*\" \") + (dal-2*i)*\"#\" + (i*\" \")\n",
    "        print(agac, sep=\"\\n\")\n",
    "agac(7)"
   ]
  },
  {
   "cell_type": "code",
   "execution_count": 523,
   "metadata": {},
   "outputs": [
    {
     "name": "stdout",
     "output_type": "stream",
     "text": [
      "      #      \n",
      "     ###     \n",
      "    #####    \n",
      "   #######   \n",
      "  #########  \n",
      " ########### \n",
      "#############\n"
     ]
    }
   ],
   "source": [
    "num =7\n",
    "agac = \"\"\n",
    "dal = (2*num-1)\n",
    "for i in range(num-1,-1,-1):\n",
    "    agac = (i*\" \") + (dal-2*i)*\"#\" + (i*\" \")\n",
    "    print(agac)\n",
    "\n"
   ]
  },
  {
   "cell_type": "code",
   "execution_count": 207,
   "metadata": {},
   "outputs": [
    {
     "name": "stdout",
     "output_type": "stream",
     "text": [
      "{'p', 'r', 'q'}\n",
      "pp\n",
      "{'p', 'r', 'q'}\n",
      "rr\n",
      "{'p', 'r', 'q'}\n",
      "qq\n"
     ]
    }
   ],
   "source": [
    "for x in set('pqr'):\n",
    "    print(set('pqr'))\n",
    "    print(x*2)"
   ]
  },
  {
   "cell_type": "code",
   "execution_count": 197,
   "metadata": {},
   "outputs": [
    {
     "data": {
      "text/plain": [
       "dict"
      ]
     },
     "execution_count": 197,
     "metadata": {},
     "output_type": "execute_result"
    }
   ],
   "source": [
    "a = {}\n",
    "b = {\"john\":40, \"peter\":45}\n",
    "c = {40:\"john\", 45:\"peter\"}\n",
    "type(c)"
   ]
  },
  {
   "cell_type": "code",
   "execution_count": 201,
   "metadata": {},
   "outputs": [
    {
     "data": {
      "text/plain": [
       "40"
      ]
     },
     "execution_count": 201,
     "metadata": {},
     "output_type": "execute_result"
    }
   ],
   "source": [
    "b = {\"john\":40, \"peter\":45}\n",
    "b[\"john\"]\n"
   ]
  },
  {
   "cell_type": "code",
   "execution_count": 202,
   "metadata": {
    "scrolled": false
   },
   "outputs": [
    {
     "name": "stdout",
     "output_type": "stream",
     "text": [
      "['john', 'peter']\n"
     ]
    }
   ],
   "source": [
    "d = {\"john\":40, \"peter\":45}\n",
    "print(list(d.keys()))"
   ]
  },
  {
   "cell_type": "code",
   "execution_count": 203,
   "metadata": {},
   "outputs": [
    {
     "name": "stdout",
     "output_type": "stream",
     "text": [
      "{'a': 1, 'b': [2, 3, 4]}\n"
     ]
    }
   ],
   "source": [
    "a={}\n",
    "a['a']=1\n",
    "a['b']=[2,3,4]\n",
    "print(a)\n"
   ]
  },
  {
   "cell_type": "code",
   "execution_count": 205,
   "metadata": {},
   "outputs": [
    {
     "name": "stdout",
     "output_type": "stream",
     "text": [
      "{'b', 'c', 'a'}\n",
      "{'san', 'b', 'c', 'a'}\n",
      "{'p', 'b', 'q', 'san', 'c', 'a'}\n"
     ]
    }
   ],
   "source": [
    "z=set('abc')\n",
    "print(z)\n",
    "z.add('san')\n",
    "print(z)\n",
    "z.update(set(['p', 'q']))\n",
    "print(z)"
   ]
  },
  {
   "cell_type": "code",
   "execution_count": 212,
   "metadata": {},
   "outputs": [
    {
     "name": "stdout",
     "output_type": "stream",
     "text": [
      "[(2019, 'Freshman'), (2020, 'Sophomore'), (2021, 'Junior'), (2022, 'Senior')]\n"
     ]
    }
   ],
   "source": [
    "college_years = ['Freshman', 'Sophomore', 'Junior', 'Senior']\n",
    "print(list(enumerate(college_years, 2019)))\n"
   ]
  },
  {
   "cell_type": "code",
   "execution_count": 598,
   "metadata": {},
   "outputs": [
    {
     "name": "stdout",
     "output_type": "stream",
     "text": [
      "True\n",
      "False\n",
      "False\n"
     ]
    }
   ],
   "source": [
    "'''We have a loud talking parrot. We are in trouble if the parrot is \n",
    "talking and the hour is before 6 or after 21.\n",
    "Define a function taking two parameters (talking and hour) \n",
    "to return True if we are in trouble. The argument to  talking \n",
    "parameter can only be True or False whether it is talking or not. \n",
    "The argument to hour parameter should be the current hour time \n",
    "in the range of 0 to 23.'''\n",
    "\n",
    "def parrot_trouble(talking, hour):\n",
    "    if talking == True and hour > 21 and hour <=24:\n",
    "        return True\n",
    "    elif talking == True and hour < 6:\n",
    "        return True\n",
    "    else:\n",
    "        return False\n",
    "\n",
    "print(parrot_trouble(True, 5))\n",
    "\n",
    "print(parrot_trouble(True, 8))\n",
    "\n",
    "print(parrot_trouble(False, 22))\n"
   ]
  }
 ],
 "metadata": {
  "colab": {
   "name": "group_2.ipynb",
   "provenance": []
  },
  "kernelspec": {
   "display_name": "Python 3",
   "language": "python",
   "name": "python3"
  },
  "language_info": {
   "codemirror_mode": {
    "name": "ipython",
    "version": 3
   },
   "file_extension": ".py",
   "mimetype": "text/x-python",
   "name": "python",
   "nbconvert_exporter": "python",
   "pygments_lexer": "ipython3",
   "version": "3.8.8"
  }
 },
 "nbformat": 4,
 "nbformat_minor": 1
}
