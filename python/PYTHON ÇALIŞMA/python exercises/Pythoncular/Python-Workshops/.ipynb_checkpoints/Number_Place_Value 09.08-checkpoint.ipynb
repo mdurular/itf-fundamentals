{
 "cells": [
  {
   "cell_type": "markdown",
   "id": "87c07712",
   "metadata": {},
   "source": [
    "Create a function that takes a number num and returns each place value in the number. Examples num_split(39) ➞ [30, 9]\n",
    "\n",
    "num_split(-434) ➞ [-400, -30, -4]\n",
    "\n",
    "num_split(100) ➞ [100, 0, 0]"
   ]
  },
  {
   "cell_type": "code",
   "execution_count": 3,
   "id": "dc1c4509",
   "metadata": {},
   "outputs": [
    {
     "data": {
      "text/plain": [
       "[300, 60, 8]"
      ]
     },
     "execution_count": 3,
     "metadata": {},
     "output_type": "execute_result"
    }
   ],
   "source": [
    "num = 368\n",
    "lst = []\n",
    "a = 1\n",
    "\n",
    "if num < 0:\n",
    "    a = -1\n",
    "    \n",
    "for i in str(abs(num))[::-1]:\n",
    "    b = int(i) * a\n",
    "    a = a * 10\n",
    "    lst.append(b)   \n",
    "lst.reverse()\n",
    "lst"
   ]
  },
  {
   "cell_type": "code",
   "execution_count": 1,
   "id": "53b4769e",
   "metadata": {},
   "outputs": [
    {
     "data": {
      "text/plain": [
       "[-100, -40, -5]"
      ]
     },
     "execution_count": 1,
     "metadata": {},
     "output_type": "execute_result"
    }
   ],
   "source": [
    "def num_split(num):\n",
    "    lst = []\n",
    "    a = 1\n",
    "    if num < 0:\n",
    "        a = -1\n",
    "    \n",
    "    for i in str(abs(num))[::-1]:\n",
    "        b = int(i) * a\n",
    "        a *= 10\n",
    "        lst.append(b)\n",
    "    lst.reverse()\n",
    "    return lst\n",
    "num_split(-145)"
   ]
  },
  {
   "cell_type": "code",
   "execution_count": null,
   "id": "a113aa3c",
   "metadata": {},
   "outputs": [],
   "source": []
  },
  {
   "cell_type": "code",
   "execution_count": null,
   "id": "b6b92de9",
   "metadata": {},
   "outputs": [],
   "source": []
  }
 ],
 "metadata": {
  "kernelspec": {
   "display_name": "Python 3",
   "language": "python",
   "name": "python3"
  },
  "language_info": {
   "codemirror_mode": {
    "name": "ipython",
    "version": 3
   },
   "file_extension": ".py",
   "mimetype": "text/x-python",
   "name": "python",
   "nbconvert_exporter": "python",
   "pygments_lexer": "ipython3",
   "version": "3.8.8"
  }
 },
 "nbformat": 4,
 "nbformat_minor": 5
}
