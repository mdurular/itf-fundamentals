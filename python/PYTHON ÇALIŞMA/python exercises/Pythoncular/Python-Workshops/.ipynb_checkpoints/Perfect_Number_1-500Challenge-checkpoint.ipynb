{
 "cells": [
  {
   "cell_type": "markdown",
   "id": "45889953",
   "metadata": {},
   "source": [
    "1'den 500'e kadar olan sayılardan mükemmel sayı olanları ekrana yazdırın. \n",
    "Bunun için bir sayının mükemmel olup olmadığını dönen bir tane fonksiyon yazın.\n",
    "Bir sayının bölenlerinin toplamı kendine eşitse bu sayı mükemmel bir sayıdır. \n",
    "Örnek olarak 6 mükemmel bir sayıdır (1 + 2 + 3 = 6)."
   ]
  },
  {
   "cell_type": "code",
   "execution_count": 1,
   "id": "d456cee9",
   "metadata": {},
   "outputs": [
    {
     "data": {
      "text/plain": [
       "[6, 28, 496]"
      ]
     },
     "execution_count": 1,
     "metadata": {},
     "output_type": "execute_result"
    }
   ],
   "source": [
    "def perfect(num):    \n",
    "    new_list = []\n",
    "    for k in range(2, num + 1):\n",
    "        num_list = []\n",
    "        for i in range(1, k):\n",
    "            if k % i == 0:\n",
    "                num_list.append(i)\n",
    "        total = sum(num_list)\n",
    "        if k == total:\n",
    "            new_list.append(k)\n",
    "    return new_list\n",
    "\n",
    "perfect(500)"
   ]
  },
  {
   "cell_type": "code",
   "execution_count": 4,
   "id": "6d9a042e",
   "metadata": {},
   "outputs": [
    {
     "data": {
      "text/plain": [
       "[6, 28, 496]"
      ]
     },
     "execution_count": 4,
     "metadata": {},
     "output_type": "execute_result"
    }
   ],
   "source": [
    "liste=[]\n",
    "def sayı(n):\n",
    " for i in range(1,n):\n",
    "  total=0\n",
    "  for j in range(1,i):\n",
    "   if i%j==0:\n",
    "     total=total+j\n",
    "  if total==i:\n",
    "      liste.append(total)\n",
    " return liste\n",
    "sayı(500)"
   ]
  },
  {
   "cell_type": "code",
   "execution_count": null,
   "id": "6e3e484c",
   "metadata": {},
   "outputs": [],
   "source": []
  },
  {
   "cell_type": "code",
   "execution_count": null,
   "id": "cbbbdd70",
   "metadata": {},
   "outputs": [],
   "source": []
  }
 ],
 "metadata": {
  "kernelspec": {
   "display_name": "Python 3",
   "language": "python",
   "name": "python3"
  },
  "language_info": {
   "codemirror_mode": {
    "name": "ipython",
    "version": 3
   },
   "file_extension": ".py",
   "mimetype": "text/x-python",
   "name": "python",
   "nbconvert_exporter": "python",
   "pygments_lexer": "ipython3",
   "version": "3.8.8"
  }
 },
 "nbformat": 4,
 "nbformat_minor": 5
}
