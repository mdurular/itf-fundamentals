{
 "cells": [
  {
   "cell_type": "markdown",
   "metadata": {},
   "source": [
    "### Problem 1\n",
    "\n",
    "Write a program that multiplies three numbers entered by the user. Print the output with the format method."
   ]
  },
  {
   "cell_type": "code",
   "execution_count": 20,
   "metadata": {},
   "outputs": [
    {
     "name": "stdout",
     "output_type": "stream",
     "text": [
      "The result is = 60\n"
     ]
    }
   ],
   "source": [
    "number1 = 3 \n",
    "number2 = 4 \n",
    "number3 = 5\n",
    "number = number1 * number2 * number3\n",
    "print('The result is = {n:2}'.format(n=number))"
   ]
  },
  {
   "cell_type": "markdown",
   "metadata": {},
   "source": [
    "### Problem 2\n",
    "\n",
    "Write a program that calculates body mass index from **height** and **weight** entered by the user. \n",
    "\n",
    "Body mass index :  Weight / Height(m) * Height(m)"
   ]
  },
  {
   "cell_type": "code",
   "execution_count": 150,
   "metadata": {},
   "outputs": [
    {
     "name": "stdout",
     "output_type": "stream",
     "text": [
      "Boyunuzu metre cinsinden giriniz :1.71\n",
      "Kilo giriniz: 95\n",
      "body_mass_index = 32.488628979857054\n"
     ]
    }
   ],
   "source": [
    "height = float(input(\"Boyunuzu metre cinsinden giriniz :\")) \n",
    "weight = float(input(\"Kilo giriniz: \"))  \n",
    "body_mass_index = weight / height ** 2\n",
    "print('body_mass_index = {n:2}'.format(n=body_mass_index))"
   ]
  },
  {
   "cell_type": "markdown",
   "metadata": {},
   "source": [
    "### Problem 3\n",
    "\n",
    "With your $ 200, how many pieces of material can you get for $ 11 each? How much money do you have left after buying?"
   ]
  },
  {
   "cell_type": "code",
   "execution_count": 37,
   "metadata": {},
   "outputs": [
    {
     "name": "stdout",
     "output_type": "stream",
     "text": [
      "alinan materyal miktari = 18\n",
      "kalan param =  2\n"
     ]
    }
   ],
   "source": [
    "butce = 200 \n",
    "materyal = 11\n",
    "kalan = butce % materyal\n",
    "alinan_materyal = butce // materyal\n",
    "\n",
    "print('alinan materyal miktari = {n:2}'.format(n=alinan_materyal))\n",
    "print('kalan param = {n:2}'.format(n=kalan))"
   ]
  },
  {
   "cell_type": "markdown",
   "metadata": {},
   "source": [
    "### Problem 4\n",
    "\n",
    "Ask the user for two numbers and assign these numbers to variables and replace the values of these variables with each other."
   ]
  },
  {
   "cell_type": "code",
   "execution_count": 22,
   "metadata": {},
   "outputs": [
    {
     "name": "stdout",
     "output_type": "stream",
     "text": [
      "x icin bir sayi giriniz:5\n",
      "y icin bir sayi giriniz:8\n",
      "8\n",
      "5\n"
     ]
    }
   ],
   "source": [
    "x = int(input(\"x icin bir sayi giriniz:\"))\n",
    "y = int(input(\"y icin bir sayi giriniz:\")) \n",
    "x, y = y, x  \n",
    "print(x)\n",
    "print(y)"
   ]
  },
  {
   "cell_type": "markdown",
   "metadata": {},
   "source": [
    "### Problem 5\n",
    "\n",
    "Write a Python program to solve (x - y) * (x + y)."
   ]
  },
  {
   "cell_type": "code",
   "execution_count": 153,
   "metadata": {},
   "outputs": [
    {
     "name": "stdout",
     "output_type": "stream",
     "text": [
      "x icin bir sayi giriniz:7\n",
      "y icin bir sayi giriniz:5\n",
      "sonuc = 24\n"
     ]
    }
   ],
   "source": [
    "x = int(input(\"x icin bir sayi giriniz:\"))\n",
    "y = int(input(\"y icin bir sayi giriniz:\")) \n",
    "solve = (x - y) * (x + y)\n",
    "print('sonuc = {}'.format(solve)) "
   ]
  },
  {
   "cell_type": "markdown",
   "metadata": {},
   "source": [
    "### Problem 6\n",
    "\n",
    "Get **word**, **seperator** and **repetition** values from the user and print the word on the screen according to the given values. \n",
    "\n",
    "Ex: word = ali sep = / repetition = 3 ----> ali/ali/ali"
   ]
  },
  {
   "cell_type": "code",
   "execution_count": 21,
   "metadata": {},
   "outputs": [
    {
     "name": "stdout",
     "output_type": "stream",
     "text": [
      "fatma/fatma/fatma\n"
     ]
    }
   ],
   "source": [
    "kelime = \"fatma\"\n",
    "tekrar = 3\n",
    "ayir = \"/\"\n",
    "metin = (kelime+ayir)\n",
    "print((metin*tekrar).rstrip(ayir))\n"
   ]
  },
  {
   "cell_type": "markdown",
   "metadata": {},
   "source": [
    "### Problem 7\n",
    "\n",
    "Get a sitring and an integer input from the user and get the output shown as in the example.\n",
    "\n",
    "Ex: word = Clarusway n = 3 OUTPUT = waywayway"
   ]
  },
  {
   "cell_type": "code",
   "execution_count": 65,
   "metadata": {},
   "outputs": [
    {
     "name": "stdout",
     "output_type": "stream",
     "text": [
      "word icin bir deger giriniz:Galatasaray\n",
      "number icin bir sayi giriniz:5\n",
      "saraysaraysaraysaraysaray\n"
     ]
    }
   ],
   "source": [
    "word = str(input(\"word icin bir deger giriniz:\"))\n",
    "number = int(input(\"number icin bir sayi giriniz:\"))\n",
    "sonuc = len(word)\n",
    "benim_text = word[sonuc-number:sonuc] * number\n",
    "print(benim_text)\n",
    "\n"
   ]
  },
  {
   "cell_type": "markdown",
   "metadata": {},
   "source": [
    "### Problem 8\n",
    "\n",
    "Get a number from the user. \n",
    "\n",
    "If the number is divided by 3 print *Clarus*, if it is divided by 5 print *way*, if it is divided by both 3 and 5 print *Clarusway*. \n",
    "\n",
    "If not, print the number itself."
   ]
  },
  {
   "cell_type": "code",
   "execution_count": 144,
   "metadata": {},
   "outputs": [
    {
     "name": "stdout",
     "output_type": "stream",
     "text": [
      "number icin bir sayi giriniz:66\n",
      "Clarus\n"
     ]
    }
   ],
   "source": [
    "number = int(input(\"number icin bir sayi giriniz:\"))\n",
    "if (number % 3== 0) and (number %5 == 0):\n",
    "    print(\"Clarusway\")\n",
    "elif (number % 3 == 0):\n",
    "    print(\"Clarus\")\n",
    "elif (number % 5 == 0):\n",
    "    print(\"way\") \n",
    "elif (number % 15 != 0):\n",
    "    print (number)"
   ]
  },
  {
   "cell_type": "code",
   "execution_count": 164,
   "metadata": {},
   "outputs": [
    {
     "data": {
      "text/plain": [
       "'Clarusway'"
      ]
     },
     "execution_count": 164,
     "metadata": {},
     "output_type": "execute_result"
    }
   ],
   "source": [
    "x = 75\n",
    "(x % 3 == 0) * \"Clarus\"\n",
    "(x % 5 == 0) * \"way\"\n",
    "(x % 3 == 0) * \"Clarus\" + (x % 5 == 0) * \"way\" or x\n"
   ]
  },
  {
   "cell_type": "markdown",
   "metadata": {},
   "source": [
    "### Problem 9\n",
    "letters = \"abclarusxyz\"\n",
    "- get the word **clarus** in the string\n",
    "- get the word **cba**\n",
    "- print the last eight characters in reverse order"
   ]
  },
  {
   "cell_type": "code",
   "execution_count": 80,
   "metadata": {},
   "outputs": [
    {
     "name": "stdout",
     "output_type": "stream",
     "text": [
      "clarus\n"
     ]
    }
   ],
   "source": [
    "letters = \"abclarusxyz\"\n",
    "sonuc = letters[2:8]\n",
    "print(sonuc)"
   ]
  },
  {
   "cell_type": "code",
   "execution_count": 170,
   "metadata": {},
   "outputs": [
    {
     "name": "stdout",
     "output_type": "stream",
     "text": [
      "cba\n"
     ]
    }
   ],
   "source": [
    "letters = \"abclarusxyz\"\n",
    "#kar_sayi =len(letters)\n",
    "#print(kar_sayi)\n",
    "sonuc = letters[-9::-1]\n",
    "sonuc = letters[2::-1]\n",
    "print(sonuc)"
   ]
  },
  {
   "cell_type": "code",
   "execution_count": 171,
   "metadata": {},
   "outputs": [
    {
     "name": "stdout",
     "output_type": "stream",
     "text": [
      "zyxsural\n"
     ]
    }
   ],
   "source": [
    "letters = \"abclarusxyz\"\n",
    "sonuc = letters[:-9:-1]\n",
    "print(sonuc)"
   ]
  },
  {
   "cell_type": "markdown",
   "metadata": {},
   "source": [
    "### Problem 10\n",
    "\n",
    "Print **Clarusway is the best** from the elements of the rand_list list.\n",
    "\n",
    "rand_list = [1,[1, 2, \"Clarus\", [2, \"way\"]], \" is the best\"]"
   ]
  },
  {
   "cell_type": "code",
   "execution_count": 161,
   "metadata": {},
   "outputs": [
    {
     "name": "stdout",
     "output_type": "stream",
     "text": [
      "Clarusway is the best\n"
     ]
    }
   ],
   "source": [
    "rand_list = [1,[1, 2, \"Clarus\", [2, \"way\"]], \" is the best\"]\n",
    "print(1 and (1 and 2 and \"Clarus\" + (2 and \"way\")) + \" is the best\")"
   ]
  },
  {
   "cell_type": "markdown",
   "metadata": {},
   "source": [
    "### Problem 11\n",
    "\n",
    "Sort the list given below in ascending order. Find the missing number from 1 to 10.\n",
    "\n",
    "num_list = [2, 3, 1, 5, 6, 4, 9, 8, 10]"
   ]
  },
  {
   "cell_type": "code",
   "execution_count": 18,
   "metadata": {},
   "outputs": [
    {
     "name": "stdout",
     "output_type": "stream",
     "text": [
      "The list of missing elements : [0, 7]\n"
     ]
    }
   ],
   "source": [
    "num_list = [2, 3, 1, 5, 6, 4, 9, 8, 10]\n",
    "num_list.sort()\n",
    "kayip = [ele for ele in range(max(num_list)+1) if ele not in num_list]\n",
    "print(\"The list of missing elements : \" + str(kayip))"
   ]
  },
  {
   "cell_type": "markdown",
   "metadata": {},
   "source": [
    "### Problem 12\n",
    "\n",
    "Print the oldest person's name?\n",
    "\n",
    "old ={\n",
    "  \"Emma\": 71,\n",
    "  \"Jack\": 45,\n",
    "  \"Amy\": 15,\n",
    "  \"Ben\": 29\n",
    "}"
   ]
  },
  {
   "cell_type": "code",
   "execution_count": 17,
   "metadata": {},
   "outputs": [
    {
     "name": "stdout",
     "output_type": "stream",
     "text": [
      "Emma\n"
     ]
    }
   ],
   "source": [
    "def oldest_student(students):\n",
    "\treturn max(students, key=students.get)\n",
    "\n",
    "print(oldest_student({\"Emma\": 45, \"Jack\": 45, \n",
    "                      \"Amy\": 15, \"Ben\": 29})) \n"
   ]
  },
  {
   "cell_type": "code",
   "execution_count": 22,
   "metadata": {},
   "outputs": [
    {
     "name": "stdout",
     "output_type": "stream",
     "text": [
      "Emma\n"
     ]
    }
   ],
   "source": [
    "max(c, key=len)\n",
    "old ={\"Jack\": 45, \"Emma\": 71, \"Amy\": 15,\"Ben\": 29}\n",
    "print(max(old,key=old.get))"
   ]
  },
  {
   "cell_type": "code",
   "execution_count": 16,
   "metadata": {},
   "outputs": [
    {
     "name": "stdout",
     "output_type": "stream",
     "text": [
      "Emma\n"
     ]
    }
   ],
   "source": [
    "def oldest_student(students):\n",
    "\treturn max(students, key=students.get)\n",
    "\n",
    "print(oldest_student({\"Emma\": 45, \"Jack\": 45, \n",
    "                      \"Amy\": 15, \"Ben\": 29})) "
   ]
  },
  {
   "cell_type": "markdown",
   "metadata": {},
   "source": [
    "### Problem 13\n",
    "\n",
    "Write a Python program to sum all the items in a dictionary.\n",
    "\n",
    "my_dict = {'data1':100,'data2':-54,'data3':247}"
   ]
  },
  {
   "cell_type": "code",
   "execution_count": 126,
   "metadata": {},
   "outputs": [
    {
     "name": "stdout",
     "output_type": "stream",
     "text": [
      "293\n"
     ]
    }
   ],
   "source": [
    "my_dict = {'data1':100,'data2':-54,'data3':247}\n",
    "print(sum(my_dict.values()))"
   ]
  },
  {
   "cell_type": "markdown",
   "metadata": {},
   "source": [
    "### Problem 14\n",
    "\n",
    "Write a Python program to compute average of two given lists.\n",
    "\n",
    "nums1 = [1, 1, 3, 4, 4, 5, 6, 7]\n",
    "nums2 = [0, 1, 2, 3, 4, 4, 5, 7, 8]"
   ]
  },
  {
   "cell_type": "code",
   "execution_count": 128,
   "metadata": {},
   "outputs": [
    {
     "name": "stdout",
     "output_type": "stream",
     "text": [
      "Original list:\n",
      "[1, 1, 3, 4, 4, 5, 6, 7]\n",
      "[0, 1, 2, 3, 4, 4, 5, 7, 8]\n",
      "\n",
      "Average of two lists:\n",
      "3.823529411764706\n"
     ]
    }
   ],
   "source": [
    "def average_two_lists(nums1, nums2):\n",
    "    result = sum(nums1 + nums2) / len(nums1 + nums2) \n",
    "    return result\n",
    "nums1 = [1, 1, 3, 4, 4, 5, 6, 7] \n",
    "nums2 = [0, 1, 2, 3, 4, 4, 5, 7, 8]\n",
    "print(\"Original list:\")\n",
    "print(nums1)\n",
    "print(nums2)\n",
    "\n",
    "print(\"\\nAverage of two lists:\")\n",
    "print(average_two_lists(nums1, nums2))\n"
   ]
  },
  {
   "cell_type": "code",
   "execution_count": null,
   "metadata": {},
   "outputs": [],
   "source": []
  },
  {
   "cell_type": "code",
   "execution_count": null,
   "metadata": {},
   "outputs": [],
   "source": []
  }
 ],
 "metadata": {
  "kernelspec": {
   "display_name": "Python 3",
   "language": "python",
   "name": "python3"
  },
  "language_info": {
   "codemirror_mode": {
    "name": "ipython",
    "version": 3
   },
   "file_extension": ".py",
   "mimetype": "text/x-python",
   "name": "python",
   "nbconvert_exporter": "python",
   "pygments_lexer": "ipython3",
   "version": "3.8.8"
  }
 },
 "nbformat": 4,
 "nbformat_minor": 2
}
