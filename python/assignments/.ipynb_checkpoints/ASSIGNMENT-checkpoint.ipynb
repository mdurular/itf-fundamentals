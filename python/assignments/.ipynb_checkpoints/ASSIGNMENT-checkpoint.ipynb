{
 "cells": [
  {
   "cell_type": "markdown",
   "id": "e2e321ce",
   "metadata": {},
   "source": [
    "# ASSIGNMENT"
   ]
  },
  {
   "cell_type": "markdown",
   "id": "158a08ce",
   "metadata": {},
   "source": [
    "# BİLEŞİK FAİZ FORMÜLÜ"
   ]
  },
  {
   "cell_type": "code",
   "execution_count": null,
   "id": "e8b1edec",
   "metadata": {},
   "outputs": [],
   "source": [
    "main_money=1000\n",
    "rate=0.07  # for days\n",
    "time=7  # days\n",
    "\n",
    "current_money= main_money*(1+rate)**time  \n",
    "\n",
    "print('Total money earned the end of 7 days:', int(current_money), '$')"
   ]
  },
  {
   "cell_type": "markdown",
   "id": "720c82a6",
   "metadata": {},
   "source": [
    "# CELCIUS and KILOMETERS"
   ]
  },
  {
   "cell_type": "code",
   "execution_count": null,
   "id": "ae8788ea",
   "metadata": {},
   "outputs": [],
   "source": [
    "celsius = float(input(\"Enter temperature in celsius: \"))\n",
    "fahrenheit = (celsius * 9/5) + 32\n",
    "print('%.2f Celsius is equal to %0.2f Fahrenheit' %(celsius, fahrenheit))"
   ]
  },
  {
   "cell_type": "code",
   "execution_count": null,
   "id": "104b9f0e",
   "metadata": {},
   "outputs": [],
   "source": [
    "kilometers = float(input(\"Enter value in kilometers: \"))\n",
    "conv_fac = 0.621371\n",
    "miles = kilometers * conv_fac\n",
    "print('%0.2f kilometers is equal to %0.2f miles' %(kilometers,miles))"
   ]
  },
  {
   "cell_type": "markdown",
   "id": "5f8a56f4",
   "metadata": {},
   "source": [
    "# COVID DEATH RATE"
   ]
  },
  {
   "cell_type": "code",
   "execution_count": null,
   "id": "f3fbbb3a",
   "metadata": {},
   "outputs": [],
   "source": [
    "cigarrette_age = input(\"Are you a cigarette addict older than 75 years old? True or False: \")\n",
    "chronic = input(\"Do you have a severe chronic disease? True or False: \")\n",
    "immune =  input (\"Is your immune system too weak? True or False: \")\n",
    "death_risk = cigarrette_age or chronic or immune\n",
    "print(death_risk)"
   ]
  },
  {
   "cell_type": "markdown",
   "id": "d023922c",
   "metadata": {},
   "source": [
    "# most frequent element"
   ]
  },
  {
   "cell_type": "code",
   "execution_count": null,
   "id": "c7b2a9bc",
   "metadata": {},
   "outputs": [],
   "source": [
    "numbers = [1, 3, 7, 4, 3, 0, 3, 6, 3]\n",
    "frequent_number =max(set(numbers), key = numbers.count)\n",
    "count_frqnt_nmb = numbers.count(frequent_number)\n",
    "print(\"the most frequent number is {} and it was {} times repeated\".format(frequent_number, count_frqnt_nmb))"
   ]
  },
  {
   "cell_type": "markdown",
   "id": "583ddd25",
   "metadata": {},
   "source": [
    "# PASSWORD"
   ]
  },
  {
   "cell_type": "code",
   "execution_count": null,
   "id": "7efff4d5",
   "metadata": {},
   "outputs": [],
   "source": [
    "name = \"mehmet\"\n",
    "user_name = str(input(\"write your name: \"))\n",
    "if user_name == name :\n",
    "    print(\"Hello,\", user_name, \"The password is : qwer123@sdf\")\n",
    "else:\n",
    "    print(\"Hello,\", user_name, \"See you later.\")"
   ]
  },
  {
   "cell_type": "code",
   "execution_count": null,
   "id": "82830eb7",
   "metadata": {},
   "outputs": [],
   "source": []
  },
  {
   "cell_type": "code",
   "execution_count": null,
   "id": "72d48277",
   "metadata": {},
   "outputs": [],
   "source": []
  }
 ],
 "metadata": {
  "kernelspec": {
   "display_name": "Python 3",
   "language": "python",
   "name": "python3"
  },
  "language_info": {
   "codemirror_mode": {
    "name": "ipython",
    "version": 3
   },
   "file_extension": ".py",
   "mimetype": "text/x-python",
   "name": "python",
   "nbconvert_exporter": "python",
   "pygments_lexer": "ipython3",
   "version": "3.8.8"
  }
 },
 "nbformat": 4,
 "nbformat_minor": 5
}
