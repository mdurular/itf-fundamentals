{
 "cells": [
  {
   "cell_type": "code",
   "execution_count": 21,
   "id": "f72a1a6f",
   "metadata": {},
   "outputs": [
    {
     "name": "stdout",
     "output_type": "stream",
     "text": [
      "The original list : ['eat', 'tea', 'tan', 'ate', 'nat', 'bat']\n",
      "The grouped Anagrams : [['eat', 'tea', 'ate'], ['tan', 'nat'], ['bat']]\n"
     ]
    }
   ],
   "source": [
    "from collections import defaultdict\n",
    "# initializing list\n",
    "test_list = [\"eat\", \"tea\", \"tan\", \"ate\", \"nat\", \"bat\"]\n",
    " \n",
    "# printing original list\n",
    "print(\"The original list : \" + str(test_list))\n",
    " \n",
    "# using defaultdict() + sorted() + values()\n",
    "# Grouping Anagrams\n",
    "temp = defaultdict(list)\n",
    "for i in test_list:\n",
    "    temp[str(sorted(i))].append(i)\n",
    "res = list(temp.values())\n",
    " \n",
    "# print result\n",
    "print(\"The grouped Anagrams : \" + str(res))"
   ]
  },
  {
   "cell_type": "code",
   "execution_count": 23,
   "id": "50ebb95c",
   "metadata": {},
   "outputs": [
    {
     "name": "stdout",
     "output_type": "stream",
     "text": [
      "[['eat', 'tea', 'ate'], ['tan', 'nat'], ['bat']]\n"
     ]
    }
   ],
   "source": [
    "anagrams = {}\n",
    "words = [\"eat\", \"tea\", \"tan\", \"ate\", \"nat\", \"bat\"]\n",
    "for word in words:\n",
    "    sorted_word = \"\".join(sorted(word))\n",
    "    if sorted_word in anagrams:\n",
    "        anagrams[sorted_word].append(word)\n",
    "    else:\n",
    "        anagrams[sorted_word] = [word]\n",
    "print(list(anagrams.values()))"
   ]
  },
  {
   "cell_type": "code",
   "execution_count": null,
   "id": "752a86a9",
   "metadata": {},
   "outputs": [],
   "source": []
  }
 ],
 "metadata": {
  "kernelspec": {
   "display_name": "Python 3",
   "language": "python",
   "name": "python3"
  },
  "language_info": {
   "codemirror_mode": {
    "name": "ipython",
    "version": 3
   },
   "file_extension": ".py",
   "mimetype": "text/x-python",
   "name": "python",
   "nbconvert_exporter": "python",
   "pygments_lexer": "ipython3",
   "version": "3.8.8"
  }
 },
 "nbformat": 4,
 "nbformat_minor": 5
}
