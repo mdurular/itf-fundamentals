{
 "cells": [
  {
   "cell_type": "code",
   "execution_count": null,
   "id": "6d60ec7d",
   "metadata": {},
   "outputs": [],
   "source": [
    "Given a string, return a new string where the first and last chars have been exchanged.\n",
    "For example:\n",
    "\n",
    "Test                                         Result\n",
    "print(front_back('clarusway'))               ylaruswac\n",
    "print(front_back('a'))                       a\n",
    "print(front_back('ab'))                      ba"
   ]
  },
  {
   "cell_type": "code",
   "execution_count": 45,
   "id": "a2056890",
   "metadata": {},
   "outputs": [],
   "source": [
    "def front_back(word):\n",
    "    if len(word)==1:\n",
    "        return word\n",
    "    else:\n",
    "        return word[-1:] + word[1:-1] + word[:1]"
   ]
  }
 ],
 "metadata": {
  "kernelspec": {
   "display_name": "Python 3",
   "language": "python",
   "name": "python3"
  },
  "language_info": {
   "codemirror_mode": {
    "name": "ipython",
    "version": 3
   },
   "file_extension": ".py",
   "mimetype": "text/x-python",
   "name": "python",
   "nbconvert_exporter": "python",
   "pygments_lexer": "ipython3",
   "version": "3.8.8"
  }
 },
 "nbformat": 4,
 "nbformat_minor": 5
}
