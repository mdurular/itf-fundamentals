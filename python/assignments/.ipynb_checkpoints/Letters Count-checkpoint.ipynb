{
 "cells": [
  {
   "cell_type": "raw",
   "id": "8db1ef32",
   "metadata": {},
   "source": [
    "Count the number of each letter in a sentence.\n",
    "The department you work for undertook a project construction that makes word / text analysis. You are asked to calculate the number of letters or any chars in the sentences entered under this project.\n",
    "Write a Python program that;\n",
    "1.takes a sentence from the user,\n",
    "2.counts the number of each letter of the sentence,\n",
    "3.collects the letters/chars as a key and the counted numbers as a value in a dictionary."
   ]
  },
  {
   "cell_type": "code",
   "execution_count": 14,
   "id": "db5c409d",
   "metadata": {},
   "outputs": [
    {
     "name": "stdout",
     "output_type": "stream",
     "text": [
      "Please write a sentence: clarusway\n",
      "{'c': 1, 'l': 1, 'a': 2, 'r': 1, 'u': 1, 's': 1, 'w': 1, 'y': 1}\n"
     ]
    }
   ],
   "source": [
    "sentence=input(\"Please write a sentence: \")\n",
    "dict_sentence = {}\n",
    "for i in sentence:\n",
    "    dict_sentence[i] = dict_sentence.get(i,0) + 1\n",
    "print(dict_sentence)\n"
   ]
  }
 ],
 "metadata": {
  "kernelspec": {
   "display_name": "Python 3",
   "language": "python",
   "name": "python3"
  },
  "language_info": {
   "codemirror_mode": {
    "name": "ipython",
    "version": 3
   },
   "file_extension": ".py",
   "mimetype": "text/x-python",
   "name": "python",
   "nbconvert_exporter": "python",
   "pygments_lexer": "ipython3",
   "version": "3.8.8"
  }
 },
 "nbformat": 4,
 "nbformat_minor": 5
}
