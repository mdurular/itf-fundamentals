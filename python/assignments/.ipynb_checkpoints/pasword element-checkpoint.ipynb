{
 "cells": [
  {
   "cell_type": "code",
   "execution_count": null,
   "id": "8ca9c010",
   "metadata": {},
   "outputs": [],
   "source": [
    "name = \"mehmet\"\n",
    "user_name = str(input(\"write your name: \"))\n",
    "if user_name == name :\n",
    "    print(\"Hello,\", user_name, \"The password is : qwer123@sdf\")\n",
    "else:\n",
    "    print(\"Hello,\", user_name, \"See you later.\")"
   ]
  },
  {
   "cell_type": "code",
   "execution_count": null,
   "id": "b8494d68",
   "metadata": {},
   "outputs": [],
   "source": []
  }
 ],
 "metadata": {
  "kernelspec": {
   "display_name": "Python 3",
   "language": "python",
   "name": "python3"
  },
  "language_info": {
   "codemirror_mode": {
    "name": "ipython",
    "version": 3
   },
   "file_extension": ".py",
   "mimetype": "text/x-python",
   "name": "python",
   "nbconvert_exporter": "python",
   "pygments_lexer": "ipython3",
   "version": "3.8.8"
  }
 },
 "nbformat": 4,
 "nbformat_minor": 5
}
