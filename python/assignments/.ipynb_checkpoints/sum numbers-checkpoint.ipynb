{
 "cells": [
  {
   "cell_type": "raw",
   "id": "86154b94",
   "metadata": {},
   "source": [
    "Define a function named my_sum to return the sum of all int type inputted numbers.\n",
    "For example:\n",
    "\n",
    "Test\tResult\n",
    "print(my_sum(9, 1, 3, 0, -1))\n",
    "12\n",
    "print(my_sum(5, 7, 4))\n",
    "16\n",
    "print(my_sum(10, -20, 30, 40))\n",
    "60"
   ]
  },
  {
   "cell_type": "code",
   "execution_count": 1,
   "id": "19d3928c",
   "metadata": {},
   "outputs": [],
   "source": [
    "def my_sum(*a):\n",
    "    return sum(a)"
   ]
  },
  {
   "cell_type": "code",
   "execution_count": 3,
   "id": "2a66ba04",
   "metadata": {},
   "outputs": [
    {
     "data": {
      "text/plain": [
       "60"
      ]
     },
     "execution_count": 3,
     "metadata": {},
     "output_type": "execute_result"
    }
   ],
   "source": [
    "my_sum(10, -20, 30, 40)"
   ]
  },
  {
   "cell_type": "code",
   "execution_count": null,
   "id": "30f16ace",
   "metadata": {},
   "outputs": [],
   "source": []
  }
 ],
 "metadata": {
  "kernelspec": {
   "display_name": "Python 3",
   "language": "python",
   "name": "python3"
  },
  "language_info": {
   "codemirror_mode": {
    "name": "ipython",
    "version": 3
   },
   "file_extension": ".py",
   "mimetype": "text/x-python",
   "name": "python",
   "nbconvert_exporter": "python",
   "pygments_lexer": "ipython3",
   "version": "3.8.8"
  }
 },
 "nbformat": 4,
 "nbformat_minor": 5
}
