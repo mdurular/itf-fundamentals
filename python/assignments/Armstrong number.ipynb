{
 "cells": [
  {
   "cell_type": "code",
   "execution_count": 135,
   "id": "39964cbb",
   "metadata": {},
   "outputs": [
    {
     "name": "stdout",
     "output_type": "stream",
     "text": [
      "Please enter a positive integer number. 15\n",
      "15 is not an Armstrong number\n"
     ]
    }
   ],
   "source": [
    "while True:\n",
    "    number=input(\"Please enter a positive integer number. \")\n",
    "    if number.isdigit():\n",
    "        break\n",
    "    else:\n",
    "        print(\"It is an invalid entry. Don't use non-numeric, float, or negative values!\")\n",
    "        continue\n",
    "\n",
    "b = int(number)\n",
    "a = 0\n",
    "while b>0:                                                \n",
    "        c = b%10                                              \n",
    "        a = a + (c**len(number))                                        \n",
    "        b = b//10                                             \n",
    "if int(number) == a:                                                \n",
    "        print('{} is an Armstrong number'.format(number))          \n",
    "else:                                                       \n",
    "         print('{} is not an Armstrong number'.format(number))\n"
   ]
  }
 ],
 "metadata": {
  "kernelspec": {
   "display_name": "Python 3",
   "language": "python",
   "name": "python3"
  },
  "language_info": {
   "codemirror_mode": {
    "name": "ipython",
    "version": 3
   },
   "file_extension": ".py",
   "mimetype": "text/x-python",
   "name": "python",
   "nbconvert_exporter": "python",
   "pygments_lexer": "ipython3",
   "version": "3.8.8"
  }
 },
 "nbformat": 4,
 "nbformat_minor": 5
}
