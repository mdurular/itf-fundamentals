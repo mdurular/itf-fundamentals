{
 "cells": [
  {
   "cell_type": "code",
   "execution_count": 11,
   "id": "af3ffc08",
   "metadata": {},
   "outputs": [
    {
     "name": "stdout",
     "output_type": "stream",
     "text": [
      "Please Enter A Number: 17\n",
      "17 is a prime number\n"
     ]
    }
   ],
   "source": [
    "num = int(input(\"Please Enter A Number: \"))\n",
    "\n",
    "if num > 1:\n",
    "    for i in range (2, num):\n",
    "        if num%i == 0:\n",
    "            print(num, \"is not a prime number\")\n",
    "        else:\n",
    "            print(num, \"is a prime number\")\n",
    "        break\n",
    "else:\n",
    "    print(num, \"is not a prime number\")"
   ]
  },
  {
   "cell_type": "code",
   "execution_count": null,
   "id": "eb6caa80",
   "metadata": {},
   "outputs": [],
   "source": []
  },
  {
   "cell_type": "code",
   "execution_count": null,
   "id": "b8f1ccf4",
   "metadata": {},
   "outputs": [],
   "source": []
  }
 ],
 "metadata": {
  "kernelspec": {
   "display_name": "Python 3",
   "language": "python",
   "name": "python3"
  },
  "language_info": {
   "codemirror_mode": {
    "name": "ipython",
    "version": 3
   },
   "file_extension": ".py",
   "mimetype": "text/x-python",
   "name": "python",
   "nbconvert_exporter": "python",
   "pygments_lexer": "ipython3",
   "version": "3.8.8"
  }
 },
 "nbformat": 4,
 "nbformat_minor": 5
}
