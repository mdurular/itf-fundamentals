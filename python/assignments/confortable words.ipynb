{
 "cells": [
  {
   "cell_type": "code",
   "execution_count": null,
   "id": "e1216f61",
   "metadata": {},
   "outputs": [],
   "source": [
    "Left = {'q', 'w', 'e', 'r', 't', 'a', 's', 'd', 'f', 'g', 'z', 'x', 'c', 'v', 'b'}\n",
    "Right = {'y', 'u', 'i', 'o','p', 'h', 'j', 'k', 'l', 'n', 'm'}\n",
    "\n",
    "word = set(input(\"write a word: \").lower().strip())\n",
    "\n",
    "\n",
    "left = bool(word.intersection(Left))* \"False (uses only left-hand fingers)\"\n",
    "right = bool(word.intersection(Right))* \"False (uses only right-hand fingers)\"\n",
    "both = bool(left and right)* \"True (uses both hand fingers)\"\n",
    "\n",
    "\n",
    "both or right or left\n"
   ]
  },
  {
   "cell_type": "code",
   "execution_count": null,
   "id": "94683c74",
   "metadata": {},
   "outputs": [],
   "source": []
  }
 ],
 "metadata": {
  "kernelspec": {
   "display_name": "Python 3",
   "language": "python",
   "name": "python3"
  },
  "language_info": {
   "codemirror_mode": {
    "name": "ipython",
    "version": 3
   },
   "file_extension": ".py",
   "mimetype": "text/x-python",
   "name": "python",
   "nbconvert_exporter": "python",
   "pygments_lexer": "ipython3",
   "version": "3.8.8"
  }
 },
 "nbformat": 4,
 "nbformat_minor": 5
}
