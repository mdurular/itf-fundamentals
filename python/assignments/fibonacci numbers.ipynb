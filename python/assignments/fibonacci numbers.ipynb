{
 "cells": [
  {
   "cell_type": "raw",
   "id": "13105c89",
   "metadata": {},
   "source": [
    "Create a list consisting of Fibonacci numbers from 1 to 55 using control flow statements.\n",
    "The desired output is like :\n",
    "\n",
    "fibonacci →  [1, 1, 2, 3, 5, 8, 13, 21, 34, 55]"
   ]
  },
  {
   "cell_type": "code",
   "execution_count": 18,
   "id": "262652a0",
   "metadata": {},
   "outputs": [
    {
     "name": "stdout",
     "output_type": "stream",
     "text": [
      "fibonacci sayıları: [1, 1, 2, 3, 5, 8, 13, 21, 34, 55]\n"
     ]
    }
   ],
   "source": [
    "x,y=1,1\n",
    "fibonacci=[]\n",
    "while x<56:\n",
    "    fibonacci.append(x)\n",
    "    x,y = y,x+y\n",
    "    \n",
    "print(\"fibonacci sayıları:\", fibonacci)"
   ]
  }
 ],
 "metadata": {
  "kernelspec": {
   "display_name": "Python 3",
   "language": "python",
   "name": "python3"
  },
  "language_info": {
   "codemirror_mode": {
    "name": "ipython",
    "version": 3
   },
   "file_extension": ".py",
   "mimetype": "text/x-python",
   "name": "python",
   "nbconvert_exporter": "python",
   "pygments_lexer": "ipython3",
   "version": "3.8.8"
  }
 },
 "nbformat": 4,
 "nbformat_minor": 5
}
