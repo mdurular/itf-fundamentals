{
 "cells": [
  {
   "cell_type": "code",
   "execution_count": 42,
   "id": "da062021",
   "metadata": {},
   "outputs": [],
   "source": [
    "def divide (a,b):\n",
    "    c = 0\n",
    "    x = b\n",
    "    y = a\n",
    "    while True:\n",
    "        a -= b\n",
    "        c += 1\n",
    "        if b>a: \n",
    "            d = (y-x*c)\n",
    "            break\n",
    "    return (c,d)"
   ]
  },
  {
   "cell_type": "code",
   "execution_count": 43,
   "id": "27936ab2",
   "metadata": {},
   "outputs": [
    {
     "data": {
      "text/plain": [
       "(8, 2)"
      ]
     },
     "execution_count": 43,
     "metadata": {},
     "output_type": "execute_result"
    }
   ],
   "source": [
    "divide(42,5)"
   ]
  },
  {
   "cell_type": "code",
   "execution_count": 44,
   "id": "e64f2117",
   "metadata": {},
   "outputs": [
    {
     "data": {
      "text/plain": [
       "(8, 0)"
      ]
     },
     "execution_count": 44,
     "metadata": {},
     "output_type": "execute_result"
    }
   ],
   "source": [
    "divide(16,2)"
   ]
  },
  {
   "cell_type": "code",
   "execution_count": 45,
   "id": "45a6fd23",
   "metadata": {},
   "outputs": [
    {
     "data": {
      "text/plain": [
       "(1, 2)"
      ]
     },
     "execution_count": 45,
     "metadata": {},
     "output_type": "execute_result"
    }
   ],
   "source": [
    "divide(5,3)"
   ]
  },
  {
   "cell_type": "code",
   "execution_count": 46,
   "id": "d991af89",
   "metadata": {},
   "outputs": [
    {
     "data": {
      "text/plain": [
       "(6, 2)"
      ]
     },
     "execution_count": 46,
     "metadata": {},
     "output_type": "execute_result"
    }
   ],
   "source": [
    "divide(20,3)"
   ]
  },
  {
   "cell_type": "code",
   "execution_count": null,
   "id": "ad159701",
   "metadata": {},
   "outputs": [],
   "source": []
  }
 ],
 "metadata": {
  "kernelspec": {
   "display_name": "Python 3",
   "language": "python",
   "name": "python3"
  },
  "language_info": {
   "codemirror_mode": {
    "name": "ipython",
    "version": 3
   },
   "file_extension": ".py",
   "mimetype": "text/x-python",
   "name": "python",
   "nbconvert_exporter": "python",
   "pygments_lexer": "ipython3",
   "version": "3.8.8"
  }
 },
 "nbformat": 4,
 "nbformat_minor": 5
}
