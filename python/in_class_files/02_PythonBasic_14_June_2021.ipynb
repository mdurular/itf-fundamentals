{
  "nbformat": 4,
  "nbformat_minor": 5,
  "metadata": {
    "kernelspec": {
      "display_name": "Python 3",
      "language": "python",
      "name": "python3"
    },
    "language_info": {
      "codemirror_mode": {
        "name": "ipython",
        "version": 3
      },
      "file_extension": ".py",
      "mimetype": "text/x-python",
      "name": "python",
      "nbconvert_exporter": "python",
      "pygments_lexer": "ipython3",
      "version": "3.8.8"
    },
    "colab": {
      "name": "02_PythonBasic_14-June-2021.ipynb",
      "provenance": []
    }
  },
  "cells": [
    {
      "cell_type": "markdown",
      "metadata": {
        "id": "406f2981"
      },
      "source": [
        "<img src=\"https://docs.google.com/uc?id=14xeXxFrVRjvOoUYWn_GuyE-v84wVzrqr\" class=\"img-fluid\" alt=\"CLRWY\" width=\"400\" height=\"200\">"
      ],
      "id": "406f2981"
    },
    {
      "cell_type": "markdown",
      "metadata": {
        "id": "22263af8"
      },
      "source": [
        "<h1><p style=\"text-align: center; color:darkblue\">Python In-Class, <br>14 June 2021</p><h1>"
      ],
      "id": "22263af8"
    },
    {
      "cell_type": "code",
      "metadata": {
        "id": "5d8ab960",
        "outputId": "23216e67-a151-408c-d5f8-aa608324e3fa"
      },
      "source": [
        "False = \"joseph\""
      ],
      "id": "5d8ab960",
      "execution_count": null,
      "outputs": [
        {
          "output_type": "error",
          "ename": "SyntaxError",
          "evalue": "cannot assign to False (<ipython-input-1-2a7f5da85e97>, line 1)",
          "traceback": [
            "\u001b[0;36m  File \u001b[0;32m\"<ipython-input-1-2a7f5da85e97>\"\u001b[0;36m, line \u001b[0;32m1\u001b[0m\n\u001b[0;31m    False = \"joseph\"\u001b[0m\n\u001b[0m    ^\u001b[0m\n\u001b[0;31mSyntaxError\u001b[0m\u001b[0;31m:\u001b[0m cannot assign to False\n"
          ]
        }
      ]
    },
    {
      "cell_type": "code",
      "metadata": {
        "id": "cc8c26a2",
        "outputId": "a96eb04b-704f-4ffa-9166-abc37f7c85ce"
      },
      "source": [
        "class = \"clarusway\""
      ],
      "id": "cc8c26a2",
      "execution_count": null,
      "outputs": [
        {
          "output_type": "error",
          "ename": "SyntaxError",
          "evalue": "invalid syntax (<ipython-input-2-142c6dce19e6>, line 1)",
          "traceback": [
            "\u001b[0;36m  File \u001b[0;32m\"<ipython-input-2-142c6dce19e6>\"\u001b[0;36m, line \u001b[0;32m1\u001b[0m\n\u001b[0;31m    class = \"clarusway\"\u001b[0m\n\u001b[0m          ^\u001b[0m\n\u001b[0;31mSyntaxError\u001b[0m\u001b[0;31m:\u001b[0m invalid syntax\n"
          ]
        }
      ]
    },
    {
      "cell_type": "code",
      "metadata": {
        "id": "88f0445e",
        "outputId": "e198d163-2138-4da3-f105-931144f232ec"
      },
      "source": [
        "del = \"clarusway\""
      ],
      "id": "88f0445e",
      "execution_count": null,
      "outputs": [
        {
          "output_type": "error",
          "ename": "SyntaxError",
          "evalue": "invalid syntax (<ipython-input-3-97f9ea2033bf>, line 1)",
          "traceback": [
            "\u001b[0;36m  File \u001b[0;32m\"<ipython-input-3-97f9ea2033bf>\"\u001b[0;36m, line \u001b[0;32m1\u001b[0m\n\u001b[0;31m    del = \"clarusway\"\u001b[0m\n\u001b[0m        ^\u001b[0m\n\u001b[0;31mSyntaxError\u001b[0m\u001b[0;31m:\u001b[0m invalid syntax\n"
          ]
        }
      ]
    },
    {
      "cell_type": "code",
      "metadata": {
        "id": "014db56b"
      },
      "source": [
        "false = \"sıkıntı olmadı\""
      ],
      "id": "014db56b",
      "execution_count": null,
      "outputs": []
    },
    {
      "cell_type": "code",
      "metadata": {
        "id": "a3e45ac4"
      },
      "source": [
        "# python case sensitive bir dildir."
      ],
      "id": "a3e45ac4",
      "execution_count": null,
      "outputs": []
    },
    {
      "cell_type": "code",
      "metadata": {
        "id": "8ad7bb13"
      },
      "source": [
        "x = y = z = \"clarusway\""
      ],
      "id": "8ad7bb13",
      "execution_count": null,
      "outputs": []
    },
    {
      "cell_type": "code",
      "metadata": {
        "id": "5115000c",
        "outputId": "495e3508-5f81-42d1-adff-f8d85ed9d199"
      },
      "source": [
        "print(x)"
      ],
      "id": "5115000c",
      "execution_count": null,
      "outputs": [
        {
          "output_type": "stream",
          "text": [
            "clarusway\n"
          ],
          "name": "stdout"
        }
      ]
    },
    {
      "cell_type": "code",
      "metadata": {
        "id": "d76fd234",
        "outputId": "0be4fec8-3801-4387-eb89-26d245ee2978"
      },
      "source": [
        "print(y)"
      ],
      "id": "d76fd234",
      "execution_count": null,
      "outputs": [
        {
          "output_type": "stream",
          "text": [
            "clarusway\n"
          ],
          "name": "stdout"
        }
      ]
    },
    {
      "cell_type": "code",
      "metadata": {
        "id": "969b4e98",
        "outputId": "164e3ebf-b64b-46ef-e2dd-ce6e23fae77c"
      },
      "source": [
        "print(z)"
      ],
      "id": "969b4e98",
      "execution_count": null,
      "outputs": [
        {
          "output_type": "stream",
          "text": [
            "clarusway\n"
          ],
          "name": "stdout"
        }
      ]
    },
    {
      "cell_type": "code",
      "metadata": {
        "id": "7dd6a781"
      },
      "source": [
        "x = \"clarusway\"\n",
        "y = \"cilalı ibo\"\n",
        "z = x\n",
        "y = z\n",
        "x = \"nba\""
      ],
      "id": "7dd6a781",
      "execution_count": null,
      "outputs": []
    },
    {
      "cell_type": "code",
      "metadata": {
        "id": "dc1862fe",
        "outputId": "0d9a3161-e839-4596-bfd4-1f6cefdef8dd"
      },
      "source": [
        "print(x)\n",
        "print(y)\n",
        "print(z)"
      ],
      "id": "dc1862fe",
      "execution_count": null,
      "outputs": [
        {
          "output_type": "stream",
          "text": [
            "nba\n",
            "clarusway\n",
            "clarusway\n"
          ],
          "name": "stdout"
        }
      ]
    },
    {
      "cell_type": "code",
      "metadata": {
        "id": "6761cc57"
      },
      "source": [
        "string_değişken = \"clarusway'e gelin, iş garantinizi alın.\""
      ],
      "id": "6761cc57",
      "execution_count": null,
      "outputs": []
    },
    {
      "cell_type": "code",
      "metadata": {
        "id": "678f928c",
        "outputId": "be3355c7-faeb-4f48-9862-61b6cad0deab"
      },
      "source": [
        "string_değişken"
      ],
      "id": "678f928c",
      "execution_count": null,
      "outputs": [
        {
          "output_type": "execute_result",
          "data": {
            "text/plain": [
              "\"clarusway'e gelin, iş garantinizi alın.\""
            ]
          },
          "metadata": {
            "tags": []
          },
          "execution_count": 13
        }
      ]
    },
    {
      "cell_type": "code",
      "metadata": {
        "id": "7b36c461",
        "outputId": "f2dce530-b9e1-43ad-b867-2d1e2c16a8ec"
      },
      "source": [
        "type(string_değişken)"
      ],
      "id": "7b36c461",
      "execution_count": null,
      "outputs": [
        {
          "output_type": "execute_result",
          "data": {
            "text/plain": [
              "str"
            ]
          },
          "metadata": {
            "tags": []
          },
          "execution_count": 14
        }
      ]
    },
    {
      "cell_type": "code",
      "metadata": {
        "id": "5c5ad2e4"
      },
      "source": [
        "pi = 3.14"
      ],
      "id": "5c5ad2e4",
      "execution_count": null,
      "outputs": []
    },
    {
      "cell_type": "code",
      "metadata": {
        "id": "f52a0228",
        "outputId": "0a06f19b-d573-47b7-a848-7df72ff815b0"
      },
      "source": [
        "print(pi)"
      ],
      "id": "f52a0228",
      "execution_count": null,
      "outputs": [
        {
          "output_type": "stream",
          "text": [
            "3.14\n"
          ],
          "name": "stdout"
        }
      ]
    },
    {
      "cell_type": "code",
      "metadata": {
        "id": "bb458307",
        "outputId": "fc0898a1-f8a5-4021-faf6-ccff76476496"
      },
      "source": [
        "pi"
      ],
      "id": "bb458307",
      "execution_count": null,
      "outputs": [
        {
          "output_type": "execute_result",
          "data": {
            "text/plain": [
              "3.14"
            ]
          },
          "metadata": {
            "tags": []
          },
          "execution_count": 17
        }
      ]
    },
    {
      "cell_type": "code",
      "metadata": {
        "id": "d37a7eab"
      },
      "source": [
        "converted_pi = str(pi)"
      ],
      "id": "d37a7eab",
      "execution_count": null,
      "outputs": []
    },
    {
      "cell_type": "code",
      "metadata": {
        "id": "7bab3d9a",
        "outputId": "e288a790-259c-4d45-8372-35da20070937"
      },
      "source": [
        "converted_pi"
      ],
      "id": "7bab3d9a",
      "execution_count": null,
      "outputs": [
        {
          "output_type": "execute_result",
          "data": {
            "text/plain": [
              "'3.14'"
            ]
          },
          "metadata": {
            "tags": []
          },
          "execution_count": 19
        }
      ]
    },
    {
      "cell_type": "code",
      "metadata": {
        "id": "c51f5a46"
      },
      "source": [
        ""
      ],
      "id": "c51f5a46",
      "execution_count": null,
      "outputs": []
    },
    {
      "cell_type": "code",
      "metadata": {
        "id": "d3345b5b",
        "outputId": "64f83cc4-dd3e-41f8-f4c4-85caa4b6ad6e"
      },
      "source": [
        "print(type(converted_pi))"
      ],
      "id": "d3345b5b",
      "execution_count": null,
      "outputs": [
        {
          "output_type": "stream",
          "text": [
            "<class 'str'>\n"
          ],
          "name": "stdout"
        }
      ]
    },
    {
      "cell_type": "code",
      "metadata": {
        "id": "b6f66c8b",
        "outputId": "77ff2256-92d2-48e8-d68a-104cc1b3739b"
      },
      "source": [
        "\"clarus\" + \"way\""
      ],
      "id": "b6f66c8b",
      "execution_count": null,
      "outputs": [
        {
          "output_type": "execute_result",
          "data": {
            "text/plain": [
              "'clarusway'"
            ]
          },
          "metadata": {
            "tags": []
          },
          "execution_count": 21
        }
      ]
    },
    {
      "cell_type": "code",
      "metadata": {
        "id": "25b726cf",
        "outputId": "7c38602d-0eb1-4935-fc3a-399b702a592c"
      },
      "source": [
        "\"12\" + 12"
      ],
      "id": "25b726cf",
      "execution_count": null,
      "outputs": [
        {
          "output_type": "error",
          "ename": "TypeError",
          "evalue": "can only concatenate str (not \"int\") to str",
          "traceback": [
            "\u001b[0;31m---------------------------------------------------------------------------\u001b[0m",
            "\u001b[0;31mTypeError\u001b[0m                                 Traceback (most recent call last)",
            "\u001b[0;32m<ipython-input-22-2f73d21e6516>\u001b[0m in \u001b[0;36m<module>\u001b[0;34m\u001b[0m\n\u001b[0;32m----> 1\u001b[0;31m \u001b[0;34m\"12\"\u001b[0m \u001b[0;34m+\u001b[0m \u001b[0;36m12\u001b[0m\u001b[0;34m\u001b[0m\u001b[0;34m\u001b[0m\u001b[0m\n\u001b[0m",
            "\u001b[0;31mTypeError\u001b[0m: can only concatenate str (not \"int\") to str"
          ]
        }
      ]
    },
    {
      "cell_type": "code",
      "metadata": {
        "id": "3ff7b208",
        "outputId": "11feebc1-a1b2-4ce0-a56b-f58c8eadb4c9"
      },
      "source": [
        "\"12\" + \"12\""
      ],
      "id": "3ff7b208",
      "execution_count": null,
      "outputs": [
        {
          "output_type": "execute_result",
          "data": {
            "text/plain": [
              "'1212'"
            ]
          },
          "metadata": {
            "tags": []
          },
          "execution_count": 23
        }
      ]
    },
    {
      "cell_type": "code",
      "metadata": {
        "id": "8afbf3f1",
        "outputId": "e47f32fe-1211-48e4-8d1c-cb4ef44620d0"
      },
      "source": [
        "12 + 12"
      ],
      "id": "8afbf3f1",
      "execution_count": null,
      "outputs": [
        {
          "output_type": "execute_result",
          "data": {
            "text/plain": [
              "24"
            ]
          },
          "metadata": {
            "tags": []
          },
          "execution_count": 24
        }
      ]
    },
    {
      "cell_type": "code",
      "metadata": {
        "id": "202cd628",
        "outputId": "183a94f7-79e3-4184-beab-4876aef8dc42"
      },
      "source": [
        "pi = 3.14\n",
        "r = 5\n",
        "\n",
        "area = pi * r ** 2\n",
        "\n",
        "area"
      ],
      "id": "202cd628",
      "execution_count": null,
      "outputs": [
        {
          "output_type": "execute_result",
          "data": {
            "text/plain": [
              "78.5"
            ]
          },
          "metadata": {
            "tags": []
          },
          "execution_count": 25
        }
      ]
    },
    {
      "cell_type": "code",
      "metadata": {
        "id": "7166cfe8",
        "outputId": "0056a85b-70be-4f42-86cf-57b4c5ec0301"
      },
      "source": [
        "10 + 2 ** 2.0 - (13-122)"
      ],
      "id": "7166cfe8",
      "execution_count": null,
      "outputs": [
        {
          "output_type": "execute_result",
          "data": {
            "text/plain": [
              "123.0"
            ]
          },
          "metadata": {
            "tags": []
          },
          "execution_count": 26
        }
      ]
    },
    {
      "cell_type": "code",
      "metadata": {
        "id": "1ef95fd7",
        "outputId": "6e4a6adb-ac3b-4db1-b02a-305515f2082d"
      },
      "source": [
        "x = 5\n",
        "x = x + 1\n",
        "x"
      ],
      "id": "1ef95fd7",
      "execution_count": null,
      "outputs": [
        {
          "output_type": "execute_result",
          "data": {
            "text/plain": [
              "6"
            ]
          },
          "metadata": {
            "tags": []
          },
          "execution_count": 27
        }
      ]
    },
    {
      "cell_type": "code",
      "metadata": {
        "id": "670b2b7a",
        "outputId": "cc2cc9b3-cde1-41e5-f8b8-9fd82c411535"
      },
      "source": [
        "x = x + 1\n",
        "x"
      ],
      "id": "670b2b7a",
      "execution_count": null,
      "outputs": [
        {
          "output_type": "execute_result",
          "data": {
            "text/plain": [
              "7"
            ]
          },
          "metadata": {
            "tags": []
          },
          "execution_count": 28
        }
      ]
    },
    {
      "cell_type": "code",
      "metadata": {
        "id": "b771ad66",
        "outputId": "3a542e40-91af-4d77-eda1-c7eba3fe89ac"
      },
      "source": [
        "x = x + 1\n",
        "x"
      ],
      "id": "b771ad66",
      "execution_count": null,
      "outputs": [
        {
          "output_type": "execute_result",
          "data": {
            "text/plain": [
              "8"
            ]
          },
          "metadata": {
            "tags": []
          },
          "execution_count": 29
        }
      ]
    },
    {
      "cell_type": "code",
      "metadata": {
        "id": "cd982ae9",
        "outputId": "b0978e1a-e28f-418d-8e57-8733d03cbfd8"
      },
      "source": [
        "x += 1\n",
        "x"
      ],
      "id": "cd982ae9",
      "execution_count": null,
      "outputs": [
        {
          "output_type": "execute_result",
          "data": {
            "text/plain": [
              "12"
            ]
          },
          "metadata": {
            "tags": []
          },
          "execution_count": 33
        }
      ]
    },
    {
      "cell_type": "code",
      "metadata": {
        "id": "4bdb5d90",
        "outputId": "9f4bf23b-3981-4d97-f708-de8be012cc18"
      },
      "source": [
        "y = 3\n",
        "y = y * 2\n",
        "y"
      ],
      "id": "4bdb5d90",
      "execution_count": null,
      "outputs": [
        {
          "output_type": "execute_result",
          "data": {
            "text/plain": [
              "6"
            ]
          },
          "metadata": {
            "tags": []
          },
          "execution_count": 38
        }
      ]
    },
    {
      "cell_type": "code",
      "metadata": {
        "id": "b4b5aefd",
        "outputId": "db3b7b3d-6412-4a89-e3b5-83ba45f0cfc1"
      },
      "source": [
        "y *= 2\n",
        "y"
      ],
      "id": "b4b5aefd",
      "execution_count": null,
      "outputs": [
        {
          "output_type": "execute_result",
          "data": {
            "text/plain": [
              "12"
            ]
          },
          "metadata": {
            "tags": []
          },
          "execution_count": 39
        }
      ]
    },
    {
      "cell_type": "code",
      "metadata": {
        "id": "d1a5efbf",
        "outputId": "4093a2ff-de83-496a-c89e-1c80600b59cb"
      },
      "source": [
        "y *= 2\n",
        "y"
      ],
      "id": "d1a5efbf",
      "execution_count": null,
      "outputs": [
        {
          "output_type": "execute_result",
          "data": {
            "text/plain": [
              "24"
            ]
          },
          "metadata": {
            "tags": []
          },
          "execution_count": 40
        }
      ]
    },
    {
      "cell_type": "code",
      "metadata": {
        "id": "3526c00a",
        "outputId": "ffa37504-9b99-4db5-dcdb-cca7d9e568a2"
      },
      "source": [
        "aa = 5\n",
        "aa = 6\n",
        "aa"
      ],
      "id": "3526c00a",
      "execution_count": null,
      "outputs": [
        {
          "output_type": "execute_result",
          "data": {
            "text/plain": [
              "6"
            ]
          },
          "metadata": {
            "tags": []
          },
          "execution_count": 37
        }
      ]
    },
    {
      "cell_type": "code",
      "metadata": {
        "colab": {
          "base_uri": "https://localhost:8080/"
        },
        "id": "fe8f2a51",
        "outputId": "072cd3d1-3d38-48b9-c815-033d5daa4f9a"
      },
      "source": [
        "x, y, z = 2, 5, 10\n",
        "a = int(input('1.sayı: '))\n",
        "b = int(input('2.sayı: '))\n",
        "result = (a * b) - (x+y+z)\n",
        "print(result)"
      ],
      "id": "fe8f2a51",
      "execution_count": null,
      "outputs": [
        {
          "output_type": "stream",
          "text": [
            "1.sayı: 2\n",
            "2.sayı: 5\n",
            "-7\n"
          ],
          "name": "stdout"
        }
      ]
    },
    {
      "cell_type": "code",
      "metadata": {
        "colab": {
          "base_uri": "https://localhost:8080/"
        },
        "id": "4310e4a8",
        "outputId": "295951ae-5443-45a9-850f-fd29421a015c"
      },
      "source": [
        "x, y, z = 2, 5, 10\n",
        "toplam = (x + y + z) % 3\n",
        "print(toplam)\n"
      ],
      "id": "4310e4a8",
      "execution_count": null,
      "outputs": [
        {
          "output_type": "stream",
          "text": [
            "2\n"
          ],
          "name": "stdout"
        }
      ]
    }
  ]
}