{
 "cells": [
  {
   "cell_type": "code",
   "execution_count": null,
   "metadata": {
    "colab": {
     "base_uri": "https://localhost:8080/"
    },
    "id": "CtxdKSAy5rl-",
    "outputId": "3760a04a-22be-4f2e-d4cd-fc9cb5f03426"
   },
   "outputs": [
    {
     "name": "stdout",
     "output_type": "stream",
     "text": [
      "11\n"
     ]
    }
   ],
   "source": [
    "degisken = 10\n",
    "# degisken = degisken + 1\n",
    "degisken += 1\n",
    "print(degisken)"
   ]
  },
  {
   "cell_type": "code",
   "execution_count": null,
   "metadata": {
    "colab": {
     "base_uri": "https://localhost:8080/"
    },
    "id": "d7SpX0rX938l",
    "outputId": "6f6b27b9-6deb-4151-cce5-5376a5891541"
   },
   "outputs": [
    {
     "name": "stdout",
     "output_type": "stream",
     "text": [
      "4.0\n"
     ]
    }
   ],
   "source": [
    "a = (1 + 3) ** (2 ** (1 * 2 / 2 ) / 2)\n",
    "print(a)"
   ]
  },
  {
   "cell_type": "code",
   "execution_count": null,
   "metadata": {
    "colab": {
     "base_uri": "https://localhost:8080/"
    },
    "id": "9n9kLfdu-UTU",
    "outputId": "1ecd35b3-7461-44a1-e32b-96512fe03f16"
   },
   "outputs": [
    {
     "name": "stdout",
     "output_type": "stream",
     "text": [
      "5.0\n"
     ]
    }
   ],
   "source": [
    "a = 3\n",
    "b = 4 \n",
    "c = (a ** 2 + b ** 2) ** 0.5\n",
    "print(c)"
   ]
  },
  {
   "cell_type": "code",
   "execution_count": null,
   "metadata": {
    "colab": {
     "base_uri": "https://localhost:8080/"
    },
    "id": "m6oYrUXH_Y3X",
    "outputId": "a6586ce3-3053-4b16-ec6a-d2bb807c932c"
   },
   "outputs": [
    {
     "name": "stdout",
     "output_type": "stream",
     "text": [
      "we have reached 2020\n"
     ]
    }
   ],
   "source": [
    "number = \"2020\" \n",
    "text = \"we have reached \"\n",
    "print(text + number)"
   ]
  },
  {
   "cell_type": "code",
   "execution_count": null,
   "metadata": {
    "colab": {
     "base_uri": "https://localhost:8080/"
    },
    "id": "Zw3IunonAW24",
    "outputId": "b6373204-e019-41d6-de12-34b5b3c0bd8d"
   },
   "outputs": [
    {
     "name": "stdout",
     "output_type": "stream",
     "text": [
      "ali\n",
      "veli\n",
      "deli\n"
     ]
    }
   ],
   "source": [
    "\n",
    "print(\"ali\\nveli\\ndeli\")  # \\n  newline string icinde kullanilan birsey "
   ]
  },
  {
   "cell_type": "code",
   "execution_count": null,
   "metadata": {
    "colab": {
     "base_uri": "https://localhost:8080/"
    },
    "id": "K-yOo-FOBjF_",
    "outputId": "15e55dc5-d209-4e04-d7ed-ec874d15c9a7"
   },
   "outputs": [
    {
     "name": "stdout",
     "output_type": "stream",
     "text": [
      "12 22 33.0 False\n"
     ]
    }
   ],
   "source": [
    "print(12, \"22\", 33.0, False)\n"
   ]
  },
  {
   "cell_type": "code",
   "execution_count": null,
   "metadata": {
    "colab": {
     "base_uri": "https://localhost:8080/"
    },
    "id": "hg4X-xJhBzV9",
    "outputId": "260ff44e-2a87-4eff-f54e-2a3fd4d208c0"
   },
   "outputs": [
    {
     "name": "stdout",
     "output_type": "stream",
     "text": [
      "12-22-False\n",
      "hayriye hayri\n"
     ]
    }
   ],
   "source": [
    "print(12, \"22\", False, sep = \"-\") # seperator icin bosluk varsayilan deger\n",
    " seperatorun amaci yazilanlarin arasina ne koyayim \n",
    "print(\"hayriye\", end = \" \")\n",
    "print(\"hayri\")"
   ]
  },
  {
   "cell_type": "code",
   "execution_count": null,
   "metadata": {
    "colab": {
     "base_uri": "https://localhost:8080/"
    },
    "id": "qnj9TgXRCf9X",
    "outputId": "7a5f352f-c273-4faf-edc4-7f2ee97434dd"
   },
   "outputs": [
    {
     "name": "stdout",
     "output_type": "stream",
     "text": [
      "hayriye-hayri\n"
     ]
    }
   ],
   "source": [
    "print(\"hayriye\", end = \"-\") # end icin varsayilan deger yeni satira gecmektir \n",
    "# icindekileri yazdirdiktan sonra cursoru nereye koyayim demektir\n",
    "print(\"hayri\")"
   ]
  },
  {
   "cell_type": "code",
   "execution_count": null,
   "metadata": {
    "colab": {
     "base_uri": "https://localhost:8080/"
    },
    "id": "344EngQFDB0j",
    "outputId": "0c3ab215-4f29-44dc-f739-46805a54bb5e"
   },
   "outputs": [
    {
     "name": "stdout",
     "output_type": "stream",
     "text": [
      "hayriye selvi bahar 11-clarusway\n"
     ]
    }
   ],
   "source": [
    "print(\"hayriye\", \"selvi\", \"bahar\", 11, end = \"-\")\n",
    "print(\"clarusway\")"
   ]
  },
  {
   "cell_type": "code",
   "execution_count": null,
   "metadata": {
    "colab": {
     "base_uri": "https://localhost:8080/"
    },
    "id": "00MLT6xpEC_C",
    "outputId": "3c7d987a-726f-4435-aa72-1c449c47df0c"
   },
   "outputs": [
    {
     "name": "stdout",
     "output_type": "stream",
     "text": [
      "I bought 6 kg. of apple this morning\n",
      "I bought 6 kg. of apple this morning\n",
      "I bought 6 kg. of apple this morning\n"
     ]
    }
   ],
   "source": [
    "text1 = \"I bought\" \n",
    "text2 = \"kg. of apple this morning\"\n",
    "amount = 6\n",
    "text3 = text1 + \" \" +  str(amount) + \" \" + text2\n",
    "print(text1, amount, text2)\n",
    "print(\"I bought\", 6, \"kg. of apple this morning\")\n",
    "print(text3)"
   ]
  },
  {
   "cell_type": "code",
   "execution_count": null,
   "metadata": {
    "colab": {
     "base_uri": "https://localhost:8080/"
    },
    "id": "dvTV4nBxHHPU",
    "outputId": "fc1e6eee-12f5-4ce2-9e73-b32294631134"
   },
   "outputs": [
    {
     "name": "stdout",
     "output_type": "stream",
     "text": [
      "Derece gir:25\n",
      "25.0 C'nin fahrenayta donusmus hali 41.0 F'tir.\n"
     ]
    }
   ],
   "source": [
    "derece = float(input(\"Derece gir:\"))  \n",
    "fahrenayt = 1.8 * derece_C + 32 \n",
    "print(derece, \"C'nin fahrenayta donusmus hali\", fahrenayt, \"F'tir.\")"
   ]
  },
  {
   "cell_type": "code",
   "execution_count": null,
   "metadata": {
    "id": "kP_EZHAGJO5k"
   },
   "outputs": [],
   "source": [
    "# \"\\n\" \\ cift tirnakla kullaniliyor. \\ sihiri ortadan kaldirir "
   ]
  },
  {
   "cell_type": "code",
   "execution_count": null,
   "metadata": {
    "colab": {
     "base_uri": "https://localhost:8080/"
    },
    "id": "ov5MtWY9J3wj",
    "outputId": "0b293bd0-ac55-4da3-b8f5-1e719aaed3bf"
   },
   "outputs": [
    {
     "name": "stdout",
     "output_type": "stream",
     "text": [
      "bugun gunlerden 17\u00061\n",
      "bugun gunlerden 17\\6\\2021\n"
     ]
    }
   ],
   "source": [
    "#bugun gunlerden 17/06/2020\n",
    "print(\"bugun gunlerden 17\\06\\2021\")\n",
    "print(\"bugun gunlerden 17\\\\6\\\\2021\")"
   ]
  },
  {
   "cell_type": "code",
   "execution_count": null,
   "metadata": {
    "colab": {
     "base_uri": "https://localhost:8080/"
    },
    "id": "-DFYHZvjKSGW",
    "outputId": "e12ebc62-68e2-480e-f1b9-8504da3f0bc9"
   },
   "outputs": [
    {
     "name": "stdout",
     "output_type": "stream",
     "text": [
      "clarusway\n",
      "joseph instructor\bvirginia\n"
     ]
    }
   ],
   "source": [
    "benim_textim = \"clarusway \\njoseph instructor\\bvirginia\"  # r yi silmis \n",
    "print(benim_textim)"
   ]
  },
  {
   "cell_type": "code",
   "execution_count": null,
   "metadata": {
    "colab": {
     "base_uri": "https://localhost:8080/",
     "height": 129
    },
    "id": "C5A_FjEeK1gY",
    "outputId": "3568b3aa-02c6-415f-d430-90cdaa816b4b"
   },
   "outputs": [
    {
     "ename": "SyntaxError",
     "evalue": "ignored",
     "output_type": "error",
     "traceback": [
      "\u001b[0;36m  File \u001b[0;32m\"<ipython-input-90-ed8a05ab9427>\"\u001b[0;36m, line \u001b[0;32m2\u001b[0m\n\u001b[0;31m    print(text, \"\\n\\t\", text \"\\n\\t\\t\", text)\u001b[0m\n\u001b[0m                                    ^\u001b[0m\n\u001b[0;31mSyntaxError\u001b[0m\u001b[0;31m:\u001b[0m invalid syntax\n"
     ]
    }
   ],
   "source": [
    "text = \"Clarusway, Clarusway, Clarusway\"\n",
    "print(text, \"\\n\\t\", text \"\\n\\t\\t\", text)"
   ]
  },
  {
   "cell_type": "code",
   "execution_count": null,
   "metadata": {
    "colab": {
     "base_uri": "https://localhost:8080/"
    },
    "id": "BJ3P1aI-w6gL",
    "outputId": "6a9ac1a4-0620-4647-8207-bab8e1cf5eed"
   },
   "outputs": [
    {
     "name": "stdout",
     "output_type": "stream",
     "text": [
      "Clarusway, Clarusway, Clarusway, \n",
      "\tClarusway, Clarusway, Clarusway, \n",
      "\t\tClarusway, Clarusway, Clarusway\n"
     ]
    }
   ],
   "source": [
    "text = \"Clarusway, Clarusway, Clarusway\"\n",
    "print(text + \",\", \"\\n\\t\" + text + \",\", \"\\n\\t\\t\" + text)"
   ]
  },
  {
   "cell_type": "code",
   "execution_count": null,
   "metadata": {
    "colab": {
     "base_uri": "https://localhost:8080/"
    },
    "id": "Lqx59UgBUDNs",
    "outputId": "1a8e5a97-c682-4a13-db3b-88446c059448"
   },
   "outputs": [
    {
     "name": "stdout",
     "output_type": "stream",
     "text": [
      "False\n"
     ]
    }
   ],
   "source": [
    "bool_var = False and not True\n",
    "print(bool_var)\n"
   ]
  },
  {
   "cell_type": "code",
   "execution_count": null,
   "metadata": {
    "id": "zTvnySeuYU0E"
   },
   "outputs": [],
   "source": [
    "dere = int(input(\"Anapara gir:\"))  # dolar girilecek\n",
    "oran = int(input(\"Oran giriniz: \"))  # yuzde orani olarak gir\n",
    "oran = oran / 100 \n",
    "vade = int(input(\"Vade giriniz: \"))  # gun olarak girilecek\n",
    "toplam = kripto_para * (1 + oran) ** vade \n",
    "print(toplam)\n"
   ]
  },
  {
   "cell_type": "code",
   "execution_count": null,
   "metadata": {
    "colab": {
     "base_uri": "https://localhost:8080/"
    },
    "id": "H_kmldl9YUrY",
    "outputId": "32f5e7ac-f3e0-4ad7-a80e-754eab835b4b"
   },
   "outputs": [
    {
     "name": "stdout",
     "output_type": "stream",
     "text": [
      "Fahrenait değeri=113.0\n"
     ]
    }
   ],
   "source": [
    "deg = 45 # float(input(\"Santigrat derece girin:\"))\n",
    "fah = deg * 1.8 + 32\n",
    "print('Fahrenait değeri={0}'.format(fah))"
   ]
  },
  {
   "cell_type": "code",
   "execution_count": null,
   "metadata": {
    "colab": {
     "base_uri": "https://localhost:8080/"
    },
    "id": "hps1uFUYekV6",
    "outputId": "6ad23675-e396-4bbe-a9bf-b10a8653528b"
   },
   "outputs": [
    {
     "name": "stdout",
     "output_type": "stream",
     "text": [
      "77 kilometre 47.845567 mil eder.\n"
     ]
    }
   ],
   "source": [
    "km = 77 # int(input(\"Kilometreyi Giriniz:\"))\n",
    "kmil_oran = 0.621371\n",
    "mil = (km * kmil_oran)\n",
    "print(str(km), \"kilometre\", str(mil), \"mil eder.\")"
   ]
  },
  {
   "cell_type": "code",
   "execution_count": null,
   "metadata": {
    "colab": {
     "base_uri": "https://localhost:8080/"
    },
    "id": "GLj1aFRPhFTW",
    "outputId": "5cbf9684-4ae9-40c1-d61d-a533e46ca9c7"
   },
   "outputs": [
    {
     "name": "stdout",
     "output_type": "stream",
     "text": [
      "Derece gir:77\n",
      "77 C'nin fahrenayta donusmus hali 170.6 F'tir.\n"
     ]
    }
   ],
   "source": [
    "derece = input(\"Derece gir:\")  \n",
    "fahrenayt = 1.8 * float(derece) + 32 \n",
    "print(derece, \"C'nin fahrenayta donusmus hali\", fahrenayt, \"F'tir.\")"
   ]
  },
  {
   "cell_type": "code",
   "execution_count": null,
   "metadata": {
    "colab": {
     "base_uri": "https://localhost:8080/"
    },
    "id": "bqX956Ezj3kW",
    "outputId": "e2fc1b69-ff47-4f68-ea1c-67fe8fe6c936"
   },
   "outputs": [
    {
     "name": "stdout",
     "output_type": "stream",
     "text": [
      "yasinizi giriniz : 80\n",
      "kronik rahatsizliginiz varsa 1 e basiniz: 1\n",
      "bagisiklik sisteminiz zayifsa 1 e basiniz: 0\n",
      "There is a RISK of death\n"
     ]
    }
   ],
   "source": [
    "x = int(input(\"yasinizi giriniz : \"))\n",
    "age = (x >= 75) and True\n",
    "y = int(input(\"kronik rahatsizliginiz varsa 1 e basiniz: \")) \n",
    "chronic = (y != 0) and True  # can be assigned only True/False\n",
    "z = int(input(\"bagisiklik sisteminiz zayifsa 1 e basiniz: \"))\n",
    "immune =  (z != 0) and True   # can be assigned only True/False\n",
    "risk = age or chronic or immune \n",
    "print(risk == True and \"There is a RISK of death\" or \"There is NOT a RISK of death\")"
   ]
  },
  {
   "cell_type": "code",
   "execution_count": null,
   "metadata": {
    "colab": {
     "base_uri": "https://localhost:8080/"
    },
    "id": "hzUkmacpkPtV",
    "outputId": "2192a851-6537-499d-bf1d-039d28516279"
   },
   "outputs": [
    {
     "name": "stdout",
     "output_type": "stream",
     "text": [
      "yasinizi giriniz : 45\n",
      "True\n"
     ]
    }
   ],
   "source": [
    "age = int(input(\"yasinizi giriniz : \"))\n",
    "(age >=75) or True\n",
    "cigarette = True\n",
    "chronic = True\n",
    "immune = True\n",
    "corona_risk = (age and cigarette) and chronic and immune\n",
    "print(corona_risk)"
   ]
  }
 ],
 "metadata": {
  "colab": {
   "collapsed_sections": [],
   "name": "17.06 2021.ipynb",
   "provenance": []
  },
  "kernelspec": {
   "display_name": "Python 3",
   "language": "python",
   "name": "python3"
  },
  "language_info": {
   "codemirror_mode": {
    "name": "ipython",
    "version": 3
   },
   "file_extension": ".py",
   "mimetype": "text/x-python",
   "name": "python",
   "nbconvert_exporter": "python",
   "pygments_lexer": "ipython3",
   "version": "3.8.8"
  }
 },
 "nbformat": 4,
 "nbformat_minor": 1
}
