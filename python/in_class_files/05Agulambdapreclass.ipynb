{
 "cells": [
  {
   "cell_type": "code",
   "execution_count": 13,
   "id": "7f21cf97",
   "metadata": {},
   "outputs": [
    {
     "name": "stdout",
     "output_type": "stream",
     "text": [
      "15\n"
     ]
    }
   ],
   "source": [
    "x = 10\n",
    "    \n",
    "def my_function():  # fix me!\n",
    "    global x\n",
    "    x += 5 \n",
    "    print(x) \n",
    "\n",
    "my_function()    "
   ]
  },
  {
   "cell_type": "code",
   "execution_count": 14,
   "id": "2de63637",
   "metadata": {},
   "outputs": [
    {
     "name": "stdout",
     "output_type": "stream",
     "text": [
      "2\n"
     ]
    }
   ],
   "source": [
    "count = 1\n",
    "\n",
    "def counter():\n",
    "    global count\n",
    "    count += 1\n",
    "    print(count)  \n",
    "\n",
    "counter() \n"
   ]
  },
  {
   "cell_type": "code",
   "execution_count": 15,
   "id": "9ef6c00b",
   "metadata": {},
   "outputs": [
    {
     "name": "stdout",
     "output_type": "stream",
     "text": [
      "20\n"
     ]
    }
   ],
   "source": [
    "x = 10\n",
    "def my_function_1(): \n",
    "    x = 20 \n",
    "    print(x)\n",
    "my_function_1() "
   ]
  },
  {
   "cell_type": "code",
   "execution_count": 16,
   "id": "05b89014",
   "metadata": {},
   "outputs": [
    {
     "ename": "UnboundLocalError",
     "evalue": "local variable 'y' referenced before assignment",
     "output_type": "error",
     "traceback": [
      "\u001b[1;31m---------------------------------------------------------------------------\u001b[0m",
      "\u001b[1;31mUnboundLocalError\u001b[0m                         Traceback (most recent call last)",
      "\u001b[1;32m<ipython-input-16-4be67e3ed18e>\u001b[0m in \u001b[0;36m<module>\u001b[1;34m\u001b[0m\n\u001b[0;32m      3\u001b[0m     \u001b[0my\u001b[0m \u001b[1;33m+=\u001b[0m \u001b[1;36m5\u001b[0m\u001b[1;33m\u001b[0m\u001b[1;33m\u001b[0m\u001b[0m\n\u001b[0;32m      4\u001b[0m     \u001b[0mprint\u001b[0m\u001b[1;33m(\u001b[0m\u001b[0my\u001b[0m\u001b[1;33m)\u001b[0m\u001b[1;33m\u001b[0m\u001b[1;33m\u001b[0m\u001b[0m\n\u001b[1;32m----> 5\u001b[1;33m \u001b[0mmy_function_2\u001b[0m\u001b[1;33m(\u001b[0m\u001b[1;33m)\u001b[0m\u001b[1;33m\u001b[0m\u001b[1;33m\u001b[0m\u001b[0m\n\u001b[0m",
      "\u001b[1;32m<ipython-input-16-4be67e3ed18e>\u001b[0m in \u001b[0;36mmy_function_2\u001b[1;34m()\u001b[0m\n\u001b[0;32m      1\u001b[0m \u001b[0my\u001b[0m \u001b[1;33m=\u001b[0m \u001b[1;36m10\u001b[0m\u001b[1;33m\u001b[0m\u001b[1;33m\u001b[0m\u001b[0m\n\u001b[0;32m      2\u001b[0m \u001b[1;32mdef\u001b[0m \u001b[0mmy_function_2\u001b[0m\u001b[1;33m(\u001b[0m\u001b[1;33m)\u001b[0m\u001b[1;33m:\u001b[0m\u001b[1;33m\u001b[0m\u001b[1;33m\u001b[0m\u001b[0m\n\u001b[1;32m----> 3\u001b[1;33m     \u001b[0my\u001b[0m \u001b[1;33m+=\u001b[0m \u001b[1;36m5\u001b[0m\u001b[1;33m\u001b[0m\u001b[1;33m\u001b[0m\u001b[0m\n\u001b[0m\u001b[0;32m      4\u001b[0m     \u001b[0mprint\u001b[0m\u001b[1;33m(\u001b[0m\u001b[0my\u001b[0m\u001b[1;33m)\u001b[0m\u001b[1;33m\u001b[0m\u001b[1;33m\u001b[0m\u001b[0m\n\u001b[0;32m      5\u001b[0m \u001b[0mmy_function_2\u001b[0m\u001b[1;33m(\u001b[0m\u001b[1;33m)\u001b[0m\u001b[1;33m\u001b[0m\u001b[1;33m\u001b[0m\u001b[0m\n",
      "\u001b[1;31mUnboundLocalError\u001b[0m: local variable 'y' referenced before assignment"
     ]
    }
   ],
   "source": [
    "y = 10  \n",
    "def my_function_2(): \n",
    "    y += 5 \n",
    "    print(y)\n",
    "my_function_2()"
   ]
  },
  {
   "cell_type": "code",
   "execution_count": 17,
   "id": "48bf68f0",
   "metadata": {},
   "outputs": [
    {
     "name": "stdout",
     "output_type": "stream",
     "text": [
      "hello\n"
     ]
    }
   ],
   "source": [
    "def myfunc1():\n",
    "  x = \"hi\"\n",
    "  def myfunc2():\n",
    "    nonlocal x\n",
    "    x = \"hello\"\n",
    "  myfunc2() \n",
    "  return x\n",
    "\n",
    "print(myfunc1())"
   ]
  },
  {
   "cell_type": "code",
   "execution_count": 28,
   "id": "2b48cd9c",
   "metadata": {},
   "outputs": [
    {
     "name": "stdout",
     "output_type": "stream",
     "text": [
      "My name is Richard\n"
     ]
    }
   ],
   "source": [
    "x = 'My name is Richard'\n",
    "def my_function_1():\n",
    "    x = 'My name is John'\n",
    "print(x)\n"
   ]
  },
  {
   "cell_type": "code",
   "execution_count": 37,
   "id": "96ed100e",
   "metadata": {},
   "outputs": [
    {
     "name": "stdout",
     "output_type": "stream",
     "text": [
      "I love London!\n"
     ]
    }
   ],
   "source": [
    "city = \"I love Paris!\"\n",
    "\n",
    "def my_function(): \n",
    "    city = \"I love London!\"\n",
    "    print(city)\n",
    "my_function()"
   ]
  },
  {
   "cell_type": "code",
   "execution_count": 41,
   "id": "021f1356",
   "metadata": {},
   "outputs": [
    {
     "name": "stdout",
     "output_type": "stream",
     "text": [
      "inner: later\n",
      "outer: later\n"
     ]
    }
   ],
   "source": [
    "def outer():\n",
    "    x = \"previous\"\n",
    "    \n",
    "    def inner():\n",
    "        nonlocal x\n",
    "        x = \"later\"\n",
    "        print(\"inner:\", x)\n",
    "    \n",
    "    inner()\n",
    "    print(\"outer:\", x)\n",
    "outer()"
   ]
  },
  {
   "cell_type": "code",
   "execution_count": 42,
   "id": "7bf88898",
   "metadata": {},
   "outputs": [
    {
     "name": "stdout",
     "output_type": "stream",
     "text": [
      "hellohellohello\n"
     ]
    }
   ],
   "source": [
    "echo_word = lambda x,y :x*y\n",
    "print(echo_word('hello', 3))"
   ]
  },
  {
   "cell_type": "code",
   "execution_count": 43,
   "id": "a9dccb2b",
   "metadata": {},
   "outputs": [
    {
     "name": "stdout",
     "output_type": "stream",
     "text": [
      "125\n"
     ]
    }
   ],
   "source": [
    "print((lambda x: x**3)(5))"
   ]
  },
  {
   "cell_type": "code",
   "execution_count": 52,
   "id": "f9a4ff53",
   "metadata": {},
   "outputs": [
    {
     "name": "stdout",
     "output_type": "stream",
     "text": [
      "[3, 6, 9, 12, 15]\n"
     ]
    }
   ],
   "source": [
    "number_list = [1, 2, 3, 4, 5]\n",
    "\n",
    "result = list(map(lambda x:x*3, number_list))\n",
    "print(result)"
   ]
  },
  {
   "cell_type": "code",
   "execution_count": 53,
   "id": "2838e549",
   "metadata": {},
   "outputs": [
    {
     "name": "stdout",
     "output_type": "stream",
     "text": [
      "[6, 7, 8, 9, 10]\n"
     ]
    }
   ],
   "source": [
    "number_list = [1, 2, 3, 4, 5, 6, 7, 8, 9, 10]\n",
    "\n",
    "result = list(filter(lambda x: x>=6, number_list))  \n",
    "print(result)"
   ]
  },
  {
   "cell_type": "code",
   "execution_count": 78,
   "id": "9521b379",
   "metadata": {},
   "outputs": [
    {
     "name": "stdout",
     "output_type": "stream",
     "text": [
      "-- This parrot wouldn't voom if you put 1000 volts through it.\n",
      "-- Lovely plumage, the Norwegian Blue\n",
      "-- It's a stiff !\n"
     ]
    }
   ],
   "source": [
    "def parrot(voltage, state='a stiff', action='voom', type='Norwegian Blue'):\n",
    "    print(\"-- This parrot wouldn't\", action, end=' ')\n",
    "    print(\"if you put\", voltage, \"volts through it.\")\n",
    "    print(\"-- Lovely plumage, the\", type)\n",
    "    print(\"-- It's\", state, \"!\")\n",
    "parrot(\"1000\")"
   ]
  },
  {
   "cell_type": "code",
   "execution_count": 61,
   "id": "1b432be7",
   "metadata": {
    "scrolled": true
   },
   "outputs": [
    {
     "name": "stdout",
     "output_type": "stream",
     "text": [
      "-- This parrot wouldn't VOOOOOM if you put 1000000 volts through it.\n",
      "-- Lovely plumage, the Norwegian Blue\n",
      "-- It's a stiff !\n"
     ]
    }
   ],
   "source": [
    "parrot(voltage=1000000, action='VOOOOOM')"
   ]
  },
  {
   "cell_type": "code",
   "execution_count": 62,
   "id": "346c4b50",
   "metadata": {},
   "outputs": [
    {
     "name": "stdout",
     "output_type": "stream",
     "text": [
      "-- This parrot wouldn't VOOOOOM if you put 1000000 volts through it.\n",
      "-- Lovely plumage, the Norwegian Blue\n",
      "-- It's a stiff !\n"
     ]
    }
   ],
   "source": [
    "parrot(action='VOOOOOM', voltage=1000000 )"
   ]
  },
  {
   "cell_type": "code",
   "execution_count": 63,
   "id": "71ad6f24",
   "metadata": {},
   "outputs": [
    {
     "name": "stdout",
     "output_type": "stream",
     "text": [
      "-- This parrot wouldn't jump if you put a million volts through it.\n",
      "-- Lovely plumage, the Norwegian Blue\n",
      "-- It's bereft of life !\n"
     ]
    }
   ],
   "source": [
    "parrot(\"a million\", \"bereft of life\", \"jump\")"
   ]
  },
  {
   "cell_type": "code",
   "execution_count": 64,
   "id": "d612490a",
   "metadata": {},
   "outputs": [
    {
     "name": "stdout",
     "output_type": "stream",
     "text": [
      "-- This parrot wouldn't voom if you put a thousand volts through it.\n",
      "-- Lovely plumage, the Norwegian Blue\n",
      "-- It's pushing up the daisies !\n"
     ]
    }
   ],
   "source": [
    "parrot(\"a thousand\", state= \"pushing up the daisies\")"
   ]
  },
  {
   "cell_type": "code",
   "execution_count": 65,
   "id": "54e40500",
   "metadata": {},
   "outputs": [
    {
     "ename": "SyntaxError",
     "evalue": "positional argument follows keyword argument (<ipython-input-65-7b546f45b43d>, line 1)",
     "output_type": "error",
     "traceback": [
      "\u001b[1;36m  File \u001b[1;32m\"<ipython-input-65-7b546f45b43d>\"\u001b[1;36m, line \u001b[1;32m1\u001b[0m\n\u001b[1;33m    parrot(voltage = 5, \"dead\")\u001b[0m\n\u001b[1;37m                        ^\u001b[0m\n\u001b[1;31mSyntaxError\u001b[0m\u001b[1;31m:\u001b[0m positional argument follows keyword argument\n"
     ]
    }
   ],
   "source": [
    "parrot(voltage = 5, \"dead\") #once positionallari bitirmemiz lazim"
   ]
  },
  {
   "cell_type": "code",
   "execution_count": null,
   "id": "38b7ce32",
   "metadata": {},
   "outputs": [],
   "source": [
    "def argu(a,b=\"dunya\", c, d=\"saturn\"):\n",
    "    print(a,b,c,d, sep =\"\\n\")"
   ]
  },
  {
   "cell_type": "code",
   "execution_count": 72,
   "id": "88e9bcf0",
   "metadata": {},
   "outputs": [],
   "source": [
    "def argu(a, c, b=\"dunya\", d=\"saturn\"):\n",
    "    print(a,b,c,d, sep =\"\\n\")\n"
   ]
  },
  {
   "cell_type": "code",
   "execution_count": 73,
   "id": "c0b142a6",
   "metadata": {},
   "outputs": [
    {
     "name": "stdout",
     "output_type": "stream",
     "text": [
      "uranus\n",
      "dunya\n",
      "jupiter\n",
      "saturn\n"
     ]
    }
   ],
   "source": [
    "argu(\"uranus\",  \"jupiter\")"
   ]
  },
  {
   "cell_type": "code",
   "execution_count": 74,
   "id": "314dd9b1",
   "metadata": {},
   "outputs": [
    {
     "name": "stdout",
     "output_type": "stream",
     "text": [
      "uranus\n",
      "dunya\n",
      "jupiter\n",
      "saturn\n"
     ]
    }
   ],
   "source": [
    "argu(a= \"uranus\",  c = \"jupiter\")"
   ]
  },
  {
   "cell_type": "code",
   "execution_count": 75,
   "id": "7c3de5f3",
   "metadata": {},
   "outputs": [
    {
     "ename": "SyntaxError",
     "evalue": "positional argument follows keyword argument (<ipython-input-75-805d4802e36f>, line 1)",
     "output_type": "error",
     "traceback": [
      "\u001b[1;36m  File \u001b[1;32m\"<ipython-input-75-805d4802e36f>\"\u001b[1;36m, line \u001b[1;32m1\u001b[0m\n\u001b[1;33m    argu(\"pluto\", c = \"venus\", \"mars\")\u001b[0m\n\u001b[1;37m                               ^\u001b[0m\n\u001b[1;31mSyntaxError\u001b[0m\u001b[1;31m:\u001b[0m positional argument follows keyword argument\n"
     ]
    }
   ],
   "source": [
    "argu(\"pluto\", c = \"venus\", \"mars\")"
   ]
  },
  {
   "cell_type": "code",
   "execution_count": 76,
   "id": "3e85065e",
   "metadata": {},
   "outputs": [
    {
     "name": "stdout",
     "output_type": "stream",
     "text": [
      "dunya\n",
      "venus\n",
      "pluto\n",
      "gunes\n"
     ]
    }
   ],
   "source": [
    "argu(d= \"gunes\", a= \"dunya\", c=\"pluto\", b = \"venus\")"
   ]
  },
  {
   "cell_type": "code",
   "execution_count": 77,
   "id": "771628fc",
   "metadata": {},
   "outputs": [
    {
     "name": "stdout",
     "output_type": "stream",
     "text": [
      "gunes\n",
      "pluto\n",
      "dunya\n",
      "venus\n"
     ]
    }
   ],
   "source": [
    "argu(\"gunes\", \"dunya\", \"pluto\", \"venus\")"
   ]
  },
  {
   "cell_type": "code",
   "execution_count": null,
   "id": "cb5f40db",
   "metadata": {},
   "outputs": [],
   "source": []
  }
 ],
 "metadata": {
  "kernelspec": {
   "display_name": "Python 3",
   "language": "python",
   "name": "python3"
  },
  "language_info": {
   "codemirror_mode": {
    "name": "ipython",
    "version": 3
   },
   "file_extension": ".py",
   "mimetype": "text/x-python",
   "name": "python",
   "nbconvert_exporter": "python",
   "pygments_lexer": "ipython3",
   "version": "3.8.8"
  }
 },
 "nbformat": 4,
 "nbformat_minor": 5
}
