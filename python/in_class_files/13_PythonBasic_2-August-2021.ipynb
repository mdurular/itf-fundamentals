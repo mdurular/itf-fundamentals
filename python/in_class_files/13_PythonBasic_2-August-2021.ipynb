{
 "cells": [
  {
   "cell_type": "markdown",
   "id": "406f2981",
   "metadata": {},
   "source": [
    "<img src=\"https://docs.google.com/uc?id=14xeXxFrVRjvOoUYWn_GuyE-v84wVzrqr\" class=\"img-fluid\" alt=\"CLRWY\" width=\"400\" height=\"200\">"
   ]
  },
  {
   "cell_type": "markdown",
   "id": "22263af8",
   "metadata": {},
   "source": [
    "<h1><p style=\"text-align: center; color:darkblue\">Python In-Class, <br>02 August 2021</p><h1>"
   ]
  },
  {
   "cell_type": "code",
   "execution_count": 13,
   "id": "48ddba7a",
   "metadata": {},
   "outputs": [],
   "source": [
    "generate = (i ** 2 for i in range(6))"
   ]
  },
  {
   "cell_type": "code",
   "execution_count": 5,
   "id": "357a0e3a",
   "metadata": {},
   "outputs": [
    {
     "data": {
      "text/plain": [
       "<generator object <genexpr> at 0x7fe8f8053970>"
      ]
     },
     "execution_count": 5,
     "metadata": {},
     "output_type": "execute_result"
    }
   ],
   "source": [
    "generate"
   ]
  },
  {
   "cell_type": "code",
   "execution_count": 16,
   "id": "ca5fd159",
   "metadata": {},
   "outputs": [
    {
     "name": "stdout",
     "output_type": "stream",
     "text": [
      "\n"
     ]
    }
   ],
   "source": [
    "print(* generate)"
   ]
  },
  {
   "cell_type": "code",
   "execution_count": 15,
   "id": "6bd84810",
   "metadata": {},
   "outputs": [],
   "source": [
    "for i in generate :\n",
    "    print(i)"
   ]
  },
  {
   "cell_type": "code",
   "execution_count": 14,
   "id": "1ed5cdc3",
   "metadata": {},
   "outputs": [
    {
     "data": {
      "text/plain": [
       "[0, 1, 4, 9, 16, 25]"
      ]
     },
     "execution_count": 14,
     "metadata": {},
     "output_type": "execute_result"
    }
   ],
   "source": [
    "list(generate)"
   ]
  },
  {
   "cell_type": "code",
   "execution_count": 26,
   "id": "bfc2b256",
   "metadata": {},
   "outputs": [],
   "source": [
    "generate = (i ** 2 for i in range(6))"
   ]
  },
  {
   "cell_type": "code",
   "execution_count": 27,
   "id": "4bb67882",
   "metadata": {},
   "outputs": [
    {
     "name": "stdout",
     "output_type": "stream",
     "text": [
      "0\n"
     ]
    }
   ],
   "source": [
    "print(next(generate))"
   ]
  },
  {
   "cell_type": "code",
   "execution_count": 28,
   "id": "de786a84",
   "metadata": {},
   "outputs": [
    {
     "name": "stdout",
     "output_type": "stream",
     "text": [
      "1\n"
     ]
    }
   ],
   "source": [
    "print(next(generate))"
   ]
  },
  {
   "cell_type": "code",
   "execution_count": 29,
   "id": "1cd86065",
   "metadata": {},
   "outputs": [
    {
     "name": "stdout",
     "output_type": "stream",
     "text": [
      "4\n"
     ]
    }
   ],
   "source": [
    "print(next(generate))"
   ]
  },
  {
   "cell_type": "code",
   "execution_count": 21,
   "id": "98929dc0",
   "metadata": {},
   "outputs": [
    {
     "name": "stdout",
     "output_type": "stream",
     "text": [
      "9\n"
     ]
    }
   ],
   "source": [
    "print(next(generate))"
   ]
  },
  {
   "cell_type": "code",
   "execution_count": 22,
   "id": "d3a72dcc",
   "metadata": {},
   "outputs": [
    {
     "name": "stdout",
     "output_type": "stream",
     "text": [
      "16\n"
     ]
    }
   ],
   "source": [
    "print(next(generate))"
   ]
  },
  {
   "cell_type": "code",
   "execution_count": 23,
   "id": "7788d5b2",
   "metadata": {},
   "outputs": [
    {
     "name": "stdout",
     "output_type": "stream",
     "text": [
      "25\n"
     ]
    }
   ],
   "source": [
    "print(next(generate))"
   ]
  },
  {
   "cell_type": "code",
   "execution_count": 24,
   "id": "f84e6d87",
   "metadata": {},
   "outputs": [
    {
     "ename": "StopIteration",
     "evalue": "",
     "output_type": "error",
     "traceback": [
      "\u001b[0;31m---------------------------------------------------------------------------\u001b[0m",
      "\u001b[0;31mStopIteration\u001b[0m                             Traceback (most recent call last)",
      "\u001b[0;32m<ipython-input-24-e0b94480744e>\u001b[0m in \u001b[0;36m<module>\u001b[0;34m\u001b[0m\n\u001b[0;32m----> 1\u001b[0;31m \u001b[0mprint\u001b[0m\u001b[0;34m(\u001b[0m\u001b[0mnext\u001b[0m\u001b[0;34m(\u001b[0m\u001b[0mgenerate\u001b[0m\u001b[0;34m)\u001b[0m\u001b[0;34m)\u001b[0m\u001b[0;34m\u001b[0m\u001b[0;34m\u001b[0m\u001b[0m\n\u001b[0m",
      "\u001b[0;31mStopIteration\u001b[0m: "
     ]
    }
   ],
   "source": [
    "print(next(generate))"
   ]
  },
  {
   "cell_type": "code",
   "execution_count": 30,
   "id": "cb11e3c5",
   "metadata": {},
   "outputs": [
    {
     "name": "stdout",
     "output_type": "stream",
     "text": [
      "9 16 25\n"
     ]
    }
   ],
   "source": [
    "print(* generate)"
   ]
  },
  {
   "cell_type": "markdown",
   "id": "ccda701e",
   "metadata": {},
   "source": [
    "## Armstrong Numbers"
   ]
  },
  {
   "cell_type": "code",
   "execution_count": 33,
   "id": "1103f56d",
   "metadata": {},
   "outputs": [
    {
     "name": "stdout",
     "output_type": "stream",
     "text": [
      "enter a positive integer number : 4338281769391370\n",
      "4338281769391370 is an Armstrong Number.\n"
     ]
    }
   ],
   "source": [
    "while True :\n",
    "    \n",
    "    number = input(\"enter a positive integer number : \")\n",
    "    digits = len(number)\n",
    "    summ = 0\n",
    "    \n",
    "    if not number.isdigit() :\n",
    "        print(number, \" is invalid entry. Enter valid input.!\")\n",
    "        \n",
    "    elif int(number) >= 0 :\n",
    "        for i in range(digits) :\n",
    "            summ = summ + int(number[i]) ** digits\n",
    "            \n",
    "        if summ == int(number) :\n",
    "            print(number, \"is an Armstrong Number.\")\n",
    "            break\n",
    "        else :\n",
    "            print(number, \"is not an Armstrong Number. Sorry.\")\n",
    "            break"
   ]
  },
  {
   "cell_type": "markdown",
   "id": "9f0564b8",
   "metadata": {},
   "source": [
    "## is it a Prime Number?"
   ]
  },
  {
   "cell_type": "code",
   "execution_count": 36,
   "id": "ab1b958e",
   "metadata": {},
   "outputs": [
    {
     "name": "stdout",
     "output_type": "stream",
     "text": [
      "Enter a positive number to check if it is a Prime Number : 0\n",
      "0 is not a Prime Number.\n"
     ]
    }
   ],
   "source": [
    "n = int(input(\"Enter a positive number to check if it is a Prime Number : \"))\n",
    "count = 0\n",
    "\n",
    "for i in range(1, n+1) :\n",
    "    if n % i == 0 :\n",
    "        count += 1\n",
    "if (n == 0) or (n == 1) or (count >= 3) :\n",
    "    print(n, \"is not a Prime Number.\")\n",
    "else :\n",
    "    print(n, \"is a Prime Number.\")"
   ]
  },
  {
   "cell_type": "code",
   "execution_count": 37,
   "id": "f749611e",
   "metadata": {},
   "outputs": [],
   "source": [
    "def mevlana() :\n",
    "    print(\"\"\"Cömertlik ve yardım etme gibi ol\n",
    "Şefkat ve merhamette güneş\n",
    "Başkalarının kusurunu örtmede gece gibi ol.\n",
    "Hiddet ve asabivette ölü gibi ol.\n",
    "Tevazu ve alçak gönüllülükte toprak gibi ol.\n",
    "Hoşgörülükte deniz gibi ol.\n",
    "Ya olduğun gibi görün, ya göründiiğün gibi ol.\"\"\")"
   ]
  },
  {
   "cell_type": "code",
   "execution_count": 38,
   "id": "87b321fc",
   "metadata": {},
   "outputs": [
    {
     "name": "stdout",
     "output_type": "stream",
     "text": [
      "Cömertlik ve yardım etme gibi ol\n",
      "Şefkat ve merhamette güneş\n",
      "Başkalarının kusurunu örtmede gece gibi ol.\n",
      "Hiddet ve asabivette ölü gibi ol.\n",
      "Tevazu ve alçak gönüllülükte toprak gibi ol.\n",
      "Hoşgörülükte deniz gibi ol.\n",
      "Ya olduğun gibi görün, ya göründiiğün gibi ol.\n"
     ]
    }
   ],
   "source": [
    "mevlana()"
   ]
  },
  {
   "cell_type": "code",
   "execution_count": 39,
   "id": "f3390698",
   "metadata": {},
   "outputs": [],
   "source": [
    "def calculator(x, y, opr) :\n",
    "    if opr == \"+\" :\n",
    "        print(x + y)\n",
    "    elif opr == \"-\" :\n",
    "        print(x - y)\n",
    "    elif opr == \"*\" :\n",
    "        print(x * y)\n",
    "    elif opr == \"/\" :\n",
    "        print(x / y)\n",
    "    else :\n",
    "        print(\"Enter a valid opr.\")"
   ]
  },
  {
   "cell_type": "code",
   "execution_count": 40,
   "id": "f7771289",
   "metadata": {},
   "outputs": [
    {
     "name": "stdout",
     "output_type": "stream",
     "text": [
      "3\n"
     ]
    }
   ],
   "source": [
    "calculator(5, 2, \"-\")"
   ]
  },
  {
   "cell_type": "code",
   "execution_count": 41,
   "id": "1e0a43ee",
   "metadata": {},
   "outputs": [
    {
     "name": "stdout",
     "output_type": "stream",
     "text": [
      "\n"
     ]
    },
    {
     "data": {
      "text/plain": [
       "NoneType"
      ]
     },
     "execution_count": 41,
     "metadata": {},
     "output_type": "execute_result"
    }
   ],
   "source": [
    "type(print())"
   ]
  },
  {
   "cell_type": "code",
   "execution_count": 43,
   "id": "e20dbb52",
   "metadata": {},
   "outputs": [],
   "source": [
    "def calculator2(x, y, opr) :\n",
    "    if opr == \"+\" :\n",
    "        return (x + y)\n",
    "    elif opr == \"-\" :\n",
    "        return (x - y)\n",
    "    elif opr == \"*\" :\n",
    "        return (x * y)\n",
    "    elif opr == \"/\" :\n",
    "        return (x / y)\n",
    "    else : return \"Enter a valid opr.\""
   ]
  },
  {
   "cell_type": "code",
   "execution_count": 47,
   "id": "239f1124",
   "metadata": {},
   "outputs": [
    {
     "name": "stdout",
     "output_type": "stream",
     "text": [
      "11\n"
     ]
    }
   ],
   "source": [
    "print(calculator2(9,2, \"+\"))"
   ]
  },
  {
   "cell_type": "code",
   "execution_count": 53,
   "id": "73564d6b",
   "metadata": {},
   "outputs": [],
   "source": [
    "def absolute_value(num) :\n",
    "    \n",
    "    \"\"\"This function gives absolute value\n",
    "of the entered number.\"\"\"\n",
    "    \n",
    "    if num >= 0 :\n",
    "        return num\n",
    "    else :\n",
    "        return -num"
   ]
  },
  {
   "cell_type": "code",
   "execution_count": 51,
   "id": "5939e914",
   "metadata": {},
   "outputs": [
    {
     "name": "stdout",
     "output_type": "stream",
     "text": [
      "22\n"
     ]
    }
   ],
   "source": [
    "print(absolute_value(-22))"
   ]
  },
  {
   "cell_type": "code",
   "execution_count": 54,
   "id": "12848824",
   "metadata": {},
   "outputs": [
    {
     "name": "stdout",
     "output_type": "stream",
     "text": [
      "This function gives absolute value\n",
      "of the entered number.\n"
     ]
    }
   ],
   "source": [
    "print(absolute_value.__doc__)"
   ]
  },
  {
   "cell_type": "code",
   "execution_count": 55,
   "id": "1265aaf0",
   "metadata": {},
   "outputs": [
    {
     "name": "stdout",
     "output_type": "stream",
     "text": [
      "print(value, ..., sep=' ', end='\\n', file=sys.stdout, flush=False)\n",
      "\n",
      "Prints the values to a stream, or to sys.stdout by default.\n",
      "Optional keyword arguments:\n",
      "file:  a file-like object (stream); defaults to the current sys.stdout.\n",
      "sep:   string inserted between values, default a space.\n",
      "end:   string appended after the last value, default a newline.\n",
      "flush: whether to forcibly flush the stream.\n"
     ]
    }
   ],
   "source": [
    "print(print.__doc__)"
   ]
  },
  {
   "cell_type": "code",
   "execution_count": null,
   "id": "0618ce28",
   "metadata": {},
   "outputs": [],
   "source": [
    "```python\n",
    "\n",
    "def print(parameters) :\n",
    "    body\n",
    "```"
   ]
  },
  {
   "cell_type": "code",
   "execution_count": 56,
   "id": "41e665b4",
   "metadata": {},
   "outputs": [
    {
     "name": "stdout",
     "output_type": "stream",
     "text": [
      "Return the absolute value of the argument.\n"
     ]
    }
   ],
   "source": [
    "print(abs.__doc__)"
   ]
  },
  {
   "cell_type": "code",
   "execution_count": null,
   "id": "cee45033",
   "metadata": {},
   "outputs": [],
   "source": []
  },
  {
   "cell_type": "code",
   "execution_count": null,
   "id": "03c962b5",
   "metadata": {},
   "outputs": [],
   "source": []
  },
  {
   "cell_type": "code",
   "execution_count": null,
   "id": "4049f6d7",
   "metadata": {},
   "outputs": [],
   "source": []
  }
 ],
 "metadata": {
  "kernelspec": {
   "display_name": "Python 3",
   "language": "python",
   "name": "python3"
  },
  "language_info": {
   "codemirror_mode": {
    "name": "ipython",
    "version": 3
   },
   "file_extension": ".py",
   "mimetype": "text/x-python",
   "name": "python",
   "nbconvert_exporter": "python",
   "pygments_lexer": "ipython3",
   "version": "3.8.8"
  }
 },
 "nbformat": 4,
 "nbformat_minor": 5
}
