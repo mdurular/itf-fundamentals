{
 "cells": [
  {
   "cell_type": "markdown",
   "id": "406f2981",
   "metadata": {},
   "source": [
    "<img src=\"https://docs.google.com/uc?id=14xeXxFrVRjvOoUYWn_GuyE-v84wVzrqr\" class=\"img-fluid\" alt=\"CLRWY\" width=\"400\" height=\"200\">"
   ]
  },
  {
   "cell_type": "markdown",
   "id": "22263af8",
   "metadata": {},
   "source": [
    "<h1><p style=\"text-align: center; color:darkblue\">Python + In-Class, <br>12 August 2021</p><h1>"
   ]
  },
  {
   "cell_type": "code",
   "execution_count": 1,
   "id": "4cbdde2c",
   "metadata": {},
   "outputs": [
    {
     "data": {
      "text/plain": [
       "<function __main__.<lambda>(x)>"
      ]
     },
     "execution_count": 1,
     "metadata": {},
     "output_type": "execute_result"
    }
   ],
   "source": [
    "lambda x : \"odd\" if x % 2 != 0 else \"even\""
   ]
  },
  {
   "cell_type": "code",
   "execution_count": 2,
   "id": "27a5eccf",
   "metadata": {},
   "outputs": [
    {
     "data": {
      "text/plain": [
       "'ali'"
      ]
     },
     "execution_count": 2,
     "metadata": {},
     "output_type": "execute_result"
    }
   ],
   "source": [
    "(lambda x : x[::-1])(\"ila\")"
   ]
  },
  {
   "cell_type": "code",
   "execution_count": 3,
   "id": "5923f92c",
   "metadata": {},
   "outputs": [
    {
     "data": {
      "text/plain": [
       "4.0"
      ]
     },
     "execution_count": 3,
     "metadata": {},
     "output_type": "execute_result"
    }
   ],
   "source": [
    "(lambda x, y : (x + y) / 2)(3,5)"
   ]
  },
  {
   "cell_type": "code",
   "execution_count": 4,
   "id": "f0e51cc5",
   "metadata": {},
   "outputs": [],
   "source": [
    "average = lambda x, y: (x+y)/2"
   ]
  },
  {
   "cell_type": "code",
   "execution_count": 5,
   "id": "19984bab",
   "metadata": {},
   "outputs": [
    {
     "name": "stdout",
     "output_type": "stream",
     "text": [
      "4.0\n"
     ]
    }
   ],
   "source": [
    "print(average(3, 5))"
   ]
  },
  {
   "cell_type": "code",
   "execution_count": 6,
   "id": "966fd189",
   "metadata": {},
   "outputs": [],
   "source": [
    "iterable = \"clarusway\""
   ]
  },
  {
   "cell_type": "code",
   "execution_count": 7,
   "id": "c6870a40",
   "metadata": {},
   "outputs": [],
   "source": [
    "reverser = lambda x : x[::-1]"
   ]
  },
  {
   "cell_type": "code",
   "execution_count": 8,
   "id": "9a411127",
   "metadata": {},
   "outputs": [
    {
     "data": {
      "text/plain": [
       "'yawsuralc'"
      ]
     },
     "execution_count": 8,
     "metadata": {},
     "output_type": "execute_result"
    }
   ],
   "source": [
    "reverser(iterable)"
   ]
  },
  {
   "cell_type": "code",
   "execution_count": 9,
   "id": "133f32c5",
   "metadata": {},
   "outputs": [],
   "source": [
    "def square(n) :\n",
    "    return n ** 2"
   ]
  },
  {
   "cell_type": "code",
   "execution_count": 13,
   "id": "af66f76b",
   "metadata": {},
   "outputs": [],
   "source": [
    "rakamlar = [1,2,3,4,5]"
   ]
  },
  {
   "cell_type": "code",
   "execution_count": 14,
   "id": "ffb822f7",
   "metadata": {},
   "outputs": [],
   "source": [
    "result = map(square, rakamlar)"
   ]
  },
  {
   "cell_type": "code",
   "execution_count": 15,
   "id": "585741f8",
   "metadata": {},
   "outputs": [
    {
     "name": "stdout",
     "output_type": "stream",
     "text": [
      "1\n",
      "4\n",
      "9\n",
      "16\n",
      "25\n"
     ]
    }
   ],
   "source": [
    "for i in result :\n",
    "    print(i)"
   ]
  },
  {
   "cell_type": "code",
   "execution_count": 16,
   "id": "0bb23eaf",
   "metadata": {},
   "outputs": [
    {
     "name": "stdout",
     "output_type": "stream",
     "text": [
      "\n"
     ]
    }
   ],
   "source": [
    "print(* result)"
   ]
  },
  {
   "cell_type": "code",
   "execution_count": 1,
   "id": "4c6bffae",
   "metadata": {},
   "outputs": [],
   "source": [
    "kelimeler = [\"ali veli deli\", \"mehmet ağanın kuzeni\", \"cemilin-bacısı\"]"
   ]
  },
  {
   "cell_type": "code",
   "execution_count": 2,
   "id": "0753ece9",
   "metadata": {},
   "outputs": [
    {
     "data": {
      "text/plain": [
       "[13, 20, 14]"
      ]
     },
     "execution_count": 2,
     "metadata": {},
     "output_type": "execute_result"
    }
   ],
   "source": [
    "list(map(len, kelimeler))"
   ]
  },
  {
   "cell_type": "code",
   "execution_count": 3,
   "id": "9c920c04",
   "metadata": {},
   "outputs": [
    {
     "data": {
      "text/plain": [
       "[[' ', ' ', 'a', 'd', 'e', 'e', 'i', 'i', 'i', 'l', 'l', 'l', 'v'],\n",
       " [' ',\n",
       "  ' ',\n",
       "  'a',\n",
       "  'a',\n",
       "  'e',\n",
       "  'e',\n",
       "  'e',\n",
       "  'h',\n",
       "  'i',\n",
       "  'k',\n",
       "  'm',\n",
       "  'm',\n",
       "  'n',\n",
       "  'n',\n",
       "  'n',\n",
       "  't',\n",
       "  'u',\n",
       "  'z',\n",
       "  'ğ',\n",
       "  'ı'],\n",
       " ['-', 'a', 'b', 'c', 'c', 'e', 'i', 'i', 'l', 'm', 'n', 's', 'ı', 'ı']]"
      ]
     },
     "execution_count": 3,
     "metadata": {},
     "output_type": "execute_result"
    }
   ],
   "source": [
    "list(map(sorted, kelimeler))"
   ]
  },
  {
   "cell_type": "code",
   "execution_count": 4,
   "id": "3d6e945d",
   "metadata": {},
   "outputs": [],
   "source": [
    "vowels = [\"a\", \"e\", \"i\", \"u\", \"o\"]"
   ]
  },
  {
   "cell_type": "code",
   "execution_count": 5,
   "id": "3dab330d",
   "metadata": {},
   "outputs": [],
   "source": [
    "first_ten = ['a', 'b', 'c', 'd', 'e', 'f', 'g', 'h', 'i', 'j']"
   ]
  },
  {
   "cell_type": "code",
   "execution_count": 6,
   "id": "26db2442",
   "metadata": {},
   "outputs": [
    {
     "name": "stdout",
     "output_type": "stream",
     "text": [
      "a e i\n"
     ]
    }
   ],
   "source": [
    "filtered_vowels = filter(lambda x : x in vowels, first_ten)\n",
    "print(* filtered_vowels)"
   ]
  },
  {
   "cell_type": "code",
   "execution_count": 7,
   "id": "3b6c53e8",
   "metadata": {},
   "outputs": [
    {
     "data": {
      "text/plain": [
       "True"
      ]
     },
     "execution_count": 7,
     "metadata": {},
     "output_type": "execute_result"
    }
   ],
   "source": [
    "\"a\" in vowels"
   ]
  },
  {
   "cell_type": "code",
   "execution_count": 8,
   "id": "2866590f",
   "metadata": {},
   "outputs": [
    {
     "data": {
      "text/plain": [
       "False"
      ]
     },
     "execution_count": 8,
     "metadata": {},
     "output_type": "execute_result"
    }
   ],
   "source": [
    "\"b\" in vowels"
   ]
  },
  {
   "cell_type": "code",
   "execution_count": 9,
   "id": "ba316541",
   "metadata": {},
   "outputs": [
    {
     "data": {
      "text/plain": [
       "False"
      ]
     },
     "execution_count": 9,
     "metadata": {},
     "output_type": "execute_result"
    }
   ],
   "source": [
    "\"c\" in vowels"
   ]
  },
  {
   "cell_type": "code",
   "execution_count": 10,
   "id": "8d382e79",
   "metadata": {},
   "outputs": [
    {
     "data": {
      "text/plain": [
       "True"
      ]
     },
     "execution_count": 10,
     "metadata": {},
     "output_type": "execute_result"
    }
   ],
   "source": [
    "'e' in vowels"
   ]
  },
  {
   "cell_type": "markdown",
   "id": "7a2926f8",
   "metadata": {},
   "source": [
    "### show me my way, please! <img src=\"https://www.robotsepeti.com/nao-insansi-robot-platformu-v6-egitmen-educator-versiyonu-insansi-robot-softbank-robotics-9282-48-B.png\" height = \"100\" width=\"300\" alt=\"Robot\">"
   ]
  },
  {
   "cell_type": "code",
   "execution_count": 13,
   "id": "2a7253ff",
   "metadata": {},
   "outputs": [],
   "source": [
    "C = [\"right 20\", \"right 30\", \"left 50\", \"up 10\", \"down 20\"]"
   ]
  },
  {
   "cell_type": "code",
   "execution_count": null,
   "id": "d5bdeb47",
   "metadata": {},
   "outputs": [],
   "source": [
    "# [0, -10]"
   ]
  },
  {
   "cell_type": "code",
   "execution_count": 19,
   "id": "c4880f40",
   "metadata": {},
   "outputs": [
    {
     "data": {
      "text/plain": [
       "[0, -10]"
      ]
     },
     "execution_count": 19,
     "metadata": {},
     "output_type": "execute_result"
    }
   ],
   "source": [
    "x = y = 0\n",
    "\n",
    "for i in range(len(C)) :\n",
    "    if C[i].startswith(\"r\") : x = x + int(C[i].split()[1])\n",
    "    elif C[i].startswith(\"l\") : x = x - int(C[i].split()[1])\n",
    "    elif C[i].startswith(\"u\") : y = y + int(C[i].split()[1])\n",
    "    elif C[i].startswith(\"d\") : y = y - int(C[i].split()[1])\n",
    "        \n",
    "[x, y]"
   ]
  },
  {
   "cell_type": "code",
   "execution_count": 17,
   "id": "78e3871c",
   "metadata": {},
   "outputs": [
    {
     "data": {
      "text/plain": [
       "20"
      ]
     },
     "execution_count": 17,
     "metadata": {},
     "output_type": "execute_result"
    }
   ],
   "source": [
    "int(C[0].split()[1])"
   ]
  },
  {
   "cell_type": "code",
   "execution_count": null,
   "id": "2a2ab373",
   "metadata": {},
   "outputs": [],
   "source": []
  }
 ],
 "metadata": {
  "kernelspec": {
   "display_name": "Python 3",
   "language": "python",
   "name": "python3"
  },
  "language_info": {
   "codemirror_mode": {
    "name": "ipython",
    "version": 3
   },
   "file_extension": ".py",
   "mimetype": "text/x-python",
   "name": "python",
   "nbconvert_exporter": "python",
   "pygments_lexer": "ipython3",
   "version": "3.8.8"
  }
 },
 "nbformat": 4,
 "nbformat_minor": 5
}
