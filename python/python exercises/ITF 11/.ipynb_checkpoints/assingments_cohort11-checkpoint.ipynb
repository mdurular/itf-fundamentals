{
 "cells": [
  {
   "cell_type": "markdown",
   "metadata": {
    "id": "FuxvvIL6jJLh"
   },
   "source": [
    "1- Python Program to Convert Kilometers to Miles"
   ]
  },
  {
   "cell_type": "code",
   "execution_count": null,
   "metadata": {
    "colab": {
     "base_uri": "https://localhost:8080/"
    },
    "id": "vFZ5w1u1jU-C",
    "outputId": "36d76ee9-1838-4ae6-f3ca-9eb6dca79b53"
   },
   "outputs": [
    {
     "name": "stdout",
     "output_type": "stream",
     "text": [
      "Enter value in kilometers: 3.50\n",
      "3.5 kilometers is equal to 2.17 miles\n"
     ]
    }
   ],
   "source": [
    "kilometers = float(input(\"Enter value in kilometers: \"))\n",
    "conv_fac = 0.621371\n",
    "miles = kilometers * conv_fac\n",
    "print('{} kilometers is equal to {:.2f} miles'.format(kilometers,miles))"
   ]
  },
  {
   "cell_type": "markdown",
   "metadata": {
    "id": "T_6lwoEHm6ca"
   },
   "source": [
    "2- Python Program to Convert Celsius To Fahrenheit"
   ]
  },
  {
   "cell_type": "code",
   "execution_count": null,
   "metadata": {
    "colab": {
     "base_uri": "https://localhost:8080/"
    },
    "id": "KyUWk_Whm8EQ",
    "outputId": "aefe9424-b79c-430c-b009-9ee7b8de80d4"
   },
   "outputs": [
    {
     "name": "stdout",
     "output_type": "stream",
     "text": [
      "Please enter a celcius  degree :  12\n",
      "12.0 celcius is equal to 53.60 fahrenheit.\n"
     ]
    }
   ],
   "source": [
    "celcius = float(input(\"Please enter a celcius  degree :  \"))\n",
    "fahrenheit = (celcius * 1.8) + 32\n",
    "print(\"{} celcius is equal to {:.2f} fahrenheit.\".format(celcius, fahrenheit))"
   ]
  },
  {
   "cell_type": "markdown",
   "metadata": {
    "id": "s-2frDUHnGQ4"
   },
   "source": [
    "3- Find out if the given word is \"comfortable words\" in relation to the ten-finger keyboard use.\n",
    "A comfortable word is a word which you can type always alternating the hand you type with (assuming you type using a Q-keyboard and use of the ten-fingers standard).\n",
    "The word will always be a string consisting of only letters from a to z.\n",
    "Write a program which returns True if it's a comfortable word or False otherwise."
   ]
  },
  {
   "cell_type": "code",
   "execution_count": null,
   "metadata": {
    "id": "T-N_ufuknF1D"
   },
   "outputs": [],
   "source": [
    "left_h = \"q, w, e, r, t, a, s, d, f, g, z, x, c, v, b\"\n",
    "right_h = \"y, u, i, o, p, h, j, k, l, n, m\"\n",
    "\n",
    "word = set(input(\"\").lower())\n",
    "\n",
    "if word - set(left_h) == set() or word - set(right_h) == set() :\n",
    "  print(False)\n",
    "else:\n",
    "  print(True)"
   ]
  },
  {
   "cell_type": "markdown",
   "metadata": {
    "id": "jPQp9TvIJMpk"
   },
   "source": [
    "4-Verilen listedeki en sık geçen sayıyı ve kaç kez geçtiğini max() fonsiyonu kullanarak yazan bir program yazınız"
   ]
  },
  {
   "cell_type": "code",
   "execution_count": null,
   "metadata": {
    "id": "BY25G5iUnZrj"
   },
   "outputs": [],
   "source": [
    "numbers = [1, 3, 7, 4, 3, 0, 3, 6, 3]\n",
    "a = max(numbers, key = numbers.count)\n",
    "b = numbers.count(max(numbers, key = numbers.count))\n",
    "print(\"the most frequent number is {} and it was {} times repeated\".format(a,b))"
   ]
  },
  {
   "cell_type": "markdown",
   "metadata": {
    "id": "cuBK1FuuJsDp"
   },
   "source": [
    "5-Kişiden age chronic immune ve risk durumunu alarak covid 19 risk durumunu type bool şekilde yazdırınız."
   ]
  },
  {
   "cell_type": "code",
   "execution_count": null,
   "metadata": {
    "id": "sR8eIk7aJxhO"
   },
   "outputs": [],
   "source": [
    "age = True\n",
    "chronic = True\n",
    "immune = True\n",
    "risk = age or chronic or immune \n",
    "print(risk)  "
   ]
  },
  {
   "cell_type": "markdown",
   "metadata": {
    "id": "Prv17vXcKAhL"
   },
   "source": [
    "6- Estimating the risk of death from coronavirus. Write a program that;\n",
    "Takes \"Yes\" or \"No\" from the user as an answer to the following questions :\n",
    "\n",
    "Are you a cigarette addict older than 75 years old? Variable → age\n",
    "\n",
    "Do you have a severe chronic disease? Variable → chronic\n",
    "\n",
    "Is your immune system too weak? Variable → immune\n",
    "\n",
    "Set a logical algorithm using boolean logic operators (and/or) and use if-statements with the given variables in order to print out us a message : \"You are in risky group\"(if True ) or \"You are not in risky group\" (if False).\n",
    "\n"
   ]
  },
  {
   "cell_type": "code",
   "execution_count": null,
   "metadata": {
    "id": "ND4QVADGKDNL"
   },
   "outputs": [],
   "source": [
    "age = input(\"How old are you : \")\n",
    "chronic = input(\"Do you have a severe chronic disease?(Yes/No):\").strip().upper()\n",
    "immune = input(\"Do you have a severe chronic disease? (Yes/No)\").strip().upper()\n",
    "cigarette = input(\"Are you a cigarette addict older than 75 years old?(Yes/No)\").strip().upper()\n",
    "\n",
    "\n",
    "if int(age) >= 75 or cigarette.startswith(\"Y\") or immune.startswith(\"N\") or chronic.startswith(\"Y\") :\n",
    "  print(\"You are in risky group!\")\n",
    "else :\n",
    "  print(\"You are not in risky group!\")"
   ]
  },
  {
   "cell_type": "markdown",
   "metadata": {
    "id": "_KE34rCfLAY-"
   },
   "source": [
    "7- Task: Let's say; you left a message in the past that prints a password you need. To see the password you wrote, you need to enter your name and the program should recognize you. Write a program that\n",
    "Takes the first name from the user and compares it to yours,\n",
    "Then if the name the user entered is the same as yours, print out such as :\n",
    "\n",
    "\"Hello, Joseph! The password is : W@12\",\n",
    "\n",
    "If the name the user entered is not the same as yours, print out such as : \n",
    "\n",
    "\"Hello, Amina! See you later.\""
   ]
  },
  {
   "cell_type": "code",
   "execution_count": null,
   "metadata": {
    "id": "XezFtYcfK_8S"
   },
   "outputs": [],
   "source": [
    "name = \"Melek\"\n",
    "password = \"abc123\"\n",
    "name_i = input(\"Please enter your name : \").title().strip()\n",
    "\n",
    "if name_i == name :\n",
    "  print(\"Hello {}!Your password is : {}\".format(name, password))\n",
    "else :\n",
    "  print(\"Hello, {}! See you later\".format(name_i))"
   ]
  },
  {
   "cell_type": "markdown",
   "metadata": {
    "id": "tOGLns1XLhgl"
   },
   "source": [
    "8- Find out if a given number is an \"Armstrong Number\".\n",
    "\n",
    "An n-digit number that is the sum of the nth powers of its digits is called an n-Armstrong number. Examples :\n",
    "\n",
    "371 = 33 + 73 + 13;\n",
    "\n",
    "9474 = 94 + 44 + 74 + 44;\n",
    "\n",
    "93084 = 95 + 35 + 05 + 85 + 45.\n",
    "\n",
    "Write a Python program that;\n",
    "\n",
    "takes a positive integer number from the user,\n",
    "\n",
    "checks the entered number if it is Armstrong,\n",
    "\n",
    "consider the negative, float and any entries other than numeric values then display a warning message to the user.\n",
    "\n",
    "Examples\n",
    "\n",
    "Sample inputs       \t    Outputs\n",
    "\n",
    "407                     \t407 is an Armstrong number\n",
    "\n",
    "5\t                        5 is an Armstrong number\n",
    "\n",
    "-153\t                    It is an invalid entry. Don't use non-numeric, float, \n",
    "or negative values!\n",
    "\n",
    "153.87 or 153,87\t        It is an invalid entry. Don't use non-numeric, float, or negative values!\n",
    "\n",
    "one\t                        It is an invalid entry. Don't use non-numeric, \n",
    "float, or negative values!\n",
    "\n",
    "121\t                        121 is not an Armstrong number\n"
   ]
  },
  {
   "cell_type": "code",
   "execution_count": null,
   "metadata": {
    "id": "7TS7R-5lLSF2"
   },
   "outputs": [],
   "source": [
    "while True :\n",
    "    \n",
    "    number = input(\"enter a positive integer number :\")\n",
    "    digits = len(number)\n",
    "    summ = 0\n",
    "    \n",
    "    if not number.isdigit() :\n",
    "        print(number, \" is invalid entry. Enter valid input.\")\n",
    "        \n",
    "    elif int(number) >= 0 :\n",
    "        for i in range(digits) :\n",
    "            \n",
    "            summ = summ + int(number[i]) ** digits\n",
    "        \n",
    "        if summ == int(number):\n",
    "            print(number, \" is an Armstrong Number\")\n",
    "            break\n",
    "            \n",
    "        else :\n",
    "            print(number, \"is not an Armstrong Number\")\n",
    "            break\n",
    "        "
   ]
  },
  {
   "cell_type": "markdown",
   "metadata": {
    "id": "DDyo8D53L9ke"
   },
   "source": [
    "9- Task : Write a program that takes a number from the user and prints the result to check if it is a prime number.\n",
    "The examples of the desired output are as follows :\n",
    "\n",
    "input →  19 ⇉ output : 19 is a prime number\n",
    "\n",
    "input →  10 ⇉ output : 10 is not a prime number"
   ]
  },
  {
   "cell_type": "code",
   "execution_count": null,
   "metadata": {
    "colab": {
     "base_uri": "https://localhost:8080/"
    },
    "id": "3l_LL7cJMLy6",
    "outputId": "53eeff05-6b42-4286-8f1c-84670c249b66"
   },
   "outputs": [
    {
     "name": "stdout",
     "output_type": "stream",
     "text": [
      "Enter a positive number to check if it is a Prime Number15\n",
      "15  is not a Prime Number\n"
     ]
    }
   ],
   "source": [
    "n = int(input(\"Enter a positive number to check if it is a Prime Number\"))\n",
    "counter = 0\n",
    "\n",
    "for i in range(1, n+1) :\n",
    "    if n % i == 0 :\n",
    "        counter += 1\n",
    "        \n",
    "if (n == 0) or (n == 1) or (counter >= 3) :\n",
    "    print(n, \" is not a Prime Number\")\n",
    "    \n",
    "else :\n",
    "    print(n, \" is a Prime Number\")"
   ]
  },
  {
   "cell_type": "markdown",
   "metadata": {
    "id": "Dc5A8QhStbis"
   },
   "source": [
    "10- Problem : If you had deposited a coin on the cryptocurrency exchange that brought 7% fixed profit daily for a week, how much would your $ 1000 reach at the end of the 7th day?\n",
    "\n"
   ]
  },
  {
   "cell_type": "code",
   "execution_count": null,
   "metadata": {
    "id": "Ej6B2k1wtZ3a"
   },
   "outputs": [],
   "source": [
    "money = 1000\n",
    "profit = 0.07\n",
    "# money = money + (money * profit)   (end of first day)\n",
    "money = money * 1.07 ** 7\n",
    "print(money)"
   ]
  },
  {
   "cell_type": "markdown",
   "metadata": {
    "id": "3pC-CHYguhYf"
   },
   "source": [
    "11- Task : Create a list consisting of Fibonacci numbers from 1 to 55 using control flow statements.\n",
    "\n",
    "The desired output is like :\n",
    "\n",
    "fibonacci →  [1, 1, 2, 3, 5, 8, 13, 21, 34, 55]"
   ]
  },
  {
   "cell_type": "code",
   "execution_count": null,
   "metadata": {
    "colab": {
     "base_uri": "https://localhost:8080/"
    },
    "id": "FTEjT0_X7N31",
    "outputId": "850cd8e9-f558-4c9e-801f-f0fe66b78443"
   },
   "outputs": [
    {
     "name": "stdout",
     "output_type": "stream",
     "text": [
      "[1, 1, 2, 3, 5, 8, 13, 21, 34, 55]\n"
     ]
    }
   ],
   "source": [
    "a,b = 1,1\n",
    "fibo= [a,b] \n",
    "while b < 55 :\n",
    "  a,b = b, a+b\n",
    "  fibo += [b]\n",
    "\n",
    "print(fibo)"
   ]
  },
  {
   "cell_type": "markdown",
   "metadata": {
    "id": "6BkuC-f1hXvv"
   },
   "source": [
    "12-Task : Print the prime numbers which are between 1 to entered limit number (n).\n",
    "\n",
    "You can use a nested for loop.\n",
    "\n",
    "1-Collect all these numbers into a list\n",
    "\n",
    "2-The desired output for n=100 :\n",
    "\n",
    "\n",
    "[2, 3, 5, 7, 11, 13, 17, 19, 23, 29, 31, 37, 41, 43, 47, 53, 59,\n",
    "61, 67, 71, 73, 79, 83, 89, 97]\n",
    "\n",
    "Note that : This question is famous on the web, so to get more benefit from this assignment, try to complete this task on your own."
   ]
  },
  {
   "cell_type": "code",
   "execution_count": null,
   "metadata": {
    "colab": {
     "base_uri": "https://localhost:8080/"
    },
    "id": "AhgPPK3t7wJ4",
    "outputId": "b1b91008-10a8-4ffb-c20c-9024b229f407"
   },
   "outputs": [
    {
     "name": "stdout",
     "output_type": "stream",
     "text": [
      "Please enter a number :11\n",
      "[2, 3, 5, 7, 11]\n"
     ]
    }
   ],
   "source": [
    "n = int(input(\"Please enter a number :\"))\n",
    "prime_num = []\n",
    "for i in range(2,n+1) :\n",
    "  for j in range(2,i) :\n",
    "    if i % j == 0 :\n",
    "      break\n",
    "  else :\n",
    "    prime_num += [i]\n",
    "print(prime_num)\n"
   ]
  },
  {
   "cell_type": "code",
   "execution_count": null,
   "metadata": {
    "colab": {
     "base_uri": "https://localhost:8080/"
    },
    "id": "X46KubCSj7l0",
    "outputId": "84a7005f-f0e0-4721-e3f6-e63ef8e1d86c"
   },
   "outputs": [
    {
     "data": {
      "text/plain": [
       "[2, 3, 5, 7, 11]"
      ]
     },
     "execution_count": 13,
     "metadata": {},
     "output_type": "execute_result"
    }
   ],
   "source": [
    "def list_prime(n) :\n",
    "  prime_num = []\n",
    "  for i in range(2,n+1) :\n",
    "    for j in range(2,i) :\n",
    "      if i % j == 0 :\n",
    "        break\n",
    "    else :\n",
    "      prime_num += [i]\n",
    "  return prime_num\n",
    "  "
   ]
  },
  {
   "cell_type": "code",
   "execution_count": null,
   "metadata": {
    "id": "z817Bjx_mjC6"
   },
   "outputs": [],
   "source": []
  }
 ],
 "metadata": {
  "colab": {
   "collapsed_sections": [],
   "name": "assingments-cohort10.ipynb",
   "provenance": []
  },
  "kernelspec": {
   "display_name": "Python 3 (ipykernel)",
   "language": "python",
   "name": "python3"
  },
  "language_info": {
   "codemirror_mode": {
    "name": "ipython",
    "version": 3
   },
   "file_extension": ".py",
   "mimetype": "text/x-python",
   "name": "python",
   "nbconvert_exporter": "python",
   "pygments_lexer": "ipython3",
   "version": "3.9.7"
  }
 },
 "nbformat": 4,
 "nbformat_minor": 1
}
