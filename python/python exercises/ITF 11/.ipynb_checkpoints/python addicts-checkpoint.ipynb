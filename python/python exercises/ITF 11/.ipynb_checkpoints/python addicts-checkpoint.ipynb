{
 "cells": [
  {
   "cell_type": "markdown",
   "id": "bc8b4751",
   "metadata": {},
   "source": [
    "# Soru 1\n",
    "Get the total number of seconds from the user. Write a program that returns the total seconds in hours, minutes and seconds.\n",
    "For example: 4565436 seconds is 1268 hours, 10 minutes and 36 seconds.\n"
   ]
  },
  {
   "cell_type": "code",
   "execution_count": 2,
   "id": "35807413",
   "metadata": {},
   "outputs": [
    {
     "name": "stdout",
     "output_type": "stream",
     "text": [
      "Please enter total seconds: 4565436\n",
      "4565436 seconds is 1268 hours, 76090 minutes and 36 seconds.\n"
     ]
    }
   ],
   "source": [
    "seconds = int(input(\"Please enter total seconds: \"))\n",
    "minute = seconds // 60\n",
    "remainder_sec = seconds % 60\n",
    "hour = minute // 60\n",
    "print(\"{} seconds is {} hours, {} minutes and {} seconds.\".format(seconds, hour, minute, remainder_sec))"
   ]
  },
  {
   "cell_type": "markdown",
   "id": "645b559e",
   "metadata": {},
   "source": [
    "# Soru 2\n",
    "\n",
    "Write a Python code that find the students who have maximum and minimum average at below. \n",
    "\n",
    "grades={'Student-1': {'Lesson-1': 57, 'Lesson-2': 46, 'Lesson-3': 58, 'Lesson-4': 81, 'Lesson-5': 85}, \n",
    "               'Student-2': {'Lesson-1': 85, 'Lesson-2': 56, 'Lesson-3': 51, 'Lesson-4': 69, 'Lesson-5': 67}, \n",
    "               'Student-3': {'Lesson-1': 68, 'Lesson-2': 76, 'Lesson-3': 87, 'Lesson-4': 57, 'Lesson-5': 56}, \n",
    "               'Student-4': {'Lesson-1': 78, 'Lesson-2': 93, 'Lesson-3': 88, 'Lesson-4': 38, 'Lesson-5': 54}, \n",
    "               'Student-5': {'Lesson-1': 50, 'Lesson-2': 46, 'Lesson-3': 78, 'Lesson-4': 81, 'Lesson-5': 75}}"
   ]
  },
  {
   "cell_type": "code",
   "execution_count": 4,
   "id": "5d074278",
   "metadata": {},
   "outputs": [
    {
     "name": "stdout",
     "output_type": "stream",
     "text": [
      "In this class maximum note is Student-5 70.2 and minimum note is Student-1 65.4\n"
     ]
    }
   ],
   "source": [
    "grades={'Student-1': {'Lesson-1': 57, 'Lesson-2': 46, 'Lesson-3': 58, 'Lesson-4': 81, 'Lesson-5': 85}, \n",
    "               'Student-2': {'Lesson-1': 85, 'Lesson-2': 56, 'Lesson-3': 51, 'Lesson-4': 69, 'Lesson-5': 67}, \n",
    "               'Student-3': {'Lesson-1': 68, 'Lesson-2': 76, 'Lesson-3': 87, 'Lesson-4': 57, 'Lesson-5': 56}, \n",
    "               'Student-4': {'Lesson-1': 78, 'Lesson-2': 93, 'Lesson-3': 88, 'Lesson-4': 38, 'Lesson-5': 54}, \n",
    "               'Student-5': {'Lesson-1': 50, 'Lesson-2': 46, 'Lesson-3': 78, 'Lesson-4': 81, 'Lesson-5': 75}}\n",
    "\n",
    "average_s1 = sum(grades['Student-1'].values()) / len(grades['Student-1'].values())\n",
    "average_s2 = sum(grades['Student-2'].values()) / len(grades['Student-2'].values())\n",
    "average_s3 = sum(grades['Student-3'].values()) / len(grades['Student-3'].values())\n",
    "average_s4 = sum(grades['Student-4'].values()) / len(grades['Student-4'].values())\n",
    "average_s5 = sum(grades['Student-5'].values()) / len(grades['Student-5'].values())\n",
    "class_notes = {'Student-1':average_s1, 'Student-2':average_s2,'Student-3': average_s3,'Student-4': average_s4,\n",
    "               'Student-5':average_s5}\n",
    "max_note_name = max(class_notes)\n",
    "min_note_name = min(class_notes)\n",
    "max_note = max(class_notes.values())\n",
    "min_note = min(class_notes.values())\n",
    "print(f\"In this class maximum note is {max_note_name} {max_note} and minimum note is {min_note_name} {min_note}\")"
   ]
  },
  {
   "cell_type": "markdown",
   "id": "74784267",
   "metadata": {},
   "source": [
    "# SORU 3\n",
    "Write a Python script to concatenate following dictionaries to create a new one.\n",
    "\n",
    "Sample Dictionary :\n",
    "* dic1={1:10, 2:20}\n",
    "* dic2={3:30, 4:40}\n",
    "* dic3={5:50,6:60}\n",
    "* Expected Result : {1: 10, 2: 20, 3: 30, 4: 40, 5: 50, 6: 60}"
   ]
  },
  {
   "cell_type": "code",
   "execution_count": 13,
   "id": "8804e923",
   "metadata": {},
   "outputs": [
    {
     "data": {
      "text/plain": [
       "{1: 10, 2: 20, 3: 30, 4: 40, 5: 50, 6: 60}"
      ]
     },
     "execution_count": 13,
     "metadata": {},
     "output_type": "execute_result"
    }
   ],
   "source": [
    "dic1={1:10, 2:20}\n",
    "dic2={3:30, 4:40}\n",
    "dic3={5:50,6:60}\n",
    "dic4 = {}\n",
    "dic4.update(dic1)\n",
    "dic4.update(dic2)\n",
    "dic4.update(dic3)\n",
    "dic4"
   ]
  },
  {
   "cell_type": "markdown",
   "id": "182dd6c5",
   "metadata": {},
   "source": [
    "# SORU 4"
   ]
  },
  {
   "cell_type": "markdown",
   "id": "b6a8f66c",
   "metadata": {},
   "source": [
    "Program that prints the reverse of the number given in integer format without using a loop, leaving a space between them.\n",
    "For example :\n",
    "num = 7356\n",
    "Output = 6537"
   ]
  },
  {
   "cell_type": "code",
   "execution_count": 2,
   "id": "3d3d8ff1",
   "metadata": {},
   "outputs": [
    {
     "name": "stdout",
     "output_type": "stream",
     "text": [
      "please enter a number : 7536\n",
      "6 3 5 7\n"
     ]
    }
   ],
   "source": [
    "num = int(input(\"please enter a number : \"))\n",
    "print(num % 10, (num % 100 -num % 10 ) // 10, (num % 1000 - num % 100) // 100, (num % 10000 - num % 1000) // 1000)"
   ]
  },
  {
   "cell_type": "code",
   "execution_count": 3,
   "id": "69eddf84",
   "metadata": {},
   "outputs": [
    {
     "name": "stdout",
     "output_type": "stream",
     "text": [
      "6 3 5 7\n"
     ]
    }
   ],
   "source": [
    "num = 7536\n",
    "print(num % 10, (num % 100 -num % 10 ) // 10, (num % 1000 - num % 100) // 100, (num % 10000 - num % 1000) // 1000)"
   ]
  },
  {
   "cell_type": "markdown",
   "id": "8ade531b",
   "metadata": {},
   "source": [
    "# SORU 5"
   ]
  },
  {
   "cell_type": "markdown",
   "id": "ffbe9ac8",
   "metadata": {},
   "source": [
    "Given a list, right rotate the list by n position.\n",
    "\n",
    "Write a program to shift every element of a list to circularly right."
   ]
  },
  {
   "cell_type": "code",
   "execution_count": 4,
   "id": "45db666b",
   "metadata": {},
   "outputs": [
    {
     "name": "stdout",
     "output_type": "stream",
     "text": [
      "3\n"
     ]
    },
    {
     "data": {
      "text/plain": [
       "[4, 5, 6, 1, 2, 3]"
      ]
     },
     "execution_count": 4,
     "metadata": {},
     "output_type": "execute_result"
    }
   ],
   "source": [
    "#kaç birim kaydırmak istediğimiz sayıyı gidiyoruz.\n",
    "num = int(input(\"\"))\n",
    "liste = [1, 2, 3, 4, 5, 6]\n",
    "new_liste = liste[len(liste)- num:] +liste[0:len(liste)- num]\n",
    "new_liste"
   ]
  },
  {
   "cell_type": "markdown",
   "id": "220529d6",
   "metadata": {},
   "source": [
    "# SORU 6"
   ]
  },
  {
   "cell_type": "markdown",
   "id": "bfd9c7a3",
   "metadata": {},
   "source": [
    "Write a program that takes a maximum two-digit (1-99) number from the user and finds the pronunciation of that number. For example:\n",
    "\n",
    "İnput:97\n",
    "\n",
    "Output:Doksan Yedi"
   ]
  },
  {
   "cell_type": "code",
   "execution_count": 17,
   "id": "bb1b1e0f",
   "metadata": {},
   "outputs": [
    {
     "name": "stdout",
     "output_type": "stream",
     "text": [
      "Enter your 2-digit number: 97\n",
      "Doksan Yedi\n"
     ]
    }
   ],
   "source": [
    "num = int(input(\"Enter your 2-digit number: \"))\n",
    "ones = [\"\", \"bir\", \"iki\", \"üç\", \"dört\", \"beş\", \"altı\", \"yedi\", \"sekiz\", \"dokuz\"]\n",
    "tens = [\"\",\"on\", \"yirmi\", \"otuz\", \"kırk\", \"elli\", \"altmış\", \"yetmiş\", \"seksen\", \"doksan\"]\n",
    "digit_ones = num % 10\n",
    "digit_tens = num // 10\n",
    "print(tens[digit_tens].title(), ones[digit_ones].title())"
   ]
  },
  {
   "cell_type": "code",
   "execution_count": 7,
   "id": "412fc7b0",
   "metadata": {},
   "outputs": [
    {
     "name": "stdout",
     "output_type": "stream",
     "text": [
      "90\n",
      "Doksan \n"
     ]
    }
   ],
   "source": [
    "sayı = int(input(\"\"))\n",
    "birler= [\"\", \"Bir\", \"İki\", \"Üç\", \"Dört\", \"Beş\", \"Altı\", \"Yedi\", \"Sekiz\", \"Dokuz\"]\n",
    "onlar= [\"\", \"On\", \"Yirmi\", \"Otuz\", \"Kırk\", \"Elli\", \"Altmış\", \"Yetmiş\", \"Seksen\", \"Doksan\"]\n",
    "\n",
    "birinci_b = sayı % 10\n",
    "ikinci_b = sayı // 10\n",
    "if len(str(sayı)) == 2:\n",
    "  print(onlar[ikinci_b], birler[birinci_b])\n",
    "elif len(str(sayı)) == 1 :\n",
    "  print(birler[birinci_b])"
   ]
  },
  {
   "cell_type": "markdown",
   "id": "c3e7d007",
   "metadata": {},
   "source": [
    "# SORU 7"
   ]
  },
  {
   "cell_type": "markdown",
   "id": "d079b630",
   "metadata": {},
   "source": [
    "Write a program to check if a given string is a Palindrome. A palindrome reads same from front and back e.g.- aba, ccaacc, mom, etc.\n",
    "\n",
    "INPUT: aba\n",
    "\n",
    "OUTPUT: True"
   ]
  },
  {
   "cell_type": "code",
   "execution_count": 3,
   "id": "69bba589",
   "metadata": {},
   "outputs": [
    {
     "name": "stdout",
     "output_type": "stream",
     "text": [
      "berlin\n",
      "False\n"
     ]
    }
   ],
   "source": [
    "word = input(\"\").lower()\n",
    "print(word[::] == word[::-1])"
   ]
  },
  {
   "cell_type": "markdown",
   "id": "e3405039",
   "metadata": {},
   "source": [
    "# SORU 8"
   ]
  },
  {
   "cell_type": "markdown",
   "id": "ab600e47",
   "metadata": {},
   "source": [
    "mail = \"mailto: Clarusway admission@clarusway.com, 6 Haz 2021 Paz, 21:08 tarihinde şunu yazdı:\"\n",
    "\n",
    "Write python code that outputs \"clarusway.com\" from the string in the \"mail\" variable.\n",
    "\n",
    "Expected Output: clarusway.com"
   ]
  },
  {
   "cell_type": "code",
   "execution_count": 1,
   "id": "f9bfd870",
   "metadata": {},
   "outputs": [
    {
     "data": {
      "text/plain": [
       "'clarusway.com'"
      ]
     },
     "execution_count": 1,
     "metadata": {},
     "output_type": "execute_result"
    }
   ],
   "source": [
    "mail = \"mailto: Clarusway admission@clarusway.com, 6 Haz 2021 Paz, 21:08 tarihinde şunu yazdı:\"\n",
    "output = mail[mail.index(\"@\") + 1 : mail.index(\",\")]\n",
    "output"
   ]
  },
  {
   "cell_type": "markdown",
   "id": "23e6bdd6",
   "metadata": {},
   "source": [
    "# SORU 9"
   ]
  },
  {
   "cell_type": "markdown",
   "id": "9ea933cc",
   "metadata": {},
   "source": [
    "Write a Python program to get a string made of the first 2 and the last 2 chars from a given a string. If the string length is less than 2, return instead of the empty string"
   ]
  },
  {
   "cell_type": "code",
   "execution_count": 7,
   "id": "3dc2af1c",
   "metadata": {},
   "outputs": [
    {
     "name": "stdout",
     "output_type": "stream",
     "text": [
      "Clarusway   \n",
      "Cl  \n"
     ]
    }
   ],
   "source": [
    "text = input(\"\")\n",
    "if len(text) < 2 :\n",
    "      word = \"Empty String\"\n",
    "else :\n",
    "      word = text[0:2] + text[-2:]\n",
    "print(word)"
   ]
  },
  {
   "cell_type": "code",
   "execution_count": 5,
   "id": "bacfe77b",
   "metadata": {},
   "outputs": [],
   "source": [
    "Input = 'a'\n",
    "Output = 'Empty String'"
   ]
  },
  {
   "cell_type": "code",
   "execution_count": null,
   "id": "7b131e54",
   "metadata": {},
   "outputs": [],
   "source": [
    "Input = 'Clarusway'\n",
    "Output = 'Clay'"
   ]
  },
  {
   "cell_type": "code",
   "execution_count": null,
   "id": "59146dd6",
   "metadata": {},
   "outputs": [],
   "source": []
  }
 ],
 "metadata": {
  "kernelspec": {
   "display_name": "Python 3 (ipykernel)",
   "language": "python",
   "name": "python3"
  },
  "language_info": {
   "codemirror_mode": {
    "name": "ipython",
    "version": 3
   },
   "file_extension": ".py",
   "mimetype": "text/x-python",
   "name": "python",
   "nbconvert_exporter": "python",
   "pygments_lexer": "ipython3",
   "version": "3.9.7"
  }
 },
 "nbformat": 4,
 "nbformat_minor": 5
}
