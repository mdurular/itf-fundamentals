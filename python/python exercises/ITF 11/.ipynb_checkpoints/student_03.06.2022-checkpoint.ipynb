{
 "cells": [
  {
   "cell_type": "markdown",
   "id": "e2e275d6",
   "metadata": {},
   "source": [
    "# soru 1"
   ]
  },
  {
   "cell_type": "raw",
   "id": "8049887d",
   "metadata": {},
   "source": [
    "Bir dize kabul eden ve rakam ve harf sayısını hesaplayan bir Python programı yazın. \n",
    "Örnek Veri : Python 3.2\n",
    "Beklenen Çıktı :\n",
    "Harfler 6\n",
    "Rakam 2"
   ]
  },
  {
   "cell_type": "code",
   "execution_count": 1,
   "id": "74b0e82a",
   "metadata": {},
   "outputs": [],
   "source": [
    "import string"
   ]
  },
  {
   "cell_type": "code",
   "execution_count": 2,
   "id": "990192b1",
   "metadata": {},
   "outputs": [
    {
     "name": "stdout",
     "output_type": "stream",
     "text": [
      "['Formatter', 'Template', '_ChainMap', '__all__', '__builtins__', '__cached__', '__doc__', '__file__', '__loader__', '__name__', '__package__', '__spec__', '_re', '_sentinel_dict', '_string', 'ascii_letters', 'ascii_lowercase', 'ascii_uppercase', 'capwords', 'digits', 'hexdigits', 'octdigits', 'printable', 'punctuation', 'whitespace']\n"
     ]
    }
   ],
   "source": [
    "print(dir(string))"
   ]
  },
  {
   "cell_type": "code",
   "execution_count": 9,
   "id": "92276f40",
   "metadata": {},
   "outputs": [
    {
     "data": {
      "text/plain": [
       "'!\"#$%&\\'()*+,-./:;<=>?@[\\\\]^_`{|}~'"
      ]
     },
     "execution_count": 9,
     "metadata": {},
     "output_type": "execute_result"
    }
   ],
   "source": [
    "string.punctuation"
   ]
  },
  {
   "cell_type": "code",
   "execution_count": 3,
   "id": "81db41d6",
   "metadata": {},
   "outputs": [
    {
     "data": {
      "text/plain": [
       "'abcdefghijklmnopqrstuvwxyz'"
      ]
     },
     "execution_count": 3,
     "metadata": {},
     "output_type": "execute_result"
    }
   ],
   "source": [
    "string.ascii_lowercase"
   ]
  },
  {
   "cell_type": "code",
   "execution_count": 4,
   "id": "d05e5285",
   "metadata": {},
   "outputs": [
    {
     "data": {
      "text/plain": [
       "'abcdefghijklmnopqrstuvwxyz'"
      ]
     },
     "execution_count": 4,
     "metadata": {},
     "output_type": "execute_result"
    }
   ],
   "source": [
    "harfler = string.ascii_lowercase\n",
    "harfler"
   ]
  },
  {
   "cell_type": "code",
   "execution_count": 5,
   "id": "82076858",
   "metadata": {},
   "outputs": [
    {
     "data": {
      "text/plain": [
       "'0123456789'"
      ]
     },
     "execution_count": 5,
     "metadata": {},
     "output_type": "execute_result"
    }
   ],
   "source": [
    "string.digits"
   ]
  },
  {
   "cell_type": "code",
   "execution_count": 6,
   "id": "58a4b893",
   "metadata": {},
   "outputs": [
    {
     "data": {
      "text/plain": [
       "'0123456789'"
      ]
     },
     "execution_count": 6,
     "metadata": {},
     "output_type": "execute_result"
    }
   ],
   "source": [
    "rakamlar = string.digits\n",
    "rakamlar"
   ]
  },
  {
   "cell_type": "code",
   "execution_count": 8,
   "id": "4131a106",
   "metadata": {},
   "outputs": [
    {
     "name": "stdout",
     "output_type": "stream",
     "text": [
      "Enter a text here >>>Clarusway 2022\n",
      "rakam :  4 harfler :  9\n"
     ]
    }
   ],
   "source": [
    "text = input(\"Enter a text here >>>\")\n",
    "harf, rakam = 0, 0\n",
    "for i in text.lower():\n",
    "    if i in harfler:\n",
    "        harf += 1\n",
    "    elif i in rakamlar:\n",
    "        rakam += 1\n",
    "print(\"rakam : \", rakam, \"harfler : \", harf)\n",
    "    "
   ]
  },
  {
   "cell_type": "markdown",
   "id": "69f9af5a",
   "metadata": {},
   "source": [
    "\n",
    "# soru 2"
   ]
  },
  {
   "cell_type": "markdown",
   "id": "d40312d2",
   "metadata": {},
   "source": [
    "A number is said to be Harshad if it's exactly divisible by the sum of its digits. Create a function that determines whether a number is a Harshad or not.\n",
    "\n",
    "is_harshad(75) ➞ False\n",
    "#7 + 5 = 12\n",
    "#75 is not exactly divisible by 12\n",
    "\n",
    "is_harshad(171) ➞ True\n",
    "#1 + 7 + 1 = 9\n",
    "#9 exactly divides 171\n",
    "\n",
    "is_harshad(481) ➞ True\n",
    "\n",
    "is_harshad(89) ➞ False\n",
    "\n",
    "is_harshad(516) ➞ True\n",
    "\n",
    "is_harshad(200) ➞ True"
   ]
  },
  {
   "cell_type": "code",
   "execution_count": 16,
   "id": "35b38d64",
   "metadata": {},
   "outputs": [
    {
     "name": "stdout",
     "output_type": "stream",
     "text": [
      "Enter an integer >>>75\n",
      "Not Harshad\n"
     ]
    }
   ],
   "source": [
    "num = int(input('Enter an integer >>>'))\n",
    "toplam = 0\n",
    "num = str(num)\n",
    "for i in num:\n",
    "    toplam += int(i)   \n",
    "if int(num) % toplam == 0:\n",
    "    print(\"Harshad\")\n",
    "else:\n",
    "    print(\"Not Harshad\")"
   ]
  },
  {
   "cell_type": "markdown",
   "id": "78f94970",
   "metadata": {},
   "source": [
    "# soru 3"
   ]
  },
  {
   "cell_type": "markdown",
   "id": "41d72f7d",
   "metadata": {},
   "source": [
    "\"Loves me, loves me not\" is a traditional game in which a person plucks off all the petals of a flower one by one, saying the phrase \"Loves me\" and \"Loves me not\" when determining whether the one that they love, loves them back.\n",
    "\n",
    "Given a number of petals, return a string which repeats the phrases \"Loves me\" and \"Loves me not\" for every alternating petal, and return the last phrase in all caps. Remember to put a comma and space between phrases.\n",
    "\n",
    "Loves me, Loves me not, Loves me, Loves me not, LOVES ME"
   ]
  },
  {
   "cell_type": "code",
   "execution_count": 37,
   "id": "867a89f2",
   "metadata": {},
   "outputs": [
    {
     "name": "stdout",
     "output_type": "stream",
     "text": [
      "Enter a number here >>>5\n",
      "Loves me, Loves me not, Loves me, Loves me not, LOVES ME\n"
     ]
    }
   ],
   "source": [
    "num = int(input(\"Enter a number here >>>\"))\n",
    "result = ''\n",
    "text = \"Loves me\"\n",
    "for i in range(1,num+1):\n",
    "    if i % 2 == 0:\n",
    "        res = text + \" not\"\n",
    "    else :\n",
    "        res = text\n",
    "    if i == num:\n",
    "        res = res.upper()\n",
    "    result += res + ', '\n",
    "result = result.rstrip(', ')\n",
    "print(result)\n",
    "\n",
    "#print(f\"{result}\\b\\b\")\n",
    "    "
   ]
  },
  {
   "cell_type": "markdown",
   "id": "34ae6ebe",
   "metadata": {},
   "source": [
    "# soru 4"
   ]
  },
  {
   "cell_type": "markdown",
   "id": "f234a78d",
   "metadata": {},
   "source": [
    "Given a list of words in the singular form, return a set of those words in the plural form if they appear more than once in the list.\n",
    "\n",
    "pluralize([\"cow\", \"pig\", \"cow\", \"cow\"]) ➞ { \"cows\", \"pig\" }\n",
    "\n",
    "pluralize([\"table\", \"table\", \"table\"]) ➞ { \"tables\" }\n",
    "\n",
    "pluralize([\"chair\", \"pencil\", \"arm\"]) ➞ { \"chair\", \"pencil\", \"arm\" }"
   ]
  },
  {
   "cell_type": "code",
   "execution_count": 42,
   "id": "38788dc5",
   "metadata": {},
   "outputs": [
    {
     "name": "stdout",
     "output_type": "stream",
     "text": [
      "{'cats', 'pig', 'cows'}\n"
     ]
    }
   ],
   "source": [
    "liste = [\"cow\", \"pig\", \"cow\", \"cow\", \"cat\", \"cat\"]\n",
    "sonuc = []\n",
    "for i in liste :\n",
    "    if liste.count(i) > 1:\n",
    "        i = i + 's'\n",
    "        sonuc.append(i)\n",
    "    else :\n",
    "        sonuc.append(i)\n",
    "sonuc = set(sonuc)\n",
    "print(sonuc) "
   ]
  },
  {
   "cell_type": "markdown",
   "id": "3a94d3b9",
   "metadata": {},
   "source": [
    "# soru 5"
   ]
  },
  {
   "cell_type": "markdown",
   "id": "94eba67b",
   "metadata": {},
   "source": [
    "mail = \"mailto: Clarusway admission@clarusway.com, 6 Haz 2021 Paz, 21:08 tarihinde şunu yazdı:\"\n",
    "\n",
    "Write python code that outputs \"clarusway.com\" from the string in the \"mail\" variable.\n",
    "\n",
    "Expected Output: clarusway.com"
   ]
  },
  {
   "cell_type": "code",
   "execution_count": 47,
   "id": "421ceb29",
   "metadata": {},
   "outputs": [
    {
     "data": {
      "text/plain": [
       "'clarusway.com'"
      ]
     },
     "execution_count": 47,
     "metadata": {},
     "output_type": "execute_result"
    }
   ],
   "source": [
    "mail = \"mailto: Clarusway admission@clarusway.com, 6 Haz 2021 Paz, 21:08 tarihinde şunu yazdı:\"\n",
    "result = mail[mail.index(\"@\")+1 : mail.index(',')]\n",
    "result"
   ]
  },
  {
   "cell_type": "code",
   "execution_count": 45,
   "id": "a89312fe",
   "metadata": {},
   "outputs": [
    {
     "data": {
      "text/plain": [
       "41"
      ]
     },
     "execution_count": 45,
     "metadata": {},
     "output_type": "execute_result"
    }
   ],
   "source": [
    "mail.index(',')"
   ]
  },
  {
   "cell_type": "markdown",
   "id": "8e15a747",
   "metadata": {},
   "source": [
    "# soru 6 "
   ]
  },
  {
   "cell_type": "markdown",
   "id": "37958646",
   "metadata": {},
   "source": [
    "Write a Python code that find the students who have maximum and minimum average at below.\n",
    "\n",
    "grades={'Student-1': {'Lesson-1': 57, 'Lesson-2': 46, 'Lesson-3': 58, 'Lesson-4': 81, 'Lesson-5': 85}, 'Student-2': {'Lesson-1': 85, 'Lesson-2': 56, 'Lesson-3': 51, 'Lesson-4': 69, 'Lesson-5': 67}, 'Student-3': {'Lesson-1': 68, 'Lesson-2': 76, 'Lesson-3': 87, 'Lesson-4': 57, 'Lesson-5': 56}, 'Student-4': {'Lesson-1': 78, 'Lesson-2': 93, 'Lesson-3': 88, 'Lesson-4': 38, 'Lesson-5': 54}, 'Student-5': {'Lesson-1': 50, 'Lesson-2': 46, 'Lesson-3': 78, 'Lesson-4': 81, 'Lesson-5': 75}}"
   ]
  },
  {
   "cell_type": "code",
   "execution_count": 49,
   "id": "65e65648",
   "metadata": {},
   "outputs": [
    {
     "name": "stdout",
     "output_type": "stream",
     "text": [
      "In this class maximum note is Student-5 70.2 and minimum note is Student-1 65.4\n"
     ]
    }
   ],
   "source": [
    "grades={'Student-1': {'Lesson-1': 57, 'Lesson-2': 46, 'Lesson-3': 58, 'Lesson-4': 81, 'Lesson-5': 85}, \n",
    "        'Student-2': {'Lesson-1': 85, 'Lesson-2': 56, 'Lesson-3': 51, 'Lesson-4': 69, 'Lesson-5': 67}, \n",
    "        'Student-3': {'Lesson-1': 68, 'Lesson-2': 76, 'Lesson-3': 87, 'Lesson-4': 57, 'Lesson-5': 56}, \n",
    "        'Student-4': {'Lesson-1': 78, 'Lesson-2': 93, 'Lesson-3': 88, 'Lesson-4': 38, 'Lesson-5': 54}, \n",
    "        'Student-5': {'Lesson-1': 50, 'Lesson-2': 46, 'Lesson-3': 78, 'Lesson-4': 81, 'Lesson-5': 75}}\n",
    "\n",
    "average_s1 = sum(grades['Student-1'].values()) / len(grades['Student-1'].values())\n",
    "average_s2 = sum(grades['Student-2'].values()) / len(grades['Student-2'].values())\n",
    "average_s3 = sum(grades['Student-3'].values()) / len(grades['Student-3'].values())\n",
    "average_s4 = sum(grades['Student-4'].values()) / len(grades['Student-4'].values())\n",
    "average_s5 = sum(grades['Student-5'].values()) / len(grades['Student-5'].values())\n",
    "\n",
    "class_notes = {'Student-1' : average_s1, 'Student-2' : average_s2, 'Student-3' : average_s3, \n",
    "               'Student-4' : average_s4, 'Student-5' : average_s5}\n",
    "\n",
    "max_note_name = max(class_notes)\n",
    "min_note_name = min(class_notes)\n",
    "\n",
    "max_note = max(class_notes.values())\n",
    "min_note = min(class_notes.values())\n",
    "\n",
    "print(f\"In this class maximum note is {max_note_name} {max_note} and minimum note is {min_note_name} {min_note}\")\n"
   ]
  },
  {
   "cell_type": "markdown",
   "id": "ad079eb7",
   "metadata": {},
   "source": [
    "# soru 7"
   ]
  },
  {
   "cell_type": "markdown",
   "id": "5dccffbd",
   "metadata": {},
   "source": [
    "Given a list, right rotate the list by n position.\n",
    "\n",
    "Write a program to shift every element of a list to circularly right."
   ]
  },
  {
   "cell_type": "code",
   "execution_count": 50,
   "id": "a232fd27",
   "metadata": {},
   "outputs": [
    {
     "name": "stdout",
     "output_type": "stream",
     "text": [
      "2\n"
     ]
    },
    {
     "data": {
      "text/plain": [
       "[5, 6, 1, 2, 3, 4]"
      ]
     },
     "execution_count": 50,
     "metadata": {},
     "output_type": "execute_result"
    }
   ],
   "source": [
    "num = int(input(\"\"))\n",
    "liste = [1, 2, 3, 4, 5, 6]\n",
    "new_liste = liste[len(liste) - num:] + liste[0:len(liste)-num]\n",
    "new_liste"
   ]
  },
  {
   "cell_type": "code",
   "execution_count": 51,
   "id": "0b16e3b5",
   "metadata": {},
   "outputs": [
    {
     "data": {
      "text/plain": [
       "[5, 6]"
      ]
     },
     "execution_count": 51,
     "metadata": {},
     "output_type": "execute_result"
    }
   ],
   "source": [
    "liste[len(liste) - num:] "
   ]
  },
  {
   "cell_type": "code",
   "execution_count": 52,
   "id": "e907db4d",
   "metadata": {},
   "outputs": [
    {
     "data": {
      "text/plain": [
       "[1, 2, 3, 4]"
      ]
     },
     "execution_count": 52,
     "metadata": {},
     "output_type": "execute_result"
    }
   ],
   "source": [
    "liste[0:len(liste)-num]"
   ]
  },
  {
   "cell_type": "markdown",
   "id": "29651fc6",
   "metadata": {},
   "source": [
    "# soru 8 "
   ]
  },
  {
   "cell_type": "markdown",
   "id": "5be25414",
   "metadata": {},
   "source": [
    "Write a program that takes a maximum two-digit (1-99) number from the user and finds the pronunciation of that number. For example:\n",
    "\n",
    "İnput:97\n",
    "\n",
    "Output:Doksan Yedi"
   ]
  },
  {
   "cell_type": "code",
   "execution_count": 64,
   "id": "f7d9b9b2",
   "metadata": {},
   "outputs": [
    {
     "name": "stdout",
     "output_type": "stream",
     "text": [
      "Enter your  max 2-digit number: 88\n",
      "Seksen Sekiz\n"
     ]
    }
   ],
   "source": [
    "num = int(input(\"Enter your  max 2-digit number: \"))\n",
    "ones = [\"\", \"bir\", \"iki\", \"üç\", \"dört\", \"beş\", \"altı\", \"yedi\", \"sekiz\", \"dokuz\"]\n",
    "tens = [\"\",\"on\", \"yirmi\", \"otuz\", \"kırk\", \"elli\", \"altmış\", \"yetmiş\", \"seksen\", \"doksan\"]\n",
    "\n",
    "digit_ones = num % 10\n",
    "digit_tens = num // 10\n",
    "print(tens[digit_tens].title(), ones[digit_ones].title())"
   ]
  },
  {
   "cell_type": "code",
   "execution_count": 61,
   "id": "c113cc32",
   "metadata": {},
   "outputs": [
    {
     "data": {
      "text/plain": [
       "7"
      ]
     },
     "execution_count": 61,
     "metadata": {},
     "output_type": "execute_result"
    }
   ],
   "source": [
    "97%10"
   ]
  },
  {
   "cell_type": "code",
   "execution_count": 60,
   "id": "379b23f2",
   "metadata": {},
   "outputs": [
    {
     "data": {
      "text/plain": [
       "9"
      ]
     },
     "execution_count": 60,
     "metadata": {},
     "output_type": "execute_result"
    }
   ],
   "source": [
    "97//10"
   ]
  },
  {
   "cell_type": "markdown",
   "id": "c9d6f477",
   "metadata": {},
   "source": [
    "# soru 9"
   ]
  },
  {
   "cell_type": "markdown",
   "id": "6548797d",
   "metadata": {},
   "source": [
    "Write a program to check if a given string is a Palindrome. A palindrome reads same from front and back e.g.- aba, ccaacc, mom, etc.\n",
    "\n",
    "INPUT: aba\n",
    "\n",
    "OUTPUT: True"
   ]
  },
  {
   "cell_type": "code",
   "execution_count": 67,
   "id": "b75472ef",
   "metadata": {},
   "outputs": [
    {
     "name": "stdout",
     "output_type": "stream",
     "text": [
      "aba\n",
      "True\n"
     ]
    }
   ],
   "source": [
    "word = input(\"\").lower()\n",
    "print(word[::] == word[::-1])"
   ]
  },
  {
   "cell_type": "markdown",
   "id": "204d728f",
   "metadata": {},
   "source": [
    "# soru 10 ( This Question is optinal, you can  googling)"
   ]
  },
  {
   "cell_type": "markdown",
   "id": "7590b46f",
   "metadata": {},
   "source": [
    "Write a pyhton code, which is a number guessing game that tries to find the number that will be randomly selected from the number sequence from 1 to 100. and indicate in the code that each user has the right to guess 5, deduct 1 right for each wrong guess"
   ]
  },
  {
   "cell_type": "code",
   "execution_count": 75,
   "id": "149e24e0",
   "metadata": {},
   "outputs": [
    {
     "name": "stdout",
     "output_type": "stream",
     "text": [
      "sayı giriniz:55\n",
      "sayıyı düşür\n",
      "sayı giriniz:45\n",
      "sayıyı düşür\n",
      "sayı giriniz:35\n",
      "sayıyı düşür\n",
      "sayı giriniz:25\n",
      "sayıyı yükselt\n",
      "sayı giriniz:30\n",
      "sayıyı yükselt\n",
      "hakkınız bitti, cevap  34\n"
     ]
    }
   ],
   "source": [
    "import random\n",
    "rastgele = random.randint(1,100)\n",
    "hak = 5\n",
    "while True:\n",
    "    kullanıcı = int(input(\"sayı giriniz:\"))\n",
    "    if kullanıcı<rastgele:\n",
    "        hak -= 1\n",
    "        print(\"sayıyı yükselt\")\n",
    "    elif kullanıcı>rastgele:\n",
    "        hak -= 1\n",
    "        print(\"sayıyı düşür\")\n",
    "    else:\n",
    "        print(\"tebrikler\")\n",
    "        break\n",
    "    if hak == 0:\n",
    "        print(\"hakkınız bitti, cevap \", rastgele)\n",
    "        break\n",
    "    "
   ]
  },
  {
   "cell_type": "code",
   "execution_count": 82,
   "id": "4c90712f",
   "metadata": {},
   "outputs": [
    {
     "data": {
      "text/plain": [
       "5"
      ]
     },
     "execution_count": 82,
     "metadata": {},
     "output_type": "execute_result"
    }
   ],
   "source": [
    "random.randint(5,10)"
   ]
  },
  {
   "cell_type": "code",
   "execution_count": null,
   "id": "c5bbd0f5",
   "metadata": {},
   "outputs": [],
   "source": []
  }
 ],
 "metadata": {
  "kernelspec": {
   "display_name": "Python 3 (ipykernel)",
   "language": "python",
   "name": "python3"
  },
  "language_info": {
   "codemirror_mode": {
    "name": "ipython",
    "version": 3
   },
   "file_extension": ".py",
   "mimetype": "text/x-python",
   "name": "python",
   "nbconvert_exporter": "python",
   "pygments_lexer": "ipython3",
   "version": "3.9.7"
  }
 },
 "nbformat": 4,
 "nbformat_minor": 5
}
