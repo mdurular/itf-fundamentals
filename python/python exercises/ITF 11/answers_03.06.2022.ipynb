{
 "cells": [
  {
   "cell_type": "markdown",
   "id": "e2e275d6",
   "metadata": {},
   "source": [
    "# soru 1"
   ]
  },
  {
   "cell_type": "raw",
   "id": "8049887d",
   "metadata": {},
   "source": [
    "Bir dize kabul eden ve rakam ve harf sayısını hesaplayan bir Python programı yazın. \n",
    "Örnek Veri : Python 3.2\n",
    "Beklenen Çıktı :\n",
    "Harfler 6\n",
    "Rakam 2"
   ]
  },
  {
   "cell_type": "code",
   "execution_count": 1,
   "id": "f626d42e",
   "metadata": {},
   "outputs": [],
   "source": [
    "import string"
   ]
  },
  {
   "cell_type": "code",
   "execution_count": 2,
   "id": "0fd0bfba",
   "metadata": {},
   "outputs": [
    {
     "name": "stdout",
     "output_type": "stream",
     "text": [
      "['Formatter', 'Template', '_ChainMap', '__all__', '__builtins__', '__cached__', '__doc__', '__file__', '__loader__', '__name__', '__package__', '__spec__', '_re', '_sentinel_dict', '_string', 'ascii_letters', 'ascii_lowercase', 'ascii_uppercase', 'capwords', 'digits', 'hexdigits', 'octdigits', 'printable', 'punctuation', 'whitespace']\n"
     ]
    }
   ],
   "source": [
    "print(dir(string))"
   ]
  },
  {
   "cell_type": "code",
   "execution_count": 3,
   "id": "dfcd99fd",
   "metadata": {},
   "outputs": [
    {
     "data": {
      "text/plain": [
       "'abcdefghijklmnopqrstuvwxyz'"
      ]
     },
     "execution_count": 3,
     "metadata": {},
     "output_type": "execute_result"
    }
   ],
   "source": [
    "harfler = string.ascii_lowercase\n",
    "harfler"
   ]
  },
  {
   "cell_type": "code",
   "execution_count": 4,
   "id": "92277818",
   "metadata": {},
   "outputs": [
    {
     "data": {
      "text/plain": [
       "'0123456789'"
      ]
     },
     "execution_count": 4,
     "metadata": {},
     "output_type": "execute_result"
    }
   ],
   "source": [
    "rakamlar = string.digits\n",
    "rakamlar"
   ]
  },
  {
   "cell_type": "code",
   "execution_count": 5,
   "id": "58a4b893",
   "metadata": {},
   "outputs": [
    {
     "name": "stdout",
     "output_type": "stream",
     "text": [
      "Enter a text here > afkasf grd43201\n",
      "rakam:  5 harf:  9\n"
     ]
    }
   ],
   "source": [
    "\n",
    "text = input('Enter a text here > ')\n",
    "harf, rakam = 0, 0 # [chr(i) for i in range(97, 112)]\n",
    "for i in text.lower():\n",
    "    if i in harfler:\n",
    "        harf += 1\n",
    "    elif i in rakamlar:\n",
    "        rakam += 1\n",
    "print('rakam: ', rakam, 'harf: ', harf)\n",
    "        "
   ]
  },
  {
   "cell_type": "markdown",
   "id": "69f9af5a",
   "metadata": {},
   "source": [
    "\n",
    "# soru 2"
   ]
  },
  {
   "cell_type": "markdown",
   "id": "d40312d2",
   "metadata": {},
   "source": [
    "A number is said to be Harshad if it's exactly divisible by the sum of its digits. Create a function that determines whether a number is a Harshad or not.\n",
    "\n",
    "is_harshad(75) ➞ False\n",
    "#7 + 5 = 12\n",
    "#75 is not exactly divisible by 12\n",
    "\n",
    "is_harshad(171) ➞ True\n",
    "#1 + 7 + 1 = 9\n",
    "#9 exactly divides 171\n",
    "\n",
    "is_harshad(481) ➞ True\n",
    "\n",
    "is_harshad(89) ➞ False\n",
    "\n",
    "is_harshad(516) ➞ True\n",
    "\n",
    "is_harshad(200) ➞ True"
   ]
  },
  {
   "cell_type": "code",
   "execution_count": 3,
   "id": "653d153a",
   "metadata": {},
   "outputs": [
    {
     "name": "stdout",
     "output_type": "stream",
     "text": [
      "Not Harshad\n"
     ]
    }
   ],
   "source": [
    "num = int(input('Enter an integer > '))\n",
    "toplam = 0\n",
    "num = str(num)\n",
    "for i in num:\n",
    "    toplam += int(i)\n",
    "if int(num) % toplam == 0:\n",
    "    print('Harshad')\n",
    "else:\n",
    "    print('Not Harshad')"
   ]
  },
  {
   "cell_type": "markdown",
   "id": "78f94970",
   "metadata": {},
   "source": [
    "# soru 3"
   ]
  },
  {
   "cell_type": "markdown",
   "id": "41d72f7d",
   "metadata": {},
   "source": [
    "\"Loves me, loves me not\" is a traditional game in which a person plucks off all the petals of a flower one by one, saying the phrase \"Loves me\" and \"Loves me not\" when determining whether the one that they love, loves them back.\n",
    "\n",
    "Given a number of petals, return a string which repeats the phrases \"Loves me\" and \"Loves me not\" for every alternating petal, and return the last phrase in all caps. Remember to put a comma and space between phrases.\n",
    "\n",
    "Loves me, Loves me not, Loves me, Loves me not, LOVES ME"
   ]
  },
  {
   "cell_type": "code",
   "execution_count": 7,
   "id": "5eb22749",
   "metadata": {},
   "outputs": [
    {
     "name": "stdout",
     "output_type": "stream",
     "text": [
      "Loves me, Loves me not, Loves me, Loves me not, LOVES ME\n"
     ]
    }
   ],
   "source": [
    "num = int(input('Enter a number here > '))\n",
    "result = ''\n",
    "text = 'Loves me'\n",
    "for i in range(1, num + 1):\n",
    "    if i % 2 == 0:\n",
    "        res = text + ' not'\n",
    "    else:\n",
    "        res = text\n",
    "    if i == num:\n",
    "        res = res.upper()\n",
    "    result += res + ', '\n",
    "result = result.rstrip(', ')\n",
    "print(result)"
   ]
  },
  {
   "cell_type": "markdown",
   "id": "d0cce88f",
   "metadata": {},
   "source": [
    "# soru 4"
   ]
  },
  {
   "cell_type": "markdown",
   "id": "f234a78d",
   "metadata": {},
   "source": [
    "Given a list of words in the singular form, return a set of those words in the plural form if they appear more than once in the list.\n",
    "\n",
    "pluralize([\"cow\", \"pig\", \"cow\", \"cow\"]) ➞ { \"cows\", \"pig\" }\n",
    "\n",
    "pluralize([\"table\", \"table\", \"table\"]) ➞ { \"tables\" }\n",
    "\n",
    "pluralize([\"chair\", \"pencil\", \"arm\"]) ➞ { \"chair\", \"pencil\", \"arm\" }"
   ]
  },
  {
   "cell_type": "code",
   "execution_count": 9,
   "id": "c0443081",
   "metadata": {},
   "outputs": [
    {
     "name": "stdout",
     "output_type": "stream",
     "text": [
      "{'tables'}\n"
     ]
    }
   ],
   "source": [
    "liste = [\"table\", \"table\", \"table\"]\n",
    "sonuc = []\n",
    "for i in liste:\n",
    "    if liste.count(i) > 1:\n",
    "        i = i + 's'\n",
    "        sonuc.append(i)\n",
    "    else:\n",
    "        sonuc.append(i)\n",
    "sonuc = set(sonuc)\n",
    "print(sonuc)"
   ]
  },
  {
   "cell_type": "markdown",
   "id": "34ae6ebe",
   "metadata": {},
   "source": [
    "# soru 5"
   ]
  },
  {
   "cell_type": "markdown",
   "id": "32788343",
   "metadata": {},
   "source": [
    "mail = \"mailto: Clarusway admission@clarusway.com, 6 Haz 2021 Paz, 21:08 tarihinde şunu yazdı:\"\n",
    "\n",
    "Write python code that outputs \"clarusway.com\" from the string in the \"mail\" variable.\n",
    "\n",
    "Expected Output: clarusway.com"
   ]
  },
  {
   "cell_type": "code",
   "execution_count": 2,
   "id": "a2f11fa2",
   "metadata": {},
   "outputs": [
    {
     "data": {
      "text/plain": [
       "'clarusway.com'"
      ]
     },
     "execution_count": 2,
     "metadata": {},
     "output_type": "execute_result"
    }
   ],
   "source": [
    "mail = \"mailto: Clarusway admission@clarusway.com, 6 Haz 2021 Paz, 21:08 tarihinde şunu yazdı:\"\n",
    "output = mail[mail.index(\"@\") + 1 : mail.index(\",\")]\n",
    "output"
   ]
  },
  {
   "cell_type": "markdown",
   "id": "8e15a747",
   "metadata": {},
   "source": [
    "# soru 6 "
   ]
  },
  {
   "cell_type": "markdown",
   "id": "37958646",
   "metadata": {},
   "source": [
    "Write a Python code that find the students who have maximum and minimum average at below.\n",
    "\n",
    "grades={'Student-1': {'Lesson-1': 57, 'Lesson-2': 46, 'Lesson-3': 58, 'Lesson-4': 81, 'Lesson-5': 85}, 'Student-2': {'Lesson-1': 85, 'Lesson-2': 56, 'Lesson-3': 51, 'Lesson-4': 69, 'Lesson-5': 67}, 'Student-3': {'Lesson-1': 68, 'Lesson-2': 76, 'Lesson-3': 87, 'Lesson-4': 57, 'Lesson-5': 56}, 'Student-4': {'Lesson-1': 78, 'Lesson-2': 93, 'Lesson-3': 88, 'Lesson-4': 38, 'Lesson-5': 54}, 'Student-5': {'Lesson-1': 50, 'Lesson-2': 46, 'Lesson-3': 78, 'Lesson-4': 81, 'Lesson-5': 75}}"
   ]
  },
  {
   "cell_type": "code",
   "execution_count": 10,
   "id": "0ddfff4d",
   "metadata": {},
   "outputs": [
    {
     "name": "stdout",
     "output_type": "stream",
     "text": [
      "In this class maximum note is Student-5 70.2 and minimum note is Student-1 65.4\n"
     ]
    }
   ],
   "source": [
    "grades={'Student-1': {'Lesson-1': 57, 'Lesson-2': 46, 'Lesson-3': 58, 'Lesson-4': 81, 'Lesson-5': 85}, \n",
    "               'Student-2': {'Lesson-1': 85, 'Lesson-2': 56, 'Lesson-3': 51, 'Lesson-4': 69, 'Lesson-5': 67}, \n",
    "               'Student-3': {'Lesson-1': 68, 'Lesson-2': 76, 'Lesson-3': 87, 'Lesson-4': 57, 'Lesson-5': 56}, \n",
    "               'Student-4': {'Lesson-1': 78, 'Lesson-2': 93, 'Lesson-3': 88, 'Lesson-4': 38, 'Lesson-5': 54}, \n",
    "               'Student-5': {'Lesson-1': 50, 'Lesson-2': 46, 'Lesson-3': 78, 'Lesson-4': 81, 'Lesson-5': 75}}\n",
    "\n",
    "average_s1 = sum(grades['Student-1'].values()) / len(grades['Student-1'].values())\n",
    "average_s2 = sum(grades['Student-2'].values()) / len(grades['Student-2'].values())\n",
    "average_s3 = sum(grades['Student-3'].values()) / len(grades['Student-3'].values())\n",
    "average_s4 = sum(grades['Student-4'].values()) / len(grades['Student-4'].values())\n",
    "average_s5 = sum(grades['Student-5'].values()) / len(grades['Student-5'].values())\n",
    "class_notes = {'Student-1':average_s1, 'Student-2':average_s2,'Student-3': average_s3,'Student-4': average_s4,\n",
    "               'Student-5':average_s5}\n",
    "max_note_name = max(class_notes)\n",
    "min_note_name = min(class_notes)\n",
    "max_note = max(class_notes.values())\n",
    "min_note = min(class_notes.values())\n",
    "print(f\"In this class maximum note is {max_note_name} {max_note} and minimum note is {min_note_name} {min_note}\")"
   ]
  },
  {
   "cell_type": "markdown",
   "id": "ad079eb7",
   "metadata": {},
   "source": [
    "# soru 7"
   ]
  },
  {
   "cell_type": "markdown",
   "id": "5dccffbd",
   "metadata": {},
   "source": [
    "Given a list, right rotate the list by n position.\n",
    "\n",
    "Write a program to shift every element of a list to circularly right."
   ]
  },
  {
   "cell_type": "code",
   "execution_count": 9,
   "id": "6994ef1d",
   "metadata": {},
   "outputs": [
    {
     "data": {
      "text/plain": [
       "[5, 6, 1, 2, 3, 4]"
      ]
     },
     "execution_count": 9,
     "metadata": {},
     "output_type": "execute_result"
    }
   ],
   "source": [
    "#kaç birim kaydırmak istediğimiz sayıyı gidiyoruz.\n",
    "num = int(input(\"\"))\n",
    "liste = [1, 2, 3, 4, 5, 6]\n",
    "new_liste = liste[len(liste)- num:] +liste[0:len(liste)- num]\n",
    "new_liste"
   ]
  },
  {
   "cell_type": "markdown",
   "id": "29651fc6",
   "metadata": {},
   "source": [
    "# soru 8 "
   ]
  },
  {
   "cell_type": "markdown",
   "id": "5be25414",
   "metadata": {},
   "source": [
    "Write a program that takes a maximum two-digit (1-99) number from the user and finds the pronunciation of that number. For example:\n",
    "\n",
    "İnput:97\n",
    "\n",
    "Output:Doksan Yedi"
   ]
  },
  {
   "cell_type": "code",
   "execution_count": 10,
   "id": "741b2cc7",
   "metadata": {},
   "outputs": [
    {
     "name": "stdout",
     "output_type": "stream",
     "text": [
      "Yirmi Beş\n"
     ]
    }
   ],
   "source": [
    "num = int(input(\"Enter your 2-digit number: \"))\n",
    "ones = [\"\", \"bir\", \"iki\", \"üç\", \"dört\", \"beş\", \"altı\", \"yedi\", \"sekiz\", \"dokuz\"]\n",
    "tens = [\"\",\"on\", \"yirmi\", \"otuz\", \"kırk\", \"elli\", \"altmış\", \"yetmiş\", \"seksen\", \"doksan\"]\n",
    "digit_ones = num % 10\n",
    "digit_tens = num // 10\n",
    "print(tens[digit_tens].title(), ones[digit_ones].title())"
   ]
  },
  {
   "cell_type": "code",
   "execution_count": 18,
   "id": "182b5b13",
   "metadata": {},
   "outputs": [
    {
     "name": "stdout",
     "output_type": "stream",
     "text": [
      "\n"
     ]
    }
   ],
   "source": [
    "sayı = int(input(\"\"))\n",
    "birler= [\"\", \"Bir\", \"İki\", \"Üç\", \"Dört\", \"Beş\", \"Altı\", \"Yedi\", \"Sekiz\", \"Dokuz\"]\n",
    "onlar= [\"\", \"On\", \"Yirmi\", \"Otuz\", \"Kırk\", \"Elli\", \"Altmış\", \"Yetmiş\", \"Seksen\", \"Doksan\"]\n",
    "\n",
    "birinci_b = sayı % 10\n",
    "ikinci_b = sayı // 10\n",
    "if len(str(sayı)) == 2:\n",
    "  print(onlar[ikinci_b], birler[birinci_b])\n",
    "elif len(str(sayı)) == 1 :\n",
    "  print(birler[birinci_b])"
   ]
  },
  {
   "cell_type": "markdown",
   "id": "c9d6f477",
   "metadata": {},
   "source": [
    "# soru 9"
   ]
  },
  {
   "cell_type": "markdown",
   "id": "6548797d",
   "metadata": {},
   "source": [
    "Write a program to check if a given string is a Palindrome. A palindrome reads same from front and back e.g.- aba, ccaacc, mom, etc.\n",
    "\n",
    "INPUT: aba\n",
    "\n",
    "OUTPUT: True"
   ]
  },
  {
   "cell_type": "code",
   "execution_count": 15,
   "id": "c67b6eb3",
   "metadata": {},
   "outputs": [
    {
     "name": "stdout",
     "output_type": "stream",
     "text": [
      "Berlin\n",
      "False\n"
     ]
    }
   ],
   "source": [
    "word = input(\"\").lower()\n",
    "print(word[::] == word[::-1])"
   ]
  },
  {
   "cell_type": "markdown",
   "id": "204d728f",
   "metadata": {},
   "source": [
    "# soru 10 ( This Question is optinal, you can  googling)"
   ]
  },
  {
   "cell_type": "markdown",
   "id": "7590b46f",
   "metadata": {},
   "source": [
    "Write a pyhton code, which is a number guessing game that tries to find the number that will be randomly selected from the number sequence from 1 to 100. and indicate in the code that each user has the right to guess 5, deduct 1 right for each wrong guess"
   ]
  },
  {
   "cell_type": "code",
   "execution_count": 18,
   "id": "d1ad7b17",
   "metadata": {},
   "outputs": [
    {
     "name": "stdout",
     "output_type": "stream",
     "text": [
      "sayı giriniz:3\n",
      "sayıyı yükselt\n",
      "sayı giriniz:5\n",
      "sayıyı yükselt\n",
      "sayı giriniz:3\n",
      "sayıyı yükselt\n",
      "sayı giriniz:5\n",
      "sayıyı yükselt\n",
      "sayı giriniz:8\n",
      "sayıyı yükselt\n",
      "hakkınız bitti, cevap  84\n"
     ]
    }
   ],
   "source": [
    "import random\n",
    "rastgele = random.randint(1,100)\n",
    "hak = 5\n",
    "while True:\n",
    "    kullanıcı = int(input(\"sayı giriniz:\"))\n",
    "    if kullanıcı<rastgele:\n",
    "        hak -= 1\n",
    "        print(\"sayıyı yükselt\")\n",
    "    elif kullanıcı>rastgele:\n",
    "        hak -= 1\n",
    "        print(\"sayıyı düşür\")\n",
    "    else:\n",
    "        print(\"tebrikler\")\n",
    "        break\n",
    "    if hak == 0:\n",
    "        print(\"hakkınız bitti, cevap \", rastgele)\n",
    "        break"
   ]
  },
  {
   "cell_type": "code",
   "execution_count": 17,
   "id": "ca3c6b71",
   "metadata": {},
   "outputs": [
    {
     "data": {
      "text/plain": [
       "54"
      ]
     },
     "execution_count": 17,
     "metadata": {},
     "output_type": "execute_result"
    }
   ],
   "source": [
    "rastgele"
   ]
  },
  {
   "cell_type": "code",
   "execution_count": null,
   "id": "149e24e0",
   "metadata": {},
   "outputs": [],
   "source": []
  }
 ],
 "metadata": {
  "interpreter": {
   "hash": "9f92a9713374112b341642c37812d790d886f29abd9501a84ecfeec05a02d210"
  },
  "kernelspec": {
   "display_name": "Python 3 (ipykernel)",
   "language": "python",
   "name": "python3"
  },
  "language_info": {
   "codemirror_mode": {
    "name": "ipython",
    "version": 3
   },
   "file_extension": ".py",
   "mimetype": "text/x-python",
   "name": "python",
   "nbconvert_exporter": "python",
   "pygments_lexer": "ipython3",
   "version": "3.9.7"
  }
 },
 "nbformat": 4,
 "nbformat_minor": 5
}
