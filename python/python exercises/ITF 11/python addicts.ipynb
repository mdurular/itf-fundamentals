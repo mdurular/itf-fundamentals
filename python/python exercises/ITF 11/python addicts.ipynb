{
 "cells": [
  {
   "cell_type": "markdown",
   "id": "bc8b4751",
   "metadata": {},
   "source": [
    "# Soru 1\n",
    "Get the total number of seconds from the user. Write a program that returns the total seconds in hours, minutes and seconds.\n",
    "For example: 4565436 seconds is 1268 hours, 10 minutes and 36 seconds.\n"
   ]
  },
  {
   "cell_type": "code",
   "execution_count": 2,
   "id": "35807413",
   "metadata": {},
   "outputs": [
    {
     "name": "stdout",
     "output_type": "stream",
     "text": [
      "Please enter total seconds: 4565436\n",
      "4565436 seconds is 1268 hours, 76090 minutes and 36 seconds.\n"
     ]
    }
   ],
   "source": [
    "seconds = int(input(\"Please enter total seconds: \"))\n",
    "minute = seconds // 60\n",
    "remainder_sec = seconds % 60\n",
    "hour = minute // 60\n",
    "print(\"{} seconds is {} hours, {} minutes and {} seconds.\".format(seconds, hour, minute, remainder_sec))"
   ]
  },
  {
   "cell_type": "markdown",
   "id": "645b559e",
   "metadata": {},
   "source": [
    "# Soru 2\n",
    "\n",
    "Write a Python code that find the students who have maximum and minimum average at below. \n",
    "\n",
    "grades={'Student-1': {'Lesson-1': 57, 'Lesson-2': 46, 'Lesson-3': 58, 'Lesson-4': 81, 'Lesson-5': 85}, \n",
    "               'Student-2': {'Lesson-1': 85, 'Lesson-2': 56, 'Lesson-3': 51, 'Lesson-4': 69, 'Lesson-5': 67}, \n",
    "               'Student-3': {'Lesson-1': 68, 'Lesson-2': 76, 'Lesson-3': 87, 'Lesson-4': 57, 'Lesson-5': 56}, \n",
    "               'Student-4': {'Lesson-1': 78, 'Lesson-2': 93, 'Lesson-3': 88, 'Lesson-4': 38, 'Lesson-5': 54}, \n",
    "               'Student-5': {'Lesson-1': 50, 'Lesson-2': 46, 'Lesson-3': 78, 'Lesson-4': 81, 'Lesson-5': 75}}"
   ]
  },
  {
   "cell_type": "code",
   "execution_count": 4,
   "id": "5d074278",
   "metadata": {},
   "outputs": [
    {
     "name": "stdout",
     "output_type": "stream",
     "text": [
      "In this class maximum note is Student-5 70.2 and minimum note is Student-1 65.4\n"
     ]
    }
   ],
   "source": [
    "grades={'Student-1': {'Lesson-1': 57, 'Lesson-2': 46, 'Lesson-3': 58, 'Lesson-4': 81, 'Lesson-5': 85}, \n",
    "               'Student-2': {'Lesson-1': 85, 'Lesson-2': 56, 'Lesson-3': 51, 'Lesson-4': 69, 'Lesson-5': 67}, \n",
    "               'Student-3': {'Lesson-1': 68, 'Lesson-2': 76, 'Lesson-3': 87, 'Lesson-4': 57, 'Lesson-5': 56}, \n",
    "               'Student-4': {'Lesson-1': 78, 'Lesson-2': 93, 'Lesson-3': 88, 'Lesson-4': 38, 'Lesson-5': 54}, \n",
    "               'Student-5': {'Lesson-1': 50, 'Lesson-2': 46, 'Lesson-3': 78, 'Lesson-4': 81, 'Lesson-5': 75}}\n",
    "\n",
    "average_s1 = sum(grades['Student-1'].values()) / len(grades['Student-1'].values())\n",
    "average_s2 = sum(grades['Student-2'].values()) / len(grades['Student-2'].values())\n",
    "average_s3 = sum(grades['Student-3'].values()) / len(grades['Student-3'].values())\n",
    "average_s4 = sum(grades['Student-4'].values()) / len(grades['Student-4'].values())\n",
    "average_s5 = sum(grades['Student-5'].values()) / len(grades['Student-5'].values())\n",
    "class_notes = {'Student-1':average_s1, 'Student-2':average_s2,'Student-3': average_s3,'Student-4': average_s4,\n",
    "               'Student-5':average_s5}\n",
    "max_note_name = max(class_notes)\n",
    "min_note_name = min(class_notes)\n",
    "max_note = max(class_notes.values())\n",
    "min_note = min(class_notes.values())\n",
    "print(f\"In this class maximum note is {max_note_name} {max_note} and minimum note is {min_note_name} {min_note}\")"
   ]
  },
  {
   "cell_type": "markdown",
   "id": "74784267",
   "metadata": {},
   "source": [
    "# SORU 3\n",
    "Write a Python script to concatenate following dictionaries to create a new one.\n",
    "\n",
    "Sample Dictionary :\n",
    "* dic1={1:10, 2:20}\n",
    "* dic2={3:30, 4:40}\n",
    "* dic3={5:50,6:60}\n",
    "* Expected Result : {1: 10, 2: 20, 3: 30, 4: 40, 5: 50, 6: 60}"
   ]
  },
  {
   "cell_type": "code",
   "execution_count": 13,
   "id": "8804e923",
   "metadata": {},
   "outputs": [
    {
     "data": {
      "text/plain": [
       "{1: 10, 2: 20, 3: 30, 4: 40, 5: 50, 6: 60}"
      ]
     },
     "execution_count": 13,
     "metadata": {},
     "output_type": "execute_result"
    }
   ],
   "source": [
    "dic1={1:10, 2:20}\n",
    "dic2={3:30, 4:40}\n",
    "dic3={5:50,6:60}\n",
    "dic4 = {}\n",
    "dic4.update(dic1)\n",
    "dic4.update(dic2)\n",
    "dic4.update(dic3)\n",
    "dic4"
   ]
  },
  {
   "cell_type": "markdown",
   "id": "182dd6c5",
   "metadata": {},
   "source": [
    "# SORU 4"
   ]
  },
  {
   "cell_type": "markdown",
   "id": "b6a8f66c",
   "metadata": {},
   "source": [
    "Program that prints the reverse of the number given in integer format without using a loop, leaving a space between them.\n",
    "For example :\n",
    "num = 7356\n",
    "Output = 6537"
   ]
  },
  {
   "cell_type": "code",
   "execution_count": 2,
   "id": "3d3d8ff1",
   "metadata": {},
   "outputs": [
    {
     "name": "stdout",
     "output_type": "stream",
     "text": [
      "please enter a number : 7536\n",
      "6 3 5 7\n"
     ]
    }
   ],
   "source": [
    "num = int(input(\"please enter a number : \"))\n",
    "print(num % 10, (num % 100 -num % 10 ) // 10, (num % 1000 - num % 100) // 100, (num % 10000 - num % 1000) // 1000)"
   ]
  },
  {
   "cell_type": "code",
   "execution_count": 3,
   "id": "69eddf84",
   "metadata": {},
   "outputs": [
    {
     "name": "stdout",
     "output_type": "stream",
     "text": [
      "6 3 5 7\n"
     ]
    }
   ],
   "source": [
    "num = 7536\n",
    "print(num % 10, (num % 100 -num % 10 ) // 10, (num % 1000 - num % 100) // 100, (num % 10000 - num % 1000) // 1000)"
   ]
  },
  {
   "cell_type": "markdown",
   "id": "8ade531b",
   "metadata": {},
   "source": [
    "# SORU 5"
   ]
  },
  {
   "cell_type": "markdown",
   "id": "ffbe9ac8",
   "metadata": {},
   "source": [
    "Given a list, right rotate the list by n position.\n",
    "\n",
    "Write a program to shift every element of a list to circularly right."
   ]
  },
  {
   "cell_type": "code",
   "execution_count": 4,
   "id": "45db666b",
   "metadata": {},
   "outputs": [
    {
     "name": "stdout",
     "output_type": "stream",
     "text": [
      "3\n"
     ]
    },
    {
     "data": {
      "text/plain": [
       "[4, 5, 6, 1, 2, 3]"
      ]
     },
     "execution_count": 4,
     "metadata": {},
     "output_type": "execute_result"
    }
   ],
   "source": [
    "#kaç birim kaydırmak istediğimiz sayıyı gidiyoruz.\n",
    "num = int(input(\"\"))\n",
    "liste = [1, 2, 3, 4, 5, 6]\n",
    "new_liste = liste[len(liste)- num:] +liste[0:len(liste)- num]\n",
    "new_liste"
   ]
  },
  {
   "cell_type": "markdown",
   "id": "220529d6",
   "metadata": {},
   "source": [
    "# SORU 6"
   ]
  },
  {
   "cell_type": "markdown",
   "id": "bfd9c7a3",
   "metadata": {},
   "source": [
    "Write a program that takes a maximum two-digit (1-99) number from the user and finds the pronunciation of that number. For example:\n",
    "\n",
    "İnput:97\n",
    "\n",
    "Output:Doksan Yedi"
   ]
  },
  {
   "cell_type": "code",
   "execution_count": 17,
   "id": "bb1b1e0f",
   "metadata": {},
   "outputs": [
    {
     "name": "stdout",
     "output_type": "stream",
     "text": [
      "Enter your 2-digit number: 97\n",
      "Doksan Yedi\n"
     ]
    }
   ],
   "source": [
    "num = int(input(\"Enter your 2-digit number: \"))\n",
    "ones = [\"\", \"bir\", \"iki\", \"üç\", \"dört\", \"beş\", \"altı\", \"yedi\", \"sekiz\", \"dokuz\"]\n",
    "tens = [\"\",\"on\", \"yirmi\", \"otuz\", \"kırk\", \"elli\", \"altmış\", \"yetmiş\", \"seksen\", \"doksan\"]\n",
    "digit_ones = num % 10\n",
    "digit_tens = num // 10\n",
    "print(tens[digit_tens].title(), ones[digit_ones].title())"
   ]
  },
  {
   "cell_type": "code",
   "execution_count": 7,
   "id": "412fc7b0",
   "metadata": {},
   "outputs": [
    {
     "name": "stdout",
     "output_type": "stream",
     "text": [
      "90\n",
      "Doksan \n"
     ]
    }
   ],
   "source": [
    "sayı = int(input(\"\"))\n",
    "birler= [\"\", \"Bir\", \"İki\", \"Üç\", \"Dört\", \"Beş\", \"Altı\", \"Yedi\", \"Sekiz\", \"Dokuz\"]\n",
    "onlar= [\"\", \"On\", \"Yirmi\", \"Otuz\", \"Kırk\", \"Elli\", \"Altmış\", \"Yetmiş\", \"Seksen\", \"Doksan\"]\n",
    "\n",
    "birinci_b = sayı % 10\n",
    "ikinci_b = sayı // 10\n",
    "if len(str(sayı)) == 2:\n",
    "  print(onlar[ikinci_b], birler[birinci_b])\n",
    "elif len(str(sayı)) == 1 :\n",
    "  print(birler[birinci_b])"
   ]
  },
  {
   "cell_type": "markdown",
   "id": "c3e7d007",
   "metadata": {},
   "source": [
    "# SORU 7"
   ]
  },
  {
   "cell_type": "markdown",
   "id": "d079b630",
   "metadata": {},
   "source": [
    "Write a program to check if a given string is a Palindrome. A palindrome reads same from front and back e.g.- aba, ccaacc, mom, etc.\n",
    "\n",
    "INPUT: aba\n",
    "\n",
    "OUTPUT: True"
   ]
  },
  {
   "cell_type": "code",
   "execution_count": 3,
   "id": "69bba589",
   "metadata": {},
   "outputs": [
    {
     "name": "stdout",
     "output_type": "stream",
     "text": [
      "berlin\n",
      "False\n"
     ]
    }
   ],
   "source": [
    "word = input(\"\").lower()\n",
    "print(word[::] == word[::-1])"
   ]
  },
  {
   "cell_type": "markdown",
   "id": "e3405039",
   "metadata": {},
   "source": [
    "# SORU 8"
   ]
  },
  {
   "cell_type": "markdown",
   "id": "ab600e47",
   "metadata": {},
   "source": [
    "mail = \"mailto: Clarusway admission@clarusway.com, 6 Haz 2021 Paz, 21:08 tarihinde şunu yazdı:\"\n",
    "\n",
    "Write python code that outputs \"clarusway.com\" from the string in the \"mail\" variable.\n",
    "\n",
    "Expected Output: clarusway.com"
   ]
  },
  {
   "cell_type": "code",
   "execution_count": 1,
   "id": "f9bfd870",
   "metadata": {},
   "outputs": [
    {
     "data": {
      "text/plain": [
       "'clarusway.com'"
      ]
     },
     "execution_count": 1,
     "metadata": {},
     "output_type": "execute_result"
    }
   ],
   "source": [
    "mail = \"mailto: Clarusway admission@clarusway.com, 6 Haz 2021 Paz, 21:08 tarihinde şunu yazdı:\"\n",
    "output = mail[mail.index(\"@\") + 1 : mail.index(\",\")]\n",
    "output"
   ]
  },
  {
   "cell_type": "markdown",
   "id": "23e6bdd6",
   "metadata": {},
   "source": [
    "# SORU 9"
   ]
  },
  {
   "cell_type": "markdown",
   "id": "9ea933cc",
   "metadata": {},
   "source": [
    "Write a Python program to get a string made of the first 2 and the last 2 chars from a given a string. If the string length is less than 2, return instead of the empty string"
   ]
  },
  {
   "cell_type": "code",
   "execution_count": 7,
   "id": "3dc2af1c",
   "metadata": {},
   "outputs": [
    {
     "name": "stdout",
     "output_type": "stream",
     "text": [
      "Clarusway   \n",
      "Cl  \n"
     ]
    }
   ],
   "source": [
    "text = input(\"\")\n",
    "if len(text) < 2 :\n",
    "      word = \"Empty String\"\n",
    "else :\n",
    "      word = text[0:2] + text[-2:]\n",
    "print(word)"
   ]
  },
  {
   "cell_type": "code",
   "execution_count": 5,
   "id": "bacfe77b",
   "metadata": {},
   "outputs": [],
   "source": [
    "Input = 'a'\n",
    "Output = 'Empty String'"
   ]
  },
  {
   "cell_type": "code",
   "execution_count": null,
   "id": "7b131e54",
   "metadata": {},
   "outputs": [],
   "source": [
    "Input = 'Clarusway'\n",
    "Output = 'Clay'"
   ]
  },
  {
   "cell_type": "markdown",
   "id": "664db984",
   "metadata": {},
   "source": [
    "# SORU 10"
   ]
  },
  {
   "cell_type": "markdown",
   "id": "46a94130",
   "metadata": {},
   "source": [
    "Kullanıcıdan integer bir değer alan ve sayının pozitif-çift sayı olup olmadığını \n",
    "kontrol eden program yazınız. Girilen sayıların muhtemel farklı durumlarını göz önünde bulundurunuz. \n"
   ]
  },
  {
   "cell_type": "code",
   "execution_count": 1,
   "id": "d7507d2b",
   "metadata": {},
   "outputs": [
    {
     "name": "stdout",
     "output_type": "stream",
     "text": [
      "Enter a number:0\n",
      "It is an invalid entry. Don't use non-numeric, float, or negative values!\n"
     ]
    }
   ],
   "source": [
    "num = (input(\"Enter a number:\"))\n",
    "if num.isdigit():\n",
    "    num1 = int(num)\n",
    "    if num1 > 0:\n",
    "        if num1 % 2 == 0: \n",
    "            print(num, \"is a even number\")\n",
    "        else:\n",
    "            print(num, \"is a odd number\")\n",
    "    else:\n",
    "        print(\"It is an invalid entry. Don't use non-numeric, float, or negative values!\")\n",
    "else:\n",
    "    print(\"It is an invalid entry. Don't use non-numeric, float, or negative values!\")"
   ]
  },
  {
   "cell_type": "code",
   "execution_count": 11,
   "id": "20f632a1",
   "metadata": {},
   "outputs": [
    {
     "data": {
      "text/plain": [
       "True"
      ]
     },
     "execution_count": 11,
     "metadata": {},
     "output_type": "execute_result"
    }
   ],
   "source": [
    "num = \"100\"\n",
    "num.isdigit()"
   ]
  },
  {
   "cell_type": "code",
   "execution_count": 12,
   "id": "a8a42b26",
   "metadata": {},
   "outputs": [
    {
     "data": {
      "text/plain": [
       "True"
      ]
     },
     "execution_count": 12,
     "metadata": {},
     "output_type": "execute_result"
    }
   ],
   "source": [
    "num = \"0\"\n",
    "num.isdigit()"
   ]
  },
  {
   "cell_type": "markdown",
   "id": "8c1998d1",
   "metadata": {},
   "source": [
    "# SORU 11"
   ]
  },
  {
   "cell_type": "markdown",
   "id": "681405d1",
   "metadata": {},
   "source": [
    "Given a function that accepts unlimited arguments, check and count how many data types are in those arguments. Finally return the total in a list.\n",
    "\n",
    "List order is:\n",
    "\n",
    "[int, str, bool, list, tuple, dictionary]\n",
    "\n",
    "Examples\n",
    "\n",
    "[1, 45, \"Hi\", False] ➞ [2, 1, 1, 0, 0, 0]\n",
    "\n",
    "[[10, 20], (\"t\", \"Ok\"), 2, 3, 1] ➞ [3, 0, 0, 1, 1, 0]\n",
    "\n",
    "[\"Hello\", \"Bye\", True, True, False, {\"1\": \"One\", \"2\": \"Two\"}, [1, 3], {\"Brayan\": 18}, 25, 23] ➞ [2, 2, 3, 1, 0, 2]\n",
    "\n",
    "[4, 21, (\"ES\", \"EN\"), (\"a\", \"b\"), False, [1, 2, 3], [4, 5, 6] ]➞ [2, 0, 1, 2, 2, 0]"
   ]
  },
  {
   "cell_type": "code",
   "execution_count": 20,
   "id": "33bfe2c7",
   "metadata": {},
   "outputs": [
    {
     "name": "stdout",
     "output_type": "stream",
     "text": [
      "[2, 3, 1, 1, 1, 3]\n"
     ]
    }
   ],
   "source": [
    "veri = [\"a\", \"b\", True, (False,1), {1:\"2\"}, [1,2], {\"2\":\"two\"}, {2:\"3\"}, \"c\", 23, 0]\n",
    "tip = [\"int\", \"str\", \"bool\", \"list\", \"tuple\", \"dict\"]\n",
    "total = {}.fromkeys(tip, 0)\n",
    "for i in range(len(veri)) :\n",
    "    if type(veri[i]) == str :\n",
    "        total[\"str\"] += 1\n",
    "    elif type(veri[i]) == bool :\n",
    "        total[\"bool\"] += 1\n",
    "    elif type(veri[i]) == tuple :\n",
    "        total[\"tuple\"] += 1\n",
    "    elif type(veri[i]) == list :\n",
    "        total[\"list\"] += 1\n",
    "    elif type(veri[i]) == dict :\n",
    "        total[\"dict\"] += 1\n",
    "    elif type(veri[i]) == int :\n",
    "        total[\"int\"] += 1\n",
    "print(list( total.values()))"
   ]
  },
  {
   "cell_type": "code",
   "execution_count": 19,
   "id": "2b35b89b",
   "metadata": {},
   "outputs": [
    {
     "data": {
      "text/plain": [
       "{'int': 2, 'str': 3, 'bool': 1, 'list': 1, 'tuple': 1, 'dict': 2}"
      ]
     },
     "execution_count": 19,
     "metadata": {},
     "output_type": "execute_result"
    }
   ],
   "source": [
    "total"
   ]
  },
  {
   "cell_type": "markdown",
   "id": "66303826",
   "metadata": {},
   "source": [
    "# SORU 12"
   ]
  },
  {
   "cell_type": "raw",
   "id": "592a27c9",
   "metadata": {},
   "source": [
    "Group Anagrams Purpose of the this coding challenge is to solve a grouping algorithm in Python.\n",
    "Learning Outcomes At the end of the this coding challenge, students will be able to;\n",
    "get a basic understanding of grouping algorithms. demonstrate their knowledge of lists, dicts in python implement loops to solve the problems in python get a better understanding of computational thinking concepts Problem Statement Given a list of strings, group anagrams together.\n",
    "Example:\n",
    "Input:\n",
    "[\"eat\", \"tea\", \"tan\", \"ate\", \"nat\", \"bat\"], \n",
    "Output: \n",
    "[ [\"ate\",\"eat\",\"tea\"], [\"nat\",\"tan\"], [\"bat\"] ] \n",
    "Note: All inputs will be in lowercase. The order of your output does not matter."
   ]
  },
  {
   "cell_type": "code",
   "execution_count": 1,
   "id": "49aa527b",
   "metadata": {},
   "outputs": [
    {
     "name": "stdout",
     "output_type": "stream",
     "text": [
      "[['eat', 'tea', 'ate'], ['tan', 'nat'], ['bat']]\n"
     ]
    }
   ],
   "source": [
    "kelime = [\"eat\", \"tea\", \"tan\", \"ate\", \"nat\", \"bat\"]\n",
    "diclist ={}\n",
    "\n",
    "for i in kelime:\n",
    "    x = str(sorted(i))  # sorted returns a list, so you can make it a string again using join: # c = ''.join(b)\n",
    "    if x in diclist:\n",
    "            diclist[x].append(i)  #dictionary[key] = value\n",
    "    else: \n",
    "            diclist[x] = [i]\n",
    "\n",
    "print(list(diclist.values()))"
   ]
  },
  {
   "cell_type": "markdown",
   "id": "03701a25",
   "metadata": {},
   "source": [
    "# Soru 13"
   ]
  },
  {
   "cell_type": "code",
   "execution_count": 13,
   "id": "2a4976d0",
   "metadata": {},
   "outputs": [],
   "source": [
    "# Recursive function to generate all permutations of a string\n",
    "def permutations(remaining, candidate=''):\n",
    " \n",
    "    if len(remaining) == 0:\n",
    "        print(candidate)\n",
    " \n",
    "    for i in range(len(remaining)):\n",
    " \n",
    "        newCandidate = candidate + remaining[i]S\n",
    "        newRemaining = remaining[0:i] + remaining[i+1:]\n",
    " \n",
    "        permutations(newRemaining, newCandidate)"
   ]
  },
  {
   "cell_type": "code",
   "execution_count": 16,
   "id": "724f922e",
   "metadata": {
    "scrolled": true
   },
   "outputs": [
    {
     "name": "stdout",
     "output_type": "stream",
     "text": [
      "AŞKIN\n",
      "AŞKNI\n",
      "AŞIKN\n",
      "AŞINK\n",
      "AŞNKI\n",
      "AŞNIK\n",
      "AKŞIN\n",
      "AKŞNI\n",
      "AKIŞN\n",
      "AKINŞ\n",
      "AKNŞI\n",
      "AKNIŞ\n",
      "AIŞKN\n",
      "AIŞNK\n",
      "AIKŞN\n",
      "AIKNŞ\n",
      "AINŞK\n",
      "AINKŞ\n",
      "ANŞKI\n",
      "ANŞIK\n",
      "ANKŞI\n",
      "ANKIŞ\n",
      "ANIŞK\n",
      "ANIKŞ\n",
      "ŞAKIN\n",
      "ŞAKNI\n",
      "ŞAIKN\n",
      "ŞAINK\n",
      "ŞANKI\n",
      "ŞANIK\n",
      "ŞKAIN\n",
      "ŞKANI\n",
      "ŞKIAN\n",
      "ŞKINA\n",
      "ŞKNAI\n",
      "ŞKNIA\n",
      "ŞIAKN\n",
      "ŞIANK\n",
      "ŞIKAN\n",
      "ŞIKNA\n",
      "ŞINAK\n",
      "ŞINKA\n",
      "ŞNAKI\n",
      "ŞNAIK\n",
      "ŞNKAI\n",
      "ŞNKIA\n",
      "ŞNIAK\n",
      "ŞNIKA\n",
      "KAŞIN\n",
      "KAŞNI\n",
      "KAIŞN\n",
      "KAINŞ\n",
      "KANŞI\n",
      "KANIŞ\n",
      "KŞAIN\n",
      "KŞANI\n",
      "KŞIAN\n",
      "KŞINA\n",
      "KŞNAI\n",
      "KŞNIA\n",
      "KIAŞN\n",
      "KIANŞ\n",
      "KIŞAN\n",
      "KIŞNA\n",
      "KINAŞ\n",
      "KINŞA\n",
      "KNAŞI\n",
      "KNAIŞ\n",
      "KNŞAI\n",
      "KNŞIA\n",
      "KNIAŞ\n",
      "KNIŞA\n",
      "IAŞKN\n",
      "IAŞNK\n",
      "IAKŞN\n",
      "IAKNŞ\n",
      "IANŞK\n",
      "IANKŞ\n",
      "IŞAKN\n",
      "IŞANK\n",
      "IŞKAN\n",
      "IŞKNA\n",
      "IŞNAK\n",
      "IŞNKA\n",
      "IKAŞN\n",
      "IKANŞ\n",
      "IKŞAN\n",
      "IKŞNA\n",
      "IKNAŞ\n",
      "IKNŞA\n",
      "INAŞK\n",
      "INAKŞ\n",
      "INŞAK\n",
      "INŞKA\n",
      "INKAŞ\n",
      "INKŞA\n",
      "NAŞKI\n",
      "NAŞIK\n",
      "NAKŞI\n",
      "NAKIŞ\n",
      "NAIŞK\n",
      "NAIKŞ\n",
      "NŞAKI\n",
      "NŞAIK\n",
      "NŞKAI\n",
      "NŞKIA\n",
      "NŞIAK\n",
      "NŞIKA\n",
      "NKAŞI\n",
      "NKAIŞ\n",
      "NKŞAI\n",
      "NKŞIA\n",
      "NKIAŞ\n",
      "NKIŞA\n",
      "NIAŞK\n",
      "NIAKŞ\n",
      "NIŞAK\n",
      "NIŞKA\n",
      "NIKAŞ\n",
      "NIKŞA\n"
     ]
    }
   ],
   "source": [
    "    permutations(\"AŞKIN\")"
   ]
  },
  {
   "cell_type": "code",
   "execution_count": 18,
   "id": "bc6da929",
   "metadata": {
    "scrolled": true
   },
   "outputs": [
    {
     "name": "stdout",
     "output_type": "stream",
     "text": [
      "['ASKIN', 'ASKNI', 'ASIKN', 'ASINK', 'ASNKI', 'ASNIK', 'AKSIN', 'AKSNI', 'AKISN', 'AKINS', 'AKNSI', 'AKNIS', 'AISKN', 'AISNK', 'AIKSN', 'AIKNS', 'AINSK', 'AINKS', 'ANSKI', 'ANSIK', 'ANKSI', 'ANKIS', 'ANISK', 'ANIKS', 'SAKIN', 'SAKNI', 'SAIKN', 'SAINK', 'SANKI', 'SANIK', 'SKAIN', 'SKANI', 'SKIAN', 'SKINA', 'SKNAI', 'SKNIA', 'SIAKN', 'SIANK', 'SIKAN', 'SIKNA', 'SINAK', 'SINKA', 'SNAKI', 'SNAIK', 'SNKAI', 'SNKIA', 'SNIAK', 'SNIKA', 'KASIN', 'KASNI', 'KAISN', 'KAINS', 'KANSI', 'KANIS', 'KSAIN', 'KSANI', 'KSIAN', 'KSINA', 'KSNAI', 'KSNIA', 'KIASN', 'KIANS', 'KISAN', 'KISNA', 'KINAS', 'KINSA', 'KNASI', 'KNAIS', 'KNSAI', 'KNSIA', 'KNIAS', 'KNISA', 'IASKN', 'IASNK', 'IAKSN', 'IAKNS', 'IANSK', 'IANKS', 'ISAKN', 'ISANK', 'ISKAN', 'ISKNA', 'ISNAK', 'ISNKA', 'IKASN', 'IKANS', 'IKSAN', 'IKSNA', 'IKNAS', 'IKNSA', 'INASK', 'INAKS', 'INSAK', 'INSKA', 'INKAS', 'INKSA', 'NASKI', 'NASIK', 'NAKSI', 'NAKIS', 'NAISK', 'NAIKS', 'NSAKI', 'NSAIK', 'NSKAI', 'NSKIA', 'NSIAK', 'NSIKA', 'NKASI', 'NKAIS', 'NKSAI', 'NKSIA', 'NKIAS', 'NKISA', 'NIASK', 'NIAKS', 'NISAK', 'NISKA', 'NIKAS', 'NIKSA']\n"
     ]
    }
   ],
   "source": [
    "import itertools\n",
    "    \n",
    "nums = list(\"ASKIN\")\n",
    "permutations = list(itertools.permutations(nums))\n",
    "print([''.join(permutation) for permutation in permutations])"
   ]
  },
  {
   "cell_type": "markdown",
   "id": "81a5fd6f",
   "metadata": {},
   "source": [
    "# SORU 14"
   ]
  },
  {
   "cell_type": "markdown",
   "id": "fb240013",
   "metadata": {},
   "source": [
    "Hello Friends, happy holidays again. Make a solution that takes a list of numbers or strings and returns a list with the items from the original list stored into sublists. Items of the same value should be in the same sublist.\n",
    "\n",
    "Examples [2, 1, 2, 1] ➞ [[2, 2], [1, 1]], [5, 4, 5, 5, 4, 3] ➞ [[5, 5, 5], [4, 4], [3]], [\"b\", \"a\", \"b\", \"a\", \"c\"] ➞ [[\"b\", \"b\"], [\"a\", \"a\"], [\"c\"]] Notes The sublists should be returned in the order of each element's first appearance in the given list."
   ]
  },
  {
   "cell_type": "code",
   "execution_count": 1,
   "id": "a48c2531",
   "metadata": {},
   "outputs": [
    {
     "name": "stdout",
     "output_type": "stream",
     "text": [
      "[[5, 5, 5], [4, 4], [3]]\n"
     ]
    }
   ],
   "source": [
    "dictt = {}\n",
    "list = [5, 4, 5, 5, 4, 3]\n",
    "for i in list:\n",
    "    if i not in dictt:\n",
    "        dictt[i] = [i]\n",
    "    else:\n",
    "        dictt[i].append(i)\n",
    "result = [i for i in dictt.values()]\n",
    "print(result)"
   ]
  },
  {
   "cell_type": "code",
   "execution_count": 3,
   "id": "c64256fc",
   "metadata": {},
   "outputs": [
    {
     "name": "stdout",
     "output_type": "stream",
     "text": [
      "[[2, 2], [1, 1]]\n"
     ]
    }
   ],
   "source": [
    "checking_list = [2, 1, 2, 1]\n",
    "new_list = []\n",
    "dictionary = {}\n",
    "for i in checking_list:\n",
    "    dictionary[i] = [i]\n",
    "    for a in range(len(checking_list)):\n",
    "        if i == checking_list[a]:\n",
    "            dictionary[i] = [i]\n",
    "            dictionary[i].append(i)\n",
    "a = [i for i in dictionary.values()]\n",
    "print(a)"
   ]
  },
  {
   "cell_type": "code",
   "execution_count": 4,
   "id": "8bb93771",
   "metadata": {},
   "outputs": [
    {
     "name": "stdout",
     "output_type": "stream",
     "text": [
      "dict_values([[5, 5, 5], [4, 4], [3]])\n"
     ]
    }
   ],
   "source": [
    "list1 = [5, 4, 5, 5, 4, 3]\n",
    "dict1= {}\n",
    "for i in list1 :\n",
    "    if i in dict1 :\n",
    "        dict1[i].append(i)\n",
    "    else :\n",
    "        dict1[i] = [i]\n",
    "print(dict1.values())  \n",
    "#print(list(dict1.values()))"
   ]
  },
  {
   "cell_type": "markdown",
   "id": "9d34509a",
   "metadata": {},
   "source": [
    "# SORU 15"
   ]
  },
  {
   "attachments": {
    "image-2.png": {
     "image/png": "[encoded data removed]"
    }
   },
   "cell_type": "markdown",
   "id": "7d0b6ec3",
   "metadata": {},
   "source": [
    "Write a function for Floyd's triangle of n rows in Python, you need to ask from user to enter the number of rows or lines up to which.\n",
    "\n",
    "Sample run of program, with user input 10 as number of rows, is shown in the snapshot given below:\n",
    "\n",
    "![image-2.png](attachment:image-2.png)\n"
   ]
  },
  {
   "cell_type": "code",
   "execution_count": 3,
   "id": "2dbb2dc3",
   "metadata": {},
   "outputs": [],
   "source": [
    "def floyd ():\n",
    "    iput=int(input(\"please enter number \"))\n",
    "    sayi=0\n",
    "    for i in range(1,iput+2):\n",
    "        print(end=\" \\n\")\n",
    "        for j in range(1,i):\n",
    "            sayi +=1\n",
    "            print(\"{:<3}\".format(sayi),end=\" \")"
   ]
  },
  {
   "cell_type": "code",
   "execution_count": 4,
   "id": "1b132297",
   "metadata": {},
   "outputs": [
    {
     "name": "stdout",
     "output_type": "stream",
     "text": [
      "please enter number 10\n",
      " \n",
      " \n",
      "1    \n",
      "2   3    \n",
      "4   5   6    \n",
      "7   8   9   10   \n",
      "11  12  13  14  15   \n",
      "16  17  18  19  20  21   \n",
      "22  23  24  25  26  27  28   \n",
      "29  30  31  32  33  34  35  36   \n",
      "37  38  39  40  41  42  43  44  45   \n",
      "46  47  48  49  50  51  52  53  54  55  "
     ]
    }
   ],
   "source": [
    "floyd()"
   ]
  },
  {
   "cell_type": "markdown",
   "id": "16d9c981",
   "metadata": {},
   "source": [
    "# SORU 16"
   ]
  },
  {
   "cell_type": "markdown",
   "id": "47bda420",
   "metadata": {},
   "source": [
    "Soru:\n",
    "Aynı zamanda hem 2'ye hem 4'e hem de 5'e bölünebilen sayılara xyz sayısı diyelim. \n",
    "Hem 2'ye hem de 5'e bölünebilen sayılar ise abc sayısı olsun. 100 ile 300 arasındaki \n",
    "xyz sayılarından kaç tanesi aynı zamanda abc sayısıdır? xyz, abc ve her ikisinde bulunan sayıları da yazdıralım..."
   ]
  },
  {
   "cell_type": "code",
   "execution_count": 7,
   "id": "0e9b0910",
   "metadata": {},
   "outputs": [
    {
     "name": "stdout",
     "output_type": "stream",
     "text": [
      "xyz =  [100, 120, 140, 160, 180, 200, 220, 240, 260, 280]\n",
      "abc =  [100, 110, 120, 130, 140, 150, 160, 170, 180, 190, 200, 210, 220, 230, 240, 250, 260, 270, 280, 290]\n",
      "kesişim =  {160, 100, 260, 200, 140, 240, 220, 180, 280, 120}\n",
      "adet =  10\n"
     ]
    }
   ],
   "source": [
    "xyz = []\n",
    "abc = []\n",
    "for i in range(100,300):\n",
    "    if i % 2 == 0 and i % 5 == 0 and i % 4 ==0:\n",
    "        xyz.append(i)\n",
    "print(\"xyz = \", xyz)\n",
    "\n",
    "for i in range(100,300):\n",
    "    if i % 2 == 0 and i % 5 == 0:\n",
    "        abc.append(i)\n",
    "print(\"abc = \" , abc)\n",
    "\n",
    "print(\"kesişim = \", set(abc).intersection(set(xyz)))\n",
    "\n",
    "print(\"adet = \" , len(set(abc).intersection(set(xyz))))"
   ]
  },
  {
   "cell_type": "markdown",
   "id": "6756108a",
   "metadata": {},
   "source": [
    "# SORU 17"
   ]
  },
  {
   "cell_type": "markdown",
   "id": "698b6bb4",
   "metadata": {},
   "source": [
    "A number is said to be Harshad if it's exactly divisible by the sum of its digits. Create a function that determines whether a number is a Harshad or not.\n",
    "\n",
    "Examples is_harshad(75) ➞ False 7 + 5 = 12 75 is not exactly divisible by 12\n",
    "\n",
    "is_harshad(171) ➞ True 1 + 7 + 1 = 9 9 exactly divides 171 is_harshad(481) ➞ True is_harshad(89) ➞ False is_harshad(516) ➞ True is_harshad(200) ➞ True Notes A recursive version of this challenge can be found in here."
   ]
  },
  {
   "cell_type": "code",
   "execution_count": 1,
   "id": "d5a02708",
   "metadata": {},
   "outputs": [
    {
     "data": {
      "text/plain": [
       "True"
      ]
     },
     "execution_count": 1,
     "metadata": {},
     "output_type": "execute_result"
    }
   ],
   "source": [
    "def is_harshad(n):\n",
    "    a = []\n",
    "    t = n\n",
    "    while t > 0:\n",
    "        a.append(t%10)\n",
    "        t = t//10\n",
    "    return True if n % sum(a) == 0 else False\n",
    "is_harshad(200)"
   ]
  },
  {
   "cell_type": "code",
   "execution_count": 2,
   "id": "6348d56d",
   "metadata": {},
   "outputs": [
    {
     "data": {
      "text/plain": [
       "False"
      ]
     },
     "execution_count": 2,
     "metadata": {},
     "output_type": "execute_result"
    }
   ],
   "source": [
    "is_harshad(89)"
   ]
  },
  {
   "cell_type": "code",
   "execution_count": 3,
   "id": "aff1091a",
   "metadata": {},
   "outputs": [
    {
     "data": {
      "text/plain": [
       "True"
      ]
     },
     "execution_count": 3,
     "metadata": {},
     "output_type": "execute_result"
    }
   ],
   "source": [
    "is_harshad(516)"
   ]
  },
  {
   "cell_type": "code",
   "execution_count": null,
   "id": "2f5ad51c",
   "metadata": {},
   "outputs": [],
   "source": []
  }
 ],
 "metadata": {
  "kernelspec": {
   "display_name": "Python 3 (ipykernel)",
   "language": "python",
   "name": "python3"
  },
  "language_info": {
   "codemirror_mode": {
    "name": "ipython",
    "version": 3
   },
   "file_extension": ".py",
   "mimetype": "text/x-python",
   "name": "python",
   "nbconvert_exporter": "python",
   "pygments_lexer": "ipython3",
   "version": "3.9.7"
  }
 },
 "nbformat": 4,
 "nbformat_minor": 5
}
