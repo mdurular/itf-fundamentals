{
 "cells": [
  {
   "cell_type": "code",
   "execution_count": 1,
   "id": "6059e865",
   "metadata": {},
   "outputs": [
    {
     "data": {
      "text/plain": [
       "False"
      ]
     },
     "execution_count": 1,
     "metadata": {},
     "output_type": "execute_result"
    }
   ],
   "source": [
    "#For example, suppose b = 5 and c = 10 and a program encounters this line:\n",
    "b = 5 \n",
    "c = 10\n",
    "not (True == (not True or b < 10 and c != 5))"
   ]
  },
  {
   "cell_type": "code",
   "execution_count": 2,
   "id": "1621ebf5",
   "metadata": {},
   "outputs": [
    {
     "name": "stdout",
     "output_type": "stream",
     "text": [
      "merhaba kelime tahmin oyununa hoşgeldiniz\n",
      "lütfen bir ev eşyası tahmini giriniz  a\n",
      "üzülmeyin bir daha deneyin bu eşya bir mobilya  \n",
      "üzülmeyin bir daha deneyin ama bu son şansınız; üzerine otururuz  a\n",
      "üzgünüm kaybettiniz\n"
     ]
    }
   ],
   "source": [
    "print (\"merhaba kelime tahmin oyununa hoşgeldiniz\")\n",
    "gizli_kelime = \"sandalye\"\n",
    "tahmin = input (\"lütfen bir ev eşyası tahmini giriniz  \")\n",
    "if tahmin == gizli_kelime:\n",
    "    print(\"bravo kazandınız çok zekisiniz\")\n",
    "else :\n",
    "    tahmin = input (\"üzülmeyin bir daha deneyin bu eşya bir mobilya  \")\n",
    "    if tahmin == gizli_kelime:\n",
    "        print(\"bravo kazandınız çok zekisiniz\")\n",
    "    else :\n",
    "        tahmin = input (\"üzülmeyin bir daha deneyin ama bu son şansınız; üzerine otururuz  \")\n",
    "        if tahmin == gizli_kelime:\n",
    "            print(\"bravo kazandınız çok zekisiniz\")\n",
    "        else: print(\"üzgünüm kaybettiniz\")"
   ]
  },
  {
   "cell_type": "code",
   "execution_count": 3,
   "id": "cf11f613",
   "metadata": {},
   "outputs": [],
   "source": [
    "ana_para = 1000\n",
    "ana_para1gün = ana_para + (ana_para* 0.07)\n",
    "ana_para2gün = ana_para1gün + (ana_para1gün* 0.07)\n",
    "ana_para3gün = ana_para2gün + (ana_para2gün* 0.07)\n"
   ]
  },
  {
   "cell_type": "code",
   "execution_count": 4,
   "id": "1417c431",
   "metadata": {},
   "outputs": [
    {
     "ename": "NameError",
     "evalue": "name 'total' is not defined",
     "output_type": "error",
     "traceback": [
      "\u001b[1;31m---------------------------------------------------------------------------\u001b[0m",
      "\u001b[1;31mNameError\u001b[0m                                 Traceback (most recent call last)",
      "\u001b[1;32m~\\AppData\\Local\\Temp/ipykernel_8860/4063668034.py\u001b[0m in \u001b[0;36m<module>\u001b[1;34m\u001b[0m\n\u001b[1;32m----> 1\u001b[1;33m \u001b[0mprint\u001b[0m\u001b[1;33m(\u001b[0m\u001b[0mtotal\u001b[0m\u001b[1;33m)\u001b[0m\u001b[1;33m\u001b[0m\u001b[1;33m\u001b[0m\u001b[0m\n\u001b[0m",
      "\u001b[1;31mNameError\u001b[0m: name 'total' is not defined"
     ]
    }
   ],
   "source": [
    "print(total)"
   ]
  },
  {
   "cell_type": "code",
   "execution_count": null,
   "id": "4b6b2485",
   "metadata": {},
   "outputs": [],
   "source": [
    "x = float(input((\"Bilinmeyen sayı\"))\n"
   ]
  },
  {
   "cell_type": "code",
   "execution_count": null,
   "id": "61b8bc21",
   "metadata": {},
   "outputs": [],
   "source": [
    "print ( \"ali\"+\"\\n\"+ \"veli\"+\"\\n\"+\"ahmet\")"
   ]
  },
  {
   "cell_type": "code",
   "execution_count": null,
   "id": "9df94def",
   "metadata": {},
   "outputs": [],
   "source": [
    "print ( \"ali\",\"veli\",\"ahmet\",sep=\"\\n\")"
   ]
  },
  {
   "cell_type": "code",
   "execution_count": null,
   "id": "e6d1e74c",
   "metadata": {},
   "outputs": [],
   "source": [
    "print(\"xyyzxyzxzxyy\".count('xyy',9,11))"
   ]
  },
  {
   "cell_type": "code",
   "execution_count": null,
   "id": "d3fe2286",
   "metadata": {},
   "outputs": [],
   "source": [
    "print('abcdefcdghccd '.split('cd'))"
   ]
  },
  {
   "cell_type": "code",
   "execution_count": null,
   "id": "d59a811f",
   "metadata": {},
   "outputs": [],
   "source": [
    "print('abcdefcdghccd'.split('cd'))"
   ]
  },
  {
   "cell_type": "code",
   "execution_count": null,
   "id": "c2a51348",
   "metadata": {},
   "outputs": [],
   "source": []
  },
  {
   "cell_type": "code",
   "execution_count": null,
   "id": "909dc6e0",
   "metadata": {},
   "outputs": [],
   "source": []
  },
  {
   "cell_type": "code",
   "execution_count": null,
   "id": "c700c071",
   "metadata": {},
   "outputs": [],
   "source": [
    "text = 'geeks for geeks'\n",
    "\n",
    "# Splits at space\n",
    "print(text.split())\n",
    "\n",
    "word = 'geeks, for, geeks'\n",
    "\n",
    "# Splits at ','\n",
    "print(word.split(','))\n",
    "\n",
    "word = 'geeks:for:geeks'\n",
    "\n",
    "# Splitting at ':'\n",
    "print(word.split(':'))\n",
    "\n",
    "word = 'CatBatSatFatOr'\n",
    "\n",
    "# Splitting at t\n",
    "print(word.split('t'))\n"
   ]
  },
  {
   "cell_type": "code",
   "execution_count": 5,
   "id": "3feebb8f",
   "metadata": {},
   "outputs": [
    {
     "name": "stdout",
     "output_type": "stream",
     "text": [
      "Please Enter A Number: 55\n",
      "55 is not a prime number\n"
     ]
    }
   ],
   "source": [
    "num = int(input(\"Please Enter A Number: \"))\n",
    "\n",
    "if num > 1:\n",
    "    for i in range (2, num):\n",
    "        if num%i == 0:\n",
    "            print(num, \"is not a prime number\")\n",
    "            break\n",
    "    else:\n",
    "            print(num, \"is a prime number\")\n",
    "else:\n",
    "    print(num, \"is not a prime number\")"
   ]
  },
  {
   "cell_type": "code",
   "execution_count": null,
   "id": "80670523",
   "metadata": {},
   "outputs": [],
   "source": [
    "prime_number = []\n",
    "number = int(input(\"Please Enter A Number: \"))\n",
    "for num in range(2,int(number/2)+1):\n",
    "    if num > 1:\n",
    "        for i in range(2, num):\n",
    "            if (num % i) == 0:\n",
    "                break\n",
    "        else:\n",
    "            prime_number.append(num)\n",
    "print(prime_number)"
   ]
  },
  {
   "cell_type": "code",
   "execution_count": 16,
   "id": "eeab1526",
   "metadata": {},
   "outputs": [
    {
     "name": "stdout",
     "output_type": "stream",
     "text": [
      "Please Enter A Number: 55\n",
      "2 ---- 1\n",
      "3 ---- 1\n",
      "4 ---- 3\n",
      "5 ---- 0\n",
      "6 ---- 1\n",
      "7 ---- 6\n",
      "8 ---- 7\n",
      "9 ---- 1\n",
      "10 ---- 5\n",
      "11 ---- 0\n",
      "12 ---- 7\n",
      "13 ---- 3\n",
      "14 ---- 13\n",
      "15 ---- 10\n",
      "16 ---- 7\n",
      "17 ---- 4\n",
      "18 ---- 1\n",
      "19 ---- 17\n",
      "20 ---- 15\n",
      "21 ---- 13\n",
      "22 ---- 11\n",
      "23 ---- 9\n",
      "24 ---- 7\n",
      "25 ---- 5\n",
      "26 ---- 3\n",
      "27 ---- 1\n",
      "28 ---- 27\n",
      "29 ---- 26\n",
      "30 ---- 25\n",
      "31 ---- 24\n",
      "32 ---- 23\n",
      "33 ---- 22\n",
      "34 ---- 21\n",
      "35 ---- 20\n",
      "36 ---- 19\n",
      "37 ---- 18\n",
      "38 ---- 17\n",
      "39 ---- 16\n",
      "40 ---- 15\n",
      "41 ---- 14\n",
      "42 ---- 13\n",
      "43 ---- 12\n",
      "44 ---- 11\n",
      "45 ---- 10\n",
      "46 ---- 9\n",
      "47 ---- 8\n",
      "48 ---- 7\n",
      "49 ---- 6\n",
      "50 ---- 5\n",
      "51 ---- 4\n",
      "52 ---- 3\n",
      "53 ---- 2\n",
      "54 ---- 1\n"
     ]
    }
   ],
   "source": [
    "num = int(input(\"Please Enter A Number: \"))\n",
    "for i in range (2, num):\n",
    "    print(i,\"----\", num%i) "
   ]
  },
  {
   "cell_type": "code",
   "execution_count": null,
   "id": "fdb5ec4d",
   "metadata": {},
   "outputs": [],
   "source": []
  }
 ],
 "metadata": {
  "kernelspec": {
   "display_name": "Python 3 (ipykernel)",
   "language": "python",
   "name": "python3"
  },
  "language_info": {
   "codemirror_mode": {
    "name": "ipython",
    "version": 3
   },
   "file_extension": ".py",
   "mimetype": "text/x-python",
   "name": "python",
   "nbconvert_exporter": "python",
   "pygments_lexer": "ipython3",
   "version": "3.9.7"
  }
 },
 "nbformat": 4,
 "nbformat_minor": 5
}
