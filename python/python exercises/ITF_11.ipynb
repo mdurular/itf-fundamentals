{
 "cells": [
  {
   "cell_type": "code",
   "execution_count": 1,
   "id": "6059e865",
   "metadata": {},
   "outputs": [
    {
     "data": {
      "text/plain": [
       "False"
      ]
     },
     "execution_count": 1,
     "metadata": {},
     "output_type": "execute_result"
    }
   ],
   "source": [
    "#For example, suppose b = 5 and c = 10 and a program encounters this line:\n",
    "b = 5 \n",
    "c = 10\n",
    "not (True == (not True or b < 10 and c != 5))"
   ]
  },
  {
   "cell_type": "code",
   "execution_count": 2,
   "id": "1621ebf5",
   "metadata": {},
   "outputs": [
    {
     "name": "stdout",
     "output_type": "stream",
     "text": [
      "merhaba kelime tahmin oyununa hoşgeldiniz\n",
      "lütfen bir ev eşyası tahmini giriniz  a\n",
      "üzülmeyin bir daha deneyin bu eşya bir mobilya  a\n",
      "üzülmeyin bir daha deneyin ama bu son şansınız; üzerine otururuz  a\n",
      "üzgünüm kaybettiniz\n"
     ]
    }
   ],
   "source": [
    "print (\"merhaba kelime tahmin oyununa hoşgeldiniz\")\n",
    "gizli_kelime = \"sandalye\"\n",
    "tahmin = input (\"lütfen bir ev eşyası tahmini giriniz  \")\n",
    "if tahmin == gizli_kelime:\n",
    "    print(\"bravo kazandınız çok zekisiniz\")\n",
    "else :\n",
    "    tahmin = input (\"üzülmeyin bir daha deneyin bu eşya bir mobilya  \")\n",
    "    if tahmin == gizli_kelime:\n",
    "        print(\"bravo kazandınız çok zekisiniz\")\n",
    "    else :\n",
    "        tahmin = input (\"üzülmeyin bir daha deneyin ama bu son şansınız; üzerine otururuz  \")\n",
    "        if tahmin == gizli_kelime:\n",
    "            print(\"bravo kazandınız çok zekisiniz\")\n",
    "        else: print(\"üzgünüm kaybettiniz\")"
   ]
  },
  {
   "cell_type": "code",
   "execution_count": 8,
   "id": "cf11f613",
   "metadata": {},
   "outputs": [
    {
     "ename": "SyntaxError",
     "evalue": "leading zeros in decimal integer literals are not permitted; use an 0o prefix for octal integers (<ipython-input-8-634eca87c17b>, line 2)",
     "output_type": "error",
     "traceback": [
      "\u001b[1;36m  File \u001b[1;32m\"<ipython-input-8-634eca87c17b>\"\u001b[1;36m, line \u001b[1;32m2\u001b[0m\n\u001b[1;33m    ana_para1 = ana_para + (ana_para*0,07)\u001b[0m\n\u001b[1;37m                                        ^\u001b[0m\n\u001b[1;31mSyntaxError\u001b[0m\u001b[1;31m:\u001b[0m leading zeros in decimal integer literals are not permitted; use an 0o prefix for octal integers\n"
     ]
    }
   ],
   "source": [
    "ana_para = 1000\n",
    "ana_para1gün = ana_para + (ana_para* 0.07)\n",
    "ana_para2gün = ana_para1gün + (ana_para1gün* 0.07)\n",
    "ana_para3gün = ana_para2gün + (ana_para2gün* 0.07)\n"
   ]
  },
  {
   "cell_type": "code",
   "execution_count": 7,
   "id": "1417c431",
   "metadata": {},
   "outputs": [
    {
     "name": "stdout",
     "output_type": "stream",
     "text": [
      "490.0\n"
     ]
    }
   ],
   "source": [
    "print(total)"
   ]
  },
  {
   "cell_type": "code",
   "execution_count": 4,
   "id": "4b6b2485",
   "metadata": {},
   "outputs": [
    {
     "ename": "SyntaxError",
     "evalue": "unexpected EOF while parsing (<ipython-input-4-8b140e90f8da>, line 2)",
     "output_type": "error",
     "traceback": [
      "\u001b[1;36m  File \u001b[1;32m\"<ipython-input-4-8b140e90f8da>\"\u001b[1;36m, line \u001b[1;32m2\u001b[0m\n\u001b[1;33m    \u001b[0m\n\u001b[1;37m    ^\u001b[0m\n\u001b[1;31mSyntaxError\u001b[0m\u001b[1;31m:\u001b[0m unexpected EOF while parsing\n"
     ]
    }
   ],
   "source": [
    "x = float(input((\"Bilinmeyen sayı\"))\n"
   ]
  },
  {
   "cell_type": "code",
   "execution_count": 2,
   "id": "61b8bc21",
   "metadata": {},
   "outputs": [
    {
     "name": "stdout",
     "output_type": "stream",
     "text": [
      "ali\n",
      "veli\n",
      "ahmet\n"
     ]
    }
   ],
   "source": [
    "print ( \"ali\"+\"\\n\"+ \"veli\"+\"\\n\"+\"ahmet\")"
   ]
  },
  {
   "cell_type": "code",
   "execution_count": 3,
   "id": "9df94def",
   "metadata": {},
   "outputs": [
    {
     "name": "stdout",
     "output_type": "stream",
     "text": [
      "ali\n",
      "veli\n",
      "ahmet\n"
     ]
    }
   ],
   "source": [
    "print ( \"ali\",\"veli\",\"ahmet\",sep=\"\\n\")"
   ]
  },
  {
   "cell_type": "code",
   "execution_count": 9,
   "id": "e6d1e74c",
   "metadata": {},
   "outputs": [
    {
     "name": "stdout",
     "output_type": "stream",
     "text": [
      "1\n"
     ]
    }
   ],
   "source": [
    "print(\"xyyzxyzxzxyy\".count('xyy',9,11))"
   ]
  },
  {
   "cell_type": "code",
   "execution_count": 14,
   "id": "d3fe2286",
   "metadata": {},
   "outputs": [
    {
     "name": "stdout",
     "output_type": "stream",
     "text": [
      "['ab', 'ef', 'ghc', ' ']\n"
     ]
    }
   ],
   "source": [
    "print('abcdefcdghccd '.split('cd'))"
   ]
  },
  {
   "cell_type": "code",
   "execution_count": 15,
   "id": "d59a811f",
   "metadata": {},
   "outputs": [
    {
     "name": "stdout",
     "output_type": "stream",
     "text": [
      "['ab', 'ef', 'ghc', '']\n"
     ]
    }
   ],
   "source": [
    "print('abcdefcdghccd'.split('cd'))"
   ]
  },
  {
   "cell_type": "code",
   "execution_count": null,
   "id": "c2a51348",
   "metadata": {},
   "outputs": [],
   "source": []
  },
  {
   "cell_type": "code",
   "execution_count": null,
   "id": "909dc6e0",
   "metadata": {},
   "outputs": [],
   "source": []
  },
  {
   "cell_type": "code",
   "execution_count": 10,
   "id": "c700c071",
   "metadata": {},
   "outputs": [
    {
     "name": "stdout",
     "output_type": "stream",
     "text": [
      "['geeks', 'for', 'geeks']\n",
      "['geeks', ' for', ' geeks']\n",
      "['geeks', 'for', 'geeks']\n",
      "['Ca', 'Ba', 'Sa', 'Fa', 'Or']\n"
     ]
    }
   ],
   "source": [
    "text = 'geeks for geeks'\n",
    "\n",
    "# Splits at space\n",
    "print(text.split())\n",
    "\n",
    "word = 'geeks, for, geeks'\n",
    "\n",
    "# Splits at ','\n",
    "print(word.split(','))\n",
    "\n",
    "word = 'geeks:for:geeks'\n",
    "\n",
    "# Splitting at ':'\n",
    "print(word.split(':'))\n",
    "\n",
    "word = 'CatBatSatFatOr'\n",
    "\n",
    "# Splitting at t\n",
    "print(word.split('t'))\n"
   ]
  },
  {
   "cell_type": "code",
   "execution_count": null,
   "id": "3feebb8f",
   "metadata": {},
   "outputs": [],
   "source": []
  }
 ],
 "metadata": {
  "kernelspec": {
   "display_name": "Python 3 (ipykernel)",
   "language": "python",
   "name": "python3"
  },
  "language_info": {
   "codemirror_mode": {
    "name": "ipython",
    "version": 3
   },
   "file_extension": ".py",
   "mimetype": "text/x-python",
   "name": "python",
   "nbconvert_exporter": "python",
   "pygments_lexer": "ipython3",
   "version": "3.8.12"
  }
 },
 "nbformat": 4,
 "nbformat_minor": 5
}
