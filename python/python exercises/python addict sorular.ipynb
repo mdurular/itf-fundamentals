{
 "cells": [
  {
   "cell_type": "code",
   "execution_count": 49,
   "id": "86935f77",
   "metadata": {},
   "outputs": [],
   "source": [
    "# studentA: Allen Carter, Math, (70,60,70)\n",
    "# studentB: Bob Black, Math, (80,80,70)\n",
    "# studentC: Joseph Ins, Math, (80,70,90)\n",
    "\n",
    "liste = [['Allen Carter', 'Math', [70,60,70]], ['Bob Black', 'Math', [80,80,70]],['Joseph Ins', 'Math', [80,70,90]]]"
   ]
  },
  {
   "cell_type": "code",
   "execution_count": 50,
   "id": "30ba11a6",
   "metadata": {},
   "outputs": [
    {
     "name": "stdout",
     "output_type": "stream",
     "text": [
      "Allen Carter : 67 \n",
      " Bob Black : 77 \n",
      " Joseph Ins : 80\n"
     ]
    }
   ],
   "source": [
    "print(liste[0][0], ':', round(sum(liste[0][2])/len(liste[0][2])), '\\n', \n",
    "      liste[1][0], ':', round(sum(liste[1][2])/len(liste[1][2])), '\\n',\n",
    "      liste[2][0], ':', round(sum(liste[2][2])/len(liste[2][2])))"
   ]
  },
  {
   "cell_type": "markdown",
   "id": "cd9436bc",
   "metadata": {},
   "source": [
    "# Kullanıcıdan integer bir değer alan ve sayının pozitif-çift sayı olup olmadığını kontrol eden program yazınız."
   ]
  },
  {
   "cell_type": "code",
   "execution_count": 8,
   "id": "faa258f7",
   "metadata": {},
   "outputs": [
    {
     "name": "stdout",
     "output_type": "stream",
     "text": [
      "Enter a number:0\n",
      "It is an invalid entry. Don't use non-numeric, float, or negative values!\n"
     ]
    }
   ],
   "source": [
    "num = (input(\"Enter a number:\"))\n",
    "if num.isdigit():\n",
    "    num1 = int(num)\n",
    "    if num1 > 0:\n",
    "        if num1 % 2 == 0: \n",
    "            print(num, \",is a even number\")\n",
    "        else:\n",
    "            print(num, \"is a odd number\")\n",
    "    else:\n",
    "        print(\"It is an invalid entry. Don't use non-numeric, float, or negative values!\")\n",
    "else:\n",
    "    print(\"It is an invalid entry. Don't use non-numeric, float, or negative values!\")"
   ]
  },
  {
   "cell_type": "markdown",
   "id": "1965da11",
   "metadata": {},
   "source": [
    "# soru\n",
    "Kullanıcıdan bir cümle alan ve cümle içerisinde geçen sesli harflerin her birinden kaçar tane olduğunu çıktı veren bir program yazınız.\n",
    "Girilen harflerin küçük/büyük olabileceği ihtimalini göz önünde bulundurunuz.\n",
    "Kolay Gelsin...\n",
    "Beklenen Çıktı:\n",
    "cümle: Sakla samanı gelir zamanı.\n",
    "a: 6\n",
    "ı: 2\n",
    "e: 1\n",
    "i: 1 (edited) "
   ]
  },
  {
   "cell_type": "code",
   "execution_count": 11,
   "id": "cdc0de59",
   "metadata": {},
   "outputs": [
    {
     "name": "stdout",
     "output_type": "stream",
     "text": [
      "{'a': 6, 'i': 3, 'e': 1}\n"
     ]
    }
   ],
   "source": [
    "cumle = \"Sakla samani gelir zamani\"\n",
    "vowels = \"aeiouAEIOU\"\n",
    "a={}\n",
    "for i in cumle:\n",
    "    if i in vowels:\n",
    "        if i not in a:\n",
    "            a[i] = 1\n",
    "        else:\n",
    "            a[i] = cumle.count(i)  \n",
    "print(a)"
   ]
  },
  {
   "cell_type": "markdown",
   "id": "59a55d7a",
   "metadata": {},
   "source": [
    "# Write a Python code to sort the list at below without using .sort() method of list. elements of list = [999, 333, 2, 8982, 12, 45, 77, 99, 11] Expected output: [2, 11, 12, 45, 77, 99, 333, 999, 8982]"
   ]
  },
  {
   "cell_type": "code",
   "execution_count": 15,
   "id": "cec48dd3",
   "metadata": {},
   "outputs": [
    {
     "name": "stdout",
     "output_type": "stream",
     "text": [
      "The sorted num_list1 is [2, 11, 12, 45, 77, 99, 333, 999, 8982]\n"
     ]
    }
   ],
   "source": [
    "num_list1 = [999, 333, 2, 8982, 12, 45, 77, 99, 11]\n",
    "num_list2 = []\n",
    "for i in range(len(num_list1)):\n",
    "    minimum = min(num_list1)\n",
    "    num_list2.append(minimum)\n",
    "    num_list1.remove(minimum)\n",
    "print(\"The sorted num_list1 is {}\".format(num_list2))"
   ]
  },
  {
   "cell_type": "markdown",
   "id": "537ee4d7",
   "metadata": {},
   "source": [
    "# Aynı zamanda hem 2'ye hem 4'e hem de 5'e bölünebilen sayılara xyz sayısı diyelim. Hem 2'ye hem de 5'e bölünebilen sayılar ise abc sayısı olsun. 100 ile 100.000 arasındaki xyz sayılarından kaç tanesi aynı zamanda abc sayısıdır?"
   ]
  },
  {
   "cell_type": "code",
   "execution_count": 21,
   "id": "49b4db20",
   "metadata": {},
   "outputs": [
    {
     "name": "stdout",
     "output_type": "stream",
     "text": [
      "4995\n"
     ]
    }
   ],
   "source": [
    "abc = []\n",
    "xyz = []\n",
    "\n",
    "for i in range(100,100000):\n",
    "    if i % 2 == 0 and i % 5 == 0:\n",
    "        abc.append(i)\n",
    "\n",
    "for i in range(100,100000):\n",
    "    if i % 2 == 0 and i % 5 == 0 and i % 4 ==0:\n",
    "        xyz.append(i)\n",
    "\n",
    "\n",
    "print(len(set(abc).intersection(set(xyz))))\n"
   ]
  },
  {
   "cell_type": "markdown",
   "id": "e33f4bf0",
   "metadata": {},
   "source": [
    "# fibonacci"
   ]
  },
  {
   "cell_type": "code",
   "execution_count": 8,
   "id": "68fcb6ac",
   "metadata": {},
   "outputs": [
    {
     "name": "stdout",
     "output_type": "stream",
     "text": [
      "fibonacci sayıları: [1, 2, 3, 5, 8, 13, 21, 34]\n"
     ]
    }
   ],
   "source": [
    "x,y=0,1\n",
    "fibonacci=[]\n",
    "while x+y<50:\n",
    "    x,y = y,x+y\n",
    "    fibonacci.append(y)\n",
    "print(\"fibonacci sayıları:\", fibonacci)"
   ]
  },
  {
   "cell_type": "markdown",
   "id": "6eb8bb2c",
   "metadata": {},
   "source": [
    "# ATMden işllemleri programı"
   ]
  },
  {
   "cell_type": "code",
   "execution_count": null,
   "id": "944cd670",
   "metadata": {},
   "outputs": [
    {
     "name": "stdout",
     "output_type": "stream",
     "text": [
      "********************\n",
      " Welcome The Clarusway Bank\n",
      "********************\n",
      "\n",
      "İşlemler:\n",
      "\n",
      "1. Bakiye Sorgulama\n",
      "2. Para Yatırma\n",
      "3. Para Çekme\n",
      "\n",
      "Programdan 'q' tuşu ile çıkabilirsiniz.\n",
      "\n",
      "\n"
     ]
    }
   ],
   "source": [
    "print(\"********************\\n Welcome The Clarusway Bank\\n********************\")\n",
    "\n",
    "print(\"\"\"\n",
    "İşlemler:\n",
    "\n",
    "1. Bakiye Sorgulama\n",
    "2. Para Yatırma\n",
    "3. Para Çekme\n",
    "\n",
    "Programdan 'q' tuşu ile çıkabilirsiniz.\n",
    "\n",
    "\"\"\")\n",
    "\n",
    "bakiye  = 1000 # Bakiyemiz 1000 lira olsun.\n",
    "\n",
    "while True:\n",
    "    işlem = input(\"İşlemi giriniz:\")\n",
    "\n",
    "    if (işlem == \"q\"):\n",
    "        print(\"Yine bekleriz....\")\n",
    "        break\n",
    "    elif (işlem == \"1\"):\n",
    "        print(\"Bakiyeniz {} tldir\".format(bakiye))\n",
    "    elif (işlem == \"2\"):\n",
    "        miktar = int(input(\"Yatırmak istediğiniz tutar:\"))\n",
    "\n",
    "        bakiye += miktar\n",
    "    elif (işlem == \"3\"):\n",
    "        miktar = int(input(\"Çekmek istediğiniz tutar:\"))\n",
    "        if (bakiye - miktar < 0 ):\n",
    "            print(\"Bu kadar para çekemezsiniz...\")\n",
    "            print(\"Bakiyeniz {} tldir\".format(bakiye))\n",
    "            continue\n",
    "        bakiye -= miktar\n",
    "\n",
    "    else:\n",
    "        print(\"Lütfen geçerli bir işlem giriniz.\")"
   ]
  },
  {
   "cell_type": "markdown",
   "id": "4246ba86",
   "metadata": {},
   "source": [
    "# Doğduğunuz yıl için Çin Zodyakının işaretini gösteren bir Python programı yazın. "
   ]
  },
  {
   "cell_type": "code",
   "execution_count": 34,
   "id": "a79e43ed",
   "metadata": {},
   "outputs": [
    {
     "name": "stdout",
     "output_type": "stream",
     "text": [
      "Doğum yılınızı girin :  1973\n",
      "Burcunuz : Öküz\n"
     ]
    }
   ],
   "source": [
    "year = int(input(\"Doğum yılınızı girin :  \"))\n",
    "if year % 12 == 8:\n",
    "    animal = \"Ejderha\"\n",
    "elif year % 12 == 9:\n",
    "    animal = \"Yılan\"\n",
    "elif year % 12 == 10:\n",
    "    animal = \"At\"\n",
    "elif year % 12 == 11:\n",
    "    animal = \"Keçi\"\n",
    "elif year % 12 == 0:\n",
    "    animal = \"Maymun\"\n",
    "elif year % 12 == 1:\n",
    "    animal = \"Horoz\"\n",
    "elif year % 12 == 2:\n",
    "    animal = \"Köpek\"\n",
    "elif year % 12 == 3:\n",
    "    animal = \"Domuz\"\n",
    "elif year % 12 == 4:\n",
    "    animal = \"Sıçan\"\n",
    "elif year % 12 == 5:\n",
    "    animal = \"Öküz\"\n",
    "elif year % 12 == 6:\n",
    "    animal = \"Kaplan\"\n",
    "elif year % 12 == 7:\n",
    "    animal = \"Tavşan\"\n",
    "\n",
    "print(\"Burcunuz :\",animal)    "
   ]
  },
  {
   "cell_type": "markdown",
   "id": "fcddcb88",
   "metadata": {},
   "source": [
    "# İnput olarak aldığımız cümlenin içindeki sesli harfleri kaldıran bir kod yazalım"
   ]
  },
  {
   "cell_type": "code",
   "execution_count": 55,
   "id": "e1266f05",
   "metadata": {},
   "outputs": [
    {
     "name": "stdout",
     "output_type": "stream",
     "text": [
      "Enter a sentence:Hayat beni neden yoruyosun?:)\n",
      "hyt bn ndn yrysn?:)\n"
     ]
    }
   ],
   "source": [
    "sentence =input(\"Enter a sentence:\").lower()\n",
    "vowel=(\"aeioüuö\")\n",
    "for i in sentence:\n",
    "    if i in vowel:\n",
    "        sentence = sentence.replace(str(i), \"\")\n",
    "print(sentence)"
   ]
  },
  {
   "cell_type": "markdown",
   "id": "6e9369b9",
   "metadata": {},
   "source": [
    "# Write a function that groups a string into parentheses cluster. Each cluster should be balanced.\n",
    "\n",
    "Examples\n",
    "\n",
    "split(\"()()()\") ➞ [\"()\", \"()\", \"()\"]\n",
    "\n",
    "split(\"((()))\") ➞ [\"((()))\"]\n",
    "\n",
    "split(\"((()))(())()()(()())\") ➞ [\"((()))\", \"(())\", \"()\", \"()\", \"(()())\"]\n",
    "\n",
    "split(\"((())())(()(()()))\") ➞ [\"((())())\", \"(()(()()))\"]\n",
    "\n",
    "Notes All input strings will only contain parentheses. Balanced: Every opening parens ( must exist with its matching closing parens ) in the same cluster."
   ]
  },
  {
   "cell_type": "code",
   "execution_count": 3,
   "id": "5a071fc9",
   "metadata": {},
   "outputs": [
    {
     "name": "stdout",
     "output_type": "stream",
     "text": [
      "Write only parentheses : (())()()\n",
      "['(())', '()', '()']\n"
     ]
    }
   ],
   "source": [
    "par = input(\"Write only parentheses : \")\n",
    "list1=[]\n",
    "list2=[]\n",
    "par_split=[]\n",
    "for i in range(len(par)):\n",
    "    if par[i]==\"(\":\n",
    "        list1.append(\"(\")\n",
    "        list2.append(\"(\")\n",
    "    elif par[i]==\")\":\n",
    "        list1.pop()\n",
    "        list2.append(\")\")\n",
    "        if len(list1)==0:\n",
    "            par_split.append(\"\".join(list2))\n",
    "            list2.clear()\n",
    "print(par_split) "
   ]
  },
  {
   "cell_type": "code",
   "execution_count": 6,
   "id": "9712bcf2",
   "metadata": {},
   "outputs": [
    {
     "name": "stdout",
     "output_type": "stream",
     "text": [
      "\n",
      "*\n",
      "**\n",
      "***\n",
      "****\n",
      "*****\n",
      "****\n",
      "***\n",
      "**\n",
      "*\n"
     ]
    }
   ],
   "source": [
    "for i in range(5):\n",
    "    print(\"*\"*i)\n",
    "i=5\n",
    "while i<=5 and i>=1:\n",
    "    print(\"*\"*i)\n",
    "    i-=1"
   ]
  },
  {
   "cell_type": "raw",
   "id": "e5e23173",
   "metadata": {},
   "source": [
    "# Write a Python program which iterates the integers from 1 to 50. For multiples of three print \"Fizz\" instead of the number and for the multiples of five print \"Buzz\". For numbers which are multiples of both three and five print \"FizzBuzz\".\n",
    "Sample Output :\n",
    "fizzbuzz\n",
    "1\n",
    "2\n",
    "fizz\n",
    "4\n",
    "buzz"
   ]
  },
  {
   "cell_type": "code",
   "execution_count": 1,
   "id": "a9079f7c",
   "metadata": {},
   "outputs": [
    {
     "name": "stdout",
     "output_type": "stream",
     "text": [
      "1\n",
      "2\n",
      "fizz\n",
      "4\n",
      "buzz\n",
      "fizz\n",
      "7\n",
      "8\n",
      "fizz\n",
      "buzz\n",
      "11\n",
      "fizz\n",
      "13\n",
      "14\n",
      "fizzbuzz\n",
      "16\n",
      "17\n",
      "fizz\n",
      "19\n",
      "buzz\n",
      "fizz\n",
      "22\n",
      "23\n",
      "fizz\n",
      "buzz\n",
      "26\n",
      "fizz\n",
      "28\n",
      "29\n",
      "fizzbuzz\n",
      "31\n",
      "32\n",
      "fizz\n",
      "34\n",
      "buzz\n",
      "fizz\n",
      "37\n",
      "38\n",
      "fizz\n",
      "buzz\n",
      "41\n",
      "fizz\n",
      "43\n",
      "44\n",
      "fizzbuzz\n",
      "46\n",
      "47\n",
      "fizz\n",
      "49\n",
      "buzz\n"
     ]
    }
   ],
   "source": [
    "for fizzbuzz in range(1,51):\n",
    "    if fizzbuzz % 3 == 0 and fizzbuzz % 5 == 0:\n",
    "        print(\"fizzbuzz\")\n",
    "        continue\n",
    "    elif fizzbuzz % 3 == 0:\n",
    "        print(\"fizz\")\n",
    "        continue\n",
    "    elif fizzbuzz % 5 == 0:\n",
    "        print(\"buzz\")\n",
    "        continue\n",
    "    print(fizzbuzz)"
   ]
  },
  {
   "cell_type": "raw",
   "id": "c12acb87",
   "metadata": {},
   "source": [
    "Write a Python program to check a triangle is equilateral, isosceles or scalene.\n",
    "Note :\n",
    "An equilateral triangle is a triangle in which all three sides are equal.\n",
    "A scalene triangle is a triangle that has three unequal sides.\n",
    "An isosceles triangle is a triangle with (at least) two equal sides."
   ]
  },
  {
   "cell_type": "code",
   "execution_count": 3,
   "id": "f84dcff6",
   "metadata": {},
   "outputs": [
    {
     "name": "stdout",
     "output_type": "stream",
     "text": [
      "Input lengths of the triangle sides: \n",
      "x: 6\n",
      "y: 8\n",
      "z: 10\n",
      "Scalene triangle\n"
     ]
    }
   ],
   "source": [
    "print(\"Input lengths of the triangle sides: \")\n",
    "x = int(input(\"x: \"))\n",
    "y = int(input(\"y: \"))\n",
    "z = int(input(\"z: \"))\n",
    "\n",
    "if x == y == z:\n",
    "    print(\"Equilateral triangle\")\n",
    "elif x==y or y==z or z==x:\n",
    "    print(\"isosceles triangle\")\n",
    "else:\n",
    "    print(\"Scalene triangle\")"
   ]
  },
  {
   "cell_type": "raw",
   "id": "05237ff6",
   "metadata": {},
   "source": [
    "Write a Python function to find the Max of three numbers."
   ]
  },
  {
   "cell_type": "code",
   "execution_count": 8,
   "id": "c706ca2e",
   "metadata": {},
   "outputs": [
    {
     "name": "stdout",
     "output_type": "stream",
     "text": [
      "10\n"
     ]
    }
   ],
   "source": [
    "def max_of_three( x, y,z ):\n",
    "    if x > y and x > z:\n",
    "        return x\n",
    "    elif y>x and y>z:  \n",
    "        return y\n",
    "    return z\n",
    "\n",
    "print(max_of_three(5, -6, 10))"
   ]
  },
  {
   "cell_type": "markdown",
   "id": "3d09358c",
   "metadata": {},
   "source": [
    "Given a string containing just the characters '(', ')', '{', '}', '[' and ']',\n",
    "determine if the input string is valid.\n",
    "An input string is valid if:\n",
    "Open brackets must be closed by the same type of brackets.\n",
    "Open brackets must be closed in the correct order.\n",
    "Note that an empty string is also considered valid.\n",
    "Example 1:\n",
    "Input: \"()\"\n",
    "Output: True\n",
    "Example 2:\n",
    "Input: \"()[]{}\"\n",
    "Output: True\n",
    "Example 3:\n",
    "Input: \"(]\"\n",
    "Output: False\n",
    "Example 4:\n",
    "Input: \"([)]\"\n",
    "Output: False\n",
    "Example 5:\n",
    "Input: \"{[]}\"\n",
    "Output: True (edited)"
   ]
  },
  {
   "cell_type": "code",
   "execution_count": 46,
   "id": "ff5a5b19",
   "metadata": {},
   "outputs": [
    {
     "name": "stdout",
     "output_type": "stream",
     "text": [
      "True\n",
      "False\n",
      "True\n"
     ]
    }
   ],
   "source": [
    "def is_valid_parenthese(str1):\n",
    "    stack, pchar = [], {\"(\": \")\", \"{\": \"}\", \"[\": \"]\"}\n",
    "    for parenthese in str1:\n",
    "            if parenthese in pchar:\n",
    "                stack.append(parenthese)\n",
    "            elif len(stack) == 0 or pchar[stack.pop()] != parenthese:\n",
    "                return False\n",
    "    return len(stack) == 0\n",
    "\n",
    "print(is_valid_parenthese(\"(){}[]\"))\n",
    "print(is_valid_parenthese(\"()[{)}\"))\n",
    "print(is_valid_parenthese(\"()\"))"
   ]
  },
  {
   "cell_type": "code",
   "execution_count": null,
   "id": "bf57de19",
   "metadata": {},
   "outputs": [],
   "source": [
    "def isValid(s):\n",
    "    while \"()\" in s or \"[]\" in s or \"{}\" in s:\n",
    "        s=s.replace(\"()\", \"\").replace(\"[]\",\"\").replace(\"{}\",\"\")\n",
    "    return s == \"\""
   ]
  },
  {
   "cell_type": "markdown",
   "id": "ab5f0c34",
   "metadata": {},
   "source": [
    "# Lowest positive integer\n",
    "Given an array of integers, find the first missing positive integer in linear time and constant space. In other words, find the lowest positive integer that does not exist in the array. The array can contain duplicates and negative numbers as well.\n",
    "For example, the input [3, 4, -1, 1] should give 2. The input [1, 2, 0] should give 3.\n",
    "You can modify the input array in-place."
   ]
  },
  {
   "cell_type": "code",
   "execution_count": 4,
   "id": "6e82e74c",
   "metadata": {},
   "outputs": [
    {
     "name": "stdout",
     "output_type": "stream",
     "text": [
      "6\n"
     ]
    }
   ],
   "source": [
    "liste= [1,2,3,4,5]\n",
    "i=0\n",
    "while True:\n",
    "    i+=1\n",
    "    if i not in liste:\n",
    "        print(i)\n",
    "        break"
   ]
  },
  {
   "cell_type": "code",
   "execution_count": 12,
   "id": "989ca6d9",
   "metadata": {},
   "outputs": [
    {
     "name": "stdout",
     "output_type": "stream",
     "text": [
      "4\n"
     ]
    }
   ],
   "source": [
    "liste= [1,2,3]\n",
    "for i in range(1,len(liste)+2):\n",
    "    if i not in liste:\n",
    "        print(i)\n",
    "        break"
   ]
  },
  {
   "cell_type": "markdown",
   "id": "dd23af8e",
   "metadata": {},
   "source": [
    "Given a string containing just the characters '(', ')', '{', '}', '[' and ']',\n",
    "determine if the input string is valid.\n",
    "An input string is valid if:\n",
    "Open brackets must be closed by the same type of brackets.\n",
    "Open brackets must be closed in the correct order.\n",
    "Note that an empty string is also considered valid."
   ]
  },
  {
   "cell_type": "code",
   "execution_count": 19,
   "id": "dab6e8c5",
   "metadata": {},
   "outputs": [
    {
     "name": "stdout",
     "output_type": "stream",
     "text": [
      "True\n"
     ]
    }
   ],
   "source": [
    "def valid(a):\n",
    "        liste = []\n",
    "        sözlük = {\"]\":\"[\", \"}\":\"{\", \")\":\"(\"}\n",
    "        for i in a:\n",
    "            if i in sözlük.values():\n",
    "                liste.append(i)\n",
    "            elif i in sözlük.keys():\n",
    "                if liste == [] or sözlük[i] != liste.pop():\n",
    "                    return False\n",
    "            else:\n",
    "                return False\n",
    "        return liste == []\n",
    "print(valid('()()[]'))"
   ]
  },
  {
   "cell_type": "code",
   "execution_count": null,
   "id": "067dedca",
   "metadata": {},
   "outputs": [],
   "source": [
    "def isValid(s):\n",
    "    while \"()\" in s or \"[]\" in s or \"{}\" in s:\n",
    "        s=s.replace(\"()\", \"\").replace(\"[]\",\"\").replace(\"{}\",\"\")\n",
    "    return s == \"\""
   ]
  },
  {
   "cell_type": "markdown",
   "id": "16ef69c6",
   "metadata": {},
   "source": [
    "Create a function that returns a list containing the prime factors of whatever integer is passed to it.\n",
    "\n",
    "Examples\n",
    "prime_factors(20) ➞ [2, 2, 5]\n",
    "\n",
    "prime_factors(100) ➞ [2, 2, 5, 5]\n",
    "\n",
    "prime_factors(8912234) ➞ [2, 47, 94811]"
   ]
  },
  {
   "cell_type": "code",
   "execution_count": 1,
   "id": "98ea5ac9",
   "metadata": {},
   "outputs": [],
   "source": [
    "def prime_factors(n):\n",
    "    lst = []\n",
    "    for i in range(2,n):\n",
    "        if n % i == 0:\n",
    "            while n % i == 0:\n",
    "                lst.append(i)\n",
    "                n = n / i\n",
    "    return lst"
   ]
  },
  {
   "cell_type": "code",
   "execution_count": 3,
   "id": "b0be1572",
   "metadata": {},
   "outputs": [
    {
     "data": {
      "text/plain": [
       "[2, 2, 5, 5]"
      ]
     },
     "execution_count": 3,
     "metadata": {},
     "output_type": "execute_result"
    }
   ],
   "source": [
    "prime_factors(100)"
   ]
  },
  {
   "cell_type": "markdown",
   "id": "cc461eab",
   "metadata": {},
   "source": [
    "Create a function that takes a number num and returns each place value in the number.\n",
    "\n",
    "Examples\n",
    "num_split(39) ➞ [30, 9]\n",
    "\n",
    "num_split(-434) ➞ [-400, -30, -4]\n",
    "\n",
    "num_split(100) ➞ [100, 0, 0]"
   ]
  },
  {
   "cell_type": "code",
   "execution_count": 42,
   "id": "e293d3f3",
   "metadata": {},
   "outputs": [
    {
     "name": "stdout",
     "output_type": "stream",
     "text": [
      "Enter Number: -434\n",
      "[-400, -30, -4]\n"
     ]
    }
   ],
   "source": [
    "num = int(input(\"Enter Number: \"))\n",
    "new_num=abs(num)\n",
    "c = 1\n",
    "pos_nums = []\n",
    "while new_num != 0:\n",
    "    z = new_num % 10\n",
    "    pos_nums.append(z *c)\n",
    "    new_num = new_num // 10\n",
    "    c = c*10\n",
    "if num > 0:\n",
    "    print(pos_nums[::-1])\n",
    "else:\n",
    "    a=[]\n",
    "    for i in pos_nums[::-1]:\n",
    "        b=-1*i\n",
    "        a.append(b)\n",
    "    print(a)"
   ]
  },
  {
   "cell_type": "raw",
   "id": "bacace47",
   "metadata": {},
   "source": [
    "Write a Python program to find the values of length six in a given list using Lambda.\n",
    "Sample Output:\n",
    "Monday\n",
    "Friday\n",
    "Sunday"
   ]
  },
  {
   "cell_type": "code",
   "execution_count": 1,
   "id": "8891d70a",
   "metadata": {},
   "outputs": [
    {
     "name": "stdout",
     "output_type": "stream",
     "text": [
      "Monday\n",
      "Friday\n",
      "Sunday\n"
     ]
    }
   ],
   "source": [
    "weekdays = ['Monday', 'Tuesday', 'Wednesday', 'Thursday', 'Friday', 'Saturday', 'Sunday'] \n",
    "days = filter(lambda day: day if len(day)==6 else '', weekdays) \n",
    "for d in days: \n",
    "    print(d)"
   ]
  },
  {
   "cell_type": "raw",
   "id": "a0f3ba3e",
   "metadata": {},
   "source": [
    "Verilen bir boş olmayan demetler listesinden her bir demetteki son elemana göre artan düzende sıralanmış bir liste elde etmek için bir Python programı yazın.\n",
    "Örnek Liste : [(2, 5), (1, 2), (4, 4), (2, 3), (2, 1)]\n",
    "Beklenen Sonuç : [(2, 1), (1 , 2), (2, 3), (4, 4), (2, 5)]"
   ]
  },
  {
   "cell_type": "code",
   "execution_count": 6,
   "id": "2c14c035",
   "metadata": {},
   "outputs": [
    {
     "ename": "TypeError",
     "evalue": "'int' object is not subscriptable",
     "output_type": "error",
     "traceback": [
      "\u001b[1;31m---------------------------------------------------------------------------\u001b[0m",
      "\u001b[1;31mTypeError\u001b[0m                                 Traceback (most recent call last)",
      "\u001b[1;32m<ipython-input-6-425cadf6a85a>\u001b[0m in \u001b[0;36m<module>\u001b[1;34m\u001b[0m\n\u001b[0;32m      5\u001b[0m     \u001b[1;32mfor\u001b[0m \u001b[0mj\u001b[0m \u001b[1;32min\u001b[0m \u001b[0mi\u001b[0m\u001b[1;33m:\u001b[0m\u001b[1;33m\u001b[0m\u001b[1;33m\u001b[0m\u001b[0m\n\u001b[0;32m      6\u001b[0m         \u001b[1;32mfor\u001b[0m \u001b[0mx\u001b[0m \u001b[1;32min\u001b[0m \u001b[0mrange\u001b[0m\u001b[1;33m(\u001b[0m\u001b[1;36m1\u001b[0m\u001b[1;33m,\u001b[0m\u001b[1;36m10\u001b[0m\u001b[1;33m)\u001b[0m\u001b[1;33m:\u001b[0m\u001b[1;33m\u001b[0m\u001b[1;33m\u001b[0m\u001b[0m\n\u001b[1;32m----> 7\u001b[1;33m             \u001b[1;32mif\u001b[0m \u001b[0mj\u001b[0m\u001b[1;33m[\u001b[0m\u001b[1;36m1\u001b[0m\u001b[1;33m]\u001b[0m\u001b[1;33m==\u001b[0m \u001b[0mint\u001b[0m\u001b[1;33m(\u001b[0m\u001b[0mx\u001b[0m\u001b[1;33m)\u001b[0m\u001b[1;33m:\u001b[0m\u001b[1;33m\u001b[0m\u001b[1;33m\u001b[0m\u001b[0m\n\u001b[0m\u001b[0;32m      8\u001b[0m                 \u001b[0ma\u001b[0m\u001b[1;33m.\u001b[0m\u001b[0mappend\u001b[0m\u001b[1;33m(\u001b[0m\u001b[0mj\u001b[0m\u001b[1;33m)\u001b[0m\u001b[1;33m\u001b[0m\u001b[1;33m\u001b[0m\u001b[0m\n\u001b[0;32m      9\u001b[0m             \u001b[1;32mbreak\u001b[0m\u001b[1;33m\u001b[0m\u001b[1;33m\u001b[0m\u001b[0m\n",
      "\u001b[1;31mTypeError\u001b[0m: 'int' object is not subscriptable"
     ]
    }
   ],
   "source": [
    "liste = [(2, 5), (1, 2), (4, 4), (2, 3), (2, 1)]\n",
    "a=[]\n",
    "\n",
    "for i in liste:\n",
    "    for j in i:\n",
    "        for x in range(1,10):\n",
    "            if j[1]== int(x):\n",
    "                a.append(j)\n",
    "            break \n",
    "print(a)\n",
    "            "
   ]
  },
  {
   "cell_type": "code",
   "execution_count": 7,
   "id": "06635ce3",
   "metadata": {},
   "outputs": [
    {
     "name": "stdout",
     "output_type": "stream",
     "text": [
      "[(2, 1), (1, 2), (2, 3), (4, 4), (2, 5)]\n"
     ]
    }
   ],
   "source": [
    "a=[(2, 5), (1, 2), (4, 4), (2, 3), (2, 1)]\n",
    "print([j[::-1] for j in sorted([i[::-1] for i in a])])\n",
    "# b=[]\n",
    "# c=[]\n",
    "# for i in a:\n",
    "#     b.append(i[::-1])\n",
    "# for i in sorted(b):\n",
    "#     c.append(i[::-1])\n",
    "# print(c)"
   ]
  },
  {
   "cell_type": "code",
   "execution_count": null,
   "id": "3272bec9",
   "metadata": {},
   "outputs": [],
   "source": []
  },
  {
   "cell_type": "code",
   "execution_count": 4,
   "id": "3711e4f1",
   "metadata": {},
   "outputs": [],
   "source": [
    "def freed_prisoners(prison):\n",
    "    if prison[0] == 0:\n",
    "        return 0\n",
    "    count = 1\n",
    "    for i in range(1, len(prison)):\n",
    "        if prison[i] != prison[i-1]:\n",
    "            count += 1\n",
    "    return count"
   ]
  },
  {
   "cell_type": "code",
   "execution_count": 7,
   "id": "7d438124",
   "metadata": {},
   "outputs": [
    {
     "data": {
      "text/plain": [
       "4"
      ]
     },
     "execution_count": 7,
     "metadata": {},
     "output_type": "execute_result"
    }
   ],
   "source": [
    "freed_prisoners([1, 1, 0, 0, 0, 1, 0])"
   ]
  },
  {
   "cell_type": "code",
   "execution_count": 10,
   "id": "566816fa",
   "metadata": {},
   "outputs": [],
   "source": [
    "def freed_prisoners(prison):\n",
    "    freed = [k for k in prison]\n",
    "    return len(freed) if freed[0] == 1 else 0"
   ]
  },
  {
   "cell_type": "code",
   "execution_count": 11,
   "id": "f038707f",
   "metadata": {},
   "outputs": [
    {
     "data": {
      "text/plain": [
       "7"
      ]
     },
     "execution_count": 11,
     "metadata": {},
     "output_type": "execute_result"
    }
   ],
   "source": [
    "freed_prisoners([1, 1, 0, 0, 0, 1, 0])"
   ]
  },
  {
   "cell_type": "raw",
   "id": "fee0697d",
   "metadata": {},
   "source": [
    "Define a function to take a word and return negative meaning.\n",
    "Given a word, return a new word where \"not \" has been added to the front. However, if the word already begins with \"not\", return the string unchanged.\n",
    "\n",
    "For example:\n",
    "\n",
    "Test\tResult\n",
    "print(not_string('sugar'))\n",
    "not sugar\n",
    "print(not_string('x'))\n",
    "not x\n",
    "print(not_string('not bad'))\n",
    "not bad"
   ]
  },
  {
   "cell_type": "code",
   "execution_count": 22,
   "id": "9d139f47",
   "metadata": {},
   "outputs": [],
   "source": [
    "def not_string(word):\n",
    "    if \"not\" not in word:\n",
    "        new_word=\"not\"+\" \"+word\n",
    "        return new_word\n",
    "    else:\n",
    "        return word"
   ]
  },
  {
   "cell_type": "code",
   "execution_count": 24,
   "id": "3f93119d",
   "metadata": {},
   "outputs": [
    {
     "name": "stdout",
     "output_type": "stream",
     "text": [
      "not sugar\n"
     ]
    }
   ],
   "source": [
    "print(not_string('not sugar'))"
   ]
  },
  {
   "cell_type": "raw",
   "id": "f3b445a6",
   "metadata": {},
   "source": [
    "Problem :\n",
    "Given a collection of distinct integers, return all possible permutations.\n",
    "Example:\n",
    "Input:\n",
    "[1,2,3]\n",
    "Output:\n",
    "[\n",
    "  [1,2,3],\n",
    "  [1,3,2],\n",
    "  [2,1,3],\n",
    "  [2,3,1],\n",
    "  [3,1,2],\n",
    "  [3,2,1]\n",
    "]"
   ]
  },
  {
   "cell_type": "code",
   "execution_count": 13,
   "id": "c35e377e",
   "metadata": {},
   "outputs": [
    {
     "name": "stdout",
     "output_type": "stream",
     "text": [
      "[1, 2, 3]\n",
      "[1, 3, 2]\n",
      "[2, 1, 3]\n",
      "[2, 3, 1]\n",
      "[3, 2, 1]\n",
      "[3, 1, 2]\n"
     ]
    }
   ],
   "source": [
    "def permütasyon(num, i=0):\n",
    "    \n",
    "    if i == len(num):\n",
    "        print (num)\n",
    "    else:\n",
    "        for x in range(i, len(num)):\n",
    "            num[i], num[x] = num[x] ,num[i]\n",
    "            permütasyon(num, i+1)\n",
    "            num[i], num[x] = num[x], num[i]\n",
    "\n",
    "permütasyon([1,2,3])"
   ]
  },
  {
   "cell_type": "code",
   "execution_count": 5,
   "id": "2dc6048f",
   "metadata": {},
   "outputs": [
    {
     "name": "stdout",
     "output_type": "stream",
     "text": [
      "[[1, 2, 3], [1, 3, 2], [2, 1, 3], [2, 3, 1], [3, 1, 2], [3, 2, 1]]\n"
     ]
    }
   ],
   "source": [
    "num_list = [1,2,3]\n",
    "list_Perm = [[a, b, c]                \n",
    "            for a in num_list\n",
    "            for b in num_list\n",
    "            for c in num_list\n",
    "            if ( a != b and b != c and a != c )\n",
    "            ]\n",
    "print (list_Perm)"
   ]
  },
  {
   "cell_type": "raw",
   "id": "3383175d",
   "metadata": {},
   "source": [
    "Write a Python program to rearrange positive and negative numbers in a given array using Lambda. Go to the editor\n",
    "Original arrays:\n",
    "[-1, 2, -3, 5, 7, 8, 9, -10]\n",
    "Rearrange positive and negative numbers of the said array:\n",
    "[2, 5, 7, 8, 9, -10, -3, -1]"
   ]
  },
  {
   "cell_type": "code",
   "execution_count": 26,
   "id": "76bfcd35",
   "metadata": {},
   "outputs": [
    {
     "name": "stdout",
     "output_type": "stream",
     "text": [
      "Original arrays:\n",
      "[-1, 2, -3, 5, 7, 8, 9, -10]\n",
      "\n",
      "Rearrange positive and negative numbers of the said array:\n",
      "[2, 5, 7, 8, 9, -10, -3, -1]\n"
     ]
    }
   ],
   "source": [
    "nums = [-1, 2, -3, 5, 7, 8, 9, -10]\n",
    "print(\"Original arrays:\", array_nums, sep=\"\\n\")\n",
    "\n",
    "result = sorted(nums, key = lambda i: 0 if i == 0 else -1 / i)\n",
    "print(\"\\nRearrange positive and negative numbers of the said array:\", result, sep=\"\\n\")"
   ]
  },
  {
   "cell_type": "code",
   "execution_count": null,
   "id": "6e89ccf5",
   "metadata": {},
   "outputs": [],
   "source": []
  }
 ],
 "metadata": {
  "kernelspec": {
   "display_name": "Python 3",
   "language": "python",
   "name": "python3"
  },
  "language_info": {
   "codemirror_mode": {
    "name": "ipython",
    "version": 3
   },
   "file_extension": ".py",
   "mimetype": "text/x-python",
   "name": "python",
   "nbconvert_exporter": "python",
   "pygments_lexer": "ipython3",
   "version": "3.8.8"
  }
 },
 "nbformat": 4,
 "nbformat_minor": 5
}
