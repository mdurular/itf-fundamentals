{
 "cells": [
  {
   "cell_type": "code",
   "execution_count": 49,
   "id": "86935f77",
   "metadata": {},
   "outputs": [],
   "source": [
    "# studentA: Allen Carter, Math, (70,60,70)\n",
    "# studentB: Bob Black, Math, (80,80,70)\n",
    "# studentC: Joseph Ins, Math, (80,70,90)\n",
    "\n",
    "liste = [['Allen Carter', 'Math', [70,60,70]], ['Bob Black', 'Math', [80,80,70]],['Joseph Ins', 'Math', [80,70,90]]]"
   ]
  },
  {
   "cell_type": "code",
   "execution_count": 50,
   "id": "30ba11a6",
   "metadata": {},
   "outputs": [
    {
     "name": "stdout",
     "output_type": "stream",
     "text": [
      "Allen Carter : 67 \n",
      " Bob Black : 77 \n",
      " Joseph Ins : 80\n"
     ]
    }
   ],
   "source": [
    "print(liste[0][0], ':', round(sum(liste[0][2])/len(liste[0][2])), '\\n', \n",
    "      liste[1][0], ':', round(sum(liste[1][2])/len(liste[1][2])), '\\n',\n",
    "      liste[2][0], ':', round(sum(liste[2][2])/len(liste[2][2])))"
   ]
  },
  {
   "cell_type": "markdown",
   "id": "cd9436bc",
   "metadata": {},
   "source": [
    "# Kullanıcıdan integer bir değer alan ve sayının pozitif-çift sayı olup olmadığını kontrol eden program yazınız."
   ]
  },
  {
   "cell_type": "code",
   "execution_count": 8,
   "id": "faa258f7",
   "metadata": {},
   "outputs": [
    {
     "name": "stdout",
     "output_type": "stream",
     "text": [
      "Enter a number:0\n",
      "It is an invalid entry. Don't use non-numeric, float, or negative values!\n"
     ]
    }
   ],
   "source": [
    "num = (input(\"Enter a number:\"))\n",
    "if num.isdigit():\n",
    "    num1 = int(num)\n",
    "    if num1 > 0:\n",
    "        if num1 % 2 == 0: \n",
    "            print(num, \",is a even number\")\n",
    "        else:\n",
    "            print(num, \"is a odd number\")\n",
    "    else:\n",
    "        print(\"It is an invalid entry. Don't use non-numeric, float, or negative values!\")\n",
    "else:\n",
    "    print(\"It is an invalid entry. Don't use non-numeric, float, or negative values!\")"
   ]
  },
  {
   "cell_type": "markdown",
   "id": "1965da11",
   "metadata": {},
   "source": [
    "# soru\n",
    "Kullanıcıdan bir cümle alan ve cümle içerisinde geçen sesli harflerin her birinden kaçar tane olduğunu çıktı veren bir program yazınız.\n",
    "Girilen harflerin küçük/büyük olabileceği ihtimalini göz önünde bulundurunuz.\n",
    "Kolay Gelsin...\n",
    "Beklenen Çıktı:\n",
    "cümle: Sakla samanı gelir zamanı.\n",
    "a: 6\n",
    "ı: 2\n",
    "e: 1\n",
    "i: 1 (edited) "
   ]
  },
  {
   "cell_type": "code",
   "execution_count": 11,
   "id": "cdc0de59",
   "metadata": {},
   "outputs": [
    {
     "name": "stdout",
     "output_type": "stream",
     "text": [
      "{'a': 6, 'i': 3, 'e': 1}\n"
     ]
    }
   ],
   "source": [
    "cumle = \"Sakla samani gelir zamani\"\n",
    "vowels = \"aeiouAEIOU\"\n",
    "a={}\n",
    "for i in cumle:\n",
    "    if i in vowels:\n",
    "        if i not in a:\n",
    "            a[i] = 1\n",
    "        else:\n",
    "            a[i] = cumle.count(i)  \n",
    "print(a)"
   ]
  },
  {
   "cell_type": "markdown",
   "id": "59a55d7a",
   "metadata": {},
   "source": [
    "# Write a Python code to sort the list at below without using .sort() method of list. elements of list = [999, 333, 2, 8982, 12, 45, 77, 99, 11] Expected output: [2, 11, 12, 45, 77, 99, 333, 999, 8982]"
   ]
  },
  {
   "cell_type": "code",
   "execution_count": 15,
   "id": "cec48dd3",
   "metadata": {},
   "outputs": [
    {
     "name": "stdout",
     "output_type": "stream",
     "text": [
      "The sorted num_list1 is [2, 11, 12, 45, 77, 99, 333, 999, 8982]\n"
     ]
    }
   ],
   "source": [
    "num_list1 = [999, 333, 2, 8982, 12, 45, 77, 99, 11]\n",
    "num_list2 = []\n",
    "for i in range(len(num_list1)):\n",
    "    minimum = min(num_list1)\n",
    "    num_list2.append(minimum)\n",
    "    num_list1.remove(minimum)\n",
    "print(\"The sorted num_list1 is {}\".format(num_list2))"
   ]
  },
  {
   "cell_type": "markdown",
   "id": "537ee4d7",
   "metadata": {},
   "source": [
    "# Aynı zamanda hem 2'ye hem 4'e hem de 5'e bölünebilen sayılara xyz sayısı diyelim. Hem 2'ye hem de 5'e bölünebilen sayılar ise abc sayısı olsun. 100 ile 100.000 arasındaki xyz sayılarından kaç tanesi aynı zamanda abc sayısıdır?"
   ]
  },
  {
   "cell_type": "code",
   "execution_count": 21,
   "id": "49b4db20",
   "metadata": {},
   "outputs": [
    {
     "name": "stdout",
     "output_type": "stream",
     "text": [
      "4995\n"
     ]
    }
   ],
   "source": [
    "abc = []\n",
    "xyz = []\n",
    "\n",
    "for i in range(100,100000):\n",
    "    if i % 2 == 0 and i % 5 == 0:\n",
    "        abc.append(i)\n",
    "\n",
    "for i in range(100,100000):\n",
    "    if i % 2 == 0 and i % 5 == 0 and i % 4 ==0:\n",
    "        xyz.append(i)\n",
    "\n",
    "\n",
    "print(len(set(abc).intersection(set(xyz))))\n"
   ]
  },
  {
   "cell_type": "markdown",
   "id": "e33f4bf0",
   "metadata": {},
   "source": [
    "# fibonacci"
   ]
  },
  {
   "cell_type": "code",
   "execution_count": 8,
   "id": "68fcb6ac",
   "metadata": {},
   "outputs": [
    {
     "name": "stdout",
     "output_type": "stream",
     "text": [
      "fibonacci sayıları: [1, 2, 3, 5, 8, 13, 21, 34]\n"
     ]
    }
   ],
   "source": [
    "x,y=0,1\n",
    "fibonacci=[]\n",
    "while x+y<50:\n",
    "    x,y = y,x+y\n",
    "    fibonacci.append(y)\n",
    "print(\"fibonacci sayıları:\", fibonacci)"
   ]
  },
  {
   "cell_type": "markdown",
   "id": "6eb8bb2c",
   "metadata": {},
   "source": [
    "# ATMden işllemleri programı"
   ]
  },
  {
   "cell_type": "code",
   "execution_count": null,
   "id": "944cd670",
   "metadata": {},
   "outputs": [
    {
     "name": "stdout",
     "output_type": "stream",
     "text": [
      "********************\n",
      " Welcome The Clarusway Bank\n",
      "********************\n",
      "\n",
      "İşlemler:\n",
      "\n",
      "1. Bakiye Sorgulama\n",
      "2. Para Yatırma\n",
      "3. Para Çekme\n",
      "\n",
      "Programdan 'q' tuşu ile çıkabilirsiniz.\n",
      "\n",
      "\n"
     ]
    }
   ],
   "source": [
    "print(\"********************\\n Welcome The Clarusway Bank\\n********************\")\n",
    "\n",
    "print(\"\"\"\n",
    "İşlemler:\n",
    "\n",
    "1. Bakiye Sorgulama\n",
    "2. Para Yatırma\n",
    "3. Para Çekme\n",
    "\n",
    "Programdan 'q' tuşu ile çıkabilirsiniz.\n",
    "\n",
    "\"\"\")\n",
    "\n",
    "bakiye  = 1000 # Bakiyemiz 1000 lira olsun.\n",
    "\n",
    "while True:\n",
    "    işlem = input(\"İşlemi giriniz:\")\n",
    "\n",
    "    if (işlem == \"q\"):\n",
    "        print(\"Yine bekleriz....\")\n",
    "        break\n",
    "    elif (işlem == \"1\"):\n",
    "        print(\"Bakiyeniz {} tldir\".format(bakiye))\n",
    "    elif (işlem == \"2\"):\n",
    "        miktar = int(input(\"Yatırmak istediğiniz tutar:\"))\n",
    "\n",
    "        bakiye += miktar\n",
    "    elif (işlem == \"3\"):\n",
    "        miktar = int(input(\"Çekmek istediğiniz tutar:\"))\n",
    "        if (bakiye - miktar < 0 ):\n",
    "            print(\"Bu kadar para çekemezsiniz...\")\n",
    "            print(\"Bakiyeniz {} tldir\".format(bakiye))\n",
    "            continue\n",
    "        bakiye -= miktar\n",
    "\n",
    "    else:\n",
    "        print(\"Lütfen geçerli bir işlem giriniz.\")"
   ]
  },
  {
   "cell_type": "markdown",
   "id": "4246ba86",
   "metadata": {},
   "source": [
    "# Doğduğunuz yıl için Çin Zodyakının işaretini gösteren bir Python programı yazın. "
   ]
  },
  {
   "cell_type": "code",
   "execution_count": 34,
   "id": "a79e43ed",
   "metadata": {},
   "outputs": [
    {
     "name": "stdout",
     "output_type": "stream",
     "text": [
      "Doğum yılınızı girin :  1973\n",
      "Burcunuz : Öküz\n"
     ]
    }
   ],
   "source": [
    "year = int(input(\"Doğum yılınızı girin :  \"))\n",
    "if year % 12 == 8:\n",
    "    animal = \"Ejderha\"\n",
    "elif year % 12 == 9:\n",
    "    animal = \"Yılan\"\n",
    "elif year % 12 == 10:\n",
    "    animal = \"At\"\n",
    "elif year % 12 == 11:\n",
    "    animal = \"Keçi\"\n",
    "elif year % 12 == 0:\n",
    "    animal = \"Maymun\"\n",
    "elif year % 12 == 1:\n",
    "    animal = \"Horoz\"\n",
    "elif year % 12 == 2:\n",
    "    animal = \"Köpek\"\n",
    "elif year % 12 == 3:\n",
    "    animal = \"Domuz\"\n",
    "elif year % 12 == 4:\n",
    "    animal = \"Sıçan\"\n",
    "elif year % 12 == 5:\n",
    "    animal = \"Öküz\"\n",
    "elif year % 12 == 6:\n",
    "    animal = \"Kaplan\"\n",
    "elif year % 12 == 7:\n",
    "    animal = \"Tavşan\"\n",
    "\n",
    "print(\"Burcunuz :\",animal)    "
   ]
  },
  {
   "cell_type": "markdown",
   "id": "fcddcb88",
   "metadata": {},
   "source": [
    "# İnput olarak aldığımız cümlenin içindeki sesli harfleri kaldıran bir kod yazalım"
   ]
  },
  {
   "cell_type": "code",
   "execution_count": 55,
   "id": "e1266f05",
   "metadata": {},
   "outputs": [
    {
     "name": "stdout",
     "output_type": "stream",
     "text": [
      "Enter a sentence:Hayat beni neden yoruyosun?:)\n",
      "hyt bn ndn yrysn?:)\n"
     ]
    }
   ],
   "source": [
    "sentence =input(\"Enter a sentence:\").lower()\n",
    "vowel=(\"aeioüuö\")\n",
    "for i in sentence:\n",
    "    if i in vowel:\n",
    "        sentence = sentence.replace(str(i), \"\")\n",
    "print(sentence)"
   ]
  },
  {
   "cell_type": "markdown",
   "id": "6e9369b9",
   "metadata": {},
   "source": [
    "# Write a function that groups a string into parentheses cluster. Each cluster should be balanced.\n",
    "\n",
    "Examples\n",
    "\n",
    "split(\"()()()\") ➞ [\"()\", \"()\", \"()\"]\n",
    "\n",
    "split(\"((()))\") ➞ [\"((()))\"]\n",
    "\n",
    "split(\"((()))(())()()(()())\") ➞ [\"((()))\", \"(())\", \"()\", \"()\", \"(()())\"]\n",
    "\n",
    "split(\"((())())(()(()()))\") ➞ [\"((())())\", \"(()(()()))\"]\n",
    "\n",
    "Notes All input strings will only contain parentheses. Balanced: Every opening parens ( must exist with its matching closing parens ) in the same cluster."
   ]
  },
  {
   "cell_type": "code",
   "execution_count": 3,
   "id": "5a071fc9",
   "metadata": {},
   "outputs": [
    {
     "name": "stdout",
     "output_type": "stream",
     "text": [
      "Write only parentheses : (())()()\n",
      "['(())', '()', '()']\n"
     ]
    }
   ],
   "source": [
    "par = input(\"Write only parentheses : \")\n",
    "list1=[]\n",
    "list2=[]\n",
    "par_split=[]\n",
    "for i in range(len(par)):\n",
    "    if par[i]==\"(\":\n",
    "        list1.append(\"(\")\n",
    "        list2.append(\"(\")\n",
    "    elif par[i]==\")\":\n",
    "        list1.pop()\n",
    "        list2.append(\")\")\n",
    "        if len(list1)==0:\n",
    "            par_split.append(\"\".join(list2))\n",
    "            list2.clear()\n",
    "print(par_split) "
   ]
  },
  {
   "cell_type": "code",
   "execution_count": 6,
   "id": "9712bcf2",
   "metadata": {},
   "outputs": [
    {
     "name": "stdout",
     "output_type": "stream",
     "text": [
      "\n",
      "*\n",
      "**\n",
      "***\n",
      "****\n",
      "*****\n",
      "****\n",
      "***\n",
      "**\n",
      "*\n"
     ]
    }
   ],
   "source": [
    "for i in range(5):\n",
    "    print(\"*\"*i)\n",
    "i=5\n",
    "while i<=5 and i>=1:\n",
    "    print(\"*\"*i)\n",
    "    i-=1"
   ]
  },
  {
   "cell_type": "raw",
   "id": "e5e23173",
   "metadata": {},
   "source": [
    "# Write a Python program which iterates the integers from 1 to 50. For multiples of three print \"Fizz\" instead of the number and for the multiples of five print \"Buzz\". For numbers which are multiples of both three and five print \"FizzBuzz\".\n",
    "Sample Output :\n",
    "fizzbuzz\n",
    "1\n",
    "2\n",
    "fizz\n",
    "4\n",
    "buzz"
   ]
  },
  {
   "cell_type": "code",
   "execution_count": 1,
   "id": "a9079f7c",
   "metadata": {},
   "outputs": [
    {
     "name": "stdout",
     "output_type": "stream",
     "text": [
      "1\n",
      "2\n",
      "fizz\n",
      "4\n",
      "buzz\n",
      "fizz\n",
      "7\n",
      "8\n",
      "fizz\n",
      "buzz\n",
      "11\n",
      "fizz\n",
      "13\n",
      "14\n",
      "fizzbuzz\n",
      "16\n",
      "17\n",
      "fizz\n",
      "19\n",
      "buzz\n",
      "fizz\n",
      "22\n",
      "23\n",
      "fizz\n",
      "buzz\n",
      "26\n",
      "fizz\n",
      "28\n",
      "29\n",
      "fizzbuzz\n",
      "31\n",
      "32\n",
      "fizz\n",
      "34\n",
      "buzz\n",
      "fizz\n",
      "37\n",
      "38\n",
      "fizz\n",
      "buzz\n",
      "41\n",
      "fizz\n",
      "43\n",
      "44\n",
      "fizzbuzz\n",
      "46\n",
      "47\n",
      "fizz\n",
      "49\n",
      "buzz\n"
     ]
    }
   ],
   "source": [
    "for fizzbuzz in range(1,51):\n",
    "    if fizzbuzz % 3 == 0 and fizzbuzz % 5 == 0:\n",
    "        print(\"fizzbuzz\")\n",
    "        continue\n",
    "    elif fizzbuzz % 3 == 0:\n",
    "        print(\"fizz\")\n",
    "        continue\n",
    "    elif fizzbuzz % 5 == 0:\n",
    "        print(\"buzz\")\n",
    "        continue\n",
    "    print(fizzbuzz)"
   ]
  },
  {
   "cell_type": "raw",
   "id": "c12acb87",
   "metadata": {},
   "source": [
    "Write a Python program to check a triangle is equilateral, isosceles or scalene.\n",
    "Note :\n",
    "An equilateral triangle is a triangle in which all three sides are equal.\n",
    "A scalene triangle is a triangle that has three unequal sides.\n",
    "An isosceles triangle is a triangle with (at least) two equal sides."
   ]
  },
  {
   "cell_type": "code",
   "execution_count": 3,
   "id": "f84dcff6",
   "metadata": {},
   "outputs": [
    {
     "name": "stdout",
     "output_type": "stream",
     "text": [
      "Input lengths of the triangle sides: \n",
      "x: 6\n",
      "y: 8\n",
      "z: 10\n",
      "Scalene triangle\n"
     ]
    }
   ],
   "source": [
    "print(\"Input lengths of the triangle sides: \")\n",
    "x = int(input(\"x: \"))\n",
    "y = int(input(\"y: \"))\n",
    "z = int(input(\"z: \"))\n",
    "\n",
    "if x == y == z:\n",
    "    print(\"Equilateral triangle\")\n",
    "elif x==y or y==z or z==x:\n",
    "    print(\"isosceles triangle\")\n",
    "else:\n",
    "    print(\"Scalene triangle\")"
   ]
  },
  {
   "cell_type": "raw",
   "id": "05237ff6",
   "metadata": {},
   "source": [
    "Write a Python function to find the Max of three numbers."
   ]
  },
  {
   "cell_type": "code",
   "execution_count": 8,
   "id": "c706ca2e",
   "metadata": {},
   "outputs": [
    {
     "name": "stdout",
     "output_type": "stream",
     "text": [
      "10\n"
     ]
    }
   ],
   "source": [
    "def max_of_three( x, y,z ):\n",
    "    if x > y and x > z:\n",
    "        return x\n",
    "    elif y>x and y>z:  \n",
    "        return y\n",
    "    return z\n",
    "\n",
    "print(max_of_three(5, -6, 10))"
   ]
  },
  {
   "cell_type": "markdown",
   "id": "3d09358c",
   "metadata": {},
   "source": [
    "Given a string containing just the characters '(', ')', '{', '}', '[' and ']',\n",
    "determine if the input string is valid.\n",
    "An input string is valid if:\n",
    "Open brackets must be closed by the same type of brackets.\n",
    "Open brackets must be closed in the correct order.\n",
    "Note that an empty string is also considered valid.\n",
    "Example 1:\n",
    "Input: \"()\"\n",
    "Output: True\n",
    "Example 2:\n",
    "Input: \"()[]{}\"\n",
    "Output: True\n",
    "Example 3:\n",
    "Input: \"(]\"\n",
    "Output: False\n",
    "Example 4:\n",
    "Input: \"([)]\"\n",
    "Output: False\n",
    "Example 5:\n",
    "Input: \"{[]}\"\n",
    "Output: True (edited)"
   ]
  },
  {
   "cell_type": "code",
   "execution_count": 46,
   "id": "ff5a5b19",
   "metadata": {},
   "outputs": [
    {
     "name": "stdout",
     "output_type": "stream",
     "text": [
      "True\n",
      "False\n",
      "True\n"
     ]
    }
   ],
   "source": [
    "def is_valid_parenthese(str1):\n",
    "    stack, pchar = [], {\"(\": \")\", \"{\": \"}\", \"[\": \"]\"}\n",
    "    for parenthese in str1:\n",
    "            if parenthese in pchar:\n",
    "                stack.append(parenthese)\n",
    "            elif len(stack) == 0 or pchar[stack.pop()] != parenthese:\n",
    "                return False\n",
    "    return len(stack) == 0\n",
    "\n",
    "print(is_valid_parenthese(\"(){}[]\"))\n",
    "print(is_valid_parenthese(\"()[{)}\"))\n",
    "print(is_valid_parenthese(\"()\"))"
   ]
  },
  {
   "cell_type": "code",
   "execution_count": null,
   "id": "bf57de19",
   "metadata": {},
   "outputs": [],
   "source": [
    "def isValid(s):\n",
    "    while \"()\" in s or \"[]\" in s or \"{}\" in s:\n",
    "        s=s.replace(\"()\", \"\").replace(\"[]\",\"\").replace(\"{}\",\"\")\n",
    "    return s == \"\""
   ]
  },
  {
   "cell_type": "markdown",
   "id": "ab5f0c34",
   "metadata": {},
   "source": [
    "# Lowest positive integer\n",
    "Given an array of integers, find the first missing positive integer in linear time and constant space. In other words, find the lowest positive integer that does not exist in the array. The array can contain duplicates and negative numbers as well.\n",
    "For example, the input [3, 4, -1, 1] should give 2. The input [1, 2, 0] should give 3.\n",
    "You can modify the input array in-place."
   ]
  },
  {
   "cell_type": "code",
   "execution_count": 4,
   "id": "6e82e74c",
   "metadata": {},
   "outputs": [
    {
     "name": "stdout",
     "output_type": "stream",
     "text": [
      "6\n"
     ]
    }
   ],
   "source": [
    "liste= [1,2,3,4,5]\n",
    "i=0\n",
    "while True:\n",
    "    i+=1\n",
    "    if i not in liste:\n",
    "        print(i)\n",
    "        break"
   ]
  },
  {
   "cell_type": "code",
   "execution_count": 12,
   "id": "989ca6d9",
   "metadata": {},
   "outputs": [
    {
     "name": "stdout",
     "output_type": "stream",
     "text": [
      "4\n"
     ]
    }
   ],
   "source": [
    "liste= [1,2,3]\n",
    "for i in range(1,len(liste)+2):\n",
    "    if i not in liste:\n",
    "        print(i)\n",
    "        break"
   ]
  },
  {
   "cell_type": "markdown",
   "id": "dd23af8e",
   "metadata": {},
   "source": [
    "Given a string containing just the characters '(', ')', '{', '}', '[' and ']',\n",
    "determine if the input string is valid.\n",
    "An input string is valid if:\n",
    "Open brackets must be closed by the same type of brackets.\n",
    "Open brackets must be closed in the correct order.\n",
    "Note that an empty string is also considered valid."
   ]
  },
  {
   "cell_type": "code",
   "execution_count": 19,
   "id": "dab6e8c5",
   "metadata": {},
   "outputs": [
    {
     "name": "stdout",
     "output_type": "stream",
     "text": [
      "True\n"
     ]
    }
   ],
   "source": [
    "def valid(a):\n",
    "        liste = []\n",
    "        sözlük = {\"]\":\"[\", \"}\":\"{\", \")\":\"(\"}\n",
    "        for i in a:\n",
    "            if i in sözlük.values():\n",
    "                liste.append(i)\n",
    "            elif i in sözlük.keys():\n",
    "                if liste == [] or sözlük[i] != liste.pop():\n",
    "                    return False\n",
    "            else:\n",
    "                return False\n",
    "        return liste == []\n",
    "print(valid('()()[]'))"
   ]
  },
  {
   "cell_type": "code",
   "execution_count": null,
   "id": "067dedca",
   "metadata": {},
   "outputs": [],
   "source": [
    "def isValid(s):\n",
    "    while \"()\" in s or \"[]\" in s or \"{}\" in s:\n",
    "        s=s.replace(\"()\", \"\").replace(\"[]\",\"\").replace(\"{}\",\"\")\n",
    "    return s == \"\""
   ]
  },
  {
   "cell_type": "markdown",
   "id": "16ef69c6",
   "metadata": {},
   "source": [
    "Create a function that returns a list containing the prime factors of whatever integer is passed to it.\n",
    "\n",
    "Examples\n",
    "prime_factors(20) ➞ [2, 2, 5]\n",
    "\n",
    "prime_factors(100) ➞ [2, 2, 5, 5]\n",
    "\n",
    "prime_factors(8912234) ➞ [2, 47, 94811]"
   ]
  },
  {
   "cell_type": "code",
   "execution_count": 1,
   "id": "98ea5ac9",
   "metadata": {},
   "outputs": [],
   "source": [
    "def prime_factors(n):\n",
    "    lst = []\n",
    "    for i in range(2,n):\n",
    "        if n % i == 0:\n",
    "            while n % i == 0:\n",
    "                lst.append(i)\n",
    "                n = n / i\n",
    "    return lst"
   ]
  },
  {
   "cell_type": "code",
   "execution_count": 3,
   "id": "b0be1572",
   "metadata": {},
   "outputs": [
    {
     "data": {
      "text/plain": [
       "[2, 2, 5, 5]"
      ]
     },
     "execution_count": 3,
     "metadata": {},
     "output_type": "execute_result"
    }
   ],
   "source": [
    "prime_factors(100)"
   ]
  },
  {
   "cell_type": "markdown",
   "id": "cc461eab",
   "metadata": {},
   "source": [
    "Create a function that takes a number num and returns each place value in the number.\n",
    "\n",
    "Examples\n",
    "num_split(39) ➞ [30, 9]\n",
    "\n",
    "num_split(-434) ➞ [-400, -30, -4]\n",
    "\n",
    "num_split(100) ➞ [100, 0, 0]"
   ]
  },
  {
   "cell_type": "code",
   "execution_count": 42,
   "id": "e293d3f3",
   "metadata": {},
   "outputs": [
    {
     "name": "stdout",
     "output_type": "stream",
     "text": [
      "Enter Number: -434\n",
      "[-400, -30, -4]\n"
     ]
    }
   ],
   "source": [
    "num = int(input(\"Enter Number: \"))\n",
    "new_num=abs(num)\n",
    "c = 1\n",
    "pos_nums = []\n",
    "while new_num != 0:\n",
    "    z = new_num % 10\n",
    "    pos_nums.append(z *c)\n",
    "    new_num = new_num // 10\n",
    "    c = c*10\n",
    "if num > 0:\n",
    "    print(pos_nums[::-1])\n",
    "else:\n",
    "    a=[]\n",
    "    for i in pos_nums[::-1]:\n",
    "        b=-1*i\n",
    "        a.append(b)\n",
    "    print(a)"
   ]
  },
  {
   "cell_type": "raw",
   "id": "bacace47",
   "metadata": {},
   "source": [
    "Write a Python program to find the values of length six in a given list using Lambda.\n",
    "Sample Output:\n",
    "Monday\n",
    "Friday\n",
    "Sunday"
   ]
  },
  {
   "cell_type": "code",
   "execution_count": 1,
   "id": "8891d70a",
   "metadata": {},
   "outputs": [
    {
     "name": "stdout",
     "output_type": "stream",
     "text": [
      "Monday\n",
      "Friday\n",
      "Sunday\n"
     ]
    }
   ],
   "source": [
    "weekdays = ['Monday', 'Tuesday', 'Wednesday', 'Thursday', 'Friday', 'Saturday', 'Sunday'] \n",
    "days = filter(lambda day: day if len(day)==6 else '', weekdays) \n",
    "for d in days: \n",
    "    print(d)"
   ]
  },
  {
   "cell_type": "raw",
   "id": "a0f3ba3e",
   "metadata": {},
   "source": [
    "Verilen bir boş olmayan demetler listesinden her bir demetteki son elemana göre artan düzende sıralanmış bir liste elde etmek için bir Python programı yazın.\n",
    "Örnek Liste : [(2, 5), (1, 2), (4, 4), (2, 3), (2, 1)]\n",
    "Beklenen Sonuç : [(2, 1), (1 , 2), (2, 3), (4, 4), (2, 5)]"
   ]
  },
  {
   "cell_type": "code",
   "execution_count": 6,
   "id": "2c14c035",
   "metadata": {},
   "outputs": [
    {
     "ename": "TypeError",
     "evalue": "'int' object is not subscriptable",
     "output_type": "error",
     "traceback": [
      "\u001b[1;31m---------------------------------------------------------------------------\u001b[0m",
      "\u001b[1;31mTypeError\u001b[0m                                 Traceback (most recent call last)",
      "\u001b[1;32m<ipython-input-6-425cadf6a85a>\u001b[0m in \u001b[0;36m<module>\u001b[1;34m\u001b[0m\n\u001b[0;32m      5\u001b[0m     \u001b[1;32mfor\u001b[0m \u001b[0mj\u001b[0m \u001b[1;32min\u001b[0m \u001b[0mi\u001b[0m\u001b[1;33m:\u001b[0m\u001b[1;33m\u001b[0m\u001b[1;33m\u001b[0m\u001b[0m\n\u001b[0;32m      6\u001b[0m         \u001b[1;32mfor\u001b[0m \u001b[0mx\u001b[0m \u001b[1;32min\u001b[0m \u001b[0mrange\u001b[0m\u001b[1;33m(\u001b[0m\u001b[1;36m1\u001b[0m\u001b[1;33m,\u001b[0m\u001b[1;36m10\u001b[0m\u001b[1;33m)\u001b[0m\u001b[1;33m:\u001b[0m\u001b[1;33m\u001b[0m\u001b[1;33m\u001b[0m\u001b[0m\n\u001b[1;32m----> 7\u001b[1;33m             \u001b[1;32mif\u001b[0m \u001b[0mj\u001b[0m\u001b[1;33m[\u001b[0m\u001b[1;36m1\u001b[0m\u001b[1;33m]\u001b[0m\u001b[1;33m==\u001b[0m \u001b[0mint\u001b[0m\u001b[1;33m(\u001b[0m\u001b[0mx\u001b[0m\u001b[1;33m)\u001b[0m\u001b[1;33m:\u001b[0m\u001b[1;33m\u001b[0m\u001b[1;33m\u001b[0m\u001b[0m\n\u001b[0m\u001b[0;32m      8\u001b[0m                 \u001b[0ma\u001b[0m\u001b[1;33m.\u001b[0m\u001b[0mappend\u001b[0m\u001b[1;33m(\u001b[0m\u001b[0mj\u001b[0m\u001b[1;33m)\u001b[0m\u001b[1;33m\u001b[0m\u001b[1;33m\u001b[0m\u001b[0m\n\u001b[0;32m      9\u001b[0m             \u001b[1;32mbreak\u001b[0m\u001b[1;33m\u001b[0m\u001b[1;33m\u001b[0m\u001b[0m\n",
      "\u001b[1;31mTypeError\u001b[0m: 'int' object is not subscriptable"
     ]
    }
   ],
   "source": [
    "liste = [(2, 5), (1, 2), (4, 4), (2, 3), (2, 1)]\n",
    "a=[]\n",
    "\n",
    "for i in liste:\n",
    "    for j in i:\n",
    "        for x in range(1,10):\n",
    "            if j[1]== int(x):\n",
    "                a.append(j)\n",
    "            break \n",
    "print(a)\n",
    "            "
   ]
  },
  {
   "cell_type": "code",
   "execution_count": 7,
   "id": "06635ce3",
   "metadata": {},
   "outputs": [
    {
     "name": "stdout",
     "output_type": "stream",
     "text": [
      "[(2, 1), (1, 2), (2, 3), (4, 4), (2, 5)]\n"
     ]
    }
   ],
   "source": [
    "a=[(2, 5), (1, 2), (4, 4), (2, 3), (2, 1)]\n",
    "print([j[::-1] for j in sorted([i[::-1] for i in a])])\n",
    "# b=[]\n",
    "# c=[]\n",
    "# for i in a:\n",
    "#     b.append(i[::-1])\n",
    "# for i in sorted(b):\n",
    "#     c.append(i[::-1])\n",
    "# print(c)"
   ]
  },
  {
   "cell_type": "code",
   "execution_count": null,
   "id": "3272bec9",
   "metadata": {},
   "outputs": [],
   "source": []
  },
  {
   "cell_type": "code",
   "execution_count": 4,
   "id": "3711e4f1",
   "metadata": {},
   "outputs": [],
   "source": [
    "def freed_prisoners(prison):\n",
    "    if prison[0] == 0:\n",
    "        return 0\n",
    "    count = 1\n",
    "    for i in range(1, len(prison)):\n",
    "        if prison[i] != prison[i-1]:\n",
    "            count += 1\n",
    "    return count"
   ]
  },
  {
   "cell_type": "code",
   "execution_count": 7,
   "id": "7d438124",
   "metadata": {},
   "outputs": [
    {
     "data": {
      "text/plain": [
       "4"
      ]
     },
     "execution_count": 7,
     "metadata": {},
     "output_type": "execute_result"
    }
   ],
   "source": [
    "freed_prisoners([1, 1, 0, 0, 0, 1, 0])"
   ]
  },
  {
   "cell_type": "code",
   "execution_count": 10,
   "id": "566816fa",
   "metadata": {},
   "outputs": [],
   "source": [
    "def freed_prisoners(prison):\n",
    "    freed = [k for k in prison]\n",
    "    return len(freed) if freed[0] == 1 else 0"
   ]
  },
  {
   "cell_type": "code",
   "execution_count": 11,
   "id": "f038707f",
   "metadata": {},
   "outputs": [
    {
     "data": {
      "text/plain": [
       "7"
      ]
     },
     "execution_count": 11,
     "metadata": {},
     "output_type": "execute_result"
    }
   ],
   "source": [
    "freed_prisoners([1, 1, 0, 0, 0, 1, 0])"
   ]
  },
  {
   "cell_type": "raw",
   "id": "fee0697d",
   "metadata": {},
   "source": [
    "Define a function to take a word and return negative meaning.\n",
    "Given a word, return a new word where \"not \" has been added to the front. However, if the word already begins with \"not\", return the string unchanged.\n",
    "\n",
    "For example:\n",
    "\n",
    "Test\tResult\n",
    "print(not_string('sugar'))\n",
    "not sugar\n",
    "print(not_string('x'))\n",
    "not x\n",
    "print(not_string('not bad'))\n",
    "not bad"
   ]
  },
  {
   "cell_type": "code",
   "execution_count": 22,
   "id": "9d139f47",
   "metadata": {},
   "outputs": [],
   "source": [
    "def not_string(word):\n",
    "    if \"not\" not in word:\n",
    "        new_word=\"not\"+\" \"+word\n",
    "        return new_word\n",
    "    else:\n",
    "        return word"
   ]
  },
  {
   "cell_type": "code",
   "execution_count": 24,
   "id": "3f93119d",
   "metadata": {},
   "outputs": [
    {
     "name": "stdout",
     "output_type": "stream",
     "text": [
      "not sugar\n"
     ]
    }
   ],
   "source": [
    "print(not_string('not sugar'))"
   ]
  },
  {
   "cell_type": "raw",
   "id": "f3b445a6",
   "metadata": {},
   "source": [
    "Problem :\n",
    "Given a collection of distinct integers, return all possible permutations.\n",
    "Example:\n",
    "Input:\n",
    "[1,2,3]\n",
    "Output:\n",
    "[\n",
    "  [1,2,3],\n",
    "  [1,3,2],\n",
    "  [2,1,3],\n",
    "  [2,3,1],\n",
    "  [3,1,2],\n",
    "  [3,2,1]\n",
    "]"
   ]
  },
  {
   "cell_type": "code",
   "execution_count": 11,
   "id": "c35e377e",
   "metadata": {
    "scrolled": false
   },
   "outputs": [
    {
     "name": "stdout",
     "output_type": "stream",
     "text": [
      "[1, 2, 3]\n",
      "[1, 3, 2]\n",
      "[2, 1, 3]\n",
      "[2, 3, 1]\n",
      "[3, 2, 1]\n",
      "[3, 1, 2]\n"
     ]
    }
   ],
   "source": [
    "def permütasyon(num, i=0):\n",
    "    \n",
    "    if i == len(num): #i 3 olduğunda liste kendi orginal halini veriyor\n",
    "        print (num)\n",
    "    else:\n",
    "        for x in range(i, len(num)):\n",
    "            num[i], num[x] = num[x] ,num[i] #birinci döngü \n",
    "            permütasyon(num, i+1) # fonksiyon tekrar başa sarıyor i bir artıyor\n",
    "            num[i], num[x] = num[x], num[i] #ikinci döngü \n",
    "\n",
    "permütasyon([1,2,3])   #içi içe döngülerle sadece listedeki indexleri alarak değerlerin yerlerini karşılıklı değiştiriyor. \n",
    "                       #ikinci permütastosyon defi olduğundan i değeri x değerinden bir fazla oluyor artık dolayısıyla i ve x \n",
    "                       # yan yana değerler yer değiştirerek listenin yeni halini oluşturuyor. "
   ]
  },
  {
   "cell_type": "code",
   "execution_count": 2,
   "id": "2dc6048f",
   "metadata": {},
   "outputs": [
    {
     "name": "stdout",
     "output_type": "stream",
     "text": [
      "[[1, 2, 3], [1, 3, 2], [2, 1, 3], [2, 3, 1], [3, 1, 2], [3, 2, 1]]\n"
     ]
    }
   ],
   "source": [
    "num_list = [1,2,3]\n",
    "list_Perm = [[a, b, c]                \n",
    "            for a in num_list\n",
    "            for b in num_list\n",
    "            for c in num_list\n",
    "            if ( a != b and b != c and a != c )\n",
    "            ]\n",
    "print (list_Perm)"
   ]
  },
  {
   "cell_type": "code",
   "execution_count": 1,
   "id": "a2b8e873",
   "metadata": {},
   "outputs": [],
   "source": [
    "solution=[[]]"
   ]
  },
  {
   "cell_type": "code",
   "execution_count": null,
   "id": "f813bb4a",
   "metadata": {},
   "outputs": [],
   "source": [
    "for index in range (len(num)):\n",
    "    [body for i in solution]"
   ]
  },
  {
   "cell_type": "code",
   "execution_count": null,
   "id": "52897860",
   "metadata": {},
   "outputs": [],
   "source": []
  },
  {
   "cell_type": "code",
   "execution_count": null,
   "id": "b09f776a",
   "metadata": {},
   "outputs": [],
   "source": []
  },
  {
   "cell_type": "code",
   "execution_count": null,
   "id": "cada9d15",
   "metadata": {},
   "outputs": [],
   "source": []
  },
  {
   "cell_type": "code",
   "execution_count": null,
   "id": "0de4237c",
   "metadata": {},
   "outputs": [],
   "source": []
  },
  {
   "cell_type": "code",
   "execution_count": null,
   "id": "6a542c1a",
   "metadata": {},
   "outputs": [],
   "source": []
  },
  {
   "cell_type": "raw",
   "id": "3383175d",
   "metadata": {},
   "source": [
    "Write a Python program to rearrange positive and negative numbers in a given array using Lambda. Go to the editor\n",
    "Original arrays:\n",
    "[-1, 2, -3, 5, 7, 8, 9, -10]\n",
    "Rearrange positive and negative numbers of the said array:\n",
    "[2, 5, 7, 8, 9, -10, -3, -1]"
   ]
  },
  {
   "cell_type": "code",
   "execution_count": 17,
   "id": "76bfcd35",
   "metadata": {},
   "outputs": [
    {
     "name": "stdout",
     "output_type": "stream",
     "text": [
      "Original arrays:\n",
      "[-1, 2, -3, 5, 7, 8, 9, -10]\n",
      "\n",
      "Rearrange positive and negative numbers of the said array:\n",
      "[2, 5, 7, 8, 9, -10, -3, -1]\n"
     ]
    }
   ],
   "source": [
    "nums = [-1, 2, -3, 5, 7, 8, 9, -10]\n",
    "print(\"Original arrays:\", nums, sep=\"\\n\")\n",
    "\n",
    "result = sorted(nums, key = lambda i: 0 if i == 0 else -1/i)\n",
    "print(\"\\nRearrange positive and negative numbers of the said array:\", result, sep=\"\\n\")"
   ]
  },
  {
   "cell_type": "code",
   "execution_count": 22,
   "id": "6e89ccf5",
   "metadata": {},
   "outputs": [
    {
     "name": "stdout",
     "output_type": "stream",
     "text": [
      "[2, 5, 7, 8, 9, -10, -3, -1]\n"
     ]
    }
   ],
   "source": [
    "liste = [-1, 2, -3, 5, 7, 8, 9, -10]\n",
    "list1 = list(filter(lambda x : x > 0, liste))\n",
    "list2 = list(sorted(list(filter(lambda x : x < 0, liste))))\n",
    "#list1+=list2\n",
    "print(list1+list2)"
   ]
  },
  {
   "cell_type": "raw",
   "id": "518748f5",
   "metadata": {},
   "source": [
    "Have the function ArrayChallenge(arr) take the array of numbers stored in arr and return the string true if any combination of numbers in the array (excluding the largest number) can be added up to equal the largest number in the array, otherwise return the string false. For example: if arr contains [4, 6, 23, 10, 1, 3] the output should return true because 4 + 6 + 10 + 3 = 23. The array will not be empty, will not contain all the same elements, and may contain negative numbers.\n",
    "Input: [5,7,16,1,2] Output: false Input: [3,5,-1,8,12] Output: true"
   ]
  },
  {
   "cell_type": "code",
   "execution_count": 1,
   "id": "7c4e9450",
   "metadata": {},
   "outputs": [],
   "source": [
    "def take_list(arr):\n",
    "    maxi = max(arr)\n",
    "    arr.remove(maxi)\n",
    "    if sum(arr) == maxi:\n",
    "        print(\"True\")\n",
    "    else:\n",
    "        for i in range(len(arr)):\n",
    "            arr.pop(i)\n",
    "            b= sum(arr)\n",
    "            arr.append(i)\n",
    "            if b == maxi:\n",
    "                print(\"True\")\n",
    "                break\n",
    "        else:\n",
    "            print(\"False\")\n",
    "    "
   ]
  },
  {
   "cell_type": "code",
   "execution_count": 2,
   "id": "412b32b8",
   "metadata": {},
   "outputs": [
    {
     "name": "stdout",
     "output_type": "stream",
     "text": [
      "False\n"
     ]
    }
   ],
   "source": [
    "take_list([10, 1, -2, 3, 11])"
   ]
  },
  {
   "cell_type": "code",
   "execution_count": 3,
   "id": "86361836",
   "metadata": {},
   "outputs": [
    {
     "name": "stdout",
     "output_type": "stream",
     "text": [
      "True\n"
     ]
    }
   ],
   "source": [
    "take_list([10, 1, -2, 3, 12])"
   ]
  },
  {
   "cell_type": "raw",
   "id": "1fc63dda",
   "metadata": {},
   "source": [
    "Kullanıcıdan 2 basamaklı bir sayı alın ve bu sayının okunuşunu bulan bir fonksiyon yazın.\n",
    "Örnek: 99 ---------> Doğsan Doğuz  "
   ]
  },
  {
   "cell_type": "code",
   "execution_count": 3,
   "id": "f0c42684",
   "metadata": {},
   "outputs": [
    {
     "name": "stdout",
     "output_type": "stream",
     "text": [
      "\u001b[1m Otuz Altı\n"
     ]
    }
   ],
   "source": [
    "onlar={\"1\":\"On\",\"2\":\"Yirmi\",\"3\":\"Otuz\",\"4\":\"Kırk\",\"5\":\"Elli\",\"6\":\"Altmış\",\"7\":\"Yetmiş\",\"8\":\"Seksen\",\"9\":\"Doğsan\"}\n",
    "birler={\"1\":\"Bir\",\"2\":\"İki\",\"3\":\"Üç\",\"4\":\"Dört\",\"5\":\"Beş\",\"6\":\"Altı\",\"7\":\"Yedi\",\"8\":\"Sekiz\",\"9\":\"Doğuz\"}\n",
    "def sayı(n):\n",
    "    liste=[]\n",
    "    result=\" \"\n",
    "    for i in str(n):\n",
    "        liste.append(i)\n",
    "    if liste[0] in onlar:\n",
    "        result+=onlar[liste[0]]+ \" \"\n",
    "    if liste[1] in birler:\n",
    "        result+=birler[liste[1]]\n",
    "    \n",
    "    return result\n",
    "\n",
    "print(\"\\033[1m\"+sayı(36))    # BOLD = '\\033[1m'"
   ]
  },
  {
   "cell_type": "markdown",
   "id": "bf59f022",
   "metadata": {},
   "source": [
    "Bir first_non_repeating_letterdize girdisi alan ve dizenin hiçbir yerinde tekrarlanmayan ilk karakteri döndüren bir işlev yazın .\n",
    "Örneğin, girdi verilirse, t harfi dizede yalnızca bir kez geçtiği ve dizede ilk sırada yer aldığı 'stress'için işlev dönmelidir .'t'\n",
    "Ek bir meydan okuma olarak, büyük ve küçük harfler aynı karakter olarak kabul edilir , ancak işlev ilk harf için doğru durumu döndürmelidir. Örneğin, girdi 'sTreSS'dönmelidir 'T'.\n",
    "Bir dize tüm yinelenen karakterleri içeriyorsa , boş bir dize ( \"\") döndürmelidir veya None"
   ]
  },
  {
   "cell_type": "code",
   "execution_count": 7,
   "id": "c26bea3d",
   "metadata": {},
   "outputs": [],
   "source": [
    "def first_non_repeating_letter(sentence):\n",
    "    sen_list = [i.lower() for i in sentence]\n",
    "    for i in range(len(sen_list)):\n",
    "        if sen_list.count(sen_list[i]) == 1:\n",
    "            return sentence[i]\n",
    "    return \"\""
   ]
  },
  {
   "cell_type": "code",
   "execution_count": 8,
   "id": "a6f24323",
   "metadata": {},
   "outputs": [
    {
     "data": {
      "text/plain": [
       "'T'"
      ]
     },
     "execution_count": 8,
     "metadata": {},
     "output_type": "execute_result"
    }
   ],
   "source": [
    "first_non_repeating_letter(\"sTreSS\")"
   ]
  },
  {
   "cell_type": "code",
   "execution_count": 9,
   "id": "75e5bdcf",
   "metadata": {},
   "outputs": [
    {
     "data": {
      "text/plain": [
       "'t'"
      ]
     },
     "execution_count": 9,
     "metadata": {},
     "output_type": "execute_result"
    }
   ],
   "source": [
    "first_non_repeating_letter(\"stress\")"
   ]
  },
  {
   "cell_type": "code",
   "execution_count": 14,
   "id": "35f5e3e0",
   "metadata": {},
   "outputs": [],
   "source": [
    "def first_non_repeating_letter2(sentence):\n",
    "    sen_list = [i.lower() for i in sentence]\n",
    "    return \"\".join(sentence[i] for i in range(len(sen_list)) if sen_list.count(sen_list[i]) == 1)[0]\n",
    "            "
   ]
  },
  {
   "cell_type": "code",
   "execution_count": 15,
   "id": "035d03e8",
   "metadata": {},
   "outputs": [
    {
     "data": {
      "text/plain": [
       "'T'"
      ]
     },
     "execution_count": 15,
     "metadata": {},
     "output_type": "execute_result"
    }
   ],
   "source": [
    "first_non_repeating_letter2(\"sTreSS\")"
   ]
  },
  {
   "cell_type": "code",
   "execution_count": 16,
   "id": "8045f5ba",
   "metadata": {},
   "outputs": [
    {
     "data": {
      "text/plain": [
       "'t'"
      ]
     },
     "execution_count": 16,
     "metadata": {},
     "output_type": "execute_result"
    }
   ],
   "source": [
    "first_non_repeating_letter2(\"stress\")"
   ]
  },
  {
   "cell_type": "raw",
   "id": "60e1d241",
   "metadata": {},
   "source": [
    "Muhtemelen Facebook ve diğer sayfalardan \"beğenme\" sistemini biliyorsunuzdur. İnsanlar blog gönderilerini, resimleri veya diğer öğeleri \"beğenebilir\". Böyle bir öğenin yanında görüntülenmesi gereken metni oluşturmak istiyoruz.\n",
    "likesBir öğeyi beğenen kişilerin adlarını içeren bir diziyi alan işlevi uygulayın . Örneklerde gösterildiği gibi ekran metnini döndürmelidir:\n",
    "likes([]) # must be \"no one likes this\"\n",
    "likes([\"Peter\"]) # must be \"Peter likes this\"\n",
    "likes([\"Jacob\", \"Alex\"]) # must be \"Jacob and Alex like this\"\n",
    "likes([\"Max\", \"John\", \"Mark\"]) # must be \"Max, John and Mark like this\"\n",
    "likes([\"Alex\", \"Jacob\", \"Mark\", \"Max\"]) # must be \"Alex, Jacob and 2 others"
   ]
  },
  {
   "cell_type": "code",
   "execution_count": 15,
   "id": "8e9e932e",
   "metadata": {},
   "outputs": [],
   "source": [
    "def likes(names): \n",
    "    if len(names) == 0:\n",
    "        return \"no one likes this\"\n",
    "    elif len(names) == 1:\n",
    "        return \"{} likes this\".format(names[0])\n",
    "    elif len(names) == 2:\n",
    "        return \"{} and {} like this\".format(names[0], names[1])\n",
    "    elif len(names) == 3:\n",
    "        return \"{}, {} and {} like this\".format(names[0], names[1], names[2])\n",
    "    else:\n",
    "        return \"{}, {} and {} others like this\".format(names[0], names[1], len(names)-2)"
   ]
  },
  {
   "cell_type": "code",
   "execution_count": 16,
   "id": "6919e711",
   "metadata": {},
   "outputs": [
    {
     "data": {
      "text/plain": [
       "'Alex, Jacob and 2 others like this'"
      ]
     },
     "execution_count": 16,
     "metadata": {},
     "output_type": "execute_result"
    }
   ],
   "source": [
    "likes([\"Alex\", \"Jacob\", \"Mark\", \"Max\"])"
   ]
  },
  {
   "cell_type": "code",
   "execution_count": 4,
   "id": "8cd5f2e4",
   "metadata": {},
   "outputs": [
    {
     "data": {
      "text/plain": [
       "['My', 'name', 'is', 'Kelly']"
      ]
     },
     "execution_count": 4,
     "metadata": {},
     "output_type": "execute_result"
    }
   ],
   "source": [
    "list1=[\"M\",\"na\",\"i\",\"Ke\"]\n",
    "list2=[\"y\",\"me\",\"s\",\"lly\"]\n",
    "newlist = [(list1[i] + list2[i]) for i in range(len(list1))]\n",
    "newlist"
   ]
  },
  {
   "cell_type": "code",
   "execution_count": 6,
   "id": "0c8a6271",
   "metadata": {},
   "outputs": [],
   "source": [
    "asciidict={'A':65, 'B':66, 'C':67, 'D':68}\n",
    "res_asciidict = {i: j for j, i in asciidict.items()}"
   ]
  },
  {
   "cell_type": "code",
   "execution_count": 7,
   "id": "a6630d13",
   "metadata": {},
   "outputs": [
    {
     "data": {
      "text/plain": [
       "{65: 'A', 66: 'B', 67: 'C', 68: 'D'}"
      ]
     },
     "execution_count": 7,
     "metadata": {},
     "output_type": "execute_result"
    }
   ],
   "source": [
    "res_asciidict"
   ]
  },
  {
   "cell_type": "code",
   "execution_count": 12,
   "id": "51324bde",
   "metadata": {},
   "outputs": [
    {
     "ename": "NameError",
     "evalue": "name 'i' is not defined",
     "output_type": "error",
     "traceback": [
      "\u001b[1;31m---------------------------------------------------------------------------\u001b[0m",
      "\u001b[1;31mNameError\u001b[0m                                 Traceback (most recent call last)",
      "\u001b[1;32m<ipython-input-12-8d075b3e495d>\u001b[0m in \u001b[0;36m<module>\u001b[1;34m\u001b[0m\n\u001b[0;32m      4\u001b[0m \u001b[1;31m#a1 = [\"tarp\", \"mice\", \"bull\"]\u001b[0m\u001b[1;33m\u001b[0m\u001b[1;33m\u001b[0m\u001b[1;33m\u001b[0m\u001b[0m\n\u001b[0;32m      5\u001b[0m \u001b[1;31m#a2 = [\"lively\", \"alive\", \"harp\", \"sharp\", \"armstrong\"]\u001b[0m\u001b[1;33m\u001b[0m\u001b[1;33m\u001b[0m\u001b[1;33m\u001b[0m\u001b[0m\n\u001b[1;32m----> 6\u001b[1;33m \u001b[0mresult\u001b[0m \u001b[1;33m=\u001b[0m \u001b[1;33m[\u001b[0m\u001b[1;33m[\u001b[0m\u001b[0mi\u001b[0m \u001b[1;32mfor\u001b[0m \u001b[0mi\u001b[0m \u001b[1;32min\u001b[0m \u001b[0ma1\u001b[0m\u001b[1;33m]\u001b[0m \u001b[1;32mfor\u001b[0m \u001b[0mj\u001b[0m \u001b[1;32min\u001b[0m \u001b[0ma2\u001b[0m \u001b[1;32mif\u001b[0m \u001b[0mi\u001b[0m \u001b[1;32min\u001b[0m \u001b[0mj\u001b[0m\u001b[1;33m]\u001b[0m\u001b[1;33m\u001b[0m\u001b[1;33m\u001b[0m\u001b[0m\n\u001b[0m\u001b[0;32m      7\u001b[0m \u001b[0mprint\u001b[0m\u001b[1;33m(\u001b[0m\u001b[0mresult\u001b[0m\u001b[1;33m)\u001b[0m\u001b[1;33m\u001b[0m\u001b[1;33m\u001b[0m\u001b[0m\n",
      "\u001b[1;32m<ipython-input-12-8d075b3e495d>\u001b[0m in \u001b[0;36m<listcomp>\u001b[1;34m(.0)\u001b[0m\n\u001b[0;32m      4\u001b[0m \u001b[1;31m#a1 = [\"tarp\", \"mice\", \"bull\"]\u001b[0m\u001b[1;33m\u001b[0m\u001b[1;33m\u001b[0m\u001b[1;33m\u001b[0m\u001b[0m\n\u001b[0;32m      5\u001b[0m \u001b[1;31m#a2 = [\"lively\", \"alive\", \"harp\", \"sharp\", \"armstrong\"]\u001b[0m\u001b[1;33m\u001b[0m\u001b[1;33m\u001b[0m\u001b[1;33m\u001b[0m\u001b[0m\n\u001b[1;32m----> 6\u001b[1;33m \u001b[0mresult\u001b[0m \u001b[1;33m=\u001b[0m \u001b[1;33m[\u001b[0m\u001b[1;33m[\u001b[0m\u001b[0mi\u001b[0m \u001b[1;32mfor\u001b[0m \u001b[0mi\u001b[0m \u001b[1;32min\u001b[0m \u001b[0ma1\u001b[0m\u001b[1;33m]\u001b[0m \u001b[1;32mfor\u001b[0m \u001b[0mj\u001b[0m \u001b[1;32min\u001b[0m \u001b[0ma2\u001b[0m \u001b[1;32mif\u001b[0m \u001b[0mi\u001b[0m \u001b[1;32min\u001b[0m \u001b[0mj\u001b[0m\u001b[1;33m]\u001b[0m\u001b[1;33m\u001b[0m\u001b[1;33m\u001b[0m\u001b[0m\n\u001b[0m\u001b[0;32m      7\u001b[0m \u001b[0mprint\u001b[0m\u001b[1;33m(\u001b[0m\u001b[0mresult\u001b[0m\u001b[1;33m)\u001b[0m\u001b[1;33m\u001b[0m\u001b[1;33m\u001b[0m\u001b[0m\n",
      "\u001b[1;31mNameError\u001b[0m: name 'i' is not defined"
     ]
    }
   ],
   "source": [
    "a1 = [\"arp\", \"live\", \"strong\"]\n",
    "a2 = [\"lively\", \"alive\", \"harp\", \"sharp\", \"armstrong\"]\n",
    "\n",
    "#a1 = [\"tarp\", \"mice\", \"bull\"]\n",
    "#a2 = [\"lively\", \"alive\", \"harp\", \"sharp\", \"armstrong\"]\n",
    "result = [[i for i in a1] for j in a2 if i in j]\n",
    "print(result)"
   ]
  },
  {
   "cell_type": "code",
   "execution_count": 7,
   "id": "0dddf186",
   "metadata": {},
   "outputs": [
    {
     "name": "stdout",
     "output_type": "stream",
     "text": [
      "12\n"
     ]
    }
   ],
   "source": [
    "c = 5\n",
    "d = 4\n",
    "def func(a, b, c = 1, d = 2):\n",
    "    s = sum([a, b, c, d])\n",
    "    print(s)\n",
    "func(c,d)"
   ]
  },
  {
   "cell_type": "code",
   "execution_count": 4,
   "id": "a2f6a4b6",
   "metadata": {},
   "outputs": [
    {
     "data": {
      "text/plain": [
       "14"
      ]
     },
     "execution_count": 4,
     "metadata": {},
     "output_type": "execute_result"
    }
   ],
   "source": [
    "3+5+4+2"
   ]
  },
  {
   "cell_type": "raw",
   "id": "54341529",
   "metadata": {},
   "source": [
    "Write an efficient function that deletes characters from an ASCII\n",
    "string where any character existing in remove must be deleted from\n",
    "str. For example, given a str of \"Battle of the Vowels: Hawaii vs.\n",
    "Grozny\" and a remove of \"aeiou\", the function should transform str\n",
    "to “Bttl f th Vwls: Hw vs. Grzny”."
   ]
  },
  {
   "cell_type": "code",
   "execution_count": 2,
   "id": "c2c30fef",
   "metadata": {},
   "outputs": [
    {
     "name": "stdout",
     "output_type": "stream",
     "text": [
      "Enter a sentence:Battle of the Vowels: Hawaii vs. Grozny\n",
      "Bttl f th Vwls: Hw vs. Grzny\n"
     ]
    }
   ],
   "source": [
    "sentence =input(\"Enter a sentence:\")\n",
    "vowel=(\"aeiou\")\n",
    "for i in sentence:\n",
    "    if i in vowel:\n",
    "        sentence = sentence.replace(str(i), \"\")\n",
    "print(sentence)"
   ]
  },
  {
   "cell_type": "raw",
   "id": "26b3b7f9",
   "metadata": {},
   "source": [
    "Write a program that accepts a comma separated sequence of words as input and prints the words in a comma-separated sequence after sorting them alphabetically.\n",
    "Suppose the following input is supplied to the program:\n",
    "without,hello,bag,world\n",
    "Then, the output should be:\n",
    "bag,hello,without,world"
   ]
  },
  {
   "cell_type": "code",
   "execution_count": 21,
   "id": "a988a2f0",
   "metadata": {},
   "outputs": [
    {
     "data": {
      "text/plain": [
       "['atiyi', 'azmi', 'bırakmak', 'görerek', 'karanlık']"
      ]
     },
     "execution_count": 21,
     "metadata": {},
     "output_type": "execute_result"
    }
   ],
   "source": [
    "def ayır (words):\n",
    "    return sorted([i.lower() for i in words.split(\",\")])\n",
    "ayır(\"Atiyi,karanlık,görerek,azmi,bırakmak\")"
   ]
  },
  {
   "cell_type": "markdown",
   "id": "0d8b5ac4",
   "metadata": {},
   "source": [
    "Use datetime   modul and create a file  . Output :  \" Python 02-09-2021.txt \""
   ]
  },
  {
   "cell_type": "code",
   "execution_count": 25,
   "id": "c1ed96ab",
   "metadata": {},
   "outputs": [
    {
     "name": "stdout",
     "output_type": "stream",
     "text": [
      "Python 02-09-2021.txt\n"
     ]
    }
   ],
   "source": [
    "from datetime import datetime\n",
    "datenow = datetime.now()\n",
    "file_name = \"Python \" + datenow.strftime('%d-%m-%Y.txt')\n",
    "with open(file_name, 'w'):\n",
    "    print(file_name)"
   ]
  },
  {
   "cell_type": "code",
   "execution_count": 26,
   "id": "46856119",
   "metadata": {},
   "outputs": [
    {
     "data": {
      "text/plain": [
       "['.ipynb_checkpoints',\n",
       " '03 eylül soru çözümü.ipynb',\n",
       " '03 eylül soru çözümü1 .ipynb',\n",
       " '20210902-164504.xml',\n",
       " '24_August Python_Answer_And_Solutions1.ipynb',\n",
       " '24_August Python_Answer_And_Solutions_4.ipynb',\n",
       " 'group_1.ipynb',\n",
       " 'group_2.ipynb',\n",
       " 'group_3.ipynb',\n",
       " 'group_4.ipynb',\n",
       " 'Python 02-09-2021.txt',\n",
       " 'python addict sorular.ipynb',\n",
       " 'raife_hoca_task33.ipynb',\n",
       " 'raife_hoca_task_calismasi.ipynb',\n",
       " 'Soru_Cozumu_27_Aug_2021.ipynb',\n",
       " 'Soru_Cozumu_27_Aug_2021_Sorular_Cozumler.ipynb',\n",
       " 'Untitled.ipynb']"
      ]
     },
     "execution_count": 26,
     "metadata": {},
     "output_type": "execute_result"
    }
   ],
   "source": [
    "import os\n",
    "os.listdir()"
   ]
  },
  {
   "cell_type": "markdown",
   "id": "f7b2699e",
   "metadata": {},
   "source": [
    "Write a function so that when you run the function, it will give this result\n",
    "input ::\"Everything\", \"waits\", \"for\", \"its\", \"time\" ,\"Neither\", \"the\" ,\"rose\", \"blooms\", \"before\", \"its\", \"time\", \"nor\", \"the\", \"sun\", \"rises\", \"before\", \"its\", \"time\"\n",
    "expected output : Everything|waits|for|its|time|Neither|the|rose|blooms|before|its|time|nor|the|sun|rises|before|its|time!!!"
   ]
  },
  {
   "cell_type": "code",
   "execution_count": 9,
   "id": "049e626a",
   "metadata": {},
   "outputs": [],
   "source": [
    "def func():\n",
    "    liste=[x for x in input(\"input: \").split(',')]\n",
    "    return \"|\".join(liste)+\"!!!\""
   ]
  },
  {
   "cell_type": "code",
   "execution_count": 11,
   "id": "17caa92b",
   "metadata": {},
   "outputs": [
    {
     "name": "stdout",
     "output_type": "stream",
     "text": [
      "input: Muhammet, Kahoot, da, Kahoot\n"
     ]
    },
    {
     "data": {
      "text/plain": [
       "'Muhammet| Kahoot| da| Kahoot!!!'"
      ]
     },
     "execution_count": 11,
     "metadata": {},
     "output_type": "execute_result"
    }
   ],
   "source": [
    "func()"
   ]
  },
  {
   "cell_type": "code",
   "execution_count": 15,
   "id": "fc0b32d1",
   "metadata": {},
   "outputs": [
    {
     "name": "stdout",
     "output_type": "stream",
     "text": [
      "5\n",
      "-9\n",
      "-100\n"
     ]
    }
   ],
   "source": [
    "def my_min(*args):\n",
    "    result= min(args)\n",
    "    return result\n",
    "\n",
    "        \n",
    "\n",
    "print(my_min(5,6,7))\n",
    "\n",
    "print(my_min(3,8,-9,0,12,1.2))\n",
    "\n",
    "print(my_min(-100))"
   ]
  },
  {
   "cell_type": "code",
   "execution_count": 10,
   "id": "aa65eeb7",
   "metadata": {},
   "outputs": [
    {
     "name": "stdout",
     "output_type": "stream",
     "text": [
      "5\n",
      "-9\n",
      "-100\n"
     ]
    }
   ],
   "source": [
    "def my_min(*a):\n",
    "    return min(a)\n",
    "print(my_min(5,6,7))\n",
    "\n",
    "print(my_min(3,8,-9,0,12,1.2))\n",
    "\n",
    "print(my_min(-100))"
   ]
  },
  {
   "cell_type": "markdown",
   "id": "be05c75f",
   "metadata": {},
   "source": [
    "Write a program to solve a classic ancient Chinese puzzle: \n",
    "We count 35 heads and 94 legs among the chickens and rabbits in a farm. How many rabbits and how many chickens do we have?\n",
    "\n"
   ]
  },
  {
   "cell_type": "code",
   "execution_count": 30,
   "id": "6cd17c07",
   "metadata": {},
   "outputs": [],
   "source": [
    "def puzzle(heads, legs):\n",
    "    for chickens in range(heads+1):\n",
    "        rabbits=heads - chickens\n",
    "        if 2*chickens + 4*rabbits==legs :\n",
    "            return \"chickens:\", chickens, \"rabbits:\", rabbits\n",
    "    \n",
    "    return \"you entered wrong numbers!!\""
   ]
  },
  {
   "cell_type": "code",
   "execution_count": 32,
   "id": "ccc8163a",
   "metadata": {},
   "outputs": [
    {
     "data": {
      "text/plain": [
       "('chickens:', 23, 'rabbits:', 12)"
      ]
     },
     "execution_count": 32,
     "metadata": {},
     "output_type": "execute_result"
    }
   ],
   "source": [
    "puzzle(35,94)"
   ]
  },
  {
   "cell_type": "raw",
   "id": "47597980",
   "metadata": {},
   "source": [
    "You are required to write a program to sort the (name, age, height) tuples by ascending order where name is string, age and height are numbers. The tuples are input by console. The sort criteria is:\n",
    "1: Sort based on name;\n",
    "2: Then sort based on age;\n",
    "3: Then sort by score.\n",
    "The priority is that name > age > score.\n",
    "If the following tuples are given as input to the program:\n",
    "Tom,19,80\n",
    "John,20,90\n",
    "Jony,17,91\n",
    "Jony,17,93\n",
    "Json,21,85\n",
    "Then, the output of the program should be:\n",
    "[('John', '20', '90'), ('Jony', '17', '91'), ('Jony', '17', '93'), ('Json', '21', '85'), ('Tom', '19', '80')]\n"
   ]
  },
  {
   "cell_type": "code",
   "execution_count": 45,
   "id": "b913c8f3",
   "metadata": {},
   "outputs": [
    {
     "name": "stdout",
     "output_type": "stream",
     "text": [
      "write a list like a tuple (name, age, score) : Tom,19,80 John,20,90 Jony,17,91 Jony,17,93 Json,21,85\n",
      "[('John', '20', '90'), ('Jony', '17', '91'), ('Jony', '17', '93'), ('Json', '21', '85'), ('Tom', '19', '80')]\n"
     ]
    }
   ],
   "source": [
    "list_string =input(\"write a list like a tuple (name, age, score) : \")\n",
    "#'Tom,19,80 John,20,90 Jony,17,91 Jony,17,93 Json,21,85'\n",
    "\n",
    "list_tuple = [tuple(i.split(',')) for i in list_string.split()]\n",
    "\n",
    "print(sorted(list_tuple, key=lambda i: (i[0], i[1], i[2])))"
   ]
  },
  {
   "cell_type": "markdown",
   "id": "0277c202",
   "metadata": {},
   "source": [
    "Remove last character in list of strings: given_list = [\"Lessons\", \"Words\", \"Pythons\", \"Programers\",\"Clarusways\"] expected output : ['Lesson', 'Word', 'Python', 'Programer', 'Clarusway']"
   ]
  },
  {
   "cell_type": "code",
   "execution_count": 20,
   "id": "892d8092",
   "metadata": {},
   "outputs": [],
   "source": [
    "def last_char(array):\n",
    "    return [\"\".join(i[:-1]) for i in array]"
   ]
  },
  {
   "cell_type": "code",
   "execution_count": 21,
   "id": "6ea70664",
   "metadata": {},
   "outputs": [
    {
     "data": {
      "text/plain": [
       "['Lesson', 'Word', 'Python', 'Programer', 'Clarusway']"
      ]
     },
     "execution_count": 21,
     "metadata": {},
     "output_type": "execute_result"
    }
   ],
   "source": [
    "last_char([\"Lessons\", \"Words\", \"Pythons\", \"Programers\",\"Clarusways\"])"
   ]
  }
 ],
 "metadata": {
  "kernelspec": {
   "display_name": "Python 3",
   "language": "python",
   "name": "python3"
  },
  "language_info": {
   "codemirror_mode": {
    "name": "ipython",
    "version": 3
   },
   "file_extension": ".py",
   "mimetype": "text/x-python",
   "name": "python",
   "nbconvert_exporter": "python",
   "pygments_lexer": "ipython3",
   "version": "3.8.8"
  }
 },
 "nbformat": 4,
 "nbformat_minor": 5
}
