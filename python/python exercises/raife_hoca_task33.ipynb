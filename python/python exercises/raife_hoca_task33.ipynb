{
 "cells": [
  {
   "cell_type": "markdown",
   "metadata": {
    "id": "tekgbGbYLTZn"
   },
   "source": [
    "1-Bir stringde eğer en az iki kere 'zip' geçiyorsa ikinci kez geçen zip in indexini döndüren, eğer en az iki kere geçmiyorsa -1 döndüren fonksiyon yazalım."
   ]
  },
  {
   "cell_type": "code",
   "execution_count": 3,
   "metadata": {
    "id": "oc6hiDnaNLgz"
   },
   "outputs": [
    {
     "name": "stdout",
     "output_type": "stream",
     "text": [
      "63\n",
      "64\n",
      "-1\n"
     ]
    },
    {
     "data": {
      "text/plain": [
       "9"
      ]
     },
     "execution_count": 3,
     "metadata": {},
     "output_type": "execute_result"
    }
   ],
   "source": [
    "def zipleme(text):\n",
    "    if text.count(\"zip\") < 2:\n",
    "        return -1  \n",
    "    else:\n",
    "        return text.index(\"zip\", text.index(\"zip\") + len(\"zip\"))\n",
    "    \n",
    "print(zipleme(\"Siz siz olun zip dosyasi ile ugrasmayin onun yerine disarida gezip durun. Top oynayin ziplayin.\"))\n",
    "print(zipleme(\"Siz siz olun zip dosyasi ile ugrasmayin onun yerine disarida ge zip durun. Top oynayin ziplayin.\"))\n",
    "print(zipleme(\"Yaramazlik yapma zipirlik yap\"))\n",
    "zipleme(\"abczipabdzipabezip\")"
   ]
  },
  {
   "cell_type": "code",
   "execution_count": null,
   "metadata": {},
   "outputs": [],
   "source": [
    "def zip_(yazı):\n",
    "    a = yazı.count(\"zip\")\n",
    "    if a < 2:\n",
    "        return -1\n",
    "    else:\n",
    "        b = yazı.split(\"zip\")\n",
    "        return len(b[0] + b[1]) + 3\n",
    "\n",
    "\n",
    "zip_(\"abczipabdzipabezip\")"
   ]
  },
  {
   "cell_type": "code",
   "execution_count": 33,
   "metadata": {},
   "outputs": [
    {
     "name": "stdout",
     "output_type": "stream",
     "text": [
      "63\n"
     ]
    }
   ],
   "source": [
    "text = \"Siz siz olun zip dosyasi ile ugrasmayin onun yerine disarida gezip durun. Top oynayin ziplayin.\"\n",
    "if text.count(\"zip\") < 2:\n",
    "    print(-1)  \n",
    "else:\n",
    "    print(text.index(\"zip\", text.index(\"zip\") + len(\"zip\")))"
   ]
  },
  {
   "cell_type": "markdown",
   "metadata": {
    "id": "Wdk2I2HvNPbA"
   },
   "source": [
    "```\n",
    "2. liste ve boolean alan, \"Ping\"lerin arasına \"Pong\" yazan, boolean True ise sona da koyan False varsa sonuna koymayan bir fonksiyon yazalım\n",
    "print(yerlestir([\"Ping\",\"Ping\"],True)) -->['Ping', 'Pong', 'Ping', 'Pong']\n",
    "print(yerlestir([\"Ping\",\"Ping\",\"Ping\",\"Ping\",\"Ping\",\"Ping\"],False)) -->['Ping', 'Pong', 'Ping', 'Pong', 'Ping', 'Pong', 'Ping', 'Pong', 'Ping', 'Pong', 'Ping']\n",
    "```"
   ]
  },
  {
   "cell_type": "code",
   "execution_count": 57,
   "metadata": {
    "id": "FEscwCdRNQvt"
   },
   "outputs": [
    {
     "name": "stdout",
     "output_type": "stream",
     "text": [
      "['Ping', 'Pong', 'Ping', 'Pong']\n",
      "['Ping', 'Pong', 'Ping', 'Pong', 'Ping', 'Pong', 'Ping', 'Pong', 'Ping', 'Pong', 'Ping']\n"
     ]
    }
   ],
   "source": [
    "def yerlestir(liste, boolean):\n",
    "    new_lst = []\n",
    "    for i in range(len(liste)):\n",
    "        new_lst.append(liste[i])\n",
    "        new_lst.append(\"Pong\")\n",
    "    if boolean == False:\n",
    "        new_lst.pop(-1)\n",
    "    return new_lst\n",
    "\n",
    "print(yerlestir([\"Ping\",\"Ping\"],True))\n",
    "print(yerlestir([\"Ping\",\"Ping\",\"Ping\",\"Ping\",\"Ping\",\"Ping\"],False))"
   ]
  },
  {
   "cell_type": "code",
   "execution_count": null,
   "metadata": {},
   "outputs": [],
   "source": [
    "ef yerleştir(liste, bool):\n",
    "    edited = []\n",
    "    for i in liste:\n",
    "        edited.append(i)\n",
    "        edited.append(\"Pong\")\n",
    "    if bool:\n",
    "        return edited\n",
    "    else:\n",
    "        del edited[-1]\n",
    "        return edited\n",
    "\n",
    "\n",
    "\n",
    "yerleştir([\"Ping\",\"Ping\",\"Ping\",\"Ping\"],True)"
   ]
  },
  {
   "cell_type": "markdown",
   "metadata": {
    "id": "OF0rVsBJNRVm"
   },
   "source": [
    "```\n",
    "3. Sayının eklemeli devamlılığını bulan fonksiyon yazalım\n",
    "\n",
    "eklemeli_devamlılık(1679583)\n",
    "\n",
    "1+6+7+9+5+8+3=39\n",
    "\n",
    "3+9=12\n",
    "\n",
    "1+2=3\n",
    "\n",
    "Tek basamaklı sayıya ulaşmak için 3 tekrar gerekiyor\n",
    "```"
   ]
  },
  {
   "cell_type": "code",
   "execution_count": 4,
   "metadata": {},
   "outputs": [
    {
     "name": "stdout",
     "output_type": "stream",
     "text": [
      "3\n"
     ]
    }
   ],
   "source": [
    "def eklemeli(num):\n",
    "    sayac = 0\n",
    "    while num > 10:\n",
    "        lst = [int(i) for i in str(num)]\n",
    "        num = sum(lst)\n",
    "        sayac +=1\n",
    "    return sayac\n",
    "print(eklemeli(1679583))"
   ]
  },
  {
   "cell_type": "code",
   "execution_count": null,
   "metadata": {},
   "outputs": [],
   "source": [
    "def eklemeli(x):\n",
    "    x = str(x)\n",
    "    a = len(x)\n",
    "    count = 0\n",
    "    while a != 1:\n",
    "        new = 0\n",
    "        for i in x:\n",
    "            new += int(i)\n",
    "        x = str(new)\n",
    "        a = len(x)\n",
    "        count += 1\n",
    "    return count\n",
    "\n",
    "\n",
    "eklemeli(1679583)"
   ]
  },
  {
   "cell_type": "markdown",
   "metadata": {
    "id": "C0bzI8cTO3Wh"
   },
   "source": [
    "```\n",
    "4. You will be given an array of numbers. You have to sort the odd numbers in ascending order while leaving the even numbers at their original positions.\n",
    "\n",
    "Example:\n",
    "\n",
    "[7, 1] => [1, 7]\n",
    "\n",
    "[5, 8, 6, 3, 4] => [3, 8, 6, 5, 4]\n",
    "\n",
    "[9, 8, 7, 6, 5, 4, 3, 2, 1, 0] => [1, 8, 3, 6, 5, 4, 7, 2, 9, 0]\n",
    "\n",
    "```\n"
   ]
  },
  {
   "cell_type": "code",
   "execution_count": 57,
   "metadata": {
    "id": "cL4ywnsFSVGt"
   },
   "outputs": [
    {
     "name": "stdout",
     "output_type": "stream",
     "text": [
      "[1, 8, 3, 6, 5, 4, 7, 2, 9, 0]\n"
     ]
    }
   ],
   "source": [
    "lst = [9, 8, 7, 6, 5, 4, 3, 2, 1, 0]\n",
    "a = [int(i) for i in lst if i%2==1]\n",
    "bos=[]\n",
    "for i in lst:\n",
    "    if i%2==0:\n",
    "        bos.append(i)\n",
    "    else:\n",
    "        bos.append(min(a))\n",
    "        a.pop(a.index(min(a)))\n",
    "print(bos)\n"
   ]
  },
  {
   "cell_type": "code",
   "execution_count": 60,
   "metadata": {},
   "outputs": [
    {
     "data": {
      "text/plain": [
       "[1, 8, 3, 6, 5, 4, 7, 2, 9, 0]"
      ]
     },
     "execution_count": 60,
     "metadata": {},
     "output_type": "execute_result"
    }
   ],
   "source": [
    "def tek_siralama(lst):\n",
    "    tek = [i for i in lst if i%2==1]\n",
    "    bos=[]\n",
    "    for i in lst:\n",
    "        if i%2==0:\n",
    "            bos.append(i)\n",
    "        else:\n",
    "            bos.append(min(tek))\n",
    "            tek.pop(tek.index(min(tek)))\n",
    "    return bos\n",
    "tek_siralama([9, 8, 7, 6, 5, 4, 3, 2, 1, 0])"
   ]
  },
  {
   "cell_type": "code",
   "execution_count": null,
   "metadata": {},
   "outputs": [],
   "source": [
    "def asc(liste):\n",
    "    odd =[]\n",
    "    for i in liste:\n",
    "        if i % 2:\n",
    "            odd.append(i)\n",
    "    odd = sorted(odd)\n",
    "\n",
    "    result = []\n",
    "    k = 0\n",
    "    for i in liste:\n",
    "        if i % 2:\n",
    "            result.append(odd[k])\n",
    "            k += 1\n",
    "        else:\n",
    "            result.append(i)\n",
    "    return result\n",
    "\n",
    "\n",
    "    #odd = [1,3,5,7,9]\n",
    "\n",
    "asc([5, 8, 6, 3, 4])"
   ]
  },
  {
   "cell_type": "markdown",
   "metadata": {
    "id": "pJUfX-07SY0h"
   },
   "source": [
    "```\n",
    "5- Ornek olarak verilen stringin her bir karakteri sirasiyla buyuk harf haline gelecek ve sonuc bir liste seklinde olacak. Ornek 1:\n",
    "\n",
    "test = ‘iki kelime’\n",
    "\n",
    "sonuc = ['Iki kelime', 'iKi kelime', 'ikI kelime', 'iki Kelime', 'iki kElime', 'iki keLime', 'iki kelIme', 'iki keliMe', 'iki kelimE']\n",
    "```\n",
    "\n"
   ]
  },
  {
   "cell_type": "code",
   "execution_count": 1,
   "metadata": {},
   "outputs": [
    {
     "name": "stdout",
     "output_type": "stream",
     "text": [
      "['Iki kelime', 'iKi kelime', 'ikI kelime', 'iki kelime', 'iki Kelime', 'iki kElime', 'iki keLime', 'iki kelIme', 'iki keliMe', 'iki kelimE']\n"
     ]
    }
   ],
   "source": [
    "text = \"iki kelime\"\n",
    "yeni  = \"\"\n",
    "sayac = 0\n",
    "lst =[]\n",
    "while sayac < len(text):\n",
    "    for i in range(len(text)):\n",
    "        if i!=sayac:\n",
    "            yeni +=text[i]\n",
    "        else:\n",
    "            yeni +=text[sayac].upper()\n",
    "    lst.append(yeni)\n",
    "    yeni= \"\"\n",
    "    sayac +=1    \n",
    "print(lst)"
   ]
  },
  {
   "cell_type": "code",
   "execution_count": 2,
   "metadata": {},
   "outputs": [
    {
     "data": {
      "text/plain": [
       "['Ankara', 'aNkara', 'anKara', 'ankAra', 'ankaRa', 'ankarA']"
      ]
     },
     "execution_count": 2,
     "metadata": {},
     "output_type": "execute_result"
    }
   ],
   "source": [
    "def sirayla_buyuk(text):\n",
    "    yeni  = \"\"\n",
    "    sayac = 0\n",
    "    lst =[]\n",
    "    while sayac < len(text):\n",
    "        for i in range(len(text)):\n",
    "            if i!=sayac:\n",
    "                yeni +=text[i]\n",
    "            else:\n",
    "                yeni +=text[sayac].upper()\n",
    "        lst.append(yeni)\n",
    "        yeni= \"\"\n",
    "        sayac +=1    \n",
    "    return lst\n",
    "sirayla_buyuk(\"ankara\")"
   ]
  },
  {
   "cell_type": "code",
   "execution_count": null,
   "metadata": {},
   "outputs": [],
   "source": [
    "def upper(yazı):\n",
    "    sonuc=[]\n",
    "    for i in range(len(yazı)):\n",
    "          if yazı[i].isalpha():\n",
    "            sonuc.append(yazı[:i]+yazı[i].upper()+yazı[i+1:])\n",
    "    return sonuc\n",
    "upper(\"ankara\")"
   ]
  },
  {
   "cell_type": "markdown",
   "metadata": {
    "id": "_t_wBbYtKhYW"
   },
   "source": [
    "6. ```\n",
    "morse_codes = {\n",
    "  'A': '.-', 'B': '-...', 'C': '-.-.', 'D': '-..', 'E': '.', 'F': '..-.',\n",
    "  'G': '--.', 'H': '....', 'I': '..', 'J': '.---', 'K': '-.-', 'L': '.-..',\n",
    "  'M': '--', 'N': '-.', 'O': '---', 'P': '.--.', 'Q': '--.-', 'R': '.-.',\n",
    "  'S': '...', 'T': '-', 'U': '..-', 'V': '...-', 'W': '.--', 'X': '-..-',\n",
    "  'Y': '-.--', 'Z': '--..', ' ': ' ', '0': '-----',\n",
    "  '1': '.----', '2': '..---', '3': '...--', '4': '....-', '5': '.....',\n",
    "  '6': '-....', '7': '--...', '8': '---..', '9': '----.',\n",
    "  '&': '.-...', \"'\": '.----.', '@': '.--.-.', ')': '-.--.-', '(': '-.--.',\n",
    "  ':': '---...', ',': '--..--', '=': '-...-', '!': '-.-.--', '.': '.-.-.-',\n",
    "  '-': '-....-', '+': '.-.-.', '\"': '.-..-.', '?': '..--..', '/': '-..-.'\n",
    "}\n",
    "\n",
    "```\n",
    "Arasında boşluk bırakılarak girilen morse kodunu ifadeye, ifadeyi morsea çeviren kod yazalım."
   ]
  },
  {
   "cell_type": "code",
   "execution_count": 8,
   "metadata": {},
   "outputs": [],
   "source": [
    "morse_codes = {\n",
    "'A': '.-', 'B': '-...', 'C': '-.-.', 'D': '-..', 'E': '.', 'F': '..-.',\n",
    "'G': '--.', 'H': '....', 'I': '..', 'J': '.---', 'K': '-.-', 'L': '.-..',\n",
    "'M': '--', 'N': '-.', 'O': '---', 'P': '.--.', 'Q': '--.-', 'R': '.-.',\n",
    "'S': '...', 'T': '-', 'U': '..-', 'V': '...-', 'W': '.--', 'X': '-..-',\n",
    "'Y': '-.--', 'Z': '--..', ' ': ' ', '0': '-----',\n",
    "'1': '.----', '2': '..---', '3': '...--', '4': '....-', '5': '.....',\n",
    "'6': '-....', '7': '--...', '8': '---..', '9': '----.',\n",
    "'&': '.-...', \"'\": '.----.', '@': '.--.-.', ')': '-.--.-', '(': '-.--.',\n",
    "':': '---...', ',': '--..--', '=': '-...-', '!': '-.-.--', '.': '.-.-.-',\n",
    "'-': '-....-', '+': '.-.-.', '\"': '.-..-.', '?': '..--..', '/': '-..-.'\n",
    "}"
   ]
  },
  {
   "cell_type": "code",
   "execution_count": 9,
   "metadata": {},
   "outputs": [
    {
     "name": "stdout",
     "output_type": "stream",
     "text": [
      "Enter your message to Cohort-9: Help us Python!\n",
      ".... . .-.. .--.   ..- ...   .--. -.-- - .... --- -. -.-.--\n"
     ]
    }
   ],
   "source": [
    "msg = \"\"\n",
    "text = list(str(input(\"Enter your message to Cohort-9: \")).upper().strip())\n",
    "for i in range(len(text)):\n",
    "    msg += morse_codes[text[i]] + \" \"\n",
    "print(msg.rstrip(msg[-1]))"
   ]
  },
  {
   "cell_type": "code",
   "execution_count": null,
   "metadata": {},
   "outputs": [],
   "source": [
    "morse_codes = {\n",
    "  'A': '.-', 'B': '-...', 'C': '-.-.', 'D': '-..', 'E': '.', 'F': '..-.',\n",
    "  'G': '--.', 'H': '....', 'I': '..', 'J': '.---', 'K': '-.-', 'L': '.-..',\n",
    "  'M': '--', 'N': '-.', 'O': '---', 'P': '.--.', 'Q': '--.-', 'R': '.-.',\n",
    "  'S': '...', 'T': '-', 'U': '..-', 'V': '...-', 'W': '.--', 'X': '-..-',\n",
    "  'Y': '-.--', 'Z': '--..', ' ': ' ', '0': '-----',\n",
    "  '1': '.----', '2': '..---', '3': '...--', '4': '....-', '5': '.....',\n",
    "  '6': '-....', '7': '--...', '8': '---..', '9': '----.',\n",
    "  '&': '.-...', \"'\": '.----.', '@': '.--.-.', ')': '-.--.-', '(': '-.--.',\n",
    "  ':': '---...', ',': '--..--', '=': '-...-', '!': '-.-.--', '.': '.-.-.-',\n",
    "  '-': '-....-', '+': '.-.-.', '\"': '.-..-.', '?': '..--..', '/': '-..-.'\n",
    "}\n",
    "def dönüştür(yazı):\n",
    "    a = yazı.split()\n",
    "\n",
    "    result = \"\"\n",
    "    keys = list(morse_codes.keys())\n",
    "    values = list(morse_codes.values())\n",
    "    for i in a:\n",
    "        if i in keys:\n",
    "           result += morse_codes[i] + \" \"\n",
    "        elif i in values:\n",
    "            result += keys[values.index(i)] + \" \"\n",
    "    return result.strip()\n",
    "\n",
    "#dönüştür(\"A B C D\")\n",
    "dönüştür(\"-....- .-.-.\")"
   ]
  },
  {
   "cell_type": "markdown",
   "metadata": {
    "id": "zJz-aS4DM9Sl"
   },
   "source": [
    "```\n",
    "7- Once upon a time, on a way through the old wild mountainous west,…\n",
    "… a man was given directions to go from one point to another. The directions were \"NORTH\", \"SOUTH\", \"WEST\", \"EAST\". Clearly \"NORTH\" and \"SOUTH\" are opposite, \"WEST\" and \"EAST\" too.\n",
    "\n",
    "Going to one direction and coming back the opposite direction right away is a needless effort. Since this is the wild west, with dreadfull weather and not much water, it's important to save yourself some energy, otherwise you might die of thirst!\n",
    "\n",
    "How I crossed a mountainous desert the smart way.\n",
    "The directions given to the man are, for example, the following (depending on the language):\n",
    "\n",
    "[\"NORTH\", \"SOUTH\", \"SOUTH\", \"EAST\", \"WEST\", \"NORTH\", \"WEST\"].\n",
    "or\n",
    "{ \"NORTH\", \"SOUTH\", \"SOUTH\", \"EAST\", \"WEST\", \"NORTH\", \"WEST\" };\n",
    "or\n",
    "[North, South, South, East, West, North, West]\n",
    "You can immediatly see that going \"NORTH\" and immediately \"SOUTH\" is not reasonable, better stay to the same place! So the task is to give to the man a simplified version of the plan. A better plan in this case is simply:\n",
    "\n",
    "[\"WEST\"]\n",
    "or\n",
    "{ \"WEST\" }\n",
    "or\n",
    "[West]\n",
    "Other examples:\n",
    "In [\"NORTH\", \"SOUTH\", \"EAST\", \"WEST\"], the direction \"NORTH\" + \"SOUTH\" is going north and coming back right away.\n",
    "\n",
    "The path becomes [\"EAST\", \"WEST\"], now \"EAST\" and \"WEST\" annihilate each other, therefore, the final result is [] (nil in Clojure).\n",
    "\n",
    "In [\"NORTH\", \"EAST\", \"WEST\", \"SOUTH\", \"WEST\", \"WEST\"], \"NORTH\" and \"SOUTH\" are not directly opposite but they become directly opposite after the reduction of \"EAST\" and \"WEST\" so the whole path is reducible to [\"WEST\", \"WEST\"].\n",
    "\n",
    "Task\n",
    "Write a function dirReduc which will take an array of strings and returns an array of strings with the needless directions removed (W<->E or S<->N side by side).\n",
    "\n",
    "The Haskell version takes a list of directions with data Direction = North | East | West | South.\n",
    "The Clojure version returns nil when the path is reduced to nothing.\n",
    "The Rust version takes a slice of enum Direction {North, East, West, South}.\n",
    "See more examples in \"Sample Tests:\"\n",
    "Notes\n",
    "Not all paths can be made simpler. The path [\"NORTH\", \"WEST\", \"SOUTH\", \"EAST\"] is not reducible. \"NORTH\" and \"WEST\", \"WEST\" and \"SOUTH\", \"SOUTH\" and \"EAST\" are not directly opposite of each other and can't become such. Hence the result path is itself : [\"NORTH\", \"WEST\", \"SOUTH\", \"EAST\"].\n",
    "```\n",
    "\n",
    "\n"
   ]
  },
  {
   "cell_type": "code",
   "execution_count": 2,
   "metadata": {},
   "outputs": [
    {
     "name": "stdout",
     "output_type": "stream",
     "text": [
      "['WEST']\n"
     ]
    }
   ],
   "source": [
    "lst = [\"NORTH\", \"SOUTH\", \"SOUTH\", \"EAST\", \"WEST\", \"NORTH\", \"WEST\"]\n",
    "\n",
    "karsit = {\"NORTH\":\"SOUTH\", \"SOUTH\":\"NORTH\", \"EAST\":\"WEST\", \"WEST\":\"EAST\"}\n",
    "\n",
    "new_list = []\n",
    "\n",
    "for i in range(len(lst)): \n",
    "    if len(new_list)  ==  0: \n",
    "        new_list.append(lst[i]) \n",
    "    elif new_list[-1]  !=  karsit[lst[i]]: \n",
    "        new_list.append(lst[i]) \n",
    "    else: \n",
    "        new_list.pop()\n",
    "        \n",
    "print(new_list)\n"
   ]
  },
  {
   "cell_type": "code",
   "execution_count": 11,
   "metadata": {},
   "outputs": [
    {
     "name": "stdout",
     "output_type": "stream",
     "text": [
      "WW\n"
     ]
    }
   ],
   "source": [
    "yan = \"NEWSWW\"\n",
    "while yan != \"\":\n",
    "    if \"NS\" in yan:            \n",
    "        yan= yan.replace((\"NS\"), \"\")\n",
    "    elif \"SN\" in yan:\n",
    "        yan= yan.replace((\"SN\"), \"\")\n",
    "    elif \"EW\" in yan:\n",
    "        yan= yan.replace((\"EW\"), \"\")\n",
    "    elif \"WE\" in yan:\n",
    "        yan= yan.replace((\"WE\"), \"\")\n",
    "    else:\n",
    "        break\n",
    "print(yan)"
   ]
  },
  {
   "cell_type": "code",
   "execution_count": 3,
   "metadata": {},
   "outputs": [
    {
     "data": {
      "text/plain": [
       "'WW'"
      ]
     },
     "execution_count": 3,
     "metadata": {},
     "output_type": "execute_result"
    }
   ],
   "source": [
    "def mappath(s) :\n",
    "    while \"NS\" in s or \"SN\" in s or \"EW\" in s or \"WE\" in s:\n",
    "        s = s.replace(\"NS\", \"\").replace(\"SN\", \"\").replace(\"EW\", \"\").replace(\"WE\", \"\")\n",
    "    return s #== \"\"\n",
    "mappath(\"NEWSWW\")"
   ]
  }
 ],
 "metadata": {
  "colab": {
   "name": "group_3.ipynb",
   "provenance": []
  },
  "interpreter": {
   "hash": "fd2207e9aff349e1f968e75c37517a375afe88c92786151a087c5d934a98b86a"
  },
  "kernelspec": {
   "display_name": "Python 3",
   "language": "python",
   "name": "python3"
  },
  "language_info": {
   "codemirror_mode": {
    "name": "ipython",
    "version": 3
   },
   "file_extension": ".py",
   "mimetype": "text/x-python",
   "name": "python",
   "nbconvert_exporter": "python",
   "pygments_lexer": "ipython3",
   "version": "3.8.8"
  }
 },
 "nbformat": 4,
 "nbformat_minor": 1
}
