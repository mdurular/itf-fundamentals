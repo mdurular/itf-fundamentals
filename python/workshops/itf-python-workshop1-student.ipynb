{
 "cells": [
  {
   "cell_type": "markdown",
   "metadata": {},
   "source": [
    "# Problem 1\n",
    "\n",
    "Write a program that multiplies three numbers entered by the user. Print the output with the format method."
   ]
  },
  {
   "cell_type": "code",
   "execution_count": 1,
   "metadata": {},
   "outputs": [
    {
     "name": "stdout",
     "output_type": "stream",
     "text": [
      "Enter First Number: 1\n",
      "Enter Second Number: 2\n",
      "Enter Third Number: 3\n",
      "Result of multiplies three numbers entered: 6\n"
     ]
    }
   ],
   "source": [
    "value_1 = int(input(\"Enter First Number: \"))\n",
    "value_2 = int(input(\"Enter Second Number: \"))\n",
    "value_3 = int(input(\"Enter Third Number: \"))\n",
    "print(\"Result of multiplies three numbers entered: {}\" .format(value_1*value_2*value_3))"
   ]
  },
  {
   "cell_type": "markdown",
   "metadata": {},
   "source": [
    "### Problem 2\n",
    "\n",
    "Write a program that calculates body mass index from **height** and **weight** entered by the user. \n",
    "\n",
    "Body mass index :  Weight / Height(m) * Height(m)"
   ]
  },
  {
   "cell_type": "code",
   "execution_count": 3,
   "metadata": {
    "scrolled": true
   },
   "outputs": [
    {
     "name": "stdout",
     "output_type": "stream",
     "text": [
      "Enter Height Value 'm' type:1.75\n",
      "Enter Weight Value:55\n",
      "17.96\n"
     ]
    }
   ],
   "source": [
    "height = float(input(\"Enter Height Value 'm' type:\"))\n",
    "weight = float(input(\"Enter Weight Value:\"))\n",
    "body_mass_ind = weight/(height*height)\n",
    "print(\"%.2f\" %(body_mass_ind))"
   ]
  },
  {
   "cell_type": "markdown",
   "metadata": {},
   "source": [
    "### Problem 3\n",
    "\n",
    "With your $ 200, how many pieces of material can you get for $ 11 each? How much money do you have left after buying?"
   ]
  },
  {
   "cell_type": "code",
   "execution_count": 7,
   "metadata": {},
   "outputs": [
    {
     "name": "stdout",
     "output_type": "stream",
     "text": [
      "we can get 18 material\n",
      "we have 2 \b$ after buying\n"
     ]
    }
   ],
   "source": [
    "print('we can get', 200//11, 'material')\n",
    "print('we have', 200%11, '\\b$ after buying')"
   ]
  },
  {
   "cell_type": "markdown",
   "metadata": {},
   "source": [
    "### Problem 4\n",
    "\n",
    "Ask the user for two numbers and assign these numbers to variables and replace the values of these variables with each other."
   ]
  },
  {
   "cell_type": "code",
   "execution_count": 5,
   "metadata": {
    "scrolled": true
   },
   "outputs": [
    {
     "name": "stdout",
     "output_type": "stream",
     "text": [
      "Enter First Number: 25\n",
      "Enter Second Number: 3\n",
      "first_num: 3 second_num: 25\n"
     ]
    }
   ],
   "source": [
    "first_num = int(input(\"Enter First Number: \"))\n",
    "second_num = int(input(\"Enter Second Number: \"))\n",
    "first_num, second_num = second_num, first_num\n",
    "\n",
    "print(\"first_num:\", first_num, \"second_num:\", second_num)\n"
   ]
  },
  {
   "cell_type": "code",
   "execution_count": 7,
   "metadata": {},
   "outputs": [
    {
     "name": "stdout",
     "output_type": "stream",
     "text": [
      "1. Sayiyi giriniz: 10\n",
      "2. Sayiyi giriniz: 5\n",
      "5 5\n"
     ]
    }
   ],
   "source": [
    "sayi1 = int(input(\"1. Sayiyi giriniz: \"))\n",
    "sayi2 = int(input(\"2. Sayiyi giriniz: \"))\n",
    "sayi3 = sayi1\n",
    "sayi1 = sayi2\n",
    "sayi2 = sayi3\n",
    "print(sayi1,sayi2)"
   ]
  },
  {
   "cell_type": "markdown",
   "metadata": {},
   "source": [
    "### Problem 5\n",
    "\n",
    "Write a Python program to solve (x - y) * (x + y)."
   ]
  },
  {
   "cell_type": "code",
   "execution_count": 9,
   "metadata": {},
   "outputs": [
    {
     "name": "stdout",
     "output_type": "stream",
     "text": [
      "((x - y) * (x + y) result of math problem = 39\n"
     ]
    }
   ],
   "source": [
    "x, y = 8,5\n",
    "print(\"((x - y) * (x + y) result of math problem = {}\".format(x * x - y * y))"
   ]
  },
  {
   "cell_type": "markdown",
   "metadata": {},
   "source": [
    "### Problem 6\n",
    "\n",
    "Get **word**, **seperator** and **repetition** values from the user and print the word on the screen according to the given values. \n",
    "\n",
    "Ex: word = ali sep = / repetition = 3 ----> ali/ali/ali"
   ]
  },
  {
   "cell_type": "code",
   "execution_count": 10,
   "metadata": {},
   "outputs": [
    {
     "name": "stdout",
     "output_type": "stream",
     "text": [
      "please write a word:ali\n",
      "please write a seperator:/\n",
      "please write repetition value:3\n",
      "alialiali\n"
     ]
    }
   ],
   "source": [
    "word = str(input(\"please write a word:\"))\n",
    "sept = str(input(\"please write a seperator:\"))\n",
    "rpt = int(input(\"please write repetition value:\"))\n",
    "print((word*rpt).rstrip(sept))"
   ]
  },
  {
   "cell_type": "code",
   "execution_count": 11,
   "metadata": {},
   "outputs": [
    {
     "name": "stdout",
     "output_type": "stream",
     "text": [
      "fatma/fatma/fatma\n"
     ]
    }
   ],
   "source": [
    "kelime = \"fatma\"\n",
    "tekrar = 3\n",
    "ayir = \"/\"\n",
    "metin = (kelime+ayir)\n",
    "print((metin*tekrar).rstrip(ayir))"
   ]
  },
  {
   "cell_type": "markdown",
   "metadata": {},
   "source": [
    "### Problem 7\n",
    "\n",
    "Get a sitring and an integer input from the user and get the output shown as in the example.\n",
    "\n",
    "Ex: word = Clarusway n = 3 OUTPUT = waywayway"
   ]
  },
  {
   "cell_type": "code",
   "execution_count": 13,
   "metadata": {},
   "outputs": [
    {
     "name": "stdout",
     "output_type": "stream",
     "text": [
      "please write a word:ali\n",
      "please write a integer number:2\n",
      "lili\n"
     ]
    }
   ],
   "source": [
    "word = str(input(\"please write a word:\"))\n",
    "value = int(input(\"please write a integer number:\"))\n",
    "print(word[-value:]*value)"
   ]
  },
  {
   "cell_type": "markdown",
   "metadata": {},
   "source": [
    "### Problem 8\n",
    "\n",
    "Get a number from the user. \n",
    "\n",
    "If the number is divided by 3 print *Clarus*, if it is divided by 5 print *way*, if it is divided by both 3 and 5 print *Clarusway*. \n",
    "\n",
    "If not, print the number itself."
   ]
  },
  {
   "cell_type": "code",
   "execution_count": null,
   "metadata": {},
   "outputs": [],
   "source": [
    "x = int(input(\"please write a integer number:\"))\n",
    "\n",
    "if x%3 == 0 and x%5 == 0 :\n",
    "    print(\"Clarusway\")\n",
    "elif x%5 == 0 :\n",
    "    print(\"way\")\n",
    "elif x%3 == 0 : \n",
    "    print(\"Clarus\")\n",
    "else :\n",
    "    print(x, ':', '3 ve 5\\'e bölünmez')"
   ]
  },
  {
   "cell_type": "code",
   "execution_count": null,
   "metadata": {},
   "outputs": [],
   "source": [
    "x = int(input(\"please write a integer number:\"))\n",
    "x%3 == 0 and x%5 == 0\n",
    "print(a)"
   ]
  },
  {
   "cell_type": "code",
   "execution_count": 1,
   "metadata": {},
   "outputs": [
    {
     "name": "stdout",
     "output_type": "stream",
     "text": [
      "please write a integer number:25\n"
     ]
    },
    {
     "data": {
      "text/plain": [
       "'way'"
      ]
     },
     "execution_count": 1,
     "metadata": {},
     "output_type": "execute_result"
    }
   ],
   "source": [
    "x = int(input(\"please write a integer number:\"))\n",
    "(x%3 == 0)*\"Clarus\"+(x%5 == 0)*\"way\" or x"
   ]
  },
  {
   "cell_type": "markdown",
   "metadata": {},
   "source": [
    "\n",
    "### Problem 9\n",
    "letters = \"abclarusxyz\"\n",
    "- get the word **clarus** in the string\n",
    "- get the word **cba**\n",
    "- print the last eight characters in reverse order"
   ]
  },
  {
   "cell_type": "code",
   "execution_count": 23,
   "metadata": {},
   "outputs": [
    {
     "name": "stdout",
     "output_type": "stream",
     "text": [
      "clarus\n",
      "cba\n",
      "zyxsural\n"
     ]
    }
   ],
   "source": [
    "letters = \"abclarusxyz\"\n",
    "print(letters[2:8])\n",
    "print(letters[2::-1])\n",
    "print(letters[::-1][:8])"
   ]
  },
  {
   "cell_type": "markdown",
   "metadata": {},
   "source": [
    "### Problem 10\n",
    "\n",
    "Print **Clarusway is the best** from the elements of the rand_list list.\n",
    "\n",
    "rand_list = [1,[1, 2, \"Clarus\", [2, \"way\"]], \" is the best\"]"
   ]
  },
  {
   "cell_type": "code",
   "execution_count": 18,
   "metadata": {},
   "outputs": [
    {
     "name": "stdout",
     "output_type": "stream",
     "text": [
      "Clarusway is the best\n"
     ]
    }
   ],
   "source": [
    "liste = [1,[1, 2, \"Clarus\", [2, \"way\"]], \" is the best\"]\n",
    "\n",
    "print(liste[1][2]+liste[1][3][1]+liste[2])\n"
   ]
  },
  {
   "cell_type": "code",
   "execution_count": 19,
   "metadata": {},
   "outputs": [
    {
     "name": "stdout",
     "output_type": "stream",
     "text": [
      "Clarusway is the best\n"
     ]
    }
   ],
   "source": [
    "rand_list = [1,[1, 2, \"Clarus\", [2, \"way\"]], \" is the best\"]\n",
    "print(1 and (1 and 2 and \"Clarus\" + (2 and \"way\")) + \" is the best\")"
   ]
  },
  {
   "cell_type": "code",
   "execution_count": 17,
   "metadata": {},
   "outputs": [
    {
     "data": {
      "text/plain": [
       "' is the best'"
      ]
     },
     "execution_count": 17,
     "metadata": {},
     "output_type": "execute_result"
    }
   ],
   "source": [
    "liste[2]"
   ]
  },
  {
   "cell_type": "markdown",
   "metadata": {},
   "source": [
    "### Problem 11\n",
    "\n",
    "Sort the list given below in ascending order. Find the missing number from 1 to 10.\n",
    "\n",
    "num_list = [2, 3, 1, 5, 6, 4, 9, 8, 10]"
   ]
  },
  {
   "cell_type": "code",
   "execution_count": 20,
   "metadata": {},
   "outputs": [
    {
     "name": "stdout",
     "output_type": "stream",
     "text": [
      "[1, 2, 3, 4, 5, 6, 8, 9, 10]\n",
      "{0, 7}\n"
     ]
    }
   ],
   "source": [
    "num_list = [2, 3, 1, 5, 6, 4, 9, 8, 10]\n",
    "print(sorted(num_list))\n",
    "\n",
    "num_list1 = [7, 2, 3, 1, 5, 6, 4, 9, 8, 10, 0]\n",
    "\n",
    "print(set(num_list) ^ set(num_list1))  # iki liste arasıdaki farkı veren fonksiyon"
   ]
  },
  {
   "cell_type": "markdown",
   "metadata": {},
   "source": [
    "# Problem 12\n",
    "\n",
    "Print the oldest person's name?\n",
    "\n",
    "old ={\"Emma\": 71, \"Jack\": 45, \"Amy\": 15,\"Ben\": 29}"
   ]
  },
  {
   "cell_type": "code",
   "execution_count": 44,
   "metadata": {
    "scrolled": true
   },
   "outputs": [
    {
     "name": "stdout",
     "output_type": "stream",
     "text": [
      "Emma\n"
     ]
    }
   ],
   "source": [
    "old ={\"Jack\": 45,\"Emma\": 71,  \"Amy\": 15,\"Ben\": 29}\n",
    "print(max(old,key=old.get))"
   ]
  },
  {
   "cell_type": "code",
   "execution_count": 43,
   "metadata": {},
   "outputs": [
    {
     "name": "stdout",
     "output_type": "stream",
     "text": [
      "Emma\n"
     ]
    }
   ],
   "source": [
    "print(max(old,key=old.get))"
   ]
  },
  {
   "cell_type": "code",
   "execution_count": 48,
   "metadata": {},
   "outputs": [
    {
     "data": {
      "text/plain": [
       "'ahmet'"
      ]
     },
     "execution_count": 48,
     "metadata": {},
     "output_type": "execute_result"
    }
   ],
   "source": [
    "a = \"ali\"\n",
    "b = \"ahmet\"\n",
    "c = [a,b]\n",
    "\n",
    "max(c,key=len)"
   ]
  },
  {
   "cell_type": "code",
   "execution_count": 49,
   "metadata": {},
   "outputs": [
    {
     "data": {
      "text/plain": [
       "'ali'"
      ]
     },
     "execution_count": 49,
     "metadata": {},
     "output_type": "execute_result"
    }
   ],
   "source": [
    "min(c,key=len)"
   ]
  },
  {
   "cell_type": "code",
   "execution_count": 4,
   "metadata": {},
   "outputs": [
    {
     "data": {
      "text/plain": [
       "'v'"
      ]
     },
     "execution_count": 4,
     "metadata": {},
     "output_type": "execute_result"
    }
   ],
   "source": [
    "a =\"ahmnet\"\n",
    "b =\"venik\"\n",
    "c= (a+b)\n",
    "max(c)"
   ]
  },
  {
   "cell_type": "markdown",
   "metadata": {},
   "source": [
    "### Problem 13\n",
    "\n",
    "Write a Python program to sum all the items in a dictionary.\n",
    "\n",
    "my_dict = {'data1':100,'data2':-54,'data3':247}"
   ]
  },
  {
   "cell_type": "code",
   "execution_count": 35,
   "metadata": {},
   "outputs": [
    {
     "name": "stdout",
     "output_type": "stream",
     "text": [
      "293\n"
     ]
    }
   ],
   "source": [
    "my_dict = {'data1':100,'data2':-54,'data3':247}\n",
    "a = my_dict.values()\n",
    "print(sum(a))"
   ]
  },
  {
   "cell_type": "markdown",
   "metadata": {},
   "source": [
    "### Problem 14\n",
    "\n",
    "Write a Python program to compute average of two given lists.\n",
    "\n",
    "nums1 = [1, 1, 3, 4, 4, 5, 6, 7]\n",
    "nums2 = [0, 1, 2, 3, 4, 4, 5, 7, 8]"
   ]
  },
  {
   "cell_type": "code",
   "execution_count": 43,
   "metadata": {},
   "outputs": [
    {
     "data": {
      "text/plain": [
       "65"
      ]
     },
     "execution_count": 43,
     "metadata": {},
     "output_type": "execute_result"
    }
   ],
   "source": [
    "nums1 = [1, 1, 3, 4, 4, 5, 6, 7]\n",
    "nums2 = [0, 1, 2, 3, 4, 4, 5, 7, 8]\n",
    "total= sum(nums1)+sum(nums2)\n",
    "total"
   ]
  },
  {
   "cell_type": "code",
   "execution_count": 1,
   "metadata": {},
   "outputs": [
    {
     "name": "stdout",
     "output_type": "stream",
     "text": [
      "Package                            Version\n",
      "---------------------------------- -------------------\n",
      "alabaster                          0.7.12\n",
      "anaconda-client                    1.7.2\n",
      "anaconda-navigator                 2.0.3\n",
      "anaconda-project                   0.9.1\n",
      "anyio                              2.2.0\n",
      "appdirs                            1.4.4\n",
      "argh                               0.26.2\n",
      "argon2-cffi                        20.1.0\n",
      "asn1crypto                         1.4.0\n",
      "astroid                            2.5\n",
      "astropy                            4.2.1\n",
      "async-generator                    1.10\n",
      "atomicwrites                       1.4.0\n",
      "attrs                              20.3.0\n",
      "autopep8                           1.5.6\n",
      "Babel                              2.9.0\n",
      "backcall                           0.2.0\n",
      "backports.functools-lru-cache      1.6.4\n",
      "backports.shutil-get-terminal-size 1.0.0\n",
      "backports.tempfile                 1.0\n",
      "backports.weakref                  1.0.post1\n",
      "bcrypt                             3.2.0\n",
      "beautifulsoup4                     4.9.3\n",
      "bitarray                           1.9.2\n",
      "bkcharts                           0.2\n",
      "black                              19.10b0\n",
      "bleach                             3.3.0\n",
      "bokeh                              2.3.2\n",
      "boto                               2.49.0\n",
      "Bottleneck                         1.3.2\n",
      "brotlipy                           0.7.0\n",
      "certifi                            2020.12.5\n",
      "cffi                               1.14.5\n",
      "chardet                            4.0.0\n",
      "click                              7.1.2\n",
      "cloudpickle                        1.6.0\n",
      "clyent                             1.2.2\n",
      "colorama                           0.4.4\n",
      "comtypes                           1.1.9\n",
      "conda                              4.10.1\n",
      "conda-build                        3.21.4\n",
      "conda-content-trust                0+unknown\n",
      "conda-package-handling             1.7.3\n",
      "conda-repo-cli                     1.0.4\n",
      "conda-token                        0.3.0\n",
      "conda-verify                       3.4.2\n",
      "contextlib2                        0.6.0.post1\n",
      "cryptography                       3.4.7\n",
      "cycler                             0.10.0\n",
      "Cython                             0.29.23\n",
      "cytoolz                            0.11.0\n",
      "dask                               2021.4.0\n",
      "decorator                          5.0.6\n",
      "defusedxml                         0.7.1\n",
      "diff-match-patch                   20200713\n",
      "distributed                        2021.4.0\n",
      "docutils                           0.17\n",
      "entrypoints                        0.3\n",
      "et-xmlfile                         1.0.1\n",
      "fastcache                          1.1.0\n",
      "filelock                           3.0.12\n",
      "flake8                             3.9.0\n",
      "Flask                              1.1.2\n",
      "fsspec                             0.9.0\n",
      "future                             0.18.2\n",
      "gevent                             21.1.2\n",
      "glob2                              0.7\n",
      "greenlet                           1.0.0\n",
      "h5py                               2.10.0\n",
      "HeapDict                           1.0.1\n",
      "html5lib                           1.1\n",
      "idna                               2.10\n",
      "imagecodecs                        2021.3.31\n",
      "imageio                            2.9.0\n",
      "imagesize                          1.2.0\n",
      "importlib-metadata                 3.10.0\n",
      "iniconfig                          1.1.1\n",
      "intervaltree                       3.1.0\n",
      "ipykernel                          5.3.4\n",
      "ipython                            7.22.0\n",
      "ipython-genutils                   0.2.0\n",
      "ipywidgets                         7.6.3\n",
      "isort                              5.8.0\n",
      "itsdangerous                       1.1.0\n",
      "jdcal                              1.4.1\n",
      "jedi                               0.17.2\n",
      "Jinja2                             2.11.3\n",
      "joblib                             1.0.1\n",
      "json5                              0.9.5\n",
      "jsonschema                         3.2.0\n",
      "jupyter                            1.0.0\n",
      "jupyter-client                     6.1.12\n",
      "jupyter-console                    6.4.0\n",
      "jupyter-core                       4.7.1\n",
      "jupyter-packaging                  0.7.12\n",
      "jupyter-server                     1.4.1\n",
      "jupyterlab                         3.0.14\n",
      "jupyterlab-pygments                0.1.2\n",
      "jupyterlab-server                  2.4.0\n",
      "jupyterlab-widgets                 1.0.0\n",
      "jupyterthemes                      0.20.0\n",
      "keyring                            22.3.0\n",
      "kiwisolver                         1.3.1\n",
      "lazy-object-proxy                  1.6.0\n",
      "lesscpy                            0.14.0\n",
      "libarchive-c                       2.9\n",
      "llvmlite                           0.36.0\n",
      "locket                             0.2.1\n",
      "lxml                               4.6.3\n",
      "MarkupSafe                         1.1.1\n",
      "matplotlib                         3.3.4\n",
      "mccabe                             0.6.1\n",
      "menuinst                           1.4.16\n",
      "mistune                            0.8.4\n",
      "mkl-fft                            1.3.0\n",
      "mkl-random                         1.2.1\n",
      "mkl-service                        2.3.0\n",
      "mock                               4.0.3\n",
      "more-itertools                     8.7.0\n",
      "mpmath                             1.2.1\n",
      "msgpack                            1.0.2\n",
      "multipledispatch                   0.6.0\n",
      "mypy-extensions                    0.4.3\n",
      "navigator-updater                  0.2.1\n",
      "nbclassic                          0.2.6\n",
      "nbclient                           0.5.3\n",
      "nbconvert                          6.0.7\n",
      "nbformat                           5.1.3\n",
      "nest-asyncio                       1.5.1\n",
      "networkx                           2.5\n",
      "nltk                               3.6.1\n",
      "nose                               1.3.7\n",
      "notebook                           6.3.0\n",
      "numba                              0.53.1\n",
      "numexpr                            2.7.3\n",
      "numpy                              1.20.1\n",
      "numpydoc                           1.1.0\n",
      "olefile                            0.46\n",
      "openpyxl                           3.0.7\n",
      "packaging                          20.9\n",
      "pandas                             1.2.4\n",
      "pandocfilters                      1.4.3\n",
      "paramiko                           2.7.2\n",
      "parso                              0.7.0\n",
      "partd                              1.2.0\n",
      "path                               15.1.2\n",
      "pathlib2                           2.3.5\n",
      "pathspec                           0.7.0\n",
      "patsy                              0.5.1\n",
      "pep8                               1.7.1\n",
      "pexpect                            4.8.0\n",
      "pickleshare                        0.7.5\n",
      "Pillow                             8.2.0\n",
      "pip                                21.0.1\n",
      "pkginfo                            1.7.0\n",
      "pluggy                             0.13.1\n",
      "ply                                3.11\n",
      "prometheus-client                  0.10.1\n",
      "prompt-toolkit                     3.0.17\n",
      "psutil                             5.8.0\n",
      "ptyprocess                         0.7.0\n",
      "py                                 1.10.0\n",
      "pycodestyle                        2.6.0\n",
      "pycosat                            0.6.3\n",
      "pycparser                          2.20\n",
      "pycurl                             7.43.0.6\n",
      "pydocstyle                         6.0.0\n",
      "pyerfa                             1.7.3\n",
      "pyflakes                           2.2.0\n",
      "Pygments                           2.8.1\n",
      "pylint                             2.7.4\n",
      "pyls-black                         0.4.6\n",
      "pyls-spyder                        0.3.2\n",
      "PyNaCl                             1.4.0\n",
      "pyodbc                             4.0.0-unsupported\n",
      "pyOpenSSL                          20.0.1\n",
      "pyparsing                          2.4.7\n",
      "pyreadline                         2.1\n",
      "pyrsistent                         0.17.3\n",
      "PySocks                            1.7.1\n",
      "pytest                             6.2.3\n",
      "python-dateutil                    2.8.1\n",
      "python-jsonrpc-server              0.4.0\n",
      "python-language-server             0.36.2\n",
      "pytz                               2021.1\n",
      "PyWavelets                         1.1.1\n",
      "pywin32                            227\n",
      "pywin32-ctypes                     0.2.0\n",
      "pywinpty                           0.5.7\n",
      "PyYAML                             5.4.1\n",
      "pyzmq                              20.0.0\n",
      "QDarkStyle                         2.8.1\n",
      "QtAwesome                          1.0.2\n",
      "qtconsole                          5.0.3\n",
      "QtPy                               1.9.0\n",
      "Note: you may need to restart the kernel to use updated packages.\n"
     ]
    },
    {
     "name": "stdout",
     "output_type": "stream",
     "text": [
      "regex                              2021.4.4\n",
      "requests                           2.25.1\n",
      "rope                               0.18.0\n",
      "Rtree                              0.9.7\n",
      "ruamel-yaml-conda                  0.15.100\n",
      "scikit-image                       0.18.1\n",
      "scikit-learn                       0.24.1\n",
      "scipy                              1.6.2\n",
      "seaborn                            0.11.1\n",
      "Send2Trash                         1.5.0\n",
      "setuptools                         52.0.0.post20210125\n",
      "simplegeneric                      0.8.1\n",
      "singledispatch                     0.0.0\n",
      "sip                                4.19.13\n",
      "six                                1.15.0\n",
      "sniffio                            1.2.0\n",
      "snowballstemmer                    2.1.0\n",
      "sortedcollections                  2.1.0\n",
      "sortedcontainers                   2.3.0\n",
      "soupsieve                          2.2.1\n",
      "Sphinx                             4.0.1\n",
      "sphinxcontrib-applehelp            1.0.2\n",
      "sphinxcontrib-devhelp              1.0.2\n",
      "sphinxcontrib-htmlhelp             1.0.3\n",
      "sphinxcontrib-jsmath               1.0.1\n",
      "sphinxcontrib-qthelp               1.0.3\n",
      "sphinxcontrib-serializinghtml      1.1.4\n",
      "sphinxcontrib-websupport           1.2.4\n",
      "spyder                             4.2.5\n",
      "spyder-kernels                     1.10.2\n",
      "SQLAlchemy                         1.4.7\n",
      "statsmodels                        0.12.2\n",
      "sympy                              1.8\n",
      "tables                             3.6.1\n",
      "tblib                              1.7.0\n",
      "terminado                          0.9.4\n",
      "testpath                           0.4.4\n",
      "textdistance                       4.2.1\n",
      "threadpoolctl                      2.1.0\n",
      "three-merge                        0.1.1\n",
      "tifffile                           2021.4.8\n",
      "toml                               0.10.2\n",
      "toolz                              0.11.1\n",
      "tornado                            6.1\n",
      "tqdm                               4.59.0\n",
      "traitlets                          5.0.5\n",
      "typed-ast                          1.4.2\n",
      "typing-extensions                  3.7.4.3\n",
      "ujson                              4.0.2\n",
      "unicodecsv                         0.14.1\n",
      "urllib3                            1.26.4\n",
      "watchdog                           1.0.2\n",
      "wcwidth                            0.2.5\n",
      "webencodings                       0.5.1\n",
      "Werkzeug                           1.0.1\n",
      "wheel                              0.36.2\n",
      "widgetsnbextension                 3.5.1\n",
      "win-inet-pton                      1.1.0\n",
      "win-unicode-console                0.5\n",
      "wincertstore                       0.2\n",
      "wrapt                              1.12.1\n",
      "xlrd                               2.0.1\n",
      "XlsxWriter                         1.3.8\n",
      "xlwings                            0.23.0\n",
      "xlwt                               1.3.0\n",
      "xmltodict                          0.12.0\n",
      "yapf                               0.31.0\n",
      "zict                               2.0.0\n",
      "zipp                               3.4.1\n",
      "zope.event                         4.5.0\n",
      "zope.interface                     5.3.0\n"
     ]
    }
   ],
   "source": [
    "pip list"
   ]
  },
  {
   "cell_type": "code",
   "execution_count": null,
   "metadata": {},
   "outputs": [],
   "source": []
  }
 ],
 "metadata": {
  "kernelspec": {
   "display_name": "Python 3",
   "language": "python",
   "name": "python3"
  },
  "language_info": {
   "codemirror_mode": {
    "name": "ipython",
    "version": 3
   },
   "file_extension": ".py",
   "mimetype": "text/x-python",
   "name": "python",
   "nbconvert_exporter": "python",
   "pygments_lexer": "ipython3",
   "version": "3.8.8"
  }
 },
 "nbformat": 4,
 "nbformat_minor": 2
}
