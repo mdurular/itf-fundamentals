{
 "cells": [
  {
   "cell_type": "code",
   "execution_count": 49,
   "id": "86935f77",
   "metadata": {},
   "outputs": [],
   "source": [
    "# studentA: Allen Carter, Math, (70,60,70)\n",
    "# studentB: Bob Black, Math, (80,80,70)\n",
    "# studentC: Joseph Ins, Math, (80,70,90)\n",
    "\n",
    "liste = [['Allen Carter', 'Math', [70,60,70]], ['Bob Black', 'Math', [80,80,70]],['Joseph Ins', 'Math', [80,70,90]]]"
   ]
  },
  {
   "cell_type": "code",
   "execution_count": 50,
   "id": "30ba11a6",
   "metadata": {},
   "outputs": [
    {
     "name": "stdout",
     "output_type": "stream",
     "text": [
      "Allen Carter : 67 \n",
      " Bob Black : 77 \n",
      " Joseph Ins : 80\n"
     ]
    }
   ],
   "source": [
    "print(liste[0][0], ':', round(sum(liste[0][2])/len(liste[0][2])), '\\n', \n",
    "      liste[1][0], ':', round(sum(liste[1][2])/len(liste[1][2])), '\\n',\n",
    "      liste[2][0], ':', round(sum(liste[2][2])/len(liste[2][2])))"
   ]
  },
  {
   "cell_type": "markdown",
   "id": "cd9436bc",
   "metadata": {},
   "source": [
    "# Kullanıcıdan integer bir değer alan ve sayının pozitif-çift sayı olup olmadığını kontrol eden program yazınız."
   ]
  },
  {
   "cell_type": "code",
   "execution_count": 8,
   "id": "faa258f7",
   "metadata": {},
   "outputs": [
    {
     "name": "stdout",
     "output_type": "stream",
     "text": [
      "Enter a number:0\n",
      "It is an invalid entry. Don't use non-numeric, float, or negative values!\n"
     ]
    }
   ],
   "source": [
    "num = (input(\"Enter a number:\"))\n",
    "if num.isdigit():\n",
    "    num1 = int(num)\n",
    "    if num1 > 0:\n",
    "        if num1 % 2 == 0: \n",
    "            print(num, \",is a even number\")\n",
    "        else:\n",
    "            print(num, \"is a odd number\")\n",
    "    else:\n",
    "        print(\"It is an invalid entry. Don't use non-numeric, float, or negative values!\")\n",
    "else:\n",
    "    print(\"It is an invalid entry. Don't use non-numeric, float, or negative values!\")"
   ]
  },
  {
   "cell_type": "markdown",
   "id": "1965da11",
   "metadata": {},
   "source": [
    "# soru\n",
    "Kullanıcıdan bir cümle alan ve cümle içerisinde geçen sesli harflerin her birinden kaçar tane olduğunu çıktı veren bir program yazınız.\n",
    "Girilen harflerin küçük/büyük olabileceği ihtimalini göz önünde bulundurunuz.\n",
    "Kolay Gelsin...\n",
    "Beklenen Çıktı:\n",
    "cümle: Sakla samanı gelir zamanı.\n",
    "a: 6\n",
    "ı: 2\n",
    "e: 1\n",
    "i: 1 (edited) "
   ]
  },
  {
   "cell_type": "code",
   "execution_count": 11,
   "id": "cdc0de59",
   "metadata": {},
   "outputs": [
    {
     "name": "stdout",
     "output_type": "stream",
     "text": [
      "{'a': 6, 'i': 3, 'e': 1}\n"
     ]
    }
   ],
   "source": [
    "cumle = \"Sakla samani gelir zamani\"\n",
    "vowels = \"aeiouAEIOU\"\n",
    "a={}\n",
    "for i in cumle:\n",
    "    if i in vowels:\n",
    "        if i not in a:\n",
    "            a[i] = 1\n",
    "        else:\n",
    "            a[i] = cumle.count(i)  \n",
    "print(a)"
   ]
  },
  {
   "cell_type": "markdown",
   "id": "59a55d7a",
   "metadata": {},
   "source": [
    "# Write a Python code to sort the list at below without using .sort() method of list. elements of list = [999, 333, 2, 8982, 12, 45, 77, 99, 11] Expected output: [2, 11, 12, 45, 77, 99, 333, 999, 8982]"
   ]
  },
  {
   "cell_type": "code",
   "execution_count": 15,
   "id": "cec48dd3",
   "metadata": {},
   "outputs": [
    {
     "name": "stdout",
     "output_type": "stream",
     "text": [
      "The sorted num_list1 is [2, 11, 12, 45, 77, 99, 333, 999, 8982]\n"
     ]
    }
   ],
   "source": [
    "num_list1 = [999, 333, 2, 8982, 12, 45, 77, 99, 11]\n",
    "num_list2 = []\n",
    "for i in range(len(num_list1)):\n",
    "    minimum = min(num_list1)\n",
    "    num_list2.append(minimum)\n",
    "    num_list1.remove(minimum)\n",
    "print(\"The sorted num_list1 is {}\".format(num_list2))"
   ]
  },
  {
   "cell_type": "markdown",
   "id": "537ee4d7",
   "metadata": {},
   "source": [
    "# Aynı zamanda hem 2'ye hem 4'e hem de 5'e bölünebilen sayılara xyz sayısı diyelim. Hem 2'ye hem de 5'e bölünebilen sayılar ise abc sayısı olsun. 100 ile 100.000 arasındaki xyz sayılarından kaç tanesi aynı zamanda abc sayısıdır?"
   ]
  },
  {
   "cell_type": "code",
   "execution_count": 21,
   "id": "49b4db20",
   "metadata": {},
   "outputs": [
    {
     "name": "stdout",
     "output_type": "stream",
     "text": [
      "4995\n"
     ]
    }
   ],
   "source": [
    "abc = []\n",
    "xyz = []\n",
    "\n",
    "for i in range(100,100000):\n",
    "    if i % 2 == 0 and i % 5 == 0:\n",
    "        abc.append(i)\n",
    "\n",
    "for i in range(100,100000):\n",
    "    if i % 2 == 0 and i % 5 == 0 and i % 4 ==0:\n",
    "        xyz.append(i)\n",
    "\n",
    "\n",
    "print(len(set(abc).intersection(set(xyz))))\n"
   ]
  },
  {
   "cell_type": "markdown",
   "id": "e33f4bf0",
   "metadata": {},
   "source": [
    "# fibonacci"
   ]
  },
  {
   "cell_type": "code",
   "execution_count": 8,
   "id": "68fcb6ac",
   "metadata": {},
   "outputs": [
    {
     "name": "stdout",
     "output_type": "stream",
     "text": [
      "fibonacci sayıları: [1, 2, 3, 5, 8, 13, 21, 34]\n"
     ]
    }
   ],
   "source": [
    "x,y=0,1\n",
    "fibonacci=[]\n",
    "while x+y<50:\n",
    "    x,y = y,x+y\n",
    "    fibonacci.append(y)\n",
    "print(\"fibonacci sayıları:\", fibonacci)"
   ]
  },
  {
   "cell_type": "markdown",
   "id": "6eb8bb2c",
   "metadata": {},
   "source": [
    "# ATMden işllemleri programı"
   ]
  },
  {
   "cell_type": "code",
   "execution_count": null,
   "id": "944cd670",
   "metadata": {},
   "outputs": [
    {
     "name": "stdout",
     "output_type": "stream",
     "text": [
      "********************\n",
      " Welcome The Clarusway Bank\n",
      "********************\n",
      "\n",
      "İşlemler:\n",
      "\n",
      "1. Bakiye Sorgulama\n",
      "2. Para Yatırma\n",
      "3. Para Çekme\n",
      "\n",
      "Programdan 'q' tuşu ile çıkabilirsiniz.\n",
      "\n",
      "\n"
     ]
    }
   ],
   "source": [
    "print(\"********************\\n Welcome The Clarusway Bank\\n********************\")\n",
    "\n",
    "print(\"\"\"\n",
    "İşlemler:\n",
    "\n",
    "1. Bakiye Sorgulama\n",
    "2. Para Yatırma\n",
    "3. Para Çekme\n",
    "\n",
    "Programdan 'q' tuşu ile çıkabilirsiniz.\n",
    "\n",
    "\"\"\")\n",
    "\n",
    "bakiye  = 1000 # Bakiyemiz 1000 lira olsun.\n",
    "\n",
    "while True:\n",
    "    işlem = input(\"İşlemi giriniz:\")\n",
    "\n",
    "    if (işlem == \"q\"):\n",
    "        print(\"Yine bekleriz....\")\n",
    "        break\n",
    "    elif (işlem == \"1\"):\n",
    "        print(\"Bakiyeniz {} tldir\".format(bakiye))\n",
    "    elif (işlem == \"2\"):\n",
    "        miktar = int(input(\"Yatırmak istediğiniz tutar:\"))\n",
    "\n",
    "        bakiye += miktar\n",
    "    elif (işlem == \"3\"):\n",
    "        miktar = int(input(\"Çekmek istediğiniz tutar:\"))\n",
    "        if (bakiye - miktar < 0 ):\n",
    "            print(\"Bu kadar para çekemezsiniz...\")\n",
    "            print(\"Bakiyeniz {} tldir\".format(bakiye))\n",
    "            continue\n",
    "        bakiye -= miktar\n",
    "\n",
    "    else:\n",
    "        print(\"Lütfen geçerli bir işlem giriniz.\")"
   ]
  },
  {
   "cell_type": "markdown",
   "id": "4246ba86",
   "metadata": {},
   "source": [
    "# Doğduğunuz yıl için Çin Zodyakının işaretini gösteren bir Python programı yazın. "
   ]
  },
  {
   "cell_type": "code",
   "execution_count": 34,
   "id": "a79e43ed",
   "metadata": {},
   "outputs": [
    {
     "name": "stdout",
     "output_type": "stream",
     "text": [
      "Doğum yılınızı girin :  1973\n",
      "Burcunuz : Öküz\n"
     ]
    }
   ],
   "source": [
    "year = int(input(\"Doğum yılınızı girin :  \"))\n",
    "if year % 12 == 8:\n",
    "    animal = \"Ejderha\"\n",
    "elif year % 12 == 9:\n",
    "    animal = \"Yılan\"\n",
    "elif year % 12 == 10:\n",
    "    animal = \"At\"\n",
    "elif year % 12 == 11:\n",
    "    animal = \"Keçi\"\n",
    "elif year % 12 == 0:\n",
    "    animal = \"Maymun\"\n",
    "elif year % 12 == 1:\n",
    "    animal = \"Horoz\"\n",
    "elif year % 12 == 2:\n",
    "    animal = \"Köpek\"\n",
    "elif year % 12 == 3:\n",
    "    animal = \"Domuz\"\n",
    "elif year % 12 == 4:\n",
    "    animal = \"Sıçan\"\n",
    "elif year % 12 == 5:\n",
    "    animal = \"Öküz\"\n",
    "elif year % 12 == 6:\n",
    "    animal = \"Kaplan\"\n",
    "elif year % 12 == 7:\n",
    "    animal = \"Tavşan\"\n",
    "\n",
    "print(\"Burcunuz :\",animal)    "
   ]
  },
  {
   "cell_type": "markdown",
   "id": "fcddcb88",
   "metadata": {},
   "source": [
    "# İnput olarak aldığımız cümlenin içindeki sesli harfleri kaldıran bir kod yazalım"
   ]
  },
  {
   "cell_type": "code",
   "execution_count": 55,
   "id": "e1266f05",
   "metadata": {},
   "outputs": [
    {
     "name": "stdout",
     "output_type": "stream",
     "text": [
      "Enter a sentence:Hayat beni neden yoruyosun?:)\n",
      "hyt bn ndn yrysn?:)\n"
     ]
    }
   ],
   "source": [
    "sentence =input(\"Enter a sentence:\").lower()\n",
    "vowel=(\"aeioüuö\")\n",
    "for i in sentence:\n",
    "    if i in vowel:\n",
    "        sentence = sentence.replace(str(i), \"\")\n",
    "print(sentence)"
   ]
  },
  {
   "cell_type": "markdown",
   "id": "6e9369b9",
   "metadata": {},
   "source": [
    "# Write a function that groups a string into parentheses cluster. Each cluster should be balanced.\n",
    "\n",
    "Examples\n",
    "\n",
    "split(\"()()()\") ➞ [\"()\", \"()\", \"()\"]\n",
    "\n",
    "split(\"((()))\") ➞ [\"((()))\"]\n",
    "\n",
    "split(\"((()))(())()()(()())\") ➞ [\"((()))\", \"(())\", \"()\", \"()\", \"(()())\"]\n",
    "\n",
    "split(\"((())())(()(()()))\") ➞ [\"((())())\", \"(()(()()))\"]\n",
    "\n",
    "Notes All input strings will only contain parentheses. Balanced: Every opening parens ( must exist with its matching closing parens ) in the same cluster."
   ]
  },
  {
   "cell_type": "code",
   "execution_count": 8,
   "id": "5a071fc9",
   "metadata": {},
   "outputs": [
    {
     "name": "stdout",
     "output_type": "stream",
     "text": [
      "Write only parentheses : ()()()(())(((())))\n",
      "['()', '()', '()', '(())', '(((())))']\n"
     ]
    }
   ],
   "source": [
    "par = input(\"Write only parentheses : \")\n",
    "list1=[]\n",
    "list2=[]\n",
    "par_split=[]\n",
    "for i in range(len(par)):\n",
    "    if par[i]==\"(\":\n",
    "        list1.append(\"(\")\n",
    "        list2.append(\"(\")\n",
    "    elif par[i]==\")\":\n",
    "        list1.pop()\n",
    "        list2.append(\")\")\n",
    "        if len(list1)==0:\n",
    "            par_split.append(\"\".join(list2))\n",
    "            list2.clear()\n",
    "print(par_split) "
   ]
  },
  {
   "cell_type": "code",
   "execution_count": null,
   "id": "9712bcf2",
   "metadata": {},
   "outputs": [],
   "source": []
  }
 ],
 "metadata": {
  "kernelspec": {
   "display_name": "Python 3",
   "language": "python",
   "name": "python3"
  },
  "language_info": {
   "codemirror_mode": {
    "name": "ipython",
    "version": 3
   },
   "file_extension": ".py",
   "mimetype": "text/x-python",
   "name": "python",
   "nbconvert_exporter": "python",
   "pygments_lexer": "ipython3",
   "version": "3.8.8"
  }
 },
 "nbformat": 4,
 "nbformat_minor": 5
}
